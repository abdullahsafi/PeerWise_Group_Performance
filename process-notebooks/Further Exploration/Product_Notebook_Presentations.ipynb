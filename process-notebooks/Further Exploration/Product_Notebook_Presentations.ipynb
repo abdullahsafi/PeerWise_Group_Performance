{
  "nbformat": 4,
  "nbformat_minor": 0,
  "metadata": {
    "colab": {
      "name": "Product_Notebook_Presentations.ipynb",
      "provenance": [],
      "collapsed_sections": [],
      "toc_visible": true
    },
    "kernelspec": {
      "name": "python3",
      "display_name": "Python 3"
    }
  },
  "cells": [
    {
      "cell_type": "markdown",
      "metadata": {
        "id": "akswqa5Ap2mk"
      },
      "source": [
        "# Data 3406 Assignment 2\n",
        "- Intro"
      ]
    },
    {
      "cell_type": "markdown",
      "metadata": {
        "id": "R7Xf5AYxp3JZ"
      },
      "source": [
        "## Loading Packages"
      ]
    },
    {
      "cell_type": "code",
      "metadata": {
        "id": "DMIVSwcds0Nb"
      },
      "source": [
        "import pandas as pd \n",
        "import numpy as np\n",
        "from matplotlib import pyplot as plt\n",
        "import plotly.express as px\n",
        "from plotly.subplots import make_subplots\n",
        "import plotly.graph_objects as go"
      ],
      "execution_count": 134,
      "outputs": []
    },
    {
      "cell_type": "markdown",
      "metadata": {
        "id": "O3YqgdTSp26d"
      },
      "source": [
        "## Loading Data"
      ]
    },
    {
      "cell_type": "code",
      "metadata": {
        "id": "4uYffa5Hs0qW"
      },
      "source": [
        "# Courses\n",
        "c1courses = pd.read_excel(\"/content/C1 Courses.xlsx\")\n",
        "c2courses = pd.read_excel(\"/content/C2 Courses.xlsx\")\n",
        "c3courses = pd.read_excel(\"/content/C3 Courses.xlsx\")\n",
        "c4courses = pd.read_excel(\"/content/C4Courses.xlsx\")\n",
        "\n",
        "# Questions\n",
        "c1questions = pd.read_excel(\"/content/C1 Questions.xlsx\")\n",
        "c2questions = pd.read_excel(\"/content/C2 Questions.xlsx\")\n",
        "c3questions = pd.read_excel(\"/content/C3 Questions.xlsx\")\n",
        "c4questions = pd.read_excel(\"/content/C4Questions.xlsx\")\n",
        "c4usercourses = pd.read_excel(\"/content/C4UsersCourses.xlsx\")\n",
        "\n",
        "#Answers\n",
        "c3answers = pd.read_excel(\"/content/C3 Answers.xlsx\")\n",
        "\n",
        "#Comments\n",
        "c1comments = pd.read_excel(\"/content/C1 Comments.xlsx\")\n",
        "c2comments = pd.read_excel(\"/content/C2 Comments.xlsx\")\n",
        "c4comments = pd.read_excel(\"/content/C4Comments.xlsx\")\n",
        "c4usercourses = pd.read_excel(\"/content/C4UsersCourses.xlsx\")"
      ],
      "execution_count": 2,
      "outputs": []
    },
    {
      "cell_type": "markdown",
      "metadata": {
        "id": "pMDnZYRXp3Uy"
      },
      "source": [
        "## Cleaning Data\n",
        "- Explain how you dealt with 0 and missing data values.\n",
        "- Explain how and why you transformed the data."
      ]
    },
    {
      "cell_type": "code",
      "metadata": {
        "id": "mG_4xOM1s28f"
      },
      "source": [
        ""
      ],
      "execution_count": 2,
      "outputs": []
    },
    {
      "cell_type": "markdown",
      "metadata": {
        "id": "uvpuEp4Sqz8P"
      },
      "source": [
        "## Exploration of Dataset\n",
        "- How we joined the datasets and different data sources we had access to eg different cycles\n",
        "- The methods you used to understand the data (especially in the process notebooks).\n",
        "- The measures of data distributions for numbers: stats that include minimum, maximum,\n",
        "central tendency, spread measures, SD, IQR and visual presentation, histograms.\n",
        "- The analysis for correlations, stats and visual presentation.\n",
        "- Document the independence of each variable from others and your reasoning about this.\n",
        "- Document your emerging understanding of the adequacy of the raw data and the degree to\n",
        "which unknowns and unavailable data impact the validity and certainty of the results.\n",
        "- Explore measures of fairness.\n",
        "- Report how you identified outliers and explain how you dealt with them.\n",
        "\n",
        "- Explain how you reasoned about the uncertainty and decisions made about reporting\n",
        "results to account for that, both in statistics and visual presentation."
      ]
    },
    {
      "cell_type": "code",
      "metadata": {
        "id": "oLohUmils12o"
      },
      "source": [
        ""
      ],
      "execution_count": 2,
      "outputs": []
    },
    {
      "cell_type": "markdown",
      "metadata": {
        "id": "NHtaP2Z7q4wa"
      },
      "source": [
        "### Question/Comment Ratings Summary\n",
        "- Put summaries of marks (academic mark and average rating and plots here)\n",
        "- Histogram of distribution of average ratings"
      ]
    },
    {
      "cell_type": "code",
      "metadata": {
        "id": "kNJlNmUfs2X5"
      },
      "source": [
        ""
      ],
      "execution_count": 2,
      "outputs": []
    },
    {
      "cell_type": "markdown",
      "metadata": {
        "id": "UVLX_oOGrWeH"
      },
      "source": [
        "## Uncertainty\n",
        "- What contributes a good question"
      ]
    },
    {
      "cell_type": "markdown",
      "metadata": {
        "id": "TIbGHytnrWzq"
      },
      "source": [
        "## Description of the different cycles"
      ]
    },
    {
      "cell_type": "markdown",
      "metadata": {
        "id": "rZcRNgy9uPqE"
      },
      "source": [
        "## Lateness of Questions\n",
        "- Yan Question delay file"
      ]
    },
    {
      "cell_type": "code",
      "metadata": {
        "id": "kC7azqstxRMJ",
        "outputId": "a47e2a97-850d-4969-a588-f720c52ffb05",
        "colab": {
          "base_uri": "https://localhost:8080/"
        }
      },
      "source": [
        "print(\"c1courses columns:\", c1courses.columns.to_list())\n",
        "print(\"c1questions columns:\", c1questions.columns.to_list())"
      ],
      "execution_count": 3,
      "outputs": [
        {
          "output_type": "stream",
          "text": [
            "c1courses columns: ['CourseID', 'StartDate', 'Deadline_Cmmnt', 'Deadline_Qustn']\n",
            "c1questions columns: ['id', 'course_id', 'timestamp', 'user', 'avg_rating', 'total_responses', 'total_ratings', 'top_rating_count', 'avg_difficulty', 'total_comments', 'deleted', 'answer', 'numAlts', 'question', 'altA', 'altB', 'altC', 'altD', 'altE', 'explanation']\n"
          ],
          "name": "stdout"
        }
      ]
    },
    {
      "cell_type": "markdown",
      "metadata": {
        "id": "royjO6IGxeXJ"
      },
      "source": [
        "Cycle 1"
      ]
    },
    {
      "cell_type": "code",
      "metadata": {
        "id": "ONxOM7aIxRO5"
      },
      "source": [
        "c1courses.rename(columns = {\"CourseID\" : \"course_id\", \"StartDate\" : \"cycle_start\", \"Deadline_Cmmnt\" : \"comment_due\", \"Deadline_Qustn\" : \"question_due\"}, inplace = True)\n",
        "c1questions.rename(columns = {\"id\" : \"question_id\", \"timestamp\" : \"question_time\", \"user\" : \"user_id\"}, inplace = True)"
      ],
      "execution_count": 4,
      "outputs": []
    },
    {
      "cell_type": "code",
      "metadata": {
        "id": "d_lcxvPWxRaK",
        "outputId": "00614ac7-672a-4a1f-88da-861a77df5c36",
        "colab": {
          "base_uri": "https://localhost:8080/",
          "height": 649
        }
      },
      "source": [
        "c1questions = c1questions.astype({\"course_id\" : \"int64\", \"question_time\" : 'datetime64'})\n",
        "c1courses = c1courses.convert_dtypes()\n",
        "\n",
        "c1combined = c1courses.merge(c1questions, on = \"course_id\")\n",
        "c1combined.head()"
      ],
      "execution_count": 5,
      "outputs": [
        {
          "output_type": "execute_result",
          "data": {
            "text/html": [
              "<div>\n",
              "<style scoped>\n",
              "    .dataframe tbody tr th:only-of-type {\n",
              "        vertical-align: middle;\n",
              "    }\n",
              "\n",
              "    .dataframe tbody tr th {\n",
              "        vertical-align: top;\n",
              "    }\n",
              "\n",
              "    .dataframe thead th {\n",
              "        text-align: right;\n",
              "    }\n",
              "</style>\n",
              "<table border=\"1\" class=\"dataframe\">\n",
              "  <thead>\n",
              "    <tr style=\"text-align: right;\">\n",
              "      <th></th>\n",
              "      <th>course_id</th>\n",
              "      <th>cycle_start</th>\n",
              "      <th>comment_due</th>\n",
              "      <th>question_due</th>\n",
              "      <th>question_id</th>\n",
              "      <th>question_time</th>\n",
              "      <th>user_id</th>\n",
              "      <th>avg_rating</th>\n",
              "      <th>total_responses</th>\n",
              "      <th>total_ratings</th>\n",
              "      <th>top_rating_count</th>\n",
              "      <th>avg_difficulty</th>\n",
              "      <th>total_comments</th>\n",
              "      <th>deleted</th>\n",
              "      <th>answer</th>\n",
              "      <th>numAlts</th>\n",
              "      <th>question</th>\n",
              "      <th>altA</th>\n",
              "      <th>altB</th>\n",
              "      <th>altC</th>\n",
              "      <th>altD</th>\n",
              "      <th>altE</th>\n",
              "      <th>explanation</th>\n",
              "    </tr>\n",
              "  </thead>\n",
              "  <tbody>\n",
              "    <tr>\n",
              "      <th>0</th>\n",
              "      <td>20995</td>\n",
              "      <td>2020-03-09</td>\n",
              "      <td>2020-03-17 01:00:10</td>\n",
              "      <td>2020-03-10 01:00:10</td>\n",
              "      <td>4342368</td>\n",
              "      <td>2020-03-04 17:52:14</td>\n",
              "      <td>217514</td>\n",
              "      <td>0.00</td>\n",
              "      <td>0</td>\n",
              "      <td>0</td>\n",
              "      <td>0</td>\n",
              "      <td>0.0000</td>\n",
              "      <td>0</td>\n",
              "      <td>2</td>\n",
              "      <td>A</td>\n",
              "      <td>4</td>\n",
              "      <td>&lt;p&gt;[2a] In early 1950s high quality X-ray dif...</td>\n",
              "      <td>&lt;p&gt;Rosalind Franklin&lt;br /&gt;&lt;br /&gt;&lt;/p&gt;         ...</td>\n",
              "      <td>&lt;p&gt;Edwin Chargaff&lt;br /&gt;&lt;br /&gt;&lt;/p&gt;            ...</td>\n",
              "      <td>&lt;p&gt;Watson and Crick&lt;/p&gt;                      ...</td>\n",
              "      <td>&lt;p&gt;Frederick Meischer&lt;/p&gt;                    ...</td>\n",
              "      <td>...</td>\n",
              "      <td>&lt;p&gt;It was Franklin. &amp;nbsp;Watson and Crick ob...</td>\n",
              "    </tr>\n",
              "    <tr>\n",
              "      <th>1</th>\n",
              "      <td>20995</td>\n",
              "      <td>2020-03-09</td>\n",
              "      <td>2020-03-17 01:00:10</td>\n",
              "      <td>2020-03-10 01:00:10</td>\n",
              "      <td>4342370</td>\n",
              "      <td>2020-03-04 17:52:14</td>\n",
              "      <td>217514</td>\n",
              "      <td>0.50</td>\n",
              "      <td>7</td>\n",
              "      <td>4</td>\n",
              "      <td>0</td>\n",
              "      <td>0.2500</td>\n",
              "      <td>5</td>\n",
              "      <td>0</td>\n",
              "      <td>A</td>\n",
              "      <td>4</td>\n",
              "      <td>&lt;p&gt;[Table X - Topic 2a] In early 1950s high q...</td>\n",
              "      <td>&lt;p&gt;Rosalind Franklin&lt;br /&gt;&lt;br /&gt;&lt;/p&gt;         ...</td>\n",
              "      <td>&lt;p&gt;Edwin Chargaff&lt;br /&gt;&lt;br /&gt;&lt;/p&gt;            ...</td>\n",
              "      <td>&lt;p&gt;Watson and Crick&lt;/p&gt;                      ...</td>\n",
              "      <td>&lt;p&gt;Frederick Meischer&lt;/p&gt;                    ...</td>\n",
              "      <td>...</td>\n",
              "      <td>&lt;p&gt;It was Franklin. &amp;nbsp;Watson and Crick ob...</td>\n",
              "    </tr>\n",
              "    <tr>\n",
              "      <th>2</th>\n",
              "      <td>20995</td>\n",
              "      <td>2020-03-09</td>\n",
              "      <td>2020-03-17 01:00:10</td>\n",
              "      <td>2020-03-10 01:00:10</td>\n",
              "      <td>4349814</td>\n",
              "      <td>2020-03-09 15:55:46</td>\n",
              "      <td>636010</td>\n",
              "      <td>2.33</td>\n",
              "      <td>10</td>\n",
              "      <td>9</td>\n",
              "      <td>0</td>\n",
              "      <td>0.2222</td>\n",
              "      <td>6</td>\n",
              "      <td>0</td>\n",
              "      <td>B</td>\n",
              "      <td>4</td>\n",
              "      <td>&lt;p&gt;Which of the following statements is true ...</td>\n",
              "      <td>&lt;p&gt;DNA polymerase can synthesize mRNA in the ...</td>\n",
              "      <td>&lt;p&gt;DNA polymerase can synthesize DNA in the 5...</td>\n",
              "      <td>&lt;p&gt;DNA polymerase can synthesize mRNA in the ...</td>\n",
              "      <td>&lt;p&gt;DNA polymerase can synthesize DNA in the 3...</td>\n",
              "      <td>...</td>\n",
              "      <td>&lt;p&gt;DNA polymerase is only able to synthesize ...</td>\n",
              "    </tr>\n",
              "    <tr>\n",
              "      <th>3</th>\n",
              "      <td>20995</td>\n",
              "      <td>2020-03-09</td>\n",
              "      <td>2020-03-17 01:00:10</td>\n",
              "      <td>2020-03-10 01:00:10</td>\n",
              "      <td>4349841</td>\n",
              "      <td>2020-03-09 16:16:45</td>\n",
              "      <td>636012</td>\n",
              "      <td>2.25</td>\n",
              "      <td>5</td>\n",
              "      <td>4</td>\n",
              "      <td>0</td>\n",
              "      <td>1.0000</td>\n",
              "      <td>3</td>\n",
              "      <td>0</td>\n",
              "      <td>B</td>\n",
              "      <td>5</td>\n",
              "      <td>&lt;p&gt;The structure of DNA is closely related to...</td>\n",
              "      <td>&lt;p&gt;All base pairs interact by forming three h...</td>\n",
              "      <td>&lt;p&gt;DNA is comprised of nucleotide subunits ea...</td>\n",
              "      <td>&lt;p&gt;The double helix of DNA is stabilized by i...</td>\n",
              "      <td>&lt;p&gt;Each DNA sequence folds into a unique and ...</td>\n",
              "      <td>&lt;p&gt;DNA base pairs are held together by strong...</td>\n",
              "      <td>&lt;p&gt;DNA is made up of nucleotide subunits boun...</td>\n",
              "    </tr>\n",
              "    <tr>\n",
              "      <th>4</th>\n",
              "      <td>20995</td>\n",
              "      <td>2020-03-09</td>\n",
              "      <td>2020-03-17 01:00:10</td>\n",
              "      <td>2020-03-10 01:00:10</td>\n",
              "      <td>4349844</td>\n",
              "      <td>2020-03-09 16:17:41</td>\n",
              "      <td>636018</td>\n",
              "      <td>2.67</td>\n",
              "      <td>5</td>\n",
              "      <td>3</td>\n",
              "      <td>0</td>\n",
              "      <td>0.3333</td>\n",
              "      <td>4</td>\n",
              "      <td>0</td>\n",
              "      <td>C</td>\n",
              "      <td>4</td>\n",
              "      <td>&lt;p&gt;In a DNA molecule, Chargaff's rule means t...</td>\n",
              "      <td>&lt;p&gt;The amount of Adenine and Thymine = The am...</td>\n",
              "      <td>&lt;p&gt;The amount of Cytosine and Guanine = The a...</td>\n",
              "      <td>&lt;p&gt;The amount of Adenine and Guanine = The am...</td>\n",
              "      <td>&lt;p&gt;All of the above&lt;/p&gt;                      ...</td>\n",
              "      <td>...</td>\n",
              "      <td>&lt;p&gt;Chargaff's rule states that the number of ...</td>\n",
              "    </tr>\n",
              "  </tbody>\n",
              "</table>\n",
              "</div>"
            ],
            "text/plain": [
              "   course_id  ...                                        explanation\n",
              "0      20995  ...   <p>It was Franklin. &nbsp;Watson and Crick ob...\n",
              "1      20995  ...   <p>It was Franklin. &nbsp;Watson and Crick ob...\n",
              "2      20995  ...   <p>DNA polymerase is only able to synthesize ...\n",
              "3      20995  ...   <p>DNA is made up of nucleotide subunits boun...\n",
              "4      20995  ...   <p>Chargaff's rule states that the number of ...\n",
              "\n",
              "[5 rows x 23 columns]"
            ]
          },
          "metadata": {
            "tags": []
          },
          "execution_count": 5
        }
      ]
    },
    {
      "cell_type": "markdown",
      "metadata": {
        "id": "T2iTgm5VxbhN"
      },
      "source": [
        "Cycle 2\n"
      ]
    },
    {
      "cell_type": "code",
      "metadata": {
        "id": "Pg4hk6-UxRX3"
      },
      "source": [
        "c1combined[\"question_delta\"] = (c1combined[\"question_time\"] - c1combined[\"question_due\"])\n",
        "c1combined[\"question_beforedue\"] = (c1combined[\"question_due\"] - c1combined[\"question_time\"])\n",
        "c1combined[\"late\"] = c1combined[\"question_time\"] > c1combined[\"question_due\"]\n"
      ],
      "execution_count": 6,
      "outputs": []
    },
    {
      "cell_type": "code",
      "metadata": {
        "id": "FuYHBXczxRVs"
      },
      "source": [
        "c2courses.rename(columns = {\"CourseID\" : \"course_id\", \"StartDate\" : \"cycle_start\", \"Deadline_Comment\" : \"comment_due\", \"Deadline_Question\" : \"question_due\"}, inplace = True)\n",
        "c2courses.drop(\"CourseName\", axis = 1, inplace = True)\n",
        "c2questions.rename(columns = {\"id\" : \"question_id\", \"timestamp\" : \"question_time\", \"user\" : \"user_id\"}, inplace = True)"
      ],
      "execution_count": 7,
      "outputs": []
    },
    {
      "cell_type": "code",
      "metadata": {
        "id": "U1JAnzHSxRT9",
        "outputId": "0d7b8cca-3682-44f5-9a56-15f06c459932",
        "colab": {
          "base_uri": "https://localhost:8080/",
          "height": 632
        }
      },
      "source": [
        "c2questions = c2questions.astype({\"course_id\" : \"int64\", \"question_time\" : 'datetime64'})\n",
        "c2courses = c2courses.convert_dtypes()\n",
        "\n",
        "c2combined = c2courses.merge(c2questions, on = \"course_id\")\n",
        "c2combined.head()"
      ],
      "execution_count": 8,
      "outputs": [
        {
          "output_type": "execute_result",
          "data": {
            "text/html": [
              "<div>\n",
              "<style scoped>\n",
              "    .dataframe tbody tr th:only-of-type {\n",
              "        vertical-align: middle;\n",
              "    }\n",
              "\n",
              "    .dataframe tbody tr th {\n",
              "        vertical-align: top;\n",
              "    }\n",
              "\n",
              "    .dataframe thead th {\n",
              "        text-align: right;\n",
              "    }\n",
              "</style>\n",
              "<table border=\"1\" class=\"dataframe\">\n",
              "  <thead>\n",
              "    <tr style=\"text-align: right;\">\n",
              "      <th></th>\n",
              "      <th>course_id</th>\n",
              "      <th>cycle_start</th>\n",
              "      <th>comment_due</th>\n",
              "      <th>question_due</th>\n",
              "      <th>question_id</th>\n",
              "      <th>question_time</th>\n",
              "      <th>user_id</th>\n",
              "      <th>avg_rating</th>\n",
              "      <th>total_responses</th>\n",
              "      <th>total_ratings</th>\n",
              "      <th>top_rating_count</th>\n",
              "      <th>avg_difficulty</th>\n",
              "      <th>total_comments</th>\n",
              "      <th>deleted</th>\n",
              "      <th>answer</th>\n",
              "      <th>question</th>\n",
              "      <th>numAlts</th>\n",
              "      <th>altA</th>\n",
              "      <th>altB</th>\n",
              "      <th>altC</th>\n",
              "      <th>altD</th>\n",
              "      <th>altE</th>\n",
              "      <th>explanation</th>\n",
              "    </tr>\n",
              "  </thead>\n",
              "  <tbody>\n",
              "    <tr>\n",
              "      <th>0</th>\n",
              "      <td>21140</td>\n",
              "      <td>2020-03-23</td>\n",
              "      <td>2020-04-05 01:00:10</td>\n",
              "      <td>2020-03-30 01:00:10</td>\n",
              "      <td>4391826</td>\n",
              "      <td>2020-03-26 19:10:48</td>\n",
              "      <td>636022</td>\n",
              "      <td>3.5</td>\n",
              "      <td>5</td>\n",
              "      <td>2</td>\n",
              "      <td>0</td>\n",
              "      <td>0.5</td>\n",
              "      <td>3</td>\n",
              "      <td>0</td>\n",
              "      <td>B</td>\n",
              "      <td>&lt;p&gt;Which of the following pair includes a pha...</td>\n",
              "      <td>4</td>\n",
              "      <td>&lt;p&gt;G1 phase, DNA replication&lt;/p&gt;             ...</td>\n",
              "      <td>&lt;p&gt;G2 phase, preparation for mitosis&lt;/p&gt;     ...</td>\n",
              "      <td>&lt;p&gt;S phase, cell division&lt;/p&gt;                ...</td>\n",
              "      <td>&lt;p&gt;M phase, cell growth&lt;/p&gt;                  ...</td>\n",
              "      <td>...</td>\n",
              "      <td>&lt;p&gt;G1 phase is growth and preparation of the ...</td>\n",
              "    </tr>\n",
              "    <tr>\n",
              "      <th>1</th>\n",
              "      <td>21140</td>\n",
              "      <td>2020-03-23</td>\n",
              "      <td>2020-04-05 01:00:10</td>\n",
              "      <td>2020-03-30 01:00:10</td>\n",
              "      <td>4392006</td>\n",
              "      <td>2020-03-26 20:54:26</td>\n",
              "      <td>636011</td>\n",
              "      <td>3.5</td>\n",
              "      <td>8</td>\n",
              "      <td>6</td>\n",
              "      <td>1</td>\n",
              "      <td>1.0</td>\n",
              "      <td>6</td>\n",
              "      <td>2</td>\n",
              "      <td>D</td>\n",
              "      <td>&lt;p&gt;A telomere has a repetitive nucleotide seq...</td>\n",
              "      <td>5</td>\n",
              "      <td>&lt;p&gt;4, 3, 1, 2, 5&lt;/p&gt;                         ...</td>\n",
              "      <td>&lt;p&gt;1, 2, 3, 4, 5&lt;/p&gt;                         ...</td>\n",
              "      <td>&lt;p&gt;2, 5, 4, 1, 3&lt;/p&gt;                         ...</td>\n",
              "      <td>&lt;p&gt;4, 2, 1, 3, 5&lt;/p&gt;                         ...</td>\n",
              "      <td>&lt;p&gt;2, 4, 1, 5, 3&lt;/p&gt;                         ...</td>\n",
              "      <td>&lt;p&gt;The correct answer is D with steps numbere...</td>\n",
              "    </tr>\n",
              "    <tr>\n",
              "      <th>2</th>\n",
              "      <td>21140</td>\n",
              "      <td>2020-03-23</td>\n",
              "      <td>2020-04-05 01:00:10</td>\n",
              "      <td>2020-03-30 01:00:10</td>\n",
              "      <td>4392084</td>\n",
              "      <td>2020-03-26 21:46:58</td>\n",
              "      <td>635990</td>\n",
              "      <td>3.5</td>\n",
              "      <td>3</td>\n",
              "      <td>2</td>\n",
              "      <td>0</td>\n",
              "      <td>1.0</td>\n",
              "      <td>2</td>\n",
              "      <td>0</td>\n",
              "      <td>D</td>\n",
              "      <td>&lt;p&gt;Table 8:&lt;/p&gt;&lt;p&gt;Which of the following stat...</td>\n",
              "      <td>4</td>\n",
              "      <td>&lt;p&gt;G0 is an optional part of the cell cycle w...</td>\n",
              "      <td>&lt;p&gt;All Eukaryotic cells which divide via the ...</td>\n",
              "      <td>&lt;p&gt;In G0 phase, a cell replicates its DNA to ...</td>\n",
              "      <td>&lt;p&gt;Some types of cells can enter G0 phase and...</td>\n",
              "      <td>...</td>\n",
              "      <td>&lt;p&gt;The answer is D: G0 phase occurs when cell...</td>\n",
              "    </tr>\n",
              "    <tr>\n",
              "      <th>3</th>\n",
              "      <td>21140</td>\n",
              "      <td>2020-03-23</td>\n",
              "      <td>2020-04-05 01:00:10</td>\n",
              "      <td>2020-03-30 01:00:10</td>\n",
              "      <td>4392568</td>\n",
              "      <td>2020-03-27 01:07:25</td>\n",
              "      <td>636008</td>\n",
              "      <td>0.0</td>\n",
              "      <td>0</td>\n",
              "      <td>0</td>\n",
              "      <td>0</td>\n",
              "      <td>0.0</td>\n",
              "      <td>0</td>\n",
              "      <td>2</td>\n",
              "      <td>B</td>\n",
              "      <td>&lt;p&gt;There are some cells with different settin...</td>\n",
              "      <td>5</td>\n",
              "      <td>&lt;p&gt;a&lt;/p&gt;                                     ...</td>\n",
              "      <td>&lt;p&gt;b&lt;/p&gt;                                     ...</td>\n",
              "      <td>&lt;p&gt;c&lt;/p&gt;                                     ...</td>\n",
              "      <td>&lt;p&gt;d&lt;/p&gt;                                     ...</td>\n",
              "      <td>&lt;p&gt;e&lt;/p&gt;                                     ...</td>\n",
              "      <td>&lt;p&gt;All normal cells including heart cells and...</td>\n",
              "    </tr>\n",
              "    <tr>\n",
              "      <th>4</th>\n",
              "      <td>21140</td>\n",
              "      <td>2020-03-23</td>\n",
              "      <td>2020-04-05 01:00:10</td>\n",
              "      <td>2020-03-30 01:00:10</td>\n",
              "      <td>4392616</td>\n",
              "      <td>2020-03-27 01:25:01</td>\n",
              "      <td>636014</td>\n",
              "      <td>3.0</td>\n",
              "      <td>1</td>\n",
              "      <td>1</td>\n",
              "      <td>0</td>\n",
              "      <td>1.0</td>\n",
              "      <td>1</td>\n",
              "      <td>2</td>\n",
              "      <td>B</td>\n",
              "      <td>&lt;p&gt;Mary is a healthy 17 years old teenager wh...</td>\n",
              "      <td>5</td>\n",
              "      <td>&lt;p&gt;Too much telomerase activity can cause chr...</td>\n",
              "      <td>&lt;p&gt;The supplement can result in permanent act...</td>\n",
              "      <td>&lt;p&gt;The supplement can result in permanent act...</td>\n",
              "      <td>&lt;p&gt;The activation of telomerase does not allo...</td>\n",
              "      <td>&lt;p&gt;The activation of telomerase lowers the ra...</td>\n",
              "      <td>&lt;p&gt;The progressive shortening of telomeres as...</td>\n",
              "    </tr>\n",
              "  </tbody>\n",
              "</table>\n",
              "</div>"
            ],
            "text/plain": [
              "   course_id  ...                                        explanation\n",
              "0      21140  ...   <p>G1 phase is growth and preparation of the ...\n",
              "1      21140  ...   <p>The correct answer is D with steps numbere...\n",
              "2      21140  ...   <p>The answer is D: G0 phase occurs when cell...\n",
              "3      21140  ...   <p>All normal cells including heart cells and...\n",
              "4      21140  ...   <p>The progressive shortening of telomeres as...\n",
              "\n",
              "[5 rows x 23 columns]"
            ]
          },
          "metadata": {
            "tags": []
          },
          "execution_count": 8
        }
      ]
    },
    {
      "cell_type": "code",
      "metadata": {
        "id": "YqjR_r_8xRRn"
      },
      "source": [
        "c2combined[\"question_delta\"] = (c2combined[\"question_time\"] - c2combined[\"question_due\"])\n",
        "c2combined[\"question_beforedue\"] = (c2combined[\"question_due\"] - c2combined[\"question_time\"])\n",
        "c2combined[\"late\"] = c2combined[\"question_time\"] > c2combined[\"question_due\"]"
      ],
      "execution_count": 9,
      "outputs": []
    },
    {
      "cell_type": "markdown",
      "metadata": {
        "id": "HyfwjtVjZ6av"
      },
      "source": [
        "Combining"
      ]
    },
    {
      "cell_type": "code",
      "metadata": {
        "id": "gpLvBNhXZ9K8",
        "outputId": "220e6938-2bef-469a-9b77-f342366f2b72",
        "colab": {
          "base_uri": "https://localhost:8080/",
          "height": 1000
        }
      },
      "source": [
        "c1combined[\"cycle\"] = 1\n",
        "c2combined[\"cycle\"] = 2\n",
        "\n",
        "all_combined = pd.concat([c1combined, c2combined])\n",
        "all_combined = all_combined.astype({\"course_id\" : \"int64\", \"user_id\" : \"int64\", \"question_id\" : \"int64\"})\n",
        "#all_combined[all_combined['late']].sort_values(by = 'question_beforedue', ascending = False)\n",
        "all_combined"
      ],
      "execution_count": 10,
      "outputs": [
        {
          "output_type": "execute_result",
          "data": {
            "text/html": [
              "<div>\n",
              "<style scoped>\n",
              "    .dataframe tbody tr th:only-of-type {\n",
              "        vertical-align: middle;\n",
              "    }\n",
              "\n",
              "    .dataframe tbody tr th {\n",
              "        vertical-align: top;\n",
              "    }\n",
              "\n",
              "    .dataframe thead th {\n",
              "        text-align: right;\n",
              "    }\n",
              "</style>\n",
              "<table border=\"1\" class=\"dataframe\">\n",
              "  <thead>\n",
              "    <tr style=\"text-align: right;\">\n",
              "      <th></th>\n",
              "      <th>course_id</th>\n",
              "      <th>cycle_start</th>\n",
              "      <th>comment_due</th>\n",
              "      <th>question_due</th>\n",
              "      <th>question_id</th>\n",
              "      <th>question_time</th>\n",
              "      <th>user_id</th>\n",
              "      <th>avg_rating</th>\n",
              "      <th>total_responses</th>\n",
              "      <th>total_ratings</th>\n",
              "      <th>top_rating_count</th>\n",
              "      <th>avg_difficulty</th>\n",
              "      <th>total_comments</th>\n",
              "      <th>deleted</th>\n",
              "      <th>answer</th>\n",
              "      <th>numAlts</th>\n",
              "      <th>question</th>\n",
              "      <th>altA</th>\n",
              "      <th>altB</th>\n",
              "      <th>altC</th>\n",
              "      <th>altD</th>\n",
              "      <th>altE</th>\n",
              "      <th>explanation</th>\n",
              "      <th>question_delta</th>\n",
              "      <th>question_beforedue</th>\n",
              "      <th>late</th>\n",
              "      <th>cycle</th>\n",
              "    </tr>\n",
              "  </thead>\n",
              "  <tbody>\n",
              "    <tr>\n",
              "      <th>0</th>\n",
              "      <td>20995</td>\n",
              "      <td>2020-03-09</td>\n",
              "      <td>2020-03-17 01:00:10</td>\n",
              "      <td>2020-03-10 01:00:10</td>\n",
              "      <td>4342368</td>\n",
              "      <td>2020-03-04 17:52:14</td>\n",
              "      <td>217514</td>\n",
              "      <td>0.00</td>\n",
              "      <td>0</td>\n",
              "      <td>0</td>\n",
              "      <td>0</td>\n",
              "      <td>0.0000</td>\n",
              "      <td>0</td>\n",
              "      <td>2</td>\n",
              "      <td>A</td>\n",
              "      <td>4</td>\n",
              "      <td>&lt;p&gt;[2a] In early 1950s high quality X-ray dif...</td>\n",
              "      <td>&lt;p&gt;Rosalind Franklin&lt;br /&gt;&lt;br /&gt;&lt;/p&gt;         ...</td>\n",
              "      <td>&lt;p&gt;Edwin Chargaff&lt;br /&gt;&lt;br /&gt;&lt;/p&gt;            ...</td>\n",
              "      <td>&lt;p&gt;Watson and Crick&lt;/p&gt;                      ...</td>\n",
              "      <td>&lt;p&gt;Frederick Meischer&lt;/p&gt;                    ...</td>\n",
              "      <td>...</td>\n",
              "      <td>&lt;p&gt;It was Franklin. &amp;nbsp;Watson and Crick ob...</td>\n",
              "      <td>-6 days +16:52:04</td>\n",
              "      <td>5 days 07:07:56</td>\n",
              "      <td>False</td>\n",
              "      <td>1</td>\n",
              "    </tr>\n",
              "    <tr>\n",
              "      <th>1</th>\n",
              "      <td>20995</td>\n",
              "      <td>2020-03-09</td>\n",
              "      <td>2020-03-17 01:00:10</td>\n",
              "      <td>2020-03-10 01:00:10</td>\n",
              "      <td>4342370</td>\n",
              "      <td>2020-03-04 17:52:14</td>\n",
              "      <td>217514</td>\n",
              "      <td>0.50</td>\n",
              "      <td>7</td>\n",
              "      <td>4</td>\n",
              "      <td>0</td>\n",
              "      <td>0.2500</td>\n",
              "      <td>5</td>\n",
              "      <td>0</td>\n",
              "      <td>A</td>\n",
              "      <td>4</td>\n",
              "      <td>&lt;p&gt;[Table X - Topic 2a] In early 1950s high q...</td>\n",
              "      <td>&lt;p&gt;Rosalind Franklin&lt;br /&gt;&lt;br /&gt;&lt;/p&gt;         ...</td>\n",
              "      <td>&lt;p&gt;Edwin Chargaff&lt;br /&gt;&lt;br /&gt;&lt;/p&gt;            ...</td>\n",
              "      <td>&lt;p&gt;Watson and Crick&lt;/p&gt;                      ...</td>\n",
              "      <td>&lt;p&gt;Frederick Meischer&lt;/p&gt;                    ...</td>\n",
              "      <td>...</td>\n",
              "      <td>&lt;p&gt;It was Franklin. &amp;nbsp;Watson and Crick ob...</td>\n",
              "      <td>-6 days +16:52:04</td>\n",
              "      <td>5 days 07:07:56</td>\n",
              "      <td>False</td>\n",
              "      <td>1</td>\n",
              "    </tr>\n",
              "    <tr>\n",
              "      <th>2</th>\n",
              "      <td>20995</td>\n",
              "      <td>2020-03-09</td>\n",
              "      <td>2020-03-17 01:00:10</td>\n",
              "      <td>2020-03-10 01:00:10</td>\n",
              "      <td>4349814</td>\n",
              "      <td>2020-03-09 15:55:46</td>\n",
              "      <td>636010</td>\n",
              "      <td>2.33</td>\n",
              "      <td>10</td>\n",
              "      <td>9</td>\n",
              "      <td>0</td>\n",
              "      <td>0.2222</td>\n",
              "      <td>6</td>\n",
              "      <td>0</td>\n",
              "      <td>B</td>\n",
              "      <td>4</td>\n",
              "      <td>&lt;p&gt;Which of the following statements is true ...</td>\n",
              "      <td>&lt;p&gt;DNA polymerase can synthesize mRNA in the ...</td>\n",
              "      <td>&lt;p&gt;DNA polymerase can synthesize DNA in the 5...</td>\n",
              "      <td>&lt;p&gt;DNA polymerase can synthesize mRNA in the ...</td>\n",
              "      <td>&lt;p&gt;DNA polymerase can synthesize DNA in the 3...</td>\n",
              "      <td>...</td>\n",
              "      <td>&lt;p&gt;DNA polymerase is only able to synthesize ...</td>\n",
              "      <td>-1 days +14:55:36</td>\n",
              "      <td>0 days 09:04:24</td>\n",
              "      <td>False</td>\n",
              "      <td>1</td>\n",
              "    </tr>\n",
              "    <tr>\n",
              "      <th>3</th>\n",
              "      <td>20995</td>\n",
              "      <td>2020-03-09</td>\n",
              "      <td>2020-03-17 01:00:10</td>\n",
              "      <td>2020-03-10 01:00:10</td>\n",
              "      <td>4349841</td>\n",
              "      <td>2020-03-09 16:16:45</td>\n",
              "      <td>636012</td>\n",
              "      <td>2.25</td>\n",
              "      <td>5</td>\n",
              "      <td>4</td>\n",
              "      <td>0</td>\n",
              "      <td>1.0000</td>\n",
              "      <td>3</td>\n",
              "      <td>0</td>\n",
              "      <td>B</td>\n",
              "      <td>5</td>\n",
              "      <td>&lt;p&gt;The structure of DNA is closely related to...</td>\n",
              "      <td>&lt;p&gt;All base pairs interact by forming three h...</td>\n",
              "      <td>&lt;p&gt;DNA is comprised of nucleotide subunits ea...</td>\n",
              "      <td>&lt;p&gt;The double helix of DNA is stabilized by i...</td>\n",
              "      <td>&lt;p&gt;Each DNA sequence folds into a unique and ...</td>\n",
              "      <td>&lt;p&gt;DNA base pairs are held together by strong...</td>\n",
              "      <td>&lt;p&gt;DNA is made up of nucleotide subunits boun...</td>\n",
              "      <td>-1 days +15:16:35</td>\n",
              "      <td>0 days 08:43:25</td>\n",
              "      <td>False</td>\n",
              "      <td>1</td>\n",
              "    </tr>\n",
              "    <tr>\n",
              "      <th>4</th>\n",
              "      <td>20995</td>\n",
              "      <td>2020-03-09</td>\n",
              "      <td>2020-03-17 01:00:10</td>\n",
              "      <td>2020-03-10 01:00:10</td>\n",
              "      <td>4349844</td>\n",
              "      <td>2020-03-09 16:17:41</td>\n",
              "      <td>636018</td>\n",
              "      <td>2.67</td>\n",
              "      <td>5</td>\n",
              "      <td>3</td>\n",
              "      <td>0</td>\n",
              "      <td>0.3333</td>\n",
              "      <td>4</td>\n",
              "      <td>0</td>\n",
              "      <td>C</td>\n",
              "      <td>4</td>\n",
              "      <td>&lt;p&gt;In a DNA molecule, Chargaff's rule means t...</td>\n",
              "      <td>&lt;p&gt;The amount of Adenine and Thymine = The am...</td>\n",
              "      <td>&lt;p&gt;The amount of Cytosine and Guanine = The a...</td>\n",
              "      <td>&lt;p&gt;The amount of Adenine and Guanine = The am...</td>\n",
              "      <td>&lt;p&gt;All of the above&lt;/p&gt;                      ...</td>\n",
              "      <td>...</td>\n",
              "      <td>&lt;p&gt;Chargaff's rule states that the number of ...</td>\n",
              "      <td>-1 days +15:17:31</td>\n",
              "      <td>0 days 08:42:29</td>\n",
              "      <td>False</td>\n",
              "      <td>1</td>\n",
              "    </tr>\n",
              "    <tr>\n",
              "      <th>...</th>\n",
              "      <td>...</td>\n",
              "      <td>...</td>\n",
              "      <td>...</td>\n",
              "      <td>...</td>\n",
              "      <td>...</td>\n",
              "      <td>...</td>\n",
              "      <td>...</td>\n",
              "      <td>...</td>\n",
              "      <td>...</td>\n",
              "      <td>...</td>\n",
              "      <td>...</td>\n",
              "      <td>...</td>\n",
              "      <td>...</td>\n",
              "      <td>...</td>\n",
              "      <td>...</td>\n",
              "      <td>...</td>\n",
              "      <td>...</td>\n",
              "      <td>...</td>\n",
              "      <td>...</td>\n",
              "      <td>...</td>\n",
              "      <td>...</td>\n",
              "      <td>...</td>\n",
              "      <td>...</td>\n",
              "      <td>...</td>\n",
              "      <td>...</td>\n",
              "      <td>...</td>\n",
              "      <td>...</td>\n",
              "    </tr>\n",
              "    <tr>\n",
              "      <th>534</th>\n",
              "      <td>21143</td>\n",
              "      <td>2020-03-26</td>\n",
              "      <td>2020-04-08 01:00:10</td>\n",
              "      <td>2020-04-02 01:00:10</td>\n",
              "      <td>4425742</td>\n",
              "      <td>2020-04-01 20:12:15</td>\n",
              "      <td>637299</td>\n",
              "      <td>0.00</td>\n",
              "      <td>0</td>\n",
              "      <td>0</td>\n",
              "      <td>0</td>\n",
              "      <td>0.0000</td>\n",
              "      <td>0</td>\n",
              "      <td>0</td>\n",
              "      <td>B</td>\n",
              "      <td>4</td>\n",
              "      <td>&lt;p&gt;You've been given the task of isolating a ...</td>\n",
              "      <td>&lt;p&gt;Yes, the failure to remove the supernatant...</td>\n",
              "      <td>&lt;p&gt;Yes, the failure to remove the supernatant...</td>\n",
              "      <td>&lt;p&gt;No, the failure to remove the supernatant ...</td>\n",
              "      <td>&lt;p&gt;No, the failure to remove the supernatant ...</td>\n",
              "      <td>...</td>\n",
              "      <td>&lt;p&gt;Since DNA is more soluble in its aqueous s...</td>\n",
              "      <td>-1 days +19:12:05</td>\n",
              "      <td>0 days 04:47:55</td>\n",
              "      <td>False</td>\n",
              "      <td>2</td>\n",
              "    </tr>\n",
              "    <tr>\n",
              "      <th>535</th>\n",
              "      <td>21143</td>\n",
              "      <td>2020-03-26</td>\n",
              "      <td>2020-04-08 01:00:10</td>\n",
              "      <td>2020-04-02 01:00:10</td>\n",
              "      <td>4426098</td>\n",
              "      <td>2020-04-01 05:34:30</td>\n",
              "      <td>637242</td>\n",
              "      <td>0.00</td>\n",
              "      <td>0</td>\n",
              "      <td>0</td>\n",
              "      <td>0</td>\n",
              "      <td>0.0000</td>\n",
              "      <td>0</td>\n",
              "      <td>0</td>\n",
              "      <td>A</td>\n",
              "      <td>5</td>\n",
              "      <td>&lt;p&gt;If we run the&amp;nbsp;PCR (polymerase chain r...</td>\n",
              "      <td>&lt;p&gt;No bands will be formed.&lt;/p&gt;              ...</td>\n",
              "      <td>&lt;p&gt;Non-specific bands will be formed.&amp;nbsp;&lt;/...</td>\n",
              "      <td>&lt;p&gt;Smeared bands will be formed.&lt;/p&gt;         ...</td>\n",
              "      <td>&lt;p&gt;Proper bands will be formed.&amp;nbsp;&lt;/p&gt;    ...</td>\n",
              "      <td>&lt;p&gt;I don't know.&amp;nbsp;&lt;/p&gt;                   ...</td>\n",
              "      <td>&lt;p&gt;PCR (polymerase chain reaction) involves t...</td>\n",
              "      <td>-1 days +04:34:20</td>\n",
              "      <td>0 days 19:25:40</td>\n",
              "      <td>False</td>\n",
              "      <td>2</td>\n",
              "    </tr>\n",
              "    <tr>\n",
              "      <th>536</th>\n",
              "      <td>21143</td>\n",
              "      <td>2020-03-26</td>\n",
              "      <td>2020-04-08 01:00:10</td>\n",
              "      <td>2020-04-02 01:00:10</td>\n",
              "      <td>4427400</td>\n",
              "      <td>2020-04-01 01:55:39</td>\n",
              "      <td>637287</td>\n",
              "      <td>0.00</td>\n",
              "      <td>0</td>\n",
              "      <td>0</td>\n",
              "      <td>0</td>\n",
              "      <td>0.0000</td>\n",
              "      <td>0</td>\n",
              "      <td>0</td>\n",
              "      <td>D</td>\n",
              "      <td>4</td>\n",
              "      <td>&lt;p&gt;You are in the process of isolating DNA fr...</td>\n",
              "      <td>&lt;p&gt;Continue as per normal but substitute Chel...</td>\n",
              "      <td>&lt;p&gt;Proceed to lyse cells and obtain DNA but c...</td>\n",
              "      <td>&lt;p&gt;Proceed with the experiment as usual since...</td>\n",
              "      <td>&lt;p&gt;None of the above.&lt;/p&gt;                    ...</td>\n",
              "      <td>...</td>\n",
              "      <td>&lt;p&gt;None of the actions are suitable.&lt;/p&gt;&lt;p&gt;&amp;n...</td>\n",
              "      <td>-1 days +00:55:29</td>\n",
              "      <td>0 days 23:04:31</td>\n",
              "      <td>False</td>\n",
              "      <td>2</td>\n",
              "    </tr>\n",
              "    <tr>\n",
              "      <th>537</th>\n",
              "      <td>21143</td>\n",
              "      <td>2020-03-26</td>\n",
              "      <td>2020-04-08 01:00:10</td>\n",
              "      <td>2020-04-02 01:00:10</td>\n",
              "      <td>4427475</td>\n",
              "      <td>2020-04-10 12:14:21</td>\n",
              "      <td>637281</td>\n",
              "      <td>0.00</td>\n",
              "      <td>0</td>\n",
              "      <td>0</td>\n",
              "      <td>0</td>\n",
              "      <td>0.0000</td>\n",
              "      <td>0</td>\n",
              "      <td>2</td>\n",
              "      <td>A</td>\n",
              "      <td>4</td>\n",
              "      <td>&lt;p&gt;A PCR experiment is being carried out, the...</td>\n",
              "      <td>&lt;p&gt;A) No reaction would occur&lt;/p&gt;            ...</td>\n",
              "      <td>&lt;p&gt;B) A reaction would occur but only fewer c...</td>\n",
              "      <td>&lt;p&gt;C) A reaction would occur but more copies ...</td>\n",
              "      <td>&lt;p&gt;D) A reaction occurs as you expected and f...</td>\n",
              "      <td>...</td>\n",
              "      <td>&lt;p&gt;No reaction would occur as nucleotides are...</td>\n",
              "      <td>8 days 11:14:11</td>\n",
              "      <td>-9 days +12:45:49</td>\n",
              "      <td>True</td>\n",
              "      <td>2</td>\n",
              "    </tr>\n",
              "    <tr>\n",
              "      <th>538</th>\n",
              "      <td>21143</td>\n",
              "      <td>2020-03-26</td>\n",
              "      <td>2020-04-08 01:00:10</td>\n",
              "      <td>2020-04-02 01:00:10</td>\n",
              "      <td>4427479</td>\n",
              "      <td>2020-04-10 12:14:21</td>\n",
              "      <td>637281</td>\n",
              "      <td>0.00</td>\n",
              "      <td>0</td>\n",
              "      <td>0</td>\n",
              "      <td>0</td>\n",
              "      <td>0.0000</td>\n",
              "      <td>0</td>\n",
              "      <td>0</td>\n",
              "      <td>A</td>\n",
              "      <td>4</td>\n",
              "      <td>&lt;p&gt;A PCR experiment is being carried out, the...</td>\n",
              "      <td>&lt;p&gt;A) No reaction would occur&lt;/p&gt;            ...</td>\n",
              "      <td>&lt;p&gt;B) A reaction would occur but only fewer c...</td>\n",
              "      <td>&lt;p&gt;C) A reaction would occur but more copies ...</td>\n",
              "      <td>&lt;p&gt;D) A reaction occurs as you expected and f...</td>\n",
              "      <td>...</td>\n",
              "      <td>&lt;p&gt;There would be no reaction as no dNTPs wer...</td>\n",
              "      <td>8 days 11:14:11</td>\n",
              "      <td>-9 days +12:45:49</td>\n",
              "      <td>True</td>\n",
              "      <td>2</td>\n",
              "    </tr>\n",
              "  </tbody>\n",
              "</table>\n",
              "<p>945 rows × 27 columns</p>\n",
              "</div>"
            ],
            "text/plain": [
              "     course_id cycle_start         comment_due  ... question_beforedue   late cycle\n",
              "0        20995  2020-03-09 2020-03-17 01:00:10  ...    5 days 07:07:56  False     1\n",
              "1        20995  2020-03-09 2020-03-17 01:00:10  ...    5 days 07:07:56  False     1\n",
              "2        20995  2020-03-09 2020-03-17 01:00:10  ...    0 days 09:04:24  False     1\n",
              "3        20995  2020-03-09 2020-03-17 01:00:10  ...    0 days 08:43:25  False     1\n",
              "4        20995  2020-03-09 2020-03-17 01:00:10  ...    0 days 08:42:29  False     1\n",
              "..         ...         ...                 ...  ...                ...    ...   ...\n",
              "534      21143  2020-03-26 2020-04-08 01:00:10  ...    0 days 04:47:55  False     2\n",
              "535      21143  2020-03-26 2020-04-08 01:00:10  ...    0 days 19:25:40  False     2\n",
              "536      21143  2020-03-26 2020-04-08 01:00:10  ...    0 days 23:04:31  False     2\n",
              "537      21143  2020-03-26 2020-04-08 01:00:10  ...  -9 days +12:45:49   True     2\n",
              "538      21143  2020-03-26 2020-04-08 01:00:10  ...  -9 days +12:45:49   True     2\n",
              "\n",
              "[945 rows x 27 columns]"
            ]
          },
          "metadata": {
            "tags": []
          },
          "execution_count": 10
        }
      ]
    },
    {
      "cell_type": "markdown",
      "metadata": {
        "id": "ETsBrmrXaAGz"
      },
      "source": [
        "Data Investigation"
      ]
    },
    {
      "cell_type": "code",
      "metadata": {
        "id": "E3PR5xLXaBDm",
        "outputId": "38620813-6248-4524-f9a6-286ebf605ac6",
        "colab": {
          "base_uri": "https://localhost:8080/"
        }
      },
      "source": [
        "print(\"Earliest question was made at:\", all_combined[\"question_time\"].min().strftime(\"%d/%m/%Y\"))\n",
        "print(\"Latest question was made at:\", all_combined[\"question_time\"].max().strftime(\"%d/%m/%Y\"))"
      ],
      "execution_count": 11,
      "outputs": [
        {
          "output_type": "stream",
          "text": [
            "Earliest question was made at: 04/03/2020\n",
            "Latest question was made at: 10/04/2020\n"
          ],
          "name": "stdout"
        }
      ]
    },
    {
      "cell_type": "code",
      "metadata": {
        "id": "K51uOkcBqvE5"
      },
      "source": [
        "delta_grouped = all_combined[[\"question_time\"]].groupby(all_combined[\"question_delta\"].dt.days).count()\n",
        "delta_grouped['question_delta'] = delta_grouped.index\n",
        "delta_grouped = delta_grouped.astype({\"question_delta\" : \"int64\", \"question_time\" : 'int64'})"
      ],
      "execution_count": 82,
      "outputs": []
    },
    {
      "cell_type": "code",
      "metadata": {
        "id": "-cZOtdDvvNJm",
        "outputId": "1c20549e-c826-429f-85b4-fc21791c556a",
        "colab": {
          "base_uri": "https://localhost:8080/",
          "height": 542
        }
      },
      "source": [
        "# Authors: Yan and Tash\n",
        "# Supporter: Johanna\n",
        "# Date: \n",
        "px.bar(delta_grouped, x = \"question_delta\", y = \"question_time\", title = \"Time after due date of question that a question was made in Cycle 1 and 2\",\n",
        "                 labels={\n",
        "                     \"question_delta\": \"Days from question due date\",\n",
        "                     \"question_time\": \"Number of Questions\"})\n"
      ],
      "execution_count": 55,
      "outputs": [
        {
          "output_type": "display_data",
          "data": {
            "text/html": [
              "<html>\n",
              "<head><meta charset=\"utf-8\" /></head>\n",
              "<body>\n",
              "    <div>\n",
              "            <script src=\"https://cdnjs.cloudflare.com/ajax/libs/mathjax/2.7.5/MathJax.js?config=TeX-AMS-MML_SVG\"></script><script type=\"text/javascript\">if (window.MathJax) {MathJax.Hub.Config({SVG: {font: \"STIX-Web\"}});}</script>\n",
              "                <script type=\"text/javascript\">window.PlotlyConfig = {MathJaxConfig: 'local'};</script>\n",
              "        <script src=\"https://cdn.plot.ly/plotly-latest.min.js\"></script>    \n",
              "            <div id=\"7ddc76b0-5ad9-450b-850b-2fcb7e387887\" class=\"plotly-graph-div\" style=\"height:525px; width:100%;\"></div>\n",
              "            <script type=\"text/javascript\">\n",
              "                \n",
              "                    window.PLOTLYENV=window.PLOTLYENV || {};\n",
              "                    \n",
              "                if (document.getElementById(\"7ddc76b0-5ad9-450b-850b-2fcb7e387887\")) {\n",
              "                    Plotly.newPlot(\n",
              "                        '7ddc76b0-5ad9-450b-850b-2fcb7e387887',\n",
              "                        [{\"alignmentgroup\": \"True\", \"hoverlabel\": {\"namelength\": 0}, \"hovertemplate\": \"Days from question due date=%{x}<br>Number of Questions=%{y}\", \"legendgroup\": \"\", \"marker\": {\"color\": \"#636efa\"}, \"name\": \"\", \"offsetgroup\": \"\", \"orientation\": \"v\", \"showlegend\": false, \"textposition\": \"auto\", \"type\": \"bar\", \"x\": [-7, -6, -5, -4, -3, -2, -1, 0, 1, 2, 3, 4, 5, 6, 7, 8, 9], \"xaxis\": \"x\", \"y\": [19, 5, 16, 52, 56, 101, 515, 75, 17, 12, 14, 16, 13, 19, 12, 2, 1], \"yaxis\": \"y\"}],\n",
              "                        {\"barmode\": \"relative\", \"legend\": {\"tracegroupgap\": 0}, \"template\": {\"data\": {\"bar\": [{\"error_x\": {\"color\": \"#2a3f5f\"}, \"error_y\": {\"color\": \"#2a3f5f\"}, \"marker\": {\"line\": {\"color\": \"#E5ECF6\", \"width\": 0.5}}, \"type\": \"bar\"}], \"barpolar\": [{\"marker\": {\"line\": {\"color\": \"#E5ECF6\", \"width\": 0.5}}, \"type\": \"barpolar\"}], \"carpet\": [{\"aaxis\": {\"endlinecolor\": \"#2a3f5f\", \"gridcolor\": \"white\", \"linecolor\": \"white\", \"minorgridcolor\": \"white\", \"startlinecolor\": \"#2a3f5f\"}, \"baxis\": {\"endlinecolor\": \"#2a3f5f\", \"gridcolor\": \"white\", \"linecolor\": \"white\", \"minorgridcolor\": \"white\", \"startlinecolor\": \"#2a3f5f\"}, \"type\": \"carpet\"}], \"choropleth\": [{\"colorbar\": {\"outlinewidth\": 0, \"ticks\": \"\"}, \"type\": \"choropleth\"}], \"contour\": [{\"colorbar\": {\"outlinewidth\": 0, \"ticks\": \"\"}, \"colorscale\": [[0.0, \"#0d0887\"], [0.1111111111111111, \"#46039f\"], [0.2222222222222222, \"#7201a8\"], [0.3333333333333333, \"#9c179e\"], [0.4444444444444444, \"#bd3786\"], [0.5555555555555556, \"#d8576b\"], [0.6666666666666666, \"#ed7953\"], [0.7777777777777778, \"#fb9f3a\"], [0.8888888888888888, \"#fdca26\"], [1.0, \"#f0f921\"]], \"type\": \"contour\"}], \"contourcarpet\": [{\"colorbar\": {\"outlinewidth\": 0, \"ticks\": \"\"}, \"type\": \"contourcarpet\"}], \"heatmap\": [{\"colorbar\": {\"outlinewidth\": 0, \"ticks\": \"\"}, \"colorscale\": [[0.0, \"#0d0887\"], [0.1111111111111111, \"#46039f\"], [0.2222222222222222, \"#7201a8\"], [0.3333333333333333, \"#9c179e\"], [0.4444444444444444, \"#bd3786\"], [0.5555555555555556, \"#d8576b\"], [0.6666666666666666, \"#ed7953\"], [0.7777777777777778, \"#fb9f3a\"], [0.8888888888888888, \"#fdca26\"], [1.0, \"#f0f921\"]], \"type\": \"heatmap\"}], \"heatmapgl\": [{\"colorbar\": {\"outlinewidth\": 0, \"ticks\": \"\"}, \"colorscale\": [[0.0, \"#0d0887\"], [0.1111111111111111, \"#46039f\"], [0.2222222222222222, \"#7201a8\"], [0.3333333333333333, \"#9c179e\"], [0.4444444444444444, \"#bd3786\"], [0.5555555555555556, \"#d8576b\"], [0.6666666666666666, \"#ed7953\"], [0.7777777777777778, \"#fb9f3a\"], [0.8888888888888888, \"#fdca26\"], [1.0, \"#f0f921\"]], \"type\": \"heatmapgl\"}], \"histogram\": [{\"marker\": {\"colorbar\": {\"outlinewidth\": 0, \"ticks\": \"\"}}, \"type\": \"histogram\"}], \"histogram2d\": [{\"colorbar\": {\"outlinewidth\": 0, \"ticks\": \"\"}, \"colorscale\": [[0.0, \"#0d0887\"], [0.1111111111111111, \"#46039f\"], [0.2222222222222222, \"#7201a8\"], [0.3333333333333333, \"#9c179e\"], [0.4444444444444444, \"#bd3786\"], [0.5555555555555556, \"#d8576b\"], [0.6666666666666666, \"#ed7953\"], [0.7777777777777778, \"#fb9f3a\"], [0.8888888888888888, \"#fdca26\"], [1.0, \"#f0f921\"]], \"type\": \"histogram2d\"}], \"histogram2dcontour\": [{\"colorbar\": {\"outlinewidth\": 0, \"ticks\": \"\"}, \"colorscale\": [[0.0, \"#0d0887\"], [0.1111111111111111, \"#46039f\"], [0.2222222222222222, \"#7201a8\"], [0.3333333333333333, \"#9c179e\"], [0.4444444444444444, \"#bd3786\"], [0.5555555555555556, \"#d8576b\"], [0.6666666666666666, \"#ed7953\"], [0.7777777777777778, \"#fb9f3a\"], [0.8888888888888888, \"#fdca26\"], [1.0, \"#f0f921\"]], \"type\": \"histogram2dcontour\"}], \"mesh3d\": [{\"colorbar\": {\"outlinewidth\": 0, \"ticks\": \"\"}, \"type\": \"mesh3d\"}], \"parcoords\": [{\"line\": {\"colorbar\": {\"outlinewidth\": 0, \"ticks\": \"\"}}, \"type\": \"parcoords\"}], \"pie\": [{\"automargin\": true, \"type\": \"pie\"}], \"scatter\": [{\"marker\": {\"colorbar\": {\"outlinewidth\": 0, \"ticks\": \"\"}}, \"type\": \"scatter\"}], \"scatter3d\": [{\"line\": {\"colorbar\": {\"outlinewidth\": 0, \"ticks\": \"\"}}, \"marker\": {\"colorbar\": {\"outlinewidth\": 0, \"ticks\": \"\"}}, \"type\": \"scatter3d\"}], \"scattercarpet\": [{\"marker\": {\"colorbar\": {\"outlinewidth\": 0, \"ticks\": \"\"}}, \"type\": \"scattercarpet\"}], \"scattergeo\": [{\"marker\": {\"colorbar\": {\"outlinewidth\": 0, \"ticks\": \"\"}}, \"type\": \"scattergeo\"}], \"scattergl\": [{\"marker\": {\"colorbar\": {\"outlinewidth\": 0, \"ticks\": \"\"}}, \"type\": \"scattergl\"}], \"scattermapbox\": [{\"marker\": {\"colorbar\": {\"outlinewidth\": 0, \"ticks\": \"\"}}, \"type\": \"scattermapbox\"}], \"scatterpolar\": [{\"marker\": {\"colorbar\": {\"outlinewidth\": 0, \"ticks\": \"\"}}, \"type\": \"scatterpolar\"}], \"scatterpolargl\": [{\"marker\": {\"colorbar\": {\"outlinewidth\": 0, \"ticks\": \"\"}}, \"type\": \"scatterpolargl\"}], \"scatterternary\": [{\"marker\": {\"colorbar\": {\"outlinewidth\": 0, \"ticks\": \"\"}}, \"type\": \"scatterternary\"}], \"surface\": [{\"colorbar\": {\"outlinewidth\": 0, \"ticks\": \"\"}, \"colorscale\": [[0.0, \"#0d0887\"], [0.1111111111111111, \"#46039f\"], [0.2222222222222222, \"#7201a8\"], [0.3333333333333333, \"#9c179e\"], [0.4444444444444444, \"#bd3786\"], [0.5555555555555556, \"#d8576b\"], [0.6666666666666666, \"#ed7953\"], [0.7777777777777778, \"#fb9f3a\"], [0.8888888888888888, \"#fdca26\"], [1.0, \"#f0f921\"]], \"type\": \"surface\"}], \"table\": [{\"cells\": {\"fill\": {\"color\": \"#EBF0F8\"}, \"line\": {\"color\": \"white\"}}, \"header\": {\"fill\": {\"color\": \"#C8D4E3\"}, \"line\": {\"color\": \"white\"}}, \"type\": \"table\"}]}, \"layout\": {\"annotationdefaults\": {\"arrowcolor\": \"#2a3f5f\", \"arrowhead\": 0, \"arrowwidth\": 1}, \"coloraxis\": {\"colorbar\": {\"outlinewidth\": 0, \"ticks\": \"\"}}, \"colorscale\": {\"diverging\": [[0, \"#8e0152\"], [0.1, \"#c51b7d\"], [0.2, \"#de77ae\"], [0.3, \"#f1b6da\"], [0.4, \"#fde0ef\"], [0.5, \"#f7f7f7\"], [0.6, \"#e6f5d0\"], [0.7, \"#b8e186\"], [0.8, \"#7fbc41\"], [0.9, \"#4d9221\"], [1, \"#276419\"]], \"sequential\": [[0.0, \"#0d0887\"], [0.1111111111111111, \"#46039f\"], [0.2222222222222222, \"#7201a8\"], [0.3333333333333333, \"#9c179e\"], [0.4444444444444444, \"#bd3786\"], [0.5555555555555556, \"#d8576b\"], [0.6666666666666666, \"#ed7953\"], [0.7777777777777778, \"#fb9f3a\"], [0.8888888888888888, \"#fdca26\"], [1.0, \"#f0f921\"]], \"sequentialminus\": [[0.0, \"#0d0887\"], [0.1111111111111111, \"#46039f\"], [0.2222222222222222, \"#7201a8\"], [0.3333333333333333, \"#9c179e\"], [0.4444444444444444, \"#bd3786\"], [0.5555555555555556, \"#d8576b\"], [0.6666666666666666, \"#ed7953\"], [0.7777777777777778, \"#fb9f3a\"], [0.8888888888888888, \"#fdca26\"], [1.0, \"#f0f921\"]]}, \"colorway\": [\"#636efa\", \"#EF553B\", \"#00cc96\", \"#ab63fa\", \"#FFA15A\", \"#19d3f3\", \"#FF6692\", \"#B6E880\", \"#FF97FF\", \"#FECB52\"], \"font\": {\"color\": \"#2a3f5f\"}, \"geo\": {\"bgcolor\": \"white\", \"lakecolor\": \"white\", \"landcolor\": \"#E5ECF6\", \"showlakes\": true, \"showland\": true, \"subunitcolor\": \"white\"}, \"hoverlabel\": {\"align\": \"left\"}, \"hovermode\": \"closest\", \"mapbox\": {\"style\": \"light\"}, \"paper_bgcolor\": \"white\", \"plot_bgcolor\": \"#E5ECF6\", \"polar\": {\"angularaxis\": {\"gridcolor\": \"white\", \"linecolor\": \"white\", \"ticks\": \"\"}, \"bgcolor\": \"#E5ECF6\", \"radialaxis\": {\"gridcolor\": \"white\", \"linecolor\": \"white\", \"ticks\": \"\"}}, \"scene\": {\"xaxis\": {\"backgroundcolor\": \"#E5ECF6\", \"gridcolor\": \"white\", \"gridwidth\": 2, \"linecolor\": \"white\", \"showbackground\": true, \"ticks\": \"\", \"zerolinecolor\": \"white\"}, \"yaxis\": {\"backgroundcolor\": \"#E5ECF6\", \"gridcolor\": \"white\", \"gridwidth\": 2, \"linecolor\": \"white\", \"showbackground\": true, \"ticks\": \"\", \"zerolinecolor\": \"white\"}, \"zaxis\": {\"backgroundcolor\": \"#E5ECF6\", \"gridcolor\": \"white\", \"gridwidth\": 2, \"linecolor\": \"white\", \"showbackground\": true, \"ticks\": \"\", \"zerolinecolor\": \"white\"}}, \"shapedefaults\": {\"line\": {\"color\": \"#2a3f5f\"}}, \"ternary\": {\"aaxis\": {\"gridcolor\": \"white\", \"linecolor\": \"white\", \"ticks\": \"\"}, \"baxis\": {\"gridcolor\": \"white\", \"linecolor\": \"white\", \"ticks\": \"\"}, \"bgcolor\": \"#E5ECF6\", \"caxis\": {\"gridcolor\": \"white\", \"linecolor\": \"white\", \"ticks\": \"\"}}, \"title\": {\"x\": 0.05}, \"xaxis\": {\"automargin\": true, \"gridcolor\": \"white\", \"linecolor\": \"white\", \"ticks\": \"\", \"title\": {\"standoff\": 15}, \"zerolinecolor\": \"white\", \"zerolinewidth\": 2}, \"yaxis\": {\"automargin\": true, \"gridcolor\": \"white\", \"linecolor\": \"white\", \"ticks\": \"\", \"title\": {\"standoff\": 15}, \"zerolinecolor\": \"white\", \"zerolinewidth\": 2}}}, \"title\": {\"text\": \"Time after due date of question that a question was made in Cycle 1 and 2\"}, \"xaxis\": {\"anchor\": \"y\", \"domain\": [0.0, 1.0], \"title\": {\"text\": \"Days from question due date\"}}, \"yaxis\": {\"anchor\": \"x\", \"domain\": [0.0, 1.0], \"title\": {\"text\": \"Number of Questions\"}}},\n",
              "                        {\"responsive\": true}\n",
              "                    ).then(function(){\n",
              "                            \n",
              "var gd = document.getElementById('7ddc76b0-5ad9-450b-850b-2fcb7e387887');\n",
              "var x = new MutationObserver(function (mutations, observer) {{\n",
              "        var display = window.getComputedStyle(gd).display;\n",
              "        if (!display || display === 'none') {{\n",
              "            console.log([gd, 'removed!']);\n",
              "            Plotly.purge(gd);\n",
              "            observer.disconnect();\n",
              "        }}\n",
              "}});\n",
              "\n",
              "// Listen for the removal of the full notebook cells\n",
              "var notebookContainer = gd.closest('#notebook-container');\n",
              "if (notebookContainer) {{\n",
              "    x.observe(notebookContainer, {childList: true});\n",
              "}}\n",
              "\n",
              "// Listen for the clearing of the current output cell\n",
              "var outputEl = gd.closest('.output');\n",
              "if (outputEl) {{\n",
              "    x.observe(outputEl, {childList: true});\n",
              "}}\n",
              "\n",
              "                        })\n",
              "                };\n",
              "                \n",
              "            </script>\n",
              "        </div>\n",
              "</body>\n",
              "</html>"
            ]
          },
          "metadata": {
            "tags": []
          }
        }
      ]
    },
    {
      "cell_type": "code",
      "metadata": {
        "id": "KMk3yIKeaFMH",
        "outputId": "da3f8f8e-4ac7-43b4-bfa0-2833a6e93a7c",
        "colab": {
          "base_uri": "https://localhost:8080/",
          "height": 542
        }
      },
      "source": [
        "# Authors: Yan and Tash\n",
        "# Supporter: Johanna\n",
        "# Date: \n",
        "student_lateness = all_combined[[\"user_id\", \"late\"]].groupby(\"user_id\", as_index = False).sum(\"late\")\n",
        "px.histogram(student_lateness,x= \"late\",title = \"Distribution of late questions submitted\",labels={\n",
        "                     \"late\": \"Days late from due date\",\n",
        "                     \"count\": \"Number of Questions\"})"
      ],
      "execution_count": 124,
      "outputs": [
        {
          "output_type": "display_data",
          "data": {
            "text/html": [
              "<html>\n",
              "<head><meta charset=\"utf-8\" /></head>\n",
              "<body>\n",
              "    <div>\n",
              "            <script src=\"https://cdnjs.cloudflare.com/ajax/libs/mathjax/2.7.5/MathJax.js?config=TeX-AMS-MML_SVG\"></script><script type=\"text/javascript\">if (window.MathJax) {MathJax.Hub.Config({SVG: {font: \"STIX-Web\"}});}</script>\n",
              "                <script type=\"text/javascript\">window.PlotlyConfig = {MathJaxConfig: 'local'};</script>\n",
              "        <script src=\"https://cdn.plot.ly/plotly-latest.min.js\"></script>    \n",
              "            <div id=\"43fdd2ca-af4f-4bf2-a95f-deb7bc33ab4f\" class=\"plotly-graph-div\" style=\"height:525px; width:100%;\"></div>\n",
              "            <script type=\"text/javascript\">\n",
              "                \n",
              "                    window.PLOTLYENV=window.PLOTLYENV || {};\n",
              "                    \n",
              "                if (document.getElementById(\"43fdd2ca-af4f-4bf2-a95f-deb7bc33ab4f\")) {\n",
              "                    Plotly.newPlot(\n",
              "                        '43fdd2ca-af4f-4bf2-a95f-deb7bc33ab4f',\n",
              "                        [{\"alignmentgroup\": \"True\", \"bingroup\": \"x\", \"hoverlabel\": {\"namelength\": 0}, \"hovertemplate\": \"Days late from due date=%{x}<br>count=%{y}\", \"legendgroup\": \"\", \"marker\": {\"color\": \"#636efa\"}, \"name\": \"\", \"offsetgroup\": \"\", \"orientation\": \"v\", \"showlegend\": false, \"type\": \"histogram\", \"x\": [0, 0, 1, 0, 0, 1, 0, 1, 3, 0, 0, 0, 0, 0, 0, 0, 0, 0, 0, 0, 0, 0, 1, 0, 0, 1, 2, 0, 1, 0, 0, 1, 0, 0, 0, 2, 0, 0, 0, 0, 0, 3, 2, 1, 2, 0, 0, 0, 0, 0, 0, 0, 0, 1, 1, 0, 1, 0, 0, 0, 0, 0, 0, 0, 0, 0, 4, 1, 2, 1, 1, 2, 0, 1, 1, 2, 2, 0, 0, 1, 0, 1, 1, 0, 0, 0, 1, 0, 3, 0, 0, 2, 0, 0, 0, 4, 2, 0, 1, 0, 0, 0, 0, 3, 2, 2, 0, 0, 2, 0, 1, 0, 0, 0, 2, 0, 0, 0, 5, 0, 0, 0, 0, 0, 1, 0, 0, 0, 0, 2, 2, 0, 0, 0, 1, 0, 3, 0, 0, 2, 0, 2, 3, 0, 0, 2, 0, 1, 1, 2, 2, 0, 0, 0, 1, 0, 2, 0, 2, 2, 0, 0, 0, 2, 0, 0, 0, 0, 0, 0, 0, 0, 0, 0, 0, 0, 0, 0, 0, 4, 1, 0, 0, 0, 0, 0, 0, 0, 0, 0, 0, 0, 1, 0, 1, 0, 0, 0, 2, 0, 0, 0, 0, 0, 0, 0, 0, 0, 1, 0, 2, 0, 1, 0, 0, 0, 1, 0, 0, 0, 0, 2, 1, 0, 0, 0, 0, 0, 1, 0, 1, 1, 0, 0, 0, 1, 1, 0, 0, 0, 0, 0, 0, 1, 0, 0, 0, 0, 0, 0, 0, 0, 0, 0, 0, 0, 0, 0, 0, 1, 3, 0, 0, 0, 2, 1, 1, 2, 1, 0, 0, 0, 0, 3, 0, 1, 0, 0, 0, 0, 1, 0, 2, 0, 0, 0, 0, 0, 0, 0, 1, 0, 0, 0, 0, 0, 2, 1, 0, 0, 1, 0, 0, 0, 0, 0, 0, 2, 0, 1, 4, 1, 2, 1, 1, 0, 1, 1, 0, 6, 1, 1, 1, 0, 1, 0, 0, 1, 1, 1, 0, 0], \"xaxis\": \"x\", \"yaxis\": \"y\"}],\n",
              "                        {\"barmode\": \"relative\", \"legend\": {\"tracegroupgap\": 0}, \"template\": {\"data\": {\"bar\": [{\"error_x\": {\"color\": \"#2a3f5f\"}, \"error_y\": {\"color\": \"#2a3f5f\"}, \"marker\": {\"line\": {\"color\": \"#E5ECF6\", \"width\": 0.5}}, \"type\": \"bar\"}], \"barpolar\": [{\"marker\": {\"line\": {\"color\": \"#E5ECF6\", \"width\": 0.5}}, \"type\": \"barpolar\"}], \"carpet\": [{\"aaxis\": {\"endlinecolor\": \"#2a3f5f\", \"gridcolor\": \"white\", \"linecolor\": \"white\", \"minorgridcolor\": \"white\", \"startlinecolor\": \"#2a3f5f\"}, \"baxis\": {\"endlinecolor\": \"#2a3f5f\", \"gridcolor\": \"white\", \"linecolor\": \"white\", \"minorgridcolor\": \"white\", \"startlinecolor\": \"#2a3f5f\"}, \"type\": \"carpet\"}], \"choropleth\": [{\"colorbar\": {\"outlinewidth\": 0, \"ticks\": \"\"}, \"type\": \"choropleth\"}], \"contour\": [{\"colorbar\": {\"outlinewidth\": 0, \"ticks\": \"\"}, \"colorscale\": [[0.0, \"#0d0887\"], [0.1111111111111111, \"#46039f\"], [0.2222222222222222, \"#7201a8\"], [0.3333333333333333, \"#9c179e\"], [0.4444444444444444, \"#bd3786\"], [0.5555555555555556, \"#d8576b\"], [0.6666666666666666, \"#ed7953\"], [0.7777777777777778, \"#fb9f3a\"], [0.8888888888888888, \"#fdca26\"], [1.0, \"#f0f921\"]], \"type\": \"contour\"}], \"contourcarpet\": [{\"colorbar\": {\"outlinewidth\": 0, \"ticks\": \"\"}, \"type\": \"contourcarpet\"}], \"heatmap\": [{\"colorbar\": {\"outlinewidth\": 0, \"ticks\": \"\"}, \"colorscale\": [[0.0, \"#0d0887\"], [0.1111111111111111, \"#46039f\"], [0.2222222222222222, \"#7201a8\"], [0.3333333333333333, \"#9c179e\"], [0.4444444444444444, \"#bd3786\"], [0.5555555555555556, \"#d8576b\"], [0.6666666666666666, \"#ed7953\"], [0.7777777777777778, \"#fb9f3a\"], [0.8888888888888888, \"#fdca26\"], [1.0, \"#f0f921\"]], \"type\": \"heatmap\"}], \"heatmapgl\": [{\"colorbar\": {\"outlinewidth\": 0, \"ticks\": \"\"}, \"colorscale\": [[0.0, \"#0d0887\"], [0.1111111111111111, \"#46039f\"], [0.2222222222222222, \"#7201a8\"], [0.3333333333333333, \"#9c179e\"], [0.4444444444444444, \"#bd3786\"], [0.5555555555555556, \"#d8576b\"], [0.6666666666666666, \"#ed7953\"], [0.7777777777777778, \"#fb9f3a\"], [0.8888888888888888, \"#fdca26\"], [1.0, \"#f0f921\"]], \"type\": \"heatmapgl\"}], \"histogram\": [{\"marker\": {\"colorbar\": {\"outlinewidth\": 0, \"ticks\": \"\"}}, \"type\": \"histogram\"}], \"histogram2d\": [{\"colorbar\": {\"outlinewidth\": 0, \"ticks\": \"\"}, \"colorscale\": [[0.0, \"#0d0887\"], [0.1111111111111111, \"#46039f\"], [0.2222222222222222, \"#7201a8\"], [0.3333333333333333, \"#9c179e\"], [0.4444444444444444, \"#bd3786\"], [0.5555555555555556, \"#d8576b\"], [0.6666666666666666, \"#ed7953\"], [0.7777777777777778, \"#fb9f3a\"], [0.8888888888888888, \"#fdca26\"], [1.0, \"#f0f921\"]], \"type\": \"histogram2d\"}], \"histogram2dcontour\": [{\"colorbar\": {\"outlinewidth\": 0, \"ticks\": \"\"}, \"colorscale\": [[0.0, \"#0d0887\"], [0.1111111111111111, \"#46039f\"], [0.2222222222222222, \"#7201a8\"], [0.3333333333333333, \"#9c179e\"], [0.4444444444444444, \"#bd3786\"], [0.5555555555555556, \"#d8576b\"], [0.6666666666666666, \"#ed7953\"], [0.7777777777777778, \"#fb9f3a\"], [0.8888888888888888, \"#fdca26\"], [1.0, \"#f0f921\"]], \"type\": \"histogram2dcontour\"}], \"mesh3d\": [{\"colorbar\": {\"outlinewidth\": 0, \"ticks\": \"\"}, \"type\": \"mesh3d\"}], \"parcoords\": [{\"line\": {\"colorbar\": {\"outlinewidth\": 0, \"ticks\": \"\"}}, \"type\": \"parcoords\"}], \"pie\": [{\"automargin\": true, \"type\": \"pie\"}], \"scatter\": [{\"marker\": {\"colorbar\": {\"outlinewidth\": 0, \"ticks\": \"\"}}, \"type\": \"scatter\"}], \"scatter3d\": [{\"line\": {\"colorbar\": {\"outlinewidth\": 0, \"ticks\": \"\"}}, \"marker\": {\"colorbar\": {\"outlinewidth\": 0, \"ticks\": \"\"}}, \"type\": \"scatter3d\"}], \"scattercarpet\": [{\"marker\": {\"colorbar\": {\"outlinewidth\": 0, \"ticks\": \"\"}}, \"type\": \"scattercarpet\"}], \"scattergeo\": [{\"marker\": {\"colorbar\": {\"outlinewidth\": 0, \"ticks\": \"\"}}, \"type\": \"scattergeo\"}], \"scattergl\": [{\"marker\": {\"colorbar\": {\"outlinewidth\": 0, \"ticks\": \"\"}}, \"type\": \"scattergl\"}], \"scattermapbox\": [{\"marker\": {\"colorbar\": {\"outlinewidth\": 0, \"ticks\": \"\"}}, \"type\": \"scattermapbox\"}], \"scatterpolar\": [{\"marker\": {\"colorbar\": {\"outlinewidth\": 0, \"ticks\": \"\"}}, \"type\": \"scatterpolar\"}], \"scatterpolargl\": [{\"marker\": {\"colorbar\": {\"outlinewidth\": 0, \"ticks\": \"\"}}, \"type\": \"scatterpolargl\"}], \"scatterternary\": [{\"marker\": {\"colorbar\": {\"outlinewidth\": 0, \"ticks\": \"\"}}, \"type\": \"scatterternary\"}], \"surface\": [{\"colorbar\": {\"outlinewidth\": 0, \"ticks\": \"\"}, \"colorscale\": [[0.0, \"#0d0887\"], [0.1111111111111111, \"#46039f\"], [0.2222222222222222, \"#7201a8\"], [0.3333333333333333, \"#9c179e\"], [0.4444444444444444, \"#bd3786\"], [0.5555555555555556, \"#d8576b\"], [0.6666666666666666, \"#ed7953\"], [0.7777777777777778, \"#fb9f3a\"], [0.8888888888888888, \"#fdca26\"], [1.0, \"#f0f921\"]], \"type\": \"surface\"}], \"table\": [{\"cells\": {\"fill\": {\"color\": \"#EBF0F8\"}, \"line\": {\"color\": \"white\"}}, \"header\": {\"fill\": {\"color\": \"#C8D4E3\"}, \"line\": {\"color\": \"white\"}}, \"type\": \"table\"}]}, \"layout\": {\"annotationdefaults\": {\"arrowcolor\": \"#2a3f5f\", \"arrowhead\": 0, \"arrowwidth\": 1}, \"coloraxis\": {\"colorbar\": {\"outlinewidth\": 0, \"ticks\": \"\"}}, \"colorscale\": {\"diverging\": [[0, \"#8e0152\"], [0.1, \"#c51b7d\"], [0.2, \"#de77ae\"], [0.3, \"#f1b6da\"], [0.4, \"#fde0ef\"], [0.5, \"#f7f7f7\"], [0.6, \"#e6f5d0\"], [0.7, \"#b8e186\"], [0.8, \"#7fbc41\"], [0.9, \"#4d9221\"], [1, \"#276419\"]], \"sequential\": [[0.0, \"#0d0887\"], [0.1111111111111111, \"#46039f\"], [0.2222222222222222, \"#7201a8\"], [0.3333333333333333, \"#9c179e\"], [0.4444444444444444, \"#bd3786\"], [0.5555555555555556, \"#d8576b\"], [0.6666666666666666, \"#ed7953\"], [0.7777777777777778, \"#fb9f3a\"], [0.8888888888888888, \"#fdca26\"], [1.0, \"#f0f921\"]], \"sequentialminus\": [[0.0, \"#0d0887\"], [0.1111111111111111, \"#46039f\"], [0.2222222222222222, \"#7201a8\"], [0.3333333333333333, \"#9c179e\"], [0.4444444444444444, \"#bd3786\"], [0.5555555555555556, \"#d8576b\"], [0.6666666666666666, \"#ed7953\"], [0.7777777777777778, \"#fb9f3a\"], [0.8888888888888888, \"#fdca26\"], [1.0, \"#f0f921\"]]}, \"colorway\": [\"#636efa\", \"#EF553B\", \"#00cc96\", \"#ab63fa\", \"#FFA15A\", \"#19d3f3\", \"#FF6692\", \"#B6E880\", \"#FF97FF\", \"#FECB52\"], \"font\": {\"color\": \"#2a3f5f\"}, \"geo\": {\"bgcolor\": \"white\", \"lakecolor\": \"white\", \"landcolor\": \"#E5ECF6\", \"showlakes\": true, \"showland\": true, \"subunitcolor\": \"white\"}, \"hoverlabel\": {\"align\": \"left\"}, \"hovermode\": \"closest\", \"mapbox\": {\"style\": \"light\"}, \"paper_bgcolor\": \"white\", \"plot_bgcolor\": \"#E5ECF6\", \"polar\": {\"angularaxis\": {\"gridcolor\": \"white\", \"linecolor\": \"white\", \"ticks\": \"\"}, \"bgcolor\": \"#E5ECF6\", \"radialaxis\": {\"gridcolor\": \"white\", \"linecolor\": \"white\", \"ticks\": \"\"}}, \"scene\": {\"xaxis\": {\"backgroundcolor\": \"#E5ECF6\", \"gridcolor\": \"white\", \"gridwidth\": 2, \"linecolor\": \"white\", \"showbackground\": true, \"ticks\": \"\", \"zerolinecolor\": \"white\"}, \"yaxis\": {\"backgroundcolor\": \"#E5ECF6\", \"gridcolor\": \"white\", \"gridwidth\": 2, \"linecolor\": \"white\", \"showbackground\": true, \"ticks\": \"\", \"zerolinecolor\": \"white\"}, \"zaxis\": {\"backgroundcolor\": \"#E5ECF6\", \"gridcolor\": \"white\", \"gridwidth\": 2, \"linecolor\": \"white\", \"showbackground\": true, \"ticks\": \"\", \"zerolinecolor\": \"white\"}}, \"shapedefaults\": {\"line\": {\"color\": \"#2a3f5f\"}}, \"ternary\": {\"aaxis\": {\"gridcolor\": \"white\", \"linecolor\": \"white\", \"ticks\": \"\"}, \"baxis\": {\"gridcolor\": \"white\", \"linecolor\": \"white\", \"ticks\": \"\"}, \"bgcolor\": \"#E5ECF6\", \"caxis\": {\"gridcolor\": \"white\", \"linecolor\": \"white\", \"ticks\": \"\"}}, \"title\": {\"x\": 0.05}, \"xaxis\": {\"automargin\": true, \"gridcolor\": \"white\", \"linecolor\": \"white\", \"ticks\": \"\", \"title\": {\"standoff\": 15}, \"zerolinecolor\": \"white\", \"zerolinewidth\": 2}, \"yaxis\": {\"automargin\": true, \"gridcolor\": \"white\", \"linecolor\": \"white\", \"ticks\": \"\", \"title\": {\"standoff\": 15}, \"zerolinecolor\": \"white\", \"zerolinewidth\": 2}}}, \"title\": {\"text\": \"Distribution of late questions submitted\"}, \"xaxis\": {\"anchor\": \"y\", \"domain\": [0.0, 1.0], \"title\": {\"text\": \"Days late from due date\"}}, \"yaxis\": {\"anchor\": \"x\", \"domain\": [0.0, 1.0], \"title\": {\"text\": \"count\"}}},\n",
              "                        {\"responsive\": true}\n",
              "                    ).then(function(){\n",
              "                            \n",
              "var gd = document.getElementById('43fdd2ca-af4f-4bf2-a95f-deb7bc33ab4f');\n",
              "var x = new MutationObserver(function (mutations, observer) {{\n",
              "        var display = window.getComputedStyle(gd).display;\n",
              "        if (!display || display === 'none') {{\n",
              "            console.log([gd, 'removed!']);\n",
              "            Plotly.purge(gd);\n",
              "            observer.disconnect();\n",
              "        }}\n",
              "}});\n",
              "\n",
              "// Listen for the removal of the full notebook cells\n",
              "var notebookContainer = gd.closest('#notebook-container');\n",
              "if (notebookContainer) {{\n",
              "    x.observe(notebookContainer, {childList: true});\n",
              "}}\n",
              "\n",
              "// Listen for the clearing of the current output cell\n",
              "var outputEl = gd.closest('.output');\n",
              "if (outputEl) {{\n",
              "    x.observe(outputEl, {childList: true});\n",
              "}}\n",
              "\n",
              "                        })\n",
              "                };\n",
              "                \n",
              "            </script>\n",
              "        </div>\n",
              "</body>\n",
              "</html>"
            ]
          },
          "metadata": {
            "tags": []
          }
        }
      ]
    },
    {
      "cell_type": "code",
      "metadata": {
        "id": "bDDbnM9YaGbk",
        "outputId": "627e22df-eab1-41ad-9059-9971a3b0de61",
        "colab": {
          "base_uri": "https://localhost:8080/",
          "height": 419
        }
      },
      "source": [
        "student_lateness.sort_values(\"late\", ascending = False)"
      ],
      "execution_count": 57,
      "outputs": [
        {
          "output_type": "execute_result",
          "data": {
            "text/html": [
              "<div>\n",
              "<style scoped>\n",
              "    .dataframe tbody tr th:only-of-type {\n",
              "        vertical-align: middle;\n",
              "    }\n",
              "\n",
              "    .dataframe tbody tr th {\n",
              "        vertical-align: top;\n",
              "    }\n",
              "\n",
              "    .dataframe thead th {\n",
              "        text-align: right;\n",
              "    }\n",
              "</style>\n",
              "<table border=\"1\" class=\"dataframe\">\n",
              "  <thead>\n",
              "    <tr style=\"text-align: right;\">\n",
              "      <th></th>\n",
              "      <th>user_id</th>\n",
              "      <th>late</th>\n",
              "    </tr>\n",
              "  </thead>\n",
              "  <tbody>\n",
              "    <tr>\n",
              "      <th>319</th>\n",
              "      <td>637569</td>\n",
              "      <td>6</td>\n",
              "    </tr>\n",
              "    <tr>\n",
              "      <th>118</th>\n",
              "      <td>636396</td>\n",
              "      <td>5</td>\n",
              "    </tr>\n",
              "    <tr>\n",
              "      <th>179</th>\n",
              "      <td>636734</td>\n",
              "      <td>4</td>\n",
              "    </tr>\n",
              "    <tr>\n",
              "      <th>66</th>\n",
              "      <td>636029</td>\n",
              "      <td>4</td>\n",
              "    </tr>\n",
              "    <tr>\n",
              "      <th>310</th>\n",
              "      <td>637310</td>\n",
              "      <td>4</td>\n",
              "    </tr>\n",
              "    <tr>\n",
              "      <th>...</th>\n",
              "      <td>...</td>\n",
              "      <td>...</td>\n",
              "    </tr>\n",
              "    <tr>\n",
              "      <th>146</th>\n",
              "      <td>636424</td>\n",
              "      <td>0</td>\n",
              "    </tr>\n",
              "    <tr>\n",
              "      <th>151</th>\n",
              "      <td>636429</td>\n",
              "      <td>0</td>\n",
              "    </tr>\n",
              "    <tr>\n",
              "      <th>152</th>\n",
              "      <td>636430</td>\n",
              "      <td>0</td>\n",
              "    </tr>\n",
              "    <tr>\n",
              "      <th>153</th>\n",
              "      <td>636431</td>\n",
              "      <td>0</td>\n",
              "    </tr>\n",
              "    <tr>\n",
              "      <th>331</th>\n",
              "      <td>642158</td>\n",
              "      <td>0</td>\n",
              "    </tr>\n",
              "  </tbody>\n",
              "</table>\n",
              "<p>332 rows × 2 columns</p>\n",
              "</div>"
            ],
            "text/plain": [
              "     user_id  late\n",
              "319   637569     6\n",
              "118   636396     5\n",
              "179   636734     4\n",
              "66    636029     4\n",
              "310   637310     4\n",
              "..       ...   ...\n",
              "146   636424     0\n",
              "151   636429     0\n",
              "152   636430     0\n",
              "153   636431     0\n",
              "331   642158     0\n",
              "\n",
              "[332 rows x 2 columns]"
            ]
          },
          "metadata": {
            "tags": []
          },
          "execution_count": 57
        }
      ]
    },
    {
      "cell_type": "markdown",
      "metadata": {
        "id": "BkqYpwaWaI0V"
      },
      "source": [
        "Connecting to cycle 4 groups"
      ]
    },
    {
      "cell_type": "code",
      "metadata": {
        "id": "HnVoiw3paJX3",
        "outputId": "a165a4d5-8050-4da5-9379-3e2e8947ce4b",
        "colab": {
          "base_uri": "https://localhost:8080/",
          "height": 419
        }
      },
      "source": [
        "student_lateness.reset_index()"
      ],
      "execution_count": 61,
      "outputs": [
        {
          "output_type": "execute_result",
          "data": {
            "text/html": [
              "<div>\n",
              "<style scoped>\n",
              "    .dataframe tbody tr th:only-of-type {\n",
              "        vertical-align: middle;\n",
              "    }\n",
              "\n",
              "    .dataframe tbody tr th {\n",
              "        vertical-align: top;\n",
              "    }\n",
              "\n",
              "    .dataframe thead th {\n",
              "        text-align: right;\n",
              "    }\n",
              "</style>\n",
              "<table border=\"1\" class=\"dataframe\">\n",
              "  <thead>\n",
              "    <tr style=\"text-align: right;\">\n",
              "      <th></th>\n",
              "      <th>index</th>\n",
              "      <th>user_id</th>\n",
              "      <th>late</th>\n",
              "    </tr>\n",
              "  </thead>\n",
              "  <tbody>\n",
              "    <tr>\n",
              "      <th>0</th>\n",
              "      <td>0</td>\n",
              "      <td>217514</td>\n",
              "      <td>0</td>\n",
              "    </tr>\n",
              "    <tr>\n",
              "      <th>1</th>\n",
              "      <td>1</td>\n",
              "      <td>269035</td>\n",
              "      <td>0</td>\n",
              "    </tr>\n",
              "    <tr>\n",
              "      <th>2</th>\n",
              "      <td>2</td>\n",
              "      <td>504817</td>\n",
              "      <td>1</td>\n",
              "    </tr>\n",
              "    <tr>\n",
              "      <th>3</th>\n",
              "      <td>3</td>\n",
              "      <td>508271</td>\n",
              "      <td>0</td>\n",
              "    </tr>\n",
              "    <tr>\n",
              "      <th>4</th>\n",
              "      <td>4</td>\n",
              "      <td>555695</td>\n",
              "      <td>0</td>\n",
              "    </tr>\n",
              "    <tr>\n",
              "      <th>...</th>\n",
              "      <td>...</td>\n",
              "      <td>...</td>\n",
              "      <td>...</td>\n",
              "    </tr>\n",
              "    <tr>\n",
              "      <th>327</th>\n",
              "      <td>327</td>\n",
              "      <td>640064</td>\n",
              "      <td>1</td>\n",
              "    </tr>\n",
              "    <tr>\n",
              "      <th>328</th>\n",
              "      <td>328</td>\n",
              "      <td>640258</td>\n",
              "      <td>1</td>\n",
              "    </tr>\n",
              "    <tr>\n",
              "      <th>329</th>\n",
              "      <td>329</td>\n",
              "      <td>641348</td>\n",
              "      <td>1</td>\n",
              "    </tr>\n",
              "    <tr>\n",
              "      <th>330</th>\n",
              "      <td>330</td>\n",
              "      <td>641786</td>\n",
              "      <td>0</td>\n",
              "    </tr>\n",
              "    <tr>\n",
              "      <th>331</th>\n",
              "      <td>331</td>\n",
              "      <td>642158</td>\n",
              "      <td>0</td>\n",
              "    </tr>\n",
              "  </tbody>\n",
              "</table>\n",
              "<p>332 rows × 3 columns</p>\n",
              "</div>"
            ],
            "text/plain": [
              "     index  user_id  late\n",
              "0        0   217514     0\n",
              "1        1   269035     0\n",
              "2        2   504817     1\n",
              "3        3   508271     0\n",
              "4        4   555695     0\n",
              "..     ...      ...   ...\n",
              "327    327   640064     1\n",
              "328    328   640258     1\n",
              "329    329   641348     1\n",
              "330    330   641786     0\n",
              "331    331   642158     0\n",
              "\n",
              "[332 rows x 3 columns]"
            ]
          },
          "metadata": {
            "tags": []
          },
          "execution_count": 61
        }
      ]
    },
    {
      "cell_type": "code",
      "metadata": {
        "id": "oxXmIiDsaa6T"
      },
      "source": [
        "c4usercourses.rename(columns = {\"user\" : \"user_id\", \"Team\" : \"team\"}, inplace = True)\n",
        "c4usercourses_lateness = c4usercourses.merge(student_lateness.reset_index(drop = True), on = \"user_id\")"
      ],
      "execution_count": 62,
      "outputs": []
    },
    {
      "cell_type": "code",
      "metadata": {
        "id": "8iACFJQOacOJ",
        "outputId": "816c1c9c-8d80-477e-b6c2-f744ac87df1d",
        "colab": {
          "base_uri": "https://localhost:8080/",
          "height": 419
        }
      },
      "source": [
        "c4usercourses_lateness.sort_values(by = \"late\", ascending = False)"
      ],
      "execution_count": 63,
      "outputs": [
        {
          "output_type": "execute_result",
          "data": {
            "text/html": [
              "<div>\n",
              "<style scoped>\n",
              "    .dataframe tbody tr th:only-of-type {\n",
              "        vertical-align: middle;\n",
              "    }\n",
              "\n",
              "    .dataframe tbody tr th {\n",
              "        vertical-align: top;\n",
              "    }\n",
              "\n",
              "    .dataframe thead th {\n",
              "        text-align: right;\n",
              "    }\n",
              "</style>\n",
              "<table border=\"1\" class=\"dataframe\">\n",
              "  <thead>\n",
              "    <tr style=\"text-align: right;\">\n",
              "      <th></th>\n",
              "      <th>user_id</th>\n",
              "      <th>course_id</th>\n",
              "      <th>team</th>\n",
              "      <th>late</th>\n",
              "    </tr>\n",
              "  </thead>\n",
              "  <tbody>\n",
              "    <tr>\n",
              "      <th>138</th>\n",
              "      <td>637569</td>\n",
              "      <td>21326</td>\n",
              "      <td>Blue</td>\n",
              "      <td>6</td>\n",
              "    </tr>\n",
              "    <tr>\n",
              "      <th>129</th>\n",
              "      <td>636396</td>\n",
              "      <td>21326</td>\n",
              "      <td>Pink</td>\n",
              "      <td>5</td>\n",
              "    </tr>\n",
              "    <tr>\n",
              "      <th>170</th>\n",
              "      <td>636734</td>\n",
              "      <td>21327</td>\n",
              "      <td>Brown</td>\n",
              "      <td>4</td>\n",
              "    </tr>\n",
              "    <tr>\n",
              "      <th>40</th>\n",
              "      <td>636029</td>\n",
              "      <td>21320</td>\n",
              "      <td>Pink</td>\n",
              "      <td>4</td>\n",
              "    </tr>\n",
              "    <tr>\n",
              "      <th>266</th>\n",
              "      <td>637310</td>\n",
              "      <td>21328</td>\n",
              "      <td>Pink</td>\n",
              "      <td>4</td>\n",
              "    </tr>\n",
              "    <tr>\n",
              "      <th>...</th>\n",
              "      <td>...</td>\n",
              "      <td>...</td>\n",
              "      <td>...</td>\n",
              "      <td>...</td>\n",
              "    </tr>\n",
              "    <tr>\n",
              "      <th>131</th>\n",
              "      <td>604835</td>\n",
              "      <td>21326</td>\n",
              "      <td>Green</td>\n",
              "      <td>0</td>\n",
              "    </tr>\n",
              "    <tr>\n",
              "      <th>132</th>\n",
              "      <td>636439</td>\n",
              "      <td>21326</td>\n",
              "      <td>Purple</td>\n",
              "      <td>0</td>\n",
              "    </tr>\n",
              "    <tr>\n",
              "      <th>134</th>\n",
              "      <td>636429</td>\n",
              "      <td>21326</td>\n",
              "      <td>Yellow</td>\n",
              "      <td>0</td>\n",
              "    </tr>\n",
              "    <tr>\n",
              "      <th>137</th>\n",
              "      <td>636416</td>\n",
              "      <td>21326</td>\n",
              "      <td>Blue</td>\n",
              "      <td>0</td>\n",
              "    </tr>\n",
              "    <tr>\n",
              "      <th>285</th>\n",
              "      <td>637299</td>\n",
              "      <td>21328</td>\n",
              "      <td>Yellow</td>\n",
              "      <td>0</td>\n",
              "    </tr>\n",
              "  </tbody>\n",
              "</table>\n",
              "<p>286 rows × 4 columns</p>\n",
              "</div>"
            ],
            "text/plain": [
              "     user_id  course_id    team  late\n",
              "138   637569      21326    Blue     6\n",
              "129   636396      21326    Pink     5\n",
              "170   636734      21327   Brown     4\n",
              "40    636029      21320    Pink     4\n",
              "266   637310      21328    Pink     4\n",
              "..       ...        ...     ...   ...\n",
              "131   604835      21326   Green     0\n",
              "132   636439      21326  Purple     0\n",
              "134   636429      21326  Yellow     0\n",
              "137   636416      21326    Blue     0\n",
              "285   637299      21328  Yellow     0\n",
              "\n",
              "[286 rows x 4 columns]"
            ]
          },
          "metadata": {
            "tags": []
          },
          "execution_count": 63
        }
      ]
    },
    {
      "cell_type": "code",
      "metadata": {
        "id": "Flx4GPPR8IBb",
        "outputId": "91b1826f-b6e2-4176-841f-3b62aeb4dad0",
        "colab": {
          "base_uri": "https://localhost:8080/",
          "height": 542
        }
      },
      "source": [
        "# Authors: Yan and Tash\n",
        "# Supporter: Johanna\n",
        "# Date: \n",
        "px.histogram(team_lateness_boolean,x=\"team\",y=\"late\",color = \"team\"labels={\n",
        "                     \"team\": \"Groups\",\n",
        "                     \"late\": \"Number of Questions Late\"},title = \"Distribution of late questions in each team\")"
      ],
      "execution_count": 92,
      "outputs": [
        {
          "output_type": "display_data",
          "data": {
            "text/html": [
              "<html>\n",
              "<head><meta charset=\"utf-8\" /></head>\n",
              "<body>\n",
              "    <div>\n",
              "            <script src=\"https://cdnjs.cloudflare.com/ajax/libs/mathjax/2.7.5/MathJax.js?config=TeX-AMS-MML_SVG\"></script><script type=\"text/javascript\">if (window.MathJax) {MathJax.Hub.Config({SVG: {font: \"STIX-Web\"}});}</script>\n",
              "                <script type=\"text/javascript\">window.PlotlyConfig = {MathJaxConfig: 'local'};</script>\n",
              "        <script src=\"https://cdn.plot.ly/plotly-latest.min.js\"></script>    \n",
              "            <div id=\"14d9d014-a554-42a7-8680-b491617829a7\" class=\"plotly-graph-div\" style=\"height:525px; width:100%;\"></div>\n",
              "            <script type=\"text/javascript\">\n",
              "                \n",
              "                    window.PLOTLYENV=window.PLOTLYENV || {};\n",
              "                    \n",
              "                if (document.getElementById(\"14d9d014-a554-42a7-8680-b491617829a7\")) {\n",
              "                    Plotly.newPlot(\n",
              "                        '14d9d014-a554-42a7-8680-b491617829a7',\n",
              "                        [{\"alignmentgroup\": \"True\", \"bingroup\": \"x\", \"hoverlabel\": {\"namelength\": 0}, \"hovertemplate\": \"team=%{x}<br>count of late=%{y}\", \"legendgroup\": \"team=Black\", \"marker\": {\"color\": \"#636efa\"}, \"name\": \"team=Black\", \"offsetgroup\": \"team=Black\", \"orientation\": \"v\", \"showlegend\": true, \"type\": \"histogram\", \"x\": [\"Black\", \"Black\", \"Black\", \"Black\", \"Black\", \"Black\", \"Black\", \"Black\", \"Black\", \"Black\", \"Black\", \"Black\", \"Black\", \"Black\", \"Black\", \"Black\", \"Black\", \"Black\", \"Black\", \"Black\", \"Black\", \"Black\", \"Black\", \"Black\", \"Black\", \"Black\", \"Black\", \"Black\", \"Black\", \"Black\", \"Black\", \"Black\", \"Black\", \"Black\"], \"xaxis\": \"x\", \"y\": [true, false, false, false, true, false, false, false, false, false, false, true, false, false, true, false, false, false, false, false, false, true, false, false, false, false, false, false, false, false, true, true, false, false], \"yaxis\": \"y\"}, {\"alignmentgroup\": \"True\", \"bingroup\": \"x\", \"hoverlabel\": {\"namelength\": 0}, \"hovertemplate\": \"team=%{x}<br>count of late=%{y}\", \"legendgroup\": \"team=Blue\", \"marker\": {\"color\": \"#EF553B\"}, \"name\": \"team=Blue\", \"offsetgroup\": \"team=Blue\", \"orientation\": \"v\", \"showlegend\": true, \"type\": \"histogram\", \"x\": [\"Blue\", \"Blue\", \"Blue\", \"Blue\", \"Blue\", \"Blue\", \"Blue\", \"Blue\", \"Blue\", \"Blue\", \"Blue\", \"Blue\", \"Blue\", \"Blue\", \"Blue\", \"Blue\", \"Blue\", \"Blue\", \"Blue\", \"Blue\", \"Blue\", \"Blue\", \"Blue\", \"Blue\", \"Blue\", \"Blue\", \"Blue\", \"Blue\", \"Blue\", \"Blue\", \"Blue\", \"Blue\", \"Blue\", \"Blue\"], \"xaxis\": \"x\", \"y\": [false, false, true, false, true, false, false, true, false, true, true, true, true, true, true, false, true, false, false, false, false, false, false, false, false, true, false, true, false, false, false, true, false, false], \"yaxis\": \"y\"}, {\"alignmentgroup\": \"True\", \"bingroup\": \"x\", \"hoverlabel\": {\"namelength\": 0}, \"hovertemplate\": \"team=%{x}<br>count of late=%{y}\", \"legendgroup\": \"team=Brown\", \"marker\": {\"color\": \"#00cc96\"}, \"name\": \"team=Brown\", \"offsetgroup\": \"team=Brown\", \"orientation\": \"v\", \"showlegend\": true, \"type\": \"histogram\", \"x\": [\"Brown\", \"Brown\", \"Brown\", \"Brown\", \"Brown\", \"Brown\", \"Brown\", \"Brown\", \"Brown\", \"Brown\", \"Brown\", \"Brown\", \"Brown\", \"Brown\", \"Brown\", \"Brown\", \"Brown\", \"Brown\", \"Brown\", \"Brown\", \"Brown\", \"Brown\", \"Brown\", \"Brown\", \"Brown\", \"Brown\", \"Brown\", \"Brown\", \"Brown\", \"Brown\", \"Brown\", \"Brown\", \"Brown\", \"Brown\", \"Brown\", \"Brown\"], \"xaxis\": \"x\", \"y\": [false, true, false, false, false, false, true, false, true, true, false, false, false, false, false, false, false, true, false, true, true, false, true, false, false, true, false, true, false, true, false, true, true, false, true, false], \"yaxis\": \"y\"}, {\"alignmentgroup\": \"True\", \"bingroup\": \"x\", \"hoverlabel\": {\"namelength\": 0}, \"hovertemplate\": \"team=%{x}<br>count of late=%{y}\", \"legendgroup\": \"team=Green\", \"marker\": {\"color\": \"#ab63fa\"}, \"name\": \"team=Green\", \"offsetgroup\": \"team=Green\", \"orientation\": \"v\", \"showlegend\": true, \"type\": \"histogram\", \"x\": [\"Green\", \"Green\", \"Green\", \"Green\", \"Green\", \"Green\", \"Green\", \"Green\", \"Green\", \"Green\", \"Green\", \"Green\", \"Green\", \"Green\", \"Green\", \"Green\", \"Green\", \"Green\", \"Green\", \"Green\", \"Green\", \"Green\", \"Green\", \"Green\", \"Green\", \"Green\", \"Green\", \"Green\", \"Green\", \"Green\", \"Green\", \"Green\", \"Green\", \"Green\", \"Green\", \"Green\", \"Green\", \"Green\", \"Green\"], \"xaxis\": \"x\", \"y\": [false, false, true, true, true, false, false, true, false, true, false, false, true, false, false, true, false, false, false, false, false, true, true, false, true, false, true, false, true, false, false, true, false, false, false, true, false, false, false], \"yaxis\": \"y\"}, {\"alignmentgroup\": \"True\", \"bingroup\": \"x\", \"hoverlabel\": {\"namelength\": 0}, \"hovertemplate\": \"team=%{x}<br>count of late=%{y}\", \"legendgroup\": \"team=Pink\", \"marker\": {\"color\": \"#FFA15A\"}, \"name\": \"team=Pink\", \"offsetgroup\": \"team=Pink\", \"orientation\": \"v\", \"showlegend\": true, \"type\": \"histogram\", \"x\": [\"Pink\", \"Pink\", \"Pink\", \"Pink\", \"Pink\", \"Pink\", \"Pink\", \"Pink\", \"Pink\", \"Pink\", \"Pink\", \"Pink\", \"Pink\", \"Pink\", \"Pink\", \"Pink\", \"Pink\", \"Pink\", \"Pink\", \"Pink\", \"Pink\", \"Pink\", \"Pink\", \"Pink\", \"Pink\", \"Pink\", \"Pink\", \"Pink\", \"Pink\", \"Pink\", \"Pink\", \"Pink\", \"Pink\", \"Pink\", \"Pink\", \"Pink\", \"Pink\"], \"xaxis\": \"x\", \"y\": [false, false, true, false, false, true, true, false, false, false, true, true, false, true, true, true, true, true, true, false, false, false, false, false, false, false, false, false, false, false, false, false, false, true, true, false, true], \"yaxis\": \"y\"}, {\"alignmentgroup\": \"True\", \"bingroup\": \"x\", \"hoverlabel\": {\"namelength\": 0}, \"hovertemplate\": \"team=%{x}<br>count of late=%{y}\", \"legendgroup\": \"team=Red\", \"marker\": {\"color\": \"#19d3f3\"}, \"name\": \"team=Red\", \"offsetgroup\": \"team=Red\", \"orientation\": \"v\", \"showlegend\": true, \"type\": \"histogram\", \"x\": [\"Red\", \"Red\", \"Red\", \"Red\", \"Red\", \"Red\", \"Red\", \"Red\", \"Red\", \"Red\", \"Red\", \"Red\", \"Red\", \"Red\", \"Red\", \"Red\", \"Red\", \"Red\", \"Red\", \"Red\", \"Red\", \"Red\", \"Red\", \"Red\", \"Red\", \"Red\", \"Red\", \"Red\", \"Red\", \"Red\", \"Red\", \"Red\", \"Red\", \"Red\", \"Red\", \"Red\", \"Red\"], \"xaxis\": \"x\", \"y\": [true, true, true, false, false, true, true, false, false, false, false, false, false, false, true, false, false, false, false, false, false, false, false, true, false, false, false, false, true, false, true, false, true, false, false, false, true], \"yaxis\": \"y\"}, {\"alignmentgroup\": \"True\", \"bingroup\": \"x\", \"hoverlabel\": {\"namelength\": 0}, \"hovertemplate\": \"team=%{x}<br>count of late=%{y}\", \"legendgroup\": \"team=Yellow\", \"marker\": {\"color\": \"#FF6692\"}, \"name\": \"team=Yellow\", \"offsetgroup\": \"team=Yellow\", \"orientation\": \"v\", \"showlegend\": true, \"type\": \"histogram\", \"x\": [\"Yellow\", \"Yellow\", \"Yellow\", \"Yellow\", \"Yellow\", \"Yellow\", \"Yellow\", \"Yellow\", \"Yellow\", \"Yellow\", \"Yellow\", \"Yellow\", \"Yellow\", \"Yellow\", \"Yellow\", \"Yellow\", \"Yellow\", \"Yellow\", \"Yellow\", \"Yellow\", \"Yellow\", \"Yellow\", \"Yellow\", \"Yellow\", \"Yellow\", \"Yellow\", \"Yellow\", \"Yellow\", \"Yellow\", \"Yellow\", \"Yellow\"], \"xaxis\": \"x\", \"y\": [true, false, false, false, false, true, false, false, false, false, false, false, false, false, true, false, false, false, false, false, false, false, false, true, true, true, true, false, false, true, false], \"yaxis\": \"y\"}, {\"alignmentgroup\": \"True\", \"bingroup\": \"x\", \"hoverlabel\": {\"namelength\": 0}, \"hovertemplate\": \"team=%{x}<br>count of late=%{y}\", \"legendgroup\": \"team=White\", \"marker\": {\"color\": \"#B6E880\"}, \"name\": \"team=White\", \"offsetgroup\": \"team=White\", \"orientation\": \"v\", \"showlegend\": true, \"type\": \"histogram\", \"x\": [\"White\", \"White\", \"White\", \"White\", \"White\", \"White\", \"White\", \"White\", \"White\", \"White\", \"White\", \"White\", \"White\", \"White\", \"White\", \"White\", \"White\", \"White\", \"White\", \"White\", \"White\", \"White\", \"White\"], \"xaxis\": \"x\", \"y\": [true, true, true, true, true, false, true, true, true, false, false, false, false, false, false, false, false, false, false, false, false, false, true], \"yaxis\": \"y\"}, {\"alignmentgroup\": \"True\", \"bingroup\": \"x\", \"hoverlabel\": {\"namelength\": 0}, \"hovertemplate\": \"team=%{x}<br>count of late=%{y}\", \"legendgroup\": \"team=Purple\", \"marker\": {\"color\": \"#FF97FF\"}, \"name\": \"team=Purple\", \"offsetgroup\": \"team=Purple\", \"orientation\": \"v\", \"showlegend\": true, \"type\": \"histogram\", \"x\": [\"Purple\", \"Purple\", \"Purple\", \"Purple\", \"Purple\", \"Purple\", \"Purple\", \"Purple\", \"Purple\", \"Purple\", \"Purple\", \"Purple\", \"Purple\", \"Purple\", \"Purple\"], \"xaxis\": \"x\", \"y\": [false, true, true, false, false, false, true, false, false, true, true, false, false, false, false], \"yaxis\": \"y\"}],\n",
              "                        {\"barmode\": \"relative\", \"legend\": {\"tracegroupgap\": 0}, \"margin\": {\"t\": 60}, \"template\": {\"data\": {\"bar\": [{\"error_x\": {\"color\": \"#2a3f5f\"}, \"error_y\": {\"color\": \"#2a3f5f\"}, \"marker\": {\"line\": {\"color\": \"#E5ECF6\", \"width\": 0.5}}, \"type\": \"bar\"}], \"barpolar\": [{\"marker\": {\"line\": {\"color\": \"#E5ECF6\", \"width\": 0.5}}, \"type\": \"barpolar\"}], \"carpet\": [{\"aaxis\": {\"endlinecolor\": \"#2a3f5f\", \"gridcolor\": \"white\", \"linecolor\": \"white\", \"minorgridcolor\": \"white\", \"startlinecolor\": \"#2a3f5f\"}, \"baxis\": {\"endlinecolor\": \"#2a3f5f\", \"gridcolor\": \"white\", \"linecolor\": \"white\", \"minorgridcolor\": \"white\", \"startlinecolor\": \"#2a3f5f\"}, \"type\": \"carpet\"}], \"choropleth\": [{\"colorbar\": {\"outlinewidth\": 0, \"ticks\": \"\"}, \"type\": \"choropleth\"}], \"contour\": [{\"colorbar\": {\"outlinewidth\": 0, \"ticks\": \"\"}, \"colorscale\": [[0.0, \"#0d0887\"], [0.1111111111111111, \"#46039f\"], [0.2222222222222222, \"#7201a8\"], [0.3333333333333333, \"#9c179e\"], [0.4444444444444444, \"#bd3786\"], [0.5555555555555556, \"#d8576b\"], [0.6666666666666666, \"#ed7953\"], [0.7777777777777778, \"#fb9f3a\"], [0.8888888888888888, \"#fdca26\"], [1.0, \"#f0f921\"]], \"type\": \"contour\"}], \"contourcarpet\": [{\"colorbar\": {\"outlinewidth\": 0, \"ticks\": \"\"}, \"type\": \"contourcarpet\"}], \"heatmap\": [{\"colorbar\": {\"outlinewidth\": 0, \"ticks\": \"\"}, \"colorscale\": [[0.0, \"#0d0887\"], [0.1111111111111111, \"#46039f\"], [0.2222222222222222, \"#7201a8\"], [0.3333333333333333, \"#9c179e\"], [0.4444444444444444, \"#bd3786\"], [0.5555555555555556, \"#d8576b\"], [0.6666666666666666, \"#ed7953\"], [0.7777777777777778, \"#fb9f3a\"], [0.8888888888888888, \"#fdca26\"], [1.0, \"#f0f921\"]], \"type\": \"heatmap\"}], \"heatmapgl\": [{\"colorbar\": {\"outlinewidth\": 0, \"ticks\": \"\"}, \"colorscale\": [[0.0, \"#0d0887\"], [0.1111111111111111, \"#46039f\"], [0.2222222222222222, \"#7201a8\"], [0.3333333333333333, \"#9c179e\"], [0.4444444444444444, \"#bd3786\"], [0.5555555555555556, \"#d8576b\"], [0.6666666666666666, \"#ed7953\"], [0.7777777777777778, \"#fb9f3a\"], [0.8888888888888888, \"#fdca26\"], [1.0, \"#f0f921\"]], \"type\": \"heatmapgl\"}], \"histogram\": [{\"marker\": {\"colorbar\": {\"outlinewidth\": 0, \"ticks\": \"\"}}, \"type\": \"histogram\"}], \"histogram2d\": [{\"colorbar\": {\"outlinewidth\": 0, \"ticks\": \"\"}, \"colorscale\": [[0.0, \"#0d0887\"], [0.1111111111111111, \"#46039f\"], [0.2222222222222222, \"#7201a8\"], [0.3333333333333333, \"#9c179e\"], [0.4444444444444444, \"#bd3786\"], [0.5555555555555556, \"#d8576b\"], [0.6666666666666666, \"#ed7953\"], [0.7777777777777778, \"#fb9f3a\"], [0.8888888888888888, \"#fdca26\"], [1.0, \"#f0f921\"]], \"type\": \"histogram2d\"}], \"histogram2dcontour\": [{\"colorbar\": {\"outlinewidth\": 0, \"ticks\": \"\"}, \"colorscale\": [[0.0, \"#0d0887\"], [0.1111111111111111, \"#46039f\"], [0.2222222222222222, \"#7201a8\"], [0.3333333333333333, \"#9c179e\"], [0.4444444444444444, \"#bd3786\"], [0.5555555555555556, \"#d8576b\"], [0.6666666666666666, \"#ed7953\"], [0.7777777777777778, \"#fb9f3a\"], [0.8888888888888888, \"#fdca26\"], [1.0, \"#f0f921\"]], \"type\": \"histogram2dcontour\"}], \"mesh3d\": [{\"colorbar\": {\"outlinewidth\": 0, \"ticks\": \"\"}, \"type\": \"mesh3d\"}], \"parcoords\": [{\"line\": {\"colorbar\": {\"outlinewidth\": 0, \"ticks\": \"\"}}, \"type\": \"parcoords\"}], \"pie\": [{\"automargin\": true, \"type\": \"pie\"}], \"scatter\": [{\"marker\": {\"colorbar\": {\"outlinewidth\": 0, \"ticks\": \"\"}}, \"type\": \"scatter\"}], \"scatter3d\": [{\"line\": {\"colorbar\": {\"outlinewidth\": 0, \"ticks\": \"\"}}, \"marker\": {\"colorbar\": {\"outlinewidth\": 0, \"ticks\": \"\"}}, \"type\": \"scatter3d\"}], \"scattercarpet\": [{\"marker\": {\"colorbar\": {\"outlinewidth\": 0, \"ticks\": \"\"}}, \"type\": \"scattercarpet\"}], \"scattergeo\": [{\"marker\": {\"colorbar\": {\"outlinewidth\": 0, \"ticks\": \"\"}}, \"type\": \"scattergeo\"}], \"scattergl\": [{\"marker\": {\"colorbar\": {\"outlinewidth\": 0, \"ticks\": \"\"}}, \"type\": \"scattergl\"}], \"scattermapbox\": [{\"marker\": {\"colorbar\": {\"outlinewidth\": 0, \"ticks\": \"\"}}, \"type\": \"scattermapbox\"}], \"scatterpolar\": [{\"marker\": {\"colorbar\": {\"outlinewidth\": 0, \"ticks\": \"\"}}, \"type\": \"scatterpolar\"}], \"scatterpolargl\": [{\"marker\": {\"colorbar\": {\"outlinewidth\": 0, \"ticks\": \"\"}}, \"type\": \"scatterpolargl\"}], \"scatterternary\": [{\"marker\": {\"colorbar\": {\"outlinewidth\": 0, \"ticks\": \"\"}}, \"type\": \"scatterternary\"}], \"surface\": [{\"colorbar\": {\"outlinewidth\": 0, \"ticks\": \"\"}, \"colorscale\": [[0.0, \"#0d0887\"], [0.1111111111111111, \"#46039f\"], [0.2222222222222222, \"#7201a8\"], [0.3333333333333333, \"#9c179e\"], [0.4444444444444444, \"#bd3786\"], [0.5555555555555556, \"#d8576b\"], [0.6666666666666666, \"#ed7953\"], [0.7777777777777778, \"#fb9f3a\"], [0.8888888888888888, \"#fdca26\"], [1.0, \"#f0f921\"]], \"type\": \"surface\"}], \"table\": [{\"cells\": {\"fill\": {\"color\": \"#EBF0F8\"}, \"line\": {\"color\": \"white\"}}, \"header\": {\"fill\": {\"color\": \"#C8D4E3\"}, \"line\": {\"color\": \"white\"}}, \"type\": \"table\"}]}, \"layout\": {\"annotationdefaults\": {\"arrowcolor\": \"#2a3f5f\", \"arrowhead\": 0, \"arrowwidth\": 1}, \"coloraxis\": {\"colorbar\": {\"outlinewidth\": 0, \"ticks\": \"\"}}, \"colorscale\": {\"diverging\": [[0, \"#8e0152\"], [0.1, \"#c51b7d\"], [0.2, \"#de77ae\"], [0.3, \"#f1b6da\"], [0.4, \"#fde0ef\"], [0.5, \"#f7f7f7\"], [0.6, \"#e6f5d0\"], [0.7, \"#b8e186\"], [0.8, \"#7fbc41\"], [0.9, \"#4d9221\"], [1, \"#276419\"]], \"sequential\": [[0.0, \"#0d0887\"], [0.1111111111111111, \"#46039f\"], [0.2222222222222222, \"#7201a8\"], [0.3333333333333333, \"#9c179e\"], [0.4444444444444444, \"#bd3786\"], [0.5555555555555556, \"#d8576b\"], [0.6666666666666666, \"#ed7953\"], [0.7777777777777778, \"#fb9f3a\"], [0.8888888888888888, \"#fdca26\"], [1.0, \"#f0f921\"]], \"sequentialminus\": [[0.0, \"#0d0887\"], [0.1111111111111111, \"#46039f\"], [0.2222222222222222, \"#7201a8\"], [0.3333333333333333, \"#9c179e\"], [0.4444444444444444, \"#bd3786\"], [0.5555555555555556, \"#d8576b\"], [0.6666666666666666, \"#ed7953\"], [0.7777777777777778, \"#fb9f3a\"], [0.8888888888888888, \"#fdca26\"], [1.0, \"#f0f921\"]]}, \"colorway\": [\"#636efa\", \"#EF553B\", \"#00cc96\", \"#ab63fa\", \"#FFA15A\", \"#19d3f3\", \"#FF6692\", \"#B6E880\", \"#FF97FF\", \"#FECB52\"], \"font\": {\"color\": \"#2a3f5f\"}, \"geo\": {\"bgcolor\": \"white\", \"lakecolor\": \"white\", \"landcolor\": \"#E5ECF6\", \"showlakes\": true, \"showland\": true, \"subunitcolor\": \"white\"}, \"hoverlabel\": {\"align\": \"left\"}, \"hovermode\": \"closest\", \"mapbox\": {\"style\": \"light\"}, \"paper_bgcolor\": \"white\", \"plot_bgcolor\": \"#E5ECF6\", \"polar\": {\"angularaxis\": {\"gridcolor\": \"white\", \"linecolor\": \"white\", \"ticks\": \"\"}, \"bgcolor\": \"#E5ECF6\", \"radialaxis\": {\"gridcolor\": \"white\", \"linecolor\": \"white\", \"ticks\": \"\"}}, \"scene\": {\"xaxis\": {\"backgroundcolor\": \"#E5ECF6\", \"gridcolor\": \"white\", \"gridwidth\": 2, \"linecolor\": \"white\", \"showbackground\": true, \"ticks\": \"\", \"zerolinecolor\": \"white\"}, \"yaxis\": {\"backgroundcolor\": \"#E5ECF6\", \"gridcolor\": \"white\", \"gridwidth\": 2, \"linecolor\": \"white\", \"showbackground\": true, \"ticks\": \"\", \"zerolinecolor\": \"white\"}, \"zaxis\": {\"backgroundcolor\": \"#E5ECF6\", \"gridcolor\": \"white\", \"gridwidth\": 2, \"linecolor\": \"white\", \"showbackground\": true, \"ticks\": \"\", \"zerolinecolor\": \"white\"}}, \"shapedefaults\": {\"line\": {\"color\": \"#2a3f5f\"}}, \"ternary\": {\"aaxis\": {\"gridcolor\": \"white\", \"linecolor\": \"white\", \"ticks\": \"\"}, \"baxis\": {\"gridcolor\": \"white\", \"linecolor\": \"white\", \"ticks\": \"\"}, \"bgcolor\": \"#E5ECF6\", \"caxis\": {\"gridcolor\": \"white\", \"linecolor\": \"white\", \"ticks\": \"\"}}, \"title\": {\"x\": 0.05}, \"xaxis\": {\"automargin\": true, \"gridcolor\": \"white\", \"linecolor\": \"white\", \"ticks\": \"\", \"title\": {\"standoff\": 15}, \"zerolinecolor\": \"white\", \"zerolinewidth\": 2}, \"yaxis\": {\"automargin\": true, \"gridcolor\": \"white\", \"linecolor\": \"white\", \"ticks\": \"\", \"title\": {\"standoff\": 15}, \"zerolinecolor\": \"white\", \"zerolinewidth\": 2}}}, \"xaxis\": {\"anchor\": \"y\", \"categoryarray\": [\"Black\", \"Blue\", \"Brown\", \"Green\", \"Pink\", \"Red\", \"Yellow\", \"White\", \"Purple\"], \"categoryorder\": \"array\", \"domain\": [0.0, 1.0], \"title\": {\"text\": \"team\"}}, \"yaxis\": {\"anchor\": \"x\", \"domain\": [0.0, 1.0], \"title\": {\"text\": \"count of late\"}}},\n",
              "                        {\"responsive\": true}\n",
              "                    ).then(function(){\n",
              "                            \n",
              "var gd = document.getElementById('14d9d014-a554-42a7-8680-b491617829a7');\n",
              "var x = new MutationObserver(function (mutations, observer) {{\n",
              "        var display = window.getComputedStyle(gd).display;\n",
              "        if (!display || display === 'none') {{\n",
              "            console.log([gd, 'removed!']);\n",
              "            Plotly.purge(gd);\n",
              "            observer.disconnect();\n",
              "        }}\n",
              "}});\n",
              "\n",
              "// Listen for the removal of the full notebook cells\n",
              "var notebookContainer = gd.closest('#notebook-container');\n",
              "if (notebookContainer) {{\n",
              "    x.observe(notebookContainer, {childList: true});\n",
              "}}\n",
              "\n",
              "// Listen for the clearing of the current output cell\n",
              "var outputEl = gd.closest('.output');\n",
              "if (outputEl) {{\n",
              "    x.observe(outputEl, {childList: true});\n",
              "}}\n",
              "\n",
              "                        })\n",
              "                };\n",
              "                \n",
              "            </script>\n",
              "        </div>\n",
              "</body>\n",
              "</html>"
            ]
          },
          "metadata": {
            "tags": []
          }
        }
      ]
    },
    {
      "cell_type": "code",
      "metadata": {
        "id": "mn49HH1jadbP",
        "outputId": "f4f93274-da28-4373-b80f-1694ac931623",
        "colab": {
          "base_uri": "https://localhost:8080/",
          "height": 542
        }
      },
      "source": [
        "student_late_boolean = all_combined[[\"user_id\", \"late\"]].groupby(\"user_id\", as_index = False).any(\"late\")\n",
        "team_lateness_boolean = c4usercourses.merge(student_late_boolean, on = \"user_id\")\n",
        "\n",
        "# Authors: Yan and Tash\n",
        "# Supporter: Johanna\n",
        "# Date: \n",
        "fig = px.histogram(team_lateness_boolean,x=\"team\",y=\"late\",color = \"team\", color_discrete_map = {'Pink': 'hotpink','Green': 'mediumseagreen', 'Yellow': 'gold','Black': 'black','Blue': 'royalblue','Red': 'tomato', 'Brown': 'peru', 'White': 'white','Purple': 'mediumpurple'}, title = \"Distribution of late questions in each team\"labels={\n",
        "                     \"team\": \"Groups\",\n",
        "                     \"late\": \"Number of Questions Submitted Late\"})\n",
        "\n",
        "fig.update_layout(showlegend=False) "
      ],
      "execution_count": 107,
      "outputs": [
        {
          "output_type": "display_data",
          "data": {
            "text/html": [
              "<html>\n",
              "<head><meta charset=\"utf-8\" /></head>\n",
              "<body>\n",
              "    <div>\n",
              "            <script src=\"https://cdnjs.cloudflare.com/ajax/libs/mathjax/2.7.5/MathJax.js?config=TeX-AMS-MML_SVG\"></script><script type=\"text/javascript\">if (window.MathJax) {MathJax.Hub.Config({SVG: {font: \"STIX-Web\"}});}</script>\n",
              "                <script type=\"text/javascript\">window.PlotlyConfig = {MathJaxConfig: 'local'};</script>\n",
              "        <script src=\"https://cdn.plot.ly/plotly-latest.min.js\"></script>    \n",
              "            <div id=\"40d7a7ee-8467-415a-9ee8-cf267f4ff8e8\" class=\"plotly-graph-div\" style=\"height:525px; width:100%;\"></div>\n",
              "            <script type=\"text/javascript\">\n",
              "                \n",
              "                    window.PLOTLYENV=window.PLOTLYENV || {};\n",
              "                    \n",
              "                if (document.getElementById(\"40d7a7ee-8467-415a-9ee8-cf267f4ff8e8\")) {\n",
              "                    Plotly.newPlot(\n",
              "                        '40d7a7ee-8467-415a-9ee8-cf267f4ff8e8',\n",
              "                        [{\"alignmentgroup\": \"True\", \"bingroup\": \"x\", \"hoverlabel\": {\"namelength\": 0}, \"hovertemplate\": \"team=%{x}<br>count of late=%{y}\", \"legendgroup\": \"team=Black\", \"marker\": {\"color\": \"black\"}, \"name\": \"team=Black\", \"offsetgroup\": \"team=Black\", \"orientation\": \"v\", \"showlegend\": true, \"type\": \"histogram\", \"x\": [\"Black\", \"Black\", \"Black\", \"Black\", \"Black\", \"Black\", \"Black\", \"Black\", \"Black\", \"Black\", \"Black\", \"Black\", \"Black\", \"Black\", \"Black\", \"Black\", \"Black\", \"Black\", \"Black\", \"Black\", \"Black\", \"Black\", \"Black\", \"Black\", \"Black\", \"Black\", \"Black\", \"Black\", \"Black\", \"Black\", \"Black\", \"Black\", \"Black\", \"Black\"], \"xaxis\": \"x\", \"y\": [true, false, false, false, true, false, false, false, false, false, false, true, false, false, true, false, false, false, false, false, false, true, false, false, false, false, false, false, false, false, true, true, false, false], \"yaxis\": \"y\"}, {\"alignmentgroup\": \"True\", \"bingroup\": \"x\", \"hoverlabel\": {\"namelength\": 0}, \"hovertemplate\": \"team=%{x}<br>count of late=%{y}\", \"legendgroup\": \"team=Blue\", \"marker\": {\"color\": \"royalblue\"}, \"name\": \"team=Blue\", \"offsetgroup\": \"team=Blue\", \"orientation\": \"v\", \"showlegend\": true, \"type\": \"histogram\", \"x\": [\"Blue\", \"Blue\", \"Blue\", \"Blue\", \"Blue\", \"Blue\", \"Blue\", \"Blue\", \"Blue\", \"Blue\", \"Blue\", \"Blue\", \"Blue\", \"Blue\", \"Blue\", \"Blue\", \"Blue\", \"Blue\", \"Blue\", \"Blue\", \"Blue\", \"Blue\", \"Blue\", \"Blue\", \"Blue\", \"Blue\", \"Blue\", \"Blue\", \"Blue\", \"Blue\", \"Blue\", \"Blue\", \"Blue\", \"Blue\"], \"xaxis\": \"x\", \"y\": [false, false, true, false, true, false, false, true, false, true, true, true, true, true, true, false, true, false, false, false, false, false, false, false, false, true, false, true, false, false, false, true, false, false], \"yaxis\": \"y\"}, {\"alignmentgroup\": \"True\", \"bingroup\": \"x\", \"hoverlabel\": {\"namelength\": 0}, \"hovertemplate\": \"team=%{x}<br>count of late=%{y}\", \"legendgroup\": \"team=Brown\", \"marker\": {\"color\": \"peru\"}, \"name\": \"team=Brown\", \"offsetgroup\": \"team=Brown\", \"orientation\": \"v\", \"showlegend\": true, \"type\": \"histogram\", \"x\": [\"Brown\", \"Brown\", \"Brown\", \"Brown\", \"Brown\", \"Brown\", \"Brown\", \"Brown\", \"Brown\", \"Brown\", \"Brown\", \"Brown\", \"Brown\", \"Brown\", \"Brown\", \"Brown\", \"Brown\", \"Brown\", \"Brown\", \"Brown\", \"Brown\", \"Brown\", \"Brown\", \"Brown\", \"Brown\", \"Brown\", \"Brown\", \"Brown\", \"Brown\", \"Brown\", \"Brown\", \"Brown\", \"Brown\", \"Brown\", \"Brown\", \"Brown\"], \"xaxis\": \"x\", \"y\": [false, true, false, false, false, false, true, false, true, true, false, false, false, false, false, false, false, true, false, true, true, false, true, false, false, true, false, true, false, true, false, true, true, false, true, false], \"yaxis\": \"y\"}, {\"alignmentgroup\": \"True\", \"bingroup\": \"x\", \"hoverlabel\": {\"namelength\": 0}, \"hovertemplate\": \"team=%{x}<br>count of late=%{y}\", \"legendgroup\": \"team=Green\", \"marker\": {\"color\": \"mediumseagreen\"}, \"name\": \"team=Green\", \"offsetgroup\": \"team=Green\", \"orientation\": \"v\", \"showlegend\": true, \"type\": \"histogram\", \"x\": [\"Green\", \"Green\", \"Green\", \"Green\", \"Green\", \"Green\", \"Green\", \"Green\", \"Green\", \"Green\", \"Green\", \"Green\", \"Green\", \"Green\", \"Green\", \"Green\", \"Green\", \"Green\", \"Green\", \"Green\", \"Green\", \"Green\", \"Green\", \"Green\", \"Green\", \"Green\", \"Green\", \"Green\", \"Green\", \"Green\", \"Green\", \"Green\", \"Green\", \"Green\", \"Green\", \"Green\", \"Green\", \"Green\", \"Green\"], \"xaxis\": \"x\", \"y\": [false, false, true, true, true, false, false, true, false, true, false, false, true, false, false, true, false, false, false, false, false, true, true, false, true, false, true, false, true, false, false, true, false, false, false, true, false, false, false], \"yaxis\": \"y\"}, {\"alignmentgroup\": \"True\", \"bingroup\": \"x\", \"hoverlabel\": {\"namelength\": 0}, \"hovertemplate\": \"team=%{x}<br>count of late=%{y}\", \"legendgroup\": \"team=Pink\", \"marker\": {\"color\": \"hotpink\"}, \"name\": \"team=Pink\", \"offsetgroup\": \"team=Pink\", \"orientation\": \"v\", \"showlegend\": true, \"type\": \"histogram\", \"x\": [\"Pink\", \"Pink\", \"Pink\", \"Pink\", \"Pink\", \"Pink\", \"Pink\", \"Pink\", \"Pink\", \"Pink\", \"Pink\", \"Pink\", \"Pink\", \"Pink\", \"Pink\", \"Pink\", \"Pink\", \"Pink\", \"Pink\", \"Pink\", \"Pink\", \"Pink\", \"Pink\", \"Pink\", \"Pink\", \"Pink\", \"Pink\", \"Pink\", \"Pink\", \"Pink\", \"Pink\", \"Pink\", \"Pink\", \"Pink\", \"Pink\", \"Pink\", \"Pink\"], \"xaxis\": \"x\", \"y\": [false, false, true, false, false, true, true, false, false, false, true, true, false, true, true, true, true, true, true, false, false, false, false, false, false, false, false, false, false, false, false, false, false, true, true, false, true], \"yaxis\": \"y\"}, {\"alignmentgroup\": \"True\", \"bingroup\": \"x\", \"hoverlabel\": {\"namelength\": 0}, \"hovertemplate\": \"team=%{x}<br>count of late=%{y}\", \"legendgroup\": \"team=Red\", \"marker\": {\"color\": \"tomato\"}, \"name\": \"team=Red\", \"offsetgroup\": \"team=Red\", \"orientation\": \"v\", \"showlegend\": true, \"type\": \"histogram\", \"x\": [\"Red\", \"Red\", \"Red\", \"Red\", \"Red\", \"Red\", \"Red\", \"Red\", \"Red\", \"Red\", \"Red\", \"Red\", \"Red\", \"Red\", \"Red\", \"Red\", \"Red\", \"Red\", \"Red\", \"Red\", \"Red\", \"Red\", \"Red\", \"Red\", \"Red\", \"Red\", \"Red\", \"Red\", \"Red\", \"Red\", \"Red\", \"Red\", \"Red\", \"Red\", \"Red\", \"Red\", \"Red\"], \"xaxis\": \"x\", \"y\": [true, true, true, false, false, true, true, false, false, false, false, false, false, false, true, false, false, false, false, false, false, false, false, true, false, false, false, false, true, false, true, false, true, false, false, false, true], \"yaxis\": \"y\"}, {\"alignmentgroup\": \"True\", \"bingroup\": \"x\", \"hoverlabel\": {\"namelength\": 0}, \"hovertemplate\": \"team=%{x}<br>count of late=%{y}\", \"legendgroup\": \"team=Yellow\", \"marker\": {\"color\": \"gold\"}, \"name\": \"team=Yellow\", \"offsetgroup\": \"team=Yellow\", \"orientation\": \"v\", \"showlegend\": true, \"type\": \"histogram\", \"x\": [\"Yellow\", \"Yellow\", \"Yellow\", \"Yellow\", \"Yellow\", \"Yellow\", \"Yellow\", \"Yellow\", \"Yellow\", \"Yellow\", \"Yellow\", \"Yellow\", \"Yellow\", \"Yellow\", \"Yellow\", \"Yellow\", \"Yellow\", \"Yellow\", \"Yellow\", \"Yellow\", \"Yellow\", \"Yellow\", \"Yellow\", \"Yellow\", \"Yellow\", \"Yellow\", \"Yellow\", \"Yellow\", \"Yellow\", \"Yellow\", \"Yellow\"], \"xaxis\": \"x\", \"y\": [true, false, false, false, false, true, false, false, false, false, false, false, false, false, true, false, false, false, false, false, false, false, false, true, true, true, true, false, false, true, false], \"yaxis\": \"y\"}, {\"alignmentgroup\": \"True\", \"bingroup\": \"x\", \"hoverlabel\": {\"namelength\": 0}, \"hovertemplate\": \"team=%{x}<br>count of late=%{y}\", \"legendgroup\": \"team=White\", \"marker\": {\"color\": \"white\"}, \"name\": \"team=White\", \"offsetgroup\": \"team=White\", \"orientation\": \"v\", \"showlegend\": true, \"type\": \"histogram\", \"x\": [\"White\", \"White\", \"White\", \"White\", \"White\", \"White\", \"White\", \"White\", \"White\", \"White\", \"White\", \"White\", \"White\", \"White\", \"White\", \"White\", \"White\", \"White\", \"White\", \"White\", \"White\", \"White\", \"White\"], \"xaxis\": \"x\", \"y\": [true, true, true, true, true, false, true, true, true, false, false, false, false, false, false, false, false, false, false, false, false, false, true], \"yaxis\": \"y\"}, {\"alignmentgroup\": \"True\", \"bingroup\": \"x\", \"hoverlabel\": {\"namelength\": 0}, \"hovertemplate\": \"team=%{x}<br>count of late=%{y}\", \"legendgroup\": \"team=Purple\", \"marker\": {\"color\": \"mediumpurple\"}, \"name\": \"team=Purple\", \"offsetgroup\": \"team=Purple\", \"orientation\": \"v\", \"showlegend\": true, \"type\": \"histogram\", \"x\": [\"Purple\", \"Purple\", \"Purple\", \"Purple\", \"Purple\", \"Purple\", \"Purple\", \"Purple\", \"Purple\", \"Purple\", \"Purple\", \"Purple\", \"Purple\", \"Purple\", \"Purple\"], \"xaxis\": \"x\", \"y\": [false, true, true, false, false, false, true, false, false, true, true, false, false, false, false], \"yaxis\": \"y\"}],\n",
              "                        {\"barmode\": \"relative\", \"legend\": {\"tracegroupgap\": 0}, \"showlegend\": false, \"template\": {\"data\": {\"bar\": [{\"error_x\": {\"color\": \"#2a3f5f\"}, \"error_y\": {\"color\": \"#2a3f5f\"}, \"marker\": {\"line\": {\"color\": \"#E5ECF6\", \"width\": 0.5}}, \"type\": \"bar\"}], \"barpolar\": [{\"marker\": {\"line\": {\"color\": \"#E5ECF6\", \"width\": 0.5}}, \"type\": \"barpolar\"}], \"carpet\": [{\"aaxis\": {\"endlinecolor\": \"#2a3f5f\", \"gridcolor\": \"white\", \"linecolor\": \"white\", \"minorgridcolor\": \"white\", \"startlinecolor\": \"#2a3f5f\"}, \"baxis\": {\"endlinecolor\": \"#2a3f5f\", \"gridcolor\": \"white\", \"linecolor\": \"white\", \"minorgridcolor\": \"white\", \"startlinecolor\": \"#2a3f5f\"}, \"type\": \"carpet\"}], \"choropleth\": [{\"colorbar\": {\"outlinewidth\": 0, \"ticks\": \"\"}, \"type\": \"choropleth\"}], \"contour\": [{\"colorbar\": {\"outlinewidth\": 0, \"ticks\": \"\"}, \"colorscale\": [[0.0, \"#0d0887\"], [0.1111111111111111, \"#46039f\"], [0.2222222222222222, \"#7201a8\"], [0.3333333333333333, \"#9c179e\"], [0.4444444444444444, \"#bd3786\"], [0.5555555555555556, \"#d8576b\"], [0.6666666666666666, \"#ed7953\"], [0.7777777777777778, \"#fb9f3a\"], [0.8888888888888888, \"#fdca26\"], [1.0, \"#f0f921\"]], \"type\": \"contour\"}], \"contourcarpet\": [{\"colorbar\": {\"outlinewidth\": 0, \"ticks\": \"\"}, \"type\": \"contourcarpet\"}], \"heatmap\": [{\"colorbar\": {\"outlinewidth\": 0, \"ticks\": \"\"}, \"colorscale\": [[0.0, \"#0d0887\"], [0.1111111111111111, \"#46039f\"], [0.2222222222222222, \"#7201a8\"], [0.3333333333333333, \"#9c179e\"], [0.4444444444444444, \"#bd3786\"], [0.5555555555555556, \"#d8576b\"], [0.6666666666666666, \"#ed7953\"], [0.7777777777777778, \"#fb9f3a\"], [0.8888888888888888, \"#fdca26\"], [1.0, \"#f0f921\"]], \"type\": \"heatmap\"}], \"heatmapgl\": [{\"colorbar\": {\"outlinewidth\": 0, \"ticks\": \"\"}, \"colorscale\": [[0.0, \"#0d0887\"], [0.1111111111111111, \"#46039f\"], [0.2222222222222222, \"#7201a8\"], [0.3333333333333333, \"#9c179e\"], [0.4444444444444444, \"#bd3786\"], [0.5555555555555556, \"#d8576b\"], [0.6666666666666666, \"#ed7953\"], [0.7777777777777778, \"#fb9f3a\"], [0.8888888888888888, \"#fdca26\"], [1.0, \"#f0f921\"]], \"type\": \"heatmapgl\"}], \"histogram\": [{\"marker\": {\"colorbar\": {\"outlinewidth\": 0, \"ticks\": \"\"}}, \"type\": \"histogram\"}], \"histogram2d\": [{\"colorbar\": {\"outlinewidth\": 0, \"ticks\": \"\"}, \"colorscale\": [[0.0, \"#0d0887\"], [0.1111111111111111, \"#46039f\"], [0.2222222222222222, \"#7201a8\"], [0.3333333333333333, \"#9c179e\"], [0.4444444444444444, \"#bd3786\"], [0.5555555555555556, \"#d8576b\"], [0.6666666666666666, \"#ed7953\"], [0.7777777777777778, \"#fb9f3a\"], [0.8888888888888888, \"#fdca26\"], [1.0, \"#f0f921\"]], \"type\": \"histogram2d\"}], \"histogram2dcontour\": [{\"colorbar\": {\"outlinewidth\": 0, \"ticks\": \"\"}, \"colorscale\": [[0.0, \"#0d0887\"], [0.1111111111111111, \"#46039f\"], [0.2222222222222222, \"#7201a8\"], [0.3333333333333333, \"#9c179e\"], [0.4444444444444444, \"#bd3786\"], [0.5555555555555556, \"#d8576b\"], [0.6666666666666666, \"#ed7953\"], [0.7777777777777778, \"#fb9f3a\"], [0.8888888888888888, \"#fdca26\"], [1.0, \"#f0f921\"]], \"type\": \"histogram2dcontour\"}], \"mesh3d\": [{\"colorbar\": {\"outlinewidth\": 0, \"ticks\": \"\"}, \"type\": \"mesh3d\"}], \"parcoords\": [{\"line\": {\"colorbar\": {\"outlinewidth\": 0, \"ticks\": \"\"}}, \"type\": \"parcoords\"}], \"pie\": [{\"automargin\": true, \"type\": \"pie\"}], \"scatter\": [{\"marker\": {\"colorbar\": {\"outlinewidth\": 0, \"ticks\": \"\"}}, \"type\": \"scatter\"}], \"scatter3d\": [{\"line\": {\"colorbar\": {\"outlinewidth\": 0, \"ticks\": \"\"}}, \"marker\": {\"colorbar\": {\"outlinewidth\": 0, \"ticks\": \"\"}}, \"type\": \"scatter3d\"}], \"scattercarpet\": [{\"marker\": {\"colorbar\": {\"outlinewidth\": 0, \"ticks\": \"\"}}, \"type\": \"scattercarpet\"}], \"scattergeo\": [{\"marker\": {\"colorbar\": {\"outlinewidth\": 0, \"ticks\": \"\"}}, \"type\": \"scattergeo\"}], \"scattergl\": [{\"marker\": {\"colorbar\": {\"outlinewidth\": 0, \"ticks\": \"\"}}, \"type\": \"scattergl\"}], \"scattermapbox\": [{\"marker\": {\"colorbar\": {\"outlinewidth\": 0, \"ticks\": \"\"}}, \"type\": \"scattermapbox\"}], \"scatterpolar\": [{\"marker\": {\"colorbar\": {\"outlinewidth\": 0, \"ticks\": \"\"}}, \"type\": \"scatterpolar\"}], \"scatterpolargl\": [{\"marker\": {\"colorbar\": {\"outlinewidth\": 0, \"ticks\": \"\"}}, \"type\": \"scatterpolargl\"}], \"scatterternary\": [{\"marker\": {\"colorbar\": {\"outlinewidth\": 0, \"ticks\": \"\"}}, \"type\": \"scatterternary\"}], \"surface\": [{\"colorbar\": {\"outlinewidth\": 0, \"ticks\": \"\"}, \"colorscale\": [[0.0, \"#0d0887\"], [0.1111111111111111, \"#46039f\"], [0.2222222222222222, \"#7201a8\"], [0.3333333333333333, \"#9c179e\"], [0.4444444444444444, \"#bd3786\"], [0.5555555555555556, \"#d8576b\"], [0.6666666666666666, \"#ed7953\"], [0.7777777777777778, \"#fb9f3a\"], [0.8888888888888888, \"#fdca26\"], [1.0, \"#f0f921\"]], \"type\": \"surface\"}], \"table\": [{\"cells\": {\"fill\": {\"color\": \"#EBF0F8\"}, \"line\": {\"color\": \"white\"}}, \"header\": {\"fill\": {\"color\": \"#C8D4E3\"}, \"line\": {\"color\": \"white\"}}, \"type\": \"table\"}]}, \"layout\": {\"annotationdefaults\": {\"arrowcolor\": \"#2a3f5f\", \"arrowhead\": 0, \"arrowwidth\": 1}, \"coloraxis\": {\"colorbar\": {\"outlinewidth\": 0, \"ticks\": \"\"}}, \"colorscale\": {\"diverging\": [[0, \"#8e0152\"], [0.1, \"#c51b7d\"], [0.2, \"#de77ae\"], [0.3, \"#f1b6da\"], [0.4, \"#fde0ef\"], [0.5, \"#f7f7f7\"], [0.6, \"#e6f5d0\"], [0.7, \"#b8e186\"], [0.8, \"#7fbc41\"], [0.9, \"#4d9221\"], [1, \"#276419\"]], \"sequential\": [[0.0, \"#0d0887\"], [0.1111111111111111, \"#46039f\"], [0.2222222222222222, \"#7201a8\"], [0.3333333333333333, \"#9c179e\"], [0.4444444444444444, \"#bd3786\"], [0.5555555555555556, \"#d8576b\"], [0.6666666666666666, \"#ed7953\"], [0.7777777777777778, \"#fb9f3a\"], [0.8888888888888888, \"#fdca26\"], [1.0, \"#f0f921\"]], \"sequentialminus\": [[0.0, \"#0d0887\"], [0.1111111111111111, \"#46039f\"], [0.2222222222222222, \"#7201a8\"], [0.3333333333333333, \"#9c179e\"], [0.4444444444444444, \"#bd3786\"], [0.5555555555555556, \"#d8576b\"], [0.6666666666666666, \"#ed7953\"], [0.7777777777777778, \"#fb9f3a\"], [0.8888888888888888, \"#fdca26\"], [1.0, \"#f0f921\"]]}, \"colorway\": [\"#636efa\", \"#EF553B\", \"#00cc96\", \"#ab63fa\", \"#FFA15A\", \"#19d3f3\", \"#FF6692\", \"#B6E880\", \"#FF97FF\", \"#FECB52\"], \"font\": {\"color\": \"#2a3f5f\"}, \"geo\": {\"bgcolor\": \"white\", \"lakecolor\": \"white\", \"landcolor\": \"#E5ECF6\", \"showlakes\": true, \"showland\": true, \"subunitcolor\": \"white\"}, \"hoverlabel\": {\"align\": \"left\"}, \"hovermode\": \"closest\", \"mapbox\": {\"style\": \"light\"}, \"paper_bgcolor\": \"white\", \"plot_bgcolor\": \"#E5ECF6\", \"polar\": {\"angularaxis\": {\"gridcolor\": \"white\", \"linecolor\": \"white\", \"ticks\": \"\"}, \"bgcolor\": \"#E5ECF6\", \"radialaxis\": {\"gridcolor\": \"white\", \"linecolor\": \"white\", \"ticks\": \"\"}}, \"scene\": {\"xaxis\": {\"backgroundcolor\": \"#E5ECF6\", \"gridcolor\": \"white\", \"gridwidth\": 2, \"linecolor\": \"white\", \"showbackground\": true, \"ticks\": \"\", \"zerolinecolor\": \"white\"}, \"yaxis\": {\"backgroundcolor\": \"#E5ECF6\", \"gridcolor\": \"white\", \"gridwidth\": 2, \"linecolor\": \"white\", \"showbackground\": true, \"ticks\": \"\", \"zerolinecolor\": \"white\"}, \"zaxis\": {\"backgroundcolor\": \"#E5ECF6\", \"gridcolor\": \"white\", \"gridwidth\": 2, \"linecolor\": \"white\", \"showbackground\": true, \"ticks\": \"\", \"zerolinecolor\": \"white\"}}, \"shapedefaults\": {\"line\": {\"color\": \"#2a3f5f\"}}, \"ternary\": {\"aaxis\": {\"gridcolor\": \"white\", \"linecolor\": \"white\", \"ticks\": \"\"}, \"baxis\": {\"gridcolor\": \"white\", \"linecolor\": \"white\", \"ticks\": \"\"}, \"bgcolor\": \"#E5ECF6\", \"caxis\": {\"gridcolor\": \"white\", \"linecolor\": \"white\", \"ticks\": \"\"}}, \"title\": {\"x\": 0.05}, \"xaxis\": {\"automargin\": true, \"gridcolor\": \"white\", \"linecolor\": \"white\", \"ticks\": \"\", \"title\": {\"standoff\": 15}, \"zerolinecolor\": \"white\", \"zerolinewidth\": 2}, \"yaxis\": {\"automargin\": true, \"gridcolor\": \"white\", \"linecolor\": \"white\", \"ticks\": \"\", \"title\": {\"standoff\": 15}, \"zerolinecolor\": \"white\", \"zerolinewidth\": 2}}}, \"title\": {\"text\": \"Distribution of late questions in each team\"}, \"xaxis\": {\"anchor\": \"y\", \"categoryarray\": [\"Black\", \"Blue\", \"Brown\", \"Green\", \"Pink\", \"Red\", \"Yellow\", \"White\", \"Purple\"], \"categoryorder\": \"array\", \"domain\": [0.0, 1.0], \"title\": {\"text\": \"team\"}}, \"yaxis\": {\"anchor\": \"x\", \"domain\": [0.0, 1.0], \"title\": {\"text\": \"count of late\"}}},\n",
              "                        {\"responsive\": true}\n",
              "                    ).then(function(){\n",
              "                            \n",
              "var gd = document.getElementById('40d7a7ee-8467-415a-9ee8-cf267f4ff8e8');\n",
              "var x = new MutationObserver(function (mutations, observer) {{\n",
              "        var display = window.getComputedStyle(gd).display;\n",
              "        if (!display || display === 'none') {{\n",
              "            console.log([gd, 'removed!']);\n",
              "            Plotly.purge(gd);\n",
              "            observer.disconnect();\n",
              "        }}\n",
              "}});\n",
              "\n",
              "// Listen for the removal of the full notebook cells\n",
              "var notebookContainer = gd.closest('#notebook-container');\n",
              "if (notebookContainer) {{\n",
              "    x.observe(notebookContainer, {childList: true});\n",
              "}}\n",
              "\n",
              "// Listen for the clearing of the current output cell\n",
              "var outputEl = gd.closest('.output');\n",
              "if (outputEl) {{\n",
              "    x.observe(outputEl, {childList: true});\n",
              "}}\n",
              "\n",
              "                        })\n",
              "                };\n",
              "                \n",
              "            </script>\n",
              "        </div>\n",
              "</body>\n",
              "</html>"
            ]
          },
          "metadata": {
            "tags": []
          }
        }
      ]
    },
    {
      "cell_type": "code",
      "metadata": {
        "id": "hn1ACg2wafC3",
        "outputId": "7cd7fcb8-c38f-4958-ebec-26e22b62fe8a",
        "colab": {
          "base_uri": "https://localhost:8080/",
          "height": 542
        }
      },
      "source": [
        "members_late = team_lateness_boolean[[\"team\", \"late\"]].groupby(\"team\").sum()\n",
        "team_size = team_lateness_boolean[[\"team\", \"user_id\"]].groupby(\"team\").nunique()\n",
        "\n",
        "members_late[\"num_members\"] = team_size\n",
        "members_late[\"perc_late\"] = members_late[\"late\"] / members_late[\"num_members\"]\n",
        "members_late = members_late.reset_index()\n",
        "\n",
        "# Authors: Yan and Tash\n",
        "# Supporter: Johanna\n",
        "# Date: \n",
        "fig = px.bar(members_late,x=\"team\",y=\"perc_late\",color = \"team\", color_discrete_map = {'Pink': 'hotpink','Green': 'mediumseagreen', 'Yellow': 'gold','Black': 'black','Blue': 'royalblue','Red': 'tomato', 'Brown': 'peru', 'White': 'white','Purple': 'mediumpurple'}, title = \"Proportion of members in the team who made a late question in cycles 1 and 2\"labels={\n",
        "                     \"team\": \"Groups\",\n",
        "                     \"perc_late\": \"Percentage of questions submitted late\"})\n",
        "\n",
        "fig.update_layout(showlegend=False) "
      ],
      "execution_count": 112,
      "outputs": [
        {
          "output_type": "display_data",
          "data": {
            "text/html": [
              "<html>\n",
              "<head><meta charset=\"utf-8\" /></head>\n",
              "<body>\n",
              "    <div>\n",
              "            <script src=\"https://cdnjs.cloudflare.com/ajax/libs/mathjax/2.7.5/MathJax.js?config=TeX-AMS-MML_SVG\"></script><script type=\"text/javascript\">if (window.MathJax) {MathJax.Hub.Config({SVG: {font: \"STIX-Web\"}});}</script>\n",
              "                <script type=\"text/javascript\">window.PlotlyConfig = {MathJaxConfig: 'local'};</script>\n",
              "        <script src=\"https://cdn.plot.ly/plotly-latest.min.js\"></script>    \n",
              "            <div id=\"073d760d-b6b6-4f22-8e76-d47483a923db\" class=\"plotly-graph-div\" style=\"height:525px; width:100%;\"></div>\n",
              "            <script type=\"text/javascript\">\n",
              "                \n",
              "                    window.PLOTLYENV=window.PLOTLYENV || {};\n",
              "                    \n",
              "                if (document.getElementById(\"073d760d-b6b6-4f22-8e76-d47483a923db\")) {\n",
              "                    Plotly.newPlot(\n",
              "                        '073d760d-b6b6-4f22-8e76-d47483a923db',\n",
              "                        [{\"alignmentgroup\": \"True\", \"hoverlabel\": {\"namelength\": 0}, \"hovertemplate\": \"team=%{x}<br>perc_late=%{y}\", \"legendgroup\": \"team=Black\", \"marker\": {\"color\": \"black\"}, \"name\": \"team=Black\", \"offsetgroup\": \"team=Black\", \"orientation\": \"v\", \"showlegend\": true, \"textposition\": \"auto\", \"type\": \"bar\", \"x\": [\"Black\"], \"xaxis\": \"x\", \"y\": [0.20588235294117646], \"yaxis\": \"y\"}, {\"alignmentgroup\": \"True\", \"hoverlabel\": {\"namelength\": 0}, \"hovertemplate\": \"team=%{x}<br>perc_late=%{y}\", \"legendgroup\": \"team=Blue\", \"marker\": {\"color\": \"royalblue\"}, \"name\": \"team=Blue\", \"offsetgroup\": \"team=Blue\", \"orientation\": \"v\", \"showlegend\": true, \"textposition\": \"auto\", \"type\": \"bar\", \"x\": [\"Blue\"], \"xaxis\": \"x\", \"y\": [0.38235294117647056], \"yaxis\": \"y\"}, {\"alignmentgroup\": \"True\", \"hoverlabel\": {\"namelength\": 0}, \"hovertemplate\": \"team=%{x}<br>perc_late=%{y}\", \"legendgroup\": \"team=Brown\", \"marker\": {\"color\": \"peru\"}, \"name\": \"team=Brown\", \"offsetgroup\": \"team=Brown\", \"orientation\": \"v\", \"showlegend\": true, \"textposition\": \"auto\", \"type\": \"bar\", \"x\": [\"Brown\"], \"xaxis\": \"x\", \"y\": [0.3888888888888889], \"yaxis\": \"y\"}, {\"alignmentgroup\": \"True\", \"hoverlabel\": {\"namelength\": 0}, \"hovertemplate\": \"team=%{x}<br>perc_late=%{y}\", \"legendgroup\": \"team=Green\", \"marker\": {\"color\": \"mediumseagreen\"}, \"name\": \"team=Green\", \"offsetgroup\": \"team=Green\", \"orientation\": \"v\", \"showlegend\": true, \"textposition\": \"auto\", \"type\": \"bar\", \"x\": [\"Green\"], \"xaxis\": \"x\", \"y\": [0.358974358974359], \"yaxis\": \"y\"}, {\"alignmentgroup\": \"True\", \"hoverlabel\": {\"namelength\": 0}, \"hovertemplate\": \"team=%{x}<br>perc_late=%{y}\", \"legendgroup\": \"team=Pink\", \"marker\": {\"color\": \"hotpink\"}, \"name\": \"team=Pink\", \"offsetgroup\": \"team=Pink\", \"orientation\": \"v\", \"showlegend\": true, \"textposition\": \"auto\", \"type\": \"bar\", \"x\": [\"Pink\"], \"xaxis\": \"x\", \"y\": [0.3783783783783784], \"yaxis\": \"y\"}, {\"alignmentgroup\": \"True\", \"hoverlabel\": {\"namelength\": 0}, \"hovertemplate\": \"team=%{x}<br>perc_late=%{y}\", \"legendgroup\": \"team=Purple\", \"marker\": {\"color\": \"mediumpurple\"}, \"name\": \"team=Purple\", \"offsetgroup\": \"team=Purple\", \"orientation\": \"v\", \"showlegend\": true, \"textposition\": \"auto\", \"type\": \"bar\", \"x\": [\"Purple\"], \"xaxis\": \"x\", \"y\": [0.3333333333333333], \"yaxis\": \"y\"}, {\"alignmentgroup\": \"True\", \"hoverlabel\": {\"namelength\": 0}, \"hovertemplate\": \"team=%{x}<br>perc_late=%{y}\", \"legendgroup\": \"team=Red\", \"marker\": {\"color\": \"tomato\"}, \"name\": \"team=Red\", \"offsetgroup\": \"team=Red\", \"orientation\": \"v\", \"showlegend\": true, \"textposition\": \"auto\", \"type\": \"bar\", \"x\": [\"Red\"], \"xaxis\": \"x\", \"y\": [0.2972972972972973], \"yaxis\": \"y\"}, {\"alignmentgroup\": \"True\", \"hoverlabel\": {\"namelength\": 0}, \"hovertemplate\": \"team=%{x}<br>perc_late=%{y}\", \"legendgroup\": \"team=White\", \"marker\": {\"color\": \"white\"}, \"name\": \"team=White\", \"offsetgroup\": \"team=White\", \"orientation\": \"v\", \"showlegend\": true, \"textposition\": \"auto\", \"type\": \"bar\", \"x\": [\"White\"], \"xaxis\": \"x\", \"y\": [0.391304347826087], \"yaxis\": \"y\"}, {\"alignmentgroup\": \"True\", \"hoverlabel\": {\"namelength\": 0}, \"hovertemplate\": \"team=%{x}<br>perc_late=%{y}\", \"legendgroup\": \"team=Yellow\", \"marker\": {\"color\": \"gold\"}, \"name\": \"team=Yellow\", \"offsetgroup\": \"team=Yellow\", \"orientation\": \"v\", \"showlegend\": true, \"textposition\": \"auto\", \"type\": \"bar\", \"x\": [\"Yellow\"], \"xaxis\": \"x\", \"y\": [0.25806451612903225], \"yaxis\": \"y\"}],\n",
              "                        {\"barmode\": \"relative\", \"legend\": {\"tracegroupgap\": 0}, \"showlegend\": false, \"template\": {\"data\": {\"bar\": [{\"error_x\": {\"color\": \"#2a3f5f\"}, \"error_y\": {\"color\": \"#2a3f5f\"}, \"marker\": {\"line\": {\"color\": \"#E5ECF6\", \"width\": 0.5}}, \"type\": \"bar\"}], \"barpolar\": [{\"marker\": {\"line\": {\"color\": \"#E5ECF6\", \"width\": 0.5}}, \"type\": \"barpolar\"}], \"carpet\": [{\"aaxis\": {\"endlinecolor\": \"#2a3f5f\", \"gridcolor\": \"white\", \"linecolor\": \"white\", \"minorgridcolor\": \"white\", \"startlinecolor\": \"#2a3f5f\"}, \"baxis\": {\"endlinecolor\": \"#2a3f5f\", \"gridcolor\": \"white\", \"linecolor\": \"white\", \"minorgridcolor\": \"white\", \"startlinecolor\": \"#2a3f5f\"}, \"type\": \"carpet\"}], \"choropleth\": [{\"colorbar\": {\"outlinewidth\": 0, \"ticks\": \"\"}, \"type\": \"choropleth\"}], \"contour\": [{\"colorbar\": {\"outlinewidth\": 0, \"ticks\": \"\"}, \"colorscale\": [[0.0, \"#0d0887\"], [0.1111111111111111, \"#46039f\"], [0.2222222222222222, \"#7201a8\"], [0.3333333333333333, \"#9c179e\"], [0.4444444444444444, \"#bd3786\"], [0.5555555555555556, \"#d8576b\"], [0.6666666666666666, \"#ed7953\"], [0.7777777777777778, \"#fb9f3a\"], [0.8888888888888888, \"#fdca26\"], [1.0, \"#f0f921\"]], \"type\": \"contour\"}], \"contourcarpet\": [{\"colorbar\": {\"outlinewidth\": 0, \"ticks\": \"\"}, \"type\": \"contourcarpet\"}], \"heatmap\": [{\"colorbar\": {\"outlinewidth\": 0, \"ticks\": \"\"}, \"colorscale\": [[0.0, \"#0d0887\"], [0.1111111111111111, \"#46039f\"], [0.2222222222222222, \"#7201a8\"], [0.3333333333333333, \"#9c179e\"], [0.4444444444444444, \"#bd3786\"], [0.5555555555555556, \"#d8576b\"], [0.6666666666666666, \"#ed7953\"], [0.7777777777777778, \"#fb9f3a\"], [0.8888888888888888, \"#fdca26\"], [1.0, \"#f0f921\"]], \"type\": \"heatmap\"}], \"heatmapgl\": [{\"colorbar\": {\"outlinewidth\": 0, \"ticks\": \"\"}, \"colorscale\": [[0.0, \"#0d0887\"], [0.1111111111111111, \"#46039f\"], [0.2222222222222222, \"#7201a8\"], [0.3333333333333333, \"#9c179e\"], [0.4444444444444444, \"#bd3786\"], [0.5555555555555556, \"#d8576b\"], [0.6666666666666666, \"#ed7953\"], [0.7777777777777778, \"#fb9f3a\"], [0.8888888888888888, \"#fdca26\"], [1.0, \"#f0f921\"]], \"type\": \"heatmapgl\"}], \"histogram\": [{\"marker\": {\"colorbar\": {\"outlinewidth\": 0, \"ticks\": \"\"}}, \"type\": \"histogram\"}], \"histogram2d\": [{\"colorbar\": {\"outlinewidth\": 0, \"ticks\": \"\"}, \"colorscale\": [[0.0, \"#0d0887\"], [0.1111111111111111, \"#46039f\"], [0.2222222222222222, \"#7201a8\"], [0.3333333333333333, \"#9c179e\"], [0.4444444444444444, \"#bd3786\"], [0.5555555555555556, \"#d8576b\"], [0.6666666666666666, \"#ed7953\"], [0.7777777777777778, \"#fb9f3a\"], [0.8888888888888888, \"#fdca26\"], [1.0, \"#f0f921\"]], \"type\": \"histogram2d\"}], \"histogram2dcontour\": [{\"colorbar\": {\"outlinewidth\": 0, \"ticks\": \"\"}, \"colorscale\": [[0.0, \"#0d0887\"], [0.1111111111111111, \"#46039f\"], [0.2222222222222222, \"#7201a8\"], [0.3333333333333333, \"#9c179e\"], [0.4444444444444444, \"#bd3786\"], [0.5555555555555556, \"#d8576b\"], [0.6666666666666666, \"#ed7953\"], [0.7777777777777778, \"#fb9f3a\"], [0.8888888888888888, \"#fdca26\"], [1.0, \"#f0f921\"]], \"type\": \"histogram2dcontour\"}], \"mesh3d\": [{\"colorbar\": {\"outlinewidth\": 0, \"ticks\": \"\"}, \"type\": \"mesh3d\"}], \"parcoords\": [{\"line\": {\"colorbar\": {\"outlinewidth\": 0, \"ticks\": \"\"}}, \"type\": \"parcoords\"}], \"pie\": [{\"automargin\": true, \"type\": \"pie\"}], \"scatter\": [{\"marker\": {\"colorbar\": {\"outlinewidth\": 0, \"ticks\": \"\"}}, \"type\": \"scatter\"}], \"scatter3d\": [{\"line\": {\"colorbar\": {\"outlinewidth\": 0, \"ticks\": \"\"}}, \"marker\": {\"colorbar\": {\"outlinewidth\": 0, \"ticks\": \"\"}}, \"type\": \"scatter3d\"}], \"scattercarpet\": [{\"marker\": {\"colorbar\": {\"outlinewidth\": 0, \"ticks\": \"\"}}, \"type\": \"scattercarpet\"}], \"scattergeo\": [{\"marker\": {\"colorbar\": {\"outlinewidth\": 0, \"ticks\": \"\"}}, \"type\": \"scattergeo\"}], \"scattergl\": [{\"marker\": {\"colorbar\": {\"outlinewidth\": 0, \"ticks\": \"\"}}, \"type\": \"scattergl\"}], \"scattermapbox\": [{\"marker\": {\"colorbar\": {\"outlinewidth\": 0, \"ticks\": \"\"}}, \"type\": \"scattermapbox\"}], \"scatterpolar\": [{\"marker\": {\"colorbar\": {\"outlinewidth\": 0, \"ticks\": \"\"}}, \"type\": \"scatterpolar\"}], \"scatterpolargl\": [{\"marker\": {\"colorbar\": {\"outlinewidth\": 0, \"ticks\": \"\"}}, \"type\": \"scatterpolargl\"}], \"scatterternary\": [{\"marker\": {\"colorbar\": {\"outlinewidth\": 0, \"ticks\": \"\"}}, \"type\": \"scatterternary\"}], \"surface\": [{\"colorbar\": {\"outlinewidth\": 0, \"ticks\": \"\"}, \"colorscale\": [[0.0, \"#0d0887\"], [0.1111111111111111, \"#46039f\"], [0.2222222222222222, \"#7201a8\"], [0.3333333333333333, \"#9c179e\"], [0.4444444444444444, \"#bd3786\"], [0.5555555555555556, \"#d8576b\"], [0.6666666666666666, \"#ed7953\"], [0.7777777777777778, \"#fb9f3a\"], [0.8888888888888888, \"#fdca26\"], [1.0, \"#f0f921\"]], \"type\": \"surface\"}], \"table\": [{\"cells\": {\"fill\": {\"color\": \"#EBF0F8\"}, \"line\": {\"color\": \"white\"}}, \"header\": {\"fill\": {\"color\": \"#C8D4E3\"}, \"line\": {\"color\": \"white\"}}, \"type\": \"table\"}]}, \"layout\": {\"annotationdefaults\": {\"arrowcolor\": \"#2a3f5f\", \"arrowhead\": 0, \"arrowwidth\": 1}, \"coloraxis\": {\"colorbar\": {\"outlinewidth\": 0, \"ticks\": \"\"}}, \"colorscale\": {\"diverging\": [[0, \"#8e0152\"], [0.1, \"#c51b7d\"], [0.2, \"#de77ae\"], [0.3, \"#f1b6da\"], [0.4, \"#fde0ef\"], [0.5, \"#f7f7f7\"], [0.6, \"#e6f5d0\"], [0.7, \"#b8e186\"], [0.8, \"#7fbc41\"], [0.9, \"#4d9221\"], [1, \"#276419\"]], \"sequential\": [[0.0, \"#0d0887\"], [0.1111111111111111, \"#46039f\"], [0.2222222222222222, \"#7201a8\"], [0.3333333333333333, \"#9c179e\"], [0.4444444444444444, \"#bd3786\"], [0.5555555555555556, \"#d8576b\"], [0.6666666666666666, \"#ed7953\"], [0.7777777777777778, \"#fb9f3a\"], [0.8888888888888888, \"#fdca26\"], [1.0, \"#f0f921\"]], \"sequentialminus\": [[0.0, \"#0d0887\"], [0.1111111111111111, \"#46039f\"], [0.2222222222222222, \"#7201a8\"], [0.3333333333333333, \"#9c179e\"], [0.4444444444444444, \"#bd3786\"], [0.5555555555555556, \"#d8576b\"], [0.6666666666666666, \"#ed7953\"], [0.7777777777777778, \"#fb9f3a\"], [0.8888888888888888, \"#fdca26\"], [1.0, \"#f0f921\"]]}, \"colorway\": [\"#636efa\", \"#EF553B\", \"#00cc96\", \"#ab63fa\", \"#FFA15A\", \"#19d3f3\", \"#FF6692\", \"#B6E880\", \"#FF97FF\", \"#FECB52\"], \"font\": {\"color\": \"#2a3f5f\"}, \"geo\": {\"bgcolor\": \"white\", \"lakecolor\": \"white\", \"landcolor\": \"#E5ECF6\", \"showlakes\": true, \"showland\": true, \"subunitcolor\": \"white\"}, \"hoverlabel\": {\"align\": \"left\"}, \"hovermode\": \"closest\", \"mapbox\": {\"style\": \"light\"}, \"paper_bgcolor\": \"white\", \"plot_bgcolor\": \"#E5ECF6\", \"polar\": {\"angularaxis\": {\"gridcolor\": \"white\", \"linecolor\": \"white\", \"ticks\": \"\"}, \"bgcolor\": \"#E5ECF6\", \"radialaxis\": {\"gridcolor\": \"white\", \"linecolor\": \"white\", \"ticks\": \"\"}}, \"scene\": {\"xaxis\": {\"backgroundcolor\": \"#E5ECF6\", \"gridcolor\": \"white\", \"gridwidth\": 2, \"linecolor\": \"white\", \"showbackground\": true, \"ticks\": \"\", \"zerolinecolor\": \"white\"}, \"yaxis\": {\"backgroundcolor\": \"#E5ECF6\", \"gridcolor\": \"white\", \"gridwidth\": 2, \"linecolor\": \"white\", \"showbackground\": true, \"ticks\": \"\", \"zerolinecolor\": \"white\"}, \"zaxis\": {\"backgroundcolor\": \"#E5ECF6\", \"gridcolor\": \"white\", \"gridwidth\": 2, \"linecolor\": \"white\", \"showbackground\": true, \"ticks\": \"\", \"zerolinecolor\": \"white\"}}, \"shapedefaults\": {\"line\": {\"color\": \"#2a3f5f\"}}, \"ternary\": {\"aaxis\": {\"gridcolor\": \"white\", \"linecolor\": \"white\", \"ticks\": \"\"}, \"baxis\": {\"gridcolor\": \"white\", \"linecolor\": \"white\", \"ticks\": \"\"}, \"bgcolor\": \"#E5ECF6\", \"caxis\": {\"gridcolor\": \"white\", \"linecolor\": \"white\", \"ticks\": \"\"}}, \"title\": {\"x\": 0.05}, \"xaxis\": {\"automargin\": true, \"gridcolor\": \"white\", \"linecolor\": \"white\", \"ticks\": \"\", \"title\": {\"standoff\": 15}, \"zerolinecolor\": \"white\", \"zerolinewidth\": 2}, \"yaxis\": {\"automargin\": true, \"gridcolor\": \"white\", \"linecolor\": \"white\", \"ticks\": \"\", \"title\": {\"standoff\": 15}, \"zerolinecolor\": \"white\", \"zerolinewidth\": 2}}}, \"title\": {\"text\": \"Proportion of members in the team who made a late question in cycles 1 and 2\"}, \"xaxis\": {\"anchor\": \"y\", \"categoryarray\": [\"Black\", \"Blue\", \"Brown\", \"Green\", \"Pink\", \"Purple\", \"Red\", \"White\", \"Yellow\"], \"categoryorder\": \"array\", \"domain\": [0.0, 1.0], \"title\": {\"text\": \"team\"}}, \"yaxis\": {\"anchor\": \"x\", \"domain\": [0.0, 1.0], \"title\": {\"text\": \"perc_late\"}}},\n",
              "                        {\"responsive\": true}\n",
              "                    ).then(function(){\n",
              "                            \n",
              "var gd = document.getElementById('073d760d-b6b6-4f22-8e76-d47483a923db');\n",
              "var x = new MutationObserver(function (mutations, observer) {{\n",
              "        var display = window.getComputedStyle(gd).display;\n",
              "        if (!display || display === 'none') {{\n",
              "            console.log([gd, 'removed!']);\n",
              "            Plotly.purge(gd);\n",
              "            observer.disconnect();\n",
              "        }}\n",
              "}});\n",
              "\n",
              "// Listen for the removal of the full notebook cells\n",
              "var notebookContainer = gd.closest('#notebook-container');\n",
              "if (notebookContainer) {{\n",
              "    x.observe(notebookContainer, {childList: true});\n",
              "}}\n",
              "\n",
              "// Listen for the clearing of the current output cell\n",
              "var outputEl = gd.closest('.output');\n",
              "if (outputEl) {{\n",
              "    x.observe(outputEl, {childList: true});\n",
              "}}\n",
              "\n",
              "                        })\n",
              "                };\n",
              "                \n",
              "            </script>\n",
              "        </div>\n",
              "</body>\n",
              "</html>"
            ]
          },
          "metadata": {
            "tags": []
          }
        }
      ]
    },
    {
      "cell_type": "code",
      "metadata": {
        "id": "sT2e4GOragVz",
        "outputId": "7286bbc0-9389-461b-ea9d-e2d455f52686",
        "colab": {
          "base_uri": "https://localhost:8080/",
          "height": 379
        }
      },
      "source": [
        "c4questions.rename(columns = {\"user\" : \"user_id\"}, inplace = True)\n",
        "c4usercourses2 = c4usercourses.merge(c4questions, on = \"user_id\")\n",
        "c4usercourses2.groupby(\"team\").mean()"
      ],
      "execution_count": 113,
      "outputs": [
        {
          "output_type": "execute_result",
          "data": {
            "text/html": [
              "<div>\n",
              "<style scoped>\n",
              "    .dataframe tbody tr th:only-of-type {\n",
              "        vertical-align: middle;\n",
              "    }\n",
              "\n",
              "    .dataframe tbody tr th {\n",
              "        vertical-align: top;\n",
              "    }\n",
              "\n",
              "    .dataframe thead th {\n",
              "        text-align: right;\n",
              "    }\n",
              "</style>\n",
              "<table border=\"1\" class=\"dataframe\">\n",
              "  <thead>\n",
              "    <tr style=\"text-align: right;\">\n",
              "      <th></th>\n",
              "      <th>user_id</th>\n",
              "      <th>course_id_x</th>\n",
              "      <th>id</th>\n",
              "      <th>course_id_y</th>\n",
              "      <th>avg_rating</th>\n",
              "      <th>total_responses</th>\n",
              "      <th>total_ratings</th>\n",
              "      <th>top_rating_count</th>\n",
              "      <th>avg_difficulty</th>\n",
              "      <th>total_comments</th>\n",
              "      <th>deleted</th>\n",
              "      <th>numAlts</th>\n",
              "      <th>AcademicMark</th>\n",
              "    </tr>\n",
              "    <tr>\n",
              "      <th>team</th>\n",
              "      <th></th>\n",
              "      <th></th>\n",
              "      <th></th>\n",
              "      <th></th>\n",
              "      <th></th>\n",
              "      <th></th>\n",
              "      <th></th>\n",
              "      <th></th>\n",
              "      <th></th>\n",
              "      <th></th>\n",
              "      <th></th>\n",
              "      <th></th>\n",
              "      <th></th>\n",
              "    </tr>\n",
              "  </thead>\n",
              "  <tbody>\n",
              "    <tr>\n",
              "      <th>Black</th>\n",
              "      <td>636814.015625</td>\n",
              "      <td>21324.765625</td>\n",
              "      <td>4.479420e+06</td>\n",
              "      <td>21324.765625</td>\n",
              "      <td>2.974687</td>\n",
              "      <td>5.390625</td>\n",
              "      <td>4.125000</td>\n",
              "      <td>0.140625</td>\n",
              "      <td>0.563556</td>\n",
              "      <td>4.359375</td>\n",
              "      <td>0.875000</td>\n",
              "      <td>4.484375</td>\n",
              "      <td>3.611111</td>\n",
              "    </tr>\n",
              "    <tr>\n",
              "      <th>Blue</th>\n",
              "      <td>625954.768116</td>\n",
              "      <td>21324.971014</td>\n",
              "      <td>4.480625e+06</td>\n",
              "      <td>21324.971014</td>\n",
              "      <td>3.160870</td>\n",
              "      <td>4.826087</td>\n",
              "      <td>4.057971</td>\n",
              "      <td>0.246377</td>\n",
              "      <td>0.612043</td>\n",
              "      <td>4.014493</td>\n",
              "      <td>1.014493</td>\n",
              "      <td>4.478261</td>\n",
              "      <td>4.000000</td>\n",
              "    </tr>\n",
              "    <tr>\n",
              "      <th>Brown</th>\n",
              "      <td>630997.543860</td>\n",
              "      <td>21324.754386</td>\n",
              "      <td>4.479347e+06</td>\n",
              "      <td>21324.754386</td>\n",
              "      <td>2.881053</td>\n",
              "      <td>5.421053</td>\n",
              "      <td>3.877193</td>\n",
              "      <td>0.245614</td>\n",
              "      <td>0.611202</td>\n",
              "      <td>4.070175</td>\n",
              "      <td>0.649123</td>\n",
              "      <td>4.508772</td>\n",
              "      <td>3.447368</td>\n",
              "    </tr>\n",
              "    <tr>\n",
              "      <th>Green</th>\n",
              "      <td>625394.724638</td>\n",
              "      <td>21325.144928</td>\n",
              "      <td>4.478787e+06</td>\n",
              "      <td>21325.144928</td>\n",
              "      <td>3.087536</td>\n",
              "      <td>5.840580</td>\n",
              "      <td>4.463768</td>\n",
              "      <td>0.304348</td>\n",
              "      <td>0.556181</td>\n",
              "      <td>4.884058</td>\n",
              "      <td>0.913043</td>\n",
              "      <td>4.434783</td>\n",
              "      <td>3.783784</td>\n",
              "    </tr>\n",
              "    <tr>\n",
              "      <th>Pink</th>\n",
              "      <td>634457.120000</td>\n",
              "      <td>21324.906667</td>\n",
              "      <td>4.478794e+06</td>\n",
              "      <td>21324.906667</td>\n",
              "      <td>2.986400</td>\n",
              "      <td>5.346667</td>\n",
              "      <td>4.400000</td>\n",
              "      <td>0.226667</td>\n",
              "      <td>0.526427</td>\n",
              "      <td>4.253333</td>\n",
              "      <td>0.960000</td>\n",
              "      <td>4.533333</td>\n",
              "      <td>3.763158</td>\n",
              "    </tr>\n",
              "    <tr>\n",
              "      <th>Purple</th>\n",
              "      <td>636850.580645</td>\n",
              "      <td>21326.258065</td>\n",
              "      <td>4.478849e+06</td>\n",
              "      <td>21326.258065</td>\n",
              "      <td>3.085806</td>\n",
              "      <td>4.806452</td>\n",
              "      <td>3.000000</td>\n",
              "      <td>0.354839</td>\n",
              "      <td>0.553839</td>\n",
              "      <td>4.129032</td>\n",
              "      <td>0.903226</td>\n",
              "      <td>4.483871</td>\n",
              "      <td>4.058824</td>\n",
              "    </tr>\n",
              "    <tr>\n",
              "      <th>Red</th>\n",
              "      <td>634371.015625</td>\n",
              "      <td>21325.703125</td>\n",
              "      <td>4.478436e+06</td>\n",
              "      <td>21325.703125</td>\n",
              "      <td>3.058750</td>\n",
              "      <td>6.125000</td>\n",
              "      <td>5.250000</td>\n",
              "      <td>0.218750</td>\n",
              "      <td>0.553381</td>\n",
              "      <td>5.031250</td>\n",
              "      <td>0.812500</td>\n",
              "      <td>4.250000</td>\n",
              "      <td>3.842105</td>\n",
              "    </tr>\n",
              "    <tr>\n",
              "      <th>White</th>\n",
              "      <td>632618.553191</td>\n",
              "      <td>21326.765957</td>\n",
              "      <td>4.480842e+06</td>\n",
              "      <td>21326.765957</td>\n",
              "      <td>3.070000</td>\n",
              "      <td>4.382979</td>\n",
              "      <td>3.638298</td>\n",
              "      <td>0.446809</td>\n",
              "      <td>0.533336</td>\n",
              "      <td>3.957447</td>\n",
              "      <td>0.978723</td>\n",
              "      <td>4.234043</td>\n",
              "      <td>4.041667</td>\n",
              "    </tr>\n",
              "    <tr>\n",
              "      <th>Yellow</th>\n",
              "      <td>636751.066667</td>\n",
              "      <td>21326.483333</td>\n",
              "      <td>4.479917e+06</td>\n",
              "      <td>21326.483333</td>\n",
              "      <td>2.848500</td>\n",
              "      <td>4.800000</td>\n",
              "      <td>3.833333</td>\n",
              "      <td>0.150000</td>\n",
              "      <td>0.552802</td>\n",
              "      <td>3.950000</td>\n",
              "      <td>0.883333</td>\n",
              "      <td>4.650000</td>\n",
              "      <td>3.580645</td>\n",
              "    </tr>\n",
              "  </tbody>\n",
              "</table>\n",
              "</div>"
            ],
            "text/plain": [
              "              user_id   course_id_x  ...   numAlts  AcademicMark\n",
              "team                                 ...                        \n",
              "Black   636814.015625  21324.765625  ...  4.484375      3.611111\n",
              "Blue    625954.768116  21324.971014  ...  4.478261      4.000000\n",
              "Brown   630997.543860  21324.754386  ...  4.508772      3.447368\n",
              "Green   625394.724638  21325.144928  ...  4.434783      3.783784\n",
              "Pink    634457.120000  21324.906667  ...  4.533333      3.763158\n",
              "Purple  636850.580645  21326.258065  ...  4.483871      4.058824\n",
              "Red     634371.015625  21325.703125  ...  4.250000      3.842105\n",
              "White   632618.553191  21326.765957  ...  4.234043      4.041667\n",
              "Yellow  636751.066667  21326.483333  ...  4.650000      3.580645\n",
              "\n",
              "[9 rows x 13 columns]"
            ]
          },
          "metadata": {
            "tags": []
          },
          "execution_count": 113
        }
      ]
    },
    {
      "cell_type": "code",
      "metadata": {
        "id": "ddN_ANimahvU",
        "outputId": "8c2d7d82-f5ab-418c-8fec-6ef56c523e89",
        "colab": {
          "base_uri": "https://localhost:8080/",
          "height": 379
        }
      },
      "source": [
        "c4usercourses2.groupby(\"team\").count()"
      ],
      "execution_count": 114,
      "outputs": [
        {
          "output_type": "execute_result",
          "data": {
            "text/html": [
              "<div>\n",
              "<style scoped>\n",
              "    .dataframe tbody tr th:only-of-type {\n",
              "        vertical-align: middle;\n",
              "    }\n",
              "\n",
              "    .dataframe tbody tr th {\n",
              "        vertical-align: top;\n",
              "    }\n",
              "\n",
              "    .dataframe thead th {\n",
              "        text-align: right;\n",
              "    }\n",
              "</style>\n",
              "<table border=\"1\" class=\"dataframe\">\n",
              "  <thead>\n",
              "    <tr style=\"text-align: right;\">\n",
              "      <th></th>\n",
              "      <th>user_id</th>\n",
              "      <th>course_id_x</th>\n",
              "      <th>id</th>\n",
              "      <th>course_id_y</th>\n",
              "      <th>timestamp</th>\n",
              "      <th>avg_rating</th>\n",
              "      <th>total_responses</th>\n",
              "      <th>total_ratings</th>\n",
              "      <th>top_rating_count</th>\n",
              "      <th>avg_difficulty</th>\n",
              "      <th>total_comments</th>\n",
              "      <th>deleted</th>\n",
              "      <th>answer</th>\n",
              "      <th>question</th>\n",
              "      <th>numAlts</th>\n",
              "      <th>altA</th>\n",
              "      <th>altB</th>\n",
              "      <th>altC</th>\n",
              "      <th>altD</th>\n",
              "      <th>altE</th>\n",
              "      <th>explanation</th>\n",
              "      <th>AcademicMark</th>\n",
              "    </tr>\n",
              "    <tr>\n",
              "      <th>team</th>\n",
              "      <th></th>\n",
              "      <th></th>\n",
              "      <th></th>\n",
              "      <th></th>\n",
              "      <th></th>\n",
              "      <th></th>\n",
              "      <th></th>\n",
              "      <th></th>\n",
              "      <th></th>\n",
              "      <th></th>\n",
              "      <th></th>\n",
              "      <th></th>\n",
              "      <th></th>\n",
              "      <th></th>\n",
              "      <th></th>\n",
              "      <th></th>\n",
              "      <th></th>\n",
              "      <th></th>\n",
              "      <th></th>\n",
              "      <th></th>\n",
              "      <th></th>\n",
              "      <th></th>\n",
              "    </tr>\n",
              "  </thead>\n",
              "  <tbody>\n",
              "    <tr>\n",
              "      <th>Black</th>\n",
              "      <td>64</td>\n",
              "      <td>64</td>\n",
              "      <td>64</td>\n",
              "      <td>64</td>\n",
              "      <td>64</td>\n",
              "      <td>64</td>\n",
              "      <td>64</td>\n",
              "      <td>64</td>\n",
              "      <td>64</td>\n",
              "      <td>64</td>\n",
              "      <td>64</td>\n",
              "      <td>64</td>\n",
              "      <td>64</td>\n",
              "      <td>64</td>\n",
              "      <td>64</td>\n",
              "      <td>64</td>\n",
              "      <td>64</td>\n",
              "      <td>64</td>\n",
              "      <td>64</td>\n",
              "      <td>31</td>\n",
              "      <td>64</td>\n",
              "      <td>36</td>\n",
              "    </tr>\n",
              "    <tr>\n",
              "      <th>Blue</th>\n",
              "      <td>69</td>\n",
              "      <td>69</td>\n",
              "      <td>69</td>\n",
              "      <td>69</td>\n",
              "      <td>69</td>\n",
              "      <td>69</td>\n",
              "      <td>69</td>\n",
              "      <td>69</td>\n",
              "      <td>69</td>\n",
              "      <td>69</td>\n",
              "      <td>69</td>\n",
              "      <td>69</td>\n",
              "      <td>69</td>\n",
              "      <td>69</td>\n",
              "      <td>69</td>\n",
              "      <td>69</td>\n",
              "      <td>69</td>\n",
              "      <td>69</td>\n",
              "      <td>69</td>\n",
              "      <td>33</td>\n",
              "      <td>69</td>\n",
              "      <td>33</td>\n",
              "    </tr>\n",
              "    <tr>\n",
              "      <th>Brown</th>\n",
              "      <td>57</td>\n",
              "      <td>57</td>\n",
              "      <td>57</td>\n",
              "      <td>57</td>\n",
              "      <td>57</td>\n",
              "      <td>57</td>\n",
              "      <td>57</td>\n",
              "      <td>57</td>\n",
              "      <td>57</td>\n",
              "      <td>57</td>\n",
              "      <td>57</td>\n",
              "      <td>57</td>\n",
              "      <td>57</td>\n",
              "      <td>57</td>\n",
              "      <td>57</td>\n",
              "      <td>57</td>\n",
              "      <td>57</td>\n",
              "      <td>57</td>\n",
              "      <td>55</td>\n",
              "      <td>31</td>\n",
              "      <td>57</td>\n",
              "      <td>38</td>\n",
              "    </tr>\n",
              "    <tr>\n",
              "      <th>Green</th>\n",
              "      <td>69</td>\n",
              "      <td>69</td>\n",
              "      <td>69</td>\n",
              "      <td>69</td>\n",
              "      <td>69</td>\n",
              "      <td>69</td>\n",
              "      <td>69</td>\n",
              "      <td>69</td>\n",
              "      <td>69</td>\n",
              "      <td>69</td>\n",
              "      <td>69</td>\n",
              "      <td>69</td>\n",
              "      <td>69</td>\n",
              "      <td>69</td>\n",
              "      <td>69</td>\n",
              "      <td>69</td>\n",
              "      <td>69</td>\n",
              "      <td>69</td>\n",
              "      <td>69</td>\n",
              "      <td>30</td>\n",
              "      <td>69</td>\n",
              "      <td>37</td>\n",
              "    </tr>\n",
              "    <tr>\n",
              "      <th>Pink</th>\n",
              "      <td>75</td>\n",
              "      <td>75</td>\n",
              "      <td>75</td>\n",
              "      <td>75</td>\n",
              "      <td>75</td>\n",
              "      <td>75</td>\n",
              "      <td>75</td>\n",
              "      <td>75</td>\n",
              "      <td>75</td>\n",
              "      <td>75</td>\n",
              "      <td>75</td>\n",
              "      <td>75</td>\n",
              "      <td>75</td>\n",
              "      <td>75</td>\n",
              "      <td>75</td>\n",
              "      <td>75</td>\n",
              "      <td>75</td>\n",
              "      <td>75</td>\n",
              "      <td>75</td>\n",
              "      <td>40</td>\n",
              "      <td>75</td>\n",
              "      <td>38</td>\n",
              "    </tr>\n",
              "    <tr>\n",
              "      <th>Purple</th>\n",
              "      <td>31</td>\n",
              "      <td>31</td>\n",
              "      <td>31</td>\n",
              "      <td>31</td>\n",
              "      <td>31</td>\n",
              "      <td>31</td>\n",
              "      <td>31</td>\n",
              "      <td>31</td>\n",
              "      <td>31</td>\n",
              "      <td>31</td>\n",
              "      <td>31</td>\n",
              "      <td>31</td>\n",
              "      <td>31</td>\n",
              "      <td>31</td>\n",
              "      <td>31</td>\n",
              "      <td>31</td>\n",
              "      <td>31</td>\n",
              "      <td>31</td>\n",
              "      <td>31</td>\n",
              "      <td>15</td>\n",
              "      <td>31</td>\n",
              "      <td>17</td>\n",
              "    </tr>\n",
              "    <tr>\n",
              "      <th>Red</th>\n",
              "      <td>64</td>\n",
              "      <td>64</td>\n",
              "      <td>64</td>\n",
              "      <td>64</td>\n",
              "      <td>64</td>\n",
              "      <td>64</td>\n",
              "      <td>64</td>\n",
              "      <td>64</td>\n",
              "      <td>64</td>\n",
              "      <td>64</td>\n",
              "      <td>64</td>\n",
              "      <td>64</td>\n",
              "      <td>64</td>\n",
              "      <td>64</td>\n",
              "      <td>64</td>\n",
              "      <td>64</td>\n",
              "      <td>64</td>\n",
              "      <td>64</td>\n",
              "      <td>63</td>\n",
              "      <td>17</td>\n",
              "      <td>64</td>\n",
              "      <td>38</td>\n",
              "    </tr>\n",
              "    <tr>\n",
              "      <th>White</th>\n",
              "      <td>47</td>\n",
              "      <td>47</td>\n",
              "      <td>47</td>\n",
              "      <td>47</td>\n",
              "      <td>47</td>\n",
              "      <td>47</td>\n",
              "      <td>47</td>\n",
              "      <td>47</td>\n",
              "      <td>47</td>\n",
              "      <td>47</td>\n",
              "      <td>47</td>\n",
              "      <td>47</td>\n",
              "      <td>47</td>\n",
              "      <td>47</td>\n",
              "      <td>47</td>\n",
              "      <td>47</td>\n",
              "      <td>47</td>\n",
              "      <td>47</td>\n",
              "      <td>47</td>\n",
              "      <td>11</td>\n",
              "      <td>47</td>\n",
              "      <td>24</td>\n",
              "    </tr>\n",
              "    <tr>\n",
              "      <th>Yellow</th>\n",
              "      <td>60</td>\n",
              "      <td>60</td>\n",
              "      <td>60</td>\n",
              "      <td>60</td>\n",
              "      <td>60</td>\n",
              "      <td>60</td>\n",
              "      <td>60</td>\n",
              "      <td>60</td>\n",
              "      <td>60</td>\n",
              "      <td>60</td>\n",
              "      <td>60</td>\n",
              "      <td>60</td>\n",
              "      <td>60</td>\n",
              "      <td>60</td>\n",
              "      <td>60</td>\n",
              "      <td>60</td>\n",
              "      <td>60</td>\n",
              "      <td>60</td>\n",
              "      <td>60</td>\n",
              "      <td>39</td>\n",
              "      <td>60</td>\n",
              "      <td>31</td>\n",
              "    </tr>\n",
              "  </tbody>\n",
              "</table>\n",
              "</div>"
            ],
            "text/plain": [
              "        user_id  course_id_x  id  ...  altE  explanation  AcademicMark\n",
              "team                              ...                                 \n",
              "Black        64           64  64  ...    31           64            36\n",
              "Blue         69           69  69  ...    33           69            33\n",
              "Brown        57           57  57  ...    31           57            38\n",
              "Green        69           69  69  ...    30           69            37\n",
              "Pink         75           75  75  ...    40           75            38\n",
              "Purple       31           31  31  ...    15           31            17\n",
              "Red          64           64  64  ...    17           64            38\n",
              "White        47           47  47  ...    11           47            24\n",
              "Yellow       60           60  60  ...    39           60            31\n",
              "\n",
              "[9 rows x 22 columns]"
            ]
          },
          "metadata": {
            "tags": []
          },
          "execution_count": 114
        }
      ]
    },
    {
      "cell_type": "code",
      "metadata": {
        "id": "Uztj5oJRajGy",
        "outputId": "a7e45bf4-1316-4d49-aafe-da672e9904fb",
        "colab": {
          "base_uri": "https://localhost:8080/"
        }
      },
      "source": [
        "c4usercourses.groupby(\"team\")[\"user_id\"].nunique()"
      ],
      "execution_count": 115,
      "outputs": [
        {
          "output_type": "execute_result",
          "data": {
            "text/plain": [
              "team\n",
              "Black     35\n",
              "Blue      35\n",
              "Brown     37\n",
              "Green     39\n",
              "Pink      37\n",
              "Purple    15\n",
              "Red       37\n",
              "White     23\n",
              "Yellow    31\n",
              "Name: user_id, dtype: int64"
            ]
          },
          "metadata": {
            "tags": []
          },
          "execution_count": 115
        }
      ]
    },
    {
      "cell_type": "markdown",
      "metadata": {
        "id": "evkAsqwTXUrY"
      },
      "source": [
        "Explore data\n",
        "We will look at the questions data first, followed by the answers data\n",
        "This will give us a good overview of what ranges our values lie in and any bias we need to consider\n",
        "Keep in mind each student was required to answer 40 questions!\n",
        "Questions data"
      ]
    },
    {
      "cell_type": "code",
      "metadata": {
        "id": "unl8KEh7XVqW",
        "outputId": "5be1c2d3-58f5-4ba8-9371-de46e727490b",
        "colab": {
          "base_uri": "https://localhost:8080/",
          "height": 479
        }
      },
      "source": [
        "c3questions.head()"
      ],
      "execution_count": 116,
      "outputs": [
        {
          "output_type": "execute_result",
          "data": {
            "text/html": [
              "<div>\n",
              "<style scoped>\n",
              "    .dataframe tbody tr th:only-of-type {\n",
              "        vertical-align: middle;\n",
              "    }\n",
              "\n",
              "    .dataframe tbody tr th {\n",
              "        vertical-align: top;\n",
              "    }\n",
              "\n",
              "    .dataframe thead th {\n",
              "        text-align: right;\n",
              "    }\n",
              "</style>\n",
              "<table border=\"1\" class=\"dataframe\">\n",
              "  <thead>\n",
              "    <tr style=\"text-align: right;\">\n",
              "      <th></th>\n",
              "      <th>id</th>\n",
              "      <th>course_id</th>\n",
              "      <th>timestamp</th>\n",
              "      <th>user</th>\n",
              "      <th>avg_rating</th>\n",
              "      <th>total_responses</th>\n",
              "      <th>total_ratings</th>\n",
              "      <th>top_rating_count</th>\n",
              "      <th>avg_difficulty</th>\n",
              "      <th>total_comments</th>\n",
              "      <th>deleted</th>\n",
              "      <th>answer</th>\n",
              "      <th>question</th>\n",
              "      <th>numAlts</th>\n",
              "      <th>altA</th>\n",
              "      <th>altB</th>\n",
              "      <th>altC</th>\n",
              "      <th>altD</th>\n",
              "      <th>altE</th>\n",
              "      <th>explanation</th>\n",
              "    </tr>\n",
              "  </thead>\n",
              "  <tbody>\n",
              "    <tr>\n",
              "      <th>0</th>\n",
              "      <td>4421360</td>\n",
              "      <td>21230</td>\n",
              "      <td>2020-04-07 22:29:54</td>\n",
              "      <td>217514</td>\n",
              "      <td>2.50</td>\n",
              "      <td>29</td>\n",
              "      <td>20</td>\n",
              "      <td>1</td>\n",
              "      <td>0.7500</td>\n",
              "      <td>2</td>\n",
              "      <td>0</td>\n",
              "      <td>B</td>\n",
              "      <td>The telomeric repeat sequence in green algae ...</td>\n",
              "      <td>5</td>\n",
              "      <td>&lt;p&gt;5&amp;prime; UUUUAGGGUUUU 3&amp;prime;&lt;br /&gt;&lt;br /&gt;...</td>\n",
              "      <td>&lt;p&gt;5&amp;prime; CCCUAAAACCCU 3&amp;prime;&lt;br /&gt;&lt;br /&gt;...</td>\n",
              "      <td>&lt;p&gt;5&amp;prime; CCCTAAAACCCT 3&amp;prime;&lt;br /&gt;&lt;br /&gt;...</td>\n",
              "      <td>&lt;p&gt;5&amp;prime; TTTTAGGGTTTT 3&amp;prime;&lt;br /&gt;&lt;br /&gt;...</td>\n",
              "      <td>&lt;p&gt;5&amp;prime; AGGGTTTTAGGG 3&amp;prime;&lt;/p&gt;        ...</td>\n",
              "      <td>&lt;p&gt;no explanation&lt;/p&gt;                        ...</td>\n",
              "    </tr>\n",
              "    <tr>\n",
              "      <th>1</th>\n",
              "      <td>4421361</td>\n",
              "      <td>21230</td>\n",
              "      <td>2020-04-07 22:30:18</td>\n",
              "      <td>217514</td>\n",
              "      <td>3.27</td>\n",
              "      <td>37</td>\n",
              "      <td>22</td>\n",
              "      <td>3</td>\n",
              "      <td>0.9091</td>\n",
              "      <td>1</td>\n",
              "      <td>0</td>\n",
              "      <td>D</td>\n",
              "      <td>Which of the following types of protein could...</td>\n",
              "      <td>4</td>\n",
              "      <td>&lt;p&gt;A protein which forms part of a growth fac...</td>\n",
              "      <td>&lt;p&gt;A protein which codes for a DNA repair enz...</td>\n",
              "      <td>&lt;p&gt;A protein which helps prevent apoptosis.&lt;/...</td>\n",
              "      <td>&lt;p&gt;A protein which controls progression throu...</td>\n",
              "      <td>...</td>\n",
              "      <td>&lt;p&gt;Tumour suppressor genes code for proteins ...</td>\n",
              "    </tr>\n",
              "    <tr>\n",
              "      <th>2</th>\n",
              "      <td>4421362</td>\n",
              "      <td>21230</td>\n",
              "      <td>2020-04-07 22:30:18</td>\n",
              "      <td>217514</td>\n",
              "      <td>2.96</td>\n",
              "      <td>32</td>\n",
              "      <td>24</td>\n",
              "      <td>1</td>\n",
              "      <td>0.5000</td>\n",
              "      <td>0</td>\n",
              "      <td>0</td>\n",
              "      <td>C</td>\n",
              "      <td>In the cell cycle, the oncogenes are ________...</td>\n",
              "      <td>4</td>\n",
              "      <td>&lt;p&gt;the negative controls over growth;&amp;nbsp;in...</td>\n",
              "      <td>&lt;p&gt;resulted from the activation of proto-onco...</td>\n",
              "      <td>&lt;p&gt;resulted from the activation of proto-onco...</td>\n",
              "      <td>&lt;p&gt;inactivated which causes cancer;&amp;nbsp;the ...</td>\n",
              "      <td>...</td>\n",
              "      <td>&lt;p&gt;In the cell cycle, there are two main type...</td>\n",
              "    </tr>\n",
              "    <tr>\n",
              "      <th>3</th>\n",
              "      <td>4421363</td>\n",
              "      <td>21230</td>\n",
              "      <td>2020-04-07 22:30:19</td>\n",
              "      <td>217514</td>\n",
              "      <td>1.67</td>\n",
              "      <td>31</td>\n",
              "      <td>21</td>\n",
              "      <td>0</td>\n",
              "      <td>0.9524</td>\n",
              "      <td>3</td>\n",
              "      <td>0</td>\n",
              "      <td>C</td>\n",
              "      <td>&lt;img src=\"../images/view.php?file=374795\" alt...</td>\n",
              "      <td>4</td>\n",
              "      <td>&lt;p&gt;G0&lt;/p&gt;                                    ...</td>\n",
              "      <td>&lt;p&gt;G2/M&lt;/p&gt;                                  ...</td>\n",
              "      <td>&lt;p&gt;G1&lt;/p&gt;                                    ...</td>\n",
              "      <td>&lt;p&gt;S&lt;/p&gt;                                     ...</td>\n",
              "      <td>...</td>\n",
              "      <td>&lt;p&gt;The answer is G1 cells as there is the lea...</td>\n",
              "    </tr>\n",
              "    <tr>\n",
              "      <th>4</th>\n",
              "      <td>4421364</td>\n",
              "      <td>21230</td>\n",
              "      <td>2020-04-07 22:30:19</td>\n",
              "      <td>217514</td>\n",
              "      <td>2.67</td>\n",
              "      <td>32</td>\n",
              "      <td>21</td>\n",
              "      <td>1</td>\n",
              "      <td>0.2857</td>\n",
              "      <td>0</td>\n",
              "      <td>0</td>\n",
              "      <td>D</td>\n",
              "      <td>If there are 20 chromatids in a cell, how man...</td>\n",
              "      <td>5</td>\n",
              "      <td>&lt;p&gt;30&lt;/p&gt;                                    ...</td>\n",
              "      <td>&lt;p&gt;20&lt;/p&gt;                                    ...</td>\n",
              "      <td>&lt;p&gt;40&lt;/p&gt;                                    ...</td>\n",
              "      <td>&lt;p&gt;10&lt;/p&gt;                                    ...</td>\n",
              "      <td>&lt;p&gt;80&lt;/p&gt;                                    ...</td>\n",
              "      <td>&lt;p&gt;This is because each chromosome has exactl...</td>\n",
              "    </tr>\n",
              "  </tbody>\n",
              "</table>\n",
              "</div>"
            ],
            "text/plain": [
              "        id  ...                                        explanation\n",
              "0  4421360  ...   <p>no explanation</p>                        ...\n",
              "1  4421361  ...   <p>Tumour suppressor genes code for proteins ...\n",
              "2  4421362  ...   <p>In the cell cycle, there are two main type...\n",
              "3  4421363  ...   <p>The answer is G1 cells as there is the lea...\n",
              "4  4421364  ...   <p>This is because each chromosome has exactl...\n",
              "\n",
              "[5 rows x 20 columns]"
            ]
          },
          "metadata": {
            "tags": []
          },
          "execution_count": 116
        }
      ]
    },
    {
      "cell_type": "markdown",
      "metadata": {
        "id": "pJBc2tH-XeJq"
      },
      "source": [
        "- We aren't interested in the number of alts or the alternate options (only the correct answer)\n",
        "- We will use the correct answer to calculate the percentage correct for each of the users\n",
        "What about the answers data?"
      ]
    },
    {
      "cell_type": "code",
      "metadata": {
        "id": "iS9WxLYbXgJ1",
        "outputId": "70011cce-6761-4670-a947-561a92182b64",
        "colab": {
          "base_uri": "https://localhost:8080/",
          "height": 542
        }
      },
      "source": [
        "px.box(c3questions, y='avg_difficulty', title = \"Boxplot of average difficulty\",labels={\n",
        "                     \"avg_difficulty\": \"The average rating for difficulty\"})"
      ],
      "execution_count": 126,
      "outputs": [
        {
          "output_type": "display_data",
          "data": {
            "text/html": [
              "<html>\n",
              "<head><meta charset=\"utf-8\" /></head>\n",
              "<body>\n",
              "    <div>\n",
              "            <script src=\"https://cdnjs.cloudflare.com/ajax/libs/mathjax/2.7.5/MathJax.js?config=TeX-AMS-MML_SVG\"></script><script type=\"text/javascript\">if (window.MathJax) {MathJax.Hub.Config({SVG: {font: \"STIX-Web\"}});}</script>\n",
              "                <script type=\"text/javascript\">window.PlotlyConfig = {MathJaxConfig: 'local'};</script>\n",
              "        <script src=\"https://cdn.plot.ly/plotly-latest.min.js\"></script>    \n",
              "            <div id=\"fcd11878-c556-479f-9301-55ad6001ce07\" class=\"plotly-graph-div\" style=\"height:525px; width:100%;\"></div>\n",
              "            <script type=\"text/javascript\">\n",
              "                \n",
              "                    window.PLOTLYENV=window.PLOTLYENV || {};\n",
              "                    \n",
              "                if (document.getElementById(\"fcd11878-c556-479f-9301-55ad6001ce07\")) {\n",
              "                    Plotly.newPlot(\n",
              "                        'fcd11878-c556-479f-9301-55ad6001ce07',\n",
              "                        [{\"alignmentgroup\": \"True\", \"hoverlabel\": {\"namelength\": 0}, \"hovertemplate\": \"The average rating for difficulty=%{y}\", \"legendgroup\": \"\", \"marker\": {\"color\": \"#636efa\"}, \"name\": \"\", \"notched\": false, \"offsetgroup\": \"\", \"orientation\": \"v\", \"showlegend\": false, \"type\": \"box\", \"x0\": \" \", \"xaxis\": \"x\", \"y\": [0.75, 0.9091, 0.5, 0.9524, 0.2857, 0.3333, 0.8571, 0.75, 0.5217, 1.0, 0.2727, 1.0, 1.1579, 1.8095, 0.25, 0.5238, 0.9474, 1.1579, 1.0, 0.3478, 0.95, 1.0, 0.5, 0.7778, 0.44, 0.2609, 0.6087, 0.45, 0.6538, 0.4615, 0.3214, 0.5238, 0.4583, 0.8261, 0.3182, 1.0, 0.4091, 0.9091, 1.1304, 0.8148, 0.4815, 0.6071, 0.9048, 1.04, 0.88, 0.9667, 1.069, 0.4815, 0.5185, 0.8929, 0.9615, 0.96, 0.8696, 1.1786, 1.0, 0.625, 0.4483, 0.75, 1.0435, 0.6818, 0.9167, 0.6429, 0.1818, 1.3448, 0.9167, 0.6, 0.8, 0.7667, 1.1481, 1.0606, 1.1786, 1.4667, 0.8889, 0.7778, 0.9394, 0.7895, 0.9, 0.2, 1.087, 0.8261, 0.6818, 1.0, 0.35, 1.5, 0.8125, 1.0714, 0.75, 0.4706, 0.619, 0.75, 0.4737, 0.7895, 1.05, 0.5, 0.45, 0.75, 0.6429, 0.95, 0.9524, 0.3684, 0.4706, 0.8889, 0.8, 0.95, 0.7143, 2.0, 0.9474, 0.04, 0.95, 1.2083, 0.9583, 0.72, 0.8235, 0.5, 1.16, 1.1429, 1.04, 0.8889, 0.3125, 0.5455, 0.875, 0.95, 0.85, 1.2105, 0.25, 1.0588, 0.7368, 0.4074, 0.6296, 0.5, 0.7778, 0.6842, 0.4783, 0.4167, 0.3182, 1.1, 1.2, 0.7, 1.0952, 0.88, 1.2424, 0.84, 1.2692, 0.36, 0.76, 0.9091, 0.7778, 0.5769, 0.8261, 0.48, 0.8846, 1.0385, 0.4828, 0.2759, 0.5263, 0.6, 0.4, 0.2963, 0.5333, 1.48, 0.2162, 0.8846, 0.5, 1.3548, 0.56, 0.9355, 0.2222, 1.5161, 0.9667, 1.2353, 0.9091, 0.8065, 0.9714, 0.5429, 0.9722, 0.381, 0.7297, 1.6389, 0.8182, 0.5652, 0.52, 0.5385, 1.1364, 0.7727, 0.76, 0.4167, 0.45, 0.7083, 0.913, 0.9444, 0.2174, 0.3478, 1.4545, 0.45, 1.0952, 0.5, 0.7778, 0.6667, 0.6522, 0.36, 0.96, 0.08, 0.48, 0.4615, 1.5417, 0.08, 0.3333, 0.2857, 0.5833, 0.3636, 0.125, 0.52, 1.1333, 0.4444, 0.52, 1.1852, 0.4348, 0.4286, 0.36, 0.8846, 1.0, 0.6071, 0.32, 0.5, 0.875, 0.7097, 0.381, 1.3333, 0.5833, 0.6923, 0.5238, 0.4167, 0.7857, 0.2857, 1.2308, 0.0769, 0.8077, 0.5, 0.2143, 0.1923, 0.3478, 0.4286, 0.3043, 0.3462, 0.3077, 1.48, 0.6818, 0.4348, 0.1154, 0.2222, 0.5909, 0.1, 0.2609, 0.5806, 0.5, 0.2414, 0.2333, 1.1333, 1.7742, 0.3125, 0.4, 0.5333, 0.2069, 0.625, 1.3125, 0.7037, 0.5, 0.9118, 0.7407, 0.8529, 1.0, 0.8, 0.7586, 0.3333, 0.9714, 0.4848, 1.2, 0.5, 0.5714, 1.2083, 1.1667, 0.8095, 0.7778, 0.1739, 0.4583, 0.9583, 0.3571, 1.0455, 0.1071, 0.9583, 1.1304, 0.8077, 1.037, 0.4545, 0.1154, 0.2857, 0.9524, 1.1923, 0.9565, 0.6364, 0.7917, 0.92, 0.35, 0.8333, 0.6818, 0.5417, 0.6667, 0.8571, 1.25, 1.0909, 1.5909, 1.3636, 1.1818, 0.92, 0.6364, 1.0, 0.8095, 0.5, 0.8696, 0.4, 0.9565, 0.5, 0.44, 0.6923, 0.6296, 0.5, 0.9048, 0.8571, 0.9565, 0.24, 0.9545, 0.52, 0.7059, 0.7619, 0.35, 1.2, 0.8636, 0.0741, 0.8214, 0.8182, 0.5455, 1.0385, 0.6522, 0.6957, 0.88, 0.6667, 0.6364, 0.7778, 1.0, 0.4483, 0.72, 0.3125, 0.8667, 1.3667, 0.4167, 0.5313, 0.9091, 1.0345, 1.0714, 0.8462, 0.5789, 0.3], \"y0\": \" \", \"yaxis\": \"y\"}],\n",
              "                        {\"boxmode\": \"group\", \"legend\": {\"tracegroupgap\": 0}, \"template\": {\"data\": {\"bar\": [{\"error_x\": {\"color\": \"#2a3f5f\"}, \"error_y\": {\"color\": \"#2a3f5f\"}, \"marker\": {\"line\": {\"color\": \"#E5ECF6\", \"width\": 0.5}}, \"type\": \"bar\"}], \"barpolar\": [{\"marker\": {\"line\": {\"color\": \"#E5ECF6\", \"width\": 0.5}}, \"type\": \"barpolar\"}], \"carpet\": [{\"aaxis\": {\"endlinecolor\": \"#2a3f5f\", \"gridcolor\": \"white\", \"linecolor\": \"white\", \"minorgridcolor\": \"white\", \"startlinecolor\": \"#2a3f5f\"}, \"baxis\": {\"endlinecolor\": \"#2a3f5f\", \"gridcolor\": \"white\", \"linecolor\": \"white\", \"minorgridcolor\": \"white\", \"startlinecolor\": \"#2a3f5f\"}, \"type\": \"carpet\"}], \"choropleth\": [{\"colorbar\": {\"outlinewidth\": 0, \"ticks\": \"\"}, \"type\": \"choropleth\"}], \"contour\": [{\"colorbar\": {\"outlinewidth\": 0, \"ticks\": \"\"}, \"colorscale\": [[0.0, \"#0d0887\"], [0.1111111111111111, \"#46039f\"], [0.2222222222222222, \"#7201a8\"], [0.3333333333333333, \"#9c179e\"], [0.4444444444444444, \"#bd3786\"], [0.5555555555555556, \"#d8576b\"], [0.6666666666666666, \"#ed7953\"], [0.7777777777777778, \"#fb9f3a\"], [0.8888888888888888, \"#fdca26\"], [1.0, \"#f0f921\"]], \"type\": \"contour\"}], \"contourcarpet\": [{\"colorbar\": {\"outlinewidth\": 0, \"ticks\": \"\"}, \"type\": \"contourcarpet\"}], \"heatmap\": [{\"colorbar\": {\"outlinewidth\": 0, \"ticks\": \"\"}, \"colorscale\": [[0.0, \"#0d0887\"], [0.1111111111111111, \"#46039f\"], [0.2222222222222222, \"#7201a8\"], [0.3333333333333333, \"#9c179e\"], [0.4444444444444444, \"#bd3786\"], [0.5555555555555556, \"#d8576b\"], [0.6666666666666666, \"#ed7953\"], [0.7777777777777778, \"#fb9f3a\"], [0.8888888888888888, \"#fdca26\"], [1.0, \"#f0f921\"]], \"type\": \"heatmap\"}], \"heatmapgl\": [{\"colorbar\": {\"outlinewidth\": 0, \"ticks\": \"\"}, \"colorscale\": [[0.0, \"#0d0887\"], [0.1111111111111111, \"#46039f\"], [0.2222222222222222, \"#7201a8\"], [0.3333333333333333, \"#9c179e\"], [0.4444444444444444, \"#bd3786\"], [0.5555555555555556, \"#d8576b\"], [0.6666666666666666, \"#ed7953\"], [0.7777777777777778, \"#fb9f3a\"], [0.8888888888888888, \"#fdca26\"], [1.0, \"#f0f921\"]], \"type\": \"heatmapgl\"}], \"histogram\": [{\"marker\": {\"colorbar\": {\"outlinewidth\": 0, \"ticks\": \"\"}}, \"type\": \"histogram\"}], \"histogram2d\": [{\"colorbar\": {\"outlinewidth\": 0, \"ticks\": \"\"}, \"colorscale\": [[0.0, \"#0d0887\"], [0.1111111111111111, \"#46039f\"], [0.2222222222222222, \"#7201a8\"], [0.3333333333333333, \"#9c179e\"], [0.4444444444444444, \"#bd3786\"], [0.5555555555555556, \"#d8576b\"], [0.6666666666666666, \"#ed7953\"], [0.7777777777777778, \"#fb9f3a\"], [0.8888888888888888, \"#fdca26\"], [1.0, \"#f0f921\"]], \"type\": \"histogram2d\"}], \"histogram2dcontour\": [{\"colorbar\": {\"outlinewidth\": 0, \"ticks\": \"\"}, \"colorscale\": [[0.0, \"#0d0887\"], [0.1111111111111111, \"#46039f\"], [0.2222222222222222, \"#7201a8\"], [0.3333333333333333, \"#9c179e\"], [0.4444444444444444, \"#bd3786\"], [0.5555555555555556, \"#d8576b\"], [0.6666666666666666, \"#ed7953\"], [0.7777777777777778, \"#fb9f3a\"], [0.8888888888888888, \"#fdca26\"], [1.0, \"#f0f921\"]], \"type\": \"histogram2dcontour\"}], \"mesh3d\": [{\"colorbar\": {\"outlinewidth\": 0, \"ticks\": \"\"}, \"type\": \"mesh3d\"}], \"parcoords\": [{\"line\": {\"colorbar\": {\"outlinewidth\": 0, \"ticks\": \"\"}}, \"type\": \"parcoords\"}], \"pie\": [{\"automargin\": true, \"type\": \"pie\"}], \"scatter\": [{\"marker\": {\"colorbar\": {\"outlinewidth\": 0, \"ticks\": \"\"}}, \"type\": \"scatter\"}], \"scatter3d\": [{\"line\": {\"colorbar\": {\"outlinewidth\": 0, \"ticks\": \"\"}}, \"marker\": {\"colorbar\": {\"outlinewidth\": 0, \"ticks\": \"\"}}, \"type\": \"scatter3d\"}], \"scattercarpet\": [{\"marker\": {\"colorbar\": {\"outlinewidth\": 0, \"ticks\": \"\"}}, \"type\": \"scattercarpet\"}], \"scattergeo\": [{\"marker\": {\"colorbar\": {\"outlinewidth\": 0, \"ticks\": \"\"}}, \"type\": \"scattergeo\"}], \"scattergl\": [{\"marker\": {\"colorbar\": {\"outlinewidth\": 0, \"ticks\": \"\"}}, \"type\": \"scattergl\"}], \"scattermapbox\": [{\"marker\": {\"colorbar\": {\"outlinewidth\": 0, \"ticks\": \"\"}}, \"type\": \"scattermapbox\"}], \"scatterpolar\": [{\"marker\": {\"colorbar\": {\"outlinewidth\": 0, \"ticks\": \"\"}}, \"type\": \"scatterpolar\"}], \"scatterpolargl\": [{\"marker\": {\"colorbar\": {\"outlinewidth\": 0, \"ticks\": \"\"}}, \"type\": \"scatterpolargl\"}], \"scatterternary\": [{\"marker\": {\"colorbar\": {\"outlinewidth\": 0, \"ticks\": \"\"}}, \"type\": \"scatterternary\"}], \"surface\": [{\"colorbar\": {\"outlinewidth\": 0, \"ticks\": \"\"}, \"colorscale\": [[0.0, \"#0d0887\"], [0.1111111111111111, \"#46039f\"], [0.2222222222222222, \"#7201a8\"], [0.3333333333333333, \"#9c179e\"], [0.4444444444444444, \"#bd3786\"], [0.5555555555555556, \"#d8576b\"], [0.6666666666666666, \"#ed7953\"], [0.7777777777777778, \"#fb9f3a\"], [0.8888888888888888, \"#fdca26\"], [1.0, \"#f0f921\"]], \"type\": \"surface\"}], \"table\": [{\"cells\": {\"fill\": {\"color\": \"#EBF0F8\"}, \"line\": {\"color\": \"white\"}}, \"header\": {\"fill\": {\"color\": \"#C8D4E3\"}, \"line\": {\"color\": \"white\"}}, \"type\": \"table\"}]}, \"layout\": {\"annotationdefaults\": {\"arrowcolor\": \"#2a3f5f\", \"arrowhead\": 0, \"arrowwidth\": 1}, \"coloraxis\": {\"colorbar\": {\"outlinewidth\": 0, \"ticks\": \"\"}}, \"colorscale\": {\"diverging\": [[0, \"#8e0152\"], [0.1, \"#c51b7d\"], [0.2, \"#de77ae\"], [0.3, \"#f1b6da\"], [0.4, \"#fde0ef\"], [0.5, \"#f7f7f7\"], [0.6, \"#e6f5d0\"], [0.7, \"#b8e186\"], [0.8, \"#7fbc41\"], [0.9, \"#4d9221\"], [1, \"#276419\"]], \"sequential\": [[0.0, \"#0d0887\"], [0.1111111111111111, \"#46039f\"], [0.2222222222222222, \"#7201a8\"], [0.3333333333333333, \"#9c179e\"], [0.4444444444444444, \"#bd3786\"], [0.5555555555555556, \"#d8576b\"], [0.6666666666666666, \"#ed7953\"], [0.7777777777777778, \"#fb9f3a\"], [0.8888888888888888, \"#fdca26\"], [1.0, \"#f0f921\"]], \"sequentialminus\": [[0.0, \"#0d0887\"], [0.1111111111111111, \"#46039f\"], [0.2222222222222222, \"#7201a8\"], [0.3333333333333333, \"#9c179e\"], [0.4444444444444444, \"#bd3786\"], [0.5555555555555556, \"#d8576b\"], [0.6666666666666666, \"#ed7953\"], [0.7777777777777778, \"#fb9f3a\"], [0.8888888888888888, \"#fdca26\"], [1.0, \"#f0f921\"]]}, \"colorway\": [\"#636efa\", \"#EF553B\", \"#00cc96\", \"#ab63fa\", \"#FFA15A\", \"#19d3f3\", \"#FF6692\", \"#B6E880\", \"#FF97FF\", \"#FECB52\"], \"font\": {\"color\": \"#2a3f5f\"}, \"geo\": {\"bgcolor\": \"white\", \"lakecolor\": \"white\", \"landcolor\": \"#E5ECF6\", \"showlakes\": true, \"showland\": true, \"subunitcolor\": \"white\"}, \"hoverlabel\": {\"align\": \"left\"}, \"hovermode\": \"closest\", \"mapbox\": {\"style\": \"light\"}, \"paper_bgcolor\": \"white\", \"plot_bgcolor\": \"#E5ECF6\", \"polar\": {\"angularaxis\": {\"gridcolor\": \"white\", \"linecolor\": \"white\", \"ticks\": \"\"}, \"bgcolor\": \"#E5ECF6\", \"radialaxis\": {\"gridcolor\": \"white\", \"linecolor\": \"white\", \"ticks\": \"\"}}, \"scene\": {\"xaxis\": {\"backgroundcolor\": \"#E5ECF6\", \"gridcolor\": \"white\", \"gridwidth\": 2, \"linecolor\": \"white\", \"showbackground\": true, \"ticks\": \"\", \"zerolinecolor\": \"white\"}, \"yaxis\": {\"backgroundcolor\": \"#E5ECF6\", \"gridcolor\": \"white\", \"gridwidth\": 2, \"linecolor\": \"white\", \"showbackground\": true, \"ticks\": \"\", \"zerolinecolor\": \"white\"}, \"zaxis\": {\"backgroundcolor\": \"#E5ECF6\", \"gridcolor\": \"white\", \"gridwidth\": 2, \"linecolor\": \"white\", \"showbackground\": true, \"ticks\": \"\", \"zerolinecolor\": \"white\"}}, \"shapedefaults\": {\"line\": {\"color\": \"#2a3f5f\"}}, \"ternary\": {\"aaxis\": {\"gridcolor\": \"white\", \"linecolor\": \"white\", \"ticks\": \"\"}, \"baxis\": {\"gridcolor\": \"white\", \"linecolor\": \"white\", \"ticks\": \"\"}, \"bgcolor\": \"#E5ECF6\", \"caxis\": {\"gridcolor\": \"white\", \"linecolor\": \"white\", \"ticks\": \"\"}}, \"title\": {\"x\": 0.05}, \"xaxis\": {\"automargin\": true, \"gridcolor\": \"white\", \"linecolor\": \"white\", \"ticks\": \"\", \"title\": {\"standoff\": 15}, \"zerolinecolor\": \"white\", \"zerolinewidth\": 2}, \"yaxis\": {\"automargin\": true, \"gridcolor\": \"white\", \"linecolor\": \"white\", \"ticks\": \"\", \"title\": {\"standoff\": 15}, \"zerolinecolor\": \"white\", \"zerolinewidth\": 2}}}, \"title\": {\"text\": \"Boxplot of average difficulty\"}, \"xaxis\": {\"anchor\": \"y\", \"domain\": [0.0, 1.0]}, \"yaxis\": {\"anchor\": \"x\", \"domain\": [0.0, 1.0], \"title\": {\"text\": \"The average rating for difficulty\"}}},\n",
              "                        {\"responsive\": true}\n",
              "                    ).then(function(){\n",
              "                            \n",
              "var gd = document.getElementById('fcd11878-c556-479f-9301-55ad6001ce07');\n",
              "var x = new MutationObserver(function (mutations, observer) {{\n",
              "        var display = window.getComputedStyle(gd).display;\n",
              "        if (!display || display === 'none') {{\n",
              "            console.log([gd, 'removed!']);\n",
              "            Plotly.purge(gd);\n",
              "            observer.disconnect();\n",
              "        }}\n",
              "}});\n",
              "\n",
              "// Listen for the removal of the full notebook cells\n",
              "var notebookContainer = gd.closest('#notebook-container');\n",
              "if (notebookContainer) {{\n",
              "    x.observe(notebookContainer, {childList: true});\n",
              "}}\n",
              "\n",
              "// Listen for the clearing of the current output cell\n",
              "var outputEl = gd.closest('.output');\n",
              "if (outputEl) {{\n",
              "    x.observe(outputEl, {childList: true});\n",
              "}}\n",
              "\n",
              "                        })\n",
              "                };\n",
              "                \n",
              "            </script>\n",
              "        </div>\n",
              "</body>\n",
              "</html>"
            ]
          },
          "metadata": {
            "tags": []
          }
        }
      ]
    },
    {
      "cell_type": "code",
      "metadata": {
        "id": "CvMZDn2NXgkr",
        "outputId": "2226345b-694b-4af1-b5e5-30b32df18a99",
        "colab": {
          "base_uri": "https://localhost:8080/",
          "height": 542
        }
      },
      "source": [
        "px.box(c3questions, y='avg_rating', title = \"Boxplot of average rating for questions\",labels={\n",
        "                     \"avg_rating\": \"The average rating for each question\"})"
      ],
      "execution_count": 127,
      "outputs": [
        {
          "output_type": "display_data",
          "data": {
            "text/html": [
              "<html>\n",
              "<head><meta charset=\"utf-8\" /></head>\n",
              "<body>\n",
              "    <div>\n",
              "            <script src=\"https://cdnjs.cloudflare.com/ajax/libs/mathjax/2.7.5/MathJax.js?config=TeX-AMS-MML_SVG\"></script><script type=\"text/javascript\">if (window.MathJax) {MathJax.Hub.Config({SVG: {font: \"STIX-Web\"}});}</script>\n",
              "                <script type=\"text/javascript\">window.PlotlyConfig = {MathJaxConfig: 'local'};</script>\n",
              "        <script src=\"https://cdn.plot.ly/plotly-latest.min.js\"></script>    \n",
              "            <div id=\"77412f07-c387-4ac4-a18f-9ad563040804\" class=\"plotly-graph-div\" style=\"height:525px; width:100%;\"></div>\n",
              "            <script type=\"text/javascript\">\n",
              "                \n",
              "                    window.PLOTLYENV=window.PLOTLYENV || {};\n",
              "                    \n",
              "                if (document.getElementById(\"77412f07-c387-4ac4-a18f-9ad563040804\")) {\n",
              "                    Plotly.newPlot(\n",
              "                        '77412f07-c387-4ac4-a18f-9ad563040804',\n",
              "                        [{\"alignmentgroup\": \"True\", \"hoverlabel\": {\"namelength\": 0}, \"hovertemplate\": \"The average rating for each question=%{y}\", \"legendgroup\": \"\", \"marker\": {\"color\": \"#636efa\"}, \"name\": \"\", \"notched\": false, \"offsetgroup\": \"\", \"orientation\": \"v\", \"showlegend\": false, \"type\": \"box\", \"x0\": \" \", \"xaxis\": \"x\", \"y\": [2.5, 3.27, 2.96, 1.67, 2.67, 2.39, 2.29, 2.63, 3.0, 2.82, 2.27, 2.9, 3.53, 2.52, 2.69, 3.0, 2.84, 1.89, 3.05, 2.48, 2.5, 2.05, 2.39, 3.0, 2.56, 2.39, 2.96, 2.6, 2.46, 2.77, 2.86, 2.67, 2.58, 3.13, 2.45, 3.08, 2.55, 2.36, 1.7, 2.37, 2.74, 2.29, 2.76, 3.0, 2.88, 2.53, 2.76, 2.67, 2.3, 2.71, 1.92, 2.56, 2.61, 2.96, 2.84, 2.5, 2.41, 3.13, 2.48, 2.45, 1.75, 2.82, 2.48, 1.76, 3.08, 2.5, 3.03, 1.93, 2.37, 3.48, 1.82, 2.4, 2.81, 2.63, 3.03, 2.92, 2.95, 2.7, 3.39, 2.83, 2.77, 2.06, 3.15, 2.25, 2.56, 3.68, 3.25, 2.82, 3.43, 2.63, 2.26, 3.05, 2.95, 2.88, 2.0, 2.95, 2.93, 2.8, 2.67, 2.53, 2.35, 3.22, 2.32, 3.05, 3.1, 3.0, 2.74, 2.68, 2.2, 3.0, 3.0, 2.64, 2.94, 2.44, 3.16, 2.52, 2.36, 2.78, 2.75, 2.86, 2.5, 3.25, 3.1, 3.53, 1.94, 2.65, 2.26, 1.33, 3.11, 3.2, 2.67, 2.42, 2.96, 2.42, 2.73, 3.33, 3.05, 2.7, 2.86, 2.84, 2.76, 2.36, 2.92, 3.12, 2.96, 2.86, 2.44, 2.69, 1.74, 2.92, 2.81, 3.12, 2.55, 2.9, 2.16, 2.92, 2.57, 2.33, 3.1, 3.16, 3.08, 2.42, 2.77, 3.61, 2.68, 3.26, 2.56, 3.19, 2.57, 3.26, 2.97, 2.52, 2.57, 2.6, 2.25, 2.83, 2.81, 2.11, 2.91, 2.3, 2.4, 2.54, 1.09, 1.86, 2.52, 2.5, 2.7, 2.58, 1.35, 2.56, 2.61, 2.74, 1.41, 2.1, 2.05, 2.58, 2.48, 2.42, 2.91, 2.08, 2.4, 2.28, 2.6, 0.69, 1.71, 2.48, 2.46, 2.61, 2.5, 1.86, 2.29, 2.4, 2.9, 2.67, 2.64, 2.56, 2.87, 2.5, 2.88, 2.62, 2.46, 2.54, 2.72, 2.08, 2.33, 2.9, 2.67, 3.08, 2.29, 1.42, 2.43, 2.13, 1.25, 2.38, 3.65, 2.31, 2.31, 2.38, 2.46, 2.69, 2.65, 2.69, 1.83, 2.27, 2.38, 2.96, 2.64, 2.35, 2.27, 2.11, 3.23, 2.1, 1.91, 1.87, 2.5, 1.97, 2.2, 3.0, 0.94, 2.5, 2.48, 2.83, 2.31, 3.22, 2.97, 2.59, 2.38, 2.62, 3.04, 3.15, 2.9, 2.33, 3.0, 2.53, 2.66, 1.97, 3.4, 2.71, 2.43, 3.08, 0.92, 2.62, 1.94, 2.87, 2.83, 2.83, 2.93, 2.59, 1.75, 3.04, 2.22, 2.65, 2.78, 3.05, 2.58, 2.52, 2.38, 3.19, 2.52, 2.77, 2.79, 3.12, 2.85, 1.88, 3.5, 2.83, 2.71, 3.1, 2.25, 2.55, 3.59, 3.23, 3.45, 2.92, 2.5, 2.5, 2.86, 2.32, 3.3, 2.96, 1.74, 2.64, 2.64, 2.73, 2.56, 2.55, 2.67, 1.86, 3.0, 2.28, 2.64, 3.08, 2.65, 2.38, 2.1, 2.88, 2.77, 2.48, 2.86, 2.23, 2.77, 2.65, 2.57, 2.78, 2.64, 3.14, 2.85, 2.94, 2.38, 2.62, 2.4, 2.53, 2.57, 3.33, 2.5, 2.97, 2.82, 2.9, 2.46, 2.67, 2.21, 2.53], \"y0\": \" \", \"yaxis\": \"y\"}],\n",
              "                        {\"boxmode\": \"group\", \"legend\": {\"tracegroupgap\": 0}, \"template\": {\"data\": {\"bar\": [{\"error_x\": {\"color\": \"#2a3f5f\"}, \"error_y\": {\"color\": \"#2a3f5f\"}, \"marker\": {\"line\": {\"color\": \"#E5ECF6\", \"width\": 0.5}}, \"type\": \"bar\"}], \"barpolar\": [{\"marker\": {\"line\": {\"color\": \"#E5ECF6\", \"width\": 0.5}}, \"type\": \"barpolar\"}], \"carpet\": [{\"aaxis\": {\"endlinecolor\": \"#2a3f5f\", \"gridcolor\": \"white\", \"linecolor\": \"white\", \"minorgridcolor\": \"white\", \"startlinecolor\": \"#2a3f5f\"}, \"baxis\": {\"endlinecolor\": \"#2a3f5f\", \"gridcolor\": \"white\", \"linecolor\": \"white\", \"minorgridcolor\": \"white\", \"startlinecolor\": \"#2a3f5f\"}, \"type\": \"carpet\"}], \"choropleth\": [{\"colorbar\": {\"outlinewidth\": 0, \"ticks\": \"\"}, \"type\": \"choropleth\"}], \"contour\": [{\"colorbar\": {\"outlinewidth\": 0, \"ticks\": \"\"}, \"colorscale\": [[0.0, \"#0d0887\"], [0.1111111111111111, \"#46039f\"], [0.2222222222222222, \"#7201a8\"], [0.3333333333333333, \"#9c179e\"], [0.4444444444444444, \"#bd3786\"], [0.5555555555555556, \"#d8576b\"], [0.6666666666666666, \"#ed7953\"], [0.7777777777777778, \"#fb9f3a\"], [0.8888888888888888, \"#fdca26\"], [1.0, \"#f0f921\"]], \"type\": \"contour\"}], \"contourcarpet\": [{\"colorbar\": {\"outlinewidth\": 0, \"ticks\": \"\"}, \"type\": \"contourcarpet\"}], \"heatmap\": [{\"colorbar\": {\"outlinewidth\": 0, \"ticks\": \"\"}, \"colorscale\": [[0.0, \"#0d0887\"], [0.1111111111111111, \"#46039f\"], [0.2222222222222222, \"#7201a8\"], [0.3333333333333333, \"#9c179e\"], [0.4444444444444444, \"#bd3786\"], [0.5555555555555556, \"#d8576b\"], [0.6666666666666666, \"#ed7953\"], [0.7777777777777778, \"#fb9f3a\"], [0.8888888888888888, \"#fdca26\"], [1.0, \"#f0f921\"]], \"type\": \"heatmap\"}], \"heatmapgl\": [{\"colorbar\": {\"outlinewidth\": 0, \"ticks\": \"\"}, \"colorscale\": [[0.0, \"#0d0887\"], [0.1111111111111111, \"#46039f\"], [0.2222222222222222, \"#7201a8\"], [0.3333333333333333, \"#9c179e\"], [0.4444444444444444, \"#bd3786\"], [0.5555555555555556, \"#d8576b\"], [0.6666666666666666, \"#ed7953\"], [0.7777777777777778, \"#fb9f3a\"], [0.8888888888888888, \"#fdca26\"], [1.0, \"#f0f921\"]], \"type\": \"heatmapgl\"}], \"histogram\": [{\"marker\": {\"colorbar\": {\"outlinewidth\": 0, \"ticks\": \"\"}}, \"type\": \"histogram\"}], \"histogram2d\": [{\"colorbar\": {\"outlinewidth\": 0, \"ticks\": \"\"}, \"colorscale\": [[0.0, \"#0d0887\"], [0.1111111111111111, \"#46039f\"], [0.2222222222222222, \"#7201a8\"], [0.3333333333333333, \"#9c179e\"], [0.4444444444444444, \"#bd3786\"], [0.5555555555555556, \"#d8576b\"], [0.6666666666666666, \"#ed7953\"], [0.7777777777777778, \"#fb9f3a\"], [0.8888888888888888, \"#fdca26\"], [1.0, \"#f0f921\"]], \"type\": \"histogram2d\"}], \"histogram2dcontour\": [{\"colorbar\": {\"outlinewidth\": 0, \"ticks\": \"\"}, \"colorscale\": [[0.0, \"#0d0887\"], [0.1111111111111111, \"#46039f\"], [0.2222222222222222, \"#7201a8\"], [0.3333333333333333, \"#9c179e\"], [0.4444444444444444, \"#bd3786\"], [0.5555555555555556, \"#d8576b\"], [0.6666666666666666, \"#ed7953\"], [0.7777777777777778, \"#fb9f3a\"], [0.8888888888888888, \"#fdca26\"], [1.0, \"#f0f921\"]], \"type\": \"histogram2dcontour\"}], \"mesh3d\": [{\"colorbar\": {\"outlinewidth\": 0, \"ticks\": \"\"}, \"type\": \"mesh3d\"}], \"parcoords\": [{\"line\": {\"colorbar\": {\"outlinewidth\": 0, \"ticks\": \"\"}}, \"type\": \"parcoords\"}], \"pie\": [{\"automargin\": true, \"type\": \"pie\"}], \"scatter\": [{\"marker\": {\"colorbar\": {\"outlinewidth\": 0, \"ticks\": \"\"}}, \"type\": \"scatter\"}], \"scatter3d\": [{\"line\": {\"colorbar\": {\"outlinewidth\": 0, \"ticks\": \"\"}}, \"marker\": {\"colorbar\": {\"outlinewidth\": 0, \"ticks\": \"\"}}, \"type\": \"scatter3d\"}], \"scattercarpet\": [{\"marker\": {\"colorbar\": {\"outlinewidth\": 0, \"ticks\": \"\"}}, \"type\": \"scattercarpet\"}], \"scattergeo\": [{\"marker\": {\"colorbar\": {\"outlinewidth\": 0, \"ticks\": \"\"}}, \"type\": \"scattergeo\"}], \"scattergl\": [{\"marker\": {\"colorbar\": {\"outlinewidth\": 0, \"ticks\": \"\"}}, \"type\": \"scattergl\"}], \"scattermapbox\": [{\"marker\": {\"colorbar\": {\"outlinewidth\": 0, \"ticks\": \"\"}}, \"type\": \"scattermapbox\"}], \"scatterpolar\": [{\"marker\": {\"colorbar\": {\"outlinewidth\": 0, \"ticks\": \"\"}}, \"type\": \"scatterpolar\"}], \"scatterpolargl\": [{\"marker\": {\"colorbar\": {\"outlinewidth\": 0, \"ticks\": \"\"}}, \"type\": \"scatterpolargl\"}], \"scatterternary\": [{\"marker\": {\"colorbar\": {\"outlinewidth\": 0, \"ticks\": \"\"}}, \"type\": \"scatterternary\"}], \"surface\": [{\"colorbar\": {\"outlinewidth\": 0, \"ticks\": \"\"}, \"colorscale\": [[0.0, \"#0d0887\"], [0.1111111111111111, \"#46039f\"], [0.2222222222222222, \"#7201a8\"], [0.3333333333333333, \"#9c179e\"], [0.4444444444444444, \"#bd3786\"], [0.5555555555555556, \"#d8576b\"], [0.6666666666666666, \"#ed7953\"], [0.7777777777777778, \"#fb9f3a\"], [0.8888888888888888, \"#fdca26\"], [1.0, \"#f0f921\"]], \"type\": \"surface\"}], \"table\": [{\"cells\": {\"fill\": {\"color\": \"#EBF0F8\"}, \"line\": {\"color\": \"white\"}}, \"header\": {\"fill\": {\"color\": \"#C8D4E3\"}, \"line\": {\"color\": \"white\"}}, \"type\": \"table\"}]}, \"layout\": {\"annotationdefaults\": {\"arrowcolor\": \"#2a3f5f\", \"arrowhead\": 0, \"arrowwidth\": 1}, \"coloraxis\": {\"colorbar\": {\"outlinewidth\": 0, \"ticks\": \"\"}}, \"colorscale\": {\"diverging\": [[0, \"#8e0152\"], [0.1, \"#c51b7d\"], [0.2, \"#de77ae\"], [0.3, \"#f1b6da\"], [0.4, \"#fde0ef\"], [0.5, \"#f7f7f7\"], [0.6, \"#e6f5d0\"], [0.7, \"#b8e186\"], [0.8, \"#7fbc41\"], [0.9, \"#4d9221\"], [1, \"#276419\"]], \"sequential\": [[0.0, \"#0d0887\"], [0.1111111111111111, \"#46039f\"], [0.2222222222222222, \"#7201a8\"], [0.3333333333333333, \"#9c179e\"], [0.4444444444444444, \"#bd3786\"], [0.5555555555555556, \"#d8576b\"], [0.6666666666666666, \"#ed7953\"], [0.7777777777777778, \"#fb9f3a\"], [0.8888888888888888, \"#fdca26\"], [1.0, \"#f0f921\"]], \"sequentialminus\": [[0.0, \"#0d0887\"], [0.1111111111111111, \"#46039f\"], [0.2222222222222222, \"#7201a8\"], [0.3333333333333333, \"#9c179e\"], [0.4444444444444444, \"#bd3786\"], [0.5555555555555556, \"#d8576b\"], [0.6666666666666666, \"#ed7953\"], [0.7777777777777778, \"#fb9f3a\"], [0.8888888888888888, \"#fdca26\"], [1.0, \"#f0f921\"]]}, \"colorway\": [\"#636efa\", \"#EF553B\", \"#00cc96\", \"#ab63fa\", \"#FFA15A\", \"#19d3f3\", \"#FF6692\", \"#B6E880\", \"#FF97FF\", \"#FECB52\"], \"font\": {\"color\": \"#2a3f5f\"}, \"geo\": {\"bgcolor\": \"white\", \"lakecolor\": \"white\", \"landcolor\": \"#E5ECF6\", \"showlakes\": true, \"showland\": true, \"subunitcolor\": \"white\"}, \"hoverlabel\": {\"align\": \"left\"}, \"hovermode\": \"closest\", \"mapbox\": {\"style\": \"light\"}, \"paper_bgcolor\": \"white\", \"plot_bgcolor\": \"#E5ECF6\", \"polar\": {\"angularaxis\": {\"gridcolor\": \"white\", \"linecolor\": \"white\", \"ticks\": \"\"}, \"bgcolor\": \"#E5ECF6\", \"radialaxis\": {\"gridcolor\": \"white\", \"linecolor\": \"white\", \"ticks\": \"\"}}, \"scene\": {\"xaxis\": {\"backgroundcolor\": \"#E5ECF6\", \"gridcolor\": \"white\", \"gridwidth\": 2, \"linecolor\": \"white\", \"showbackground\": true, \"ticks\": \"\", \"zerolinecolor\": \"white\"}, \"yaxis\": {\"backgroundcolor\": \"#E5ECF6\", \"gridcolor\": \"white\", \"gridwidth\": 2, \"linecolor\": \"white\", \"showbackground\": true, \"ticks\": \"\", \"zerolinecolor\": \"white\"}, \"zaxis\": {\"backgroundcolor\": \"#E5ECF6\", \"gridcolor\": \"white\", \"gridwidth\": 2, \"linecolor\": \"white\", \"showbackground\": true, \"ticks\": \"\", \"zerolinecolor\": \"white\"}}, \"shapedefaults\": {\"line\": {\"color\": \"#2a3f5f\"}}, \"ternary\": {\"aaxis\": {\"gridcolor\": \"white\", \"linecolor\": \"white\", \"ticks\": \"\"}, \"baxis\": {\"gridcolor\": \"white\", \"linecolor\": \"white\", \"ticks\": \"\"}, \"bgcolor\": \"#E5ECF6\", \"caxis\": {\"gridcolor\": \"white\", \"linecolor\": \"white\", \"ticks\": \"\"}}, \"title\": {\"x\": 0.05}, \"xaxis\": {\"automargin\": true, \"gridcolor\": \"white\", \"linecolor\": \"white\", \"ticks\": \"\", \"title\": {\"standoff\": 15}, \"zerolinecolor\": \"white\", \"zerolinewidth\": 2}, \"yaxis\": {\"automargin\": true, \"gridcolor\": \"white\", \"linecolor\": \"white\", \"ticks\": \"\", \"title\": {\"standoff\": 15}, \"zerolinecolor\": \"white\", \"zerolinewidth\": 2}}}, \"title\": {\"text\": \"Boxplot of average rating for questions\"}, \"xaxis\": {\"anchor\": \"y\", \"domain\": [0.0, 1.0]}, \"yaxis\": {\"anchor\": \"x\", \"domain\": [0.0, 1.0], \"title\": {\"text\": \"The average rating for each question\"}}},\n",
              "                        {\"responsive\": true}\n",
              "                    ).then(function(){\n",
              "                            \n",
              "var gd = document.getElementById('77412f07-c387-4ac4-a18f-9ad563040804');\n",
              "var x = new MutationObserver(function (mutations, observer) {{\n",
              "        var display = window.getComputedStyle(gd).display;\n",
              "        if (!display || display === 'none') {{\n",
              "            console.log([gd, 'removed!']);\n",
              "            Plotly.purge(gd);\n",
              "            observer.disconnect();\n",
              "        }}\n",
              "}});\n",
              "\n",
              "// Listen for the removal of the full notebook cells\n",
              "var notebookContainer = gd.closest('#notebook-container');\n",
              "if (notebookContainer) {{\n",
              "    x.observe(notebookContainer, {childList: true});\n",
              "}}\n",
              "\n",
              "// Listen for the clearing of the current output cell\n",
              "var outputEl = gd.closest('.output');\n",
              "if (outputEl) {{\n",
              "    x.observe(outputEl, {childList: true});\n",
              "}}\n",
              "\n",
              "                        })\n",
              "                };\n",
              "                \n",
              "            </script>\n",
              "        </div>\n",
              "</body>\n",
              "</html>"
            ]
          },
          "metadata": {
            "tags": []
          }
        }
      ]
    },
    {
      "cell_type": "markdown",
      "metadata": {
        "id": "LIJJ2LODXmmU"
      },
      "source": [
        "- Most students rated question difficulty quite low\n",
        "- Most questions had a reasonable rating so hopefully question quality does not affect our analysis too much (but keep in mind)\n",
        "- Let's see how they do in answering these questions"
      ]
    },
    {
      "cell_type": "code",
      "metadata": {
        "id": "puWEeSZ9Xj_x",
        "outputId": "2d862d70-154a-4004-ba27-7bd9ee36a3e0",
        "colab": {
          "base_uri": "https://localhost:8080/",
          "height": 204
        }
      },
      "source": [
        "c3answers.head()"
      ],
      "execution_count": 119,
      "outputs": [
        {
          "output_type": "execute_result",
          "data": {
            "text/html": [
              "<div>\n",
              "<style scoped>\n",
              "    .dataframe tbody tr th:only-of-type {\n",
              "        vertical-align: middle;\n",
              "    }\n",
              "\n",
              "    .dataframe tbody tr th {\n",
              "        vertical-align: top;\n",
              "    }\n",
              "\n",
              "    .dataframe thead th {\n",
              "        text-align: right;\n",
              "    }\n",
              "</style>\n",
              "<table border=\"1\" class=\"dataframe\">\n",
              "  <thead>\n",
              "    <tr style=\"text-align: right;\">\n",
              "      <th></th>\n",
              "      <th>id</th>\n",
              "      <th>timestamp</th>\n",
              "      <th>user</th>\n",
              "      <th>question_id</th>\n",
              "      <th>answer</th>\n",
              "      <th>last_answer</th>\n",
              "      <th>result</th>\n",
              "      <th>cousreID</th>\n",
              "    </tr>\n",
              "  </thead>\n",
              "  <tbody>\n",
              "    <tr>\n",
              "      <th>0</th>\n",
              "      <td>69566868</td>\n",
              "      <td>2020-04-08 00:24:47</td>\n",
              "      <td>636020</td>\n",
              "      <td>4421443</td>\n",
              "      <td>B</td>\n",
              "      <td>NaN</td>\n",
              "      <td>2</td>\n",
              "      <td>21230</td>\n",
              "    </tr>\n",
              "    <tr>\n",
              "      <th>1</th>\n",
              "      <td>69566931</td>\n",
              "      <td>2020-04-08 00:28:00</td>\n",
              "      <td>636020</td>\n",
              "      <td>4421442</td>\n",
              "      <td>D</td>\n",
              "      <td>NaN</td>\n",
              "      <td>2</td>\n",
              "      <td>21230</td>\n",
              "    </tr>\n",
              "    <tr>\n",
              "      <th>2</th>\n",
              "      <td>69567000</td>\n",
              "      <td>2020-04-08 00:32:09</td>\n",
              "      <td>636020</td>\n",
              "      <td>4421441</td>\n",
              "      <td>E</td>\n",
              "      <td>E</td>\n",
              "      <td>4</td>\n",
              "      <td>21230</td>\n",
              "    </tr>\n",
              "    <tr>\n",
              "      <th>3</th>\n",
              "      <td>69567037</td>\n",
              "      <td>2020-04-08 00:34:12</td>\n",
              "      <td>636020</td>\n",
              "      <td>4421440</td>\n",
              "      <td>B</td>\n",
              "      <td>B</td>\n",
              "      <td>4</td>\n",
              "      <td>21230</td>\n",
              "    </tr>\n",
              "    <tr>\n",
              "      <th>4</th>\n",
              "      <td>69567139</td>\n",
              "      <td>2020-04-08 00:40:17</td>\n",
              "      <td>636020</td>\n",
              "      <td>4421439</td>\n",
              "      <td>C</td>\n",
              "      <td>D</td>\n",
              "      <td>2</td>\n",
              "      <td>21230</td>\n",
              "    </tr>\n",
              "  </tbody>\n",
              "</table>\n",
              "</div>"
            ],
            "text/plain": [
              "         id            timestamp    user  ...  last_answer result cousreID\n",
              "0  69566868  2020-04-08 00:24:47  636020  ...          NaN      2    21230\n",
              "1  69566931  2020-04-08 00:28:00  636020  ...          NaN      2    21230\n",
              "2  69567000  2020-04-08 00:32:09  636020  ...            E      4    21230\n",
              "3  69567037  2020-04-08 00:34:12  636020  ...            B      4    21230\n",
              "4  69567139  2020-04-08 00:40:17  636020  ...            D      2    21230\n",
              "\n",
              "[5 rows x 8 columns]"
            ]
          },
          "metadata": {
            "tags": []
          },
          "execution_count": 119
        }
      ]
    },
    {
      "cell_type": "markdown",
      "metadata": {
        "id": "bvnhOwLNXvD3"
      },
      "source": [
        "- We will use the 'answer' column to determine if a student got a question correct\n",
        "\n",
        "> Indented block\n",
        "\n"
      ]
    },
    {
      "cell_type": "markdown",
      "metadata": {
        "id": "k_cOA3RVX2ia"
      },
      "source": [
        "## Pre-processing and joins\n",
        "- Firstly we'll construct dataframes using a subset of the columns (we don't need them all)\n",
        "- We'll also rename some of these columns for clarity"
      ]
    },
    {
      "cell_type": "code",
      "metadata": {
        "id": "V5ZSgtJTX3V4",
        "outputId": "d9334db6-04b4-4cbd-8990-96dfc014941a",
        "colab": {
          "base_uri": "https://localhost:8080/",
          "height": 309
        }
      },
      "source": [
        "qs_selected = c3questions[['id', 'timestamp', 'user', 'avg_rating', 'avg_difficulty', 'total_responses', 'total_comments', 'answer', 'course_id']] # Select certain columns\n",
        "qs_selected = qs_selected.rename(columns={'id' : 'question_id', 'timestamp' : 'question_time', 'user' : 'user_id', 'answer' : 'correct_answer'})                   # Rename\n",
        "qs_selected.head()"
      ],
      "execution_count": 128,
      "outputs": [
        {
          "output_type": "execute_result",
          "data": {
            "text/html": [
              "<div>\n",
              "<style scoped>\n",
              "    .dataframe tbody tr th:only-of-type {\n",
              "        vertical-align: middle;\n",
              "    }\n",
              "\n",
              "    .dataframe tbody tr th {\n",
              "        vertical-align: top;\n",
              "    }\n",
              "\n",
              "    .dataframe thead th {\n",
              "        text-align: right;\n",
              "    }\n",
              "</style>\n",
              "<table border=\"1\" class=\"dataframe\">\n",
              "  <thead>\n",
              "    <tr style=\"text-align: right;\">\n",
              "      <th></th>\n",
              "      <th>question_id</th>\n",
              "      <th>question_time</th>\n",
              "      <th>user_id</th>\n",
              "      <th>avg_rating</th>\n",
              "      <th>avg_difficulty</th>\n",
              "      <th>total_responses</th>\n",
              "      <th>total_comments</th>\n",
              "      <th>correct_answer</th>\n",
              "      <th>course_id</th>\n",
              "    </tr>\n",
              "  </thead>\n",
              "  <tbody>\n",
              "    <tr>\n",
              "      <th>0</th>\n",
              "      <td>4421360</td>\n",
              "      <td>2020-04-07 22:29:54</td>\n",
              "      <td>217514</td>\n",
              "      <td>2.50</td>\n",
              "      <td>0.7500</td>\n",
              "      <td>29</td>\n",
              "      <td>2</td>\n",
              "      <td>B</td>\n",
              "      <td>21230</td>\n",
              "    </tr>\n",
              "    <tr>\n",
              "      <th>1</th>\n",
              "      <td>4421361</td>\n",
              "      <td>2020-04-07 22:30:18</td>\n",
              "      <td>217514</td>\n",
              "      <td>3.27</td>\n",
              "      <td>0.9091</td>\n",
              "      <td>37</td>\n",
              "      <td>1</td>\n",
              "      <td>D</td>\n",
              "      <td>21230</td>\n",
              "    </tr>\n",
              "    <tr>\n",
              "      <th>2</th>\n",
              "      <td>4421362</td>\n",
              "      <td>2020-04-07 22:30:18</td>\n",
              "      <td>217514</td>\n",
              "      <td>2.96</td>\n",
              "      <td>0.5000</td>\n",
              "      <td>32</td>\n",
              "      <td>0</td>\n",
              "      <td>C</td>\n",
              "      <td>21230</td>\n",
              "    </tr>\n",
              "    <tr>\n",
              "      <th>3</th>\n",
              "      <td>4421363</td>\n",
              "      <td>2020-04-07 22:30:19</td>\n",
              "      <td>217514</td>\n",
              "      <td>1.67</td>\n",
              "      <td>0.9524</td>\n",
              "      <td>31</td>\n",
              "      <td>3</td>\n",
              "      <td>C</td>\n",
              "      <td>21230</td>\n",
              "    </tr>\n",
              "    <tr>\n",
              "      <th>4</th>\n",
              "      <td>4421364</td>\n",
              "      <td>2020-04-07 22:30:19</td>\n",
              "      <td>217514</td>\n",
              "      <td>2.67</td>\n",
              "      <td>0.2857</td>\n",
              "      <td>32</td>\n",
              "      <td>0</td>\n",
              "      <td>D</td>\n",
              "      <td>21230</td>\n",
              "    </tr>\n",
              "  </tbody>\n",
              "</table>\n",
              "</div>"
            ],
            "text/plain": [
              "   question_id        question_time  ...  correct_answer  course_id\n",
              "0      4421360  2020-04-07 22:29:54  ...               B      21230\n",
              "1      4421361  2020-04-07 22:30:18  ...               D      21230\n",
              "2      4421362  2020-04-07 22:30:18  ...               C      21230\n",
              "3      4421363  2020-04-07 22:30:19  ...               C      21230\n",
              "4      4421364  2020-04-07 22:30:19  ...               D      21230\n",
              "\n",
              "[5 rows x 9 columns]"
            ]
          },
          "metadata": {
            "tags": []
          },
          "execution_count": 128
        }
      ]
    },
    {
      "cell_type": "code",
      "metadata": {
        "id": "i59Nc5qWX640",
        "outputId": "55f23e5b-b53e-4335-9f05-f80471e77b14",
        "colab": {
          "base_uri": "https://localhost:8080/",
          "height": 204
        }
      },
      "source": [
        "ans_selected = c3answers[['id', 'timestamp', 'user', 'question_id', 'answer']]\n",
        "ans_selected = ans_selected.rename(columns={'id' : 'answer_id', 'timestamp' : 'answer_time', 'user' : 'user_id', 'answer' : 'chosen_answer'})\n",
        "ans_selected.head()"
      ],
      "execution_count": 129,
      "outputs": [
        {
          "output_type": "execute_result",
          "data": {
            "text/html": [
              "<div>\n",
              "<style scoped>\n",
              "    .dataframe tbody tr th:only-of-type {\n",
              "        vertical-align: middle;\n",
              "    }\n",
              "\n",
              "    .dataframe tbody tr th {\n",
              "        vertical-align: top;\n",
              "    }\n",
              "\n",
              "    .dataframe thead th {\n",
              "        text-align: right;\n",
              "    }\n",
              "</style>\n",
              "<table border=\"1\" class=\"dataframe\">\n",
              "  <thead>\n",
              "    <tr style=\"text-align: right;\">\n",
              "      <th></th>\n",
              "      <th>answer_id</th>\n",
              "      <th>answer_time</th>\n",
              "      <th>user_id</th>\n",
              "      <th>question_id</th>\n",
              "      <th>chosen_answer</th>\n",
              "    </tr>\n",
              "  </thead>\n",
              "  <tbody>\n",
              "    <tr>\n",
              "      <th>0</th>\n",
              "      <td>69566868</td>\n",
              "      <td>2020-04-08 00:24:47</td>\n",
              "      <td>636020</td>\n",
              "      <td>4421443</td>\n",
              "      <td>B</td>\n",
              "    </tr>\n",
              "    <tr>\n",
              "      <th>1</th>\n",
              "      <td>69566931</td>\n",
              "      <td>2020-04-08 00:28:00</td>\n",
              "      <td>636020</td>\n",
              "      <td>4421442</td>\n",
              "      <td>D</td>\n",
              "    </tr>\n",
              "    <tr>\n",
              "      <th>2</th>\n",
              "      <td>69567000</td>\n",
              "      <td>2020-04-08 00:32:09</td>\n",
              "      <td>636020</td>\n",
              "      <td>4421441</td>\n",
              "      <td>E</td>\n",
              "    </tr>\n",
              "    <tr>\n",
              "      <th>3</th>\n",
              "      <td>69567037</td>\n",
              "      <td>2020-04-08 00:34:12</td>\n",
              "      <td>636020</td>\n",
              "      <td>4421440</td>\n",
              "      <td>B</td>\n",
              "    </tr>\n",
              "    <tr>\n",
              "      <th>4</th>\n",
              "      <td>69567139</td>\n",
              "      <td>2020-04-08 00:40:17</td>\n",
              "      <td>636020</td>\n",
              "      <td>4421439</td>\n",
              "      <td>C</td>\n",
              "    </tr>\n",
              "  </tbody>\n",
              "</table>\n",
              "</div>"
            ],
            "text/plain": [
              "   answer_id          answer_time  user_id  question_id chosen_answer\n",
              "0   69566868  2020-04-08 00:24:47   636020      4421443             B\n",
              "1   69566931  2020-04-08 00:28:00   636020      4421442             D\n",
              "2   69567000  2020-04-08 00:32:09   636020      4421441             E\n",
              "3   69567037  2020-04-08 00:34:12   636020      4421440             B\n",
              "4   69567139  2020-04-08 00:40:17   636020      4421439             C"
            ]
          },
          "metadata": {
            "tags": []
          },
          "execution_count": 129
        }
      ]
    },
    {
      "cell_type": "markdown",
      "metadata": {
        "id": "aZmHqGgfX9a8"
      },
      "source": [
        "- We now have a much more organised questions dataframe, containing all the information we require for our analysis\n",
        "- The column headings are also much clearer"
      ]
    },
    {
      "cell_type": "markdown",
      "metadata": {
        "id": "nvB20jTJYBEm"
      },
      "source": [
        "## Analysis"
      ]
    },
    {
      "cell_type": "markdown",
      "metadata": {
        "id": "oBda5oTpYDgL"
      },
      "source": [
        "### Merging answers with questions\n",
        "- Need to do this so we know what the correct answer is!\n",
        "- `q_and_a` will be the answers but with the correct answer as well\n",
        "- We may need more information about a particular question later but for now this is ok"
      ]
    },
    {
      "cell_type": "code",
      "metadata": {
        "id": "JiK6jmmcX9Ew",
        "outputId": "7d84f0ea-cbce-48ad-b54f-d9b82f8ccc19",
        "colab": {
          "base_uri": "https://localhost:8080/",
          "height": 204
        }
      },
      "source": [
        "q_and_a = ans_selected.merge(qs_selected[['question_id', 'correct_answer']], on='question_id')\n",
        "q_and_a.head()"
      ],
      "execution_count": 130,
      "outputs": [
        {
          "output_type": "execute_result",
          "data": {
            "text/html": [
              "<div>\n",
              "<style scoped>\n",
              "    .dataframe tbody tr th:only-of-type {\n",
              "        vertical-align: middle;\n",
              "    }\n",
              "\n",
              "    .dataframe tbody tr th {\n",
              "        vertical-align: top;\n",
              "    }\n",
              "\n",
              "    .dataframe thead th {\n",
              "        text-align: right;\n",
              "    }\n",
              "</style>\n",
              "<table border=\"1\" class=\"dataframe\">\n",
              "  <thead>\n",
              "    <tr style=\"text-align: right;\">\n",
              "      <th></th>\n",
              "      <th>answer_id</th>\n",
              "      <th>answer_time</th>\n",
              "      <th>user_id</th>\n",
              "      <th>question_id</th>\n",
              "      <th>chosen_answer</th>\n",
              "      <th>correct_answer</th>\n",
              "    </tr>\n",
              "  </thead>\n",
              "  <tbody>\n",
              "    <tr>\n",
              "      <th>0</th>\n",
              "      <td>69566868</td>\n",
              "      <td>2020-04-08 00:24:47</td>\n",
              "      <td>636020</td>\n",
              "      <td>4421443</td>\n",
              "      <td>B</td>\n",
              "      <td>B</td>\n",
              "    </tr>\n",
              "    <tr>\n",
              "      <th>1</th>\n",
              "      <td>69567865</td>\n",
              "      <td>2020-04-08 01:09:42</td>\n",
              "      <td>636029</td>\n",
              "      <td>4421443</td>\n",
              "      <td>B</td>\n",
              "      <td>B</td>\n",
              "    </tr>\n",
              "    <tr>\n",
              "      <th>2</th>\n",
              "      <td>69570815</td>\n",
              "      <td>2020-04-08 03:03:02</td>\n",
              "      <td>635998</td>\n",
              "      <td>4421443</td>\n",
              "      <td>A</td>\n",
              "      <td>B</td>\n",
              "    </tr>\n",
              "    <tr>\n",
              "      <th>3</th>\n",
              "      <td>69583371</td>\n",
              "      <td>2020-04-08 10:34:31</td>\n",
              "      <td>635992</td>\n",
              "      <td>4421443</td>\n",
              "      <td>B</td>\n",
              "      <td>B</td>\n",
              "    </tr>\n",
              "    <tr>\n",
              "      <th>4</th>\n",
              "      <td>69595122</td>\n",
              "      <td>2020-04-08 14:55:46</td>\n",
              "      <td>636019</td>\n",
              "      <td>4421443</td>\n",
              "      <td>A</td>\n",
              "      <td>B</td>\n",
              "    </tr>\n",
              "  </tbody>\n",
              "</table>\n",
              "</div>"
            ],
            "text/plain": [
              "   answer_id          answer_time  ...  chosen_answer  correct_answer\n",
              "0   69566868  2020-04-08 00:24:47  ...              B               B\n",
              "1   69567865  2020-04-08 01:09:42  ...              B               B\n",
              "2   69570815  2020-04-08 03:03:02  ...              A               B\n",
              "3   69583371  2020-04-08 10:34:31  ...              B               B\n",
              "4   69595122  2020-04-08 14:55:46  ...              A               B\n",
              "\n",
              "[5 rows x 6 columns]"
            ]
          },
          "metadata": {
            "tags": []
          },
          "execution_count": 130
        }
      ]
    },
    {
      "cell_type": "markdown",
      "metadata": {
        "id": "Yfh6tFSGYH0v"
      },
      "source": [
        "### Finding the % of correct answers by each student\n",
        "- We're going to calculate how many questions each student got correct\n",
        "- Then using the total number of answers for each student, we will find the percentage of questions that each student got correct using the following formula $\\frac{\\text{num_correct}}{\\text{total_answers}}$"
      ]
    },
    {
      "cell_type": "code",
      "metadata": {
        "id": "9NG5ghX2YJp9",
        "outputId": "0a2d8375-f54e-4fe6-9820-0886b4eb1985",
        "colab": {
          "base_uri": "https://localhost:8080/",
          "height": 542
        }
      },
      "source": [
        "# Authors: Yan and Tash\n",
        "# Supporter: Johanna\n",
        "# Date:\n",
        "answers_by_student = q_and_a[['user_id', 'answer_id']].groupby('user_id', as_index=False).count() # Count number of answers per user\n",
        "\n",
        "px.histogram(answers_by_student, x = \"answer_id\",labels={\n",
        "                     \"answer_id\": \"Number of answers per student\"})\n"
      ],
      "execution_count": 140,
      "outputs": [
        {
          "output_type": "display_data",
          "data": {
            "text/html": [
              "<html>\n",
              "<head><meta charset=\"utf-8\" /></head>\n",
              "<body>\n",
              "    <div>\n",
              "            <script src=\"https://cdnjs.cloudflare.com/ajax/libs/mathjax/2.7.5/MathJax.js?config=TeX-AMS-MML_SVG\"></script><script type=\"text/javascript\">if (window.MathJax) {MathJax.Hub.Config({SVG: {font: \"STIX-Web\"}});}</script>\n",
              "                <script type=\"text/javascript\">window.PlotlyConfig = {MathJaxConfig: 'local'};</script>\n",
              "        <script src=\"https://cdn.plot.ly/plotly-latest.min.js\"></script>    \n",
              "            <div id=\"c82f3956-7567-44f2-a195-ec60d5f9b858\" class=\"plotly-graph-div\" style=\"height:525px; width:100%;\"></div>\n",
              "            <script type=\"text/javascript\">\n",
              "                \n",
              "                    window.PLOTLYENV=window.PLOTLYENV || {};\n",
              "                    \n",
              "                if (document.getElementById(\"c82f3956-7567-44f2-a195-ec60d5f9b858\")) {\n",
              "                    Plotly.newPlot(\n",
              "                        'c82f3956-7567-44f2-a195-ec60d5f9b858',\n",
              "                        [{\"alignmentgroup\": \"True\", \"bingroup\": \"x\", \"hoverlabel\": {\"namelength\": 0}, \"hovertemplate\": \"Number of answers per student=%{x}<br>count=%{y}\", \"legendgroup\": \"\", \"marker\": {\"color\": \"#636efa\"}, \"name\": \"\", \"offsetgroup\": \"\", \"orientation\": \"v\", \"showlegend\": false, \"type\": \"histogram\", \"x\": [40, 40, 57, 40, 40, 43, 41, 42, 52, 42, 41, 43, 41, 46, 52, 50, 41, 43, 54, 55, 42, 40, 41, 42, 42, 47, 50, 76, 41, 40, 40, 46, 44, 40, 40, 43, 43, 53, 45, 40, 53, 45, 40, 76, 51, 76, 40, 43, 40, 41, 76, 42, 41, 43, 42, 44, 50, 51, 51, 76, 40, 42, 40, 50, 42, 76, 64, 42, 43, 62, 48, 102, 40, 47, 40, 40, 41, 41, 60, 102, 51, 62, 50, 40, 41, 42, 59, 41, 43, 53, 40, 41, 40, 42, 45, 41, 43, 41, 42, 51, 20, 43, 41, 40, 42, 42, 40, 43, 40, 40, 40, 40, 42, 43, 41, 49, 40, 60, 40, 58, 42, 52, 42, 40, 40, 41, 41, 41, 43, 54, 44, 51, 45, 49, 40, 15, 42, 42, 50, 41, 40, 47, 42, 50, 54, 41, 50, 60, 67, 40, 41, 43, 55, 43, 43, 48, 40, 40, 45, 61, 40, 42, 51, 11, 52, 57, 47, 44, 49, 44, 40, 80, 42, 40, 56, 72, 41, 67, 40, 40, 50, 42, 100, 44, 41, 46, 44, 40, 71, 40, 72, 40, 44, 100, 58, 42, 47, 40, 40, 41, 40, 41, 51, 47, 45, 42, 48, 43, 40, 42, 48, 50, 42, 52, 51, 40, 84, 40, 70, 42, 42, 47, 40, 48, 40, 40, 43, 40, 40, 41, 40, 57, 40, 40, 40, 40, 40, 42, 41, 5, 40, 42, 47, 4, 47, 41, 41, 40, 51, 63, 47, 45, 40, 64, 41, 40, 45, 47, 84, 84, 43, 52, 44, 44, 42, 56, 40, 50, 40, 50, 84, 45, 40, 50, 11, 50, 42, 76, 44, 44, 49, 102, 41, 50, 40], \"xaxis\": \"x\", \"yaxis\": \"y\"}],\n",
              "                        {\"barmode\": \"relative\", \"legend\": {\"tracegroupgap\": 0}, \"margin\": {\"t\": 60}, \"template\": {\"data\": {\"bar\": [{\"error_x\": {\"color\": \"#2a3f5f\"}, \"error_y\": {\"color\": \"#2a3f5f\"}, \"marker\": {\"line\": {\"color\": \"#E5ECF6\", \"width\": 0.5}}, \"type\": \"bar\"}], \"barpolar\": [{\"marker\": {\"line\": {\"color\": \"#E5ECF6\", \"width\": 0.5}}, \"type\": \"barpolar\"}], \"carpet\": [{\"aaxis\": {\"endlinecolor\": \"#2a3f5f\", \"gridcolor\": \"white\", \"linecolor\": \"white\", \"minorgridcolor\": \"white\", \"startlinecolor\": \"#2a3f5f\"}, \"baxis\": {\"endlinecolor\": \"#2a3f5f\", \"gridcolor\": \"white\", \"linecolor\": \"white\", \"minorgridcolor\": \"white\", \"startlinecolor\": \"#2a3f5f\"}, \"type\": \"carpet\"}], \"choropleth\": [{\"colorbar\": {\"outlinewidth\": 0, \"ticks\": \"\"}, \"type\": \"choropleth\"}], \"contour\": [{\"colorbar\": {\"outlinewidth\": 0, \"ticks\": \"\"}, \"colorscale\": [[0.0, \"#0d0887\"], [0.1111111111111111, \"#46039f\"], [0.2222222222222222, \"#7201a8\"], [0.3333333333333333, \"#9c179e\"], [0.4444444444444444, \"#bd3786\"], [0.5555555555555556, \"#d8576b\"], [0.6666666666666666, \"#ed7953\"], [0.7777777777777778, \"#fb9f3a\"], [0.8888888888888888, \"#fdca26\"], [1.0, \"#f0f921\"]], \"type\": \"contour\"}], \"contourcarpet\": [{\"colorbar\": {\"outlinewidth\": 0, \"ticks\": \"\"}, \"type\": \"contourcarpet\"}], \"heatmap\": [{\"colorbar\": {\"outlinewidth\": 0, \"ticks\": \"\"}, \"colorscale\": [[0.0, \"#0d0887\"], [0.1111111111111111, \"#46039f\"], [0.2222222222222222, \"#7201a8\"], [0.3333333333333333, \"#9c179e\"], [0.4444444444444444, \"#bd3786\"], [0.5555555555555556, \"#d8576b\"], [0.6666666666666666, \"#ed7953\"], [0.7777777777777778, \"#fb9f3a\"], [0.8888888888888888, \"#fdca26\"], [1.0, \"#f0f921\"]], \"type\": \"heatmap\"}], \"heatmapgl\": [{\"colorbar\": {\"outlinewidth\": 0, \"ticks\": \"\"}, \"colorscale\": [[0.0, \"#0d0887\"], [0.1111111111111111, \"#46039f\"], [0.2222222222222222, \"#7201a8\"], [0.3333333333333333, \"#9c179e\"], [0.4444444444444444, \"#bd3786\"], [0.5555555555555556, \"#d8576b\"], [0.6666666666666666, \"#ed7953\"], [0.7777777777777778, \"#fb9f3a\"], [0.8888888888888888, \"#fdca26\"], [1.0, \"#f0f921\"]], \"type\": \"heatmapgl\"}], \"histogram\": [{\"marker\": {\"colorbar\": {\"outlinewidth\": 0, \"ticks\": \"\"}}, \"type\": \"histogram\"}], \"histogram2d\": [{\"colorbar\": {\"outlinewidth\": 0, \"ticks\": \"\"}, \"colorscale\": [[0.0, \"#0d0887\"], [0.1111111111111111, \"#46039f\"], [0.2222222222222222, \"#7201a8\"], [0.3333333333333333, \"#9c179e\"], [0.4444444444444444, \"#bd3786\"], [0.5555555555555556, \"#d8576b\"], [0.6666666666666666, \"#ed7953\"], [0.7777777777777778, \"#fb9f3a\"], [0.8888888888888888, \"#fdca26\"], [1.0, \"#f0f921\"]], \"type\": \"histogram2d\"}], \"histogram2dcontour\": [{\"colorbar\": {\"outlinewidth\": 0, \"ticks\": \"\"}, \"colorscale\": [[0.0, \"#0d0887\"], [0.1111111111111111, \"#46039f\"], [0.2222222222222222, \"#7201a8\"], [0.3333333333333333, \"#9c179e\"], [0.4444444444444444, \"#bd3786\"], [0.5555555555555556, \"#d8576b\"], [0.6666666666666666, \"#ed7953\"], [0.7777777777777778, \"#fb9f3a\"], [0.8888888888888888, \"#fdca26\"], [1.0, \"#f0f921\"]], \"type\": \"histogram2dcontour\"}], \"mesh3d\": [{\"colorbar\": {\"outlinewidth\": 0, \"ticks\": \"\"}, \"type\": \"mesh3d\"}], \"parcoords\": [{\"line\": {\"colorbar\": {\"outlinewidth\": 0, \"ticks\": \"\"}}, \"type\": \"parcoords\"}], \"pie\": [{\"automargin\": true, \"type\": \"pie\"}], \"scatter\": [{\"marker\": {\"colorbar\": {\"outlinewidth\": 0, \"ticks\": \"\"}}, \"type\": \"scatter\"}], \"scatter3d\": [{\"line\": {\"colorbar\": {\"outlinewidth\": 0, \"ticks\": \"\"}}, \"marker\": {\"colorbar\": {\"outlinewidth\": 0, \"ticks\": \"\"}}, \"type\": \"scatter3d\"}], \"scattercarpet\": [{\"marker\": {\"colorbar\": {\"outlinewidth\": 0, \"ticks\": \"\"}}, \"type\": \"scattercarpet\"}], \"scattergeo\": [{\"marker\": {\"colorbar\": {\"outlinewidth\": 0, \"ticks\": \"\"}}, \"type\": \"scattergeo\"}], \"scattergl\": [{\"marker\": {\"colorbar\": {\"outlinewidth\": 0, \"ticks\": \"\"}}, \"type\": \"scattergl\"}], \"scattermapbox\": [{\"marker\": {\"colorbar\": {\"outlinewidth\": 0, \"ticks\": \"\"}}, \"type\": \"scattermapbox\"}], \"scatterpolar\": [{\"marker\": {\"colorbar\": {\"outlinewidth\": 0, \"ticks\": \"\"}}, \"type\": \"scatterpolar\"}], \"scatterpolargl\": [{\"marker\": {\"colorbar\": {\"outlinewidth\": 0, \"ticks\": \"\"}}, \"type\": \"scatterpolargl\"}], \"scatterternary\": [{\"marker\": {\"colorbar\": {\"outlinewidth\": 0, \"ticks\": \"\"}}, \"type\": \"scatterternary\"}], \"surface\": [{\"colorbar\": {\"outlinewidth\": 0, \"ticks\": \"\"}, \"colorscale\": [[0.0, \"#0d0887\"], [0.1111111111111111, \"#46039f\"], [0.2222222222222222, \"#7201a8\"], [0.3333333333333333, \"#9c179e\"], [0.4444444444444444, \"#bd3786\"], [0.5555555555555556, \"#d8576b\"], [0.6666666666666666, \"#ed7953\"], [0.7777777777777778, \"#fb9f3a\"], [0.8888888888888888, \"#fdca26\"], [1.0, \"#f0f921\"]], \"type\": \"surface\"}], \"table\": [{\"cells\": {\"fill\": {\"color\": \"#EBF0F8\"}, \"line\": {\"color\": \"white\"}}, \"header\": {\"fill\": {\"color\": \"#C8D4E3\"}, \"line\": {\"color\": \"white\"}}, \"type\": \"table\"}]}, \"layout\": {\"annotationdefaults\": {\"arrowcolor\": \"#2a3f5f\", \"arrowhead\": 0, \"arrowwidth\": 1}, \"coloraxis\": {\"colorbar\": {\"outlinewidth\": 0, \"ticks\": \"\"}}, \"colorscale\": {\"diverging\": [[0, \"#8e0152\"], [0.1, \"#c51b7d\"], [0.2, \"#de77ae\"], [0.3, \"#f1b6da\"], [0.4, \"#fde0ef\"], [0.5, \"#f7f7f7\"], [0.6, \"#e6f5d0\"], [0.7, \"#b8e186\"], [0.8, \"#7fbc41\"], [0.9, \"#4d9221\"], [1, \"#276419\"]], \"sequential\": [[0.0, \"#0d0887\"], [0.1111111111111111, \"#46039f\"], [0.2222222222222222, \"#7201a8\"], [0.3333333333333333, \"#9c179e\"], [0.4444444444444444, \"#bd3786\"], [0.5555555555555556, \"#d8576b\"], [0.6666666666666666, \"#ed7953\"], [0.7777777777777778, \"#fb9f3a\"], [0.8888888888888888, \"#fdca26\"], [1.0, \"#f0f921\"]], \"sequentialminus\": [[0.0, \"#0d0887\"], [0.1111111111111111, \"#46039f\"], [0.2222222222222222, \"#7201a8\"], [0.3333333333333333, \"#9c179e\"], [0.4444444444444444, \"#bd3786\"], [0.5555555555555556, \"#d8576b\"], [0.6666666666666666, \"#ed7953\"], [0.7777777777777778, \"#fb9f3a\"], [0.8888888888888888, \"#fdca26\"], [1.0, \"#f0f921\"]]}, \"colorway\": [\"#636efa\", \"#EF553B\", \"#00cc96\", \"#ab63fa\", \"#FFA15A\", \"#19d3f3\", \"#FF6692\", \"#B6E880\", \"#FF97FF\", \"#FECB52\"], \"font\": {\"color\": \"#2a3f5f\"}, \"geo\": {\"bgcolor\": \"white\", \"lakecolor\": \"white\", \"landcolor\": \"#E5ECF6\", \"showlakes\": true, \"showland\": true, \"subunitcolor\": \"white\"}, \"hoverlabel\": {\"align\": \"left\"}, \"hovermode\": \"closest\", \"mapbox\": {\"style\": \"light\"}, \"paper_bgcolor\": \"white\", \"plot_bgcolor\": \"#E5ECF6\", \"polar\": {\"angularaxis\": {\"gridcolor\": \"white\", \"linecolor\": \"white\", \"ticks\": \"\"}, \"bgcolor\": \"#E5ECF6\", \"radialaxis\": {\"gridcolor\": \"white\", \"linecolor\": \"white\", \"ticks\": \"\"}}, \"scene\": {\"xaxis\": {\"backgroundcolor\": \"#E5ECF6\", \"gridcolor\": \"white\", \"gridwidth\": 2, \"linecolor\": \"white\", \"showbackground\": true, \"ticks\": \"\", \"zerolinecolor\": \"white\"}, \"yaxis\": {\"backgroundcolor\": \"#E5ECF6\", \"gridcolor\": \"white\", \"gridwidth\": 2, \"linecolor\": \"white\", \"showbackground\": true, \"ticks\": \"\", \"zerolinecolor\": \"white\"}, \"zaxis\": {\"backgroundcolor\": \"#E5ECF6\", \"gridcolor\": \"white\", \"gridwidth\": 2, \"linecolor\": \"white\", \"showbackground\": true, \"ticks\": \"\", \"zerolinecolor\": \"white\"}}, \"shapedefaults\": {\"line\": {\"color\": \"#2a3f5f\"}}, \"ternary\": {\"aaxis\": {\"gridcolor\": \"white\", \"linecolor\": \"white\", \"ticks\": \"\"}, \"baxis\": {\"gridcolor\": \"white\", \"linecolor\": \"white\", \"ticks\": \"\"}, \"bgcolor\": \"#E5ECF6\", \"caxis\": {\"gridcolor\": \"white\", \"linecolor\": \"white\", \"ticks\": \"\"}}, \"title\": {\"x\": 0.05}, \"xaxis\": {\"automargin\": true, \"gridcolor\": \"white\", \"linecolor\": \"white\", \"ticks\": \"\", \"title\": {\"standoff\": 15}, \"zerolinecolor\": \"white\", \"zerolinewidth\": 2}, \"yaxis\": {\"automargin\": true, \"gridcolor\": \"white\", \"linecolor\": \"white\", \"ticks\": \"\", \"title\": {\"standoff\": 15}, \"zerolinecolor\": \"white\", \"zerolinewidth\": 2}}}, \"xaxis\": {\"anchor\": \"y\", \"domain\": [0.0, 1.0], \"title\": {\"text\": \"Number of answers per student\"}}, \"yaxis\": {\"anchor\": \"x\", \"domain\": [0.0, 1.0], \"title\": {\"text\": \"count\"}}},\n",
              "                        {\"responsive\": true}\n",
              "                    ).then(function(){\n",
              "                            \n",
              "var gd = document.getElementById('c82f3956-7567-44f2-a195-ec60d5f9b858');\n",
              "var x = new MutationObserver(function (mutations, observer) {{\n",
              "        var display = window.getComputedStyle(gd).display;\n",
              "        if (!display || display === 'none') {{\n",
              "            console.log([gd, 'removed!']);\n",
              "            Plotly.purge(gd);\n",
              "            observer.disconnect();\n",
              "        }}\n",
              "}});\n",
              "\n",
              "// Listen for the removal of the full notebook cells\n",
              "var notebookContainer = gd.closest('#notebook-container');\n",
              "if (notebookContainer) {{\n",
              "    x.observe(notebookContainer, {childList: true});\n",
              "}}\n",
              "\n",
              "// Listen for the clearing of the current output cell\n",
              "var outputEl = gd.closest('.output');\n",
              "if (outputEl) {{\n",
              "    x.observe(outputEl, {childList: true});\n",
              "}}\n",
              "\n",
              "                        })\n",
              "                };\n",
              "                \n",
              "            </script>\n",
              "        </div>\n",
              "</body>\n",
              "</html>"
            ]
          },
          "metadata": {
            "tags": []
          }
        }
      ]
    },
    {
      "cell_type": "code",
      "metadata": {
        "id": "Xa2yb_0CCXm6",
        "outputId": "bc679724-161f-4a66-deb9-caa2c6a2ada1",
        "colab": {
          "base_uri": "https://localhost:8080/",
          "height": 542
        }
      },
      "source": [
        "# Authors: Yan and Tash\n",
        "# Supporter: Johanna\n",
        "# Date:\n",
        "px.box(answers_by_student, y='answer_id', title = \"Boxplot of number of answers per student\",labels={\n",
        "                     \"answer_id\": \"Number of answers per student\"})"
      ],
      "execution_count": 139,
      "outputs": [
        {
          "output_type": "display_data",
          "data": {
            "text/html": [
              "<html>\n",
              "<head><meta charset=\"utf-8\" /></head>\n",
              "<body>\n",
              "    <div>\n",
              "            <script src=\"https://cdnjs.cloudflare.com/ajax/libs/mathjax/2.7.5/MathJax.js?config=TeX-AMS-MML_SVG\"></script><script type=\"text/javascript\">if (window.MathJax) {MathJax.Hub.Config({SVG: {font: \"STIX-Web\"}});}</script>\n",
              "                <script type=\"text/javascript\">window.PlotlyConfig = {MathJaxConfig: 'local'};</script>\n",
              "        <script src=\"https://cdn.plot.ly/plotly-latest.min.js\"></script>    \n",
              "            <div id=\"0b76b1b5-15c8-41fa-aa30-9c20657b0691\" class=\"plotly-graph-div\" style=\"height:525px; width:100%;\"></div>\n",
              "            <script type=\"text/javascript\">\n",
              "                \n",
              "                    window.PLOTLYENV=window.PLOTLYENV || {};\n",
              "                    \n",
              "                if (document.getElementById(\"0b76b1b5-15c8-41fa-aa30-9c20657b0691\")) {\n",
              "                    Plotly.newPlot(\n",
              "                        '0b76b1b5-15c8-41fa-aa30-9c20657b0691',\n",
              "                        [{\"alignmentgroup\": \"True\", \"hoverlabel\": {\"namelength\": 0}, \"hovertemplate\": \"Number of answers per student=%{y}\", \"legendgroup\": \"\", \"marker\": {\"color\": \"#636efa\"}, \"name\": \"\", \"notched\": false, \"offsetgroup\": \"\", \"orientation\": \"v\", \"showlegend\": false, \"type\": \"box\", \"x0\": \" \", \"xaxis\": \"x\", \"y\": [40, 40, 57, 40, 40, 43, 41, 42, 52, 42, 41, 43, 41, 46, 52, 50, 41, 43, 54, 55, 42, 40, 41, 42, 42, 47, 50, 76, 41, 40, 40, 46, 44, 40, 40, 43, 43, 53, 45, 40, 53, 45, 40, 76, 51, 76, 40, 43, 40, 41, 76, 42, 41, 43, 42, 44, 50, 51, 51, 76, 40, 42, 40, 50, 42, 76, 64, 42, 43, 62, 48, 102, 40, 47, 40, 40, 41, 41, 60, 102, 51, 62, 50, 40, 41, 42, 59, 41, 43, 53, 40, 41, 40, 42, 45, 41, 43, 41, 42, 51, 20, 43, 41, 40, 42, 42, 40, 43, 40, 40, 40, 40, 42, 43, 41, 49, 40, 60, 40, 58, 42, 52, 42, 40, 40, 41, 41, 41, 43, 54, 44, 51, 45, 49, 40, 15, 42, 42, 50, 41, 40, 47, 42, 50, 54, 41, 50, 60, 67, 40, 41, 43, 55, 43, 43, 48, 40, 40, 45, 61, 40, 42, 51, 11, 52, 57, 47, 44, 49, 44, 40, 80, 42, 40, 56, 72, 41, 67, 40, 40, 50, 42, 100, 44, 41, 46, 44, 40, 71, 40, 72, 40, 44, 100, 58, 42, 47, 40, 40, 41, 40, 41, 51, 47, 45, 42, 48, 43, 40, 42, 48, 50, 42, 52, 51, 40, 84, 40, 70, 42, 42, 47, 40, 48, 40, 40, 43, 40, 40, 41, 40, 57, 40, 40, 40, 40, 40, 42, 41, 5, 40, 42, 47, 4, 47, 41, 41, 40, 51, 63, 47, 45, 40, 64, 41, 40, 45, 47, 84, 84, 43, 52, 44, 44, 42, 56, 40, 50, 40, 50, 84, 45, 40, 50, 11, 50, 42, 76, 44, 44, 49, 102, 41, 50, 40], \"y0\": \" \", \"yaxis\": \"y\"}],\n",
              "                        {\"boxmode\": \"group\", \"legend\": {\"tracegroupgap\": 0}, \"template\": {\"data\": {\"bar\": [{\"error_x\": {\"color\": \"#2a3f5f\"}, \"error_y\": {\"color\": \"#2a3f5f\"}, \"marker\": {\"line\": {\"color\": \"#E5ECF6\", \"width\": 0.5}}, \"type\": \"bar\"}], \"barpolar\": [{\"marker\": {\"line\": {\"color\": \"#E5ECF6\", \"width\": 0.5}}, \"type\": \"barpolar\"}], \"carpet\": [{\"aaxis\": {\"endlinecolor\": \"#2a3f5f\", \"gridcolor\": \"white\", \"linecolor\": \"white\", \"minorgridcolor\": \"white\", \"startlinecolor\": \"#2a3f5f\"}, \"baxis\": {\"endlinecolor\": \"#2a3f5f\", \"gridcolor\": \"white\", \"linecolor\": \"white\", \"minorgridcolor\": \"white\", \"startlinecolor\": \"#2a3f5f\"}, \"type\": \"carpet\"}], \"choropleth\": [{\"colorbar\": {\"outlinewidth\": 0, \"ticks\": \"\"}, \"type\": \"choropleth\"}], \"contour\": [{\"colorbar\": {\"outlinewidth\": 0, \"ticks\": \"\"}, \"colorscale\": [[0.0, \"#0d0887\"], [0.1111111111111111, \"#46039f\"], [0.2222222222222222, \"#7201a8\"], [0.3333333333333333, \"#9c179e\"], [0.4444444444444444, \"#bd3786\"], [0.5555555555555556, \"#d8576b\"], [0.6666666666666666, \"#ed7953\"], [0.7777777777777778, \"#fb9f3a\"], [0.8888888888888888, \"#fdca26\"], [1.0, \"#f0f921\"]], \"type\": \"contour\"}], \"contourcarpet\": [{\"colorbar\": {\"outlinewidth\": 0, \"ticks\": \"\"}, \"type\": \"contourcarpet\"}], \"heatmap\": [{\"colorbar\": {\"outlinewidth\": 0, \"ticks\": \"\"}, \"colorscale\": [[0.0, \"#0d0887\"], [0.1111111111111111, \"#46039f\"], [0.2222222222222222, \"#7201a8\"], [0.3333333333333333, \"#9c179e\"], [0.4444444444444444, \"#bd3786\"], [0.5555555555555556, \"#d8576b\"], [0.6666666666666666, \"#ed7953\"], [0.7777777777777778, \"#fb9f3a\"], [0.8888888888888888, \"#fdca26\"], [1.0, \"#f0f921\"]], \"type\": \"heatmap\"}], \"heatmapgl\": [{\"colorbar\": {\"outlinewidth\": 0, \"ticks\": \"\"}, \"colorscale\": [[0.0, \"#0d0887\"], [0.1111111111111111, \"#46039f\"], [0.2222222222222222, \"#7201a8\"], [0.3333333333333333, \"#9c179e\"], [0.4444444444444444, \"#bd3786\"], [0.5555555555555556, \"#d8576b\"], [0.6666666666666666, \"#ed7953\"], [0.7777777777777778, \"#fb9f3a\"], [0.8888888888888888, \"#fdca26\"], [1.0, \"#f0f921\"]], \"type\": \"heatmapgl\"}], \"histogram\": [{\"marker\": {\"colorbar\": {\"outlinewidth\": 0, \"ticks\": \"\"}}, \"type\": \"histogram\"}], \"histogram2d\": [{\"colorbar\": {\"outlinewidth\": 0, \"ticks\": \"\"}, \"colorscale\": [[0.0, \"#0d0887\"], [0.1111111111111111, \"#46039f\"], [0.2222222222222222, \"#7201a8\"], [0.3333333333333333, \"#9c179e\"], [0.4444444444444444, \"#bd3786\"], [0.5555555555555556, \"#d8576b\"], [0.6666666666666666, \"#ed7953\"], [0.7777777777777778, \"#fb9f3a\"], [0.8888888888888888, \"#fdca26\"], [1.0, \"#f0f921\"]], \"type\": \"histogram2d\"}], \"histogram2dcontour\": [{\"colorbar\": {\"outlinewidth\": 0, \"ticks\": \"\"}, \"colorscale\": [[0.0, \"#0d0887\"], [0.1111111111111111, \"#46039f\"], [0.2222222222222222, \"#7201a8\"], [0.3333333333333333, \"#9c179e\"], [0.4444444444444444, \"#bd3786\"], [0.5555555555555556, \"#d8576b\"], [0.6666666666666666, \"#ed7953\"], [0.7777777777777778, \"#fb9f3a\"], [0.8888888888888888, \"#fdca26\"], [1.0, \"#f0f921\"]], \"type\": \"histogram2dcontour\"}], \"mesh3d\": [{\"colorbar\": {\"outlinewidth\": 0, \"ticks\": \"\"}, \"type\": \"mesh3d\"}], \"parcoords\": [{\"line\": {\"colorbar\": {\"outlinewidth\": 0, \"ticks\": \"\"}}, \"type\": \"parcoords\"}], \"pie\": [{\"automargin\": true, \"type\": \"pie\"}], \"scatter\": [{\"marker\": {\"colorbar\": {\"outlinewidth\": 0, \"ticks\": \"\"}}, \"type\": \"scatter\"}], \"scatter3d\": [{\"line\": {\"colorbar\": {\"outlinewidth\": 0, \"ticks\": \"\"}}, \"marker\": {\"colorbar\": {\"outlinewidth\": 0, \"ticks\": \"\"}}, \"type\": \"scatter3d\"}], \"scattercarpet\": [{\"marker\": {\"colorbar\": {\"outlinewidth\": 0, \"ticks\": \"\"}}, \"type\": \"scattercarpet\"}], \"scattergeo\": [{\"marker\": {\"colorbar\": {\"outlinewidth\": 0, \"ticks\": \"\"}}, \"type\": \"scattergeo\"}], \"scattergl\": [{\"marker\": {\"colorbar\": {\"outlinewidth\": 0, \"ticks\": \"\"}}, \"type\": \"scattergl\"}], \"scattermapbox\": [{\"marker\": {\"colorbar\": {\"outlinewidth\": 0, \"ticks\": \"\"}}, \"type\": \"scattermapbox\"}], \"scatterpolar\": [{\"marker\": {\"colorbar\": {\"outlinewidth\": 0, \"ticks\": \"\"}}, \"type\": \"scatterpolar\"}], \"scatterpolargl\": [{\"marker\": {\"colorbar\": {\"outlinewidth\": 0, \"ticks\": \"\"}}, \"type\": \"scatterpolargl\"}], \"scatterternary\": [{\"marker\": {\"colorbar\": {\"outlinewidth\": 0, \"ticks\": \"\"}}, \"type\": \"scatterternary\"}], \"surface\": [{\"colorbar\": {\"outlinewidth\": 0, \"ticks\": \"\"}, \"colorscale\": [[0.0, \"#0d0887\"], [0.1111111111111111, \"#46039f\"], [0.2222222222222222, \"#7201a8\"], [0.3333333333333333, \"#9c179e\"], [0.4444444444444444, \"#bd3786\"], [0.5555555555555556, \"#d8576b\"], [0.6666666666666666, \"#ed7953\"], [0.7777777777777778, \"#fb9f3a\"], [0.8888888888888888, \"#fdca26\"], [1.0, \"#f0f921\"]], \"type\": \"surface\"}], \"table\": [{\"cells\": {\"fill\": {\"color\": \"#EBF0F8\"}, \"line\": {\"color\": \"white\"}}, \"header\": {\"fill\": {\"color\": \"#C8D4E3\"}, \"line\": {\"color\": \"white\"}}, \"type\": \"table\"}]}, \"layout\": {\"annotationdefaults\": {\"arrowcolor\": \"#2a3f5f\", \"arrowhead\": 0, \"arrowwidth\": 1}, \"coloraxis\": {\"colorbar\": {\"outlinewidth\": 0, \"ticks\": \"\"}}, \"colorscale\": {\"diverging\": [[0, \"#8e0152\"], [0.1, \"#c51b7d\"], [0.2, \"#de77ae\"], [0.3, \"#f1b6da\"], [0.4, \"#fde0ef\"], [0.5, \"#f7f7f7\"], [0.6, \"#e6f5d0\"], [0.7, \"#b8e186\"], [0.8, \"#7fbc41\"], [0.9, \"#4d9221\"], [1, \"#276419\"]], \"sequential\": [[0.0, \"#0d0887\"], [0.1111111111111111, \"#46039f\"], [0.2222222222222222, \"#7201a8\"], [0.3333333333333333, \"#9c179e\"], [0.4444444444444444, \"#bd3786\"], [0.5555555555555556, \"#d8576b\"], [0.6666666666666666, \"#ed7953\"], [0.7777777777777778, \"#fb9f3a\"], [0.8888888888888888, \"#fdca26\"], [1.0, \"#f0f921\"]], \"sequentialminus\": [[0.0, \"#0d0887\"], [0.1111111111111111, \"#46039f\"], [0.2222222222222222, \"#7201a8\"], [0.3333333333333333, \"#9c179e\"], [0.4444444444444444, \"#bd3786\"], [0.5555555555555556, \"#d8576b\"], [0.6666666666666666, \"#ed7953\"], [0.7777777777777778, \"#fb9f3a\"], [0.8888888888888888, \"#fdca26\"], [1.0, \"#f0f921\"]]}, \"colorway\": [\"#636efa\", \"#EF553B\", \"#00cc96\", \"#ab63fa\", \"#FFA15A\", \"#19d3f3\", \"#FF6692\", \"#B6E880\", \"#FF97FF\", \"#FECB52\"], \"font\": {\"color\": \"#2a3f5f\"}, \"geo\": {\"bgcolor\": \"white\", \"lakecolor\": \"white\", \"landcolor\": \"#E5ECF6\", \"showlakes\": true, \"showland\": true, \"subunitcolor\": \"white\"}, \"hoverlabel\": {\"align\": \"left\"}, \"hovermode\": \"closest\", \"mapbox\": {\"style\": \"light\"}, \"paper_bgcolor\": \"white\", \"plot_bgcolor\": \"#E5ECF6\", \"polar\": {\"angularaxis\": {\"gridcolor\": \"white\", \"linecolor\": \"white\", \"ticks\": \"\"}, \"bgcolor\": \"#E5ECF6\", \"radialaxis\": {\"gridcolor\": \"white\", \"linecolor\": \"white\", \"ticks\": \"\"}}, \"scene\": {\"xaxis\": {\"backgroundcolor\": \"#E5ECF6\", \"gridcolor\": \"white\", \"gridwidth\": 2, \"linecolor\": \"white\", \"showbackground\": true, \"ticks\": \"\", \"zerolinecolor\": \"white\"}, \"yaxis\": {\"backgroundcolor\": \"#E5ECF6\", \"gridcolor\": \"white\", \"gridwidth\": 2, \"linecolor\": \"white\", \"showbackground\": true, \"ticks\": \"\", \"zerolinecolor\": \"white\"}, \"zaxis\": {\"backgroundcolor\": \"#E5ECF6\", \"gridcolor\": \"white\", \"gridwidth\": 2, \"linecolor\": \"white\", \"showbackground\": true, \"ticks\": \"\", \"zerolinecolor\": \"white\"}}, \"shapedefaults\": {\"line\": {\"color\": \"#2a3f5f\"}}, \"ternary\": {\"aaxis\": {\"gridcolor\": \"white\", \"linecolor\": \"white\", \"ticks\": \"\"}, \"baxis\": {\"gridcolor\": \"white\", \"linecolor\": \"white\", \"ticks\": \"\"}, \"bgcolor\": \"#E5ECF6\", \"caxis\": {\"gridcolor\": \"white\", \"linecolor\": \"white\", \"ticks\": \"\"}}, \"title\": {\"x\": 0.05}, \"xaxis\": {\"automargin\": true, \"gridcolor\": \"white\", \"linecolor\": \"white\", \"ticks\": \"\", \"title\": {\"standoff\": 15}, \"zerolinecolor\": \"white\", \"zerolinewidth\": 2}, \"yaxis\": {\"automargin\": true, \"gridcolor\": \"white\", \"linecolor\": \"white\", \"ticks\": \"\", \"title\": {\"standoff\": 15}, \"zerolinecolor\": \"white\", \"zerolinewidth\": 2}}}, \"title\": {\"text\": \"Boxplot of number of answers per student\"}, \"xaxis\": {\"anchor\": \"y\", \"domain\": [0.0, 1.0]}, \"yaxis\": {\"anchor\": \"x\", \"domain\": [0.0, 1.0], \"title\": {\"text\": \"Number of answers per student\"}}},\n",
              "                        {\"responsive\": true}\n",
              "                    ).then(function(){\n",
              "                            \n",
              "var gd = document.getElementById('0b76b1b5-15c8-41fa-aa30-9c20657b0691');\n",
              "var x = new MutationObserver(function (mutations, observer) {{\n",
              "        var display = window.getComputedStyle(gd).display;\n",
              "        if (!display || display === 'none') {{\n",
              "            console.log([gd, 'removed!']);\n",
              "            Plotly.purge(gd);\n",
              "            observer.disconnect();\n",
              "        }}\n",
              "}});\n",
              "\n",
              "// Listen for the removal of the full notebook cells\n",
              "var notebookContainer = gd.closest('#notebook-container');\n",
              "if (notebookContainer) {{\n",
              "    x.observe(notebookContainer, {childList: true});\n",
              "}}\n",
              "\n",
              "// Listen for the clearing of the current output cell\n",
              "var outputEl = gd.closest('.output');\n",
              "if (outputEl) {{\n",
              "    x.observe(outputEl, {childList: true});\n",
              "}}\n",
              "\n",
              "                        })\n",
              "                };\n",
              "                \n",
              "            </script>\n",
              "        </div>\n",
              "</body>\n",
              "</html>"
            ]
          },
          "metadata": {
            "tags": []
          }
        }
      ]
    },
    {
      "cell_type": "markdown",
      "metadata": {
        "id": "3gpR-AiyYXyO"
      },
      "source": [
        "**Interesting summaries:**\n",
        "- Most students answered 40 questions (the required amount)\n",
        "- Some students answered less than 20\n",
        "- Some students answered 100 questions"
      ]
    },
    {
      "cell_type": "markdown",
      "metadata": {
        "id": "B63HYEJ_YZdF"
      },
      "source": [
        "- Now let's move on to the calculation of the number of correct answers\n",
        "- We'll start by adding a new bool column to indicate whether a student was correct"
      ]
    },
    {
      "cell_type": "code",
      "metadata": {
        "id": "S7KjDOEsYbUG"
      },
      "source": [
        "q_and_a['student_correct'] = q_and_a['chosen_answer'] == q_and_a['correct_answer']                    # Add new bool column to indicate whether an answer was correct\n",
        "correct_by_student = q_and_a[['user_id', 'student_correct']].groupby('user_id', as_index=False).sum() # Create new dataframe and count number of correct answers, summing our new bool column\n",
        "\n",
        "correct_by_student['total_answers'] = answers_by_student['answer_id']\n",
        "correct_by_student['percent_correct'] = correct_by_student['student_correct'] / correct_by_student['total_answers']  # Calculate percentage of questions a student answered correctly\n",
        "\n",
        "# Plot summary statistics for percentage of correct answers\n",
        "fig, (ax, ax2) = plt.subplots(ncols=2, figsize=(9,4))\n",
        "correct_by_student.hist('percent_correct', ax=ax)\n",
        "correct_by_student.boxplot('percent_correct', ax=ax2)"
      ],
      "execution_count": null,
      "outputs": []
    },
    {
      "cell_type": "markdown",
      "metadata": {
        "id": "LJd3gIFIYdM0"
      },
      "source": [
        "- The percentage of correct answers follows a normal distrubution very closely\n",
        "- Cool!\n",
        "\n",
        "### Team distrubution of correctness\n",
        "- Now that we have the percentage of correct answers for each student, lets look at how this carries across to teams\n",
        "- First, let's join the students to their respective Cycle 4 groups"
      ]
    },
    {
      "cell_type": "code",
      "metadata": {
        "id": "GmCOIL5PYe3l"
      },
      "source": [
        "c4usercourses = c4usercourses.rename(columns={'user' : 'user_id', 'Team' : 'team'})     # Rename columns so we can merge neatly\n",
        "answers_team = correct_by_student.merge(c4usercourses, on='user_id')                  # Merge dataframes so we have team data for each student\n",
        "answers_team.head()"
      ],
      "execution_count": null,
      "outputs": []
    },
    {
      "cell_type": "markdown",
      "metadata": {
        "id": "4SplfQBHYgjm"
      },
      "source": [
        "- We now have team data for each of our students\n",
        "- Next step is to group by team and average the percent_correct for each team member"
      ]
    },
    {
      "cell_type": "code",
      "metadata": {
        "id": "dy8Edh6cYh91"
      },
      "source": [
        "answers_groups_by_team = answers_team.groupby('team').mean()\n",
        "answers_groups_by_team.sort_values(by='percent_correct')['percent_correct'].plot.bar()"
      ],
      "execution_count": null,
      "outputs": []
    },
    {
      "cell_type": "markdown",
      "metadata": {
        "id": "XFXxYRlmYje4"
      },
      "source": [
        "- The white team got the highest average percentage correct and purple the lowest\n",
        "- All teams are quite close together"
      ]
    },
    {
      "cell_type": "code",
      "metadata": {
        "id": "gJQjlBK5YkuO"
      },
      "source": [
        "# Boxplots of percentage correct and number correct by team\n",
        "fig, (ax, ax2) = plt.subplots(ncols=2, figsize=(9,4))\n",
        "answers_team.boxplot('percent_correct', by='team', ax=ax)\n",
        "answers_team.boxplot('student_correct', by='team', ax=ax2)"
      ],
      "execution_count": null,
      "outputs": []
    },
    {
      "cell_type": "code",
      "metadata": {
        "id": "4bvXVxlWYn27"
      },
      "source": [
        "answers_team.hist('percent_correct', by='team')"
      ],
      "execution_count": null,
      "outputs": []
    },
    {
      "cell_type": "markdown",
      "metadata": {
        "id": "AOpUe9d_Yqgr"
      },
      "source": [
        "- The teams are not too different from one another in distribution either,\n",
        "- White team is definitely made up of the best performers on average though, with a min higher than all other groups, and a median higher than all other groups"
      ]
    },
    {
      "cell_type": "markdown",
      "metadata": {
        "id": "UdgbCa4wYs-v"
      },
      "source": [
        "### Investigating time\n",
        "- We'll now investigate the time it took each student to answer a question and will use that as an indicator of 'motivation'\n",
        "- First, we need to get a deadline by joining with the Courses data from Cycle 3"
      ]
    },
    {
      "cell_type": "code",
      "metadata": {
        "id": "jsFrQ2hzYuNE"
      },
      "source": [
        "c3courses_selected = c3courses[['CourseID', 'StartDate', 'DeadlineAnswer']]\n",
        "c3courses_selected = c3courses_selected.rename(columns={'CourseID' : 'course_id', 'StartDate' : 'start_date', 'DeadlineAnswer' : 'answer_deadline'})\n",
        "qs_with_deadline = qs_selected.merge(c3courses_selected, on='course_id')\n",
        "\n",
        "qs_with_deadline.head()"
      ],
      "execution_count": null,
      "outputs": []
    },
    {
      "cell_type": "markdown",
      "metadata": {
        "id": "5Pn_ycMzYxJr"
      },
      "source": [
        "### Merging questions with deadline to answers\n",
        "- We've joined to the answer deadline\n",
        "- Now we need to join the questions with a deadline to their answers like we did previously"
      ]
    },
    {
      "cell_type": "code",
      "metadata": {
        "id": "r1J-2S5GYyfM"
      },
      "source": [
        "q_and_a_deadline = ans_selected.merge(qs_with_deadline[['question_id', 'correct_answer', 'start_date', 'answer_deadline']], on='question_id')\n",
        "q_and_a_deadline = q_and_a_deadline.astype({'answer_time' : 'datetime64'})\n",
        "q_and_a_deadline.head()"
      ],
      "execution_count": null,
      "outputs": []
    },
    {
      "cell_type": "markdown",
      "metadata": {
        "id": "dQ_o11UaY0P4"
      },
      "source": [
        "- We now have a dataframe with an answer on each row, with the task start date, as well as the answer deadline and time\n",
        "- Let's analyze the time data by:\n",
        "    - Creating a new column for storing the time before the due date a question was answered\n",
        "    - Creating a column to indicate if a question was answered late"
      ]
    },
    {
      "cell_type": "code",
      "metadata": {
        "id": "tOwMzwUdY1ks"
      },
      "source": [
        "q_and_a_deadline['time_delta'] = q_and_a_deadline['answer_deadline'] - q_and_a_deadline['answer_time']  # 'Time difference between due date and answer time' column\n",
        "q_and_a_deadline['late'] = q_and_a_deadline['time_delta'].dt.days < 0                                   # 'Answer was posted late' column\n",
        "\n",
        "q_and_a_deadline['time_delta'].dt.days.plot.hist() # Plot days before due date"
      ],
      "execution_count": null,
      "outputs": []
    },
    {
      "cell_type": "markdown",
      "metadata": {
        "id": "22shZMu0Y3fo"
      },
      "source": [
        "- The above histogram shows the number of days people answered before the deadline"
      ]
    },
    {
      "cell_type": "markdown",
      "metadata": {
        "id": "zPUGH4xjwlaZ"
      },
      "source": [
        "## Lateness of Comments\n",
        "- Charlie Question delay file"
      ]
    },
    {
      "cell_type": "code",
      "metadata": {
        "id": "s6p7Xa-cbb_W"
      },
      "source": [
        "print(\"c1courses columns:\", c1courses.columns.to_list())\n",
        "print(\"c1comments columns:\", c1comments.columns.to_list())"
      ],
      "execution_count": null,
      "outputs": []
    },
    {
      "cell_type": "markdown",
      "metadata": {
        "id": "rbHqlwSkbfGJ"
      },
      "source": [
        "- From the above cell we can see that we need to rename some columns so we can join them nicely\n",
        "- We will rename and merge the two dataframes in the below cell"
      ]
    },
    {
      "cell_type": "code",
      "metadata": {
        "id": "NXRkIwhabfb_"
      },
      "source": [
        "c1courses.rename(columns={\"CourseID\" : \"course_id\", \"StartDate\" : \"cycle_start\", \"Deadline_Cmmnt\" : \"comment_due\", \"Deadline_Qustn\" : \"question_due\"}, inplace=True) # Rename CourseID to course_id\n",
        "c1comments.rename(columns={\"Timestamp\" : \"comment_time\", \"CommentID\" : \"comment_id\", \"user\" : \"user_id\", \"Question_ID\" : \"question_id\", \"Comment\" : \"comment\"}, inplace=True)"
      ],
      "execution_count": null,
      "outputs": []
    },
    {
      "cell_type": "markdown",
      "metadata": {
        "id": "Mbja0PXmbilX"
      },
      "source": [
        "- There is an annoying header row located in the middle of the data that we need to remove\n",
        "- We'll remove it now by making sure the \"course_id\" column is not equal to the text \" course_id \""
      ]
    },
    {
      "cell_type": "code",
      "metadata": {
        "id": "YX11S_a2bj7Q"
      },
      "source": [
        "c1comments = c1comments[c1comments[\"course_id\"] != \" course_id \"]"
      ],
      "execution_count": null,
      "outputs": []
    },
    {
      "cell_type": "markdown",
      "metadata": {
        "id": "WCw-1jg7bmG0"
      },
      "source": [
        "- We will convert the data types of both the dataframes so they join properly too"
      ]
    },
    {
      "cell_type": "code",
      "metadata": {
        "id": "b5v8qS1Hbo_5"
      },
      "source": [
        "#c1comments[\"course_id\"] = pd.to_numeric(c1comments[\"course_id\"])\n",
        "c1comments = c1comments.astype({\"course_id\" : \"int64\", \"comment_time\" : 'datetime64'})\n",
        "c1courses = c1courses.convert_dtypes()\n",
        "\n",
        "c1combined = c1courses.merge(c1comments, on=\"course_id\") # Merge the dataframes\n",
        "c1combined.head() # Show the first 5 rows\n"
      ],
      "execution_count": null,
      "outputs": []
    },
    {
      "cell_type": "markdown",
      "metadata": {
        "id": "pWCG4Dzhbwkc"
      },
      "source": [
        "- Now we have a dataframe that has the due date for the comment that was made for each of the comments"
      ]
    },
    {
      "cell_type": "markdown",
      "metadata": {
        "id": "MnS6eLY6b6p8"
      },
      "source": [
        "## Performing Analysis\n",
        "- Next, we can calculate how long it took a student to write a comment after the question_due date\n",
        "    - We're doing this to find out how long it took for a student to complete a comment after all the questions were due\n",
        "    - We can use this metric to help us determine how motivated a student was\n",
        "- We'll also calcualte a column to indicate how early before the comment_due date a student provided a comment on a question"
      ]
    },
    {
      "cell_type": "markdown",
      "metadata": {
        "id": "IRxNKGLSb8tD"
      },
      "source": [
        "### Creation of new columns\n",
        "- We create the columns:\n",
        "    - `comment_delta` (number of days after question due date that the comment was posted)\n",
        "    - `comment_beforedue` (number of days before the comment due date that the comment was posted)\n",
        "    - `late` (will be True if the comment was submitted after the comment_due date, False otherwise)"
      ]
    },
    {
      "cell_type": "code",
      "metadata": {
        "id": "LrcPTlNab-O3"
      },
      "source": [
        "c1combined[\"comment_delta\"] = (c1combined[\"comment_time\"] - c1combined[\"question_due\"])\n",
        "c1combined[\"comment_beforedue\"] = (c1combined[\"comment_due\"] - c1combined[\"comment_time\"])\n",
        "c1combined[\"late\"] = c1combined[\"comment_time\"] > c1combined[\"comment_due\"]"
      ],
      "execution_count": null,
      "outputs": []
    },
    {
      "cell_type": "markdown",
      "metadata": {
        "id": "nVjoMxmtcBLr"
      },
      "source": [
        "## Doing the same grouping that we did for Cycle 1 - but for cycle 2\n",
        "- I won't go over the details here just performing similar steps as we did for cycle 1"
      ]
    },
    {
      "cell_type": "code",
      "metadata": {
        "id": "iB1JGE35cAe-"
      },
      "source": [
        "c2courses.rename(columns={\"CourseID\" : \"course_id\", \"StartDate\" : \"cycle_start\", \"Deadline_Comment\" : \"comment_due\", \"Deadline_Question\" : \"question_due\"}, inplace=True) # Rename columns\n",
        "#c2courses.drop(\"CourseName\", axis=1, inplace=True) # Remove the 'CourseName' column - we don't need it\n",
        "c2comments.rename(columns={\"Timestamp\" : \"comment_time\", \"CommentID\" : \"comment_id\", \"user\" : \"user_id\", \"Question_ID\" : \"question_id\", \"Comment\" : \"comment\"}, inplace=True)"
      ],
      "execution_count": null,
      "outputs": []
    },
    {
      "cell_type": "code",
      "metadata": {
        "id": "l8uB1s-jcFcy"
      },
      "source": [
        "# Set data types\n",
        "c2comments = c2comments.astype({\"course_id\" : \"int64\", \"comment_time\" : 'datetime64', \"user_id\" : \"int64\"}) \n",
        "c2courses = c2courses.convert_dtypes() \n",
        "\n",
        "# Merge the dataframes\n",
        "c2combined = c2courses.merge(c2comments, on=\"course_id\") \n",
        "c2combined.head()"
      ],
      "execution_count": null,
      "outputs": []
    },
    {
      "cell_type": "code",
      "metadata": {
        "id": "Eq04k5F_cGtp"
      },
      "source": [
        "c2combined[\"comment_delta\"] = (c2combined[\"comment_time\"] - c2combined[\"question_due\"])\n",
        "c2combined[\"comment_beforedue\"] = (c2combined[\"comment_due\"] - c2combined[\"comment_time\"])\n",
        "c2combined[\"late\"] = c2combined[\"comment_time\"] > c2combined[\"comment_due\"]"
      ],
      "execution_count": null,
      "outputs": []
    },
    {
      "cell_type": "markdown",
      "metadata": {
        "id": "5nELOoDGcI1N"
      },
      "source": [
        "### Combining the two cycles into one DataFrame\n",
        "- Now we need to combine the two dataframes into one by using `.concat()`\n",
        "- We'll add an ID to each individual dataframe so we know what cycle they belong to"
      ]
    },
    {
      "cell_type": "code",
      "metadata": {
        "id": "QhbS0ygScIlx"
      },
      "source": [
        "c1combined[\"cycle\"] = 1\n",
        "c2combined[\"cycle\"] = 2\n",
        "\n",
        "all_combined = pd.concat([c1combined, c2combined])\n",
        "all_combined = all_combined.astype({\"course_id\" : \"int64\", \"user_id\" : \"int64\", \"question_id\" : \"int64\"})\n",
        "all_combined[all_combined['late']].sort_values(by='comment_beforedue', ascending=False)"
      ],
      "execution_count": null,
      "outputs": []
    },
    {
      "cell_type": "markdown",
      "metadata": {
        "id": "VUg9XmhmcMqD"
      },
      "source": [
        "## Investigating our data\n",
        "- Lets first look at the comment time in general\n",
        "- Followed by the number of unqiue students who commented past the due date"
      ]
    },
    {
      "cell_type": "code",
      "metadata": {
        "id": "vy-9wdOPcOLn"
      },
      "source": [
        "print(\"Earliest comment was made at:\", all_combined[\"comment_time\"].min().strftime(\"%d/%m/%Y\"))\n",
        "print(\"Latest comment was made at:\", all_combined[\"comment_time\"].max().strftime(\"%d/%m/%Y\"))"
      ],
      "execution_count": null,
      "outputs": []
    },
    {
      "cell_type": "code",
      "metadata": {
        "id": "d7RK1lQWcPc_"
      },
      "source": [
        "delta_grouped = all_combined[\"comment_time\"].groupby(all_combined[\"comment_delta\"].dt.days).count()\n",
        "\n",
        "delta_grouped.plot(kind=\"bar\", xlabel=\"Days after question due date\", ylabel=\"Number of comments\", title=\"Time after due date of question that a comment was posted in Cycle 1\")"
      ],
      "execution_count": null,
      "outputs": []
    },
    {
      "cell_type": "code",
      "metadata": {
        "id": "GT2E-BL5cSwC"
      },
      "source": [
        "student_lateness = all_combined[[\"user_id\", \"late\"]].groupby(\"user_id\", as_index=False).sum(\"late\")"
      ],
      "execution_count": null,
      "outputs": []
    },
    {
      "cell_type": "markdown",
      "metadata": {
        "id": "4MxBbqKQcUBO"
      },
      "source": [
        "- Plot the number of days a comment was late"
      ]
    },
    {
      "cell_type": "code",
      "metadata": {
        "id": "ugxocCiTcWX-"
      },
      "source": [
        "student_lateness[\"late\"].plot(kind=\"hist\") "
      ],
      "execution_count": null,
      "outputs": []
    },
    {
      "cell_type": "markdown",
      "metadata": {
        "id": "MUx0IUARcX_-"
      },
      "source": [
        "- Below is a dataframe of the students who were late (sorted by number of late comments)"
      ]
    },
    {
      "cell_type": "code",
      "metadata": {
        "id": "0XKwqDC_cZDb"
      },
      "source": [
        "student_lateness.sort_values(\"late\", ascending=False)"
      ],
      "execution_count": null,
      "outputs": []
    },
    {
      "cell_type": "markdown",
      "metadata": {
        "id": "IGqbw2THcab_"
      },
      "source": [
        "### Connecting the students to their cycle 4 groups\n",
        "- We need to link the students and their number of late comments do their groups in cycle 4\n",
        "- This is so we can evaluate the impact of student 'lateness'/motivation on their marks and results"
      ]
    },
    {
      "cell_type": "code",
      "metadata": {
        "id": "Nxj3a4e-cbmn"
      },
      "source": [
        "c4usercourses.rename(columns={\"user\" : \"user_id\", \"Team\" : \"team\"}, inplace=True) # Rename columns\n",
        "c4usercourses_lateness = c4usercourses.merge(student_lateness.reset_index(drop=True), on=\"user_id\") # merge the columns\n"
      ],
      "execution_count": null,
      "outputs": []
    },
    {
      "cell_type": "markdown",
      "metadata": {
        "id": "slGdrpGWccxw"
      },
      "source": [
        "### Showing the number of late students\n",
        "- Below is a dataframe of late students\n",
        "- Below that is a graph showing the lateness of students by team"
      ]
    },
    {
      "cell_type": "code",
      "metadata": {
        "id": "L_uU5fqVcd-J"
      },
      "source": [
        "c4usercourses_lateness.sort_values(by=\"late\", ascending=False) # Sort the columns for output by lateness"
      ],
      "execution_count": null,
      "outputs": []
    },
    {
      "cell_type": "code",
      "metadata": {
        "id": "C2Wd4MTlcfQ_"
      },
      "source": [
        "student_late_boolean = all_combined[[\"user_id\", \"late\"]].groupby(\"user_id\", as_index=False).any(\"late\")\n",
        "team_latenes_boolean = c4usercourses.merge(student_late_boolean, on=\"user_id\")\n",
        "team_latenes_boolean.groupby(\"team\")[\"late\"].sum().plot.bar()"
      ],
      "execution_count": null,
      "outputs": []
    },
    {
      "cell_type": "markdown",
      "metadata": {
        "id": "fCf3zvyXcgcM"
      },
      "source": [
        "### Proportion of team who were late\n",
        "- Below is a graph showing the Proportion of the team members who were late\n",
        "- This is calcualted by (number of late team members) / (number of total team members)\n",
        "- Yellow has the highest % of lately submitted comments"
      ]
    },
    {
      "cell_type": "code",
      "metadata": {
        "id": "a5rvBxzHchfP"
      },
      "source": [
        "c4usercourses[c4usercourses['team'] == 'Pink']\n",
        "team_latenes_boolean[team_latenes_boolean['team'] == 'Pink']\n",
        "\n",
        "# Find number of members late and size of each team\n",
        "members_late = team_latenes_boolean[[\"team\", \"late\"]].groupby(\"team\").sum()\n",
        "team_size = team_latenes_boolean[[\"team\", \"user_id\"]].groupby(\"team\").nunique()\n",
        "\n",
        "members_late[\"num_members\"] = team_size\n",
        "members_late[\"perc_late\"] = members_late[\"late\"] / members_late[\"num_members\"] \n",
        "members_late = members_late.reset_index()\n",
        "members_late[[\"team\", \"perc_late\"]].plot.bar(x=\"team\", title=\"proportion of members in the team who made a late comment in cycles 1 and 2\", ylabel=\"proportion\")"
      ],
      "execution_count": null,
      "outputs": []
    },
    {
      "cell_type": "markdown",
      "metadata": {
        "id": "cPKRYbmWwpI7"
      },
      "source": [
        "## Quality of Comment\n",
        "- Abdullah's file"
      ]
    }
  ]
}
{
 "cells": [
  {
   "cell_type": "markdown",
   "metadata": {
    "id": "akswqa5Ap2mk"
   },
   "source": [
    "# Data 3406 Assignment 2\n",
    "- Intro"
   ]
  },
  {
   "cell_type": "markdown",
   "metadata": {
    "id": "R7Xf5AYxp3JZ"
   },
   "source": [
    "## Loading Packages"
   ]
  },
  {
   "cell_type": "code",
   "execution_count": 54,
   "metadata": {
    "id": "DMIVSwcds0Nb"
   },
   "outputs": [],
   "source": [
    "import pandas as pd \n",
    "import numpy as np\n",
    "from matplotlib import pyplot as plt"
   ]
  },
  {
   "cell_type": "markdown",
   "metadata": {
    "id": "O3YqgdTSp26d"
   },
   "source": [
    "## Loading Data"
   ]
  },
  {
   "cell_type": "markdown",
   "metadata": {
    "id": "XzvJeucwmlXw"
   },
   "source": [
    "Below is where we plan to load all of our data so that we are able to use it for our analysis\n",
    "- Author: Everyone\n",
    "- Date: 9th November 2020\n"
   ]
  },
  {
   "cell_type": "code",
   "execution_count": 55,
   "metadata": {
    "id": "4uYffa5Hs0qW"
   },
   "outputs": [],
   "source": [
    "# Courses\n",
    "c1courses = pd.read_excel(\"data/Cycle 1/C1 Courses.xlsx\")\n",
    "c2courses = pd.read_excel(\"data/Cycle 2/C2 Courses.xlsx\")\n",
    "c3courses = pd.read_excel(\"data/Cycle 3/C3 Courses.xlsx\")\n",
    "c4courses = pd.read_excel(\"data/Cycle 4/C4Courses.xlsx\")\n",
    "\n",
    "# Questions\n",
    "c1questions = pd.read_excel(\"data/Cycle 1/C1 Questions.xlsx\")\n",
    "c2questions = pd.read_excel(\"data/Cycle 2/C2 Questions.xlsx\")\n",
    "c3questions = pd.read_excel(\"data/Cycle 3/C3 Questions.xlsx\")\n",
    "c4questions = pd.read_excel(\"data/Cycle 4/C4Questions.xlsx\")\n",
    "c4usercourses = pd.read_excel(\"data/Cycle 4/C4UsersCourses.xlsx\")\n",
    "\n",
    "#Answers\n",
    "c3answers = pd.read_excel(\"data/Cycle 3/C3 Answers.xlsx\")\n",
    "\n",
    "#Comments\n",
    "c1comments = pd.read_excel(\"data/Cycle 1/C1 Comments.xlsx\")\n",
    "c2comments = pd.read_excel(\"data/Cycle 2/C2 Comments.xlsx\")\n",
    "c4comments = pd.read_excel(\"data/Cycle 4/C4Comments.xlsx\")\n",
    "\n",
    "# UserCourses\n",
    "c2usercourses = pd.read_excel(\"data/Cycle 2/C2 UsersCourses.xlsx\")\n",
    "c4usercourses = pd.read_excel(\"data/Cycle 4/C4UsersCourses.xlsx\")"
   ]
  },
  {
   "cell_type": "markdown",
   "metadata": {
    "id": "JFb3V9rgnENC"
   },
   "source": [
    "From this cell above, the data was successfully loaded and that we are able to now use it for our analysis\n",
    "- Author: Everyone\n",
    "- Date: 9th November 2020"
   ]
  },
  {
   "cell_type": "markdown",
   "metadata": {
    "id": "pMDnZYRXp3Uy"
   },
   "source": [
    "## Cleaning Data\n",
    "- We dealt with 0 and missing data values within our dataset \n",
    "- In terms of outliers, we chose to keep them as we would be able to use it later in the analysis\n",
    "Explain how you dealt with 0 and missing data values.\n",
    "- Explain how and why you transformed the data."
   ]
  },
  {
   "cell_type": "code",
   "execution_count": null,
   "metadata": {
    "id": "mG_4xOM1s28f"
   },
   "outputs": [],
   "source": []
  },
  {
   "cell_type": "markdown",
   "metadata": {
    "id": "uvpuEp4Sqz8P"
   },
   "source": [
    "## Exploration of Dataset\n",
    "- How we joined the datasets and different data sources we had access to eg different cycles\n",
    "- The methods you used to understand the data (especially in the process notebooks).\n",
    "- The measures of data distributions for numbers: stats that include minimum, maximum,\n",
    "central tendency, spread measures, SD, IQR and visual presentation, histograms.\n",
    "- The analysis for correlations, stats and visual presentation.\n",
    "- Document the independence of each variable from others and your reasoning about this.\n",
    "- Document your emerging understanding of the adequacy of the raw data and the degree to\n",
    "which unknowns and unavailable data impact the validity and certainty of the results.\n",
    "- Explore measures of fairness.\n",
    "- Report how you identified outliers and explain how you dealt with them.\n",
    "\n",
    "- Explain how you reasoned about the uncertainty and decisions made about reporting\n",
    "results to account for that, both in statistics and visual presentation."
   ]
  },
  {
   "cell_type": "code",
   "execution_count": null,
   "metadata": {
    "id": "oLohUmils12o"
   },
   "outputs": [],
   "source": []
  },
  {
   "cell_type": "markdown",
   "metadata": {
    "id": "NHtaP2Z7q4wa"
   },
   "source": [
    "### Question/Comment Ratings Summary\n",
    "- Put summaries of marks (academic mark and average rating and plots here)\n",
    "- Histogram of distribution of average ratings\n",
    "- **Thy is exploratory analysis**"
   ]
  },
  {
   "cell_type": "code",
   "execution_count": null,
   "metadata": {
    "id": "kNJlNmUfs2X5"
   },
   "outputs": [],
   "source": []
  },
  {
   "cell_type": "markdown",
   "metadata": {
    "id": "UVLX_oOGrWeH"
   },
   "source": [
    "## Uncertainty\n",
    "- What contributes a good question"
   ]
  },
  {
   "cell_type": "markdown",
   "metadata": {
    "id": "TIbGHytnrWzq"
   },
   "source": [
    "## Description of the different cycles\n",
    "- Explanation of the data and how each cycle differed"
   ]
  },
  {
   "cell_type": "markdown",
   "metadata": {
    "id": "rZcRNgy9uPqE"
   },
   "source": [
    "## Lateness of Questions\n",
    "\n",
    "---\n",
    "\n",
    "- Author: Yan\n",
    "- Date:\n",
    "- Supporters:\n"
   ]
  },
  {
   "cell_type": "markdown",
   "metadata": {
    "id": "ZhCMSLnzkNsa"
   },
   "source": [
    "### Cleaning Data\n",
    "- For this section of the analysis, data cleaning was not required as we could simply just ignore any 0 or missing values\n"
   ]
  },
  {
   "cell_type": "code",
   "execution_count": 3,
   "metadata": {
    "colab": {
     "base_uri": "https://localhost:8080/"
    },
    "id": "kC7azqstxRMJ",
    "outputId": "8e5797c1-a1c1-4766-f583-b67416935b0b"
   },
   "outputs": [
    {
     "name": "stdout",
     "output_type": "stream",
     "text": [
      "c1courses columns: ['CourseID', 'StartDate', 'Deadline_Cmmnt', 'Deadline_Qustn']\n",
      "c1questions columns: ['id', 'course_id', 'timestamp', 'user', 'avg_rating', 'total_responses', 'total_ratings', 'top_rating_count', 'avg_difficulty', 'total_comments', 'deleted', 'answer', 'numAlts', 'question', 'altA', 'altB', 'altC', 'altD', 'altE', 'explanation']\n"
     ]
    }
   ],
   "source": [
    "print(\"c1courses columns:\", c1courses.columns.to_list())\n",
    "print(\"c1questions columns:\", c1questions.columns.to_list())"
   ]
  },
  {
   "cell_type": "markdown",
   "metadata": {
    "id": "royjO6IGxeXJ"
   },
   "source": [
    "#### Cycle 1"
   ]
  },
  {
   "cell_type": "code",
   "execution_count": 4,
   "metadata": {
    "id": "ONxOM7aIxRO5"
   },
   "outputs": [],
   "source": [
    "c1courses.rename(columns = {\"CourseID\" : \"course_id\", \"StartDate\" : \"cycle_start\", \"Deadline_Cmmnt\" : \"comment_due\", \"Deadline_Qustn\" : \"question_due\"}, inplace = True)\n",
    "c1questions.rename(columns = {\"id\" : \"question_id\", \"timestamp\" : \"question_time\", \"user\" : \"user_id\"}, inplace = True)"
   ]
  },
  {
   "cell_type": "markdown",
   "metadata": {
    "id": "7ANNpPdyn1-f"
   },
   "source": [
    "- The cell below firstly converts the values to int64 and datetime64 data types so that we are able to join the 2 tables\n",
    "- Furthermore, we use the `merge` function to join the c1courses and c1questions tables so that we are able to have the data available as 1 dataset"
   ]
  },
  {
   "cell_type": "code",
   "execution_count": 5,
   "metadata": {
    "colab": {
     "base_uri": "https://localhost:8080/",
     "height": 649
    },
    "id": "d_lcxvPWxRaK",
    "outputId": "fad433fc-874f-4642-cdbc-7ef1cf74ae3b"
   },
   "outputs": [
    {
     "data": {
      "text/html": [
       "<div>\n",
       "<style scoped>\n",
       "    .dataframe tbody tr th:only-of-type {\n",
       "        vertical-align: middle;\n",
       "    }\n",
       "\n",
       "    .dataframe tbody tr th {\n",
       "        vertical-align: top;\n",
       "    }\n",
       "\n",
       "    .dataframe thead th {\n",
       "        text-align: right;\n",
       "    }\n",
       "</style>\n",
       "<table border=\"1\" class=\"dataframe\">\n",
       "  <thead>\n",
       "    <tr style=\"text-align: right;\">\n",
       "      <th></th>\n",
       "      <th>course_id</th>\n",
       "      <th>cycle_start</th>\n",
       "      <th>comment_due</th>\n",
       "      <th>question_due</th>\n",
       "      <th>question_id</th>\n",
       "      <th>question_time</th>\n",
       "      <th>user_id</th>\n",
       "      <th>avg_rating</th>\n",
       "      <th>total_responses</th>\n",
       "      <th>total_ratings</th>\n",
       "      <th>...</th>\n",
       "      <th>deleted</th>\n",
       "      <th>answer</th>\n",
       "      <th>numAlts</th>\n",
       "      <th>question</th>\n",
       "      <th>altA</th>\n",
       "      <th>altB</th>\n",
       "      <th>altC</th>\n",
       "      <th>altD</th>\n",
       "      <th>altE</th>\n",
       "      <th>explanation</th>\n",
       "    </tr>\n",
       "  </thead>\n",
       "  <tbody>\n",
       "    <tr>\n",
       "      <th>0</th>\n",
       "      <td>20995</td>\n",
       "      <td>2020-03-09</td>\n",
       "      <td>2020-03-17 01:00:10</td>\n",
       "      <td>2020-03-10 01:00:10</td>\n",
       "      <td>4342368</td>\n",
       "      <td>2020-03-04 17:52:14</td>\n",
       "      <td>217514</td>\n",
       "      <td>0.00</td>\n",
       "      <td>0</td>\n",
       "      <td>0</td>\n",
       "      <td>...</td>\n",
       "      <td>2</td>\n",
       "      <td>A</td>\n",
       "      <td>4</td>\n",
       "      <td>&lt;p&gt;[2a] In early 1950s high quality X-ray dif...</td>\n",
       "      <td>&lt;p&gt;Rosalind Franklin&lt;br /&gt;&lt;br /&gt;&lt;/p&gt;         ...</td>\n",
       "      <td>&lt;p&gt;Edwin Chargaff&lt;br /&gt;&lt;br /&gt;&lt;/p&gt;            ...</td>\n",
       "      <td>&lt;p&gt;Watson and Crick&lt;/p&gt;                      ...</td>\n",
       "      <td>&lt;p&gt;Frederick Meischer&lt;/p&gt;                    ...</td>\n",
       "      <td>...</td>\n",
       "      <td>&lt;p&gt;It was Franklin. &amp;nbsp;Watson and Crick ob...</td>\n",
       "    </tr>\n",
       "    <tr>\n",
       "      <th>1</th>\n",
       "      <td>20995</td>\n",
       "      <td>2020-03-09</td>\n",
       "      <td>2020-03-17 01:00:10</td>\n",
       "      <td>2020-03-10 01:00:10</td>\n",
       "      <td>4342370</td>\n",
       "      <td>2020-03-04 17:52:14</td>\n",
       "      <td>217514</td>\n",
       "      <td>0.50</td>\n",
       "      <td>7</td>\n",
       "      <td>4</td>\n",
       "      <td>...</td>\n",
       "      <td>0</td>\n",
       "      <td>A</td>\n",
       "      <td>4</td>\n",
       "      <td>&lt;p&gt;[Table X - Topic 2a] In early 1950s high q...</td>\n",
       "      <td>&lt;p&gt;Rosalind Franklin&lt;br /&gt;&lt;br /&gt;&lt;/p&gt;         ...</td>\n",
       "      <td>&lt;p&gt;Edwin Chargaff&lt;br /&gt;&lt;br /&gt;&lt;/p&gt;            ...</td>\n",
       "      <td>&lt;p&gt;Watson and Crick&lt;/p&gt;                      ...</td>\n",
       "      <td>&lt;p&gt;Frederick Meischer&lt;/p&gt;                    ...</td>\n",
       "      <td>...</td>\n",
       "      <td>&lt;p&gt;It was Franklin. &amp;nbsp;Watson and Crick ob...</td>\n",
       "    </tr>\n",
       "    <tr>\n",
       "      <th>2</th>\n",
       "      <td>20995</td>\n",
       "      <td>2020-03-09</td>\n",
       "      <td>2020-03-17 01:00:10</td>\n",
       "      <td>2020-03-10 01:00:10</td>\n",
       "      <td>4349814</td>\n",
       "      <td>2020-03-09 15:55:46</td>\n",
       "      <td>636010</td>\n",
       "      <td>2.33</td>\n",
       "      <td>10</td>\n",
       "      <td>9</td>\n",
       "      <td>...</td>\n",
       "      <td>0</td>\n",
       "      <td>B</td>\n",
       "      <td>4</td>\n",
       "      <td>&lt;p&gt;Which of the following statements is true ...</td>\n",
       "      <td>&lt;p&gt;DNA polymerase can synthesize mRNA in the ...</td>\n",
       "      <td>&lt;p&gt;DNA polymerase can synthesize DNA in the 5...</td>\n",
       "      <td>&lt;p&gt;DNA polymerase can synthesize mRNA in the ...</td>\n",
       "      <td>&lt;p&gt;DNA polymerase can synthesize DNA in the 3...</td>\n",
       "      <td>...</td>\n",
       "      <td>&lt;p&gt;DNA polymerase is only able to synthesize ...</td>\n",
       "    </tr>\n",
       "    <tr>\n",
       "      <th>3</th>\n",
       "      <td>20995</td>\n",
       "      <td>2020-03-09</td>\n",
       "      <td>2020-03-17 01:00:10</td>\n",
       "      <td>2020-03-10 01:00:10</td>\n",
       "      <td>4349841</td>\n",
       "      <td>2020-03-09 16:16:45</td>\n",
       "      <td>636012</td>\n",
       "      <td>2.25</td>\n",
       "      <td>5</td>\n",
       "      <td>4</td>\n",
       "      <td>...</td>\n",
       "      <td>0</td>\n",
       "      <td>B</td>\n",
       "      <td>5</td>\n",
       "      <td>&lt;p&gt;The structure of DNA is closely related to...</td>\n",
       "      <td>&lt;p&gt;All base pairs interact by forming three h...</td>\n",
       "      <td>&lt;p&gt;DNA is comprised of nucleotide subunits ea...</td>\n",
       "      <td>&lt;p&gt;The double helix of DNA is stabilized by i...</td>\n",
       "      <td>&lt;p&gt;Each DNA sequence folds into a unique and ...</td>\n",
       "      <td>&lt;p&gt;DNA base pairs are held together by strong...</td>\n",
       "      <td>&lt;p&gt;DNA is made up of nucleotide subunits boun...</td>\n",
       "    </tr>\n",
       "    <tr>\n",
       "      <th>4</th>\n",
       "      <td>20995</td>\n",
       "      <td>2020-03-09</td>\n",
       "      <td>2020-03-17 01:00:10</td>\n",
       "      <td>2020-03-10 01:00:10</td>\n",
       "      <td>4349844</td>\n",
       "      <td>2020-03-09 16:17:41</td>\n",
       "      <td>636018</td>\n",
       "      <td>2.67</td>\n",
       "      <td>5</td>\n",
       "      <td>3</td>\n",
       "      <td>...</td>\n",
       "      <td>0</td>\n",
       "      <td>C</td>\n",
       "      <td>4</td>\n",
       "      <td>&lt;p&gt;In a DNA molecule, Chargaff's rule means t...</td>\n",
       "      <td>&lt;p&gt;The amount of Adenine and Thymine = The am...</td>\n",
       "      <td>&lt;p&gt;The amount of Cytosine and Guanine = The a...</td>\n",
       "      <td>&lt;p&gt;The amount of Adenine and Guanine = The am...</td>\n",
       "      <td>&lt;p&gt;All of the above&lt;/p&gt;                      ...</td>\n",
       "      <td>...</td>\n",
       "      <td>&lt;p&gt;Chargaff's rule states that the number of ...</td>\n",
       "    </tr>\n",
       "  </tbody>\n",
       "</table>\n",
       "<p>5 rows × 23 columns</p>\n",
       "</div>"
      ],
      "text/plain": [
       "   course_id cycle_start         comment_due        question_due  question_id  \\\n",
       "0      20995  2020-03-09 2020-03-17 01:00:10 2020-03-10 01:00:10      4342368   \n",
       "1      20995  2020-03-09 2020-03-17 01:00:10 2020-03-10 01:00:10      4342370   \n",
       "2      20995  2020-03-09 2020-03-17 01:00:10 2020-03-10 01:00:10      4349814   \n",
       "3      20995  2020-03-09 2020-03-17 01:00:10 2020-03-10 01:00:10      4349841   \n",
       "4      20995  2020-03-09 2020-03-17 01:00:10 2020-03-10 01:00:10      4349844   \n",
       "\n",
       "        question_time  user_id  avg_rating  total_responses  total_ratings  \\\n",
       "0 2020-03-04 17:52:14   217514        0.00                0              0   \n",
       "1 2020-03-04 17:52:14   217514        0.50                7              4   \n",
       "2 2020-03-09 15:55:46   636010        2.33               10              9   \n",
       "3 2020-03-09 16:16:45   636012        2.25                5              4   \n",
       "4 2020-03-09 16:17:41   636018        2.67                5              3   \n",
       "\n",
       "   ...  deleted    answer  numAlts  \\\n",
       "0  ...        2   A              4   \n",
       "1  ...        0   A              4   \n",
       "2  ...        0   B              4   \n",
       "3  ...        0   B              5   \n",
       "4  ...        0   C              4   \n",
       "\n",
       "                                            question  \\\n",
       "0   <p>[2a] In early 1950s high quality X-ray dif...   \n",
       "1   <p>[Table X - Topic 2a] In early 1950s high q...   \n",
       "2   <p>Which of the following statements is true ...   \n",
       "3   <p>The structure of DNA is closely related to...   \n",
       "4   <p>In a DNA molecule, Chargaff's rule means t...   \n",
       "\n",
       "                                                altA  \\\n",
       "0   <p>Rosalind Franklin<br /><br /></p>         ...   \n",
       "1   <p>Rosalind Franklin<br /><br /></p>         ...   \n",
       "2   <p>DNA polymerase can synthesize mRNA in the ...   \n",
       "3   <p>All base pairs interact by forming three h...   \n",
       "4   <p>The amount of Adenine and Thymine = The am...   \n",
       "\n",
       "                                                altB  \\\n",
       "0   <p>Edwin Chargaff<br /><br /></p>            ...   \n",
       "1   <p>Edwin Chargaff<br /><br /></p>            ...   \n",
       "2   <p>DNA polymerase can synthesize DNA in the 5...   \n",
       "3   <p>DNA is comprised of nucleotide subunits ea...   \n",
       "4   <p>The amount of Cytosine and Guanine = The a...   \n",
       "\n",
       "                                                altC  \\\n",
       "0   <p>Watson and Crick</p>                      ...   \n",
       "1   <p>Watson and Crick</p>                      ...   \n",
       "2   <p>DNA polymerase can synthesize mRNA in the ...   \n",
       "3   <p>The double helix of DNA is stabilized by i...   \n",
       "4   <p>The amount of Adenine and Guanine = The am...   \n",
       "\n",
       "                                                altD  \\\n",
       "0   <p>Frederick Meischer</p>                    ...   \n",
       "1   <p>Frederick Meischer</p>                    ...   \n",
       "2   <p>DNA polymerase can synthesize DNA in the 3...   \n",
       "3   <p>Each DNA sequence folds into a unique and ...   \n",
       "4   <p>All of the above</p>                      ...   \n",
       "\n",
       "                                                altE  \\\n",
       "0                                                ...   \n",
       "1                                                ...   \n",
       "2                                                ...   \n",
       "3   <p>DNA base pairs are held together by strong...   \n",
       "4                                                ...   \n",
       "\n",
       "                                         explanation  \n",
       "0   <p>It was Franklin. &nbsp;Watson and Crick ob...  \n",
       "1   <p>It was Franklin. &nbsp;Watson and Crick ob...  \n",
       "2   <p>DNA polymerase is only able to synthesize ...  \n",
       "3   <p>DNA is made up of nucleotide subunits boun...  \n",
       "4   <p>Chargaff's rule states that the number of ...  \n",
       "\n",
       "[5 rows x 23 columns]"
      ]
     },
     "execution_count": 5,
     "metadata": {},
     "output_type": "execute_result"
    }
   ],
   "source": [
    "c1questions = c1questions.astype({\"course_id\" : \"int64\", \"question_time\" : 'datetime64'})\n",
    "c1courses = c1courses.convert_dtypes()\n",
    "\n",
    "c1combined = c1courses.merge(c1questions, on = \"course_id\")\n",
    "c1combined.head()"
   ]
  },
  {
   "cell_type": "markdown",
   "metadata": {
    "id": "7IDzQh1jpY7L"
   },
   "source": [
    "- We can conclude from above that the c1courses and c1questions tables have now been successfully joined together"
   ]
  },
  {
   "cell_type": "markdown",
   "metadata": {
    "id": "IUjeDc1tpodG"
   },
   "source": [
    "- The code block below aims to calculate the question_delta, question_beforedue and late variables by creating 3 columns and adding them to our dataset so that we are able to use this further down in our analysis"
   ]
  },
  {
   "cell_type": "code",
   "execution_count": 6,
   "metadata": {
    "id": "Pg4hk6-UxRX3"
   },
   "outputs": [],
   "source": [
    "c1combined[\"question_delta\"] = (c1combined[\"question_time\"] - c1combined[\"question_due\"])\n",
    "c1combined[\"question_beforedue\"] = (c1combined[\"question_due\"] - c1combined[\"question_time\"])\n",
    "c1combined[\"late\"] = c1combined[\"question_beforedue\"].dt.days < 0\n",
    "c1combined[\"not_late\"] = c1combined[\"question_beforedue\"].dt.days >= 0\n"
   ]
  },
  {
   "cell_type": "markdown",
   "metadata": {
    "id": "tcnYc6wEp0ds"
   },
   "source": [
    "- From the code block above, we can conclude that the 3 variables have now been added and created in our dataset"
   ]
  },
  {
   "cell_type": "markdown",
   "metadata": {
    "id": "T2iTgm5VxbhN"
   },
   "source": [
    "#### Cycle 2\n",
    "- We will now do the same as what we did above for cycle 1, except now for cycle 2\n"
   ]
  },
  {
   "cell_type": "markdown",
   "metadata": {
    "id": "sqjFYyq8qw1Q"
   },
   "source": [
    "- The code block below uses the `rename` function so that the variable names are consistent and clear throughout our notebook\n",
    "- Furthermore, we used the `drop` function to drop the \"CourseName\" from the dataset since it is not requried"
   ]
  },
  {
   "cell_type": "code",
   "execution_count": 7,
   "metadata": {
    "id": "FuYHBXczxRVs"
   },
   "outputs": [],
   "source": [
    "c2courses.rename(columns = {\"CourseID\" : \"course_id\", \"StartDate\" : \"cycle_start\", \"Deadline_Comment\" : \"comment_due\", \"Deadline_Question\" : \"question_due\"}, inplace = True)\n",
    "c2courses.drop(\"CourseName\", axis = 1, inplace = True)\n",
    "c2questions.rename(columns = {\"id\" : \"question_id\", \"timestamp\" : \"question_time\", \"user\" : \"user_id\"}, inplace = True)"
   ]
  },
  {
   "cell_type": "markdown",
   "metadata": {
    "id": "unVx4YDbsAwk"
   },
   "source": [
    "- From the code above, the columns have now been successfully renamed and are now consistent with the rest of the dataset\n",
    "- Furthermore, the \"CourseName\" column has now been droppped"
   ]
  },
  {
   "cell_type": "markdown",
   "metadata": {
    "id": "WXRrvZuQsSey"
   },
   "source": [
    "- The cell below firstly converts the values to int64 and datetime64 data types so that we are able to join the 2 tables\n",
    "- Furthermore, we use the `merge` function to join the c1courses and c1questions tables so that we are able to have the data available as 1 dataset"
   ]
  },
  {
   "cell_type": "code",
   "execution_count": 8,
   "metadata": {
    "colab": {
     "base_uri": "https://localhost:8080/",
     "height": 649
    },
    "id": "U1JAnzHSxRT9",
    "outputId": "f1aa5ec7-7c92-4fc0-eeb7-dd8be5c16113"
   },
   "outputs": [
    {
     "data": {
      "text/html": [
       "<div>\n",
       "<style scoped>\n",
       "    .dataframe tbody tr th:only-of-type {\n",
       "        vertical-align: middle;\n",
       "    }\n",
       "\n",
       "    .dataframe tbody tr th {\n",
       "        vertical-align: top;\n",
       "    }\n",
       "\n",
       "    .dataframe thead th {\n",
       "        text-align: right;\n",
       "    }\n",
       "</style>\n",
       "<table border=\"1\" class=\"dataframe\">\n",
       "  <thead>\n",
       "    <tr style=\"text-align: right;\">\n",
       "      <th></th>\n",
       "      <th>course_id</th>\n",
       "      <th>cycle_start</th>\n",
       "      <th>comment_due</th>\n",
       "      <th>question_due</th>\n",
       "      <th>question_id</th>\n",
       "      <th>question_time</th>\n",
       "      <th>user_id</th>\n",
       "      <th>avg_rating</th>\n",
       "      <th>total_responses</th>\n",
       "      <th>total_ratings</th>\n",
       "      <th>...</th>\n",
       "      <th>deleted</th>\n",
       "      <th>answer</th>\n",
       "      <th>question</th>\n",
       "      <th>numAlts</th>\n",
       "      <th>altA</th>\n",
       "      <th>altB</th>\n",
       "      <th>altC</th>\n",
       "      <th>altD</th>\n",
       "      <th>altE</th>\n",
       "      <th>explanation</th>\n",
       "    </tr>\n",
       "  </thead>\n",
       "  <tbody>\n",
       "    <tr>\n",
       "      <th>0</th>\n",
       "      <td>21140</td>\n",
       "      <td>2020-03-23</td>\n",
       "      <td>2020-04-05 01:00:10</td>\n",
       "      <td>2020-03-30 01:00:10</td>\n",
       "      <td>4391826</td>\n",
       "      <td>2020-03-26 19:10:48</td>\n",
       "      <td>636022</td>\n",
       "      <td>3.5</td>\n",
       "      <td>5</td>\n",
       "      <td>2</td>\n",
       "      <td>...</td>\n",
       "      <td>0</td>\n",
       "      <td>B</td>\n",
       "      <td>&lt;p&gt;Which of the following pair includes a pha...</td>\n",
       "      <td>4</td>\n",
       "      <td>&lt;p&gt;G1 phase, DNA replication&lt;/p&gt;             ...</td>\n",
       "      <td>&lt;p&gt;G2 phase, preparation for mitosis&lt;/p&gt;     ...</td>\n",
       "      <td>&lt;p&gt;S phase, cell division&lt;/p&gt;                ...</td>\n",
       "      <td>&lt;p&gt;M phase, cell growth&lt;/p&gt;                  ...</td>\n",
       "      <td>...</td>\n",
       "      <td>&lt;p&gt;G1 phase is growth and preparation of the ...</td>\n",
       "    </tr>\n",
       "    <tr>\n",
       "      <th>1</th>\n",
       "      <td>21140</td>\n",
       "      <td>2020-03-23</td>\n",
       "      <td>2020-04-05 01:00:10</td>\n",
       "      <td>2020-03-30 01:00:10</td>\n",
       "      <td>4392006</td>\n",
       "      <td>2020-03-26 20:54:26</td>\n",
       "      <td>636011</td>\n",
       "      <td>3.5</td>\n",
       "      <td>8</td>\n",
       "      <td>6</td>\n",
       "      <td>...</td>\n",
       "      <td>2</td>\n",
       "      <td>D</td>\n",
       "      <td>&lt;p&gt;A telomere has a repetitive nucleotide seq...</td>\n",
       "      <td>5</td>\n",
       "      <td>&lt;p&gt;4, 3, 1, 2, 5&lt;/p&gt;                         ...</td>\n",
       "      <td>&lt;p&gt;1, 2, 3, 4, 5&lt;/p&gt;                         ...</td>\n",
       "      <td>&lt;p&gt;2, 5, 4, 1, 3&lt;/p&gt;                         ...</td>\n",
       "      <td>&lt;p&gt;4, 2, 1, 3, 5&lt;/p&gt;                         ...</td>\n",
       "      <td>&lt;p&gt;2, 4, 1, 5, 3&lt;/p&gt;                         ...</td>\n",
       "      <td>&lt;p&gt;The correct answer is D with steps numbere...</td>\n",
       "    </tr>\n",
       "    <tr>\n",
       "      <th>2</th>\n",
       "      <td>21140</td>\n",
       "      <td>2020-03-23</td>\n",
       "      <td>2020-04-05 01:00:10</td>\n",
       "      <td>2020-03-30 01:00:10</td>\n",
       "      <td>4392084</td>\n",
       "      <td>2020-03-26 21:46:58</td>\n",
       "      <td>635990</td>\n",
       "      <td>3.5</td>\n",
       "      <td>3</td>\n",
       "      <td>2</td>\n",
       "      <td>...</td>\n",
       "      <td>0</td>\n",
       "      <td>D</td>\n",
       "      <td>&lt;p&gt;Table 8:&lt;/p&gt;&lt;p&gt;Which of the following stat...</td>\n",
       "      <td>4</td>\n",
       "      <td>&lt;p&gt;G0 is an optional part of the cell cycle w...</td>\n",
       "      <td>&lt;p&gt;All Eukaryotic cells which divide via the ...</td>\n",
       "      <td>&lt;p&gt;In G0 phase, a cell replicates its DNA to ...</td>\n",
       "      <td>&lt;p&gt;Some types of cells can enter G0 phase and...</td>\n",
       "      <td>...</td>\n",
       "      <td>&lt;p&gt;The answer is D: G0 phase occurs when cell...</td>\n",
       "    </tr>\n",
       "    <tr>\n",
       "      <th>3</th>\n",
       "      <td>21140</td>\n",
       "      <td>2020-03-23</td>\n",
       "      <td>2020-04-05 01:00:10</td>\n",
       "      <td>2020-03-30 01:00:10</td>\n",
       "      <td>4392568</td>\n",
       "      <td>2020-03-27 01:07:25</td>\n",
       "      <td>636008</td>\n",
       "      <td>0.0</td>\n",
       "      <td>0</td>\n",
       "      <td>0</td>\n",
       "      <td>...</td>\n",
       "      <td>2</td>\n",
       "      <td>B</td>\n",
       "      <td>&lt;p&gt;There are some cells with different settin...</td>\n",
       "      <td>5</td>\n",
       "      <td>&lt;p&gt;a&lt;/p&gt;                                     ...</td>\n",
       "      <td>&lt;p&gt;b&lt;/p&gt;                                     ...</td>\n",
       "      <td>&lt;p&gt;c&lt;/p&gt;                                     ...</td>\n",
       "      <td>&lt;p&gt;d&lt;/p&gt;                                     ...</td>\n",
       "      <td>&lt;p&gt;e&lt;/p&gt;                                     ...</td>\n",
       "      <td>&lt;p&gt;All normal cells including heart cells and...</td>\n",
       "    </tr>\n",
       "    <tr>\n",
       "      <th>4</th>\n",
       "      <td>21140</td>\n",
       "      <td>2020-03-23</td>\n",
       "      <td>2020-04-05 01:00:10</td>\n",
       "      <td>2020-03-30 01:00:10</td>\n",
       "      <td>4392616</td>\n",
       "      <td>2020-03-27 01:25:01</td>\n",
       "      <td>636014</td>\n",
       "      <td>3.0</td>\n",
       "      <td>1</td>\n",
       "      <td>1</td>\n",
       "      <td>...</td>\n",
       "      <td>2</td>\n",
       "      <td>B</td>\n",
       "      <td>&lt;p&gt;Mary is a healthy 17 years old teenager wh...</td>\n",
       "      <td>5</td>\n",
       "      <td>&lt;p&gt;Too much telomerase activity can cause chr...</td>\n",
       "      <td>&lt;p&gt;The supplement can result in permanent act...</td>\n",
       "      <td>&lt;p&gt;The supplement can result in permanent act...</td>\n",
       "      <td>&lt;p&gt;The activation of telomerase does not allo...</td>\n",
       "      <td>&lt;p&gt;The activation of telomerase lowers the ra...</td>\n",
       "      <td>&lt;p&gt;The progressive shortening of telomeres as...</td>\n",
       "    </tr>\n",
       "  </tbody>\n",
       "</table>\n",
       "<p>5 rows × 23 columns</p>\n",
       "</div>"
      ],
      "text/plain": [
       "   course_id cycle_start         comment_due        question_due  question_id  \\\n",
       "0      21140  2020-03-23 2020-04-05 01:00:10 2020-03-30 01:00:10      4391826   \n",
       "1      21140  2020-03-23 2020-04-05 01:00:10 2020-03-30 01:00:10      4392006   \n",
       "2      21140  2020-03-23 2020-04-05 01:00:10 2020-03-30 01:00:10      4392084   \n",
       "3      21140  2020-03-23 2020-04-05 01:00:10 2020-03-30 01:00:10      4392568   \n",
       "4      21140  2020-03-23 2020-04-05 01:00:10 2020-03-30 01:00:10      4392616   \n",
       "\n",
       "        question_time  user_id  avg_rating  total_responses  total_ratings  \\\n",
       "0 2020-03-26 19:10:48   636022         3.5                5              2   \n",
       "1 2020-03-26 20:54:26   636011         3.5                8              6   \n",
       "2 2020-03-26 21:46:58   635990         3.5                3              2   \n",
       "3 2020-03-27 01:07:25   636008         0.0                0              0   \n",
       "4 2020-03-27 01:25:01   636014         3.0                1              1   \n",
       "\n",
       "   ...  deleted    answer                                           question  \\\n",
       "0  ...        0   B         <p>Which of the following pair includes a pha...   \n",
       "1  ...        2   D         <p>A telomere has a repetitive nucleotide seq...   \n",
       "2  ...        0   D         <p>Table 8:</p><p>Which of the following stat...   \n",
       "3  ...        2   B         <p>There are some cells with different settin...   \n",
       "4  ...        2   B         <p>Mary is a healthy 17 years old teenager wh...   \n",
       "\n",
       "   numAlts                                               altA  \\\n",
       "0        4   <p>G1 phase, DNA replication</p>             ...   \n",
       "1        5   <p>4, 3, 1, 2, 5</p>                         ...   \n",
       "2        4   <p>G0 is an optional part of the cell cycle w...   \n",
       "3        5   <p>a</p>                                     ...   \n",
       "4        5   <p>Too much telomerase activity can cause chr...   \n",
       "\n",
       "                                                altB  \\\n",
       "0   <p>G2 phase, preparation for mitosis</p>     ...   \n",
       "1   <p>1, 2, 3, 4, 5</p>                         ...   \n",
       "2   <p>All Eukaryotic cells which divide via the ...   \n",
       "3   <p>b</p>                                     ...   \n",
       "4   <p>The supplement can result in permanent act...   \n",
       "\n",
       "                                                altC  \\\n",
       "0   <p>S phase, cell division</p>                ...   \n",
       "1   <p>2, 5, 4, 1, 3</p>                         ...   \n",
       "2   <p>In G0 phase, a cell replicates its DNA to ...   \n",
       "3   <p>c</p>                                     ...   \n",
       "4   <p>The supplement can result in permanent act...   \n",
       "\n",
       "                                                altD  \\\n",
       "0   <p>M phase, cell growth</p>                  ...   \n",
       "1   <p>4, 2, 1, 3, 5</p>                         ...   \n",
       "2   <p>Some types of cells can enter G0 phase and...   \n",
       "3   <p>d</p>                                     ...   \n",
       "4   <p>The activation of telomerase does not allo...   \n",
       "\n",
       "                                                altE  \\\n",
       "0                                                ...   \n",
       "1   <p>2, 4, 1, 5, 3</p>                         ...   \n",
       "2                                                ...   \n",
       "3   <p>e</p>                                     ...   \n",
       "4   <p>The activation of telomerase lowers the ra...   \n",
       "\n",
       "                                         explanation  \n",
       "0   <p>G1 phase is growth and preparation of the ...  \n",
       "1   <p>The correct answer is D with steps numbere...  \n",
       "2   <p>The answer is D: G0 phase occurs when cell...  \n",
       "3   <p>All normal cells including heart cells and...  \n",
       "4   <p>The progressive shortening of telomeres as...  \n",
       "\n",
       "[5 rows x 23 columns]"
      ]
     },
     "execution_count": 8,
     "metadata": {},
     "output_type": "execute_result"
    }
   ],
   "source": [
    "c2questions = c2questions.astype({\"course_id\" : \"int64\", \"question_time\" : 'datetime64'})\n",
    "c2courses = c2courses.convert_dtypes()\n",
    "\n",
    "c2combined = c2courses.merge(c2questions, on = \"course_id\")\n",
    "c2combined.head()"
   ]
  },
  {
   "cell_type": "markdown",
   "metadata": {
    "id": "_edCQIt0sZMb"
   },
   "source": [
    "- We can conclude from above that the c2courses and c2questions tables have now been successfully joined together"
   ]
  },
  {
   "cell_type": "markdown",
   "metadata": {
    "id": "fQ0Q7GLhsdkG"
   },
   "source": [
    "- The code block below aims to calculate the question_delta, question_beforedue and late variables by creating 3 columns and adding them to our dataset so that we are able to use this further down in our analysis"
   ]
  },
  {
   "cell_type": "code",
   "execution_count": 9,
   "metadata": {
    "id": "YqjR_r_8xRRn"
   },
   "outputs": [],
   "source": [
    "#c2combined[\"question_delta\"] = (c2combined[\"question_time\"] - c2combined[\"question_due\"])\n",
    "c2combined[\"question_beforedue\"] = (c2combined[\"question_due\"] - c2combined[\"question_time\"])\n",
    "c2combined[\"late\"] = c2combined[\"question_beforedue\"].dt.days < 0\n",
    "c2combined[\"not_late\"] = c2combined[\"question_beforedue\"].dt.days >= 0"
   ]
  },
  {
   "cell_type": "markdown",
   "metadata": {
    "id": "QnCb2Sk_sgXj"
   },
   "source": [
    "- From the code block above, we can conclude that the 3 variables have now been added and created in our dataset"
   ]
  },
  {
   "cell_type": "markdown",
   "metadata": {
    "id": "HyfwjtVjZ6av"
   },
   "source": [
    "### Combining of Datasets"
   ]
  },
  {
   "cell_type": "markdown",
   "metadata": {
    "id": "ts1TYn7KstOp"
   },
   "source": [
    "- The code block below creates a new column in the dataset which will display the cycle which the row belongs to\n",
    "- Moreover, the `concat` function is used to combine both c1 and c2 into 1 single dataset\n",
    "- We also set some of the variables to be of \"int64\" data type so that they are consistent\n",
    "- Finally, we used `sort_values` function to sort our data set by the \"question_beforedue\" variable"
   ]
  },
  {
   "cell_type": "code",
   "execution_count": 10,
   "metadata": {
    "colab": {
     "base_uri": "https://localhost:8080/",
     "height": 1000
    },
    "id": "gpLvBNhXZ9K8",
    "outputId": "5c997b6c-ee5b-48bc-fe09-410c083f9523"
   },
   "outputs": [
    {
     "data": {
      "text/html": [
       "<div>\n",
       "<style scoped>\n",
       "    .dataframe tbody tr th:only-of-type {\n",
       "        vertical-align: middle;\n",
       "    }\n",
       "\n",
       "    .dataframe tbody tr th {\n",
       "        vertical-align: top;\n",
       "    }\n",
       "\n",
       "    .dataframe thead th {\n",
       "        text-align: right;\n",
       "    }\n",
       "</style>\n",
       "<table border=\"1\" class=\"dataframe\">\n",
       "  <thead>\n",
       "    <tr style=\"text-align: right;\">\n",
       "      <th></th>\n",
       "      <th>course_id</th>\n",
       "      <th>cycle_start</th>\n",
       "      <th>comment_due</th>\n",
       "      <th>question_due</th>\n",
       "      <th>question_id</th>\n",
       "      <th>question_time</th>\n",
       "      <th>user_id</th>\n",
       "      <th>avg_rating</th>\n",
       "      <th>total_responses</th>\n",
       "      <th>total_ratings</th>\n",
       "      <th>...</th>\n",
       "      <th>altB</th>\n",
       "      <th>altC</th>\n",
       "      <th>altD</th>\n",
       "      <th>altE</th>\n",
       "      <th>explanation</th>\n",
       "      <th>question_delta</th>\n",
       "      <th>question_beforedue</th>\n",
       "      <th>late</th>\n",
       "      <th>not_late</th>\n",
       "      <th>cycle</th>\n",
       "    </tr>\n",
       "  </thead>\n",
       "  <tbody>\n",
       "    <tr>\n",
       "      <th>0</th>\n",
       "      <td>20995</td>\n",
       "      <td>2020-03-09</td>\n",
       "      <td>2020-03-17 01:00:10</td>\n",
       "      <td>2020-03-10 01:00:10</td>\n",
       "      <td>4342368</td>\n",
       "      <td>2020-03-04 17:52:14</td>\n",
       "      <td>217514</td>\n",
       "      <td>0.00</td>\n",
       "      <td>0</td>\n",
       "      <td>0</td>\n",
       "      <td>...</td>\n",
       "      <td>&lt;p&gt;Edwin Chargaff&lt;br /&gt;&lt;br /&gt;&lt;/p&gt;            ...</td>\n",
       "      <td>&lt;p&gt;Watson and Crick&lt;/p&gt;                      ...</td>\n",
       "      <td>&lt;p&gt;Frederick Meischer&lt;/p&gt;                    ...</td>\n",
       "      <td>...</td>\n",
       "      <td>&lt;p&gt;It was Franklin. &amp;nbsp;Watson and Crick ob...</td>\n",
       "      <td>-6 days +16:52:04</td>\n",
       "      <td>5 days 07:07:56</td>\n",
       "      <td>False</td>\n",
       "      <td>True</td>\n",
       "      <td>1</td>\n",
       "    </tr>\n",
       "    <tr>\n",
       "      <th>1</th>\n",
       "      <td>20995</td>\n",
       "      <td>2020-03-09</td>\n",
       "      <td>2020-03-17 01:00:10</td>\n",
       "      <td>2020-03-10 01:00:10</td>\n",
       "      <td>4342370</td>\n",
       "      <td>2020-03-04 17:52:14</td>\n",
       "      <td>217514</td>\n",
       "      <td>0.50</td>\n",
       "      <td>7</td>\n",
       "      <td>4</td>\n",
       "      <td>...</td>\n",
       "      <td>&lt;p&gt;Edwin Chargaff&lt;br /&gt;&lt;br /&gt;&lt;/p&gt;            ...</td>\n",
       "      <td>&lt;p&gt;Watson and Crick&lt;/p&gt;                      ...</td>\n",
       "      <td>&lt;p&gt;Frederick Meischer&lt;/p&gt;                    ...</td>\n",
       "      <td>...</td>\n",
       "      <td>&lt;p&gt;It was Franklin. &amp;nbsp;Watson and Crick ob...</td>\n",
       "      <td>-6 days +16:52:04</td>\n",
       "      <td>5 days 07:07:56</td>\n",
       "      <td>False</td>\n",
       "      <td>True</td>\n",
       "      <td>1</td>\n",
       "    </tr>\n",
       "    <tr>\n",
       "      <th>2</th>\n",
       "      <td>20995</td>\n",
       "      <td>2020-03-09</td>\n",
       "      <td>2020-03-17 01:00:10</td>\n",
       "      <td>2020-03-10 01:00:10</td>\n",
       "      <td>4349814</td>\n",
       "      <td>2020-03-09 15:55:46</td>\n",
       "      <td>636010</td>\n",
       "      <td>2.33</td>\n",
       "      <td>10</td>\n",
       "      <td>9</td>\n",
       "      <td>...</td>\n",
       "      <td>&lt;p&gt;DNA polymerase can synthesize DNA in the 5...</td>\n",
       "      <td>&lt;p&gt;DNA polymerase can synthesize mRNA in the ...</td>\n",
       "      <td>&lt;p&gt;DNA polymerase can synthesize DNA in the 3...</td>\n",
       "      <td>...</td>\n",
       "      <td>&lt;p&gt;DNA polymerase is only able to synthesize ...</td>\n",
       "      <td>-1 days +14:55:36</td>\n",
       "      <td>0 days 09:04:24</td>\n",
       "      <td>False</td>\n",
       "      <td>True</td>\n",
       "      <td>1</td>\n",
       "    </tr>\n",
       "    <tr>\n",
       "      <th>3</th>\n",
       "      <td>20995</td>\n",
       "      <td>2020-03-09</td>\n",
       "      <td>2020-03-17 01:00:10</td>\n",
       "      <td>2020-03-10 01:00:10</td>\n",
       "      <td>4349841</td>\n",
       "      <td>2020-03-09 16:16:45</td>\n",
       "      <td>636012</td>\n",
       "      <td>2.25</td>\n",
       "      <td>5</td>\n",
       "      <td>4</td>\n",
       "      <td>...</td>\n",
       "      <td>&lt;p&gt;DNA is comprised of nucleotide subunits ea...</td>\n",
       "      <td>&lt;p&gt;The double helix of DNA is stabilized by i...</td>\n",
       "      <td>&lt;p&gt;Each DNA sequence folds into a unique and ...</td>\n",
       "      <td>&lt;p&gt;DNA base pairs are held together by strong...</td>\n",
       "      <td>&lt;p&gt;DNA is made up of nucleotide subunits boun...</td>\n",
       "      <td>-1 days +15:16:35</td>\n",
       "      <td>0 days 08:43:25</td>\n",
       "      <td>False</td>\n",
       "      <td>True</td>\n",
       "      <td>1</td>\n",
       "    </tr>\n",
       "    <tr>\n",
       "      <th>4</th>\n",
       "      <td>20995</td>\n",
       "      <td>2020-03-09</td>\n",
       "      <td>2020-03-17 01:00:10</td>\n",
       "      <td>2020-03-10 01:00:10</td>\n",
       "      <td>4349844</td>\n",
       "      <td>2020-03-09 16:17:41</td>\n",
       "      <td>636018</td>\n",
       "      <td>2.67</td>\n",
       "      <td>5</td>\n",
       "      <td>3</td>\n",
       "      <td>...</td>\n",
       "      <td>&lt;p&gt;The amount of Cytosine and Guanine = The a...</td>\n",
       "      <td>&lt;p&gt;The amount of Adenine and Guanine = The am...</td>\n",
       "      <td>&lt;p&gt;All of the above&lt;/p&gt;                      ...</td>\n",
       "      <td>...</td>\n",
       "      <td>&lt;p&gt;Chargaff's rule states that the number of ...</td>\n",
       "      <td>-1 days +15:17:31</td>\n",
       "      <td>0 days 08:42:29</td>\n",
       "      <td>False</td>\n",
       "      <td>True</td>\n",
       "      <td>1</td>\n",
       "    </tr>\n",
       "  </tbody>\n",
       "</table>\n",
       "<p>5 rows × 28 columns</p>\n",
       "</div>"
      ],
      "text/plain": [
       "   course_id cycle_start         comment_due        question_due  question_id  \\\n",
       "0      20995  2020-03-09 2020-03-17 01:00:10 2020-03-10 01:00:10      4342368   \n",
       "1      20995  2020-03-09 2020-03-17 01:00:10 2020-03-10 01:00:10      4342370   \n",
       "2      20995  2020-03-09 2020-03-17 01:00:10 2020-03-10 01:00:10      4349814   \n",
       "3      20995  2020-03-09 2020-03-17 01:00:10 2020-03-10 01:00:10      4349841   \n",
       "4      20995  2020-03-09 2020-03-17 01:00:10 2020-03-10 01:00:10      4349844   \n",
       "\n",
       "        question_time  user_id  avg_rating  total_responses  total_ratings  \\\n",
       "0 2020-03-04 17:52:14   217514        0.00                0              0   \n",
       "1 2020-03-04 17:52:14   217514        0.50                7              4   \n",
       "2 2020-03-09 15:55:46   636010        2.33               10              9   \n",
       "3 2020-03-09 16:16:45   636012        2.25                5              4   \n",
       "4 2020-03-09 16:17:41   636018        2.67                5              3   \n",
       "\n",
       "   ...                                               altB  \\\n",
       "0  ...   <p>Edwin Chargaff<br /><br /></p>            ...   \n",
       "1  ...   <p>Edwin Chargaff<br /><br /></p>            ...   \n",
       "2  ...   <p>DNA polymerase can synthesize DNA in the 5...   \n",
       "3  ...   <p>DNA is comprised of nucleotide subunits ea...   \n",
       "4  ...   <p>The amount of Cytosine and Guanine = The a...   \n",
       "\n",
       "                                                altC  \\\n",
       "0   <p>Watson and Crick</p>                      ...   \n",
       "1   <p>Watson and Crick</p>                      ...   \n",
       "2   <p>DNA polymerase can synthesize mRNA in the ...   \n",
       "3   <p>The double helix of DNA is stabilized by i...   \n",
       "4   <p>The amount of Adenine and Guanine = The am...   \n",
       "\n",
       "                                                altD  \\\n",
       "0   <p>Frederick Meischer</p>                    ...   \n",
       "1   <p>Frederick Meischer</p>                    ...   \n",
       "2   <p>DNA polymerase can synthesize DNA in the 3...   \n",
       "3   <p>Each DNA sequence folds into a unique and ...   \n",
       "4   <p>All of the above</p>                      ...   \n",
       "\n",
       "                                                altE  \\\n",
       "0                                                ...   \n",
       "1                                                ...   \n",
       "2                                                ...   \n",
       "3   <p>DNA base pairs are held together by strong...   \n",
       "4                                                ...   \n",
       "\n",
       "                                         explanation    question_delta  \\\n",
       "0   <p>It was Franklin. &nbsp;Watson and Crick ob... -6 days +16:52:04   \n",
       "1   <p>It was Franklin. &nbsp;Watson and Crick ob... -6 days +16:52:04   \n",
       "2   <p>DNA polymerase is only able to synthesize ... -1 days +14:55:36   \n",
       "3   <p>DNA is made up of nucleotide subunits boun... -1 days +15:16:35   \n",
       "4   <p>Chargaff's rule states that the number of ... -1 days +15:17:31   \n",
       "\n",
       "  question_beforedue   late not_late cycle  \n",
       "0    5 days 07:07:56  False     True     1  \n",
       "1    5 days 07:07:56  False     True     1  \n",
       "2    0 days 09:04:24  False     True     1  \n",
       "3    0 days 08:43:25  False     True     1  \n",
       "4    0 days 08:42:29  False     True     1  \n",
       "\n",
       "[5 rows x 28 columns]"
      ]
     },
     "execution_count": 10,
     "metadata": {},
     "output_type": "execute_result"
    }
   ],
   "source": [
    "c1combined[\"cycle\"] = 1\n",
    "c2combined[\"cycle\"] = 2\n",
    "\n",
    "all_combined = pd.concat([c1combined, c2combined])\n",
    "all_combined = all_combined.astype({\"course_id\" : \"int64\", \"user_id\" : \"int64\", \"question_id\" : \"int64\"})\n",
    "all_combined.head()"
   ]
  },
  {
   "cell_type": "markdown",
   "metadata": {
    "id": "7oR-59nithdM"
   },
   "source": [
    "- From the block of code above, it can be concluded that both cycles have now been successfully combined together into one data set\n",
    "- The data types for some variables have also been converted successfully resulting in better consistency"
   ]
  },
  {
   "cell_type": "markdown",
   "metadata": {
    "id": "ETsBrmrXaAGz"
   },
   "source": [
    "### Data Investigation"
   ]
  },
  {
   "cell_type": "markdown",
   "metadata": {
    "id": "3IUbo_HFwJHO"
   },
   "source": [
    "- The block of code before prints out the min and max of when a question was made"
   ]
  },
  {
   "cell_type": "code",
   "execution_count": 11,
   "metadata": {
    "colab": {
     "base_uri": "https://localhost:8080/"
    },
    "id": "E3PR5xLXaBDm",
    "outputId": "65f52b33-7d79-495c-e45f-712770a832f9"
   },
   "outputs": [
    {
     "name": "stdout",
     "output_type": "stream",
     "text": [
      "Earliest question was made at: 04/03/2020\n",
      "Latest question was made at: 10/04/2020\n"
     ]
    }
   ],
   "source": [
    "print(\"Earliest question was made at:\", all_combined[\"question_time\"].min().strftime(\"%d/%m/%Y\"))\n",
    "print(\"Latest question was made at:\", all_combined[\"question_time\"].max().strftime(\"%d/%m/%Y\"))"
   ]
  },
  {
   "cell_type": "markdown",
   "metadata": {
    "id": "xJAlMN0Zw3MH"
   },
   "source": [
    "- From the code above we can conclude that:\n",
    "  - the earliest question was made at: \"04-03-2020\"\n",
    "  - the last question was made at \"10-04-2020\""
   ]
  },
  {
   "cell_type": "markdown",
   "metadata": {
    "id": "rV-n-E4fxq6L"
   },
   "source": [
    "- The code below aims to group all the results by the \"question_delta\" which is the number of days early/late a question was made and calculates a count of each\n",
    "- Furthermore, we then plot a bar graph of our count of the number of days early/late using the `plot` function "
   ]
  },
  {
   "cell_type": "code",
   "execution_count": 12,
   "metadata": {
    "colab": {
     "base_uri": "https://localhost:8080/",
     "height": 312
    },
    "id": "xsSnqncwaEAU",
    "outputId": "b42ea146-1c93-470c-dabd-2a35e208078f"
   },
   "outputs": [
    {
     "data": {
      "text/plain": [
       "<AxesSubplot:title={'center':'Time before due date of question that a question was made in Cycle 1 and 2'}, xlabel='Days before question due date', ylabel='Number of Questions'>"
      ]
     },
     "execution_count": 12,
     "metadata": {},
     "output_type": "execute_result"
    },
    {
     "data": {
      "image/png": "[encoded data removed]",
      "text/plain": [
       "<Figure size 432x288 with 1 Axes>"
      ]
     },
     "metadata": {
      "needs_background": "light"
     },
     "output_type": "display_data"
    }
   ],
   "source": [
    "delta_grouped = all_combined[[\"question_beforedue\"]].groupby(all_combined[\"question_beforedue\"].dt.days).count()\n",
    "delta_grouped.plot(kind = \"bar\", xlabel = \"Days before question due date\", ylabel = \"Number of Questions\", title = \"Time before due date of question that a question was made in Cycle 1 and 2\")"
   ]
  },
  {
   "cell_type": "markdown",
   "metadata": {
    "id": "Ww1Xt5UoyKxO"
   },
   "source": [
    "- From the code above, we can now see that our bar graph has been successfully ploted and that we are not able to conclude that the majority of questions were created 1 day before the due date"
   ]
  },
  {
   "cell_type": "markdown",
   "metadata": {
    "id": "nZb3yPDf0Aqh"
   },
   "source": [
    "- The code below performs groups by user_id to determine if a student submitted a question late\n",
    "- We will use this to determine the motivation level of each student to assist us in answering the driving question\n",
    "- We then aim to plot a histogram using the `plot` function"
   ]
  },
  {
   "cell_type": "code",
   "execution_count": 13,
   "metadata": {
    "colab": {
     "base_uri": "https://localhost:8080/",
     "height": 282
    },
    "id": "KMk3yIKeaFMH",
    "outputId": "11a7602a-071f-492d-e397-285a1045c556"
   },
   "outputs": [
    {
     "data": {
      "text/html": [
       "<div>\n",
       "<style scoped>\n",
       "    .dataframe tbody tr th:only-of-type {\n",
       "        vertical-align: middle;\n",
       "    }\n",
       "\n",
       "    .dataframe tbody tr th {\n",
       "        vertical-align: top;\n",
       "    }\n",
       "\n",
       "    .dataframe thead th {\n",
       "        text-align: right;\n",
       "    }\n",
       "</style>\n",
       "<table border=\"1\" class=\"dataframe\">\n",
       "  <thead>\n",
       "    <tr style=\"text-align: right;\">\n",
       "      <th></th>\n",
       "      <th>user_id</th>\n",
       "      <th>not_late</th>\n",
       "    </tr>\n",
       "  </thead>\n",
       "  <tbody>\n",
       "    <tr>\n",
       "      <th>0</th>\n",
       "      <td>217514</td>\n",
       "      <td>True</td>\n",
       "    </tr>\n",
       "    <tr>\n",
       "      <th>1</th>\n",
       "      <td>269035</td>\n",
       "      <td>True</td>\n",
       "    </tr>\n",
       "    <tr>\n",
       "      <th>2</th>\n",
       "      <td>504817</td>\n",
       "      <td>True</td>\n",
       "    </tr>\n",
       "    <tr>\n",
       "      <th>3</th>\n",
       "      <td>508271</td>\n",
       "      <td>True</td>\n",
       "    </tr>\n",
       "    <tr>\n",
       "      <th>4</th>\n",
       "      <td>555695</td>\n",
       "      <td>True</td>\n",
       "    </tr>\n",
       "  </tbody>\n",
       "</table>\n",
       "</div>"
      ],
      "text/plain": [
       "   user_id  not_late\n",
       "0   217514      True\n",
       "1   269035      True\n",
       "2   504817      True\n",
       "3   508271      True\n",
       "4   555695      True"
      ]
     },
     "execution_count": 13,
     "metadata": {},
     "output_type": "execute_result"
    }
   ],
   "source": [
    "ontime_students = all_combined[[\"user_id\", \"not_late\"]].groupby(\"user_id\", as_index=False).any(\"not_late\")\n",
    "ontime_students.head()"
   ]
  },
  {
   "cell_type": "markdown",
   "metadata": {
    "id": "AZXwI_yF0YoP"
   },
   "source": [
    "- As seen from the code above the number of students who submitted questions late have been now grouped into the number of days that their question was late"
   ]
  },
  {
   "cell_type": "markdown",
   "metadata": {
    "id": "PNaTS1qg1PGc"
   },
   "source": [
    "- The code block below aims to sorts the values based on the number of late questions submitted by each student through the use of the `sort_values` function"
   ]
  },
  {
   "cell_type": "markdown",
   "metadata": {
    "id": "BkqYpwaWaI0V"
   },
   "source": [
    "Connecting to cycle 4 groups"
   ]
  },
  {
   "cell_type": "code",
   "execution_count": 14,
   "metadata": {
    "id": "oxXmIiDsaa6T"
   },
   "outputs": [
    {
     "data": {
      "text/html": [
       "<div>\n",
       "<style scoped>\n",
       "    .dataframe tbody tr th:only-of-type {\n",
       "        vertical-align: middle;\n",
       "    }\n",
       "\n",
       "    .dataframe tbody tr th {\n",
       "        vertical-align: top;\n",
       "    }\n",
       "\n",
       "    .dataframe thead th {\n",
       "        text-align: right;\n",
       "    }\n",
       "</style>\n",
       "<table border=\"1\" class=\"dataframe\">\n",
       "  <thead>\n",
       "    <tr style=\"text-align: right;\">\n",
       "      <th></th>\n",
       "      <th>user_id</th>\n",
       "      <th>course_id</th>\n",
       "      <th>team</th>\n",
       "      <th>not_late</th>\n",
       "    </tr>\n",
       "  </thead>\n",
       "  <tbody>\n",
       "    <tr>\n",
       "      <th>0</th>\n",
       "      <td>636031</td>\n",
       "      <td>21320</td>\n",
       "      <td>Black</td>\n",
       "      <td>True</td>\n",
       "    </tr>\n",
       "    <tr>\n",
       "      <th>1</th>\n",
       "      <td>635993</td>\n",
       "      <td>21320</td>\n",
       "      <td>Black</td>\n",
       "      <td>True</td>\n",
       "    </tr>\n",
       "    <tr>\n",
       "      <th>2</th>\n",
       "      <td>636008</td>\n",
       "      <td>21320</td>\n",
       "      <td>Black</td>\n",
       "      <td>True</td>\n",
       "    </tr>\n",
       "    <tr>\n",
       "      <th>3</th>\n",
       "      <td>636010</td>\n",
       "      <td>21320</td>\n",
       "      <td>Black</td>\n",
       "      <td>True</td>\n",
       "    </tr>\n",
       "    <tr>\n",
       "      <th>4</th>\n",
       "      <td>635988</td>\n",
       "      <td>21320</td>\n",
       "      <td>Black</td>\n",
       "      <td>True</td>\n",
       "    </tr>\n",
       "  </tbody>\n",
       "</table>\n",
       "</div>"
      ],
      "text/plain": [
       "   user_id  course_id   team  not_late\n",
       "0   636031      21320  Black      True\n",
       "1   635993      21320  Black      True\n",
       "2   636008      21320  Black      True\n",
       "3   636010      21320  Black      True\n",
       "4   635988      21320  Black      True"
      ]
     },
     "execution_count": 14,
     "metadata": {},
     "output_type": "execute_result"
    }
   ],
   "source": [
    "c4usercourses.rename(columns = {\"user\" : \"user_id\", \"Team\" : \"team\"}, inplace = True)\n",
    "c4usercourses_ontime = c4usercourses.merge(ontime_students.reset_index(drop = True), on = \"user_id\")\n",
    "c4usercourses_ontime.head()\n",
    "\n",
    "#c4usercoures_late = c4usercoures.merge(ontime_students.reset_index(drop=True), on='user_id')"
   ]
  },
  {
   "cell_type": "code",
   "execution_count": 15,
   "metadata": {
    "colab": {
     "base_uri": "https://localhost:8080/",
     "height": 419
    },
    "id": "8iACFJQOacOJ",
    "outputId": "0d0f4697-0357-42f6-cbca-883388184027"
   },
   "outputs": [],
   "source": [
    "#c4usercourses_lateness.sort_values(by = \"late\", ascending = False)"
   ]
  },
  {
   "cell_type": "code",
   "execution_count": 16,
   "metadata": {},
   "outputs": [
    {
     "data": {
      "text/html": [
       "<div>\n",
       "<style scoped>\n",
       "    .dataframe tbody tr th:only-of-type {\n",
       "        vertical-align: middle;\n",
       "    }\n",
       "\n",
       "    .dataframe tbody tr th {\n",
       "        vertical-align: top;\n",
       "    }\n",
       "\n",
       "    .dataframe thead th {\n",
       "        text-align: right;\n",
       "    }\n",
       "</style>\n",
       "<table border=\"1\" class=\"dataframe\">\n",
       "  <thead>\n",
       "    <tr style=\"text-align: right;\">\n",
       "      <th></th>\n",
       "      <th>team</th>\n",
       "      <th>not_late</th>\n",
       "      <th>num_members</th>\n",
       "      <th>%on_time</th>\n",
       "    </tr>\n",
       "  </thead>\n",
       "  <tbody>\n",
       "    <tr>\n",
       "      <th>0</th>\n",
       "      <td>Black</td>\n",
       "      <td>34</td>\n",
       "      <td>34</td>\n",
       "      <td>1.000000</td>\n",
       "    </tr>\n",
       "    <tr>\n",
       "      <th>2</th>\n",
       "      <td>Brown</td>\n",
       "      <td>36</td>\n",
       "      <td>36</td>\n",
       "      <td>1.000000</td>\n",
       "    </tr>\n",
       "    <tr>\n",
       "      <th>3</th>\n",
       "      <td>Green</td>\n",
       "      <td>38</td>\n",
       "      <td>39</td>\n",
       "      <td>0.974359</td>\n",
       "    </tr>\n",
       "    <tr>\n",
       "      <th>8</th>\n",
       "      <td>Yellow</td>\n",
       "      <td>30</td>\n",
       "      <td>31</td>\n",
       "      <td>0.967742</td>\n",
       "    </tr>\n",
       "    <tr>\n",
       "      <th>4</th>\n",
       "      <td>Pink</td>\n",
       "      <td>35</td>\n",
       "      <td>37</td>\n",
       "      <td>0.945946</td>\n",
       "    </tr>\n",
       "    <tr>\n",
       "      <th>5</th>\n",
       "      <td>Purple</td>\n",
       "      <td>14</td>\n",
       "      <td>15</td>\n",
       "      <td>0.933333</td>\n",
       "    </tr>\n",
       "    <tr>\n",
       "      <th>6</th>\n",
       "      <td>Red</td>\n",
       "      <td>34</td>\n",
       "      <td>37</td>\n",
       "      <td>0.918919</td>\n",
       "    </tr>\n",
       "    <tr>\n",
       "      <th>7</th>\n",
       "      <td>White</td>\n",
       "      <td>21</td>\n",
       "      <td>23</td>\n",
       "      <td>0.913043</td>\n",
       "    </tr>\n",
       "    <tr>\n",
       "      <th>1</th>\n",
       "      <td>Blue</td>\n",
       "      <td>31</td>\n",
       "      <td>34</td>\n",
       "      <td>0.911765</td>\n",
       "    </tr>\n",
       "  </tbody>\n",
       "</table>\n",
       "</div>"
      ],
      "text/plain": [
       "     team  not_late  num_members  %on_time\n",
       "0   Black        34           34  1.000000\n",
       "2   Brown        36           36  1.000000\n",
       "3   Green        38           39  0.974359\n",
       "8  Yellow        30           31  0.967742\n",
       "4    Pink        35           37  0.945946\n",
       "5  Purple        14           15  0.933333\n",
       "6     Red        34           37  0.918919\n",
       "7   White        21           23  0.913043\n",
       "1    Blue        31           34  0.911765"
      ]
     },
     "execution_count": 16,
     "metadata": {},
     "output_type": "execute_result"
    }
   ],
   "source": [
    "ontime_by_group = c4usercourses_ontime[['team', 'not_late']].groupby(\"team\").sum(\"not_late\")\n",
    "ontime_by_group['num_members'] = c4usercourses_ontime[['team', 'user_id']].groupby(\"team\").count()\n",
    "ontime_by_group['%on_time'] = ontime_by_group['not_late'] / ontime_by_group['num_members']\n",
    "ontime_by_group = ontime_by_group.reset_index()\n",
    "\n",
    "ontime_by_group.sort_values(by='%on_time', ascending=False)"
   ]
  },
  {
   "cell_type": "markdown",
   "metadata": {
    "id": "2WEiDGyRl4lk"
   },
   "source": [
    "## Number of Correct Answers\n",
    "\n",
    "---\n",
    "\n",
    "- Author: Charlie\n",
    "- Date:\n",
    "- Supporters"
   ]
  },
  {
   "cell_type": "markdown",
   "metadata": {
    "id": "evkAsqwTXUrY"
   },
   "source": [
    "Explore data\n",
    "We will look at the questions data first, followed by the answers data\n",
    "This will give us a good overview of what ranges our values lie in and any bias we need to consider\n",
    "Keep in mind each student was required to answer 40 questions!\n",
    "Questions data"
   ]
  },
  {
   "cell_type": "code",
   "execution_count": 17,
   "metadata": {
    "colab": {
     "base_uri": "https://localhost:8080/",
     "height": 479
    },
    "id": "unl8KEh7XVqW",
    "outputId": "b9f2f3a0-fff7-49f7-eb31-d3ed8b816d70"
   },
   "outputs": [
    {
     "data": {
      "text/html": [
       "<div>\n",
       "<style scoped>\n",
       "    .dataframe tbody tr th:only-of-type {\n",
       "        vertical-align: middle;\n",
       "    }\n",
       "\n",
       "    .dataframe tbody tr th {\n",
       "        vertical-align: top;\n",
       "    }\n",
       "\n",
       "    .dataframe thead th {\n",
       "        text-align: right;\n",
       "    }\n",
       "</style>\n",
       "<table border=\"1\" class=\"dataframe\">\n",
       "  <thead>\n",
       "    <tr style=\"text-align: right;\">\n",
       "      <th></th>\n",
       "      <th>id</th>\n",
       "      <th>course_id</th>\n",
       "      <th>timestamp</th>\n",
       "      <th>user</th>\n",
       "      <th>avg_rating</th>\n",
       "      <th>total_responses</th>\n",
       "      <th>total_ratings</th>\n",
       "      <th>top_rating_count</th>\n",
       "      <th>avg_difficulty</th>\n",
       "      <th>total_comments</th>\n",
       "      <th>deleted</th>\n",
       "      <th>answer</th>\n",
       "      <th>question</th>\n",
       "      <th>numAlts</th>\n",
       "      <th>altA</th>\n",
       "      <th>altB</th>\n",
       "      <th>altC</th>\n",
       "      <th>altD</th>\n",
       "      <th>altE</th>\n",
       "      <th>explanation</th>\n",
       "    </tr>\n",
       "  </thead>\n",
       "  <tbody>\n",
       "    <tr>\n",
       "      <th>0</th>\n",
       "      <td>4421360</td>\n",
       "      <td>21230</td>\n",
       "      <td>2020-04-07 22:29:54</td>\n",
       "      <td>217514</td>\n",
       "      <td>2.50</td>\n",
       "      <td>29</td>\n",
       "      <td>20</td>\n",
       "      <td>1</td>\n",
       "      <td>0.7500</td>\n",
       "      <td>2</td>\n",
       "      <td>0</td>\n",
       "      <td>B</td>\n",
       "      <td>The telomeric repeat sequence in green algae ...</td>\n",
       "      <td>5</td>\n",
       "      <td>&lt;p&gt;5&amp;prime; UUUUAGGGUUUU 3&amp;prime;&lt;br /&gt;&lt;br /&gt;...</td>\n",
       "      <td>&lt;p&gt;5&amp;prime; CCCUAAAACCCU 3&amp;prime;&lt;br /&gt;&lt;br /&gt;...</td>\n",
       "      <td>&lt;p&gt;5&amp;prime; CCCTAAAACCCT 3&amp;prime;&lt;br /&gt;&lt;br /&gt;...</td>\n",
       "      <td>&lt;p&gt;5&amp;prime; TTTTAGGGTTTT 3&amp;prime;&lt;br /&gt;&lt;br /&gt;...</td>\n",
       "      <td>&lt;p&gt;5&amp;prime; AGGGTTTTAGGG 3&amp;prime;&lt;/p&gt;        ...</td>\n",
       "      <td>&lt;p&gt;no explanation&lt;/p&gt;                        ...</td>\n",
       "    </tr>\n",
       "    <tr>\n",
       "      <th>1</th>\n",
       "      <td>4421361</td>\n",
       "      <td>21230</td>\n",
       "      <td>2020-04-07 22:30:18</td>\n",
       "      <td>217514</td>\n",
       "      <td>3.27</td>\n",
       "      <td>37</td>\n",
       "      <td>22</td>\n",
       "      <td>3</td>\n",
       "      <td>0.9091</td>\n",
       "      <td>1</td>\n",
       "      <td>0</td>\n",
       "      <td>D</td>\n",
       "      <td>Which of the following types of protein could...</td>\n",
       "      <td>4</td>\n",
       "      <td>&lt;p&gt;A protein which forms part of a growth fac...</td>\n",
       "      <td>&lt;p&gt;A protein which codes for a DNA repair enz...</td>\n",
       "      <td>&lt;p&gt;A protein which helps prevent apoptosis.&lt;/...</td>\n",
       "      <td>&lt;p&gt;A protein which controls progression throu...</td>\n",
       "      <td>...</td>\n",
       "      <td>&lt;p&gt;Tumour suppressor genes code for proteins ...</td>\n",
       "    </tr>\n",
       "    <tr>\n",
       "      <th>2</th>\n",
       "      <td>4421362</td>\n",
       "      <td>21230</td>\n",
       "      <td>2020-04-07 22:30:18</td>\n",
       "      <td>217514</td>\n",
       "      <td>2.96</td>\n",
       "      <td>32</td>\n",
       "      <td>24</td>\n",
       "      <td>1</td>\n",
       "      <td>0.5000</td>\n",
       "      <td>0</td>\n",
       "      <td>0</td>\n",
       "      <td>C</td>\n",
       "      <td>In the cell cycle, the oncogenes are ________...</td>\n",
       "      <td>4</td>\n",
       "      <td>&lt;p&gt;the negative controls over growth;&amp;nbsp;in...</td>\n",
       "      <td>&lt;p&gt;resulted from the activation of proto-onco...</td>\n",
       "      <td>&lt;p&gt;resulted from the activation of proto-onco...</td>\n",
       "      <td>&lt;p&gt;inactivated which causes cancer;&amp;nbsp;the ...</td>\n",
       "      <td>...</td>\n",
       "      <td>&lt;p&gt;In the cell cycle, there are two main type...</td>\n",
       "    </tr>\n",
       "    <tr>\n",
       "      <th>3</th>\n",
       "      <td>4421363</td>\n",
       "      <td>21230</td>\n",
       "      <td>2020-04-07 22:30:19</td>\n",
       "      <td>217514</td>\n",
       "      <td>1.67</td>\n",
       "      <td>31</td>\n",
       "      <td>21</td>\n",
       "      <td>0</td>\n",
       "      <td>0.9524</td>\n",
       "      <td>3</td>\n",
       "      <td>0</td>\n",
       "      <td>C</td>\n",
       "      <td>&lt;img src=\"../images/view.php?file=374795\" alt...</td>\n",
       "      <td>4</td>\n",
       "      <td>&lt;p&gt;G0&lt;/p&gt;                                    ...</td>\n",
       "      <td>&lt;p&gt;G2/M&lt;/p&gt;                                  ...</td>\n",
       "      <td>&lt;p&gt;G1&lt;/p&gt;                                    ...</td>\n",
       "      <td>&lt;p&gt;S&lt;/p&gt;                                     ...</td>\n",
       "      <td>...</td>\n",
       "      <td>&lt;p&gt;The answer is G1 cells as there is the lea...</td>\n",
       "    </tr>\n",
       "    <tr>\n",
       "      <th>4</th>\n",
       "      <td>4421364</td>\n",
       "      <td>21230</td>\n",
       "      <td>2020-04-07 22:30:19</td>\n",
       "      <td>217514</td>\n",
       "      <td>2.67</td>\n",
       "      <td>32</td>\n",
       "      <td>21</td>\n",
       "      <td>1</td>\n",
       "      <td>0.2857</td>\n",
       "      <td>0</td>\n",
       "      <td>0</td>\n",
       "      <td>D</td>\n",
       "      <td>If there are 20 chromatids in a cell, how man...</td>\n",
       "      <td>5</td>\n",
       "      <td>&lt;p&gt;30&lt;/p&gt;                                    ...</td>\n",
       "      <td>&lt;p&gt;20&lt;/p&gt;                                    ...</td>\n",
       "      <td>&lt;p&gt;40&lt;/p&gt;                                    ...</td>\n",
       "      <td>&lt;p&gt;10&lt;/p&gt;                                    ...</td>\n",
       "      <td>&lt;p&gt;80&lt;/p&gt;                                    ...</td>\n",
       "      <td>&lt;p&gt;This is because each chromosome has exactl...</td>\n",
       "    </tr>\n",
       "  </tbody>\n",
       "</table>\n",
       "</div>"
      ],
      "text/plain": [
       "        id  course_id            timestamp    user  avg_rating  \\\n",
       "0  4421360      21230  2020-04-07 22:29:54  217514        2.50   \n",
       "1  4421361      21230  2020-04-07 22:30:18  217514        3.27   \n",
       "2  4421362      21230  2020-04-07 22:30:18  217514        2.96   \n",
       "3  4421363      21230  2020-04-07 22:30:19  217514        1.67   \n",
       "4  4421364      21230  2020-04-07 22:30:19  217514        2.67   \n",
       "\n",
       "   total_responses  total_ratings  top_rating_count  avg_difficulty  \\\n",
       "0               29             20                 1          0.7500   \n",
       "1               37             22                 3          0.9091   \n",
       "2               32             24                 1          0.5000   \n",
       "3               31             21                 0          0.9524   \n",
       "4               32             21                 1          0.2857   \n",
       "\n",
       "   total_comments  deleted answer  \\\n",
       "0               2        0      B   \n",
       "1               1        0      D   \n",
       "2               0        0      C   \n",
       "3               3        0      C   \n",
       "4               0        0      D   \n",
       "\n",
       "                                            question  numAlts  \\\n",
       "0   The telomeric repeat sequence in green algae ...        5   \n",
       "1   Which of the following types of protein could...        4   \n",
       "2   In the cell cycle, the oncogenes are ________...        4   \n",
       "3   <img src=\"../images/view.php?file=374795\" alt...        4   \n",
       "4   If there are 20 chromatids in a cell, how man...        5   \n",
       "\n",
       "                                                altA  \\\n",
       "0   <p>5&prime; UUUUAGGGUUUU 3&prime;<br /><br />...   \n",
       "1   <p>A protein which forms part of a growth fac...   \n",
       "2   <p>the negative controls over growth;&nbsp;in...   \n",
       "3   <p>G0</p>                                    ...   \n",
       "4   <p>30</p>                                    ...   \n",
       "\n",
       "                                                altB  \\\n",
       "0   <p>5&prime; CCCUAAAACCCU 3&prime;<br /><br />...   \n",
       "1   <p>A protein which codes for a DNA repair enz...   \n",
       "2   <p>resulted from the activation of proto-onco...   \n",
       "3   <p>G2/M</p>                                  ...   \n",
       "4   <p>20</p>                                    ...   \n",
       "\n",
       "                                                altC  \\\n",
       "0   <p>5&prime; CCCTAAAACCCT 3&prime;<br /><br />...   \n",
       "1   <p>A protein which helps prevent apoptosis.</...   \n",
       "2   <p>resulted from the activation of proto-onco...   \n",
       "3   <p>G1</p>                                    ...   \n",
       "4   <p>40</p>                                    ...   \n",
       "\n",
       "                                                altD  \\\n",
       "0   <p>5&prime; TTTTAGGGTTTT 3&prime;<br /><br />...   \n",
       "1   <p>A protein which controls progression throu...   \n",
       "2   <p>inactivated which causes cancer;&nbsp;the ...   \n",
       "3   <p>S</p>                                     ...   \n",
       "4   <p>10</p>                                    ...   \n",
       "\n",
       "                                                altE  \\\n",
       "0   <p>5&prime; AGGGTTTTAGGG 3&prime;</p>        ...   \n",
       "1                                                ...   \n",
       "2                                                ...   \n",
       "3                                                ...   \n",
       "4   <p>80</p>                                    ...   \n",
       "\n",
       "                                         explanation  \n",
       "0   <p>no explanation</p>                        ...  \n",
       "1   <p>Tumour suppressor genes code for proteins ...  \n",
       "2   <p>In the cell cycle, there are two main type...  \n",
       "3   <p>The answer is G1 cells as there is the lea...  \n",
       "4   <p>This is because each chromosome has exactl...  "
      ]
     },
     "execution_count": 17,
     "metadata": {},
     "output_type": "execute_result"
    }
   ],
   "source": [
    "c3questions.head()"
   ]
  },
  {
   "cell_type": "markdown",
   "metadata": {
    "id": "pJBc2tH-XeJq"
   },
   "source": [
    "- We aren't interested in the number of alts or the alternate options (only the correct answer)\n",
    "- We will use the correct answer to calculate the percentage correct for each of the users\n",
    "What about the answers data?"
   ]
  },
  {
   "cell_type": "code",
   "execution_count": 18,
   "metadata": {
    "colab": {
     "base_uri": "https://localhost:8080/",
     "height": 283
    },
    "id": "iS9WxLYbXgJ1",
    "outputId": "8053c53f-b9a2-474f-d0fb-e0c1ae240aba"
   },
   "outputs": [
    {
     "data": {
      "text/plain": [
       "<AxesSubplot:>"
      ]
     },
     "execution_count": 18,
     "metadata": {},
     "output_type": "execute_result"
    },
    {
     "data": {
      "image/png": "[encoded data removed]",
      "text/plain": [
       "<Figure size 432x288 with 1 Axes>"
      ]
     },
     "metadata": {
      "needs_background": "light"
     },
     "output_type": "display_data"
    }
   ],
   "source": [
    "c3questions.boxplot('avg_difficulty')"
   ]
  },
  {
   "cell_type": "code",
   "execution_count": 19,
   "metadata": {
    "colab": {
     "base_uri": "https://localhost:8080/",
     "height": 283
    },
    "id": "CvMZDn2NXgkr",
    "outputId": "17d6a047-fd28-4549-f9bc-892842288d58"
   },
   "outputs": [
    {
     "data": {
      "text/plain": [
       "<AxesSubplot:>"
      ]
     },
     "execution_count": 19,
     "metadata": {},
     "output_type": "execute_result"
    },
    {
     "data": {
      "image/png": "[encoded data removed]",
      "text/plain": [
       "<Figure size 432x288 with 1 Axes>"
      ]
     },
     "metadata": {
      "needs_background": "light"
     },
     "output_type": "display_data"
    }
   ],
   "source": [
    "c3questions.boxplot('avg_rating')"
   ]
  },
  {
   "cell_type": "markdown",
   "metadata": {
    "id": "LIJJ2LODXmmU"
   },
   "source": [
    "- Most students rated question difficulty quite low\n",
    "- Most questions had a reasonable rating so hopefully question quality does not affect our analysis too much (but keep in mind)\n",
    "- Let's see how they do in answering these questions"
   ]
  },
  {
   "cell_type": "code",
   "execution_count": 20,
   "metadata": {
    "colab": {
     "base_uri": "https://localhost:8080/",
     "height": 204
    },
    "id": "puWEeSZ9Xj_x",
    "outputId": "1d32cdf8-6095-4663-b588-3af758fb06b7"
   },
   "outputs": [
    {
     "data": {
      "text/html": [
       "<div>\n",
       "<style scoped>\n",
       "    .dataframe tbody tr th:only-of-type {\n",
       "        vertical-align: middle;\n",
       "    }\n",
       "\n",
       "    .dataframe tbody tr th {\n",
       "        vertical-align: top;\n",
       "    }\n",
       "\n",
       "    .dataframe thead th {\n",
       "        text-align: right;\n",
       "    }\n",
       "</style>\n",
       "<table border=\"1\" class=\"dataframe\">\n",
       "  <thead>\n",
       "    <tr style=\"text-align: right;\">\n",
       "      <th></th>\n",
       "      <th>id</th>\n",
       "      <th>timestamp</th>\n",
       "      <th>user</th>\n",
       "      <th>question_id</th>\n",
       "      <th>answer</th>\n",
       "      <th>last_answer</th>\n",
       "      <th>result</th>\n",
       "      <th>cousreID</th>\n",
       "    </tr>\n",
       "  </thead>\n",
       "  <tbody>\n",
       "    <tr>\n",
       "      <th>0</th>\n",
       "      <td>69566868</td>\n",
       "      <td>2020-04-08 00:24:47</td>\n",
       "      <td>636020</td>\n",
       "      <td>4421443</td>\n",
       "      <td>B</td>\n",
       "      <td>NaN</td>\n",
       "      <td>2</td>\n",
       "      <td>21230</td>\n",
       "    </tr>\n",
       "    <tr>\n",
       "      <th>1</th>\n",
       "      <td>69566931</td>\n",
       "      <td>2020-04-08 00:28:00</td>\n",
       "      <td>636020</td>\n",
       "      <td>4421442</td>\n",
       "      <td>D</td>\n",
       "      <td>NaN</td>\n",
       "      <td>2</td>\n",
       "      <td>21230</td>\n",
       "    </tr>\n",
       "    <tr>\n",
       "      <th>2</th>\n",
       "      <td>69567000</td>\n",
       "      <td>2020-04-08 00:32:09</td>\n",
       "      <td>636020</td>\n",
       "      <td>4421441</td>\n",
       "      <td>E</td>\n",
       "      <td>E</td>\n",
       "      <td>4</td>\n",
       "      <td>21230</td>\n",
       "    </tr>\n",
       "    <tr>\n",
       "      <th>3</th>\n",
       "      <td>69567037</td>\n",
       "      <td>2020-04-08 00:34:12</td>\n",
       "      <td>636020</td>\n",
       "      <td>4421440</td>\n",
       "      <td>B</td>\n",
       "      <td>B</td>\n",
       "      <td>4</td>\n",
       "      <td>21230</td>\n",
       "    </tr>\n",
       "    <tr>\n",
       "      <th>4</th>\n",
       "      <td>69567139</td>\n",
       "      <td>2020-04-08 00:40:17</td>\n",
       "      <td>636020</td>\n",
       "      <td>4421439</td>\n",
       "      <td>C</td>\n",
       "      <td>D</td>\n",
       "      <td>2</td>\n",
       "      <td>21230</td>\n",
       "    </tr>\n",
       "  </tbody>\n",
       "</table>\n",
       "</div>"
      ],
      "text/plain": [
       "         id            timestamp    user  question_id answer last_answer  \\\n",
       "0  69566868  2020-04-08 00:24:47  636020      4421443      B         NaN   \n",
       "1  69566931  2020-04-08 00:28:00  636020      4421442      D         NaN   \n",
       "2  69567000  2020-04-08 00:32:09  636020      4421441      E           E   \n",
       "3  69567037  2020-04-08 00:34:12  636020      4421440      B           B   \n",
       "4  69567139  2020-04-08 00:40:17  636020      4421439      C           D   \n",
       "\n",
       "   result  cousreID  \n",
       "0       2     21230  \n",
       "1       2     21230  \n",
       "2       4     21230  \n",
       "3       4     21230  \n",
       "4       2     21230  "
      ]
     },
     "execution_count": 20,
     "metadata": {},
     "output_type": "execute_result"
    }
   ],
   "source": [
    "c3answers.head()"
   ]
  },
  {
   "cell_type": "markdown",
   "metadata": {
    "id": "bvnhOwLNXvD3"
   },
   "source": [
    "- We will use the 'answer' column to determine if a student got a question correct\n",
    "\n",
    "> Indented block\n",
    "\n"
   ]
  },
  {
   "cell_type": "markdown",
   "metadata": {
    "id": "k_cOA3RVX2ia"
   },
   "source": [
    "### Pre-processing and joins\n",
    "- Firstly we'll construct dataframes using a subset of the columns (we don't need them all)\n",
    "- We'll also rename some of these columns for clarity"
   ]
  },
  {
   "cell_type": "code",
   "execution_count": 21,
   "metadata": {
    "colab": {
     "base_uri": "https://localhost:8080/",
     "height": 204
    },
    "id": "V5ZSgtJTX3V4",
    "outputId": "174993ef-5db0-47ad-b2cc-f95f3842e36b"
   },
   "outputs": [
    {
     "data": {
      "text/html": [
       "<div>\n",
       "<style scoped>\n",
       "    .dataframe tbody tr th:only-of-type {\n",
       "        vertical-align: middle;\n",
       "    }\n",
       "\n",
       "    .dataframe tbody tr th {\n",
       "        vertical-align: top;\n",
       "    }\n",
       "\n",
       "    .dataframe thead th {\n",
       "        text-align: right;\n",
       "    }\n",
       "</style>\n",
       "<table border=\"1\" class=\"dataframe\">\n",
       "  <thead>\n",
       "    <tr style=\"text-align: right;\">\n",
       "      <th></th>\n",
       "      <th>question_id</th>\n",
       "      <th>question_time</th>\n",
       "      <th>user_id</th>\n",
       "      <th>avg_rating</th>\n",
       "      <th>avg_difficulty</th>\n",
       "      <th>total_responses</th>\n",
       "      <th>total_comments</th>\n",
       "      <th>correct_answer</th>\n",
       "      <th>course_id</th>\n",
       "    </tr>\n",
       "  </thead>\n",
       "  <tbody>\n",
       "    <tr>\n",
       "      <th>0</th>\n",
       "      <td>4421360</td>\n",
       "      <td>2020-04-07 22:29:54</td>\n",
       "      <td>217514</td>\n",
       "      <td>2.50</td>\n",
       "      <td>0.7500</td>\n",
       "      <td>29</td>\n",
       "      <td>2</td>\n",
       "      <td>B</td>\n",
       "      <td>21230</td>\n",
       "    </tr>\n",
       "    <tr>\n",
       "      <th>1</th>\n",
       "      <td>4421361</td>\n",
       "      <td>2020-04-07 22:30:18</td>\n",
       "      <td>217514</td>\n",
       "      <td>3.27</td>\n",
       "      <td>0.9091</td>\n",
       "      <td>37</td>\n",
       "      <td>1</td>\n",
       "      <td>D</td>\n",
       "      <td>21230</td>\n",
       "    </tr>\n",
       "    <tr>\n",
       "      <th>2</th>\n",
       "      <td>4421362</td>\n",
       "      <td>2020-04-07 22:30:18</td>\n",
       "      <td>217514</td>\n",
       "      <td>2.96</td>\n",
       "      <td>0.5000</td>\n",
       "      <td>32</td>\n",
       "      <td>0</td>\n",
       "      <td>C</td>\n",
       "      <td>21230</td>\n",
       "    </tr>\n",
       "    <tr>\n",
       "      <th>3</th>\n",
       "      <td>4421363</td>\n",
       "      <td>2020-04-07 22:30:19</td>\n",
       "      <td>217514</td>\n",
       "      <td>1.67</td>\n",
       "      <td>0.9524</td>\n",
       "      <td>31</td>\n",
       "      <td>3</td>\n",
       "      <td>C</td>\n",
       "      <td>21230</td>\n",
       "    </tr>\n",
       "    <tr>\n",
       "      <th>4</th>\n",
       "      <td>4421364</td>\n",
       "      <td>2020-04-07 22:30:19</td>\n",
       "      <td>217514</td>\n",
       "      <td>2.67</td>\n",
       "      <td>0.2857</td>\n",
       "      <td>32</td>\n",
       "      <td>0</td>\n",
       "      <td>D</td>\n",
       "      <td>21230</td>\n",
       "    </tr>\n",
       "  </tbody>\n",
       "</table>\n",
       "</div>"
      ],
      "text/plain": [
       "   question_id        question_time  user_id  avg_rating  avg_difficulty  \\\n",
       "0      4421360  2020-04-07 22:29:54   217514        2.50          0.7500   \n",
       "1      4421361  2020-04-07 22:30:18   217514        3.27          0.9091   \n",
       "2      4421362  2020-04-07 22:30:18   217514        2.96          0.5000   \n",
       "3      4421363  2020-04-07 22:30:19   217514        1.67          0.9524   \n",
       "4      4421364  2020-04-07 22:30:19   217514        2.67          0.2857   \n",
       "\n",
       "   total_responses  total_comments correct_answer  course_id  \n",
       "0               29               2              B      21230  \n",
       "1               37               1              D      21230  \n",
       "2               32               0              C      21230  \n",
       "3               31               3              C      21230  \n",
       "4               32               0              D      21230  "
      ]
     },
     "execution_count": 21,
     "metadata": {},
     "output_type": "execute_result"
    }
   ],
   "source": [
    "qs_selected = c3questions[['id', 'timestamp', 'user', 'avg_rating', 'avg_difficulty', 'total_responses', 'total_comments', 'answer', 'course_id']] # Select certain columns\n",
    "qs_selected = qs_selected.rename(columns={'id' : 'question_id', 'timestamp' : 'question_time', 'user' : 'user_id', 'answer' : 'correct_answer'})                   # Rename\n",
    "qs_selected.head()"
   ]
  },
  {
   "cell_type": "code",
   "execution_count": 22,
   "metadata": {
    "colab": {
     "base_uri": "https://localhost:8080/",
     "height": 204
    },
    "id": "i59Nc5qWX640",
    "outputId": "40a9d294-3d71-4f91-f7c6-794b2f6e3c1a"
   },
   "outputs": [
    {
     "data": {
      "text/html": [
       "<div>\n",
       "<style scoped>\n",
       "    .dataframe tbody tr th:only-of-type {\n",
       "        vertical-align: middle;\n",
       "    }\n",
       "\n",
       "    .dataframe tbody tr th {\n",
       "        vertical-align: top;\n",
       "    }\n",
       "\n",
       "    .dataframe thead th {\n",
       "        text-align: right;\n",
       "    }\n",
       "</style>\n",
       "<table border=\"1\" class=\"dataframe\">\n",
       "  <thead>\n",
       "    <tr style=\"text-align: right;\">\n",
       "      <th></th>\n",
       "      <th>answer_id</th>\n",
       "      <th>answer_time</th>\n",
       "      <th>user_id</th>\n",
       "      <th>question_id</th>\n",
       "      <th>chosen_answer</th>\n",
       "    </tr>\n",
       "  </thead>\n",
       "  <tbody>\n",
       "    <tr>\n",
       "      <th>0</th>\n",
       "      <td>69566868</td>\n",
       "      <td>2020-04-08 00:24:47</td>\n",
       "      <td>636020</td>\n",
       "      <td>4421443</td>\n",
       "      <td>B</td>\n",
       "    </tr>\n",
       "    <tr>\n",
       "      <th>1</th>\n",
       "      <td>69566931</td>\n",
       "      <td>2020-04-08 00:28:00</td>\n",
       "      <td>636020</td>\n",
       "      <td>4421442</td>\n",
       "      <td>D</td>\n",
       "    </tr>\n",
       "    <tr>\n",
       "      <th>2</th>\n",
       "      <td>69567000</td>\n",
       "      <td>2020-04-08 00:32:09</td>\n",
       "      <td>636020</td>\n",
       "      <td>4421441</td>\n",
       "      <td>E</td>\n",
       "    </tr>\n",
       "    <tr>\n",
       "      <th>3</th>\n",
       "      <td>69567037</td>\n",
       "      <td>2020-04-08 00:34:12</td>\n",
       "      <td>636020</td>\n",
       "      <td>4421440</td>\n",
       "      <td>B</td>\n",
       "    </tr>\n",
       "    <tr>\n",
       "      <th>4</th>\n",
       "      <td>69567139</td>\n",
       "      <td>2020-04-08 00:40:17</td>\n",
       "      <td>636020</td>\n",
       "      <td>4421439</td>\n",
       "      <td>C</td>\n",
       "    </tr>\n",
       "  </tbody>\n",
       "</table>\n",
       "</div>"
      ],
      "text/plain": [
       "   answer_id          answer_time  user_id  question_id chosen_answer\n",
       "0   69566868  2020-04-08 00:24:47   636020      4421443             B\n",
       "1   69566931  2020-04-08 00:28:00   636020      4421442             D\n",
       "2   69567000  2020-04-08 00:32:09   636020      4421441             E\n",
       "3   69567037  2020-04-08 00:34:12   636020      4421440             B\n",
       "4   69567139  2020-04-08 00:40:17   636020      4421439             C"
      ]
     },
     "execution_count": 22,
     "metadata": {},
     "output_type": "execute_result"
    }
   ],
   "source": [
    "ans_selected = c3answers[['id', 'timestamp', 'user', 'question_id', 'answer']]\n",
    "ans_selected = ans_selected.rename(columns={'id' : 'answer_id', 'timestamp' : 'answer_time', 'user' : 'user_id', 'answer' : 'chosen_answer'})\n",
    "ans_selected.head()"
   ]
  },
  {
   "cell_type": "markdown",
   "metadata": {
    "id": "aZmHqGgfX9a8"
   },
   "source": [
    "- We now have a much more organised questions dataframe, containing all the information we require for our analysis\n",
    "- The column headings are also much clearer"
   ]
  },
  {
   "cell_type": "markdown",
   "metadata": {
    "id": "nvB20jTJYBEm"
   },
   "source": [
    "### Analysis"
   ]
  },
  {
   "cell_type": "markdown",
   "metadata": {
    "id": "oBda5oTpYDgL"
   },
   "source": [
    "#### Merging answers with questions\n",
    "- Need to do this so we know what the correct answer is!\n",
    "- `q_and_a` will be the answers but with the correct answer as well\n",
    "- We may need more information about a particular question later but for now this is ok"
   ]
  },
  {
   "cell_type": "code",
   "execution_count": 23,
   "metadata": {
    "colab": {
     "base_uri": "https://localhost:8080/",
     "height": 204
    },
    "id": "JiK6jmmcX9Ew",
    "outputId": "bf68f2bc-be78-4a39-99ba-24c3565b1d34"
   },
   "outputs": [
    {
     "data": {
      "text/html": [
       "<div>\n",
       "<style scoped>\n",
       "    .dataframe tbody tr th:only-of-type {\n",
       "        vertical-align: middle;\n",
       "    }\n",
       "\n",
       "    .dataframe tbody tr th {\n",
       "        vertical-align: top;\n",
       "    }\n",
       "\n",
       "    .dataframe thead th {\n",
       "        text-align: right;\n",
       "    }\n",
       "</style>\n",
       "<table border=\"1\" class=\"dataframe\">\n",
       "  <thead>\n",
       "    <tr style=\"text-align: right;\">\n",
       "      <th></th>\n",
       "      <th>answer_id</th>\n",
       "      <th>answer_time</th>\n",
       "      <th>user_id</th>\n",
       "      <th>question_id</th>\n",
       "      <th>chosen_answer</th>\n",
       "      <th>correct_answer</th>\n",
       "    </tr>\n",
       "  </thead>\n",
       "  <tbody>\n",
       "    <tr>\n",
       "      <th>0</th>\n",
       "      <td>69566868</td>\n",
       "      <td>2020-04-08 00:24:47</td>\n",
       "      <td>636020</td>\n",
       "      <td>4421443</td>\n",
       "      <td>B</td>\n",
       "      <td>B</td>\n",
       "    </tr>\n",
       "    <tr>\n",
       "      <th>1</th>\n",
       "      <td>69567865</td>\n",
       "      <td>2020-04-08 01:09:42</td>\n",
       "      <td>636029</td>\n",
       "      <td>4421443</td>\n",
       "      <td>B</td>\n",
       "      <td>B</td>\n",
       "    </tr>\n",
       "    <tr>\n",
       "      <th>2</th>\n",
       "      <td>69570815</td>\n",
       "      <td>2020-04-08 03:03:02</td>\n",
       "      <td>635998</td>\n",
       "      <td>4421443</td>\n",
       "      <td>A</td>\n",
       "      <td>B</td>\n",
       "    </tr>\n",
       "    <tr>\n",
       "      <th>3</th>\n",
       "      <td>69583371</td>\n",
       "      <td>2020-04-08 10:34:31</td>\n",
       "      <td>635992</td>\n",
       "      <td>4421443</td>\n",
       "      <td>B</td>\n",
       "      <td>B</td>\n",
       "    </tr>\n",
       "    <tr>\n",
       "      <th>4</th>\n",
       "      <td>69595122</td>\n",
       "      <td>2020-04-08 14:55:46</td>\n",
       "      <td>636019</td>\n",
       "      <td>4421443</td>\n",
       "      <td>A</td>\n",
       "      <td>B</td>\n",
       "    </tr>\n",
       "  </tbody>\n",
       "</table>\n",
       "</div>"
      ],
      "text/plain": [
       "   answer_id          answer_time  user_id  question_id chosen_answer  \\\n",
       "0   69566868  2020-04-08 00:24:47   636020      4421443             B   \n",
       "1   69567865  2020-04-08 01:09:42   636029      4421443             B   \n",
       "2   69570815  2020-04-08 03:03:02   635998      4421443             A   \n",
       "3   69583371  2020-04-08 10:34:31   635992      4421443             B   \n",
       "4   69595122  2020-04-08 14:55:46   636019      4421443             A   \n",
       "\n",
       "  correct_answer  \n",
       "0              B  \n",
       "1              B  \n",
       "2              B  \n",
       "3              B  \n",
       "4              B  "
      ]
     },
     "execution_count": 23,
     "metadata": {},
     "output_type": "execute_result"
    }
   ],
   "source": [
    "q_and_a = ans_selected.merge(qs_selected[['question_id', 'correct_answer']], on='question_id')\n",
    "q_and_a.head()"
   ]
  },
  {
   "cell_type": "markdown",
   "metadata": {
    "id": "Yfh6tFSGYH0v"
   },
   "source": [
    "#### Finding the % of correct answers by each student\n",
    "- We're going to calculate how many questions each student got correct\n",
    "- Then using the total number of answers for each student, we will find the percentage of questions that each student got correct using the following formula $\\frac{\\text{num_correct}}{\\text{total_answers}}$"
   ]
  },
  {
   "cell_type": "code",
   "execution_count": 24,
   "metadata": {
    "colab": {
     "base_uri": "https://localhost:8080/",
     "height": 299
    },
    "id": "9NG5ghX2YJp9",
    "outputId": "a71bd4ff-ce60-4819-e87a-b5d37b0d511c"
   },
   "outputs": [
    {
     "data": {
      "text/plain": [
       "<AxesSubplot:>"
      ]
     },
     "execution_count": 24,
     "metadata": {},
     "output_type": "execute_result"
    },
    {
     "data": {
      "image/png": "[encoded data removed]",
      "text/plain": [
       "<Figure size 648x288 with 2 Axes>"
      ]
     },
     "metadata": {
      "needs_background": "light"
     },
     "output_type": "display_data"
    }
   ],
   "source": [
    "answers_by_student = q_and_a[['user_id', 'answer_id']].groupby('user_id', as_index=False).count() # Count number of answers per user\n",
    "\n",
    "# Plot summary statistics for number of questions answered\n",
    "fig, (ax, ax2) = plt.subplots(ncols=2, figsize=(9,4))\n",
    "answers_by_student.hist('answer_id', ax=ax)\n",
    "answers_by_student.boxplot('answer_id', ax=ax2)"
   ]
  },
  {
   "cell_type": "markdown",
   "metadata": {
    "id": "3gpR-AiyYXyO"
   },
   "source": [
    "**Interesting summaries:**\n",
    "- Most students answered 40 questions (the required amount)\n",
    "- Some students answered less than 20\n",
    "- Some students answered 100 questions"
   ]
  },
  {
   "cell_type": "markdown",
   "metadata": {
    "id": "B63HYEJ_YZdF"
   },
   "source": [
    "- Now let's move on to the calculation of the number of correct answers\n",
    "- We'll start by adding a new bool column to indicate whether a student was correct"
   ]
  },
  {
   "cell_type": "code",
   "execution_count": 25,
   "metadata": {
    "colab": {
     "base_uri": "https://localhost:8080/",
     "height": 299
    },
    "id": "S7KjDOEsYbUG",
    "outputId": "8884a0ca-b28d-418f-90bb-a9f66a33578d"
   },
   "outputs": [
    {
     "data": {
      "text/plain": [
       "<AxesSubplot:>"
      ]
     },
     "execution_count": 25,
     "metadata": {},
     "output_type": "execute_result"
    },
    {
     "data": {
      "image/png": "[encoded data removed]",
      "text/plain": [
       "<Figure size 648x288 with 2 Axes>"
      ]
     },
     "metadata": {
      "needs_background": "light"
     },
     "output_type": "display_data"
    }
   ],
   "source": [
    "q_and_a['student_correct'] = q_and_a['chosen_answer'] == q_and_a['correct_answer']                    # Add new bool column to indicate whether an answer was correct\n",
    "correct_by_student = q_and_a[['user_id', 'student_correct']].groupby('user_id', as_index=False).sum() # Create new dataframe and count number of correct answers, summing our new bool column\n",
    "\n",
    "correct_by_student['total_answers'] = answers_by_student['answer_id']\n",
    "correct_by_student['percent_correct'] = correct_by_student['student_correct'] / correct_by_student['total_answers']  # Calculate percentage of questions a student answered correctly\n",
    "\n",
    "# Plot summary statistics for percentage of correct answers\n",
    "fig, (ax, ax2) = plt.subplots(ncols=2, figsize=(9,4))\n",
    "correct_by_student.hist('percent_correct', ax=ax)\n",
    "correct_by_student.boxplot('percent_correct', ax=ax2)"
   ]
  },
  {
   "cell_type": "markdown",
   "metadata": {
    "id": "LJd3gIFIYdM0"
   },
   "source": [
    "- The percentage of correct answers follows a normal distrubution very closely\n",
    "- Cool!\n",
    "\n",
    "#### Team distrubution of correctness\n",
    "- Now that we have the percentage of correct answers for each student, lets look at how this carries across to teams\n",
    "- First, let's join the students to their respective Cycle 4 groups"
   ]
  },
  {
   "cell_type": "code",
   "execution_count": 26,
   "metadata": {
    "colab": {
     "base_uri": "https://localhost:8080/",
     "height": 204
    },
    "id": "GmCOIL5PYe3l",
    "outputId": "1b5f2813-ee87-429a-be1f-1c8678f10a68"
   },
   "outputs": [
    {
     "data": {
      "text/html": [
       "<div>\n",
       "<style scoped>\n",
       "    .dataframe tbody tr th:only-of-type {\n",
       "        vertical-align: middle;\n",
       "    }\n",
       "\n",
       "    .dataframe tbody tr th {\n",
       "        vertical-align: top;\n",
       "    }\n",
       "\n",
       "    .dataframe thead th {\n",
       "        text-align: right;\n",
       "    }\n",
       "</style>\n",
       "<table border=\"1\" class=\"dataframe\">\n",
       "  <thead>\n",
       "    <tr style=\"text-align: right;\">\n",
       "      <th></th>\n",
       "      <th>user_id</th>\n",
       "      <th>student_correct</th>\n",
       "      <th>total_answers</th>\n",
       "      <th>percent_correct</th>\n",
       "      <th>course_id</th>\n",
       "      <th>team</th>\n",
       "    </tr>\n",
       "  </thead>\n",
       "  <tbody>\n",
       "    <tr>\n",
       "      <th>0</th>\n",
       "      <td>269035</td>\n",
       "      <td>22</td>\n",
       "      <td>40</td>\n",
       "      <td>0.550000</td>\n",
       "      <td>21327</td>\n",
       "      <td>Blue</td>\n",
       "    </tr>\n",
       "    <tr>\n",
       "      <th>1</th>\n",
       "      <td>555695</td>\n",
       "      <td>24</td>\n",
       "      <td>40</td>\n",
       "      <td>0.600000</td>\n",
       "      <td>21320</td>\n",
       "      <td>Red</td>\n",
       "    </tr>\n",
       "    <tr>\n",
       "      <th>2</th>\n",
       "      <td>555866</td>\n",
       "      <td>36</td>\n",
       "      <td>57</td>\n",
       "      <td>0.631579</td>\n",
       "      <td>21328</td>\n",
       "      <td>Green</td>\n",
       "    </tr>\n",
       "    <tr>\n",
       "      <th>3</th>\n",
       "      <td>556210</td>\n",
       "      <td>13</td>\n",
       "      <td>40</td>\n",
       "      <td>0.325000</td>\n",
       "      <td>21327</td>\n",
       "      <td>Brown</td>\n",
       "    </tr>\n",
       "    <tr>\n",
       "      <th>4</th>\n",
       "      <td>556601</td>\n",
       "      <td>22</td>\n",
       "      <td>40</td>\n",
       "      <td>0.550000</td>\n",
       "      <td>21328</td>\n",
       "      <td>Brown</td>\n",
       "    </tr>\n",
       "  </tbody>\n",
       "</table>\n",
       "</div>"
      ],
      "text/plain": [
       "   user_id  student_correct  total_answers  percent_correct  course_id   team\n",
       "0   269035               22             40         0.550000      21327   Blue\n",
       "1   555695               24             40         0.600000      21320    Red\n",
       "2   555866               36             57         0.631579      21328  Green\n",
       "3   556210               13             40         0.325000      21327  Brown\n",
       "4   556601               22             40         0.550000      21328  Brown"
      ]
     },
     "execution_count": 26,
     "metadata": {},
     "output_type": "execute_result"
    }
   ],
   "source": [
    "c4usercourses = c4usercourses.rename(columns={'user' : 'user_id', 'Team' : 'team'})     # Rename columns so we can merge neatly\n",
    "answers_team = correct_by_student.merge(c4usercourses, on='user_id')                  # Merge dataframes so we have team data for each student\n",
    "answers_team.head()"
   ]
  },
  {
   "cell_type": "markdown",
   "metadata": {
    "id": "4SplfQBHYgjm"
   },
   "source": [
    "- We now have team data for each of our students\n",
    "- Next step is to group by team and average the percent_correct for each team member"
   ]
  },
  {
   "cell_type": "code",
   "execution_count": 27,
   "metadata": {
    "colab": {
     "base_uri": "https://localhost:8080/",
     "height": 318
    },
    "id": "dy8Edh6cYh91",
    "outputId": "52ef18ca-6df3-4f27-dab8-4f8e8a24b82b"
   },
   "outputs": [
    {
     "data": {
      "text/plain": [
       "<AxesSubplot:xlabel='team'>"
      ]
     },
     "execution_count": 27,
     "metadata": {},
     "output_type": "execute_result"
    },
    {
     "data": {
      "image/png": "[encoded data removed]",
      "text/plain": [
       "<Figure size 432x288 with 1 Axes>"
      ]
     },
     "metadata": {
      "needs_background": "light"
     },
     "output_type": "display_data"
    }
   ],
   "source": [
    "answers_groups_by_team = answers_team.groupby('team').mean()\n",
    "answers_groups_by_team.sort_values(by='percent_correct')['percent_correct'].plot.bar()"
   ]
  },
  {
   "cell_type": "markdown",
   "metadata": {
    "id": "XFXxYRlmYje4"
   },
   "source": [
    "- The white team got the highest average percentage correct and purple the lowest\n",
    "- All teams are quite close together"
   ]
  },
  {
   "cell_type": "code",
   "execution_count": 28,
   "metadata": {
    "colab": {
     "base_uri": "https://localhost:8080/",
     "height": 318
    },
    "id": "gJQjlBK5YkuO",
    "outputId": "1723b4bd-4f75-4dc0-f006-2efad6402b64"
   },
   "outputs": [
    {
     "data": {
      "text/plain": [
       "<AxesSubplot:title={'center':'student_correct'}, xlabel='team'>"
      ]
     },
     "execution_count": 28,
     "metadata": {},
     "output_type": "execute_result"
    },
    {
     "data": {
      "image/png": "[encoded data removed]",
      "text/plain": [
       "<Figure size 648x288 with 2 Axes>"
      ]
     },
     "metadata": {
      "needs_background": "light"
     },
     "output_type": "display_data"
    }
   ],
   "source": [
    "# Boxplots of percentage correct and number correct by team\n",
    "fig, (ax, ax2) = plt.subplots(ncols=2, figsize=(9,4))\n",
    "answers_team.boxplot('percent_correct', by='team', ax=ax)\n",
    "answers_team.boxplot('student_correct', by='team', ax=ax2)"
   ]
  },
  {
   "cell_type": "code",
   "execution_count": 29,
   "metadata": {
    "colab": {
     "base_uri": "https://localhost:8080/",
     "height": 462
    },
    "id": "4bvXVxlWYn27",
    "outputId": "e76772f5-67c8-4928-d146-9df1ffb39137"
   },
   "outputs": [
    {
     "data": {
      "text/plain": [
       "array([[<AxesSubplot:title={'center':'Black'}>,\n",
       "        <AxesSubplot:title={'center':'Blue'}>,\n",
       "        <AxesSubplot:title={'center':'Brown'}>],\n",
       "       [<AxesSubplot:title={'center':'Green'}>,\n",
       "        <AxesSubplot:title={'center':'Pink'}>,\n",
       "        <AxesSubplot:title={'center':'Purple'}>],\n",
       "       [<AxesSubplot:title={'center':'Red'}>,\n",
       "        <AxesSubplot:title={'center':'White'}>,\n",
       "        <AxesSubplot:title={'center':'Yellow'}>]], dtype=object)"
      ]
     },
     "execution_count": 29,
     "metadata": {},
     "output_type": "execute_result"
    },
    {
     "data": {
      "image/png": "[encoded data removed]",
      "text/plain": [
       "<Figure size 432x288 with 9 Axes>"
      ]
     },
     "metadata": {
      "needs_background": "light"
     },
     "output_type": "display_data"
    }
   ],
   "source": [
    "answers_team.hist('percent_correct', by='team')"
   ]
  },
  {
   "cell_type": "markdown",
   "metadata": {
    "id": "AOpUe9d_Yqgr"
   },
   "source": [
    "- The teams are not too different from one another in distribution either,\n",
    "- White team is definitely made up of the best performers on average though, with a min higher than all other groups, and a median higher than all other groups"
   ]
  },
  {
   "cell_type": "markdown",
   "metadata": {
    "id": "UdgbCa4wYs-v"
   },
   "source": [
    "#### Investigating time\n",
    "- We'll now investigate the time it took each student to answer a question and will use that as an indicator of 'motivation'\n",
    "- First, we need to get a deadline by joining with the Courses data from Cycle 3"
   ]
  },
  {
   "cell_type": "code",
   "execution_count": 30,
   "metadata": {
    "colab": {
     "base_uri": "https://localhost:8080/",
     "height": 204
    },
    "id": "jsFrQ2hzYuNE",
    "outputId": "a9abe800-af70-4ac1-f3de-8dd91dd37cc7"
   },
   "outputs": [
    {
     "data": {
      "text/html": [
       "<div>\n",
       "<style scoped>\n",
       "    .dataframe tbody tr th:only-of-type {\n",
       "        vertical-align: middle;\n",
       "    }\n",
       "\n",
       "    .dataframe tbody tr th {\n",
       "        vertical-align: top;\n",
       "    }\n",
       "\n",
       "    .dataframe thead th {\n",
       "        text-align: right;\n",
       "    }\n",
       "</style>\n",
       "<table border=\"1\" class=\"dataframe\">\n",
       "  <thead>\n",
       "    <tr style=\"text-align: right;\">\n",
       "      <th></th>\n",
       "      <th>question_id</th>\n",
       "      <th>question_time</th>\n",
       "      <th>user_id</th>\n",
       "      <th>avg_rating</th>\n",
       "      <th>avg_difficulty</th>\n",
       "      <th>total_responses</th>\n",
       "      <th>total_comments</th>\n",
       "      <th>correct_answer</th>\n",
       "      <th>course_id</th>\n",
       "      <th>start_date</th>\n",
       "      <th>answer_deadline</th>\n",
       "    </tr>\n",
       "  </thead>\n",
       "  <tbody>\n",
       "    <tr>\n",
       "      <th>0</th>\n",
       "      <td>4421360</td>\n",
       "      <td>2020-04-07 22:29:54</td>\n",
       "      <td>217514</td>\n",
       "      <td>2.50</td>\n",
       "      <td>0.7500</td>\n",
       "      <td>29</td>\n",
       "      <td>2</td>\n",
       "      <td>B</td>\n",
       "      <td>21230</td>\n",
       "      <td>2020-04-06</td>\n",
       "      <td>2020-04-21 01:00:10</td>\n",
       "    </tr>\n",
       "    <tr>\n",
       "      <th>1</th>\n",
       "      <td>4421361</td>\n",
       "      <td>2020-04-07 22:30:18</td>\n",
       "      <td>217514</td>\n",
       "      <td>3.27</td>\n",
       "      <td>0.9091</td>\n",
       "      <td>37</td>\n",
       "      <td>1</td>\n",
       "      <td>D</td>\n",
       "      <td>21230</td>\n",
       "      <td>2020-04-06</td>\n",
       "      <td>2020-04-21 01:00:10</td>\n",
       "    </tr>\n",
       "    <tr>\n",
       "      <th>2</th>\n",
       "      <td>4421362</td>\n",
       "      <td>2020-04-07 22:30:18</td>\n",
       "      <td>217514</td>\n",
       "      <td>2.96</td>\n",
       "      <td>0.5000</td>\n",
       "      <td>32</td>\n",
       "      <td>0</td>\n",
       "      <td>C</td>\n",
       "      <td>21230</td>\n",
       "      <td>2020-04-06</td>\n",
       "      <td>2020-04-21 01:00:10</td>\n",
       "    </tr>\n",
       "    <tr>\n",
       "      <th>3</th>\n",
       "      <td>4421363</td>\n",
       "      <td>2020-04-07 22:30:19</td>\n",
       "      <td>217514</td>\n",
       "      <td>1.67</td>\n",
       "      <td>0.9524</td>\n",
       "      <td>31</td>\n",
       "      <td>3</td>\n",
       "      <td>C</td>\n",
       "      <td>21230</td>\n",
       "      <td>2020-04-06</td>\n",
       "      <td>2020-04-21 01:00:10</td>\n",
       "    </tr>\n",
       "    <tr>\n",
       "      <th>4</th>\n",
       "      <td>4421364</td>\n",
       "      <td>2020-04-07 22:30:19</td>\n",
       "      <td>217514</td>\n",
       "      <td>2.67</td>\n",
       "      <td>0.2857</td>\n",
       "      <td>32</td>\n",
       "      <td>0</td>\n",
       "      <td>D</td>\n",
       "      <td>21230</td>\n",
       "      <td>2020-04-06</td>\n",
       "      <td>2020-04-21 01:00:10</td>\n",
       "    </tr>\n",
       "  </tbody>\n",
       "</table>\n",
       "</div>"
      ],
      "text/plain": [
       "   question_id        question_time  user_id  avg_rating  avg_difficulty  \\\n",
       "0      4421360  2020-04-07 22:29:54   217514        2.50          0.7500   \n",
       "1      4421361  2020-04-07 22:30:18   217514        3.27          0.9091   \n",
       "2      4421362  2020-04-07 22:30:18   217514        2.96          0.5000   \n",
       "3      4421363  2020-04-07 22:30:19   217514        1.67          0.9524   \n",
       "4      4421364  2020-04-07 22:30:19   217514        2.67          0.2857   \n",
       "\n",
       "   total_responses  total_comments correct_answer  course_id start_date  \\\n",
       "0               29               2              B      21230 2020-04-06   \n",
       "1               37               1              D      21230 2020-04-06   \n",
       "2               32               0              C      21230 2020-04-06   \n",
       "3               31               3              C      21230 2020-04-06   \n",
       "4               32               0              D      21230 2020-04-06   \n",
       "\n",
       "      answer_deadline  \n",
       "0 2020-04-21 01:00:10  \n",
       "1 2020-04-21 01:00:10  \n",
       "2 2020-04-21 01:00:10  \n",
       "3 2020-04-21 01:00:10  \n",
       "4 2020-04-21 01:00:10  "
      ]
     },
     "execution_count": 30,
     "metadata": {},
     "output_type": "execute_result"
    }
   ],
   "source": [
    "c3courses_selected = c3courses[['CourseID', 'StartDate', 'DeadlineAnswer']]\n",
    "c3courses_selected = c3courses_selected.rename(columns={'CourseID' : 'course_id', 'StartDate' : 'start_date', 'DeadlineAnswer' : 'answer_deadline'})\n",
    "qs_with_deadline = qs_selected.merge(c3courses_selected, on='course_id')\n",
    "\n",
    "qs_with_deadline.head()"
   ]
  },
  {
   "cell_type": "markdown",
   "metadata": {
    "id": "5Pn_ycMzYxJr"
   },
   "source": [
    "#### Merging questions with deadline to answers\n",
    "- We've joined to the answer deadline\n",
    "- Now we need to join the questions with a deadline to their answers like we did previously"
   ]
  },
  {
   "cell_type": "code",
   "execution_count": 31,
   "metadata": {
    "colab": {
     "base_uri": "https://localhost:8080/",
     "height": 204
    },
    "id": "r1J-2S5GYyfM",
    "outputId": "b4c7230b-74d0-47f2-8a01-e744c74668fb"
   },
   "outputs": [
    {
     "data": {
      "text/html": [
       "<div>\n",
       "<style scoped>\n",
       "    .dataframe tbody tr th:only-of-type {\n",
       "        vertical-align: middle;\n",
       "    }\n",
       "\n",
       "    .dataframe tbody tr th {\n",
       "        vertical-align: top;\n",
       "    }\n",
       "\n",
       "    .dataframe thead th {\n",
       "        text-align: right;\n",
       "    }\n",
       "</style>\n",
       "<table border=\"1\" class=\"dataframe\">\n",
       "  <thead>\n",
       "    <tr style=\"text-align: right;\">\n",
       "      <th></th>\n",
       "      <th>answer_id</th>\n",
       "      <th>answer_time</th>\n",
       "      <th>user_id</th>\n",
       "      <th>question_id</th>\n",
       "      <th>chosen_answer</th>\n",
       "      <th>correct_answer</th>\n",
       "      <th>start_date</th>\n",
       "      <th>answer_deadline</th>\n",
       "    </tr>\n",
       "  </thead>\n",
       "  <tbody>\n",
       "    <tr>\n",
       "      <th>0</th>\n",
       "      <td>69566868</td>\n",
       "      <td>2020-04-08 00:24:47</td>\n",
       "      <td>636020</td>\n",
       "      <td>4421443</td>\n",
       "      <td>B</td>\n",
       "      <td>B</td>\n",
       "      <td>2020-04-06</td>\n",
       "      <td>2020-04-21 01:00:10</td>\n",
       "    </tr>\n",
       "    <tr>\n",
       "      <th>1</th>\n",
       "      <td>69567865</td>\n",
       "      <td>2020-04-08 01:09:42</td>\n",
       "      <td>636029</td>\n",
       "      <td>4421443</td>\n",
       "      <td>B</td>\n",
       "      <td>B</td>\n",
       "      <td>2020-04-06</td>\n",
       "      <td>2020-04-21 01:00:10</td>\n",
       "    </tr>\n",
       "    <tr>\n",
       "      <th>2</th>\n",
       "      <td>69570815</td>\n",
       "      <td>2020-04-08 03:03:02</td>\n",
       "      <td>635998</td>\n",
       "      <td>4421443</td>\n",
       "      <td>A</td>\n",
       "      <td>B</td>\n",
       "      <td>2020-04-06</td>\n",
       "      <td>2020-04-21 01:00:10</td>\n",
       "    </tr>\n",
       "    <tr>\n",
       "      <th>3</th>\n",
       "      <td>69583371</td>\n",
       "      <td>2020-04-08 10:34:31</td>\n",
       "      <td>635992</td>\n",
       "      <td>4421443</td>\n",
       "      <td>B</td>\n",
       "      <td>B</td>\n",
       "      <td>2020-04-06</td>\n",
       "      <td>2020-04-21 01:00:10</td>\n",
       "    </tr>\n",
       "    <tr>\n",
       "      <th>4</th>\n",
       "      <td>69595122</td>\n",
       "      <td>2020-04-08 14:55:46</td>\n",
       "      <td>636019</td>\n",
       "      <td>4421443</td>\n",
       "      <td>A</td>\n",
       "      <td>B</td>\n",
       "      <td>2020-04-06</td>\n",
       "      <td>2020-04-21 01:00:10</td>\n",
       "    </tr>\n",
       "  </tbody>\n",
       "</table>\n",
       "</div>"
      ],
      "text/plain": [
       "   answer_id         answer_time  user_id  question_id chosen_answer  \\\n",
       "0   69566868 2020-04-08 00:24:47   636020      4421443             B   \n",
       "1   69567865 2020-04-08 01:09:42   636029      4421443             B   \n",
       "2   69570815 2020-04-08 03:03:02   635998      4421443             A   \n",
       "3   69583371 2020-04-08 10:34:31   635992      4421443             B   \n",
       "4   69595122 2020-04-08 14:55:46   636019      4421443             A   \n",
       "\n",
       "  correct_answer start_date     answer_deadline  \n",
       "0              B 2020-04-06 2020-04-21 01:00:10  \n",
       "1              B 2020-04-06 2020-04-21 01:00:10  \n",
       "2              B 2020-04-06 2020-04-21 01:00:10  \n",
       "3              B 2020-04-06 2020-04-21 01:00:10  \n",
       "4              B 2020-04-06 2020-04-21 01:00:10  "
      ]
     },
     "execution_count": 31,
     "metadata": {},
     "output_type": "execute_result"
    }
   ],
   "source": [
    "q_and_a_deadline = ans_selected.merge(qs_with_deadline[['question_id', 'correct_answer', 'start_date', 'answer_deadline']], on='question_id')\n",
    "q_and_a_deadline = q_and_a_deadline.astype({'answer_time' : 'datetime64'})\n",
    "q_and_a_deadline.head()"
   ]
  },
  {
   "cell_type": "markdown",
   "metadata": {
    "id": "dQ_o11UaY0P4"
   },
   "source": [
    "- We now have a dataframe with an answer on each row, with the task start date, as well as the answer deadline and time\n",
    "- Let's analyze the time data by:\n",
    "    - Creating a new column for storing the time before the due date a question was answered\n",
    "    - Creating a column to indicate if a question was answered late"
   ]
  },
  {
   "cell_type": "code",
   "execution_count": 32,
   "metadata": {
    "colab": {
     "base_uri": "https://localhost:8080/",
     "height": 284
    },
    "id": "tOwMzwUdY1ks",
    "outputId": "a1fd363a-ebb4-4bb7-acd7-91b856f43596"
   },
   "outputs": [
    {
     "data": {
      "text/plain": [
       "<AxesSubplot:ylabel='Frequency'>"
      ]
     },
     "execution_count": 32,
     "metadata": {},
     "output_type": "execute_result"
    },
    {
     "data": {
      "image/png": "[encoded data removed]",
      "text/plain": [
       "<Figure size 432x288 with 1 Axes>"
      ]
     },
     "metadata": {
      "needs_background": "light"
     },
     "output_type": "display_data"
    }
   ],
   "source": [
    "q_and_a_deadline['time_delta'] = q_and_a_deadline['answer_deadline'] - q_and_a_deadline['answer_time']  # 'Time difference between due date and answer time' column\n",
    "q_and_a_deadline['late'] = q_and_a_deadline['time_delta'].dt.days < 0                                   # 'Answer was posted late' column\n",
    "\n",
    "q_and_a_deadline['time_delta'].dt.days.plot.hist() # Plot days before due date"
   ]
  },
  {
   "cell_type": "markdown",
   "metadata": {
    "id": "22shZMu0Y3fo"
   },
   "source": [
    "- The above histogram shows the number of days people answered before the deadline"
   ]
  },
  {
   "cell_type": "markdown",
   "metadata": {
    "id": "zPUGH4xjwlaZ"
   },
   "source": [
    "## Lateness of Comments\n",
    "\n",
    "---\n",
    "\n",
    "- Author: Charlie\n",
    "- Date: \n",
    "- Supporters: "
   ]
  },
  {
   "cell_type": "code",
   "execution_count": 33,
   "metadata": {
    "colab": {
     "base_uri": "https://localhost:8080/"
    },
    "id": "s6p7Xa-cbb_W",
    "outputId": "3b7488c7-6f80-4f51-b025-a161b0d04516"
   },
   "outputs": [
    {
     "name": "stdout",
     "output_type": "stream",
     "text": [
      "c1courses columns: ['course_id', 'cycle_start', 'comment_due', 'question_due']\n",
      "c1comments columns: ['Comment_ID', 'course_id', 'Timestamp', 'user', 'Question_ID', 'Comment']\n"
     ]
    }
   ],
   "source": [
    "print(\"c1courses columns:\", c1courses.columns.to_list())\n",
    "print(\"c1comments columns:\", c1comments.columns.to_list())"
   ]
  },
  {
   "cell_type": "markdown",
   "metadata": {
    "id": "rbHqlwSkbfGJ"
   },
   "source": [
    "- From the above cell we can see that we need to rename some columns so we can join them nicely\n",
    "- We will rename and merge the two dataframes in the below cell"
   ]
  },
  {
   "cell_type": "code",
   "execution_count": 34,
   "metadata": {
    "id": "NXRkIwhabfb_"
   },
   "outputs": [],
   "source": [
    "c1courses.rename(columns={\"CourseID\" : \"course_id\", \"StartDate\" : \"cycle_start\", \"Deadline_Cmmnt\" : \"comment_due\", \"Deadline_Qustn\" : \"question_due\"}, inplace=True) # Rename CourseID to course_id\n",
    "c1comments.rename(columns={\"Timestamp\" : \"comment_time\", \"CommentID\" : \"comment_id\", \"user\" : \"user_id\", \"Question_ID\" : \"question_id\", \"Comment\" : \"comment\"}, inplace=True)"
   ]
  },
  {
   "cell_type": "markdown",
   "metadata": {
    "id": "Mbja0PXmbilX"
   },
   "source": [
    "- There is an annoying header row located in the middle of the data that we need to remove\n",
    "- We'll remove it now by making sure the \"course_id\" column is not equal to the text \" course_id \""
   ]
  },
  {
   "cell_type": "code",
   "execution_count": 35,
   "metadata": {
    "id": "YX11S_a2bj7Q"
   },
   "outputs": [
    {
     "data": {
      "text/html": [
       "<div>\n",
       "<style scoped>\n",
       "    .dataframe tbody tr th:only-of-type {\n",
       "        vertical-align: middle;\n",
       "    }\n",
       "\n",
       "    .dataframe tbody tr th {\n",
       "        vertical-align: top;\n",
       "    }\n",
       "\n",
       "    .dataframe thead th {\n",
       "        text-align: right;\n",
       "    }\n",
       "</style>\n",
       "<table border=\"1\" class=\"dataframe\">\n",
       "  <thead>\n",
       "    <tr style=\"text-align: right;\">\n",
       "      <th></th>\n",
       "      <th>Comment_ID</th>\n",
       "      <th>course_id</th>\n",
       "      <th>comment_time</th>\n",
       "      <th>user_id</th>\n",
       "      <th>question_id</th>\n",
       "      <th>comment</th>\n",
       "    </tr>\n",
       "  </thead>\n",
       "  <tbody>\n",
       "    <tr>\n",
       "      <th>0</th>\n",
       "      <td>7039922</td>\n",
       "      <td>20995</td>\n",
       "      <td>2020-03-04 18:10:30</td>\n",
       "      <td>634147</td>\n",
       "      <td>4342370</td>\n",
       "      <td>Terrible question.</td>\n",
       "    </tr>\n",
       "    <tr>\n",
       "      <th>1</th>\n",
       "      <td>7045684</td>\n",
       "      <td>20995</td>\n",
       "      <td>2020-03-09 16:08:43</td>\n",
       "      <td>636012</td>\n",
       "      <td>4349814</td>\n",
       "      <td>I think the questions and answers were concise...</td>\n",
       "    </tr>\n",
       "    <tr>\n",
       "      <th>2</th>\n",
       "      <td>7045695</td>\n",
       "      <td>20995</td>\n",
       "      <td>2020-03-09 16:14:25</td>\n",
       "      <td>636010</td>\n",
       "      <td>4342370</td>\n",
       "      <td>This question concerns history rather than sci...</td>\n",
       "    </tr>\n",
       "    <tr>\n",
       "      <th>3</th>\n",
       "      <td>7045749</td>\n",
       "      <td>20995</td>\n",
       "      <td>2020-03-09 16:57:54</td>\n",
       "      <td>558135</td>\n",
       "      <td>4349855</td>\n",
       "      <td>I found this question particularly specific an...</td>\n",
       "    </tr>\n",
       "    <tr>\n",
       "      <th>4</th>\n",
       "      <td>7045750</td>\n",
       "      <td>20995</td>\n",
       "      <td>2020-03-09 16:58:39</td>\n",
       "      <td>636010</td>\n",
       "      <td>4349841</td>\n",
       "      <td>The question assesses your knowledge on a broa...</td>\n",
       "    </tr>\n",
       "    <tr>\n",
       "      <th>...</th>\n",
       "      <td>...</td>\n",
       "      <td>...</td>\n",
       "      <td>...</td>\n",
       "      <td>...</td>\n",
       "      <td>...</td>\n",
       "      <td>...</td>\n",
       "    </tr>\n",
       "    <tr>\n",
       "      <th>3365</th>\n",
       "      <td>7087388</td>\n",
       "      <td>21039</td>\n",
       "      <td>2020-03-22 12:18:19</td>\n",
       "      <td>640258</td>\n",
       "      <td>4356844</td>\n",
       "      <td>Tricky, as students may get confused with DNA ...</td>\n",
       "    </tr>\n",
       "    <tr>\n",
       "      <th>3366</th>\n",
       "      <td>7087405</td>\n",
       "      <td>21039</td>\n",
       "      <td>2020-03-22 12:23:26</td>\n",
       "      <td>640258</td>\n",
       "      <td>4356815</td>\n",
       "      <td>A really good question testing us on bonding.T...</td>\n",
       "    </tr>\n",
       "    <tr>\n",
       "      <th>3367</th>\n",
       "      <td>7087411</td>\n",
       "      <td>21039</td>\n",
       "      <td>2020-03-22 12:25:51</td>\n",
       "      <td>640258</td>\n",
       "      <td>4356773</td>\n",
       "      <td>It's a simple question, but a good question be...</td>\n",
       "    </tr>\n",
       "    <tr>\n",
       "      <th>3368</th>\n",
       "      <td>7087417</td>\n",
       "      <td>21039</td>\n",
       "      <td>2020-03-22 12:27:41</td>\n",
       "      <td>640258</td>\n",
       "      <td>4356734</td>\n",
       "      <td>This isn't a really good question is DNA is li...</td>\n",
       "    </tr>\n",
       "    <tr>\n",
       "      <th>3369</th>\n",
       "      <td>7092265</td>\n",
       "      <td>21039</td>\n",
       "      <td>2020-03-23 00:58:12</td>\n",
       "      <td>637292</td>\n",
       "      <td>4355861</td>\n",
       "      <td>This is a clear simple question that tests rec...</td>\n",
       "    </tr>\n",
       "  </tbody>\n",
       "</table>\n",
       "<p>3369 rows × 6 columns</p>\n",
       "</div>"
      ],
      "text/plain": [
       "     Comment_ID course_id         comment_time user_id question_id  \\\n",
       "0       7039922     20995  2020-03-04 18:10:30  634147     4342370   \n",
       "1       7045684     20995  2020-03-09 16:08:43  636012     4349814   \n",
       "2       7045695     20995  2020-03-09 16:14:25  636010     4342370   \n",
       "3       7045749     20995  2020-03-09 16:57:54  558135     4349855   \n",
       "4       7045750     20995  2020-03-09 16:58:39  636010     4349841   \n",
       "...         ...       ...                  ...     ...         ...   \n",
       "3365    7087388     21039  2020-03-22 12:18:19  640258     4356844   \n",
       "3366    7087405     21039  2020-03-22 12:23:26  640258     4356815   \n",
       "3367    7087411     21039  2020-03-22 12:25:51  640258     4356773   \n",
       "3368    7087417     21039  2020-03-22 12:27:41  640258     4356734   \n",
       "3369    7092265     21039  2020-03-23 00:58:12  637292     4355861   \n",
       "\n",
       "                                                comment  \n",
       "0                                    Terrible question.  \n",
       "1     I think the questions and answers were concise...  \n",
       "2     This question concerns history rather than sci...  \n",
       "3     I found this question particularly specific an...  \n",
       "4     The question assesses your knowledge on a broa...  \n",
       "...                                                 ...  \n",
       "3365  Tricky, as students may get confused with DNA ...  \n",
       "3366  A really good question testing us on bonding.T...  \n",
       "3367  It's a simple question, but a good question be...  \n",
       "3368  This isn't a really good question is DNA is li...  \n",
       "3369  This is a clear simple question that tests rec...  \n",
       "\n",
       "[3369 rows x 6 columns]"
      ]
     },
     "execution_count": 35,
     "metadata": {},
     "output_type": "execute_result"
    }
   ],
   "source": [
    "c1comments1 = c1comments[c1comments[\"course_id\"] != \" course_id \"]\n",
    "c1comments1"
   ]
  },
  {
   "cell_type": "markdown",
   "metadata": {
    "id": "WCw-1jg7bmG0"
   },
   "source": [
    "- We will convert the data types of both the dataframes so they join properly too\n"
   ]
  },
  {
   "cell_type": "code",
   "execution_count": 36,
   "metadata": {
    "colab": {
     "base_uri": "https://localhost:8080/",
     "height": 204
    },
    "id": "b5v8qS1Hbo_5",
    "outputId": "e0ddd686-1be2-4a50-9326-776e3172d15e"
   },
   "outputs": [
    {
     "data": {
      "text/html": [
       "<div>\n",
       "<style scoped>\n",
       "    .dataframe tbody tr th:only-of-type {\n",
       "        vertical-align: middle;\n",
       "    }\n",
       "\n",
       "    .dataframe tbody tr th {\n",
       "        vertical-align: top;\n",
       "    }\n",
       "\n",
       "    .dataframe thead th {\n",
       "        text-align: right;\n",
       "    }\n",
       "</style>\n",
       "<table border=\"1\" class=\"dataframe\">\n",
       "  <thead>\n",
       "    <tr style=\"text-align: right;\">\n",
       "      <th></th>\n",
       "      <th>course_id</th>\n",
       "      <th>cycle_start</th>\n",
       "      <th>comment_due</th>\n",
       "      <th>question_due</th>\n",
       "      <th>Comment_ID</th>\n",
       "      <th>comment_time</th>\n",
       "      <th>user_id</th>\n",
       "      <th>question_id</th>\n",
       "      <th>comment</th>\n",
       "    </tr>\n",
       "  </thead>\n",
       "  <tbody>\n",
       "    <tr>\n",
       "      <th>0</th>\n",
       "      <td>20995</td>\n",
       "      <td>2020-03-09</td>\n",
       "      <td>2020-03-17 01:00:10</td>\n",
       "      <td>2020-03-10 01:00:10</td>\n",
       "      <td>7039922</td>\n",
       "      <td>2020-03-04 18:10:30</td>\n",
       "      <td>634147</td>\n",
       "      <td>4342370</td>\n",
       "      <td>Terrible question.</td>\n",
       "    </tr>\n",
       "    <tr>\n",
       "      <th>1</th>\n",
       "      <td>20995</td>\n",
       "      <td>2020-03-09</td>\n",
       "      <td>2020-03-17 01:00:10</td>\n",
       "      <td>2020-03-10 01:00:10</td>\n",
       "      <td>7045684</td>\n",
       "      <td>2020-03-09 16:08:43</td>\n",
       "      <td>636012</td>\n",
       "      <td>4349814</td>\n",
       "      <td>I think the questions and answers were concise...</td>\n",
       "    </tr>\n",
       "    <tr>\n",
       "      <th>2</th>\n",
       "      <td>20995</td>\n",
       "      <td>2020-03-09</td>\n",
       "      <td>2020-03-17 01:00:10</td>\n",
       "      <td>2020-03-10 01:00:10</td>\n",
       "      <td>7045695</td>\n",
       "      <td>2020-03-09 16:14:25</td>\n",
       "      <td>636010</td>\n",
       "      <td>4342370</td>\n",
       "      <td>This question concerns history rather than sci...</td>\n",
       "    </tr>\n",
       "    <tr>\n",
       "      <th>3</th>\n",
       "      <td>20995</td>\n",
       "      <td>2020-03-09</td>\n",
       "      <td>2020-03-17 01:00:10</td>\n",
       "      <td>2020-03-10 01:00:10</td>\n",
       "      <td>7045749</td>\n",
       "      <td>2020-03-09 16:57:54</td>\n",
       "      <td>558135</td>\n",
       "      <td>4349855</td>\n",
       "      <td>I found this question particularly specific an...</td>\n",
       "    </tr>\n",
       "    <tr>\n",
       "      <th>4</th>\n",
       "      <td>20995</td>\n",
       "      <td>2020-03-09</td>\n",
       "      <td>2020-03-17 01:00:10</td>\n",
       "      <td>2020-03-10 01:00:10</td>\n",
       "      <td>7045750</td>\n",
       "      <td>2020-03-09 16:58:39</td>\n",
       "      <td>636010</td>\n",
       "      <td>4349841</td>\n",
       "      <td>The question assesses your knowledge on a broa...</td>\n",
       "    </tr>\n",
       "  </tbody>\n",
       "</table>\n",
       "</div>"
      ],
      "text/plain": [
       "   course_id cycle_start         comment_due        question_due Comment_ID  \\\n",
       "0      20995  2020-03-09 2020-03-17 01:00:10 2020-03-10 01:00:10    7039922   \n",
       "1      20995  2020-03-09 2020-03-17 01:00:10 2020-03-10 01:00:10    7045684   \n",
       "2      20995  2020-03-09 2020-03-17 01:00:10 2020-03-10 01:00:10    7045695   \n",
       "3      20995  2020-03-09 2020-03-17 01:00:10 2020-03-10 01:00:10    7045749   \n",
       "4      20995  2020-03-09 2020-03-17 01:00:10 2020-03-10 01:00:10    7045750   \n",
       "\n",
       "         comment_time user_id question_id  \\\n",
       "0 2020-03-04 18:10:30  634147     4342370   \n",
       "1 2020-03-09 16:08:43  636012     4349814   \n",
       "2 2020-03-09 16:14:25  636010     4342370   \n",
       "3 2020-03-09 16:57:54  558135     4349855   \n",
       "4 2020-03-09 16:58:39  636010     4349841   \n",
       "\n",
       "                                             comment  \n",
       "0                                 Terrible question.  \n",
       "1  I think the questions and answers were concise...  \n",
       "2  This question concerns history rather than sci...  \n",
       "3  I found this question particularly specific an...  \n",
       "4  The question assesses your knowledge on a broa...  "
      ]
     },
     "execution_count": 36,
     "metadata": {},
     "output_type": "execute_result"
    }
   ],
   "source": [
    "#c1comments[\"course_id\"] = pd.to_numeric(c1comments[\"course_id\"])\n",
    "c1comments1 = c1comments1.astype({\"course_id\" : \"int64\", \"comment_time\" : 'datetime64'})\n",
    "c1courses1 = c1courses.convert_dtypes()\n",
    "\n",
    "c1combined1 = c1courses1.merge(c1comments1, on=\"course_id\") # Merge the dataframes\n",
    "c1combined1.head() # Show the first 5 rows\n"
   ]
  },
  {
   "cell_type": "markdown",
   "metadata": {
    "id": "pWCG4Dzhbwkc"
   },
   "source": [
    "- Now we have a dataframe that has the due date for the comment that was made for each of the comments"
   ]
  },
  {
   "cell_type": "markdown",
   "metadata": {
    "id": "MnS6eLY6b6p8"
   },
   "source": [
    "### Performing Analysis\n",
    "- Next, we can calculate how long it took a student to write a comment after the question_due date\n",
    "    - We're doing this to find out how long it took for a student to complete a comment after all the questions were due\n",
    "    - We can use this metric to help us determine how motivated a student was\n",
    "- We'll also calcualte a column to indicate how early before the comment_due date a student provided a comment on a question"
   ]
  },
  {
   "cell_type": "markdown",
   "metadata": {
    "id": "IRxNKGLSb8tD"
   },
   "source": [
    "### Creation of new columns\n",
    "- We create the columns:\n",
    "    - `comment_delta` (number of days after question due date that the comment was posted)\n",
    "    - `comment_beforedue` (number of days before the comment due date that the comment was posted)\n",
    "    - `late` (will be True if the comment was submitted after the comment_due date, False otherwise)"
   ]
  },
  {
   "cell_type": "code",
   "execution_count": 37,
   "metadata": {
    "id": "LrcPTlNab-O3"
   },
   "outputs": [],
   "source": [
    "c1combined1[\"comment_delta\"] = (c1combined1[\"comment_time\"] - c1combined1[\"question_due\"])\n",
    "c1combined1[\"comment_beforedue\"] = (c1combined1[\"comment_due\"] - c1combined1[\"comment_time\"])\n",
    "c1combined1[\"late\"] = c1combined1[\"comment_time\"] > c1combined1[\"comment_due\"]"
   ]
  },
  {
   "cell_type": "markdown",
   "metadata": {
    "id": "nVjoMxmtcBLr"
   },
   "source": [
    "### Doing the same grouping that we did for Cycle 1 - but for cycle 2\n",
    "- I won't go over the details here just performing similar steps as we did for cycle 1"
   ]
  },
  {
   "cell_type": "code",
   "execution_count": 38,
   "metadata": {
    "id": "iB1JGE35cAe-"
   },
   "outputs": [],
   "source": [
    "c2courses1 = c2courses.rename(columns={\"CourseID\" : \"course_id\", \"StartDate\" : \"cycle_start\", \"Deadline_Comment\" : \"comment_due\", \"Deadline_Question\" : \"question_due\"}) # Rename columns\n",
    "#c2courses.drop(\"CourseName\", axis=1, inplace=True) # Remove the 'CourseName' column - we don't need it\n",
    "c2comments1 = c2comments.rename(columns={\"Timestamp\" : \"comment_time\", \"CommentID\" : \"comment_id\", \"user\" : \"user_id\", \"Question_ID\" : \"question_id\", \"Comment\" : \"comment\"})"
   ]
  },
  {
   "cell_type": "code",
   "execution_count": 39,
   "metadata": {
    "colab": {
     "base_uri": "https://localhost:8080/",
     "height": 204
    },
    "id": "l8uB1s-jcFcy",
    "outputId": "852321cc-1461-4915-ac5e-e720098fd3c9"
   },
   "outputs": [
    {
     "data": {
      "text/html": [
       "<div>\n",
       "<style scoped>\n",
       "    .dataframe tbody tr th:only-of-type {\n",
       "        vertical-align: middle;\n",
       "    }\n",
       "\n",
       "    .dataframe tbody tr th {\n",
       "        vertical-align: top;\n",
       "    }\n",
       "\n",
       "    .dataframe thead th {\n",
       "        text-align: right;\n",
       "    }\n",
       "</style>\n",
       "<table border=\"1\" class=\"dataframe\">\n",
       "  <thead>\n",
       "    <tr style=\"text-align: right;\">\n",
       "      <th></th>\n",
       "      <th>course_id</th>\n",
       "      <th>cycle_start</th>\n",
       "      <th>comment_due</th>\n",
       "      <th>question_due</th>\n",
       "      <th>Comment_ID</th>\n",
       "      <th>comment_time</th>\n",
       "      <th>user_id</th>\n",
       "      <th>question_id</th>\n",
       "      <th>comment</th>\n",
       "    </tr>\n",
       "  </thead>\n",
       "  <tbody>\n",
       "    <tr>\n",
       "      <th>0</th>\n",
       "      <td>21140</td>\n",
       "      <td>2020-03-23</td>\n",
       "      <td>2020-04-05 01:00:10</td>\n",
       "      <td>2020-03-30 01:00:10</td>\n",
       "      <td>7110756</td>\n",
       "      <td>2020-03-27 23:02:16</td>\n",
       "      <td>636006</td>\n",
       "      <td>4394370</td>\n",
       "      <td>I think this is a good question. If you want t...</td>\n",
       "    </tr>\n",
       "    <tr>\n",
       "      <th>1</th>\n",
       "      <td>21140</td>\n",
       "      <td>2020-03-23</td>\n",
       "      <td>2020-04-05 01:00:10</td>\n",
       "      <td>2020-03-30 01:00:10</td>\n",
       "      <td>7112982</td>\n",
       "      <td>2020-03-28 11:49:09</td>\n",
       "      <td>635990</td>\n",
       "      <td>4394722</td>\n",
       "      <td>I think the answer to this question might be p...</td>\n",
       "    </tr>\n",
       "    <tr>\n",
       "      <th>2</th>\n",
       "      <td>21140</td>\n",
       "      <td>2020-03-23</td>\n",
       "      <td>2020-04-05 01:00:10</td>\n",
       "      <td>2020-03-30 01:00:10</td>\n",
       "      <td>7112999</td>\n",
       "      <td>2020-03-28 11:54:41</td>\n",
       "      <td>635990</td>\n",
       "      <td>4391826</td>\n",
       "      <td>I thought this question was a good test of kno...</td>\n",
       "    </tr>\n",
       "    <tr>\n",
       "      <th>3</th>\n",
       "      <td>21140</td>\n",
       "      <td>2020-03-23</td>\n",
       "      <td>2020-04-05 01:00:10</td>\n",
       "      <td>2020-03-30 01:00:10</td>\n",
       "      <td>7113019</td>\n",
       "      <td>2020-03-28 12:02:39</td>\n",
       "      <td>635990</td>\n",
       "      <td>4395323</td>\n",
       "      <td>I thought this question was really good, as it...</td>\n",
       "    </tr>\n",
       "    <tr>\n",
       "      <th>4</th>\n",
       "      <td>21140</td>\n",
       "      <td>2020-03-23</td>\n",
       "      <td>2020-04-05 01:00:10</td>\n",
       "      <td>2020-03-30 01:00:10</td>\n",
       "      <td>7113038</td>\n",
       "      <td>2020-03-28 12:10:55</td>\n",
       "      <td>635990</td>\n",
       "      <td>4396604</td>\n",
       "      <td>I think this question was quite good, although...</td>\n",
       "    </tr>\n",
       "  </tbody>\n",
       "</table>\n",
       "</div>"
      ],
      "text/plain": [
       "   course_id cycle_start         comment_due        question_due  Comment_ID  \\\n",
       "0      21140  2020-03-23 2020-04-05 01:00:10 2020-03-30 01:00:10     7110756   \n",
       "1      21140  2020-03-23 2020-04-05 01:00:10 2020-03-30 01:00:10     7112982   \n",
       "2      21140  2020-03-23 2020-04-05 01:00:10 2020-03-30 01:00:10     7112999   \n",
       "3      21140  2020-03-23 2020-04-05 01:00:10 2020-03-30 01:00:10     7113019   \n",
       "4      21140  2020-03-23 2020-04-05 01:00:10 2020-03-30 01:00:10     7113038   \n",
       "\n",
       "         comment_time  user_id  question_id  \\\n",
       "0 2020-03-27 23:02:16   636006      4394370   \n",
       "1 2020-03-28 11:49:09   635990      4394722   \n",
       "2 2020-03-28 11:54:41   635990      4391826   \n",
       "3 2020-03-28 12:02:39   635990      4395323   \n",
       "4 2020-03-28 12:10:55   635990      4396604   \n",
       "\n",
       "                                             comment  \n",
       "0  I think this is a good question. If you want t...  \n",
       "1  I think the answer to this question might be p...  \n",
       "2  I thought this question was a good test of kno...  \n",
       "3  I thought this question was really good, as it...  \n",
       "4  I think this question was quite good, although...  "
      ]
     },
     "execution_count": 39,
     "metadata": {},
     "output_type": "execute_result"
    }
   ],
   "source": [
    "# Set data types\n",
    "c2comments1 = c2comments1.astype({\"course_id\" : \"int64\", \"comment_time\" : 'datetime64', \"user_id\" : \"int64\"}) \n",
    "c2courses1 = c2courses1.convert_dtypes() \n",
    "\n",
    "# Merge the dataframes\n",
    "c2combined1 = c2courses1.merge(c2comments1, on=\"course_id\") \n",
    "c2combined1.head()"
   ]
  },
  {
   "cell_type": "code",
   "execution_count": 40,
   "metadata": {
    "id": "Eq04k5F_cGtp"
   },
   "outputs": [],
   "source": [
    "c2combined1[\"comment_delta\"] = (c2combined1[\"comment_time\"] - c2combined1[\"question_due\"])\n",
    "c2combined1[\"comment_beforedue\"] = (c2combined1[\"comment_due\"] - c2combined1[\"comment_time\"])\n",
    "c2combined1[\"late\"] = c2combined1[\"comment_time\"] > c2combined1[\"comment_due\"]"
   ]
  },
  {
   "cell_type": "markdown",
   "metadata": {
    "id": "5nELOoDGcI1N"
   },
   "source": [
    "### Combining the two cycles into one DataFrame\n",
    "- Now we need to combine the two dataframes into one by using `.concat()`\n",
    "- We'll add an ID to each individual dataframe so we know what cycle they belong to"
   ]
  },
  {
   "cell_type": "code",
   "execution_count": 41,
   "metadata": {
    "colab": {
     "base_uri": "https://localhost:8080/",
     "height": 419
    },
    "id": "QhbS0ygScIlx",
    "outputId": "d155f43d-394d-4f43-aeb4-8d1b09845c1d"
   },
   "outputs": [
    {
     "data": {
      "text/html": [
       "<div>\n",
       "<style scoped>\n",
       "    .dataframe tbody tr th:only-of-type {\n",
       "        vertical-align: middle;\n",
       "    }\n",
       "\n",
       "    .dataframe tbody tr th {\n",
       "        vertical-align: top;\n",
       "    }\n",
       "\n",
       "    .dataframe thead th {\n",
       "        text-align: right;\n",
       "    }\n",
       "</style>\n",
       "<table border=\"1\" class=\"dataframe\">\n",
       "  <thead>\n",
       "    <tr style=\"text-align: right;\">\n",
       "      <th></th>\n",
       "      <th>course_id</th>\n",
       "      <th>cycle_start</th>\n",
       "      <th>comment_due</th>\n",
       "      <th>question_due</th>\n",
       "      <th>Comment_ID</th>\n",
       "      <th>comment_time</th>\n",
       "      <th>user_id</th>\n",
       "      <th>question_id</th>\n",
       "      <th>comment</th>\n",
       "      <th>comment_delta</th>\n",
       "      <th>comment_beforedue</th>\n",
       "      <th>late</th>\n",
       "      <th>cycle</th>\n",
       "    </tr>\n",
       "  </thead>\n",
       "  <tbody>\n",
       "    <tr>\n",
       "      <th>2043</th>\n",
       "      <td>21038</td>\n",
       "      <td>2020-03-11</td>\n",
       "      <td>2020-03-19 01:00:10</td>\n",
       "      <td>2020-03-12 01:00:10</td>\n",
       "      <td>7070065</td>\n",
       "      <td>2020-03-19 01:01:09</td>\n",
       "      <td>636844</td>\n",
       "      <td>4353868</td>\n",
       "      <td>The question is a little confusing because of ...</td>\n",
       "      <td>7 days 00:00:59</td>\n",
       "      <td>-1 days +23:59:01</td>\n",
       "      <td>True</td>\n",
       "      <td>1</td>\n",
       "    </tr>\n",
       "    <tr>\n",
       "      <th>539</th>\n",
       "      <td>20995</td>\n",
       "      <td>2020-03-09</td>\n",
       "      <td>2020-03-17 01:00:10</td>\n",
       "      <td>2020-03-10 01:00:10</td>\n",
       "      <td>7062964</td>\n",
       "      <td>2020-03-17 01:01:57</td>\n",
       "      <td>636027</td>\n",
       "      <td>4350515</td>\n",
       "      <td>Basic question that demonstrates recall of inf...</td>\n",
       "      <td>7 days 00:01:47</td>\n",
       "      <td>-1 days +23:58:13</td>\n",
       "      <td>True</td>\n",
       "      <td>1</td>\n",
       "    </tr>\n",
       "    <tr>\n",
       "      <th>2733</th>\n",
       "      <td>21039</td>\n",
       "      <td>2020-03-12</td>\n",
       "      <td>2020-03-20 01:00:10</td>\n",
       "      <td>2020-03-13 01:00:10</td>\n",
       "      <td>7074889</td>\n",
       "      <td>2020-03-20 01:01:59</td>\n",
       "      <td>637312</td>\n",
       "      <td>4356537</td>\n",
       "      <td>All this question requires is to know the func...</td>\n",
       "      <td>7 days 00:01:49</td>\n",
       "      <td>-1 days +23:58:11</td>\n",
       "      <td>True</td>\n",
       "      <td>1</td>\n",
       "    </tr>\n",
       "    <tr>\n",
       "      <th>952</th>\n",
       "      <td>21142</td>\n",
       "      <td>2020-03-25</td>\n",
       "      <td>2020-04-07 01:00:10</td>\n",
       "      <td>2020-04-01 01:00:10</td>\n",
       "      <td>7136367</td>\n",
       "      <td>2020-04-07 01:02:34</td>\n",
       "      <td>636830</td>\n",
       "      <td>4415550</td>\n",
       "      <td>I think this was a pretty straightforward ques...</td>\n",
       "      <td>6 days 00:02:24</td>\n",
       "      <td>-1 days +23:57:36</td>\n",
       "      <td>True</td>\n",
       "      <td>2</td>\n",
       "    </tr>\n",
       "    <tr>\n",
       "      <th>540</th>\n",
       "      <td>20995</td>\n",
       "      <td>2020-03-09</td>\n",
       "      <td>2020-03-17 01:00:10</td>\n",
       "      <td>2020-03-10 01:00:10</td>\n",
       "      <td>7062968</td>\n",
       "      <td>2020-03-17 01:02:45</td>\n",
       "      <td>636042</td>\n",
       "      <td>4350561</td>\n",
       "      <td>Great question. Especially for study. Makes yo...</td>\n",
       "      <td>7 days 00:02:35</td>\n",
       "      <td>-1 days +23:57:25</td>\n",
       "      <td>True</td>\n",
       "      <td>1</td>\n",
       "    </tr>\n",
       "    <tr>\n",
       "      <th>...</th>\n",
       "      <td>...</td>\n",
       "      <td>...</td>\n",
       "      <td>...</td>\n",
       "      <td>...</td>\n",
       "      <td>...</td>\n",
       "      <td>...</td>\n",
       "      <td>...</td>\n",
       "      <td>...</td>\n",
       "      <td>...</td>\n",
       "      <td>...</td>\n",
       "      <td>...</td>\n",
       "      <td>...</td>\n",
       "      <td>...</td>\n",
       "    </tr>\n",
       "    <tr>\n",
       "      <th>2061</th>\n",
       "      <td>21038</td>\n",
       "      <td>2020-03-11</td>\n",
       "      <td>2020-03-19 01:00:10</td>\n",
       "      <td>2020-03-12 01:00:10</td>\n",
       "      <td>7083996</td>\n",
       "      <td>2020-03-21 18:51:24</td>\n",
       "      <td>636919</td>\n",
       "      <td>4353630</td>\n",
       "      <td>This question is easy, students have to pay at...</td>\n",
       "      <td>9 days 17:51:14</td>\n",
       "      <td>-3 days +06:08:46</td>\n",
       "      <td>True</td>\n",
       "      <td>1</td>\n",
       "    </tr>\n",
       "    <tr>\n",
       "      <th>2062</th>\n",
       "      <td>21038</td>\n",
       "      <td>2020-03-11</td>\n",
       "      <td>2020-03-19 01:00:10</td>\n",
       "      <td>2020-03-12 01:00:10</td>\n",
       "      <td>7084039</td>\n",
       "      <td>2020-03-21 18:58:24</td>\n",
       "      <td>636919</td>\n",
       "      <td>4353750</td>\n",
       "      <td>This question requires us to recall the functi...</td>\n",
       "      <td>9 days 17:58:14</td>\n",
       "      <td>-3 days +06:01:46</td>\n",
       "      <td>True</td>\n",
       "      <td>1</td>\n",
       "    </tr>\n",
       "    <tr>\n",
       "      <th>2805</th>\n",
       "      <td>21039</td>\n",
       "      <td>2020-03-12</td>\n",
       "      <td>2020-03-20 01:00:10</td>\n",
       "      <td>2020-03-13 01:00:10</td>\n",
       "      <td>7092265</td>\n",
       "      <td>2020-03-23 00:58:12</td>\n",
       "      <td>637292</td>\n",
       "      <td>4355861</td>\n",
       "      <td>This is a clear simple question that tests rec...</td>\n",
       "      <td>9 days 23:58:02</td>\n",
       "      <td>-3 days +00:01:58</td>\n",
       "      <td>True</td>\n",
       "      <td>1</td>\n",
       "    </tr>\n",
       "    <tr>\n",
       "      <th>1026</th>\n",
       "      <td>21142</td>\n",
       "      <td>2020-03-25</td>\n",
       "      <td>2020-04-07 01:00:10</td>\n",
       "      <td>2020-04-01 01:00:10</td>\n",
       "      <td>7144697</td>\n",
       "      <td>2020-04-10 05:54:18</td>\n",
       "      <td>636252</td>\n",
       "      <td>4423617</td>\n",
       "      <td>Great application question requiring the under...</td>\n",
       "      <td>9 days 04:54:08</td>\n",
       "      <td>-4 days +19:05:52</td>\n",
       "      <td>True</td>\n",
       "      <td>2</td>\n",
       "    </tr>\n",
       "    <tr>\n",
       "      <th>666</th>\n",
       "      <td>21141</td>\n",
       "      <td>2020-03-24</td>\n",
       "      <td>2020-04-06 01:00:10</td>\n",
       "      <td>2020-03-31 01:00:10</td>\n",
       "      <td>7142878</td>\n",
       "      <td>2020-04-09 10:47:20</td>\n",
       "      <td>636434</td>\n",
       "      <td>4421180</td>\n",
       "      <td>I liked that you included an example of PCR us...</td>\n",
       "      <td>9 days 09:47:10</td>\n",
       "      <td>-4 days +14:12:50</td>\n",
       "      <td>True</td>\n",
       "      <td>2</td>\n",
       "    </tr>\n",
       "  </tbody>\n",
       "</table>\n",
       "<p>400 rows × 13 columns</p>\n",
       "</div>"
      ],
      "text/plain": [
       "      course_id cycle_start         comment_due        question_due  \\\n",
       "2043      21038  2020-03-11 2020-03-19 01:00:10 2020-03-12 01:00:10   \n",
       "539       20995  2020-03-09 2020-03-17 01:00:10 2020-03-10 01:00:10   \n",
       "2733      21039  2020-03-12 2020-03-20 01:00:10 2020-03-13 01:00:10   \n",
       "952       21142  2020-03-25 2020-04-07 01:00:10 2020-04-01 01:00:10   \n",
       "540       20995  2020-03-09 2020-03-17 01:00:10 2020-03-10 01:00:10   \n",
       "...         ...         ...                 ...                 ...   \n",
       "2061      21038  2020-03-11 2020-03-19 01:00:10 2020-03-12 01:00:10   \n",
       "2062      21038  2020-03-11 2020-03-19 01:00:10 2020-03-12 01:00:10   \n",
       "2805      21039  2020-03-12 2020-03-20 01:00:10 2020-03-13 01:00:10   \n",
       "1026      21142  2020-03-25 2020-04-07 01:00:10 2020-04-01 01:00:10   \n",
       "666       21141  2020-03-24 2020-04-06 01:00:10 2020-03-31 01:00:10   \n",
       "\n",
       "     Comment_ID        comment_time  user_id  question_id  \\\n",
       "2043    7070065 2020-03-19 01:01:09   636844      4353868   \n",
       "539     7062964 2020-03-17 01:01:57   636027      4350515   \n",
       "2733    7074889 2020-03-20 01:01:59   637312      4356537   \n",
       "952     7136367 2020-04-07 01:02:34   636830      4415550   \n",
       "540     7062968 2020-03-17 01:02:45   636042      4350561   \n",
       "...         ...                 ...      ...          ...   \n",
       "2061    7083996 2020-03-21 18:51:24   636919      4353630   \n",
       "2062    7084039 2020-03-21 18:58:24   636919      4353750   \n",
       "2805    7092265 2020-03-23 00:58:12   637292      4355861   \n",
       "1026    7144697 2020-04-10 05:54:18   636252      4423617   \n",
       "666     7142878 2020-04-09 10:47:20   636434      4421180   \n",
       "\n",
       "                                                comment   comment_delta  \\\n",
       "2043  The question is a little confusing because of ... 7 days 00:00:59   \n",
       "539   Basic question that demonstrates recall of inf... 7 days 00:01:47   \n",
       "2733  All this question requires is to know the func... 7 days 00:01:49   \n",
       "952   I think this was a pretty straightforward ques... 6 days 00:02:24   \n",
       "540   Great question. Especially for study. Makes yo... 7 days 00:02:35   \n",
       "...                                                 ...             ...   \n",
       "2061  This question is easy, students have to pay at... 9 days 17:51:14   \n",
       "2062  This question requires us to recall the functi... 9 days 17:58:14   \n",
       "2805  This is a clear simple question that tests rec... 9 days 23:58:02   \n",
       "1026  Great application question requiring the under... 9 days 04:54:08   \n",
       "666   I liked that you included an example of PCR us... 9 days 09:47:10   \n",
       "\n",
       "     comment_beforedue  late  cycle  \n",
       "2043 -1 days +23:59:01  True      1  \n",
       "539  -1 days +23:58:13  True      1  \n",
       "2733 -1 days +23:58:11  True      1  \n",
       "952  -1 days +23:57:36  True      2  \n",
       "540  -1 days +23:57:25  True      1  \n",
       "...                ...   ...    ...  \n",
       "2061 -3 days +06:08:46  True      1  \n",
       "2062 -3 days +06:01:46  True      1  \n",
       "2805 -3 days +00:01:58  True      1  \n",
       "1026 -4 days +19:05:52  True      2  \n",
       "666  -4 days +14:12:50  True      2  \n",
       "\n",
       "[400 rows x 13 columns]"
      ]
     },
     "execution_count": 41,
     "metadata": {},
     "output_type": "execute_result"
    }
   ],
   "source": [
    "c1combined1[\"cycle\"] = 1\n",
    "c2combined1[\"cycle\"] = 2\n",
    "\n",
    "all_combined1 = pd.concat([c1combined1, c2combined1])\n",
    "all_combined1 = all_combined1.astype({\"course_id\" : \"int64\", \"user_id\" : \"int64\", \"question_id\" : \"int64\"})\n",
    "all_combined1[all_combined1['late']].sort_values(by='comment_beforedue', ascending=False)"
   ]
  },
  {
   "cell_type": "markdown",
   "metadata": {
    "id": "VUg9XmhmcMqD"
   },
   "source": [
    "### Investigating our data\n",
    "- Lets first look at the comment time in general\n",
    "- Followed by the number of unqiue students who commented past the due date"
   ]
  },
  {
   "cell_type": "code",
   "execution_count": 42,
   "metadata": {
    "colab": {
     "base_uri": "https://localhost:8080/"
    },
    "id": "vy-9wdOPcOLn",
    "outputId": "50dda6a2-faba-4837-9f6b-30ff49c4ed33"
   },
   "outputs": [
    {
     "name": "stdout",
     "output_type": "stream",
     "text": [
      "Earliest comment was made at: 04/03/2020\n",
      "Latest comment was made at: 10/04/2020\n"
     ]
    }
   ],
   "source": [
    "print(\"Earliest comment was made at:\", all_combined1[\"comment_time\"].min().strftime(\"%d/%m/%Y\"))\n",
    "print(\"Latest comment was made at:\", all_combined1[\"comment_time\"].max().strftime(\"%d/%m/%Y\"))"
   ]
  },
  {
   "cell_type": "code",
   "execution_count": 43,
   "metadata": {
    "colab": {
     "base_uri": "https://localhost:8080/",
     "height": 312
    },
    "id": "d7RK1lQWcPc_",
    "outputId": "2ae11e69-b11e-44d1-f957-5d84dfbc6040"
   },
   "outputs": [
    {
     "data": {
      "text/plain": [
       "<AxesSubplot:title={'center':'Time after due date of question that a comment was posted in Cycle 1'}, xlabel='Days after question due date', ylabel='Number of comments'>"
      ]
     },
     "execution_count": 43,
     "metadata": {},
     "output_type": "execute_result"
    },
    {
     "data": {
      "image/png": "[encoded data removed]",
      "text/plain": [
       "<Figure size 432x288 with 1 Axes>"
      ]
     },
     "metadata": {
      "needs_background": "light"
     },
     "output_type": "display_data"
    }
   ],
   "source": [
    "delta_grouped1 = all_combined1[\"comment_time\"].groupby(all_combined1[\"comment_delta\"].dt.days).count()\n",
    "\n",
    "delta_grouped1.plot(kind=\"bar\", xlabel=\"Days after question due date\", ylabel=\"Number of comments\", title=\"Time after due date of question that a comment was posted in Cycle 1\")"
   ]
  },
  {
   "cell_type": "code",
   "execution_count": 44,
   "metadata": {
    "id": "GT2E-BL5cSwC"
   },
   "outputs": [],
   "source": [
    "student_lateness1 = all_combined1[[\"user_id\", \"late\"]].groupby(\"user_id\", as_index=False).sum(\"late\")"
   ]
  },
  {
   "cell_type": "markdown",
   "metadata": {
    "id": "4MxBbqKQcUBO"
   },
   "source": [
    "- Plot the number of days a comment was late"
   ]
  },
  {
   "cell_type": "code",
   "execution_count": 45,
   "metadata": {
    "colab": {
     "base_uri": "https://localhost:8080/",
     "height": 282
    },
    "id": "ugxocCiTcWX-",
    "outputId": "7d8be87a-4e2f-4233-e1d2-1add4966d905"
   },
   "outputs": [
    {
     "data": {
      "text/plain": [
       "<AxesSubplot:ylabel='Frequency'>"
      ]
     },
     "execution_count": 45,
     "metadata": {},
     "output_type": "execute_result"
    },
    {
     "data": {
      "image/png": "[encoded data removed]",
      "text/plain": [
       "<Figure size 432x288 with 1 Axes>"
      ]
     },
     "metadata": {
      "needs_background": "light"
     },
     "output_type": "display_data"
    }
   ],
   "source": [
    "student_lateness1[\"late\"].plot(kind=\"hist\") "
   ]
  },
  {
   "cell_type": "markdown",
   "metadata": {
    "id": "MUx0IUARcX_-"
   },
   "source": [
    "- Below is a dataframe of the students who were late (sorted by number of late comments)"
   ]
  },
  {
   "cell_type": "code",
   "execution_count": 46,
   "metadata": {
    "colab": {
     "base_uri": "https://localhost:8080/",
     "height": 419
    },
    "id": "0XKwqDC_cZDb",
    "outputId": "b4191733-66ca-4e9a-b1f2-88dbdee3396a"
   },
   "outputs": [
    {
     "data": {
      "text/html": [
       "<div>\n",
       "<style scoped>\n",
       "    .dataframe tbody tr th:only-of-type {\n",
       "        vertical-align: middle;\n",
       "    }\n",
       "\n",
       "    .dataframe tbody tr th {\n",
       "        vertical-align: top;\n",
       "    }\n",
       "\n",
       "    .dataframe thead th {\n",
       "        text-align: right;\n",
       "    }\n",
       "</style>\n",
       "<table border=\"1\" class=\"dataframe\">\n",
       "  <thead>\n",
       "    <tr style=\"text-align: right;\">\n",
       "      <th></th>\n",
       "      <th>user_id</th>\n",
       "      <th>late</th>\n",
       "    </tr>\n",
       "  </thead>\n",
       "  <tbody>\n",
       "    <tr>\n",
       "      <th>66</th>\n",
       "      <td>636027</td>\n",
       "      <td>17</td>\n",
       "    </tr>\n",
       "    <tr>\n",
       "      <th>56</th>\n",
       "      <td>636017</td>\n",
       "      <td>13</td>\n",
       "    </tr>\n",
       "    <tr>\n",
       "      <th>205</th>\n",
       "      <td>636844</td>\n",
       "      <td>11</td>\n",
       "    </tr>\n",
       "    <tr>\n",
       "      <th>316</th>\n",
       "      <td>640258</td>\n",
       "      <td>10</td>\n",
       "    </tr>\n",
       "    <tr>\n",
       "      <th>282</th>\n",
       "      <td>637293</td>\n",
       "      <td>10</td>\n",
       "    </tr>\n",
       "    <tr>\n",
       "      <th>...</th>\n",
       "      <td>...</td>\n",
       "      <td>...</td>\n",
       "    </tr>\n",
       "    <tr>\n",
       "      <th>139</th>\n",
       "      <td>636418</td>\n",
       "      <td>0</td>\n",
       "    </tr>\n",
       "    <tr>\n",
       "      <th>140</th>\n",
       "      <td>636419</td>\n",
       "      <td>0</td>\n",
       "    </tr>\n",
       "    <tr>\n",
       "      <th>141</th>\n",
       "      <td>636420</td>\n",
       "      <td>0</td>\n",
       "    </tr>\n",
       "    <tr>\n",
       "      <th>142</th>\n",
       "      <td>636421</td>\n",
       "      <td>0</td>\n",
       "    </tr>\n",
       "    <tr>\n",
       "      <th>317</th>\n",
       "      <td>642158</td>\n",
       "      <td>0</td>\n",
       "    </tr>\n",
       "  </tbody>\n",
       "</table>\n",
       "<p>318 rows × 2 columns</p>\n",
       "</div>"
      ],
      "text/plain": [
       "     user_id  late\n",
       "66    636027    17\n",
       "56    636017    13\n",
       "205   636844    11\n",
       "316   640258    10\n",
       "282   637293    10\n",
       "..       ...   ...\n",
       "139   636418     0\n",
       "140   636419     0\n",
       "141   636420     0\n",
       "142   636421     0\n",
       "317   642158     0\n",
       "\n",
       "[318 rows x 2 columns]"
      ]
     },
     "execution_count": 46,
     "metadata": {},
     "output_type": "execute_result"
    }
   ],
   "source": [
    "student_lateness1.sort_values(\"late\", ascending=False)"
   ]
  },
  {
   "cell_type": "markdown",
   "metadata": {
    "id": "IGqbw2THcab_"
   },
   "source": [
    "### Connecting the students to their cycle 4 groups\n",
    "- We need to link the students and their number of late comments do their groups in cycle 4\n",
    "- This is so we can evaluate the impact of student 'lateness'/motivation on their marks and results"
   ]
  },
  {
   "cell_type": "code",
   "execution_count": 47,
   "metadata": {
    "id": "Nxj3a4e-cbmn"
   },
   "outputs": [],
   "source": [
    "c4usercourses1 = c4usercourses.rename(columns={\"user\" : \"user_id\", \"Team\" : \"team\"}) # Rename columns\n",
    "c4usercourses_lateness1 = c4usercourses1.merge(student_lateness1.reset_index(drop=True), on=\"user_id\") # merge the columns\n"
   ]
  },
  {
   "cell_type": "markdown",
   "metadata": {
    "id": "slGdrpGWccxw"
   },
   "source": [
    "### Showing the number of late students\n",
    "- Below is a dataframe of late students\n",
    "- Below that is a graph showing the lateness of students by team"
   ]
  },
  {
   "cell_type": "code",
   "execution_count": 48,
   "metadata": {
    "colab": {
     "base_uri": "https://localhost:8080/",
     "height": 419
    },
    "id": "L_uU5fqVcd-J",
    "outputId": "6429c897-119c-456c-c884-56b026030c02"
   },
   "outputs": [
    {
     "data": {
      "text/html": [
       "<div>\n",
       "<style scoped>\n",
       "    .dataframe tbody tr th:only-of-type {\n",
       "        vertical-align: middle;\n",
       "    }\n",
       "\n",
       "    .dataframe tbody tr th {\n",
       "        vertical-align: top;\n",
       "    }\n",
       "\n",
       "    .dataframe thead th {\n",
       "        text-align: right;\n",
       "    }\n",
       "</style>\n",
       "<table border=\"1\" class=\"dataframe\">\n",
       "  <thead>\n",
       "    <tr style=\"text-align: right;\">\n",
       "      <th></th>\n",
       "      <th>user_id</th>\n",
       "      <th>course_id</th>\n",
       "      <th>team</th>\n",
       "      <th>late</th>\n",
       "    </tr>\n",
       "  </thead>\n",
       "  <tbody>\n",
       "    <tr>\n",
       "      <th>8</th>\n",
       "      <td>636027</td>\n",
       "      <td>21320</td>\n",
       "      <td>Black</td>\n",
       "      <td>17</td>\n",
       "    </tr>\n",
       "    <tr>\n",
       "      <th>43</th>\n",
       "      <td>636017</td>\n",
       "      <td>21320</td>\n",
       "      <td>Pink</td>\n",
       "      <td>13</td>\n",
       "    </tr>\n",
       "    <tr>\n",
       "      <th>188</th>\n",
       "      <td>636844</td>\n",
       "      <td>21327</td>\n",
       "      <td>Black</td>\n",
       "      <td>11</td>\n",
       "    </tr>\n",
       "    <tr>\n",
       "      <th>178</th>\n",
       "      <td>636919</td>\n",
       "      <td>21327</td>\n",
       "      <td>Yellow</td>\n",
       "      <td>10</td>\n",
       "    </tr>\n",
       "    <tr>\n",
       "      <th>253</th>\n",
       "      <td>637293</td>\n",
       "      <td>21328</td>\n",
       "      <td>Blue</td>\n",
       "      <td>10</td>\n",
       "    </tr>\n",
       "    <tr>\n",
       "      <th>...</th>\n",
       "      <td>...</td>\n",
       "      <td>...</td>\n",
       "      <td>...</td>\n",
       "      <td>...</td>\n",
       "    </tr>\n",
       "    <tr>\n",
       "      <th>45</th>\n",
       "      <td>635978</td>\n",
       "      <td>21320</td>\n",
       "      <td>Pink</td>\n",
       "      <td>0</td>\n",
       "    </tr>\n",
       "    <tr>\n",
       "      <th>44</th>\n",
       "      <td>636032</td>\n",
       "      <td>21320</td>\n",
       "      <td>Pink</td>\n",
       "      <td>0</td>\n",
       "    </tr>\n",
       "    <tr>\n",
       "      <th>152</th>\n",
       "      <td>636841</td>\n",
       "      <td>21327</td>\n",
       "      <td>Pink</td>\n",
       "      <td>0</td>\n",
       "    </tr>\n",
       "    <tr>\n",
       "      <th>153</th>\n",
       "      <td>636825</td>\n",
       "      <td>21327</td>\n",
       "      <td>White</td>\n",
       "      <td>0</td>\n",
       "    </tr>\n",
       "    <tr>\n",
       "      <th>0</th>\n",
       "      <td>636031</td>\n",
       "      <td>21320</td>\n",
       "      <td>Black</td>\n",
       "      <td>0</td>\n",
       "    </tr>\n",
       "  </tbody>\n",
       "</table>\n",
       "<p>277 rows × 4 columns</p>\n",
       "</div>"
      ],
      "text/plain": [
       "     user_id  course_id    team  late\n",
       "8     636027      21320   Black    17\n",
       "43    636017      21320    Pink    13\n",
       "188   636844      21327   Black    11\n",
       "178   636919      21327  Yellow    10\n",
       "253   637293      21328    Blue    10\n",
       "..       ...        ...     ...   ...\n",
       "45    635978      21320    Pink     0\n",
       "44    636032      21320    Pink     0\n",
       "152   636841      21327    Pink     0\n",
       "153   636825      21327   White     0\n",
       "0     636031      21320   Black     0\n",
       "\n",
       "[277 rows x 4 columns]"
      ]
     },
     "execution_count": 48,
     "metadata": {},
     "output_type": "execute_result"
    }
   ],
   "source": [
    "c4usercourses_lateness1.sort_values(by=\"late\", ascending=False) # Sort the columns for output by lateness"
   ]
  },
  {
   "cell_type": "code",
   "execution_count": 49,
   "metadata": {
    "colab": {
     "base_uri": "https://localhost:8080/",
     "height": 318
    },
    "id": "C2Wd4MTlcfQ_",
    "outputId": "39caf982-1b1c-4b52-92e9-1a94af63693c"
   },
   "outputs": [
    {
     "data": {
      "text/plain": [
       "<AxesSubplot:xlabel='team'>"
      ]
     },
     "execution_count": 49,
     "metadata": {},
     "output_type": "execute_result"
    },
    {
     "data": {
      "image/png": "[encoded data removed]",
      "text/plain": [
       "<Figure size 432x288 with 1 Axes>"
      ]
     },
     "metadata": {
      "needs_background": "light"
     },
     "output_type": "display_data"
    }
   ],
   "source": [
    "student_late_boolean1 = all_combined1[[\"user_id\", \"late\"]].groupby(\"user_id\", as_index=False).any(\"late\")\n",
    "team_latenes_boolean1 = c4usercourses1.merge(student_late_boolean1, on=\"user_id\")\n",
    "team_latenes_boolean1.groupby(\"team\")[\"late\"].sum().plot.bar()"
   ]
  },
  {
   "cell_type": "markdown",
   "metadata": {
    "id": "fCf3zvyXcgcM"
   },
   "source": [
    "### Proportion of team who were late\n",
    "- Below is a graph showing the Proportion of the team members who were late\n",
    "- This is calcualted by (number of late team members) / (number of total team members)\n",
    "- Yellow has the highest % of lately submitted comments"
   ]
  },
  {
   "cell_type": "code",
   "execution_count": 50,
   "metadata": {
    "colab": {
     "base_uri": "https://localhost:8080/",
     "height": 334
    },
    "id": "a5rvBxzHchfP",
    "outputId": "77431417-ccbd-41c4-9a8c-3c150cb595fd"
   },
   "outputs": [
    {
     "data": {
      "text/plain": [
       "<AxesSubplot:title={'center':'proportion of members in the team who made a late comment in cycles 1 and 2'}, xlabel='team', ylabel='proportion'>"
      ]
     },
     "execution_count": 50,
     "metadata": {},
     "output_type": "execute_result"
    },
    {
     "data": {
      "image/png": "[encoded data removed]",
      "text/plain": [
       "<Figure size 432x288 with 1 Axes>"
      ]
     },
     "metadata": {
      "needs_background": "light"
     },
     "output_type": "display_data"
    }
   ],
   "source": [
    "c4usercourses1[c4usercourses1['team'] == 'Pink']\n",
    "team_latenes_boolean1[team_latenes_boolean1['team'] == 'Pink']\n",
    "\n",
    "# Find number of members late and size of each team\n",
    "members_late = team_latenes_boolean1[[\"team\", \"late\"]].groupby(\"team\").sum()\n",
    "team_size = team_latenes_boolean1[[\"team\", \"user_id\"]].groupby(\"team\").nunique()\n",
    "\n",
    "members_late[\"num_members\"] = team_size\n",
    "members_late[\"perc_late\"] = members_late[\"late\"] / members_late[\"num_members\"] \n",
    "members_late = members_late.reset_index()\n",
    "members_late[[\"team\", \"perc_late\"]].plot.bar(x=\"team\", title=\"proportion of members in the team who made a late comment in cycles 1 and 2\", ylabel=\"proportion\")"
   ]
  },
  {
   "cell_type": "markdown",
   "metadata": {
    "id": "cPKRYbmWwpI7"
   },
   "source": [
    "## Student Improvement in Cycle 4\n",
    "\n",
    "---\n",
    "\n",
    "In this section we will discuss the improvement seen for students from Cycles 2 and 3 compared to Cycle 4.\n",
    "\n",
    "This is to assess the impact of the grouping on student performance using two different metrics:\n",
    "- **Motivation** (how early questions/comments were posted)\n",
    "- **Performance** (academic mark and average ratings for questions)"
   ]
  },
  {
   "cell_type": "markdown",
   "metadata": {},
   "source": [
    "### Data preperation:\n",
    "Firstly, we'll set-up our data for analysis towards the driving question by:\n",
    "- Renaming the columns so they are neat for our analysis\n",
    "- Dropping columns we won't use\n",
    "- Adding a 'cycle' column indicating the cycle which the data belongs to so that when we merge the two cycles we can distinguish them from one another"
   ]
  },
  {
   "cell_type": "code",
   "execution_count": 56,
   "metadata": {},
   "outputs": [],
   "source": [
    "### Cycle 2 data preperation ###\n",
    "\n",
    "# Courses\n",
    "c2courses_cl = c2courses.rename(columns={\"CourseID\" : \"course_id\", \"StartDate\" : \"cycle_start\", \"Deadline_Comment\" : \"comment_due\", \"Deadline_Question\" : \"question_due\"}) # Rename columns for neatness and easier merges later on\n",
    "c2courses_cl = c2courses_cl.drop(\"CourseName\", axis=1)  # Remove the CourseName column - we will never use it\n",
    "c2courses_cl['cycle'] = 2                               # Column to indicate the cycle number\n",
    "\n",
    "# Questions\n",
    "c2questions_cl = c2questions.rename(columns={\"id\" : \"question_id\", \"timestamp\" : \"question_time\", \"user\" : \"user_id\"}) # Rename columns for neatness and easier merges later on\n",
    "c2questions_cl = c2questions_cl.drop(['top_rating_count', 'numAlts', 'altA', 'altB', 'altC', 'altD', 'altE', 'question', 'explanation'], axis=1) # Remove these columns - we won't need them for our analysis\n",
    "c2questions_cl['cycle'] = 2\n",
    "\n",
    "### Cycle 4 data preperation ###\n",
    "\n",
    "# Courses\n",
    "c4courses_cl = c4courses.rename(columns={\"CourseID\" : \"course_id\", \"StartDate\" : \"cycle_start\", \"Deadline_Comment\" : \"comment_due\", \"Deadline_Question\" : \"question_due\"})\n",
    "c4courses_cl = c4courses_cl.drop(\"CourseName\", axis=1)\n",
    "c4courses_cl['cycle'] = 4\n",
    "\n",
    "# Questions\n",
    "c4questions_cl = c4questions.rename(columns={\"id\" : \"question_id\", \"timestamp\" : \"question_time\", \"user\" : \"user_id\"})\n",
    "c4questions_cl = c4questions_cl.drop(['top_rating_count', 'numAlts', 'altA', 'altB', 'altC', 'altD', 'altE', 'question', 'explanation'], axis=1) \n",
    "c4questions_cl['cycle'] = 4\n",
    "\n",
    "# UserCourses\n",
    "c4usercourses_cl = c4usercourses.rename(columns={'user' : 'user_id', 'Team' : 'team'}) "
   ]
  },
  {
   "cell_type": "markdown",
   "metadata": {},
   "source": [
    "We now have renamed and selected a subset of columns from the original data to make the upcoming analysis easier. There's also a new cycle column to indicate what cycle the data is from - this will be useful when merging the two dataframes.\n",
    "\n",
    "*Note: The original data is still intact if we want to use these columns later for whatever reason!*"
   ]
  },
  {
   "cell_type": "markdown",
   "metadata": {},
   "source": [
    "### Student question performance\n",
    "This subsection will examine if the ratings and marks students received for their self-authored questions from cycle 2 have improved in cycle 4. Cycle 4 saw students put into groups so if there is a strong improvement it could be attributed to group involvement.\n",
    "\n"
   ]
  },
  {
   "cell_type": "markdown",
   "metadata": {},
   "source": [
    "#### Grouping and aggregating:\n",
    "We're going to group the data for both cycles by user_id, and aggregate the avg_rating for each user. We will use the mean to aggregate the avg_rating data. This will allow us to view the average rating each student received across all of their submitted questions in both Cycle 2 and Cycle 4."
   ]
  },
  {
   "cell_type": "code",
   "execution_count": 58,
   "metadata": {},
   "outputs": [
    {
     "data": {
      "text/html": [
       "<div>\n",
       "<style scoped>\n",
       "    .dataframe tbody tr th:only-of-type {\n",
       "        vertical-align: middle;\n",
       "    }\n",
       "\n",
       "    .dataframe tbody tr th {\n",
       "        vertical-align: top;\n",
       "    }\n",
       "\n",
       "    .dataframe thead th {\n",
       "        text-align: right;\n",
       "    }\n",
       "</style>\n",
       "<table border=\"1\" class=\"dataframe\">\n",
       "  <thead>\n",
       "    <tr style=\"text-align: right;\">\n",
       "      <th></th>\n",
       "      <th>avg_rating_c2</th>\n",
       "      <th>avg_rating_c4</th>\n",
       "    </tr>\n",
       "    <tr>\n",
       "      <th>user_id</th>\n",
       "      <th></th>\n",
       "      <th></th>\n",
       "    </tr>\n",
       "  </thead>\n",
       "  <tbody>\n",
       "    <tr>\n",
       "      <th>269035</th>\n",
       "      <td>0.75</td>\n",
       "      <td>3.14</td>\n",
       "    </tr>\n",
       "    <tr>\n",
       "      <th>555695</th>\n",
       "      <td>2.80</td>\n",
       "      <td>3.88</td>\n",
       "    </tr>\n",
       "    <tr>\n",
       "      <th>555866</th>\n",
       "      <td>1.34</td>\n",
       "      <td>2.57</td>\n",
       "    </tr>\n",
       "    <tr>\n",
       "      <th>556210</th>\n",
       "      <td>2.00</td>\n",
       "      <td>1.25</td>\n",
       "    </tr>\n",
       "    <tr>\n",
       "      <th>556601</th>\n",
       "      <td>4.50</td>\n",
       "      <td>2.75</td>\n",
       "    </tr>\n",
       "  </tbody>\n",
       "</table>\n",
       "</div>"
      ],
      "text/plain": [
       "         avg_rating_c2  avg_rating_c4\n",
       "user_id                              \n",
       "269035            0.75           3.14\n",
       "555695            2.80           3.88\n",
       "555866            1.34           2.57\n",
       "556210            2.00           1.25\n",
       "556601            4.50           2.75"
      ]
     },
     "execution_count": 58,
     "metadata": {},
     "output_type": "execute_result"
    }
   ],
   "source": [
    "# Rounding to 2dp for readability reasons\n",
    "rating_by_user_2 = c2questions_cl[['user_id', 'avg_rating']].groupby('user_id').mean().round(2)         # Cycle 2 ratings\n",
    "rating_by_user_4 = c4questions_cl[['user_id', 'avg_rating']].groupby('user_id').mean().round(2)         # Cycle 4 ratings\n",
    "\n",
    "rating_by_user = rating_by_user_2.join(rating_by_user_4, how='inner', lsuffix=\"_c2\", rsuffix='_c4')\n",
    "rating_by_user.head()"
   ]
  },
  {
   "cell_type": "markdown",
   "metadata": {},
   "source": [
    "Above is the result of grouping by user_id and aggregating on the avg_rating.  We performed an inner join because we wanted to ensure that there were no students in cycle 2, who did not participate in cycle 4."
   ]
  },
  {
   "cell_type": "markdown",
   "metadata": {},
   "source": [
    "#### Investigating the change in avg_rating across cycles:\n",
    "The next step is to investigate the change in average_rating from cycle 2 to cycle 4 (by each student). \n",
    "\n",
    "We'll do this by creating columns to measure:\n",
    "- The difference between cycle 4 ratings and cycle 2 ratings\n",
    "- The % change between cycle 4 ratings and cycle 2 ratings"
   ]
  },
  {
   "cell_type": "code",
   "execution_count": 59,
   "metadata": {},
   "outputs": [
    {
     "data": {
      "text/html": [
       "<div>\n",
       "<style scoped>\n",
       "    .dataframe tbody tr th:only-of-type {\n",
       "        vertical-align: middle;\n",
       "    }\n",
       "\n",
       "    .dataframe tbody tr th {\n",
       "        vertical-align: top;\n",
       "    }\n",
       "\n",
       "    .dataframe thead th {\n",
       "        text-align: right;\n",
       "    }\n",
       "</style>\n",
       "<table border=\"1\" class=\"dataframe\">\n",
       "  <thead>\n",
       "    <tr style=\"text-align: right;\">\n",
       "      <th></th>\n",
       "      <th>avg_rating_c2</th>\n",
       "      <th>avg_rating_c4</th>\n",
       "      <th>change</th>\n",
       "      <th>percent_change</th>\n",
       "    </tr>\n",
       "    <tr>\n",
       "      <th>user_id</th>\n",
       "      <th></th>\n",
       "      <th></th>\n",
       "      <th></th>\n",
       "      <th></th>\n",
       "    </tr>\n",
       "  </thead>\n",
       "  <tbody>\n",
       "    <tr>\n",
       "      <th>269035</th>\n",
       "      <td>0.75</td>\n",
       "      <td>3.14</td>\n",
       "      <td>2.39</td>\n",
       "      <td>318.67</td>\n",
       "    </tr>\n",
       "    <tr>\n",
       "      <th>555695</th>\n",
       "      <td>2.80</td>\n",
       "      <td>3.88</td>\n",
       "      <td>1.08</td>\n",
       "      <td>38.57</td>\n",
       "    </tr>\n",
       "    <tr>\n",
       "      <th>555866</th>\n",
       "      <td>1.34</td>\n",
       "      <td>2.57</td>\n",
       "      <td>1.23</td>\n",
       "      <td>91.79</td>\n",
       "    </tr>\n",
       "    <tr>\n",
       "      <th>556210</th>\n",
       "      <td>2.00</td>\n",
       "      <td>1.25</td>\n",
       "      <td>-0.75</td>\n",
       "      <td>-37.50</td>\n",
       "    </tr>\n",
       "    <tr>\n",
       "      <th>556601</th>\n",
       "      <td>4.50</td>\n",
       "      <td>2.75</td>\n",
       "      <td>-1.75</td>\n",
       "      <td>-38.89</td>\n",
       "    </tr>\n",
       "  </tbody>\n",
       "</table>\n",
       "</div>"
      ],
      "text/plain": [
       "         avg_rating_c2  avg_rating_c4  change  percent_change\n",
       "user_id                                                      \n",
       "269035            0.75           3.14    2.39          318.67\n",
       "555695            2.80           3.88    1.08           38.57\n",
       "555866            1.34           2.57    1.23           91.79\n",
       "556210            2.00           1.25   -0.75          -37.50\n",
       "556601            4.50           2.75   -1.75          -38.89"
      ]
     },
     "metadata": {},
     "output_type": "display_data"
    },
    {
     "name": "stdout",
     "output_type": "stream",
     "text": [
      "The average change in rating across ALL users is 0.75 points.\n",
      "The average percentage change in ratings across ALL users is 32.46%.\n"
     ]
    }
   ],
   "source": [
    "rating_by_user['change'] = rating_by_user['avg_rating_c4'] - rating_by_user['avg_rating_c2']                      # Difference between cycle 4 and cycle 2\n",
    "rating_by_user['percent_change'] = (100 * (rating_by_user['change']) / rating_by_user['avg_rating_c2']).round(2)  # Percentage change between cycle 4 and cycle 2 - rounded to 2dp as calculated from columns with 2dp\n",
    "\n",
    "# Calculate the total percent_change - we need to each avg_rating column to do this!\n",
    "total_rating_c2 = rating_by_user['avg_rating_c2'].sum()\n",
    "total_rating_c4 = rating_by_user['avg_rating_c4'].sum()\n",
    "total_rating_change = total_rating_c4 - total_rating_c2\n",
    "total_rating_percent_change = 100*total_rating_change / total_rating_c2\n",
    "\n",
    "# Print out summary\n",
    "display(rating_by_user.head())\n",
    "print(\"The average change in rating across ALL users is {:.2f} points.\".format(rating_by_user['change'].mean()))\n",
    "print(\"The average percentage change in ratings across ALL users is {:.2f}%.\".format(total_rating_percent_change))"
   ]
  },
  {
   "cell_type": "code",
   "execution_count": 111,
   "metadata": {},
   "outputs": [
    {
     "data": {
      "text/plain": [
       "<AxesSubplot:title={'center':'Cycle 4'}, ylabel='Frequency'>"
      ]
     },
     "execution_count": 111,
     "metadata": {},
     "output_type": "execute_result"
    },
    {
     "data": {
      "image/png": "[encoded data removed]",
      "text/plain": [
       "<Figure size 648x288 with 2 Axes>"
      ]
     },
     "metadata": {
      "needs_background": "light"
     },
     "output_type": "display_data"
    }
   ],
   "source": [
    "fig, (ax, ax2) = plt.subplots(ncols=2, figsize=(9,4))\n",
    "rating_by_user['avg_rating_c2'].plot.hist(ax=ax, range=[0, 5], title='Cycle 2')\n",
    "rating_by_user['avg_rating_c4'].plot.hist(ax=ax2, range=[0, 5], title='Cycle 4')"
   ]
  },
  {
   "cell_type": "markdown",
   "metadata": {},
   "source": [
    "As output above from above:\n",
    "- Across all users, the average ratings increased by 0.75\n",
    "- Across all users, the average percentage change in ratings increased by 32.46%\n",
    "\n",
    "From these results it appears that group participation DOES affect indivual performance (on average) but let's look a little bit deeper. \n",
    "\n",
    "**What if we check the improvement for those students with an average rating less than 1.5 in cycle 1? Did it increase in cycle 4 once they were in a team?**"
   ]
  },
  {
   "cell_type": "markdown",
   "metadata": {},
   "source": [
    "The first step here is to filter our students based on their average mark. Then we'll compute the same average change in ratings as we did above, but for the students with weak cycle 2 scores."
   ]
  },
  {
   "cell_type": "code",
   "execution_count": 107,
   "metadata": {},
   "outputs": [
    {
     "data": {
      "text/html": [
       "<div>\n",
       "<style scoped>\n",
       "    .dataframe tbody tr th:only-of-type {\n",
       "        vertical-align: middle;\n",
       "    }\n",
       "\n",
       "    .dataframe tbody tr th {\n",
       "        vertical-align: top;\n",
       "    }\n",
       "\n",
       "    .dataframe thead th {\n",
       "        text-align: right;\n",
       "    }\n",
       "</style>\n",
       "<table border=\"1\" class=\"dataframe\">\n",
       "  <thead>\n",
       "    <tr style=\"text-align: right;\">\n",
       "      <th></th>\n",
       "      <th>avg_rating_c2</th>\n",
       "      <th>avg_rating_c4</th>\n",
       "      <th>change</th>\n",
       "      <th>percent_change</th>\n",
       "    </tr>\n",
       "    <tr>\n",
       "      <th>user_id</th>\n",
       "      <th></th>\n",
       "      <th></th>\n",
       "      <th></th>\n",
       "      <th></th>\n",
       "    </tr>\n",
       "  </thead>\n",
       "  <tbody>\n",
       "    <tr>\n",
       "      <th>269035</th>\n",
       "      <td>0.75</td>\n",
       "      <td>3.14</td>\n",
       "      <td>2.39</td>\n",
       "      <td>318.67</td>\n",
       "    </tr>\n",
       "    <tr>\n",
       "      <th>555866</th>\n",
       "      <td>1.34</td>\n",
       "      <td>2.57</td>\n",
       "      <td>1.23</td>\n",
       "      <td>91.79</td>\n",
       "    </tr>\n",
       "    <tr>\n",
       "      <th>586755</th>\n",
       "      <td>1.16</td>\n",
       "      <td>3.97</td>\n",
       "      <td>2.81</td>\n",
       "      <td>242.24</td>\n",
       "    </tr>\n",
       "    <tr>\n",
       "      <th>635996</th>\n",
       "      <td>0.88</td>\n",
       "      <td>1.93</td>\n",
       "      <td>1.05</td>\n",
       "      <td>119.32</td>\n",
       "    </tr>\n",
       "    <tr>\n",
       "      <th>636008</th>\n",
       "      <td>1.43</td>\n",
       "      <td>3.32</td>\n",
       "      <td>1.89</td>\n",
       "      <td>132.17</td>\n",
       "    </tr>\n",
       "  </tbody>\n",
       "</table>\n",
       "</div>"
      ],
      "text/plain": [
       "         avg_rating_c2  avg_rating_c4  change  percent_change\n",
       "user_id                                                      \n",
       "269035            0.75           3.14    2.39          318.67\n",
       "555866            1.34           2.57    1.23           91.79\n",
       "586755            1.16           3.97    2.81          242.24\n",
       "635996            0.88           1.93    1.05          119.32\n",
       "636008            1.43           3.32    1.89          132.17"
      ]
     },
     "metadata": {},
     "output_type": "display_data"
    },
    {
     "name": "stdout",
     "output_type": "stream",
     "text": [
      "The average change in rating for users with a cycle 2 mark < 1.5 is 1.97 points.\n",
      "The average percentage change in ratings for users with a cycle 2 mark < 1.5 is 185.77%.\n"
     ]
    }
   ],
   "source": [
    "low_performer_rating = rating_by_user[rating_by_user['avg_rating_c2'] <= 1.5] # Filter students with mark less than 1.5 in cycle 2\n",
    "\n",
    "# Caluclate average percent_change for all students with cycle 2 marks <= 1.5 as we did for ALL students previously\n",
    "low_performer_rating_c2 = low_performer_rating['avg_rating_c2'].sum()\n",
    "low_performer_rating_c4 = low_performer_rating['avg_rating_c4'].sum()\n",
    "low_performer_rating_change = low_performer_rating_c4 - low_performer_rating_c2\n",
    "low_performer_rating_percent_change = 100*low_performer_rating_change / low_performer_rating_c2\n",
    "\n",
    "display(low_performer_rating.head())\n",
    "print(\"The average change in rating for users with a cycle 2 mark < 1.5 is {:.2f} points.\".format(low_performer_rating['change'].mean()))\n",
    "print(\"The average percentage change in ratings for users with a cycle 2 mark < 1.5 is {:.2f}%.\".format(low_performer_rating_percent_change))"
   ]
  },
  {
   "cell_type": "code",
   "execution_count": 119,
   "metadata": {},
   "outputs": [
    {
     "data": {
      "text/plain": [
       "<AxesSubplot:title={'center':'Cycle 4 marks (cycle 2 low performers)'}, ylabel='Frequency'>"
      ]
     },
     "execution_count": 119,
     "metadata": {},
     "output_type": "execute_result"
    },
    {
     "data": {
      "image/png": "[encoded data removed]",
      "text/plain": [
       "<Figure size 648x288 with 2 Axes>"
      ]
     },
     "metadata": {
      "needs_background": "light"
     },
     "output_type": "display_data"
    }
   ],
   "source": [
    "fig, (ax, ax2) = plt.subplots(ncols=2, figsize=(9,4))\n",
    "low_performer_rating['avg_rating_c2'].plot.hist(ax=ax, range=[0, 5], title='Cycle 2 marks (cycle 2 low performers)')\n",
    "low_performer_rating['avg_rating_c4'].plot.hist(ax=ax2, range=[0, 5], title='Cycle 4 marks (cycle 2 low performers)')"
   ]
  },
  {
   "cell_type": "markdown",
   "metadata": {},
   "source": [
    "As output above above:\n",
    "- Low performing users in cycle 2 had their average ratings increased by 1.97\n",
    "- Low performing users in cycle 2 saw their cycle 4 ratings increase by 185.77%\n",
    "\n",
    "This shows that the low performing students saw substantial increases in their avg_rating for their questions in cycle 4. It is likely that this is due to group participation, but there may be other confounding factors."
   ]
  },
  {
   "cell_type": "markdown",
   "metadata": {},
   "source": [
    "#### Student performance conclusions:\n",
    "We can draw some main conclusions from our analysis of student performance.\n",
    "- In cycle 2 when averaging all students, they performed better in cycle 4\n",
    "- If we only consider students with an avg_rating less than 1.5, they saw much more significant changes than the average students\n",
    "- It is possible that this is due to group involvement, although it is too difficult to say for certain due to multiple confounding factors (some which are not even represented in the data such as external factors affecting individual students)"
   ]
  },
  {
   "cell_type": "code",
   "execution_count": 120,
   "metadata": {},
   "outputs": [
    {
     "ename": "KeyError",
     "evalue": "\"['academic_mark'] not in index\"",
     "output_type": "error",
     "traceback": [
      "\u001b[1;31m---------------------------------------------------------------------------\u001b[0m",
      "\u001b[1;31mKeyError\u001b[0m                                  Traceback (most recent call last)",
      "\u001b[1;32m<ipython-input-120-8f4773eecc7d>\u001b[0m in \u001b[0;36m<module>\u001b[1;34m\u001b[0m\n\u001b[1;32m----> 1\u001b[1;33m \u001b[0mrating_by_user_2\u001b[0m \u001b[1;33m=\u001b[0m \u001b[0mc2questions_cl\u001b[0m\u001b[1;33m[\u001b[0m\u001b[1;33m[\u001b[0m\u001b[1;34m'user_id'\u001b[0m\u001b[1;33m,\u001b[0m \u001b[1;34m'academic_mark'\u001b[0m\u001b[1;33m]\u001b[0m\u001b[1;33m]\u001b[0m\u001b[1;33m.\u001b[0m\u001b[0mgroupby\u001b[0m\u001b[1;33m(\u001b[0m\u001b[1;34m'user_id'\u001b[0m\u001b[1;33m)\u001b[0m\u001b[1;33m.\u001b[0m\u001b[0mmean\u001b[0m\u001b[1;33m(\u001b[0m\u001b[1;33m)\u001b[0m\u001b[1;33m.\u001b[0m\u001b[0mround\u001b[0m\u001b[1;33m(\u001b[0m\u001b[1;36m2\u001b[0m\u001b[1;33m)\u001b[0m         \u001b[1;31m# Cycle 2 ratings\u001b[0m\u001b[1;33m\u001b[0m\u001b[1;33m\u001b[0m\u001b[0m\n\u001b[0m\u001b[0;32m      2\u001b[0m \u001b[0mrating_by_user_4\u001b[0m \u001b[1;33m=\u001b[0m \u001b[0mc4questions_cl\u001b[0m\u001b[1;33m[\u001b[0m\u001b[1;33m[\u001b[0m\u001b[1;34m'user_id'\u001b[0m\u001b[1;33m,\u001b[0m \u001b[1;34m'academic_mark'\u001b[0m\u001b[1;33m]\u001b[0m\u001b[1;33m]\u001b[0m\u001b[1;33m.\u001b[0m\u001b[0mgroupby\u001b[0m\u001b[1;33m(\u001b[0m\u001b[1;34m'user_id'\u001b[0m\u001b[1;33m)\u001b[0m\u001b[1;33m.\u001b[0m\u001b[0mmean\u001b[0m\u001b[1;33m(\u001b[0m\u001b[1;33m)\u001b[0m\u001b[1;33m.\u001b[0m\u001b[0mround\u001b[0m\u001b[1;33m(\u001b[0m\u001b[1;36m2\u001b[0m\u001b[1;33m)\u001b[0m         \u001b[1;31m# Cycle 4 ratings\u001b[0m\u001b[1;33m\u001b[0m\u001b[1;33m\u001b[0m\u001b[0m\n\u001b[0;32m      3\u001b[0m \u001b[1;33m\u001b[0m\u001b[0m\n",
      "\u001b[1;32m~\\miniconda3\\lib\\site-packages\\pandas\\core\\frame.py\u001b[0m in \u001b[0;36m__getitem__\u001b[1;34m(self, key)\u001b[0m\n\u001b[0;32m   2906\u001b[0m             \u001b[1;32mif\u001b[0m \u001b[0mis_iterator\u001b[0m\u001b[1;33m(\u001b[0m\u001b[0mkey\u001b[0m\u001b[1;33m)\u001b[0m\u001b[1;33m:\u001b[0m\u001b[1;33m\u001b[0m\u001b[1;33m\u001b[0m\u001b[0m\n\u001b[0;32m   2907\u001b[0m                 \u001b[0mkey\u001b[0m \u001b[1;33m=\u001b[0m \u001b[0mlist\u001b[0m\u001b[1;33m(\u001b[0m\u001b[0mkey\u001b[0m\u001b[1;33m)\u001b[0m\u001b[1;33m\u001b[0m\u001b[1;33m\u001b[0m\u001b[0m\n\u001b[1;32m-> 2908\u001b[1;33m             \u001b[0mindexer\u001b[0m \u001b[1;33m=\u001b[0m \u001b[0mself\u001b[0m\u001b[1;33m.\u001b[0m\u001b[0mloc\u001b[0m\u001b[1;33m.\u001b[0m\u001b[0m_get_listlike_indexer\u001b[0m\u001b[1;33m(\u001b[0m\u001b[0mkey\u001b[0m\u001b[1;33m,\u001b[0m \u001b[0maxis\u001b[0m\u001b[1;33m=\u001b[0m\u001b[1;36m1\u001b[0m\u001b[1;33m,\u001b[0m \u001b[0mraise_missing\u001b[0m\u001b[1;33m=\u001b[0m\u001b[1;32mTrue\u001b[0m\u001b[1;33m)\u001b[0m\u001b[1;33m[\u001b[0m\u001b[1;36m1\u001b[0m\u001b[1;33m]\u001b[0m\u001b[1;33m\u001b[0m\u001b[1;33m\u001b[0m\u001b[0m\n\u001b[0m\u001b[0;32m   2909\u001b[0m \u001b[1;33m\u001b[0m\u001b[0m\n\u001b[0;32m   2910\u001b[0m         \u001b[1;31m# take() does not accept boolean indexers\u001b[0m\u001b[1;33m\u001b[0m\u001b[1;33m\u001b[0m\u001b[1;33m\u001b[0m\u001b[0m\n",
      "\u001b[1;32m~\\miniconda3\\lib\\site-packages\\pandas\\core\\indexing.py\u001b[0m in \u001b[0;36m_get_listlike_indexer\u001b[1;34m(self, key, axis, raise_missing)\u001b[0m\n\u001b[0;32m   1252\u001b[0m             \u001b[0mkeyarr\u001b[0m\u001b[1;33m,\u001b[0m \u001b[0mindexer\u001b[0m\u001b[1;33m,\u001b[0m \u001b[0mnew_indexer\u001b[0m \u001b[1;33m=\u001b[0m \u001b[0max\u001b[0m\u001b[1;33m.\u001b[0m\u001b[0m_reindex_non_unique\u001b[0m\u001b[1;33m(\u001b[0m\u001b[0mkeyarr\u001b[0m\u001b[1;33m)\u001b[0m\u001b[1;33m\u001b[0m\u001b[1;33m\u001b[0m\u001b[0m\n\u001b[0;32m   1253\u001b[0m \u001b[1;33m\u001b[0m\u001b[0m\n\u001b[1;32m-> 1254\u001b[1;33m         \u001b[0mself\u001b[0m\u001b[1;33m.\u001b[0m\u001b[0m_validate_read_indexer\u001b[0m\u001b[1;33m(\u001b[0m\u001b[0mkeyarr\u001b[0m\u001b[1;33m,\u001b[0m \u001b[0mindexer\u001b[0m\u001b[1;33m,\u001b[0m \u001b[0maxis\u001b[0m\u001b[1;33m,\u001b[0m \u001b[0mraise_missing\u001b[0m\u001b[1;33m=\u001b[0m\u001b[0mraise_missing\u001b[0m\u001b[1;33m)\u001b[0m\u001b[1;33m\u001b[0m\u001b[1;33m\u001b[0m\u001b[0m\n\u001b[0m\u001b[0;32m   1255\u001b[0m         \u001b[1;32mreturn\u001b[0m \u001b[0mkeyarr\u001b[0m\u001b[1;33m,\u001b[0m \u001b[0mindexer\u001b[0m\u001b[1;33m\u001b[0m\u001b[1;33m\u001b[0m\u001b[0m\n\u001b[0;32m   1256\u001b[0m \u001b[1;33m\u001b[0m\u001b[0m\n",
      "\u001b[1;32m~\\miniconda3\\lib\\site-packages\\pandas\\core\\indexing.py\u001b[0m in \u001b[0;36m_validate_read_indexer\u001b[1;34m(self, key, indexer, axis, raise_missing)\u001b[0m\n\u001b[0;32m   1302\u001b[0m             \u001b[1;32mif\u001b[0m \u001b[0mraise_missing\u001b[0m\u001b[1;33m:\u001b[0m\u001b[1;33m\u001b[0m\u001b[1;33m\u001b[0m\u001b[0m\n\u001b[0;32m   1303\u001b[0m                 \u001b[0mnot_found\u001b[0m \u001b[1;33m=\u001b[0m \u001b[0mlist\u001b[0m\u001b[1;33m(\u001b[0m\u001b[0mset\u001b[0m\u001b[1;33m(\u001b[0m\u001b[0mkey\u001b[0m\u001b[1;33m)\u001b[0m \u001b[1;33m-\u001b[0m \u001b[0mset\u001b[0m\u001b[1;33m(\u001b[0m\u001b[0max\u001b[0m\u001b[1;33m)\u001b[0m\u001b[1;33m)\u001b[0m\u001b[1;33m\u001b[0m\u001b[1;33m\u001b[0m\u001b[0m\n\u001b[1;32m-> 1304\u001b[1;33m                 \u001b[1;32mraise\u001b[0m \u001b[0mKeyError\u001b[0m\u001b[1;33m(\u001b[0m\u001b[1;34mf\"{not_found} not in index\"\u001b[0m\u001b[1;33m)\u001b[0m\u001b[1;33m\u001b[0m\u001b[1;33m\u001b[0m\u001b[0m\n\u001b[0m\u001b[0;32m   1305\u001b[0m \u001b[1;33m\u001b[0m\u001b[0m\n\u001b[0;32m   1306\u001b[0m             \u001b[1;31m# we skip the warning on Categorical\u001b[0m\u001b[1;33m\u001b[0m\u001b[1;33m\u001b[0m\u001b[1;33m\u001b[0m\u001b[0m\n",
      "\u001b[1;31mKeyError\u001b[0m: \"['academic_mark'] not in index\""
     ]
    }
   ],
   "source": [
    "mark_by_user_2 = c2questions_cl[['user_id', 'academic_mark']].groupby('user_id').mean().round(2)         # Cycle 2 ratings\n",
    "mark_by_user_4 = c4questions_cl[['user_id', 'academic_mark']].groupby('user_id').mean().round(2)         # Cycle 4 ratings\n",
    "\n"
   ]
  },
  {
   "cell_type": "markdown",
   "metadata": {},
   "source": [
    "### Student Motivation\n",
    "This subsection will examine if the question submission date and marks students received for their self-authored questions from cycle 2 have improved in cycle 4. As in the previous subsection, cycle 4 saw students put into groups so if there is a strong improvement it could be attributed to group involvement.\n",
    "\n"
   ]
  },
  {
   "cell_type": "markdown",
   "metadata": {},
   "source": [
    "#### Merging data and calculating date column:\n",
    "The first thing we need to do is to merge the questions data with the courses data so that we have access to the due date for student questions (this varies by the course the student is a part of). After merging the two dataframes together, we will create a new column that calculates the number of days from the start of the cycle that a question was posted. This should give an indication of how motivated a student is (smaller value is better)."
   ]
  },
  {
   "cell_type": "code",
   "execution_count": 60,
   "metadata": {},
   "outputs": [
    {
     "data": {
      "text/html": [
       "<div>\n",
       "<style scoped>\n",
       "    .dataframe tbody tr th:only-of-type {\n",
       "        vertical-align: middle;\n",
       "    }\n",
       "\n",
       "    .dataframe tbody tr th {\n",
       "        vertical-align: top;\n",
       "    }\n",
       "\n",
       "    .dataframe thead th {\n",
       "        text-align: right;\n",
       "    }\n",
       "</style>\n",
       "<table border=\"1\" class=\"dataframe\">\n",
       "  <thead>\n",
       "    <tr style=\"text-align: right;\">\n",
       "      <th></th>\n",
       "      <th>cycle_start</th>\n",
       "      <th>question_time</th>\n",
       "      <th>user_id</th>\n",
       "      <th>days_from_start</th>\n",
       "    </tr>\n",
       "  </thead>\n",
       "  <tbody>\n",
       "    <tr>\n",
       "      <th>0</th>\n",
       "      <td>2020-03-23</td>\n",
       "      <td>2020-03-26 19:10:48</td>\n",
       "      <td>636022</td>\n",
       "      <td>3</td>\n",
       "    </tr>\n",
       "    <tr>\n",
       "      <th>1</th>\n",
       "      <td>2020-03-23</td>\n",
       "      <td>2020-03-26 20:54:26</td>\n",
       "      <td>636011</td>\n",
       "      <td>3</td>\n",
       "    </tr>\n",
       "    <tr>\n",
       "      <th>2</th>\n",
       "      <td>2020-03-23</td>\n",
       "      <td>2020-03-26 21:46:58</td>\n",
       "      <td>635990</td>\n",
       "      <td>3</td>\n",
       "    </tr>\n",
       "    <tr>\n",
       "      <th>3</th>\n",
       "      <td>2020-03-23</td>\n",
       "      <td>2020-03-27 01:07:25</td>\n",
       "      <td>636008</td>\n",
       "      <td>4</td>\n",
       "    </tr>\n",
       "    <tr>\n",
       "      <th>4</th>\n",
       "      <td>2020-03-23</td>\n",
       "      <td>2020-03-27 01:25:01</td>\n",
       "      <td>636014</td>\n",
       "      <td>4</td>\n",
       "    </tr>\n",
       "  </tbody>\n",
       "</table>\n",
       "</div>"
      ],
      "text/plain": [
       "  cycle_start       question_time  user_id  days_from_start\n",
       "0  2020-03-23 2020-03-26 19:10:48   636022                3\n",
       "1  2020-03-23 2020-03-26 20:54:26   636011                3\n",
       "2  2020-03-23 2020-03-26 21:46:58   635990                3\n",
       "3  2020-03-23 2020-03-27 01:07:25   636008                4\n",
       "4  2020-03-23 2020-03-27 01:25:01   636014                4"
      ]
     },
     "execution_count": 60,
     "metadata": {},
     "output_type": "execute_result"
    }
   ],
   "source": [
    "# Merge data\n",
    "c2courses_deadline = c2courses_cl.merge(c2questions_cl, on='course_id')\n",
    "c4courses_deadline = c4courses_cl.merge(c4questions_cl, on='course_id')\n",
    "\n",
    "# Create a subset dataframe with the columns we need and convert date to correct type\n",
    "c2courses_delta = c2courses_deadline[['cycle_start', 'question_time', 'user_id']].astype({\"question_time\" : \"datetime64\", \"cycle_start\" : \"datetime64\"})\n",
    "c4courses_delta = c4courses_deadline[['cycle_start', 'question_time', 'user_id']].astype({\"question_time\" : \"datetime64\", \"cycle_start\" : \"datetime64\"})\n",
    "\n",
    "c2courses_delta['days_from_start'] = (c2courses_delta['question_time'] - c2courses_delta['cycle_start']).dt.days\n",
    "c4courses_delta['days_from_start'] = (c4courses_delta['question_time'] - c4courses_delta['cycle_start']).dt.days\n",
    "\n",
    "c2courses_delta.head()"
   ]
  },
  {
   "cell_type": "markdown",
   "metadata": {},
   "source": [
    "Now we have the number of days between the start of the cycle and when the question was answered for each question that was asked. \n",
    "\n",
    "#### Grouping and aggregating\n",
    "The next step is to aggregate the data so we know the average number of days each student submitted from the start of the cycle."
   ]
  },
  {
   "cell_type": "code",
   "execution_count": 61,
   "metadata": {},
   "outputs": [
    {
     "data": {
      "text/html": [
       "<div>\n",
       "<style scoped>\n",
       "    .dataframe tbody tr th:only-of-type {\n",
       "        vertical-align: middle;\n",
       "    }\n",
       "\n",
       "    .dataframe tbody tr th {\n",
       "        vertical-align: top;\n",
       "    }\n",
       "\n",
       "    .dataframe thead th {\n",
       "        text-align: right;\n",
       "    }\n",
       "</style>\n",
       "<table border=\"1\" class=\"dataframe\">\n",
       "  <thead>\n",
       "    <tr style=\"text-align: right;\">\n",
       "      <th></th>\n",
       "      <th>days_from_start_c2</th>\n",
       "      <th>days_from_start_c4</th>\n",
       "    </tr>\n",
       "    <tr>\n",
       "      <th>user_id</th>\n",
       "      <th></th>\n",
       "      <th></th>\n",
       "    </tr>\n",
       "  </thead>\n",
       "  <tbody>\n",
       "    <tr>\n",
       "      <th>269035</th>\n",
       "      <td>6.0</td>\n",
       "      <td>4.0</td>\n",
       "    </tr>\n",
       "    <tr>\n",
       "      <th>555695</th>\n",
       "      <td>6.0</td>\n",
       "      <td>4.0</td>\n",
       "    </tr>\n",
       "    <tr>\n",
       "      <th>555866</th>\n",
       "      <td>5.0</td>\n",
       "      <td>7.0</td>\n",
       "    </tr>\n",
       "    <tr>\n",
       "      <th>556210</th>\n",
       "      <td>5.0</td>\n",
       "      <td>7.0</td>\n",
       "    </tr>\n",
       "    <tr>\n",
       "      <th>556601</th>\n",
       "      <td>6.0</td>\n",
       "      <td>5.0</td>\n",
       "    </tr>\n",
       "  </tbody>\n",
       "</table>\n",
       "</div>"
      ],
      "text/plain": [
       "         days_from_start_c2  days_from_start_c4\n",
       "user_id                                        \n",
       "269035                  6.0                 4.0\n",
       "555695                  6.0                 4.0\n",
       "555866                  5.0                 7.0\n",
       "556210                  5.0                 7.0\n",
       "556601                  6.0                 5.0"
      ]
     },
     "execution_count": 61,
     "metadata": {},
     "output_type": "execute_result"
    }
   ],
   "source": [
    "days_by_user_2 = c2courses_delta[['days_from_start', 'user_id']].groupby('user_id').mean().round(0)\n",
    "days_by_user_4 = c4courses_delta[['days_from_start', 'user_id']].groupby('user_id').mean().round(0)\n",
    "\n",
    "days_by_user = days_by_user_2.join(days_by_user_4, how='inner', lsuffix=\"_c2\", rsuffix='_c4')\n",
    "days_by_user.head()"
   ]
  },
  {
   "cell_type": "markdown",
   "metadata": {},
   "source": [
    "With this new dataframe, we will calculate two new columns to measure the differences between cycle 2 and cycle 4.\n",
    "\n",
    "Similarly to before, these two columns will be:\n",
    "- The difference between cycle 4 delay and cycle 2 delay\n",
    "- The % change between cycle 4 delay and cycle 2 delay"
   ]
  },
  {
   "cell_type": "code",
   "execution_count": 63,
   "metadata": {},
   "outputs": [
    {
     "data": {
      "text/html": [
       "<div>\n",
       "<style scoped>\n",
       "    .dataframe tbody tr th:only-of-type {\n",
       "        vertical-align: middle;\n",
       "    }\n",
       "\n",
       "    .dataframe tbody tr th {\n",
       "        vertical-align: top;\n",
       "    }\n",
       "\n",
       "    .dataframe thead th {\n",
       "        text-align: right;\n",
       "    }\n",
       "</style>\n",
       "<table border=\"1\" class=\"dataframe\">\n",
       "  <thead>\n",
       "    <tr style=\"text-align: right;\">\n",
       "      <th></th>\n",
       "      <th>days_from_start_c2</th>\n",
       "      <th>days_from_start_c4</th>\n",
       "      <th>change</th>\n",
       "      <th>percent_change</th>\n",
       "    </tr>\n",
       "    <tr>\n",
       "      <th>user_id</th>\n",
       "      <th></th>\n",
       "      <th></th>\n",
       "      <th></th>\n",
       "      <th></th>\n",
       "    </tr>\n",
       "  </thead>\n",
       "  <tbody>\n",
       "    <tr>\n",
       "      <th>269035</th>\n",
       "      <td>6.0</td>\n",
       "      <td>4.0</td>\n",
       "      <td>-2.0</td>\n",
       "      <td>-33.33</td>\n",
       "    </tr>\n",
       "    <tr>\n",
       "      <th>555695</th>\n",
       "      <td>6.0</td>\n",
       "      <td>4.0</td>\n",
       "      <td>-2.0</td>\n",
       "      <td>-33.33</td>\n",
       "    </tr>\n",
       "    <tr>\n",
       "      <th>555866</th>\n",
       "      <td>5.0</td>\n",
       "      <td>7.0</td>\n",
       "      <td>2.0</td>\n",
       "      <td>40.00</td>\n",
       "    </tr>\n",
       "    <tr>\n",
       "      <th>556210</th>\n",
       "      <td>5.0</td>\n",
       "      <td>7.0</td>\n",
       "      <td>2.0</td>\n",
       "      <td>40.00</td>\n",
       "    </tr>\n",
       "    <tr>\n",
       "      <th>556601</th>\n",
       "      <td>6.0</td>\n",
       "      <td>5.0</td>\n",
       "      <td>-1.0</td>\n",
       "      <td>-16.67</td>\n",
       "    </tr>\n",
       "  </tbody>\n",
       "</table>\n",
       "</div>"
      ],
      "text/plain": [
       "         days_from_start_c2  days_from_start_c4  change  percent_change\n",
       "user_id                                                                \n",
       "269035                  6.0                 4.0    -2.0          -33.33\n",
       "555695                  6.0                 4.0    -2.0          -33.33\n",
       "555866                  5.0                 7.0     2.0           40.00\n",
       "556210                  5.0                 7.0     2.0           40.00\n",
       "556601                  6.0                 5.0    -1.0          -16.67"
      ]
     },
     "metadata": {},
     "output_type": "display_data"
    },
    {
     "name": "stdout",
     "output_type": "stream",
     "text": [
      "The average change in delay across ALL users is -0.32 days.\n",
      "The average percentage change in delays across ALL users is -5.45%.\n"
     ]
    }
   ],
   "source": [
    "days_by_user['change'] = days_by_user['days_from_start_c4'] - days_by_user['days_from_start_c2']                      # Difference between cycle 4 and cycle 2\n",
    "days_by_user['percent_change'] = (100 * days_by_user['change'] / days_by_user['days_from_start_c2']).round(2)  # Percentage change between cycle 4 and cycle 2 - rounded to 2dp as calculated from columns with 2dp\n",
    "\n",
    "# Calculate the total percent_change - we need to each avg_rating column to do this!\n",
    "total_days_c2 = days_by_user['days_from_start_c2'].sum()\n",
    "total_days_c4 = days_by_user['days_from_start_c4'].sum()\n",
    "total_days_change = total_days_c4 - total_days_c2\n",
    "total_days_percent_change = 100*total_days_change / total_days_c2\n",
    " \n",
    "# Print out summary\n",
    "display(days_by_user.head())\n",
    "print(\"The average change in delay across ALL users is {:.2f} days.\".format(days_by_user['change'].mean()))\n",
    "print(\"The average percentage change in delays across ALL users is {:.2f}%.\".format(total_days_percent_change))"
   ]
  },
  {
   "cell_type": "code",
   "execution_count": 89,
   "metadata": {},
   "outputs": [
    {
     "data": {
      "text/plain": [
       "<AxesSubplot:title={'center':'Cycle 4'}, ylabel='Frequency'>"
      ]
     },
     "execution_count": 89,
     "metadata": {},
     "output_type": "execute_result"
    },
    {
     "data": {
      "image/png": "[encoded data removed]",
      "text/plain": [
       "<Figure size 648x288 with 2 Axes>"
      ]
     },
     "metadata": {
      "needs_background": "light"
     },
     "output_type": "display_data"
    }
   ],
   "source": [
    "fig, (ax, ax2) = plt.subplots(ncols=2, figsize=(9,4))\n",
    "days_by_user['days_from_start_c2'].plot.hist(ax=ax, title='Cycle 2')\n",
    "days_by_user['days_from_start_c4'].plot.hist(ax=ax2, title='Cycle 4')"
   ]
  }
 ],
 "metadata": {
  "colab": {
   "collapsed_sections": [],
   "name": "Product Notebook",
   "provenance": [],
   "toc_visible": true
  },
  "kernelspec": {
   "display_name": "Python 3",
   "language": "python",
   "name": "python3"
  },
  "language_info": {
   "codemirror_mode": {
    "name": "ipython",
    "version": 3
   },
   "file_extension": ".py",
   "mimetype": "text/x-python",
   "name": "python",
   "nbconvert_exporter": "python",
   "pygments_lexer": "ipython3",
   "version": "3.8.3"
  }
 },
 "nbformat": 4,
 "nbformat_minor": 4
}

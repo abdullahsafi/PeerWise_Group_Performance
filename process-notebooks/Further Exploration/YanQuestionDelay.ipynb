{
  "nbformat": 4,
  "nbformat_minor": 0,
  "metadata": {
    "colab": {
      "name": "YanQuestionDelay",
      "provenance": [],
      "collapsed_sections": []
    },
    "kernelspec": {
      "name": "python3",
      "display_name": "Python 3"
    }
  },
  "cells": [
    {
      "cell_type": "code",
      "metadata": {
        "id": "kTc40VYgrnlM",
        "outputId": "5b89b9a4-6607-4734-bec9-c170a2bd284a",
        "colab": {
          "base_uri": "https://localhost:8080/"
        }
      },
      "source": [
        "from google.colab import drive\n",
        "drive.mount('/content/drive')"
      ],
      "execution_count": null,
      "outputs": [
        {
          "output_type": "stream",
          "text": [
            "Drive already mounted at /content/drive; to attempt to forcibly remount, call drive.mount(\"/content/drive\", force_remount=True).\n"
          ],
          "name": "stdout"
        }
      ]
    },
    {
      "cell_type": "code",
      "metadata": {
        "id": "h8NOsNJuibr8"
      },
      "source": [
        "import pandas as pd \n",
        "import numpy as np"
      ],
      "execution_count": null,
      "outputs": []
    },
    {
      "cell_type": "code",
      "metadata": {
        "id": "R6TEZdubsbwM"
      },
      "source": [
        "# Courses\n",
        "c1courses = pd.read_excel(\"../content/C1 Courses.xlsx\")\n",
        "c2courses = pd.read_excel(\"../content/C2 Courses.xlsx\")\n",
        "c4courses = pd.read_excel(\"../content/C4Courses.xlsx\")\n",
        "\n",
        "# \n",
        "c1questions = pd.read_excel(\"../content/C1 Questions.xlsx\")\n",
        "c2questions = pd.read_excel(\"../content/C2 Questions.xlsx\")\n",
        "c4questions = pd.read_excel(\"../content/C4Questions.xlsx\")\n",
        "c4usercourses = pd.read_excel(\"../content/C4UsersCourses.xlsx\")"
      ],
      "execution_count": null,
      "outputs": []
    },
    {
      "cell_type": "code",
      "metadata": {
        "id": "6an8PK0fuCSO",
        "outputId": "a4933773-488d-49ee-ae55-1654ce7a740d",
        "colab": {
          "base_uri": "https://localhost:8080/"
        }
      },
      "source": [
        "print(\"c1courses columns:\", c1courses.columns.to_list())\n",
        "print(\"c1questions columns:\", c1questions.columns.to_list())"
      ],
      "execution_count": null,
      "outputs": [
        {
          "output_type": "stream",
          "text": [
            "c1courses columns: ['CourseID', 'StartDate', 'Deadline_Cmmnt', 'Deadline_Qustn']\n",
            "c1questions columns: ['id', 'course_id', 'timestamp', 'user', 'avg_rating', 'total_responses', 'total_ratings', 'top_rating_count', 'avg_difficulty', 'total_comments', 'deleted', 'answer', 'numAlts', 'question', 'altA', 'altB', 'altC', 'altD', 'altE', 'explanation']\n"
          ],
          "name": "stdout"
        }
      ]
    },
    {
      "cell_type": "markdown",
      "metadata": {
        "id": "MRkjG2fy-uCh"
      },
      "source": [
        "Cycle 1"
      ]
    },
    {
      "cell_type": "code",
      "metadata": {
        "id": "OQsrfJMfuodj"
      },
      "source": [
        "c1courses.rename(columns = {\"CourseID\" : \"course_id\", \"StartDate\" : \"cycle_start\", \"Deadline_Cmmnt\" : \"comment_due\", \"Deadline_Qustn\" : \"question_due\"}, inplace = True)\n",
        "c1questions.rename(columns = {\"id\" : \"question_id\", \"timestamp\" : \"question_time\", \"user\" : \"user_id\"}, inplace = True)"
      ],
      "execution_count": null,
      "outputs": []
    },
    {
      "cell_type": "code",
      "metadata": {
        "id": "l-4SAs0q3KGq",
        "outputId": "93d95bd5-9d51-4795-e346-9f41f2ceb880",
        "colab": {
          "base_uri": "https://localhost:8080/",
          "height": 459
        }
      },
      "source": [
        "c1questions = c1questions.astype({\"course_id\" : \"int64\", \"question_time\" : 'datetime64'})\n",
        "c1courses = c1courses.convert_dtypes()\n",
        "\n",
        "c1combined = c1courses.merge(c1questions, on = \"course_id\")\n",
        "c1combined.head()"
      ],
      "execution_count": null,
      "outputs": [
        {
          "output_type": "execute_result",
          "data": {
            "text/html": [
              "<div>\n",
              "<style scoped>\n",
              "    .dataframe tbody tr th:only-of-type {\n",
              "        vertical-align: middle;\n",
              "    }\n",
              "\n",
              "    .dataframe tbody tr th {\n",
              "        vertical-align: top;\n",
              "    }\n",
              "\n",
              "    .dataframe thead th {\n",
              "        text-align: right;\n",
              "    }\n",
              "</style>\n",
              "<table border=\"1\" class=\"dataframe\">\n",
              "  <thead>\n",
              "    <tr style=\"text-align: right;\">\n",
              "      <th></th>\n",
              "      <th>course_id</th>\n",
              "      <th>cycle_start</th>\n",
              "      <th>comment_due</th>\n",
              "      <th>question_due</th>\n",
              "      <th>question_id</th>\n",
              "      <th>question_time</th>\n",
              "      <th>user_id</th>\n",
              "      <th>avg_rating</th>\n",
              "      <th>total_responses</th>\n",
              "      <th>total_ratings</th>\n",
              "      <th>top_rating_count</th>\n",
              "      <th>avg_difficulty</th>\n",
              "      <th>total_comments</th>\n",
              "      <th>deleted</th>\n",
              "      <th>answer</th>\n",
              "      <th>numAlts</th>\n",
              "      <th>question</th>\n",
              "      <th>altA</th>\n",
              "      <th>altB</th>\n",
              "      <th>altC</th>\n",
              "      <th>altD</th>\n",
              "      <th>altE</th>\n",
              "      <th>explanation</th>\n",
              "    </tr>\n",
              "  </thead>\n",
              "  <tbody>\n",
              "    <tr>\n",
              "      <th>0</th>\n",
              "      <td>20995</td>\n",
              "      <td>2020-03-09</td>\n",
              "      <td>2020-03-17 01:00:10</td>\n",
              "      <td>2020-03-10 01:00:10</td>\n",
              "      <td>4342368</td>\n",
              "      <td>2020-03-04 17:52:14</td>\n",
              "      <td>217514</td>\n",
              "      <td>0.00</td>\n",
              "      <td>0</td>\n",
              "      <td>0</td>\n",
              "      <td>0</td>\n",
              "      <td>0.0000</td>\n",
              "      <td>0</td>\n",
              "      <td>2</td>\n",
              "      <td>A</td>\n",
              "      <td>4</td>\n",
              "      <td>&lt;p&gt;[2a] In early 1950s high quality X-ray dif...</td>\n",
              "      <td>&lt;p&gt;Rosalind Franklin&lt;br /&gt;&lt;br /&gt;&lt;/p&gt;         ...</td>\n",
              "      <td>&lt;p&gt;Edwin Chargaff&lt;br /&gt;&lt;br /&gt;&lt;/p&gt;            ...</td>\n",
              "      <td>&lt;p&gt;Watson and Crick&lt;/p&gt;                      ...</td>\n",
              "      <td>&lt;p&gt;Frederick Meischer&lt;/p&gt;                    ...</td>\n",
              "      <td>...</td>\n",
              "      <td>&lt;p&gt;It was Franklin. &amp;nbsp;Watson and Crick ob...</td>\n",
              "    </tr>\n",
              "    <tr>\n",
              "      <th>1</th>\n",
              "      <td>20995</td>\n",
              "      <td>2020-03-09</td>\n",
              "      <td>2020-03-17 01:00:10</td>\n",
              "      <td>2020-03-10 01:00:10</td>\n",
              "      <td>4342370</td>\n",
              "      <td>2020-03-04 17:52:14</td>\n",
              "      <td>217514</td>\n",
              "      <td>0.50</td>\n",
              "      <td>7</td>\n",
              "      <td>4</td>\n",
              "      <td>0</td>\n",
              "      <td>0.2500</td>\n",
              "      <td>5</td>\n",
              "      <td>0</td>\n",
              "      <td>A</td>\n",
              "      <td>4</td>\n",
              "      <td>&lt;p&gt;[Table X - Topic 2a] In early 1950s high q...</td>\n",
              "      <td>&lt;p&gt;Rosalind Franklin&lt;br /&gt;&lt;br /&gt;&lt;/p&gt;         ...</td>\n",
              "      <td>&lt;p&gt;Edwin Chargaff&lt;br /&gt;&lt;br /&gt;&lt;/p&gt;            ...</td>\n",
              "      <td>&lt;p&gt;Watson and Crick&lt;/p&gt;                      ...</td>\n",
              "      <td>&lt;p&gt;Frederick Meischer&lt;/p&gt;                    ...</td>\n",
              "      <td>...</td>\n",
              "      <td>&lt;p&gt;It was Franklin. &amp;nbsp;Watson and Crick ob...</td>\n",
              "    </tr>\n",
              "    <tr>\n",
              "      <th>2</th>\n",
              "      <td>20995</td>\n",
              "      <td>2020-03-09</td>\n",
              "      <td>2020-03-17 01:00:10</td>\n",
              "      <td>2020-03-10 01:00:10</td>\n",
              "      <td>4349814</td>\n",
              "      <td>2020-03-09 15:55:46</td>\n",
              "      <td>636010</td>\n",
              "      <td>2.33</td>\n",
              "      <td>10</td>\n",
              "      <td>9</td>\n",
              "      <td>0</td>\n",
              "      <td>0.2222</td>\n",
              "      <td>6</td>\n",
              "      <td>0</td>\n",
              "      <td>B</td>\n",
              "      <td>4</td>\n",
              "      <td>&lt;p&gt;Which of the following statements is true ...</td>\n",
              "      <td>&lt;p&gt;DNA polymerase can synthesize mRNA in the ...</td>\n",
              "      <td>&lt;p&gt;DNA polymerase can synthesize DNA in the 5...</td>\n",
              "      <td>&lt;p&gt;DNA polymerase can synthesize mRNA in the ...</td>\n",
              "      <td>&lt;p&gt;DNA polymerase can synthesize DNA in the 3...</td>\n",
              "      <td>...</td>\n",
              "      <td>&lt;p&gt;DNA polymerase is only able to synthesize ...</td>\n",
              "    </tr>\n",
              "    <tr>\n",
              "      <th>3</th>\n",
              "      <td>20995</td>\n",
              "      <td>2020-03-09</td>\n",
              "      <td>2020-03-17 01:00:10</td>\n",
              "      <td>2020-03-10 01:00:10</td>\n",
              "      <td>4349841</td>\n",
              "      <td>2020-03-09 16:16:45</td>\n",
              "      <td>636012</td>\n",
              "      <td>2.25</td>\n",
              "      <td>5</td>\n",
              "      <td>4</td>\n",
              "      <td>0</td>\n",
              "      <td>1.0000</td>\n",
              "      <td>3</td>\n",
              "      <td>0</td>\n",
              "      <td>B</td>\n",
              "      <td>5</td>\n",
              "      <td>&lt;p&gt;The structure of DNA is closely related to...</td>\n",
              "      <td>&lt;p&gt;All base pairs interact by forming three h...</td>\n",
              "      <td>&lt;p&gt;DNA is comprised of nucleotide subunits ea...</td>\n",
              "      <td>&lt;p&gt;The double helix of DNA is stabilized by i...</td>\n",
              "      <td>&lt;p&gt;Each DNA sequence folds into a unique and ...</td>\n",
              "      <td>&lt;p&gt;DNA base pairs are held together by strong...</td>\n",
              "      <td>&lt;p&gt;DNA is made up of nucleotide subunits boun...</td>\n",
              "    </tr>\n",
              "    <tr>\n",
              "      <th>4</th>\n",
              "      <td>20995</td>\n",
              "      <td>2020-03-09</td>\n",
              "      <td>2020-03-17 01:00:10</td>\n",
              "      <td>2020-03-10 01:00:10</td>\n",
              "      <td>4349844</td>\n",
              "      <td>2020-03-09 16:17:41</td>\n",
              "      <td>636018</td>\n",
              "      <td>2.67</td>\n",
              "      <td>5</td>\n",
              "      <td>3</td>\n",
              "      <td>0</td>\n",
              "      <td>0.3333</td>\n",
              "      <td>4</td>\n",
              "      <td>0</td>\n",
              "      <td>C</td>\n",
              "      <td>4</td>\n",
              "      <td>&lt;p&gt;In a DNA molecule, Chargaff's rule means t...</td>\n",
              "      <td>&lt;p&gt;The amount of Adenine and Thymine = The am...</td>\n",
              "      <td>&lt;p&gt;The amount of Cytosine and Guanine = The a...</td>\n",
              "      <td>&lt;p&gt;The amount of Adenine and Guanine = The am...</td>\n",
              "      <td>&lt;p&gt;All of the above&lt;/p&gt;                      ...</td>\n",
              "      <td>...</td>\n",
              "      <td>&lt;p&gt;Chargaff's rule states that the number of ...</td>\n",
              "    </tr>\n",
              "  </tbody>\n",
              "</table>\n",
              "</div>"
            ],
            "text/plain": [
              "   course_id  ...                                        explanation\n",
              "0      20995  ...   <p>It was Franklin. &nbsp;Watson and Crick ob...\n",
              "1      20995  ...   <p>It was Franklin. &nbsp;Watson and Crick ob...\n",
              "2      20995  ...   <p>DNA polymerase is only able to synthesize ...\n",
              "3      20995  ...   <p>DNA is made up of nucleotide subunits boun...\n",
              "4      20995  ...   <p>Chargaff's rule states that the number of ...\n",
              "\n",
              "[5 rows x 23 columns]"
            ]
          },
          "metadata": {
            "tags": []
          },
          "execution_count": 26
        }
      ]
    },
    {
      "cell_type": "code",
      "metadata": {
        "id": "le_r60gz33iK"
      },
      "source": [
        "c1combined[\"question_delta\"] = (c1combined[\"question_time\"] - c1combined[\"question_due\"])\n",
        "c1combined[\"question_beforedue\"] = (c1combined[\"question_due\"] - c1combined[\"question_time\"])\n",
        "c1combined[\"late\"] = c1combined[\"question_time\"] > c1combined[\"question_due\"]\n"
      ],
      "execution_count": null,
      "outputs": []
    },
    {
      "cell_type": "markdown",
      "metadata": {
        "id": "Ihikae1L930T"
      },
      "source": [
        "Cycle 2"
      ]
    },
    {
      "cell_type": "code",
      "metadata": {
        "id": "7PwfQ-cZ-GSN"
      },
      "source": [
        "c2courses.rename(columns = {\"CourseID\" : \"course_id\", \"StartDate\" : \"cycle_start\", \"Deadline_Comment\" : \"comment_due\", \"Deadline_Question\" : \"question_due\"}, inplace = True)\n",
        "c2courses.drop(\"CourseName\", axis = 1, inplace = True)\n",
        "c2questions.rename(columns = {\"id\" : \"question_id\", \"timestamp\" : \"question_time\", \"user\" : \"user_id\"}, inplace = True)"
      ],
      "execution_count": null,
      "outputs": []
    },
    {
      "cell_type": "code",
      "metadata": {
        "id": "GrENW8a--RiY",
        "outputId": "389cdf5f-b20c-49e8-90a2-9fc86366c500",
        "colab": {
          "base_uri": "https://localhost:8080/",
          "height": 425
        }
      },
      "source": [
        "c2questions = c2questions.astype({\"course_id\" : \"int64\", \"question_time\" : 'datetime64'})\n",
        "c2courses = c2courses.convert_dtypes()\n",
        "\n",
        "c2combined = c2courses.merge(c2questions, on = \"course_id\")\n",
        "c2combined.head()"
      ],
      "execution_count": null,
      "outputs": [
        {
          "output_type": "execute_result",
          "data": {
            "text/html": [
              "<div>\n",
              "<style scoped>\n",
              "    .dataframe tbody tr th:only-of-type {\n",
              "        vertical-align: middle;\n",
              "    }\n",
              "\n",
              "    .dataframe tbody tr th {\n",
              "        vertical-align: top;\n",
              "    }\n",
              "\n",
              "    .dataframe thead th {\n",
              "        text-align: right;\n",
              "    }\n",
              "</style>\n",
              "<table border=\"1\" class=\"dataframe\">\n",
              "  <thead>\n",
              "    <tr style=\"text-align: right;\">\n",
              "      <th></th>\n",
              "      <th>course_id</th>\n",
              "      <th>cycle_start</th>\n",
              "      <th>comment_due</th>\n",
              "      <th>question_due</th>\n",
              "      <th>question_id</th>\n",
              "      <th>question_time</th>\n",
              "      <th>user_id</th>\n",
              "      <th>avg_rating</th>\n",
              "      <th>total_responses</th>\n",
              "      <th>total_ratings</th>\n",
              "      <th>top_rating_count</th>\n",
              "      <th>avg_difficulty</th>\n",
              "      <th>total_comments</th>\n",
              "      <th>deleted</th>\n",
              "      <th>answer</th>\n",
              "      <th>question</th>\n",
              "      <th>numAlts</th>\n",
              "      <th>altA</th>\n",
              "      <th>altB</th>\n",
              "      <th>altC</th>\n",
              "      <th>altD</th>\n",
              "      <th>altE</th>\n",
              "      <th>explanation</th>\n",
              "    </tr>\n",
              "  </thead>\n",
              "  <tbody>\n",
              "    <tr>\n",
              "      <th>0</th>\n",
              "      <td>21140</td>\n",
              "      <td>2020-03-23</td>\n",
              "      <td>2020-04-05 01:00:10</td>\n",
              "      <td>2020-03-30 01:00:10</td>\n",
              "      <td>4391826</td>\n",
              "      <td>2020-03-26 19:10:48</td>\n",
              "      <td>636022</td>\n",
              "      <td>3.5</td>\n",
              "      <td>5</td>\n",
              "      <td>2</td>\n",
              "      <td>0</td>\n",
              "      <td>0.5</td>\n",
              "      <td>3</td>\n",
              "      <td>0</td>\n",
              "      <td>B</td>\n",
              "      <td>&lt;p&gt;Which of the following pair includes a pha...</td>\n",
              "      <td>4</td>\n",
              "      <td>&lt;p&gt;G1 phase, DNA replication&lt;/p&gt;             ...</td>\n",
              "      <td>&lt;p&gt;G2 phase, preparation for mitosis&lt;/p&gt;     ...</td>\n",
              "      <td>&lt;p&gt;S phase, cell division&lt;/p&gt;                ...</td>\n",
              "      <td>&lt;p&gt;M phase, cell growth&lt;/p&gt;                  ...</td>\n",
              "      <td>...</td>\n",
              "      <td>&lt;p&gt;G1 phase is growth and preparation of the ...</td>\n",
              "    </tr>\n",
              "    <tr>\n",
              "      <th>1</th>\n",
              "      <td>21140</td>\n",
              "      <td>2020-03-23</td>\n",
              "      <td>2020-04-05 01:00:10</td>\n",
              "      <td>2020-03-30 01:00:10</td>\n",
              "      <td>4392006</td>\n",
              "      <td>2020-03-26 20:54:26</td>\n",
              "      <td>636011</td>\n",
              "      <td>3.5</td>\n",
              "      <td>8</td>\n",
              "      <td>6</td>\n",
              "      <td>1</td>\n",
              "      <td>1.0</td>\n",
              "      <td>6</td>\n",
              "      <td>2</td>\n",
              "      <td>D</td>\n",
              "      <td>&lt;p&gt;A telomere has a repetitive nucleotide seq...</td>\n",
              "      <td>5</td>\n",
              "      <td>&lt;p&gt;4, 3, 1, 2, 5&lt;/p&gt;                         ...</td>\n",
              "      <td>&lt;p&gt;1, 2, 3, 4, 5&lt;/p&gt;                         ...</td>\n",
              "      <td>&lt;p&gt;2, 5, 4, 1, 3&lt;/p&gt;                         ...</td>\n",
              "      <td>&lt;p&gt;4, 2, 1, 3, 5&lt;/p&gt;                         ...</td>\n",
              "      <td>&lt;p&gt;2, 4, 1, 5, 3&lt;/p&gt;                         ...</td>\n",
              "      <td>&lt;p&gt;The correct answer is D with steps numbere...</td>\n",
              "    </tr>\n",
              "    <tr>\n",
              "      <th>2</th>\n",
              "      <td>21140</td>\n",
              "      <td>2020-03-23</td>\n",
              "      <td>2020-04-05 01:00:10</td>\n",
              "      <td>2020-03-30 01:00:10</td>\n",
              "      <td>4392084</td>\n",
              "      <td>2020-03-26 21:46:58</td>\n",
              "      <td>635990</td>\n",
              "      <td>3.5</td>\n",
              "      <td>3</td>\n",
              "      <td>2</td>\n",
              "      <td>0</td>\n",
              "      <td>1.0</td>\n",
              "      <td>2</td>\n",
              "      <td>0</td>\n",
              "      <td>D</td>\n",
              "      <td>&lt;p&gt;Table 8:&lt;/p&gt;&lt;p&gt;Which of the following stat...</td>\n",
              "      <td>4</td>\n",
              "      <td>&lt;p&gt;G0 is an optional part of the cell cycle w...</td>\n",
              "      <td>&lt;p&gt;All Eukaryotic cells which divide via the ...</td>\n",
              "      <td>&lt;p&gt;In G0 phase, a cell replicates its DNA to ...</td>\n",
              "      <td>&lt;p&gt;Some types of cells can enter G0 phase and...</td>\n",
              "      <td>...</td>\n",
              "      <td>&lt;p&gt;The answer is D: G0 phase occurs when cell...</td>\n",
              "    </tr>\n",
              "    <tr>\n",
              "      <th>3</th>\n",
              "      <td>21140</td>\n",
              "      <td>2020-03-23</td>\n",
              "      <td>2020-04-05 01:00:10</td>\n",
              "      <td>2020-03-30 01:00:10</td>\n",
              "      <td>4392568</td>\n",
              "      <td>2020-03-27 01:07:25</td>\n",
              "      <td>636008</td>\n",
              "      <td>0.0</td>\n",
              "      <td>0</td>\n",
              "      <td>0</td>\n",
              "      <td>0</td>\n",
              "      <td>0.0</td>\n",
              "      <td>0</td>\n",
              "      <td>2</td>\n",
              "      <td>B</td>\n",
              "      <td>&lt;p&gt;There are some cells with different settin...</td>\n",
              "      <td>5</td>\n",
              "      <td>&lt;p&gt;a&lt;/p&gt;                                     ...</td>\n",
              "      <td>&lt;p&gt;b&lt;/p&gt;                                     ...</td>\n",
              "      <td>&lt;p&gt;c&lt;/p&gt;                                     ...</td>\n",
              "      <td>&lt;p&gt;d&lt;/p&gt;                                     ...</td>\n",
              "      <td>&lt;p&gt;e&lt;/p&gt;                                     ...</td>\n",
              "      <td>&lt;p&gt;All normal cells including heart cells and...</td>\n",
              "    </tr>\n",
              "    <tr>\n",
              "      <th>4</th>\n",
              "      <td>21140</td>\n",
              "      <td>2020-03-23</td>\n",
              "      <td>2020-04-05 01:00:10</td>\n",
              "      <td>2020-03-30 01:00:10</td>\n",
              "      <td>4392616</td>\n",
              "      <td>2020-03-27 01:25:01</td>\n",
              "      <td>636014</td>\n",
              "      <td>3.0</td>\n",
              "      <td>1</td>\n",
              "      <td>1</td>\n",
              "      <td>0</td>\n",
              "      <td>1.0</td>\n",
              "      <td>1</td>\n",
              "      <td>2</td>\n",
              "      <td>B</td>\n",
              "      <td>&lt;p&gt;Mary is a healthy 17 years old teenager wh...</td>\n",
              "      <td>5</td>\n",
              "      <td>&lt;p&gt;Too much telomerase activity can cause chr...</td>\n",
              "      <td>&lt;p&gt;The supplement can result in permanent act...</td>\n",
              "      <td>&lt;p&gt;The supplement can result in permanent act...</td>\n",
              "      <td>&lt;p&gt;The activation of telomerase does not allo...</td>\n",
              "      <td>&lt;p&gt;The activation of telomerase lowers the ra...</td>\n",
              "      <td>&lt;p&gt;The progressive shortening of telomeres as...</td>\n",
              "    </tr>\n",
              "  </tbody>\n",
              "</table>\n",
              "</div>"
            ],
            "text/plain": [
              "   course_id  ...                                        explanation\n",
              "0      21140  ...   <p>G1 phase is growth and preparation of the ...\n",
              "1      21140  ...   <p>The correct answer is D with steps numbere...\n",
              "2      21140  ...   <p>The answer is D: G0 phase occurs when cell...\n",
              "3      21140  ...   <p>All normal cells including heart cells and...\n",
              "4      21140  ...   <p>The progressive shortening of telomeres as...\n",
              "\n",
              "[5 rows x 23 columns]"
            ]
          },
          "metadata": {
            "tags": []
          },
          "execution_count": 40
        }
      ]
    },
    {
      "cell_type": "code",
      "metadata": {
        "id": "Ebz8DwB5-sGt"
      },
      "source": [
        "c2combined[\"question_delta\"] = (c2combined[\"question_time\"] - c2combined[\"question_due\"])\n",
        "c2combined[\"question_beforedue\"] = (c2combined[\"question_due\"] - c2combined[\"question_time\"])\n",
        "c2combined[\"late\"] = c2combined[\"question_time\"] > c2combined[\"question_due\"]\n"
      ],
      "execution_count": null,
      "outputs": []
    },
    {
      "cell_type": "markdown",
      "metadata": {
        "id": "X-xr9MkYFtfO"
      },
      "source": [
        "Combining"
      ]
    },
    {
      "cell_type": "code",
      "metadata": {
        "id": "gZsA1SN6AeUp",
        "outputId": "157579ca-36f7-436e-c0e3-f33e3c28ac86",
        "colab": {
          "base_uri": "https://localhost:8080/",
          "height": 1000
        }
      },
      "source": [
        "c1combined[\"cycle\"] = 1\n",
        "c2combined[\"cycle\"] = 2\n",
        "\n",
        "all_combined = pd.concat([c1combined, c2combined])\n",
        "all_combined = all_combined.astype({\"course_id\" : \"int64\", \"user_id\" : \"int64\", \"question_id\" : \"int64\"})\n",
        "all_combined[all_combined['late']].sort_values(by = 'question_beforedue', ascending = False)"
      ],
      "execution_count": null,
      "outputs": [
        {
          "output_type": "execute_result",
          "data": {
            "text/html": [
              "<div>\n",
              "<style scoped>\n",
              "    .dataframe tbody tr th:only-of-type {\n",
              "        vertical-align: middle;\n",
              "    }\n",
              "\n",
              "    .dataframe tbody tr th {\n",
              "        vertical-align: top;\n",
              "    }\n",
              "\n",
              "    .dataframe thead th {\n",
              "        text-align: right;\n",
              "    }\n",
              "</style>\n",
              "<table border=\"1\" class=\"dataframe\">\n",
              "  <thead>\n",
              "    <tr style=\"text-align: right;\">\n",
              "      <th></th>\n",
              "      <th>course_id</th>\n",
              "      <th>cycle_start</th>\n",
              "      <th>comment_due</th>\n",
              "      <th>question_due</th>\n",
              "      <th>question_id</th>\n",
              "      <th>question_time</th>\n",
              "      <th>user_id</th>\n",
              "      <th>avg_rating</th>\n",
              "      <th>total_responses</th>\n",
              "      <th>total_ratings</th>\n",
              "      <th>top_rating_count</th>\n",
              "      <th>avg_difficulty</th>\n",
              "      <th>total_comments</th>\n",
              "      <th>deleted</th>\n",
              "      <th>answer</th>\n",
              "      <th>numAlts</th>\n",
              "      <th>question</th>\n",
              "      <th>altA</th>\n",
              "      <th>altB</th>\n",
              "      <th>altC</th>\n",
              "      <th>altD</th>\n",
              "      <th>altE</th>\n",
              "      <th>explanation</th>\n",
              "      <th>question_delta</th>\n",
              "      <th>question_beforedue</th>\n",
              "      <th>late</th>\n",
              "      <th>cycle</th>\n",
              "    </tr>\n",
              "  </thead>\n",
              "  <tbody>\n",
              "    <tr>\n",
              "      <th>303</th>\n",
              "      <td>21038</td>\n",
              "      <td>2020-03-11</td>\n",
              "      <td>2020-03-19 01:00:10</td>\n",
              "      <td>2020-03-12 01:00:10</td>\n",
              "      <td>4354365</td>\n",
              "      <td>2020-03-12 01:01:16</td>\n",
              "      <td>636871</td>\n",
              "      <td>2.50</td>\n",
              "      <td>15</td>\n",
              "      <td>14</td>\n",
              "      <td>1</td>\n",
              "      <td>0.1429</td>\n",
              "      <td>13</td>\n",
              "      <td>0</td>\n",
              "      <td>C</td>\n",
              "      <td>4</td>\n",
              "      <td>&lt;p&gt;Which of the following enzymes is the prin...</td>\n",
              "      <td>&lt;p&gt;DNA polymerase I&lt;/p&gt;                      ...</td>\n",
              "      <td>&lt;p&gt;DNA polymerase II&lt;/p&gt;                     ...</td>\n",
              "      <td>&lt;p&gt;DNA polymerase III&lt;/p&gt;                    ...</td>\n",
              "      <td>&lt;p&gt;None of these&lt;/p&gt;                         ...</td>\n",
              "      <td>...</td>\n",
              "      <td>&lt;p&gt;Source:&amp;nbsp;&lt;/p&gt;&lt;p&gt;Sanfoundry. 2020. DNA ...</td>\n",
              "      <td>0 days 00:01:06</td>\n",
              "      <td>-1 days +23:58:54</td>\n",
              "      <td>True</td>\n",
              "      <td>1</td>\n",
              "    </tr>\n",
              "    <tr>\n",
              "      <th>304</th>\n",
              "      <td>21038</td>\n",
              "      <td>2020-03-11</td>\n",
              "      <td>2020-03-19 01:00:10</td>\n",
              "      <td>2020-03-12 01:00:10</td>\n",
              "      <td>4354379</td>\n",
              "      <td>2020-03-12 01:05:06</td>\n",
              "      <td>636745</td>\n",
              "      <td>1.88</td>\n",
              "      <td>20</td>\n",
              "      <td>16</td>\n",
              "      <td>2</td>\n",
              "      <td>0.2500</td>\n",
              "      <td>16</td>\n",
              "      <td>0</td>\n",
              "      <td>C</td>\n",
              "      <td>4</td>\n",
              "      <td>&lt;p&gt;Which is the most processive of prokaryoti...</td>\n",
              "      <td>&lt;p&gt;pol I&lt;/p&gt;                                 ...</td>\n",
              "      <td>&lt;p&gt;pol II&lt;/p&gt;                                ...</td>\n",
              "      <td>&lt;p&gt;pol III&lt;/p&gt;                               ...</td>\n",
              "      <td>&lt;p&gt;klenow fragment&lt;/p&gt;                       ...</td>\n",
              "      <td>...</td>\n",
              "      <td>&lt;p&gt;DNA pol III holoenzyme has a processivity ...</td>\n",
              "      <td>0 days 00:04:56</td>\n",
              "      <td>-1 days +23:55:04</td>\n",
              "      <td>True</td>\n",
              "      <td>1</td>\n",
              "    </tr>\n",
              "    <tr>\n",
              "      <th>186</th>\n",
              "      <td>21037</td>\n",
              "      <td>2020-03-10</td>\n",
              "      <td>2020-03-18 01:00:10</td>\n",
              "      <td>2020-03-11 01:00:10</td>\n",
              "      <td>4352594</td>\n",
              "      <td>2020-03-11 01:05:06</td>\n",
              "      <td>636388</td>\n",
              "      <td>3.33</td>\n",
              "      <td>14</td>\n",
              "      <td>9</td>\n",
              "      <td>0</td>\n",
              "      <td>0.8889</td>\n",
              "      <td>11</td>\n",
              "      <td>0</td>\n",
              "      <td>A</td>\n",
              "      <td>4</td>\n",
              "      <td>&lt;p&gt;Which of the following forces can stabilis...</td>\n",
              "      <td>&lt;p&gt;Base-stacking is a non-covalent interactio...</td>\n",
              "      <td>&lt;p&gt;Base-pairing is a non-covalent interaction...</td>\n",
              "      <td>&lt;p&gt;The hydrophilic sugar-phosphate groups are...</td>\n",
              "      <td>&lt;p&gt;The deoxyribose rings form N-glycosidic bo...</td>\n",
              "      <td>...</td>\n",
              "      <td>&lt;p&gt;Hydrophobic interactions result in base st...</td>\n",
              "      <td>0 days 00:04:56</td>\n",
              "      <td>-1 days +23:55:04</td>\n",
              "      <td>True</td>\n",
              "      <td>1</td>\n",
              "    </tr>\n",
              "    <tr>\n",
              "      <th>477</th>\n",
              "      <td>21143</td>\n",
              "      <td>2020-03-26</td>\n",
              "      <td>2020-04-08 01:00:10</td>\n",
              "      <td>2020-04-02 01:00:10</td>\n",
              "      <td>4407211</td>\n",
              "      <td>2020-04-02 01:06:11</td>\n",
              "      <td>637312</td>\n",
              "      <td>1.00</td>\n",
              "      <td>4</td>\n",
              "      <td>4</td>\n",
              "      <td>0</td>\n",
              "      <td>0.0000</td>\n",
              "      <td>4</td>\n",
              "      <td>0</td>\n",
              "      <td>B</td>\n",
              "      <td>5</td>\n",
              "      <td>&lt;p&gt;What is the preferred and optimal solution...</td>\n",
              "      <td>&lt;p&gt;5ml acidic deionised water (0.9% w/v), swi...</td>\n",
              "      <td>&lt;p&gt;10ml sterile solution of isotonic saline (...</td>\n",
              "      <td>&lt;p&gt;5ml alkaline deionised water (0.9% w/v), s...</td>\n",
              "      <td>&lt;p&gt;10ml pure deionised water,&amp;nbsp;swilled ar...</td>\n",
              "      <td>&lt;p&gt;15ml sterile solution of isotonic saline (...</td>\n",
              "      <td>&lt;p&gt;to answer correctly student must know:&lt;/p&gt;...</td>\n",
              "      <td>0 days 00:06:01</td>\n",
              "      <td>-1 days +23:53:59</td>\n",
              "      <td>True</td>\n",
              "      <td>2</td>\n",
              "    </tr>\n",
              "    <tr>\n",
              "      <th>344</th>\n",
              "      <td>21142</td>\n",
              "      <td>2020-03-25</td>\n",
              "      <td>2020-04-07 01:00:10</td>\n",
              "      <td>2020-04-01 01:00:10</td>\n",
              "      <td>4404775</td>\n",
              "      <td>2020-04-01 01:06:24</td>\n",
              "      <td>636863</td>\n",
              "      <td>1.33</td>\n",
              "      <td>3</td>\n",
              "      <td>3</td>\n",
              "      <td>0</td>\n",
              "      <td>0.3333</td>\n",
              "      <td>3</td>\n",
              "      <td>0</td>\n",
              "      <td>B</td>\n",
              "      <td>4</td>\n",
              "      <td>&lt;p&gt;What statement regarding histones, chromat...</td>\n",
              "      <td>&lt;p&gt;Histones are made up of two molecules of H...</td>\n",
              "      <td>&lt;p&gt;Nucleosome is composed of histone octamer ...</td>\n",
              "      <td>&lt;p&gt;Each nucleosome has an H2 associated and a...</td>\n",
              "      <td>&lt;p&gt;The major force holding the association of...</td>\n",
              "      <td>...</td>\n",
              "      <td>&lt;p&gt;A.&amp;nbsp;Histones are made up of two molecu...</td>\n",
              "      <td>0 days 00:06:14</td>\n",
              "      <td>-1 days +23:53:46</td>\n",
              "      <td>True</td>\n",
              "      <td>2</td>\n",
              "    </tr>\n",
              "    <tr>\n",
              "      <th>...</th>\n",
              "      <td>...</td>\n",
              "      <td>...</td>\n",
              "      <td>...</td>\n",
              "      <td>...</td>\n",
              "      <td>...</td>\n",
              "      <td>...</td>\n",
              "      <td>...</td>\n",
              "      <td>...</td>\n",
              "      <td>...</td>\n",
              "      <td>...</td>\n",
              "      <td>...</td>\n",
              "      <td>...</td>\n",
              "      <td>...</td>\n",
              "      <td>...</td>\n",
              "      <td>...</td>\n",
              "      <td>...</td>\n",
              "      <td>...</td>\n",
              "      <td>...</td>\n",
              "      <td>...</td>\n",
              "      <td>...</td>\n",
              "      <td>...</td>\n",
              "      <td>...</td>\n",
              "      <td>...</td>\n",
              "      <td>...</td>\n",
              "      <td>...</td>\n",
              "      <td>...</td>\n",
              "      <td>...</td>\n",
              "    </tr>\n",
              "    <tr>\n",
              "      <th>409</th>\n",
              "      <td>21142</td>\n",
              "      <td>2020-03-25</td>\n",
              "      <td>2020-04-07 01:00:10</td>\n",
              "      <td>2020-04-01 01:00:10</td>\n",
              "      <td>4423854</td>\n",
              "      <td>2020-04-08 18:27:53</td>\n",
              "      <td>504817</td>\n",
              "      <td>0.00</td>\n",
              "      <td>0</td>\n",
              "      <td>0</td>\n",
              "      <td>0</td>\n",
              "      <td>0.0000</td>\n",
              "      <td>0</td>\n",
              "      <td>0</td>\n",
              "      <td>C</td>\n",
              "      <td>4</td>\n",
              "      <td>&lt;p&gt;In human genome, 30,000 protein coding gen...</td>\n",
              "      <td>&lt;p&gt;Regulatory sequences&lt;/p&gt;                  ...</td>\n",
              "      <td>&lt;p&gt;Non coding RNA&lt;/p&gt;                        ...</td>\n",
              "      <td>&lt;p&gt;Introns&lt;/p&gt;                               ...</td>\n",
              "      <td>&lt;p&gt;Pseudogenes&lt;/p&gt;                           ...</td>\n",
              "      <td>...</td>\n",
              "      <td>&lt;p&gt;Introns take up ~25% of genome&lt;/p&gt;        ...</td>\n",
              "      <td>7 days 17:27:43</td>\n",
              "      <td>-8 days +06:32:17</td>\n",
              "      <td>True</td>\n",
              "      <td>2</td>\n",
              "    </tr>\n",
              "    <tr>\n",
              "      <th>273</th>\n",
              "      <td>21141</td>\n",
              "      <td>2020-03-24</td>\n",
              "      <td>2020-04-06 01:00:10</td>\n",
              "      <td>2020-03-31 01:00:10</td>\n",
              "      <td>4421103</td>\n",
              "      <td>2020-04-07 19:11:30</td>\n",
              "      <td>636434</td>\n",
              "      <td>2.00</td>\n",
              "      <td>1</td>\n",
              "      <td>1</td>\n",
              "      <td>0</td>\n",
              "      <td>0.0000</td>\n",
              "      <td>1</td>\n",
              "      <td>0</td>\n",
              "      <td>A</td>\n",
              "      <td>4</td>\n",
              "      <td>&lt;p&gt;Polymerase Chain Reaction is commonly used...</td>\n",
              "      <td>&lt;p&gt;Uses very low amounts of DNA&lt;/p&gt;          ...</td>\n",
              "      <td>&lt;p&gt;Finds information about target sequence&amp;nb...</td>\n",
              "      <td>&lt;p&gt;Contamination is unlikely to occur&lt;/p&gt;    ...</td>\n",
              "      <td>&lt;p&gt;All of the above&lt;/p&gt;                      ...</td>\n",
              "      <td>...</td>\n",
              "      <td>&lt;p&gt;The advantage of PCR is that it uses very ...</td>\n",
              "      <td>7 days 18:11:20</td>\n",
              "      <td>-8 days +05:48:40</td>\n",
              "      <td>True</td>\n",
              "      <td>2</td>\n",
              "    </tr>\n",
              "    <tr>\n",
              "      <th>537</th>\n",
              "      <td>21143</td>\n",
              "      <td>2020-03-26</td>\n",
              "      <td>2020-04-08 01:00:10</td>\n",
              "      <td>2020-04-02 01:00:10</td>\n",
              "      <td>4427475</td>\n",
              "      <td>2020-04-10 12:14:21</td>\n",
              "      <td>637281</td>\n",
              "      <td>0.00</td>\n",
              "      <td>0</td>\n",
              "      <td>0</td>\n",
              "      <td>0</td>\n",
              "      <td>0.0000</td>\n",
              "      <td>0</td>\n",
              "      <td>2</td>\n",
              "      <td>A</td>\n",
              "      <td>4</td>\n",
              "      <td>&lt;p&gt;A PCR experiment is being carried out, the...</td>\n",
              "      <td>&lt;p&gt;A) No reaction would occur&lt;/p&gt;            ...</td>\n",
              "      <td>&lt;p&gt;B) A reaction would occur but only fewer c...</td>\n",
              "      <td>&lt;p&gt;C) A reaction would occur but more copies ...</td>\n",
              "      <td>&lt;p&gt;D) A reaction occurs as you expected and f...</td>\n",
              "      <td>...</td>\n",
              "      <td>&lt;p&gt;No reaction would occur as nucleotides are...</td>\n",
              "      <td>8 days 11:14:11</td>\n",
              "      <td>-9 days +12:45:49</td>\n",
              "      <td>True</td>\n",
              "      <td>2</td>\n",
              "    </tr>\n",
              "    <tr>\n",
              "      <th>538</th>\n",
              "      <td>21143</td>\n",
              "      <td>2020-03-26</td>\n",
              "      <td>2020-04-08 01:00:10</td>\n",
              "      <td>2020-04-02 01:00:10</td>\n",
              "      <td>4427479</td>\n",
              "      <td>2020-04-10 12:14:21</td>\n",
              "      <td>637281</td>\n",
              "      <td>0.00</td>\n",
              "      <td>0</td>\n",
              "      <td>0</td>\n",
              "      <td>0</td>\n",
              "      <td>0.0000</td>\n",
              "      <td>0</td>\n",
              "      <td>0</td>\n",
              "      <td>A</td>\n",
              "      <td>4</td>\n",
              "      <td>&lt;p&gt;A PCR experiment is being carried out, the...</td>\n",
              "      <td>&lt;p&gt;A) No reaction would occur&lt;/p&gt;            ...</td>\n",
              "      <td>&lt;p&gt;B) A reaction would occur but only fewer c...</td>\n",
              "      <td>&lt;p&gt;C) A reaction would occur but more copies ...</td>\n",
              "      <td>&lt;p&gt;D) A reaction occurs as you expected and f...</td>\n",
              "      <td>...</td>\n",
              "      <td>&lt;p&gt;There would be no reaction as no dNTPs wer...</td>\n",
              "      <td>8 days 11:14:11</td>\n",
              "      <td>-9 days +12:45:49</td>\n",
              "      <td>True</td>\n",
              "      <td>2</td>\n",
              "    </tr>\n",
              "    <tr>\n",
              "      <th>405</th>\n",
              "      <td>21039</td>\n",
              "      <td>2020-03-12</td>\n",
              "      <td>2020-03-20 01:00:10</td>\n",
              "      <td>2020-03-13 01:00:10</td>\n",
              "      <td>4379831</td>\n",
              "      <td>2020-03-22 12:13:28</td>\n",
              "      <td>640258</td>\n",
              "      <td>0.00</td>\n",
              "      <td>0</td>\n",
              "      <td>0</td>\n",
              "      <td>0</td>\n",
              "      <td>0.0000</td>\n",
              "      <td>0</td>\n",
              "      <td>0</td>\n",
              "      <td>C</td>\n",
              "      <td>4</td>\n",
              "      <td>&lt;p&gt;In terms of DNA and RNA structure, what is...</td>\n",
              "      <td>&lt;p&gt;A nucleotide is a heterocyclic base&lt;/p&gt;   ...</td>\n",
              "      <td>&lt;p&gt;A nucleotide is a sugar molecule covalentl...</td>\n",
              "      <td>&lt;p&gt;A nucleotide is a sugar molecule bonded to...</td>\n",
              "      <td>&lt;p&gt;A nucleotide is a heterocyclic base bonded...</td>\n",
              "      <td>...</td>\n",
              "      <td>&lt;p&gt;A sugar molecule and a heterocyclic base m...</td>\n",
              "      <td>9 days 11:13:18</td>\n",
              "      <td>-10 days +12:46:42</td>\n",
              "      <td>True</td>\n",
              "      <td>1</td>\n",
              "    </tr>\n",
              "  </tbody>\n",
              "</table>\n",
              "<p>181 rows × 27 columns</p>\n",
              "</div>"
            ],
            "text/plain": [
              "     course_id cycle_start         comment_due  ... question_beforedue  late cycle\n",
              "303      21038  2020-03-11 2020-03-19 01:00:10  ...  -1 days +23:58:54  True     1\n",
              "304      21038  2020-03-11 2020-03-19 01:00:10  ...  -1 days +23:55:04  True     1\n",
              "186      21037  2020-03-10 2020-03-18 01:00:10  ...  -1 days +23:55:04  True     1\n",
              "477      21143  2020-03-26 2020-04-08 01:00:10  ...  -1 days +23:53:59  True     2\n",
              "344      21142  2020-03-25 2020-04-07 01:00:10  ...  -1 days +23:53:46  True     2\n",
              "..         ...         ...                 ...  ...                ...   ...   ...\n",
              "409      21142  2020-03-25 2020-04-07 01:00:10  ...  -8 days +06:32:17  True     2\n",
              "273      21141  2020-03-24 2020-04-06 01:00:10  ...  -8 days +05:48:40  True     2\n",
              "537      21143  2020-03-26 2020-04-08 01:00:10  ...  -9 days +12:45:49  True     2\n",
              "538      21143  2020-03-26 2020-04-08 01:00:10  ...  -9 days +12:45:49  True     2\n",
              "405      21039  2020-03-12 2020-03-20 01:00:10  ... -10 days +12:46:42  True     1\n",
              "\n",
              "[181 rows x 27 columns]"
            ]
          },
          "metadata": {
            "tags": []
          },
          "execution_count": 42
        }
      ]
    },
    {
      "cell_type": "markdown",
      "metadata": {
        "id": "9_VYU0OdFqZT"
      },
      "source": [
        "Data Investigation"
      ]
    },
    {
      "cell_type": "code",
      "metadata": {
        "id": "z83eaTNvBUli",
        "outputId": "8e083e3f-975b-4ae1-911f-867ddce3c368",
        "colab": {
          "base_uri": "https://localhost:8080/"
        }
      },
      "source": [
        "print(\"Earliest question was made at:\", all_combined[\"question_time\"].min().strftime(\"%d/%m/%Y\"))\n",
        "print(\"Latest question was made at:\", all_combined[\"question_time\"].max().strftime(\"%d/%m/%Y\"))"
      ],
      "execution_count": null,
      "outputs": [
        {
          "output_type": "stream",
          "text": [
            "Earliest question was made at: 04/03/2020\n",
            "Latest question was made at: 10/04/2020\n"
          ],
          "name": "stdout"
        }
      ]
    },
    {
      "cell_type": "code",
      "metadata": {
        "id": "kLgDmzr0COk4",
        "outputId": "5b6f28fa-23cd-44c1-8172-80082ddf56b8",
        "colab": {
          "base_uri": "https://localhost:8080/",
          "height": 312
        }
      },
      "source": [
        "delta_grouped = all_combined[\"question_time\"].groupby(all_combined[\"question_delta\"].dt.days).count()\n",
        "delta_grouped.plot(kind = \"bar\", xlabel = \"Days after question due date\", ylabel = \"Number of Questions\", title = \"Time after due date of question that a question was made in Cycle 1\")"
      ],
      "execution_count": null,
      "outputs": [
        {
          "output_type": "execute_result",
          "data": {
            "text/plain": [
              "<matplotlib.axes._subplots.AxesSubplot at 0x7fc094b74b38>"
            ]
          },
          "metadata": {
            "tags": []
          },
          "execution_count": 46
        },
        {
          "output_type": "display_data",
          "data": {
            "image/png": "[encoded data removed]",
            "text/plain": [
              "<Figure size 432x288 with 1 Axes>"
            ]
          },
          "metadata": {
            "tags": [],
            "needs_background": "light"
          }
        }
      ]
    },
    {
      "cell_type": "code",
      "metadata": {
        "id": "PFgKTdhBEF7S",
        "outputId": "8f9ec95e-21aa-48c1-f6e5-7c07ab33ebf4",
        "colab": {
          "base_uri": "https://localhost:8080/",
          "height": 282
        }
      },
      "source": [
        "student_lateness = all_combined[[\"user_id\", \"late\"]].groupby(\"user_id\", as_index = False).sum(\"late\")\n",
        "student_lateness[\"late\"].plot(kind = \"hist\")"
      ],
      "execution_count": null,
      "outputs": [
        {
          "output_type": "execute_result",
          "data": {
            "text/plain": [
              "<matplotlib.axes._subplots.AxesSubplot at 0x7fc09441c518>"
            ]
          },
          "metadata": {
            "tags": []
          },
          "execution_count": 49
        },
        {
          "output_type": "display_data",
          "data": {
            "image/png": "[encoded data removed]",
            "text/plain": [
              "<Figure size 432x288 with 1 Axes>"
            ]
          },
          "metadata": {
            "tags": [],
            "needs_background": "light"
          }
        }
      ]
    },
    {
      "cell_type": "code",
      "metadata": {
        "id": "Edt4QTeAEXHU",
        "outputId": "70911bcc-ce1a-4333-8922-356a31992a89",
        "colab": {
          "base_uri": "https://localhost:8080/",
          "height": 419
        }
      },
      "source": [
        "student_lateness.sort_values(\"late\", ascending = False)"
      ],
      "execution_count": null,
      "outputs": [
        {
          "output_type": "execute_result",
          "data": {
            "text/html": [
              "<div>\n",
              "<style scoped>\n",
              "    .dataframe tbody tr th:only-of-type {\n",
              "        vertical-align: middle;\n",
              "    }\n",
              "\n",
              "    .dataframe tbody tr th {\n",
              "        vertical-align: top;\n",
              "    }\n",
              "\n",
              "    .dataframe thead th {\n",
              "        text-align: right;\n",
              "    }\n",
              "</style>\n",
              "<table border=\"1\" class=\"dataframe\">\n",
              "  <thead>\n",
              "    <tr style=\"text-align: right;\">\n",
              "      <th></th>\n",
              "      <th>user_id</th>\n",
              "      <th>late</th>\n",
              "    </tr>\n",
              "  </thead>\n",
              "  <tbody>\n",
              "    <tr>\n",
              "      <th>319</th>\n",
              "      <td>637569</td>\n",
              "      <td>6</td>\n",
              "    </tr>\n",
              "    <tr>\n",
              "      <th>118</th>\n",
              "      <td>636396</td>\n",
              "      <td>5</td>\n",
              "    </tr>\n",
              "    <tr>\n",
              "      <th>179</th>\n",
              "      <td>636734</td>\n",
              "      <td>4</td>\n",
              "    </tr>\n",
              "    <tr>\n",
              "      <th>66</th>\n",
              "      <td>636029</td>\n",
              "      <td>4</td>\n",
              "    </tr>\n",
              "    <tr>\n",
              "      <th>310</th>\n",
              "      <td>637310</td>\n",
              "      <td>4</td>\n",
              "    </tr>\n",
              "    <tr>\n",
              "      <th>...</th>\n",
              "      <td>...</td>\n",
              "      <td>...</td>\n",
              "    </tr>\n",
              "    <tr>\n",
              "      <th>146</th>\n",
              "      <td>636424</td>\n",
              "      <td>0</td>\n",
              "    </tr>\n",
              "    <tr>\n",
              "      <th>151</th>\n",
              "      <td>636429</td>\n",
              "      <td>0</td>\n",
              "    </tr>\n",
              "    <tr>\n",
              "      <th>152</th>\n",
              "      <td>636430</td>\n",
              "      <td>0</td>\n",
              "    </tr>\n",
              "    <tr>\n",
              "      <th>153</th>\n",
              "      <td>636431</td>\n",
              "      <td>0</td>\n",
              "    </tr>\n",
              "    <tr>\n",
              "      <th>331</th>\n",
              "      <td>642158</td>\n",
              "      <td>0</td>\n",
              "    </tr>\n",
              "  </tbody>\n",
              "</table>\n",
              "<p>332 rows × 2 columns</p>\n",
              "</div>"
            ],
            "text/plain": [
              "     user_id  late\n",
              "319   637569     6\n",
              "118   636396     5\n",
              "179   636734     4\n",
              "66    636029     4\n",
              "310   637310     4\n",
              "..       ...   ...\n",
              "146   636424     0\n",
              "151   636429     0\n",
              "152   636430     0\n",
              "153   636431     0\n",
              "331   642158     0\n",
              "\n",
              "[332 rows x 2 columns]"
            ]
          },
          "metadata": {
            "tags": []
          },
          "execution_count": 50
        }
      ]
    },
    {
      "cell_type": "markdown",
      "metadata": {
        "id": "QS0OQZC7Fxyd"
      },
      "source": [
        "Connecting to cycle 4 groups"
      ]
    },
    {
      "cell_type": "code",
      "metadata": {
        "id": "miTf9ZXpEsFq"
      },
      "source": [
        "c4usercourses.rename(columns = {\"user\" : \"user_id\", \"Team\" : \"team\"}, inplace = True)\n",
        "c4usercourses_lateness = c4usercourses.merge(student_lateness.reset_index(drop = True), on = \"user_id\")"
      ],
      "execution_count": null,
      "outputs": []
    },
    {
      "cell_type": "code",
      "metadata": {
        "id": "rloubBhgGave",
        "outputId": "ce385a59-ed62-4971-b94b-3c2ea9678e04",
        "colab": {
          "base_uri": "https://localhost:8080/",
          "height": 419
        }
      },
      "source": [
        "c4usercourses_lateness.sort_values(by = \"late\", ascending = False)"
      ],
      "execution_count": null,
      "outputs": [
        {
          "output_type": "execute_result",
          "data": {
            "text/html": [
              "<div>\n",
              "<style scoped>\n",
              "    .dataframe tbody tr th:only-of-type {\n",
              "        vertical-align: middle;\n",
              "    }\n",
              "\n",
              "    .dataframe tbody tr th {\n",
              "        vertical-align: top;\n",
              "    }\n",
              "\n",
              "    .dataframe thead th {\n",
              "        text-align: right;\n",
              "    }\n",
              "</style>\n",
              "<table border=\"1\" class=\"dataframe\">\n",
              "  <thead>\n",
              "    <tr style=\"text-align: right;\">\n",
              "      <th></th>\n",
              "      <th>user_id</th>\n",
              "      <th>course_id</th>\n",
              "      <th>team</th>\n",
              "      <th>late</th>\n",
              "    </tr>\n",
              "  </thead>\n",
              "  <tbody>\n",
              "    <tr>\n",
              "      <th>138</th>\n",
              "      <td>637569</td>\n",
              "      <td>21326</td>\n",
              "      <td>Blue</td>\n",
              "      <td>6</td>\n",
              "    </tr>\n",
              "    <tr>\n",
              "      <th>129</th>\n",
              "      <td>636396</td>\n",
              "      <td>21326</td>\n",
              "      <td>Pink</td>\n",
              "      <td>5</td>\n",
              "    </tr>\n",
              "    <tr>\n",
              "      <th>170</th>\n",
              "      <td>636734</td>\n",
              "      <td>21327</td>\n",
              "      <td>Brown</td>\n",
              "      <td>4</td>\n",
              "    </tr>\n",
              "    <tr>\n",
              "      <th>40</th>\n",
              "      <td>636029</td>\n",
              "      <td>21320</td>\n",
              "      <td>Pink</td>\n",
              "      <td>4</td>\n",
              "    </tr>\n",
              "    <tr>\n",
              "      <th>266</th>\n",
              "      <td>637310</td>\n",
              "      <td>21328</td>\n",
              "      <td>Pink</td>\n",
              "      <td>4</td>\n",
              "    </tr>\n",
              "    <tr>\n",
              "      <th>...</th>\n",
              "      <td>...</td>\n",
              "      <td>...</td>\n",
              "      <td>...</td>\n",
              "      <td>...</td>\n",
              "    </tr>\n",
              "    <tr>\n",
              "      <th>131</th>\n",
              "      <td>604835</td>\n",
              "      <td>21326</td>\n",
              "      <td>Green</td>\n",
              "      <td>0</td>\n",
              "    </tr>\n",
              "    <tr>\n",
              "      <th>132</th>\n",
              "      <td>636439</td>\n",
              "      <td>21326</td>\n",
              "      <td>Purple</td>\n",
              "      <td>0</td>\n",
              "    </tr>\n",
              "    <tr>\n",
              "      <th>134</th>\n",
              "      <td>636429</td>\n",
              "      <td>21326</td>\n",
              "      <td>Yellow</td>\n",
              "      <td>0</td>\n",
              "    </tr>\n",
              "    <tr>\n",
              "      <th>137</th>\n",
              "      <td>636416</td>\n",
              "      <td>21326</td>\n",
              "      <td>Blue</td>\n",
              "      <td>0</td>\n",
              "    </tr>\n",
              "    <tr>\n",
              "      <th>285</th>\n",
              "      <td>637299</td>\n",
              "      <td>21328</td>\n",
              "      <td>Yellow</td>\n",
              "      <td>0</td>\n",
              "    </tr>\n",
              "  </tbody>\n",
              "</table>\n",
              "<p>286 rows × 4 columns</p>\n",
              "</div>"
            ],
            "text/plain": [
              "     user_id  course_id    team  late\n",
              "138   637569      21326    Blue     6\n",
              "129   636396      21326    Pink     5\n",
              "170   636734      21327   Brown     4\n",
              "40    636029      21320    Pink     4\n",
              "266   637310      21328    Pink     4\n",
              "..       ...        ...     ...   ...\n",
              "131   604835      21326   Green     0\n",
              "132   636439      21326  Purple     0\n",
              "134   636429      21326  Yellow     0\n",
              "137   636416      21326    Blue     0\n",
              "285   637299      21328  Yellow     0\n",
              "\n",
              "[286 rows x 4 columns]"
            ]
          },
          "metadata": {
            "tags": []
          },
          "execution_count": 52
        }
      ]
    },
    {
      "cell_type": "code",
      "metadata": {
        "id": "YO9UUYA9GkjE",
        "outputId": "cce1dd9c-ee1b-459d-afd8-06f24a78feef",
        "colab": {
          "base_uri": "https://localhost:8080/",
          "height": 318
        }
      },
      "source": [
        "student_late_boolean = all_combined[[\"user_id\", \"late\"]].groupby(\"user_id\", as_index = False).any(\"late\")\n",
        "team_lateness_boolean = c4usercourses.merge(student_late_boolean, on = \"user_id\")\n",
        "team_lateness_boolean.groupby(\"team\")[\"late\"].sum().plot.bar()"
      ],
      "execution_count": null,
      "outputs": [
        {
          "output_type": "execute_result",
          "data": {
            "text/plain": [
              "<matplotlib.axes._subplots.AxesSubplot at 0x7fc0943a2898>"
            ]
          },
          "metadata": {
            "tags": []
          },
          "execution_count": 54
        },
        {
          "output_type": "display_data",
          "data": {
            "image/png": "[encoded data removed]",
            "text/plain": [
              "<Figure size 432x288 with 1 Axes>"
            ]
          },
          "metadata": {
            "tags": [],
            "needs_background": "light"
          }
        }
      ]
    },
    {
      "cell_type": "code",
      "metadata": {
        "id": "doOeuNACK3aF",
        "outputId": "787dcc07-6087-4024-90a3-207d24e77aee",
        "colab": {
          "base_uri": "https://localhost:8080/",
          "height": 334
        }
      },
      "source": [
        "c4usercourses[c4usercourses['team'] == 'Pink']\n",
        "team_lateness_boolean[team_lateness_boolean['team'] == 'Pink']\n",
        "\n",
        "members_late = team_lateness_boolean[[\"team\", \"late\"]].groupby(\"team\").sum()\n",
        "team_size = team_lateness_boolean[[\"team\", \"user_id\"]].groupby(\"team\").nunique()\n",
        "\n",
        "members_late[\"num_members\"] = team_size\n",
        "members_late[\"perc_late\"] = members_late[\"late\"] / members_late[\"num_members\"]\n",
        "members_late = members_late.reset_index()\n",
        "members_late[[\"team\", \"perc_late\"]].plot.bar(x = \"team\", title = \"Proportion of members in the team who made a late question in cycles 1 and 2\", ylabel = \"proportion\")"
      ],
      "execution_count": null,
      "outputs": [
        {
          "output_type": "execute_result",
          "data": {
            "text/plain": [
              "<matplotlib.axes._subplots.AxesSubplot at 0x7fc09685e438>"
            ]
          },
          "metadata": {
            "tags": []
          },
          "execution_count": 62
        },
        {
          "output_type": "display_data",
          "data": {
            "image/png": "[encoded data removed]",
            "text/plain": [
              "<Figure size 432x288 with 1 Axes>"
            ]
          },
          "metadata": {
            "tags": [],
            "needs_background": "light"
          }
        }
      ]
    }
  ]
}
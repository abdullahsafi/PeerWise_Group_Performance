{
  "nbformat": 4,
  "nbformat_minor": 0,
  "metadata": {
    "colab": {
      "name": "PRETTY PLOTS .ipynb",
      "provenance": [],
      "collapsed_sections": []
    },
    "kernelspec": {
      "name": "python3",
      "display_name": "Python 3"
    }
  },
  "cells": [
    {
      "cell_type": "markdown",
      "metadata": {
        "id": "akswqa5Ap2mk"
      },
      "source": [
        "# Data 3406 Assignment 2\n",
        "- Intro"
      ]
    },
    {
      "cell_type": "code",
      "metadata": {
        "id": "AcAlTik5rq99",
        "outputId": "dfdb72b5-3f96-4344-bd3c-3f6b632a7ce3",
        "colab": {
          "base_uri": "https://localhost:8080/"
        }
      },
      "source": [
        "from google.colab import drive\n",
        "drive.mount('/content/drive')"
      ],
      "execution_count": 3,
      "outputs": [
        {
          "output_type": "stream",
          "text": [
            "Mounted at /content/drive\n"
          ],
          "name": "stdout"
        }
      ]
    },
    {
      "cell_type": "markdown",
      "metadata": {
        "id": "R7Xf5AYxp3JZ"
      },
      "source": [
        "## Loading Packages"
      ]
    },
    {
      "cell_type": "code",
      "metadata": {
        "id": "DMIVSwcds0Nb"
      },
      "source": [
        "import pandas as pd \n",
        "import numpy as np\n",
        "from matplotlib import pyplot as plt\n",
        "import plotly.express as px\n",
        "from plotly.subplots import make_subplots\n",
        "import plotly.graph_objects as go"
      ],
      "execution_count": 249,
      "outputs": []
    },
    {
      "cell_type": "markdown",
      "metadata": {
        "id": "O3YqgdTSp26d"
      },
      "source": [
        "## Loading Data"
      ]
    },
    {
      "cell_type": "code",
      "metadata": {
        "id": "4uYffa5Hs0qW"
      },
      "source": [
        "# path: DELETE THIS LATER\n",
        "\n",
        "path = \"/content/drive/MyDrive/Colab Notebooks/ASSIGNMENT 2/data/\"\n",
        "# Courses\n",
        "c1courses = pd.read_excel(path+\"C1 Courses.xlsx\")\n",
        "c2courses = pd.read_excel(path+\"C2 Courses.xlsx\")\n",
        "c3courses = pd.read_excel(path+\"C3 Courses.xlsx\")\n",
        "c4courses = pd.read_excel(path+\"C4Courses.xlsx\")\n",
        "\n",
        "# Questions\n",
        "c1questions = pd.read_excel(path+\"C1 Questions.xlsx\")\n",
        "c2questions = pd.read_excel(path+\"C2 Questions.xlsx\")\n",
        "c3questions = pd.read_excel(path+\"C3 Questions.xlsx\")\n",
        "c4questions = pd.read_excel(path+\"C4Questions.xlsx\")\n",
        "c4usercourses = pd.read_excel(path+\"C4UsersCourses.xlsx\")\n",
        "\n",
        "#Answers\n",
        "c3answers = pd.read_excel(path+\"C3 Answers.xlsx\")\n",
        "\n",
        "#Comments\n",
        "c1comments = pd.read_excel(path+\"C1 Comments.xlsx\")\n",
        "c2comments = pd.read_excel(path+\"C2 Comments.xlsx\")\n",
        "c4comments = pd.read_excel(path+\"C4Comments.xlsx\")\n",
        "c4usercourses = pd.read_excel(path+\"C4UsersCourses.xlsx\")"
      ],
      "execution_count": 250,
      "outputs": []
    },
    {
      "cell_type": "markdown",
      "metadata": {
        "id": "pMDnZYRXp3Uy"
      },
      "source": [
        "## Cleaning Data\n",
        "- Explain how you dealt with 0 and missing data values.\n",
        "- Explain how and why you transformed the data."
      ]
    },
    {
      "cell_type": "code",
      "metadata": {
        "id": "mG_4xOM1s28f"
      },
      "source": [
        ""
      ],
      "execution_count": null,
      "outputs": []
    },
    {
      "cell_type": "markdown",
      "metadata": {
        "id": "uvpuEp4Sqz8P"
      },
      "source": [
        "## Exploration of Dataset\n",
        "- How we joined the datasets and different data sources we had access to eg different cycles\n",
        "- The methods you used to understand the data (especially in the process notebooks).\n",
        "- The measures of data distributions for numbers: stats that include minimum, maximum,\n",
        "central tendency, spread measures, SD, IQR and visual presentation, histograms.\n",
        "- The analysis for correlations, stats and visual presentation.\n",
        "- Document the independence of each variable from others and your reasoning about this.\n",
        "- Document your emerging understanding of the adequacy of the raw data and the degree to\n",
        "which unknowns and unavailable data impact the validity and certainty of the results.\n",
        "- Explore measures of fairness.\n",
        "- Report how you identified outliers and explain how you dealt with them.\n",
        "\n",
        "- Explain how you reasoned about the uncertainty and decisions made about reporting\n",
        "results to account for that, both in statistics and visual presentation."
      ]
    },
    {
      "cell_type": "code",
      "metadata": {
        "id": "oLohUmils12o"
      },
      "source": [
        ""
      ],
      "execution_count": null,
      "outputs": []
    },
    {
      "cell_type": "markdown",
      "metadata": {
        "id": "NHtaP2Z7q4wa"
      },
      "source": [
        "### Question/Comment Ratings Summary\n",
        "- Put summaries of marks (academic mark and average rating and plots here)\n",
        "- Histogram of distribution of average ratings"
      ]
    },
    {
      "cell_type": "code",
      "metadata": {
        "id": "kNJlNmUfs2X5"
      },
      "source": [
        ""
      ],
      "execution_count": null,
      "outputs": []
    },
    {
      "cell_type": "markdown",
      "metadata": {
        "id": "UVLX_oOGrWeH"
      },
      "source": [
        "## Uncertainty\n",
        "- What contributes a good question"
      ]
    },
    {
      "cell_type": "markdown",
      "metadata": {
        "id": "TIbGHytnrWzq"
      },
      "source": [
        "## Description of the different cycles"
      ]
    },
    {
      "cell_type": "markdown",
      "metadata": {
        "id": "rZcRNgy9uPqE"
      },
      "source": [
        "## Lateness of Questions\n",
        "- Yan Question delay file"
      ]
    },
    {
      "cell_type": "code",
      "metadata": {
        "id": "kC7azqstxRMJ",
        "outputId": "f10c12f4-e618-4398-a70f-35e95b4b9022",
        "colab": {
          "base_uri": "https://localhost:8080/"
        }
      },
      "source": [
        "print(\"c1courses columns:\", c1courses.columns.to_list())\n",
        "print(\"c1questions columns:\", c1questions.columns.to_list())"
      ],
      "execution_count": 251,
      "outputs": [
        {
          "output_type": "stream",
          "text": [
            "c1courses columns: ['CourseID', 'StartDate', 'Deadline_Cmmnt', 'Deadline_Qustn']\n",
            "c1questions columns: ['id', 'course_id', 'timestamp', 'user', 'avg_rating', 'total_responses', 'total_ratings', 'top_rating_count', 'avg_difficulty', 'total_comments', 'deleted', 'answer', 'numAlts', 'question', 'altA', 'altB', 'altC', 'altD', 'altE', 'explanation']\n"
          ],
          "name": "stdout"
        }
      ]
    },
    {
      "cell_type": "markdown",
      "metadata": {
        "id": "royjO6IGxeXJ"
      },
      "source": [
        "Cycle 1"
      ]
    },
    {
      "cell_type": "code",
      "metadata": {
        "id": "ONxOM7aIxRO5"
      },
      "source": [
        "c1courses.rename(columns = {\"CourseID\" : \"course_id\", \"StartDate\" : \"cycle_start\", \"Deadline_Cmmnt\" : \"comment_due\", \"Deadline_Qustn\" : \"question_due\"}, inplace = True)\n",
        "c1questions.rename(columns = {\"id\" : \"question_id\", \"timestamp\" : \"question_time\", \"user\" : \"user_id\"}, inplace = True)"
      ],
      "execution_count": 252,
      "outputs": []
    },
    {
      "cell_type": "code",
      "metadata": {
        "id": "d_lcxvPWxRaK",
        "outputId": "c0c012f6-98bc-41e1-e872-0517be4a39e6",
        "colab": {
          "base_uri": "https://localhost:8080/",
          "height": 617
        }
      },
      "source": [
        "c1questions = c1questions.astype({\"course_id\" : \"int64\", \"question_time\" : 'datetime64'})\n",
        "c1courses = c1courses.convert_dtypes()\n",
        "\n",
        "c1combined = c1courses.merge(c1questions, on = \"course_id\")\n",
        "c1combined.head()"
      ],
      "execution_count": 253,
      "outputs": [
        {
          "output_type": "execute_result",
          "data": {
            "text/html": [
              "<div>\n",
              "<style scoped>\n",
              "    .dataframe tbody tr th:only-of-type {\n",
              "        vertical-align: middle;\n",
              "    }\n",
              "\n",
              "    .dataframe tbody tr th {\n",
              "        vertical-align: top;\n",
              "    }\n",
              "\n",
              "    .dataframe thead th {\n",
              "        text-align: right;\n",
              "    }\n",
              "</style>\n",
              "<table border=\"1\" class=\"dataframe\">\n",
              "  <thead>\n",
              "    <tr style=\"text-align: right;\">\n",
              "      <th></th>\n",
              "      <th>course_id</th>\n",
              "      <th>cycle_start</th>\n",
              "      <th>comment_due</th>\n",
              "      <th>question_due</th>\n",
              "      <th>question_id</th>\n",
              "      <th>question_time</th>\n",
              "      <th>user_id</th>\n",
              "      <th>avg_rating</th>\n",
              "      <th>total_responses</th>\n",
              "      <th>total_ratings</th>\n",
              "      <th>top_rating_count</th>\n",
              "      <th>avg_difficulty</th>\n",
              "      <th>total_comments</th>\n",
              "      <th>deleted</th>\n",
              "      <th>answer</th>\n",
              "      <th>numAlts</th>\n",
              "      <th>question</th>\n",
              "      <th>altA</th>\n",
              "      <th>altB</th>\n",
              "      <th>altC</th>\n",
              "      <th>altD</th>\n",
              "      <th>altE</th>\n",
              "      <th>explanation</th>\n",
              "    </tr>\n",
              "  </thead>\n",
              "  <tbody>\n",
              "    <tr>\n",
              "      <th>0</th>\n",
              "      <td>20995</td>\n",
              "      <td>2020-03-09</td>\n",
              "      <td>2020-03-17 01:00:10</td>\n",
              "      <td>2020-03-10 01:00:10</td>\n",
              "      <td>4342368</td>\n",
              "      <td>2020-03-04 17:52:14</td>\n",
              "      <td>217514</td>\n",
              "      <td>0.00</td>\n",
              "      <td>0</td>\n",
              "      <td>0</td>\n",
              "      <td>0</td>\n",
              "      <td>0.0000</td>\n",
              "      <td>0</td>\n",
              "      <td>2</td>\n",
              "      <td>A</td>\n",
              "      <td>4</td>\n",
              "      <td>&lt;p&gt;[2a] In early 1950s high quality X-ray dif...</td>\n",
              "      <td>&lt;p&gt;Rosalind Franklin&lt;br /&gt;&lt;br /&gt;&lt;/p&gt;         ...</td>\n",
              "      <td>&lt;p&gt;Edwin Chargaff&lt;br /&gt;&lt;br /&gt;&lt;/p&gt;            ...</td>\n",
              "      <td>&lt;p&gt;Watson and Crick&lt;/p&gt;                      ...</td>\n",
              "      <td>&lt;p&gt;Frederick Meischer&lt;/p&gt;                    ...</td>\n",
              "      <td>...</td>\n",
              "      <td>&lt;p&gt;It was Franklin. &amp;nbsp;Watson and Crick ob...</td>\n",
              "    </tr>\n",
              "    <tr>\n",
              "      <th>1</th>\n",
              "      <td>20995</td>\n",
              "      <td>2020-03-09</td>\n",
              "      <td>2020-03-17 01:00:10</td>\n",
              "      <td>2020-03-10 01:00:10</td>\n",
              "      <td>4342370</td>\n",
              "      <td>2020-03-04 17:52:14</td>\n",
              "      <td>217514</td>\n",
              "      <td>0.50</td>\n",
              "      <td>7</td>\n",
              "      <td>4</td>\n",
              "      <td>0</td>\n",
              "      <td>0.2500</td>\n",
              "      <td>5</td>\n",
              "      <td>0</td>\n",
              "      <td>A</td>\n",
              "      <td>4</td>\n",
              "      <td>&lt;p&gt;[Table X - Topic 2a] In early 1950s high q...</td>\n",
              "      <td>&lt;p&gt;Rosalind Franklin&lt;br /&gt;&lt;br /&gt;&lt;/p&gt;         ...</td>\n",
              "      <td>&lt;p&gt;Edwin Chargaff&lt;br /&gt;&lt;br /&gt;&lt;/p&gt;            ...</td>\n",
              "      <td>&lt;p&gt;Watson and Crick&lt;/p&gt;                      ...</td>\n",
              "      <td>&lt;p&gt;Frederick Meischer&lt;/p&gt;                    ...</td>\n",
              "      <td>...</td>\n",
              "      <td>&lt;p&gt;It was Franklin. &amp;nbsp;Watson and Crick ob...</td>\n",
              "    </tr>\n",
              "    <tr>\n",
              "      <th>2</th>\n",
              "      <td>20995</td>\n",
              "      <td>2020-03-09</td>\n",
              "      <td>2020-03-17 01:00:10</td>\n",
              "      <td>2020-03-10 01:00:10</td>\n",
              "      <td>4349814</td>\n",
              "      <td>2020-03-09 15:55:46</td>\n",
              "      <td>636010</td>\n",
              "      <td>2.33</td>\n",
              "      <td>10</td>\n",
              "      <td>9</td>\n",
              "      <td>0</td>\n",
              "      <td>0.2222</td>\n",
              "      <td>6</td>\n",
              "      <td>0</td>\n",
              "      <td>B</td>\n",
              "      <td>4</td>\n",
              "      <td>&lt;p&gt;Which of the following statements is true ...</td>\n",
              "      <td>&lt;p&gt;DNA polymerase can synthesize mRNA in the ...</td>\n",
              "      <td>&lt;p&gt;DNA polymerase can synthesize DNA in the 5...</td>\n",
              "      <td>&lt;p&gt;DNA polymerase can synthesize mRNA in the ...</td>\n",
              "      <td>&lt;p&gt;DNA polymerase can synthesize DNA in the 3...</td>\n",
              "      <td>...</td>\n",
              "      <td>&lt;p&gt;DNA polymerase is only able to synthesize ...</td>\n",
              "    </tr>\n",
              "    <tr>\n",
              "      <th>3</th>\n",
              "      <td>20995</td>\n",
              "      <td>2020-03-09</td>\n",
              "      <td>2020-03-17 01:00:10</td>\n",
              "      <td>2020-03-10 01:00:10</td>\n",
              "      <td>4349841</td>\n",
              "      <td>2020-03-09 16:16:45</td>\n",
              "      <td>636012</td>\n",
              "      <td>2.25</td>\n",
              "      <td>5</td>\n",
              "      <td>4</td>\n",
              "      <td>0</td>\n",
              "      <td>1.0000</td>\n",
              "      <td>3</td>\n",
              "      <td>0</td>\n",
              "      <td>B</td>\n",
              "      <td>5</td>\n",
              "      <td>&lt;p&gt;The structure of DNA is closely related to...</td>\n",
              "      <td>&lt;p&gt;All base pairs interact by forming three h...</td>\n",
              "      <td>&lt;p&gt;DNA is comprised of nucleotide subunits ea...</td>\n",
              "      <td>&lt;p&gt;The double helix of DNA is stabilized by i...</td>\n",
              "      <td>&lt;p&gt;Each DNA sequence folds into a unique and ...</td>\n",
              "      <td>&lt;p&gt;DNA base pairs are held together by strong...</td>\n",
              "      <td>&lt;p&gt;DNA is made up of nucleotide subunits boun...</td>\n",
              "    </tr>\n",
              "    <tr>\n",
              "      <th>4</th>\n",
              "      <td>20995</td>\n",
              "      <td>2020-03-09</td>\n",
              "      <td>2020-03-17 01:00:10</td>\n",
              "      <td>2020-03-10 01:00:10</td>\n",
              "      <td>4349844</td>\n",
              "      <td>2020-03-09 16:17:41</td>\n",
              "      <td>636018</td>\n",
              "      <td>2.67</td>\n",
              "      <td>5</td>\n",
              "      <td>3</td>\n",
              "      <td>0</td>\n",
              "      <td>0.3333</td>\n",
              "      <td>4</td>\n",
              "      <td>0</td>\n",
              "      <td>C</td>\n",
              "      <td>4</td>\n",
              "      <td>&lt;p&gt;In a DNA molecule, Chargaff's rule means t...</td>\n",
              "      <td>&lt;p&gt;The amount of Adenine and Thymine = The am...</td>\n",
              "      <td>&lt;p&gt;The amount of Cytosine and Guanine = The a...</td>\n",
              "      <td>&lt;p&gt;The amount of Adenine and Guanine = The am...</td>\n",
              "      <td>&lt;p&gt;All of the above&lt;/p&gt;                      ...</td>\n",
              "      <td>...</td>\n",
              "      <td>&lt;p&gt;Chargaff's rule states that the number of ...</td>\n",
              "    </tr>\n",
              "  </tbody>\n",
              "</table>\n",
              "</div>"
            ],
            "text/plain": [
              "   course_id  ...                                        explanation\n",
              "0      20995  ...   <p>It was Franklin. &nbsp;Watson and Crick ob...\n",
              "1      20995  ...   <p>It was Franklin. &nbsp;Watson and Crick ob...\n",
              "2      20995  ...   <p>DNA polymerase is only able to synthesize ...\n",
              "3      20995  ...   <p>DNA is made up of nucleotide subunits boun...\n",
              "4      20995  ...   <p>Chargaff's rule states that the number of ...\n",
              "\n",
              "[5 rows x 23 columns]"
            ]
          },
          "metadata": {
            "tags": []
          },
          "execution_count": 253
        }
      ]
    },
    {
      "cell_type": "markdown",
      "metadata": {
        "id": "T2iTgm5VxbhN"
      },
      "source": [
        "Cycle 2\n"
      ]
    },
    {
      "cell_type": "code",
      "metadata": {
        "id": "Pg4hk6-UxRX3"
      },
      "source": [
        "c1combined[\"question_delta\"] = (c1combined[\"question_time\"] - c1combined[\"question_due\"])\n",
        "c1combined[\"question_beforedue\"] = (c1combined[\"question_due\"] - c1combined[\"question_time\"])\n",
        "c1combined[\"late\"] = c1combined[\"question_time\"] > c1combined[\"question_due\"]\n"
      ],
      "execution_count": 254,
      "outputs": []
    },
    {
      "cell_type": "code",
      "metadata": {
        "id": "FuYHBXczxRVs"
      },
      "source": [
        "c2courses.rename(columns = {\"CourseID\" : \"course_id\", \"StartDate\" : \"cycle_start\", \"Deadline_Comment\" : \"comment_due\", \"Deadline_Question\" : \"question_due\"}, inplace = True)\n",
        "c2courses.drop(\"CourseName\", axis = 1, inplace = True)\n",
        "c2questions.rename(columns = {\"id\" : \"question_id\", \"timestamp\" : \"question_time\", \"user\" : \"user_id\"}, inplace = True)"
      ],
      "execution_count": 255,
      "outputs": []
    },
    {
      "cell_type": "code",
      "metadata": {
        "id": "U1JAnzHSxRT9",
        "outputId": "14dfa516-4fd5-42a9-852e-9b32d8ef7c93",
        "colab": {
          "base_uri": "https://localhost:8080/",
          "height": 601
        }
      },
      "source": [
        "c2questions = c2questions.astype({\"course_id\" : \"int64\", \"question_time\" : 'datetime64'})\n",
        "c2courses = c2courses.convert_dtypes()\n",
        "\n",
        "c2combined = c2courses.merge(c2questions, on = \"course_id\")\n",
        "c2combined.head()"
      ],
      "execution_count": 256,
      "outputs": [
        {
          "output_type": "execute_result",
          "data": {
            "text/html": [
              "<div>\n",
              "<style scoped>\n",
              "    .dataframe tbody tr th:only-of-type {\n",
              "        vertical-align: middle;\n",
              "    }\n",
              "\n",
              "    .dataframe tbody tr th {\n",
              "        vertical-align: top;\n",
              "    }\n",
              "\n",
              "    .dataframe thead th {\n",
              "        text-align: right;\n",
              "    }\n",
              "</style>\n",
              "<table border=\"1\" class=\"dataframe\">\n",
              "  <thead>\n",
              "    <tr style=\"text-align: right;\">\n",
              "      <th></th>\n",
              "      <th>course_id</th>\n",
              "      <th>cycle_start</th>\n",
              "      <th>comment_due</th>\n",
              "      <th>question_due</th>\n",
              "      <th>question_id</th>\n",
              "      <th>question_time</th>\n",
              "      <th>user_id</th>\n",
              "      <th>avg_rating</th>\n",
              "      <th>total_responses</th>\n",
              "      <th>total_ratings</th>\n",
              "      <th>top_rating_count</th>\n",
              "      <th>avg_difficulty</th>\n",
              "      <th>total_comments</th>\n",
              "      <th>deleted</th>\n",
              "      <th>answer</th>\n",
              "      <th>question</th>\n",
              "      <th>numAlts</th>\n",
              "      <th>altA</th>\n",
              "      <th>altB</th>\n",
              "      <th>altC</th>\n",
              "      <th>altD</th>\n",
              "      <th>altE</th>\n",
              "      <th>explanation</th>\n",
              "    </tr>\n",
              "  </thead>\n",
              "  <tbody>\n",
              "    <tr>\n",
              "      <th>0</th>\n",
              "      <td>21140</td>\n",
              "      <td>2020-03-23</td>\n",
              "      <td>2020-04-05 01:00:10</td>\n",
              "      <td>2020-03-30 01:00:10</td>\n",
              "      <td>4391826</td>\n",
              "      <td>2020-03-26 19:10:48</td>\n",
              "      <td>636022</td>\n",
              "      <td>3.5</td>\n",
              "      <td>5</td>\n",
              "      <td>2</td>\n",
              "      <td>0</td>\n",
              "      <td>0.5</td>\n",
              "      <td>3</td>\n",
              "      <td>0</td>\n",
              "      <td>B</td>\n",
              "      <td>&lt;p&gt;Which of the following pair includes a pha...</td>\n",
              "      <td>4</td>\n",
              "      <td>&lt;p&gt;G1 phase, DNA replication&lt;/p&gt;             ...</td>\n",
              "      <td>&lt;p&gt;G2 phase, preparation for mitosis&lt;/p&gt;     ...</td>\n",
              "      <td>&lt;p&gt;S phase, cell division&lt;/p&gt;                ...</td>\n",
              "      <td>&lt;p&gt;M phase, cell growth&lt;/p&gt;                  ...</td>\n",
              "      <td>...</td>\n",
              "      <td>&lt;p&gt;G1 phase is growth and preparation of the ...</td>\n",
              "    </tr>\n",
              "    <tr>\n",
              "      <th>1</th>\n",
              "      <td>21140</td>\n",
              "      <td>2020-03-23</td>\n",
              "      <td>2020-04-05 01:00:10</td>\n",
              "      <td>2020-03-30 01:00:10</td>\n",
              "      <td>4392006</td>\n",
              "      <td>2020-03-26 20:54:26</td>\n",
              "      <td>636011</td>\n",
              "      <td>3.5</td>\n",
              "      <td>8</td>\n",
              "      <td>6</td>\n",
              "      <td>1</td>\n",
              "      <td>1.0</td>\n",
              "      <td>6</td>\n",
              "      <td>2</td>\n",
              "      <td>D</td>\n",
              "      <td>&lt;p&gt;A telomere has a repetitive nucleotide seq...</td>\n",
              "      <td>5</td>\n",
              "      <td>&lt;p&gt;4, 3, 1, 2, 5&lt;/p&gt;                         ...</td>\n",
              "      <td>&lt;p&gt;1, 2, 3, 4, 5&lt;/p&gt;                         ...</td>\n",
              "      <td>&lt;p&gt;2, 5, 4, 1, 3&lt;/p&gt;                         ...</td>\n",
              "      <td>&lt;p&gt;4, 2, 1, 3, 5&lt;/p&gt;                         ...</td>\n",
              "      <td>&lt;p&gt;2, 4, 1, 5, 3&lt;/p&gt;                         ...</td>\n",
              "      <td>&lt;p&gt;The correct answer is D with steps numbere...</td>\n",
              "    </tr>\n",
              "    <tr>\n",
              "      <th>2</th>\n",
              "      <td>21140</td>\n",
              "      <td>2020-03-23</td>\n",
              "      <td>2020-04-05 01:00:10</td>\n",
              "      <td>2020-03-30 01:00:10</td>\n",
              "      <td>4392084</td>\n",
              "      <td>2020-03-26 21:46:58</td>\n",
              "      <td>635990</td>\n",
              "      <td>3.5</td>\n",
              "      <td>3</td>\n",
              "      <td>2</td>\n",
              "      <td>0</td>\n",
              "      <td>1.0</td>\n",
              "      <td>2</td>\n",
              "      <td>0</td>\n",
              "      <td>D</td>\n",
              "      <td>&lt;p&gt;Table 8:&lt;/p&gt;&lt;p&gt;Which of the following stat...</td>\n",
              "      <td>4</td>\n",
              "      <td>&lt;p&gt;G0 is an optional part of the cell cycle w...</td>\n",
              "      <td>&lt;p&gt;All Eukaryotic cells which divide via the ...</td>\n",
              "      <td>&lt;p&gt;In G0 phase, a cell replicates its DNA to ...</td>\n",
              "      <td>&lt;p&gt;Some types of cells can enter G0 phase and...</td>\n",
              "      <td>...</td>\n",
              "      <td>&lt;p&gt;The answer is D: G0 phase occurs when cell...</td>\n",
              "    </tr>\n",
              "    <tr>\n",
              "      <th>3</th>\n",
              "      <td>21140</td>\n",
              "      <td>2020-03-23</td>\n",
              "      <td>2020-04-05 01:00:10</td>\n",
              "      <td>2020-03-30 01:00:10</td>\n",
              "      <td>4392568</td>\n",
              "      <td>2020-03-27 01:07:25</td>\n",
              "      <td>636008</td>\n",
              "      <td>0.0</td>\n",
              "      <td>0</td>\n",
              "      <td>0</td>\n",
              "      <td>0</td>\n",
              "      <td>0.0</td>\n",
              "      <td>0</td>\n",
              "      <td>2</td>\n",
              "      <td>B</td>\n",
              "      <td>&lt;p&gt;There are some cells with different settin...</td>\n",
              "      <td>5</td>\n",
              "      <td>&lt;p&gt;a&lt;/p&gt;                                     ...</td>\n",
              "      <td>&lt;p&gt;b&lt;/p&gt;                                     ...</td>\n",
              "      <td>&lt;p&gt;c&lt;/p&gt;                                     ...</td>\n",
              "      <td>&lt;p&gt;d&lt;/p&gt;                                     ...</td>\n",
              "      <td>&lt;p&gt;e&lt;/p&gt;                                     ...</td>\n",
              "      <td>&lt;p&gt;All normal cells including heart cells and...</td>\n",
              "    </tr>\n",
              "    <tr>\n",
              "      <th>4</th>\n",
              "      <td>21140</td>\n",
              "      <td>2020-03-23</td>\n",
              "      <td>2020-04-05 01:00:10</td>\n",
              "      <td>2020-03-30 01:00:10</td>\n",
              "      <td>4392616</td>\n",
              "      <td>2020-03-27 01:25:01</td>\n",
              "      <td>636014</td>\n",
              "      <td>3.0</td>\n",
              "      <td>1</td>\n",
              "      <td>1</td>\n",
              "      <td>0</td>\n",
              "      <td>1.0</td>\n",
              "      <td>1</td>\n",
              "      <td>2</td>\n",
              "      <td>B</td>\n",
              "      <td>&lt;p&gt;Mary is a healthy 17 years old teenager wh...</td>\n",
              "      <td>5</td>\n",
              "      <td>&lt;p&gt;Too much telomerase activity can cause chr...</td>\n",
              "      <td>&lt;p&gt;The supplement can result in permanent act...</td>\n",
              "      <td>&lt;p&gt;The supplement can result in permanent act...</td>\n",
              "      <td>&lt;p&gt;The activation of telomerase does not allo...</td>\n",
              "      <td>&lt;p&gt;The activation of telomerase lowers the ra...</td>\n",
              "      <td>&lt;p&gt;The progressive shortening of telomeres as...</td>\n",
              "    </tr>\n",
              "  </tbody>\n",
              "</table>\n",
              "</div>"
            ],
            "text/plain": [
              "   course_id  ...                                        explanation\n",
              "0      21140  ...   <p>G1 phase is growth and preparation of the ...\n",
              "1      21140  ...   <p>The correct answer is D with steps numbere...\n",
              "2      21140  ...   <p>The answer is D: G0 phase occurs when cell...\n",
              "3      21140  ...   <p>All normal cells including heart cells and...\n",
              "4      21140  ...   <p>The progressive shortening of telomeres as...\n",
              "\n",
              "[5 rows x 23 columns]"
            ]
          },
          "metadata": {
            "tags": []
          },
          "execution_count": 256
        }
      ]
    },
    {
      "cell_type": "code",
      "metadata": {
        "id": "YqjR_r_8xRRn"
      },
      "source": [
        "c2combined[\"question_delta\"] = (c2combined[\"question_time\"] - c2combined[\"question_due\"])\n",
        "c2combined[\"question_beforedue\"] = (c2combined[\"question_due\"] - c2combined[\"question_time\"])\n",
        "c2combined[\"late\"] = c2combined[\"question_time\"] > c2combined[\"question_due\"]"
      ],
      "execution_count": 257,
      "outputs": []
    },
    {
      "cell_type": "markdown",
      "metadata": {
        "id": "HyfwjtVjZ6av"
      },
      "source": [
        "Combining"
      ]
    },
    {
      "cell_type": "code",
      "metadata": {
        "id": "gpLvBNhXZ9K8",
        "outputId": "c13c3178-51ca-4447-926f-e0d73ed951fb",
        "colab": {
          "base_uri": "https://localhost:8080/",
          "height": 1000
        }
      },
      "source": [
        "c1combined[\"cycle\"] = 1\n",
        "c2combined[\"cycle\"] = 2\n",
        "\n",
        "all_combined = pd.concat([c1combined, c2combined])\n",
        "all_combined = all_combined.astype({\"course_id\" : \"int64\", \"user_id\" : \"int64\", \"question_id\" : \"int64\"})\n",
        "#all_combined[all_combined['late']].sort_values(by = 'question_beforedue', ascending = False)\n",
        "all_combined"
      ],
      "execution_count": 258,
      "outputs": [
        {
          "output_type": "execute_result",
          "data": {
            "text/html": [
              "<div>\n",
              "<style scoped>\n",
              "    .dataframe tbody tr th:only-of-type {\n",
              "        vertical-align: middle;\n",
              "    }\n",
              "\n",
              "    .dataframe tbody tr th {\n",
              "        vertical-align: top;\n",
              "    }\n",
              "\n",
              "    .dataframe thead th {\n",
              "        text-align: right;\n",
              "    }\n",
              "</style>\n",
              "<table border=\"1\" class=\"dataframe\">\n",
              "  <thead>\n",
              "    <tr style=\"text-align: right;\">\n",
              "      <th></th>\n",
              "      <th>course_id</th>\n",
              "      <th>cycle_start</th>\n",
              "      <th>comment_due</th>\n",
              "      <th>question_due</th>\n",
              "      <th>question_id</th>\n",
              "      <th>question_time</th>\n",
              "      <th>user_id</th>\n",
              "      <th>avg_rating</th>\n",
              "      <th>total_responses</th>\n",
              "      <th>total_ratings</th>\n",
              "      <th>top_rating_count</th>\n",
              "      <th>avg_difficulty</th>\n",
              "      <th>total_comments</th>\n",
              "      <th>deleted</th>\n",
              "      <th>answer</th>\n",
              "      <th>numAlts</th>\n",
              "      <th>question</th>\n",
              "      <th>altA</th>\n",
              "      <th>altB</th>\n",
              "      <th>altC</th>\n",
              "      <th>altD</th>\n",
              "      <th>altE</th>\n",
              "      <th>explanation</th>\n",
              "      <th>question_delta</th>\n",
              "      <th>question_beforedue</th>\n",
              "      <th>late</th>\n",
              "      <th>cycle</th>\n",
              "    </tr>\n",
              "  </thead>\n",
              "  <tbody>\n",
              "    <tr>\n",
              "      <th>0</th>\n",
              "      <td>20995</td>\n",
              "      <td>2020-03-09</td>\n",
              "      <td>2020-03-17 01:00:10</td>\n",
              "      <td>2020-03-10 01:00:10</td>\n",
              "      <td>4342368</td>\n",
              "      <td>2020-03-04 17:52:14</td>\n",
              "      <td>217514</td>\n",
              "      <td>0.00</td>\n",
              "      <td>0</td>\n",
              "      <td>0</td>\n",
              "      <td>0</td>\n",
              "      <td>0.0000</td>\n",
              "      <td>0</td>\n",
              "      <td>2</td>\n",
              "      <td>A</td>\n",
              "      <td>4</td>\n",
              "      <td>&lt;p&gt;[2a] In early 1950s high quality X-ray dif...</td>\n",
              "      <td>&lt;p&gt;Rosalind Franklin&lt;br /&gt;&lt;br /&gt;&lt;/p&gt;         ...</td>\n",
              "      <td>&lt;p&gt;Edwin Chargaff&lt;br /&gt;&lt;br /&gt;&lt;/p&gt;            ...</td>\n",
              "      <td>&lt;p&gt;Watson and Crick&lt;/p&gt;                      ...</td>\n",
              "      <td>&lt;p&gt;Frederick Meischer&lt;/p&gt;                    ...</td>\n",
              "      <td>...</td>\n",
              "      <td>&lt;p&gt;It was Franklin. &amp;nbsp;Watson and Crick ob...</td>\n",
              "      <td>-6 days +16:52:04</td>\n",
              "      <td>5 days 07:07:56</td>\n",
              "      <td>False</td>\n",
              "      <td>1</td>\n",
              "    </tr>\n",
              "    <tr>\n",
              "      <th>1</th>\n",
              "      <td>20995</td>\n",
              "      <td>2020-03-09</td>\n",
              "      <td>2020-03-17 01:00:10</td>\n",
              "      <td>2020-03-10 01:00:10</td>\n",
              "      <td>4342370</td>\n",
              "      <td>2020-03-04 17:52:14</td>\n",
              "      <td>217514</td>\n",
              "      <td>0.50</td>\n",
              "      <td>7</td>\n",
              "      <td>4</td>\n",
              "      <td>0</td>\n",
              "      <td>0.2500</td>\n",
              "      <td>5</td>\n",
              "      <td>0</td>\n",
              "      <td>A</td>\n",
              "      <td>4</td>\n",
              "      <td>&lt;p&gt;[Table X - Topic 2a] In early 1950s high q...</td>\n",
              "      <td>&lt;p&gt;Rosalind Franklin&lt;br /&gt;&lt;br /&gt;&lt;/p&gt;         ...</td>\n",
              "      <td>&lt;p&gt;Edwin Chargaff&lt;br /&gt;&lt;br /&gt;&lt;/p&gt;            ...</td>\n",
              "      <td>&lt;p&gt;Watson and Crick&lt;/p&gt;                      ...</td>\n",
              "      <td>&lt;p&gt;Frederick Meischer&lt;/p&gt;                    ...</td>\n",
              "      <td>...</td>\n",
              "      <td>&lt;p&gt;It was Franklin. &amp;nbsp;Watson and Crick ob...</td>\n",
              "      <td>-6 days +16:52:04</td>\n",
              "      <td>5 days 07:07:56</td>\n",
              "      <td>False</td>\n",
              "      <td>1</td>\n",
              "    </tr>\n",
              "    <tr>\n",
              "      <th>2</th>\n",
              "      <td>20995</td>\n",
              "      <td>2020-03-09</td>\n",
              "      <td>2020-03-17 01:00:10</td>\n",
              "      <td>2020-03-10 01:00:10</td>\n",
              "      <td>4349814</td>\n",
              "      <td>2020-03-09 15:55:46</td>\n",
              "      <td>636010</td>\n",
              "      <td>2.33</td>\n",
              "      <td>10</td>\n",
              "      <td>9</td>\n",
              "      <td>0</td>\n",
              "      <td>0.2222</td>\n",
              "      <td>6</td>\n",
              "      <td>0</td>\n",
              "      <td>B</td>\n",
              "      <td>4</td>\n",
              "      <td>&lt;p&gt;Which of the following statements is true ...</td>\n",
              "      <td>&lt;p&gt;DNA polymerase can synthesize mRNA in the ...</td>\n",
              "      <td>&lt;p&gt;DNA polymerase can synthesize DNA in the 5...</td>\n",
              "      <td>&lt;p&gt;DNA polymerase can synthesize mRNA in the ...</td>\n",
              "      <td>&lt;p&gt;DNA polymerase can synthesize DNA in the 3...</td>\n",
              "      <td>...</td>\n",
              "      <td>&lt;p&gt;DNA polymerase is only able to synthesize ...</td>\n",
              "      <td>-1 days +14:55:36</td>\n",
              "      <td>0 days 09:04:24</td>\n",
              "      <td>False</td>\n",
              "      <td>1</td>\n",
              "    </tr>\n",
              "    <tr>\n",
              "      <th>3</th>\n",
              "      <td>20995</td>\n",
              "      <td>2020-03-09</td>\n",
              "      <td>2020-03-17 01:00:10</td>\n",
              "      <td>2020-03-10 01:00:10</td>\n",
              "      <td>4349841</td>\n",
              "      <td>2020-03-09 16:16:45</td>\n",
              "      <td>636012</td>\n",
              "      <td>2.25</td>\n",
              "      <td>5</td>\n",
              "      <td>4</td>\n",
              "      <td>0</td>\n",
              "      <td>1.0000</td>\n",
              "      <td>3</td>\n",
              "      <td>0</td>\n",
              "      <td>B</td>\n",
              "      <td>5</td>\n",
              "      <td>&lt;p&gt;The structure of DNA is closely related to...</td>\n",
              "      <td>&lt;p&gt;All base pairs interact by forming three h...</td>\n",
              "      <td>&lt;p&gt;DNA is comprised of nucleotide subunits ea...</td>\n",
              "      <td>&lt;p&gt;The double helix of DNA is stabilized by i...</td>\n",
              "      <td>&lt;p&gt;Each DNA sequence folds into a unique and ...</td>\n",
              "      <td>&lt;p&gt;DNA base pairs are held together by strong...</td>\n",
              "      <td>&lt;p&gt;DNA is made up of nucleotide subunits boun...</td>\n",
              "      <td>-1 days +15:16:35</td>\n",
              "      <td>0 days 08:43:25</td>\n",
              "      <td>False</td>\n",
              "      <td>1</td>\n",
              "    </tr>\n",
              "    <tr>\n",
              "      <th>4</th>\n",
              "      <td>20995</td>\n",
              "      <td>2020-03-09</td>\n",
              "      <td>2020-03-17 01:00:10</td>\n",
              "      <td>2020-03-10 01:00:10</td>\n",
              "      <td>4349844</td>\n",
              "      <td>2020-03-09 16:17:41</td>\n",
              "      <td>636018</td>\n",
              "      <td>2.67</td>\n",
              "      <td>5</td>\n",
              "      <td>3</td>\n",
              "      <td>0</td>\n",
              "      <td>0.3333</td>\n",
              "      <td>4</td>\n",
              "      <td>0</td>\n",
              "      <td>C</td>\n",
              "      <td>4</td>\n",
              "      <td>&lt;p&gt;In a DNA molecule, Chargaff's rule means t...</td>\n",
              "      <td>&lt;p&gt;The amount of Adenine and Thymine = The am...</td>\n",
              "      <td>&lt;p&gt;The amount of Cytosine and Guanine = The a...</td>\n",
              "      <td>&lt;p&gt;The amount of Adenine and Guanine = The am...</td>\n",
              "      <td>&lt;p&gt;All of the above&lt;/p&gt;                      ...</td>\n",
              "      <td>...</td>\n",
              "      <td>&lt;p&gt;Chargaff's rule states that the number of ...</td>\n",
              "      <td>-1 days +15:17:31</td>\n",
              "      <td>0 days 08:42:29</td>\n",
              "      <td>False</td>\n",
              "      <td>1</td>\n",
              "    </tr>\n",
              "    <tr>\n",
              "      <th>...</th>\n",
              "      <td>...</td>\n",
              "      <td>...</td>\n",
              "      <td>...</td>\n",
              "      <td>...</td>\n",
              "      <td>...</td>\n",
              "      <td>...</td>\n",
              "      <td>...</td>\n",
              "      <td>...</td>\n",
              "      <td>...</td>\n",
              "      <td>...</td>\n",
              "      <td>...</td>\n",
              "      <td>...</td>\n",
              "      <td>...</td>\n",
              "      <td>...</td>\n",
              "      <td>...</td>\n",
              "      <td>...</td>\n",
              "      <td>...</td>\n",
              "      <td>...</td>\n",
              "      <td>...</td>\n",
              "      <td>...</td>\n",
              "      <td>...</td>\n",
              "      <td>...</td>\n",
              "      <td>...</td>\n",
              "      <td>...</td>\n",
              "      <td>...</td>\n",
              "      <td>...</td>\n",
              "      <td>...</td>\n",
              "    </tr>\n",
              "    <tr>\n",
              "      <th>534</th>\n",
              "      <td>21143</td>\n",
              "      <td>2020-03-26</td>\n",
              "      <td>2020-04-08 01:00:10</td>\n",
              "      <td>2020-04-02 01:00:10</td>\n",
              "      <td>4425742</td>\n",
              "      <td>2020-04-01 20:12:15</td>\n",
              "      <td>637299</td>\n",
              "      <td>0.00</td>\n",
              "      <td>0</td>\n",
              "      <td>0</td>\n",
              "      <td>0</td>\n",
              "      <td>0.0000</td>\n",
              "      <td>0</td>\n",
              "      <td>0</td>\n",
              "      <td>B</td>\n",
              "      <td>4</td>\n",
              "      <td>&lt;p&gt;You've been given the task of isolating a ...</td>\n",
              "      <td>&lt;p&gt;Yes, the failure to remove the supernatant...</td>\n",
              "      <td>&lt;p&gt;Yes, the failure to remove the supernatant...</td>\n",
              "      <td>&lt;p&gt;No, the failure to remove the supernatant ...</td>\n",
              "      <td>&lt;p&gt;No, the failure to remove the supernatant ...</td>\n",
              "      <td>...</td>\n",
              "      <td>&lt;p&gt;Since DNA is more soluble in its aqueous s...</td>\n",
              "      <td>-1 days +19:12:05</td>\n",
              "      <td>0 days 04:47:55</td>\n",
              "      <td>False</td>\n",
              "      <td>2</td>\n",
              "    </tr>\n",
              "    <tr>\n",
              "      <th>535</th>\n",
              "      <td>21143</td>\n",
              "      <td>2020-03-26</td>\n",
              "      <td>2020-04-08 01:00:10</td>\n",
              "      <td>2020-04-02 01:00:10</td>\n",
              "      <td>4426098</td>\n",
              "      <td>2020-04-01 05:34:30</td>\n",
              "      <td>637242</td>\n",
              "      <td>0.00</td>\n",
              "      <td>0</td>\n",
              "      <td>0</td>\n",
              "      <td>0</td>\n",
              "      <td>0.0000</td>\n",
              "      <td>0</td>\n",
              "      <td>0</td>\n",
              "      <td>A</td>\n",
              "      <td>5</td>\n",
              "      <td>&lt;p&gt;If we run the&amp;nbsp;PCR (polymerase chain r...</td>\n",
              "      <td>&lt;p&gt;No bands will be formed.&lt;/p&gt;              ...</td>\n",
              "      <td>&lt;p&gt;Non-specific bands will be formed.&amp;nbsp;&lt;/...</td>\n",
              "      <td>&lt;p&gt;Smeared bands will be formed.&lt;/p&gt;         ...</td>\n",
              "      <td>&lt;p&gt;Proper bands will be formed.&amp;nbsp;&lt;/p&gt;    ...</td>\n",
              "      <td>&lt;p&gt;I don't know.&amp;nbsp;&lt;/p&gt;                   ...</td>\n",
              "      <td>&lt;p&gt;PCR (polymerase chain reaction) involves t...</td>\n",
              "      <td>-1 days +04:34:20</td>\n",
              "      <td>0 days 19:25:40</td>\n",
              "      <td>False</td>\n",
              "      <td>2</td>\n",
              "    </tr>\n",
              "    <tr>\n",
              "      <th>536</th>\n",
              "      <td>21143</td>\n",
              "      <td>2020-03-26</td>\n",
              "      <td>2020-04-08 01:00:10</td>\n",
              "      <td>2020-04-02 01:00:10</td>\n",
              "      <td>4427400</td>\n",
              "      <td>2020-04-01 01:55:39</td>\n",
              "      <td>637287</td>\n",
              "      <td>0.00</td>\n",
              "      <td>0</td>\n",
              "      <td>0</td>\n",
              "      <td>0</td>\n",
              "      <td>0.0000</td>\n",
              "      <td>0</td>\n",
              "      <td>0</td>\n",
              "      <td>D</td>\n",
              "      <td>4</td>\n",
              "      <td>&lt;p&gt;You are in the process of isolating DNA fr...</td>\n",
              "      <td>&lt;p&gt;Continue as per normal but substitute Chel...</td>\n",
              "      <td>&lt;p&gt;Proceed to lyse cells and obtain DNA but c...</td>\n",
              "      <td>&lt;p&gt;Proceed with the experiment as usual since...</td>\n",
              "      <td>&lt;p&gt;None of the above.&lt;/p&gt;                    ...</td>\n",
              "      <td>...</td>\n",
              "      <td>&lt;p&gt;None of the actions are suitable.&lt;/p&gt;&lt;p&gt;&amp;n...</td>\n",
              "      <td>-1 days +00:55:29</td>\n",
              "      <td>0 days 23:04:31</td>\n",
              "      <td>False</td>\n",
              "      <td>2</td>\n",
              "    </tr>\n",
              "    <tr>\n",
              "      <th>537</th>\n",
              "      <td>21143</td>\n",
              "      <td>2020-03-26</td>\n",
              "      <td>2020-04-08 01:00:10</td>\n",
              "      <td>2020-04-02 01:00:10</td>\n",
              "      <td>4427475</td>\n",
              "      <td>2020-04-10 12:14:21</td>\n",
              "      <td>637281</td>\n",
              "      <td>0.00</td>\n",
              "      <td>0</td>\n",
              "      <td>0</td>\n",
              "      <td>0</td>\n",
              "      <td>0.0000</td>\n",
              "      <td>0</td>\n",
              "      <td>2</td>\n",
              "      <td>A</td>\n",
              "      <td>4</td>\n",
              "      <td>&lt;p&gt;A PCR experiment is being carried out, the...</td>\n",
              "      <td>&lt;p&gt;A) No reaction would occur&lt;/p&gt;            ...</td>\n",
              "      <td>&lt;p&gt;B) A reaction would occur but only fewer c...</td>\n",
              "      <td>&lt;p&gt;C) A reaction would occur but more copies ...</td>\n",
              "      <td>&lt;p&gt;D) A reaction occurs as you expected and f...</td>\n",
              "      <td>...</td>\n",
              "      <td>&lt;p&gt;No reaction would occur as nucleotides are...</td>\n",
              "      <td>8 days 11:14:11</td>\n",
              "      <td>-9 days +12:45:49</td>\n",
              "      <td>True</td>\n",
              "      <td>2</td>\n",
              "    </tr>\n",
              "    <tr>\n",
              "      <th>538</th>\n",
              "      <td>21143</td>\n",
              "      <td>2020-03-26</td>\n",
              "      <td>2020-04-08 01:00:10</td>\n",
              "      <td>2020-04-02 01:00:10</td>\n",
              "      <td>4427479</td>\n",
              "      <td>2020-04-10 12:14:21</td>\n",
              "      <td>637281</td>\n",
              "      <td>0.00</td>\n",
              "      <td>0</td>\n",
              "      <td>0</td>\n",
              "      <td>0</td>\n",
              "      <td>0.0000</td>\n",
              "      <td>0</td>\n",
              "      <td>0</td>\n",
              "      <td>A</td>\n",
              "      <td>4</td>\n",
              "      <td>&lt;p&gt;A PCR experiment is being carried out, the...</td>\n",
              "      <td>&lt;p&gt;A) No reaction would occur&lt;/p&gt;            ...</td>\n",
              "      <td>&lt;p&gt;B) A reaction would occur but only fewer c...</td>\n",
              "      <td>&lt;p&gt;C) A reaction would occur but more copies ...</td>\n",
              "      <td>&lt;p&gt;D) A reaction occurs as you expected and f...</td>\n",
              "      <td>...</td>\n",
              "      <td>&lt;p&gt;There would be no reaction as no dNTPs wer...</td>\n",
              "      <td>8 days 11:14:11</td>\n",
              "      <td>-9 days +12:45:49</td>\n",
              "      <td>True</td>\n",
              "      <td>2</td>\n",
              "    </tr>\n",
              "  </tbody>\n",
              "</table>\n",
              "<p>945 rows × 27 columns</p>\n",
              "</div>"
            ],
            "text/plain": [
              "     course_id cycle_start         comment_due  ... question_beforedue   late cycle\n",
              "0        20995  2020-03-09 2020-03-17 01:00:10  ...    5 days 07:07:56  False     1\n",
              "1        20995  2020-03-09 2020-03-17 01:00:10  ...    5 days 07:07:56  False     1\n",
              "2        20995  2020-03-09 2020-03-17 01:00:10  ...    0 days 09:04:24  False     1\n",
              "3        20995  2020-03-09 2020-03-17 01:00:10  ...    0 days 08:43:25  False     1\n",
              "4        20995  2020-03-09 2020-03-17 01:00:10  ...    0 days 08:42:29  False     1\n",
              "..         ...         ...                 ...  ...                ...    ...   ...\n",
              "534      21143  2020-03-26 2020-04-08 01:00:10  ...    0 days 04:47:55  False     2\n",
              "535      21143  2020-03-26 2020-04-08 01:00:10  ...    0 days 19:25:40  False     2\n",
              "536      21143  2020-03-26 2020-04-08 01:00:10  ...    0 days 23:04:31  False     2\n",
              "537      21143  2020-03-26 2020-04-08 01:00:10  ...  -9 days +12:45:49   True     2\n",
              "538      21143  2020-03-26 2020-04-08 01:00:10  ...  -9 days +12:45:49   True     2\n",
              "\n",
              "[945 rows x 27 columns]"
            ]
          },
          "metadata": {
            "tags": []
          },
          "execution_count": 258
        }
      ]
    },
    {
      "cell_type": "markdown",
      "metadata": {
        "id": "ETsBrmrXaAGz"
      },
      "source": [
        "Data Investigation"
      ]
    },
    {
      "cell_type": "code",
      "metadata": {
        "id": "E3PR5xLXaBDm",
        "outputId": "9998c3dc-e3c9-44df-a0aa-e2c9e4153fe7",
        "colab": {
          "base_uri": "https://localhost:8080/"
        }
      },
      "source": [
        "print(\"Earliest question was made at:\", all_combined[\"question_time\"].min().strftime(\"%d/%m/%Y\"))\n",
        "print(\"Latest question was made at:\", all_combined[\"question_time\"].max().strftime(\"%d/%m/%Y\"))"
      ],
      "execution_count": 259,
      "outputs": [
        {
          "output_type": "stream",
          "text": [
            "Earliest question was made at: 04/03/2020\n",
            "Latest question was made at: 10/04/2020\n"
          ],
          "name": "stdout"
        }
      ]
    },
    {
      "cell_type": "code",
      "metadata": {
        "id": "K51uOkcBqvE5"
      },
      "source": [
        "delta_grouped = all_combined[[\"question_time\"]].groupby(all_combined[\"question_delta\"].dt.days).count()\n",
        "delta_grouped['question_delta'] = delta_grouped.index\n",
        "delta_grouped = delta_grouped.astype({\"question_delta\" : \"int64\", \"question_time\" : 'int64'})"
      ],
      "execution_count": 260,
      "outputs": []
    },
    {
      "cell_type": "code",
      "metadata": {
        "id": "-cZOtdDvvNJm",
        "outputId": "deca3505-6759-4814-beb9-e75e887e1d20",
        "colab": {
          "base_uri": "https://localhost:8080/",
          "height": 542
        }
      },
      "source": [
        "# Authors: Yan and Tash\n",
        "# Supporter: Johanna\n",
        "# Date: \n",
        "px.bar(delta_grouped, x = \"question_delta\", y = \"question_time\", title = \"Time after Question due date that a question was made in Cycles 1 and 2\",\n",
        "                 labels={\n",
        "                     \"question_delta\": \"Days from question due date\",\n",
        "                     \"question_time\": \"Number of Questions\"})\n"
      ],
      "execution_count": 261,
      "outputs": [
        {
          "output_type": "display_data",
          "data": {
            "text/html": [
              "<html>\n",
              "<head><meta charset=\"utf-8\" /></head>\n",
              "<body>\n",
              "    <div>\n",
              "            <script src=\"https://cdnjs.cloudflare.com/ajax/libs/mathjax/2.7.5/MathJax.js?config=TeX-AMS-MML_SVG\"></script><script type=\"text/javascript\">if (window.MathJax) {MathJax.Hub.Config({SVG: {font: \"STIX-Web\"}});}</script>\n",
              "                <script type=\"text/javascript\">window.PlotlyConfig = {MathJaxConfig: 'local'};</script>\n",
              "        <script src=\"https://cdn.plot.ly/plotly-latest.min.js\"></script>    \n",
              "            <div id=\"c5b555db-2a41-480e-9a5d-28dc6acbf79c\" class=\"plotly-graph-div\" style=\"height:525px; width:100%;\"></div>\n",
              "            <script type=\"text/javascript\">\n",
              "                \n",
              "                    window.PLOTLYENV=window.PLOTLYENV || {};\n",
              "                    \n",
              "                if (document.getElementById(\"c5b555db-2a41-480e-9a5d-28dc6acbf79c\")) {\n",
              "                    Plotly.newPlot(\n",
              "                        'c5b555db-2a41-480e-9a5d-28dc6acbf79c',\n",
              "                        [{\"alignmentgroup\": \"True\", \"hoverlabel\": {\"namelength\": 0}, \"hovertemplate\": \"Days from question due date=%{x}<br>Number of Questions=%{y}\", \"legendgroup\": \"\", \"marker\": {\"color\": \"#636efa\"}, \"name\": \"\", \"offsetgroup\": \"\", \"orientation\": \"v\", \"showlegend\": false, \"textposition\": \"auto\", \"type\": \"bar\", \"x\": [-7, -6, -5, -4, -3, -2, -1, 0, 1, 2, 3, 4, 5, 6, 7, 8, 9], \"xaxis\": \"x\", \"y\": [19, 5, 16, 52, 56, 101, 515, 75, 17, 12, 14, 16, 13, 19, 12, 2, 1], \"yaxis\": \"y\"}],\n",
              "                        {\"barmode\": \"relative\", \"legend\": {\"tracegroupgap\": 0}, \"template\": {\"data\": {\"bar\": [{\"error_x\": {\"color\": \"#2a3f5f\"}, \"error_y\": {\"color\": \"#2a3f5f\"}, \"marker\": {\"line\": {\"color\": \"#E5ECF6\", \"width\": 0.5}}, \"type\": \"bar\"}], \"barpolar\": [{\"marker\": {\"line\": {\"color\": \"#E5ECF6\", \"width\": 0.5}}, \"type\": \"barpolar\"}], \"carpet\": [{\"aaxis\": {\"endlinecolor\": \"#2a3f5f\", \"gridcolor\": \"white\", \"linecolor\": \"white\", \"minorgridcolor\": \"white\", \"startlinecolor\": \"#2a3f5f\"}, \"baxis\": {\"endlinecolor\": \"#2a3f5f\", \"gridcolor\": \"white\", \"linecolor\": \"white\", \"minorgridcolor\": \"white\", \"startlinecolor\": \"#2a3f5f\"}, \"type\": \"carpet\"}], \"choropleth\": [{\"colorbar\": {\"outlinewidth\": 0, \"ticks\": \"\"}, \"type\": \"choropleth\"}], \"contour\": [{\"colorbar\": {\"outlinewidth\": 0, \"ticks\": \"\"}, \"colorscale\": [[0.0, \"#0d0887\"], [0.1111111111111111, \"#46039f\"], [0.2222222222222222, \"#7201a8\"], [0.3333333333333333, \"#9c179e\"], [0.4444444444444444, \"#bd3786\"], [0.5555555555555556, \"#d8576b\"], [0.6666666666666666, \"#ed7953\"], [0.7777777777777778, \"#fb9f3a\"], [0.8888888888888888, \"#fdca26\"], [1.0, \"#f0f921\"]], \"type\": \"contour\"}], \"contourcarpet\": [{\"colorbar\": {\"outlinewidth\": 0, \"ticks\": \"\"}, \"type\": \"contourcarpet\"}], \"heatmap\": [{\"colorbar\": {\"outlinewidth\": 0, \"ticks\": \"\"}, \"colorscale\": [[0.0, \"#0d0887\"], [0.1111111111111111, \"#46039f\"], [0.2222222222222222, \"#7201a8\"], [0.3333333333333333, \"#9c179e\"], [0.4444444444444444, \"#bd3786\"], [0.5555555555555556, \"#d8576b\"], [0.6666666666666666, \"#ed7953\"], [0.7777777777777778, \"#fb9f3a\"], [0.8888888888888888, \"#fdca26\"], [1.0, \"#f0f921\"]], \"type\": \"heatmap\"}], \"heatmapgl\": [{\"colorbar\": {\"outlinewidth\": 0, \"ticks\": \"\"}, \"colorscale\": [[0.0, \"#0d0887\"], [0.1111111111111111, \"#46039f\"], [0.2222222222222222, \"#7201a8\"], [0.3333333333333333, \"#9c179e\"], [0.4444444444444444, \"#bd3786\"], [0.5555555555555556, \"#d8576b\"], [0.6666666666666666, \"#ed7953\"], [0.7777777777777778, \"#fb9f3a\"], [0.8888888888888888, \"#fdca26\"], [1.0, \"#f0f921\"]], \"type\": \"heatmapgl\"}], \"histogram\": [{\"marker\": {\"colorbar\": {\"outlinewidth\": 0, \"ticks\": \"\"}}, \"type\": \"histogram\"}], \"histogram2d\": [{\"colorbar\": {\"outlinewidth\": 0, \"ticks\": \"\"}, \"colorscale\": [[0.0, \"#0d0887\"], [0.1111111111111111, \"#46039f\"], [0.2222222222222222, \"#7201a8\"], [0.3333333333333333, \"#9c179e\"], [0.4444444444444444, \"#bd3786\"], [0.5555555555555556, \"#d8576b\"], [0.6666666666666666, \"#ed7953\"], [0.7777777777777778, \"#fb9f3a\"], [0.8888888888888888, \"#fdca26\"], [1.0, \"#f0f921\"]], \"type\": \"histogram2d\"}], \"histogram2dcontour\": [{\"colorbar\": {\"outlinewidth\": 0, \"ticks\": \"\"}, \"colorscale\": [[0.0, \"#0d0887\"], [0.1111111111111111, \"#46039f\"], [0.2222222222222222, \"#7201a8\"], [0.3333333333333333, \"#9c179e\"], [0.4444444444444444, \"#bd3786\"], [0.5555555555555556, \"#d8576b\"], [0.6666666666666666, \"#ed7953\"], [0.7777777777777778, \"#fb9f3a\"], [0.8888888888888888, \"#fdca26\"], [1.0, \"#f0f921\"]], \"type\": \"histogram2dcontour\"}], \"mesh3d\": [{\"colorbar\": {\"outlinewidth\": 0, \"ticks\": \"\"}, \"type\": \"mesh3d\"}], \"parcoords\": [{\"line\": {\"colorbar\": {\"outlinewidth\": 0, \"ticks\": \"\"}}, \"type\": \"parcoords\"}], \"pie\": [{\"automargin\": true, \"type\": \"pie\"}], \"scatter\": [{\"marker\": {\"colorbar\": {\"outlinewidth\": 0, \"ticks\": \"\"}}, \"type\": \"scatter\"}], \"scatter3d\": [{\"line\": {\"colorbar\": {\"outlinewidth\": 0, \"ticks\": \"\"}}, \"marker\": {\"colorbar\": {\"outlinewidth\": 0, \"ticks\": \"\"}}, \"type\": \"scatter3d\"}], \"scattercarpet\": [{\"marker\": {\"colorbar\": {\"outlinewidth\": 0, \"ticks\": \"\"}}, \"type\": \"scattercarpet\"}], \"scattergeo\": [{\"marker\": {\"colorbar\": {\"outlinewidth\": 0, \"ticks\": \"\"}}, \"type\": \"scattergeo\"}], \"scattergl\": [{\"marker\": {\"colorbar\": {\"outlinewidth\": 0, \"ticks\": \"\"}}, \"type\": \"scattergl\"}], \"scattermapbox\": [{\"marker\": {\"colorbar\": {\"outlinewidth\": 0, \"ticks\": \"\"}}, \"type\": \"scattermapbox\"}], \"scatterpolar\": [{\"marker\": {\"colorbar\": {\"outlinewidth\": 0, \"ticks\": \"\"}}, \"type\": \"scatterpolar\"}], \"scatterpolargl\": [{\"marker\": {\"colorbar\": {\"outlinewidth\": 0, \"ticks\": \"\"}}, \"type\": \"scatterpolargl\"}], \"scatterternary\": [{\"marker\": {\"colorbar\": {\"outlinewidth\": 0, \"ticks\": \"\"}}, \"type\": \"scatterternary\"}], \"surface\": [{\"colorbar\": {\"outlinewidth\": 0, \"ticks\": \"\"}, \"colorscale\": [[0.0, \"#0d0887\"], [0.1111111111111111, \"#46039f\"], [0.2222222222222222, \"#7201a8\"], [0.3333333333333333, \"#9c179e\"], [0.4444444444444444, \"#bd3786\"], [0.5555555555555556, \"#d8576b\"], [0.6666666666666666, \"#ed7953\"], [0.7777777777777778, \"#fb9f3a\"], [0.8888888888888888, \"#fdca26\"], [1.0, \"#f0f921\"]], \"type\": \"surface\"}], \"table\": [{\"cells\": {\"fill\": {\"color\": \"#EBF0F8\"}, \"line\": {\"color\": \"white\"}}, \"header\": {\"fill\": {\"color\": \"#C8D4E3\"}, \"line\": {\"color\": \"white\"}}, \"type\": \"table\"}]}, \"layout\": {\"annotationdefaults\": {\"arrowcolor\": \"#2a3f5f\", \"arrowhead\": 0, \"arrowwidth\": 1}, \"coloraxis\": {\"colorbar\": {\"outlinewidth\": 0, \"ticks\": \"\"}}, \"colorscale\": {\"diverging\": [[0, \"#8e0152\"], [0.1, \"#c51b7d\"], [0.2, \"#de77ae\"], [0.3, \"#f1b6da\"], [0.4, \"#fde0ef\"], [0.5, \"#f7f7f7\"], [0.6, \"#e6f5d0\"], [0.7, \"#b8e186\"], [0.8, \"#7fbc41\"], [0.9, \"#4d9221\"], [1, \"#276419\"]], \"sequential\": [[0.0, \"#0d0887\"], [0.1111111111111111, \"#46039f\"], [0.2222222222222222, \"#7201a8\"], [0.3333333333333333, \"#9c179e\"], [0.4444444444444444, \"#bd3786\"], [0.5555555555555556, \"#d8576b\"], [0.6666666666666666, \"#ed7953\"], [0.7777777777777778, \"#fb9f3a\"], [0.8888888888888888, \"#fdca26\"], [1.0, \"#f0f921\"]], \"sequentialminus\": [[0.0, \"#0d0887\"], [0.1111111111111111, \"#46039f\"], [0.2222222222222222, \"#7201a8\"], [0.3333333333333333, \"#9c179e\"], [0.4444444444444444, \"#bd3786\"], [0.5555555555555556, \"#d8576b\"], [0.6666666666666666, \"#ed7953\"], [0.7777777777777778, \"#fb9f3a\"], [0.8888888888888888, \"#fdca26\"], [1.0, \"#f0f921\"]]}, \"colorway\": [\"#636efa\", \"#EF553B\", \"#00cc96\", \"#ab63fa\", \"#FFA15A\", \"#19d3f3\", \"#FF6692\", \"#B6E880\", \"#FF97FF\", \"#FECB52\"], \"font\": {\"color\": \"#2a3f5f\"}, \"geo\": {\"bgcolor\": \"white\", \"lakecolor\": \"white\", \"landcolor\": \"#E5ECF6\", \"showlakes\": true, \"showland\": true, \"subunitcolor\": \"white\"}, \"hoverlabel\": {\"align\": \"left\"}, \"hovermode\": \"closest\", \"mapbox\": {\"style\": \"light\"}, \"paper_bgcolor\": \"white\", \"plot_bgcolor\": \"#E5ECF6\", \"polar\": {\"angularaxis\": {\"gridcolor\": \"white\", \"linecolor\": \"white\", \"ticks\": \"\"}, \"bgcolor\": \"#E5ECF6\", \"radialaxis\": {\"gridcolor\": \"white\", \"linecolor\": \"white\", \"ticks\": \"\"}}, \"scene\": {\"xaxis\": {\"backgroundcolor\": \"#E5ECF6\", \"gridcolor\": \"white\", \"gridwidth\": 2, \"linecolor\": \"white\", \"showbackground\": true, \"ticks\": \"\", \"zerolinecolor\": \"white\"}, \"yaxis\": {\"backgroundcolor\": \"#E5ECF6\", \"gridcolor\": \"white\", \"gridwidth\": 2, \"linecolor\": \"white\", \"showbackground\": true, \"ticks\": \"\", \"zerolinecolor\": \"white\"}, \"zaxis\": {\"backgroundcolor\": \"#E5ECF6\", \"gridcolor\": \"white\", \"gridwidth\": 2, \"linecolor\": \"white\", \"showbackground\": true, \"ticks\": \"\", \"zerolinecolor\": \"white\"}}, \"shapedefaults\": {\"line\": {\"color\": \"#2a3f5f\"}}, \"ternary\": {\"aaxis\": {\"gridcolor\": \"white\", \"linecolor\": \"white\", \"ticks\": \"\"}, \"baxis\": {\"gridcolor\": \"white\", \"linecolor\": \"white\", \"ticks\": \"\"}, \"bgcolor\": \"#E5ECF6\", \"caxis\": {\"gridcolor\": \"white\", \"linecolor\": \"white\", \"ticks\": \"\"}}, \"title\": {\"x\": 0.05}, \"xaxis\": {\"automargin\": true, \"gridcolor\": \"white\", \"linecolor\": \"white\", \"ticks\": \"\", \"title\": {\"standoff\": 15}, \"zerolinecolor\": \"white\", \"zerolinewidth\": 2}, \"yaxis\": {\"automargin\": true, \"gridcolor\": \"white\", \"linecolor\": \"white\", \"ticks\": \"\", \"title\": {\"standoff\": 15}, \"zerolinecolor\": \"white\", \"zerolinewidth\": 2}}}, \"title\": {\"text\": \"Time after Question due date that a question was made in Cycles 1 and 2\"}, \"xaxis\": {\"anchor\": \"y\", \"domain\": [0.0, 1.0], \"title\": {\"text\": \"Days from question due date\"}}, \"yaxis\": {\"anchor\": \"x\", \"domain\": [0.0, 1.0], \"title\": {\"text\": \"Number of Questions\"}}},\n",
              "                        {\"responsive\": true}\n",
              "                    ).then(function(){\n",
              "                            \n",
              "var gd = document.getElementById('c5b555db-2a41-480e-9a5d-28dc6acbf79c');\n",
              "var x = new MutationObserver(function (mutations, observer) {{\n",
              "        var display = window.getComputedStyle(gd).display;\n",
              "        if (!display || display === 'none') {{\n",
              "            console.log([gd, 'removed!']);\n",
              "            Plotly.purge(gd);\n",
              "            observer.disconnect();\n",
              "        }}\n",
              "}});\n",
              "\n",
              "// Listen for the removal of the full notebook cells\n",
              "var notebookContainer = gd.closest('#notebook-container');\n",
              "if (notebookContainer) {{\n",
              "    x.observe(notebookContainer, {childList: true});\n",
              "}}\n",
              "\n",
              "// Listen for the clearing of the current output cell\n",
              "var outputEl = gd.closest('.output');\n",
              "if (outputEl) {{\n",
              "    x.observe(outputEl, {childList: true});\n",
              "}}\n",
              "\n",
              "                        })\n",
              "                };\n",
              "                \n",
              "            </script>\n",
              "        </div>\n",
              "</body>\n",
              "</html>"
            ]
          },
          "metadata": {
            "tags": []
          }
        }
      ]
    },
    {
      "cell_type": "code",
      "metadata": {
        "id": "KMk3yIKeaFMH",
        "outputId": "004a7809-f957-4a20-9fe0-d422d0e4d191",
        "colab": {
          "base_uri": "https://localhost:8080/",
          "height": 542
        }
      },
      "source": [
        "# Authors: Yan and Tash\n",
        "# Supporter: Johanna\n",
        "# Date: \n",
        "student_lateness = all_combined[[\"user_id\", \"late\"]].groupby(\"user_id\", as_index = False).sum(\"late\")\n",
        "px.histogram(student_lateness,x= \"late\",title = \"Distribution of late questions submitted\",labels={\n",
        "                     \"late\": \"Days late from due date\",\n",
        "                     \"count\": \"Number of Questions\"})"
      ],
      "execution_count": 262,
      "outputs": [
        {
          "output_type": "display_data",
          "data": {
            "text/html": [
              "<html>\n",
              "<head><meta charset=\"utf-8\" /></head>\n",
              "<body>\n",
              "    <div>\n",
              "            <script src=\"https://cdnjs.cloudflare.com/ajax/libs/mathjax/2.7.5/MathJax.js?config=TeX-AMS-MML_SVG\"></script><script type=\"text/javascript\">if (window.MathJax) {MathJax.Hub.Config({SVG: {font: \"STIX-Web\"}});}</script>\n",
              "                <script type=\"text/javascript\">window.PlotlyConfig = {MathJaxConfig: 'local'};</script>\n",
              "        <script src=\"https://cdn.plot.ly/plotly-latest.min.js\"></script>    \n",
              "            <div id=\"e02a46e6-51b6-450c-b066-7702ca4e1c2e\" class=\"plotly-graph-div\" style=\"height:525px; width:100%;\"></div>\n",
              "            <script type=\"text/javascript\">\n",
              "                \n",
              "                    window.PLOTLYENV=window.PLOTLYENV || {};\n",
              "                    \n",
              "                if (document.getElementById(\"e02a46e6-51b6-450c-b066-7702ca4e1c2e\")) {\n",
              "                    Plotly.newPlot(\n",
              "                        'e02a46e6-51b6-450c-b066-7702ca4e1c2e',\n",
              "                        [{\"alignmentgroup\": \"True\", \"bingroup\": \"x\", \"hoverlabel\": {\"namelength\": 0}, \"hovertemplate\": \"Days late from due date=%{x}<br>count=%{y}\", \"legendgroup\": \"\", \"marker\": {\"color\": \"#636efa\"}, \"name\": \"\", \"offsetgroup\": \"\", \"orientation\": \"v\", \"showlegend\": false, \"type\": \"histogram\", \"x\": [0, 0, 1, 0, 0, 1, 0, 1, 3, 0, 0, 0, 0, 0, 0, 0, 0, 0, 0, 0, 0, 0, 1, 0, 0, 1, 2, 0, 1, 0, 0, 1, 0, 0, 0, 2, 0, 0, 0, 0, 0, 3, 2, 1, 2, 0, 0, 0, 0, 0, 0, 0, 0, 1, 1, 0, 1, 0, 0, 0, 0, 0, 0, 0, 0, 0, 4, 1, 2, 1, 1, 2, 0, 1, 1, 2, 2, 0, 0, 1, 0, 1, 1, 0, 0, 0, 1, 0, 3, 0, 0, 2, 0, 0, 0, 4, 2, 0, 1, 0, 0, 0, 0, 3, 2, 2, 0, 0, 2, 0, 1, 0, 0, 0, 2, 0, 0, 0, 5, 0, 0, 0, 0, 0, 1, 0, 0, 0, 0, 2, 2, 0, 0, 0, 1, 0, 3, 0, 0, 2, 0, 2, 3, 0, 0, 2, 0, 1, 1, 2, 2, 0, 0, 0, 1, 0, 2, 0, 2, 2, 0, 0, 0, 2, 0, 0, 0, 0, 0, 0, 0, 0, 0, 0, 0, 0, 0, 0, 0, 4, 1, 0, 0, 0, 0, 0, 0, 0, 0, 0, 0, 0, 1, 0, 1, 0, 0, 0, 2, 0, 0, 0, 0, 0, 0, 0, 0, 0, 1, 0, 2, 0, 1, 0, 0, 0, 1, 0, 0, 0, 0, 2, 1, 0, 0, 0, 0, 0, 1, 0, 1, 1, 0, 0, 0, 1, 1, 0, 0, 0, 0, 0, 0, 1, 0, 0, 0, 0, 0, 0, 0, 0, 0, 0, 0, 0, 0, 0, 0, 1, 3, 0, 0, 0, 2, 1, 1, 2, 1, 0, 0, 0, 0, 3, 0, 1, 0, 0, 0, 0, 1, 0, 2, 0, 0, 0, 0, 0, 0, 0, 1, 0, 0, 0, 0, 0, 2, 1, 0, 0, 1, 0, 0, 0, 0, 0, 0, 2, 0, 1, 4, 1, 2, 1, 1, 0, 1, 1, 0, 6, 1, 1, 1, 0, 1, 0, 0, 1, 1, 1, 0, 0], \"xaxis\": \"x\", \"yaxis\": \"y\"}],\n",
              "                        {\"barmode\": \"relative\", \"legend\": {\"tracegroupgap\": 0}, \"template\": {\"data\": {\"bar\": [{\"error_x\": {\"color\": \"#2a3f5f\"}, \"error_y\": {\"color\": \"#2a3f5f\"}, \"marker\": {\"line\": {\"color\": \"#E5ECF6\", \"width\": 0.5}}, \"type\": \"bar\"}], \"barpolar\": [{\"marker\": {\"line\": {\"color\": \"#E5ECF6\", \"width\": 0.5}}, \"type\": \"barpolar\"}], \"carpet\": [{\"aaxis\": {\"endlinecolor\": \"#2a3f5f\", \"gridcolor\": \"white\", \"linecolor\": \"white\", \"minorgridcolor\": \"white\", \"startlinecolor\": \"#2a3f5f\"}, \"baxis\": {\"endlinecolor\": \"#2a3f5f\", \"gridcolor\": \"white\", \"linecolor\": \"white\", \"minorgridcolor\": \"white\", \"startlinecolor\": \"#2a3f5f\"}, \"type\": \"carpet\"}], \"choropleth\": [{\"colorbar\": {\"outlinewidth\": 0, \"ticks\": \"\"}, \"type\": \"choropleth\"}], \"contour\": [{\"colorbar\": {\"outlinewidth\": 0, \"ticks\": \"\"}, \"colorscale\": [[0.0, \"#0d0887\"], [0.1111111111111111, \"#46039f\"], [0.2222222222222222, \"#7201a8\"], [0.3333333333333333, \"#9c179e\"], [0.4444444444444444, \"#bd3786\"], [0.5555555555555556, \"#d8576b\"], [0.6666666666666666, \"#ed7953\"], [0.7777777777777778, \"#fb9f3a\"], [0.8888888888888888, \"#fdca26\"], [1.0, \"#f0f921\"]], \"type\": \"contour\"}], \"contourcarpet\": [{\"colorbar\": {\"outlinewidth\": 0, \"ticks\": \"\"}, \"type\": \"contourcarpet\"}], \"heatmap\": [{\"colorbar\": {\"outlinewidth\": 0, \"ticks\": \"\"}, \"colorscale\": [[0.0, \"#0d0887\"], [0.1111111111111111, \"#46039f\"], [0.2222222222222222, \"#7201a8\"], [0.3333333333333333, \"#9c179e\"], [0.4444444444444444, \"#bd3786\"], [0.5555555555555556, \"#d8576b\"], [0.6666666666666666, \"#ed7953\"], [0.7777777777777778, \"#fb9f3a\"], [0.8888888888888888, \"#fdca26\"], [1.0, \"#f0f921\"]], \"type\": \"heatmap\"}], \"heatmapgl\": [{\"colorbar\": {\"outlinewidth\": 0, \"ticks\": \"\"}, \"colorscale\": [[0.0, \"#0d0887\"], [0.1111111111111111, \"#46039f\"], [0.2222222222222222, \"#7201a8\"], [0.3333333333333333, \"#9c179e\"], [0.4444444444444444, \"#bd3786\"], [0.5555555555555556, \"#d8576b\"], [0.6666666666666666, \"#ed7953\"], [0.7777777777777778, \"#fb9f3a\"], [0.8888888888888888, \"#fdca26\"], [1.0, \"#f0f921\"]], \"type\": \"heatmapgl\"}], \"histogram\": [{\"marker\": {\"colorbar\": {\"outlinewidth\": 0, \"ticks\": \"\"}}, \"type\": \"histogram\"}], \"histogram2d\": [{\"colorbar\": {\"outlinewidth\": 0, \"ticks\": \"\"}, \"colorscale\": [[0.0, \"#0d0887\"], [0.1111111111111111, \"#46039f\"], [0.2222222222222222, \"#7201a8\"], [0.3333333333333333, \"#9c179e\"], [0.4444444444444444, \"#bd3786\"], [0.5555555555555556, \"#d8576b\"], [0.6666666666666666, \"#ed7953\"], [0.7777777777777778, \"#fb9f3a\"], [0.8888888888888888, \"#fdca26\"], [1.0, \"#f0f921\"]], \"type\": \"histogram2d\"}], \"histogram2dcontour\": [{\"colorbar\": {\"outlinewidth\": 0, \"ticks\": \"\"}, \"colorscale\": [[0.0, \"#0d0887\"], [0.1111111111111111, \"#46039f\"], [0.2222222222222222, \"#7201a8\"], [0.3333333333333333, \"#9c179e\"], [0.4444444444444444, \"#bd3786\"], [0.5555555555555556, \"#d8576b\"], [0.6666666666666666, \"#ed7953\"], [0.7777777777777778, \"#fb9f3a\"], [0.8888888888888888, \"#fdca26\"], [1.0, \"#f0f921\"]], \"type\": \"histogram2dcontour\"}], \"mesh3d\": [{\"colorbar\": {\"outlinewidth\": 0, \"ticks\": \"\"}, \"type\": \"mesh3d\"}], \"parcoords\": [{\"line\": {\"colorbar\": {\"outlinewidth\": 0, \"ticks\": \"\"}}, \"type\": \"parcoords\"}], \"pie\": [{\"automargin\": true, \"type\": \"pie\"}], \"scatter\": [{\"marker\": {\"colorbar\": {\"outlinewidth\": 0, \"ticks\": \"\"}}, \"type\": \"scatter\"}], \"scatter3d\": [{\"line\": {\"colorbar\": {\"outlinewidth\": 0, \"ticks\": \"\"}}, \"marker\": {\"colorbar\": {\"outlinewidth\": 0, \"ticks\": \"\"}}, \"type\": \"scatter3d\"}], \"scattercarpet\": [{\"marker\": {\"colorbar\": {\"outlinewidth\": 0, \"ticks\": \"\"}}, \"type\": \"scattercarpet\"}], \"scattergeo\": [{\"marker\": {\"colorbar\": {\"outlinewidth\": 0, \"ticks\": \"\"}}, \"type\": \"scattergeo\"}], \"scattergl\": [{\"marker\": {\"colorbar\": {\"outlinewidth\": 0, \"ticks\": \"\"}}, \"type\": \"scattergl\"}], \"scattermapbox\": [{\"marker\": {\"colorbar\": {\"outlinewidth\": 0, \"ticks\": \"\"}}, \"type\": \"scattermapbox\"}], \"scatterpolar\": [{\"marker\": {\"colorbar\": {\"outlinewidth\": 0, \"ticks\": \"\"}}, \"type\": \"scatterpolar\"}], \"scatterpolargl\": [{\"marker\": {\"colorbar\": {\"outlinewidth\": 0, \"ticks\": \"\"}}, \"type\": \"scatterpolargl\"}], \"scatterternary\": [{\"marker\": {\"colorbar\": {\"outlinewidth\": 0, \"ticks\": \"\"}}, \"type\": \"scatterternary\"}], \"surface\": [{\"colorbar\": {\"outlinewidth\": 0, \"ticks\": \"\"}, \"colorscale\": [[0.0, \"#0d0887\"], [0.1111111111111111, \"#46039f\"], [0.2222222222222222, \"#7201a8\"], [0.3333333333333333, \"#9c179e\"], [0.4444444444444444, \"#bd3786\"], [0.5555555555555556, \"#d8576b\"], [0.6666666666666666, \"#ed7953\"], [0.7777777777777778, \"#fb9f3a\"], [0.8888888888888888, \"#fdca26\"], [1.0, \"#f0f921\"]], \"type\": \"surface\"}], \"table\": [{\"cells\": {\"fill\": {\"color\": \"#EBF0F8\"}, \"line\": {\"color\": \"white\"}}, \"header\": {\"fill\": {\"color\": \"#C8D4E3\"}, \"line\": {\"color\": \"white\"}}, \"type\": \"table\"}]}, \"layout\": {\"annotationdefaults\": {\"arrowcolor\": \"#2a3f5f\", \"arrowhead\": 0, \"arrowwidth\": 1}, \"coloraxis\": {\"colorbar\": {\"outlinewidth\": 0, \"ticks\": \"\"}}, \"colorscale\": {\"diverging\": [[0, \"#8e0152\"], [0.1, \"#c51b7d\"], [0.2, \"#de77ae\"], [0.3, \"#f1b6da\"], [0.4, \"#fde0ef\"], [0.5, \"#f7f7f7\"], [0.6, \"#e6f5d0\"], [0.7, \"#b8e186\"], [0.8, \"#7fbc41\"], [0.9, \"#4d9221\"], [1, \"#276419\"]], \"sequential\": [[0.0, \"#0d0887\"], [0.1111111111111111, \"#46039f\"], [0.2222222222222222, \"#7201a8\"], [0.3333333333333333, \"#9c179e\"], [0.4444444444444444, \"#bd3786\"], [0.5555555555555556, \"#d8576b\"], [0.6666666666666666, \"#ed7953\"], [0.7777777777777778, \"#fb9f3a\"], [0.8888888888888888, \"#fdca26\"], [1.0, \"#f0f921\"]], \"sequentialminus\": [[0.0, \"#0d0887\"], [0.1111111111111111, \"#46039f\"], [0.2222222222222222, \"#7201a8\"], [0.3333333333333333, \"#9c179e\"], [0.4444444444444444, \"#bd3786\"], [0.5555555555555556, \"#d8576b\"], [0.6666666666666666, \"#ed7953\"], [0.7777777777777778, \"#fb9f3a\"], [0.8888888888888888, \"#fdca26\"], [1.0, \"#f0f921\"]]}, \"colorway\": [\"#636efa\", \"#EF553B\", \"#00cc96\", \"#ab63fa\", \"#FFA15A\", \"#19d3f3\", \"#FF6692\", \"#B6E880\", \"#FF97FF\", \"#FECB52\"], \"font\": {\"color\": \"#2a3f5f\"}, \"geo\": {\"bgcolor\": \"white\", \"lakecolor\": \"white\", \"landcolor\": \"#E5ECF6\", \"showlakes\": true, \"showland\": true, \"subunitcolor\": \"white\"}, \"hoverlabel\": {\"align\": \"left\"}, \"hovermode\": \"closest\", \"mapbox\": {\"style\": \"light\"}, \"paper_bgcolor\": \"white\", \"plot_bgcolor\": \"#E5ECF6\", \"polar\": {\"angularaxis\": {\"gridcolor\": \"white\", \"linecolor\": \"white\", \"ticks\": \"\"}, \"bgcolor\": \"#E5ECF6\", \"radialaxis\": {\"gridcolor\": \"white\", \"linecolor\": \"white\", \"ticks\": \"\"}}, \"scene\": {\"xaxis\": {\"backgroundcolor\": \"#E5ECF6\", \"gridcolor\": \"white\", \"gridwidth\": 2, \"linecolor\": \"white\", \"showbackground\": true, \"ticks\": \"\", \"zerolinecolor\": \"white\"}, \"yaxis\": {\"backgroundcolor\": \"#E5ECF6\", \"gridcolor\": \"white\", \"gridwidth\": 2, \"linecolor\": \"white\", \"showbackground\": true, \"ticks\": \"\", \"zerolinecolor\": \"white\"}, \"zaxis\": {\"backgroundcolor\": \"#E5ECF6\", \"gridcolor\": \"white\", \"gridwidth\": 2, \"linecolor\": \"white\", \"showbackground\": true, \"ticks\": \"\", \"zerolinecolor\": \"white\"}}, \"shapedefaults\": {\"line\": {\"color\": \"#2a3f5f\"}}, \"ternary\": {\"aaxis\": {\"gridcolor\": \"white\", \"linecolor\": \"white\", \"ticks\": \"\"}, \"baxis\": {\"gridcolor\": \"white\", \"linecolor\": \"white\", \"ticks\": \"\"}, \"bgcolor\": \"#E5ECF6\", \"caxis\": {\"gridcolor\": \"white\", \"linecolor\": \"white\", \"ticks\": \"\"}}, \"title\": {\"x\": 0.05}, \"xaxis\": {\"automargin\": true, \"gridcolor\": \"white\", \"linecolor\": \"white\", \"ticks\": \"\", \"title\": {\"standoff\": 15}, \"zerolinecolor\": \"white\", \"zerolinewidth\": 2}, \"yaxis\": {\"automargin\": true, \"gridcolor\": \"white\", \"linecolor\": \"white\", \"ticks\": \"\", \"title\": {\"standoff\": 15}, \"zerolinecolor\": \"white\", \"zerolinewidth\": 2}}}, \"title\": {\"text\": \"Distribution of late questions submitted\"}, \"xaxis\": {\"anchor\": \"y\", \"domain\": [0.0, 1.0], \"title\": {\"text\": \"Days late from due date\"}}, \"yaxis\": {\"anchor\": \"x\", \"domain\": [0.0, 1.0], \"title\": {\"text\": \"count\"}}},\n",
              "                        {\"responsive\": true}\n",
              "                    ).then(function(){\n",
              "                            \n",
              "var gd = document.getElementById('e02a46e6-51b6-450c-b066-7702ca4e1c2e');\n",
              "var x = new MutationObserver(function (mutations, observer) {{\n",
              "        var display = window.getComputedStyle(gd).display;\n",
              "        if (!display || display === 'none') {{\n",
              "            console.log([gd, 'removed!']);\n",
              "            Plotly.purge(gd);\n",
              "            observer.disconnect();\n",
              "        }}\n",
              "}});\n",
              "\n",
              "// Listen for the removal of the full notebook cells\n",
              "var notebookContainer = gd.closest('#notebook-container');\n",
              "if (notebookContainer) {{\n",
              "    x.observe(notebookContainer, {childList: true});\n",
              "}}\n",
              "\n",
              "// Listen for the clearing of the current output cell\n",
              "var outputEl = gd.closest('.output');\n",
              "if (outputEl) {{\n",
              "    x.observe(outputEl, {childList: true});\n",
              "}}\n",
              "\n",
              "                        })\n",
              "                };\n",
              "                \n",
              "            </script>\n",
              "        </div>\n",
              "</body>\n",
              "</html>"
            ]
          },
          "metadata": {
            "tags": []
          }
        }
      ]
    },
    {
      "cell_type": "code",
      "metadata": {
        "id": "bDDbnM9YaGbk",
        "outputId": "7383bd4a-5932-407d-e1a5-333589e32397",
        "colab": {
          "base_uri": "https://localhost:8080/",
          "height": 391
        }
      },
      "source": [
        "student_lateness.sort_values(\"late\", ascending = False)"
      ],
      "execution_count": 263,
      "outputs": [
        {
          "output_type": "execute_result",
          "data": {
            "text/html": [
              "<div>\n",
              "<style scoped>\n",
              "    .dataframe tbody tr th:only-of-type {\n",
              "        vertical-align: middle;\n",
              "    }\n",
              "\n",
              "    .dataframe tbody tr th {\n",
              "        vertical-align: top;\n",
              "    }\n",
              "\n",
              "    .dataframe thead th {\n",
              "        text-align: right;\n",
              "    }\n",
              "</style>\n",
              "<table border=\"1\" class=\"dataframe\">\n",
              "  <thead>\n",
              "    <tr style=\"text-align: right;\">\n",
              "      <th></th>\n",
              "      <th>user_id</th>\n",
              "      <th>late</th>\n",
              "    </tr>\n",
              "  </thead>\n",
              "  <tbody>\n",
              "    <tr>\n",
              "      <th>319</th>\n",
              "      <td>637569</td>\n",
              "      <td>6</td>\n",
              "    </tr>\n",
              "    <tr>\n",
              "      <th>118</th>\n",
              "      <td>636396</td>\n",
              "      <td>5</td>\n",
              "    </tr>\n",
              "    <tr>\n",
              "      <th>179</th>\n",
              "      <td>636734</td>\n",
              "      <td>4</td>\n",
              "    </tr>\n",
              "    <tr>\n",
              "      <th>66</th>\n",
              "      <td>636029</td>\n",
              "      <td>4</td>\n",
              "    </tr>\n",
              "    <tr>\n",
              "      <th>310</th>\n",
              "      <td>637310</td>\n",
              "      <td>4</td>\n",
              "    </tr>\n",
              "    <tr>\n",
              "      <th>...</th>\n",
              "      <td>...</td>\n",
              "      <td>...</td>\n",
              "    </tr>\n",
              "    <tr>\n",
              "      <th>146</th>\n",
              "      <td>636424</td>\n",
              "      <td>0</td>\n",
              "    </tr>\n",
              "    <tr>\n",
              "      <th>151</th>\n",
              "      <td>636429</td>\n",
              "      <td>0</td>\n",
              "    </tr>\n",
              "    <tr>\n",
              "      <th>152</th>\n",
              "      <td>636430</td>\n",
              "      <td>0</td>\n",
              "    </tr>\n",
              "    <tr>\n",
              "      <th>153</th>\n",
              "      <td>636431</td>\n",
              "      <td>0</td>\n",
              "    </tr>\n",
              "    <tr>\n",
              "      <th>331</th>\n",
              "      <td>642158</td>\n",
              "      <td>0</td>\n",
              "    </tr>\n",
              "  </tbody>\n",
              "</table>\n",
              "<p>332 rows × 2 columns</p>\n",
              "</div>"
            ],
            "text/plain": [
              "     user_id  late\n",
              "319   637569     6\n",
              "118   636396     5\n",
              "179   636734     4\n",
              "66    636029     4\n",
              "310   637310     4\n",
              "..       ...   ...\n",
              "146   636424     0\n",
              "151   636429     0\n",
              "152   636430     0\n",
              "153   636431     0\n",
              "331   642158     0\n",
              "\n",
              "[332 rows x 2 columns]"
            ]
          },
          "metadata": {
            "tags": []
          },
          "execution_count": 263
        }
      ]
    },
    {
      "cell_type": "markdown",
      "metadata": {
        "id": "BkqYpwaWaI0V"
      },
      "source": [
        "Connecting to cycle 4 groups"
      ]
    },
    {
      "cell_type": "code",
      "metadata": {
        "id": "HnVoiw3paJX3",
        "outputId": "babfd47d-cf77-48e4-aeeb-0c21683315e9",
        "colab": {
          "base_uri": "https://localhost:8080/",
          "height": 391
        }
      },
      "source": [
        "student_lateness.reset_index()"
      ],
      "execution_count": 264,
      "outputs": [
        {
          "output_type": "execute_result",
          "data": {
            "text/html": [
              "<div>\n",
              "<style scoped>\n",
              "    .dataframe tbody tr th:only-of-type {\n",
              "        vertical-align: middle;\n",
              "    }\n",
              "\n",
              "    .dataframe tbody tr th {\n",
              "        vertical-align: top;\n",
              "    }\n",
              "\n",
              "    .dataframe thead th {\n",
              "        text-align: right;\n",
              "    }\n",
              "</style>\n",
              "<table border=\"1\" class=\"dataframe\">\n",
              "  <thead>\n",
              "    <tr style=\"text-align: right;\">\n",
              "      <th></th>\n",
              "      <th>index</th>\n",
              "      <th>user_id</th>\n",
              "      <th>late</th>\n",
              "    </tr>\n",
              "  </thead>\n",
              "  <tbody>\n",
              "    <tr>\n",
              "      <th>0</th>\n",
              "      <td>0</td>\n",
              "      <td>217514</td>\n",
              "      <td>0</td>\n",
              "    </tr>\n",
              "    <tr>\n",
              "      <th>1</th>\n",
              "      <td>1</td>\n",
              "      <td>269035</td>\n",
              "      <td>0</td>\n",
              "    </tr>\n",
              "    <tr>\n",
              "      <th>2</th>\n",
              "      <td>2</td>\n",
              "      <td>504817</td>\n",
              "      <td>1</td>\n",
              "    </tr>\n",
              "    <tr>\n",
              "      <th>3</th>\n",
              "      <td>3</td>\n",
              "      <td>508271</td>\n",
              "      <td>0</td>\n",
              "    </tr>\n",
              "    <tr>\n",
              "      <th>4</th>\n",
              "      <td>4</td>\n",
              "      <td>555695</td>\n",
              "      <td>0</td>\n",
              "    </tr>\n",
              "    <tr>\n",
              "      <th>...</th>\n",
              "      <td>...</td>\n",
              "      <td>...</td>\n",
              "      <td>...</td>\n",
              "    </tr>\n",
              "    <tr>\n",
              "      <th>327</th>\n",
              "      <td>327</td>\n",
              "      <td>640064</td>\n",
              "      <td>1</td>\n",
              "    </tr>\n",
              "    <tr>\n",
              "      <th>328</th>\n",
              "      <td>328</td>\n",
              "      <td>640258</td>\n",
              "      <td>1</td>\n",
              "    </tr>\n",
              "    <tr>\n",
              "      <th>329</th>\n",
              "      <td>329</td>\n",
              "      <td>641348</td>\n",
              "      <td>1</td>\n",
              "    </tr>\n",
              "    <tr>\n",
              "      <th>330</th>\n",
              "      <td>330</td>\n",
              "      <td>641786</td>\n",
              "      <td>0</td>\n",
              "    </tr>\n",
              "    <tr>\n",
              "      <th>331</th>\n",
              "      <td>331</td>\n",
              "      <td>642158</td>\n",
              "      <td>0</td>\n",
              "    </tr>\n",
              "  </tbody>\n",
              "</table>\n",
              "<p>332 rows × 3 columns</p>\n",
              "</div>"
            ],
            "text/plain": [
              "     index  user_id  late\n",
              "0        0   217514     0\n",
              "1        1   269035     0\n",
              "2        2   504817     1\n",
              "3        3   508271     0\n",
              "4        4   555695     0\n",
              "..     ...      ...   ...\n",
              "327    327   640064     1\n",
              "328    328   640258     1\n",
              "329    329   641348     1\n",
              "330    330   641786     0\n",
              "331    331   642158     0\n",
              "\n",
              "[332 rows x 3 columns]"
            ]
          },
          "metadata": {
            "tags": []
          },
          "execution_count": 264
        }
      ]
    },
    {
      "cell_type": "code",
      "metadata": {
        "id": "oxXmIiDsaa6T"
      },
      "source": [
        "c4usercourses.rename(columns = {\"user\" : \"user_id\", \"Team\" : \"team\"}, inplace = True)\n",
        "c4usercourses_lateness = c4usercourses.merge(student_lateness.reset_index(drop = True), on = \"user_id\")\n"
      ],
      "execution_count": 268,
      "outputs": []
    },
    {
      "cell_type": "code",
      "metadata": {
        "id": "8iACFJQOacOJ",
        "outputId": "768ae4e8-cde7-4898-ce65-4a03b5efeb56",
        "colab": {
          "base_uri": "https://localhost:8080/",
          "height": 391
        }
      },
      "source": [
        "c4usercourses_lateness.sort_values(by = \"late\", ascending = False)"
      ],
      "execution_count": 269,
      "outputs": [
        {
          "output_type": "execute_result",
          "data": {
            "text/html": [
              "<div>\n",
              "<style scoped>\n",
              "    .dataframe tbody tr th:only-of-type {\n",
              "        vertical-align: middle;\n",
              "    }\n",
              "\n",
              "    .dataframe tbody tr th {\n",
              "        vertical-align: top;\n",
              "    }\n",
              "\n",
              "    .dataframe thead th {\n",
              "        text-align: right;\n",
              "    }\n",
              "</style>\n",
              "<table border=\"1\" class=\"dataframe\">\n",
              "  <thead>\n",
              "    <tr style=\"text-align: right;\">\n",
              "      <th></th>\n",
              "      <th>user_id</th>\n",
              "      <th>course_id</th>\n",
              "      <th>team</th>\n",
              "      <th>late</th>\n",
              "    </tr>\n",
              "  </thead>\n",
              "  <tbody>\n",
              "    <tr>\n",
              "      <th>138</th>\n",
              "      <td>637569</td>\n",
              "      <td>21326</td>\n",
              "      <td>Blue</td>\n",
              "      <td>6</td>\n",
              "    </tr>\n",
              "    <tr>\n",
              "      <th>129</th>\n",
              "      <td>636396</td>\n",
              "      <td>21326</td>\n",
              "      <td>Pink</td>\n",
              "      <td>5</td>\n",
              "    </tr>\n",
              "    <tr>\n",
              "      <th>170</th>\n",
              "      <td>636734</td>\n",
              "      <td>21327</td>\n",
              "      <td>Brown</td>\n",
              "      <td>4</td>\n",
              "    </tr>\n",
              "    <tr>\n",
              "      <th>40</th>\n",
              "      <td>636029</td>\n",
              "      <td>21320</td>\n",
              "      <td>Pink</td>\n",
              "      <td>4</td>\n",
              "    </tr>\n",
              "    <tr>\n",
              "      <th>266</th>\n",
              "      <td>637310</td>\n",
              "      <td>21328</td>\n",
              "      <td>Pink</td>\n",
              "      <td>4</td>\n",
              "    </tr>\n",
              "    <tr>\n",
              "      <th>...</th>\n",
              "      <td>...</td>\n",
              "      <td>...</td>\n",
              "      <td>...</td>\n",
              "      <td>...</td>\n",
              "    </tr>\n",
              "    <tr>\n",
              "      <th>131</th>\n",
              "      <td>604835</td>\n",
              "      <td>21326</td>\n",
              "      <td>Green</td>\n",
              "      <td>0</td>\n",
              "    </tr>\n",
              "    <tr>\n",
              "      <th>132</th>\n",
              "      <td>636439</td>\n",
              "      <td>21326</td>\n",
              "      <td>Purple</td>\n",
              "      <td>0</td>\n",
              "    </tr>\n",
              "    <tr>\n",
              "      <th>134</th>\n",
              "      <td>636429</td>\n",
              "      <td>21326</td>\n",
              "      <td>Yellow</td>\n",
              "      <td>0</td>\n",
              "    </tr>\n",
              "    <tr>\n",
              "      <th>137</th>\n",
              "      <td>636416</td>\n",
              "      <td>21326</td>\n",
              "      <td>Blue</td>\n",
              "      <td>0</td>\n",
              "    </tr>\n",
              "    <tr>\n",
              "      <th>285</th>\n",
              "      <td>637299</td>\n",
              "      <td>21328</td>\n",
              "      <td>Yellow</td>\n",
              "      <td>0</td>\n",
              "    </tr>\n",
              "  </tbody>\n",
              "</table>\n",
              "<p>286 rows × 4 columns</p>\n",
              "</div>"
            ],
            "text/plain": [
              "     user_id  course_id    team  late\n",
              "138   637569      21326    Blue     6\n",
              "129   636396      21326    Pink     5\n",
              "170   636734      21327   Brown     4\n",
              "40    636029      21320    Pink     4\n",
              "266   637310      21328    Pink     4\n",
              "..       ...        ...     ...   ...\n",
              "131   604835      21326   Green     0\n",
              "132   636439      21326  Purple     0\n",
              "134   636429      21326  Yellow     0\n",
              "137   636416      21326    Blue     0\n",
              "285   637299      21328  Yellow     0\n",
              "\n",
              "[286 rows x 4 columns]"
            ]
          },
          "metadata": {
            "tags": []
          },
          "execution_count": 269
        }
      ]
    },
    {
      "cell_type": "code",
      "metadata": {
        "id": "mn49HH1jadbP",
        "outputId": "036028fd-9c41-45dd-f88c-234f2b928f54",
        "colab": {
          "base_uri": "https://localhost:8080/",
          "height": 542
        }
      },
      "source": [
        "student_late_boolean = all_combined[[\"user_id\", \"late\"]].groupby(\"user_id\", as_index = False).any(\"late\")\n",
        "team_lateness_boolean = c4usercourses.merge(student_late_boolean, on = \"user_id\")\n",
        "\n",
        "# Authors: Yan and Tash\n",
        "# Supporter: Johanna\n",
        "# Date: \n",
        "fig = px.histogram(team_lateness_boolean,x=\"team\",y=\"late\",color = \"team\", color_discrete_map = {'Pink': 'hotpink','Green': 'mediumseagreen', 'Yellow': 'gold','Black': 'black','Blue': 'royalblue','Red': 'tomato', 'Brown': 'peru', 'White': 'white','Purple': 'mediumpurple'}, title = \"Distribution of late questions in each team\",labels={\n",
        "                     \"team\": \"Groups\",\n",
        "                     \"late\": \"Number of Questions Submitted Late\"})\n",
        "\n",
        "fig.update_layout(showlegend=False) "
      ],
      "execution_count": 270,
      "outputs": [
        {
          "output_type": "display_data",
          "data": {
            "text/html": [
              "<html>\n",
              "<head><meta charset=\"utf-8\" /></head>\n",
              "<body>\n",
              "    <div>\n",
              "            <script src=\"https://cdnjs.cloudflare.com/ajax/libs/mathjax/2.7.5/MathJax.js?config=TeX-AMS-MML_SVG\"></script><script type=\"text/javascript\">if (window.MathJax) {MathJax.Hub.Config({SVG: {font: \"STIX-Web\"}});}</script>\n",
              "                <script type=\"text/javascript\">window.PlotlyConfig = {MathJaxConfig: 'local'};</script>\n",
              "        <script src=\"https://cdn.plot.ly/plotly-latest.min.js\"></script>    \n",
              "            <div id=\"90ac3edf-764f-43f4-b488-7ada5675f2fe\" class=\"plotly-graph-div\" style=\"height:525px; width:100%;\"></div>\n",
              "            <script type=\"text/javascript\">\n",
              "                \n",
              "                    window.PLOTLYENV=window.PLOTLYENV || {};\n",
              "                    \n",
              "                if (document.getElementById(\"90ac3edf-764f-43f4-b488-7ada5675f2fe\")) {\n",
              "                    Plotly.newPlot(\n",
              "                        '90ac3edf-764f-43f4-b488-7ada5675f2fe',\n",
              "                        [{\"alignmentgroup\": \"True\", \"bingroup\": \"x\", \"hoverlabel\": {\"namelength\": 0}, \"hovertemplate\": \"Groups=%{x}<br>count of Number of Questions Submitted Late=%{y}\", \"legendgroup\": \"Groups=Black\", \"marker\": {\"color\": \"black\"}, \"name\": \"Groups=Black\", \"offsetgroup\": \"Groups=Black\", \"orientation\": \"v\", \"showlegend\": true, \"type\": \"histogram\", \"x\": [\"Black\", \"Black\", \"Black\", \"Black\", \"Black\", \"Black\", \"Black\", \"Black\", \"Black\", \"Black\", \"Black\", \"Black\", \"Black\", \"Black\", \"Black\", \"Black\", \"Black\", \"Black\", \"Black\", \"Black\", \"Black\", \"Black\", \"Black\", \"Black\", \"Black\", \"Black\", \"Black\", \"Black\", \"Black\", \"Black\", \"Black\", \"Black\", \"Black\", \"Black\"], \"xaxis\": \"x\", \"y\": [true, false, false, false, true, false, false, false, false, false, false, true, false, false, true, false, false, false, false, false, false, true, false, false, false, false, false, false, false, false, true, true, false, false], \"yaxis\": \"y\"}, {\"alignmentgroup\": \"True\", \"bingroup\": \"x\", \"hoverlabel\": {\"namelength\": 0}, \"hovertemplate\": \"Groups=%{x}<br>count of Number of Questions Submitted Late=%{y}\", \"legendgroup\": \"Groups=Blue\", \"marker\": {\"color\": \"royalblue\"}, \"name\": \"Groups=Blue\", \"offsetgroup\": \"Groups=Blue\", \"orientation\": \"v\", \"showlegend\": true, \"type\": \"histogram\", \"x\": [\"Blue\", \"Blue\", \"Blue\", \"Blue\", \"Blue\", \"Blue\", \"Blue\", \"Blue\", \"Blue\", \"Blue\", \"Blue\", \"Blue\", \"Blue\", \"Blue\", \"Blue\", \"Blue\", \"Blue\", \"Blue\", \"Blue\", \"Blue\", \"Blue\", \"Blue\", \"Blue\", \"Blue\", \"Blue\", \"Blue\", \"Blue\", \"Blue\", \"Blue\", \"Blue\", \"Blue\", \"Blue\", \"Blue\", \"Blue\"], \"xaxis\": \"x\", \"y\": [false, false, true, false, true, false, false, true, false, true, true, true, true, true, true, false, true, false, false, false, false, false, false, false, false, true, false, true, false, false, false, true, false, false], \"yaxis\": \"y\"}, {\"alignmentgroup\": \"True\", \"bingroup\": \"x\", \"hoverlabel\": {\"namelength\": 0}, \"hovertemplate\": \"Groups=%{x}<br>count of Number of Questions Submitted Late=%{y}\", \"legendgroup\": \"Groups=Brown\", \"marker\": {\"color\": \"peru\"}, \"name\": \"Groups=Brown\", \"offsetgroup\": \"Groups=Brown\", \"orientation\": \"v\", \"showlegend\": true, \"type\": \"histogram\", \"x\": [\"Brown\", \"Brown\", \"Brown\", \"Brown\", \"Brown\", \"Brown\", \"Brown\", \"Brown\", \"Brown\", \"Brown\", \"Brown\", \"Brown\", \"Brown\", \"Brown\", \"Brown\", \"Brown\", \"Brown\", \"Brown\", \"Brown\", \"Brown\", \"Brown\", \"Brown\", \"Brown\", \"Brown\", \"Brown\", \"Brown\", \"Brown\", \"Brown\", \"Brown\", \"Brown\", \"Brown\", \"Brown\", \"Brown\", \"Brown\", \"Brown\", \"Brown\"], \"xaxis\": \"x\", \"y\": [false, true, false, false, false, false, true, false, true, true, false, false, false, false, false, false, false, true, false, true, true, false, true, false, false, true, false, true, false, true, false, true, true, false, true, false], \"yaxis\": \"y\"}, {\"alignmentgroup\": \"True\", \"bingroup\": \"x\", \"hoverlabel\": {\"namelength\": 0}, \"hovertemplate\": \"Groups=%{x}<br>count of Number of Questions Submitted Late=%{y}\", \"legendgroup\": \"Groups=Green\", \"marker\": {\"color\": \"mediumseagreen\"}, \"name\": \"Groups=Green\", \"offsetgroup\": \"Groups=Green\", \"orientation\": \"v\", \"showlegend\": true, \"type\": \"histogram\", \"x\": [\"Green\", \"Green\", \"Green\", \"Green\", \"Green\", \"Green\", \"Green\", \"Green\", \"Green\", \"Green\", \"Green\", \"Green\", \"Green\", \"Green\", \"Green\", \"Green\", \"Green\", \"Green\", \"Green\", \"Green\", \"Green\", \"Green\", \"Green\", \"Green\", \"Green\", \"Green\", \"Green\", \"Green\", \"Green\", \"Green\", \"Green\", \"Green\", \"Green\", \"Green\", \"Green\", \"Green\", \"Green\", \"Green\", \"Green\"], \"xaxis\": \"x\", \"y\": [false, false, true, true, true, false, false, true, false, true, false, false, true, false, false, true, false, false, false, false, false, true, true, false, true, false, true, false, true, false, false, true, false, false, false, true, false, false, false], \"yaxis\": \"y\"}, {\"alignmentgroup\": \"True\", \"bingroup\": \"x\", \"hoverlabel\": {\"namelength\": 0}, \"hovertemplate\": \"Groups=%{x}<br>count of Number of Questions Submitted Late=%{y}\", \"legendgroup\": \"Groups=Pink\", \"marker\": {\"color\": \"hotpink\"}, \"name\": \"Groups=Pink\", \"offsetgroup\": \"Groups=Pink\", \"orientation\": \"v\", \"showlegend\": true, \"type\": \"histogram\", \"x\": [\"Pink\", \"Pink\", \"Pink\", \"Pink\", \"Pink\", \"Pink\", \"Pink\", \"Pink\", \"Pink\", \"Pink\", \"Pink\", \"Pink\", \"Pink\", \"Pink\", \"Pink\", \"Pink\", \"Pink\", \"Pink\", \"Pink\", \"Pink\", \"Pink\", \"Pink\", \"Pink\", \"Pink\", \"Pink\", \"Pink\", \"Pink\", \"Pink\", \"Pink\", \"Pink\", \"Pink\", \"Pink\", \"Pink\", \"Pink\", \"Pink\", \"Pink\", \"Pink\"], \"xaxis\": \"x\", \"y\": [false, false, true, false, false, true, true, false, false, false, true, true, false, true, true, true, true, true, true, false, false, false, false, false, false, false, false, false, false, false, false, false, false, true, true, false, true], \"yaxis\": \"y\"}, {\"alignmentgroup\": \"True\", \"bingroup\": \"x\", \"hoverlabel\": {\"namelength\": 0}, \"hovertemplate\": \"Groups=%{x}<br>count of Number of Questions Submitted Late=%{y}\", \"legendgroup\": \"Groups=Red\", \"marker\": {\"color\": \"tomato\"}, \"name\": \"Groups=Red\", \"offsetgroup\": \"Groups=Red\", \"orientation\": \"v\", \"showlegend\": true, \"type\": \"histogram\", \"x\": [\"Red\", \"Red\", \"Red\", \"Red\", \"Red\", \"Red\", \"Red\", \"Red\", \"Red\", \"Red\", \"Red\", \"Red\", \"Red\", \"Red\", \"Red\", \"Red\", \"Red\", \"Red\", \"Red\", \"Red\", \"Red\", \"Red\", \"Red\", \"Red\", \"Red\", \"Red\", \"Red\", \"Red\", \"Red\", \"Red\", \"Red\", \"Red\", \"Red\", \"Red\", \"Red\", \"Red\", \"Red\"], \"xaxis\": \"x\", \"y\": [true, true, true, false, false, true, true, false, false, false, false, false, false, false, true, false, false, false, false, false, false, false, false, true, false, false, false, false, true, false, true, false, true, false, false, false, true], \"yaxis\": \"y\"}, {\"alignmentgroup\": \"True\", \"bingroup\": \"x\", \"hoverlabel\": {\"namelength\": 0}, \"hovertemplate\": \"Groups=%{x}<br>count of Number of Questions Submitted Late=%{y}\", \"legendgroup\": \"Groups=Yellow\", \"marker\": {\"color\": \"gold\"}, \"name\": \"Groups=Yellow\", \"offsetgroup\": \"Groups=Yellow\", \"orientation\": \"v\", \"showlegend\": true, \"type\": \"histogram\", \"x\": [\"Yellow\", \"Yellow\", \"Yellow\", \"Yellow\", \"Yellow\", \"Yellow\", \"Yellow\", \"Yellow\", \"Yellow\", \"Yellow\", \"Yellow\", \"Yellow\", \"Yellow\", \"Yellow\", \"Yellow\", \"Yellow\", \"Yellow\", \"Yellow\", \"Yellow\", \"Yellow\", \"Yellow\", \"Yellow\", \"Yellow\", \"Yellow\", \"Yellow\", \"Yellow\", \"Yellow\", \"Yellow\", \"Yellow\", \"Yellow\", \"Yellow\"], \"xaxis\": \"x\", \"y\": [true, false, false, false, false, true, false, false, false, false, false, false, false, false, true, false, false, false, false, false, false, false, false, true, true, true, true, false, false, true, false], \"yaxis\": \"y\"}, {\"alignmentgroup\": \"True\", \"bingroup\": \"x\", \"hoverlabel\": {\"namelength\": 0}, \"hovertemplate\": \"Groups=%{x}<br>count of Number of Questions Submitted Late=%{y}\", \"legendgroup\": \"Groups=White\", \"marker\": {\"color\": \"white\"}, \"name\": \"Groups=White\", \"offsetgroup\": \"Groups=White\", \"orientation\": \"v\", \"showlegend\": true, \"type\": \"histogram\", \"x\": [\"White\", \"White\", \"White\", \"White\", \"White\", \"White\", \"White\", \"White\", \"White\", \"White\", \"White\", \"White\", \"White\", \"White\", \"White\", \"White\", \"White\", \"White\", \"White\", \"White\", \"White\", \"White\", \"White\"], \"xaxis\": \"x\", \"y\": [true, true, true, true, true, false, true, true, true, false, false, false, false, false, false, false, false, false, false, false, false, false, true], \"yaxis\": \"y\"}, {\"alignmentgroup\": \"True\", \"bingroup\": \"x\", \"hoverlabel\": {\"namelength\": 0}, \"hovertemplate\": \"Groups=%{x}<br>count of Number of Questions Submitted Late=%{y}\", \"legendgroup\": \"Groups=Purple\", \"marker\": {\"color\": \"mediumpurple\"}, \"name\": \"Groups=Purple\", \"offsetgroup\": \"Groups=Purple\", \"orientation\": \"v\", \"showlegend\": true, \"type\": \"histogram\", \"x\": [\"Purple\", \"Purple\", \"Purple\", \"Purple\", \"Purple\", \"Purple\", \"Purple\", \"Purple\", \"Purple\", \"Purple\", \"Purple\", \"Purple\", \"Purple\", \"Purple\", \"Purple\"], \"xaxis\": \"x\", \"y\": [false, true, true, false, false, false, true, false, false, true, true, false, false, false, false], \"yaxis\": \"y\"}],\n",
              "                        {\"barmode\": \"relative\", \"legend\": {\"tracegroupgap\": 0}, \"showlegend\": false, \"template\": {\"data\": {\"bar\": [{\"error_x\": {\"color\": \"#2a3f5f\"}, \"error_y\": {\"color\": \"#2a3f5f\"}, \"marker\": {\"line\": {\"color\": \"#E5ECF6\", \"width\": 0.5}}, \"type\": \"bar\"}], \"barpolar\": [{\"marker\": {\"line\": {\"color\": \"#E5ECF6\", \"width\": 0.5}}, \"type\": \"barpolar\"}], \"carpet\": [{\"aaxis\": {\"endlinecolor\": \"#2a3f5f\", \"gridcolor\": \"white\", \"linecolor\": \"white\", \"minorgridcolor\": \"white\", \"startlinecolor\": \"#2a3f5f\"}, \"baxis\": {\"endlinecolor\": \"#2a3f5f\", \"gridcolor\": \"white\", \"linecolor\": \"white\", \"minorgridcolor\": \"white\", \"startlinecolor\": \"#2a3f5f\"}, \"type\": \"carpet\"}], \"choropleth\": [{\"colorbar\": {\"outlinewidth\": 0, \"ticks\": \"\"}, \"type\": \"choropleth\"}], \"contour\": [{\"colorbar\": {\"outlinewidth\": 0, \"ticks\": \"\"}, \"colorscale\": [[0.0, \"#0d0887\"], [0.1111111111111111, \"#46039f\"], [0.2222222222222222, \"#7201a8\"], [0.3333333333333333, \"#9c179e\"], [0.4444444444444444, \"#bd3786\"], [0.5555555555555556, \"#d8576b\"], [0.6666666666666666, \"#ed7953\"], [0.7777777777777778, \"#fb9f3a\"], [0.8888888888888888, \"#fdca26\"], [1.0, \"#f0f921\"]], \"type\": \"contour\"}], \"contourcarpet\": [{\"colorbar\": {\"outlinewidth\": 0, \"ticks\": \"\"}, \"type\": \"contourcarpet\"}], \"heatmap\": [{\"colorbar\": {\"outlinewidth\": 0, \"ticks\": \"\"}, \"colorscale\": [[0.0, \"#0d0887\"], [0.1111111111111111, \"#46039f\"], [0.2222222222222222, \"#7201a8\"], [0.3333333333333333, \"#9c179e\"], [0.4444444444444444, \"#bd3786\"], [0.5555555555555556, \"#d8576b\"], [0.6666666666666666, \"#ed7953\"], [0.7777777777777778, \"#fb9f3a\"], [0.8888888888888888, \"#fdca26\"], [1.0, \"#f0f921\"]], \"type\": \"heatmap\"}], \"heatmapgl\": [{\"colorbar\": {\"outlinewidth\": 0, \"ticks\": \"\"}, \"colorscale\": [[0.0, \"#0d0887\"], [0.1111111111111111, \"#46039f\"], [0.2222222222222222, \"#7201a8\"], [0.3333333333333333, \"#9c179e\"], [0.4444444444444444, \"#bd3786\"], [0.5555555555555556, \"#d8576b\"], [0.6666666666666666, \"#ed7953\"], [0.7777777777777778, \"#fb9f3a\"], [0.8888888888888888, \"#fdca26\"], [1.0, \"#f0f921\"]], \"type\": \"heatmapgl\"}], \"histogram\": [{\"marker\": {\"colorbar\": {\"outlinewidth\": 0, \"ticks\": \"\"}}, \"type\": \"histogram\"}], \"histogram2d\": [{\"colorbar\": {\"outlinewidth\": 0, \"ticks\": \"\"}, \"colorscale\": [[0.0, \"#0d0887\"], [0.1111111111111111, \"#46039f\"], [0.2222222222222222, \"#7201a8\"], [0.3333333333333333, \"#9c179e\"], [0.4444444444444444, \"#bd3786\"], [0.5555555555555556, \"#d8576b\"], [0.6666666666666666, \"#ed7953\"], [0.7777777777777778, \"#fb9f3a\"], [0.8888888888888888, \"#fdca26\"], [1.0, \"#f0f921\"]], \"type\": \"histogram2d\"}], \"histogram2dcontour\": [{\"colorbar\": {\"outlinewidth\": 0, \"ticks\": \"\"}, \"colorscale\": [[0.0, \"#0d0887\"], [0.1111111111111111, \"#46039f\"], [0.2222222222222222, \"#7201a8\"], [0.3333333333333333, \"#9c179e\"], [0.4444444444444444, \"#bd3786\"], [0.5555555555555556, \"#d8576b\"], [0.6666666666666666, \"#ed7953\"], [0.7777777777777778, \"#fb9f3a\"], [0.8888888888888888, \"#fdca26\"], [1.0, \"#f0f921\"]], \"type\": \"histogram2dcontour\"}], \"mesh3d\": [{\"colorbar\": {\"outlinewidth\": 0, \"ticks\": \"\"}, \"type\": \"mesh3d\"}], \"parcoords\": [{\"line\": {\"colorbar\": {\"outlinewidth\": 0, \"ticks\": \"\"}}, \"type\": \"parcoords\"}], \"pie\": [{\"automargin\": true, \"type\": \"pie\"}], \"scatter\": [{\"marker\": {\"colorbar\": {\"outlinewidth\": 0, \"ticks\": \"\"}}, \"type\": \"scatter\"}], \"scatter3d\": [{\"line\": {\"colorbar\": {\"outlinewidth\": 0, \"ticks\": \"\"}}, \"marker\": {\"colorbar\": {\"outlinewidth\": 0, \"ticks\": \"\"}}, \"type\": \"scatter3d\"}], \"scattercarpet\": [{\"marker\": {\"colorbar\": {\"outlinewidth\": 0, \"ticks\": \"\"}}, \"type\": \"scattercarpet\"}], \"scattergeo\": [{\"marker\": {\"colorbar\": {\"outlinewidth\": 0, \"ticks\": \"\"}}, \"type\": \"scattergeo\"}], \"scattergl\": [{\"marker\": {\"colorbar\": {\"outlinewidth\": 0, \"ticks\": \"\"}}, \"type\": \"scattergl\"}], \"scattermapbox\": [{\"marker\": {\"colorbar\": {\"outlinewidth\": 0, \"ticks\": \"\"}}, \"type\": \"scattermapbox\"}], \"scatterpolar\": [{\"marker\": {\"colorbar\": {\"outlinewidth\": 0, \"ticks\": \"\"}}, \"type\": \"scatterpolar\"}], \"scatterpolargl\": [{\"marker\": {\"colorbar\": {\"outlinewidth\": 0, \"ticks\": \"\"}}, \"type\": \"scatterpolargl\"}], \"scatterternary\": [{\"marker\": {\"colorbar\": {\"outlinewidth\": 0, \"ticks\": \"\"}}, \"type\": \"scatterternary\"}], \"surface\": [{\"colorbar\": {\"outlinewidth\": 0, \"ticks\": \"\"}, \"colorscale\": [[0.0, \"#0d0887\"], [0.1111111111111111, \"#46039f\"], [0.2222222222222222, \"#7201a8\"], [0.3333333333333333, \"#9c179e\"], [0.4444444444444444, \"#bd3786\"], [0.5555555555555556, \"#d8576b\"], [0.6666666666666666, \"#ed7953\"], [0.7777777777777778, \"#fb9f3a\"], [0.8888888888888888, \"#fdca26\"], [1.0, \"#f0f921\"]], \"type\": \"surface\"}], \"table\": [{\"cells\": {\"fill\": {\"color\": \"#EBF0F8\"}, \"line\": {\"color\": \"white\"}}, \"header\": {\"fill\": {\"color\": \"#C8D4E3\"}, \"line\": {\"color\": \"white\"}}, \"type\": \"table\"}]}, \"layout\": {\"annotationdefaults\": {\"arrowcolor\": \"#2a3f5f\", \"arrowhead\": 0, \"arrowwidth\": 1}, \"coloraxis\": {\"colorbar\": {\"outlinewidth\": 0, \"ticks\": \"\"}}, \"colorscale\": {\"diverging\": [[0, \"#8e0152\"], [0.1, \"#c51b7d\"], [0.2, \"#de77ae\"], [0.3, \"#f1b6da\"], [0.4, \"#fde0ef\"], [0.5, \"#f7f7f7\"], [0.6, \"#e6f5d0\"], [0.7, \"#b8e186\"], [0.8, \"#7fbc41\"], [0.9, \"#4d9221\"], [1, \"#276419\"]], \"sequential\": [[0.0, \"#0d0887\"], [0.1111111111111111, \"#46039f\"], [0.2222222222222222, \"#7201a8\"], [0.3333333333333333, \"#9c179e\"], [0.4444444444444444, \"#bd3786\"], [0.5555555555555556, \"#d8576b\"], [0.6666666666666666, \"#ed7953\"], [0.7777777777777778, \"#fb9f3a\"], [0.8888888888888888, \"#fdca26\"], [1.0, \"#f0f921\"]], \"sequentialminus\": [[0.0, \"#0d0887\"], [0.1111111111111111, \"#46039f\"], [0.2222222222222222, \"#7201a8\"], [0.3333333333333333, \"#9c179e\"], [0.4444444444444444, \"#bd3786\"], [0.5555555555555556, \"#d8576b\"], [0.6666666666666666, \"#ed7953\"], [0.7777777777777778, \"#fb9f3a\"], [0.8888888888888888, \"#fdca26\"], [1.0, \"#f0f921\"]]}, \"colorway\": [\"#636efa\", \"#EF553B\", \"#00cc96\", \"#ab63fa\", \"#FFA15A\", \"#19d3f3\", \"#FF6692\", \"#B6E880\", \"#FF97FF\", \"#FECB52\"], \"font\": {\"color\": \"#2a3f5f\"}, \"geo\": {\"bgcolor\": \"white\", \"lakecolor\": \"white\", \"landcolor\": \"#E5ECF6\", \"showlakes\": true, \"showland\": true, \"subunitcolor\": \"white\"}, \"hoverlabel\": {\"align\": \"left\"}, \"hovermode\": \"closest\", \"mapbox\": {\"style\": \"light\"}, \"paper_bgcolor\": \"white\", \"plot_bgcolor\": \"#E5ECF6\", \"polar\": {\"angularaxis\": {\"gridcolor\": \"white\", \"linecolor\": \"white\", \"ticks\": \"\"}, \"bgcolor\": \"#E5ECF6\", \"radialaxis\": {\"gridcolor\": \"white\", \"linecolor\": \"white\", \"ticks\": \"\"}}, \"scene\": {\"xaxis\": {\"backgroundcolor\": \"#E5ECF6\", \"gridcolor\": \"white\", \"gridwidth\": 2, \"linecolor\": \"white\", \"showbackground\": true, \"ticks\": \"\", \"zerolinecolor\": \"white\"}, \"yaxis\": {\"backgroundcolor\": \"#E5ECF6\", \"gridcolor\": \"white\", \"gridwidth\": 2, \"linecolor\": \"white\", \"showbackground\": true, \"ticks\": \"\", \"zerolinecolor\": \"white\"}, \"zaxis\": {\"backgroundcolor\": \"#E5ECF6\", \"gridcolor\": \"white\", \"gridwidth\": 2, \"linecolor\": \"white\", \"showbackground\": true, \"ticks\": \"\", \"zerolinecolor\": \"white\"}}, \"shapedefaults\": {\"line\": {\"color\": \"#2a3f5f\"}}, \"ternary\": {\"aaxis\": {\"gridcolor\": \"white\", \"linecolor\": \"white\", \"ticks\": \"\"}, \"baxis\": {\"gridcolor\": \"white\", \"linecolor\": \"white\", \"ticks\": \"\"}, \"bgcolor\": \"#E5ECF6\", \"caxis\": {\"gridcolor\": \"white\", \"linecolor\": \"white\", \"ticks\": \"\"}}, \"title\": {\"x\": 0.05}, \"xaxis\": {\"automargin\": true, \"gridcolor\": \"white\", \"linecolor\": \"white\", \"ticks\": \"\", \"title\": {\"standoff\": 15}, \"zerolinecolor\": \"white\", \"zerolinewidth\": 2}, \"yaxis\": {\"automargin\": true, \"gridcolor\": \"white\", \"linecolor\": \"white\", \"ticks\": \"\", \"title\": {\"standoff\": 15}, \"zerolinecolor\": \"white\", \"zerolinewidth\": 2}}}, \"title\": {\"text\": \"Distribution of late questions in each team\"}, \"xaxis\": {\"anchor\": \"y\", \"categoryarray\": [\"Black\", \"Blue\", \"Brown\", \"Green\", \"Pink\", \"Red\", \"Yellow\", \"White\", \"Purple\"], \"categoryorder\": \"array\", \"domain\": [0.0, 1.0], \"title\": {\"text\": \"Groups\"}}, \"yaxis\": {\"anchor\": \"x\", \"domain\": [0.0, 1.0], \"title\": {\"text\": \"count of Number of Questions Submitted Late\"}}},\n",
              "                        {\"responsive\": true}\n",
              "                    ).then(function(){\n",
              "                            \n",
              "var gd = document.getElementById('90ac3edf-764f-43f4-b488-7ada5675f2fe');\n",
              "var x = new MutationObserver(function (mutations, observer) {{\n",
              "        var display = window.getComputedStyle(gd).display;\n",
              "        if (!display || display === 'none') {{\n",
              "            console.log([gd, 'removed!']);\n",
              "            Plotly.purge(gd);\n",
              "            observer.disconnect();\n",
              "        }}\n",
              "}});\n",
              "\n",
              "// Listen for the removal of the full notebook cells\n",
              "var notebookContainer = gd.closest('#notebook-container');\n",
              "if (notebookContainer) {{\n",
              "    x.observe(notebookContainer, {childList: true});\n",
              "}}\n",
              "\n",
              "// Listen for the clearing of the current output cell\n",
              "var outputEl = gd.closest('.output');\n",
              "if (outputEl) {{\n",
              "    x.observe(outputEl, {childList: true});\n",
              "}}\n",
              "\n",
              "                        })\n",
              "                };\n",
              "                \n",
              "            </script>\n",
              "        </div>\n",
              "</body>\n",
              "</html>"
            ]
          },
          "metadata": {
            "tags": []
          }
        }
      ]
    },
    {
      "cell_type": "code",
      "metadata": {
        "id": "hn1ACg2wafC3",
        "outputId": "f3933f0b-9a89-4d5b-edb6-341d33eba642",
        "colab": {
          "base_uri": "https://localhost:8080/",
          "height": 542
        }
      },
      "source": [
        "members_late = team_lateness_boolean[[\"team\", \"late\"]].groupby(\"team\").sum()\n",
        "team_size = team_lateness_boolean[[\"team\", \"user_id\"]].groupby(\"team\").nunique()\n",
        "\n",
        "members_late[\"num_members\"] = team_size\n",
        "members_late[\"perc_late\"] = members_late[\"late\"] / members_late[\"num_members\"]\n",
        "members_late = members_late.reset_index()\n",
        "\n",
        "# Authors: Yan and Tash\n",
        "# Supporter: Johanna\n",
        "# Date: \n",
        "fig = px.bar(members_late,x=\"team\",y=\"perc_late\",color = \"team\", color_discrete_map = {'Pink': 'hotpink','Green': 'mediumseagreen', 'Yellow': 'gold','Black': 'black','Blue': 'royalblue','Red': 'tomato', 'Brown': 'peru', 'White': 'white','Purple': 'mediumpurple'}, title = \"Proportion of members in the team who made a late question in cycles 1 and 2\",labels={\n",
        "                     \"team\": \"Groups\",\n",
        "                     \"perc_late\": \"Percentage of questions submitted late\"})\n",
        "\n",
        "fig.update_layout(showlegend=False) "
      ],
      "execution_count": 271,
      "outputs": [
        {
          "output_type": "display_data",
          "data": {
            "text/html": [
              "<html>\n",
              "<head><meta charset=\"utf-8\" /></head>\n",
              "<body>\n",
              "    <div>\n",
              "            <script src=\"https://cdnjs.cloudflare.com/ajax/libs/mathjax/2.7.5/MathJax.js?config=TeX-AMS-MML_SVG\"></script><script type=\"text/javascript\">if (window.MathJax) {MathJax.Hub.Config({SVG: {font: \"STIX-Web\"}});}</script>\n",
              "                <script type=\"text/javascript\">window.PlotlyConfig = {MathJaxConfig: 'local'};</script>\n",
              "        <script src=\"https://cdn.plot.ly/plotly-latest.min.js\"></script>    \n",
              "            <div id=\"57f89f91-75e2-4ed9-a133-aef102322322\" class=\"plotly-graph-div\" style=\"height:525px; width:100%;\"></div>\n",
              "            <script type=\"text/javascript\">\n",
              "                \n",
              "                    window.PLOTLYENV=window.PLOTLYENV || {};\n",
              "                    \n",
              "                if (document.getElementById(\"57f89f91-75e2-4ed9-a133-aef102322322\")) {\n",
              "                    Plotly.newPlot(\n",
              "                        '57f89f91-75e2-4ed9-a133-aef102322322',\n",
              "                        [{\"alignmentgroup\": \"True\", \"hoverlabel\": {\"namelength\": 0}, \"hovertemplate\": \"Groups=%{x}<br>Percentage of questions submitted late=%{y}\", \"legendgroup\": \"Groups=Black\", \"marker\": {\"color\": \"black\"}, \"name\": \"Groups=Black\", \"offsetgroup\": \"Groups=Black\", \"orientation\": \"v\", \"showlegend\": true, \"textposition\": \"auto\", \"type\": \"bar\", \"x\": [\"Black\"], \"xaxis\": \"x\", \"y\": [0.20588235294117646], \"yaxis\": \"y\"}, {\"alignmentgroup\": \"True\", \"hoverlabel\": {\"namelength\": 0}, \"hovertemplate\": \"Groups=%{x}<br>Percentage of questions submitted late=%{y}\", \"legendgroup\": \"Groups=Blue\", \"marker\": {\"color\": \"royalblue\"}, \"name\": \"Groups=Blue\", \"offsetgroup\": \"Groups=Blue\", \"orientation\": \"v\", \"showlegend\": true, \"textposition\": \"auto\", \"type\": \"bar\", \"x\": [\"Blue\"], \"xaxis\": \"x\", \"y\": [0.38235294117647056], \"yaxis\": \"y\"}, {\"alignmentgroup\": \"True\", \"hoverlabel\": {\"namelength\": 0}, \"hovertemplate\": \"Groups=%{x}<br>Percentage of questions submitted late=%{y}\", \"legendgroup\": \"Groups=Brown\", \"marker\": {\"color\": \"peru\"}, \"name\": \"Groups=Brown\", \"offsetgroup\": \"Groups=Brown\", \"orientation\": \"v\", \"showlegend\": true, \"textposition\": \"auto\", \"type\": \"bar\", \"x\": [\"Brown\"], \"xaxis\": \"x\", \"y\": [0.3888888888888889], \"yaxis\": \"y\"}, {\"alignmentgroup\": \"True\", \"hoverlabel\": {\"namelength\": 0}, \"hovertemplate\": \"Groups=%{x}<br>Percentage of questions submitted late=%{y}\", \"legendgroup\": \"Groups=Green\", \"marker\": {\"color\": \"mediumseagreen\"}, \"name\": \"Groups=Green\", \"offsetgroup\": \"Groups=Green\", \"orientation\": \"v\", \"showlegend\": true, \"textposition\": \"auto\", \"type\": \"bar\", \"x\": [\"Green\"], \"xaxis\": \"x\", \"y\": [0.358974358974359], \"yaxis\": \"y\"}, {\"alignmentgroup\": \"True\", \"hoverlabel\": {\"namelength\": 0}, \"hovertemplate\": \"Groups=%{x}<br>Percentage of questions submitted late=%{y}\", \"legendgroup\": \"Groups=Pink\", \"marker\": {\"color\": \"hotpink\"}, \"name\": \"Groups=Pink\", \"offsetgroup\": \"Groups=Pink\", \"orientation\": \"v\", \"showlegend\": true, \"textposition\": \"auto\", \"type\": \"bar\", \"x\": [\"Pink\"], \"xaxis\": \"x\", \"y\": [0.3783783783783784], \"yaxis\": \"y\"}, {\"alignmentgroup\": \"True\", \"hoverlabel\": {\"namelength\": 0}, \"hovertemplate\": \"Groups=%{x}<br>Percentage of questions submitted late=%{y}\", \"legendgroup\": \"Groups=Purple\", \"marker\": {\"color\": \"mediumpurple\"}, \"name\": \"Groups=Purple\", \"offsetgroup\": \"Groups=Purple\", \"orientation\": \"v\", \"showlegend\": true, \"textposition\": \"auto\", \"type\": \"bar\", \"x\": [\"Purple\"], \"xaxis\": \"x\", \"y\": [0.3333333333333333], \"yaxis\": \"y\"}, {\"alignmentgroup\": \"True\", \"hoverlabel\": {\"namelength\": 0}, \"hovertemplate\": \"Groups=%{x}<br>Percentage of questions submitted late=%{y}\", \"legendgroup\": \"Groups=Red\", \"marker\": {\"color\": \"tomato\"}, \"name\": \"Groups=Red\", \"offsetgroup\": \"Groups=Red\", \"orientation\": \"v\", \"showlegend\": true, \"textposition\": \"auto\", \"type\": \"bar\", \"x\": [\"Red\"], \"xaxis\": \"x\", \"y\": [0.2972972972972973], \"yaxis\": \"y\"}, {\"alignmentgroup\": \"True\", \"hoverlabel\": {\"namelength\": 0}, \"hovertemplate\": \"Groups=%{x}<br>Percentage of questions submitted late=%{y}\", \"legendgroup\": \"Groups=White\", \"marker\": {\"color\": \"white\"}, \"name\": \"Groups=White\", \"offsetgroup\": \"Groups=White\", \"orientation\": \"v\", \"showlegend\": true, \"textposition\": \"auto\", \"type\": \"bar\", \"x\": [\"White\"], \"xaxis\": \"x\", \"y\": [0.391304347826087], \"yaxis\": \"y\"}, {\"alignmentgroup\": \"True\", \"hoverlabel\": {\"namelength\": 0}, \"hovertemplate\": \"Groups=%{x}<br>Percentage of questions submitted late=%{y}\", \"legendgroup\": \"Groups=Yellow\", \"marker\": {\"color\": \"gold\"}, \"name\": \"Groups=Yellow\", \"offsetgroup\": \"Groups=Yellow\", \"orientation\": \"v\", \"showlegend\": true, \"textposition\": \"auto\", \"type\": \"bar\", \"x\": [\"Yellow\"], \"xaxis\": \"x\", \"y\": [0.25806451612903225], \"yaxis\": \"y\"}],\n",
              "                        {\"barmode\": \"relative\", \"legend\": {\"tracegroupgap\": 0}, \"showlegend\": false, \"template\": {\"data\": {\"bar\": [{\"error_x\": {\"color\": \"#2a3f5f\"}, \"error_y\": {\"color\": \"#2a3f5f\"}, \"marker\": {\"line\": {\"color\": \"#E5ECF6\", \"width\": 0.5}}, \"type\": \"bar\"}], \"barpolar\": [{\"marker\": {\"line\": {\"color\": \"#E5ECF6\", \"width\": 0.5}}, \"type\": \"barpolar\"}], \"carpet\": [{\"aaxis\": {\"endlinecolor\": \"#2a3f5f\", \"gridcolor\": \"white\", \"linecolor\": \"white\", \"minorgridcolor\": \"white\", \"startlinecolor\": \"#2a3f5f\"}, \"baxis\": {\"endlinecolor\": \"#2a3f5f\", \"gridcolor\": \"white\", \"linecolor\": \"white\", \"minorgridcolor\": \"white\", \"startlinecolor\": \"#2a3f5f\"}, \"type\": \"carpet\"}], \"choropleth\": [{\"colorbar\": {\"outlinewidth\": 0, \"ticks\": \"\"}, \"type\": \"choropleth\"}], \"contour\": [{\"colorbar\": {\"outlinewidth\": 0, \"ticks\": \"\"}, \"colorscale\": [[0.0, \"#0d0887\"], [0.1111111111111111, \"#46039f\"], [0.2222222222222222, \"#7201a8\"], [0.3333333333333333, \"#9c179e\"], [0.4444444444444444, \"#bd3786\"], [0.5555555555555556, \"#d8576b\"], [0.6666666666666666, \"#ed7953\"], [0.7777777777777778, \"#fb9f3a\"], [0.8888888888888888, \"#fdca26\"], [1.0, \"#f0f921\"]], \"type\": \"contour\"}], \"contourcarpet\": [{\"colorbar\": {\"outlinewidth\": 0, \"ticks\": \"\"}, \"type\": \"contourcarpet\"}], \"heatmap\": [{\"colorbar\": {\"outlinewidth\": 0, \"ticks\": \"\"}, \"colorscale\": [[0.0, \"#0d0887\"], [0.1111111111111111, \"#46039f\"], [0.2222222222222222, \"#7201a8\"], [0.3333333333333333, \"#9c179e\"], [0.4444444444444444, \"#bd3786\"], [0.5555555555555556, \"#d8576b\"], [0.6666666666666666, \"#ed7953\"], [0.7777777777777778, \"#fb9f3a\"], [0.8888888888888888, \"#fdca26\"], [1.0, \"#f0f921\"]], \"type\": \"heatmap\"}], \"heatmapgl\": [{\"colorbar\": {\"outlinewidth\": 0, \"ticks\": \"\"}, \"colorscale\": [[0.0, \"#0d0887\"], [0.1111111111111111, \"#46039f\"], [0.2222222222222222, \"#7201a8\"], [0.3333333333333333, \"#9c179e\"], [0.4444444444444444, \"#bd3786\"], [0.5555555555555556, \"#d8576b\"], [0.6666666666666666, \"#ed7953\"], [0.7777777777777778, \"#fb9f3a\"], [0.8888888888888888, \"#fdca26\"], [1.0, \"#f0f921\"]], \"type\": \"heatmapgl\"}], \"histogram\": [{\"marker\": {\"colorbar\": {\"outlinewidth\": 0, \"ticks\": \"\"}}, \"type\": \"histogram\"}], \"histogram2d\": [{\"colorbar\": {\"outlinewidth\": 0, \"ticks\": \"\"}, \"colorscale\": [[0.0, \"#0d0887\"], [0.1111111111111111, \"#46039f\"], [0.2222222222222222, \"#7201a8\"], [0.3333333333333333, \"#9c179e\"], [0.4444444444444444, \"#bd3786\"], [0.5555555555555556, \"#d8576b\"], [0.6666666666666666, \"#ed7953\"], [0.7777777777777778, \"#fb9f3a\"], [0.8888888888888888, \"#fdca26\"], [1.0, \"#f0f921\"]], \"type\": \"histogram2d\"}], \"histogram2dcontour\": [{\"colorbar\": {\"outlinewidth\": 0, \"ticks\": \"\"}, \"colorscale\": [[0.0, \"#0d0887\"], [0.1111111111111111, \"#46039f\"], [0.2222222222222222, \"#7201a8\"], [0.3333333333333333, \"#9c179e\"], [0.4444444444444444, \"#bd3786\"], [0.5555555555555556, \"#d8576b\"], [0.6666666666666666, \"#ed7953\"], [0.7777777777777778, \"#fb9f3a\"], [0.8888888888888888, \"#fdca26\"], [1.0, \"#f0f921\"]], \"type\": \"histogram2dcontour\"}], \"mesh3d\": [{\"colorbar\": {\"outlinewidth\": 0, \"ticks\": \"\"}, \"type\": \"mesh3d\"}], \"parcoords\": [{\"line\": {\"colorbar\": {\"outlinewidth\": 0, \"ticks\": \"\"}}, \"type\": \"parcoords\"}], \"pie\": [{\"automargin\": true, \"type\": \"pie\"}], \"scatter\": [{\"marker\": {\"colorbar\": {\"outlinewidth\": 0, \"ticks\": \"\"}}, \"type\": \"scatter\"}], \"scatter3d\": [{\"line\": {\"colorbar\": {\"outlinewidth\": 0, \"ticks\": \"\"}}, \"marker\": {\"colorbar\": {\"outlinewidth\": 0, \"ticks\": \"\"}}, \"type\": \"scatter3d\"}], \"scattercarpet\": [{\"marker\": {\"colorbar\": {\"outlinewidth\": 0, \"ticks\": \"\"}}, \"type\": \"scattercarpet\"}], \"scattergeo\": [{\"marker\": {\"colorbar\": {\"outlinewidth\": 0, \"ticks\": \"\"}}, \"type\": \"scattergeo\"}], \"scattergl\": [{\"marker\": {\"colorbar\": {\"outlinewidth\": 0, \"ticks\": \"\"}}, \"type\": \"scattergl\"}], \"scattermapbox\": [{\"marker\": {\"colorbar\": {\"outlinewidth\": 0, \"ticks\": \"\"}}, \"type\": \"scattermapbox\"}], \"scatterpolar\": [{\"marker\": {\"colorbar\": {\"outlinewidth\": 0, \"ticks\": \"\"}}, \"type\": \"scatterpolar\"}], \"scatterpolargl\": [{\"marker\": {\"colorbar\": {\"outlinewidth\": 0, \"ticks\": \"\"}}, \"type\": \"scatterpolargl\"}], \"scatterternary\": [{\"marker\": {\"colorbar\": {\"outlinewidth\": 0, \"ticks\": \"\"}}, \"type\": \"scatterternary\"}], \"surface\": [{\"colorbar\": {\"outlinewidth\": 0, \"ticks\": \"\"}, \"colorscale\": [[0.0, \"#0d0887\"], [0.1111111111111111, \"#46039f\"], [0.2222222222222222, \"#7201a8\"], [0.3333333333333333, \"#9c179e\"], [0.4444444444444444, \"#bd3786\"], [0.5555555555555556, \"#d8576b\"], [0.6666666666666666, \"#ed7953\"], [0.7777777777777778, \"#fb9f3a\"], [0.8888888888888888, \"#fdca26\"], [1.0, \"#f0f921\"]], \"type\": \"surface\"}], \"table\": [{\"cells\": {\"fill\": {\"color\": \"#EBF0F8\"}, \"line\": {\"color\": \"white\"}}, \"header\": {\"fill\": {\"color\": \"#C8D4E3\"}, \"line\": {\"color\": \"white\"}}, \"type\": \"table\"}]}, \"layout\": {\"annotationdefaults\": {\"arrowcolor\": \"#2a3f5f\", \"arrowhead\": 0, \"arrowwidth\": 1}, \"coloraxis\": {\"colorbar\": {\"outlinewidth\": 0, \"ticks\": \"\"}}, \"colorscale\": {\"diverging\": [[0, \"#8e0152\"], [0.1, \"#c51b7d\"], [0.2, \"#de77ae\"], [0.3, \"#f1b6da\"], [0.4, \"#fde0ef\"], [0.5, \"#f7f7f7\"], [0.6, \"#e6f5d0\"], [0.7, \"#b8e186\"], [0.8, \"#7fbc41\"], [0.9, \"#4d9221\"], [1, \"#276419\"]], \"sequential\": [[0.0, \"#0d0887\"], [0.1111111111111111, \"#46039f\"], [0.2222222222222222, \"#7201a8\"], [0.3333333333333333, \"#9c179e\"], [0.4444444444444444, \"#bd3786\"], [0.5555555555555556, \"#d8576b\"], [0.6666666666666666, \"#ed7953\"], [0.7777777777777778, \"#fb9f3a\"], [0.8888888888888888, \"#fdca26\"], [1.0, \"#f0f921\"]], \"sequentialminus\": [[0.0, \"#0d0887\"], [0.1111111111111111, \"#46039f\"], [0.2222222222222222, \"#7201a8\"], [0.3333333333333333, \"#9c179e\"], [0.4444444444444444, \"#bd3786\"], [0.5555555555555556, \"#d8576b\"], [0.6666666666666666, \"#ed7953\"], [0.7777777777777778, \"#fb9f3a\"], [0.8888888888888888, \"#fdca26\"], [1.0, \"#f0f921\"]]}, \"colorway\": [\"#636efa\", \"#EF553B\", \"#00cc96\", \"#ab63fa\", \"#FFA15A\", \"#19d3f3\", \"#FF6692\", \"#B6E880\", \"#FF97FF\", \"#FECB52\"], \"font\": {\"color\": \"#2a3f5f\"}, \"geo\": {\"bgcolor\": \"white\", \"lakecolor\": \"white\", \"landcolor\": \"#E5ECF6\", \"showlakes\": true, \"showland\": true, \"subunitcolor\": \"white\"}, \"hoverlabel\": {\"align\": \"left\"}, \"hovermode\": \"closest\", \"mapbox\": {\"style\": \"light\"}, \"paper_bgcolor\": \"white\", \"plot_bgcolor\": \"#E5ECF6\", \"polar\": {\"angularaxis\": {\"gridcolor\": \"white\", \"linecolor\": \"white\", \"ticks\": \"\"}, \"bgcolor\": \"#E5ECF6\", \"radialaxis\": {\"gridcolor\": \"white\", \"linecolor\": \"white\", \"ticks\": \"\"}}, \"scene\": {\"xaxis\": {\"backgroundcolor\": \"#E5ECF6\", \"gridcolor\": \"white\", \"gridwidth\": 2, \"linecolor\": \"white\", \"showbackground\": true, \"ticks\": \"\", \"zerolinecolor\": \"white\"}, \"yaxis\": {\"backgroundcolor\": \"#E5ECF6\", \"gridcolor\": \"white\", \"gridwidth\": 2, \"linecolor\": \"white\", \"showbackground\": true, \"ticks\": \"\", \"zerolinecolor\": \"white\"}, \"zaxis\": {\"backgroundcolor\": \"#E5ECF6\", \"gridcolor\": \"white\", \"gridwidth\": 2, \"linecolor\": \"white\", \"showbackground\": true, \"ticks\": \"\", \"zerolinecolor\": \"white\"}}, \"shapedefaults\": {\"line\": {\"color\": \"#2a3f5f\"}}, \"ternary\": {\"aaxis\": {\"gridcolor\": \"white\", \"linecolor\": \"white\", \"ticks\": \"\"}, \"baxis\": {\"gridcolor\": \"white\", \"linecolor\": \"white\", \"ticks\": \"\"}, \"bgcolor\": \"#E5ECF6\", \"caxis\": {\"gridcolor\": \"white\", \"linecolor\": \"white\", \"ticks\": \"\"}}, \"title\": {\"x\": 0.05}, \"xaxis\": {\"automargin\": true, \"gridcolor\": \"white\", \"linecolor\": \"white\", \"ticks\": \"\", \"title\": {\"standoff\": 15}, \"zerolinecolor\": \"white\", \"zerolinewidth\": 2}, \"yaxis\": {\"automargin\": true, \"gridcolor\": \"white\", \"linecolor\": \"white\", \"ticks\": \"\", \"title\": {\"standoff\": 15}, \"zerolinecolor\": \"white\", \"zerolinewidth\": 2}}}, \"title\": {\"text\": \"Proportion of members in the team who made a late question in cycles 1 and 2\"}, \"xaxis\": {\"anchor\": \"y\", \"categoryarray\": [\"Black\", \"Blue\", \"Brown\", \"Green\", \"Pink\", \"Purple\", \"Red\", \"White\", \"Yellow\"], \"categoryorder\": \"array\", \"domain\": [0.0, 1.0], \"title\": {\"text\": \"Groups\"}}, \"yaxis\": {\"anchor\": \"x\", \"domain\": [0.0, 1.0], \"title\": {\"text\": \"Percentage of questions submitted late\"}}},\n",
              "                        {\"responsive\": true}\n",
              "                    ).then(function(){\n",
              "                            \n",
              "var gd = document.getElementById('57f89f91-75e2-4ed9-a133-aef102322322');\n",
              "var x = new MutationObserver(function (mutations, observer) {{\n",
              "        var display = window.getComputedStyle(gd).display;\n",
              "        if (!display || display === 'none') {{\n",
              "            console.log([gd, 'removed!']);\n",
              "            Plotly.purge(gd);\n",
              "            observer.disconnect();\n",
              "        }}\n",
              "}});\n",
              "\n",
              "// Listen for the removal of the full notebook cells\n",
              "var notebookContainer = gd.closest('#notebook-container');\n",
              "if (notebookContainer) {{\n",
              "    x.observe(notebookContainer, {childList: true});\n",
              "}}\n",
              "\n",
              "// Listen for the clearing of the current output cell\n",
              "var outputEl = gd.closest('.output');\n",
              "if (outputEl) {{\n",
              "    x.observe(outputEl, {childList: true});\n",
              "}}\n",
              "\n",
              "                        })\n",
              "                };\n",
              "                \n",
              "            </script>\n",
              "        </div>\n",
              "</body>\n",
              "</html>"
            ]
          },
          "metadata": {
            "tags": []
          }
        }
      ]
    },
    {
      "cell_type": "code",
      "metadata": {
        "id": "sT2e4GOragVz"
      },
      "source": [
        "c4questions.rename(columns = {\"user\" : \"user_id\"}, inplace = True)\n",
        "c4usercourses2 = c4usercourses.merge(c4questions, on = \"user_id\")\n",
        "c4usercourses2.groupby(\"team\").mean()"
      ],
      "execution_count": null,
      "outputs": []
    },
    {
      "cell_type": "code",
      "metadata": {
        "id": "ddN_ANimahvU"
      },
      "source": [
        "c4usercourses2.groupby(\"team\").count()"
      ],
      "execution_count": null,
      "outputs": []
    },
    {
      "cell_type": "code",
      "metadata": {
        "id": "Uztj5oJRajGy"
      },
      "source": [
        "c4usercourses.groupby(\"team\")[\"user_id\"].nunique()"
      ],
      "execution_count": null,
      "outputs": []
    },
    {
      "cell_type": "markdown",
      "metadata": {
        "id": "evkAsqwTXUrY"
      },
      "source": [
        "Explore data\n",
        "We will look at the questions data first, followed by the answers data\n",
        "This will give us a good overview of what ranges our values lie in and any bias we need to consider\n",
        "Keep in mind each student was required to answer 40 questions!\n",
        "Questions data"
      ]
    },
    {
      "cell_type": "code",
      "metadata": {
        "id": "unl8KEh7XVqW"
      },
      "source": [
        "c3questions.head()"
      ],
      "execution_count": null,
      "outputs": []
    },
    {
      "cell_type": "markdown",
      "metadata": {
        "id": "pJBc2tH-XeJq"
      },
      "source": [
        "- We aren't interested in the number of alts or the alternate options (only the correct answer)\n",
        "- We will use the correct answer to calculate the percentage correct for each of the users\n",
        "What about the answers data?"
      ]
    },
    {
      "cell_type": "code",
      "metadata": {
        "id": "iS9WxLYbXgJ1"
      },
      "source": [
        "# Authors: Yan and Tash\n",
        "# Supporter: Johanna\n",
        "# Date: \n",
        "px.box(c3questions, y='avg_difficulty', title = \"Boxplot of Average Difficulty\",labels={\n",
        "                     \"avg_difficulty\": \"The Average Difficulty Rating\"})"
      ],
      "execution_count": null,
      "outputs": []
    },
    {
      "cell_type": "code",
      "metadata": {
        "id": "CvMZDn2NXgkr"
      },
      "source": [
        "# Authors: Yan and Tash\n",
        "# Supporter: Johanna\n",
        "# Date: \n",
        "px.box(c3questions, y='avg_rating', title = \"Boxplot of average rating for questions\",labels={\n",
        "                     \"avg_rating\": \"The average rating for each question\"})"
      ],
      "execution_count": null,
      "outputs": []
    },
    {
      "cell_type": "markdown",
      "metadata": {
        "id": "LIJJ2LODXmmU"
      },
      "source": [
        "- Most students rated question difficulty quite low\n",
        "- Most questions had a reasonable rating so hopefully question quality does not affect our analysis too much (but keep in mind)\n",
        "- Let's see how they do in answering these questions"
      ]
    },
    {
      "cell_type": "code",
      "metadata": {
        "id": "puWEeSZ9Xj_x"
      },
      "source": [
        "c3answers.head()"
      ],
      "execution_count": null,
      "outputs": []
    },
    {
      "cell_type": "markdown",
      "metadata": {
        "id": "bvnhOwLNXvD3"
      },
      "source": [
        "- We will use the 'answer' column to determine if a student got a question correct\n",
        "\n",
        "> Indented block\n",
        "\n"
      ]
    },
    {
      "cell_type": "markdown",
      "metadata": {
        "id": "k_cOA3RVX2ia"
      },
      "source": [
        "## Pre-processing and joins\n",
        "- Firstly we'll construct dataframes using a subset of the columns (we don't need them all)\n",
        "- We'll also rename some of these columns for clarity"
      ]
    },
    {
      "cell_type": "code",
      "metadata": {
        "id": "V5ZSgtJTX3V4"
      },
      "source": [
        "qs_selected = c3questions[['id', 'timestamp', 'user', 'avg_rating', 'avg_difficulty', 'total_responses', 'total_comments', 'answer', 'course_id']] # Select certain columns\n",
        "qs_selected = qs_selected.rename(columns={'id' : 'question_id', 'timestamp' : 'question_time', 'user' : 'user_id', 'answer' : 'correct_answer'})                   # Rename\n",
        "qs_selected.head()"
      ],
      "execution_count": null,
      "outputs": []
    },
    {
      "cell_type": "code",
      "metadata": {
        "id": "i59Nc5qWX640"
      },
      "source": [
        "ans_selected = c3answers[['id', 'timestamp', 'user', 'question_id', 'answer']]\n",
        "ans_selected = ans_selected.rename(columns={'id' : 'answer_id', 'timestamp' : 'answer_time', 'user' : 'user_id', 'answer' : 'chosen_answer'})\n",
        "ans_selected.head()"
      ],
      "execution_count": null,
      "outputs": []
    },
    {
      "cell_type": "markdown",
      "metadata": {
        "id": "aZmHqGgfX9a8"
      },
      "source": [
        "- We now have a much more organised questions dataframe, containing all the information we require for our analysis\n",
        "- The column headings are also much clearer"
      ]
    },
    {
      "cell_type": "markdown",
      "metadata": {
        "id": "nvB20jTJYBEm"
      },
      "source": [
        "## Analysis"
      ]
    },
    {
      "cell_type": "markdown",
      "metadata": {
        "id": "oBda5oTpYDgL"
      },
      "source": [
        "### Merging answers with questions\n",
        "- Need to do this so we know what the correct answer is!\n",
        "- `q_and_a` will be the answers but with the correct answer as well\n",
        "- We may need more information about a particular question later but for now this is ok"
      ]
    },
    {
      "cell_type": "code",
      "metadata": {
        "id": "JiK6jmmcX9Ew"
      },
      "source": [
        "q_and_a = ans_selected.merge(qs_selected[['question_id', 'correct_answer']], on='question_id')\n",
        "q_and_a.head()"
      ],
      "execution_count": null,
      "outputs": []
    },
    {
      "cell_type": "markdown",
      "metadata": {
        "id": "Yfh6tFSGYH0v"
      },
      "source": [
        "### Finding the % of correct answers by each student\n",
        "- We're going to calculate how many questions each student got correct\n",
        "- Then using the total number of answers for each student, we will find the percentage of questions that each student got correct using the following formula $\\frac{\\text{num_correct}}{\\text{total_answers}}$"
      ]
    },
    {
      "cell_type": "code",
      "metadata": {
        "id": "9NG5ghX2YJp9"
      },
      "source": [
        "# Authors: Yan and Tash\n",
        "# Supporter: Johanna\n",
        "# Date:\n",
        "answers_by_student = q_and_a[['user_id', 'answer_id']].groupby('user_id', as_index=False).count() # Count number of answers per user\n",
        "\n",
        "px.histogram(answers_by_student, x = \"answer_id\",labels={\n",
        "                     \"answer_id\": \"Number of answers per student\"}, title = \"Histogram of number of answers by each student\")\n"
      ],
      "execution_count": null,
      "outputs": []
    },
    {
      "cell_type": "code",
      "metadata": {
        "id": "Xa2yb_0CCXm6",
        "outputId": "3460a5a3-6f39-42ae-c7d6-7ac88cd8dbd0",
        "colab": {
          "base_uri": "https://localhost:8080/",
          "height": 542
        }
      },
      "source": [
        "# Authors: Yan and Tash\n",
        "# Supporter: Johanna\n",
        "# Date:\n",
        "px.box(answers_by_student, y='answer_id', title = \"Boxplot of number of answers per student\",labels={\n",
        "                     \"answer_id\": \"Number of answers per student\"})"
      ],
      "execution_count": 284,
      "outputs": [
        {
          "output_type": "display_data",
          "data": {
            "text/html": [
              "<html>\n",
              "<head><meta charset=\"utf-8\" /></head>\n",
              "<body>\n",
              "    <div>\n",
              "            <script src=\"https://cdnjs.cloudflare.com/ajax/libs/mathjax/2.7.5/MathJax.js?config=TeX-AMS-MML_SVG\"></script><script type=\"text/javascript\">if (window.MathJax) {MathJax.Hub.Config({SVG: {font: \"STIX-Web\"}});}</script>\n",
              "                <script type=\"text/javascript\">window.PlotlyConfig = {MathJaxConfig: 'local'};</script>\n",
              "        <script src=\"https://cdn.plot.ly/plotly-latest.min.js\"></script>    \n",
              "            <div id=\"42cd8dde-b7d8-452c-8f61-2b1bbfc49e7f\" class=\"plotly-graph-div\" style=\"height:525px; width:100%;\"></div>\n",
              "            <script type=\"text/javascript\">\n",
              "                \n",
              "                    window.PLOTLYENV=window.PLOTLYENV || {};\n",
              "                    \n",
              "                if (document.getElementById(\"42cd8dde-b7d8-452c-8f61-2b1bbfc49e7f\")) {\n",
              "                    Plotly.newPlot(\n",
              "                        '42cd8dde-b7d8-452c-8f61-2b1bbfc49e7f',\n",
              "                        [{\"alignmentgroup\": \"True\", \"hoverlabel\": {\"namelength\": 0}, \"hovertemplate\": \"Number of answers per student=%{y}\", \"legendgroup\": \"\", \"marker\": {\"color\": \"#636efa\"}, \"name\": \"\", \"notched\": false, \"offsetgroup\": \"\", \"orientation\": \"v\", \"showlegend\": false, \"type\": \"box\", \"x0\": \" \", \"xaxis\": \"x\", \"y\": [40, 40, 57, 40, 40, 43, 41, 42, 52, 42, 41, 43, 41, 46, 52, 50, 41, 43, 54, 55, 42, 40, 41, 42, 42, 47, 50, 76, 41, 40, 40, 46, 44, 40, 40, 43, 43, 53, 45, 40, 53, 45, 40, 76, 51, 76, 40, 43, 40, 41, 76, 42, 41, 43, 42, 44, 50, 51, 51, 76, 40, 42, 40, 50, 42, 76, 64, 42, 43, 62, 48, 102, 40, 47, 40, 40, 41, 41, 60, 102, 51, 62, 50, 40, 41, 42, 59, 41, 43, 53, 40, 41, 40, 42, 45, 41, 43, 41, 42, 51, 20, 43, 41, 40, 42, 42, 40, 43, 40, 40, 40, 40, 42, 43, 41, 49, 40, 60, 40, 58, 42, 52, 42, 40, 40, 41, 41, 41, 43, 54, 44, 51, 45, 49, 40, 15, 42, 42, 50, 41, 40, 47, 42, 50, 54, 41, 50, 60, 67, 40, 41, 43, 55, 43, 43, 48, 40, 40, 45, 61, 40, 42, 51, 11, 52, 57, 47, 44, 49, 44, 40, 80, 42, 40, 56, 72, 41, 67, 40, 40, 50, 42, 100, 44, 41, 46, 44, 40, 71, 40, 72, 40, 44, 100, 58, 42, 47, 40, 40, 41, 40, 41, 51, 47, 45, 42, 48, 43, 40, 42, 48, 50, 42, 52, 51, 40, 84, 40, 70, 42, 42, 47, 40, 48, 40, 40, 43, 40, 40, 41, 40, 57, 40, 40, 40, 40, 40, 42, 41, 5, 40, 42, 47, 4, 47, 41, 41, 40, 51, 63, 47, 45, 40, 64, 41, 40, 45, 47, 84, 84, 43, 52, 44, 44, 42, 56, 40, 50, 40, 50, 84, 45, 40, 50, 11, 50, 42, 76, 44, 44, 49, 102, 41, 50, 40], \"y0\": \" \", \"yaxis\": \"y\"}],\n",
              "                        {\"boxmode\": \"group\", \"legend\": {\"tracegroupgap\": 0}, \"template\": {\"data\": {\"bar\": [{\"error_x\": {\"color\": \"#2a3f5f\"}, \"error_y\": {\"color\": \"#2a3f5f\"}, \"marker\": {\"line\": {\"color\": \"#E5ECF6\", \"width\": 0.5}}, \"type\": \"bar\"}], \"barpolar\": [{\"marker\": {\"line\": {\"color\": \"#E5ECF6\", \"width\": 0.5}}, \"type\": \"barpolar\"}], \"carpet\": [{\"aaxis\": {\"endlinecolor\": \"#2a3f5f\", \"gridcolor\": \"white\", \"linecolor\": \"white\", \"minorgridcolor\": \"white\", \"startlinecolor\": \"#2a3f5f\"}, \"baxis\": {\"endlinecolor\": \"#2a3f5f\", \"gridcolor\": \"white\", \"linecolor\": \"white\", \"minorgridcolor\": \"white\", \"startlinecolor\": \"#2a3f5f\"}, \"type\": \"carpet\"}], \"choropleth\": [{\"colorbar\": {\"outlinewidth\": 0, \"ticks\": \"\"}, \"type\": \"choropleth\"}], \"contour\": [{\"colorbar\": {\"outlinewidth\": 0, \"ticks\": \"\"}, \"colorscale\": [[0.0, \"#0d0887\"], [0.1111111111111111, \"#46039f\"], [0.2222222222222222, \"#7201a8\"], [0.3333333333333333, \"#9c179e\"], [0.4444444444444444, \"#bd3786\"], [0.5555555555555556, \"#d8576b\"], [0.6666666666666666, \"#ed7953\"], [0.7777777777777778, \"#fb9f3a\"], [0.8888888888888888, \"#fdca26\"], [1.0, \"#f0f921\"]], \"type\": \"contour\"}], \"contourcarpet\": [{\"colorbar\": {\"outlinewidth\": 0, \"ticks\": \"\"}, \"type\": \"contourcarpet\"}], \"heatmap\": [{\"colorbar\": {\"outlinewidth\": 0, \"ticks\": \"\"}, \"colorscale\": [[0.0, \"#0d0887\"], [0.1111111111111111, \"#46039f\"], [0.2222222222222222, \"#7201a8\"], [0.3333333333333333, \"#9c179e\"], [0.4444444444444444, \"#bd3786\"], [0.5555555555555556, \"#d8576b\"], [0.6666666666666666, \"#ed7953\"], [0.7777777777777778, \"#fb9f3a\"], [0.8888888888888888, \"#fdca26\"], [1.0, \"#f0f921\"]], \"type\": \"heatmap\"}], \"heatmapgl\": [{\"colorbar\": {\"outlinewidth\": 0, \"ticks\": \"\"}, \"colorscale\": [[0.0, \"#0d0887\"], [0.1111111111111111, \"#46039f\"], [0.2222222222222222, \"#7201a8\"], [0.3333333333333333, \"#9c179e\"], [0.4444444444444444, \"#bd3786\"], [0.5555555555555556, \"#d8576b\"], [0.6666666666666666, \"#ed7953\"], [0.7777777777777778, \"#fb9f3a\"], [0.8888888888888888, \"#fdca26\"], [1.0, \"#f0f921\"]], \"type\": \"heatmapgl\"}], \"histogram\": [{\"marker\": {\"colorbar\": {\"outlinewidth\": 0, \"ticks\": \"\"}}, \"type\": \"histogram\"}], \"histogram2d\": [{\"colorbar\": {\"outlinewidth\": 0, \"ticks\": \"\"}, \"colorscale\": [[0.0, \"#0d0887\"], [0.1111111111111111, \"#46039f\"], [0.2222222222222222, \"#7201a8\"], [0.3333333333333333, \"#9c179e\"], [0.4444444444444444, \"#bd3786\"], [0.5555555555555556, \"#d8576b\"], [0.6666666666666666, \"#ed7953\"], [0.7777777777777778, \"#fb9f3a\"], [0.8888888888888888, \"#fdca26\"], [1.0, \"#f0f921\"]], \"type\": \"histogram2d\"}], \"histogram2dcontour\": [{\"colorbar\": {\"outlinewidth\": 0, \"ticks\": \"\"}, \"colorscale\": [[0.0, \"#0d0887\"], [0.1111111111111111, \"#46039f\"], [0.2222222222222222, \"#7201a8\"], [0.3333333333333333, \"#9c179e\"], [0.4444444444444444, \"#bd3786\"], [0.5555555555555556, \"#d8576b\"], [0.6666666666666666, \"#ed7953\"], [0.7777777777777778, \"#fb9f3a\"], [0.8888888888888888, \"#fdca26\"], [1.0, \"#f0f921\"]], \"type\": \"histogram2dcontour\"}], \"mesh3d\": [{\"colorbar\": {\"outlinewidth\": 0, \"ticks\": \"\"}, \"type\": \"mesh3d\"}], \"parcoords\": [{\"line\": {\"colorbar\": {\"outlinewidth\": 0, \"ticks\": \"\"}}, \"type\": \"parcoords\"}], \"pie\": [{\"automargin\": true, \"type\": \"pie\"}], \"scatter\": [{\"marker\": {\"colorbar\": {\"outlinewidth\": 0, \"ticks\": \"\"}}, \"type\": \"scatter\"}], \"scatter3d\": [{\"line\": {\"colorbar\": {\"outlinewidth\": 0, \"ticks\": \"\"}}, \"marker\": {\"colorbar\": {\"outlinewidth\": 0, \"ticks\": \"\"}}, \"type\": \"scatter3d\"}], \"scattercarpet\": [{\"marker\": {\"colorbar\": {\"outlinewidth\": 0, \"ticks\": \"\"}}, \"type\": \"scattercarpet\"}], \"scattergeo\": [{\"marker\": {\"colorbar\": {\"outlinewidth\": 0, \"ticks\": \"\"}}, \"type\": \"scattergeo\"}], \"scattergl\": [{\"marker\": {\"colorbar\": {\"outlinewidth\": 0, \"ticks\": \"\"}}, \"type\": \"scattergl\"}], \"scattermapbox\": [{\"marker\": {\"colorbar\": {\"outlinewidth\": 0, \"ticks\": \"\"}}, \"type\": \"scattermapbox\"}], \"scatterpolar\": [{\"marker\": {\"colorbar\": {\"outlinewidth\": 0, \"ticks\": \"\"}}, \"type\": \"scatterpolar\"}], \"scatterpolargl\": [{\"marker\": {\"colorbar\": {\"outlinewidth\": 0, \"ticks\": \"\"}}, \"type\": \"scatterpolargl\"}], \"scatterternary\": [{\"marker\": {\"colorbar\": {\"outlinewidth\": 0, \"ticks\": \"\"}}, \"type\": \"scatterternary\"}], \"surface\": [{\"colorbar\": {\"outlinewidth\": 0, \"ticks\": \"\"}, \"colorscale\": [[0.0, \"#0d0887\"], [0.1111111111111111, \"#46039f\"], [0.2222222222222222, \"#7201a8\"], [0.3333333333333333, \"#9c179e\"], [0.4444444444444444, \"#bd3786\"], [0.5555555555555556, \"#d8576b\"], [0.6666666666666666, \"#ed7953\"], [0.7777777777777778, \"#fb9f3a\"], [0.8888888888888888, \"#fdca26\"], [1.0, \"#f0f921\"]], \"type\": \"surface\"}], \"table\": [{\"cells\": {\"fill\": {\"color\": \"#EBF0F8\"}, \"line\": {\"color\": \"white\"}}, \"header\": {\"fill\": {\"color\": \"#C8D4E3\"}, \"line\": {\"color\": \"white\"}}, \"type\": \"table\"}]}, \"layout\": {\"annotationdefaults\": {\"arrowcolor\": \"#2a3f5f\", \"arrowhead\": 0, \"arrowwidth\": 1}, \"coloraxis\": {\"colorbar\": {\"outlinewidth\": 0, \"ticks\": \"\"}}, \"colorscale\": {\"diverging\": [[0, \"#8e0152\"], [0.1, \"#c51b7d\"], [0.2, \"#de77ae\"], [0.3, \"#f1b6da\"], [0.4, \"#fde0ef\"], [0.5, \"#f7f7f7\"], [0.6, \"#e6f5d0\"], [0.7, \"#b8e186\"], [0.8, \"#7fbc41\"], [0.9, \"#4d9221\"], [1, \"#276419\"]], \"sequential\": [[0.0, \"#0d0887\"], [0.1111111111111111, \"#46039f\"], [0.2222222222222222, \"#7201a8\"], [0.3333333333333333, \"#9c179e\"], [0.4444444444444444, \"#bd3786\"], [0.5555555555555556, \"#d8576b\"], [0.6666666666666666, \"#ed7953\"], [0.7777777777777778, \"#fb9f3a\"], [0.8888888888888888, \"#fdca26\"], [1.0, \"#f0f921\"]], \"sequentialminus\": [[0.0, \"#0d0887\"], [0.1111111111111111, \"#46039f\"], [0.2222222222222222, \"#7201a8\"], [0.3333333333333333, \"#9c179e\"], [0.4444444444444444, \"#bd3786\"], [0.5555555555555556, \"#d8576b\"], [0.6666666666666666, \"#ed7953\"], [0.7777777777777778, \"#fb9f3a\"], [0.8888888888888888, \"#fdca26\"], [1.0, \"#f0f921\"]]}, \"colorway\": [\"#636efa\", \"#EF553B\", \"#00cc96\", \"#ab63fa\", \"#FFA15A\", \"#19d3f3\", \"#FF6692\", \"#B6E880\", \"#FF97FF\", \"#FECB52\"], \"font\": {\"color\": \"#2a3f5f\"}, \"geo\": {\"bgcolor\": \"white\", \"lakecolor\": \"white\", \"landcolor\": \"#E5ECF6\", \"showlakes\": true, \"showland\": true, \"subunitcolor\": \"white\"}, \"hoverlabel\": {\"align\": \"left\"}, \"hovermode\": \"closest\", \"mapbox\": {\"style\": \"light\"}, \"paper_bgcolor\": \"white\", \"plot_bgcolor\": \"#E5ECF6\", \"polar\": {\"angularaxis\": {\"gridcolor\": \"white\", \"linecolor\": \"white\", \"ticks\": \"\"}, \"bgcolor\": \"#E5ECF6\", \"radialaxis\": {\"gridcolor\": \"white\", \"linecolor\": \"white\", \"ticks\": \"\"}}, \"scene\": {\"xaxis\": {\"backgroundcolor\": \"#E5ECF6\", \"gridcolor\": \"white\", \"gridwidth\": 2, \"linecolor\": \"white\", \"showbackground\": true, \"ticks\": \"\", \"zerolinecolor\": \"white\"}, \"yaxis\": {\"backgroundcolor\": \"#E5ECF6\", \"gridcolor\": \"white\", \"gridwidth\": 2, \"linecolor\": \"white\", \"showbackground\": true, \"ticks\": \"\", \"zerolinecolor\": \"white\"}, \"zaxis\": {\"backgroundcolor\": \"#E5ECF6\", \"gridcolor\": \"white\", \"gridwidth\": 2, \"linecolor\": \"white\", \"showbackground\": true, \"ticks\": \"\", \"zerolinecolor\": \"white\"}}, \"shapedefaults\": {\"line\": {\"color\": \"#2a3f5f\"}}, \"ternary\": {\"aaxis\": {\"gridcolor\": \"white\", \"linecolor\": \"white\", \"ticks\": \"\"}, \"baxis\": {\"gridcolor\": \"white\", \"linecolor\": \"white\", \"ticks\": \"\"}, \"bgcolor\": \"#E5ECF6\", \"caxis\": {\"gridcolor\": \"white\", \"linecolor\": \"white\", \"ticks\": \"\"}}, \"title\": {\"x\": 0.05}, \"xaxis\": {\"automargin\": true, \"gridcolor\": \"white\", \"linecolor\": \"white\", \"ticks\": \"\", \"title\": {\"standoff\": 15}, \"zerolinecolor\": \"white\", \"zerolinewidth\": 2}, \"yaxis\": {\"automargin\": true, \"gridcolor\": \"white\", \"linecolor\": \"white\", \"ticks\": \"\", \"title\": {\"standoff\": 15}, \"zerolinecolor\": \"white\", \"zerolinewidth\": 2}}}, \"title\": {\"text\": \"Boxplot of number of answers per student\"}, \"xaxis\": {\"anchor\": \"y\", \"domain\": [0.0, 1.0]}, \"yaxis\": {\"anchor\": \"x\", \"domain\": [0.0, 1.0], \"title\": {\"text\": \"Number of answers per student\"}}},\n",
              "                        {\"responsive\": true}\n",
              "                    ).then(function(){\n",
              "                            \n",
              "var gd = document.getElementById('42cd8dde-b7d8-452c-8f61-2b1bbfc49e7f');\n",
              "var x = new MutationObserver(function (mutations, observer) {{\n",
              "        var display = window.getComputedStyle(gd).display;\n",
              "        if (!display || display === 'none') {{\n",
              "            console.log([gd, 'removed!']);\n",
              "            Plotly.purge(gd);\n",
              "            observer.disconnect();\n",
              "        }}\n",
              "}});\n",
              "\n",
              "// Listen for the removal of the full notebook cells\n",
              "var notebookContainer = gd.closest('#notebook-container');\n",
              "if (notebookContainer) {{\n",
              "    x.observe(notebookContainer, {childList: true});\n",
              "}}\n",
              "\n",
              "// Listen for the clearing of the current output cell\n",
              "var outputEl = gd.closest('.output');\n",
              "if (outputEl) {{\n",
              "    x.observe(outputEl, {childList: true});\n",
              "}}\n",
              "\n",
              "                        })\n",
              "                };\n",
              "                \n",
              "            </script>\n",
              "        </div>\n",
              "</body>\n",
              "</html>"
            ]
          },
          "metadata": {
            "tags": []
          }
        }
      ]
    },
    {
      "cell_type": "markdown",
      "metadata": {
        "id": "3gpR-AiyYXyO"
      },
      "source": [
        "**Interesting summaries:**\n",
        "- Most students answered 40 questions (the required amount)\n",
        "- Some students answered less than 20\n",
        "- Some students answered 100 questions"
      ]
    },
    {
      "cell_type": "markdown",
      "metadata": {
        "id": "B63HYEJ_YZdF"
      },
      "source": [
        "- Now let's move on to the calculation of the number of correct answers\n",
        "- We'll start by adding a new bool column to indicate whether a student was correct"
      ]
    },
    {
      "cell_type": "code",
      "metadata": {
        "id": "S7KjDOEsYbUG",
        "outputId": "61d65e9d-8825-40d7-c64b-9d1587579152",
        "colab": {
          "base_uri": "https://localhost:8080/",
          "height": 542
        }
      },
      "source": [
        "q_and_a['student_correct'] = q_and_a['chosen_answer'] == q_and_a['correct_answer']                    # Add new bool column to indicate whether an answer was correct\n",
        "correct_by_student = q_and_a[['user_id', 'student_correct']].groupby('user_id', as_index=False).sum() # Create new dataframe and count number of correct answers, summing our new bool column\n",
        "\n",
        "correct_by_student['total_answers'] = answers_by_student['answer_id']\n",
        "correct_by_student['percent_correct'] = correct_by_student['student_correct'] / correct_by_student['total_answers']  # Calculate percentage of questions a student answered correctly\n",
        "\n",
        "# Plot summary statistics for percentage of correct answers\n",
        "px.histogram(correct_by_student, x = \"percent_correct\",\n",
        "              labels ={\"percent_correct\": \"Percentage of Correct Answers Given by a Student\"},\n",
        "             title= \"Distribution of the Percentage of Correct Answers Given by a Student out of the Total number of Questions Answered\",\n",
        "             marginal = \"box\", opacity=0.8, color_discrete_sequence=['green'])"
      ],
      "execution_count": 285,
      "outputs": [
        {
          "output_type": "display_data",
          "data": {
            "text/html": [
              "<html>\n",
              "<head><meta charset=\"utf-8\" /></head>\n",
              "<body>\n",
              "    <div>\n",
              "            <script src=\"https://cdnjs.cloudflare.com/ajax/libs/mathjax/2.7.5/MathJax.js?config=TeX-AMS-MML_SVG\"></script><script type=\"text/javascript\">if (window.MathJax) {MathJax.Hub.Config({SVG: {font: \"STIX-Web\"}});}</script>\n",
              "                <script type=\"text/javascript\">window.PlotlyConfig = {MathJaxConfig: 'local'};</script>\n",
              "        <script src=\"https://cdn.plot.ly/plotly-latest.min.js\"></script>    \n",
              "            <div id=\"33da958a-ded1-4ef4-ab1e-81e2ff152b6d\" class=\"plotly-graph-div\" style=\"height:525px; width:100%;\"></div>\n",
              "            <script type=\"text/javascript\">\n",
              "                \n",
              "                    window.PLOTLYENV=window.PLOTLYENV || {};\n",
              "                    \n",
              "                if (document.getElementById(\"33da958a-ded1-4ef4-ab1e-81e2ff152b6d\")) {\n",
              "                    Plotly.newPlot(\n",
              "                        '33da958a-ded1-4ef4-ab1e-81e2ff152b6d',\n",
              "                        [{\"alignmentgroup\": \"True\", \"bingroup\": \"x\", \"hoverlabel\": {\"namelength\": 0}, \"hovertemplate\": \"Percentage of Correct Answers Given by a Student=%{x}<br>count=%{y}\", \"legendgroup\": \"\", \"marker\": {\"color\": \"green\", \"opacity\": 0.8}, \"name\": \"\", \"offsetgroup\": \"\", \"orientation\": \"v\", \"showlegend\": false, \"type\": \"histogram\", \"x\": [0.55, 0.6, 0.631578947368421, 0.325, 0.55, 0.2558139534883721, 0.36585365853658536, 0.7619047619047619, 0.4807692307692308, 0.6428571428571429, 0.5609756097560976, 0.7441860465116279, 0.5609756097560976, 0.717391304347826, 0.25, 0.82, 0.4878048780487805, 0.7674418604651163, 0.25925925925925924, 0.4, 0.5714285714285714, 0.525, 0.5853658536585366, 0.5, 0.40476190476190477, 0.5531914893617021, 0.46, 0.7236842105263158, 0.6341463414634146, 0.55, 0.45, 0.2608695652173913, 0.6818181818181818, 0.45, 0.45, 0.4883720930232558, 0.6511627906976745, 0.7358490566037735, 0.5555555555555556, 0.65, 0.6415094339622641, 0.7111111111111111, 0.375, 0.7763157894736842, 0.6862745098039216, 0.6842105263157895, 0.725, 0.6511627906976745, 0.6, 0.5121951219512195, 0.6578947368421053, 0.47619047619047616, 0.4146341463414634, 0.5116279069767442, 0.47619047619047616, 0.38636363636363635, 0.42, 0.45098039215686275, 0.39215686274509803, 0.6578947368421053, 0.325, 0.42857142857142855, 0.375, 0.56, 0.4523809523809524, 0.4342105263157895, 0.65625, 0.4523809523809524, 0.4186046511627907, 0.3064516129032258, 0.6875, 0.5686274509803921, 0.525, 0.425531914893617, 0.625, 0.325, 0.3170731707317073, 0.5609756097560976, 0.6, 0.6274509803921569, 0.43137254901960786, 0.6774193548387096, 0.62, 0.45, 0.7317073170731707, 0.6190476190476191, 0.6271186440677966, 0.4146341463414634, 0.6046511627906976, 0.660377358490566, 0.675, 0.5121951219512195, 0.5, 0.35714285714285715, 0.35555555555555557, 0.4878048780487805, 0.37209302325581395, 0.34146341463414637, 0.6666666666666666, 0.6862745098039216, 0.4, 0.3488372093023256, 0.3902439024390244, 0.525, 0.5714285714285714, 0.5238095238095238, 0.475, 0.8837209302325582, 0.3, 0.325, 0.5, 0.3, 0.47619047619047616, 0.5348837209302325, 0.7073170731707317, 0.4897959183673469, 0.425, 0.5833333333333334, 0.6, 0.603448275862069, 0.4523809523809524, 0.4807692307692308, 0.5714285714285714, 0.425, 0.4, 0.5121951219512195, 0.6097560975609756, 0.2926829268292683, 0.46511627906976744, 0.5185185185185185, 0.5, 0.7647058823529411, 0.6, 0.5714285714285714, 0.425, 0.6, 0.6904761904761905, 0.38095238095238093, 0.58, 0.5853658536585366, 0.625, 0.7872340425531915, 0.5952380952380952, 0.66, 0.6296296296296297, 0.6097560975609756, 0.68, 0.55, 0.746268656716418, 0.375, 0.7804878048780488, 0.7441860465116279, 0.41818181818181815, 0.5581395348837209, 0.627906976744186, 0.4375, 0.55, 0.775, 0.3111111111111111, 0.5737704918032787, 0.475, 0.5, 0.6666666666666666, 0.2727272727272727, 0.46153846153846156, 0.6842105263157895, 0.6382978723404256, 0.6363636363636364, 0.6122448979591837, 0.5681818181818182, 0.625, 0.8625, 0.5952380952380952, 0.7, 0.5535714285714286, 0.6527777777777778, 0.5121951219512195, 0.582089552238806, 0.525, 0.525, 0.32, 0.6190476190476191, 0.73, 0.3409090909090909, 0.8292682926829268, 0.6521739130434783, 0.29545454545454547, 0.5, 0.676056338028169, 0.775, 0.75, 0.475, 0.8181818181818182, 0.81, 0.6206896551724138, 0.5476190476190477, 0.5957446808510638, 0.55, 0.45, 0.3902439024390244, 0.325, 0.43902439024390244, 0.3333333333333333, 0.7021276595744681, 0.8444444444444444, 0.5476190476190477, 0.4375, 0.5581395348837209, 0.45, 0.7142857142857143, 0.6041666666666666, 0.38, 0.4523809523809524, 0.5192307692307693, 0.6666666666666666, 0.4, 0.47619047619047616, 0.5, 0.4857142857142857, 0.6428571428571429, 0.40476190476190477, 0.6170212765957447, 0.35, 0.6041666666666666, 0.25, 0.625, 0.3953488372093023, 0.5, 0.4, 0.34146341463414637, 0.325, 0.42105263157894735, 0.375, 0.4, 0.375, 0.725, 0.5, 0.5714285714285714, 0.5609756097560976, 0.4, 0.375, 0.5714285714285714, 0.6382978723404256, 1.0, 0.5531914893617021, 0.5365853658536586, 0.5121951219512195, 0.7, 0.49019607843137253, 0.5079365079365079, 0.5531914893617021, 0.8222222222222222, 0.6, 0.53125, 0.5365853658536586, 0.525, 0.4444444444444444, 0.3191489361702128, 0.6785714285714286, 0.4880952380952381, 0.5348837209302325, 0.38461538461538464, 0.5681818181818182, 0.5454545454545454, 0.42857142857142855, 0.5714285714285714, 0.4, 0.6, 0.5, 0.44, 0.6071428571428571, 0.4444444444444444, 0.375, 0.5, 0.45454545454545453, 0.66, 0.47619047619047616, 0.6447368421052632, 0.18181818181818182, 0.38636363636363635, 0.3469387755102041, 0.6176470588235294, 0.5365853658536586, 0.4, 0.45], \"xaxis\": \"x\", \"yaxis\": \"y\"}, {\"alignmentgroup\": \"True\", \"hoverlabel\": {\"namelength\": 0}, \"hovertemplate\": \"Percentage of Correct Answers Given by a Student=%{x}\", \"legendgroup\": \"\", \"marker\": {\"color\": \"green\"}, \"name\": \"\", \"notched\": true, \"offsetgroup\": \"\", \"showlegend\": false, \"type\": \"box\", \"x\": [0.55, 0.6, 0.631578947368421, 0.325, 0.55, 0.2558139534883721, 0.36585365853658536, 0.7619047619047619, 0.4807692307692308, 0.6428571428571429, 0.5609756097560976, 0.7441860465116279, 0.5609756097560976, 0.717391304347826, 0.25, 0.82, 0.4878048780487805, 0.7674418604651163, 0.25925925925925924, 0.4, 0.5714285714285714, 0.525, 0.5853658536585366, 0.5, 0.40476190476190477, 0.5531914893617021, 0.46, 0.7236842105263158, 0.6341463414634146, 0.55, 0.45, 0.2608695652173913, 0.6818181818181818, 0.45, 0.45, 0.4883720930232558, 0.6511627906976745, 0.7358490566037735, 0.5555555555555556, 0.65, 0.6415094339622641, 0.7111111111111111, 0.375, 0.7763157894736842, 0.6862745098039216, 0.6842105263157895, 0.725, 0.6511627906976745, 0.6, 0.5121951219512195, 0.6578947368421053, 0.47619047619047616, 0.4146341463414634, 0.5116279069767442, 0.47619047619047616, 0.38636363636363635, 0.42, 0.45098039215686275, 0.39215686274509803, 0.6578947368421053, 0.325, 0.42857142857142855, 0.375, 0.56, 0.4523809523809524, 0.4342105263157895, 0.65625, 0.4523809523809524, 0.4186046511627907, 0.3064516129032258, 0.6875, 0.5686274509803921, 0.525, 0.425531914893617, 0.625, 0.325, 0.3170731707317073, 0.5609756097560976, 0.6, 0.6274509803921569, 0.43137254901960786, 0.6774193548387096, 0.62, 0.45, 0.7317073170731707, 0.6190476190476191, 0.6271186440677966, 0.4146341463414634, 0.6046511627906976, 0.660377358490566, 0.675, 0.5121951219512195, 0.5, 0.35714285714285715, 0.35555555555555557, 0.4878048780487805, 0.37209302325581395, 0.34146341463414637, 0.6666666666666666, 0.6862745098039216, 0.4, 0.3488372093023256, 0.3902439024390244, 0.525, 0.5714285714285714, 0.5238095238095238, 0.475, 0.8837209302325582, 0.3, 0.325, 0.5, 0.3, 0.47619047619047616, 0.5348837209302325, 0.7073170731707317, 0.4897959183673469, 0.425, 0.5833333333333334, 0.6, 0.603448275862069, 0.4523809523809524, 0.4807692307692308, 0.5714285714285714, 0.425, 0.4, 0.5121951219512195, 0.6097560975609756, 0.2926829268292683, 0.46511627906976744, 0.5185185185185185, 0.5, 0.7647058823529411, 0.6, 0.5714285714285714, 0.425, 0.6, 0.6904761904761905, 0.38095238095238093, 0.58, 0.5853658536585366, 0.625, 0.7872340425531915, 0.5952380952380952, 0.66, 0.6296296296296297, 0.6097560975609756, 0.68, 0.55, 0.746268656716418, 0.375, 0.7804878048780488, 0.7441860465116279, 0.41818181818181815, 0.5581395348837209, 0.627906976744186, 0.4375, 0.55, 0.775, 0.3111111111111111, 0.5737704918032787, 0.475, 0.5, 0.6666666666666666, 0.2727272727272727, 0.46153846153846156, 0.6842105263157895, 0.6382978723404256, 0.6363636363636364, 0.6122448979591837, 0.5681818181818182, 0.625, 0.8625, 0.5952380952380952, 0.7, 0.5535714285714286, 0.6527777777777778, 0.5121951219512195, 0.582089552238806, 0.525, 0.525, 0.32, 0.6190476190476191, 0.73, 0.3409090909090909, 0.8292682926829268, 0.6521739130434783, 0.29545454545454547, 0.5, 0.676056338028169, 0.775, 0.75, 0.475, 0.8181818181818182, 0.81, 0.6206896551724138, 0.5476190476190477, 0.5957446808510638, 0.55, 0.45, 0.3902439024390244, 0.325, 0.43902439024390244, 0.3333333333333333, 0.7021276595744681, 0.8444444444444444, 0.5476190476190477, 0.4375, 0.5581395348837209, 0.45, 0.7142857142857143, 0.6041666666666666, 0.38, 0.4523809523809524, 0.5192307692307693, 0.6666666666666666, 0.4, 0.47619047619047616, 0.5, 0.4857142857142857, 0.6428571428571429, 0.40476190476190477, 0.6170212765957447, 0.35, 0.6041666666666666, 0.25, 0.625, 0.3953488372093023, 0.5, 0.4, 0.34146341463414637, 0.325, 0.42105263157894735, 0.375, 0.4, 0.375, 0.725, 0.5, 0.5714285714285714, 0.5609756097560976, 0.4, 0.375, 0.5714285714285714, 0.6382978723404256, 1.0, 0.5531914893617021, 0.5365853658536586, 0.5121951219512195, 0.7, 0.49019607843137253, 0.5079365079365079, 0.5531914893617021, 0.8222222222222222, 0.6, 0.53125, 0.5365853658536586, 0.525, 0.4444444444444444, 0.3191489361702128, 0.6785714285714286, 0.4880952380952381, 0.5348837209302325, 0.38461538461538464, 0.5681818181818182, 0.5454545454545454, 0.42857142857142855, 0.5714285714285714, 0.4, 0.6, 0.5, 0.44, 0.6071428571428571, 0.4444444444444444, 0.375, 0.5, 0.45454545454545453, 0.66, 0.47619047619047616, 0.6447368421052632, 0.18181818181818182, 0.38636363636363635, 0.3469387755102041, 0.6176470588235294, 0.5365853658536586, 0.4, 0.45], \"xaxis\": \"x2\", \"yaxis\": \"y2\"}],\n",
              "                        {\"barmode\": \"relative\", \"legend\": {\"tracegroupgap\": 0}, \"template\": {\"data\": {\"bar\": [{\"error_x\": {\"color\": \"#2a3f5f\"}, \"error_y\": {\"color\": \"#2a3f5f\"}, \"marker\": {\"line\": {\"color\": \"#E5ECF6\", \"width\": 0.5}}, \"type\": \"bar\"}], \"barpolar\": [{\"marker\": {\"line\": {\"color\": \"#E5ECF6\", \"width\": 0.5}}, \"type\": \"barpolar\"}], \"carpet\": [{\"aaxis\": {\"endlinecolor\": \"#2a3f5f\", \"gridcolor\": \"white\", \"linecolor\": \"white\", \"minorgridcolor\": \"white\", \"startlinecolor\": \"#2a3f5f\"}, \"baxis\": {\"endlinecolor\": \"#2a3f5f\", \"gridcolor\": \"white\", \"linecolor\": \"white\", \"minorgridcolor\": \"white\", \"startlinecolor\": \"#2a3f5f\"}, \"type\": \"carpet\"}], \"choropleth\": [{\"colorbar\": {\"outlinewidth\": 0, \"ticks\": \"\"}, \"type\": \"choropleth\"}], \"contour\": [{\"colorbar\": {\"outlinewidth\": 0, \"ticks\": \"\"}, \"colorscale\": [[0.0, \"#0d0887\"], [0.1111111111111111, \"#46039f\"], [0.2222222222222222, \"#7201a8\"], [0.3333333333333333, \"#9c179e\"], [0.4444444444444444, \"#bd3786\"], [0.5555555555555556, \"#d8576b\"], [0.6666666666666666, \"#ed7953\"], [0.7777777777777778, \"#fb9f3a\"], [0.8888888888888888, \"#fdca26\"], [1.0, \"#f0f921\"]], \"type\": \"contour\"}], \"contourcarpet\": [{\"colorbar\": {\"outlinewidth\": 0, \"ticks\": \"\"}, \"type\": \"contourcarpet\"}], \"heatmap\": [{\"colorbar\": {\"outlinewidth\": 0, \"ticks\": \"\"}, \"colorscale\": [[0.0, \"#0d0887\"], [0.1111111111111111, \"#46039f\"], [0.2222222222222222, \"#7201a8\"], [0.3333333333333333, \"#9c179e\"], [0.4444444444444444, \"#bd3786\"], [0.5555555555555556, \"#d8576b\"], [0.6666666666666666, \"#ed7953\"], [0.7777777777777778, \"#fb9f3a\"], [0.8888888888888888, \"#fdca26\"], [1.0, \"#f0f921\"]], \"type\": \"heatmap\"}], \"heatmapgl\": [{\"colorbar\": {\"outlinewidth\": 0, \"ticks\": \"\"}, \"colorscale\": [[0.0, \"#0d0887\"], [0.1111111111111111, \"#46039f\"], [0.2222222222222222, \"#7201a8\"], [0.3333333333333333, \"#9c179e\"], [0.4444444444444444, \"#bd3786\"], [0.5555555555555556, \"#d8576b\"], [0.6666666666666666, \"#ed7953\"], [0.7777777777777778, \"#fb9f3a\"], [0.8888888888888888, \"#fdca26\"], [1.0, \"#f0f921\"]], \"type\": \"heatmapgl\"}], \"histogram\": [{\"marker\": {\"colorbar\": {\"outlinewidth\": 0, \"ticks\": \"\"}}, \"type\": \"histogram\"}], \"histogram2d\": [{\"colorbar\": {\"outlinewidth\": 0, \"ticks\": \"\"}, \"colorscale\": [[0.0, \"#0d0887\"], [0.1111111111111111, \"#46039f\"], [0.2222222222222222, \"#7201a8\"], [0.3333333333333333, \"#9c179e\"], [0.4444444444444444, \"#bd3786\"], [0.5555555555555556, \"#d8576b\"], [0.6666666666666666, \"#ed7953\"], [0.7777777777777778, \"#fb9f3a\"], [0.8888888888888888, \"#fdca26\"], [1.0, \"#f0f921\"]], \"type\": \"histogram2d\"}], \"histogram2dcontour\": [{\"colorbar\": {\"outlinewidth\": 0, \"ticks\": \"\"}, \"colorscale\": [[0.0, \"#0d0887\"], [0.1111111111111111, \"#46039f\"], [0.2222222222222222, \"#7201a8\"], [0.3333333333333333, \"#9c179e\"], [0.4444444444444444, \"#bd3786\"], [0.5555555555555556, \"#d8576b\"], [0.6666666666666666, \"#ed7953\"], [0.7777777777777778, \"#fb9f3a\"], [0.8888888888888888, \"#fdca26\"], [1.0, \"#f0f921\"]], \"type\": \"histogram2dcontour\"}], \"mesh3d\": [{\"colorbar\": {\"outlinewidth\": 0, \"ticks\": \"\"}, \"type\": \"mesh3d\"}], \"parcoords\": [{\"line\": {\"colorbar\": {\"outlinewidth\": 0, \"ticks\": \"\"}}, \"type\": \"parcoords\"}], \"pie\": [{\"automargin\": true, \"type\": \"pie\"}], \"scatter\": [{\"marker\": {\"colorbar\": {\"outlinewidth\": 0, \"ticks\": \"\"}}, \"type\": \"scatter\"}], \"scatter3d\": [{\"line\": {\"colorbar\": {\"outlinewidth\": 0, \"ticks\": \"\"}}, \"marker\": {\"colorbar\": {\"outlinewidth\": 0, \"ticks\": \"\"}}, \"type\": \"scatter3d\"}], \"scattercarpet\": [{\"marker\": {\"colorbar\": {\"outlinewidth\": 0, \"ticks\": \"\"}}, \"type\": \"scattercarpet\"}], \"scattergeo\": [{\"marker\": {\"colorbar\": {\"outlinewidth\": 0, \"ticks\": \"\"}}, \"type\": \"scattergeo\"}], \"scattergl\": [{\"marker\": {\"colorbar\": {\"outlinewidth\": 0, \"ticks\": \"\"}}, \"type\": \"scattergl\"}], \"scattermapbox\": [{\"marker\": {\"colorbar\": {\"outlinewidth\": 0, \"ticks\": \"\"}}, \"type\": \"scattermapbox\"}], \"scatterpolar\": [{\"marker\": {\"colorbar\": {\"outlinewidth\": 0, \"ticks\": \"\"}}, \"type\": \"scatterpolar\"}], \"scatterpolargl\": [{\"marker\": {\"colorbar\": {\"outlinewidth\": 0, \"ticks\": \"\"}}, \"type\": \"scatterpolargl\"}], \"scatterternary\": [{\"marker\": {\"colorbar\": {\"outlinewidth\": 0, \"ticks\": \"\"}}, \"type\": \"scatterternary\"}], \"surface\": [{\"colorbar\": {\"outlinewidth\": 0, \"ticks\": \"\"}, \"colorscale\": [[0.0, \"#0d0887\"], [0.1111111111111111, \"#46039f\"], [0.2222222222222222, \"#7201a8\"], [0.3333333333333333, \"#9c179e\"], [0.4444444444444444, \"#bd3786\"], [0.5555555555555556, \"#d8576b\"], [0.6666666666666666, \"#ed7953\"], [0.7777777777777778, \"#fb9f3a\"], [0.8888888888888888, \"#fdca26\"], [1.0, \"#f0f921\"]], \"type\": \"surface\"}], \"table\": [{\"cells\": {\"fill\": {\"color\": \"#EBF0F8\"}, \"line\": {\"color\": \"white\"}}, \"header\": {\"fill\": {\"color\": \"#C8D4E3\"}, \"line\": {\"color\": \"white\"}}, \"type\": \"table\"}]}, \"layout\": {\"annotationdefaults\": {\"arrowcolor\": \"#2a3f5f\", \"arrowhead\": 0, \"arrowwidth\": 1}, \"coloraxis\": {\"colorbar\": {\"outlinewidth\": 0, \"ticks\": \"\"}}, \"colorscale\": {\"diverging\": [[0, \"#8e0152\"], [0.1, \"#c51b7d\"], [0.2, \"#de77ae\"], [0.3, \"#f1b6da\"], [0.4, \"#fde0ef\"], [0.5, \"#f7f7f7\"], [0.6, \"#e6f5d0\"], [0.7, \"#b8e186\"], [0.8, \"#7fbc41\"], [0.9, \"#4d9221\"], [1, \"#276419\"]], \"sequential\": [[0.0, \"#0d0887\"], [0.1111111111111111, \"#46039f\"], [0.2222222222222222, \"#7201a8\"], [0.3333333333333333, \"#9c179e\"], [0.4444444444444444, \"#bd3786\"], [0.5555555555555556, \"#d8576b\"], [0.6666666666666666, \"#ed7953\"], [0.7777777777777778, \"#fb9f3a\"], [0.8888888888888888, \"#fdca26\"], [1.0, \"#f0f921\"]], \"sequentialminus\": [[0.0, \"#0d0887\"], [0.1111111111111111, \"#46039f\"], [0.2222222222222222, \"#7201a8\"], [0.3333333333333333, \"#9c179e\"], [0.4444444444444444, \"#bd3786\"], [0.5555555555555556, \"#d8576b\"], [0.6666666666666666, \"#ed7953\"], [0.7777777777777778, \"#fb9f3a\"], [0.8888888888888888, \"#fdca26\"], [1.0, \"#f0f921\"]]}, \"colorway\": [\"#636efa\", \"#EF553B\", \"#00cc96\", \"#ab63fa\", \"#FFA15A\", \"#19d3f3\", \"#FF6692\", \"#B6E880\", \"#FF97FF\", \"#FECB52\"], \"font\": {\"color\": \"#2a3f5f\"}, \"geo\": {\"bgcolor\": \"white\", \"lakecolor\": \"white\", \"landcolor\": \"#E5ECF6\", \"showlakes\": true, \"showland\": true, \"subunitcolor\": \"white\"}, \"hoverlabel\": {\"align\": \"left\"}, \"hovermode\": \"closest\", \"mapbox\": {\"style\": \"light\"}, \"paper_bgcolor\": \"white\", \"plot_bgcolor\": \"#E5ECF6\", \"polar\": {\"angularaxis\": {\"gridcolor\": \"white\", \"linecolor\": \"white\", \"ticks\": \"\"}, \"bgcolor\": \"#E5ECF6\", \"radialaxis\": {\"gridcolor\": \"white\", \"linecolor\": \"white\", \"ticks\": \"\"}}, \"scene\": {\"xaxis\": {\"backgroundcolor\": \"#E5ECF6\", \"gridcolor\": \"white\", \"gridwidth\": 2, \"linecolor\": \"white\", \"showbackground\": true, \"ticks\": \"\", \"zerolinecolor\": \"white\"}, \"yaxis\": {\"backgroundcolor\": \"#E5ECF6\", \"gridcolor\": \"white\", \"gridwidth\": 2, \"linecolor\": \"white\", \"showbackground\": true, \"ticks\": \"\", \"zerolinecolor\": \"white\"}, \"zaxis\": {\"backgroundcolor\": \"#E5ECF6\", \"gridcolor\": \"white\", \"gridwidth\": 2, \"linecolor\": \"white\", \"showbackground\": true, \"ticks\": \"\", \"zerolinecolor\": \"white\"}}, \"shapedefaults\": {\"line\": {\"color\": \"#2a3f5f\"}}, \"ternary\": {\"aaxis\": {\"gridcolor\": \"white\", \"linecolor\": \"white\", \"ticks\": \"\"}, \"baxis\": {\"gridcolor\": \"white\", \"linecolor\": \"white\", \"ticks\": \"\"}, \"bgcolor\": \"#E5ECF6\", \"caxis\": {\"gridcolor\": \"white\", \"linecolor\": \"white\", \"ticks\": \"\"}}, \"title\": {\"x\": 0.05}, \"xaxis\": {\"automargin\": true, \"gridcolor\": \"white\", \"linecolor\": \"white\", \"ticks\": \"\", \"title\": {\"standoff\": 15}, \"zerolinecolor\": \"white\", \"zerolinewidth\": 2}, \"yaxis\": {\"automargin\": true, \"gridcolor\": \"white\", \"linecolor\": \"white\", \"ticks\": \"\", \"title\": {\"standoff\": 15}, \"zerolinecolor\": \"white\", \"zerolinewidth\": 2}}}, \"title\": {\"text\": \"Distribution of the Percentage of Correct Answers Given by a Student out of the Total number of Questions Answered\"}, \"xaxis\": {\"anchor\": \"y\", \"domain\": [0.0, 1.0], \"title\": {\"text\": \"Percentage of Correct Answers Given by a Student\"}}, \"xaxis2\": {\"anchor\": \"y2\", \"domain\": [0.0, 1.0], \"matches\": \"x\", \"showgrid\": true, \"showticklabels\": false}, \"yaxis\": {\"anchor\": \"x\", \"domain\": [0.0, 0.8316], \"title\": {\"text\": \"count\"}}, \"yaxis2\": {\"anchor\": \"x2\", \"domain\": [0.8416, 1.0], \"matches\": \"y2\", \"showgrid\": false, \"showline\": false, \"showticklabels\": false, \"ticks\": \"\"}},\n",
              "                        {\"responsive\": true}\n",
              "                    ).then(function(){\n",
              "                            \n",
              "var gd = document.getElementById('33da958a-ded1-4ef4-ab1e-81e2ff152b6d');\n",
              "var x = new MutationObserver(function (mutations, observer) {{\n",
              "        var display = window.getComputedStyle(gd).display;\n",
              "        if (!display || display === 'none') {{\n",
              "            console.log([gd, 'removed!']);\n",
              "            Plotly.purge(gd);\n",
              "            observer.disconnect();\n",
              "        }}\n",
              "}});\n",
              "\n",
              "// Listen for the removal of the full notebook cells\n",
              "var notebookContainer = gd.closest('#notebook-container');\n",
              "if (notebookContainer) {{\n",
              "    x.observe(notebookContainer, {childList: true});\n",
              "}}\n",
              "\n",
              "// Listen for the clearing of the current output cell\n",
              "var outputEl = gd.closest('.output');\n",
              "if (outputEl) {{\n",
              "    x.observe(outputEl, {childList: true});\n",
              "}}\n",
              "\n",
              "                        })\n",
              "                };\n",
              "                \n",
              "            </script>\n",
              "        </div>\n",
              "</body>\n",
              "</html>"
            ]
          },
          "metadata": {
            "tags": []
          }
        }
      ]
    },
    {
      "cell_type": "markdown",
      "metadata": {
        "id": "LJd3gIFIYdM0"
      },
      "source": [
        "- The percentage of correct answers follows a normal distrubution very closely\n",
        "- Cool!\n",
        "\n",
        "### Team distrubution of correctness\n",
        "- Now that we have the percentage of correct answers for each student, lets look at how this carries across to teams\n",
        "- First, let's join the students to their respective Cycle 4 groups"
      ]
    },
    {
      "cell_type": "code",
      "metadata": {
        "id": "GmCOIL5PYe3l"
      },
      "source": [
        "c4usercourses = c4usercourses.rename(columns={'user' : 'user_id', 'Team' : 'team'})     # Rename columns so we can merge neatly\n",
        "answers_team = correct_by_student.merge(c4usercourses, on='user_id')                  # Merge dataframes so we have team data for each student\n",
        "answers_team.head()"
      ],
      "execution_count": null,
      "outputs": []
    },
    {
      "cell_type": "markdown",
      "metadata": {
        "id": "4SplfQBHYgjm"
      },
      "source": [
        "- We now have team data for each of our students\n",
        "- Next step is to group by team and average the percent_correct for each team member"
      ]
    },
    {
      "cell_type": "code",
      "metadata": {
        "id": "dy8Edh6cYh91",
        "outputId": "1df4da64-80e6-4daf-8499-4b41f21be550",
        "colab": {
          "base_uri": "https://localhost:8080/",
          "height": 618
        }
      },
      "source": [
        "answers_groups_by_team = answers_team.groupby('team').mean()\n",
        "answers_groups_by_team.sort_values(by='percent_correct')['percent_correct'].plot.bar()\n",
        "\n",
        "# adding color as a column \n",
        "team_colours = ['Black', 'Blue', 'Brown', 'Green', 'Pink', 'Purple', 'Red', 'White', 'Yellow']\n",
        "\n",
        "answers_groups_by_team[\"Groups\"]= team_colours\n",
        "answers_groups_by_team"
      ],
      "execution_count": 288,
      "outputs": [
        {
          "output_type": "execute_result",
          "data": {
            "text/html": [
              "<div>\n",
              "<style scoped>\n",
              "    .dataframe tbody tr th:only-of-type {\n",
              "        vertical-align: middle;\n",
              "    }\n",
              "\n",
              "    .dataframe tbody tr th {\n",
              "        vertical-align: top;\n",
              "    }\n",
              "\n",
              "    .dataframe thead th {\n",
              "        text-align: right;\n",
              "    }\n",
              "</style>\n",
              "<table border=\"1\" class=\"dataframe\">\n",
              "  <thead>\n",
              "    <tr style=\"text-align: right;\">\n",
              "      <th></th>\n",
              "      <th>user_id</th>\n",
              "      <th>student_correct</th>\n",
              "      <th>total_answers</th>\n",
              "      <th>percent_correct</th>\n",
              "      <th>course_id</th>\n",
              "      <th>Groups</th>\n",
              "    </tr>\n",
              "    <tr>\n",
              "      <th>team</th>\n",
              "      <th></th>\n",
              "      <th></th>\n",
              "      <th></th>\n",
              "      <th></th>\n",
              "      <th></th>\n",
              "      <th></th>\n",
              "    </tr>\n",
              "  </thead>\n",
              "  <tbody>\n",
              "    <tr>\n",
              "      <th>Black</th>\n",
              "      <td>636837.281250</td>\n",
              "      <td>24.406250</td>\n",
              "      <td>44.718750</td>\n",
              "      <td>0.541133</td>\n",
              "      <td>21324.843750</td>\n",
              "      <td>Black</td>\n",
              "    </tr>\n",
              "    <tr>\n",
              "      <th>Blue</th>\n",
              "      <td>623989.241379</td>\n",
              "      <td>27.034483</td>\n",
              "      <td>48.379310</td>\n",
              "      <td>0.543374</td>\n",
              "      <td>21325.000000</td>\n",
              "      <td>Blue</td>\n",
              "    </tr>\n",
              "    <tr>\n",
              "      <th>Brown</th>\n",
              "      <td>631574.531250</td>\n",
              "      <td>22.718750</td>\n",
              "      <td>45.343750</td>\n",
              "      <td>0.495636</td>\n",
              "      <td>21325.031250</td>\n",
              "      <td>Brown</td>\n",
              "    </tr>\n",
              "    <tr>\n",
              "      <th>Green</th>\n",
              "      <td>626588.974359</td>\n",
              "      <td>26.512821</td>\n",
              "      <td>47.461538</td>\n",
              "      <td>0.555908</td>\n",
              "      <td>21325.179487</td>\n",
              "      <td>Green</td>\n",
              "    </tr>\n",
              "    <tr>\n",
              "      <th>Pink</th>\n",
              "      <td>634451.810811</td>\n",
              "      <td>30.027027</td>\n",
              "      <td>52.837838</td>\n",
              "      <td>0.545533</td>\n",
              "      <td>21325.081081</td>\n",
              "      <td>Pink</td>\n",
              "    </tr>\n",
              "    <tr>\n",
              "      <th>Purple</th>\n",
              "      <td>636865.538462</td>\n",
              "      <td>20.384615</td>\n",
              "      <td>42.846154</td>\n",
              "      <td>0.474445</td>\n",
              "      <td>21326.153846</td>\n",
              "      <td>Purple</td>\n",
              "    </tr>\n",
              "    <tr>\n",
              "      <th>Red</th>\n",
              "      <td>632513.638889</td>\n",
              "      <td>23.750000</td>\n",
              "      <td>46.111111</td>\n",
              "      <td>0.508932</td>\n",
              "      <td>21325.277778</td>\n",
              "      <td>Red</td>\n",
              "    </tr>\n",
              "    <tr>\n",
              "      <th>White</th>\n",
              "      <td>632100.761905</td>\n",
              "      <td>27.047619</td>\n",
              "      <td>43.809524</td>\n",
              "      <td>0.615350</td>\n",
              "      <td>21326.666667</td>\n",
              "      <td>White</td>\n",
              "    </tr>\n",
              "    <tr>\n",
              "      <th>Yellow</th>\n",
              "      <td>636752.258065</td>\n",
              "      <td>26.838710</td>\n",
              "      <td>48.677419</td>\n",
              "      <td>0.537623</td>\n",
              "      <td>21326.516129</td>\n",
              "      <td>Yellow</td>\n",
              "    </tr>\n",
              "  </tbody>\n",
              "</table>\n",
              "</div>"
            ],
            "text/plain": [
              "              user_id  student_correct  ...     course_id  Groups\n",
              "team                                    ...                      \n",
              "Black   636837.281250        24.406250  ...  21324.843750   Black\n",
              "Blue    623989.241379        27.034483  ...  21325.000000    Blue\n",
              "Brown   631574.531250        22.718750  ...  21325.031250   Brown\n",
              "Green   626588.974359        26.512821  ...  21325.179487   Green\n",
              "Pink    634451.810811        30.027027  ...  21325.081081    Pink\n",
              "Purple  636865.538462        20.384615  ...  21326.153846  Purple\n",
              "Red     632513.638889        23.750000  ...  21325.277778     Red\n",
              "White   632100.761905        27.047619  ...  21326.666667   White\n",
              "Yellow  636752.258065        26.838710  ...  21326.516129  Yellow\n",
              "\n",
              "[9 rows x 6 columns]"
            ]
          },
          "metadata": {
            "tags": []
          },
          "execution_count": 288
        },
        {
          "output_type": "display_data",
          "data": {
            "image/png": "[encoded data removed]",
            "text/plain": [
              "<Figure size 432x288 with 1 Axes>"
            ]
          },
          "metadata": {
            "tags": [],
            "needs_background": "light"
          }
        }
      ]
    },
    {
      "cell_type": "code",
      "metadata": {
        "id": "WtQ-h3w00Pkt",
        "outputId": "32390efc-611a-4917-a1f3-f08193fb10c4",
        "colab": {
          "base_uri": "https://localhost:8080/",
          "height": 542
        }
      },
      "source": [
        "#fig = px.bar(data_canada, x='year', y='pop')\n",
        "#fig.show()\n",
        "fig=px.bar(answers_groups_by_team,x='Groups',y=\"percent_correct\",color = \"Groups\", \n",
        "        color_discrete_map = {'Pink': 'hotpink','Green': 'mediumseagreen', 'Yellow': 'gold','Black': 'black','Blue': 'royalblue','Red': 'tomato', 'Brown': 'peru', 'White': 'white','Purple': 'mediumpurple'}, \n",
        "        title = \"Proportion of members in the team who made a late question in cycles 1 and 2\",\n",
        "        labels={\"Groups\": \"Groups\",\"percent_correct\": \"Percentage of Correctly answered questions by Groups\"})\n",
        "fig.update_layout(showlegend=False) "
      ],
      "execution_count": 289,
      "outputs": [
        {
          "output_type": "display_data",
          "data": {
            "text/html": [
              "<html>\n",
              "<head><meta charset=\"utf-8\" /></head>\n",
              "<body>\n",
              "    <div>\n",
              "            <script src=\"https://cdnjs.cloudflare.com/ajax/libs/mathjax/2.7.5/MathJax.js?config=TeX-AMS-MML_SVG\"></script><script type=\"text/javascript\">if (window.MathJax) {MathJax.Hub.Config({SVG: {font: \"STIX-Web\"}});}</script>\n",
              "                <script type=\"text/javascript\">window.PlotlyConfig = {MathJaxConfig: 'local'};</script>\n",
              "        <script src=\"https://cdn.plot.ly/plotly-latest.min.js\"></script>    \n",
              "            <div id=\"4edc2e06-7c66-4b86-a3d6-022f25ffd266\" class=\"plotly-graph-div\" style=\"height:525px; width:100%;\"></div>\n",
              "            <script type=\"text/javascript\">\n",
              "                \n",
              "                    window.PLOTLYENV=window.PLOTLYENV || {};\n",
              "                    \n",
              "                if (document.getElementById(\"4edc2e06-7c66-4b86-a3d6-022f25ffd266\")) {\n",
              "                    Plotly.newPlot(\n",
              "                        '4edc2e06-7c66-4b86-a3d6-022f25ffd266',\n",
              "                        [{\"alignmentgroup\": \"True\", \"hoverlabel\": {\"namelength\": 0}, \"hovertemplate\": \"Groups=%{x}<br>Percentage of Correctly answered questions by Groups=%{y}\", \"legendgroup\": \"Groups=Black\", \"marker\": {\"color\": \"black\"}, \"name\": \"Groups=Black\", \"offsetgroup\": \"Groups=Black\", \"orientation\": \"v\", \"showlegend\": true, \"textposition\": \"auto\", \"type\": \"bar\", \"x\": [\"Black\"], \"xaxis\": \"x\", \"y\": [0.541133298209055], \"yaxis\": \"y\"}, {\"alignmentgroup\": \"True\", \"hoverlabel\": {\"namelength\": 0}, \"hovertemplate\": \"Groups=%{x}<br>Percentage of Correctly answered questions by Groups=%{y}\", \"legendgroup\": \"Groups=Blue\", \"marker\": {\"color\": \"royalblue\"}, \"name\": \"Groups=Blue\", \"offsetgroup\": \"Groups=Blue\", \"orientation\": \"v\", \"showlegend\": true, \"textposition\": \"auto\", \"type\": \"bar\", \"x\": [\"Blue\"], \"xaxis\": \"x\", \"y\": [0.543373847884228], \"yaxis\": \"y\"}, {\"alignmentgroup\": \"True\", \"hoverlabel\": {\"namelength\": 0}, \"hovertemplate\": \"Groups=%{x}<br>Percentage of Correctly answered questions by Groups=%{y}\", \"legendgroup\": \"Groups=Brown\", \"marker\": {\"color\": \"peru\"}, \"name\": \"Groups=Brown\", \"offsetgroup\": \"Groups=Brown\", \"orientation\": \"v\", \"showlegend\": true, \"textposition\": \"auto\", \"type\": \"bar\", \"x\": [\"Brown\"], \"xaxis\": \"x\", \"y\": [0.49563566330038855], \"yaxis\": \"y\"}, {\"alignmentgroup\": \"True\", \"hoverlabel\": {\"namelength\": 0}, \"hovertemplate\": \"Groups=%{x}<br>Percentage of Correctly answered questions by Groups=%{y}\", \"legendgroup\": \"Groups=Green\", \"marker\": {\"color\": \"mediumseagreen\"}, \"name\": \"Groups=Green\", \"offsetgroup\": \"Groups=Green\", \"orientation\": \"v\", \"showlegend\": true, \"textposition\": \"auto\", \"type\": \"bar\", \"x\": [\"Green\"], \"xaxis\": \"x\", \"y\": [0.5559077178804747], \"yaxis\": \"y\"}, {\"alignmentgroup\": \"True\", \"hoverlabel\": {\"namelength\": 0}, \"hovertemplate\": \"Groups=%{x}<br>Percentage of Correctly answered questions by Groups=%{y}\", \"legendgroup\": \"Groups=Pink\", \"marker\": {\"color\": \"hotpink\"}, \"name\": \"Groups=Pink\", \"offsetgroup\": \"Groups=Pink\", \"orientation\": \"v\", \"showlegend\": true, \"textposition\": \"auto\", \"type\": \"bar\", \"x\": [\"Pink\"], \"xaxis\": \"x\", \"y\": [0.5455331877678247], \"yaxis\": \"y\"}, {\"alignmentgroup\": \"True\", \"hoverlabel\": {\"namelength\": 0}, \"hovertemplate\": \"Groups=%{x}<br>Percentage of Correctly answered questions by Groups=%{y}\", \"legendgroup\": \"Groups=Purple\", \"marker\": {\"color\": \"mediumpurple\"}, \"name\": \"Groups=Purple\", \"offsetgroup\": \"Groups=Purple\", \"orientation\": \"v\", \"showlegend\": true, \"textposition\": \"auto\", \"type\": \"bar\", \"x\": [\"Purple\"], \"xaxis\": \"x\", \"y\": [0.4744449484224343], \"yaxis\": \"y\"}, {\"alignmentgroup\": \"True\", \"hoverlabel\": {\"namelength\": 0}, \"hovertemplate\": \"Groups=%{x}<br>Percentage of Correctly answered questions by Groups=%{y}\", \"legendgroup\": \"Groups=Red\", \"marker\": {\"color\": \"tomato\"}, \"name\": \"Groups=Red\", \"offsetgroup\": \"Groups=Red\", \"orientation\": \"v\", \"showlegend\": true, \"textposition\": \"auto\", \"type\": \"bar\", \"x\": [\"Red\"], \"xaxis\": \"x\", \"y\": [0.5089322166669703], \"yaxis\": \"y\"}, {\"alignmentgroup\": \"True\", \"hoverlabel\": {\"namelength\": 0}, \"hovertemplate\": \"Groups=%{x}<br>Percentage of Correctly answered questions by Groups=%{y}\", \"legendgroup\": \"Groups=White\", \"marker\": {\"color\": \"white\"}, \"name\": \"Groups=White\", \"offsetgroup\": \"Groups=White\", \"orientation\": \"v\", \"showlegend\": true, \"textposition\": \"auto\", \"type\": \"bar\", \"x\": [\"White\"], \"xaxis\": \"x\", \"y\": [0.6153503879769202], \"yaxis\": \"y\"}, {\"alignmentgroup\": \"True\", \"hoverlabel\": {\"namelength\": 0}, \"hovertemplate\": \"Groups=%{x}<br>Percentage of Correctly answered questions by Groups=%{y}\", \"legendgroup\": \"Groups=Yellow\", \"marker\": {\"color\": \"gold\"}, \"name\": \"Groups=Yellow\", \"offsetgroup\": \"Groups=Yellow\", \"orientation\": \"v\", \"showlegend\": true, \"textposition\": \"auto\", \"type\": \"bar\", \"x\": [\"Yellow\"], \"xaxis\": \"x\", \"y\": [0.5376225535042617], \"yaxis\": \"y\"}],\n",
              "                        {\"barmode\": \"relative\", \"legend\": {\"tracegroupgap\": 0}, \"showlegend\": false, \"template\": {\"data\": {\"bar\": [{\"error_x\": {\"color\": \"#2a3f5f\"}, \"error_y\": {\"color\": \"#2a3f5f\"}, \"marker\": {\"line\": {\"color\": \"#E5ECF6\", \"width\": 0.5}}, \"type\": \"bar\"}], \"barpolar\": [{\"marker\": {\"line\": {\"color\": \"#E5ECF6\", \"width\": 0.5}}, \"type\": \"barpolar\"}], \"carpet\": [{\"aaxis\": {\"endlinecolor\": \"#2a3f5f\", \"gridcolor\": \"white\", \"linecolor\": \"white\", \"minorgridcolor\": \"white\", \"startlinecolor\": \"#2a3f5f\"}, \"baxis\": {\"endlinecolor\": \"#2a3f5f\", \"gridcolor\": \"white\", \"linecolor\": \"white\", \"minorgridcolor\": \"white\", \"startlinecolor\": \"#2a3f5f\"}, \"type\": \"carpet\"}], \"choropleth\": [{\"colorbar\": {\"outlinewidth\": 0, \"ticks\": \"\"}, \"type\": \"choropleth\"}], \"contour\": [{\"colorbar\": {\"outlinewidth\": 0, \"ticks\": \"\"}, \"colorscale\": [[0.0, \"#0d0887\"], [0.1111111111111111, \"#46039f\"], [0.2222222222222222, \"#7201a8\"], [0.3333333333333333, \"#9c179e\"], [0.4444444444444444, \"#bd3786\"], [0.5555555555555556, \"#d8576b\"], [0.6666666666666666, \"#ed7953\"], [0.7777777777777778, \"#fb9f3a\"], [0.8888888888888888, \"#fdca26\"], [1.0, \"#f0f921\"]], \"type\": \"contour\"}], \"contourcarpet\": [{\"colorbar\": {\"outlinewidth\": 0, \"ticks\": \"\"}, \"type\": \"contourcarpet\"}], \"heatmap\": [{\"colorbar\": {\"outlinewidth\": 0, \"ticks\": \"\"}, \"colorscale\": [[0.0, \"#0d0887\"], [0.1111111111111111, \"#46039f\"], [0.2222222222222222, \"#7201a8\"], [0.3333333333333333, \"#9c179e\"], [0.4444444444444444, \"#bd3786\"], [0.5555555555555556, \"#d8576b\"], [0.6666666666666666, \"#ed7953\"], [0.7777777777777778, \"#fb9f3a\"], [0.8888888888888888, \"#fdca26\"], [1.0, \"#f0f921\"]], \"type\": \"heatmap\"}], \"heatmapgl\": [{\"colorbar\": {\"outlinewidth\": 0, \"ticks\": \"\"}, \"colorscale\": [[0.0, \"#0d0887\"], [0.1111111111111111, \"#46039f\"], [0.2222222222222222, \"#7201a8\"], [0.3333333333333333, \"#9c179e\"], [0.4444444444444444, \"#bd3786\"], [0.5555555555555556, \"#d8576b\"], [0.6666666666666666, \"#ed7953\"], [0.7777777777777778, \"#fb9f3a\"], [0.8888888888888888, \"#fdca26\"], [1.0, \"#f0f921\"]], \"type\": \"heatmapgl\"}], \"histogram\": [{\"marker\": {\"colorbar\": {\"outlinewidth\": 0, \"ticks\": \"\"}}, \"type\": \"histogram\"}], \"histogram2d\": [{\"colorbar\": {\"outlinewidth\": 0, \"ticks\": \"\"}, \"colorscale\": [[0.0, \"#0d0887\"], [0.1111111111111111, \"#46039f\"], [0.2222222222222222, \"#7201a8\"], [0.3333333333333333, \"#9c179e\"], [0.4444444444444444, \"#bd3786\"], [0.5555555555555556, \"#d8576b\"], [0.6666666666666666, \"#ed7953\"], [0.7777777777777778, \"#fb9f3a\"], [0.8888888888888888, \"#fdca26\"], [1.0, \"#f0f921\"]], \"type\": \"histogram2d\"}], \"histogram2dcontour\": [{\"colorbar\": {\"outlinewidth\": 0, \"ticks\": \"\"}, \"colorscale\": [[0.0, \"#0d0887\"], [0.1111111111111111, \"#46039f\"], [0.2222222222222222, \"#7201a8\"], [0.3333333333333333, \"#9c179e\"], [0.4444444444444444, \"#bd3786\"], [0.5555555555555556, \"#d8576b\"], [0.6666666666666666, \"#ed7953\"], [0.7777777777777778, \"#fb9f3a\"], [0.8888888888888888, \"#fdca26\"], [1.0, \"#f0f921\"]], \"type\": \"histogram2dcontour\"}], \"mesh3d\": [{\"colorbar\": {\"outlinewidth\": 0, \"ticks\": \"\"}, \"type\": \"mesh3d\"}], \"parcoords\": [{\"line\": {\"colorbar\": {\"outlinewidth\": 0, \"ticks\": \"\"}}, \"type\": \"parcoords\"}], \"pie\": [{\"automargin\": true, \"type\": \"pie\"}], \"scatter\": [{\"marker\": {\"colorbar\": {\"outlinewidth\": 0, \"ticks\": \"\"}}, \"type\": \"scatter\"}], \"scatter3d\": [{\"line\": {\"colorbar\": {\"outlinewidth\": 0, \"ticks\": \"\"}}, \"marker\": {\"colorbar\": {\"outlinewidth\": 0, \"ticks\": \"\"}}, \"type\": \"scatter3d\"}], \"scattercarpet\": [{\"marker\": {\"colorbar\": {\"outlinewidth\": 0, \"ticks\": \"\"}}, \"type\": \"scattercarpet\"}], \"scattergeo\": [{\"marker\": {\"colorbar\": {\"outlinewidth\": 0, \"ticks\": \"\"}}, \"type\": \"scattergeo\"}], \"scattergl\": [{\"marker\": {\"colorbar\": {\"outlinewidth\": 0, \"ticks\": \"\"}}, \"type\": \"scattergl\"}], \"scattermapbox\": [{\"marker\": {\"colorbar\": {\"outlinewidth\": 0, \"ticks\": \"\"}}, \"type\": \"scattermapbox\"}], \"scatterpolar\": [{\"marker\": {\"colorbar\": {\"outlinewidth\": 0, \"ticks\": \"\"}}, \"type\": \"scatterpolar\"}], \"scatterpolargl\": [{\"marker\": {\"colorbar\": {\"outlinewidth\": 0, \"ticks\": \"\"}}, \"type\": \"scatterpolargl\"}], \"scatterternary\": [{\"marker\": {\"colorbar\": {\"outlinewidth\": 0, \"ticks\": \"\"}}, \"type\": \"scatterternary\"}], \"surface\": [{\"colorbar\": {\"outlinewidth\": 0, \"ticks\": \"\"}, \"colorscale\": [[0.0, \"#0d0887\"], [0.1111111111111111, \"#46039f\"], [0.2222222222222222, \"#7201a8\"], [0.3333333333333333, \"#9c179e\"], [0.4444444444444444, \"#bd3786\"], [0.5555555555555556, \"#d8576b\"], [0.6666666666666666, \"#ed7953\"], [0.7777777777777778, \"#fb9f3a\"], [0.8888888888888888, \"#fdca26\"], [1.0, \"#f0f921\"]], \"type\": \"surface\"}], \"table\": [{\"cells\": {\"fill\": {\"color\": \"#EBF0F8\"}, \"line\": {\"color\": \"white\"}}, \"header\": {\"fill\": {\"color\": \"#C8D4E3\"}, \"line\": {\"color\": \"white\"}}, \"type\": \"table\"}]}, \"layout\": {\"annotationdefaults\": {\"arrowcolor\": \"#2a3f5f\", \"arrowhead\": 0, \"arrowwidth\": 1}, \"coloraxis\": {\"colorbar\": {\"outlinewidth\": 0, \"ticks\": \"\"}}, \"colorscale\": {\"diverging\": [[0, \"#8e0152\"], [0.1, \"#c51b7d\"], [0.2, \"#de77ae\"], [0.3, \"#f1b6da\"], [0.4, \"#fde0ef\"], [0.5, \"#f7f7f7\"], [0.6, \"#e6f5d0\"], [0.7, \"#b8e186\"], [0.8, \"#7fbc41\"], [0.9, \"#4d9221\"], [1, \"#276419\"]], \"sequential\": [[0.0, \"#0d0887\"], [0.1111111111111111, \"#46039f\"], [0.2222222222222222, \"#7201a8\"], [0.3333333333333333, \"#9c179e\"], [0.4444444444444444, \"#bd3786\"], [0.5555555555555556, \"#d8576b\"], [0.6666666666666666, \"#ed7953\"], [0.7777777777777778, \"#fb9f3a\"], [0.8888888888888888, \"#fdca26\"], [1.0, \"#f0f921\"]], \"sequentialminus\": [[0.0, \"#0d0887\"], [0.1111111111111111, \"#46039f\"], [0.2222222222222222, \"#7201a8\"], [0.3333333333333333, \"#9c179e\"], [0.4444444444444444, \"#bd3786\"], [0.5555555555555556, \"#d8576b\"], [0.6666666666666666, \"#ed7953\"], [0.7777777777777778, \"#fb9f3a\"], [0.8888888888888888, \"#fdca26\"], [1.0, \"#f0f921\"]]}, \"colorway\": [\"#636efa\", \"#EF553B\", \"#00cc96\", \"#ab63fa\", \"#FFA15A\", \"#19d3f3\", \"#FF6692\", \"#B6E880\", \"#FF97FF\", \"#FECB52\"], \"font\": {\"color\": \"#2a3f5f\"}, \"geo\": {\"bgcolor\": \"white\", \"lakecolor\": \"white\", \"landcolor\": \"#E5ECF6\", \"showlakes\": true, \"showland\": true, \"subunitcolor\": \"white\"}, \"hoverlabel\": {\"align\": \"left\"}, \"hovermode\": \"closest\", \"mapbox\": {\"style\": \"light\"}, \"paper_bgcolor\": \"white\", \"plot_bgcolor\": \"#E5ECF6\", \"polar\": {\"angularaxis\": {\"gridcolor\": \"white\", \"linecolor\": \"white\", \"ticks\": \"\"}, \"bgcolor\": \"#E5ECF6\", \"radialaxis\": {\"gridcolor\": \"white\", \"linecolor\": \"white\", \"ticks\": \"\"}}, \"scene\": {\"xaxis\": {\"backgroundcolor\": \"#E5ECF6\", \"gridcolor\": \"white\", \"gridwidth\": 2, \"linecolor\": \"white\", \"showbackground\": true, \"ticks\": \"\", \"zerolinecolor\": \"white\"}, \"yaxis\": {\"backgroundcolor\": \"#E5ECF6\", \"gridcolor\": \"white\", \"gridwidth\": 2, \"linecolor\": \"white\", \"showbackground\": true, \"ticks\": \"\", \"zerolinecolor\": \"white\"}, \"zaxis\": {\"backgroundcolor\": \"#E5ECF6\", \"gridcolor\": \"white\", \"gridwidth\": 2, \"linecolor\": \"white\", \"showbackground\": true, \"ticks\": \"\", \"zerolinecolor\": \"white\"}}, \"shapedefaults\": {\"line\": {\"color\": \"#2a3f5f\"}}, \"ternary\": {\"aaxis\": {\"gridcolor\": \"white\", \"linecolor\": \"white\", \"ticks\": \"\"}, \"baxis\": {\"gridcolor\": \"white\", \"linecolor\": \"white\", \"ticks\": \"\"}, \"bgcolor\": \"#E5ECF6\", \"caxis\": {\"gridcolor\": \"white\", \"linecolor\": \"white\", \"ticks\": \"\"}}, \"title\": {\"x\": 0.05}, \"xaxis\": {\"automargin\": true, \"gridcolor\": \"white\", \"linecolor\": \"white\", \"ticks\": \"\", \"title\": {\"standoff\": 15}, \"zerolinecolor\": \"white\", \"zerolinewidth\": 2}, \"yaxis\": {\"automargin\": true, \"gridcolor\": \"white\", \"linecolor\": \"white\", \"ticks\": \"\", \"title\": {\"standoff\": 15}, \"zerolinecolor\": \"white\", \"zerolinewidth\": 2}}}, \"title\": {\"text\": \"Proportion of members in the team who made a late question in cycles 1 and 2\"}, \"xaxis\": {\"anchor\": \"y\", \"categoryarray\": [\"Black\", \"Blue\", \"Brown\", \"Green\", \"Pink\", \"Purple\", \"Red\", \"White\", \"Yellow\"], \"categoryorder\": \"array\", \"domain\": [0.0, 1.0], \"title\": {\"text\": \"Groups\"}}, \"yaxis\": {\"anchor\": \"x\", \"domain\": [0.0, 1.0], \"title\": {\"text\": \"Percentage of Correctly answered questions by Groups\"}}},\n",
              "                        {\"responsive\": true}\n",
              "                    ).then(function(){\n",
              "                            \n",
              "var gd = document.getElementById('4edc2e06-7c66-4b86-a3d6-022f25ffd266');\n",
              "var x = new MutationObserver(function (mutations, observer) {{\n",
              "        var display = window.getComputedStyle(gd).display;\n",
              "        if (!display || display === 'none') {{\n",
              "            console.log([gd, 'removed!']);\n",
              "            Plotly.purge(gd);\n",
              "            observer.disconnect();\n",
              "        }}\n",
              "}});\n",
              "\n",
              "// Listen for the removal of the full notebook cells\n",
              "var notebookContainer = gd.closest('#notebook-container');\n",
              "if (notebookContainer) {{\n",
              "    x.observe(notebookContainer, {childList: true});\n",
              "}}\n",
              "\n",
              "// Listen for the clearing of the current output cell\n",
              "var outputEl = gd.closest('.output');\n",
              "if (outputEl) {{\n",
              "    x.observe(outputEl, {childList: true});\n",
              "}}\n",
              "\n",
              "                        })\n",
              "                };\n",
              "                \n",
              "            </script>\n",
              "        </div>\n",
              "</body>\n",
              "</html>"
            ]
          },
          "metadata": {
            "tags": []
          }
        }
      ]
    },
    {
      "cell_type": "markdown",
      "metadata": {
        "id": "XFXxYRlmYje4"
      },
      "source": [
        "- The white team got the highest average percentage correct and purple the lowest\n",
        "- All teams are quite close together"
      ]
    },
    {
      "cell_type": "code",
      "metadata": {
        "id": "UwWu5Wwl-FmO",
        "outputId": "70d68a69-73fb-4bd4-a764-9e0fbb597b80",
        "colab": {
          "base_uri": "https://localhost:8080/",
          "height": 1000
        }
      },
      "source": [
        "\n",
        "\n",
        "boxes_perc_correct = px.box(answers_team, x = 'team', y = 'percent_correct',color=\"team\",\n",
        "  \n",
        "           color_discrete_map = {'Pink': 'hotpink','Green': 'mediumseagreen', 'Yellow': 'gold','Black': 'black','Blue': 'royalblue','Red': 'tomato', 'Brown': 'peru', 'White': 'white','Purple': 'mediumpurple'},\n",
        "           title = \"Boxplots aggregated by Team\",\n",
        "          labels={\"team\": \"Groups\",\"percent_correct\": \"Percentage of Correctly answered questions by Groups\"})\n",
        "\n",
        "\n",
        "boxes_student_correct = px.box(answers_team, x = 'team', y = 'student_correct',color=\"team\",\n",
        "  \n",
        "           color_discrete_map = {'Pink': 'hotpink','Green': 'mediumseagreen', 'Yellow': 'gold','Black': 'black','Blue': 'royalblue','Red': 'tomato', 'Brown': 'peru', 'White': 'white','Purple': 'mediumpurple'},\n",
        "          \n",
        "          labels={\"team\": \"Groups\",\"student_correct\": \"Number of Correctly answered questions by Groups (Students)\"})\n",
        "\n",
        "boxes_perc_correct.update_layout(showlegend=False) \n",
        "boxes_student_correct.update_layout(showlegend=False) \n",
        "boxes_perc_correct.show()\n",
        "boxes_student_correct.show()"
      ],
      "execution_count": 290,
      "outputs": [
        {
          "output_type": "display_data",
          "data": {
            "text/html": [
              "<html>\n",
              "<head><meta charset=\"utf-8\" /></head>\n",
              "<body>\n",
              "    <div>\n",
              "            <script src=\"https://cdnjs.cloudflare.com/ajax/libs/mathjax/2.7.5/MathJax.js?config=TeX-AMS-MML_SVG\"></script><script type=\"text/javascript\">if (window.MathJax) {MathJax.Hub.Config({SVG: {font: \"STIX-Web\"}});}</script>\n",
              "                <script type=\"text/javascript\">window.PlotlyConfig = {MathJaxConfig: 'local'};</script>\n",
              "        <script src=\"https://cdn.plot.ly/plotly-latest.min.js\"></script>    \n",
              "            <div id=\"2cc8b7f0-80fe-4525-9b1d-b830ecd69a30\" class=\"plotly-graph-div\" style=\"height:525px; width:100%;\"></div>\n",
              "            <script type=\"text/javascript\">\n",
              "                \n",
              "                    window.PLOTLYENV=window.PLOTLYENV || {};\n",
              "                    \n",
              "                if (document.getElementById(\"2cc8b7f0-80fe-4525-9b1d-b830ecd69a30\")) {\n",
              "                    Plotly.newPlot(\n",
              "                        '2cc8b7f0-80fe-4525-9b1d-b830ecd69a30',\n",
              "                        [{\"alignmentgroup\": \"True\", \"hoverlabel\": {\"namelength\": 0}, \"hovertemplate\": \"Groups=%{x}<br>Percentage of Correctly answered questions by Groups=%{y}\", \"legendgroup\": \"Groups=Blue\", \"marker\": {\"color\": \"royalblue\"}, \"name\": \"Groups=Blue\", \"notched\": false, \"offsetgroup\": \"Groups=Blue\", \"orientation\": \"v\", \"showlegend\": true, \"type\": \"box\", \"x\": [\"Blue\", \"Blue\", \"Blue\", \"Blue\", \"Blue\", \"Blue\", \"Blue\", \"Blue\", \"Blue\", \"Blue\", \"Blue\", \"Blue\", \"Blue\", \"Blue\", \"Blue\", \"Blue\", \"Blue\", \"Blue\", \"Blue\", \"Blue\", \"Blue\", \"Blue\", \"Blue\", \"Blue\", \"Blue\", \"Blue\", \"Blue\", \"Blue\", \"Blue\"], \"x0\": \" \", \"xaxis\": \"x\", \"y\": [0.55, 0.7674418604651163, 0.5, 0.7236842105263158, 0.7358490566037735, 0.7111111111111111, 0.6862745098039216, 0.6842105263157895, 0.56, 0.65625, 0.4, 0.325, 0.425, 0.58, 0.6097560975609756, 0.3111111111111111, 0.5121951219512195, 0.29545454545454547, 0.775, 0.4523809523809524, 0.40476190476190477, 0.5, 0.49019607843137253, 0.5079365079365079, 0.6, 0.4880952380952381, 0.6071428571428571, 0.4444444444444444, 0.45454545454545453], \"y0\": \" \", \"yaxis\": \"y\"}, {\"alignmentgroup\": \"True\", \"hoverlabel\": {\"namelength\": 0}, \"hovertemplate\": \"Groups=%{x}<br>Percentage of Correctly answered questions by Groups=%{y}\", \"legendgroup\": \"Groups=Red\", \"marker\": {\"color\": \"tomato\"}, \"name\": \"Groups=Red\", \"notched\": false, \"offsetgroup\": \"Groups=Red\", \"orientation\": \"v\", \"showlegend\": true, \"type\": \"box\", \"x\": [\"Red\", \"Red\", \"Red\", \"Red\", \"Red\", \"Red\", \"Red\", \"Red\", \"Red\", \"Red\", \"Red\", \"Red\", \"Red\", \"Red\", \"Red\", \"Red\", \"Red\", \"Red\", \"Red\", \"Red\", \"Red\", \"Red\", \"Red\", \"Red\", \"Red\", \"Red\", \"Red\", \"Red\", \"Red\", \"Red\", \"Red\", \"Red\", \"Red\", \"Red\", \"Red\", \"Red\"], \"x0\": \" \", \"xaxis\": \"x\", \"y\": [0.6, 0.36585365853658536, 0.4878048780487805, 0.45, 0.38636363636363635, 0.375, 0.4342105263157895, 0.525, 0.3170731707317073, 0.5609756097560976, 0.35714285714285715, 0.6666666666666666, 0.7073170731707317, 0.4523809523809524, 0.5, 0.625, 0.6296296296296297, 0.55, 0.55, 0.5, 0.676056338028169, 0.75, 0.5476190476190477, 0.4375, 0.6041666666666666, 0.5, 0.325, 0.5365853658536586, 0.525, 0.5348837209302325, 0.38461538461538464, 0.44, 0.66, 0.47619047619047616, 0.3469387755102041, 0.5365853658536586], \"y0\": \" \", \"yaxis\": \"y\"}, {\"alignmentgroup\": \"True\", \"hoverlabel\": {\"namelength\": 0}, \"hovertemplate\": \"Groups=%{x}<br>Percentage of Correctly answered questions by Groups=%{y}\", \"legendgroup\": \"Groups=Green\", \"marker\": {\"color\": \"mediumseagreen\"}, \"name\": \"Groups=Green\", \"notched\": false, \"offsetgroup\": \"Groups=Green\", \"orientation\": \"v\", \"showlegend\": true, \"type\": \"box\", \"x\": [\"Green\", \"Green\", \"Green\", \"Green\", \"Green\", \"Green\", \"Green\", \"Green\", \"Green\", \"Green\", \"Green\", \"Green\", \"Green\", \"Green\", \"Green\", \"Green\", \"Green\", \"Green\", \"Green\", \"Green\", \"Green\", \"Green\", \"Green\", \"Green\", \"Green\", \"Green\", \"Green\", \"Green\", \"Green\", \"Green\", \"Green\", \"Green\", \"Green\", \"Green\", \"Green\", \"Green\", \"Green\", \"Green\", \"Green\"], \"x0\": \" \", \"xaxis\": \"x\", \"y\": [0.631578947368421, 0.7619047619047619, 0.4807692307692308, 0.6428571428571429, 0.5609756097560976, 0.717391304347826, 0.46, 0.6341463414634146, 0.4883720930232558, 0.5555555555555556, 0.6, 0.5121951219512195, 0.6774193548387096, 0.6271186440677966, 0.5121951219512195, 0.35555555555555557, 0.5238095238095238, 0.3, 0.5348837209302325, 0.425, 0.475, 0.46153846153846156, 0.5681818181818182, 0.6190476190476191, 0.5, 0.6206896551724138, 0.55, 0.5581395348837209, 0.7142857142857143, 0.4857142857142857, 0.5714285714285714, 0.5531914893617021, 0.8222222222222222, 0.53125, 0.5454545454545454, 0.5714285714285714, 0.5, 0.6447368421052632, 0.38636363636363635], \"y0\": \" \", \"yaxis\": \"y\"}, {\"alignmentgroup\": \"True\", \"hoverlabel\": {\"namelength\": 0}, \"hovertemplate\": \"Groups=%{x}<br>Percentage of Correctly answered questions by Groups=%{y}\", \"legendgroup\": \"Groups=Brown\", \"marker\": {\"color\": \"peru\"}, \"name\": \"Groups=Brown\", \"notched\": false, \"offsetgroup\": \"Groups=Brown\", \"orientation\": \"v\", \"showlegend\": true, \"type\": \"box\", \"x\": [\"Brown\", \"Brown\", \"Brown\", \"Brown\", \"Brown\", \"Brown\", \"Brown\", \"Brown\", \"Brown\", \"Brown\", \"Brown\", \"Brown\", \"Brown\", \"Brown\", \"Brown\", \"Brown\", \"Brown\", \"Brown\", \"Brown\", \"Brown\", \"Brown\", \"Brown\", \"Brown\", \"Brown\", \"Brown\", \"Brown\", \"Brown\", \"Brown\", \"Brown\", \"Brown\", \"Brown\", \"Brown\"], \"x0\": \" \", \"xaxis\": \"x\", \"y\": [0.325, 0.55, 0.25, 0.82, 0.525, 0.5853658536585366, 0.2608695652173913, 0.45, 0.6511627906976745, 0.7763157894736842, 0.725, 0.4146341463414634, 0.42857142857142855, 0.5, 0.5, 0.5833333333333334, 0.41818181818181815, 0.5581395348837209, 0.775, 0.6382978723404256, 0.3409090909090909, 0.5957446808510638, 0.325, 0.38, 0.3953488372093023, 0.4, 0.42105263157894735, 0.5609756097560976, 0.5714285714285714, 0.5531914893617021, 0.4, 0.18181818181818182], \"y0\": \" \", \"yaxis\": \"y\"}, {\"alignmentgroup\": \"True\", \"hoverlabel\": {\"namelength\": 0}, \"hovertemplate\": \"Groups=%{x}<br>Percentage of Correctly answered questions by Groups=%{y}\", \"legendgroup\": \"Groups=Pink\", \"marker\": {\"color\": \"hotpink\"}, \"name\": \"Groups=Pink\", \"notched\": false, \"offsetgroup\": \"Groups=Pink\", \"orientation\": \"v\", \"showlegend\": true, \"type\": \"box\", \"x\": [\"Pink\", \"Pink\", \"Pink\", \"Pink\", \"Pink\", \"Pink\", \"Pink\", \"Pink\", \"Pink\", \"Pink\", \"Pink\", \"Pink\", \"Pink\", \"Pink\", \"Pink\", \"Pink\", \"Pink\", \"Pink\", \"Pink\", \"Pink\", \"Pink\", \"Pink\", \"Pink\", \"Pink\", \"Pink\", \"Pink\", \"Pink\", \"Pink\", \"Pink\", \"Pink\", \"Pink\", \"Pink\", \"Pink\", \"Pink\", \"Pink\", \"Pink\", \"Pink\"], \"x0\": \" \", \"xaxis\": \"x\", \"y\": [0.2558139534883721, 0.25925925925925924, 0.4, 0.40476190476190477, 0.55, 0.6818181818181818, 0.6511627906976745, 0.6578947368421053, 0.39215686274509803, 0.325, 0.4523809523809524, 0.3064516129032258, 0.5686274509803921, 0.660377358490566, 0.5714285714285714, 0.5121951219512195, 0.2926829268292683, 0.6904761904761905, 0.7872340425531915, 0.66, 0.68, 0.627906976744186, 0.6666666666666666, 0.8625, 0.6527777777777778, 0.582089552238806, 0.73, 0.81, 0.4, 0.625, 0.375, 0.375, 0.6382978723404256, 0.5365853658536586, 0.5681818181818182, 0.6, 0.375], \"y0\": \" \", \"yaxis\": \"y\"}, {\"alignmentgroup\": \"True\", \"hoverlabel\": {\"namelength\": 0}, \"hovertemplate\": \"Groups=%{x}<br>Percentage of Correctly answered questions by Groups=%{y}\", \"legendgroup\": \"Groups=White\", \"marker\": {\"color\": \"white\"}, \"name\": \"Groups=White\", \"notched\": false, \"offsetgroup\": \"Groups=White\", \"orientation\": \"v\", \"showlegend\": true, \"type\": \"box\", \"x\": [\"White\", \"White\", \"White\", \"White\", \"White\", \"White\", \"White\", \"White\", \"White\", \"White\", \"White\", \"White\", \"White\", \"White\", \"White\", \"White\", \"White\", \"White\", \"White\", \"White\", \"White\"], \"x0\": \" \", \"xaxis\": \"x\", \"y\": [0.7441860465116279, 0.5609756097560976, 0.6, 0.45, 0.7317073170731707, 0.37209302325581395, 0.6097560975609756, 0.46511627906976744, 0.5714285714285714, 0.6, 0.5853658536585366, 0.5952380952380952, 0.7804878048780488, 0.7441860465116279, 0.5737704918032787, 0.6842105263157895, 0.8181818181818182, 0.7021276595744681, 0.8444444444444444, 0.5476190476190477, 0.34146341463414637], \"y0\": \" \", \"yaxis\": \"y\"}, {\"alignmentgroup\": \"True\", \"hoverlabel\": {\"namelength\": 0}, \"hovertemplate\": \"Groups=%{x}<br>Percentage of Correctly answered questions by Groups=%{y}\", \"legendgroup\": \"Groups=Black\", \"marker\": {\"color\": \"black\"}, \"name\": \"Groups=Black\", \"notched\": false, \"offsetgroup\": \"Groups=Black\", \"orientation\": \"v\", \"showlegend\": true, \"type\": \"box\", \"x\": [\"Black\", \"Black\", \"Black\", \"Black\", \"Black\", \"Black\", \"Black\", \"Black\", \"Black\", \"Black\", \"Black\", \"Black\", \"Black\", \"Black\", \"Black\", \"Black\", \"Black\", \"Black\", \"Black\", \"Black\", \"Black\", \"Black\", \"Black\", \"Black\", \"Black\", \"Black\", \"Black\", \"Black\", \"Black\", \"Black\", \"Black\", \"Black\"], \"x0\": \" \", \"xaxis\": \"x\", \"y\": [0.5714285714285714, 0.5531914893617021, 0.65, 0.6415094339622641, 0.47619047619047616, 0.5116279069767442, 0.47619047619047616, 0.42, 0.6578947368421053, 0.4186046511627907, 0.6046511627906976, 0.4878048780487805, 0.3488372093023256, 0.3902439024390244, 0.525, 0.47619047619047616, 0.7647058823529411, 0.6, 0.6363636363636364, 0.625, 0.5952380952380952, 0.5535714285714286, 0.5192307692307693, 0.6428571428571429, 0.6041666666666666, 0.25, 0.725, 0.5121951219512195, 0.7, 0.42857142857142855, 0.5, 0.45], \"y0\": \" \", \"yaxis\": \"y\"}, {\"alignmentgroup\": \"True\", \"hoverlabel\": {\"namelength\": 0}, \"hovertemplate\": \"Groups=%{x}<br>Percentage of Correctly answered questions by Groups=%{y}\", \"legendgroup\": \"Groups=Yellow\", \"marker\": {\"color\": \"gold\"}, \"name\": \"Groups=Yellow\", \"notched\": false, \"offsetgroup\": \"Groups=Yellow\", \"orientation\": \"v\", \"showlegend\": true, \"type\": \"box\", \"x\": [\"Yellow\", \"Yellow\", \"Yellow\", \"Yellow\", \"Yellow\", \"Yellow\", \"Yellow\", \"Yellow\", \"Yellow\", \"Yellow\", \"Yellow\", \"Yellow\", \"Yellow\", \"Yellow\", \"Yellow\", \"Yellow\", \"Yellow\", \"Yellow\", \"Yellow\", \"Yellow\", \"Yellow\", \"Yellow\", \"Yellow\", \"Yellow\", \"Yellow\", \"Yellow\", \"Yellow\", \"Yellow\", \"Yellow\", \"Yellow\", \"Yellow\"], \"x0\": \" \", \"xaxis\": \"x\", \"y\": [0.45098039215686275, 0.4523809523809524, 0.6875, 0.6274509803921569, 0.43137254901960786, 0.6190476190476191, 0.6862745098039216, 0.475, 0.8837209302325582, 0.4897959183673469, 0.603448275862069, 0.425, 0.5185185185185185, 0.746268656716418, 0.6122448979591837, 0.7, 0.525, 0.6521739130434783, 0.45, 0.3902439024390244, 0.43902439024390244, 0.45, 0.6666666666666666, 0.6170212765957447, 0.35, 0.5, 0.4, 0.375, 0.4444444444444444, 0.3191489361702128, 0.6785714285714286], \"y0\": \" \", \"yaxis\": \"y\"}, {\"alignmentgroup\": \"True\", \"hoverlabel\": {\"namelength\": 0}, \"hovertemplate\": \"Groups=%{x}<br>Percentage of Correctly answered questions by Groups=%{y}\", \"legendgroup\": \"Groups=Purple\", \"marker\": {\"color\": \"mediumpurple\"}, \"name\": \"Groups=Purple\", \"notched\": false, \"offsetgroup\": \"Groups=Purple\", \"orientation\": \"v\", \"showlegend\": true, \"type\": \"box\", \"x\": [\"Purple\", \"Purple\", \"Purple\", \"Purple\", \"Purple\", \"Purple\", \"Purple\", \"Purple\", \"Purple\", \"Purple\", \"Purple\", \"Purple\", \"Purple\"], \"x0\": \" \", \"xaxis\": \"x\", \"y\": [0.625, 0.325, 0.62, 0.4146341463414634, 0.675, 0.3, 0.6, 0.4807692307692308, 0.5714285714285714, 0.4, 0.38095238095238093, 0.375, 0.4], \"y0\": \" \", \"yaxis\": \"y\"}],\n",
              "                        {\"boxmode\": \"group\", \"legend\": {\"tracegroupgap\": 0}, \"showlegend\": false, \"template\": {\"data\": {\"bar\": [{\"error_x\": {\"color\": \"#2a3f5f\"}, \"error_y\": {\"color\": \"#2a3f5f\"}, \"marker\": {\"line\": {\"color\": \"#E5ECF6\", \"width\": 0.5}}, \"type\": \"bar\"}], \"barpolar\": [{\"marker\": {\"line\": {\"color\": \"#E5ECF6\", \"width\": 0.5}}, \"type\": \"barpolar\"}], \"carpet\": [{\"aaxis\": {\"endlinecolor\": \"#2a3f5f\", \"gridcolor\": \"white\", \"linecolor\": \"white\", \"minorgridcolor\": \"white\", \"startlinecolor\": \"#2a3f5f\"}, \"baxis\": {\"endlinecolor\": \"#2a3f5f\", \"gridcolor\": \"white\", \"linecolor\": \"white\", \"minorgridcolor\": \"white\", \"startlinecolor\": \"#2a3f5f\"}, \"type\": \"carpet\"}], \"choropleth\": [{\"colorbar\": {\"outlinewidth\": 0, \"ticks\": \"\"}, \"type\": \"choropleth\"}], \"contour\": [{\"colorbar\": {\"outlinewidth\": 0, \"ticks\": \"\"}, \"colorscale\": [[0.0, \"#0d0887\"], [0.1111111111111111, \"#46039f\"], [0.2222222222222222, \"#7201a8\"], [0.3333333333333333, \"#9c179e\"], [0.4444444444444444, \"#bd3786\"], [0.5555555555555556, \"#d8576b\"], [0.6666666666666666, \"#ed7953\"], [0.7777777777777778, \"#fb9f3a\"], [0.8888888888888888, \"#fdca26\"], [1.0, \"#f0f921\"]], \"type\": \"contour\"}], \"contourcarpet\": [{\"colorbar\": {\"outlinewidth\": 0, \"ticks\": \"\"}, \"type\": \"contourcarpet\"}], \"heatmap\": [{\"colorbar\": {\"outlinewidth\": 0, \"ticks\": \"\"}, \"colorscale\": [[0.0, \"#0d0887\"], [0.1111111111111111, \"#46039f\"], [0.2222222222222222, \"#7201a8\"], [0.3333333333333333, \"#9c179e\"], [0.4444444444444444, \"#bd3786\"], [0.5555555555555556, \"#d8576b\"], [0.6666666666666666, \"#ed7953\"], [0.7777777777777778, \"#fb9f3a\"], [0.8888888888888888, \"#fdca26\"], [1.0, \"#f0f921\"]], \"type\": \"heatmap\"}], \"heatmapgl\": [{\"colorbar\": {\"outlinewidth\": 0, \"ticks\": \"\"}, \"colorscale\": [[0.0, \"#0d0887\"], [0.1111111111111111, \"#46039f\"], [0.2222222222222222, \"#7201a8\"], [0.3333333333333333, \"#9c179e\"], [0.4444444444444444, \"#bd3786\"], [0.5555555555555556, \"#d8576b\"], [0.6666666666666666, \"#ed7953\"], [0.7777777777777778, \"#fb9f3a\"], [0.8888888888888888, \"#fdca26\"], [1.0, \"#f0f921\"]], \"type\": \"heatmapgl\"}], \"histogram\": [{\"marker\": {\"colorbar\": {\"outlinewidth\": 0, \"ticks\": \"\"}}, \"type\": \"histogram\"}], \"histogram2d\": [{\"colorbar\": {\"outlinewidth\": 0, \"ticks\": \"\"}, \"colorscale\": [[0.0, \"#0d0887\"], [0.1111111111111111, \"#46039f\"], [0.2222222222222222, \"#7201a8\"], [0.3333333333333333, \"#9c179e\"], [0.4444444444444444, \"#bd3786\"], [0.5555555555555556, \"#d8576b\"], [0.6666666666666666, \"#ed7953\"], [0.7777777777777778, \"#fb9f3a\"], [0.8888888888888888, \"#fdca26\"], [1.0, \"#f0f921\"]], \"type\": \"histogram2d\"}], \"histogram2dcontour\": [{\"colorbar\": {\"outlinewidth\": 0, \"ticks\": \"\"}, \"colorscale\": [[0.0, \"#0d0887\"], [0.1111111111111111, \"#46039f\"], [0.2222222222222222, \"#7201a8\"], [0.3333333333333333, \"#9c179e\"], [0.4444444444444444, \"#bd3786\"], [0.5555555555555556, \"#d8576b\"], [0.6666666666666666, \"#ed7953\"], [0.7777777777777778, \"#fb9f3a\"], [0.8888888888888888, \"#fdca26\"], [1.0, \"#f0f921\"]], \"type\": \"histogram2dcontour\"}], \"mesh3d\": [{\"colorbar\": {\"outlinewidth\": 0, \"ticks\": \"\"}, \"type\": \"mesh3d\"}], \"parcoords\": [{\"line\": {\"colorbar\": {\"outlinewidth\": 0, \"ticks\": \"\"}}, \"type\": \"parcoords\"}], \"pie\": [{\"automargin\": true, \"type\": \"pie\"}], \"scatter\": [{\"marker\": {\"colorbar\": {\"outlinewidth\": 0, \"ticks\": \"\"}}, \"type\": \"scatter\"}], \"scatter3d\": [{\"line\": {\"colorbar\": {\"outlinewidth\": 0, \"ticks\": \"\"}}, \"marker\": {\"colorbar\": {\"outlinewidth\": 0, \"ticks\": \"\"}}, \"type\": \"scatter3d\"}], \"scattercarpet\": [{\"marker\": {\"colorbar\": {\"outlinewidth\": 0, \"ticks\": \"\"}}, \"type\": \"scattercarpet\"}], \"scattergeo\": [{\"marker\": {\"colorbar\": {\"outlinewidth\": 0, \"ticks\": \"\"}}, \"type\": \"scattergeo\"}], \"scattergl\": [{\"marker\": {\"colorbar\": {\"outlinewidth\": 0, \"ticks\": \"\"}}, \"type\": \"scattergl\"}], \"scattermapbox\": [{\"marker\": {\"colorbar\": {\"outlinewidth\": 0, \"ticks\": \"\"}}, \"type\": \"scattermapbox\"}], \"scatterpolar\": [{\"marker\": {\"colorbar\": {\"outlinewidth\": 0, \"ticks\": \"\"}}, \"type\": \"scatterpolar\"}], \"scatterpolargl\": [{\"marker\": {\"colorbar\": {\"outlinewidth\": 0, \"ticks\": \"\"}}, \"type\": \"scatterpolargl\"}], \"scatterternary\": [{\"marker\": {\"colorbar\": {\"outlinewidth\": 0, \"ticks\": \"\"}}, \"type\": \"scatterternary\"}], \"surface\": [{\"colorbar\": {\"outlinewidth\": 0, \"ticks\": \"\"}, \"colorscale\": [[0.0, \"#0d0887\"], [0.1111111111111111, \"#46039f\"], [0.2222222222222222, \"#7201a8\"], [0.3333333333333333, \"#9c179e\"], [0.4444444444444444, \"#bd3786\"], [0.5555555555555556, \"#d8576b\"], [0.6666666666666666, \"#ed7953\"], [0.7777777777777778, \"#fb9f3a\"], [0.8888888888888888, \"#fdca26\"], [1.0, \"#f0f921\"]], \"type\": \"surface\"}], \"table\": [{\"cells\": {\"fill\": {\"color\": \"#EBF0F8\"}, \"line\": {\"color\": \"white\"}}, \"header\": {\"fill\": {\"color\": \"#C8D4E3\"}, \"line\": {\"color\": \"white\"}}, \"type\": \"table\"}]}, \"layout\": {\"annotationdefaults\": {\"arrowcolor\": \"#2a3f5f\", \"arrowhead\": 0, \"arrowwidth\": 1}, \"coloraxis\": {\"colorbar\": {\"outlinewidth\": 0, \"ticks\": \"\"}}, \"colorscale\": {\"diverging\": [[0, \"#8e0152\"], [0.1, \"#c51b7d\"], [0.2, \"#de77ae\"], [0.3, \"#f1b6da\"], [0.4, \"#fde0ef\"], [0.5, \"#f7f7f7\"], [0.6, \"#e6f5d0\"], [0.7, \"#b8e186\"], [0.8, \"#7fbc41\"], [0.9, \"#4d9221\"], [1, \"#276419\"]], \"sequential\": [[0.0, \"#0d0887\"], [0.1111111111111111, \"#46039f\"], [0.2222222222222222, \"#7201a8\"], [0.3333333333333333, \"#9c179e\"], [0.4444444444444444, \"#bd3786\"], [0.5555555555555556, \"#d8576b\"], [0.6666666666666666, \"#ed7953\"], [0.7777777777777778, \"#fb9f3a\"], [0.8888888888888888, \"#fdca26\"], [1.0, \"#f0f921\"]], \"sequentialminus\": [[0.0, \"#0d0887\"], [0.1111111111111111, \"#46039f\"], [0.2222222222222222, \"#7201a8\"], [0.3333333333333333, \"#9c179e\"], [0.4444444444444444, \"#bd3786\"], [0.5555555555555556, \"#d8576b\"], [0.6666666666666666, \"#ed7953\"], [0.7777777777777778, \"#fb9f3a\"], [0.8888888888888888, \"#fdca26\"], [1.0, \"#f0f921\"]]}, \"colorway\": [\"#636efa\", \"#EF553B\", \"#00cc96\", \"#ab63fa\", \"#FFA15A\", \"#19d3f3\", \"#FF6692\", \"#B6E880\", \"#FF97FF\", \"#FECB52\"], \"font\": {\"color\": \"#2a3f5f\"}, \"geo\": {\"bgcolor\": \"white\", \"lakecolor\": \"white\", \"landcolor\": \"#E5ECF6\", \"showlakes\": true, \"showland\": true, \"subunitcolor\": \"white\"}, \"hoverlabel\": {\"align\": \"left\"}, \"hovermode\": \"closest\", \"mapbox\": {\"style\": \"light\"}, \"paper_bgcolor\": \"white\", \"plot_bgcolor\": \"#E5ECF6\", \"polar\": {\"angularaxis\": {\"gridcolor\": \"white\", \"linecolor\": \"white\", \"ticks\": \"\"}, \"bgcolor\": \"#E5ECF6\", \"radialaxis\": {\"gridcolor\": \"white\", \"linecolor\": \"white\", \"ticks\": \"\"}}, \"scene\": {\"xaxis\": {\"backgroundcolor\": \"#E5ECF6\", \"gridcolor\": \"white\", \"gridwidth\": 2, \"linecolor\": \"white\", \"showbackground\": true, \"ticks\": \"\", \"zerolinecolor\": \"white\"}, \"yaxis\": {\"backgroundcolor\": \"#E5ECF6\", \"gridcolor\": \"white\", \"gridwidth\": 2, \"linecolor\": \"white\", \"showbackground\": true, \"ticks\": \"\", \"zerolinecolor\": \"white\"}, \"zaxis\": {\"backgroundcolor\": \"#E5ECF6\", \"gridcolor\": \"white\", \"gridwidth\": 2, \"linecolor\": \"white\", \"showbackground\": true, \"ticks\": \"\", \"zerolinecolor\": \"white\"}}, \"shapedefaults\": {\"line\": {\"color\": \"#2a3f5f\"}}, \"ternary\": {\"aaxis\": {\"gridcolor\": \"white\", \"linecolor\": \"white\", \"ticks\": \"\"}, \"baxis\": {\"gridcolor\": \"white\", \"linecolor\": \"white\", \"ticks\": \"\"}, \"bgcolor\": \"#E5ECF6\", \"caxis\": {\"gridcolor\": \"white\", \"linecolor\": \"white\", \"ticks\": \"\"}}, \"title\": {\"x\": 0.05}, \"xaxis\": {\"automargin\": true, \"gridcolor\": \"white\", \"linecolor\": \"white\", \"ticks\": \"\", \"title\": {\"standoff\": 15}, \"zerolinecolor\": \"white\", \"zerolinewidth\": 2}, \"yaxis\": {\"automargin\": true, \"gridcolor\": \"white\", \"linecolor\": \"white\", \"ticks\": \"\", \"title\": {\"standoff\": 15}, \"zerolinecolor\": \"white\", \"zerolinewidth\": 2}}}, \"title\": {\"text\": \"Boxplots aggregated by Team\"}, \"xaxis\": {\"anchor\": \"y\", \"categoryarray\": [\"Blue\", \"Red\", \"Green\", \"Brown\", \"Pink\", \"White\", \"Black\", \"Yellow\", \"Purple\"], \"categoryorder\": \"array\", \"domain\": [0.0, 1.0], \"title\": {\"text\": \"Groups\"}}, \"yaxis\": {\"anchor\": \"x\", \"domain\": [0.0, 1.0], \"title\": {\"text\": \"Percentage of Correctly answered questions by Groups\"}}},\n",
              "                        {\"responsive\": true}\n",
              "                    ).then(function(){\n",
              "                            \n",
              "var gd = document.getElementById('2cc8b7f0-80fe-4525-9b1d-b830ecd69a30');\n",
              "var x = new MutationObserver(function (mutations, observer) {{\n",
              "        var display = window.getComputedStyle(gd).display;\n",
              "        if (!display || display === 'none') {{\n",
              "            console.log([gd, 'removed!']);\n",
              "            Plotly.purge(gd);\n",
              "            observer.disconnect();\n",
              "        }}\n",
              "}});\n",
              "\n",
              "// Listen for the removal of the full notebook cells\n",
              "var notebookContainer = gd.closest('#notebook-container');\n",
              "if (notebookContainer) {{\n",
              "    x.observe(notebookContainer, {childList: true});\n",
              "}}\n",
              "\n",
              "// Listen for the clearing of the current output cell\n",
              "var outputEl = gd.closest('.output');\n",
              "if (outputEl) {{\n",
              "    x.observe(outputEl, {childList: true});\n",
              "}}\n",
              "\n",
              "                        })\n",
              "                };\n",
              "                \n",
              "            </script>\n",
              "        </div>\n",
              "</body>\n",
              "</html>"
            ]
          },
          "metadata": {
            "tags": []
          }
        },
        {
          "output_type": "display_data",
          "data": {
            "text/html": [
              "<html>\n",
              "<head><meta charset=\"utf-8\" /></head>\n",
              "<body>\n",
              "    <div>\n",
              "            <script src=\"https://cdnjs.cloudflare.com/ajax/libs/mathjax/2.7.5/MathJax.js?config=TeX-AMS-MML_SVG\"></script><script type=\"text/javascript\">if (window.MathJax) {MathJax.Hub.Config({SVG: {font: \"STIX-Web\"}});}</script>\n",
              "                <script type=\"text/javascript\">window.PlotlyConfig = {MathJaxConfig: 'local'};</script>\n",
              "        <script src=\"https://cdn.plot.ly/plotly-latest.min.js\"></script>    \n",
              "            <div id=\"952d3168-8532-43d1-8997-3d8029d620d5\" class=\"plotly-graph-div\" style=\"height:525px; width:100%;\"></div>\n",
              "            <script type=\"text/javascript\">\n",
              "                \n",
              "                    window.PLOTLYENV=window.PLOTLYENV || {};\n",
              "                    \n",
              "                if (document.getElementById(\"952d3168-8532-43d1-8997-3d8029d620d5\")) {\n",
              "                    Plotly.newPlot(\n",
              "                        '952d3168-8532-43d1-8997-3d8029d620d5',\n",
              "                        [{\"alignmentgroup\": \"True\", \"hoverlabel\": {\"namelength\": 0}, \"hovertemplate\": \"Groups=%{x}<br>Number of Correctly answered questions by Groups (Students)=%{y}\", \"legendgroup\": \"Groups=Blue\", \"marker\": {\"color\": \"royalblue\"}, \"name\": \"Groups=Blue\", \"notched\": false, \"offsetgroup\": \"Groups=Blue\", \"orientation\": \"v\", \"showlegend\": true, \"type\": \"box\", \"x\": [\"Blue\", \"Blue\", \"Blue\", \"Blue\", \"Blue\", \"Blue\", \"Blue\", \"Blue\", \"Blue\", \"Blue\", \"Blue\", \"Blue\", \"Blue\", \"Blue\", \"Blue\", \"Blue\", \"Blue\", \"Blue\", \"Blue\", \"Blue\", \"Blue\", \"Blue\", \"Blue\", \"Blue\", \"Blue\", \"Blue\", \"Blue\", \"Blue\", \"Blue\"], \"x0\": \" \", \"xaxis\": \"x\", \"y\": [22, 33, 21, 55, 39, 32, 35, 52, 28, 42, 8, 13, 17, 29, 25, 14, 21, 13, 31, 19, 17, 20, 25, 32, 24, 41, 51, 20, 5], \"y0\": \" \", \"yaxis\": \"y\"}, {\"alignmentgroup\": \"True\", \"hoverlabel\": {\"namelength\": 0}, \"hovertemplate\": \"Groups=%{x}<br>Number of Correctly answered questions by Groups (Students)=%{y}\", \"legendgroup\": \"Groups=Red\", \"marker\": {\"color\": \"tomato\"}, \"name\": \"Groups=Red\", \"notched\": false, \"offsetgroup\": \"Groups=Red\", \"orientation\": \"v\", \"showlegend\": true, \"type\": \"box\", \"x\": [\"Red\", \"Red\", \"Red\", \"Red\", \"Red\", \"Red\", \"Red\", \"Red\", \"Red\", \"Red\", \"Red\", \"Red\", \"Red\", \"Red\", \"Red\", \"Red\", \"Red\", \"Red\", \"Red\", \"Red\", \"Red\", \"Red\", \"Red\", \"Red\", \"Red\", \"Red\", \"Red\", \"Red\", \"Red\", \"Red\", \"Red\", \"Red\", \"Red\", \"Red\", \"Red\", \"Red\"], \"x0\": \" \", \"xaxis\": \"x\", \"y\": [24, 15, 20, 18, 17, 15, 33, 21, 13, 23, 15, 28, 29, 19, 22, 25, 34, 33, 22, 21, 48, 54, 23, 21, 29, 20, 13, 22, 21, 23, 20, 22, 33, 20, 17, 22], \"y0\": \" \", \"yaxis\": \"y\"}, {\"alignmentgroup\": \"True\", \"hoverlabel\": {\"namelength\": 0}, \"hovertemplate\": \"Groups=%{x}<br>Number of Correctly answered questions by Groups (Students)=%{y}\", \"legendgroup\": \"Groups=Green\", \"marker\": {\"color\": \"mediumseagreen\"}, \"name\": \"Groups=Green\", \"notched\": false, \"offsetgroup\": \"Groups=Green\", \"orientation\": \"v\", \"showlegend\": true, \"type\": \"box\", \"x\": [\"Green\", \"Green\", \"Green\", \"Green\", \"Green\", \"Green\", \"Green\", \"Green\", \"Green\", \"Green\", \"Green\", \"Green\", \"Green\", \"Green\", \"Green\", \"Green\", \"Green\", \"Green\", \"Green\", \"Green\", \"Green\", \"Green\", \"Green\", \"Green\", \"Green\", \"Green\", \"Green\", \"Green\", \"Green\", \"Green\", \"Green\", \"Green\", \"Green\", \"Green\", \"Green\", \"Green\", \"Green\", \"Green\", \"Green\"], \"x0\": \" \", \"xaxis\": \"x\", \"y\": [36, 32, 25, 27, 23, 33, 23, 26, 21, 25, 24, 21, 42, 37, 21, 16, 22, 12, 23, 17, 19, 24, 25, 26, 20, 36, 22, 24, 30, 34, 24, 26, 37, 34, 24, 32, 25, 49, 17], \"y0\": \" \", \"yaxis\": \"y\"}, {\"alignmentgroup\": \"True\", \"hoverlabel\": {\"namelength\": 0}, \"hovertemplate\": \"Groups=%{x}<br>Number of Correctly answered questions by Groups (Students)=%{y}\", \"legendgroup\": \"Groups=Brown\", \"marker\": {\"color\": \"peru\"}, \"name\": \"Groups=Brown\", \"notched\": false, \"offsetgroup\": \"Groups=Brown\", \"orientation\": \"v\", \"showlegend\": true, \"type\": \"box\", \"x\": [\"Brown\", \"Brown\", \"Brown\", \"Brown\", \"Brown\", \"Brown\", \"Brown\", \"Brown\", \"Brown\", \"Brown\", \"Brown\", \"Brown\", \"Brown\", \"Brown\", \"Brown\", \"Brown\", \"Brown\", \"Brown\", \"Brown\", \"Brown\", \"Brown\", \"Brown\", \"Brown\", \"Brown\", \"Brown\", \"Brown\", \"Brown\", \"Brown\", \"Brown\", \"Brown\", \"Brown\", \"Brown\"], \"x0\": \" \", \"xaxis\": \"x\", \"y\": [13, 22, 13, 41, 21, 24, 12, 18, 28, 59, 29, 17, 18, 20, 20, 35, 23, 24, 31, 30, 15, 28, 13, 19, 17, 16, 24, 23, 24, 26, 16, 8], \"y0\": \" \", \"yaxis\": \"y\"}, {\"alignmentgroup\": \"True\", \"hoverlabel\": {\"namelength\": 0}, \"hovertemplate\": \"Groups=%{x}<br>Number of Correctly answered questions by Groups (Students)=%{y}\", \"legendgroup\": \"Groups=Pink\", \"marker\": {\"color\": \"hotpink\"}, \"name\": \"Groups=Pink\", \"notched\": false, \"offsetgroup\": \"Groups=Pink\", \"orientation\": \"v\", \"showlegend\": true, \"type\": \"box\", \"x\": [\"Pink\", \"Pink\", \"Pink\", \"Pink\", \"Pink\", \"Pink\", \"Pink\", \"Pink\", \"Pink\", \"Pink\", \"Pink\", \"Pink\", \"Pink\", \"Pink\", \"Pink\", \"Pink\", \"Pink\", \"Pink\", \"Pink\", \"Pink\", \"Pink\", \"Pink\", \"Pink\", \"Pink\", \"Pink\", \"Pink\", \"Pink\", \"Pink\", \"Pink\", \"Pink\", \"Pink\", \"Pink\", \"Pink\", \"Pink\", \"Pink\", \"Pink\", \"Pink\"], \"x0\": \" \", \"xaxis\": \"x\", \"y\": [11, 14, 22, 17, 22, 30, 28, 50, 20, 13, 19, 19, 58, 35, 24, 21, 12, 29, 37, 33, 34, 27, 34, 69, 47, 39, 73, 81, 16, 25, 15, 15, 30, 22, 25, 30, 15], \"y0\": \" \", \"yaxis\": \"y\"}, {\"alignmentgroup\": \"True\", \"hoverlabel\": {\"namelength\": 0}, \"hovertemplate\": \"Groups=%{x}<br>Number of Correctly answered questions by Groups (Students)=%{y}\", \"legendgroup\": \"Groups=White\", \"marker\": {\"color\": \"white\"}, \"name\": \"Groups=White\", \"notched\": false, \"offsetgroup\": \"Groups=White\", \"orientation\": \"v\", \"showlegend\": true, \"type\": \"box\", \"x\": [\"White\", \"White\", \"White\", \"White\", \"White\", \"White\", \"White\", \"White\", \"White\", \"White\", \"White\", \"White\", \"White\", \"White\", \"White\", \"White\", \"White\", \"White\", \"White\", \"White\", \"White\"], \"x0\": \" \", \"xaxis\": \"x\", \"y\": [32, 23, 36, 18, 30, 16, 25, 20, 28, 9, 24, 25, 32, 32, 35, 39, 36, 33, 38, 23, 14], \"y0\": \" \", \"yaxis\": \"y\"}, {\"alignmentgroup\": \"True\", \"hoverlabel\": {\"namelength\": 0}, \"hovertemplate\": \"Groups=%{x}<br>Number of Correctly answered questions by Groups (Students)=%{y}\", \"legendgroup\": \"Groups=Black\", \"marker\": {\"color\": \"black\"}, \"name\": \"Groups=Black\", \"notched\": false, \"offsetgroup\": \"Groups=Black\", \"orientation\": \"v\", \"showlegend\": true, \"type\": \"box\", \"x\": [\"Black\", \"Black\", \"Black\", \"Black\", \"Black\", \"Black\", \"Black\", \"Black\", \"Black\", \"Black\", \"Black\", \"Black\", \"Black\", \"Black\", \"Black\", \"Black\", \"Black\", \"Black\", \"Black\", \"Black\", \"Black\", \"Black\", \"Black\", \"Black\", \"Black\", \"Black\", \"Black\", \"Black\", \"Black\", \"Black\", \"Black\", \"Black\"], \"x0\": \" \", \"xaxis\": \"x\", \"y\": [24, 26, 26, 34, 20, 22, 20, 21, 50, 18, 26, 20, 15, 16, 21, 20, 39, 27, 28, 25, 25, 31, 27, 27, 29, 10, 29, 21, 28, 18, 20, 18], \"y0\": \" \", \"yaxis\": \"y\"}, {\"alignmentgroup\": \"True\", \"hoverlabel\": {\"namelength\": 0}, \"hovertemplate\": \"Groups=%{x}<br>Number of Correctly answered questions by Groups (Students)=%{y}\", \"legendgroup\": \"Groups=Yellow\", \"marker\": {\"color\": \"gold\"}, \"name\": \"Groups=Yellow\", \"notched\": false, \"offsetgroup\": \"Groups=Yellow\", \"orientation\": \"v\", \"showlegend\": true, \"type\": \"box\", \"x\": [\"Yellow\", \"Yellow\", \"Yellow\", \"Yellow\", \"Yellow\", \"Yellow\", \"Yellow\", \"Yellow\", \"Yellow\", \"Yellow\", \"Yellow\", \"Yellow\", \"Yellow\", \"Yellow\", \"Yellow\", \"Yellow\", \"Yellow\", \"Yellow\", \"Yellow\", \"Yellow\", \"Yellow\", \"Yellow\", \"Yellow\", \"Yellow\", \"Yellow\", \"Yellow\", \"Yellow\", \"Yellow\", \"Yellow\", \"Yellow\", \"Yellow\"], \"x0\": \" \", \"xaxis\": \"x\", \"y\": [23, 19, 33, 64, 22, 26, 35, 19, 38, 24, 35, 17, 28, 50, 30, 28, 21, 30, 18, 16, 18, 18, 34, 29, 14, 20, 16, 15, 20, 15, 57], \"y0\": \" \", \"yaxis\": \"y\"}, {\"alignmentgroup\": \"True\", \"hoverlabel\": {\"namelength\": 0}, \"hovertemplate\": \"Groups=%{x}<br>Number of Correctly answered questions by Groups (Students)=%{y}\", \"legendgroup\": \"Groups=Purple\", \"marker\": {\"color\": \"mediumpurple\"}, \"name\": \"Groups=Purple\", \"notched\": false, \"offsetgroup\": \"Groups=Purple\", \"orientation\": \"v\", \"showlegend\": true, \"type\": \"box\", \"x\": [\"Purple\", \"Purple\", \"Purple\", \"Purple\", \"Purple\", \"Purple\", \"Purple\", \"Purple\", \"Purple\", \"Purple\", \"Purple\", \"Purple\", \"Purple\"], \"x0\": \" \", \"xaxis\": \"x\", \"y\": [25, 13, 31, 17, 27, 12, 24, 25, 24, 16, 16, 15, 20], \"y0\": \" \", \"yaxis\": \"y\"}],\n",
              "                        {\"boxmode\": \"group\", \"legend\": {\"tracegroupgap\": 0}, \"margin\": {\"t\": 60}, \"showlegend\": false, \"template\": {\"data\": {\"bar\": [{\"error_x\": {\"color\": \"#2a3f5f\"}, \"error_y\": {\"color\": \"#2a3f5f\"}, \"marker\": {\"line\": {\"color\": \"#E5ECF6\", \"width\": 0.5}}, \"type\": \"bar\"}], \"barpolar\": [{\"marker\": {\"line\": {\"color\": \"#E5ECF6\", \"width\": 0.5}}, \"type\": \"barpolar\"}], \"carpet\": [{\"aaxis\": {\"endlinecolor\": \"#2a3f5f\", \"gridcolor\": \"white\", \"linecolor\": \"white\", \"minorgridcolor\": \"white\", \"startlinecolor\": \"#2a3f5f\"}, \"baxis\": {\"endlinecolor\": \"#2a3f5f\", \"gridcolor\": \"white\", \"linecolor\": \"white\", \"minorgridcolor\": \"white\", \"startlinecolor\": \"#2a3f5f\"}, \"type\": \"carpet\"}], \"choropleth\": [{\"colorbar\": {\"outlinewidth\": 0, \"ticks\": \"\"}, \"type\": \"choropleth\"}], \"contour\": [{\"colorbar\": {\"outlinewidth\": 0, \"ticks\": \"\"}, \"colorscale\": [[0.0, \"#0d0887\"], [0.1111111111111111, \"#46039f\"], [0.2222222222222222, \"#7201a8\"], [0.3333333333333333, \"#9c179e\"], [0.4444444444444444, \"#bd3786\"], [0.5555555555555556, \"#d8576b\"], [0.6666666666666666, \"#ed7953\"], [0.7777777777777778, \"#fb9f3a\"], [0.8888888888888888, \"#fdca26\"], [1.0, \"#f0f921\"]], \"type\": \"contour\"}], \"contourcarpet\": [{\"colorbar\": {\"outlinewidth\": 0, \"ticks\": \"\"}, \"type\": \"contourcarpet\"}], \"heatmap\": [{\"colorbar\": {\"outlinewidth\": 0, \"ticks\": \"\"}, \"colorscale\": [[0.0, \"#0d0887\"], [0.1111111111111111, \"#46039f\"], [0.2222222222222222, \"#7201a8\"], [0.3333333333333333, \"#9c179e\"], [0.4444444444444444, \"#bd3786\"], [0.5555555555555556, \"#d8576b\"], [0.6666666666666666, \"#ed7953\"], [0.7777777777777778, \"#fb9f3a\"], [0.8888888888888888, \"#fdca26\"], [1.0, \"#f0f921\"]], \"type\": \"heatmap\"}], \"heatmapgl\": [{\"colorbar\": {\"outlinewidth\": 0, \"ticks\": \"\"}, \"colorscale\": [[0.0, \"#0d0887\"], [0.1111111111111111, \"#46039f\"], [0.2222222222222222, \"#7201a8\"], [0.3333333333333333, \"#9c179e\"], [0.4444444444444444, \"#bd3786\"], [0.5555555555555556, \"#d8576b\"], [0.6666666666666666, \"#ed7953\"], [0.7777777777777778, \"#fb9f3a\"], [0.8888888888888888, \"#fdca26\"], [1.0, \"#f0f921\"]], \"type\": \"heatmapgl\"}], \"histogram\": [{\"marker\": {\"colorbar\": {\"outlinewidth\": 0, \"ticks\": \"\"}}, \"type\": \"histogram\"}], \"histogram2d\": [{\"colorbar\": {\"outlinewidth\": 0, \"ticks\": \"\"}, \"colorscale\": [[0.0, \"#0d0887\"], [0.1111111111111111, \"#46039f\"], [0.2222222222222222, \"#7201a8\"], [0.3333333333333333, \"#9c179e\"], [0.4444444444444444, \"#bd3786\"], [0.5555555555555556, \"#d8576b\"], [0.6666666666666666, \"#ed7953\"], [0.7777777777777778, \"#fb9f3a\"], [0.8888888888888888, \"#fdca26\"], [1.0, \"#f0f921\"]], \"type\": \"histogram2d\"}], \"histogram2dcontour\": [{\"colorbar\": {\"outlinewidth\": 0, \"ticks\": \"\"}, \"colorscale\": [[0.0, \"#0d0887\"], [0.1111111111111111, \"#46039f\"], [0.2222222222222222, \"#7201a8\"], [0.3333333333333333, \"#9c179e\"], [0.4444444444444444, \"#bd3786\"], [0.5555555555555556, \"#d8576b\"], [0.6666666666666666, \"#ed7953\"], [0.7777777777777778, \"#fb9f3a\"], [0.8888888888888888, \"#fdca26\"], [1.0, \"#f0f921\"]], \"type\": \"histogram2dcontour\"}], \"mesh3d\": [{\"colorbar\": {\"outlinewidth\": 0, \"ticks\": \"\"}, \"type\": \"mesh3d\"}], \"parcoords\": [{\"line\": {\"colorbar\": {\"outlinewidth\": 0, \"ticks\": \"\"}}, \"type\": \"parcoords\"}], \"pie\": [{\"automargin\": true, \"type\": \"pie\"}], \"scatter\": [{\"marker\": {\"colorbar\": {\"outlinewidth\": 0, \"ticks\": \"\"}}, \"type\": \"scatter\"}], \"scatter3d\": [{\"line\": {\"colorbar\": {\"outlinewidth\": 0, \"ticks\": \"\"}}, \"marker\": {\"colorbar\": {\"outlinewidth\": 0, \"ticks\": \"\"}}, \"type\": \"scatter3d\"}], \"scattercarpet\": [{\"marker\": {\"colorbar\": {\"outlinewidth\": 0, \"ticks\": \"\"}}, \"type\": \"scattercarpet\"}], \"scattergeo\": [{\"marker\": {\"colorbar\": {\"outlinewidth\": 0, \"ticks\": \"\"}}, \"type\": \"scattergeo\"}], \"scattergl\": [{\"marker\": {\"colorbar\": {\"outlinewidth\": 0, \"ticks\": \"\"}}, \"type\": \"scattergl\"}], \"scattermapbox\": [{\"marker\": {\"colorbar\": {\"outlinewidth\": 0, \"ticks\": \"\"}}, \"type\": \"scattermapbox\"}], \"scatterpolar\": [{\"marker\": {\"colorbar\": {\"outlinewidth\": 0, \"ticks\": \"\"}}, \"type\": \"scatterpolar\"}], \"scatterpolargl\": [{\"marker\": {\"colorbar\": {\"outlinewidth\": 0, \"ticks\": \"\"}}, \"type\": \"scatterpolargl\"}], \"scatterternary\": [{\"marker\": {\"colorbar\": {\"outlinewidth\": 0, \"ticks\": \"\"}}, \"type\": \"scatterternary\"}], \"surface\": [{\"colorbar\": {\"outlinewidth\": 0, \"ticks\": \"\"}, \"colorscale\": [[0.0, \"#0d0887\"], [0.1111111111111111, \"#46039f\"], [0.2222222222222222, \"#7201a8\"], [0.3333333333333333, \"#9c179e\"], [0.4444444444444444, \"#bd3786\"], [0.5555555555555556, \"#d8576b\"], [0.6666666666666666, \"#ed7953\"], [0.7777777777777778, \"#fb9f3a\"], [0.8888888888888888, \"#fdca26\"], [1.0, \"#f0f921\"]], \"type\": \"surface\"}], \"table\": [{\"cells\": {\"fill\": {\"color\": \"#EBF0F8\"}, \"line\": {\"color\": \"white\"}}, \"header\": {\"fill\": {\"color\": \"#C8D4E3\"}, \"line\": {\"color\": \"white\"}}, \"type\": \"table\"}]}, \"layout\": {\"annotationdefaults\": {\"arrowcolor\": \"#2a3f5f\", \"arrowhead\": 0, \"arrowwidth\": 1}, \"coloraxis\": {\"colorbar\": {\"outlinewidth\": 0, \"ticks\": \"\"}}, \"colorscale\": {\"diverging\": [[0, \"#8e0152\"], [0.1, \"#c51b7d\"], [0.2, \"#de77ae\"], [0.3, \"#f1b6da\"], [0.4, \"#fde0ef\"], [0.5, \"#f7f7f7\"], [0.6, \"#e6f5d0\"], [0.7, \"#b8e186\"], [0.8, \"#7fbc41\"], [0.9, \"#4d9221\"], [1, \"#276419\"]], \"sequential\": [[0.0, \"#0d0887\"], [0.1111111111111111, \"#46039f\"], [0.2222222222222222, \"#7201a8\"], [0.3333333333333333, \"#9c179e\"], [0.4444444444444444, \"#bd3786\"], [0.5555555555555556, \"#d8576b\"], [0.6666666666666666, \"#ed7953\"], [0.7777777777777778, \"#fb9f3a\"], [0.8888888888888888, \"#fdca26\"], [1.0, \"#f0f921\"]], \"sequentialminus\": [[0.0, \"#0d0887\"], [0.1111111111111111, \"#46039f\"], [0.2222222222222222, \"#7201a8\"], [0.3333333333333333, \"#9c179e\"], [0.4444444444444444, \"#bd3786\"], [0.5555555555555556, \"#d8576b\"], [0.6666666666666666, \"#ed7953\"], [0.7777777777777778, \"#fb9f3a\"], [0.8888888888888888, \"#fdca26\"], [1.0, \"#f0f921\"]]}, \"colorway\": [\"#636efa\", \"#EF553B\", \"#00cc96\", \"#ab63fa\", \"#FFA15A\", \"#19d3f3\", \"#FF6692\", \"#B6E880\", \"#FF97FF\", \"#FECB52\"], \"font\": {\"color\": \"#2a3f5f\"}, \"geo\": {\"bgcolor\": \"white\", \"lakecolor\": \"white\", \"landcolor\": \"#E5ECF6\", \"showlakes\": true, \"showland\": true, \"subunitcolor\": \"white\"}, \"hoverlabel\": {\"align\": \"left\"}, \"hovermode\": \"closest\", \"mapbox\": {\"style\": \"light\"}, \"paper_bgcolor\": \"white\", \"plot_bgcolor\": \"#E5ECF6\", \"polar\": {\"angularaxis\": {\"gridcolor\": \"white\", \"linecolor\": \"white\", \"ticks\": \"\"}, \"bgcolor\": \"#E5ECF6\", \"radialaxis\": {\"gridcolor\": \"white\", \"linecolor\": \"white\", \"ticks\": \"\"}}, \"scene\": {\"xaxis\": {\"backgroundcolor\": \"#E5ECF6\", \"gridcolor\": \"white\", \"gridwidth\": 2, \"linecolor\": \"white\", \"showbackground\": true, \"ticks\": \"\", \"zerolinecolor\": \"white\"}, \"yaxis\": {\"backgroundcolor\": \"#E5ECF6\", \"gridcolor\": \"white\", \"gridwidth\": 2, \"linecolor\": \"white\", \"showbackground\": true, \"ticks\": \"\", \"zerolinecolor\": \"white\"}, \"zaxis\": {\"backgroundcolor\": \"#E5ECF6\", \"gridcolor\": \"white\", \"gridwidth\": 2, \"linecolor\": \"white\", \"showbackground\": true, \"ticks\": \"\", \"zerolinecolor\": \"white\"}}, \"shapedefaults\": {\"line\": {\"color\": \"#2a3f5f\"}}, \"ternary\": {\"aaxis\": {\"gridcolor\": \"white\", \"linecolor\": \"white\", \"ticks\": \"\"}, \"baxis\": {\"gridcolor\": \"white\", \"linecolor\": \"white\", \"ticks\": \"\"}, \"bgcolor\": \"#E5ECF6\", \"caxis\": {\"gridcolor\": \"white\", \"linecolor\": \"white\", \"ticks\": \"\"}}, \"title\": {\"x\": 0.05}, \"xaxis\": {\"automargin\": true, \"gridcolor\": \"white\", \"linecolor\": \"white\", \"ticks\": \"\", \"title\": {\"standoff\": 15}, \"zerolinecolor\": \"white\", \"zerolinewidth\": 2}, \"yaxis\": {\"automargin\": true, \"gridcolor\": \"white\", \"linecolor\": \"white\", \"ticks\": \"\", \"title\": {\"standoff\": 15}, \"zerolinecolor\": \"white\", \"zerolinewidth\": 2}}}, \"xaxis\": {\"anchor\": \"y\", \"categoryarray\": [\"Blue\", \"Red\", \"Green\", \"Brown\", \"Pink\", \"White\", \"Black\", \"Yellow\", \"Purple\"], \"categoryorder\": \"array\", \"domain\": [0.0, 1.0], \"title\": {\"text\": \"Groups\"}}, \"yaxis\": {\"anchor\": \"x\", \"domain\": [0.0, 1.0], \"title\": {\"text\": \"Number of Correctly answered questions by Groups (Students)\"}}},\n",
              "                        {\"responsive\": true}\n",
              "                    ).then(function(){\n",
              "                            \n",
              "var gd = document.getElementById('952d3168-8532-43d1-8997-3d8029d620d5');\n",
              "var x = new MutationObserver(function (mutations, observer) {{\n",
              "        var display = window.getComputedStyle(gd).display;\n",
              "        if (!display || display === 'none') {{\n",
              "            console.log([gd, 'removed!']);\n",
              "            Plotly.purge(gd);\n",
              "            observer.disconnect();\n",
              "        }}\n",
              "}});\n",
              "\n",
              "// Listen for the removal of the full notebook cells\n",
              "var notebookContainer = gd.closest('#notebook-container');\n",
              "if (notebookContainer) {{\n",
              "    x.observe(notebookContainer, {childList: true});\n",
              "}}\n",
              "\n",
              "// Listen for the clearing of the current output cell\n",
              "var outputEl = gd.closest('.output');\n",
              "if (outputEl) {{\n",
              "    x.observe(outputEl, {childList: true});\n",
              "}}\n",
              "\n",
              "                        })\n",
              "                };\n",
              "                \n",
              "            </script>\n",
              "        </div>\n",
              "</body>\n",
              "</html>"
            ]
          },
          "metadata": {
            "tags": []
          }
        }
      ]
    },
    {
      "cell_type": "code",
      "metadata": {
        "id": "4bvXVxlWYn27",
        "outputId": "d5b44143-084c-4a68-aab3-f0cb750c8023",
        "colab": {
          "base_uri": "https://localhost:8080/",
          "height": 455
        }
      },
      "source": [
        "answers_team.hist('percent_correct', by='team')"
      ],
      "execution_count": 291,
      "outputs": [
        {
          "output_type": "execute_result",
          "data": {
            "text/plain": [
              "array([[<matplotlib.axes._subplots.AxesSubplot object at 0x7fbd2317eb70>,\n",
              "        <matplotlib.axes._subplots.AxesSubplot object at 0x7fbcf841a128>,\n",
              "        <matplotlib.axes._subplots.AxesSubplot object at 0x7fbcf83cc390>],\n",
              "       [<matplotlib.axes._subplots.AxesSubplot object at 0x7fbcf837b5f8>,\n",
              "        <matplotlib.axes._subplots.AxesSubplot object at 0x7fbcf83ab860>,\n",
              "        <matplotlib.axes._subplots.AxesSubplot object at 0x7fbcf835eac8>],\n",
              "       [<matplotlib.axes._subplots.AxesSubplot object at 0x7fbcf830fd30>,\n",
              "        <matplotlib.axes._subplots.AxesSubplot object at 0x7fbcf82c6f60>,\n",
              "        <matplotlib.axes._subplots.AxesSubplot object at 0x7fbcf82c6fd0>]],\n",
              "      dtype=object)"
            ]
          },
          "metadata": {
            "tags": []
          },
          "execution_count": 291
        },
        {
          "output_type": "display_data",
          "data": {
            "image/png": "[encoded data removed]",
            "text/plain": [
              "<Figure size 432x288 with 9 Axes>"
            ]
          },
          "metadata": {
            "tags": [],
            "needs_background": "light"
          }
        }
      ]
    },
    {
      "cell_type": "code",
      "metadata": {
        "id": "n4SBRiA8PQcm",
        "outputId": "c970f67c-e4c6-4627-ae1f-7c8b307847b5",
        "colab": {
          "base_uri": "https://localhost:8080/",
          "height": 542
        }
      },
      "source": [
        "gp_perc =px.histogram(answers_team, x = \"percent_correct\",facet_col='team',\n",
        "              #labels ={\"percent_correct\": \"Percentage of Correct Answers Given by a Student\"},\n",
        "             title= \"Distribution of the % of Correct Answers Given Within Groups\",\n",
        "             opacity=0.8, color = 'team', \n",
        "             color_discrete_map = {'Pink': 'hotpink','Green': 'mediumseagreen', 'Yellow': 'gold','Black': 'black','Blue': 'royalblue','Red': 'tomato', 'Brown': 'peru', 'White': 'white','Purple': 'mediumpurple'},\n",
        "             labels={\"team\": \"Team\"})\n",
        "gp_perc.update_layout(showlegend=False) "
      ],
      "execution_count": 292,
      "outputs": [
        {
          "output_type": "display_data",
          "data": {
            "text/html": [
              "<html>\n",
              "<head><meta charset=\"utf-8\" /></head>\n",
              "<body>\n",
              "    <div>\n",
              "            <script src=\"https://cdnjs.cloudflare.com/ajax/libs/mathjax/2.7.5/MathJax.js?config=TeX-AMS-MML_SVG\"></script><script type=\"text/javascript\">if (window.MathJax) {MathJax.Hub.Config({SVG: {font: \"STIX-Web\"}});}</script>\n",
              "                <script type=\"text/javascript\">window.PlotlyConfig = {MathJaxConfig: 'local'};</script>\n",
              "        <script src=\"https://cdn.plot.ly/plotly-latest.min.js\"></script>    \n",
              "            <div id=\"e3a52029-3aa0-4c8a-84c1-b0e8c0fbc520\" class=\"plotly-graph-div\" style=\"height:525px; width:100%;\"></div>\n",
              "            <script type=\"text/javascript\">\n",
              "                \n",
              "                    window.PLOTLYENV=window.PLOTLYENV || {};\n",
              "                    \n",
              "                if (document.getElementById(\"e3a52029-3aa0-4c8a-84c1-b0e8c0fbc520\")) {\n",
              "                    Plotly.newPlot(\n",
              "                        'e3a52029-3aa0-4c8a-84c1-b0e8c0fbc520',\n",
              "                        [{\"alignmentgroup\": \"True\", \"bingroup\": \"x\", \"hoverlabel\": {\"namelength\": 0}, \"hovertemplate\": \"Team=Blue<br>percent_correct=%{x}<br>count=%{y}\", \"legendgroup\": \"Team=Blue\", \"marker\": {\"color\": \"royalblue\", \"opacity\": 0.8}, \"name\": \"Team=Blue\", \"offsetgroup\": \"Team=Blue\", \"orientation\": \"v\", \"showlegend\": true, \"type\": \"histogram\", \"x\": [0.55, 0.7674418604651163, 0.5, 0.7236842105263158, 0.7358490566037735, 0.7111111111111111, 0.6862745098039216, 0.6842105263157895, 0.56, 0.65625, 0.4, 0.325, 0.425, 0.58, 0.6097560975609756, 0.3111111111111111, 0.5121951219512195, 0.29545454545454547, 0.775, 0.4523809523809524, 0.40476190476190477, 0.5, 0.49019607843137253, 0.5079365079365079, 0.6, 0.4880952380952381, 0.6071428571428571, 0.4444444444444444, 0.45454545454545453], \"xaxis\": \"x\", \"yaxis\": \"y\"}, {\"alignmentgroup\": \"True\", \"bingroup\": \"x\", \"hoverlabel\": {\"namelength\": 0}, \"hovertemplate\": \"Team=Red<br>percent_correct=%{x}<br>count=%{y}\", \"legendgroup\": \"Team=Red\", \"marker\": {\"color\": \"tomato\", \"opacity\": 0.8}, \"name\": \"Team=Red\", \"offsetgroup\": \"Team=Red\", \"orientation\": \"v\", \"showlegend\": true, \"type\": \"histogram\", \"x\": [0.6, 0.36585365853658536, 0.4878048780487805, 0.45, 0.38636363636363635, 0.375, 0.4342105263157895, 0.525, 0.3170731707317073, 0.5609756097560976, 0.35714285714285715, 0.6666666666666666, 0.7073170731707317, 0.4523809523809524, 0.5, 0.625, 0.6296296296296297, 0.55, 0.55, 0.5, 0.676056338028169, 0.75, 0.5476190476190477, 0.4375, 0.6041666666666666, 0.5, 0.325, 0.5365853658536586, 0.525, 0.5348837209302325, 0.38461538461538464, 0.44, 0.66, 0.47619047619047616, 0.3469387755102041, 0.5365853658536586], \"xaxis\": \"x2\", \"yaxis\": \"y2\"}, {\"alignmentgroup\": \"True\", \"bingroup\": \"x\", \"hoverlabel\": {\"namelength\": 0}, \"hovertemplate\": \"Team=Green<br>percent_correct=%{x}<br>count=%{y}\", \"legendgroup\": \"Team=Green\", \"marker\": {\"color\": \"mediumseagreen\", \"opacity\": 0.8}, \"name\": \"Team=Green\", \"offsetgroup\": \"Team=Green\", \"orientation\": \"v\", \"showlegend\": true, \"type\": \"histogram\", \"x\": [0.631578947368421, 0.7619047619047619, 0.4807692307692308, 0.6428571428571429, 0.5609756097560976, 0.717391304347826, 0.46, 0.6341463414634146, 0.4883720930232558, 0.5555555555555556, 0.6, 0.5121951219512195, 0.6774193548387096, 0.6271186440677966, 0.5121951219512195, 0.35555555555555557, 0.5238095238095238, 0.3, 0.5348837209302325, 0.425, 0.475, 0.46153846153846156, 0.5681818181818182, 0.6190476190476191, 0.5, 0.6206896551724138, 0.55, 0.5581395348837209, 0.7142857142857143, 0.4857142857142857, 0.5714285714285714, 0.5531914893617021, 0.8222222222222222, 0.53125, 0.5454545454545454, 0.5714285714285714, 0.5, 0.6447368421052632, 0.38636363636363635], \"xaxis\": \"x3\", \"yaxis\": \"y3\"}, {\"alignmentgroup\": \"True\", \"bingroup\": \"x\", \"hoverlabel\": {\"namelength\": 0}, \"hovertemplate\": \"Team=Brown<br>percent_correct=%{x}<br>count=%{y}\", \"legendgroup\": \"Team=Brown\", \"marker\": {\"color\": \"peru\", \"opacity\": 0.8}, \"name\": \"Team=Brown\", \"offsetgroup\": \"Team=Brown\", \"orientation\": \"v\", \"showlegend\": true, \"type\": \"histogram\", \"x\": [0.325, 0.55, 0.25, 0.82, 0.525, 0.5853658536585366, 0.2608695652173913, 0.45, 0.6511627906976745, 0.7763157894736842, 0.725, 0.4146341463414634, 0.42857142857142855, 0.5, 0.5, 0.5833333333333334, 0.41818181818181815, 0.5581395348837209, 0.775, 0.6382978723404256, 0.3409090909090909, 0.5957446808510638, 0.325, 0.38, 0.3953488372093023, 0.4, 0.42105263157894735, 0.5609756097560976, 0.5714285714285714, 0.5531914893617021, 0.4, 0.18181818181818182], \"xaxis\": \"x4\", \"yaxis\": \"y4\"}, {\"alignmentgroup\": \"True\", \"bingroup\": \"x\", \"hoverlabel\": {\"namelength\": 0}, \"hovertemplate\": \"Team=Pink<br>percent_correct=%{x}<br>count=%{y}\", \"legendgroup\": \"Team=Pink\", \"marker\": {\"color\": \"hotpink\", \"opacity\": 0.8}, \"name\": \"Team=Pink\", \"offsetgroup\": \"Team=Pink\", \"orientation\": \"v\", \"showlegend\": true, \"type\": \"histogram\", \"x\": [0.2558139534883721, 0.25925925925925924, 0.4, 0.40476190476190477, 0.55, 0.6818181818181818, 0.6511627906976745, 0.6578947368421053, 0.39215686274509803, 0.325, 0.4523809523809524, 0.3064516129032258, 0.5686274509803921, 0.660377358490566, 0.5714285714285714, 0.5121951219512195, 0.2926829268292683, 0.6904761904761905, 0.7872340425531915, 0.66, 0.68, 0.627906976744186, 0.6666666666666666, 0.8625, 0.6527777777777778, 0.582089552238806, 0.73, 0.81, 0.4, 0.625, 0.375, 0.375, 0.6382978723404256, 0.5365853658536586, 0.5681818181818182, 0.6, 0.375], \"xaxis\": \"x5\", \"yaxis\": \"y5\"}, {\"alignmentgroup\": \"True\", \"bingroup\": \"x\", \"hoverlabel\": {\"namelength\": 0}, \"hovertemplate\": \"Team=White<br>percent_correct=%{x}<br>count=%{y}\", \"legendgroup\": \"Team=White\", \"marker\": {\"color\": \"white\", \"opacity\": 0.8}, \"name\": \"Team=White\", \"offsetgroup\": \"Team=White\", \"orientation\": \"v\", \"showlegend\": true, \"type\": \"histogram\", \"x\": [0.7441860465116279, 0.5609756097560976, 0.6, 0.45, 0.7317073170731707, 0.37209302325581395, 0.6097560975609756, 0.46511627906976744, 0.5714285714285714, 0.6, 0.5853658536585366, 0.5952380952380952, 0.7804878048780488, 0.7441860465116279, 0.5737704918032787, 0.6842105263157895, 0.8181818181818182, 0.7021276595744681, 0.8444444444444444, 0.5476190476190477, 0.34146341463414637], \"xaxis\": \"x6\", \"yaxis\": \"y6\"}, {\"alignmentgroup\": \"True\", \"bingroup\": \"x\", \"hoverlabel\": {\"namelength\": 0}, \"hovertemplate\": \"Team=Black<br>percent_correct=%{x}<br>count=%{y}\", \"legendgroup\": \"Team=Black\", \"marker\": {\"color\": \"black\", \"opacity\": 0.8}, \"name\": \"Team=Black\", \"offsetgroup\": \"Team=Black\", \"orientation\": \"v\", \"showlegend\": true, \"type\": \"histogram\", \"x\": [0.5714285714285714, 0.5531914893617021, 0.65, 0.6415094339622641, 0.47619047619047616, 0.5116279069767442, 0.47619047619047616, 0.42, 0.6578947368421053, 0.4186046511627907, 0.6046511627906976, 0.4878048780487805, 0.3488372093023256, 0.3902439024390244, 0.525, 0.47619047619047616, 0.7647058823529411, 0.6, 0.6363636363636364, 0.625, 0.5952380952380952, 0.5535714285714286, 0.5192307692307693, 0.6428571428571429, 0.6041666666666666, 0.25, 0.725, 0.5121951219512195, 0.7, 0.42857142857142855, 0.5, 0.45], \"xaxis\": \"x7\", \"yaxis\": \"y7\"}, {\"alignmentgroup\": \"True\", \"bingroup\": \"x\", \"hoverlabel\": {\"namelength\": 0}, \"hovertemplate\": \"Team=Yellow<br>percent_correct=%{x}<br>count=%{y}\", \"legendgroup\": \"Team=Yellow\", \"marker\": {\"color\": \"gold\", \"opacity\": 0.8}, \"name\": \"Team=Yellow\", \"offsetgroup\": \"Team=Yellow\", \"orientation\": \"v\", \"showlegend\": true, \"type\": \"histogram\", \"x\": [0.45098039215686275, 0.4523809523809524, 0.6875, 0.6274509803921569, 0.43137254901960786, 0.6190476190476191, 0.6862745098039216, 0.475, 0.8837209302325582, 0.4897959183673469, 0.603448275862069, 0.425, 0.5185185185185185, 0.746268656716418, 0.6122448979591837, 0.7, 0.525, 0.6521739130434783, 0.45, 0.3902439024390244, 0.43902439024390244, 0.45, 0.6666666666666666, 0.6170212765957447, 0.35, 0.5, 0.4, 0.375, 0.4444444444444444, 0.3191489361702128, 0.6785714285714286], \"xaxis\": \"x8\", \"yaxis\": \"y8\"}, {\"alignmentgroup\": \"True\", \"bingroup\": \"x\", \"hoverlabel\": {\"namelength\": 0}, \"hovertemplate\": \"Team=Purple<br>percent_correct=%{x}<br>count=%{y}\", \"legendgroup\": \"Team=Purple\", \"marker\": {\"color\": \"mediumpurple\", \"opacity\": 0.8}, \"name\": \"Team=Purple\", \"offsetgroup\": \"Team=Purple\", \"orientation\": \"v\", \"showlegend\": true, \"type\": \"histogram\", \"x\": [0.625, 0.325, 0.62, 0.4146341463414634, 0.675, 0.3, 0.6, 0.4807692307692308, 0.5714285714285714, 0.4, 0.38095238095238093, 0.375, 0.4], \"xaxis\": \"x9\", \"yaxis\": \"y9\"}],\n",
              "                        {\"annotations\": [{\"font\": {}, \"showarrow\": false, \"text\": \"Team=Blue\", \"x\": 0.04666666666666666, \"xanchor\": \"center\", \"xref\": \"paper\", \"y\": 1.0, \"yanchor\": \"bottom\", \"yref\": \"paper\"}, {\"font\": {}, \"showarrow\": false, \"text\": \"Team=Red\", \"x\": 0.16, \"xanchor\": \"center\", \"xref\": \"paper\", \"y\": 1.0, \"yanchor\": \"bottom\", \"yref\": \"paper\"}, {\"font\": {}, \"showarrow\": false, \"text\": \"Team=Green\", \"x\": 0.2733333333333333, \"xanchor\": \"center\", \"xref\": \"paper\", \"y\": 1.0, \"yanchor\": \"bottom\", \"yref\": \"paper\"}, {\"font\": {}, \"showarrow\": false, \"text\": \"Team=Brown\", \"x\": 0.3866666666666666, \"xanchor\": \"center\", \"xref\": \"paper\", \"y\": 1.0, \"yanchor\": \"bottom\", \"yref\": \"paper\"}, {\"font\": {}, \"showarrow\": false, \"text\": \"Team=Pink\", \"x\": 0.5, \"xanchor\": \"center\", \"xref\": \"paper\", \"y\": 1.0, \"yanchor\": \"bottom\", \"yref\": \"paper\"}, {\"font\": {}, \"showarrow\": false, \"text\": \"Team=White\", \"x\": 0.6133333333333333, \"xanchor\": \"center\", \"xref\": \"paper\", \"y\": 1.0, \"yanchor\": \"bottom\", \"yref\": \"paper\"}, {\"font\": {}, \"showarrow\": false, \"text\": \"Team=Black\", \"x\": 0.7266666666666666, \"xanchor\": \"center\", \"xref\": \"paper\", \"y\": 1.0, \"yanchor\": \"bottom\", \"yref\": \"paper\"}, {\"font\": {}, \"showarrow\": false, \"text\": \"Team=Yellow\", \"x\": 0.8400000000000001, \"xanchor\": \"center\", \"xref\": \"paper\", \"y\": 1.0, \"yanchor\": \"bottom\", \"yref\": \"paper\"}, {\"font\": {}, \"showarrow\": false, \"text\": \"Team=Purple\", \"x\": 0.9533333333333334, \"xanchor\": \"center\", \"xref\": \"paper\", \"y\": 1.0, \"yanchor\": \"bottom\", \"yref\": \"paper\"}], \"barmode\": \"relative\", \"legend\": {\"tracegroupgap\": 0}, \"showlegend\": false, \"template\": {\"data\": {\"bar\": [{\"error_x\": {\"color\": \"#2a3f5f\"}, \"error_y\": {\"color\": \"#2a3f5f\"}, \"marker\": {\"line\": {\"color\": \"#E5ECF6\", \"width\": 0.5}}, \"type\": \"bar\"}], \"barpolar\": [{\"marker\": {\"line\": {\"color\": \"#E5ECF6\", \"width\": 0.5}}, \"type\": \"barpolar\"}], \"carpet\": [{\"aaxis\": {\"endlinecolor\": \"#2a3f5f\", \"gridcolor\": \"white\", \"linecolor\": \"white\", \"minorgridcolor\": \"white\", \"startlinecolor\": \"#2a3f5f\"}, \"baxis\": {\"endlinecolor\": \"#2a3f5f\", \"gridcolor\": \"white\", \"linecolor\": \"white\", \"minorgridcolor\": \"white\", \"startlinecolor\": \"#2a3f5f\"}, \"type\": \"carpet\"}], \"choropleth\": [{\"colorbar\": {\"outlinewidth\": 0, \"ticks\": \"\"}, \"type\": \"choropleth\"}], \"contour\": [{\"colorbar\": {\"outlinewidth\": 0, \"ticks\": \"\"}, \"colorscale\": [[0.0, \"#0d0887\"], [0.1111111111111111, \"#46039f\"], [0.2222222222222222, \"#7201a8\"], [0.3333333333333333, \"#9c179e\"], [0.4444444444444444, \"#bd3786\"], [0.5555555555555556, \"#d8576b\"], [0.6666666666666666, \"#ed7953\"], [0.7777777777777778, \"#fb9f3a\"], [0.8888888888888888, \"#fdca26\"], [1.0, \"#f0f921\"]], \"type\": \"contour\"}], \"contourcarpet\": [{\"colorbar\": {\"outlinewidth\": 0, \"ticks\": \"\"}, \"type\": \"contourcarpet\"}], \"heatmap\": [{\"colorbar\": {\"outlinewidth\": 0, \"ticks\": \"\"}, \"colorscale\": [[0.0, \"#0d0887\"], [0.1111111111111111, \"#46039f\"], [0.2222222222222222, \"#7201a8\"], [0.3333333333333333, \"#9c179e\"], [0.4444444444444444, \"#bd3786\"], [0.5555555555555556, \"#d8576b\"], [0.6666666666666666, \"#ed7953\"], [0.7777777777777778, \"#fb9f3a\"], [0.8888888888888888, \"#fdca26\"], [1.0, \"#f0f921\"]], \"type\": \"heatmap\"}], \"heatmapgl\": [{\"colorbar\": {\"outlinewidth\": 0, \"ticks\": \"\"}, \"colorscale\": [[0.0, \"#0d0887\"], [0.1111111111111111, \"#46039f\"], [0.2222222222222222, \"#7201a8\"], [0.3333333333333333, \"#9c179e\"], [0.4444444444444444, \"#bd3786\"], [0.5555555555555556, \"#d8576b\"], [0.6666666666666666, \"#ed7953\"], [0.7777777777777778, \"#fb9f3a\"], [0.8888888888888888, \"#fdca26\"], [1.0, \"#f0f921\"]], \"type\": \"heatmapgl\"}], \"histogram\": [{\"marker\": {\"colorbar\": {\"outlinewidth\": 0, \"ticks\": \"\"}}, \"type\": \"histogram\"}], \"histogram2d\": [{\"colorbar\": {\"outlinewidth\": 0, \"ticks\": \"\"}, \"colorscale\": [[0.0, \"#0d0887\"], [0.1111111111111111, \"#46039f\"], [0.2222222222222222, \"#7201a8\"], [0.3333333333333333, \"#9c179e\"], [0.4444444444444444, \"#bd3786\"], [0.5555555555555556, \"#d8576b\"], [0.6666666666666666, \"#ed7953\"], [0.7777777777777778, \"#fb9f3a\"], [0.8888888888888888, \"#fdca26\"], [1.0, \"#f0f921\"]], \"type\": \"histogram2d\"}], \"histogram2dcontour\": [{\"colorbar\": {\"outlinewidth\": 0, \"ticks\": \"\"}, \"colorscale\": [[0.0, \"#0d0887\"], [0.1111111111111111, \"#46039f\"], [0.2222222222222222, \"#7201a8\"], [0.3333333333333333, \"#9c179e\"], [0.4444444444444444, \"#bd3786\"], [0.5555555555555556, \"#d8576b\"], [0.6666666666666666, \"#ed7953\"], [0.7777777777777778, \"#fb9f3a\"], [0.8888888888888888, \"#fdca26\"], [1.0, \"#f0f921\"]], \"type\": \"histogram2dcontour\"}], \"mesh3d\": [{\"colorbar\": {\"outlinewidth\": 0, \"ticks\": \"\"}, \"type\": \"mesh3d\"}], \"parcoords\": [{\"line\": {\"colorbar\": {\"outlinewidth\": 0, \"ticks\": \"\"}}, \"type\": \"parcoords\"}], \"pie\": [{\"automargin\": true, \"type\": \"pie\"}], \"scatter\": [{\"marker\": {\"colorbar\": {\"outlinewidth\": 0, \"ticks\": \"\"}}, \"type\": \"scatter\"}], \"scatter3d\": [{\"line\": {\"colorbar\": {\"outlinewidth\": 0, \"ticks\": \"\"}}, \"marker\": {\"colorbar\": {\"outlinewidth\": 0, \"ticks\": \"\"}}, \"type\": \"scatter3d\"}], \"scattercarpet\": [{\"marker\": {\"colorbar\": {\"outlinewidth\": 0, \"ticks\": \"\"}}, \"type\": \"scattercarpet\"}], \"scattergeo\": [{\"marker\": {\"colorbar\": {\"outlinewidth\": 0, \"ticks\": \"\"}}, \"type\": \"scattergeo\"}], \"scattergl\": [{\"marker\": {\"colorbar\": {\"outlinewidth\": 0, \"ticks\": \"\"}}, \"type\": \"scattergl\"}], \"scattermapbox\": [{\"marker\": {\"colorbar\": {\"outlinewidth\": 0, \"ticks\": \"\"}}, \"type\": \"scattermapbox\"}], \"scatterpolar\": [{\"marker\": {\"colorbar\": {\"outlinewidth\": 0, \"ticks\": \"\"}}, \"type\": \"scatterpolar\"}], \"scatterpolargl\": [{\"marker\": {\"colorbar\": {\"outlinewidth\": 0, \"ticks\": \"\"}}, \"type\": \"scatterpolargl\"}], \"scatterternary\": [{\"marker\": {\"colorbar\": {\"outlinewidth\": 0, \"ticks\": \"\"}}, \"type\": \"scatterternary\"}], \"surface\": [{\"colorbar\": {\"outlinewidth\": 0, \"ticks\": \"\"}, \"colorscale\": [[0.0, \"#0d0887\"], [0.1111111111111111, \"#46039f\"], [0.2222222222222222, \"#7201a8\"], [0.3333333333333333, \"#9c179e\"], [0.4444444444444444, \"#bd3786\"], [0.5555555555555556, \"#d8576b\"], [0.6666666666666666, \"#ed7953\"], [0.7777777777777778, \"#fb9f3a\"], [0.8888888888888888, \"#fdca26\"], [1.0, \"#f0f921\"]], \"type\": \"surface\"}], \"table\": [{\"cells\": {\"fill\": {\"color\": \"#EBF0F8\"}, \"line\": {\"color\": \"white\"}}, \"header\": {\"fill\": {\"color\": \"#C8D4E3\"}, \"line\": {\"color\": \"white\"}}, \"type\": \"table\"}]}, \"layout\": {\"annotationdefaults\": {\"arrowcolor\": \"#2a3f5f\", \"arrowhead\": 0, \"arrowwidth\": 1}, \"coloraxis\": {\"colorbar\": {\"outlinewidth\": 0, \"ticks\": \"\"}}, \"colorscale\": {\"diverging\": [[0, \"#8e0152\"], [0.1, \"#c51b7d\"], [0.2, \"#de77ae\"], [0.3, \"#f1b6da\"], [0.4, \"#fde0ef\"], [0.5, \"#f7f7f7\"], [0.6, \"#e6f5d0\"], [0.7, \"#b8e186\"], [0.8, \"#7fbc41\"], [0.9, \"#4d9221\"], [1, \"#276419\"]], \"sequential\": [[0.0, \"#0d0887\"], [0.1111111111111111, \"#46039f\"], [0.2222222222222222, \"#7201a8\"], [0.3333333333333333, \"#9c179e\"], [0.4444444444444444, \"#bd3786\"], [0.5555555555555556, \"#d8576b\"], [0.6666666666666666, \"#ed7953\"], [0.7777777777777778, \"#fb9f3a\"], [0.8888888888888888, \"#fdca26\"], [1.0, \"#f0f921\"]], \"sequentialminus\": [[0.0, \"#0d0887\"], [0.1111111111111111, \"#46039f\"], [0.2222222222222222, \"#7201a8\"], [0.3333333333333333, \"#9c179e\"], [0.4444444444444444, \"#bd3786\"], [0.5555555555555556, \"#d8576b\"], [0.6666666666666666, \"#ed7953\"], [0.7777777777777778, \"#fb9f3a\"], [0.8888888888888888, \"#fdca26\"], [1.0, \"#f0f921\"]]}, \"colorway\": [\"#636efa\", \"#EF553B\", \"#00cc96\", \"#ab63fa\", \"#FFA15A\", \"#19d3f3\", \"#FF6692\", \"#B6E880\", \"#FF97FF\", \"#FECB52\"], \"font\": {\"color\": \"#2a3f5f\"}, \"geo\": {\"bgcolor\": \"white\", \"lakecolor\": \"white\", \"landcolor\": \"#E5ECF6\", \"showlakes\": true, \"showland\": true, \"subunitcolor\": \"white\"}, \"hoverlabel\": {\"align\": \"left\"}, \"hovermode\": \"closest\", \"mapbox\": {\"style\": \"light\"}, \"paper_bgcolor\": \"white\", \"plot_bgcolor\": \"#E5ECF6\", \"polar\": {\"angularaxis\": {\"gridcolor\": \"white\", \"linecolor\": \"white\", \"ticks\": \"\"}, \"bgcolor\": \"#E5ECF6\", \"radialaxis\": {\"gridcolor\": \"white\", \"linecolor\": \"white\", \"ticks\": \"\"}}, \"scene\": {\"xaxis\": {\"backgroundcolor\": \"#E5ECF6\", \"gridcolor\": \"white\", \"gridwidth\": 2, \"linecolor\": \"white\", \"showbackground\": true, \"ticks\": \"\", \"zerolinecolor\": \"white\"}, \"yaxis\": {\"backgroundcolor\": \"#E5ECF6\", \"gridcolor\": \"white\", \"gridwidth\": 2, \"linecolor\": \"white\", \"showbackground\": true, \"ticks\": \"\", \"zerolinecolor\": \"white\"}, \"zaxis\": {\"backgroundcolor\": \"#E5ECF6\", \"gridcolor\": \"white\", \"gridwidth\": 2, \"linecolor\": \"white\", \"showbackground\": true, \"ticks\": \"\", \"zerolinecolor\": \"white\"}}, \"shapedefaults\": {\"line\": {\"color\": \"#2a3f5f\"}}, \"ternary\": {\"aaxis\": {\"gridcolor\": \"white\", \"linecolor\": \"white\", \"ticks\": \"\"}, \"baxis\": {\"gridcolor\": \"white\", \"linecolor\": \"white\", \"ticks\": \"\"}, \"bgcolor\": \"#E5ECF6\", \"caxis\": {\"gridcolor\": \"white\", \"linecolor\": \"white\", \"ticks\": \"\"}}, \"title\": {\"x\": 0.05}, \"xaxis\": {\"automargin\": true, \"gridcolor\": \"white\", \"linecolor\": \"white\", \"ticks\": \"\", \"title\": {\"standoff\": 15}, \"zerolinecolor\": \"white\", \"zerolinewidth\": 2}, \"yaxis\": {\"automargin\": true, \"gridcolor\": \"white\", \"linecolor\": \"white\", \"ticks\": \"\", \"title\": {\"standoff\": 15}, \"zerolinecolor\": \"white\", \"zerolinewidth\": 2}}}, \"title\": {\"text\": \"Distribution of the % of Correct Answers Given Within Groups\"}, \"xaxis\": {\"anchor\": \"y\", \"domain\": [0.0, 0.09333333333333332], \"title\": {\"text\": \"percent_correct\"}}, \"xaxis2\": {\"anchor\": \"y2\", \"domain\": [0.11333333333333333, 0.20666666666666667], \"matches\": \"x\", \"title\": {\"text\": \"percent_correct\"}}, \"xaxis3\": {\"anchor\": \"y3\", \"domain\": [0.22666666666666666, 0.31999999999999995], \"matches\": \"x\", \"title\": {\"text\": \"percent_correct\"}}, \"xaxis4\": {\"anchor\": \"y4\", \"domain\": [0.33999999999999997, 0.4333333333333333], \"matches\": \"x\", \"title\": {\"text\": \"percent_correct\"}}, \"xaxis5\": {\"anchor\": \"y5\", \"domain\": [0.4533333333333333, 0.5466666666666666], \"matches\": \"x\", \"title\": {\"text\": \"percent_correct\"}}, \"xaxis6\": {\"anchor\": \"y6\", \"domain\": [0.5666666666666667, 0.6599999999999999], \"matches\": \"x\", \"title\": {\"text\": \"percent_correct\"}}, \"xaxis7\": {\"anchor\": \"y7\", \"domain\": [0.6799999999999999, 0.7733333333333332], \"matches\": \"x\", \"title\": {\"text\": \"percent_correct\"}}, \"xaxis8\": {\"anchor\": \"y8\", \"domain\": [0.7933333333333333, 0.8866666666666667], \"matches\": \"x\", \"title\": {\"text\": \"percent_correct\"}}, \"xaxis9\": {\"anchor\": \"y9\", \"domain\": [0.9066666666666666, 1.0], \"matches\": \"x\", \"title\": {\"text\": \"percent_correct\"}}, \"yaxis\": {\"anchor\": \"x\", \"domain\": [0.0, 1.0], \"title\": {\"text\": \"count\"}}, \"yaxis2\": {\"anchor\": \"x2\", \"domain\": [0.0, 1.0], \"matches\": \"y\", \"showticklabels\": false}, \"yaxis3\": {\"anchor\": \"x3\", \"domain\": [0.0, 1.0], \"matches\": \"y\", \"showticklabels\": false}, \"yaxis4\": {\"anchor\": \"x4\", \"domain\": [0.0, 1.0], \"matches\": \"y\", \"showticklabels\": false}, \"yaxis5\": {\"anchor\": \"x5\", \"domain\": [0.0, 1.0], \"matches\": \"y\", \"showticklabels\": false}, \"yaxis6\": {\"anchor\": \"x6\", \"domain\": [0.0, 1.0], \"matches\": \"y\", \"showticklabels\": false}, \"yaxis7\": {\"anchor\": \"x7\", \"domain\": [0.0, 1.0], \"matches\": \"y\", \"showticklabels\": false}, \"yaxis8\": {\"anchor\": \"x8\", \"domain\": [0.0, 1.0], \"matches\": \"y\", \"showticklabels\": false}, \"yaxis9\": {\"anchor\": \"x9\", \"domain\": [0.0, 1.0], \"matches\": \"y\", \"showticklabels\": false}},\n",
              "                        {\"responsive\": true}\n",
              "                    ).then(function(){\n",
              "                            \n",
              "var gd = document.getElementById('e3a52029-3aa0-4c8a-84c1-b0e8c0fbc520');\n",
              "var x = new MutationObserver(function (mutations, observer) {{\n",
              "        var display = window.getComputedStyle(gd).display;\n",
              "        if (!display || display === 'none') {{\n",
              "            console.log([gd, 'removed!']);\n",
              "            Plotly.purge(gd);\n",
              "            observer.disconnect();\n",
              "        }}\n",
              "}});\n",
              "\n",
              "// Listen for the removal of the full notebook cells\n",
              "var notebookContainer = gd.closest('#notebook-container');\n",
              "if (notebookContainer) {{\n",
              "    x.observe(notebookContainer, {childList: true});\n",
              "}}\n",
              "\n",
              "// Listen for the clearing of the current output cell\n",
              "var outputEl = gd.closest('.output');\n",
              "if (outputEl) {{\n",
              "    x.observe(outputEl, {childList: true});\n",
              "}}\n",
              "\n",
              "                        })\n",
              "                };\n",
              "                \n",
              "            </script>\n",
              "        </div>\n",
              "</body>\n",
              "</html>"
            ]
          },
          "metadata": {
            "tags": []
          }
        }
      ]
    },
    {
      "cell_type": "markdown",
      "metadata": {
        "id": "AOpUe9d_Yqgr"
      },
      "source": [
        "- The teams are not too different from one another in distribution either,\n",
        "- White team is definitely made up of the best performers on average though, with a min higher than all other groups, and a median higher than all other groups"
      ]
    },
    {
      "cell_type": "markdown",
      "metadata": {
        "id": "UdgbCa4wYs-v"
      },
      "source": [
        "### Investigating time\n",
        "- We'll now investigate the time it took each student to answer a question and will use that as an indicator of 'motivation'\n",
        "- First, we need to get a deadline by joining with the Courses data from Cycle 3"
      ]
    },
    {
      "cell_type": "code",
      "metadata": {
        "id": "jsFrQ2hzYuNE"
      },
      "source": [
        "c3courses_selected = c3courses[['CourseID', 'StartDate', 'DeadlineAnswer']]\n",
        "c3courses_selected = c3courses_selected.rename(columns={'CourseID' : 'course_id', 'StartDate' : 'start_date', 'DeadlineAnswer' : 'answer_deadline'})\n",
        "qs_with_deadline = qs_selected.merge(c3courses_selected, on='course_id')\n",
        "\n",
        "qs_with_deadline.head()"
      ],
      "execution_count": null,
      "outputs": []
    },
    {
      "cell_type": "markdown",
      "metadata": {
        "id": "5Pn_ycMzYxJr"
      },
      "source": [
        "### Merging questions with deadline to answers\n",
        "- We've joined to the answer deadline\n",
        "- Now we need to join the questions with a deadline to their answers like we did previously"
      ]
    },
    {
      "cell_type": "code",
      "metadata": {
        "id": "r1J-2S5GYyfM"
      },
      "source": [
        "q_and_a_deadline = ans_selected.merge(qs_with_deadline[['question_id', 'correct_answer', 'start_date', 'answer_deadline']], on='question_id')\n",
        "q_and_a_deadline = q_and_a_deadline.astype({'answer_time' : 'datetime64'})\n",
        "q_and_a_deadline.head()"
      ],
      "execution_count": null,
      "outputs": []
    },
    {
      "cell_type": "markdown",
      "metadata": {
        "id": "dQ_o11UaY0P4"
      },
      "source": [
        "- We now have a dataframe with an answer on each row, with the task start date, as well as the answer deadline and time\n",
        "- Let's analyze the time data by:\n",
        "    - Creating a new column for storing the time before the due date a question was answered\n",
        "    - Creating a column to indicate if a question was answered late"
      ]
    },
    {
      "cell_type": "code",
      "metadata": {
        "id": "tOwMzwUdY1ks"
      },
      "source": [
        "q_and_a_deadline['time_delta'] = q_and_a_deadline['answer_deadline'] - q_and_a_deadline['answer_time']  # 'Time difference between due date and answer time' column\n",
        "q_and_a_deadline['late'] = q_and_a_deadline['time_delta'].dt.days < 0                                   # 'Answer was posted late' column\n",
        "q_and_a_deadline\n",
        "#q_and_a_deadline['time_delta'].dt.days.plot.hist() # Plot days before due date"
      ],
      "execution_count": null,
      "outputs": []
    },
    {
      "cell_type": "code",
      "metadata": {
        "id": "-YoAwPlgSznE",
        "outputId": "4aea2b01-1cb8-4233-ab2e-e5821a20d61a",
        "colab": {
          "base_uri": "https://localhost:8080/",
          "height": 542
        }
      },
      "source": [
        "px.histogram(q_and_a_deadline, x = pd.to_timedelta(q_and_a_deadline['time_delta'],unit='d'),\n",
        "              labels ={'time_delta': \"Days Before Due Date\"},\n",
        "             title= \"Distribution of Questions Submitted before the Due Date \",\n",
        "              opacity=0.8, color_discrete_sequence=['green'])"
      ],
      "execution_count": 297,
      "outputs": [
        {
          "output_type": "display_data",
          "data": {
            "text/html": [
              "<html>\n",
              "<head><meta charset=\"utf-8\" /></head>\n",
              "<body>\n",
              "    <div>\n",
              "            <script src=\"https://cdnjs.cloudflare.com/ajax/libs/mathjax/2.7.5/MathJax.js?config=TeX-AMS-MML_SVG\"></script><script type=\"text/javascript\">if (window.MathJax) {MathJax.Hub.Config({SVG: {font: \"STIX-Web\"}});}</script>\n",
              "                <script type=\"text/javascript\">window.PlotlyConfig = {MathJaxConfig: 'local'};</script>\n",
              "        <script src=\"https://cdn.plot.ly/plotly-latest.min.js\"></script>    \n",
              "            <div id=\"e74a3ebc-a102-4318-b28c-3a0c88aaf4b6\" class=\"plotly-graph-div\" style=\"height:525px; width:100%;\"></div>\n",
              "            <script type=\"text/javascript\">\n",
              "                \n",
              "                    window.PLOTLYENV=window.PLOTLYENV || {};\n",
              "                    \n",
              "                if (document.getElementById(\"e74a3ebc-a102-4318-b28c-3a0c88aaf4b6\")) {\n",
              "                    Plotly.newPlot(\n",
              "                        'e74a3ebc-a102-4318-b28c-3a0c88aaf4b6',\n",
              "                        [{\"alignmentgroup\": \"True\", \"bingroup\": \"x\", \"hoverlabel\": {\"namelength\": 0}, \"hovertemplate\": \"x=%{x}<br>count=%{y}\", \"legendgroup\": \"\", \"marker\": {\"color\": \"green\", \"opacity\": 0.8}, \"name\": \"\", \"offsetgroup\": \"\", \"orientation\": \"v\", \"showlegend\": false, \"type\": \"histogram\", \"x\": [1125323000000000, 1122628000000000, 1115828000000000, 1088739000000000, 1073064000000000, 1067909000000000, 1058757000000000, 983172000000000, 981141000000000, 964064000000000, 946861000000000, 922905000000000, 915890000000000, 910064000000000, 894916000000000, 813756000000000, 807317000000000, 804896000000000, 794971000000000, 791527000000000, 787107000000000, 771480000000000, 760810000000000, 717519000000000, 713220000000000, 706768000000000, 627340000000000, 618293000000000, 613290000000000, 612050000000000, 609476000000000, 606601000000000, 547028000000000, 536057000000000, 453869000000000, 386169000000000, 385066000000000, 382015000000000, 375897000000000, 363087000000000, 304691000000000, 285273000000000, 250434000000000, 203264000000000, 197988000000000, 196900000000000, 180130000000000, 115621000000000, 90128000000000, 89216000000000, 88756000000000, 78371000000000, 45851000000000, 45778000000000, 39525000000000, 37502000000000, 14419000000000, 233000000000, 1125130000000000, 1088580000000000, 1081070000000000, 1070762000000000, 1063034000000000, 1059012000000000, 964983000000000, 946337000000000, 921054000000000, 909205000000000, 882830000000000, 863340000000000, 820242000000000, 806879000000000, 804848000000000, 793745000000000, 791540000000000, 786990000000000, 771423000000000, 725716000000000, 706774000000000, 705506000000000, 701903000000000, 626846000000000, 618458000000000, 613875000000000, 609557000000000, 607291000000000, 606916000000000, 524529000000000, 384765000000000, 374487000000000, 361499000000000, 304216000000000, 290117000000000, 282899000000000, 251692000000000, 195575000000000, 179819000000000, 117674000000000, 92164000000000, 88994000000000, 88549000000000, 87908000000000, 84125000000000, 75533000000000, 44837000000000, 42785000000000, 37369000000000, 14517000000000, 9109000000000, -1866000000000, -60467000000000, 1124881000000000, 1073964000000000, 1071843000000000, 983051000000000, 921589000000000, 915831000000000, 909907000000000, 876951000000000, 860868000000000, 806701000000000, 804711000000000, 786341000000000, 780720000000000, 771008000000000, 719662000000000, 718729000000000, 706408000000000, 701707000000000, 629163000000000, 623027000000000, 619720000000000, 615991000000000, 608293000000000, 607737000000000, 524376000000000, 384388000000000, 372547000000000, 362921000000000, 344854000000000, 304847000000000, 256412000000000, 251781000000000, 193775000000000, 179561000000000, 98644000000000, 88863000000000, 87712000000000, 85448000000000, 83533000000000, 77716000000000, 44246000000000, 39222000000000, 37325000000000, 36897000000000, 14168000000000, -3288000000000, -60107000000000, 1124758000000000, 1088492000000000, 1069523000000000, 982898000000000, 921459000000000, 913306000000000, 909659000000000, 877740000000000, 819659000000000, 804568000000000, 801343000000000, 801242000000000, 792298000000000, 786751000000000, 770974000000000, 769676000000000, 712386000000000, 705339000000000, 701605000000000, 636936000000000, 620893000000000, 619240000000000, 615007000000000, 608726000000000, 606820000000000, 593153000000000, 535889000000000, 384327000000000, 374373000000000, 348636000000000, 343581000000000, 303536000000000, 293879000000000, 192442000000000, 178998000000000, 170229000000000, 116408000000000, 88657000000000, 85080000000000, 79688000000000, 76809000000000, 44471000000000, 37278000000000, 34598000000000, 8614000000000, -2785000000000, -60163000000000, 1124393000000000, 1123740000000000, 1088353000000000, 1072645000000000, 1062292000000000, 1060495000000000, 1054532000000000, 982165000000000, 945338000000000, 921348000000000, 914087000000000, 877827000000000, 861168000000000, 860802000000000, 807019000000000, 801785000000000, 800330000000000, 793050000000000, 768836000000000, 713404000000000, 706226000000000, 701550000000000, 634836000000000, 618867000000000, 618398000000000, 613673000000000, 607715000000000, 537303000000000, 515167000000000, 453525000000000, 384145000000000, 377817000000000, 356459000000000, 346748000000000, 248584000000000, 195302000000000, 178374000000000, 88425000000000, 78968000000000, 77345000000000, 40978000000000, 37235000000000, 10169000000000, -1519000000000, -59784000000000, 1122429000000000, 1116363000000000, 1088257000000000, 1065470000000000, 1060852000000000, 1035974000000000, 914162000000000, 897084000000000, 881484000000000, 876745000000000, 862947000000000, 806042000000000, 803964000000000, 799844000000000, 794559000000000, 787415000000000, 771179000000000, 753930000000000, 716844000000000, 706896000000000, 700773000000000, 698403000000000, 685606000000000, 618757000000000, 618139000000000, 613545000000000, 608287000000000, 606777000000000, 523986000000000, 521647000000000, 453289000000000, 385789000000000, 384046000000000, 374009000000000, 360421000000000, 250639000000000, 195787000000000, 134483000000000, 117510000000000, 112519000000000, 97636000000000, 88174000000000, 86434000000000, 79171000000000, 70015000000000, 41328000000000, 37099000000000, 21082000000000, 7881000000000, 4771000000000, -60334000000000, 1120443000000000, 1073427000000000, 973666000000000, 964595000000000, 904107000000000, 882247000000000, 819074000000000, 810574000000000, 800260000000000, 799581000000000, 793949000000000, 785800000000000, 771132000000000, 705677000000000, 698272000000000, 625135000000000, 624302000000000, 616787000000000, 549421000000000, 458937000000000, 376935000000000, 349409000000000, 284648000000000, 251202000000000, 42332000000000, 34428000000000, 13249000000000, -1359000000000, -55073000000000, 1120407000000000, 1074113000000000, 1061227000000000, 921187000000000, 914820000000000, 880522000000000, 877595000000000, 862436000000000, 810587000000000, 801288000000000, 799452000000000, 791138000000000, 770823000000000, 706946000000000, 706543000000000, 701360000000000, 627668000000000, 622978000000000, 618031000000000, 607217000000000, 548225000000000, 536010000000000, 459118000000000, 360101000000000, 292337000000000, 167514000000000, 117480000000000, 115106000000000, 87822000000000, 44311000000000, 12580000000000, -54864000000000, 1118178000000000, 1064839000000000, 1064323000000000, 1058100000000000, 945546000000000, 920633000000000, 915056000000000, 876686000000000, 862042000000000, 805553000000000, 799504000000000, 795560000000000, 792462000000000, 789686000000000, 706340000000000, 698894000000000, 684576000000000, 622927000000000, 549532000000000, 537903000000000, 458506000000000, 385559000000000, 362675000000000, 348428000000000, 293057000000000, 255540000000000, 192272000000000, 174027000000000, 116940000000000, 112066000000000, 88218000000000, 87436000000000, 46472000000000, 18185000000000, 12744000000000, -306000000000, -54965000000000, 1118110000000000, 1065791000000000, 1063196000000000, 1058250000000000, 879614000000000, 874842000000000, 818772000000000, 798967000000000, 794452000000000, 789558000000000, 782104000000000, 712296000000000, 706707000000000, 698530000000000, 626310000000000, 622770000000000, 604755000000000, 549828000000000, 459771000000000, 348569000000000, 288806000000000, 255667000000000, 203915000000000, 173717000000000, 114641000000000, 88593000000000, 78108000000000, 44125000000000, 36603000000000, 10599000000000, -1652000000000, -54141000000000, 1118041000000000, 1065108000000000, 1061595000000000, 914571000000000, 874369000000000, 862165000000000, 804426000000000, 799396000000000, 798163000000000, 787309000000000, 771163000000000, 706316000000000, 698380000000000, 629624000000000, 625787000000000, 595045000000000, 462791000000000, 385381000000000, 377903000000000, 372609000000000, 362025000000000, 347657000000000, 251627000000000, 167631000000000, 113798000000000, 78302000000000, 46032000000000, 35194000000000, 12481000000000, 1769000000000, -54736000000000, 1117849000000000, 1067239000000000, 973726000000000, 915333000000000, 903955000000000, 872248000000000, 799585000000000, 799013000000000, 794378000000000, 785737000000000, 718287000000000, 717100000000000, 700139000000000, 634470000000000, 627142000000000, 621183000000000, 594576000000000, 516385000000000, 459700000000000, 385073000000000, 348376000000000, 284274000000000, 250583000000000, 203046000000000, 193298000000000, 170949000000000, 169757000000000, 112419000000000, 42928000000000, 36433000000000, 11194000000000, -54567000000000, 1117749000000000, 1072866000000000, 1064403000000000, 973383000000000, 921232000000000, 882648000000000, 820132000000000, 819605000000000, 810351000000000, 802071000000000, 800397000000000, 798961000000000, 717733000000000, 634528000000000, 623891000000000, 595091000000000, 515454000000000, 460460000000000, 377756000000000, 373193000000000, 346792000000000, 250331000000000, 194559000000000, 79128000000000, 36398000000000, 11821000000000, -54530000000000, 1117688000000000, 1063389000000000, 999717000000000, 921952000000000, 909227000000000, 861385000000000, 820051000000000, 801601000000000, 794164000000000, 791713000000000, 785562000000000, 781706000000000, 718000000000000, 716663000000000, 704479000000000, 699510000000000, 684554000000000, 645655000000000, 620387000000000, 617427000000000, 604998000000000, 547319000000000, 505747000000000, 461232000000000, 460234000000000, 452832000000000, 381416000000000, 342573000000000, 255635000000000, 213347000000000, 174729000000000, 136068000000000, 117262000000000, 86371000000000, 85379000000000, 64903000000000, 45501000000000, 42413000000000, 35965000000000, 21793000000000, 2339000000000, 1117561000000000, 1063160000000000, 1061747000000000, 965589000000000, 866206000000000, 819038000000000, 818557000000000, 802283000000000, 798018000000000, 771115000000000, 713578000000000, 707022000000000, 627474000000000, 625974000000000, 619161000000000, 595156000000000, 505254000000000, 477956000000000, 466221000000000, 459291000000000, 346916000000000, 288717000000000, 284551000000000, 248510000000000, 203093000000000, 197772000000000, 191975000000000, 177484000000000, 134970000000000, 117307000000000, 95663000000000, 83148000000000, 45865000000000, 35677000000000, -1977000000000, -44237000000000, 1117307000000000, 1056017000000000, 979161000000000, 915196000000000, 908561000000000, 877251000000000, 799311000000000, 794798000000000, 791179000000000, 785499000000000, 771067000000000, 768563000000000, 706991000000000, 704166000000000, 684626000000000, 630216000000000, 623660000000000, 618343000000000, 606566000000000, 548865000000000, 458118000000000, 373940000000000, 356692000000000, 347139000000000, 293441000000000, 173838000000000, 86993000000000, 83714000000000, 78884000000000, 45962000000000, 43960000000000, -45516000000000, 1117264000000000, 1080447000000000, 1057440000000000, 974075000000000, 903149000000000, 879670000000000, 874802000000000, 819774000000000, 800904000000000, 791950000000000, 785531000000000, 783832000000000, 753694000000000, 724089000000000, 628636000000000, 623441000000000, 607508000000000, 594430000000000, 477115000000000, 459216000000000, 372908000000000, 346315000000000, 342324000000000, 191872000000000, 171344000000000, 83577000000000, -3378000000000, -46167000000000, 1117229000000000, 1063060000000000, 1037384000000000, 922584000000000, 904013000000000, 877548000000000, 860731000000000, 818219000000000, 798778000000000, 792100000000000, 770680000000000, 706738000000000, 699896000000000, 684821000000000, 634825000000000, 634230000000000, 623737000000000, 553006000000000, 376482000000000, 343501000000000, 288981000000000, 256311000000000, 249037000000000, 172602000000000, 171217000000000, 97887000000000, 87126000000000, 78735000000000, 44737000000000, 2654000000000, -2005000000000, -3245000000000, -45803000000000, 1116312000000000, 1076475000000000, 1065176000000000, 1062658000000000, 1060712000000000, 1054587000000000, 963777000000000, 913603000000000, 882729000000000, 805430000000000, 785774000000000, 784669000000000, 716794000000000, 699389000000000, 685422000000000, 634888000000000, 624932000000000, 622643000000000, 618326000000000, 548961000000000, 517513000000000, 477017000000000, 292437000000000, 255485000000000, 252377000000000, 204509000000000, 134886000000000, 116687000000000, 86567000000000, 46116000000000, 18576000000000, -1728000000000, -46006000000000, 1116235000000000, 1072788000000000, 1064708000000000, 1055497000000000, 981078000000000, 864789000000000, 819293000000000, 799417000000000, 793356000000000, 724282000000000, 708265000000000, 706498000000000, 701444000000000, 625021000000000, 595311000000000, 516441000000000, 462843000000000, 376417000000000, 361795000000000, 289079000000000, 206329000000000, 174123000000000, 116503000000000, 83808000000000, 64371000000000, 18315000000000, 3041000000000, -2962000000000, -46625000000000, 1116142000000000, 1072950000000000, 1063356000000000, 1057908000000000, 919892000000000, 914440000000000, 882691000000000, 865455000000000, 860455000000000, 798329000000000, 770702000000000, 716745000000000, 704232000000000, 637800000000000, 630163000000000, 623532000000000, 594824000000000, 461953000000000, 376460000000000, 347314000000000, 288931000000000, 256146000000000, 88478000000000, 79077000000000, 20316000000000, -1419000000000, -45415000000000, 1116109000000000, 1074059000000000, 1067567000000000, 914757000000000, 877575000000000, 861123000000000, 860491000000000, 800247000000000, 785685000000000, 782025000000000, 770995000000000, 707509000000000, 698542000000000, 636631000000000, 626609000000000, 623588000000000, 618673000000000, 607364000000000, 552758000000000, 515801000000000, 478069000000000, 464081000000000, 347636000000000, 250546000000000, 204440000000000, 173805000000000, 170979000000000, 116172000000000, 83926000000000, 83478000000000, 45688000000000, 44131000000000, 5010000000000, -45242000000000, 1115990000000000, 1073467000000000, 1062524000000000, 973486000000000, 919713000000000, 913846000000000, 913697000000000, 860387000000000, 806163000000000, 794687000000000, 793504000000000, 789901000000000, 771204000000000, 707117000000000, 704260000000000, 698218000000000, 629539000000000, 626263000000000, 620138000000000, 616251000000000, 548343000000000, 537655000000000, 477530000000000, 463304000000000, 362422000000000, 347056000000000, 346756000000000, 292887000000000, 284838000000000, 203795000000000, 193130000000000, 170842000000000, 117095000000000, 115740000000000, 87055000000000, 78031000000000, 41931000000000, 35970000000000, 6022000000000, 3128000000000, -813000000000, -45313000000000, 1115964000000000, 1064124000000000, 1061861000000000, 1061685000000000, 913482000000000, 883068000000000, 880561000000000, 859950000000000, 800800000000000, 793026000000000, 786549000000000, 700874000000000, 685270000000000, 638124000000000, 633484000000000, 626121000000000, 621222000000000, 618272000000000, 604787000000000, 549086000000000, 531934000000000, 506093000000000, 479018000000000, 456791000000000, 381080000000000, 377784000000000, 370539000000000, 356553000000000, 344296000000000, 170711000000000, 169789000000000, 135241000000000, 97826000000000, 88064000000000, 64880000000000, 46067000000000, 35903000000000, 20922000000000, 2396000000000, 2117000000000, 1115907000000000, 1054260000000000, 974522000000000, 920711000000000, 914944000000000, 898065000000000, 882401000000000, 859865000000000, 805946000000000, 804653000000000, 794614000000000, 792992000000000, 785448000000000, 712969000000000, 704010000000000, 684128000000000, 646722000000000, 633154000000000, 624854000000000, 619781000000000, 616405000000000, 604615000000000, 536314000000000, 505845000000000, 456934000000000, 356134000000000, 347150000000000, 346070000000000, 292600000000000, 284877000000000, 213291000000000, 196666000000000, 193611000000000, 170623000000000, 134698000000000, 117624000000000, 88437000000000, 83193000000000, 82739000000000, 42307000000000, 35712000000000, 34816000000000, -2166000000000, -3315000000000, -43461000000000, -60035000000000, 1115881000000000, 1070020000000000, 982184000000000, 964359000000000, 919421000000000, 882968000000000, 860099000000000, 819830000000000, 818742000000000, 803123000000000, 786387000000000, 774525000000000, 717698000000000, 706248000000000, 700776000000000, 625427000000000, 625118000000000, 618335000000000, 614422000000000, 607563000000000, 604702000000000, 547687000000000, 516508000000000, 505353000000000, 465646000000000, 453713000000000, 381854000000000, 373862000000000, 369959000000000, 346195000000000, 212965000000000, 202957000000000, 180116000000000, 170343000000000, 117444000000000, 115448000000000, 78838000000000, 67343000000000, 43856000000000, 43182000000000, 36136000000000, 23362000000000, 3184000000000, 3086000000000, -2343000000000, 1115863000000000, 1079997000000000, 1070282000000000, 1058391000000000, 981828000000000, 979706000000000, 946207000000000, 915711000000000, 899075000000000, 873327000000000, 860279000000000, 803399000000000, 799599000000000, 798299000000000, 786903000000000, 780332000000000, 771094000000000, 769444000000000, 717597000000000, 715884000000000, 704815000000000, 619087000000000, 614665000000000, 614403000000000, 606532000000000, 606264000000000, 512409000000000, 383104000000000, 213381000000000, 203219000000000, 188967000000000, 180678000000000, 170753000000000, 83174000000000, 69076000000000, 45919000000000, 36578000000000, 36200000000000, 27056000000000, 4568000000000, 3659000000000, -3306000000000, -59259000000000, 1115805000000000, 1063224000000000, 955014000000000, 915453000000000, 896386000000000, 880476000000000, 812742000000000, 797956000000000, 794411000000000, 786033000000000, 784102000000000, 782290000000000, 770630000000000, 718513000000000, 704096000000000, 626831000000000, 621779000000000, 594487000000000, 505084000000000, 459427000000000, 377721000000000, 360947000000000, 347353000000000, 282834000000000, 252070000000000, 203063000000000, 194231000000000, 171750000000000, 170298000000000, 88649000000000, 45636000000000, 43269000000000, 1908000000000, -45170000000000, 1115532000000000, 1087901000000000, 1074911000000000, 1072421000000000, 982139000000000, 945274000000000, 882767000000000, 861485000000000, 818850000000000, 804498000000000, 798631000000000, 792771000000000, 791297000000000, 752973000000000, 718305000000000, 714079000000000, 701134000000000, 698267000000000, 618149000000000, 617364000000000, 607387000000000, 548163000000000, 520244000000000, 463006000000000, 383919000000000, 377312000000000, 346033000000000, 295098000000000, 284600000000000, 256168000000000, 252648000000000, 194409000000000, 169888000000000, 113083000000000, 87075000000000, 78917000000000, 67355000000000, 46598000000000, 40550000000000, 37055000000000, 8481000000000, 4707000000000, -1192000000000, 1115118000000000, 1065268000000000, 1065188000000000, 1060003000000000, 873154000000000, 820517000000000, 806294000000000, 804518000000000, 784497000000000, 781464000000000, 771046000000000, 770636000000000, 699303000000000, 683985000000000, 625925000000000, 622396000000000, 594682000000000, 536662000000000, 463543000000000, 377237000000000, 362560000000000, 347756000000000, 293770000000000, 249693000000000, 211180000000000, 112667000000000, 10185000000000, 1693000000000, -495000000000, -46914000000000, 1115053000000000, 1064968000000000, 1063784000000000, 1055822000000000, 914865000000000, 908915000000000, 882626000000000, 804457000000000, 801528000000000, 753075000000000, 724387000000000, 716551000000000, 701257000000000, 699602000000000, 684446000000000, 626942000000000, 624010000000000, 552959000000000, 460606000000000, 453045000000000, 373086000000000, 283704000000000, 255712000000000, 252000000000000, 196010000000000, 167339000000000, 113278000000000, 88196000000000, 82966000000000, 6127000000000, -86000000000, -46801000000000, 1087817000000000, 1064965000000000, 1053624000000000, 974421000000000, 945355000000000, 919782000000000, 875707000000000, 860661000000000, 819350000000000, 818996000000000, 802474000000000, 798260000000000, 797188000000000, 794246000000000, 786877000000000, 770967000000000, 768897000000000, 713112000000000, 704872000000000, 701347000000000, 684494000000000, 618198000000000, 614761000000000, 607538000000000, 536111000000000, 461319000000000, 384093000000000, 346275000000000, 343343000000000, 295054000000000, 213412000000000, 191597000000000, 178258000000000, 170354000000000, 116797000000000, 111982000000000, 78417000000000, 70469000000000, 45743000000000, 42213000000000, 37171000000000, 2565000000000, -59174000000000, 1087649000000000, 1073311000000000, 1072304000000000, 1067822000000000, 982848000000000, 945069000000000, 914221000000000, 899049000000000, 877013000000000, 804723000000000, 800713000000000, 793980000000000, 793006000000000, 786810000000000, 784050000000000, 771366000000000, 770419000000000, 752741000000000, 706577000000000, 706234000000000, 706139000000000, 700673000000000, 700597000000000, 618658000000000, 616378000000000, 613454000000000, 606763000000000, 523805000000000, 515344000000000, 458040000000000, 383794000000000, 377372000000000, 374125000000000, 344751000000000, 303916000000000, 293346000000000, 209245000000000, 169428000000000, 111843000000000, 87595000000000, 87078000000000, 77872000000000, 69094000000000, 44732000000000, 36982000000000, 31816000000000, 29024000000000, 20882000000000, 13617000000000, 6311000000000, -60421000000000, 1087584000000000, 1079663000000000, 1072525000000000, 1067737000000000, 914010000000000, 909824000000000, 875397000000000, 874747000000000, 863031000000000, 819008000000000, 802754000000000, 798982000000000, 771561000000000, 770594000000000, 718797000000000, 705235000000000, 685721000000000, 629701000000000, 617938000000000, 616331000000000, 606330000000000, 547793000000000, 515231000000000, 463193000000000, 453406000000000, 384848000000000, 383713000000000, 346505000000000, 255566000000000, 216769000000000, 192087000000000, 181320000000000, 117224000000000, 112895000000000, 87251000000000, 69054000000000, 44908000000000, 36948000000000, 30793000000000, 28829000000000, 20739000000000, 10008000000000, 4663000000000, -1551000000000, 1087557000000000, 1081024000000000, 1070663000000000, 982072000000000, 964754000000000, 919939000000000, 898917000000000, 818969000000000, 812244000000000, 803844000000000, 797808000000000, 769384000000000, 716715000000000, 706622000000000, 700599000000000, 700028000000000, 638812000000000, 624708000000000, 617692000000000, 616196000000000, 606288000000000, 547939000000000, 524334000000000, 513657000000000, 383377000000000, 373137000000000, 346108000000000, 255734000000000, 213653000000000, 196576000000000, 188408000000000, 176161000000000, 174859000000000, 87516000000000, 69490000000000, 42536000000000, 36807000000000, 34322000000000, 29700000000000, 6851000000000, 3586000000000, 1080847000000000, 1070517000000000, 1065409000000000, 1059521000000000, 982102000000000, 909547000000000, 875038000000000, 873375000000000, 866684000000000, 820316000000000, 804778000000000, 804193000000000, 792574000000000, 770795000000000, 753641000000000, 712844000000000, 705170000000000, 700535000000000, 618001000000000, 616303000000000, 607013000000000, 547825000000000, 539322000000000, 532455000000000, 515141000000000, 383587000000000, 373589000000000, 371496000000000, 342807000000000, 305171000000000, 292530000000000, 256370000000000, 251562000000000, 177607000000000, 116738000000000, 90181000000000, 80724000000000, 42260000000000, 36919000000000, 8303000000000, 4543000000000, 4529000000000, -904000000000, 1080707000000000, 1062738000000000, 1061285000000000, 1059170000000000, 897376000000000, 874995000000000, 819885000000000, 802635000000000, 794053000000000, 785913000000000, 770812000000000, 770469000000000, 753266000000000, 718058000000000, 685527000000000, 638630000000000, 634546000000000, 626924000000000, 625934000000000, 619843000000000, 616687000000000, 605941000000000, 547516000000000, 516749000000000, 505612000000000, 479072000000000, 465150000000000, 381565000000000, 370311000000000, 362784000000000, 344358000000000, 293605000000000, 212152000000000, 210125000000000, 197454000000000, 192859000000000, 117560000000000, 112240000000000, 87755000000000, 83923000000000, 64497000000000, 36013000000000, 22143000000000, 3005000000000, 2386000000000, 1080288000000000, 1064696000000000, 1064581000000000, 1060144000000000, 963833000000000, 913648000000000, 903786000000000, 801484000000000, 795939000000000, 795225000000000, 785091000000000, 707115000000000, 698794000000000, 684887000000000, 625580000000000, 618962000000000, 606816000000000, 506171000000000, 477571000000000, 462286000000000, 458306000000000, 381777000000000, 355910000000000, 346156000000000, 289608000000000, 285011000000000, 212297000000000, 204681000000000, 196119000000000, 175164000000000, 174350000000000, 86785000000000, 65067000000000, 44342000000000, 36081000000000, 22856000000000, 3560000000000, 2806000000000, -1684000000000, -59090000000000, 1080157000000000, 1072625000000000, 1061892000000000, 974463000000000, 945198000000000, 920174000000000, 914476000000000, 910036000000000, 872414000000000, 820473000000000, 804661000000000, 797729000000000, 790607000000000, 785532000000000, 770756000000000, 719575000000000, 706983000000000, 700847000000000, 685237000000000, 621836000000000, 616909000000000, 615819000000000, 606972000000000, 546633000000000, 518807000000000, 517787000000000, 383843000000000, 372948000000000, 371736000000000, 342987000000000, 304050000000000, 282971000000000, 256186000000000, 249389000000000, 213523000000000, 193324000000000, 193201000000000, 167256000000000, 116387000000000, 88501000000000, 87653000000000, 82776000000000, 69561000000000, 43886000000000, 40046000000000, 37029000000000, 15720000000000, -3330000000000, 1080064000000000, 1071914000000000, 1062181000000000, 982709000000000, 922418000000000, 909082000000000, 898739000000000, 818710000000000, 812434000000000, 801239000000000, 800193000000000, 798452000000000, 792512000000000, 786850000000000, 775273000000000, 770559000000000, 706274000000000, 700363000000000, 620699000000000, 616835000000000, 615073000000000, 606928000000000, 538981000000000, 515288000000000, 514309000000000, 383439000000000, 295229000000000, 284336000000000, 248716000000000, 213577000000000, 203597000000000, 193529000000000, 188294000000000, 180291000000000, 176428000000000, 116291000000000, 86505000000000, 78533000000000, 69727000000000, 45296000000000, 42652000000000, 36837000000000, 29863000000000, 6612000000000, 4161000000000, -1902000000000, -2553000000000, -60277000000000, 1078628000000000, 1064881000000000, 955426000000000, 919543000000000, 903325000000000, 881855000000000, 818380000000000, 798499000000000, 791376000000000, 784304000000000, 713226000000000, 700527000000000, 684084000000000, 638419000000000, 633809000000000, 626068000000000, 594915000000000, 506026000000000, 477306000000000, 459500000000000, 384753000000000, 381167000000000, 284789000000000, 255907000000000, 204565000000000, 174334000000000, 135323000000000, 116315000000000, 112375000000000, 88409000000000, 78128000000000, 45326000000000, 35931000000000, 35067000000000, 21265000000000, 3571000000000, 2955000000000, 1078314000000000, 1064636000000000, 1062048000000000, 954424000000000, 883219000000000, 872854000000000, 819376000000000, 810711000000000, 799844000000000, 794034000000000, 712885000000000, 692572000000000, 684289000000000, 627136000000000, 607630000000000, 595199000000000, 517485000000000, 478533000000000, 460309000000000, 347269000000000, 289042000000000, 284931000000000, 252535000000000, 203538000000000, 167001000000000, 95543000000000, 83658000000000, 78016000000000, 44348000000000, 35654000000000, -44648000000000, 1076775000000000, 1067405000000000, 1065593000000000, 1057141000000000, 908763000000000, 874470000000000, 818474000000000, 810873000000000, 798752000000000, 793585000000000, 792138000000000, 782065000000000, 770615000000000, 718219000000000, 718215000000000, 684333000000000, 634118000000000, 621094000000000, 617335000000000, 614174000000000, 607465000000000, 547587000000000, 478583000000000, 370810000000000, 343788000000000, 342710000000000, 283394000000000, 248436000000000, 206591000000000, 171169000000000, 117187000000000, 42243000000000, 35748000000000, -43004000000000, 1076433000000000, 1054463000000000, 1054392000000000, 979995000000000, 920800000000000, 872540000000000, 819225000000000, 811655000000000, 798202000000000, 781275000000000, 770806000000000, 770506000000000, 706439000000000, 690304000000000, 685063000000000, 627233000000000, 626575000000000, 624144000000000, 617445000000000, 604971000000000, 506932000000000, 478157000000000, 462175000000000, 381635000000000, 376997000000000, 373535000000000, 212205000000000, 191789000000000, 174936000000000, 173964000000000, 111958000000000, 88082000000000, 79006000000000, 64409000000000, 41960000000000, 36531000000000, 36037000000000, 22196000000000, 1811000000000, -1611000000000, -59138000000000, 1076401000000000, 1053695000000000, 973752000000000, 965111000000000, 945413000000000, 880322000000000, 861071000000000, 819536000000000, 799933000000000, 785710000000000, 782008000000000, 781970000000000, 770906000000000, 698660000000000, 634748000000000, 623109000000000, 594645000000000, 533507000000000, 376517000000000, 356353000000000, 342687000000000, 293514000000000, 249173000000000, 204381000000000, 195222000000000, 173171000000000, 167463000000000, 117012000000000, 95125000000000, 79613000000000, 42070000000000, 9505000000000, -53894000000000, 1075769000000000, 1062071000000000, 1060342000000000, 1053772000000000, 980509000000000, 920286000000000, 896758000000000, 820388000000000, 813187000000000, 805668000000000, 803034000000000, 786019000000000, 770938000000000, 723866000000000, 718276000000000, 715963000000000, 706061000000000, 700122000000000, 685307000000000, 636759000000000, 619545000000000, 614559000000000, 607404000000000, 606185000000000, 516316000000000, 508062000000000, 382652000000000, 347264000000000, 343975000000000, 294904000000000, 170099000000000, 136500000000000, 117359000000000, 91921000000000, 86597000000000, 65002000000000, 44052000000000, 36694000000000, 36485000000000, 26633000000000, 5356000000000, 3619000000000, -1005000000000, -1963000000000, -59906000000000, 1075719000000000, 1070173000000000, 1054137000000000, 974373000000000, 921792000000000, 913796000000000, 876222000000000, 819329000000000, 804308000000000, 798378000000000, 787298000000000, 770706000000000, 716835000000000, 716711000000000, 705017000000000, 700974000000000, 685763000000000, 618468000000000, 616271000000000, 608876000000000, 548557000000000, 514372000000000, 460873000000000, 383565000000000, 347722000000000, 343252000000000, 295348000000000, 284252000000000, 251249000000000, 173459000000000, 135680000000000, 116841000000000, 88287000000000, 86313000000000, 84087000000000, 79032000000000, 69964000000000, 45611000000000, 42871000000000, 36891000000000, 30694000000000, 2832000000000, -1307000000000, 1075686000000000, 1063798000000000, 1058573000000000, 974224000000000, 922080000000000, 881603000000000, 862367000000000, 820157000000000, 803456000000000, 802882000000000, 770783000000000, 716205000000000, 707031000000000, 699265000000000, 685131000000000, 637208000000000, 622401000000000, 616173000000000, 606598000000000, 549366000000000, 516913000000000, 512685000000000, 453451000000000, 383210000000000, 356760000000000, 343330000000000, 255520000000000, 251396000000000, 204762000000000, 193417000000000, 188771000000000, 136261000000000, 116131000000000, 97566000000000, 84039000000000, 77905000000000, 69043000000000, 36658000000000, 28193000000000, 6526000000000, 4511000000000, 4046000000000, 1074883000000000, 1072994000000000, 1065639000000000, 1061371000000000, 1061344000000000, 1036217000000000, 945987000000000, 881992000000000, 865534000000000, 819466000000000, 799715000000000, 793407000000000, 781559000000000, 770692000000000, 704413000000000, 685512000000000, 638081000000000, 621724000000000, 617255000000000, 549233000000000, 505882000000000, 478947000000000, 380888000000000, 377344000000000, 344244000000000, 284161000000000, 255618000000000, 252500000000000, 170706000000000, 167086000000000, 83365000000000, 64455000000000, 46411000000000, 35824000000000, 20001000000000, 2697000000000, -713000000000, 1074519000000000, 1062961000000000, 1062925000000000, 1057687000000000, 913538000000000, 880046000000000, 875866000000000, 864508000000000, 798571000000000, 784745000000000, 770771000000000, 753346000000000, 724008000000000, 712953000000000, 698752000000000, 684055000000000, 627184000000000, 622183000000000, 604880000000000, 548642000000000, 458615000000000, 294383000000000, 252300000000000, 203849000000000, 196750000000000, 173939000000000, 45592000000000, 36814000000000, -3100000000000, -46076000000000, 1074218000000000, 1065032000000000, 954910000000000, 914355000000000, 914324000000000, 874665000000000, 799527000000000, 795106000000000, 782394000000000, 767388000000000, 718469000000000, 706722000000000, 701598000000000, 625367000000000, 595227000000000, 463434000000000, 376324000000000, 373642000000000, 289324000000000, 214548000000000, 170583000000000, 78223000000000, 46525000000000, 44213000000000, 9853000000000, 9745000000000, -54075000000000, 1074170000000000, 1064851000000000, 999954000000000, 982334000000000, 965947000000000, 882571000000000, 818296000000000, 811959000000000, 800254000000000, 797915000000000, 793260000000000, 789855000000000, 785771000000000, 706924000000000, 701144000000000, 699964000000000, 635868000000000, 627310000000000, 620506000000000, 618071000000000, 606736000000000, 606077000000000, 538441000000000, 505546000000000, 479165000000000, 382262000000000, 373322000000000, 369685000000000, 252456000000000, 212538000000000, 175745000000000, 174713000000000, 117411000000000, 115074000000000, 88312000000000, 78178000000000, 64923000000000, 44925000000000, 42484000000000, 36351000000000, 25692000000000, 3245000000000, -59317000000000, 1074075000000000, 1070404000000000, 1067337000000000, 1059673000000000, 982540000000000, 945468000000000, 922843000000000, 915647000000000, 899290000000000, 880007000000000, 877417000000000, 803543000000000, 798312000000000, 794143000000000, 787004000000000, 786931000000000, 783954000000000, 771348000000000, 706407000000000, 704699000000000, 700494000000000, 619184000000000, 614776000000000, 614135000000000, 606353000000000, 546958000000000, 538760000000000, 512488000000000, 383153000000000, 361569000000000, 347204000000000, 346442000000000, 303197000000000, 255583000000000, 212064000000000, 194105000000000, 188881000000000, 170082000000000, 116633000000000, 78489000000000, 64424000000000, 43515000000000, 36606000000000, 27587000000000, 18978000000000, 5895000000000, 4316000000000, -1732000000000, 1073989000000000, 1061946000000000, 1059862000000000, 974275000000000, 964915000000000, 879817000000000, 861612000000000, 819413000000000, 813001000000000, 802866000000000, 799043000000000, 771356000000000, 769117000000000, 701001000000000, 698851000000000, 685565000000000, 635221000000000, 629605000000000, 620930000000000, 616892000000000, 606144000000000, 548069000000000, 538538000000000, 515512000000000, 510553000000000, 479356000000000, 382561000000000, 294267000000000, 256056000000000, 249526000000000, 213518000000000, 189428000000000, 170047000000000, 116196000000000, 88018000000000, 67403000000000, 45089000000000, 36428000000000, 26386000000000, 4084000000000, 1073925000000000, 1072151000000000, 1060691000000000, 1053852000000000, 1037676000000000, 982802000000000, 921559000000000, 915785000000000, 912955000000000, 909525000000000, 872610000000000, 860636000000000, 820523000000000, 804723000000000, 803332000000000, 794939000000000, 786964000000000, 781927000000000, 770536000000000, 717807000000000, 716670000000000, 707596000000000, 705272000000000, 700648000000000, 626244000000000, 618345000000000, 613409000000000, 606318000000000, 594235000000000, 536188000000000, 514761000000000, 453776000000000, 383536000000000, 373459000000000, 346551000000000, 303884000000000, 255682000000000, 248470000000000, 192980000000000, 169695000000000, 167291000000000, 88094000000000, 78335000000000, 69977000000000, 43763000000000, 36873000000000, 30293000000000, 6810000000000, -2027000000000, 1073510000000000, 1064069000000000, 1062828000000000, 1056349000000000, 982029000000000, 920571000000000, 909039000000000, 896946000000000, 877628000000000, 818776000000000, 818658000000000, 799205000000000, 786674000000000, 770982000000000, 716334000000000, 698449000000000, 645282000000000, 637362000000000, 620764000000000, 616980000000000, 615630000000000, 606525000000000, 547613000000000, 512893000000000, 383313000000000, 303461000000000, 283352000000000, 255775000000000, 250036000000000, 193638000000000, 188678000000000, 116151000000000, 86678000000000, 69538000000000, 43725000000000, 36739000000000, 29380000000000, 19436000000000, 2866000000000, 34000000000, 1073340000000000, 1064598000000000, 1061531000000000, 954523000000000, 920439000000000, 913708000000000, 877512000000000, 800489000000000, 797318000000000, 793358000000000, 792833000000000, 786448000000000, 771078000000000, 706690000000000, 699088000000000, 627219000000000, 624805000000000, 594509000000000, 515605000000000, 459386000000000, 378819000000000, 373020000000000, 361114000000000, 347521000000000, 283627000000000, 250148000000000, 203734000000000, 195542000000000, 92042000000000, 87530000000000, 83131000000000, 35628000000000, 18798000000000, -1120000000000, -2132000000000, -44794000000000, 1073250000000000, 1062192000000000, 1053376000000000, 973966000000000, 964416000000000, 914986000000000, 881816000000000, 805825000000000, 802094000000000, 792247000000000, 785603000000000, 783710000000000, 770644000000000, 769010000000000, 707040000000000, 706834000000000, 699803000000000, 699685000000000, 684791000000000, 633702000000000, 625869000000000, 618982000000000, 614446000000000, 614012000000000, 538149000000000, 533971000000000, 461760000000000, 381984000000000, 356244000000000, 343387000000000, 294687000000000, 248415000000000, 204256000000000, 171088000000000, 136666000000000, 115011000000000, 87469000000000, 64572000000000, 42200000000000, 36198000000000, 34772000000000, 24107000000000, 3547000000000, -3299000000000, -59938000000000, 1072857000000000, 1062993000000000, 1062331000000000, 973416000000000, 919382000000000, 913910000000000, 865094000000000, 801305000000000, 794062000000000, 786579000000000, 771331000000000, 724233000000000, 717249000000000, 698585000000000, 684663000000000, 629363000000000, 624301000000000, 621006000000000, 616941000000000, 548720000000000, 517349000000000, 376867000000000, 373890000000000, 371268000000000, 360819000000000, 289978000000000, 255502000000000, 210530000000000, 192779000000000, 78650000000000, 18356000000000, 5280000000000, -46252000000000, 1072686000000000, 1065680000000000, 1060988000000000, 954606000000000, 903528000000000, 898584000000000, 876902000000000, 863968000000000, 818923000000000, 810511000000000, 800842000000000, 799236000000000, 792694000000000, 786108000000000, 716973000000000, 684595000000000, 633987000000000, 624217000000000, 607991000000000, 549274000000000, 537729000000000, 515244000000000, 381671000000000, 373253000000000, 370156000000000, 212253000000000, 177105000000000, 171036000000000, 116963000000000, 115033000000000, 88133000000000, 65028000000000, 46148000000000, 36055000000000, 22763000000000, 3220000000000, 2529000000000, 1072544000000000, 1061701000000000, 1061390000000000, 981979000000000, 973799000000000, 922463000000000, 914645000000000, 876816000000000, 862315000000000, 803583000000000, 798664000000000, 792455000000000, 770862000000000, 716074000000000, 707196000000000, 699772000000000, 698481000000000, 624713000000000, 620829000000000, 617327000000000, 616757000000000, 548025000000000, 512769000000000, 478660000000000, 383269000000000, 347076000000000, 342975000000000, 303336000000000, 188620000000000, 173436000000000, 172815000000000, 87202000000000, 86894000000000, 69600000000000, 42369000000000, 36696000000000, 28871000000000, -1576000000000, 1072288000000000, 1063464000000000, 1061122000000000, 1056511000000000, 964479000000000, 945641000000000, 862139000000000, 818817000000000, 801964000000000, 798705000000000, 787201000000000, 784586000000000, 782733000000000, 782430000000000, 770665000000000, 707530000000000, 700402000000000, 699580000000000, 685187000000000, 636313000000000, 626897000000000, 619060000000000, 614272000000000, 606101000000000, 538260000000000, 515745000000000, 512220000000000, 478208000000000, 382376000000000, 374337000000000, 369016000000000, 192370000000000, 174543000000000, 116764000000000, 87856000000000, 83630000000000, 64984000000000, 46002000000000, 36391000000000, 34292000000000, 26286000000000, 6382000000000, 3771000000000, -59736000000000, 1072239000000000, 1064529000000000, 1063932000000000, 1059328000000000, 915134000000000, 882075000000000, 876066000000000, 875541000000000, 805184000000000, 796744000000000, 786480000000000, 706407000000000, 706170000000000, 685477000000000, 646303000000000, 633602000000000, 618720000000000, 614521000000000, 608772000000000, 549327000000000, 538872000000000, 512130000000000, 382753000000000, 346266000000000, 343254000000000, 290058000000000, 213155000000000, 189070000000000, 115353000000000, 69108000000000, 36543000000000, 28605000000000, 26881000000000, 4415000000000, -2392000000000, 1072151000000000, 1063293000000000, 1062750000000000, 1061484000000000, 964641000000000, 945787000000000, 914064000000000, 913235000000000, 861912000000000, 861270000000000, 798861000000000, 793740000000000, 787373000000000, 781147000000000, 770898000000000, 752649000000000, 716945000000000, 698570000000000, 634126000000000, 619986000000000, 616473000000000, 614329000000000, 604645000000000, 507106000000000, 477902000000000, 462114000000000, 385896000000000, 381500000000000, 377704000000000, 370503000000000, 346713000000000, 343056000000000, 212129000000000, 209034000000000, 195131000000000, 172701000000000, 83566000000000, 78762000000000, 64525000000000, 41881000000000, 35998000000000, 35838000000000, 22016000000000, 2730000000000, 2612000000000, -1062000000000, -60240000000000, 1072115000000000, 1063253000000000, 1053589000000000, 964710000000000, 915580000000000, 898621000000000, 810762000000000, 802257000000000, 797935000000000, 792400000000000, 787474000000000, 784631000000000, 781954000000000, 771238000000000, 717885000000000, 717040000000000, 715766000000000, 685036000000000, 634974000000000, 619806000000000, 616859000000000, 615765000000000, 606032000000000, 507565000000000, 382167000000000, 369361000000000, 342494000000000, 283672000000000, 256279000000000, 252149000000000, 213091000000000, 203363000000000, 196212000000000, 172555000000000, 172526000000000, 116246000000000, 114021000000000, 85604000000000, 67381000000000, 45257000000000, 36283000000000, 24601000000000, 3520000000000, 3056000000000, -759000000000, -60007000000000, 1071212000000000, 1064169000000000, 1064027000000000, 1056202000000000, 920890000000000, 873470000000000, 819973000000000, 818898000000000, 812885000000000, 810410000000000, 804612000000000, 802374000000000, 781711000000000, 769893000000000, 706607000000000, 704651000000000, 700307000000000, 685651000000000, 633202000000000, 627269000000000, 619322000000000, 615626000000000, 546753000000000, 537937000000000, 515371000000000, 477727000000000, 382194000000000, 369115000000000, 289866000000000, 284720000000000, 283211000000000, 213771000000000, 203662000000000, 194313000000000, 180900000000000, 170247000000000, 117048000000000, 88123000000000, 83778000000000, 77960000000000, 43312000000000, 42145000000000, 36302000000000, 25214000000000, 6151000000000, 3325000000000, 1071168000000000, 1065319000000000, 1057102000000000, 973605000000000, 913431000000000, 913058000000000, 879938000000000, 800546000000000, 791274000000000, 786069000000000, 779888000000000, 770948000000000, 753851000000000, 706482000000000, 698408000000000, 684197000000000, 634383000000000, 623192000000000, 617082000000000, 614648000000000, 604838000000000, 547475000000000, 515894000000000, 506128000000000, 477444000000000, 456721000000000, 380934000000000, 370653000000000, 359453000000000, 292803000000000, 285060000000000, 251068000000000, 213552000000000, 193691000000000, 174027000000000, 135453000000000, 97756000000000, 86852000000000, 78689000000000, 44609000000000, 35844000000000, 20576000000000, 934000000000, -511000000000, 1071136000000000, 1063300000000000, 1056947000000000, 973572000000000, 914283000000000, 914169000000000, 882142000000000, 801419000000000, 799994000000000, 796157000000000, 794909000000000, 787267000000000, 771607000000000, 771265000000000, 708106000000000, 706370000000000, 701072000000000, 699732000000000, 685090000000000, 646384000000000, 635790000000000, 618946000000000, 614466000000000, 606680000000000, 604938000000000, 507449000000000, 466070000000000, 457931000000000, 381910000000000, 359395000000000, 285149000000000, 249294000000000, 212760000000000, 179899000000000, 175511000000000, 116354000000000, 88691000000000, 78367000000000, 67369000000000, 42001000000000, 36172000000000, 34528000000000, 23504000000000, 6240000000000, 3385000000000, -1491000000000, -60195000000000, 1071109000000000, 1064811000000000, 954981000000000, 915396000000000, 897960000000000, 861222000000000, 805874000000000, 800463000000000, 792931000000000, 791237000000000, 786435000000000, 770883000000000, 768639000000000, 700425000000000, 684107000000000, 639420000000000, 626640000000000, 623841000000000, 607259000000000, 549189000000000, 532301000000000, 505434000000000, 370863000000000, 359862000000000, 347247000000000, 347232000000000, 289961000000000, 251938000000000, 213261000000000, 195181000000000, 173754000000000, 134602000000000, 116658000000000, 88635000000000, 75428000000000, 35691000000000, 35009000000000, -237000000000, -43803000000000, 1071082000000000, 1062766000000000, 1053545000000000, 979644000000000, 963924000000000, 898560000000000, 894123000000000, 819926000000000, 805727000000000, 802944000000000, 787234000000000, 771298000000000, 771298000000000, 712825000000000, 706087000000000, 684722000000000, 636009000000000, 621651000000000, 617609000000000, 614468000000000, 605070000000000, 547747000000000, 515330000000000, 507383000000000, 466297000000000, 382059000000000, 377672000000000, 369405000000000, 359592000000000, 344655000000000, 256338000000000, 248623000000000, 213074000000000, 83522000000000, 78076000000000, 65080000000000, 36237000000000, 28552000000000, 24551000000000, 3244000000000, 1985000000000, -1469000000000, 1065852000000000, 1053466000000000, 1053326000000000, 914696000000000, 877663000000000, 806482000000000, 804873000000000, 794451000000000, 785639000000000, 783536000000000, 781806000000000, 770839000000000, 706850000000000, 699244000000000, 698799000000000, 627021000000000, 617399000000000, 606252000000000, 549657000000000, 361152000000000, 348092000000000, 290017000000000, 285194000000000, 191644000000000, 86182000000000, 78571000000000, 8646000000000, -47235000000000, 1064432000000000, 1053939000000000, 954762000000000, 945896000000000, 913505000000000, 872492000000000, 820102000000000, 802834000000000, 785939000000000, 782564000000000, 781214000000000, 770920000000000, 753503000000000, 717191000000000, 712204000000000, 699017000000000, 621455000000000, 552824000000000, 460083000000000, 380973000000000, 348490000000000, 289461000000000, 284182000000000, 249217000000000, 194799000000000, 180546000000000, 41987000000000, 34863000000000, 18007000000000, 9907000000000, -1274000000000, -47061000000000, 1064355000000000, 1053903000000000, 954862000000000, 922803000000000, 881577000000000, 876636000000000, 818891000000000, 797825000000000, 793264000000000, 771388000000000, 713066000000000, 706954000000000, 706674000000000, 699025000000000, 637857000000000, 626975000000000, 622305000000000, 607191000000000, 549618000000000, 478397000000000, 371325000000000, 361894000000000, 346654000000000, 282795000000000, 196265000000000, 167420000000000, 113931000000000, 78274000000000, 36273000000000, 8084000000000, -1781000000000, -47168000000000, 1064315000000000, 1054088000000000, 964867000000000, 922230000000000, 913781000000000, 807175000000000, 800642000000000, 794726000000000, 791128000000000, 780489000000000, 770329000000000, 717681000000000, 700213000000000, 698909000000000, 685390000000000, 634683000000000, 624601000000000, 622282000000000, 549702000000000, 477371000000000, 385623000000000, 371037000000000, 361747000000000, 348191000000000, 256088000000000, 206392000000000, 173904000000000, 169882000000000, 116716000000000, 115155000000000, 79100000000000, 43637000000000, -1921000000000, -3298000000000, -45573000000000, 1064280000000000, 1064254000000000, 1063413000000000, 1056688000000000, 913346000000000, 898254000000000, 881677000000000, 861606000000000, 800015000000000, 793226000000000, 785763000000000, 782484000000000, 771192000000000, 717780000000000, 699343000000000, 684428000000000, 633287000000000, 629116000000000, 620070000000000, 549148000000000, 458250000000000, 348049000000000, 343638000000000, 295271000000000, 255753000000000, 250741000000000, 206886000000000, 197093000000000, 193048000000000, 173172000000000, 135166000000000, 35729000000000, 3292000000000, 2459000000000, 136000000000, -43377000000000, 1064190000000000, 1054189000000000, 955147000000000, 915504000000000, 913937000000000, 811367000000000, 799254000000000, 794775000000000, 793120000000000, 713918000000000, 713243000000000, 684163000000000, 638269000000000, 633387000000000, 534061000000000, 464158000000000, 376283000000000, 373407000000000, 292671000000000, 256246000000000, 213684000000000, 174429000000000, 173356000000000, 134781000000000, 116875000000000, 96148000000000, 83854000000000, 44171000000000, 35778000000000, 34643000000000, 4446000000000, 2624000000000, 970000000000, -1833000000000, -42454000000000, -59036000000000, 1054103000000000, 989792000000000, 983181000000000, 883907000000000, 877568000000000, 867068000000000, 806284000000000, 788336000000000, 783172000000000, 782615000000000, 753088000000000, 728872000000000, 644990000000000, 643148000000000, 559119000000000, 540892000000000, 463629000000000, 340759000000000, 328144000000000, 282353000000000, 174568000000000, 133806000000000, 115297000000000, 113345000000000, 91413000000000, -43000000000, 1054014000000000, 999859000000000, 999744000000000, 997463000000000, 983888000000000, 983518000000000, 976773000000000, 960486000000000, 950174000000000, 908767000000000, 894409000000000, 879983000000000, 868350000000000, 822251000000000, 817060000000000, 807696000000000, 807118000000000, 803403000000000, 799339000000000, 785530000000000, 741520000000000, 720411000000000, 713524000000000, 711115000000000, 709885000000000, 694097000000000, 687699000000000, 645490000000000, 643977000000000, 634301000000000, 630864000000000, 627664000000000, 606170000000000, 544038000000000, 541462000000000, 464449000000000, 464216000000000, 451885000000000, 427924000000000, 340195000000000, 294990000000000, 289142000000000, 283603000000000, 269157000000000, 262336000000000, 216905000000000, 211027000000000, 200852000000000, 194516000000000, 173792000000000, 170771000000000, 134475000000000, 125494000000000, 100928000000000, 36344000000000, 28563000000000, -2160000000000, 1053965000000000, 996746000000000, 996115000000000, 986842000000000, 962448000000000, 894068000000000, 877872000000000, 866020000000000, 804770000000000, 794492000000000, 785271000000000, 721213000000000, 709564000000000, 643417000000000, 628731000000000, 626838000000000, 626672000000000, 624704000000000, 599065000000000, 557655000000000, 552715000000000, 537670000000000, 519610000000000, 463245000000000, 460141000000000, 391478000000000, 382094000000000, 340415000000000, 291041000000000, 282016000000000, 270147000000000, 213629000000000, 172263000000000, 170260000000000, 117443000000000, 98908000000000, 84466000000000, 27980000000000, 22753000000000, -1592000000000, -2707000000000, 1053849000000000, 1046091000000000, 999301000000000, 994429000000000, 986161000000000, 976257000000000, 887770000000000, 885906000000000, 876483000000000, 803373000000000, 792152000000000, 790737000000000, 698184000000000, 696890000000000, 693340000000000, 688824000000000, 643301000000000, 628754000000000, 626970000000000, 625637000000000, 623541000000000, 602031000000000, 559560000000000, 552422000000000, 527818000000000, 463153000000000, 375674000000000, 300493000000000, 293483000000000, 281494000000000, 270131000000000, 214964000000000, 172451000000000, 169812000000000, 134385000000000, 113632000000000, 99518000000000, 27976000000000, 24101000000000, 23799000000000, 23261000000000, 20773000000000, -1973000000000, 1053683000000000, 995467000000000, 984485000000000, 967278000000000, 906251000000000, 883685000000000, 866741000000000, 806689000000000, 802027000000000, 792743000000000, 790544000000000, 709786000000000, 688594000000000, 630873000000000, 630529000000000, 557768000000000, 551673000000000, 549983000000000, 432975000000000, 336535000000000, 242084000000000, 173041000000000, 10090000000000, 154000000000, 1053575000000000, 994134000000000, 980731000000000, 962049000000000, 909050000000000, 908063000000000, 821768000000000, 799747000000000, 797695000000000, 791884000000000, 728980000000000, 697523000000000, 695241000000000, 558288000000000, 541453000000000, 463164000000000, 462881000000000, 396749000000000, 244267000000000, 205130000000000, 173200000000000, 124335000000000, 123103000000000, 89857000000000, 41664000000000, 28041000000000, -664000000000, 1053541000000000, 992459000000000, 990441000000000, 983047000000000, 960808000000000, 906319000000000, 890353000000000, 878363000000000, 793757000000000, 792303000000000, 783100000000000, 728471000000000, 713604000000000, 638181000000000, 559589000000000, 557570000000000, 463056000000000, 434885000000000, 392294000000000, 290970000000000, 281960000000000, 267320000000000, 205642000000000, 196581000000000, 172183000000000, 164329000000000, 124841000000000, 90907000000000, 21554000000000, 1053377000000000, 993543000000000, 989649000000000, 986734000000000, 980496000000000, 962590000000000, 795042000000000, 794190000000000, 734401000000000, 730582000000000, 728713000000000, 727132000000000, 720519000000000, 707433000000000, 628611000000000, 626448000000000, 557549000000000, 550134000000000, 520325000000000, 464202000000000, 339212000000000, 268052000000000, 267813000000000, 185002000000000, 174422000000000, 169227000000000, 116057000000000, 84681000000000, 49784000000000, 10801000000000, 1053343000000000, 993669000000000, 908009000000000, 890126000000000, 886156000000000, 878732000000000, 866421000000000, 814889000000000, 807193000000000, 804894000000000, 713024000000000, 695906000000000, 695176000000000, 646791000000000, 644226000000000, 629450000000000, 627480000000000, 626410000000000, 623820000000000, 604674000000000, 562820000000000, 559194000000000, 558397000000000, 554341000000000, 552910000000000, 528513000000000, 520184000000000, 460228000000000, 340048000000000, 297324000000000, 216217000000000, 192467000000000, 118005000000000, 99889000000000, 90215000000000, 24582000000000, 22714000000000, 18926000000000, 9764000000000, -2318000000000, 1053284000000000, 993628000000000, 991513000000000, 981125000000000, 954339000000000, 886890000000000, 876242000000000, 789635000000000, 753263000000000, 732844000000000, 728279000000000, 644636000000000, 642977000000000, 635677000000000, 628041000000000, 626801000000000, 625298000000000, 600931000000000, 565430000000000, 523685000000000, 465350000000000, 386071000000000, 373166000000000, 337635000000000, 328329000000000, 214465000000000, 191165000000000, 133985000000000, 99658000000000, 99264000000000, 49622000000000, 8755000000000, -2218000000000, 1053234000000000, 997457000000000, 991225000000000, 908550000000000, 867186000000000, 809758000000000, 799569000000000, 787892000000000, 733490000000000, 707684000000000, 698493000000000, 694143000000000, 687585000000000, 642656000000000, 612997000000000, 540828000000000, 461742000000000, 340004000000000, 273199000000000, 191881000000000, 142171000000000, 134045000000000, 112135000000000, 275000000000, 1053141000000000, 996262000000000, 995977000000000, 995119000000000, 983122000000000, 968164000000000, 965333000000000, 876592000000000, 810258000000000, 808840000000000, 803010000000000, 790427000000000, 697158000000000, 647827000000000, 643975000000000, 630416000000000, 629087000000000, 627459000000000, 626138000000000, 624704000000000, 603144000000000, 560501000000000, 559322000000000, 552422000000000, 528366000000000, 464637000000000, 464617000000000, 336919000000000, 266672000000000, 215287000000000, 205610000000000, 198736000000000, 192091000000000, 171893000000000, 125362000000000, 116421000000000, 99643000000000, 88545000000000, 84028000000000, 23863000000000, 21782000000000, 19343000000000, 1053095000000000, 997423000000000, 993610000000000, 992638000000000, 983306000000000, 975885000000000, 965543000000000, 877577000000000, 876534000000000, 807087000000000, 783605000000000, 768309000000000, 728048000000000, 695549000000000, 692607000000000, 646019000000000, 626612000000000, 626598000000000, 555015000000000, 520222000000000, 358819000000000, 338795000000000, 282191000000000, 269671000000000, 269546000000000, 192935000000000, 123208000000000, 117131000000000, 22008000000000, 11624000000000, -2928000000000, 1053047000000000, 998187000000000, 965439000000000, 875965000000000, 822393000000000, 810554000000000, 794937000000000, 793697000000000, 734342000000000, 708054000000000, 694844000000000, 689055000000000, 636248000000000, 632109000000000, 626245000000000, 559877000000000, 551236000000000, 519877000000000, 462989000000000, 459428000000000, 269948000000000, 263226000000000, 172787000000000, 115725000000000, 115501000000000, 48693000000000, -379000000000, 1053006000000000, 999555000000000, 983737000000000, 982806000000000, 965416000000000, 906975000000000, 877962000000000, 822169000000000, 807912000000000, 793677000000000, 783665000000000, 697940000000000, 642168000000000, 634918000000000, 558104000000000, 460423000000000, 452224000000000, 434680000000000, 396898000000000, 339121000000000, 273220000000000, 259648000000000, 142459000000000, 122852000000000, 111801000000000, 88517000000000, 9809000000000, -1059000000000, 1052790000000000, 998729000000000, 983850000000000, 952719000000000, 877020000000000, 811792000000000, 808031000000000, 795078000000000, 782739000000000, 724630000000000, 707156000000000, 692649000000000, 644324000000000, 635443000000000, 558150000000000, 552158000000000, 452505000000000, 433347000000000, 373290000000000, 358775000000000, 281580000000000, 259669000000000, 168095000000000, 164959000000000, 113022000000000, 50395000000000, 36213000000000, 11523000000000, 1052735000000000, 991435000000000, 989720000000000, 982397000000000, 969513000000000, 909275000000000, 877903000000000, 803212000000000, 793613000000000, 782852000000000, 782791000000000, 725188000000000, 694603000000000, 689167000000000, 639814000000000, 560011000000000, 551562000000000, 537635000000000, 463144000000000, 462755000000000, 396544000000000, 293644000000000, 281659000000000, 269851000000000, 266874000000000, 259521000000000, 205521000000000, 165140000000000, 134433000000000, 125234000000000, 115351000000000, 113044000000000, 1052696000000000, 997810000000000, 969602000000000, 954073000000000, 867143000000000, 798524000000000, 795424000000000, 782847000000000, 734470000000000, 730758000000000, 724568000000000, 700106000000000, 691439000000000, 687440000000000, 648277000000000, 626554000000000, 559556000000000, 537030000000000, 520580000000000, 464764000000000, 464069000000000, 461156000000000, 373225000000000, 290766000000000, 289665000000000, 284147000000000, 281706000000000, 260139000000000, 185413000000000, 172399000000000, 169972000000000, 116761000000000, 112584000000000, 88359000000000, 84119000000000, 28270000000000, 23698000000000, 23163000000000, -3085000000000, 1052416000000000, 995500000000000, 989748000000000, 982974000000000, 877602000000000, 876802000000000, 867396000000000, 816329000000000, 805889000000000, 785077000000000, 767812000000000, 644436000000000, 643332000000000, 634944000000000, 557992000000000, 552647000000000, 535356000000000, 434289000000000, 391302000000000, 290904000000000, 259587000000000, 219842000000000, 125151000000000, 115392000000000, 111877000000000, 28057000000000, 22441000000000, -968000000000, 1052315000000000, 997259000000000, 995851000000000, 981757000000000, 909168000000000, 889488000000000, 803539000000000, 793979000000000, 734499000000000, 730845000000000, 727957000000000, 695521000000000, 692162000000000, 645852000000000, 626781000000000, 626636000000000, 624609000000000, 559606000000000, 553247000000000, 549916000000000, 537602000000000, 460996000000000, 381886000000000, 340631000000000, 281893000000000, 262734000000000, 205662000000000, 185458000000000, 174073000000000, 117384000000000, 89746000000000, 22754000000000, 5912000000000, -2816000000000, 1052255000000000, 995589000000000, 990514000000000, 981588000000000, 815138000000000, 810361000000000, 808151000000000, 735799000000000, 730804000000000, 708229000000000, 694923000000000, 693968000000000, 689016000000000, 646142000000000, 626585000000000, 626486000000000, 559416000000000, 558304000000000, 553119000000000, 551408000000000, 537252000000000, 462734000000000, 460307000000000, 268096000000000, 192065000000000, 184344000000000, 173348000000000, 116807000000000, 89508000000000, 22387000000000, -2966000000000, 1052230000000000, 995611000000000, 994359000000000, 992375000000000, 981501000000000, 962283000000000, 888392000000000, 811687000000000, 805422000000000, 795912000000000, 783231000000000, 688944000000000, 646437000000000, 643474000000000, 628895000000000, 627085000000000, 625837000000000, 624112000000000, 602556000000000, 558361000000000, 551936000000000, 528021000000000, 519806000000000, 464006000000000, 373087000000000, 339500000000000, 291052000000000, 267976000000000, 215103000000000, 205488000000000, 192044000000000, 172158000000000, 115592000000000, 113484000000000, 99590000000000, 22291000000000, 6730000000000, -2390000000000, 1052123000000000, 995941000000000, 984255000000000, 982582000000000, 966264000000000, 962519000000000, 893081000000000, 887902000000000, 878463000000000, 816525000000000, 810460000000000, 805969000000000, 805936000000000, 715456000000000, 707776000000000, 688554000000000, 644467000000000, 627719000000000, 555882000000000, 552868000000000, 434534000000000, 281992000000000, 268440000000000, 193482000000000, 169101000000000, 42099000000000, 28074000000000, 26529000000000, 21471000000000, 1052080000000000, 995523000000000, 994257000000000, 990541000000000, 907861000000000, 889604000000000, 885173000000000, 878929000000000, 794006000000000, 732718000000000, 727023000000000, 693080000000000, 689516000000000, 689276000000000, 648938000000000, 642851000000000, 627657000000000, 626770000000000, 625134000000000, 600409000000000, 565166000000000, 559829000000000, 559209000000000, 553679000000000, 551464000000000, 385674000000000, 381808000000000, 339070000000000, 292949000000000, 266964000000000, 244569000000000, 214307000000000, 191019000000000, 171850000000000, 133837000000000, 113742000000000, 99165000000000, 22320000000000, 6813000000000, -1498000000000, -2484000000000, 1051835000000000, 993049000000000, 990828000000000, 984052000000000, 982416000000000, 966571000000000, 876084000000000, 814426000000000, 806992000000000, 791836000000000, 753868000000000, 740747000000000, 696711000000000, 694513000000000, 557845000000000, 458939000000000, 432376000000000, 396822000000000, 393165000000000, 340510000000000, 293505000000000, 281865000000000, 262958000000000, 242217000000000, 171780000000000, 168993000000000, 42016000000000, 28022000000000, 21604000000000, 21574000000000, 1051802000000000, 997453000000000, 991094000000000, 983179000000000, 968860000000000, 951970000000000, 907647000000000, 892887000000000, 878637000000000, 878271000000000, 810192000000000, 803703000000000, 713603000000000, 696636000000000, 693002000000000, 689204000000000, 639381000000000, 552504000000000, 296634000000000, 290660000000000, 281023000000000, 260415000000000, 219771000000000, 173147000000000, 116052000000000, 113238000000000, 84085000000000, 23350000000000, 21552000000000, 1051738000000000, 996676000000000, 991059000000000, 990478000000000, 967547000000000, 966682000000000, 960764000000000, 878427000000000, 806611000000000, 795508000000000, 713291000000000, 698781000000000, 643278000000000, 634597000000000, 558085000000000, 461620000000000, 433420000000000, 397007000000000, 392361000000000, 290755000000000, 283427000000000, 262022000000000, 198350000000000, 174641000000000, 163833000000000, 134354000000000, 85287000000000, 42481000000000, 27994000000000, 26435000000000, 23877000000000, 1051655000000000, 999419000000000, 997217000000000, 997041000000000, 996039000000000, 962701000000000, 960171000000000, 892649000000000, 890412000000000, 879165000000000, 868253000000000, 815319000000000, 814905000000000, 808714000000000, 807046000000000, 803367000000000, 783803000000000, 741371000000000, 728432000000000, 728187000000000, 719979000000000, 716058000000000, 693948000000000, 647658000000000, 645394000000000, 643597000000000, 640465000000000, 634207000000000, 627569000000000, 620362000000000, 607406000000000, 562977000000000, 559689000000000, 557944000000000, 539839000000000, 466099000000000, 464279000000000, 463366000000000, 451923000000000, 375542000000000, 368241000000000, 340586000000000, 282755000000000, 266908000000000, 259964000000000, 256103000000000, 214037000000000, 199863000000000, 195093000000000, 192119000000000, 126829000000000, 125086000000000, 118577000000000, 116079000000000, 100861000000000, 28116000000000, 27080000000000, 25368000000000, -31000000000, 1051579000000000, 997591000000000, 984752000000000, 982145000000000, 887986000000000, 796731000000000, 793560000000000, 735177000000000, 728526000000000, 714508000000000, 693994000000000, 644238000000000, 643218000000000, 634874000000000, 557879000000000, 463147000000000, 340921000000000, 290852000000000, 269758000000000, 260458000000000, 259700000000000, 141673000000000, 111839000000000, 86258000000000, 49069000000000, 28179000000000, 22835000000000, 1333000000000, 1051470000000000, 997326000000000, 966476000000000, 960016000000000, 906922000000000, 894312000000000, 822199000000000, 809013000000000, 807872000000000, 792696000000000, 692373000000000, 689542000000000, 644708000000000, 559832000000000, 541530000000000, 434017000000000, 396860000000000, 393917000000000, 284111000000000, 257733000000000, 242639000000000, 198796000000000, 41834000000000, 22207000000000, 1057000000000, -270000000000, 1051435000000000, 997513000000000, 888104000000000, 877298000000000, 815080000000000, 814829000000000, 804285000000000, 735400000000000, 708597000000000, 652449000000000, 637871000000000, 636487000000000, 630949000000000, 559393000000000, 554092000000000, 463385000000000, 462744000000000, 295103000000000, 291200000000000, 281069000000000, 271740000000000, 266895000000000, 260441000000000, 192191000000000, 141454000000000, 124264000000000, 112067000000000, 91988000000000, 23205000000000, 10312000000000, 1051374000000000, 991204000000000, 985116000000000, 983819000000000, 888656000000000, 877698000000000, 876543000000000, 869231000000000, 806892000000000, 732005000000000, 714365000000000, 692851000000000, 691480000000000, 635576000000000, 627915000000000, 626222000000000, 559495000000000, 551875000000000, 461316000000000, 393348000000000, 335273000000000, 296889000000000, 293742000000000, 283676000000000, 260562000000000, 198600000000000, 166431000000000, 116005000000000, 115219000000000, 50529000000000, 28360000000000, 22409000000000, 1051327000000000, 994500000000000, 992474000000000, 990851000000000, 982752000000000, 961068000000000, 866275000000000, 789022000000000, 784753000000000, 732546000000000, 720957000000000, 691571000000000, 690889000000000, 643082000000000, 629959000000000, 628418000000000, 626825000000000, 625430000000000, 601207000000000, 559149000000000, 521637000000000, 466539000000000, 385826000000000, 337533000000000, 281117000000000, 266743000000000, 260511000000000, 244981000000000, 214614000000000, 193078000000000, 191276000000000, 104443000000000, 99412000000000, 48622000000000, 31490000000000, 28321000000000, 23420000000000, 23132000000000, 6057000000000, -1461000000000, -1800000000000, 1051261000000000, 995541000000000, 984611000000000, 984378000000000, 983401000000000, 966642000000000, 953442000000000, 878306000000000, 813571000000000, 783354000000000, 728064000000000, 727903000000000, 709620000000000, 637727000000000, 630290000000000, 559708000000000, 452624000000000, 290937000000000, 262074000000000, 261047000000000, 197857000000000, 172690000000000, 165514000000000, 115930000000000, 113253000000000, 28517000000000, 22683000000000, 9515000000000, -1237000000000, 1051171000000000, 997047000000000, 996695000000000, 966872000000000, 878847000000000, 816129000000000, 814536000000000, 809720000000000, 802452000000000, 799884000000000, 783616000000000, 782373000000000, 711929000000000, 696893000000000, 689637000000000, 649543000000000, 645250000000000, 644193000000000, 643221000000000, 630343000000000, 629287000000000, 627442000000000, 619150000000000, 606026000000000, 557752000000000, 553188000000000, 550426000000000, 536493000000000, 465467000000000, 462464000000000, 461905000000000, 459022000000000, 392453000000000, 367917000000000, 339032000000000, 282609000000000, 282236000000000, 262418000000000, 255854000000000, 206103000000000, 197508000000000, 194721000000000, 168465000000000, 123880000000000, 122611000000000, 99936000000000, 90275000000000, 26701000000000, 23213000000000, 1051009000000000, 998514000000000, 967837000000000, 908394000000000, 822630000000000, 811526000000000, 810327000000000, 787698000000000, 768176000000000, 728114000000000, 695606000000000, 689995000000000, 642389000000000, 638548000000000, 630451000000000, 557746000000000, 458386000000000, 435055000000000, 376817000000000, 291008000000000, 281805000000000, 267093000000000, 260614000000000, 259584000000000, 168473000000000, 112032000000000, 26732000000000, 9024000000000, -1318000000000, 1050945000000000, 995233000000000, 994812000000000, 994773000000000, 994424000000000, 984585000000000, 983211000000000, 961754000000000, 908966000000000, 889300000000000, 878679000000000, 878491000000000, 865670000000000, 807007000000000, 799143000000000, 781961000000000, 697863000000000, 691521000000000, 689406000000000, 649981000000000, 642697000000000, 633780000000000, 626727000000000, 624925000000000, 599457000000000, 557877000000000, 557751000000000, 553768000000000, 551570000000000, 392791000000000, 384544000000000, 339761000000000, 294534000000000, 290893000000000, 283849000000000, 282518000000000, 273004000000000, 262967000000000, 214010000000000, 196778000000000, 190838000000000, 113217000000000, 99025000000000, 88173000000000, 86585000000000, 21943000000000, 6203000000000, -2779000000000, 1050915000000000, 995879000000000, 995623000000000, 993202000000000, 981817000000000, 962576000000000, 822854000000000, 815531000000000, 809218000000000, 802972000000000, 783933000000000, 782069000000000, 741094000000000, 718596000000000, 708093000000000, 693242000000000, 650143000000000, 644681000000000, 641565000000000, 630252000000000, 627627000000000, 627203000000000, 624748000000000, 605782000000000, 563440000000000, 560836000000000, 559790000000000, 555556000000000, 543968000000000, 521933000000000, 461501000000000, 391657000000000, 294989000000000, 284046000000000, 282404000000000, 269433000000000, 261417000000000, 216844000000000, 206884000000000, 206042000000000, 197325000000000, 193501000000000, 174942000000000, 166791000000000, 134295000000000, 123100000000000, 100325000000000, 48733000000000, 26533000000000, 26377000000000, 23568000000000, -1011000000000, 1050815000000000, 990437000000000, 982494000000000, 967442000000000, 906636000000000, 905194000000000, 888322000000000, 878030000000000, 866942000000000, 806828000000000, 805322000000000, 801845000000000, 797143000000000, 713376000000000, 693866000000000, 557802000000000, 552366000000000, 550026000000000, 463269000000000, 460060000000000, 358907000000000, 296697000000000, 270176000000000, 262169000000000, 198905000000000, 166096000000000, 115167000000000, 12156000000000, -1201000000000, 1050697000000000, 999400000000000, 994091000000000, 982615000000000, 878156000000000, 877325000000000, 866674000000000, 799081000000000, 734287000000000, 707957000000000, 694973000000000, 689552000000000, 645515000000000, 635533000000000, 626235000000000, 559194000000000, 519774000000000, 463748000000000, 375291000000000, 338620000000000, 297063000000000, 283729000000000, 282480000000000, 257634000000000, 166848000000000, 115616000000000, 115257000000000, 22189000000000, -1183000000000, 1046371000000000, 998836000000000, 994561000000000, 994305000000000, 982942000000000, 889680000000000, 877821000000000, 865494000000000, 805463000000000, 798438000000000, 782760000000000, 724774000000000, 712308000000000, 694572000000000, 691637000000000, 646311000000000, 643121000000000, 628539000000000, 626836000000000, 625466000000000, 623467000000000, 601336000000000, 559023000000000, 558412000000000, 557981000000000, 553135000000000, 551310000000000, 527311000000000, 467200000000000, 463826000000000, 461995000000000, 340142000000000, 281959000000000, 281728000000000, 259496000000000, 214661000000000, 191326000000000, 174037000000000, 115724000000000, 99439000000000, 50447000000000, 8884000000000, -1754000000000, -2007000000000, 1046147000000000, 996322000000000, 994264000000000, 952830000000000, 822310000000000, 814569000000000, 798635000000000, 789142000000000, 734560000000000, 731176000000000, 728774000000000, 690996000000000, 688729000000000, 642756000000000, 639054000000000, 627492000000000, 626746000000000, 625012000000000, 599909000000000, 558013000000000, 466272000000000, 462588000000000, 336782000000000, 281335000000000, 270858000000000, 268839000000000, 243539000000000, 214105000000000, 192363000000000, 190869000000000, 134102000000000, 100583000000000, 99064000000000, 87813000000000, 29518000000000, 24003000000000, 20497000000000, 1039380000000000, 996371000000000, 994034000000000, 990753000000000, 907178000000000, 816574000000000, 815160000000000, 803958000000000, 787207000000000, 733015000000000, 715386000000000, 692469000000000, 648111000000000, 642955000000000, 629882000000000, 628145000000000, 627883000000000, 626787000000000, 625238000000000, 600543000000000, 537450000000000, 523434000000000, 359838000000000, 338242000000000, 292712000000000, 274488000000000, 266624000000000, 263499000000000, 214412000000000, 192011000000000, 191116000000000, 140089000000000, 109362000000000, 99239000000000, 1039275000000000, 998914000000000, 996076000000000, 980172000000000, 954595000000000, 815985000000000, 809398000000000, 795708000000000, 787449000000000, 783807000000000, 741183000000000, 729349000000000, 709687000000000, 708221000000000, 644745000000000, 639727000000000, 632362000000000, 629705000000000, 627640000000000, 627270000000000, 604246000000000, 556803000000000, 522487000000000, 467404000000000, 465068000000000, 464862000000000, 377119000000000, 366404000000000, 335165000000000, 282358000000000, 268503000000000, 261035000000000, 198042000000000, 193735000000000, 184478000000000, 166318000000000, 125714000000000, 124488000000000, 100407000000000, 50113000000000, 28463000000000, 26562000000000, 25264000000000, 23486000000000, -536000000000, 1039194000000000, 1030070000000000, 994931000000000, 994454000000000, 993835000000000, 879061000000000, 822593000000000, 815268000000000, 814482000000000, 803002000000000, 802238000000000, 792636000000000, 791268000000000, 782308000000000, 714679000000000, 689208000000000, 649252000000000, 643577000000000, 642799000000000, 629046000000000, 626004000000000, 603072000000000, 559729000000000, 552388000000000, 464529000000000, 462851000000000, 458861000000000, 428010000000000, 385754000000000, 257713000000000, 215248000000000, 193691000000000, 125192000000000, 116356000000000, 99621000000000, 49959000000000, 21754000000000, 999221000000000, 989485000000000, 984382000000000, 961491000000000, 906944000000000, 891676000000000, 813609000000000, 806109000000000, 803070000000000, 793813000000000, 791796000000000, 727455000000000, 708004000000000, 688655000000000, 627482000000000, 559147000000000, 557146000000000, 552098000000000, 535667000000000, 396622000000000, 370371000000000, 293544000000000, 281835000000000, 270774000000000, 219999000000000, 192235000000000, 42115000000000, 21668000000000, 1178000000000, 999029000000000, 996939000000000, 983309000000000, 982422000000000, 968257000000000, 893623000000000, 874290000000000, 822762000000000, 816271000000000, 809652000000000, 806050000000000, 802795000000000, 802102000000000, 784278000000000, 756623000000000, 716412000000000, 701629000000000, 697108000000000, 695193000000000, 689445000000000, 646944000000000, 645442000000000, 644421000000000, 633985000000000, 630736000000000, 627608000000000, 621647000000000, 607166000000000, 564583000000000, 562589000000000, 541246000000000, 528983000000000, 463669000000000, 463619000000000, 451725000000000, 427678000000000, 368341000000000, 339461000000000, 282817000000000, 275464000000000, 274543000000000, 213562000000000, 199055000000000, 194975000000000, 174713000000000, 171549000000000, 123048000000000, 118693000000000, 100134000000000, 35054000000000, 28492000000000, 28134000000000, 502000000000, 998729000000000, 994219000000000, 969135000000000, 907813000000000, 877125000000000, 822473000000000, 798202000000000, 788925000000000, 783048000000000, 732279000000000, 713503000000000, 698053000000000, 695694000000000, 635631000000000, 626683000000000, 626617000000000, 560631000000000, 559260000000000, 557075000000000, 552950000000000, 551159000000000, 537501000000000, 463001000000000, 393807000000000, 337000000000000, 281259000000000, 269850000000000, 264720000000000, 259718000000000, 205560000000000, 196346000000000, 172351000000000, 123158000000000, 117158000000000, 111913000000000, 23280000000000, 19595000000000, -3049000000000, 998447000000000, 988985000000000, 982134000000000, 964341000000000, 960176000000000, 877769000000000, 794347000000000, 787623000000000, 733291000000000, 707229000000000, 694830000000000, 691596000000000, 644910000000000, 634538000000000, 557835000000000, 463569000000000, 434815000000000, 398095000000000, 338912000000000, 271102000000000, 260318000000000, 259631000000000, 173923000000000, 163990000000000, 124762000000000, 48596000000000, 42170000000000, 28035000000000, 10011000000000, 9708000000000, 998296000000000, 993927000000000, 982237000000000, 980366000000000, 961585000000000, 959604000000000, 909878000000000, 876034000000000, 813964000000000, 805883000000000, 803251000000000, 798208000000000, 795784000000000, 783369000000000, 781833000000000, 721363000000000, 720628000000000, 710836000000000, 695680000000000, 692961000000000, 689118000000000, 644779000000000, 642653000000000, 634170000000000, 630536000000000, 627319000000000, 605631000000000, 560868000000000, 557000000000000, 543883000000000, 535771000000000, 465290000000000, 461512000000000, 393005000000000, 375143000000000, 366642000000000, 290815000000000, 290314000000000, 268114000000000, 212344000000000, 197508000000000, 194017000000000, 172203000000000, 123650000000000, 100555000000000, 25377000000000, 24394000000000, 20146000000000, -1492000000000, 998284000000000, 995254000000000, 907711000000000, 877357000000000, 877233000000000, 808193000000000, 796404000000000, 784811000000000, 734913000000000, 731306000000000, 645016000000000, 643419000000000, 642669000000000, 635801000000000, 628830000000000, 627077000000000, 625719000000000, 602454000000000, 559044000000000, 554016000000000, 551637000000000, 535817000000000, 527616000000000, 465459000000000, 463816000000000, 293579000000000, 291022000000000, 281537000000000, 269277000000000, 215058000000000, 191980000000000, 115922000000000, 99560000000000, 24195000000000, 23280000000000, 20827000000000, -2355000000000, 998146000000000, 995751000000000, 991957000000000, 953094000000000, 821967000000000, 815655000000000, 814662000000000, 808074000000000, 803074000000000, 802108000000000, 732194000000000, 728596000000000, 721651000000000, 720701000000000, 695438000000000, 687492000000000, 647252000000000, 644619000000000, 642294000000000, 629652000000000, 627159000000000, 603903000000000, 556873000000000, 555490000000000, 542231000000000, 463680000000000, 297564000000000, 289984000000000, 283914000000000, 216693000000000, 206573000000000, 193215000000000, 172318000000000, 171704000000000, 140775000000000, 133752000000000, 124205000000000, 119805000000000, 104896000000000, 100291000000000, 50186000000000, 23186000000000, 21396000000000, -609000000000, 998124000000000, 993704000000000, 990686000000000, 976467000000000, 961812000000000, 884147000000000, 876273000000000, 866053000000000, 814927000000000, 732369000000000, 644951000000000, 636820000000000, 628681000000000, 626737000000000, 626624000000000, 559455000000000, 543049000000000, 464111000000000, 269820000000000, 267896000000000, 261963000000000, 205754000000000, 141929000000000, 117239000000000, 50236000000000, 28003000000000, 6464000000000, -707000000000, 998072000000000, 982356000000000, 897599000000000, 823024000000000, 807496000000000, 737251000000000, 728215000000000, 715284000000000, 708750000000000, 693941000000000, 691762000000000, 688641000000000, 643298000000000, 634999000000000, 558050000000000, 557904000000000, 538575000000000, 462893000000000, 375434000000000, 337149000000000, 283789000000000, 256073000000000, 142056000000000, 125007000000000, 112798000000000, 26146000000000, 10514000000000, -865000000000, 998041000000000, 968939000000000, 899283000000000, 886375000000000, 876993000000000, 811923000000000, 798256000000000, 782550000000000, 733601000000000, 708214000000000, 693820000000000, 689316000000000, 689316000000000, 635518000000000, 626440000000000, 557328000000000, 551638000000000, 520449000000000, 461430000000000, 339985000000000, 283978000000000, 281197000000000, 267950000000000, 263132000000000, 256908000000000, 242970000000000, 193175000000000, 124691000000000, 115902000000000, 11396000000000, 997969000000000, 995230000000000, 993791000000000, 990292000000000, 983648000000000, 961513000000000, 822981000000000, 811623000000000, 806008000000000, 784022000000000, 740882000000000, 724396000000000, 720673000000000, 647527000000000, 644537000000000, 644525000000000, 641866000000000, 629591000000000, 627493000000000, 627121000000000, 605221000000000, 559172000000000, 559127000000000, 554706000000000, 519843000000000, 466677000000000, 461033000000000, 337726000000000, 293704000000000, 290126000000000, 268954000000000, 220258000000000, 216623000000000, 197448000000000, 192937000000000, 123044000000000, 119422000000000, 100242000000000, 28145000000000, 24551000000000, 23023000000000, 19903000000000, -898000000000, 997948000000000, 993953000000000, 952090000000000, 909372000000000, 867033000000000, 810811000000000, 795542000000000, 754923000000000, 734760000000000, 730899000000000, 707181000000000, 696254000000000, 644188000000000, 642632000000000, 628817000000000, 627244000000000, 626709000000000, 624758000000000, 600111000000000, 521124000000000, 375873000000000, 335458000000000, 290917000000000, 282071000000000, 270628000000000, 269627000000000, 213821000000000, 190389000000000, 170395000000000, 98992000000000, 94392000000000, 24990000000000, 997894000000000, 994604000000000, 990111000000000, 906897000000000, 878587000000000, 868716000000000, 810516000000000, 802087000000000, 787267000000000, 783438000000000, 783256000000000, 713164000000000, 695779000000000, 693228000000000, 643378000000000, 630019000000000, 628802000000000, 626992000000000, 625690000000000, 623762000000000, 602318000000000, 559951000000000, 556176000000000, 551606000000000, 466936000000000, 459914000000000, 382227000000000, 338646000000000, 294699000000000, 294626000000000, 267169000000000, 264178000000000, 215034000000000, 193635000000000, 191805000000000, 116094000000000, 115699000000000, 99545000000000, 90108000000000, 28164000000000, 24868000000000, 6904000000000, -1853000000000, 997794000000000, 995663000000000, 995525000000000, 991418000000000, 953564000000000, 799232000000000, 796161000000000, 783556000000000, 734845000000000, 731392000000000, 728145000000000, 726993000000000, 698027000000000, 690799000000000, 688857000000000, 644746000000000, 643533000000000, 628934000000000, 627441000000000, 625876000000000, 602888000000000, 566594000000000, 560460000000000, 559766000000000, 551964000000000, 534629000000000, 375984000000000, 359425000000000, 339525000000000, 294725000000000, 267047000000000, 260356000000000, 256965000000000, 215182000000000, 204966000000000, 197914000000000, 192062000000000, 122664000000000, 105292000000000, 99602000000000, 27999000000000, 22509000000000, 21635000000000, -2260000000000, 997702000000000, 996639000000000, 994518000000000, 959741000000000, 888880000000000, 868359000000000, 815823000000000, 807889000000000, 806347000000000, 803086000000000, 755935000000000, 721126000000000, 709269000000000, 694259000000000, 692723000000000, 644714000000000, 629859000000000, 627228000000000, 605007000000000, 557607000000000, 555679000000000, 543562000000000, 522098000000000, 467049000000000, 391138000000000, 376558000000000, 366200000000000, 360025000000000, 293634000000000, 262472000000000, 258319000000000, 255923000000000, 197193000000000, 193575000000000, 172955000000000, 169336000000000, 140977000000000, 123423000000000, 115790000000000, 100356000000000, 28200000000000, 23981000000000, 22092000000000, 21821000000000, -1394000000000, 997678000000000, 985210000000000, 982580000000000, 981976000000000, 907070000000000, 891980000000000, 875588000000000, 859138000000000, 809844000000000, 806150000000000, 699405000000000, 694735000000000, 689849000000000, 635333000000000, 558206000000000, 550356000000000, 462902000000000, 397461000000000, 391995000000000, 295240000000000, 290744000000000, 274333000000000, 260018000000000, 173090000000000, 165225000000000, 124571000000000, 113181000000000, 83872000000000, 28048000000000, 25231000000000, 997365000000000, 981003000000000, 907674000000000, 866585000000000, 814997000000000, 784455000000000, 736884000000000, 715521000000000, 709138000000000, 693870000000000, 639526000000000, 636719000000000, 559931000000000, 558596000000000, 541955000000000, 519742000000000, 463569000000000, 458785000000000, 293710000000000, 289904000000000, 272484000000000, 267240000000000, 262267000000000, 131495000000000, 113302000000000, 24717000000000, -416000000000, 997241000000000, 996982000000000, 996156000000000, 983003000000000, 981687000000000, 907918000000000, 895359000000000, 879096000000000, 876773000000000, 865843000000000, 811033000000000, 807809000000000, 806095000000000, 805919000000000, 803023000000000, 796230000000000, 716064000000000, 708594000000000, 700704000000000, 693415000000000, 690643000000000, 688681000000000, 647398000000000, 644117000000000, 641418000000000, 634193000000000, 630468000000000, 626317000000000, 603456000000000, 565234000000000, 562605000000000, 559912000000000, 557772000000000, 554174000000000, 543743000000000, 459297000000000, 451796000000000, 393479000000000, 294869000000000, 282426000000000, 260910000000000, 216132000000000, 213319000000000, 197561000000000, 192405000000000, 171937000000000, 124798000000000, 117944000000000, 99760000000000, 31536000000000, 24076000000000, 22322000000000, -814000000000, 997172000000000, 991543000000000, 983344000000000, 964823000000000, 959993000000000, 907237000000000, 875874000000000, 810948000000000, 797137000000000, 782684000000000, 767931000000000, 713274000000000, 689944000000000, 644040000000000, 630610000000000, 551832000000000, 550718000000000, 337129000000000, 270105000000000, 174844000000000, 87689000000000, 42223000000000, 25298000000000, 9881000000000, 11000000000, 997126000000000, 990928000000000, 982980000000000, 885787000000000, 876627000000000, 868862000000000, 859330000000000, 795229000000000, 782240000000000, 728307000000000, 727649000000000, 712792000000000, 696091000000000, 689237000000000, 643972000000000, 628409000000000, 557521000000000, 550087000000000, 519656000000000, 376252000000000, 339704000000000, 290732000000000, 262593000000000, 165572000000000, 122811000000000, 115092000000000, 86724000000000, 49229000000000, 25272000000000, 25070000000000, 21957000000000, 997060000000000, 996777000000000, 995033000000000, 981729000000000, 908719000000000, 904885000000000, 878783000000000, 807843000000000, 807170000000000, 803034000000000, 784078000000000, 689907000000000, 689258000000000, 644166000000000, 643558000000000, 638010000000000, 630728000000000, 630453000000000, 629358000000000, 626373000000000, 604022000000000, 560590000000000, 554292000000000, 543812000000000, 467539000000000, 464856000000000, 463530000000000, 385176000000000, 339594000000000, 297455000000000, 269076000000000, 216174000000000, 192438000000000, 174293000000000, 115538000000000, 99798000000000, 49538000000000, 26244000000000, 22618000000000, -1628000000000, 996946000000000, 988128000000000, 982857000000000, 895376000000000, 889229000000000, 813872000000000, 806536000000000, 803131000000000, 797408000000000, 784982000000000, 715772000000000, 695745000000000, 689647000000000, 635610000000000, 628040000000000, 626592000000000, 626565000000000, 553916000000000, 542677000000000, 537353000000000, 463035000000000, 460739000000000, 460262000000000, 282316000000000, 185527000000000, 117108000000000, 50683000000000, 21569000000000, -1159000000000, 996916000000000, 983115000000000, 982044000000000, 906412000000000, 877046000000000, 866534000000000, 806960000000000, 802540000000000, 796722000000000, 707560000000000, 707306000000000, 695271000000000, 649036000000000, 634981000000000, 557910000000000, 557388000000000, 463467000000000, 460822000000000, 336337000000000, 291183000000000, 273118000000000, 266810000000000, 257437000000000, 172516000000000, 141160000000000, 134130000000000, 118540000000000, 112228000000000, 28680000000000, 28394000000000, 1955000000000, 996839000000000, 996583000000000, 996571000000000, 982068000000000, 961293000000000, 891589000000000, 875899000000000, 815483000000000, 808459000000000, 802715000000000, 793012000000000, 783211000000000, 768841000000000, 709411000000000, 700879000000000, 700253000000000, 697061000000000, 693711000000000, 645343000000000, 643430000000000, 633694000000000, 630606000000000, 627520000000000, 607021000000000, 558390000000000, 550519000000000, 538956000000000, 465706000000000, 463220000000000, 462625000000000, 392546000000000, 368061000000000, 335068000000000, 290705000000000, 290171000000000, 284307000000000, 282703000000000, 274700000000000, 268360000000000, 196684000000000, 194862000000000, 170346000000000, 134212000000000, 126465000000000, 100050000000000, 92420000000000, 28377000000000, 27277000000000, 24159000000000, 23093000000000, -1697000000000, 996790000000000, 996766000000000, 995029000000000, 994939000000000, 982656000000000, 962409000000000, 890740000000000, 878228000000000, 874019000000000, 813963000000000, 810072000000000, 805427000000000, 803353000000000, 784575000000000, 720168000000000, 692914000000000, 690234000000000, 646698000000000, 645291000000000, 642597000000000, 633633000000000, 630061000000000, 627476000000000, 606273000000000, 562440000000000, 557838000000000, 550648000000000, 536563000000000, 534167000000000, 528811000000000, 463078000000000, 463069000000000, 451585000000000, 367962000000000, 359187000000000, 282650000000000, 265072000000000, 260830000000000, 213925000000000, 199779000000000, 195148000000000, 193264000000000, 173405000000000, 124493000000000, 100815000000000, 91241000000000, 28013000000000, 27409000000000, 27003000000000, 26316000000000, 10050000000000, -2836000000000, 996538000000000, 994192000000000, 991458000000000, 962712000000000, 954526000000000, 810245000000000, 794305000000000, 787539000000000, 733243000000000, 707259000000000, 707255000000000, 694493000000000, 643916000000000, 634356000000000, 559860000000000, 559762000000000, 553268000000000, 464563000000000, 432771000000000, 393747000000000, 337252000000000, 290883000000000, 289578000000000, 283823000000000, 270441000000000, 269833000000000, 172771000000000, 163924000000000, 83679000000000, 42191000000000, 996486000000000, 995919000000000, 994734000000000, 984470000000000, 961198000000000, 891041000000000, 823091000000000, 803269000000000, 793098000000000, 782721000000000, 709884000000000, 689465000000000, 689284000000000, 645149000000000, 643069000000000, 630067000000000, 627410000000000, 605879000000000, 562522000000000, 557475000000000, 554830000000000, 553338000000000, 536345000000000, 466739000000000, 462567000000000, 462148000000000, 393236000000000, 367378000000000, 335953000000000, 282575000000000, 262805000000000, 256030000000000, 205829000000000, 198649000000000, 194326000000000, 192638000000000, 133954000000000, 123540000000000, 100745000000000, 50821000000000, 34962000000000, 26002000000000, -357000000000, 996463000000000, 994399000000000, 966323000000000, 909298000000000, 891383000000000, 810675000000000, 804111000000000, 789324000000000, 781546000000000, 732593000000000, 707856000000000, 698101000000000, 693196000000000, 642920000000000, 638443000000000, 628218000000000, 627790000000000, 626778000000000, 625193000000000, 562437000000000, 558893000000000, 521003000000000, 462715000000000, 462686000000000, 385460000000000, 337043000000000, 281787000000000, 267020000000000, 257596000000000, 214371000000000, 197700000000000, 191070000000000, 173474000000000, 169192000000000, 103279000000000, 99174000000000, 27243000000000, 21777000000000, 9043000000000, -1526000000000, -2666000000000, 996347000000000, 994255000000000, 980496000000000, 960367000000000, 906449000000000, 890321000000000, 865911000000000, 816454000000000, 810170000000000, 803656000000000, 801571000000000, 799709000000000, 790957000000000, 783961000000000, 756970000000000, 715857000000000, 713404000000000, 708676000000000, 646854000000000, 644979000000000, 633514000000000, 627358000000000, 606552000000000, 557205000000000, 543347000000000, 535933000000000, 393586000000000, 386418000000000, 367197000000000, 293788000000000, 291101000000000, 261753000000000, 219906000000000, 198479000000000, 194083000000000, 173676000000000, 170478000000000, 167534000000000, 124118000000000, 123250000000000, 100717000000000, 25479000000000, 24645000000000, 20980000000000, -1579000000000, 996224000000000, 989843000000000, 897850000000000, 814793000000000, 782754000000000, 767610000000000, 737168000000000, 715868000000000, 709266000000000, 688896000000000, 636959000000000, 631533000000000, 626416000000000, 558656000000000, 551728000000000, 541409000000000, 537115000000000, 519946000000000, 375616000000000, 338535000000000, 297194000000000, 270026000000000, 258253000000000, 168434000000000, 115726000000000, 28030000000000, 22101000000000, -793000000000, -3132000000000, 996083000000000, 993763000000000, 992857000000000, 986007000000000, 969380000000000, 967286000000000, 909729000000000, 889411000000000, 876458000000000, 867692000000000, 811896000000000, 807614000000000, 806218000000000, 804376000000000, 731824000000000, 725004000000000, 696306000000000, 689504000000000, 643787000000000, 642829000000000, 633758000000000, 627418000000000, 626758000000000, 625111000000000, 600230000000000, 559662000000000, 553626000000000, 537297000000000, 464046000000000, 335364000000000, 293170000000000, 281625000000000, 270816000000000, 243816000000000, 214260000000000, 190997000000000, 168176000000000, 114847000000000, 99143000000000, 23601000000000, 6861000000000, -1727000000000, -2597000000000, 996044000000000, 994659000000000, 993971000000000, 990323000000000, 906858000000000, 806398000000000, 796439000000000, 796070000000000, 767450000000000, 734251000000000, 689576000000000, 645283000000000, 643856000000000, 643152000000000, 628603000000000, 626851000000000, 625547000000000, 601554000000000, 558513000000000, 553513000000000, 541001000000000, 527122000000000, 462400000000000, 461626000000000, 340675000000000, 293675000000000, 283531000000000, 281442000000000, 214748000000000, 196904000000000, 191647000000000, 168312000000000, 142339000000000, 99474000000000, 88704000000000, 28337000000000, 24153000000000, 23237000000000, 20637000000000, -1375000000000, -2291000000000, 995997000000000, 986303000000000, 964981000000000, 866470000000000, 814768000000000, 806278000000000, 735879000000000, 713705000000000, 708312000000000, 698985000000000, 691826000000000, 636321000000000, 614719000000000, 558400000000000, 557012000000000, 554205000000000, 452045000000000, 393418000000000, 339545000000000, 282227000000000, 282159000000000, 268292000000000, 163744000000000, 111810000000000, 84330000000000, 48659000000000, 26816000000000, 21252000000000, 995908000000000, 982753000000000, 815530000000000, 809361000000000, 799543000000000, 785164000000000, 736821000000000, 732248000000000, 730293000000000, 728422000000000, 713928000000000, 697306000000000, 642976000000000, 639592000000000, 557944000000000, 552253000000000, 452368000000000, 391410000000000, 338682000000000, 293415000000000, 269903000000000, 259667000000000, 141353000000000, 111995000000000, 83787000000000, 25166000000000, -580000000000, 995864000000000, 987518000000000, 986034000000000, 984685000000000, 961856000000000, 813515000000000, 810396000000000, 793519000000000, 786892000000000, 732116000000000, 715070000000000, 713059000000000, 700027000000000, 692220000000000, 626466000000000, 555180000000000, 520799000000000, 464663000000000, 359579000000000, 335890000000000, 294305000000000, 185329000000000, 168909000000000, 116407000000000, 31565000000000, 12020000000000, -313000000000, 995735000000000, 984828000000000, 981803000000000, 968742000000000, 962644000000000, 907475000000000, 888518000000000, 878378000000000, 866383000000000, 804202000000000, 799350000000000, 783099000000000, 729109000000000, 721516000000000, 700666000000000, 694894000000000, 690474000000000, 689651000000000, 642489000000000, 552576000000000, 433753000000000, 359126000000000, 336096000000000, 266941000000000, 262618000000000, 255887000000000, 172613000000000, 164165000000000, 86458000000000, 42265000000000, 28242000000000, 26916000000000, 23936000000000, 995602000000000, 987381000000000, 981333000000000, 908606000000000, 877442000000000, 865968000000000, 806233000000000, 798990000000000, 785411000000000, 732075000000000, 694476000000000, 644496000000000, 636273000000000, 626454000000000, 559656000000000, 557112000000000, 552134000000000, 464723000000000, 459838000000000, 459194000000000, 340098000000000, 258615000000000, 192283000000000, 185267000000000, 116354000000000, 89632000000000, -350000000000, -3109000000000, 995542000000000, 993613000000000, 993074000000000, 981750000000000, 890037000000000, 815025000000000, 814068000000000, 813625000000000, 808724000000000, 803065000000000, 794939000000000, 741277000000000, 736336000000000, 729256000000000, 721052000000000, 720464000000000, 696455000000000, 644316000000000, 641252000000000, 629476000000000, 627063000000000, 623394000000000, 603736000000000, 560738000000000, 557474000000000, 554485000000000, 543228000000000, 537686000000000, 392167000000000, 338319000000000, 292786000000000, 289409000000000, 267799000000000, 261487000000000, 220118000000000, 216480000000000, 205463000000000, 196490000000000, 192738000000000, 170120000000000, 131882000000000, 118058000000000, 116485000000000, 100219000000000, 27986000000000, 19367000000000, -2737000000000, 995383000000000, 992592000000000, 952338000000000, 907549000000000, 893767000000000, 887164000000000, 806800000000000, 803011000000000, 802914000000000, 796288000000000, 755554000000000, 708483000000000, 700358000000000, 644061000000000, 642950000000000, 630143000000000, 629145000000000, 626196000000000, 603282000000000, 558130000000000, 554012000000000, 542348000000000, 465998000000000, 462334000000000, 290871000000000, 288884000000000, 283376000000000, 261850000000000, 259675000000000, 216083000000000, 197963000000000, 192226000000000, 184412000000000, 131666000000000, 116460000000000, 115920000000000, 99703000000000, -1919000000000, 995328000000000, 993483000000000, 987212000000000, 986479000000000, 908654000000000, 879933000000000, 878196000000000, 822938000000000, 798917000000000, 784919000000000, 782991000000000, 697372000000000, 688626000000000, 648210000000000, 644043000000000, 552518000000000, 462796000000000, 291074000000000, 282461000000000, 261452000000000, 197073000000000, 171746000000000, 142246000000000, 84268000000000, 42435000000000, -223000000000, 995076000000000, 988060000000000, 983767000000000, 983277000000000, 962228000000000, 953949000000000, 906733000000000, 821904000000000, 810614000000000, 807984000000000, 802382000000000, 797226000000000, 797054000000000, 792484000000000, 791739000000000, 784169000000000, 740835000000000, 694436000000000, 626533000000000, 559295000000000, 558018000000000, 464945000000000, 338185000000000, 269565000000000, 267190000000000, 264215000000000, 169592000000000, 123123000000000, 115466000000000, 28300000000000, 24826000000000, 994927000000000, 994633000000000, 993857000000000, 991590000000000, 964740000000000, 909390000000000, 813814000000000, 809798000000000, 809294000000000, 797516000000000, 697667000000000, 651739000000000, 645923000000000, 643243000000000, 629998000000000, 628675000000000, 626881000000000, 625597000000000, 601778000000000, 567214000000000, 552042000000000, 527411000000000, 461628000000000, 458703000000000, 375368000000000, 294646000000000, 293261000000000, 272410000000000, 262885000000000, 214886000000000, 198178000000000, 193403000000000, 191717000000000, 133924000000000, 113890000000000, 99500000000000, 86836000000000, 28438000000000, 25320000000000, 9170000000000, -1682000000000, -2557000000000, 994510000000000, 990667000000000, 980636000000000, 976141000000000, 878085000000000, 877229000000000, 822709000000000, 810003000000000, 804634000000000, 798804000000000, 798382000000000, 790899000000000, 724527000000000, 697004000000000, 645755000000000, 626476000000000, 520661000000000, 463819000000000, 460031000000000, 391743000000000, 294387000000000, 282507000000000, 268156000000000, 259522000000000, 192754000000000, 185377000000000, 133697000000000, 116661000000000, -1086000000000, 994079000000000, 990987000000000, 986337000000000, 865799000000000, 815326000000000, 814023000000000, 802448000000000, 781663000000000, 734657000000000, 731020000000000, 728358000000000, 691679000000000, 643389000000000, 643031000000000, 628164000000000, 626809000000000, 625340000000000, 600658000000000, 559001000000000, 542038000000000, 538473000000000, 461792000000000, 393068000000000, 385029000000000, 337301000000000, 300402000000000, 293290000000000, 269374000000000, 259508000000000, 219805000000000, 214543000000000, 191227000000000, 115189000000000, 99288000000000, 84199000000000, 50303000000000, 27971000000000, 27710000000000, 9126000000000, -1417000000000, -2430000000000, 993976000000000, 989985000000000, 984344000000000, 982561000000000, 968071000000000, 964663000000000, 865586000000000, 813462000000000, 787032000000000, 732466000000000, 726740000000000, 644767000000000, 642617000000000, 635725000000000, 627142000000000, 626702000000000, 624734000000000, 599748000000000, 557828000000000, 520071000000000, 465182000000000, 460361000000000, 335781000000000, 293615000000000, 282275000000000, 269894000000000, 268423000000000, 242032000000000, 213784000000000, 197626000000000, 172645000000000, 117601000000000, 98970000000000, 49986000000000, 28257000000000, 25343000000000, 6767000000000, -2898000000000, 993866000000000, 992327000000000, 983692000000000, 967974000000000, 966712000000000, 962315000000000, 894033000000000, 889135000000000, 813709000000000, 806019000000000, 697998000000000, 651092000000000, 643725000000000, 643022000000000, 627018000000000, 626683000000000, 624629000000000, 557217000000000, 520877000000000, 465088000000000, 461225000000000, 297667000000000, 269750000000000, 269512000000000, 219956000000000, 196845000000000, 174333000000000, 117580000000000, 112935000000000, 98947000000000, 85448000000000, 49926000000000, 28414000000000, 22984000000000, -2873000000000, 993576000000000, 988482000000000, 985495000000000, 984636000000000, 982330000000000, 976028000000000, 810038000000000, 805545000000000, 798062000000000, 782147000000000, 728342000000000, 696478000000000, 689573000000000, 642667000000000, 627290000000000, 626719000000000, 624803000000000, 557902000000000, 557440000000000, 551542000000000, 462473000000000, 335671000000000, 290951000000000, 270374000000000, 267643000000000, 260407000000000, 213857000000000, 190712000000000, 165877000000000, 124898000000000, 99018000000000, 89978000000000, 20403000000000, 992405000000000, 981762000000000, 909325000000000, 815435000000000, 814724000000000, 796069000000000, 792371000000000, 735228000000000, 714798000000000, 707493000000000, 693799000000000, 648509000000000, 636102000000000, 558468000000000, 541900000000000, 462650000000000, 433238000000000, 283502000000000, 263447000000000, 172669000000000, 164251000000000, 133601000000000, 115373000000000, 89287000000000, 27966000000000, 25137000000000, -479000000000, 992371000000000, 990705000000000, 985656000000000, 983072000000000, 969241000000000, 807778000000000, 798351000000000, 788417000000000, 782715000000000, 731936000000000, 728274000000000, 726903000000000, 697807000000000, 695958000000000, 645160000000000, 626406000000000, 558968000000000, 557501000000000, 464768000000000, 462094000000000, 373259000000000, 290670000000000, 281671000000000, 267276000000000, 167251000000000, 122708000000000, 115543000000000, 50014000000000, 28018000000000, 992319000000000, 990479000000000, 983518000000000, 982939000000000, 982122000000000, 907937000000000, 808614000000000, 796177000000000, 733118000000000, 652137000000000, 644852000000000, 636302000000000, 558681000000000, 552975000000000, 541599000000000, 463573000000000, 434451000000000, 335412000000000, 282199000000000, 258635000000000, 173981000000000, 163678000000000, 42455000000000, 28092000000000, 27504000000000, 21189000000000, -610000000000, 991744000000000, 981865000000000, 959673000000000, 909549000000000, 884696000000000, 797833000000000, 794120000000000, 735593000000000, 722183000000000, 715935000000000, 695113000000000, 693517000000000, 690067000000000, 635190000000000, 631676000000000, 628313000000000, 553009000000000, 550903000000000, 337367000000000, 259319000000000, 132041000000000, 117705000000000, 112907000000000, 85014000000000, 10654000000000, -148000000000, 991625000000000, 983600000000000, 964905000000000, 906378000000000, 866838000000000, 797386000000000, 736717000000000, 731525000000000, 712925000000000, 707514000000000, 694166000000000, 636368000000000, 558745000000000, 463256000000000, 397954000000000, 382356000000000, 341021000000000, 282284000000000, 270050000000000, 205400000000000, 171977000000000, 164574000000000, 124136000000000, 111893000000000, 34696000000000, 21296000000000, -545000000000, 991334000000000, 990977000000000, 986488000000000, 964409000000000, 906192000000000, 822042000000000, 789689000000000, 782032000000000, 733391000000000, 707319000000000, 695001000000000, 688983000000000, 635944000000000, 558345000000000, 541777000000000, 462864000000000, 433625000000000, 335539000000000, 290928000000000, 289235000000000, 273174000000000, 173281000000000, 141813000000000, 122875000000000, 111764000000000, 28009000000000, 1500000000000, -1034000000000, 990813000000000, 990257000000000, 964516000000000, 906531000000000, 822530000000000, 814829000000000, 789757000000000, 735294000000000, 708991000000000, 694371000000000, 688880000000000, 636426000000000, 559353000000000, 553883000000000, 462623000000000, 433514000000000, 341124000000000, 282426000000000, 260706000000000, 205020000000000, 141276000000000, 124406000000000, 122951000000000, 112086000000000, 50630000000000, 9259000000000, -461000000000, 990515000000000, 990173000000000, 985323000000000, 899281000000000, 888773000000000, 808774000000000, 798139000000000, 788488000000000, 785333000000000, 731853000000000, 727945000000000, 721446000000000, 695058000000000, 692264000000000, 638290000000000, 626427000000000, 538860000000000, 520117000000000, 337196000000000, 293686000000000, 281149000000000, 261343000000000, 197493000000000, 184644000000000, 172046000000000, 131218000000000, 125281000000000, 115810000000000, 35757000000000, 990321000000000, 990046000000000, 983537000000000, 907341000000000, 883513000000000, 879270000000000, 814180000000000, 797624000000000, 782996000000000, 707799000000000, 698107000000000, 696819000000000, 636184000000000, 558540000000000, 535086000000000, 464454000000000, 463338000000000, 435137000000000, 397112000000000, 393980000000000, 295141000000000, 290689000000000, 261279000000000, 172106000000000, 115887000000000, 113098000000000, 11138000000000, 5950000000000, -1282000000000, 990038000000000, 982256000000000, 981854000000000, 890075000000000, 876685000000000, 809636000000000, 808300000000000, 796873000000000, 792212000000000, 714155000000000, 696030000000000, 693126000000000, 643097000000000, 638759000000000, 612534000000000, 559323000000000, 553401000000000, 462685000000000, 462133000000000, 282062000000000, 268263000000000, 174505000000000, 132190000000000, 28213000000000, 83000000000, 1082124000000000, 1078420000000000, 1063852000000000, 1058542000000000, 1045498000000000, 1039962000000000, 994997000000000, 962565000000000, 958982000000000, 867985000000000, 867493000000000, 804574000000000, 803127000000000, 802577000000000, 800864000000000, 784796000000000, 782171000000000, 735517000000000, 730020000000000, 728395000000000, 722997000000000, 708279000000000, 645156000000000, 632506000000000, 625554000000000, 612276000000000, 603621000000000, 526489000000000, 495049000000000, 452646000000000, 437906000000000, 434366000000000, 381340000000000, 350811000000000, 344219000000000, 302894000000000, 276522000000000, 267972000000000, 215681000000000, 204241000000000, 186257000000000, 123640000000000, 117505000000000, 111689000000000, 111213000000000, 109702000000000, 97395000000000, 92161000000000, 91660000000000, 86416000000000, 42346000000000, 37828000000000, 23658000000000, 20503000000000, 4547000000000, 4445000000000, 2595000000000, 1078206000000000, 1064315000000000, 1059010000000000, 1039585000000000, 972577000000000, 955169000000000, 954561000000000, 937053000000000, 899273000000000, 858044000000000, 816598000000000, 799142000000000, 797338000000000, 782321000000000, 718752000000000, 718710000000000, 706502000000000, 704801000000000, 643322000000000, 631043000000000, 624290000000000, 525599000000000, 522051000000000, 491068000000000, 470505000000000, 446484000000000, 353491000000000, 301034000000000, 266445000000000, 256451000000000, 211332000000000, 185068000000000, 123811000000000, 108494000000000, 87432000000000, 84805000000000, 19629000000000, 14631000000000, 7940000000000, 7107000000000, 2191000000000, 1078020000000000, 1058665000000000, 1058432000000000, 1045041000000000, 1043416000000000, 901942000000000, 870480000000000, 859773000000000, 815972000000000, 803885000000000, 802433000000000, 798173000000000, 721672000000000, 720586000000000, 718420000000000, 704735000000000, 642144000000000, 596392000000000, 525277000000000, 490492000000000, 467604000000000, 448046000000000, 439969000000000, 344149000000000, 276880000000000, 123046000000000, 114847000000000, 110914000000000, 110146000000000, 95005000000000, 90544000000000, 33178000000000, 17208000000000, 10439000000000, 1077943000000000, 1071244000000000, 1058332000000000, 1044732000000000, 898617000000000, 870193000000000, 858093000000000, 800757000000000, 781217000000000, 771817000000000, 647474000000000, 614195000000000, 573917000000000, 524238000000000, 523620000000000, 434366000000000, 353587000000000, 302367000000000, 212113000000000, 208080000000000, 185706000000000, 169380000000000, 161853000000000, 123585000000000, 115932000000000, 109756000000000, 106880000000000, 106194000000000, 33496000000000, 14051000000000, 9758000000000, 1077133000000000, 1069785000000000, 1066491000000000, 1063021000000000, 1044322000000000, 993770000000000, 961886000000000, 950050000000000, 869366000000000, 867005000000000, 806428000000000, 801229000000000, 792849000000000, 730097000000000, 729318000000000, 728061000000000, 722409000000000, 706931000000000, 638515000000000, 582620000000000, 528364000000000, 525819000000000, 522624000000000, 520660000000000, 493548000000000, 470130000000000, 453634000000000, 436831000000000, 388104000000000, 378005000000000, 355346000000000, 300938000000000, 300844000000000, 275060000000000, 267807000000000, 256528000000000, 214975000000000, 213230000000000, 208164000000000, 185724000000000, 166153000000000, 122736000000000, 114886000000000, 109382000000000, 105221000000000, 98515000000000, 91511000000000, 86308000000000, 33240000000000, 32682000000000, 18275000000000, 3545000000000, 2659000000000, 1076365000000000, 1069361000000000, 1063653000000000, 1043542000000000, 1038283000000000, 989845000000000, 961490000000000, 936967000000000, 868372000000000, 818978000000000, 806182000000000, 800502000000000, 798768000000000, 731745000000000, 730020000000000, 727513000000000, 726763000000000, 722598000000000, 722054000000000, 707858000000000, 654581000000000, 637469000000000, 631774000000000, 574391000000000, 528204000000000, 525386000000000, 493020000000000, 387499000000000, 377292000000000, 292419000000000, 281307000000000, 274590000000000, 267705000000000, 210660000000000, 198847000000000, 184367000000000, 166285000000000, 123130000000000, 117166000000000, 109427000000000, 106950000000000, 96237000000000, 91539000000000, 86193000000000, 35692000000000, 18604000000000, 3531000000000, 1075902000000000, 1059061000000000, 1042377000000000, 973267000000000, 954878000000000, 954480000000000, 938270000000000, 858537000000000, 802657000000000, 801090000000000, 794346000000000, 782068000000000, 774660000000000, 771520000000000, 718827000000000, 706459000000000, 644817000000000, 630996000000000, 624059000000000, 527480000000000, 524975000000000, 521964000000000, 491047000000000, 467652000000000, 436681000000000, 302606000000000, 257509000000000, 256433000000000, 212704000000000, 185452000000000, 119657000000000, 109540000000000, 108499000000000, 90797000000000, 90190000000000, 84641000000000, 37640000000000, 17475000000000, 8159000000000, 3397000000000, 2178000000000, 1075790000000000, 1071395000000000, 1043836000000000, 1039455000000000, 973116000000000, 938374000000000, 868107000000000, 816164000000000, 803532000000000, 796292000000000, 741305000000000, 721417000000000, 689076000000000, 648635000000000, 626387000000000, 579875000000000, 525542000000000, 433407000000000, 351194000000000, 264199000000000, 209579000000000, 160647000000000, 119600000000000, 104383000000000, 92138000000000, 84058000000000, 37141000000000, 5137000000000, 1075575000000000, 1072010000000000, 1064150000000000, 1063779000000000, 991550000000000, 988963000000000, 961343000000000, 956053000000000, 875994000000000, 859474000000000, 814473000000000, 806490000000000, 793469000000000, 775481000000000, 740304000000000, 726326000000000, 725187000000000, 717591000000000, 706907000000000, 689492000000000, 653121000000000, 643554000000000, 635263000000000, 573706000000000, 528079000000000, 524347000000000, 522758000000000, 492914000000000, 471652000000000, 448975000000000, 376799000000000, 361618000000000, 302191000000000, 288543000000000, 275200000000000, 274028000000000, 267641000000000, 211747000000000, 208520000000000, 182126000000000, 160611000000000, 123479000000000, 103770000000000, 97943000000000, 35992000000000, 16033000000000, 15444000000000, 11494000000000, 4664000000000, 3069000000000, 1074247000000000, 1063064000000000, 1042798000000000, 1041045000000000, 990292000000000, 942394000000000, 898819000000000, 868507000000000, 860915000000000, 814047000000000, 806103000000000, 797148000000000, 741828000000000, 717427000000000, 613876000000000, 521826000000000, 353474000000000, 292164000000000, 277423000000000, 256604000000000, 211536000000000, 160781000000000, 150619000000000, 110753000000000, 87709000000000, 73887000000000, 19819000000000, 8281000000000, 4081000000000, 1074184000000000, 1059867000000000, 1045455000000000, 867896000000000, 817491000000000, 800972000000000, 797795000000000, 718013000000000, 706023000000000, 648043000000000, 643942000000000, 571394000000000, 528647000000000, 520442000000000, 380850000000000, 278042000000000, 175777000000000, 125607000000000, 124669000000000, 123545000000000, 107629000000000, 105827000000000, 87043000000000, 17616000000000, 7579000000000, 4174000000000, 1074126000000000, 1073823000000000, 1063200000000000, 1063145000000000, 1039649000000000, 980872000000000, 957951000000000, 899311000000000, 880898000000000, 817651000000000, 806502000000000, 804374000000000, 798971000000000, 781663000000000, 722801000000000, 707932000000000, 675477000000000, 631522000000000, 527607000000000, 527450000000000, 526636000000000, 519638000000000, 491859000000000, 436349000000000, 360587000000000, 289474000000000, 278407000000000, 267086000000000, 258822000000000, 256564000000000, 214819000000000, 212896000000000, 208377000000000, 160751000000000, 115887000000000, 110061000000000, 104464000000000, 97234000000000, 90125000000000, 85939000000000, 84739000000000, 71660000000000, 17610000000000, 14919000000000, 4214000000000, 1073645000000000, 1063303000000000, 1062187000000000, 982041000000000, 958749000000000, 955589000000000, 858123000000000, 816429000000000, 807069000000000, 804213000000000, 800549000000000, 797019000000000, 770746000000000, 731097000000000, 720843000000000, 707715000000000, 675768000000000, 645181000000000, 632609000000000, 632136000000000, 582156000000000, 526727000000000, 524821000000000, 523491000000000, 519473000000000, 492467000000000, 452689000000000, 437541000000000, 374509000000000, 293319000000000, 272013000000000, 267320000000000, 257767000000000, 213976000000000, 194891000000000, 185947000000000, 119907000000000, 114494000000000, 110864000000000, 104583000000000, 97459000000000, 90193000000000, 32916000000000, 32668000000000, 15071000000000, 3341000000000, 2903000000000, 1073577000000000, 1063711000000000, 991223000000000, 900716000000000, 804509000000000, 804488000000000, 799788000000000, 793893000000000, 743031000000000, 717629000000000, 689189000000000, 525030000000000, 449485000000000, 292758000000000, 290886000000000, 283854000000000, 257479000000000, 209242000000000, 178206000000000, 169316000000000, 133040000000000, 125152000000000, 123448000000000, 109159000000000, 108955000000000, 89576000000000, 16011000000000, 3383000000000, 1073536000000000, 1045386000000000, 900972000000000, 817366000000000, 806222000000000, 799234000000000, 731370000000000, 719521000000000, 688833000000000, 643349000000000, 582209000000000, 524250000000000, 522137000000000, 495286000000000, 448358000000000, 292252000000000, 211113000000000, 194298000000000, 132519000000000, 123592000000000, 107387000000000, 105571000000000, 88053000000000, 39330000000000, 14830000000000, 1073480000000000, 1065996000000000, 1059687000000000, 1042226000000000, 1040938000000000, 1028361000000000, 987400000000000, 960827000000000, 941873000000000, 874418000000000, 861326000000000, 806577000000000, 802062000000000, 799796000000000, 793649000000000, 773516000000000, 772576000000000, 731232000000000, 725748000000000, 720343000000000, 719307000000000, 706048000000000, 653458000000000, 642368000000000, 635186000000000, 632478000000000, 611922000000000, 527171000000000, 525672000000000, 518785000000000, 492784000000000, 433724000000000, 376516000000000, 302173000000000, 274390000000000, 267520000000000, 211265000000000, 210310000000000, 194412000000000, 165503000000000, 124017000000000, 123385000000000, 115546000000000, 98845000000000, 35787000000000, 32754000000000, 14688000000000, 3950000000000, 2583000000000, 1073476000000000, 1062916000000000, 1059873000000000, 1044900000000000, 956577000000000, 955537000000000, 937459000000000, 802695000000000, 800929000000000, 800367000000000, 769739000000000, 730048000000000, 727409000000000, 717783000000000, 706963000000000, 689633000000000, 674474000000000, 631184000000000, 631178000000000, 574033000000000, 522746000000000, 491471000000000, 441248000000000, 381714000000000, 373096000000000, 292373000000000, 270461000000000, 266661000000000, 209790000000000, 119541000000000, 110571000000000, 109475000000000, 107540000000000, 96302000000000, 79627000000000, 31631000000000, 17722000000000, 2345000000000, 1073163000000000, 1061237000000000, 1058508000000000, 957135000000000, 956288000000000, 943104000000000, 805697000000000, 799571000000000, 796508000000000, 771431000000000, 741917000000000, 730513000000000, 707231000000000, 706450000000000, 674856000000000, 631310000000000, 620743000000000, 527025000000000, 524606000000000, 522526000000000, 491675000000000, 467260000000000, 441521000000000, 373580000000000, 360380000000000, 291485000000000, 290841000000000, 266890000000000, 257682000000000, 212291000000000, 194716000000000, 161448000000000, 122741000000000, 111538000000000, 104130000000000, 96900000000000, 85107000000000, 39626000000000, 14840000000000, 2483000000000, 1073042000000000, 1061139000000000, 1044144000000000, 972482000000000, 936900000000000, 871508000000000, 803997000000000, 803328000000000, 797705000000000, 782768000000000, 776133000000000, 772265000000000, 720727000000000, 689690000000000, 625915000000000, 524926000000000, 448546000000000, 284831000000000, 211666000000000, 208615000000000, 203970000000000, 160703000000000, 106625000000000, 84405000000000, 36807000000000, 35467000000000, 5400000000000, 3417000000000, 1072836000000000, 1058242000000000, 1045423000000000, 901255000000000, 868813000000000, 805029000000000, 794043000000000, 742164000000000, 722775000000000, 721470000000000, 718243000000000, 716740000000000, 706119000000000, 653389000000000, 630347000000000, 624558000000000, 525558000000000, 523071000000000, 521555000000000, 446932000000000, 435331000000000, 284030000000000, 214514000000000, 197962000000000, 124498000000000, 119424000000000, 108238000000000, 108159000000000, 105646000000000, 94817000000000, 84366000000000, 68682000000000, 32468000000000, 7363000000000, 1072792000000000, 1062700000000000, 1037954000000000, 942178000000000, 868202000000000, 814435000000000, 803443000000000, 800027000000000, 797603000000000, 729525000000000, 705456000000000, 626732000000000, 582337000000000, 577464000000000, 526035000000000, 524430000000000, 447963000000000, 437725000000000, 289372000000000, 257160000000000, 211143000000000, 207832000000000, 178774000000000, 160542000000000, 122961000000000, 105342000000000, 43598000000000, 37284000000000, 5327000000000, 4356000000000, 1072724000000000, 1062869000000000, 1061380000000000, 1043745000000000, 988213000000000, 957252000000000, 956630000000000, 805461000000000, 798676000000000, 743809000000000, 730591000000000, 729803000000000, 717361000000000, 707286000000000, 674963000000000, 631327000000000, 526775000000000, 526717000000000, 523429000000000, 491722000000000, 466655000000000, 441615000000000, 434458000000000, 373654000000000, 301227000000000, 292706000000000, 291628000000000, 284631000000000, 271910000000000, 266926000000000, 256196000000000, 214597000000000, 209309000000000, 184478000000000, 163838000000000, 122785000000000, 119430000000000, 111643000000000, 109610000000000, 105990000000000, 96632000000000, 88029000000000, 85135000000000, 34761000000000, 31429000000000, 15392000000000, 10120000000000, 3829000000000, 2801000000000, 1072535000000000, 1045091000000000, 1041437000000000, 899887000000000, 876374000000000, 801300000000000, 793027000000000, 781468000000000, 772203000000000, 721557000000000, 524647000000000, 471150000000000, 435922000000000, 388065000000000, 292645000000000, 277480000000000, 181478000000000, 150082000000000, 123310000000000, 110315000000000, 108678000000000, 106793000000000, 86712000000000, 86377000000000, 19447000000000, 11763000000000, 3239000000000, 1072437000000000, 1060381000000000, 1058867000000000, 1043732000000000, 1043003000000000, 973216000000000, 941159000000000, 903368000000000, 877361000000000, 815831000000000, 807839000000000, 799835000000000, 799122000000000, 775686000000000, 740913000000000, 717727000000000, 630114000000000, 490635000000000, 453397000000000, 436581000000000, 288812000000000, 278106000000000, 258358000000000, 256357000000000, 215210000000000, 208994000000000, 108416000000000, 91271000000000, 88291000000000, 87307000000000, 69756000000000, 32318000000000, 24124000000000, 15771000000000, 7856000000000, 4306000000000, 1072388000000000, 1043446000000000, 1042679000000000, 806402000000000, 805611000000000, 800225000000000, 783384000000000, 771663000000000, 726530000000000, 573958000000000, 490581000000000, 467750000000000, 451531000000000, 382230000000000, 343382000000000, 341612000000000, 284155000000000, 211433000000000, 208894000000000, 195034000000000, 161176000000000, 122922000000000, 122366000000000, 121803000000000, 117044000000000, 106980000000000, 90880000000000, 83989000000000, 20222000000000, 8786000000000, 3473000000000, 1072249000000000, 1062629000000000, 1024554000000000, 972601000000000, 816308000000000, 797448000000000, 731543000000000, 720636000000000, 720525000000000, 708279000000000, 620534000000000, 614586000000000, 581281000000000, 527316000000000, 382398000000000, 301052000000000, 290043000000000, 257418000000000, 211034000000000, 209471000000000, 188312000000000, 162693000000000, 116190000000000, 107236000000000, 105039000000000, 86275000000000, 84554000000000, 17088000000000, 6124000000000, 4170000000000, 1072128000000000, 1066672000000000, 1064493000000000, 1041991000000000, 994740000000000, 975681000000000, 962396000000000, 878200000000000, 867303000000000, 864818000000000, 807950000000000, 807041000000000, 804324000000000, 802117000000000, 798880000000000, 740399000000000, 730200000000000, 706071000000000, 655077000000000, 644934000000000, 614440000000000, 601015000000000, 525698000000000, 521996000000000, 519154000000000, 494924000000000, 466905000000000, 453727000000000, 446267000000000, 437146000000000, 386916000000000, 381177000000000, 343980000000000, 294522000000000, 278896000000000, 276056000000000, 267899000000000, 215564000000000, 213498000000000, 210162000000000, 186200000000000, 166518000000000, 123095000000000, 116213000000000, 110856000000000, 110220000000000, 97673000000000, 86802000000000, 86595000000000, 86383000000000, 82794000000000, 36465000000000, 31928000000000, 20109000000000, 10038000000000, 4148000000000, 3926000000000, 3783000000000, 1071617000000000, 1060193000000000, 990255000000000, 972386000000000, 955527000000000, 900171000000000, 807243000000000, 804562000000000, 793865000000000, 771170000000000, 643278000000000, 626282000000000, 625328000000000, 571212000000000, 524329000000000, 292307000000000, 208633000000000, 194952000000000, 184939000000000, 160502000000000, 132985000000000, 123116000000000, 109479000000000, 104835000000000, 89184000000000, 87402000000000, 85860000000000, 82427000000000, 43627000000000, 17845000000000, 15275000000000, 3935000000000, 1071543000000000, 1062440000000000, 1045296000000000, 1042837000000000, 941567000000000, 872145000000000, 817111000000000, 802513000000000, 793396000000000, 782118000000000, 729861000000000, 689340000000000, 584917000000000, 531173000000000, 283980000000000, 279065000000000, 264615000000000, 184732000000000, 149299000000000, 105131000000000, 90696000000000, 85784000000000, 73532000000000, 15112000000000, 3910000000000, 1071490000000000, 1061572000000000, 1060620000000000, 879399000000000, 804298000000000, 803447000000000, 800513000000000, 771266000000000, 741571000000000, 725736000000000, 586149000000000, 574591000000000, 523511000000000, 523275000000000, 518935000000000, 471004000000000, 436208000000000, 299905000000000, 291516000000000, 290700000000000, 284395000000000, 278328000000000, 210925000000000, 178045000000000, 115859000000000, 92250000000000, 31705000000000, 13783000000000, 4067000000000, 1071165000000000, 1061723000000000, 1058189000000000, 993209000000000, 972691000000000, 961820000000000, 957945000000000, 898678000000000, 821127000000000, 806229000000000, 804163000000000, 804046000000000, 801035000000000, 796344000000000, 741242000000000, 735407000000000, 730021000000000, 728551000000000, 721197000000000, 721097000000000, 720046000000000, 708120000000000, 653266000000000, 648189000000000, 637697000000000, 620652000000000, 582018000000000, 528307000000000, 525856000000000, 525471000000000, 493482000000000, 447522000000000, 434805000000000, 388397000000000, 382848000000000, 377860000000000, 302052000000000, 274856000000000, 267772000000000, 257383000000000, 214857000000000, 210971000000000, 208028000000000, 198170000000000, 185093000000000, 166360000000000, 122871000000000, 113934000000000, 109604000000000, 104771000000000, 99115000000000, 86277000000000, 43937000000000, 35518000000000, 2634000000000, 1071116000000000, 1027689000000000, 901026000000000, 899934000000000, 806024000000000, 802374000000000, 794109000000000, 771122000000000, 718185000000000, 706090000000000, 643816000000000, 643139000000000, 625146000000000, 524198000000000, 433921000000000, 288910000000000, 214418000000000, 209155000000000, 185472000000000, 131674000000000, 123439000000000, 110535000000000, 107877000000000, 104532000000000, 86333000000000, 84684000000000, 79521000000000, 19686000000000, 18294000000000, 7510000000000, 3910000000000, 1070671000000000, 1058925000000000, 1043094000000000, 1042738000000000, 973559000000000, 955886000000000, 954977000000000, 799515000000000, 793044000000000, 740273000000000, 718848000000000, 718784000000000, 718003000000000, 706652000000000, 705386000000000, 674200000000000, 646719000000000, 623888000000000, 523491000000000, 521397000000000, 491253000000000, 470650000000000, 447276000000000, 372719000000000, 269170000000000, 266544000000000, 213553000000000, 211413000000000, 116603000000000, 110055000000000, 95551000000000, 86743000000000, 84550000000000, 37754000000000, 20981000000000, 19691000000000, 17872000000000, 11390000000000, 7712000000000, 2296000000000, 1070652000000000, 1063027000000000, 1060772000000000, 1044185000000000, 990677000000000, 957734000000000, 957724000000000, 950584000000000, 900469000000000, 877166000000000, 814138000000000, 806822000000000, 799745000000000, 798434000000000, 783574000000000, 730820000000000, 722039000000000, 675245000000000, 641760000000000, 631467000000000, 527537000000000, 522412000000000, 492146000000000, 373790000000000, 361194000000000, 290722000000000, 284217000000000, 278527000000000, 271543000000000, 267144000000000, 264016000000000, 214151000000000, 212921000000000, 113874000000000, 104064000000000, 95931000000000, 79938000000000, 32997000000000, 23861000000000, 15341000000000, 10810000000000, 3267000000000, 2695000000000, 2501000000000, 1070618000000000, 1059951000000000, 1024303000000000, 868633000000000, 804863000000000, 800589000000000, 797307000000000, 782522000000000, 729427000000000, 722266000000000, 717087000000000, 644513000000000, 581701000000000, 524565000000000, 496275000000000, 436187000000000, 384981000000000, 288376000000000, 284063000000000, 212193000000000, 208765000000000, 204089000000000, 185909000000000, 161970000000000, 122777000000000, 111143000000000, 31581000000000, 10233000000000, 3672000000000, 1070486000000000, 1045202000000000, 1024612000000000, 943865000000000, 936851000000000, 898539000000000, 871433000000000, 817826000000000, 801671000000000, 800649000000000, 794676000000000, 781946000000000, 722061000000000, 719657000000000, 523402000000000, 434859000000000, 353407000000000, 256668000000000, 149432000000000, 124685000000000, 120066000000000, 87469000000000, 18176000000000, 6040000000000, 1070244000000000, 1063295000000000, 1062377000000000, 1061270000000000, 1042323000000000, 1040091000000000, 957063000000000, 956228000000000, 900110000000000, 799947000000000, 799485000000000, 771473000000000, 770359000000000, 730466000000000, 707115000000000, 674826000000000, 641998000000000, 631280000000000, 625393000000000, 596305000000000, 527850000000000, 523930000000000, 491640000000000, 471242000000000, 446741000000000, 441472000000000, 433824000000000, 373538000000000, 353350000000000, 293611000000000, 278704000000000, 270613000000000, 266855000000000, 257593000000000, 212866000000000, 163258000000000, 122960000000000, 122754000000000, 111500000000000, 106704000000000, 106571000000000, 96852000000000, 87162000000000, 85053000000000, 35176000000000, 33196000000000, 20915000000000, 18957000000000, 2466000000000, 1070211000000000, 1061299000000000, 1060907000000000, 1042196000000000, 1040056000000000, 957875000000000, 957425000000000, 818463000000000, 802292000000000, 799624000000000, 794259000000000, 739722000000000, 730738000000000, 729276000000000, 719193000000000, 707466000000000, 675166000000000, 648899000000000, 632315000000000, 631388000000000, 612045000000000, 527734000000000, 526564000000000, 526082000000000, 522957000000000, 491799000000000, 471193000000000, 448234000000000, 435855000000000, 373738000000000, 302434000000000, 284509000000000, 278504000000000, 271831000000000, 267034000000000, 213006000000000, 123269000000000, 111765000000000, 109873000000000, 96793000000000, 89818000000000, 85255000000000, 33906000000000, 32705000000000, 7960000000000, 2861000000000, 2843000000000, 1070145000000000, 1042641000000000, 988293000000000, 900540000000000, 800483000000000, 798521000000000, 772512000000000, 742988000000000, 645756000000000, 620470000000000, 518260000000000, 467179000000000, 447314000000000, 353386000000000, 301269000000000, 292720000000000, 277213000000000, 178242000000000, 169299000000000, 132097000000000, 109991000000000, 108834000000000, 82294000000000, 23436000000000, 1070016000000000, 1058741000000000, 1044060000000000, 944390000000000, 899754000000000, 872378000000000, 800453000000000, 797783000000000, 743377000000000, 722327000000000, 717905000000000, 688745000000000, 522563000000000, 494916000000000, 453085000000000, 434007000000000, 382049000000000, 301307000000000, 211502000000000, 184783000000000, 177880000000000, 116221000000000, 103985000000000, 87994000000000, 14767000000000, 14714000000000, 6529000000000, 1069640000000000, 1065671000000000, 1026953000000000, 994173000000000, 973906000000000, 962078000000000, 958698000000000, 867172000000000, 805259000000000, 804426000000000, 801581000000000, 800194000000000, 781350000000000, 779382000000000, 743240000000000, 726698000000000, 721206000000000, 708029000000000, 638584000000000, 611712000000000, 587943000000000, 528482000000000, 525643000000000, 494652000000000, 434238000000000, 388346000000000, 378106000000000, 302471000000000, 291411000000000, 285075000000000, 276437000000000, 267857000000000, 215415000000000, 213052000000000, 208248000000000, 185571000000000, 177707000000000, 166444000000000, 125007000000000, 123330000000000, 115817000000000, 109928000000000, 95462000000000, 86324000000000, 85702000000000, 40564000000000, 32404000000000, 19096000000000, 11883000000000, 4000000000000, 3954000000000, 1069457000000000, 1059221000000000, 1045334000000000, 1038892000000000, 972356000000000, 956887000000000, 955909000000000, 860176000000000, 804397000000000, 803172000000000, 799313000000000, 797760000000000, 771317000000000, 742028000000000, 730416000000000, 720610000000000, 718717000000000, 707055000000000, 689417000000000, 674725000000000, 525903000000000, 525691000000000, 494508000000000, 491605000000000, 470718000000000, 448096000000000, 373408000000000, 288484000000000, 268636000000000, 266737000000000, 256319000000000, 213911000000000, 213614000000000, 184446000000000, 181935000000000, 161584000000000, 118936000000000, 110202000000000, 96701000000000, 90620000000000, 85030000000000, 35124000000000, 17559000000000, 14652000000000, 2509000000000, 2418000000000, 1069403000000000, 1059798000000000, 1059756000000000, 1043044000000000, 1042328000000000, 955988000000000, 955120000000000, 937019000000000, 805669000000000, 801920000000000, 799010000000000, 772418000000000, 741983000000000, 730105000000000, 721767000000000, 706703000000000, 674238000000000, 648282000000000, 631130000000000, 625208000000000, 623624000000000, 571337000000000, 525304000000000, 491304000000000, 466522000000000, 437755000000000, 372823000000000, 289163000000000, 277497000000000, 275292000000000, 266561000000000, 122820000000000, 116924000000000, 110113000000000, 108029000000000, 95582000000000, 84408000000000, 37428000000000, 19287000000000, 14738000000000, 8239000000000, 2304000000000, 1069294000000000, 1060540000000000, 1044638000000000, 899111000000000, 869459000000000, 857831000000000, 805773000000000, 802599000000000, 796380000000000, 771348000000000, 742729000000000, 726239000000000, 719373000000000, 717447000000000, 653311000000000, 625281000000000, 500992000000000, 435818000000000, 434063000000000, 293845000000000, 291744000000000, 257017000000000, 188352000000000, 185801000000000, 163682000000000, 124439000000000, 87562000000000, 80502000000000, 31514000000000, 19025000000000, 12036000000000, 3321000000000, 1069221000000000, 1065456000000000, 1060684000000000, 1043523000000000, 989268000000000, 973618000000000, 961381000000000, 941412000000000, 936995000000000, 874894000000000, 818934000000000, 807211000000000, 803220000000000, 795749000000000, 739650000000000, 729384000000000, 726678000000000, 725330000000000, 647635000000000, 635332000000000, 581118000000000, 524447000000000, 521620000000000, 492949000000000, 467491000000000, 448708000000000, 377199000000000, 355705000000000, 292796000000000, 277928000000000, 275699000000000, 267661000000000, 211308000000000, 209633000000000, 203545000000000, 184298000000000, 99012000000000, 90661000000000, 90032000000000, 31759000000000, 19967000000000, 17271000000000, 4237000000000, 2945000000000, 2755000000000, 1069004000000000, 1060924000000000, 1043911000000000, 1038994000000000, 991056000000000, 950661000000000, 899471000000000, 868464000000000, 858567000000000, 806693000000000, 805864000000000, 792939000000000, 730460000000000, 718882000000000, 716876000000000, 689118000000000, 571665000000000, 525982000000000, 434105000000000, 291292000000000, 212040000000000, 210173000000000, 180072000000000, 169425000000000, 123756000000000, 103297000000000, 86126000000000, 84676000000000, 78275000000000, 39468000000000, 19528000000000, 1068940000000000, 1068861000000000, 1063317000000000, 1061471000000000, 1061169000000000, 1042948000000000, 981066000000000, 958443000000000, 943605000000000, 898755000000000, 816054000000000, 799393000000000, 793289000000000, 784526000000000, 770683000000000, 730918000000000, 719636000000000, 719524000000000, 707623000000000, 675527000000000, 652923000000000, 641892000000000, 631557000000000, 612125000000000, 526639000000000, 524755000000000, 491943000000000, 453472000000000, 388772000000000, 382268000000000, 374138000000000, 293237000000000, 278987000000000, 272193000000000, 267177000000000, 211582000000000, 185746000000000, 165305000000000, 122785000000000, 110236000000000, 97324000000000, 89932000000000, 85283000000000, 32379000000000, 32013000000000, 21395000000000, 14534000000000, 14460000000000, 9868000000000, 3816000000000, 2856000000000, 1068901000000000, 1063970000000000, 1063902000000000, 1059679000000000, 1043629000000000, 1042359000000000, 956372000000000, 955419000000000, 942609000000000, 942312000000000, 900595000000000, 878121000000000, 804666000000000, 802999000000000, 800864000000000, 799689000000000, 730207000000000, 720890000000000, 718242000000000, 705540000000000, 674386000000000, 527424000000000, 523771000000000, 491396000000000, 471352000000000, 440944000000000, 436976000000000, 431410000000000, 372956000000000, 269010000000000, 266618000000000, 257288000000000, 212715000000000, 161202000000000, 116482000000000, 109197000000000, 107059000000000, 95243000000000, 85792000000000, 19295000000000, 2328000000000, 1068540000000000, 1061972000000000, 1044415000000000, 957542000000000, 956845000000000, 816709000000000, 805178000000000, 802488000000000, 799536000000000, 792757000000000, 782598000000000, 773969000000000, 730714000000000, 719844000000000, 707374000000000, 675095000000000, 641838000000000, 631375000000000, 611858000000000, 525634000000000, 524004000000000, 500144000000000, 491781000000000, 471095000000000, 441749000000000, 387838000000000, 373726000000000, 291925000000000, 291731000000000, 283918000000000, 276355000000000, 267003000000000, 214856000000000, 209268000000000, 198474000000000, 111730000000000, 109677000000000, 97117000000000, 91285000000000, 85214000000000, 34660000000000, 32830000000000, 21217000000000, 14393000000000, 9241000000000, 2825000000000, 1068417000000000, 1060098000000000, 1043996000000000, 818706000000000, 805419000000000, 797856000000000, 741181000000000, 729560000000000, 688908000000000, 643079000000000, 527332000000000, 523037000000000, 490522000000000, 453516000000000, 451444000000000, 437480000000000, 301004000000000, 288641000000000, 184756000000000, 161098000000000, 133154000000000, 125480000000000, 117007000000000, 107033000000000, 83327000000000, 17555000000000, 4280000000000, 1064756000000000, 1062329000000000, 1059323000000000, 955450000000000, 954669000000000, 938496000000000, 816524000000000, 802824000000000, 801187000000000, 796042000000000, 770647000000000, 743707000000000, 729313000000000, 727014000000000, 706520000000000, 674173000000000, 646209000000000, 631018000000000, 623416000000000, 491128000000000, 372555000000000, 355629000000000, 284475000000000, 277379000000000, 266505000000000, 264059000000000, 256471000000000, 211814000000000, 210049000000000, 123426000000000, 109709000000000, 107926000000000, 104248000000000, 84849000000000, 80307000000000, 10866000000000, 6286000000000, 3618000000000, 2261000000000, 1064339000000000, 1028756000000000, 989974000000000, 982178000000000, 975130000000000, 960257000000000, 954809000000000, 879999000000000, 879508000000000, 818589000000000, 807541000000000, 803032000000000, 797063000000000, 773359000000000, 741066000000000, 730283000000000, 720805000000000, 719841000000000, 707721000000000, 675839000000000, 632211000000000, 525028000000000, 521883000000000, 520910000000000, 492534000000000, 467891000000000, 452162000000000, 435491000000000, 374581000000000, 351436000000000, 343525000000000, 291253000000000, 278781000000000, 272641000000000, 267348000000000, 214986000000000, 123140000000000, 114077000000000, 106916000000000, 98266000000000, 90972000000000, 84839000000000, 74359000000000, 14603000000000, 4291000000000, 3436000000000, 2936000000000, 1063730000000000, 1058959000000000, 1024333000000000, 955341000000000, 954631000000000, 937071000000000, 899062000000000, 804582000000000, 802312000000000, 798390000000000, 769014000000000, 743327000000000, 719003000000000, 718428000000000, 706605000000000, 674157000000000, 630949000000000, 623210000000000, 526061000000000, 491082000000000, 470581000000000, 372523000000000, 275381000000000, 268714000000000, 266481000000000, 257492000000000, 212023000000000, 210146000000000, 208608000000000, 180178000000000, 123624000000000, 111632000000000, 109535000000000, 108305000000000, 95862000000000, 85755000000000, 84942000000000, 15329000000000, 14428000000000, 8184000000000, 8107000000000, 2241000000000, 1063641000000000, 1061693000000000, 1043284000000000, 1041849000000000, 1038117000000000, 941790000000000, 898886000000000, 877476000000000, 859935000000000, 817942000000000, 805989000000000, 797364000000000, 717463000000000, 528532000000000, 524607000000000, 436816000000000, 435911000000000, 342169000000000, 277760000000000, 257108000000000, 213412000000000, 188818000000000, 185614000000000, 122928000000000, 116000000000000, 110664000000000, 104889000000000, 86871000000000, 9597000000000, 2931000000000, 1063442000000000, 1044094000000000, 1041611000000000, 987947000000000, 958313000000000, 898596000000000, 877241000000000, 807175000000000, 806329000000000, 793514000000000, 741627000000000, 730771000000000, 721863000000000, 717585000000000, 524475000000000, 491210000000000, 470027000000000, 452431000000000, 436422000000000, 380336000000000, 344073000000000, 277849000000000, 264784000000000, 212249000000000, 209479000000000, 198544000000000, 115049000000000, 91737000000000, 40088000000000, 10488000000000, 1063418000000000, 1059287000000000, 1043807000000000, 982521000000000, 972291000000000, 960724000000000, 900208000000000, 860987000000000, 803927000000000, 802173000000000, 800096000000000, 793081000000000, 784232000000000, 730982000000000, 726352000000000, 718457000000000, 707927000000000, 676735000000000, 649194000000000, 632692000000000, 527081000000000, 524523000000000, 492696000000000, 471741000000000, 375144000000000, 290976000000000, 273427000000000, 267460000000000, 257843000000000, 164628000000000, 122764000000000, 116725000000000, 110377000000000, 103410000000000, 98556000000000, 86097000000000, 86016000000000, 31842000000000, 18670000000000, 14537000000000, 3721000000000, 2563000000000, 1063364000000000, 1058384000000000, 1027916000000000, 981584000000000, 958194000000000, 938411000000000, 899223000000000, 857874000000000, 806292000000000, 801102000000000, 799046000000000, 772360000000000, 741392000000000, 730025000000000, 725457000000000, 720749000000000, 707587000000000, 707563000000000, 675594000000000, 644518000000000, 632034000000000, 614521000000000, 587832000000000, 524675000000000, 520881000000000, 519345000000000, 492329000000000, 466811000000000, 446849000000000, 374417000000000, 343796000000000, 267237000000000, 257329000000000, 213583000000000, 212825000000000, 210066000000000, 181377000000000, 164143000000000, 123073000000000, 110279000000000, 96997000000000, 85327000000000, 32030000000000, 8411000000000, 4470000000000, 2893000000000, 1062975000000000, 1044879000000000, 972164000000000, 938575000000000, 805598000000000, 803660000000000, 797423000000000, 784717000000000, 773242000000000, 721295000000000, 716055000000000, 708110000000000, 644973000000000, 626496000000000, 467219000000000, 447183000000000, 361054000000000, 293482000000000, 264079000000000, 209329000000000, 169459000000000, 162102000000000, 109776000000000, 91095000000000, 85226000000000, 33394000000000, 18883000000000, 13620000000000, 4021000000000, 1062452000000000, 1042197000000000, 1025133000000000, 900894000000000, 880115000000000, 804456000000000, 803226000000000, 799330000000000, 783803000000000, 771516000000000, 718324000000000, 718116000000000, 647266000000000, 518592000000000, 490313000000000, 453293000000000, 451919000000000, 434956000000000, 302743000000000, 258474000000000, 257071000000000, 209809000000000, 209575000000000, 193553000000000, 185185000000000, 123312000000000, 119504000000000, 108362000000000, 107217000000000, 94523000000000, 82957000000000, 32165000000000, 8002000000000, 4519000000000, 4159000000000, 1062411000000000, 1026009000000000, 991518000000000, 937254000000000, 898852000000000, 798989000000000, 793434000000000, 742689000000000, 717488000000000, 644018000000000, 643539000000000, 612483000000000, 530506000000000, 523878000000000, 446691000000000, 434622000000000, 388930000000000, 301779000000000, 291985000000000, 283948000000000, 210456000000000, 160474000000000, 109446000000000, 105862000000000, 87945000000000, 43880000000000, 34365000000000, 3350000000000, 1062350000000000, 1059436000000000, 1055447000000000, 1039394000000000, 972234000000000, 860219000000000, 806883000000000, 793367000000000, 784135000000000, 771569000000000, 769371000000000, 725011000000000, 689596000000000, 641617000000000, 625548000000000, 523216000000000, 496668000000000, 449669000000000, 289110000000000, 278268000000000, 277060000000000, 214797000000000, 211610000000000, 184850000000000, 122728000000000, 109463000000000, 107134000000000, 1061910000000000, 1042705000000000, 1028048000000000, 991469000000000, 988363000000000, 982256000000000, 960542000000000, 899175000000000, 868035000000000, 857986000000000, 805833000000000, 800047000000000, 797827000000000, 731148000000000, 726960000000000, 720968000000000, 717970000000000, 707885000000000, 675969000000000, 648592000000000, 632373000000000, 632016000000000, 571086000000000, 526912000000000, 525898000000000, 524079000000000, 518219000000000, 492669000000000, 375877000000000, 291856000000000, 272246000000000, 267429000000000, 257920000000000, 208653000000000, 185045000000000, 165340000000000, 114729000000000, 110596000000000, 96402000000000, 31786000000000, 15536000000000, 13874000000000, 12712000000000, 3698000000000, 2538000000000, 1061893000000000, 1043008000000000, 1024879000000000, 972828000000000, 943235000000000, 816349000000000, 800328000000000, 800163000000000, 782345000000000, 644718000000000, 571239000000000, 522279000000000, 389335000000000, 291805000000000, 264122000000000, 213969000000000, 212088000000000, 177809000000000, 132861000000000, 88811000000000, 86771000000000, 19719000000000, 6197000000000, 3513000000000, 1061602000000000, 1044926000000000, 1028592000000000, 981253000000000, 958071000000000, 868659000000000, 860296000000000, 804778000000000, 803487000000000, 799510000000000, 781879000000000, 776276000000000, 730948000000000, 726584000000000, 717849000000000, 707555000000000, 706545000000000, 675560000000000, 631953000000000, 631904000000000, 581947000000000, 523519000000000, 492024000000000, 471818000000000, 374355000000000, 287474000000000, 270931000000000, 267206000000000, 213931000000000, 213692000000000, 186017000000000, 160674000000000, 123215000000000, 111430000000000, 106684000000000, 104201000000000, 96963000000000, 86036000000000, 85570000000000, 35531000000000, 19657000000000, 15651000000000, 11104000000000, 2888000000000, 1061591000000000, 1025082000000000, 973160000000000, 861257000000000, 805314000000000, 798273000000000, 719380000000000, 717517000000000, 642451000000000, 585899000000000, 527535000000000, 523535000000000, 519023000000000, 433463000000000, 288890000000000, 278452000000000, 211364000000000, 208865000000000, 208851000000000, 184390000000000, 177689000000000, 161779000000000, 111047000000000, 106729000000000, 104499000000000, 84313000000000, 15043000000000, 12773000000000, 1061487000000000, 1037912000000000, 1024364000000000, 996321000000000, 901501000000000, 900339000000000, 805380000000000, 798714000000000, 781324000000000, 719170000000000, 718358000000000, 717650000000000, 706185000000000, 704594000000000, 630914000000000, 523585000000000, 360529000000000, 291122000000000, 264587000000000, 257208000000000, 209080000000000, 208677000000000, 198739000000000, 110451000000000, 106628000000000, 94918000000000, 88140000000000, 84706000000000, 80167000000000, 19182000000000, 11523000000000, 2098000000000, 1061415000000000, 1060565000000000, 1043952000000000, 958398000000000, 868278000000000, 818143000000000, 807303000000000, 800412000000000, 771263000000000, 742363000000000, 729879000000000, 719083000000000, 717263000000000, 626015000000000, 571020000000000, 446420000000000, 387594000000000, 360897000000000, 211867000000000, 185835000000000, 161920000000000, 120013000000000, 115684000000000, 103944000000000, 87970000000000, 87194000000000, 10146000000000, 9454000000000, 4189000000000, 1060735000000000, 1059474000000000, 1028118000000000, 990292000000000, 973725000000000, 961660000000000, 958450000000000, 900042000000000, 872439000000000, 819317000000000, 807347000000000, 800605000000000, 792814000000000, 743657000000000, 729879000000000, 717666000000000, 707753000000000, 646792000000000, 637528000000000, 632335000000000, 631245000000000, 574751000000000, 528245000000000, 493319000000000, 387359000000000, 377444000000000, 353454000000000, 301125000000000, 292488000000000, 274712000000000, 267717000000000, 207991000000000, 184698000000000, 166127000000000, 123200000000000, 122935000000000, 115353000000000, 108703000000000, 105074000000000, 97565000000000, 87495000000000, 86261000000000, 31944000000000, 17671000000000, 3663000000000, 3254000000000, 3141000000000, 1060305000000000, 1059980000000000, 1041949000000000, 957440000000000, 956956000000000, 955976000000000, 941293000000000, 805085000000000, 803814000000000, 796978000000000, 774699000000000, 771898000000000, 730435000000000, 707083000000000, 674775000000000, 648490000000000, 631250000000000, 527924000000000, 494818000000000, 492224000000000, 467123000000000, 433593000000000, 388682000000000, 373438000000000, 301091000000000, 270893000000000, 266771000000000, 214257000000000, 211080000000000, 177955000000000, 161618000000000, 111324000000000, 104752000000000, 96755000000000, 90603000000000, 84914000000000, 81038000000000, 19874000000000, 10623000000000, 2443000000000, 2313000000000, 1059796000000000, 1057971000000000, 1044036000000000, 1040350000000000, 988088000000000, 972412000000000, 956832000000000, 955858000000000, 943301000000000, 816121000000000, 800617000000000, 799286000000000, 730374000000000, 727553000000000, 707027000000000, 689056000000000, 674649000000000, 631226000000000, 573368000000000, 527830000000000, 522898000000000, 522106000000000, 491582000000000, 470801000000000, 441375000000000, 436081000000000, 373269000000000, 266712000000000, 211780000000000, 163717000000000, 122746000000000, 114810000000000, 109904000000000, 106765000000000, 96495000000000, 86526000000000, 85002000000000, 34515000000000, 14559000000000, 12192000000000, 9302000000000, 3495000000000, 2406000000000, 1059770000000000, 1059130000000000, 1045272000000000, 956808000000000, 955752000000000, 899260000000000, 861395000000000, 803106000000000, 801861000000000, 800792000000000, 782551000000000, 773849000000000, 772545000000000, 730352000000000, 727641000000000, 718969000000000, 707008000000000, 674586000000000, 647537000000000, 631209000000000, 611653000000000, 528370000000000, 519428000000000, 491988000000000, 437670000000000, 373211000000000, 271604000000000, 266689000000000, 215311000000000, 203897000000000, 161568000000000, 123292000000000, 109620000000000, 106745000000000, 95887000000000, 90646000000000, 90275000000000, 85659000000000, 84980000000000, 31907000000000, 3285000000000, 2463000000000, 2370000000000, 1059624000000000, 1038203000000000, 944531000000000, 867954000000000, 805651000000000, 799897000000000, 771044000000000, 689213000000000, 644346000000000, 644243000000000, 576395000000000, 449847000000000, 353544000000000, 351874000000000, 291699000000000, 289033000000000, 208699000000000, 184338000000000, 178553000000000, 163503000000000, 150418000000000, 122292000000000, 121614000000000, 109632000000000, 86617000000000, 33677000000000, 19125000000000, 1059552000000000, 1043142000000000, 1027981000000000, 957523000000000, 955764000000000, 954895000000000, 861102000000000, 816017000000000, 806364000000000, 804097000000000, 796669000000000, 794734000000000, 782298000000000, 739615000000000, 721942000000000, 720549000000000, 719932000000000, 718869000000000, 706630000000000, 653043000000000, 646359000000000, 631064000000000, 625052000000000, 587378000000000, 519390000000000, 491190000000000, 372582000000000, 351127000000000, 292103000000000, 283876000000000, 278638000000000, 268515000000000, 266528000000000, 256409000000000, 211204000000000, 208584000000000, 184411000000000, 177796000000000, 122953000000000, 110962000000000, 109863000000000, 105528000000000, 95659000000000, 91641000000000, 85634000000000, 84423000000000, 70824000000000, 32574000000000, 32428000000000, 13941000000000, 8460000000000, 2271000000000, 1059473000000000, 1058705000000000, 1044576000000000, 1037849000000000, 981843000000000, 958588000000000, 817311000000000, 799860000000000, 793151000000000, 742647000000000, 730964000000000, 730800000000000, 729773000000000, 719892000000000, 707800000000000, 705114000000000, 675684000000000, 632096000000000, 631981000000000, 528123000000000, 526385000000000, 523472000000000, 492278000000000, 448247000000000, 387916000000000, 374475000000000, 294000000000000, 288833000000000, 273219000000000, 267297000000000, 257721000000000, 214780000000000, 214214000000000, 210013000000000, 178669000000000, 164979000000000, 106904000000000, 106832000000000, 95797000000000, 90837000000000, 86246000000000, 86059000000000, 34569000000000, 3487000000000, 2917000000000, 1058846000000000, 1044151000000000, 1043246000000000, 903528000000000, 858463000000000, 805290000000000, 802464000000000, 797525000000000, 782267000000000, 730330000000000, 720374000000000, 718456000000000, 716812000000000, 706415000000000, 630962000000000, 624676000000000, 611383000000000, 571617000000000, 519225000000000, 491007000000000, 467674000000000, 433666000000000, 353288000000000, 301854000000000, 211728000000000, 124260000000000, 109238000000000, 108468000000000, 105459000000000, 91374000000000, 84748000000000, 67577000000000, 33967000000000, 32436000000000, 8340000000000, 8006000000000, 3527000000000, 2122000000000, 1058677000000000, 1025333000000000, 990145000000000, 973474000000000, 816274000000000, 806559000000000, 792874000000000, 770785000000000, 649386000000000, 577283000000000, 571175000000000, 530988000000000, 525752000000000, 433358000000000, 360812000000000, 301442000000000, 291543000000000, 284725000000000, 264889000000000, 256857000000000, 208837000000000, 163557000000000, 123197000000000, 119546000000000, 107030000000000, 82132000000000, 33936000000000, 18125000000000, 16528000000000, 14616000000000, 3220000000000, 1058354000000000, 1044457000000000, 1038048000000000, 955982000000000, 942315000000000, 938801000000000, 898994000000000, 802889000000000, 793929000000000, 770991000000000, 743562000000000, 721796000000000, 718161000000000, 717314000000000, 642263000000000, 523967000000000, 497099000000000, 467340000000000, 436534000000000, 359680000000000, 341856000000000, 212212000000000, 188525000000000, 163215000000000, 109286000000000, 103851000000000, 91959000000000, 85042000000000, 33054000000000, 1058139000000000, 1025936000000000, 901045000000000, 807435000000000, 804904000000000, 800999000000000, 795689000000000, 717699000000000, 703959000000000, 585596000000000, 573410000000000, 526547000000000, 520471000000000, 467060000000000, 453559000000000, 447352000000000, 380143000000000, 301477000000000, 293408000000000, 292577000000000, 213171000000000, 208744000000000, 178159000000000, 109494000000000, 109026000000000, 105426000000000, 90415000000000, 90352000000000, 81224000000000, 41150000000000, 3330000000000, 1057870000000000, 1025818000000000, 973655000000000, 937175000000000, 815900000000000, 805712000000000, 796693000000000, 724425000000000, 703725000000000, 627322000000000, 528030000000000, 496487000000000, 446506000000000, 381476000000000, 350987000000000, 302048000000000, 209881000000000, 209199000000000, 188215000000000, 186148000000000, 177584000000000, 162187000000000, 124148000000000, 122834000000000, 83859000000000, 33526000000000, 17931000000000, 14366000000000, 3458000000000, 1045607000000000, 1026213000000000, 988314000000000, 973688000000000, 938684000000000, 868306000000000, 815760000000000, 804418000000000, 802550000000000, 802261000000000, 797629000000000, 794480000000000, 743459000000000, 729035000000000, 717981000000000, 706004000000000, 646597000000000, 621959000000000, 598031000000000, 530795000000000, 434587000000000, 380811000000000, 354906000000000, 257549000000000, 256282000000000, 215115000000000, 208466000000000, 125546000000000, 122826000000000, 110996000000000, 109591000000000, 90594000000000, 82754000000000, 32980000000000, 19585000000000, 7756000000000, 3988000000000, 3580000000000, 1044573000000000, 1028908000000000, 991182000000000, 987597000000000, 961151000000000, 941859000000000, 938336000000000, 872754000000000, 814299000000000, 798575000000000, 794624000000000, 768052000000000, 740354000000000, 726007000000000, 725813000000000, 717638000000000, 706227000000000, 642035000000000, 635234000000000, 632629000000000, 632203000000000, 621797000000000, 571275000000000, 492867000000000, 376608000000000, 343473000000000, 293111000000000, 273063000000000, 267589000000000, 212141000000000, 165606000000000, 122984000000000, 117301000000000, 106208000000000, 98714000000000, 86184000000000, 84350000000000, 79685000000000, 35042000000000, 14156000000000, 10292000000000, 3500000000000, 3450000000000, 1044368000000000, 1042889000000000, 1029037000000000, 991125000000000, 990361000000000, 956254000000000, 955233000000000, 799265000000000, 796475000000000, 771196000000000, 730132000000000, 722002000000000, 721381000000000, 706732000000000, 674269000000000, 645997000000000, 631155000000000, 625226000000000, 525369000000000, 491336000000000, 471052000000000, 451708000000000, 434551000000000, 372896000000000, 284430000000000, 277125000000000, 268846000000000, 266598000000000, 256501000000000, 211641000000000, 185506000000000, 111581000000000, 109731000000000, 108525000000000, 96355000000000, 86653000000000, 84588000000000, 32533000000000, 10415000000000, 7012000000000, 2316000000000, 1043873000000000, 1024927000000000, 899605000000000, 867930000000000, 814393000000000, 803691000000000, 796788000000000, 781170000000000, 644098000000000, 530560000000000, 518341000000000, 436737000000000, 387076000000000, 343897000000000, 291627000000000, 213794000000000, 193630000000000, 161025000000000, 149781000000000, 123503000000000, 122914000000000, 91872000000000, 86912000000000, 74915000000000, 32963000000000, 13647000000000, 9366000000000, 4017000000000, 3559000000000, 1043354000000000, 1026480000000000, 975703000000000, 943686000000000, 870122000000000, 803616000000000, 794581000000000, 794002000000000, 781245000000000, 719337000000000, 717837000000000, 717386000000000, 523778000000000, 435848000000000, 380452000000000, 341761000000000, 275647000000000, 208551000000000, 180232000000000, 161274000000000, 132931000000000, 124112000000000, 122878000000000, 122093000000000, 116426000000000, 107079000000000, 104627000000000, 85980000000000, 84381000000000, 81342000000000, 76562000000000, 18990000000000, 9821000000000, 1043152000000000, 1040448000000000, 899713000000000, 876570000000000, 858382000000000, 794092000000000, 793239000000000, 771370000000000, 722840000000000, 689883000000000, 576866000000000, 389558000000000, 355228000000000, 291587000000000, 256748000000000, 212804000000000, 203776000000000, 175663000000000, 122901000000000, 120569000000000, 110176000000000, 90322000000000, 33245000000000, 14790000000000, 14215000000000, 1042582000000000, 1027208000000000, 996275000000000, 973834000000000, 937121000000000, 899796000000000, 876258000000000, 802383000000000, 797212000000000, 772321000000000, 729517000000000, 722463000000000, 704521000000000, 643882000000000, 630853000000000, 630247000000000, 624937000000000, 581425000000000, 526667000000000, 436265000000000, 347186000000000, 342050000000000, 300557000000000, 277941000000000, 258292000000000, 256240000000000, 188624000000000, 186087000000000, 115479000000000, 109851000000000, 106554000000000, 82170000000000, 17007000000000, 5783000000000, 3638000000000, 1042568000000000, 1027597000000000, 972514000000000, 943430000000000, 901339000000000, 814216000000000, 801728000000000, 799901000000000, 798074000000000, 781382000000000, 724606000000000, 719164000000000, 718277000000000, 706134000000000, 525109000000000, 387911000000000, 353753000000000, 288414000000000, 148723000000000, 123236000000000, 122864000000000, 91363000000000, 84729000000000, 69363000000000, 6882000000000, 3686000000000, 1042411000000000, 1026753000000000, 989897000000000, 973509000000000, 955098000000000, 954753000000000, 903757000000000, 859854000000000, 804344000000000, 802436000000000, 798220000000000, 776252000000000, 772045000000000, 729214000000000, 718593000000000, 706351000000000, 526234000000000, 522789000000000, 491029000000000, 469798000000000, 453352000000000, 447114000000000, 440780000000000, 387720000000000, 302025000000000, 293959000000000, 268596000000000, 214909000000000, 114904000000000, 110724000000000, 109652000000000, 108263000000000, 94883000000000, 15266000000000, 6744000000000, 3642000000000, 2160000000000, 1042299000000000, 1026697000000000, 973780000000000, 900276000000000, 804844000000000, 804810000000000, 796929000000000, 784201000000000, 770867000000000, 717877000000000, 717134000000000, 614909000000000, 523826000000000, 522842000000000, 449531000000000, 380646000000000, 284586000000000, 256988000000000, 210953000000000, 178626000000000, 124183000000000, 122443000000000, 105028000000000, 86400000000000, 84495000000000, 35713000000000, 17906000000000, 8386000000000, 4105000000000, 1041161000000000, 1024971000000000, 972805000000000, 937316000000000, 805254000000000, 798342000000000, 783296000000000, 770599000000000, 718074000000000, 643001000000000, 587686000000000, 525340000000000, 491402000000000, 434274000000000, 302517000000000, 291150000000000, 213752000000000, 212072000000000, 209270000000000, 186058000000000, 179882000000000, 161345000000000, 116060000000000, 39601000000000, 18092000000000, 2162000000000, 1040800000000000, 1026086000000000, 901189000000000, 878778000000000, 804984000000000, 794345000000000, 792897000000000, 742292000000000, 722898000000000, 717907000000000, 717746000000000, 527245000000000, 523819000000000, 521760000000000, 435155000000000, 380735000000000, 288635000000000, 284891000000000, 212172000000000, 209769000000000, 184981000000000, 111483000000000, 106774000000000, 87618000000000, 86072000000000, 20582000000000, 3753000000000, 1040667000000000, 1028309000000000, 973062000000000, 957414000000000, 956743000000000, 798246000000000, 771787000000000, 730657000000000, 727228000000000, 707327000000000, 674996000000000, 645135000000000, 641650000000000, 631348000000000, 629979000000000, 576301000000000, 574471000000000, 527693000000000, 522244000000000, 491755000000000, 448075000000000, 434701000000000, 376455000000000, 293697000000000, 291816000000000, 284956000000000, 271716000000000, 266978000000000, 214908000000000, 208809000000000, 185426000000000, 110800000000000, 108429000000000, 95079000000000, 91320000000000, 90236000000000, 85192000000000, 15267000000000, 11174000000000, 2669000000000, 1037999000000000, 1024451000000000, 943951000000000, 868971000000000, 803390000000000, 794031000000000, 793183000000000, 774958000000000, 772107000000000, 740245000000000, 654513000000000, 645930000000000, 596457000000000, 452601000000000, 446768000000000, 276967000000000, 209360000000000, 185334000000000, 160529000000000, 125231000000000, 123171000000000, 116664000000000, 107120000000000, 86560000000000, 83558000000000, 33369000000000, 15183000000000, 5662000000000, 4137000000000, 3103000000000, 1027768000000000, 991147000000000, 990407000000000, 955729000000000, 942403000000000, 817190000000000, 804753000000000, 801983000000000, 796744000000000, 779139000000000, 742783000000000, 614339000000000, 524385000000000, 448426000000000, 437817000000000, 301392000000000, 213129000000000, 211457000000000, 160926000000000, 132757000000000, 123895000000000, 119511000000000, 92185000000000, 79747000000000, 72515000000000, 17738000000000, 3743000000000, 3727000000000, 1027521000000000, 988423000000000, 957794000000000, 941319000000000, 900824000000000, 871579000000000, 801918000000000, 798802000000000, 794259000000000, 771614000000000, 729335000000000, 586184000000000, 530722000000000, 449425000000000, 437601000000000, 436321000000000, 389123000000000, 301970000000000, 292259000000000, 287369000000000, 211230000000000, 209938000000000, 160434000000000, 124356000000000, 114667000000000, 109409000000000, 88197000000000, 79238000000000, 43669000000000, 3866000000000, 1026807000000000, 990163000000000, 972753000000000, 942153000000000, 938308000000000, 902022000000000, 898726000000000, 806087000000000, 801835000000000, 793838000000000, 719456000000000, 718023000000000, 706280000000000, 653189000000000, 641960000000000, 630934000000000, 527496000000000, 490522000000000, 440722000000000, 434523000000000, 382741000000000, 351613000000000, 300410000000000, 213007000000000, 122946000000000, 119448000000000, 110118000000000, 108275000000000, 84792000000000, 12886000000000, 2107000000000, 1025636000000000, 988239000000000, 972646000000000, 937366000000000, 868259000000000, 817227000000000, 801808000000000, 797287000000000, 730558000000000, 719983000000000, 613971000000000, 525073000000000, 523570000000000, 501064000000000, 387477000000000, 288786000000000, 288695000000000, 256807000000000, 208727000000000, 184917000000000, 122814000000000, 119199000000000, 104974000000000, 39286000000000, 32939000000000, 17954000000000, 1025386000000000, 988035000000000, 877954000000000, 805898000000000, 802981000000000, 799191000000000, 742866000000000, 731146000000000, 716979000000000, 531502000000000, 518543000000000, 495997000000000, 347443000000000, 284284000000000, 278014000000000, 185520000000000, 179957000000000, 149942000000000, 119657000000000, 114585000000000, 109568000000000, 104295000000000, 3983000000000, 1024727000000000, 901309000000000, 878057000000000, 805476000000000, 794453000000000, 794173000000000, 782932000000000, 771127000000000, 724780000000000, 717257000000000, 689008000000000, 626943000000000, 526477000000000, 449260000000000, 355523000000000, 343697000000000, 275521000000000, 212742000000000, 211901000000000, 160957000000000, 123008000000000, 116397000000000, 85515000000000, 78014000000000, 18700000000000, 3570000000000, 1024237000000000, 992203000000000, 972443000000000, 955912000000000, 938629000000000, 815695000000000, 803768000000000, 802200000000000, 796422000000000, 794398000000000, 739801000000000, 625699000000000, 528254000000000, 497377000000000, 448200000000000, 382815000000000, 351790000000000, 256776000000000, 209696000000000, 209378000000000, 181259000000000, 163154000000000, 124944000000000, 122887000000000, 110680000000000, 86968000000000, 83201000000000, 32969000000000, 14515000000000, 10974000000000, 4122000000000, 1081852000000000, 1073503000000000, 989762000000000, 972298000000000, 859727000000000, 781423000000000, 742790000000000, 728792000000000, 700200000000000, 695631000000000, 684218000000000, 655707000000000, 649497000000000, 644785000000000, 630149000000000, 627933000000000, 626124000000000, 605506000000000, 601118000000000, 549175000000000, 543360000000000, 471278000000000, 460728000000000, 444570000000000, 441134000000000, 347972000000000, 297033000000000, 261535000000000, 176093000000000, 165446000000000, 109420000000000, 101608000000000, 82655000000000, 36289000000000, 26449000000000, 401000000000, -4089000000000, 1081734000000000, 1075670000000000, 1054061000000000, 1042643000000000, 977799000000000, 976820000000000, 952063000000000, 888800000000000, 862834000000000, 743331000000000, 730757000000000, 729915000000000, 723567000000000, 720947000000000, 717223000000000, 714038000000000, 699534000000000, 698588000000000, 694649000000000, 683225000000000, 681078000000000, 656519000000000, 650028000000000, 641232000000000, 607931000000000, 597305000000000, 545630000000000, 544440000000000, 465301000000000, 461107000000000, 445165000000000, 365956000000000, 348658000000000, 307907000000000, 284071000000000, 217474000000000, 188049000000000, 105771000000000, 82149000000000, 28056000000000, 21838000000000, 14289000000000, 3657000000000, 77000000000, 1079283000000000, 1067330000000000, 1058545000000000, 1055901000000000, 1044130000000000, 1030508000000000, 985727000000000, 977977000000000, 974646000000000, 954924000000000, 953756000000000, 891473000000000, 867434000000000, 830828000000000, 783657000000000, 776657000000000, 773831000000000, 734987000000000, 731114000000000, 726954000000000, 721915000000000, 715149000000000, 707435000000000, 698418000000000, 650727000000000, 641783000000000, 632177000000000, 613820000000000, 609066000000000, 608580000000000, 552612000000000, 475991000000000, 473148000000000, 467362000000000, 446125000000000, 369193000000000, 349627000000000, 310844000000000, 287398000000000, 261672000000000, 261363000000000, 257300000000000, 219448000000000, 190691000000000, 185718000000000, 180007000000000, 110685000000000, 107923000000000, 87635000000000, 36343000000000, 35951000000000, 34824000000000, 30650000000000, 30522000000000, 24575000000000, 6184000000000, 1079112000000000, 1067120000000000, 1057704000000000, 1042101000000000, 985662000000000, 983999000000000, 973792000000000, 971577000000000, 890342000000000, 866821000000000, 830649000000000, 796371000000000, 773628000000000, 770955000000000, 733050000000000, 727906000000000, 726897000000000, 718154000000000, 715392000000000, 691636000000000, 655742000000000, 648990000000000, 646048000000000, 631159000000000, 627741000000000, 626858000000000, 621501000000000, 602397000000000, 545970000000000, 539040000000000, 475239000000000, 472712000000000, 467251000000000, 446056000000000, 392124000000000, 368743000000000, 349600000000000, 309862000000000, 297699000000000, 286445000000000, 257177000000000, 216968000000000, 190621000000000, 179015000000000, 110538000000000, 105603000000000, 98591000000000, 86159000000000, 37860000000000, 35799000000000, 30275000000000, 27902000000000, 23991000000000, 22764000000000, 9344000000000, 6053000000000, 1078969000000000, 1066926000000000, 1054911000000000, 1041783000000000, 985562000000000, 985263000000000, 974129000000000, 971281000000000, 954582000000000, 891337000000000, 890048000000000, 867147000000000, 830406000000000, 773525000000000, 770682000000000, 749283000000000, 730915000000000, 726738000000000, 720257000000000, 712800000000000, 711061000000000, 683312000000000, 683095000000000, 655765000000000, 651688000000000, 650635000000000, 649047000000000, 641574000000000, 638910000000000, 628614000000000, 615695000000000, 615525000000000, 608884000000000, 548729000000000, 545823000000000, 479909000000000, 472804000000000, 467151000000000, 465366000000000, 446017000000000, 349539000000000, 313043000000000, 311597000000000, 309677000000000, 190289000000000, 116905000000000, 103898000000000, 81983000000000, 35370000000000, 29870000000000, 26602000000000, 22602000000000, 19014000000000, 5901000000000, 5124000000000, 1078822000000000, 1066676000000000, 1055653000000000, 973983000000000, 958892000000000, 913311000000000, 885676000000000, 865771000000000, 829682000000000, 786262000000000, 772424000000000, 729217000000000, 725504000000000, 719673000000000, 669764000000000, 661714000000000, 650558000000000, 641434000000000, 625168000000000, 610755000000000, 600304000000000, 546009000000000, 545661000000000, 479866000000000, 470754000000000, 464053000000000, 445798000000000, 391875000000000, 378547000000000, 366810000000000, 349244000000000, 313411000000000, 307807000000000, 297825000000000, 260571000000000, 218055000000000, 102915000000000, 101814000000000, 86056000000000, 82033000000000, 41487000000000, 26298000000000, 23557000000000, 5665000000000, 1076457000000000, 1055329000000000, 1000376000000000, 985618000000000, 973635000000000, 973102000000000, 967090000000000, 958361000000000, 889146000000000, 864132000000000, 797119000000000, 730363000000000, 730196000000000, 726259000000000, 724310000000000, 715151000000000, 692508000000000, 691828000000000, 662497000000000, 641756000000000, 625116000000000, 621869000000000, 620835000000000, 602918000000000, 600843000000000, 544825000000000, 473157000000000, 465949000000000, 454639000000000, 445000000000000, 439902000000000, 387741000000000, 348979000000000, 307500000000000, 288517000000000, 256917000000000, 232012000000000, 188889000000000, 103441000000000, 82416000000000, 40959000000000, 27337000000000, 14840000000000, 4914000000000, 4094000000000, -4120000000000, 1076411000000000, 1055110000000000, 1043865000000000, 999980000000000, 996817000000000, 984168000000000, 974537000000000, 954145000000000, 886099000000000, 864063000000000, 800403000000000, 725282000000000, 724241000000000, 719015000000000, 694341000000000, 681572000000000, 654406000000000, 650127000000000, 645233000000000, 629387000000000, 622817000000000, 602756000000000, 600365000000000, 545553000000000, 544783000000000, 538461000000000, 473272000000000, 471772000000000, 458974000000000, 453218000000000, 445384000000000, 368555000000000, 355827000000000, 348939000000000, 310078000000000, 287157000000000, 276829000000000, 253876000000000, 215008000000000, 188450000000000, 173964000000000, 102290000000000, 85763000000000, 21529000000000, 14660000000000, 4069000000000, 1076388000000000, 1058491000000000, 1054518000000000, 1044062000000000, 997165000000000, 984235000000000, 975714000000000, 968631000000000, 958494000000000, 890761000000000, 864382000000000, 743662000000000, 724516000000000, 693642000000000, 687758000000000, 674508000000000, 647674000000000, 647464000000000, 633185000000000, 628699000000000, 625960000000000, 625718000000000, 622177000000000, 621172000000000, 619470000000000, 552236000000000, 544908000000000, 538588000000000, 475894000000000, 472460000000000, 460012000000000, 445515000000000, 420435000000000, 377167000000000, 362770000000000, 349064000000000, 276652000000000, 261305000000000, 256674000000000, 216440000000000, 108423000000000, 107062000000000, 40834000000000, 37771000000000, 26562000000000, 4201000000000, 270000000000, 1076317000000000, 1054243000000000, 1043143000000000, 975397000000000, 968751000000000, 886212000000000, 886028000000000, 863235000000000, 743812000000000, 730054000000000, 724896000000000, 714562000000000, 707255000000000, 696767000000000, 694146000000000, 692073000000000, 686852000000000, 671048000000000, 651636000000000, 647399000000000, 646541000000000, 629895000000000, 624464000000000, 620687000000000, 617141000000000, 615233000000000, 608612000000000, 597672000000000, 544645000000000, 475727000000000, 464108000000000, 452520000000000, 445241000000000, 419578000000000, 351180000000000, 313636000000000, 282257000000000, 277737000000000, 256779000000000, 233981000000000, 217261000000000, 188166000000000, 180818000000000, 123595000000000, 115864000000000, 105168000000000, 98414000000000, 81884000000000, 52900000000000, 36620000000000, 27503000000000, 16289000000000, 3782000000000, 1076289000000000, 1058815000000000, 1054593000000000, 1043938000000000, 997100000000000, 983720000000000, 974655000000000, 971456000000000, 951415000000000, 914465000000000, 864284000000000, 726618000000000, 724438000000000, 719320000000000, 715574000000000, 713011000000000, 707446000000000, 706797000000000, 694577000000000, 693867000000000, 691377000000000, 659952000000000, 645521000000000, 625995000000000, 621071000000000, 603050000000000, 601190000000000, 544878000000000, 478516000000000, 475669000000000, 472926000000000, 472575000000000, 459878000000000, 445485000000000, 389930000000000, 378797000000000, 349046000000000, 307458000000000, 288863000000000, 232299000000000, 216338000000000, 189544000000000, 178700000000000, 135572000000000, 110349000000000, 106187000000000, 82324000000000, 36598000000000, 33420000000000, 21608000000000, 14884000000000, 4162000000000, 1076166000000000, 1053952000000000, 977654000000000, 971860000000000, 957347000000000, 888332000000000, 862727000000000, 743111000000000, 729640000000000, 720830000000000, 699970000000000, 699435000000000, 693432000000000, 683271000000000, 678972000000000, 657727000000000, 649793000000000, 649180000000000, 638725000000000, 630776000000000, 626991000000000, 621131000000000, 619744000000000, 614132000000000, 607674000000000, 600117000000000, 544175000000000, 532350000000000, 466709000000000, 445120000000000, 442509000000000, 377621000000000, 365442000000000, 348586000000000, 313281000000000, 311760000000000, 252780000000000, 188003000000000, 177872000000000, 123092000000000, 98330000000000, 86391000000000, 22260000000000, 21959000000000, 3621000000000, 1076075000000000, 1054788000000000, 1041679000000000, 1029123000000000, 996668000000000, 967627000000000, 915317000000000, 887056000000000, 886834000000000, 863948000000000, 724170000000000, 719413000000000, 717902000000000, 715289000000000, 714851000000000, 698512000000000, 692298000000000, 668440000000000, 656136000000000, 649071000000000, 644584000000000, 639044000000000, 625031000000000, 600245000000000, 549545000000000, 544723000000000, 465304000000000, 453648000000000, 445366000000000, 391568000000000, 348897000000000, 255934000000000, 233928000000000, 123185000000000, 110185000000000, 97984000000000, 37640000000000, 23034000000000, 3988000000000, 105000000000, 1076031000000000, 1058299000000000, 996427000000000, 983854000000000, 975180000000000, 973939000000000, 951753000000000, 888669000000000, 862578000000000, 741901000000000, 733866000000000, 729933000000000, 720603000000000, 720105000000000, 713467000000000, 706911000000000, 698444000000000, 694504000000000, 655811000000000, 644512000000000, 627781000000000, 625446000000000, 620793000000000, 605277000000000, 601423000000000, 543975000000000, 539620000000000, 458430000000000, 445071000000000, 378667000000000, 348557000000000, 283451000000000, 260455000000000, 256406000000000, 187715000000000, 175865000000000, 134885000000000, 108523000000000, 98185000000000, 90787000000000, 82193000000000, 36732000000000, 26178000000000, 15683000000000, 14237000000000, 8989000000000, 3537000000000, 1075965000000000, 1058078000000000, 1043331000000000, 991999000000000, 983559000000000, 977367000000000, 968291000000000, 886163000000000, 862130000000000, 788300000000000, 782784000000000, 734538000000000, 729585000000000, 726523000000000, 713392000000000, 707519000000000, 698156000000000, 694451000000000, 675191000000000, 656452000000000, 648859000000000, 647604000000000, 628102000000000, 621921000000000, 621338000000000, 607317000000000, 598285000000000, 543616000000000, 470461000000000, 465232000000000, 444946000000000, 441889000000000, 348436000000000, 312959000000000, 287804000000000, 261596000000000, 256362000000000, 187553000000000, 173781000000000, 102786000000000, 82356000000000, 26104000000000, 14631000000000, 918000000000, 672000000000, 1075847000000000, 999158000000000, 996243000000000, 992597000000000, 972479000000000, 968196000000000, 887011000000000, 886740000000000, 862437000000000, 796992000000000, 730209000000000, 723536000000000, 719459000000000, 715423000000000, 714148000000000, 714086000000000, 698413000000000, 694389000000000, 685442000000000, 683046000000000, 668386000000000, 644427000000000, 628159000000000, 625949000000000, 622464000000000, 620619000000000, 603280000000000, 598680000000000, 543676000000000, 538796000000000, 471905000000000, 469742000000000, 460132000000000, 445024000000000, 378859000000000, 366419000000000, 348509000000000, 256518000000000, 232085000000000, 187666000000000, 90822000000000, 82282000000000, 40319000000000, 30588000000000, 14061000000000, 2576000000000, 1075764000000000, 1054156000000000, 972515000000000, 971113000000000, 915067000000000, 903200000000000, 889699000000000, 863028000000000, 730012000000000, 715531000000000, 711491000000000, 708787000000000, 693388000000000, 656714000000000, 651780000000000, 644070000000000, 643933000000000, 640511000000000, 604059000000000, 601572000000000, 547275000000000, 544475000000000, 472486000000000, 470002000000000, 466360000000000, 465120000000000, 445207000000000, 378933000000000, 368359000000000, 348694000000000, 308442000000000, 255641000000000, 233498000000000, 216189000000000, 188088000000000, 175804000000000, 108876000000000, 85829000000000, 82170000000000, 21309000000000, 14453000000000, 3717000000000, 1075592000000000, 1054449000000000, 998785000000000, 996553000000000, 975835000000000, 973743000000000, 968857000000000, 953438000000000, 890640000000000, 889290000000000, 863324000000000, 725332000000000, 724025000000000, 719082000000000, 711799000000000, 694043000000000, 691722000000000, 656596000000000, 650907000000000, 648685000000000, 644166000000000, 640633000000000, 626593000000000, 621558000000000, 621545000000000, 617868000000000, 610112000000000, 604191000000000, 549775000000000, 544686000000000, 538977000000000, 471145000000000, 460324000000000, 445287000000000, 378983000000000, 348852000000000, 313685000000000, 311912000000000, 308246000000000, 282372000000000, 260923000000000, 256849000000000, 233360000000000, 216611000000000, 188209000000000, 110057000000000, 106417000000000, 91203000000000, 85974000000000, 81922000000000, 37535000000000, 28598000000000, 16458000000000, 14780000000000, 3855000000000, 1075490000000000, 996101000000000, 991636000000000, 973885000000000, 890934000000000, 886990000000000, 886918000000000, 885799000000000, 861651000000000, 723407000000000, 714281000000000, 698321000000000, 693506000000000, 687437000000000, 668344000000000, 644377000000000, 639444000000000, 626214000000000, 624910000000000, 621024000000000, 620989000000000, 603131000000000, 598758000000000, 545009000000000, 543452000000000, 475523000000000, 460892000000000, 444775000000000, 441476000000000, 348312000000000, 309044000000000, 283280000000000, 260475000000000, 256187000000000, 102587000000000, 81775000000000, 26489000000000, 4741000000000, 569000000000, 1075469000000000, 1043396000000000, 987016000000000, 974298000000000, 973685000000000, 886608000000000, 886525000000000, 858558000000000, 741676000000000, 727894000000000, 724540000000000, 713270000000000, 693746000000000, 691417000000000, 660120000000000, 646338000000000, 645002000000000, 622036000000000, 617194000000000, 605851000000000, 599748000000000, 543169000000000, 539260000000000, 470946000000000, 466337000000000, 444195000000000, 420403000000000, 347787000000000, 261075000000000, 253610000000000, 173519000000000, 164916000000000, 136131000000000, 103024000000000, 83031000000000, 40128000000000, 36367000000000, 33722000000000, 26141000000000, -662000000000, -4036000000000, 1075433000000000, 986400000000000, 974282000000000, 972441000000000, 954783000000000, 857344000000000, 796051000000000, 726863000000000, 724197000000000, 721532000000000, 714605000000000, 708851000000000, 693350000000000, 639821000000000, 625673000000000, 614655000000000, 599513000000000, 542543000000000, 467092000000000, 442781000000000, 378611000000000, 366359000000000, 355320000000000, 307229000000000, 281829000000000, 260761000000000, 254446000000000, 232127000000000, 217861000000000, 164615000000000, 106317000000000, 97965000000000, 85632000000000, 83130000000000, 27080000000000, 16840000000000, -3856000000000, 1075396000000000, 1066193000000000, 992223000000000, 975063000000000, 972948000000000, 970671000000000, 954705000000000, 887640000000000, 861899000000000, 723362000000000, 718333000000000, 714440000000000, 713826000000000, 693805000000000, 692714000000000, 691679000000000, 655998000000000, 649268000000000, 648194000000000, 641629000000000, 639198000000000, 621458000000000, 617569000000000, 609715000000000, 604489000000000, 600506000000000, 545237000000000, 543549000000000, 480064000000000, 475081000000000, 464477000000000, 444854000000000, 391955000000000, 390510000000000, 351366000000000, 313484000000000, 260446000000000, 217313000000000, 187198000000000, 174292000000000, 82789000000000, 41332000000000, 37801000000000, 26361000000000, 15550000000000, 654000000000, 55000000000, 1075340000000000, 991339000000000, 972487000000000, 887008000000000, 861050000000000, 829400000000000, 729329000000000, 719104000000000, 713603000000000, 712101000000000, 705301000000000, 682034000000000, 650840000000000, 647198000000000, 643582000000000, 640701000000000, 617926000000000, 610325000000000, 601231000000000, 543431000000000, 539987000000000, 471717000000000, 459400000000000, 452619000000000, 444718000000000, 443164000000000, 367488000000000, 348252000000000, 313760000000000, 307374000000000, 288392000000000, 261442000000000, 256043000000000, 231703000000000, 106699000000000, 101928000000000, 52648000000000, 40175000000000, 26242000000000, 524000000000, -13000000000, 1075188000000000, 988851000000000, 973511000000000, 973396000000000, 958111000000000, 887166000000000, 860428000000000, 830997000000000, 783009000000000, 729065000000000, 724427000000000, 711742000000000, 710064000000000, 693617000000000, 655330000000000, 651530000000000, 642665000000000, 639474000000000, 626342000000000, 624815000000000, 620968000000000, 603471000000000, 599375000000000, 545764000000000, 542965000000000, 531559000000000, 466531000000000, 444632000000000, 440961000000000, 352481000000000, 312244000000000, 309242000000000, 285928000000000, 256265000000000, 87107000000000, 41209000000000, 22451000000000, 448000000000, 1074329000000000, 1041449000000000, 985063000000000, 983628000000000, 975677000000000, 967050000000000, 893734000000000, 891081000000000, 857735000000000, 733792000000000, 716255000000000, 712781000000000, 697360000000000, 693884000000000, 672324000000000, 653808000000000, 647610000000000, 640557000000000, 633480000000000, 628107000000000, 621459000000000, 619394000000000, 599896000000000, 542721000000000, 531376000000000, 473719000000000, 465905000000000, 444094000000000, 378694000000000, 354767000000000, 287983000000000, 277149000000000, 256111000000000, 173566000000000, 164421000000000, 103827000000000, 102826000000000, 91443000000000, 86637000000000, 36819000000000, 26324000000000, 1074302000000000, 1043117000000000, 989986000000000, 977310000000000, 974855000000000, 891221000000000, 860641000000000, 729181000000000, 724779000000000, 713954000000000, 713949000000000, 698084000000000, 693154000000000, 675128000000000, 655686000000000, 649711000000000, 648836000000000, 639927000000000, 621386000000000, 617778000000000, 615193000000000, 602287000000000, 543396000000000, 459775000000000, 444688000000000, 378512000000000, 348016000000000, 308852000000000, 261557000000000, 254777000000000, 233274000000000, 173917000000000, 165541000000000, 108153000000000, 105485000000000, 82590000000000, 52530000000000, 36328000000000, 24327000000000, 492000000000, 1074221000000000, 1066623000000000, 1058720000000000, 1055743000000000, 1042223000000000, 1030364000000000, 973178000000000, 971810000000000, 887538000000000, 865157000000000, 744049000000000, 733566000000000, 725126000000000, 718681000000000, 705350000000000, 698299000000000, 694179000000000, 692484000000000, 662769000000000, 650977000000000, 648603000000000, 641878000000000, 626607000000000, 624671000000000, 624286000000000, 621313000000000, 621243000000000, 611511000000000, 604603000000000, 600885000000000, 551820000000000, 545591000000000, 538722000000000, 479630000000000, 466778000000000, 445739000000000, 392946000000000, 349158000000000, 313535000000000, 307729000000000, 287271000000000, 260722000000000, 218655000000000, 197320000000000, 190040000000000, 82111000000000, 41545000000000, 36425000000000, 27467000000000, 22301000000000, 15794000000000, 4901000000000, 4834000000000, 1073380000000000, 1043253000000000, 987900000000000, 976196000000000, 971487000000000, 796506000000000, 729477000000000, 726055000000000, 724576000000000, 708824000000000, 695296000000000, 693221000000000, 682935000000000, 641226000000000, 640777000000000, 627363000000000, 622920000000000, 620967000000000, 614226000000000, 550570000000000, 530612000000000, 472976000000000, 458943000000000, 442646000000000, 355942000000000, 282797000000000, 260638000000000, 254898000000000, 231902000000000, 216819000000000, 164667000000000, 99870000000000, 88219000000000, 40258000000000, 16558000000000, -2822000000000, 1073324000000000, 986226000000000, 954258000000000, 914079000000000, 857134000000000, 725904000000000, 717483000000000, 698777000000000, 683458000000000, 660470000000000, 651547000000000, 649249000000000, 641329000000000, 639148000000000, 619899000000000, 615864000000000, 614919000000000, 598634000000000, 542471000000000, 532236000000000, 459725000000000, 453300000000000, 442689000000000, 419929000000000, 349802000000000, 276175000000000, 252574000000000, 216320000000000, 107621000000000, 106836000000000, 90993000000000, 37942000000000, 30470000000000, 21646000000000, -3220000000000, 1073296000000000, 1057823000000000, 988496000000000, 984570000000000, 972589000000000, 968078000000000, 885903000000000, 857842000000000, 717960000000000, 716301000000000, 715152000000000, 712530000000000, 707632000000000, 693464000000000, 652242000000000, 645641000000000, 642288000000000, 615762000000000, 603775000000000, 600667000000000, 549061000000000, 542940000000000, 531418000000000, 472258000000000, 470376000000000, 459113000000000, 444115000000000, 378705000000000, 367813000000000, 276753000000000, 260666000000000, 255502000000000, 232667000000000, 164526000000000, 123272000000000, 102885000000000, 98528000000000, 85498000000000, 83006000000000, 36903000000000, 2276000000000, -786000000000, -3943000000000, 1073182000000000, 986069000000000, 972781000000000, 887473000000000, 801877000000000, 725983000000000, 723584000000000, 718239000000000, 712349000000000, 696569000000000, 693932000000000, 689664000000000, 641428000000000, 629170000000000, 615653000000000, 614483000000000, 600870000000000, 530304000000000, 472649000000000, 472371000000000, 469878000000000, 459652000000000, 443508000000000, 388073000000000, 260734000000000, 253784000000000, 233412000000000, 175391000000000, 135073000000000, 102569000000000, 97851000000000, 84258000000000, 13950000000000, 1073046000000000, 1042676000000000, 985947000000000, 984803000000000, 974781000000000, 972403000000000, 707143000000000, 697946000000000, 695691000000000, 693240000000000, 645457000000000, 641270000000000, 624405000000000, 620920000000000, 614073000000000, 606005000000000, 529577000000000, 473970000000000, 465066000000000, 459082000000000, 443457000000000, 313463000000000, 254173000000000, 233758000000000, 216665000000000, 173870000000000, 164546000000000, 84909000000000, 40873000000000, 37728000000000, 22710000000000, 13299000000000, 1072884000000000, 1042891000000000, 985093000000000, 984130000000000, 887223000000000, 802133000000000, 734520000000000, 723643000000000, 713340000000000, 710994000000000, 707313000000000, 693116000000000, 667524000000000, 647972000000000, 642087000000000, 625300000000000, 620294000000000, 611851000000000, 598062000000000, 545846000000000, 530832000000000, 472739000000000, 459244000000000, 435723000000000, 391637000000000, 255832000000000, 218253000000000, 212476000000000, 175541000000000, 102125000000000, 85618000000000, 15172000000000, 506000000000, -3496000000000, 1072779000000000, 988197000000000, 914884000000000, 886444000000000, 856501000000000, 727173000000000, 715686000000000, 715182000000000, 708891000000000, 699484000000000, 653216000000000, 642546000000000, 640140000000000, 630919000000000, 626173000000000, 615286000000000, 599959000000000, 545338000000000, 542921000000000, 473058000000000, 465778000000000, 443294000000000, 392046000000000, 388513000000000, 378682000000000, 368194000000000, 313795000000000, 278112000000000, 255213000000000, 217744000000000, 174535000000000, 105644000000000, 16229000000000, 13671000000000, -3887000000000, 1072667000000000, 988742000000000, 972845000000000, 954832000000000, 887327000000000, 858619000000000, 796876000000000, 741294000000000, 728002000000000, 706944000000000, 661193000000000, 649316000000000, 641553000000000, 641536000000000, 617348000000000, 601152000000000, 543197000000000, 529737000000000, 478167000000000, 474511000000000, 464517000000000, 444254000000000, 419774000000000, 362794000000000, 308745000000000, 261610000000000, 232897000000000, 164976000000000, 103540000000000, 103245000000000, 83083000000000, 37587000000000, 33537000000000, -617000000000, -3907000000000, 1072570000000000, 987776000000000, 955474000000000, 886647000000000, 856892000000000, 742430000000000, 730500000000000, 727325000000000, 726205000000000, 717967000000000, 713680000000000, 693082000000000, 641111000000000, 628893000000000, 621292000000000, 610618000000000, 598454000000000, 542864000000000, 531322000000000, 473263000000000, 464393000000000, 436685000000000, 367657000000000, 308508000000000, 276393000000000, 260616000000000, 254597000000000, 219286000000000, 175219000000000, 164139000000000, 106539000000000, 101012000000000, 98221000000000, 91586000000000, 26683000000000, -3684000000000, 1072339000000000, 1043752000000000, 987190000000000, 974720000000000, 972788000000000, 886442000000000, 801626000000000, 729753000000000, 726495000000000, 714318000000000, 714121000000000, 640823000000000, 638802000000000, 628493000000000, 625052000000000, 616295000000000, 599194000000000, 546507000000000, 476253000000000, 472823000000000, 465461000000000, 443882000000000, 387279000000000, 297445000000000, 282594000000000, 261014000000000, 233559000000000, 101297000000000, 37108000000000, 12808000000000, 1072130000000000, 986712000000000, 972707000000000, 952211000000000, 886253000000000, 857280000000000, 732829000000000, 726523000000000, 726269000000000, 718946000000000, 707596000000000, 693201000000000, 657388000000000, 651150000000000, 639763000000000, 628037000000000, 627675000000000, 621135000000000, 598779000000000, 542515000000000, 532056000000000, 466157000000000, 463462000000000, 442742000000000, 388357000000000, 367853000000000, 260540000000000, 254727000000000, 107805000000000, 100246000000000, 83196000000000, 40752000000000, 37512000000000, 27313000000000, 16186000000000, -3722000000000, 1071949000000000, 987458000000000, 966928000000000, 951309000000000, 886829000000000, 856101000000000, 728973000000000, 698466000000000, 640984000000000, 626029000000000, 620765000000000, 614299000000000, 600696000000000, 551038000000000, 542684000000000, 529969000000000, 472172000000000, 466041000000000, 443967000000000, 378462000000000, 367961000000000, 312589000000000, 309438000000000, 277291000000000, 260674000000000, 253559000000000, 217559000000000, 173042000000000, 123642000000000, 83233000000000, 41020000000000, 32975000000000, 1071908000000000, 1067247000000000, 983939000000000, 972802000000000, 972111000000000, 887370000000000, 711360000000000, 706737000000000, 697450000000000, 689892000000000, 662095000000000, 648276000000000, 641509000000000, 630468000000000, 625591000000000, 624953000000000, 611434000000000, 604330000000000, 600947000000000, 548940000000000, 542624000000000, 539150000000000, 531497000000000, 474901000000000, 463620000000000, 458904000000000, 443650000000000, 390168000000000, 368328000000000, 352163000000000, 255544000000000, 174425000000000, 87404000000000, 34181000000000, 13881000000000, 1071888000000000, 985650000000000, 974607000000000, 954475000000000, 886368000000000, 711092000000000, 707661000000000, 694298000000000, 659840000000000, 651400000000000, 645422000000000, 628309000000000, 617087000000000, 615547000000000, 599533000000000, 539079000000000, 529865000000000, 471818000000000, 471621000000000, 466415000000000, 463866000000000, 374969000000000, 366504000000000, 354916000000000, 253400000000000, 232841000000000, 216765000000000, 177598000000000, 135737000000000, 107809000000000, 83624000000000, 38015000000000, 27783000000000, 13515000000000, 1071733000000000, 985231000000000, 974545000000000, 796395000000000, 719591000000000, 706774000000000, 693980000000000, 693766000000000, 649309000000000, 647857000000000, 645351000000000, 622656000000000, 622196000000000, 616028000000000, 615389000000000, 530922000000000, 477376000000000, 473598000000000, 473346000000000, 471871000000000, 460477000000000, 391519000000000, 365561000000000, 308603000000000, 260792000000000, 232803000000000, 135867000000000, 107417000000000, 40790000000000, 37414000000000, 32730000000000, 27269000000000, 1071654000000000, 986467000000000, 973313000000000, 829921000000000, 719203000000000, 718717000000000, 716006000000000, 698013000000000, 667076000000000, 642213000000000, 620683000000000, 614995000000000, 609797000000000, 598207000000000, 545482000000000, 532530000000000, 464684000000000, 443730000000000, 419817000000000, 368625000000000, 355556000000000, 349917000000000, 309762000000000, 275703000000000, 253008000000000, 231775000000000, 217923000000000, 105007000000000, 40084000000000, 28194000000000, 10253000000000, 1071558000000000, 1042615000000000, 984666000000000, 975944000000000, 973613000000000, 953189000000000, 885715000000000, 788210000000000, 721057000000000, 719264000000000, 714964000000000, 714348000000000, 695526000000000, 693721000000000, 667935000000000, 650623000000000, 644006000000000, 630043000000000, 617468000000000, 530365000000000, 477828000000000, 474345000000000, 473090000000000, 464135000000000, 307654000000000, 261580000000000, 216504000000000, 135009000000000, 81660000000000, 40225000000000, 37230000000000, 16776000000000, 604000000000, -3455000000000, 1071502000000000, 1043209000000000, 984009000000000, 974070000000000, 968528000000000, 958050000000000, 801147000000000, 732402000000000, 716107000000000, 698316000000000, 674838000000000, 651290000000000, 647943000000000, 632113000000000, 615604000000000, 599778000000000, 549640000000000, 538360000000000, 472653000000000, 461171000000000, 443806000000000, 378681000000000, 308010000000000, 284847000000000, 275876000000000, 252860000000000, 232163000000000, 218373000000000, 103062000000000, 98010000000000, 81705000000000, 28119000000000, 24156000000000, 1071155000000000, 984590000000000, 968491000000000, 727588000000000, 725998000000000, 714548000000000, 707175000000000, 694990000000000, 692240000000000, 648063000000000, 641324000000000, 629806000000000, 624435000000000, 620470000000000, 608857000000000, 607141000000000, 597418000000000, 545693000000000, 532930000000000, 474269000000000, 465725000000000, 463779000000000, 452776000000000, 355781000000000, 352795000000000, 310241000000000, 297625000000000, 260658000000000, 255352000000000, 233141000000000, 216693000000000, 101478000000000, 88046000000000, -2753000000000, 1071020000000000, 989161000000000, 977034000000000, 974491000000000, 974322000000000, 952126000000000, 886122000000000, 858403000000000, 726233000000000, 720484000000000, 716345000000000, 714447000000000, 693578000000000, 675039000000000, 654756000000000, 649152000000000, 648746000000000, 647698000000000, 641367000000000, 627995000000000, 626904000000000, 597456000000000, 542740000000000, 473809000000000, 460501000000000, 444129000000000, 378761000000000, 366065000000000, 312982000000000, 309321000000000, 276891000000000, 254851000000000, 231810000000000, 218300000000000, 174131000000000, 164740000000000, 91474000000000, 85337000000000, 82694000000000, 37910000000000, 15867000000000, 542000000000, -753000000000, -4010000000000, 1070893000000000, 990224000000000, 977122000000000, 973785000000000, 885800000000000, 859679000000000, 783242000000000, 728692000000000, 713909000000000, 712177000000000, 706821000000000, 675081000000000, 651693000000000, 648783000000000, 641613000000000, 631369000000000, 621945000000000, 617806000000000, 606483000000000, 600461000000000, 543323000000000, 474789000000000, 465644000000000, 463814000000000, 444463000000000, 435386000000000, 378956000000000, 366703000000000, 347897000000000, 308939000000000, 288645000000000, 277654000000000, 261086000000000, 255701000000000, 218417000000000, 216265000000000, 177766000000000, 108636000000000, 91103000000000, 85695000000000, 82535000000000, 16095000000000, 14146000000000, 339000000000, 1066814000000000, 1057766000000000, 1057750000000000, 1042734000000000, 1029529000000000, 985530000000000, 957741000000000, 888893000000000, 866062000000000, 830238000000000, 773432000000000, 723601000000000, 710535000000000, 651476000000000, 643902000000000, 643339000000000, 640957000000000, 626050000000000, 624581000000000, 600631000000000, 550008000000000, 545714000000000, 539705000000000, 464750000000000, 445961000000000, 378816000000000, 349454000000000, 312433000000000, 309983000000000, 255398000000000, 232214000000000, 217146000000000, 109189000000000, 102749000000000, 97781000000000, 36767000000000, 35241000000000, 28743000000000, 27130000000000, 15918000000000, 5825000000000, 4993000000000, 1066549000000000, 1054660000000000, 1029993000000000, 1000691000000000, 975533000000000, 968948000000000, 957525000000000, 886289000000000, 865062000000000, 733023000000000, 732516000000000, 726655000000000, 724988000000000, 715344000000000, 697274000000000, 671009000000000, 655893000000000, 652018000000000, 650368000000000, 638608000000000, 621202000000000, 615444000000000, 611666000000000, 608753000000000, 600216000000000, 547135000000000, 545547000000000, 465009000000000, 463400000000000, 461236000000000, 445671000000000, 401714000000000, 366010000000000, 349102000000000, 287314000000000, 261330000000000, 257004000000000, 216924000000000, 189969000000000, 180855000000000, 135494000000000, 109588000000000, 91933000000000, 82240000000000, 40037000000000, 28465000000000, 16026000000000, 15408000000000, 4636000000000, 4514000000000, 1066464000000000, 1054395000000000, 999912000000000, 976879000000000, 973453000000000, 968577000000000, 891378000000000, 864711000000000, 726736000000000, 726701000000000, 724898000000000, 720795000000000, 693179000000000, 691286000000000, 657590000000000, 643735000000000, 641500000000000, 624991000000000, 619985000000000, 608838000000000, 604988000000000, 601525000000000, 545509000000000, 473008000000000, 472513000000000, 460822000000000, 445638000000000, 443326000000000, 401685000000000, 356033000000000, 349079000000000, 309923000000000, 286263000000000, 260517000000000, 256328000000000, 216733000000000, 189938000000000, 178614000000000, 136190000000000, 109684000000000, 82392000000000, 26213000000000, 18955000000000, 14929000000000, 4612000000000, 459000000000, 1058155000000000, 999788000000000, 996208000000000, 985101000000000, 975026000000000, 975012000000000, 971236000000000, 957877000000000, 885562000000000, 861841000000000, 787961000000000, 715171000000000, 714152000000000, 697429000000000, 694213000000000, 674967000000000, 649829000000000, 647980000000000, 645823000000000, 639008000000000, 621589000000000, 602029000000000, 546803000000000, 543518000000000, 538393000000000, 474174000000000, 464176000000000, 452916000000000, 444815000000000, 378844000000000, 368469000000000, 355348000000000, 348379000000000, 311485000000000, 285117000000000, 257067000000000, 173592000000000, 165578000000000, 103497000000000, 82973000000000, 40856000000000, 27443000000000, 18919000000000, 14352000000000, 610000000000, 1058101000000000, 1041842000000000, 1000878000000000, 997314000000000, 975422000000000, 973519000000000, 967939000000000, 864532000000000, 730979000000000, 726444000000000, 725217000000000, 724789000000000, 719774000000000, 706868000000000, 657132000000000, 650752000000000, 650235000000000, 647096000000000, 626380000000000, 621775000000000, 619520000000000, 613919000000000, 611461000000000, 604797000000000, 597383000000000, 546686000000000, 545465000000000, 472708000000000, 472202000000000, 460626000000000, 445568000000000, 378908000000000, 349361000000000, 278376000000000, 261058000000000, 253133000000000, 237691000000000, 189591000000000, 178103000000000, 108209000000000, 106551000000000, 32417000000000, 28280000000000, 22836000000000, 4283000000000, 406000000000, 1057925000000000, 1042037000000000, 989435000000000, 976163000000000, 974496000000000, 973838000000000, 958293000000000, 886390000000000, 858982000000000, 733892000000000, 728307000000000, 713725000000000, 697135000000000, 693666000000000, 652631000000000, 645850000000000, 645183000000000, 639107000000000, 626298000000000, 614381000000000, 602150000000000, 597553000000000, 543238000000000, 470704000000000, 463506000000000, 459503000000000, 453161000000000, 444332000000000, 440336000000000, 281667000000000, 276687000000000, 260503000000000, 253204000000000, 218839000000000, 177336000000000, 165011000000000, 85555000000000, 82473000000000, 27638000000000, 13425000000000, 4686000000000, -428000000000, 1044022000000000, 991191000000000, 977440000000000, 973786000000000, 954538000000000, 885849000000000, 859123000000000, 801345000000000, 796420000000000, 728553000000000, 720641000000000, 713678000000000, 707556000000000, 698905000000000, 694104000000000, 684051000000000, 678745000000000, 654229000000000, 651230000000000, 649723000000000, 642661000000000, 626791000000000, 620664000000000, 614755000000000, 597649000000000, 543268000000000, 531356000000000, 471351000000000, 466241000000000, 453074000000000, 444353000000000, 441381000000000, 435545000000000, 390204000000000, 349709000000000, 284362000000000, 277003000000000, 256634000000000, 233638000000000, 174054000000000, 165121000000000, 109356000000000, 98130000000000, 91896000000000, 88501000000000, -335000000000, 1043304000000000, 984851000000000, 975005000000000, 973359000000000, 968690000000000, 886061000000000, 886003000000000, 731609000000000, 726370000000000, 725926000000000, 725337000000000, 695408000000000, 693847000000000, 651108000000000, 642150000000000, 622756000000000, 619884000000000, 617706000000000, 603619000000000, 599470000000000, 545885000000000, 530462000000000, 477931000000000, 474984000000000, 466387000000000, 350809000000000, 310188000000000, 297175000000000, 286390000000000, 260580000000000, 175609000000000, 164025000000000, 107073000000000, 106279000000000, 85209000000000, 36885000000000, 28346000000000, 9191000000000, -3377000000000, 1043048000000000, 983881000000000, 788367000000000, 742053000000000, 730286000000000, 723282000000000, 715401000000000, 707362000000000, 696193000000000, 692332000000000, 648916000000000, 644911000000000, 640602000000000, 628033000000000, 624578000000000, 615444000000000, 605675000000000, 598841000000000, 460532000000000, 351485000000000, 309109000000000, 260547000000000, 252732000000000, 217514000000000, 106913000000000, 91165000000000, 85857000000000, 38131000000000, 26855000000000, 12041000000000, 147000000000, 1042786000000000, 984914000000000, 974421000000000, 974231000000000, 972446000000000, 957900000000000, 886568000000000, 783614000000000, 726309000000000, 724446000000000, 714787000000000, 706983000000000, 693281000000000, 691637000000000, 651202000000000, 648621000000000, 644979000000000, 641638000000000, 614610000000000, 598010000000000, 531623000000000, 470664000000000, 458639000000000, 288339000000000, 277558000000000, 260484000000000, 254816000000000, 233835000000000, 217080000000000, 177271000000000, 164084000000000, 102981000000000, 83281000000000, 40919000000000, 37270000000000, 21730000000000, 640000000000, 1041941000000000, 988076000000000, 970636000000000, 951696000000000, 891828000000000, 886618000000000, 859439000000000, 728615000000000, 724259000000000, 713823000000000, 699796000000000, 698326000000000, 693308000000000, 669852000000000, 655137000000000, 645028000000000, 626667000000000, 623829000000000, 620686000000000, 612116000000000, 602625000000000, 600333000000000, 551685000000000, 543294000000000, 471916000000000, 471045000000000, 465373000000000, 454103000000000, 366253000000000, 347857000000000, 313179000000000, 255115000000000, 177039000000000, 135424000000000, 103235000000000, 101739000000000, 98383000000000, 255000000000, -4105000000000, 1041736000000000, 985164000000000, 974990000000000, 974972000000000, 966867000000000, 886100000000000, 885539000000000, 723492000000000, 717515000000000, 697397000000000, 674778000000000, 647826000000000, 646445000000000, 626410000000000, 610229000000000, 599859000000000, 478317000000000, 471930000000000, 458520000000000, 454430000000000, 435062000000000, 390422000000000, 362969000000000, 287584000000000, 261354000000000, 177711000000000, 116701000000000, 107849000000000, 83313000000000, 32115000000000, 8806000000000, 2408000000000, 1030150000000000, 984933000000000, 955650000000000, 885773000000000, 741547000000000, 721133000000000, 717681000000000, 715575000000000, 698703000000000, 697212000000000, 678463000000000, 657876000000000, 649640000000000, 639071000000000, 630588000000000, 626855000000000, 607519000000000, 598026000000000, 473891000000000, 458791000000000, 443606000000000, 435849000000000, 365038000000000, 313234000000000, 297116000000000, 283944000000000, 260986000000000, 255048000000000, 173253000000000, 84572000000000, 52788000000000, 27047000000000, -3529000000000, 999013000000000, 989920000000000, 976036000000000, 974051000000000, 951239000000000, 887808000000000, 886648000000000, 886424000000000, 862013000000000, 729478000000000, 723499000000000, 713313000000000, 693563000000000, 684120000000000, 668608000000000, 654907000000000, 644871000000000, 640899000000000, 602525000000000, 601338000000000, 545067000000000, 543593000000000, 479807000000000, 459607000000000, 442352000000000, 348408000000000, 307296000000000, 297744000000000, 283737000000000, 261381000000000, 231943000000000, 187312000000000, 108004000000000, 82948000000000, 52560000000000, 41512000000000, 30433000000000, 874000000000, -4070000000000, 998617000000000, 984347000000000, 975140000000000, 973650000000000, 967570000000000, 858892000000000, 728171000000000, 726624000000000, 726425000000000, 711028000000000, 690629000000000, 667678000000000, 661039000000000, 644046000000000, 640935000000000, 638559000000000, 630738000000000, 626546000000000, 621718000000000, 615819000000000, 600186000000000, 542811000000000, 540266000000000, 475177000000000, 464590000000000, 444313000000000, 387631000000000, 378487000000000, 352357000000000, 311419000000000, 310156000000000, 260779000000000, 252676000000000, 216465000000000, 105935000000000, 87804000000000, 26963000000000, 22941000000000, -465000000000, 998432000000000, 988155000000000, 976273000000000, 972639000000000, 954076000000000, 886343000000000, 857893000000000, 727759000000000, 724716000000000, 713353000000000, 688157000000000, 648486000000000, 639791000000000, 626160000000000, 622740000000000, 617389000000000, 601048000000000, 542896000000000, 538307000000000, 529558000000000, 472537000000000, 471550000000000, 461212000000000, 444163000000000, 419708000000000, 366853000000000, 310481000000000, 281581000000000, 261150000000000, 260591000000000, 255780000000000, 233712000000000, 219041000000000, 164851000000000, 108130000000000, 98088000000000, 88667000000000, 26529000000000, 22060000000000, 15069000000000, -724000000000, 988664000000000, 915859000000000, 858046000000000, 727570000000000, 707724000000000, 699604000000000, 650028000000000, 640344000000000, 640299000000000, 631825000000000, 628727000000000, 627211000000000, 616106000000000, 600541000000000, 542596000000000, 539868000000000, 532772000000000, 473352000000000, 460273000000000, 454485000000000, 443359000000000, 378650000000000, 352685000000000, 309588000000000, 281243000000000, 276009000000000, 253323000000000, 217404000000000, 216520000000000, 102435000000000, 88372000000000, 26727000000000, 21446000000000, -2921000000000, 987975000000000, 915684000000000, 886214000000000, 857569000000000, 726906000000000, 726146000000000, 715264000000000, 714284000000000, 712355000000000, 698916000000000, 683375000000000, 653541000000000, 640066000000000, 629180000000000, 625896000000000, 598536000000000, 546862000000000, 542565000000000, 530121000000000, 474088000000000, 473069000000000, 465414000000000, 443260000000000, 378625000000000, 362926000000000, 253464000000000, 232740000000000, 178368000000000, 123223000000000, 100044000000000, 91376000000000, 36501000000000, 9162000000000, -3793000000000, 987636000000000, 914564000000000, 856317000000000, 721985000000000, 716176000000000, 714454000000000, 707475000000000, 698648000000000, 650575000000000, 641169000000000, 631554000000000, 615340000000000, 613586000000000, 599011000000000, 533141000000000, 478379000000000, 472538000000000, 472093000000000, 464224000000000, 442612000000000, 369126000000000, 352950000000000, 281958000000000, 260529000000000, 233072000000000, 217017000000000, 164297000000000, 105351000000000, 98049000000000, 88756000000000, 36979000000000, 15729000000000, -2679000000000, 985881000000000, 974898000000000, 953039000000000, 891297000000000, 800542000000000, 725121000000000, 719277000000000, 707410000000000, 696356000000000, 648525000000000, 645495000000000, 625582000000000, 617425000000000, 615489000000000, 606238000000000, 599726000000000, 546969000000000, 530191000000000, 470878000000000, 460555000000000, 443483000000000, 387503000000000, 310748000000000, 253066000000000, 233674000000000, 217708000000000, 116794000000000, 103017000000000, 41389000000000, 36713000000000, 28520000000000, 23628000000000, 15642000000000, 985438000000000, 971669000000000, 954996000000000, 915517000000000, 802394000000000, 730544000000000, 714062000000000, 694694000000000, 648461000000000, 643455000000000, 641400000000000, 620067000000000, 611543000000000, 605105000000000, 598253000000000, 547049000000000, 532690000000000, 471408000000000, 460083000000000, 378449000000000, 368155000000000, 349862000000000, 310672000000000, 276512000000000, 260554000000000, 254140000000000, 233029000000000, 175658000000000, 123310000000000, 85966000000000, 21590000000000, 8460000000000, -3175000000000, 985382000000000, 974439000000000, 972638000000000, 892293000000000, 886355000000000, 777689000000000, 720490000000000, 712436000000000, 695380000000000, 681945000000000, 645123000000000, 638664000000000, 627489000000000, 621146000000000, 610377000000000, 598426000000000, 549288000000000, 538920000000000, 465198000000000, 458857000000000, 392714000000000, 260710000000000, 253739000000000, 232995000000000, 216379000000000, 177436000000000, 83551000000000, 18813000000000, 13601000000000, 985269000000000, 951793000000000, 894336000000000, 886838000000000, 734360000000000, 721297000000000, 698564000000000, 694107000000000, 683745000000000, 681517000000000, 649553000000000, 638863000000000, 628324000000000, 626742000000000, 608881000000000, 599154000000000, 545934000000000, 540200000000000, 477563000000000, 458552000000000, 368511000000000, 350652000000000, 310336000000000, 284220000000000, 275942000000000, 260604000000000, 173650000000000, 106071000000000, 91054000000000, 83425000000000, 36581000000000, 984972000000000, 914288000000000, 892827000000000, 796459000000000, 719991000000000, 719024000000000, 693313000000000, 646290000000000, 645284000000000, 640304000000000, 620346000000000, 617655000000000, 608355000000000, 545114000000000, 539480000000000, 530043000000000, 458668000000000, 436820000000000, 390640000000000, 364976000000000, 281480000000000, 260492000000000, 253674000000000, 231971000000000, 107904000000000, 27214000000000, 16639000000000, 13787000000000, 2355000000000, 984873000000000, 968122000000000, 782858000000000, 729804000000000, 721639000000000, 717283000000000, 711187000000000, 697390000000000, 695989000000000, 668831000000000, 649879000000000, 644757000000000, 638697000000000, 613694000000000, 597982000000000, 532127000000000, 479834000000000, 458479000000000, 391221000000000, 362873000000000, 232939000000000, 216567000000000, 108483000000000, 106796000000000, 26407000000000, 15245000000000, 2465000000000, 984809000000000, 903165000000000, 731451000000000, 644695000000000, 616423000000000, 540350000000000, 532295000000000, 479971000000000, 459173000000000, 439273000000000, 368299000000000, 261004000000000, 231592000000000, 218134000000000, 136004000000000, 90952000000000, 22794000000000, 984742000000000, 973828000000000, 967538000000000, 732110000000000, 730104000000000, 729802000000000, 693689000000000, 645091000000000, 639521000000000, 628165000000000, 620125000000000, 617258000000000, 615095000000000, 615089000000000, 531061000000000, 474639000000000, 466953000000000, 452980000000000, 351821000000000, 310577000000000, 286962000000000, 260888000000000, 253637000000000, 107129000000000, 90863000000000, 15435000000000, 984628000000000, 953565000000000, 893951000000000, 711336000000000, 694713000000000, 693174000000000, 674726000000000, 651844000000000, 647752000000000, 643514000000000, 639299000000000, 629469000000000, 609669000000000, 598102000000000, 551484000000000, 529902000000000, 472313000000000, 470588000000000, 463544000000000, 461041000000000, 368253000000000, 284596000000000, 260686000000000, 252946000000000, 233172000000000, 218732000000000, 123922000000000, 103737000000000, 98477000000000, 83384000000000, 37464000000000, 22651000000000, 1750000000000, 984563000000000, 974192000000000, 952386000000000, 796260000000000, 734093000000000, 719882000000000, 718872000000000, 695115000000000, 670677000000000, 646369000000000, 644942000000000, 620477000000000, 616055000000000, 597950000000000, 546456000000000, 538698000000000, 531840000000000, 477479000000000, 472469000000000, 466838000000000, 387040000000000, 351654000000000, 261644000000000, 231873000000000, 216393000000000, 135308000000000, 107244000000000, 36242000000000, 30536000000000, 22708000000000, 8858000000000, 8622000000000, 984538000000000, 973984000000000, 951670000000000, 723301000000000, 723192000000000, 700319000000000, 697710000000000, 652504000000000, 649442000000000, 648027000000000, 645775000000000, 638524000000000, 624517000000000, 617728000000000, 614820000000000, 599331000000000, 552311000000000, 530951000000000, 470275000000000, 466191000000000, 465162000000000, 368396000000000, 355226000000000, 313323000000000, 311526000000000, 285451000000000, 260948000000000, 254976000000000, 237654000000000, 173821000000000, 163894000000000, 85033000000000, 37200000000000, 28396000000000, 13565000000000, -3398000000000, 984453000000000, 953289000000000, 886903000000000, 885953000000000, 715828000000000, 713076000000000, 707217000000000, 698296000000000, 695832000000000, 668555000000000, 649961000000000, 649937000000000, 645734000000000, 644267000000000, 624547000000000, 608447000000000, 597353000000000, 532855000000000, 474456000000000, 465857000000000, 355389000000000, 352407000000000, 313596000000000, 283069000000000, 260468000000000, 252517000000000, 232277000000000, 218970000000000, 106974000000000, 97911000000000, 91782000000000, 52730000000000, 22128000000000, 984418000000000, 975608000000000, 957831000000000, 890386000000000, 800962000000000, 723347000000000, 693967000000000, 690276000000000, 672272000000000, 651992000000000, 647474000000000, 625380000000000, 624761000000000, 621448000000000, 620585000000000, 597514000000000, 530166000000000, 477653000000000, 474023000000000, 466589000000000, 387117000000000, 313566000000000, 309391000000000, 285358000000000, 276102000000000, 177657000000000, 107443000000000, 84989000000000, 36389000000000, 26829000000000, 13268000000000, -3349000000000, 984207000000000, 968408000000000, 893311000000000, 886538000000000, 726334000000000, 720539000000000, 693522000000000, 670756000000000, 647111000000000, 646183000000000, 631275000000000, 624604000000000, 608119000000000, 597821000000000, 551915000000000, 540094000000000, 532989000000000, 470088000000000, 459562000000000, 391151000000000, 312704000000000, 277905000000000, 261403000000000, 253945000000000, 216113000000000, 180555000000000, 86921000000000, 33934000000000, 27006000000000, 15229000000000, 12624000000000, 984166000000000, 975253000000000, 954019000000000, 724481000000000, 715415000000000, 696836000000000, 683535000000000, 672091000000000, 647360000000000, 639325000000000, 628483000000000, 621278000000000, 610445000000000, 608262000000000, 599691000000000, 539390000000000, 531684000000000, 472336000000000, 458609000000000, 452446000000000, 443557000000000, 436593000000000, 391414000000000, 365381000000000, 308069000000000, 254389000000000, 218574000000000, 180703000000000, 123363000000000, 84365000000000, 52478000000000, 27714000000000, 22037000000000, 358000000000, -3567000000000, 984044000000000, 975063000000000, 966892000000000, 723555000000000, 721452000000000, 707021000000000, 693078000000000, 670944000000000, 660837000000000, 647259000000000, 624011000000000, 608460000000000, 598926000000000, 552414000000000, 530264000000000, 472423000000000, 464311000000000, 463482000000000, 435227000000000, 390276000000000, 362828000000000, 351915000000000, 261492000000000, 254250000000000, 216849000000000, 180651000000000, 107200000000000, 103630000000000, 83497000000000, 22560000000000, 8969000000000, 983977000000000, 967414000000000, 831127000000000, 800753000000000, 723398000000000, 720242000000000, 696851000000000, 695268000000000, 683176000000000, 670821000000000, 647191000000000, 640475000000000, 639368000000000, 624501000000000, 617290000000000, 609615000000000, 608308000000000, 598363000000000, 539323000000000, 476564000000000, 469821000000000, 466625000000000, 368683000000000, 350716000000000, 313348000000000, 260623000000000, 180608000000000, 163968000000000, 123856000000000, 116751000000000, 102644000000000, 84940000000000, 37983000000000, 34462000000000, 13353000000000, -3320000000000], \"xaxis\": \"x\", \"yaxis\": \"y\"}],\n",
              "                        {\"barmode\": \"relative\", \"legend\": {\"tracegroupgap\": 0}, \"template\": {\"data\": {\"bar\": [{\"error_x\": {\"color\": \"#2a3f5f\"}, \"error_y\": {\"color\": \"#2a3f5f\"}, \"marker\": {\"line\": {\"color\": \"#E5ECF6\", \"width\": 0.5}}, \"type\": \"bar\"}], \"barpolar\": [{\"marker\": {\"line\": {\"color\": \"#E5ECF6\", \"width\": 0.5}}, \"type\": \"barpolar\"}], \"carpet\": [{\"aaxis\": {\"endlinecolor\": \"#2a3f5f\", \"gridcolor\": \"white\", \"linecolor\": \"white\", \"minorgridcolor\": \"white\", \"startlinecolor\": \"#2a3f5f\"}, \"baxis\": {\"endlinecolor\": \"#2a3f5f\", \"gridcolor\": \"white\", \"linecolor\": \"white\", \"minorgridcolor\": \"white\", \"startlinecolor\": \"#2a3f5f\"}, \"type\": \"carpet\"}], \"choropleth\": [{\"colorbar\": {\"outlinewidth\": 0, \"ticks\": \"\"}, \"type\": \"choropleth\"}], \"contour\": [{\"colorbar\": {\"outlinewidth\": 0, \"ticks\": \"\"}, \"colorscale\": [[0.0, \"#0d0887\"], [0.1111111111111111, \"#46039f\"], [0.2222222222222222, \"#7201a8\"], [0.3333333333333333, \"#9c179e\"], [0.4444444444444444, \"#bd3786\"], [0.5555555555555556, \"#d8576b\"], [0.6666666666666666, \"#ed7953\"], [0.7777777777777778, \"#fb9f3a\"], [0.8888888888888888, \"#fdca26\"], [1.0, \"#f0f921\"]], \"type\": \"contour\"}], \"contourcarpet\": [{\"colorbar\": {\"outlinewidth\": 0, \"ticks\": \"\"}, \"type\": \"contourcarpet\"}], \"heatmap\": [{\"colorbar\": {\"outlinewidth\": 0, \"ticks\": \"\"}, \"colorscale\": [[0.0, \"#0d0887\"], [0.1111111111111111, \"#46039f\"], [0.2222222222222222, \"#7201a8\"], [0.3333333333333333, \"#9c179e\"], [0.4444444444444444, \"#bd3786\"], [0.5555555555555556, \"#d8576b\"], [0.6666666666666666, \"#ed7953\"], [0.7777777777777778, \"#fb9f3a\"], [0.8888888888888888, \"#fdca26\"], [1.0, \"#f0f921\"]], \"type\": \"heatmap\"}], \"heatmapgl\": [{\"colorbar\": {\"outlinewidth\": 0, \"ticks\": \"\"}, \"colorscale\": [[0.0, \"#0d0887\"], [0.1111111111111111, \"#46039f\"], [0.2222222222222222, \"#7201a8\"], [0.3333333333333333, \"#9c179e\"], [0.4444444444444444, \"#bd3786\"], [0.5555555555555556, \"#d8576b\"], [0.6666666666666666, \"#ed7953\"], [0.7777777777777778, \"#fb9f3a\"], [0.8888888888888888, \"#fdca26\"], [1.0, \"#f0f921\"]], \"type\": \"heatmapgl\"}], \"histogram\": [{\"marker\": {\"colorbar\": {\"outlinewidth\": 0, \"ticks\": \"\"}}, \"type\": \"histogram\"}], \"histogram2d\": [{\"colorbar\": {\"outlinewidth\": 0, \"ticks\": \"\"}, \"colorscale\": [[0.0, \"#0d0887\"], [0.1111111111111111, \"#46039f\"], [0.2222222222222222, \"#7201a8\"], [0.3333333333333333, \"#9c179e\"], [0.4444444444444444, \"#bd3786\"], [0.5555555555555556, \"#d8576b\"], [0.6666666666666666, \"#ed7953\"], [0.7777777777777778, \"#fb9f3a\"], [0.8888888888888888, \"#fdca26\"], [1.0, \"#f0f921\"]], \"type\": \"histogram2d\"}], \"histogram2dcontour\": [{\"colorbar\": {\"outlinewidth\": 0, \"ticks\": \"\"}, \"colorscale\": [[0.0, \"#0d0887\"], [0.1111111111111111, \"#46039f\"], [0.2222222222222222, \"#7201a8\"], [0.3333333333333333, \"#9c179e\"], [0.4444444444444444, \"#bd3786\"], [0.5555555555555556, \"#d8576b\"], [0.6666666666666666, \"#ed7953\"], [0.7777777777777778, \"#fb9f3a\"], [0.8888888888888888, \"#fdca26\"], [1.0, \"#f0f921\"]], \"type\": \"histogram2dcontour\"}], \"mesh3d\": [{\"colorbar\": {\"outlinewidth\": 0, \"ticks\": \"\"}, \"type\": \"mesh3d\"}], \"parcoords\": [{\"line\": {\"colorbar\": {\"outlinewidth\": 0, \"ticks\": \"\"}}, \"type\": \"parcoords\"}], \"pie\": [{\"automargin\": true, \"type\": \"pie\"}], \"scatter\": [{\"marker\": {\"colorbar\": {\"outlinewidth\": 0, \"ticks\": \"\"}}, \"type\": \"scatter\"}], \"scatter3d\": [{\"line\": {\"colorbar\": {\"outlinewidth\": 0, \"ticks\": \"\"}}, \"marker\": {\"colorbar\": {\"outlinewidth\": 0, \"ticks\": \"\"}}, \"type\": \"scatter3d\"}], \"scattercarpet\": [{\"marker\": {\"colorbar\": {\"outlinewidth\": 0, \"ticks\": \"\"}}, \"type\": \"scattercarpet\"}], \"scattergeo\": [{\"marker\": {\"colorbar\": {\"outlinewidth\": 0, \"ticks\": \"\"}}, \"type\": \"scattergeo\"}], \"scattergl\": [{\"marker\": {\"colorbar\": {\"outlinewidth\": 0, \"ticks\": \"\"}}, \"type\": \"scattergl\"}], \"scattermapbox\": [{\"marker\": {\"colorbar\": {\"outlinewidth\": 0, \"ticks\": \"\"}}, \"type\": \"scattermapbox\"}], \"scatterpolar\": [{\"marker\": {\"colorbar\": {\"outlinewidth\": 0, \"ticks\": \"\"}}, \"type\": \"scatterpolar\"}], \"scatterpolargl\": [{\"marker\": {\"colorbar\": {\"outlinewidth\": 0, \"ticks\": \"\"}}, \"type\": \"scatterpolargl\"}], \"scatterternary\": [{\"marker\": {\"colorbar\": {\"outlinewidth\": 0, \"ticks\": \"\"}}, \"type\": \"scatterternary\"}], \"surface\": [{\"colorbar\": {\"outlinewidth\": 0, \"ticks\": \"\"}, \"colorscale\": [[0.0, \"#0d0887\"], [0.1111111111111111, \"#46039f\"], [0.2222222222222222, \"#7201a8\"], [0.3333333333333333, \"#9c179e\"], [0.4444444444444444, \"#bd3786\"], [0.5555555555555556, \"#d8576b\"], [0.6666666666666666, \"#ed7953\"], [0.7777777777777778, \"#fb9f3a\"], [0.8888888888888888, \"#fdca26\"], [1.0, \"#f0f921\"]], \"type\": \"surface\"}], \"table\": [{\"cells\": {\"fill\": {\"color\": \"#EBF0F8\"}, \"line\": {\"color\": \"white\"}}, \"header\": {\"fill\": {\"color\": \"#C8D4E3\"}, \"line\": {\"color\": \"white\"}}, \"type\": \"table\"}]}, \"layout\": {\"annotationdefaults\": {\"arrowcolor\": \"#2a3f5f\", \"arrowhead\": 0, \"arrowwidth\": 1}, \"coloraxis\": {\"colorbar\": {\"outlinewidth\": 0, \"ticks\": \"\"}}, \"colorscale\": {\"diverging\": [[0, \"#8e0152\"], [0.1, \"#c51b7d\"], [0.2, \"#de77ae\"], [0.3, \"#f1b6da\"], [0.4, \"#fde0ef\"], [0.5, \"#f7f7f7\"], [0.6, \"#e6f5d0\"], [0.7, \"#b8e186\"], [0.8, \"#7fbc41\"], [0.9, \"#4d9221\"], [1, \"#276419\"]], \"sequential\": [[0.0, \"#0d0887\"], [0.1111111111111111, \"#46039f\"], [0.2222222222222222, \"#7201a8\"], [0.3333333333333333, \"#9c179e\"], [0.4444444444444444, \"#bd3786\"], [0.5555555555555556, \"#d8576b\"], [0.6666666666666666, \"#ed7953\"], [0.7777777777777778, \"#fb9f3a\"], [0.8888888888888888, \"#fdca26\"], [1.0, \"#f0f921\"]], \"sequentialminus\": [[0.0, \"#0d0887\"], [0.1111111111111111, \"#46039f\"], [0.2222222222222222, \"#7201a8\"], [0.3333333333333333, \"#9c179e\"], [0.4444444444444444, \"#bd3786\"], [0.5555555555555556, \"#d8576b\"], [0.6666666666666666, \"#ed7953\"], [0.7777777777777778, \"#fb9f3a\"], [0.8888888888888888, \"#fdca26\"], [1.0, \"#f0f921\"]]}, \"colorway\": [\"#636efa\", \"#EF553B\", \"#00cc96\", \"#ab63fa\", \"#FFA15A\", \"#19d3f3\", \"#FF6692\", \"#B6E880\", \"#FF97FF\", \"#FECB52\"], \"font\": {\"color\": \"#2a3f5f\"}, \"geo\": {\"bgcolor\": \"white\", \"lakecolor\": \"white\", \"landcolor\": \"#E5ECF6\", \"showlakes\": true, \"showland\": true, \"subunitcolor\": \"white\"}, \"hoverlabel\": {\"align\": \"left\"}, \"hovermode\": \"closest\", \"mapbox\": {\"style\": \"light\"}, \"paper_bgcolor\": \"white\", \"plot_bgcolor\": \"#E5ECF6\", \"polar\": {\"angularaxis\": {\"gridcolor\": \"white\", \"linecolor\": \"white\", \"ticks\": \"\"}, \"bgcolor\": \"#E5ECF6\", \"radialaxis\": {\"gridcolor\": \"white\", \"linecolor\": \"white\", \"ticks\": \"\"}}, \"scene\": {\"xaxis\": {\"backgroundcolor\": \"#E5ECF6\", \"gridcolor\": \"white\", \"gridwidth\": 2, \"linecolor\": \"white\", \"showbackground\": true, \"ticks\": \"\", \"zerolinecolor\": \"white\"}, \"yaxis\": {\"backgroundcolor\": \"#E5ECF6\", \"gridcolor\": \"white\", \"gridwidth\": 2, \"linecolor\": \"white\", \"showbackground\": true, \"ticks\": \"\", \"zerolinecolor\": \"white\"}, \"zaxis\": {\"backgroundcolor\": \"#E5ECF6\", \"gridcolor\": \"white\", \"gridwidth\": 2, \"linecolor\": \"white\", \"showbackground\": true, \"ticks\": \"\", \"zerolinecolor\": \"white\"}}, \"shapedefaults\": {\"line\": {\"color\": \"#2a3f5f\"}}, \"ternary\": {\"aaxis\": {\"gridcolor\": \"white\", \"linecolor\": \"white\", \"ticks\": \"\"}, \"baxis\": {\"gridcolor\": \"white\", \"linecolor\": \"white\", \"ticks\": \"\"}, \"bgcolor\": \"#E5ECF6\", \"caxis\": {\"gridcolor\": \"white\", \"linecolor\": \"white\", \"ticks\": \"\"}}, \"title\": {\"x\": 0.05}, \"xaxis\": {\"automargin\": true, \"gridcolor\": \"white\", \"linecolor\": \"white\", \"ticks\": \"\", \"title\": {\"standoff\": 15}, \"zerolinecolor\": \"white\", \"zerolinewidth\": 2}, \"yaxis\": {\"automargin\": true, \"gridcolor\": \"white\", \"linecolor\": \"white\", \"ticks\": \"\", \"title\": {\"standoff\": 15}, \"zerolinecolor\": \"white\", \"zerolinewidth\": 2}}}, \"title\": {\"text\": \"Distribution of Questions Submitted before the Due Date \"}, \"xaxis\": {\"anchor\": \"y\", \"domain\": [0.0, 1.0], \"title\": {\"text\": \"x\"}}, \"yaxis\": {\"anchor\": \"x\", \"domain\": [0.0, 1.0], \"title\": {\"text\": \"count\"}}},\n",
              "                        {\"responsive\": true}\n",
              "                    ).then(function(){\n",
              "                            \n",
              "var gd = document.getElementById('e74a3ebc-a102-4318-b28c-3a0c88aaf4b6');\n",
              "var x = new MutationObserver(function (mutations, observer) {{\n",
              "        var display = window.getComputedStyle(gd).display;\n",
              "        if (!display || display === 'none') {{\n",
              "            console.log([gd, 'removed!']);\n",
              "            Plotly.purge(gd);\n",
              "            observer.disconnect();\n",
              "        }}\n",
              "}});\n",
              "\n",
              "// Listen for the removal of the full notebook cells\n",
              "var notebookContainer = gd.closest('#notebook-container');\n",
              "if (notebookContainer) {{\n",
              "    x.observe(notebookContainer, {childList: true});\n",
              "}}\n",
              "\n",
              "// Listen for the clearing of the current output cell\n",
              "var outputEl = gd.closest('.output');\n",
              "if (outputEl) {{\n",
              "    x.observe(outputEl, {childList: true});\n",
              "}}\n",
              "\n",
              "                        })\n",
              "                };\n",
              "                \n",
              "            </script>\n",
              "        </div>\n",
              "</body>\n",
              "</html>"
            ]
          },
          "metadata": {
            "tags": []
          }
        }
      ]
    },
    {
      "cell_type": "markdown",
      "metadata": {
        "id": "22shZMu0Y3fo"
      },
      "source": [
        "- The above histogram shows the number of days people answered before the deadline"
      ]
    },
    {
      "cell_type": "markdown",
      "metadata": {
        "id": "zPUGH4xjwlaZ"
      },
      "source": [
        "## Lateness of Comments\n",
        "- Charlie Question delay file"
      ]
    },
    {
      "cell_type": "code",
      "metadata": {
        "id": "s6p7Xa-cbb_W",
        "outputId": "d75d67cb-281c-430f-c3c6-5e82635533cf",
        "colab": {
          "base_uri": "https://localhost:8080/"
        }
      },
      "source": [
        "print(\"c1courses columns:\", c1courses.columns.to_list())\n",
        "print(\"c1comments columns:\", c1comments.columns.to_list())"
      ],
      "execution_count": 298,
      "outputs": [
        {
          "output_type": "stream",
          "text": [
            "c1courses columns: ['course_id', 'cycle_start', 'comment_due', 'question_due']\n",
            "c1comments columns: ['Comment_ID', 'course_id', 'Timestamp', 'user', 'Question_ID', 'Comment']\n"
          ],
          "name": "stdout"
        }
      ]
    },
    {
      "cell_type": "markdown",
      "metadata": {
        "id": "rbHqlwSkbfGJ"
      },
      "source": [
        "- From the above cell we can see that we need to rename some columns so we can join them nicely\n",
        "- We will rename and merge the two dataframes in the below cell"
      ]
    },
    {
      "cell_type": "code",
      "metadata": {
        "id": "NXRkIwhabfb_"
      },
      "source": [
        "c1courses.rename(columns={\"CourseID\" : \"course_id\", \"StartDate\" : \"cycle_start\", \"Deadline_Cmmnt\" : \"comment_due\", \"Deadline_Qustn\" : \"question_due\"}, inplace=True) # Rename CourseID to course_id\n",
        "c1comments.rename(columns={\"Timestamp\" : \"comment_time\", \"CommentID\" : \"comment_id\", \"user\" : \"user_id\", \"Question_ID\" : \"question_id\", \"Comment\" : \"comment\"}, inplace=True)"
      ],
      "execution_count": 299,
      "outputs": []
    },
    {
      "cell_type": "markdown",
      "metadata": {
        "id": "Mbja0PXmbilX"
      },
      "source": [
        "- There is an annoying header row located in the middle of the data that we need to remove\n",
        "- We'll remove it now by making sure the \"course_id\" column is not equal to the text \" course_id \""
      ]
    },
    {
      "cell_type": "code",
      "metadata": {
        "id": "YX11S_a2bj7Q"
      },
      "source": [
        "c1comments = c1comments[c1comments[\"course_id\"] != \" course_id \"]"
      ],
      "execution_count": 300,
      "outputs": []
    },
    {
      "cell_type": "markdown",
      "metadata": {
        "id": "WCw-1jg7bmG0"
      },
      "source": [
        "- We will convert the data types of both the dataframes so they join properly too"
      ]
    },
    {
      "cell_type": "code",
      "metadata": {
        "id": "b5v8qS1Hbo_5",
        "outputId": "4789ded8-8094-4862-b512-47edfb896ee2",
        "colab": {
          "base_uri": "https://localhost:8080/",
          "height": 191
        }
      },
      "source": [
        "#c1comments[\"course_id\"] = pd.to_numeric(c1comments[\"course_id\"])\n",
        "c1comments = c1comments.astype({\"course_id\" : \"int64\", \"comment_time\" : 'datetime64'})\n",
        "c1courses = c1courses.convert_dtypes()\n",
        "\n",
        "c1combined = c1courses.merge(c1comments, on=\"course_id\") # Merge the dataframes\n",
        "c1combined.head() # Show the first 5 rows\n"
      ],
      "execution_count": 301,
      "outputs": [
        {
          "output_type": "execute_result",
          "data": {
            "text/html": [
              "<div>\n",
              "<style scoped>\n",
              "    .dataframe tbody tr th:only-of-type {\n",
              "        vertical-align: middle;\n",
              "    }\n",
              "\n",
              "    .dataframe tbody tr th {\n",
              "        vertical-align: top;\n",
              "    }\n",
              "\n",
              "    .dataframe thead th {\n",
              "        text-align: right;\n",
              "    }\n",
              "</style>\n",
              "<table border=\"1\" class=\"dataframe\">\n",
              "  <thead>\n",
              "    <tr style=\"text-align: right;\">\n",
              "      <th></th>\n",
              "      <th>course_id</th>\n",
              "      <th>cycle_start</th>\n",
              "      <th>comment_due</th>\n",
              "      <th>question_due</th>\n",
              "      <th>Comment_ID</th>\n",
              "      <th>comment_time</th>\n",
              "      <th>user_id</th>\n",
              "      <th>question_id</th>\n",
              "      <th>comment</th>\n",
              "    </tr>\n",
              "  </thead>\n",
              "  <tbody>\n",
              "    <tr>\n",
              "      <th>0</th>\n",
              "      <td>20995</td>\n",
              "      <td>2020-03-09</td>\n",
              "      <td>2020-03-17 01:00:10</td>\n",
              "      <td>2020-03-10 01:00:10</td>\n",
              "      <td>7039922</td>\n",
              "      <td>2020-03-04 18:10:30</td>\n",
              "      <td>634147</td>\n",
              "      <td>4342370</td>\n",
              "      <td>Terrible question.</td>\n",
              "    </tr>\n",
              "    <tr>\n",
              "      <th>1</th>\n",
              "      <td>20995</td>\n",
              "      <td>2020-03-09</td>\n",
              "      <td>2020-03-17 01:00:10</td>\n",
              "      <td>2020-03-10 01:00:10</td>\n",
              "      <td>7045684</td>\n",
              "      <td>2020-03-09 16:08:43</td>\n",
              "      <td>636012</td>\n",
              "      <td>4349814</td>\n",
              "      <td>I think the questions and answers were concise...</td>\n",
              "    </tr>\n",
              "    <tr>\n",
              "      <th>2</th>\n",
              "      <td>20995</td>\n",
              "      <td>2020-03-09</td>\n",
              "      <td>2020-03-17 01:00:10</td>\n",
              "      <td>2020-03-10 01:00:10</td>\n",
              "      <td>7045695</td>\n",
              "      <td>2020-03-09 16:14:25</td>\n",
              "      <td>636010</td>\n",
              "      <td>4342370</td>\n",
              "      <td>This question concerns history rather than sci...</td>\n",
              "    </tr>\n",
              "    <tr>\n",
              "      <th>3</th>\n",
              "      <td>20995</td>\n",
              "      <td>2020-03-09</td>\n",
              "      <td>2020-03-17 01:00:10</td>\n",
              "      <td>2020-03-10 01:00:10</td>\n",
              "      <td>7045749</td>\n",
              "      <td>2020-03-09 16:57:54</td>\n",
              "      <td>558135</td>\n",
              "      <td>4349855</td>\n",
              "      <td>I found this question particularly specific an...</td>\n",
              "    </tr>\n",
              "    <tr>\n",
              "      <th>4</th>\n",
              "      <td>20995</td>\n",
              "      <td>2020-03-09</td>\n",
              "      <td>2020-03-17 01:00:10</td>\n",
              "      <td>2020-03-10 01:00:10</td>\n",
              "      <td>7045750</td>\n",
              "      <td>2020-03-09 16:58:39</td>\n",
              "      <td>636010</td>\n",
              "      <td>4349841</td>\n",
              "      <td>The question assesses your knowledge on a broa...</td>\n",
              "    </tr>\n",
              "  </tbody>\n",
              "</table>\n",
              "</div>"
            ],
            "text/plain": [
              "   course_id  ...                                            comment\n",
              "0      20995  ...                                 Terrible question.\n",
              "1      20995  ...  I think the questions and answers were concise...\n",
              "2      20995  ...  This question concerns history rather than sci...\n",
              "3      20995  ...  I found this question particularly specific an...\n",
              "4      20995  ...  The question assesses your knowledge on a broa...\n",
              "\n",
              "[5 rows x 9 columns]"
            ]
          },
          "metadata": {
            "tags": []
          },
          "execution_count": 301
        }
      ]
    },
    {
      "cell_type": "markdown",
      "metadata": {
        "id": "pWCG4Dzhbwkc"
      },
      "source": [
        "- Now we have a dataframe that has the due date for the comment that was made for each of the comments"
      ]
    },
    {
      "cell_type": "markdown",
      "metadata": {
        "id": "MnS6eLY6b6p8"
      },
      "source": [
        "## Performing Analysis\n",
        "- Next, we can calculate how long it took a student to write a comment after the question_due date\n",
        "    - We're doing this to find out how long it took for a student to complete a comment after all the questions were due\n",
        "    - We can use this metric to help us determine how motivated a student was\n",
        "- We'll also calcualte a column to indicate how early before the comment_due date a student provided a comment on a question"
      ]
    },
    {
      "cell_type": "markdown",
      "metadata": {
        "id": "IRxNKGLSb8tD"
      },
      "source": [
        "### Creation of new columns\n",
        "- We create the columns:\n",
        "    - `comment_delta` (number of days after question due date that the comment was posted)\n",
        "    - `comment_beforedue` (number of days before the comment due date that the comment was posted)\n",
        "    - `late` (will be True if the comment was submitted after the comment_due date, False otherwise)"
      ]
    },
    {
      "cell_type": "code",
      "metadata": {
        "id": "LrcPTlNab-O3"
      },
      "source": [
        "c1combined[\"comment_delta\"] = (c1combined[\"comment_time\"] - c1combined[\"question_due\"])\n",
        "c1combined[\"comment_beforedue\"] = (c1combined[\"comment_due\"] - c1combined[\"comment_time\"])\n",
        "c1combined[\"late\"] = c1combined[\"comment_time\"] > c1combined[\"comment_due\"]"
      ],
      "execution_count": 304,
      "outputs": []
    },
    {
      "cell_type": "markdown",
      "metadata": {
        "id": "nVjoMxmtcBLr"
      },
      "source": [
        "## Doing the same grouping that we did for Cycle 1 - but for cycle 2\n",
        "- I won't go over the details here just performing similar steps as we did for cycle 1"
      ]
    },
    {
      "cell_type": "code",
      "metadata": {
        "id": "iB1JGE35cAe-"
      },
      "source": [
        "c2courses.rename(columns={\"CourseID\" : \"course_id\", \"StartDate\" : \"cycle_start\", \"Deadline_Comment\" : \"comment_due\", \"Deadline_Question\" : \"question_due\"}, inplace=True) # Rename columns\n",
        "#c2courses.drop(\"CourseName\", axis=1, inplace=True) # Remove the 'CourseName' column - we don't need it\n",
        "c2comments.rename(columns={\"Timestamp\" : \"comment_time\", \"CommentID\" : \"comment_id\", \"user\" : \"user_id\", \"Question_ID\" : \"question_id\", \"Comment\" : \"comment\"}, inplace=True)"
      ],
      "execution_count": 305,
      "outputs": []
    },
    {
      "cell_type": "code",
      "metadata": {
        "id": "l8uB1s-jcFcy",
        "outputId": "b83a9d9c-d436-430b-fb9f-74af99d14ac1",
        "colab": {
          "base_uri": "https://localhost:8080/",
          "height": 191
        }
      },
      "source": [
        "# Set data types\n",
        "c2comments = c2comments.astype({\"course_id\" : \"int64\", \"comment_time\" : 'datetime64', \"user_id\" : \"int64\"}) \n",
        "c2courses = c2courses.convert_dtypes() \n",
        "\n",
        "# Merge the dataframes\n",
        "c2combined = c2courses.merge(c2comments, on=\"course_id\") \n",
        "c2combined.head()"
      ],
      "execution_count": 306,
      "outputs": [
        {
          "output_type": "execute_result",
          "data": {
            "text/html": [
              "<div>\n",
              "<style scoped>\n",
              "    .dataframe tbody tr th:only-of-type {\n",
              "        vertical-align: middle;\n",
              "    }\n",
              "\n",
              "    .dataframe tbody tr th {\n",
              "        vertical-align: top;\n",
              "    }\n",
              "\n",
              "    .dataframe thead th {\n",
              "        text-align: right;\n",
              "    }\n",
              "</style>\n",
              "<table border=\"1\" class=\"dataframe\">\n",
              "  <thead>\n",
              "    <tr style=\"text-align: right;\">\n",
              "      <th></th>\n",
              "      <th>course_id</th>\n",
              "      <th>cycle_start</th>\n",
              "      <th>comment_due</th>\n",
              "      <th>question_due</th>\n",
              "      <th>Comment_ID</th>\n",
              "      <th>comment_time</th>\n",
              "      <th>user_id</th>\n",
              "      <th>question_id</th>\n",
              "      <th>comment</th>\n",
              "    </tr>\n",
              "  </thead>\n",
              "  <tbody>\n",
              "    <tr>\n",
              "      <th>0</th>\n",
              "      <td>21140</td>\n",
              "      <td>2020-03-23</td>\n",
              "      <td>2020-04-05 01:00:10</td>\n",
              "      <td>2020-03-30 01:00:10</td>\n",
              "      <td>7110756</td>\n",
              "      <td>2020-03-27 23:02:16</td>\n",
              "      <td>636006</td>\n",
              "      <td>4394370</td>\n",
              "      <td>I think this is a good question. If you want t...</td>\n",
              "    </tr>\n",
              "    <tr>\n",
              "      <th>1</th>\n",
              "      <td>21140</td>\n",
              "      <td>2020-03-23</td>\n",
              "      <td>2020-04-05 01:00:10</td>\n",
              "      <td>2020-03-30 01:00:10</td>\n",
              "      <td>7112982</td>\n",
              "      <td>2020-03-28 11:49:09</td>\n",
              "      <td>635990</td>\n",
              "      <td>4394722</td>\n",
              "      <td>I think the answer to this question might be p...</td>\n",
              "    </tr>\n",
              "    <tr>\n",
              "      <th>2</th>\n",
              "      <td>21140</td>\n",
              "      <td>2020-03-23</td>\n",
              "      <td>2020-04-05 01:00:10</td>\n",
              "      <td>2020-03-30 01:00:10</td>\n",
              "      <td>7112999</td>\n",
              "      <td>2020-03-28 11:54:41</td>\n",
              "      <td>635990</td>\n",
              "      <td>4391826</td>\n",
              "      <td>I thought this question was a good test of kno...</td>\n",
              "    </tr>\n",
              "    <tr>\n",
              "      <th>3</th>\n",
              "      <td>21140</td>\n",
              "      <td>2020-03-23</td>\n",
              "      <td>2020-04-05 01:00:10</td>\n",
              "      <td>2020-03-30 01:00:10</td>\n",
              "      <td>7113019</td>\n",
              "      <td>2020-03-28 12:02:39</td>\n",
              "      <td>635990</td>\n",
              "      <td>4395323</td>\n",
              "      <td>I thought this question was really good, as it...</td>\n",
              "    </tr>\n",
              "    <tr>\n",
              "      <th>4</th>\n",
              "      <td>21140</td>\n",
              "      <td>2020-03-23</td>\n",
              "      <td>2020-04-05 01:00:10</td>\n",
              "      <td>2020-03-30 01:00:10</td>\n",
              "      <td>7113038</td>\n",
              "      <td>2020-03-28 12:10:55</td>\n",
              "      <td>635990</td>\n",
              "      <td>4396604</td>\n",
              "      <td>I think this question was quite good, although...</td>\n",
              "    </tr>\n",
              "  </tbody>\n",
              "</table>\n",
              "</div>"
            ],
            "text/plain": [
              "   course_id  ...                                            comment\n",
              "0      21140  ...  I think this is a good question. If you want t...\n",
              "1      21140  ...  I think the answer to this question might be p...\n",
              "2      21140  ...  I thought this question was a good test of kno...\n",
              "3      21140  ...  I thought this question was really good, as it...\n",
              "4      21140  ...  I think this question was quite good, although...\n",
              "\n",
              "[5 rows x 9 columns]"
            ]
          },
          "metadata": {
            "tags": []
          },
          "execution_count": 306
        }
      ]
    },
    {
      "cell_type": "code",
      "metadata": {
        "id": "Eq04k5F_cGtp"
      },
      "source": [
        "c2combined[\"comment_delta\"] = (c2combined[\"comment_time\"] - c2combined[\"question_due\"])\n",
        "c2combined[\"comment_beforedue\"] = (c2combined[\"comment_due\"] - c2combined[\"comment_time\"])\n",
        "c2combined[\"late\"] = c2combined[\"comment_time\"] > c2combined[\"comment_due\"]"
      ],
      "execution_count": 307,
      "outputs": []
    },
    {
      "cell_type": "markdown",
      "metadata": {
        "id": "5nELOoDGcI1N"
      },
      "source": [
        "### Combining the two cycles into one DataFrame\n",
        "- Now we need to combine the two dataframes into one by using `.concat()`\n",
        "- We'll add an ID to each individual dataframe so we know what cycle they belong to"
      ]
    },
    {
      "cell_type": "code",
      "metadata": {
        "id": "QhbS0ygScIlx",
        "outputId": "764ed595-455b-467a-b939-2df436f4d7c1",
        "colab": {
          "base_uri": "https://localhost:8080/",
          "height": 553
        }
      },
      "source": [
        "c1combined[\"cycle\"] = 1\n",
        "c2combined[\"cycle\"] = 2\n",
        "\n",
        "all_combined = pd.concat([c1combined, c2combined])\n",
        "all_combined = all_combined.astype({\"course_id\" : \"int64\", \"user_id\" : \"int64\", \"question_id\" : \"int64\"})\n",
        "all_combined[all_combined['late']].sort_values(by='comment_beforedue', ascending=False)"
      ],
      "execution_count": 308,
      "outputs": [
        {
          "output_type": "execute_result",
          "data": {
            "text/html": [
              "<div>\n",
              "<style scoped>\n",
              "    .dataframe tbody tr th:only-of-type {\n",
              "        vertical-align: middle;\n",
              "    }\n",
              "\n",
              "    .dataframe tbody tr th {\n",
              "        vertical-align: top;\n",
              "    }\n",
              "\n",
              "    .dataframe thead th {\n",
              "        text-align: right;\n",
              "    }\n",
              "</style>\n",
              "<table border=\"1\" class=\"dataframe\">\n",
              "  <thead>\n",
              "    <tr style=\"text-align: right;\">\n",
              "      <th></th>\n",
              "      <th>course_id</th>\n",
              "      <th>cycle_start</th>\n",
              "      <th>comment_due</th>\n",
              "      <th>question_due</th>\n",
              "      <th>Comment_ID</th>\n",
              "      <th>comment_time</th>\n",
              "      <th>user_id</th>\n",
              "      <th>question_id</th>\n",
              "      <th>comment</th>\n",
              "      <th>comment_delta</th>\n",
              "      <th>comment_beforedue</th>\n",
              "      <th>late</th>\n",
              "      <th>cycle</th>\n",
              "    </tr>\n",
              "  </thead>\n",
              "  <tbody>\n",
              "    <tr>\n",
              "      <th>2043</th>\n",
              "      <td>21038</td>\n",
              "      <td>2020-03-11</td>\n",
              "      <td>2020-03-19 01:00:10</td>\n",
              "      <td>2020-03-12 01:00:10</td>\n",
              "      <td>7070065</td>\n",
              "      <td>2020-03-19 01:01:09</td>\n",
              "      <td>636844</td>\n",
              "      <td>4353868</td>\n",
              "      <td>The question is a little confusing because of ...</td>\n",
              "      <td>7 days 00:00:59</td>\n",
              "      <td>-1 days +23:59:01</td>\n",
              "      <td>True</td>\n",
              "      <td>1</td>\n",
              "    </tr>\n",
              "    <tr>\n",
              "      <th>539</th>\n",
              "      <td>20995</td>\n",
              "      <td>2020-03-09</td>\n",
              "      <td>2020-03-17 01:00:10</td>\n",
              "      <td>2020-03-10 01:00:10</td>\n",
              "      <td>7062964</td>\n",
              "      <td>2020-03-17 01:01:57</td>\n",
              "      <td>636027</td>\n",
              "      <td>4350515</td>\n",
              "      <td>Basic question that demonstrates recall of inf...</td>\n",
              "      <td>7 days 00:01:47</td>\n",
              "      <td>-1 days +23:58:13</td>\n",
              "      <td>True</td>\n",
              "      <td>1</td>\n",
              "    </tr>\n",
              "    <tr>\n",
              "      <th>2733</th>\n",
              "      <td>21039</td>\n",
              "      <td>2020-03-12</td>\n",
              "      <td>2020-03-20 01:00:10</td>\n",
              "      <td>2020-03-13 01:00:10</td>\n",
              "      <td>7074889</td>\n",
              "      <td>2020-03-20 01:01:59</td>\n",
              "      <td>637312</td>\n",
              "      <td>4356537</td>\n",
              "      <td>All this question requires is to know the func...</td>\n",
              "      <td>7 days 00:01:49</td>\n",
              "      <td>-1 days +23:58:11</td>\n",
              "      <td>True</td>\n",
              "      <td>1</td>\n",
              "    </tr>\n",
              "    <tr>\n",
              "      <th>952</th>\n",
              "      <td>21142</td>\n",
              "      <td>2020-03-25</td>\n",
              "      <td>2020-04-07 01:00:10</td>\n",
              "      <td>2020-04-01 01:00:10</td>\n",
              "      <td>7136367</td>\n",
              "      <td>2020-04-07 01:02:34</td>\n",
              "      <td>636830</td>\n",
              "      <td>4415550</td>\n",
              "      <td>I think this was a pretty straightforward ques...</td>\n",
              "      <td>6 days 00:02:24</td>\n",
              "      <td>-1 days +23:57:36</td>\n",
              "      <td>True</td>\n",
              "      <td>2</td>\n",
              "    </tr>\n",
              "    <tr>\n",
              "      <th>540</th>\n",
              "      <td>20995</td>\n",
              "      <td>2020-03-09</td>\n",
              "      <td>2020-03-17 01:00:10</td>\n",
              "      <td>2020-03-10 01:00:10</td>\n",
              "      <td>7062968</td>\n",
              "      <td>2020-03-17 01:02:45</td>\n",
              "      <td>636042</td>\n",
              "      <td>4350561</td>\n",
              "      <td>Great question. Especially for study. Makes yo...</td>\n",
              "      <td>7 days 00:02:35</td>\n",
              "      <td>-1 days +23:57:25</td>\n",
              "      <td>True</td>\n",
              "      <td>1</td>\n",
              "    </tr>\n",
              "    <tr>\n",
              "      <th>...</th>\n",
              "      <td>...</td>\n",
              "      <td>...</td>\n",
              "      <td>...</td>\n",
              "      <td>...</td>\n",
              "      <td>...</td>\n",
              "      <td>...</td>\n",
              "      <td>...</td>\n",
              "      <td>...</td>\n",
              "      <td>...</td>\n",
              "      <td>...</td>\n",
              "      <td>...</td>\n",
              "      <td>...</td>\n",
              "      <td>...</td>\n",
              "    </tr>\n",
              "    <tr>\n",
              "      <th>2061</th>\n",
              "      <td>21038</td>\n",
              "      <td>2020-03-11</td>\n",
              "      <td>2020-03-19 01:00:10</td>\n",
              "      <td>2020-03-12 01:00:10</td>\n",
              "      <td>7083996</td>\n",
              "      <td>2020-03-21 18:51:24</td>\n",
              "      <td>636919</td>\n",
              "      <td>4353630</td>\n",
              "      <td>This question is easy, students have to pay at...</td>\n",
              "      <td>9 days 17:51:14</td>\n",
              "      <td>-3 days +06:08:46</td>\n",
              "      <td>True</td>\n",
              "      <td>1</td>\n",
              "    </tr>\n",
              "    <tr>\n",
              "      <th>2062</th>\n",
              "      <td>21038</td>\n",
              "      <td>2020-03-11</td>\n",
              "      <td>2020-03-19 01:00:10</td>\n",
              "      <td>2020-03-12 01:00:10</td>\n",
              "      <td>7084039</td>\n",
              "      <td>2020-03-21 18:58:24</td>\n",
              "      <td>636919</td>\n",
              "      <td>4353750</td>\n",
              "      <td>This question requires us to recall the functi...</td>\n",
              "      <td>9 days 17:58:14</td>\n",
              "      <td>-3 days +06:01:46</td>\n",
              "      <td>True</td>\n",
              "      <td>1</td>\n",
              "    </tr>\n",
              "    <tr>\n",
              "      <th>2805</th>\n",
              "      <td>21039</td>\n",
              "      <td>2020-03-12</td>\n",
              "      <td>2020-03-20 01:00:10</td>\n",
              "      <td>2020-03-13 01:00:10</td>\n",
              "      <td>7092265</td>\n",
              "      <td>2020-03-23 00:58:12</td>\n",
              "      <td>637292</td>\n",
              "      <td>4355861</td>\n",
              "      <td>This is a clear simple question that tests rec...</td>\n",
              "      <td>9 days 23:58:02</td>\n",
              "      <td>-3 days +00:01:58</td>\n",
              "      <td>True</td>\n",
              "      <td>1</td>\n",
              "    </tr>\n",
              "    <tr>\n",
              "      <th>1026</th>\n",
              "      <td>21142</td>\n",
              "      <td>2020-03-25</td>\n",
              "      <td>2020-04-07 01:00:10</td>\n",
              "      <td>2020-04-01 01:00:10</td>\n",
              "      <td>7144697</td>\n",
              "      <td>2020-04-10 05:54:18</td>\n",
              "      <td>636252</td>\n",
              "      <td>4423617</td>\n",
              "      <td>Great application question requiring the under...</td>\n",
              "      <td>9 days 04:54:08</td>\n",
              "      <td>-4 days +19:05:52</td>\n",
              "      <td>True</td>\n",
              "      <td>2</td>\n",
              "    </tr>\n",
              "    <tr>\n",
              "      <th>666</th>\n",
              "      <td>21141</td>\n",
              "      <td>2020-03-24</td>\n",
              "      <td>2020-04-06 01:00:10</td>\n",
              "      <td>2020-03-31 01:00:10</td>\n",
              "      <td>7142878</td>\n",
              "      <td>2020-04-09 10:47:20</td>\n",
              "      <td>636434</td>\n",
              "      <td>4421180</td>\n",
              "      <td>I liked that you included an example of PCR us...</td>\n",
              "      <td>9 days 09:47:10</td>\n",
              "      <td>-4 days +14:12:50</td>\n",
              "      <td>True</td>\n",
              "      <td>2</td>\n",
              "    </tr>\n",
              "  </tbody>\n",
              "</table>\n",
              "<p>400 rows × 13 columns</p>\n",
              "</div>"
            ],
            "text/plain": [
              "      course_id cycle_start         comment_due  ... comment_beforedue  late cycle\n",
              "2043      21038  2020-03-11 2020-03-19 01:00:10  ... -1 days +23:59:01  True     1\n",
              "539       20995  2020-03-09 2020-03-17 01:00:10  ... -1 days +23:58:13  True     1\n",
              "2733      21039  2020-03-12 2020-03-20 01:00:10  ... -1 days +23:58:11  True     1\n",
              "952       21142  2020-03-25 2020-04-07 01:00:10  ... -1 days +23:57:36  True     2\n",
              "540       20995  2020-03-09 2020-03-17 01:00:10  ... -1 days +23:57:25  True     1\n",
              "...         ...         ...                 ...  ...               ...   ...   ...\n",
              "2061      21038  2020-03-11 2020-03-19 01:00:10  ... -3 days +06:08:46  True     1\n",
              "2062      21038  2020-03-11 2020-03-19 01:00:10  ... -3 days +06:01:46  True     1\n",
              "2805      21039  2020-03-12 2020-03-20 01:00:10  ... -3 days +00:01:58  True     1\n",
              "1026      21142  2020-03-25 2020-04-07 01:00:10  ... -4 days +19:05:52  True     2\n",
              "666       21141  2020-03-24 2020-04-06 01:00:10  ... -4 days +14:12:50  True     2\n",
              "\n",
              "[400 rows x 13 columns]"
            ]
          },
          "metadata": {
            "tags": []
          },
          "execution_count": 308
        }
      ]
    },
    {
      "cell_type": "markdown",
      "metadata": {
        "id": "VUg9XmhmcMqD"
      },
      "source": [
        "## Investigating our data\n",
        "- Lets first look at the comment time in general\n",
        "- Followed by the number of unqiue students who commented past the due date"
      ]
    },
    {
      "cell_type": "code",
      "metadata": {
        "id": "vy-9wdOPcOLn",
        "outputId": "728fa167-3abf-4c67-9886-adab22eec16c",
        "colab": {
          "base_uri": "https://localhost:8080/"
        }
      },
      "source": [
        "print(\"Earliest comment was made at:\", all_combined[\"comment_time\"].min().strftime(\"%d/%m/%Y\"))\n",
        "print(\"Latest comment was made at:\", all_combined[\"comment_time\"].max().strftime(\"%d/%m/%Y\"))"
      ],
      "execution_count": 309,
      "outputs": [
        {
          "output_type": "stream",
          "text": [
            "Earliest comment was made at: 04/03/2020\n",
            "Latest comment was made at: 10/04/2020\n"
          ],
          "name": "stdout"
        }
      ]
    },
    {
      "cell_type": "code",
      "metadata": {
        "id": "PjZeN1buZAFU",
        "outputId": "b9b402ff-a510-4d00-f507-adc379ee7689",
        "colab": {
          "base_uri": "https://localhost:8080/",
          "height": 542
        }
      },
      "source": [
        "\n",
        "\n",
        "delta_grouped = all_combined[[\"comment_time\"]].groupby(all_combined[\"comment_delta\"].dt.days).count()\n",
        "delta_grouped['comment_delta'] = delta_grouped.index\n",
        "delta_grouped = delta_grouped.astype({\"comment_delta\" : \"int64\", \"comment_time\" : 'int64'})\n",
        "\n",
        "px.bar(delta_grouped, x = \"comment_delta\", y = \"comment_time\", title = \"Time after the Comments deadline that a Comment was made in Cycles 1\",labels={\"comment_delta\": \"Days from Comments due date\",\n",
        "                     \"comment_time\": \"Number of comments\"})\n"
      ],
      "execution_count": 311,
      "outputs": [
        {
          "output_type": "display_data",
          "data": {
            "text/html": [
              "<html>\n",
              "<head><meta charset=\"utf-8\" /></head>\n",
              "<body>\n",
              "    <div>\n",
              "            <script src=\"https://cdnjs.cloudflare.com/ajax/libs/mathjax/2.7.5/MathJax.js?config=TeX-AMS-MML_SVG\"></script><script type=\"text/javascript\">if (window.MathJax) {MathJax.Hub.Config({SVG: {font: \"STIX-Web\"}});}</script>\n",
              "                <script type=\"text/javascript\">window.PlotlyConfig = {MathJaxConfig: 'local'};</script>\n",
              "        <script src=\"https://cdn.plot.ly/plotly-latest.min.js\"></script>    \n",
              "            <div id=\"73b30282-5a84-4d82-b2ee-e6236bb37c4f\" class=\"plotly-graph-div\" style=\"height:525px; width:100%;\"></div>\n",
              "            <script type=\"text/javascript\">\n",
              "                \n",
              "                    window.PLOTLYENV=window.PLOTLYENV || {};\n",
              "                    \n",
              "                if (document.getElementById(\"73b30282-5a84-4d82-b2ee-e6236bb37c4f\")) {\n",
              "                    Plotly.newPlot(\n",
              "                        '73b30282-5a84-4d82-b2ee-e6236bb37c4f',\n",
              "                        [{\"alignmentgroup\": \"True\", \"hoverlabel\": {\"namelength\": 0}, \"hovertemplate\": \"Days from Comments due date=%{x}<br>Number of comments=%{y}\", \"legendgroup\": \"\", \"marker\": {\"color\": \"#636efa\"}, \"name\": \"\", \"offsetgroup\": \"\", \"orientation\": \"v\", \"showlegend\": false, \"textposition\": \"auto\", \"type\": \"bar\", \"x\": [-6, -5, -4, -3, -2, -1, 0, 1, 2, 3, 4, 5, 6, 7, 8, 9], \"xaxis\": \"x\", \"y\": [5, 5, 12, 11, 39, 349, 365, 237, 314, 488, 573, 668, 891, 160, 22, 19], \"yaxis\": \"y\"}],\n",
              "                        {\"barmode\": \"relative\", \"legend\": {\"tracegroupgap\": 0}, \"template\": {\"data\": {\"bar\": [{\"error_x\": {\"color\": \"#2a3f5f\"}, \"error_y\": {\"color\": \"#2a3f5f\"}, \"marker\": {\"line\": {\"color\": \"#E5ECF6\", \"width\": 0.5}}, \"type\": \"bar\"}], \"barpolar\": [{\"marker\": {\"line\": {\"color\": \"#E5ECF6\", \"width\": 0.5}}, \"type\": \"barpolar\"}], \"carpet\": [{\"aaxis\": {\"endlinecolor\": \"#2a3f5f\", \"gridcolor\": \"white\", \"linecolor\": \"white\", \"minorgridcolor\": \"white\", \"startlinecolor\": \"#2a3f5f\"}, \"baxis\": {\"endlinecolor\": \"#2a3f5f\", \"gridcolor\": \"white\", \"linecolor\": \"white\", \"minorgridcolor\": \"white\", \"startlinecolor\": \"#2a3f5f\"}, \"type\": \"carpet\"}], \"choropleth\": [{\"colorbar\": {\"outlinewidth\": 0, \"ticks\": \"\"}, \"type\": \"choropleth\"}], \"contour\": [{\"colorbar\": {\"outlinewidth\": 0, \"ticks\": \"\"}, \"colorscale\": [[0.0, \"#0d0887\"], [0.1111111111111111, \"#46039f\"], [0.2222222222222222, \"#7201a8\"], [0.3333333333333333, \"#9c179e\"], [0.4444444444444444, \"#bd3786\"], [0.5555555555555556, \"#d8576b\"], [0.6666666666666666, \"#ed7953\"], [0.7777777777777778, \"#fb9f3a\"], [0.8888888888888888, \"#fdca26\"], [1.0, \"#f0f921\"]], \"type\": \"contour\"}], \"contourcarpet\": [{\"colorbar\": {\"outlinewidth\": 0, \"ticks\": \"\"}, \"type\": \"contourcarpet\"}], \"heatmap\": [{\"colorbar\": {\"outlinewidth\": 0, \"ticks\": \"\"}, \"colorscale\": [[0.0, \"#0d0887\"], [0.1111111111111111, \"#46039f\"], [0.2222222222222222, \"#7201a8\"], [0.3333333333333333, \"#9c179e\"], [0.4444444444444444, \"#bd3786\"], [0.5555555555555556, \"#d8576b\"], [0.6666666666666666, \"#ed7953\"], [0.7777777777777778, \"#fb9f3a\"], [0.8888888888888888, \"#fdca26\"], [1.0, \"#f0f921\"]], \"type\": \"heatmap\"}], \"heatmapgl\": [{\"colorbar\": {\"outlinewidth\": 0, \"ticks\": \"\"}, \"colorscale\": [[0.0, \"#0d0887\"], [0.1111111111111111, \"#46039f\"], [0.2222222222222222, \"#7201a8\"], [0.3333333333333333, \"#9c179e\"], [0.4444444444444444, \"#bd3786\"], [0.5555555555555556, \"#d8576b\"], [0.6666666666666666, \"#ed7953\"], [0.7777777777777778, \"#fb9f3a\"], [0.8888888888888888, \"#fdca26\"], [1.0, \"#f0f921\"]], \"type\": \"heatmapgl\"}], \"histogram\": [{\"marker\": {\"colorbar\": {\"outlinewidth\": 0, \"ticks\": \"\"}}, \"type\": \"histogram\"}], \"histogram2d\": [{\"colorbar\": {\"outlinewidth\": 0, \"ticks\": \"\"}, \"colorscale\": [[0.0, \"#0d0887\"], [0.1111111111111111, \"#46039f\"], [0.2222222222222222, \"#7201a8\"], [0.3333333333333333, \"#9c179e\"], [0.4444444444444444, \"#bd3786\"], [0.5555555555555556, \"#d8576b\"], [0.6666666666666666, \"#ed7953\"], [0.7777777777777778, \"#fb9f3a\"], [0.8888888888888888, \"#fdca26\"], [1.0, \"#f0f921\"]], \"type\": \"histogram2d\"}], \"histogram2dcontour\": [{\"colorbar\": {\"outlinewidth\": 0, \"ticks\": \"\"}, \"colorscale\": [[0.0, \"#0d0887\"], [0.1111111111111111, \"#46039f\"], [0.2222222222222222, \"#7201a8\"], [0.3333333333333333, \"#9c179e\"], [0.4444444444444444, \"#bd3786\"], [0.5555555555555556, \"#d8576b\"], [0.6666666666666666, \"#ed7953\"], [0.7777777777777778, \"#fb9f3a\"], [0.8888888888888888, \"#fdca26\"], [1.0, \"#f0f921\"]], \"type\": \"histogram2dcontour\"}], \"mesh3d\": [{\"colorbar\": {\"outlinewidth\": 0, \"ticks\": \"\"}, \"type\": \"mesh3d\"}], \"parcoords\": [{\"line\": {\"colorbar\": {\"outlinewidth\": 0, \"ticks\": \"\"}}, \"type\": \"parcoords\"}], \"pie\": [{\"automargin\": true, \"type\": \"pie\"}], \"scatter\": [{\"marker\": {\"colorbar\": {\"outlinewidth\": 0, \"ticks\": \"\"}}, \"type\": \"scatter\"}], \"scatter3d\": [{\"line\": {\"colorbar\": {\"outlinewidth\": 0, \"ticks\": \"\"}}, \"marker\": {\"colorbar\": {\"outlinewidth\": 0, \"ticks\": \"\"}}, \"type\": \"scatter3d\"}], \"scattercarpet\": [{\"marker\": {\"colorbar\": {\"outlinewidth\": 0, \"ticks\": \"\"}}, \"type\": \"scattercarpet\"}], \"scattergeo\": [{\"marker\": {\"colorbar\": {\"outlinewidth\": 0, \"ticks\": \"\"}}, \"type\": \"scattergeo\"}], \"scattergl\": [{\"marker\": {\"colorbar\": {\"outlinewidth\": 0, \"ticks\": \"\"}}, \"type\": \"scattergl\"}], \"scattermapbox\": [{\"marker\": {\"colorbar\": {\"outlinewidth\": 0, \"ticks\": \"\"}}, \"type\": \"scattermapbox\"}], \"scatterpolar\": [{\"marker\": {\"colorbar\": {\"outlinewidth\": 0, \"ticks\": \"\"}}, \"type\": \"scatterpolar\"}], \"scatterpolargl\": [{\"marker\": {\"colorbar\": {\"outlinewidth\": 0, \"ticks\": \"\"}}, \"type\": \"scatterpolargl\"}], \"scatterternary\": [{\"marker\": {\"colorbar\": {\"outlinewidth\": 0, \"ticks\": \"\"}}, \"type\": \"scatterternary\"}], \"surface\": [{\"colorbar\": {\"outlinewidth\": 0, \"ticks\": \"\"}, \"colorscale\": [[0.0, \"#0d0887\"], [0.1111111111111111, \"#46039f\"], [0.2222222222222222, \"#7201a8\"], [0.3333333333333333, \"#9c179e\"], [0.4444444444444444, \"#bd3786\"], [0.5555555555555556, \"#d8576b\"], [0.6666666666666666, \"#ed7953\"], [0.7777777777777778, \"#fb9f3a\"], [0.8888888888888888, \"#fdca26\"], [1.0, \"#f0f921\"]], \"type\": \"surface\"}], \"table\": [{\"cells\": {\"fill\": {\"color\": \"#EBF0F8\"}, \"line\": {\"color\": \"white\"}}, \"header\": {\"fill\": {\"color\": \"#C8D4E3\"}, \"line\": {\"color\": \"white\"}}, \"type\": \"table\"}]}, \"layout\": {\"annotationdefaults\": {\"arrowcolor\": \"#2a3f5f\", \"arrowhead\": 0, \"arrowwidth\": 1}, \"coloraxis\": {\"colorbar\": {\"outlinewidth\": 0, \"ticks\": \"\"}}, \"colorscale\": {\"diverging\": [[0, \"#8e0152\"], [0.1, \"#c51b7d\"], [0.2, \"#de77ae\"], [0.3, \"#f1b6da\"], [0.4, \"#fde0ef\"], [0.5, \"#f7f7f7\"], [0.6, \"#e6f5d0\"], [0.7, \"#b8e186\"], [0.8, \"#7fbc41\"], [0.9, \"#4d9221\"], [1, \"#276419\"]], \"sequential\": [[0.0, \"#0d0887\"], [0.1111111111111111, \"#46039f\"], [0.2222222222222222, \"#7201a8\"], [0.3333333333333333, \"#9c179e\"], [0.4444444444444444, \"#bd3786\"], [0.5555555555555556, \"#d8576b\"], [0.6666666666666666, \"#ed7953\"], [0.7777777777777778, \"#fb9f3a\"], [0.8888888888888888, \"#fdca26\"], [1.0, \"#f0f921\"]], \"sequentialminus\": [[0.0, \"#0d0887\"], [0.1111111111111111, \"#46039f\"], [0.2222222222222222, \"#7201a8\"], [0.3333333333333333, \"#9c179e\"], [0.4444444444444444, \"#bd3786\"], [0.5555555555555556, \"#d8576b\"], [0.6666666666666666, \"#ed7953\"], [0.7777777777777778, \"#fb9f3a\"], [0.8888888888888888, \"#fdca26\"], [1.0, \"#f0f921\"]]}, \"colorway\": [\"#636efa\", \"#EF553B\", \"#00cc96\", \"#ab63fa\", \"#FFA15A\", \"#19d3f3\", \"#FF6692\", \"#B6E880\", \"#FF97FF\", \"#FECB52\"], \"font\": {\"color\": \"#2a3f5f\"}, \"geo\": {\"bgcolor\": \"white\", \"lakecolor\": \"white\", \"landcolor\": \"#E5ECF6\", \"showlakes\": true, \"showland\": true, \"subunitcolor\": \"white\"}, \"hoverlabel\": {\"align\": \"left\"}, \"hovermode\": \"closest\", \"mapbox\": {\"style\": \"light\"}, \"paper_bgcolor\": \"white\", \"plot_bgcolor\": \"#E5ECF6\", \"polar\": {\"angularaxis\": {\"gridcolor\": \"white\", \"linecolor\": \"white\", \"ticks\": \"\"}, \"bgcolor\": \"#E5ECF6\", \"radialaxis\": {\"gridcolor\": \"white\", \"linecolor\": \"white\", \"ticks\": \"\"}}, \"scene\": {\"xaxis\": {\"backgroundcolor\": \"#E5ECF6\", \"gridcolor\": \"white\", \"gridwidth\": 2, \"linecolor\": \"white\", \"showbackground\": true, \"ticks\": \"\", \"zerolinecolor\": \"white\"}, \"yaxis\": {\"backgroundcolor\": \"#E5ECF6\", \"gridcolor\": \"white\", \"gridwidth\": 2, \"linecolor\": \"white\", \"showbackground\": true, \"ticks\": \"\", \"zerolinecolor\": \"white\"}, \"zaxis\": {\"backgroundcolor\": \"#E5ECF6\", \"gridcolor\": \"white\", \"gridwidth\": 2, \"linecolor\": \"white\", \"showbackground\": true, \"ticks\": \"\", \"zerolinecolor\": \"white\"}}, \"shapedefaults\": {\"line\": {\"color\": \"#2a3f5f\"}}, \"ternary\": {\"aaxis\": {\"gridcolor\": \"white\", \"linecolor\": \"white\", \"ticks\": \"\"}, \"baxis\": {\"gridcolor\": \"white\", \"linecolor\": \"white\", \"ticks\": \"\"}, \"bgcolor\": \"#E5ECF6\", \"caxis\": {\"gridcolor\": \"white\", \"linecolor\": \"white\", \"ticks\": \"\"}}, \"title\": {\"x\": 0.05}, \"xaxis\": {\"automargin\": true, \"gridcolor\": \"white\", \"linecolor\": \"white\", \"ticks\": \"\", \"title\": {\"standoff\": 15}, \"zerolinecolor\": \"white\", \"zerolinewidth\": 2}, \"yaxis\": {\"automargin\": true, \"gridcolor\": \"white\", \"linecolor\": \"white\", \"ticks\": \"\", \"title\": {\"standoff\": 15}, \"zerolinecolor\": \"white\", \"zerolinewidth\": 2}}}, \"title\": {\"text\": \"Time after the Comments deadline that a Comment was made in Cycles 1\"}, \"xaxis\": {\"anchor\": \"y\", \"domain\": [0.0, 1.0], \"title\": {\"text\": \"Days from Comments due date\"}}, \"yaxis\": {\"anchor\": \"x\", \"domain\": [0.0, 1.0], \"title\": {\"text\": \"Number of comments\"}}},\n",
              "                        {\"responsive\": true}\n",
              "                    ).then(function(){\n",
              "                            \n",
              "var gd = document.getElementById('73b30282-5a84-4d82-b2ee-e6236bb37c4f');\n",
              "var x = new MutationObserver(function (mutations, observer) {{\n",
              "        var display = window.getComputedStyle(gd).display;\n",
              "        if (!display || display === 'none') {{\n",
              "            console.log([gd, 'removed!']);\n",
              "            Plotly.purge(gd);\n",
              "            observer.disconnect();\n",
              "        }}\n",
              "}});\n",
              "\n",
              "// Listen for the removal of the full notebook cells\n",
              "var notebookContainer = gd.closest('#notebook-container');\n",
              "if (notebookContainer) {{\n",
              "    x.observe(notebookContainer, {childList: true});\n",
              "}}\n",
              "\n",
              "// Listen for the clearing of the current output cell\n",
              "var outputEl = gd.closest('.output');\n",
              "if (outputEl) {{\n",
              "    x.observe(outputEl, {childList: true});\n",
              "}}\n",
              "\n",
              "                        })\n",
              "                };\n",
              "                \n",
              "            </script>\n",
              "        </div>\n",
              "</body>\n",
              "</html>"
            ]
          },
          "metadata": {
            "tags": []
          }
        }
      ]
    },
    {
      "cell_type": "code",
      "metadata": {
        "id": "GT2E-BL5cSwC"
      },
      "source": [
        "student_lateness = all_combined[[\"user_id\", \"late\"]].groupby(\"user_id\", as_index=False).sum(\"late\")"
      ],
      "execution_count": 312,
      "outputs": []
    },
    {
      "cell_type": "markdown",
      "metadata": {
        "id": "4MxBbqKQcUBO"
      },
      "source": [
        "- Plot the number of days a comment was late"
      ]
    },
    {
      "cell_type": "code",
      "metadata": {
        "id": "ugxocCiTcWX-",
        "outputId": "1d1f8218-6354-4a77-c34e-09020db61a82",
        "colab": {
          "base_uri": "https://localhost:8080/",
          "height": 281
        }
      },
      "source": [
        "student_lateness[\"late\"].plot(kind=\"hist\") "
      ],
      "execution_count": 313,
      "outputs": [
        {
          "output_type": "execute_result",
          "data": {
            "text/plain": [
              "<matplotlib.axes._subplots.AxesSubplot at 0x7fbcf76ab6d8>"
            ]
          },
          "metadata": {
            "tags": []
          },
          "execution_count": 313
        },
        {
          "output_type": "display_data",
          "data": {
            "image/png": "[encoded data removed]",
            "text/plain": [
              "<Figure size 432x288 with 1 Axes>"
            ]
          },
          "metadata": {
            "tags": [],
            "needs_background": "light"
          }
        }
      ]
    },
    {
      "cell_type": "code",
      "metadata": {
        "id": "iGW3ApzViTV4",
        "outputId": "70ba1fb6-5479-4483-b5e3-cba384e291c4",
        "colab": {
          "base_uri": "https://localhost:8080/",
          "height": 542
        }
      },
      "source": [
        "px.histogram(student_lateness, x = \"late\", title = \"Number of Days a Comment was late\",labels={\"late\": \"Days after the Comments due date\"})"
      ],
      "execution_count": 314,
      "outputs": [
        {
          "output_type": "display_data",
          "data": {
            "text/html": [
              "<html>\n",
              "<head><meta charset=\"utf-8\" /></head>\n",
              "<body>\n",
              "    <div>\n",
              "            <script src=\"https://cdnjs.cloudflare.com/ajax/libs/mathjax/2.7.5/MathJax.js?config=TeX-AMS-MML_SVG\"></script><script type=\"text/javascript\">if (window.MathJax) {MathJax.Hub.Config({SVG: {font: \"STIX-Web\"}});}</script>\n",
              "                <script type=\"text/javascript\">window.PlotlyConfig = {MathJaxConfig: 'local'};</script>\n",
              "        <script src=\"https://cdn.plot.ly/plotly-latest.min.js\"></script>    \n",
              "            <div id=\"8a7495a4-28f2-485d-920b-a3fa34f251c5\" class=\"plotly-graph-div\" style=\"height:525px; width:100%;\"></div>\n",
              "            <script type=\"text/javascript\">\n",
              "                \n",
              "                    window.PLOTLYENV=window.PLOTLYENV || {};\n",
              "                    \n",
              "                if (document.getElementById(\"8a7495a4-28f2-485d-920b-a3fa34f251c5\")) {\n",
              "                    Plotly.newPlot(\n",
              "                        '8a7495a4-28f2-485d-920b-a3fa34f251c5',\n",
              "                        [{\"alignmentgroup\": \"True\", \"bingroup\": \"x\", \"hoverlabel\": {\"namelength\": 0}, \"hovertemplate\": \"Days after the Comments due date=%{x}<br>count=%{y}\", \"legendgroup\": \"\", \"marker\": {\"color\": \"#636efa\"}, \"name\": \"\", \"offsetgroup\": \"\", \"orientation\": \"v\", \"showlegend\": false, \"type\": \"histogram\", \"x\": [0, 0, 0, 5, 2, 0, 0, 0, 0, 0, 0, 0, 3, 0, 5, 0, 0, 0, 0, 5, 0, 0, 0, 2, 0, 3, 0, 0, 0, 0, 0, 7, 1, 0, 0, 0, 0, 0, 9, 0, 0, 0, 0, 7, 1, 0, 0, 0, 0, 0, 0, 0, 0, 0, 0, 2, 13, 1, 0, 0, 0, 0, 0, 1, 0, 0, 17, 0, 0, 0, 0, 0, 1, 1, 8, 0, 2, 0, 0, 6, 0, 3, 5, 0, 1, 0, 3, 0, 0, 3, 6, 0, 1, 0, 4, 0, 0, 0, 0, 0, 0, 0, 0, 0, 1, 0, 0, 0, 0, 0, 0, 1, 1, 0, 5, 1, 1, 0, 8, 6, 0, 1, 3, 0, 0, 0, 0, 0, 5, 2, 6, 3, 0, 0, 0, 1, 0, 0, 2, 0, 0, 0, 0, 2, 0, 0, 0, 0, 0, 0, 2, 0, 0, 0, 5, 0, 0, 0, 0, 0, 0, 0, 0, 0, 6, 0, 1, 0, 0, 2, 0, 0, 0, 0, 1, 0, 0, 0, 0, 0, 0, 0, 0, 0, 0, 3, 0, 7, 3, 0, 0, 4, 0, 3, 0, 2, 0, 0, 0, 3, 1, 1, 0, 0, 0, 11, 0, 0, 1, 1, 0, 0, 0, 0, 0, 3, 1, 0, 0, 3, 0, 6, 4, 0, 0, 0, 0, 0, 0, 5, 0, 0, 0, 0, 0, 0, 10, 0, 0, 0, 0, 0, 1, 0, 0, 2, 0, 1, 0, 6, 0, 0, 0, 0, 0, 0, 0, 0, 0, 0, 0, 5, 6, 0, 0, 0, 4, 0, 0, 0, 0, 0, 9, 0, 0, 0, 0, 0, 0, 0, 0, 3, 10, 0, 0, 9, 0, 3, 5, 0, 0, 5, 0, 0, 0, 5, 0, 0, 0, 3, 1, 9, 0, 2, 10, 4, 0, 5, 0, 0, 0, 4, 9, 0, 0, 3, 10, 0], \"xaxis\": \"x\", \"yaxis\": \"y\"}],\n",
              "                        {\"barmode\": \"relative\", \"legend\": {\"tracegroupgap\": 0}, \"template\": {\"data\": {\"bar\": [{\"error_x\": {\"color\": \"#2a3f5f\"}, \"error_y\": {\"color\": \"#2a3f5f\"}, \"marker\": {\"line\": {\"color\": \"#E5ECF6\", \"width\": 0.5}}, \"type\": \"bar\"}], \"barpolar\": [{\"marker\": {\"line\": {\"color\": \"#E5ECF6\", \"width\": 0.5}}, \"type\": \"barpolar\"}], \"carpet\": [{\"aaxis\": {\"endlinecolor\": \"#2a3f5f\", \"gridcolor\": \"white\", \"linecolor\": \"white\", \"minorgridcolor\": \"white\", \"startlinecolor\": \"#2a3f5f\"}, \"baxis\": {\"endlinecolor\": \"#2a3f5f\", \"gridcolor\": \"white\", \"linecolor\": \"white\", \"minorgridcolor\": \"white\", \"startlinecolor\": \"#2a3f5f\"}, \"type\": \"carpet\"}], \"choropleth\": [{\"colorbar\": {\"outlinewidth\": 0, \"ticks\": \"\"}, \"type\": \"choropleth\"}], \"contour\": [{\"colorbar\": {\"outlinewidth\": 0, \"ticks\": \"\"}, \"colorscale\": [[0.0, \"#0d0887\"], [0.1111111111111111, \"#46039f\"], [0.2222222222222222, \"#7201a8\"], [0.3333333333333333, \"#9c179e\"], [0.4444444444444444, \"#bd3786\"], [0.5555555555555556, \"#d8576b\"], [0.6666666666666666, \"#ed7953\"], [0.7777777777777778, \"#fb9f3a\"], [0.8888888888888888, \"#fdca26\"], [1.0, \"#f0f921\"]], \"type\": \"contour\"}], \"contourcarpet\": [{\"colorbar\": {\"outlinewidth\": 0, \"ticks\": \"\"}, \"type\": \"contourcarpet\"}], \"heatmap\": [{\"colorbar\": {\"outlinewidth\": 0, \"ticks\": \"\"}, \"colorscale\": [[0.0, \"#0d0887\"], [0.1111111111111111, \"#46039f\"], [0.2222222222222222, \"#7201a8\"], [0.3333333333333333, \"#9c179e\"], [0.4444444444444444, \"#bd3786\"], [0.5555555555555556, \"#d8576b\"], [0.6666666666666666, \"#ed7953\"], [0.7777777777777778, \"#fb9f3a\"], [0.8888888888888888, \"#fdca26\"], [1.0, \"#f0f921\"]], \"type\": \"heatmap\"}], \"heatmapgl\": [{\"colorbar\": {\"outlinewidth\": 0, \"ticks\": \"\"}, \"colorscale\": [[0.0, \"#0d0887\"], [0.1111111111111111, \"#46039f\"], [0.2222222222222222, \"#7201a8\"], [0.3333333333333333, \"#9c179e\"], [0.4444444444444444, \"#bd3786\"], [0.5555555555555556, \"#d8576b\"], [0.6666666666666666, \"#ed7953\"], [0.7777777777777778, \"#fb9f3a\"], [0.8888888888888888, \"#fdca26\"], [1.0, \"#f0f921\"]], \"type\": \"heatmapgl\"}], \"histogram\": [{\"marker\": {\"colorbar\": {\"outlinewidth\": 0, \"ticks\": \"\"}}, \"type\": \"histogram\"}], \"histogram2d\": [{\"colorbar\": {\"outlinewidth\": 0, \"ticks\": \"\"}, \"colorscale\": [[0.0, \"#0d0887\"], [0.1111111111111111, \"#46039f\"], [0.2222222222222222, \"#7201a8\"], [0.3333333333333333, \"#9c179e\"], [0.4444444444444444, \"#bd3786\"], [0.5555555555555556, \"#d8576b\"], [0.6666666666666666, \"#ed7953\"], [0.7777777777777778, \"#fb9f3a\"], [0.8888888888888888, \"#fdca26\"], [1.0, \"#f0f921\"]], \"type\": \"histogram2d\"}], \"histogram2dcontour\": [{\"colorbar\": {\"outlinewidth\": 0, \"ticks\": \"\"}, \"colorscale\": [[0.0, \"#0d0887\"], [0.1111111111111111, \"#46039f\"], [0.2222222222222222, \"#7201a8\"], [0.3333333333333333, \"#9c179e\"], [0.4444444444444444, \"#bd3786\"], [0.5555555555555556, \"#d8576b\"], [0.6666666666666666, \"#ed7953\"], [0.7777777777777778, \"#fb9f3a\"], [0.8888888888888888, \"#fdca26\"], [1.0, \"#f0f921\"]], \"type\": \"histogram2dcontour\"}], \"mesh3d\": [{\"colorbar\": {\"outlinewidth\": 0, \"ticks\": \"\"}, \"type\": \"mesh3d\"}], \"parcoords\": [{\"line\": {\"colorbar\": {\"outlinewidth\": 0, \"ticks\": \"\"}}, \"type\": \"parcoords\"}], \"pie\": [{\"automargin\": true, \"type\": \"pie\"}], \"scatter\": [{\"marker\": {\"colorbar\": {\"outlinewidth\": 0, \"ticks\": \"\"}}, \"type\": \"scatter\"}], \"scatter3d\": [{\"line\": {\"colorbar\": {\"outlinewidth\": 0, \"ticks\": \"\"}}, \"marker\": {\"colorbar\": {\"outlinewidth\": 0, \"ticks\": \"\"}}, \"type\": \"scatter3d\"}], \"scattercarpet\": [{\"marker\": {\"colorbar\": {\"outlinewidth\": 0, \"ticks\": \"\"}}, \"type\": \"scattercarpet\"}], \"scattergeo\": [{\"marker\": {\"colorbar\": {\"outlinewidth\": 0, \"ticks\": \"\"}}, \"type\": \"scattergeo\"}], \"scattergl\": [{\"marker\": {\"colorbar\": {\"outlinewidth\": 0, \"ticks\": \"\"}}, \"type\": \"scattergl\"}], \"scattermapbox\": [{\"marker\": {\"colorbar\": {\"outlinewidth\": 0, \"ticks\": \"\"}}, \"type\": \"scattermapbox\"}], \"scatterpolar\": [{\"marker\": {\"colorbar\": {\"outlinewidth\": 0, \"ticks\": \"\"}}, \"type\": \"scatterpolar\"}], \"scatterpolargl\": [{\"marker\": {\"colorbar\": {\"outlinewidth\": 0, \"ticks\": \"\"}}, \"type\": \"scatterpolargl\"}], \"scatterternary\": [{\"marker\": {\"colorbar\": {\"outlinewidth\": 0, \"ticks\": \"\"}}, \"type\": \"scatterternary\"}], \"surface\": [{\"colorbar\": {\"outlinewidth\": 0, \"ticks\": \"\"}, \"colorscale\": [[0.0, \"#0d0887\"], [0.1111111111111111, \"#46039f\"], [0.2222222222222222, \"#7201a8\"], [0.3333333333333333, \"#9c179e\"], [0.4444444444444444, \"#bd3786\"], [0.5555555555555556, \"#d8576b\"], [0.6666666666666666, \"#ed7953\"], [0.7777777777777778, \"#fb9f3a\"], [0.8888888888888888, \"#fdca26\"], [1.0, \"#f0f921\"]], \"type\": \"surface\"}], \"table\": [{\"cells\": {\"fill\": {\"color\": \"#EBF0F8\"}, \"line\": {\"color\": \"white\"}}, \"header\": {\"fill\": {\"color\": \"#C8D4E3\"}, \"line\": {\"color\": \"white\"}}, \"type\": \"table\"}]}, \"layout\": {\"annotationdefaults\": {\"arrowcolor\": \"#2a3f5f\", \"arrowhead\": 0, \"arrowwidth\": 1}, \"coloraxis\": {\"colorbar\": {\"outlinewidth\": 0, \"ticks\": \"\"}}, \"colorscale\": {\"diverging\": [[0, \"#8e0152\"], [0.1, \"#c51b7d\"], [0.2, \"#de77ae\"], [0.3, \"#f1b6da\"], [0.4, \"#fde0ef\"], [0.5, \"#f7f7f7\"], [0.6, \"#e6f5d0\"], [0.7, \"#b8e186\"], [0.8, \"#7fbc41\"], [0.9, \"#4d9221\"], [1, \"#276419\"]], \"sequential\": [[0.0, \"#0d0887\"], [0.1111111111111111, \"#46039f\"], [0.2222222222222222, \"#7201a8\"], [0.3333333333333333, \"#9c179e\"], [0.4444444444444444, \"#bd3786\"], [0.5555555555555556, \"#d8576b\"], [0.6666666666666666, \"#ed7953\"], [0.7777777777777778, \"#fb9f3a\"], [0.8888888888888888, \"#fdca26\"], [1.0, \"#f0f921\"]], \"sequentialminus\": [[0.0, \"#0d0887\"], [0.1111111111111111, \"#46039f\"], [0.2222222222222222, \"#7201a8\"], [0.3333333333333333, \"#9c179e\"], [0.4444444444444444, \"#bd3786\"], [0.5555555555555556, \"#d8576b\"], [0.6666666666666666, \"#ed7953\"], [0.7777777777777778, \"#fb9f3a\"], [0.8888888888888888, \"#fdca26\"], [1.0, \"#f0f921\"]]}, \"colorway\": [\"#636efa\", \"#EF553B\", \"#00cc96\", \"#ab63fa\", \"#FFA15A\", \"#19d3f3\", \"#FF6692\", \"#B6E880\", \"#FF97FF\", \"#FECB52\"], \"font\": {\"color\": \"#2a3f5f\"}, \"geo\": {\"bgcolor\": \"white\", \"lakecolor\": \"white\", \"landcolor\": \"#E5ECF6\", \"showlakes\": true, \"showland\": true, \"subunitcolor\": \"white\"}, \"hoverlabel\": {\"align\": \"left\"}, \"hovermode\": \"closest\", \"mapbox\": {\"style\": \"light\"}, \"paper_bgcolor\": \"white\", \"plot_bgcolor\": \"#E5ECF6\", \"polar\": {\"angularaxis\": {\"gridcolor\": \"white\", \"linecolor\": \"white\", \"ticks\": \"\"}, \"bgcolor\": \"#E5ECF6\", \"radialaxis\": {\"gridcolor\": \"white\", \"linecolor\": \"white\", \"ticks\": \"\"}}, \"scene\": {\"xaxis\": {\"backgroundcolor\": \"#E5ECF6\", \"gridcolor\": \"white\", \"gridwidth\": 2, \"linecolor\": \"white\", \"showbackground\": true, \"ticks\": \"\", \"zerolinecolor\": \"white\"}, \"yaxis\": {\"backgroundcolor\": \"#E5ECF6\", \"gridcolor\": \"white\", \"gridwidth\": 2, \"linecolor\": \"white\", \"showbackground\": true, \"ticks\": \"\", \"zerolinecolor\": \"white\"}, \"zaxis\": {\"backgroundcolor\": \"#E5ECF6\", \"gridcolor\": \"white\", \"gridwidth\": 2, \"linecolor\": \"white\", \"showbackground\": true, \"ticks\": \"\", \"zerolinecolor\": \"white\"}}, \"shapedefaults\": {\"line\": {\"color\": \"#2a3f5f\"}}, \"ternary\": {\"aaxis\": {\"gridcolor\": \"white\", \"linecolor\": \"white\", \"ticks\": \"\"}, \"baxis\": {\"gridcolor\": \"white\", \"linecolor\": \"white\", \"ticks\": \"\"}, \"bgcolor\": \"#E5ECF6\", \"caxis\": {\"gridcolor\": \"white\", \"linecolor\": \"white\", \"ticks\": \"\"}}, \"title\": {\"x\": 0.05}, \"xaxis\": {\"automargin\": true, \"gridcolor\": \"white\", \"linecolor\": \"white\", \"ticks\": \"\", \"title\": {\"standoff\": 15}, \"zerolinecolor\": \"white\", \"zerolinewidth\": 2}, \"yaxis\": {\"automargin\": true, \"gridcolor\": \"white\", \"linecolor\": \"white\", \"ticks\": \"\", \"title\": {\"standoff\": 15}, \"zerolinecolor\": \"white\", \"zerolinewidth\": 2}}}, \"title\": {\"text\": \"Number of Days a Comment was late\"}, \"xaxis\": {\"anchor\": \"y\", \"domain\": [0.0, 1.0], \"title\": {\"text\": \"Days after the Comments due date\"}}, \"yaxis\": {\"anchor\": \"x\", \"domain\": [0.0, 1.0], \"title\": {\"text\": \"count\"}}},\n",
              "                        {\"responsive\": true}\n",
              "                    ).then(function(){\n",
              "                            \n",
              "var gd = document.getElementById('8a7495a4-28f2-485d-920b-a3fa34f251c5');\n",
              "var x = new MutationObserver(function (mutations, observer) {{\n",
              "        var display = window.getComputedStyle(gd).display;\n",
              "        if (!display || display === 'none') {{\n",
              "            console.log([gd, 'removed!']);\n",
              "            Plotly.purge(gd);\n",
              "            observer.disconnect();\n",
              "        }}\n",
              "}});\n",
              "\n",
              "// Listen for the removal of the full notebook cells\n",
              "var notebookContainer = gd.closest('#notebook-container');\n",
              "if (notebookContainer) {{\n",
              "    x.observe(notebookContainer, {childList: true});\n",
              "}}\n",
              "\n",
              "// Listen for the clearing of the current output cell\n",
              "var outputEl = gd.closest('.output');\n",
              "if (outputEl) {{\n",
              "    x.observe(outputEl, {childList: true});\n",
              "}}\n",
              "\n",
              "                        })\n",
              "                };\n",
              "                \n",
              "            </script>\n",
              "        </div>\n",
              "</body>\n",
              "</html>"
            ]
          },
          "metadata": {
            "tags": []
          }
        }
      ]
    },
    {
      "cell_type": "markdown",
      "metadata": {
        "id": "MUx0IUARcX_-"
      },
      "source": [
        "- Below is a dataframe of the students who were late (sorted by number of late comments)"
      ]
    },
    {
      "cell_type": "code",
      "metadata": {
        "id": "0XKwqDC_cZDb",
        "outputId": "f8a3a6c2-8674-43aa-f250-58f9c987a0ec",
        "colab": {
          "base_uri": "https://localhost:8080/",
          "height": 391
        }
      },
      "source": [
        "student_lateness.sort_values(\"late\", ascending=False)"
      ],
      "execution_count": 315,
      "outputs": [
        {
          "output_type": "execute_result",
          "data": {
            "text/html": [
              "<div>\n",
              "<style scoped>\n",
              "    .dataframe tbody tr th:only-of-type {\n",
              "        vertical-align: middle;\n",
              "    }\n",
              "\n",
              "    .dataframe tbody tr th {\n",
              "        vertical-align: top;\n",
              "    }\n",
              "\n",
              "    .dataframe thead th {\n",
              "        text-align: right;\n",
              "    }\n",
              "</style>\n",
              "<table border=\"1\" class=\"dataframe\">\n",
              "  <thead>\n",
              "    <tr style=\"text-align: right;\">\n",
              "      <th></th>\n",
              "      <th>user_id</th>\n",
              "      <th>late</th>\n",
              "    </tr>\n",
              "  </thead>\n",
              "  <tbody>\n",
              "    <tr>\n",
              "      <th>66</th>\n",
              "      <td>636027</td>\n",
              "      <td>17</td>\n",
              "    </tr>\n",
              "    <tr>\n",
              "      <th>56</th>\n",
              "      <td>636017</td>\n",
              "      <td>13</td>\n",
              "    </tr>\n",
              "    <tr>\n",
              "      <th>205</th>\n",
              "      <td>636844</td>\n",
              "      <td>11</td>\n",
              "    </tr>\n",
              "    <tr>\n",
              "      <th>316</th>\n",
              "      <td>640258</td>\n",
              "      <td>10</td>\n",
              "    </tr>\n",
              "    <tr>\n",
              "      <th>282</th>\n",
              "      <td>637293</td>\n",
              "      <td>10</td>\n",
              "    </tr>\n",
              "    <tr>\n",
              "      <th>...</th>\n",
              "      <td>...</td>\n",
              "      <td>...</td>\n",
              "    </tr>\n",
              "    <tr>\n",
              "      <th>139</th>\n",
              "      <td>636418</td>\n",
              "      <td>0</td>\n",
              "    </tr>\n",
              "    <tr>\n",
              "      <th>140</th>\n",
              "      <td>636419</td>\n",
              "      <td>0</td>\n",
              "    </tr>\n",
              "    <tr>\n",
              "      <th>141</th>\n",
              "      <td>636420</td>\n",
              "      <td>0</td>\n",
              "    </tr>\n",
              "    <tr>\n",
              "      <th>142</th>\n",
              "      <td>636421</td>\n",
              "      <td>0</td>\n",
              "    </tr>\n",
              "    <tr>\n",
              "      <th>317</th>\n",
              "      <td>642158</td>\n",
              "      <td>0</td>\n",
              "    </tr>\n",
              "  </tbody>\n",
              "</table>\n",
              "<p>318 rows × 2 columns</p>\n",
              "</div>"
            ],
            "text/plain": [
              "     user_id  late\n",
              "66    636027    17\n",
              "56    636017    13\n",
              "205   636844    11\n",
              "316   640258    10\n",
              "282   637293    10\n",
              "..       ...   ...\n",
              "139   636418     0\n",
              "140   636419     0\n",
              "141   636420     0\n",
              "142   636421     0\n",
              "317   642158     0\n",
              "\n",
              "[318 rows x 2 columns]"
            ]
          },
          "metadata": {
            "tags": []
          },
          "execution_count": 315
        }
      ]
    },
    {
      "cell_type": "markdown",
      "metadata": {
        "id": "IGqbw2THcab_"
      },
      "source": [
        "### Connecting the students to their cycle 4 groups\n",
        "- We need to link the students and their number of late comments do their groups in cycle 4\n",
        "- This is so we can evaluate the impact of student 'lateness'/motivation on their marks and results"
      ]
    },
    {
      "cell_type": "code",
      "metadata": {
        "id": "Nxj3a4e-cbmn"
      },
      "source": [
        "c4usercourses.rename(columns={\"user\" : \"user_id\", \"Team\" : \"team\"}, inplace=True) # Rename columns\n",
        "c4usercourses_lateness = c4usercourses.merge(student_lateness.reset_index(drop=True), on=\"user_id\") # merge the columns\n"
      ],
      "execution_count": 316,
      "outputs": []
    },
    {
      "cell_type": "markdown",
      "metadata": {
        "id": "slGdrpGWccxw"
      },
      "source": [
        "### Showing the number of late students\n",
        "- Below is a dataframe of late students\n",
        "- Below that is a graph showing the lateness of students by team"
      ]
    },
    {
      "cell_type": "code",
      "metadata": {
        "id": "L_uU5fqVcd-J"
      },
      "source": [
        "c4usercourses_lateness.sort_values(by=\"late\", ascending=False) # Sort the columns for output by lateness"
      ],
      "execution_count": null,
      "outputs": []
    },
    {
      "cell_type": "code",
      "metadata": {
        "id": "C2Wd4MTlcfQ_",
        "outputId": "415ea328-d97d-4840-b3cb-125e55a536d9",
        "colab": {
          "base_uri": "https://localhost:8080/",
          "height": 391
        }
      },
      "source": [
        "student_late_boolean = all_combined[[\"user_id\", \"late\"]].groupby(\"user_id\", as_index=False).any(\"late\")\n",
        "team_latenes_boolean2 = c4usercourses.merge(student_late_boolean, on=\"user_id\")\n",
        "#team_latenes_boolean2.groupby(\"team\")[\"late\"].sum().plot.bar()\n",
        "\n",
        "team_latenes_boolean2\n",
        "\n",
        "#.plot.bar()\n",
        "#team_latenes_boolean"
      ],
      "execution_count": 320,
      "outputs": [
        {
          "output_type": "execute_result",
          "data": {
            "text/html": [
              "<div>\n",
              "<style scoped>\n",
              "    .dataframe tbody tr th:only-of-type {\n",
              "        vertical-align: middle;\n",
              "    }\n",
              "\n",
              "    .dataframe tbody tr th {\n",
              "        vertical-align: top;\n",
              "    }\n",
              "\n",
              "    .dataframe thead th {\n",
              "        text-align: right;\n",
              "    }\n",
              "</style>\n",
              "<table border=\"1\" class=\"dataframe\">\n",
              "  <thead>\n",
              "    <tr style=\"text-align: right;\">\n",
              "      <th></th>\n",
              "      <th>user_id</th>\n",
              "      <th>course_id</th>\n",
              "      <th>team</th>\n",
              "      <th>late</th>\n",
              "    </tr>\n",
              "  </thead>\n",
              "  <tbody>\n",
              "    <tr>\n",
              "      <th>0</th>\n",
              "      <td>636031</td>\n",
              "      <td>21320</td>\n",
              "      <td>Black</td>\n",
              "      <td>False</td>\n",
              "    </tr>\n",
              "    <tr>\n",
              "      <th>1</th>\n",
              "      <td>635993</td>\n",
              "      <td>21320</td>\n",
              "      <td>Black</td>\n",
              "      <td>True</td>\n",
              "    </tr>\n",
              "    <tr>\n",
              "      <th>2</th>\n",
              "      <td>636008</td>\n",
              "      <td>21320</td>\n",
              "      <td>Black</td>\n",
              "      <td>False</td>\n",
              "    </tr>\n",
              "    <tr>\n",
              "      <th>3</th>\n",
              "      <td>636010</td>\n",
              "      <td>21320</td>\n",
              "      <td>Black</td>\n",
              "      <td>False</td>\n",
              "    </tr>\n",
              "    <tr>\n",
              "      <th>4</th>\n",
              "      <td>635988</td>\n",
              "      <td>21320</td>\n",
              "      <td>Black</td>\n",
              "      <td>False</td>\n",
              "    </tr>\n",
              "    <tr>\n",
              "      <th>...</th>\n",
              "      <td>...</td>\n",
              "      <td>...</td>\n",
              "      <td>...</td>\n",
              "      <td>...</td>\n",
              "    </tr>\n",
              "    <tr>\n",
              "      <th>272</th>\n",
              "      <td>637302</td>\n",
              "      <td>21328</td>\n",
              "      <td>Red</td>\n",
              "      <td>True</td>\n",
              "    </tr>\n",
              "    <tr>\n",
              "      <th>273</th>\n",
              "      <td>637272</td>\n",
              "      <td>21328</td>\n",
              "      <td>Pink</td>\n",
              "      <td>True</td>\n",
              "    </tr>\n",
              "    <tr>\n",
              "      <th>274</th>\n",
              "      <td>637312</td>\n",
              "      <td>21328</td>\n",
              "      <td>Red</td>\n",
              "      <td>True</td>\n",
              "    </tr>\n",
              "    <tr>\n",
              "      <th>275</th>\n",
              "      <td>637276</td>\n",
              "      <td>21328</td>\n",
              "      <td>Blue</td>\n",
              "      <td>True</td>\n",
              "    </tr>\n",
              "    <tr>\n",
              "      <th>276</th>\n",
              "      <td>637299</td>\n",
              "      <td>21328</td>\n",
              "      <td>Yellow</td>\n",
              "      <td>True</td>\n",
              "    </tr>\n",
              "  </tbody>\n",
              "</table>\n",
              "<p>277 rows × 4 columns</p>\n",
              "</div>"
            ],
            "text/plain": [
              "     user_id  course_id    team   late\n",
              "0     636031      21320   Black  False\n",
              "1     635993      21320   Black   True\n",
              "2     636008      21320   Black  False\n",
              "3     636010      21320   Black  False\n",
              "4     635988      21320   Black  False\n",
              "..       ...        ...     ...    ...\n",
              "272   637302      21328     Red   True\n",
              "273   637272      21328    Pink   True\n",
              "274   637312      21328     Red   True\n",
              "275   637276      21328    Blue   True\n",
              "276   637299      21328  Yellow   True\n",
              "\n",
              "[277 rows x 4 columns]"
            ]
          },
          "metadata": {
            "tags": []
          },
          "execution_count": 320
        }
      ]
    },
    {
      "cell_type": "code",
      "metadata": {
        "id": "5rvVoG84jaWx",
        "outputId": "c05531a2-f7ea-4792-a62d-1e796773366b",
        "colab": {
          "base_uri": "https://localhost:8080/",
          "height": 542
        }
      },
      "source": [
        "#c4usercourses.rename(columns = {\"user\" : \"user_id\", \"Team\" : \"team\"}, inplace = True)\n",
        "#c4usercourses_lateness = c4usercourses.merge(student_lateness.reset_index(drop = True), on = \"user_id\")\n",
        "#c4usercourses_lateness.sort_values(by = \"late\", ascending = False)\n",
        "\n",
        "\n",
        "\n",
        "#student_late_boolean = all_combined[[\"user_id\", \"late\"]].groupby(\"user_id\", as_index = False).any(\"late\")\n",
        "#team_lateness_boolean = c4usercourses.merge(student_late_boolean, on = \"user_id\")\n",
        "\n",
        "# Authors: Yan and Tash\n",
        "# Supporter: Johanna\n",
        "# Date: \n",
        "fig = px.histogram(team_latenes_boolean2,x=\"team\",y=\"late\",color = \"team\", color_discrete_map = {'Pink': 'hotpink','Green': 'mediumseagreen', 'Yellow': 'gold','Black': 'black','Blue': 'royalblue','Red': 'tomato', 'Brown': 'peru', 'White': 'white','Purple': 'mediumpurple'}, title = \"Distribution of late questions in each team\",labels={\n",
        "                     \"team\": \"Groups\",\n",
        "                     \"late\": \"Number of Comments Submitted Late\"})\n",
        "\n",
        "fig.update_layout(showlegend=False) \n",
        "\n"
      ],
      "execution_count": 321,
      "outputs": [
        {
          "output_type": "display_data",
          "data": {
            "text/html": [
              "<html>\n",
              "<head><meta charset=\"utf-8\" /></head>\n",
              "<body>\n",
              "    <div>\n",
              "            <script src=\"https://cdnjs.cloudflare.com/ajax/libs/mathjax/2.7.5/MathJax.js?config=TeX-AMS-MML_SVG\"></script><script type=\"text/javascript\">if (window.MathJax) {MathJax.Hub.Config({SVG: {font: \"STIX-Web\"}});}</script>\n",
              "                <script type=\"text/javascript\">window.PlotlyConfig = {MathJaxConfig: 'local'};</script>\n",
              "        <script src=\"https://cdn.plot.ly/plotly-latest.min.js\"></script>    \n",
              "            <div id=\"b7aa0778-33d1-430c-af28-2332eb4384e8\" class=\"plotly-graph-div\" style=\"height:525px; width:100%;\"></div>\n",
              "            <script type=\"text/javascript\">\n",
              "                \n",
              "                    window.PLOTLYENV=window.PLOTLYENV || {};\n",
              "                    \n",
              "                if (document.getElementById(\"b7aa0778-33d1-430c-af28-2332eb4384e8\")) {\n",
              "                    Plotly.newPlot(\n",
              "                        'b7aa0778-33d1-430c-af28-2332eb4384e8',\n",
              "                        [{\"alignmentgroup\": \"True\", \"bingroup\": \"x\", \"hoverlabel\": {\"namelength\": 0}, \"hovertemplate\": \"Groups=%{x}<br>count of Number of Questions Submitted Late=%{y}\", \"legendgroup\": \"Groups=Black\", \"marker\": {\"color\": \"black\"}, \"name\": \"Groups=Black\", \"offsetgroup\": \"Groups=Black\", \"orientation\": \"v\", \"showlegend\": true, \"type\": \"histogram\", \"x\": [\"Black\", \"Black\", \"Black\", \"Black\", \"Black\", \"Black\", \"Black\", \"Black\", \"Black\", \"Black\", \"Black\", \"Black\", \"Black\", \"Black\", \"Black\", \"Black\", \"Black\", \"Black\", \"Black\", \"Black\", \"Black\", \"Black\", \"Black\", \"Black\", \"Black\", \"Black\", \"Black\", \"Black\", \"Black\", \"Black\", \"Black\", \"Black\", \"Black\", \"Black\"], \"xaxis\": \"x\", \"y\": [false, true, false, false, false, false, true, false, true, false, false, false, false, true, true, false, true, true, true, false, false, true, true, false, false, false, false, false, false, false, true, false, false, false], \"yaxis\": \"y\"}, {\"alignmentgroup\": \"True\", \"bingroup\": \"x\", \"hoverlabel\": {\"namelength\": 0}, \"hovertemplate\": \"Groups=%{x}<br>count of Number of Questions Submitted Late=%{y}\", \"legendgroup\": \"Groups=Blue\", \"marker\": {\"color\": \"royalblue\"}, \"name\": \"Groups=Blue\", \"offsetgroup\": \"Groups=Blue\", \"orientation\": \"v\", \"showlegend\": true, \"type\": \"histogram\", \"x\": [\"Blue\", \"Blue\", \"Blue\", \"Blue\", \"Blue\", \"Blue\", \"Blue\", \"Blue\", \"Blue\", \"Blue\", \"Blue\", \"Blue\", \"Blue\", \"Blue\", \"Blue\", \"Blue\", \"Blue\", \"Blue\", \"Blue\", \"Blue\", \"Blue\", \"Blue\", \"Blue\", \"Blue\", \"Blue\", \"Blue\", \"Blue\", \"Blue\", \"Blue\", \"Blue\", \"Blue\", \"Blue\", \"Blue\"], \"xaxis\": \"x\", \"y\": [false, false, false, false, false, false, true, false, false, true, false, false, false, true, false, false, true, false, true, false, true, false, false, false, false, false, true, false, true, true, false, false, true], \"yaxis\": \"y\"}, {\"alignmentgroup\": \"True\", \"bingroup\": \"x\", \"hoverlabel\": {\"namelength\": 0}, \"hovertemplate\": \"Groups=%{x}<br>count of Number of Questions Submitted Late=%{y}\", \"legendgroup\": \"Groups=Brown\", \"marker\": {\"color\": \"peru\"}, \"name\": \"Groups=Brown\", \"offsetgroup\": \"Groups=Brown\", \"orientation\": \"v\", \"showlegend\": true, \"type\": \"histogram\", \"x\": [\"Brown\", \"Brown\", \"Brown\", \"Brown\", \"Brown\", \"Brown\", \"Brown\", \"Brown\", \"Brown\", \"Brown\", \"Brown\", \"Brown\", \"Brown\", \"Brown\", \"Brown\", \"Brown\", \"Brown\", \"Brown\", \"Brown\", \"Brown\", \"Brown\", \"Brown\", \"Brown\", \"Brown\", \"Brown\", \"Brown\", \"Brown\", \"Brown\", \"Brown\", \"Brown\", \"Brown\", \"Brown\", \"Brown\"], \"xaxis\": \"x\", \"y\": [false, false, false, false, false, false, true, false, false, true, false, false, false, true, false, false, true, false, false, false, false, false, false, false, false, false, false, true, false, false, true, false, false], \"yaxis\": \"y\"}, {\"alignmentgroup\": \"True\", \"bingroup\": \"x\", \"hoverlabel\": {\"namelength\": 0}, \"hovertemplate\": \"Groups=%{x}<br>count of Number of Questions Submitted Late=%{y}\", \"legendgroup\": \"Groups=Green\", \"marker\": {\"color\": \"mediumseagreen\"}, \"name\": \"Groups=Green\", \"offsetgroup\": \"Groups=Green\", \"orientation\": \"v\", \"showlegend\": true, \"type\": \"histogram\", \"x\": [\"Green\", \"Green\", \"Green\", \"Green\", \"Green\", \"Green\", \"Green\", \"Green\", \"Green\", \"Green\", \"Green\", \"Green\", \"Green\", \"Green\", \"Green\", \"Green\", \"Green\", \"Green\", \"Green\", \"Green\", \"Green\", \"Green\", \"Green\", \"Green\", \"Green\", \"Green\", \"Green\", \"Green\", \"Green\", \"Green\", \"Green\", \"Green\", \"Green\", \"Green\", \"Green\", \"Green\", \"Green\", \"Green\"], \"xaxis\": \"x\", \"y\": [false, false, false, false, false, true, false, true, false, false, true, false, true, false, false, false, false, true, false, false, true, true, false, true, true, true, true, true, true, true, false, true, false, false, false, false, false, false], \"yaxis\": \"y\"}, {\"alignmentgroup\": \"True\", \"bingroup\": \"x\", \"hoverlabel\": {\"namelength\": 0}, \"hovertemplate\": \"Groups=%{x}<br>count of Number of Questions Submitted Late=%{y}\", \"legendgroup\": \"Groups=Pink\", \"marker\": {\"color\": \"hotpink\"}, \"name\": \"Groups=Pink\", \"offsetgroup\": \"Groups=Pink\", \"orientation\": \"v\", \"showlegend\": true, \"type\": \"histogram\", \"x\": [\"Pink\", \"Pink\", \"Pink\", \"Pink\", \"Pink\", \"Pink\", \"Pink\", \"Pink\", \"Pink\", \"Pink\", \"Pink\", \"Pink\", \"Pink\", \"Pink\", \"Pink\", \"Pink\", \"Pink\", \"Pink\", \"Pink\", \"Pink\", \"Pink\", \"Pink\", \"Pink\", \"Pink\", \"Pink\", \"Pink\", \"Pink\", \"Pink\", \"Pink\", \"Pink\", \"Pink\", \"Pink\", \"Pink\", \"Pink\", \"Pink\", \"Pink\", \"Pink\"], \"xaxis\": \"x\", \"y\": [true, true, false, false, false, true, false, false, false, false, false, false, false, true, false, true, false, false, false, false, false, false, true, false, true, true, false, true, true, true, false, false, true, false, true, false, true], \"yaxis\": \"y\"}, {\"alignmentgroup\": \"True\", \"bingroup\": \"x\", \"hoverlabel\": {\"namelength\": 0}, \"hovertemplate\": \"Groups=%{x}<br>count of Number of Questions Submitted Late=%{y}\", \"legendgroup\": \"Groups=Red\", \"marker\": {\"color\": \"tomato\"}, \"name\": \"Groups=Red\", \"offsetgroup\": \"Groups=Red\", \"orientation\": \"v\", \"showlegend\": true, \"type\": \"histogram\", \"x\": [\"Red\", \"Red\", \"Red\", \"Red\", \"Red\", \"Red\", \"Red\", \"Red\", \"Red\", \"Red\", \"Red\", \"Red\", \"Red\", \"Red\", \"Red\", \"Red\", \"Red\", \"Red\", \"Red\", \"Red\", \"Red\", \"Red\", \"Red\", \"Red\", \"Red\", \"Red\", \"Red\", \"Red\", \"Red\", \"Red\", \"Red\", \"Red\", \"Red\", \"Red\", \"Red\", \"Red\"], \"xaxis\": \"x\", \"y\": [true, true, false, false, false, true, false, true, false, true, true, false, true, false, true, false, false, true, false, false, false, false, true, false, false, false, false, false, false, false, false, false, false, false, true, true], \"yaxis\": \"y\"}, {\"alignmentgroup\": \"True\", \"bingroup\": \"x\", \"hoverlabel\": {\"namelength\": 0}, \"hovertemplate\": \"Groups=%{x}<br>count of Number of Questions Submitted Late=%{y}\", \"legendgroup\": \"Groups=Yellow\", \"marker\": {\"color\": \"gold\"}, \"name\": \"Groups=Yellow\", \"offsetgroup\": \"Groups=Yellow\", \"orientation\": \"v\", \"showlegend\": true, \"type\": \"histogram\", \"x\": [\"Yellow\", \"Yellow\", \"Yellow\", \"Yellow\", \"Yellow\", \"Yellow\", \"Yellow\", \"Yellow\", \"Yellow\", \"Yellow\", \"Yellow\", \"Yellow\", \"Yellow\", \"Yellow\", \"Yellow\", \"Yellow\", \"Yellow\", \"Yellow\", \"Yellow\", \"Yellow\", \"Yellow\", \"Yellow\", \"Yellow\", \"Yellow\", \"Yellow\", \"Yellow\", \"Yellow\", \"Yellow\", \"Yellow\", \"Yellow\"], \"xaxis\": \"x\", \"y\": [true, false, false, true, true, false, true, true, true, false, true, false, false, true, false, false, false, true, true, false, false, false, false, false, false, true, true, false, false, true], \"yaxis\": \"y\"}, {\"alignmentgroup\": \"True\", \"bingroup\": \"x\", \"hoverlabel\": {\"namelength\": 0}, \"hovertemplate\": \"Groups=%{x}<br>count of Number of Questions Submitted Late=%{y}\", \"legendgroup\": \"Groups=White\", \"marker\": {\"color\": \"white\"}, \"name\": \"Groups=White\", \"offsetgroup\": \"Groups=White\", \"orientation\": \"v\", \"showlegend\": true, \"type\": \"histogram\", \"x\": [\"White\", \"White\", \"White\", \"White\", \"White\", \"White\", \"White\", \"White\", \"White\", \"White\", \"White\", \"White\", \"White\", \"White\", \"White\", \"White\", \"White\", \"White\", \"White\", \"White\", \"White\", \"White\", \"White\"], \"xaxis\": \"x\", \"y\": [false, false, true, false, false, false, false, false, true, false, false, true, false, false, false, false, true, false, false, false, false, false, false], \"yaxis\": \"y\"}, {\"alignmentgroup\": \"True\", \"bingroup\": \"x\", \"hoverlabel\": {\"namelength\": 0}, \"hovertemplate\": \"Groups=%{x}<br>count of Number of Questions Submitted Late=%{y}\", \"legendgroup\": \"Groups=Purple\", \"marker\": {\"color\": \"mediumpurple\"}, \"name\": \"Groups=Purple\", \"offsetgroup\": \"Groups=Purple\", \"orientation\": \"v\", \"showlegend\": true, \"type\": \"histogram\", \"x\": [\"Purple\", \"Purple\", \"Purple\", \"Purple\", \"Purple\", \"Purple\", \"Purple\", \"Purple\", \"Purple\", \"Purple\", \"Purple\", \"Purple\", \"Purple\"], \"xaxis\": \"x\", \"y\": [false, false, false, false, true, false, true, false, false, false, false, false, false], \"yaxis\": \"y\"}],\n",
              "                        {\"barmode\": \"relative\", \"legend\": {\"tracegroupgap\": 0}, \"showlegend\": false, \"template\": {\"data\": {\"bar\": [{\"error_x\": {\"color\": \"#2a3f5f\"}, \"error_y\": {\"color\": \"#2a3f5f\"}, \"marker\": {\"line\": {\"color\": \"#E5ECF6\", \"width\": 0.5}}, \"type\": \"bar\"}], \"barpolar\": [{\"marker\": {\"line\": {\"color\": \"#E5ECF6\", \"width\": 0.5}}, \"type\": \"barpolar\"}], \"carpet\": [{\"aaxis\": {\"endlinecolor\": \"#2a3f5f\", \"gridcolor\": \"white\", \"linecolor\": \"white\", \"minorgridcolor\": \"white\", \"startlinecolor\": \"#2a3f5f\"}, \"baxis\": {\"endlinecolor\": \"#2a3f5f\", \"gridcolor\": \"white\", \"linecolor\": \"white\", \"minorgridcolor\": \"white\", \"startlinecolor\": \"#2a3f5f\"}, \"type\": \"carpet\"}], \"choropleth\": [{\"colorbar\": {\"outlinewidth\": 0, \"ticks\": \"\"}, \"type\": \"choropleth\"}], \"contour\": [{\"colorbar\": {\"outlinewidth\": 0, \"ticks\": \"\"}, \"colorscale\": [[0.0, \"#0d0887\"], [0.1111111111111111, \"#46039f\"], [0.2222222222222222, \"#7201a8\"], [0.3333333333333333, \"#9c179e\"], [0.4444444444444444, \"#bd3786\"], [0.5555555555555556, \"#d8576b\"], [0.6666666666666666, \"#ed7953\"], [0.7777777777777778, \"#fb9f3a\"], [0.8888888888888888, \"#fdca26\"], [1.0, \"#f0f921\"]], \"type\": \"contour\"}], \"contourcarpet\": [{\"colorbar\": {\"outlinewidth\": 0, \"ticks\": \"\"}, \"type\": \"contourcarpet\"}], \"heatmap\": [{\"colorbar\": {\"outlinewidth\": 0, \"ticks\": \"\"}, \"colorscale\": [[0.0, \"#0d0887\"], [0.1111111111111111, \"#46039f\"], [0.2222222222222222, \"#7201a8\"], [0.3333333333333333, \"#9c179e\"], [0.4444444444444444, \"#bd3786\"], [0.5555555555555556, \"#d8576b\"], [0.6666666666666666, \"#ed7953\"], [0.7777777777777778, \"#fb9f3a\"], [0.8888888888888888, \"#fdca26\"], [1.0, \"#f0f921\"]], \"type\": \"heatmap\"}], \"heatmapgl\": [{\"colorbar\": {\"outlinewidth\": 0, \"ticks\": \"\"}, \"colorscale\": [[0.0, \"#0d0887\"], [0.1111111111111111, \"#46039f\"], [0.2222222222222222, \"#7201a8\"], [0.3333333333333333, \"#9c179e\"], [0.4444444444444444, \"#bd3786\"], [0.5555555555555556, \"#d8576b\"], [0.6666666666666666, \"#ed7953\"], [0.7777777777777778, \"#fb9f3a\"], [0.8888888888888888, \"#fdca26\"], [1.0, \"#f0f921\"]], \"type\": \"heatmapgl\"}], \"histogram\": [{\"marker\": {\"colorbar\": {\"outlinewidth\": 0, \"ticks\": \"\"}}, \"type\": \"histogram\"}], \"histogram2d\": [{\"colorbar\": {\"outlinewidth\": 0, \"ticks\": \"\"}, \"colorscale\": [[0.0, \"#0d0887\"], [0.1111111111111111, \"#46039f\"], [0.2222222222222222, \"#7201a8\"], [0.3333333333333333, \"#9c179e\"], [0.4444444444444444, \"#bd3786\"], [0.5555555555555556, \"#d8576b\"], [0.6666666666666666, \"#ed7953\"], [0.7777777777777778, \"#fb9f3a\"], [0.8888888888888888, \"#fdca26\"], [1.0, \"#f0f921\"]], \"type\": \"histogram2d\"}], \"histogram2dcontour\": [{\"colorbar\": {\"outlinewidth\": 0, \"ticks\": \"\"}, \"colorscale\": [[0.0, \"#0d0887\"], [0.1111111111111111, \"#46039f\"], [0.2222222222222222, \"#7201a8\"], [0.3333333333333333, \"#9c179e\"], [0.4444444444444444, \"#bd3786\"], [0.5555555555555556, \"#d8576b\"], [0.6666666666666666, \"#ed7953\"], [0.7777777777777778, \"#fb9f3a\"], [0.8888888888888888, \"#fdca26\"], [1.0, \"#f0f921\"]], \"type\": \"histogram2dcontour\"}], \"mesh3d\": [{\"colorbar\": {\"outlinewidth\": 0, \"ticks\": \"\"}, \"type\": \"mesh3d\"}], \"parcoords\": [{\"line\": {\"colorbar\": {\"outlinewidth\": 0, \"ticks\": \"\"}}, \"type\": \"parcoords\"}], \"pie\": [{\"automargin\": true, \"type\": \"pie\"}], \"scatter\": [{\"marker\": {\"colorbar\": {\"outlinewidth\": 0, \"ticks\": \"\"}}, \"type\": \"scatter\"}], \"scatter3d\": [{\"line\": {\"colorbar\": {\"outlinewidth\": 0, \"ticks\": \"\"}}, \"marker\": {\"colorbar\": {\"outlinewidth\": 0, \"ticks\": \"\"}}, \"type\": \"scatter3d\"}], \"scattercarpet\": [{\"marker\": {\"colorbar\": {\"outlinewidth\": 0, \"ticks\": \"\"}}, \"type\": \"scattercarpet\"}], \"scattergeo\": [{\"marker\": {\"colorbar\": {\"outlinewidth\": 0, \"ticks\": \"\"}}, \"type\": \"scattergeo\"}], \"scattergl\": [{\"marker\": {\"colorbar\": {\"outlinewidth\": 0, \"ticks\": \"\"}}, \"type\": \"scattergl\"}], \"scattermapbox\": [{\"marker\": {\"colorbar\": {\"outlinewidth\": 0, \"ticks\": \"\"}}, \"type\": \"scattermapbox\"}], \"scatterpolar\": [{\"marker\": {\"colorbar\": {\"outlinewidth\": 0, \"ticks\": \"\"}}, \"type\": \"scatterpolar\"}], \"scatterpolargl\": [{\"marker\": {\"colorbar\": {\"outlinewidth\": 0, \"ticks\": \"\"}}, \"type\": \"scatterpolargl\"}], \"scatterternary\": [{\"marker\": {\"colorbar\": {\"outlinewidth\": 0, \"ticks\": \"\"}}, \"type\": \"scatterternary\"}], \"surface\": [{\"colorbar\": {\"outlinewidth\": 0, \"ticks\": \"\"}, \"colorscale\": [[0.0, \"#0d0887\"], [0.1111111111111111, \"#46039f\"], [0.2222222222222222, \"#7201a8\"], [0.3333333333333333, \"#9c179e\"], [0.4444444444444444, \"#bd3786\"], [0.5555555555555556, \"#d8576b\"], [0.6666666666666666, \"#ed7953\"], [0.7777777777777778, \"#fb9f3a\"], [0.8888888888888888, \"#fdca26\"], [1.0, \"#f0f921\"]], \"type\": \"surface\"}], \"table\": [{\"cells\": {\"fill\": {\"color\": \"#EBF0F8\"}, \"line\": {\"color\": \"white\"}}, \"header\": {\"fill\": {\"color\": \"#C8D4E3\"}, \"line\": {\"color\": \"white\"}}, \"type\": \"table\"}]}, \"layout\": {\"annotationdefaults\": {\"arrowcolor\": \"#2a3f5f\", \"arrowhead\": 0, \"arrowwidth\": 1}, \"coloraxis\": {\"colorbar\": {\"outlinewidth\": 0, \"ticks\": \"\"}}, \"colorscale\": {\"diverging\": [[0, \"#8e0152\"], [0.1, \"#c51b7d\"], [0.2, \"#de77ae\"], [0.3, \"#f1b6da\"], [0.4, \"#fde0ef\"], [0.5, \"#f7f7f7\"], [0.6, \"#e6f5d0\"], [0.7, \"#b8e186\"], [0.8, \"#7fbc41\"], [0.9, \"#4d9221\"], [1, \"#276419\"]], \"sequential\": [[0.0, \"#0d0887\"], [0.1111111111111111, \"#46039f\"], [0.2222222222222222, \"#7201a8\"], [0.3333333333333333, \"#9c179e\"], [0.4444444444444444, \"#bd3786\"], [0.5555555555555556, \"#d8576b\"], [0.6666666666666666, \"#ed7953\"], [0.7777777777777778, \"#fb9f3a\"], [0.8888888888888888, \"#fdca26\"], [1.0, \"#f0f921\"]], \"sequentialminus\": [[0.0, \"#0d0887\"], [0.1111111111111111, \"#46039f\"], [0.2222222222222222, \"#7201a8\"], [0.3333333333333333, \"#9c179e\"], [0.4444444444444444, \"#bd3786\"], [0.5555555555555556, \"#d8576b\"], [0.6666666666666666, \"#ed7953\"], [0.7777777777777778, \"#fb9f3a\"], [0.8888888888888888, \"#fdca26\"], [1.0, \"#f0f921\"]]}, \"colorway\": [\"#636efa\", \"#EF553B\", \"#00cc96\", \"#ab63fa\", \"#FFA15A\", \"#19d3f3\", \"#FF6692\", \"#B6E880\", \"#FF97FF\", \"#FECB52\"], \"font\": {\"color\": \"#2a3f5f\"}, \"geo\": {\"bgcolor\": \"white\", \"lakecolor\": \"white\", \"landcolor\": \"#E5ECF6\", \"showlakes\": true, \"showland\": true, \"subunitcolor\": \"white\"}, \"hoverlabel\": {\"align\": \"left\"}, \"hovermode\": \"closest\", \"mapbox\": {\"style\": \"light\"}, \"paper_bgcolor\": \"white\", \"plot_bgcolor\": \"#E5ECF6\", \"polar\": {\"angularaxis\": {\"gridcolor\": \"white\", \"linecolor\": \"white\", \"ticks\": \"\"}, \"bgcolor\": \"#E5ECF6\", \"radialaxis\": {\"gridcolor\": \"white\", \"linecolor\": \"white\", \"ticks\": \"\"}}, \"scene\": {\"xaxis\": {\"backgroundcolor\": \"#E5ECF6\", \"gridcolor\": \"white\", \"gridwidth\": 2, \"linecolor\": \"white\", \"showbackground\": true, \"ticks\": \"\", \"zerolinecolor\": \"white\"}, \"yaxis\": {\"backgroundcolor\": \"#E5ECF6\", \"gridcolor\": \"white\", \"gridwidth\": 2, \"linecolor\": \"white\", \"showbackground\": true, \"ticks\": \"\", \"zerolinecolor\": \"white\"}, \"zaxis\": {\"backgroundcolor\": \"#E5ECF6\", \"gridcolor\": \"white\", \"gridwidth\": 2, \"linecolor\": \"white\", \"showbackground\": true, \"ticks\": \"\", \"zerolinecolor\": \"white\"}}, \"shapedefaults\": {\"line\": {\"color\": \"#2a3f5f\"}}, \"ternary\": {\"aaxis\": {\"gridcolor\": \"white\", \"linecolor\": \"white\", \"ticks\": \"\"}, \"baxis\": {\"gridcolor\": \"white\", \"linecolor\": \"white\", \"ticks\": \"\"}, \"bgcolor\": \"#E5ECF6\", \"caxis\": {\"gridcolor\": \"white\", \"linecolor\": \"white\", \"ticks\": \"\"}}, \"title\": {\"x\": 0.05}, \"xaxis\": {\"automargin\": true, \"gridcolor\": \"white\", \"linecolor\": \"white\", \"ticks\": \"\", \"title\": {\"standoff\": 15}, \"zerolinecolor\": \"white\", \"zerolinewidth\": 2}, \"yaxis\": {\"automargin\": true, \"gridcolor\": \"white\", \"linecolor\": \"white\", \"ticks\": \"\", \"title\": {\"standoff\": 15}, \"zerolinecolor\": \"white\", \"zerolinewidth\": 2}}}, \"title\": {\"text\": \"Distribution of late questions in each team\"}, \"xaxis\": {\"anchor\": \"y\", \"categoryarray\": [\"Black\", \"Blue\", \"Brown\", \"Green\", \"Pink\", \"Red\", \"Yellow\", \"White\", \"Purple\"], \"categoryorder\": \"array\", \"domain\": [0.0, 1.0], \"title\": {\"text\": \"Groups\"}}, \"yaxis\": {\"anchor\": \"x\", \"domain\": [0.0, 1.0], \"title\": {\"text\": \"count of Number of Questions Submitted Late\"}}},\n",
              "                        {\"responsive\": true}\n",
              "                    ).then(function(){\n",
              "                            \n",
              "var gd = document.getElementById('b7aa0778-33d1-430c-af28-2332eb4384e8');\n",
              "var x = new MutationObserver(function (mutations, observer) {{\n",
              "        var display = window.getComputedStyle(gd).display;\n",
              "        if (!display || display === 'none') {{\n",
              "            console.log([gd, 'removed!']);\n",
              "            Plotly.purge(gd);\n",
              "            observer.disconnect();\n",
              "        }}\n",
              "}});\n",
              "\n",
              "// Listen for the removal of the full notebook cells\n",
              "var notebookContainer = gd.closest('#notebook-container');\n",
              "if (notebookContainer) {{\n",
              "    x.observe(notebookContainer, {childList: true});\n",
              "}}\n",
              "\n",
              "// Listen for the clearing of the current output cell\n",
              "var outputEl = gd.closest('.output');\n",
              "if (outputEl) {{\n",
              "    x.observe(outputEl, {childList: true});\n",
              "}}\n",
              "\n",
              "                        })\n",
              "                };\n",
              "                \n",
              "            </script>\n",
              "        </div>\n",
              "</body>\n",
              "</html>"
            ]
          },
          "metadata": {
            "tags": []
          }
        }
      ]
    },
    {
      "cell_type": "markdown",
      "metadata": {
        "id": "fCf3zvyXcgcM"
      },
      "source": [
        "### Proportion of team who were late\n",
        "- Below is a graph showing the Proportion of the team members who were late\n",
        "- This is calcualted by (number of late team members) / (number of total team members)\n",
        "- Yellow has the highest % of lately submitted comments"
      ]
    },
    {
      "cell_type": "code",
      "metadata": {
        "id": "a5rvBxzHchfP",
        "outputId": "b83471a7-806c-44b4-de84-1aa2e561c11c",
        "colab": {
          "base_uri": "https://localhost:8080/",
          "height": 333
        }
      },
      "source": [
        "c4usercourses[c4usercourses['team'] == 'Pink']\n",
        "team_latenes_boolean[team_latenes_boolean['team'] == 'Pink']\n",
        "\n",
        "# Find number of members late and size of each team\n",
        "members_late1 = team_latenes_boolean[[\"team\", \"late\"]].groupby(\"team\").sum()\n",
        "team_size1 = team_latenes_boolean[[\"team\", \"user_id\"]].groupby(\"team\").nunique()\n",
        "\n",
        "members_late1[\"num_members\"] = team_size\n",
        "members_late1[\"perc_late\"] = members_late1[\"late\"] / members_late1[\"num_members\"] \n",
        "members_late1 = members_late1.reset_index()\n",
        "members_late1[[\"team\", \"perc_late\"]].plot.bar(x=\"team\", title=\"proportion of members in the team who made a late comment in cycles 1 and 2\", ylabel=\"proportion\")"
      ],
      "execution_count": 245,
      "outputs": [
        {
          "output_type": "execute_result",
          "data": {
            "text/plain": [
              "<matplotlib.axes._subplots.AxesSubplot at 0x7fbcfd6b3c18>"
            ]
          },
          "metadata": {
            "tags": []
          },
          "execution_count": 245
        },
        {
          "output_type": "display_data",
          "data": {
            "image/png": "[encoded data removed]",
            "text/plain": [
              "<Figure size 432x288 with 1 Axes>"
            ]
          },
          "metadata": {
            "tags": [],
            "needs_background": "light"
          }
        }
      ]
    },
    {
      "cell_type": "code",
      "metadata": {
        "id": "gVG2D3sjrELj",
        "outputId": "2d5c22b8-faf0-48c4-d93a-24b0ff0c483d",
        "colab": {
          "base_uri": "https://localhost:8080/",
          "height": 542
        }
      },
      "source": [
        "\n",
        "\n",
        "# Authors: Charlie and Johanna\n",
        "# Supporter: Tash \n",
        "# Date: \n",
        "fig = px.bar(members_late1,x=\"team\",y=\"perc_late\",color = \"team\", color_discrete_map = {'Pink': 'hotpink','Green': 'mediumseagreen', 'Yellow': 'gold','Black': 'black','Blue': 'royalblue','Red': 'tomato', 'Brown': 'peru', 'White': 'white','Purple': 'mediumpurple'}, title = \"Proportion of members in the team who made a late question in cycles 1 and 2\",labels={\n",
        "                     \"team\": \"Groups\",\n",
        "                     \"perc_late\": \"Percentage of Comments submitted late\"})\n",
        "\n",
        "fig.update_layout(showlegend=False) "
      ],
      "execution_count": 246,
      "outputs": [
        {
          "output_type": "display_data",
          "data": {
            "text/html": [
              "<html>\n",
              "<head><meta charset=\"utf-8\" /></head>\n",
              "<body>\n",
              "    <div>\n",
              "            <script src=\"https://cdnjs.cloudflare.com/ajax/libs/mathjax/2.7.5/MathJax.js?config=TeX-AMS-MML_SVG\"></script><script type=\"text/javascript\">if (window.MathJax) {MathJax.Hub.Config({SVG: {font: \"STIX-Web\"}});}</script>\n",
              "                <script type=\"text/javascript\">window.PlotlyConfig = {MathJaxConfig: 'local'};</script>\n",
              "        <script src=\"https://cdn.plot.ly/plotly-latest.min.js\"></script>    \n",
              "            <div id=\"cdcd54e3-e973-4fe1-970d-d025118b2712\" class=\"plotly-graph-div\" style=\"height:525px; width:100%;\"></div>\n",
              "            <script type=\"text/javascript\">\n",
              "                \n",
              "                    window.PLOTLYENV=window.PLOTLYENV || {};\n",
              "                    \n",
              "                if (document.getElementById(\"cdcd54e3-e973-4fe1-970d-d025118b2712\")) {\n",
              "                    Plotly.newPlot(\n",
              "                        'cdcd54e3-e973-4fe1-970d-d025118b2712',\n",
              "                        [{\"alignmentgroup\": \"True\", \"hoverlabel\": {\"namelength\": 0}, \"hovertemplate\": \"Groups=%{x}<br>Percentage of questions submitted late=%{y}\", \"legendgroup\": \"Groups=Black\", \"marker\": {\"color\": \"black\"}, \"name\": \"Groups=Black\", \"offsetgroup\": \"Groups=Black\", \"orientation\": \"v\", \"showlegend\": true, \"textposition\": \"auto\", \"type\": \"bar\", \"x\": [\"Black\"], \"xaxis\": \"x\", \"y\": [0.3235294117647059], \"yaxis\": \"y\"}, {\"alignmentgroup\": \"True\", \"hoverlabel\": {\"namelength\": 0}, \"hovertemplate\": \"Groups=%{x}<br>Percentage of questions submitted late=%{y}\", \"legendgroup\": \"Groups=Blue\", \"marker\": {\"color\": \"royalblue\"}, \"name\": \"Groups=Blue\", \"offsetgroup\": \"Groups=Blue\", \"orientation\": \"v\", \"showlegend\": true, \"textposition\": \"auto\", \"type\": \"bar\", \"x\": [\"Blue\"], \"xaxis\": \"x\", \"y\": [0.30303030303030304], \"yaxis\": \"y\"}, {\"alignmentgroup\": \"True\", \"hoverlabel\": {\"namelength\": 0}, \"hovertemplate\": \"Groups=%{x}<br>Percentage of questions submitted late=%{y}\", \"legendgroup\": \"Groups=Brown\", \"marker\": {\"color\": \"peru\"}, \"name\": \"Groups=Brown\", \"offsetgroup\": \"Groups=Brown\", \"orientation\": \"v\", \"showlegend\": true, \"textposition\": \"auto\", \"type\": \"bar\", \"x\": [\"Brown\"], \"xaxis\": \"x\", \"y\": [0.18181818181818182], \"yaxis\": \"y\"}, {\"alignmentgroup\": \"True\", \"hoverlabel\": {\"namelength\": 0}, \"hovertemplate\": \"Groups=%{x}<br>Percentage of questions submitted late=%{y}\", \"legendgroup\": \"Groups=Green\", \"marker\": {\"color\": \"mediumseagreen\"}, \"name\": \"Groups=Green\", \"offsetgroup\": \"Groups=Green\", \"orientation\": \"v\", \"showlegend\": true, \"textposition\": \"auto\", \"type\": \"bar\", \"x\": [\"Green\"], \"xaxis\": \"x\", \"y\": [0.39473684210526316], \"yaxis\": \"y\"}, {\"alignmentgroup\": \"True\", \"hoverlabel\": {\"namelength\": 0}, \"hovertemplate\": \"Groups=%{x}<br>Percentage of questions submitted late=%{y}\", \"legendgroup\": \"Groups=Pink\", \"marker\": {\"color\": \"hotpink\"}, \"name\": \"Groups=Pink\", \"offsetgroup\": \"Groups=Pink\", \"orientation\": \"v\", \"showlegend\": true, \"textposition\": \"auto\", \"type\": \"bar\", \"x\": [\"Pink\"], \"xaxis\": \"x\", \"y\": [0.3783783783783784], \"yaxis\": \"y\"}, {\"alignmentgroup\": \"True\", \"hoverlabel\": {\"namelength\": 0}, \"hovertemplate\": \"Groups=%{x}<br>Percentage of questions submitted late=%{y}\", \"legendgroup\": \"Groups=Purple\", \"marker\": {\"color\": \"mediumpurple\"}, \"name\": \"Groups=Purple\", \"offsetgroup\": \"Groups=Purple\", \"orientation\": \"v\", \"showlegend\": true, \"textposition\": \"auto\", \"type\": \"bar\", \"x\": [\"Purple\"], \"xaxis\": \"x\", \"y\": [0.15384615384615385], \"yaxis\": \"y\"}, {\"alignmentgroup\": \"True\", \"hoverlabel\": {\"namelength\": 0}, \"hovertemplate\": \"Groups=%{x}<br>Percentage of questions submitted late=%{y}\", \"legendgroup\": \"Groups=Red\", \"marker\": {\"color\": \"tomato\"}, \"name\": \"Groups=Red\", \"offsetgroup\": \"Groups=Red\", \"orientation\": \"v\", \"showlegend\": true, \"textposition\": \"auto\", \"type\": \"bar\", \"x\": [\"Red\"], \"xaxis\": \"x\", \"y\": [0.3333333333333333], \"yaxis\": \"y\"}, {\"alignmentgroup\": \"True\", \"hoverlabel\": {\"namelength\": 0}, \"hovertemplate\": \"Groups=%{x}<br>Percentage of questions submitted late=%{y}\", \"legendgroup\": \"Groups=White\", \"marker\": {\"color\": \"white\"}, \"name\": \"Groups=White\", \"offsetgroup\": \"Groups=White\", \"orientation\": \"v\", \"showlegend\": true, \"textposition\": \"auto\", \"type\": \"bar\", \"x\": [\"White\"], \"xaxis\": \"x\", \"y\": [0.17391304347826086], \"yaxis\": \"y\"}, {\"alignmentgroup\": \"True\", \"hoverlabel\": {\"namelength\": 0}, \"hovertemplate\": \"Groups=%{x}<br>Percentage of questions submitted late=%{y}\", \"legendgroup\": \"Groups=Yellow\", \"marker\": {\"color\": \"gold\"}, \"name\": \"Groups=Yellow\", \"offsetgroup\": \"Groups=Yellow\", \"orientation\": \"v\", \"showlegend\": true, \"textposition\": \"auto\", \"type\": \"bar\", \"x\": [\"Yellow\"], \"xaxis\": \"x\", \"y\": [0.43333333333333335], \"yaxis\": \"y\"}],\n",
              "                        {\"barmode\": \"relative\", \"legend\": {\"tracegroupgap\": 0}, \"showlegend\": false, \"template\": {\"data\": {\"bar\": [{\"error_x\": {\"color\": \"#2a3f5f\"}, \"error_y\": {\"color\": \"#2a3f5f\"}, \"marker\": {\"line\": {\"color\": \"#E5ECF6\", \"width\": 0.5}}, \"type\": \"bar\"}], \"barpolar\": [{\"marker\": {\"line\": {\"color\": \"#E5ECF6\", \"width\": 0.5}}, \"type\": \"barpolar\"}], \"carpet\": [{\"aaxis\": {\"endlinecolor\": \"#2a3f5f\", \"gridcolor\": \"white\", \"linecolor\": \"white\", \"minorgridcolor\": \"white\", \"startlinecolor\": \"#2a3f5f\"}, \"baxis\": {\"endlinecolor\": \"#2a3f5f\", \"gridcolor\": \"white\", \"linecolor\": \"white\", \"minorgridcolor\": \"white\", \"startlinecolor\": \"#2a3f5f\"}, \"type\": \"carpet\"}], \"choropleth\": [{\"colorbar\": {\"outlinewidth\": 0, \"ticks\": \"\"}, \"type\": \"choropleth\"}], \"contour\": [{\"colorbar\": {\"outlinewidth\": 0, \"ticks\": \"\"}, \"colorscale\": [[0.0, \"#0d0887\"], [0.1111111111111111, \"#46039f\"], [0.2222222222222222, \"#7201a8\"], [0.3333333333333333, \"#9c179e\"], [0.4444444444444444, \"#bd3786\"], [0.5555555555555556, \"#d8576b\"], [0.6666666666666666, \"#ed7953\"], [0.7777777777777778, \"#fb9f3a\"], [0.8888888888888888, \"#fdca26\"], [1.0, \"#f0f921\"]], \"type\": \"contour\"}], \"contourcarpet\": [{\"colorbar\": {\"outlinewidth\": 0, \"ticks\": \"\"}, \"type\": \"contourcarpet\"}], \"heatmap\": [{\"colorbar\": {\"outlinewidth\": 0, \"ticks\": \"\"}, \"colorscale\": [[0.0, \"#0d0887\"], [0.1111111111111111, \"#46039f\"], [0.2222222222222222, \"#7201a8\"], [0.3333333333333333, \"#9c179e\"], [0.4444444444444444, \"#bd3786\"], [0.5555555555555556, \"#d8576b\"], [0.6666666666666666, \"#ed7953\"], [0.7777777777777778, \"#fb9f3a\"], [0.8888888888888888, \"#fdca26\"], [1.0, \"#f0f921\"]], \"type\": \"heatmap\"}], \"heatmapgl\": [{\"colorbar\": {\"outlinewidth\": 0, \"ticks\": \"\"}, \"colorscale\": [[0.0, \"#0d0887\"], [0.1111111111111111, \"#46039f\"], [0.2222222222222222, \"#7201a8\"], [0.3333333333333333, \"#9c179e\"], [0.4444444444444444, \"#bd3786\"], [0.5555555555555556, \"#d8576b\"], [0.6666666666666666, \"#ed7953\"], [0.7777777777777778, \"#fb9f3a\"], [0.8888888888888888, \"#fdca26\"], [1.0, \"#f0f921\"]], \"type\": \"heatmapgl\"}], \"histogram\": [{\"marker\": {\"colorbar\": {\"outlinewidth\": 0, \"ticks\": \"\"}}, \"type\": \"histogram\"}], \"histogram2d\": [{\"colorbar\": {\"outlinewidth\": 0, \"ticks\": \"\"}, \"colorscale\": [[0.0, \"#0d0887\"], [0.1111111111111111, \"#46039f\"], [0.2222222222222222, \"#7201a8\"], [0.3333333333333333, \"#9c179e\"], [0.4444444444444444, \"#bd3786\"], [0.5555555555555556, \"#d8576b\"], [0.6666666666666666, \"#ed7953\"], [0.7777777777777778, \"#fb9f3a\"], [0.8888888888888888, \"#fdca26\"], [1.0, \"#f0f921\"]], \"type\": \"histogram2d\"}], \"histogram2dcontour\": [{\"colorbar\": {\"outlinewidth\": 0, \"ticks\": \"\"}, \"colorscale\": [[0.0, \"#0d0887\"], [0.1111111111111111, \"#46039f\"], [0.2222222222222222, \"#7201a8\"], [0.3333333333333333, \"#9c179e\"], [0.4444444444444444, \"#bd3786\"], [0.5555555555555556, \"#d8576b\"], [0.6666666666666666, \"#ed7953\"], [0.7777777777777778, \"#fb9f3a\"], [0.8888888888888888, \"#fdca26\"], [1.0, \"#f0f921\"]], \"type\": \"histogram2dcontour\"}], \"mesh3d\": [{\"colorbar\": {\"outlinewidth\": 0, \"ticks\": \"\"}, \"type\": \"mesh3d\"}], \"parcoords\": [{\"line\": {\"colorbar\": {\"outlinewidth\": 0, \"ticks\": \"\"}}, \"type\": \"parcoords\"}], \"pie\": [{\"automargin\": true, \"type\": \"pie\"}], \"scatter\": [{\"marker\": {\"colorbar\": {\"outlinewidth\": 0, \"ticks\": \"\"}}, \"type\": \"scatter\"}], \"scatter3d\": [{\"line\": {\"colorbar\": {\"outlinewidth\": 0, \"ticks\": \"\"}}, \"marker\": {\"colorbar\": {\"outlinewidth\": 0, \"ticks\": \"\"}}, \"type\": \"scatter3d\"}], \"scattercarpet\": [{\"marker\": {\"colorbar\": {\"outlinewidth\": 0, \"ticks\": \"\"}}, \"type\": \"scattercarpet\"}], \"scattergeo\": [{\"marker\": {\"colorbar\": {\"outlinewidth\": 0, \"ticks\": \"\"}}, \"type\": \"scattergeo\"}], \"scattergl\": [{\"marker\": {\"colorbar\": {\"outlinewidth\": 0, \"ticks\": \"\"}}, \"type\": \"scattergl\"}], \"scattermapbox\": [{\"marker\": {\"colorbar\": {\"outlinewidth\": 0, \"ticks\": \"\"}}, \"type\": \"scattermapbox\"}], \"scatterpolar\": [{\"marker\": {\"colorbar\": {\"outlinewidth\": 0, \"ticks\": \"\"}}, \"type\": \"scatterpolar\"}], \"scatterpolargl\": [{\"marker\": {\"colorbar\": {\"outlinewidth\": 0, \"ticks\": \"\"}}, \"type\": \"scatterpolargl\"}], \"scatterternary\": [{\"marker\": {\"colorbar\": {\"outlinewidth\": 0, \"ticks\": \"\"}}, \"type\": \"scatterternary\"}], \"surface\": [{\"colorbar\": {\"outlinewidth\": 0, \"ticks\": \"\"}, \"colorscale\": [[0.0, \"#0d0887\"], [0.1111111111111111, \"#46039f\"], [0.2222222222222222, \"#7201a8\"], [0.3333333333333333, \"#9c179e\"], [0.4444444444444444, \"#bd3786\"], [0.5555555555555556, \"#d8576b\"], [0.6666666666666666, \"#ed7953\"], [0.7777777777777778, \"#fb9f3a\"], [0.8888888888888888, \"#fdca26\"], [1.0, \"#f0f921\"]], \"type\": \"surface\"}], \"table\": [{\"cells\": {\"fill\": {\"color\": \"#EBF0F8\"}, \"line\": {\"color\": \"white\"}}, \"header\": {\"fill\": {\"color\": \"#C8D4E3\"}, \"line\": {\"color\": \"white\"}}, \"type\": \"table\"}]}, \"layout\": {\"annotationdefaults\": {\"arrowcolor\": \"#2a3f5f\", \"arrowhead\": 0, \"arrowwidth\": 1}, \"coloraxis\": {\"colorbar\": {\"outlinewidth\": 0, \"ticks\": \"\"}}, \"colorscale\": {\"diverging\": [[0, \"#8e0152\"], [0.1, \"#c51b7d\"], [0.2, \"#de77ae\"], [0.3, \"#f1b6da\"], [0.4, \"#fde0ef\"], [0.5, \"#f7f7f7\"], [0.6, \"#e6f5d0\"], [0.7, \"#b8e186\"], [0.8, \"#7fbc41\"], [0.9, \"#4d9221\"], [1, \"#276419\"]], \"sequential\": [[0.0, \"#0d0887\"], [0.1111111111111111, \"#46039f\"], [0.2222222222222222, \"#7201a8\"], [0.3333333333333333, \"#9c179e\"], [0.4444444444444444, \"#bd3786\"], [0.5555555555555556, \"#d8576b\"], [0.6666666666666666, \"#ed7953\"], [0.7777777777777778, \"#fb9f3a\"], [0.8888888888888888, \"#fdca26\"], [1.0, \"#f0f921\"]], \"sequentialminus\": [[0.0, \"#0d0887\"], [0.1111111111111111, \"#46039f\"], [0.2222222222222222, \"#7201a8\"], [0.3333333333333333, \"#9c179e\"], [0.4444444444444444, \"#bd3786\"], [0.5555555555555556, \"#d8576b\"], [0.6666666666666666, \"#ed7953\"], [0.7777777777777778, \"#fb9f3a\"], [0.8888888888888888, \"#fdca26\"], [1.0, \"#f0f921\"]]}, \"colorway\": [\"#636efa\", \"#EF553B\", \"#00cc96\", \"#ab63fa\", \"#FFA15A\", \"#19d3f3\", \"#FF6692\", \"#B6E880\", \"#FF97FF\", \"#FECB52\"], \"font\": {\"color\": \"#2a3f5f\"}, \"geo\": {\"bgcolor\": \"white\", \"lakecolor\": \"white\", \"landcolor\": \"#E5ECF6\", \"showlakes\": true, \"showland\": true, \"subunitcolor\": \"white\"}, \"hoverlabel\": {\"align\": \"left\"}, \"hovermode\": \"closest\", \"mapbox\": {\"style\": \"light\"}, \"paper_bgcolor\": \"white\", \"plot_bgcolor\": \"#E5ECF6\", \"polar\": {\"angularaxis\": {\"gridcolor\": \"white\", \"linecolor\": \"white\", \"ticks\": \"\"}, \"bgcolor\": \"#E5ECF6\", \"radialaxis\": {\"gridcolor\": \"white\", \"linecolor\": \"white\", \"ticks\": \"\"}}, \"scene\": {\"xaxis\": {\"backgroundcolor\": \"#E5ECF6\", \"gridcolor\": \"white\", \"gridwidth\": 2, \"linecolor\": \"white\", \"showbackground\": true, \"ticks\": \"\", \"zerolinecolor\": \"white\"}, \"yaxis\": {\"backgroundcolor\": \"#E5ECF6\", \"gridcolor\": \"white\", \"gridwidth\": 2, \"linecolor\": \"white\", \"showbackground\": true, \"ticks\": \"\", \"zerolinecolor\": \"white\"}, \"zaxis\": {\"backgroundcolor\": \"#E5ECF6\", \"gridcolor\": \"white\", \"gridwidth\": 2, \"linecolor\": \"white\", \"showbackground\": true, \"ticks\": \"\", \"zerolinecolor\": \"white\"}}, \"shapedefaults\": {\"line\": {\"color\": \"#2a3f5f\"}}, \"ternary\": {\"aaxis\": {\"gridcolor\": \"white\", \"linecolor\": \"white\", \"ticks\": \"\"}, \"baxis\": {\"gridcolor\": \"white\", \"linecolor\": \"white\", \"ticks\": \"\"}, \"bgcolor\": \"#E5ECF6\", \"caxis\": {\"gridcolor\": \"white\", \"linecolor\": \"white\", \"ticks\": \"\"}}, \"title\": {\"x\": 0.05}, \"xaxis\": {\"automargin\": true, \"gridcolor\": \"white\", \"linecolor\": \"white\", \"ticks\": \"\", \"title\": {\"standoff\": 15}, \"zerolinecolor\": \"white\", \"zerolinewidth\": 2}, \"yaxis\": {\"automargin\": true, \"gridcolor\": \"white\", \"linecolor\": \"white\", \"ticks\": \"\", \"title\": {\"standoff\": 15}, \"zerolinecolor\": \"white\", \"zerolinewidth\": 2}}}, \"title\": {\"text\": \"Proportion of members in the team who made a late question in cycles 1 and 2\"}, \"xaxis\": {\"anchor\": \"y\", \"categoryarray\": [\"Black\", \"Blue\", \"Brown\", \"Green\", \"Pink\", \"Purple\", \"Red\", \"White\", \"Yellow\"], \"categoryorder\": \"array\", \"domain\": [0.0, 1.0], \"title\": {\"text\": \"Groups\"}}, \"yaxis\": {\"anchor\": \"x\", \"domain\": [0.0, 1.0], \"title\": {\"text\": \"Percentage of questions submitted late\"}}},\n",
              "                        {\"responsive\": true}\n",
              "                    ).then(function(){\n",
              "                            \n",
              "var gd = document.getElementById('cdcd54e3-e973-4fe1-970d-d025118b2712');\n",
              "var x = new MutationObserver(function (mutations, observer) {{\n",
              "        var display = window.getComputedStyle(gd).display;\n",
              "        if (!display || display === 'none') {{\n",
              "            console.log([gd, 'removed!']);\n",
              "            Plotly.purge(gd);\n",
              "            observer.disconnect();\n",
              "        }}\n",
              "}});\n",
              "\n",
              "// Listen for the removal of the full notebook cells\n",
              "var notebookContainer = gd.closest('#notebook-container');\n",
              "if (notebookContainer) {{\n",
              "    x.observe(notebookContainer, {childList: true});\n",
              "}}\n",
              "\n",
              "// Listen for the clearing of the current output cell\n",
              "var outputEl = gd.closest('.output');\n",
              "if (outputEl) {{\n",
              "    x.observe(outputEl, {childList: true});\n",
              "}}\n",
              "\n",
              "                        })\n",
              "                };\n",
              "                \n",
              "            </script>\n",
              "        </div>\n",
              "</body>\n",
              "</html>"
            ]
          },
          "metadata": {
            "tags": []
          }
        }
      ]
    },
    {
      "cell_type": "markdown",
      "metadata": {
        "id": "cPKRYbmWwpI7"
      },
      "source": [
        "## Quality of Comment\n",
        "- Abdullah's file"
      ]
    }
  ]
}
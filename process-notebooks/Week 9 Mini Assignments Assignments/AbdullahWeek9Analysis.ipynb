{
 "cells": [
  {
   "cell_type": "markdown",
   "metadata": {},
   "source": [
    "# Abdullah Week 9 Mini-Assignment"
   ]
  },
  {
   "cell_type": "markdown",
   "metadata": {},
   "source": [
    "#### The starting (and core) goal is to answer the question: What are the impacts of the group membership for performance using PeerWise."
   ]
  },
  {
   "cell_type": "markdown",
   "metadata": {},
   "source": [
    "To investigate the core of topic two, we can determine the best groups by academic mark and then compare that to groups with the most comments and best average ratings."
   ]
  },
  {
   "cell_type": "code",
   "execution_count": 54,
   "metadata": {},
   "outputs": [],
   "source": [
    "import pandas as pd\n",
    "import numpy as np\n",
    "import io\n",
    "import matplotlib.pyplot as plt"
   ]
  },
  {
   "cell_type": "markdown",
   "metadata": {},
   "source": [
    "#### What groups produced the best questions?"
   ]
  },
  {
   "cell_type": "markdown",
   "metadata": {},
   "source": [
    "We need to load the data:"
   ]
  },
  {
   "cell_type": "code",
   "execution_count": 96,
   "metadata": {},
   "outputs": [],
   "source": [
    "courses = pd.read_excel(r\"C:\\Users\\safia\\OneDrive\\Documents\\2020 SEMESTER 2\\DATA3406\\ass2\\DATA3406-Assignment-2\\data\\C4Courses.xlsx\")\n",
    "comments = pd.read_excel(r\"C:\\Users\\safia\\OneDrive\\Documents\\2020 SEMESTER 2\\DATA3406\\ass2\\DATA3406-Assignment-2\\data\\C4Comments.xlsx\")\n",
    "groups = pd.read_excel(r\"C:\\Users\\safia\\OneDrive\\Documents\\2020 SEMESTER 2\\DATA3406\\ass2\\DATA3406-Assignment-2\\data\\C4UsersCourses.xlsx\")\n",
    "questions = pd.read_excel(r\"C:\\Users\\safia\\OneDrive\\Documents\\2020 SEMESTER 2\\DATA3406\\ass2\\DATA3406-Assignment-2\\data\\C4Questions.xlsx\")"
   ]
  },
  {
   "cell_type": "markdown",
   "metadata": {},
   "source": [
    "To determine what teams had the best academic mark we can perform a join between questions and groups:"
   ]
  },
  {
   "cell_type": "code",
   "execution_count": 95,
   "metadata": {},
   "outputs": [
    {
     "data": {
      "text/html": [
       "<div>\n",
       "<style scoped>\n",
       "    .dataframe tbody tr th:only-of-type {\n",
       "        vertical-align: middle;\n",
       "    }\n",
       "\n",
       "    .dataframe tbody tr th {\n",
       "        vertical-align: top;\n",
       "    }\n",
       "\n",
       "    .dataframe thead th {\n",
       "        text-align: right;\n",
       "    }\n",
       "</style>\n",
       "<table border=\"1\" class=\"dataframe\">\n",
       "  <thead>\n",
       "    <tr style=\"text-align: right;\">\n",
       "      <th></th>\n",
       "      <th>avg_rating</th>\n",
       "      <th>AcademicMark</th>\n",
       "      <th>total_comments</th>\n",
       "    </tr>\n",
       "    <tr>\n",
       "      <th>Team</th>\n",
       "      <th></th>\n",
       "      <th></th>\n",
       "      <th></th>\n",
       "    </tr>\n",
       "  </thead>\n",
       "  <tbody>\n",
       "    <tr>\n",
       "      <th>Purple</th>\n",
       "      <td>3.085806</td>\n",
       "      <td>4.058824</td>\n",
       "      <td>4.129032</td>\n",
       "    </tr>\n",
       "    <tr>\n",
       "      <th>White</th>\n",
       "      <td>3.070000</td>\n",
       "      <td>4.041667</td>\n",
       "      <td>3.957447</td>\n",
       "    </tr>\n",
       "    <tr>\n",
       "      <th>Blue</th>\n",
       "      <td>3.160870</td>\n",
       "      <td>4.000000</td>\n",
       "      <td>4.014493</td>\n",
       "    </tr>\n",
       "    <tr>\n",
       "      <th>Red</th>\n",
       "      <td>3.058750</td>\n",
       "      <td>3.842105</td>\n",
       "      <td>5.031250</td>\n",
       "    </tr>\n",
       "    <tr>\n",
       "      <th>Green</th>\n",
       "      <td>3.087536</td>\n",
       "      <td>3.783784</td>\n",
       "      <td>4.884058</td>\n",
       "    </tr>\n",
       "    <tr>\n",
       "      <th>Pink</th>\n",
       "      <td>2.986400</td>\n",
       "      <td>3.763158</td>\n",
       "      <td>4.253333</td>\n",
       "    </tr>\n",
       "    <tr>\n",
       "      <th>Black</th>\n",
       "      <td>2.974687</td>\n",
       "      <td>3.611111</td>\n",
       "      <td>4.359375</td>\n",
       "    </tr>\n",
       "    <tr>\n",
       "      <th>Yellow</th>\n",
       "      <td>2.848500</td>\n",
       "      <td>3.580645</td>\n",
       "      <td>3.950000</td>\n",
       "    </tr>\n",
       "    <tr>\n",
       "      <th>Brown</th>\n",
       "      <td>2.881053</td>\n",
       "      <td>3.447368</td>\n",
       "      <td>4.070175</td>\n",
       "    </tr>\n",
       "  </tbody>\n",
       "</table>\n",
       "</div>"
      ],
      "text/plain": [
       "        avg_rating  AcademicMark  total_comments\n",
       "Team                                            \n",
       "Purple    3.085806      4.058824        4.129032\n",
       "White     3.070000      4.041667        3.957447\n",
       "Blue      3.160870      4.000000        4.014493\n",
       "Red       3.058750      3.842105        5.031250\n",
       "Green     3.087536      3.783784        4.884058\n",
       "Pink      2.986400      3.763158        4.253333\n",
       "Black     2.974687      3.611111        4.359375\n",
       "Yellow    2.848500      3.580645        3.950000\n",
       "Brown     2.881053      3.447368        4.070175"
      ]
     },
     "execution_count": 95,
     "metadata": {},
     "output_type": "execute_result"
    }
   ],
   "source": [
    "team_questions = questions[['user','avg_rating', 'AcademicMark', 'total_comments']].merge(groups[['user','Team']], on='user', how='inner')\n",
    "group_question_marks = team_questions.groupby('Team').mean().drop(columns = ['user']).sort_values('AcademicMark', ascending = False)\n",
    "group_question_marks"
   ]
  },
  {
   "cell_type": "markdown",
   "metadata": {},
   "source": [
    "The dataframe group_question_marks displays the average academic mark of the questions for each group. We can put this into a bar plot to visualize it."
   ]
  },
  {
   "cell_type": "code",
   "execution_count": 78,
   "metadata": {},
   "outputs": [
    {
     "data": {
      "image/png": "[encoded data removed]",
      "text/plain": [
       "<Figure size 432x288 with 1 Axes>"
      ]
     },
     "metadata": {
      "needs_background": "light"
     },
     "output_type": "display_data"
    }
   ],
   "source": [
    "x = ['Purple', 'White','Blue','Red','Green','Pink','Black','Yellow', 'Brown']\n",
    "plt.bar(x,group_question_marks['AcademicMark'])\n",
    "plt.plot()\n",
    "plt.title(\"Groups vs Question Mark\")\n",
    "plt.show()"
   ]
  },
  {
   "cell_type": "markdown",
   "metadata": {},
   "source": [
    "It is clear that brown did the worst and purple did the best, but why? "
   ]
  },
  {
   "cell_type": "markdown",
   "metadata": {},
   "source": [
    "We can also view how well groups did against ratings:"
   ]
  },
  {
   "cell_type": "code",
   "execution_count": 84,
   "metadata": {},
   "outputs": [
    {
     "data": {
      "image/png": "[encoded data removed]",
      "text/plain": [
       "<Figure size 432x288 with 1 Axes>"
      ]
     },
     "metadata": {
      "needs_background": "light"
     },
     "output_type": "display_data"
    }
   ],
   "source": [
    "plt.bar(x,group_question_marks['avg_rating'])\n",
    "plt.plot()\n",
    "plt.title(\"Groups vs Average Rating\")\n",
    "plt.show()"
   ]
  },
  {
   "cell_type": "markdown",
   "metadata": {},
   "source": [
    "The groups are quite evened out through ratings, which does not tell us much. "
   ]
  },
  {
   "cell_type": "markdown",
   "metadata": {},
   "source": [
    "#### Did the total comments on questions impact a groups performance?\n"
   ]
  },
  {
   "cell_type": "code",
   "execution_count": 103,
   "metadata": {},
   "outputs": [
    {
     "data": {
      "image/png": "[encoded data removed]",
      "text/plain": [
       "<Figure size 432x288 with 1 Axes>"
      ]
     },
     "metadata": {
      "needs_background": "light"
     },
     "output_type": "display_data"
    }
   ],
   "source": [
    "x = ['Purple', 'White','Blue','Red','Green','Pink','Black','Yellow', 'Brown']\n",
    "y = group_question_marks.sort_values('total_comments', ascending = False)\n",
    "plt.bar(x, y['total_comments'])\n",
    "plt.plot()\n",
    "plt.title(\"Groups vs comments\")\n",
    "plt.show()"
   ]
  },
  {
   "cell_type": "markdown",
   "metadata": {},
   "source": [
    "It is quite clear that purple had the highest mean of amount of comments and brown had the least. This is interesting because it follows the same pattern with the fact that purple had the best mean average mark and brown had the worst average mark."
   ]
  }
 ],
 "metadata": {
  "kernelspec": {
   "display_name": "Python 3",
   "language": "python",
   "name": "python3"
  },
  "language_info": {
   "codemirror_mode": {
    "name": "ipython",
    "version": 3
   },
   "file_extension": ".py",
   "mimetype": "text/x-python",
   "name": "python",
   "nbconvert_exporter": "python",
   "pygments_lexer": "ipython3",
   "version": "3.8.3"
  }
 },
 "nbformat": 4,
 "nbformat_minor": 4
}

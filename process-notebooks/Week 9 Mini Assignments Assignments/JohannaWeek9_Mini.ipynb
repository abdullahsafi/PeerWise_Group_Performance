{
  "nbformat": 4,
  "nbformat_minor": 0,
  "metadata": {
    "colab": {
      "name": "JohannaWeek9 Mini.ipynb",
      "provenance": [],
      "collapsed_sections": []
    },
    "kernelspec": {
      "name": "python3",
      "display_name": "Python 3"
    }
  },
  "cells": [
    {
      "cell_type": "markdown",
      "metadata": {
        "id": "ERwlncyt0Upn"
      },
      "source": [
        "# Part 1: Working towards the core\n",
        "\n",
        "In this process notebook I will be briefly providing an overview of our core problem.\n",
        "\n",
        "The core or driving question for Peerwise-Group (Denyer) is:\n",
        "\n",
        "**What are the impacts of the group membership for performance using PeerWise.**\n",
        "\n"
      ]
    },
    {
      "cell_type": "code",
      "metadata": {
        "id": "h7RfSx48p_96"
      },
      "source": [
        "#importing wanted libraries\n",
        "import pandas as pd\n",
        "import numpy as np\n",
        "import matplotlib.pyplot as plt"
      ],
      "execution_count": 1,
      "outputs": []
    },
    {
      "cell_type": "code",
      "metadata": {
        "id": "FfdTpoowz4es",
        "outputId": "f7c7a03d-8d31-44e0-f663-ce31e275eae5",
        "colab": {
          "base_uri": "https://localhost:8080/",
          "height": 102
        }
      },
      "source": [
        "# reading in the files\n",
        "path_questions = \"/content/drive/My Drive/Colab Notebooks/ASSIGNMENT 2/data/C4Questions.xlsx\"\n",
        "path_tags= \"/content/drive/My Drive/Colab Notebooks/ASSIGNMENT 2/data/C4Tags.xlsx\"\n",
        "path_users =\"/content/drive/My Drive/Colab Notebooks/ASSIGNMENT 2/data/C4UsersCourses.xlsx\"\n",
        "tags = pd.read_excel(path_tags)\n",
        "questions =pd.read_excel(path_questions)\n",
        "users= pd.read_excel(path_users)\n",
        "\n",
        "#changing the data types (see mini 8 for rationale)\n",
        "tags.CourseID= tags.CourseID.astype(str)\n",
        "tags.QuestionID= tags.QuestionID.astype(str)\n",
        "tags.TagID= tags.TagID.astype(str)\n",
        "#transformed data set:\n",
        "tags.dtypes"
      ],
      "execution_count": 2,
      "outputs": [
        {
          "output_type": "execute_result",
          "data": {
            "text/plain": [
              "CourseID      object\n",
              "QuestionID    object\n",
              "Tag           object\n",
              "TagID         object\n",
              "dtype: object"
            ]
          },
          "metadata": {
            "tags": []
          },
          "execution_count": 2
        }
      ]
    },
    {
      "cell_type": "markdown",
      "metadata": {
        "id": "Q9zJ1geB2GGa"
      },
      "source": [
        "Since I have imported a new file  let us have a quick look at the UsersCourses file which details the different groups each of the students were assigned to, as well as the different data types of the variables and adjust accordingly."
      ]
    },
    {
      "cell_type": "code",
      "metadata": {
        "id": "FH2RUrbu2Sco",
        "outputId": "b36e645e-4044-43d8-bc8e-4c0c0e940e01",
        "colab": {
          "base_uri": "https://localhost:8080/",
          "height": 85
        }
      },
      "source": [
        "#glimpsing the data\n",
        "users.head()\n",
        "#data types\n",
        "users.dtypes"
      ],
      "execution_count": 3,
      "outputs": [
        {
          "output_type": "execute_result",
          "data": {
            "text/plain": [
              "user          int64\n",
              "course_id     int64\n",
              "Team         object\n",
              "dtype: object"
            ]
          },
          "metadata": {
            "tags": []
          },
          "execution_count": 3
        }
      ]
    },
    {
      "cell_type": "markdown",
      "metadata": {
        "id": "ahEYHZVD2lyD"
      },
      "source": [
        "The 'user' and 'course_id' have been recorded as `int64` types and will need to be changed to `str` object types:\n"
      ]
    },
    {
      "cell_type": "code",
      "metadata": {
        "id": "k-6bwVHa3J2p",
        "outputId": "0a7b2d41-8754-44aa-8132-3b0e36e778d4",
        "colab": {
          "base_uri": "https://localhost:8080/",
          "height": 85
        }
      },
      "source": [
        "users.user= users.user.astype(str)\n",
        "users.course_id= users.course_id.astype(str)\n",
        "users.dtypes"
      ],
      "execution_count": 4,
      "outputs": [
        {
          "output_type": "execute_result",
          "data": {
            "text/plain": [
              "user         object\n",
              "course_id    object\n",
              "Team         object\n",
              "dtype: object"
            ]
          },
          "metadata": {
            "tags": []
          },
          "execution_count": 4
        }
      ]
    },
    {
      "cell_type": "markdown",
      "metadata": {
        "id": "Cxj4Xgci37lt"
      },
      "source": [
        "Here we will look at how many people have been assigned to each group."
      ]
    },
    {
      "cell_type": "code",
      "metadata": {
        "id": "2q6kPjUc37LH",
        "outputId": "5cb09933-2568-45f5-ebfa-cf7af454c6f2",
        "colab": {
          "base_uri": "https://localhost:8080/",
          "height": 187
        }
      },
      "source": [
        "counts_groups =users['Team'].value_counts()\n",
        "counts_groups"
      ],
      "execution_count": 5,
      "outputs": [
        {
          "output_type": "execute_result",
          "data": {
            "text/plain": [
              "Green     39\n",
              "Red       37\n",
              "Pink      37\n",
              "Brown     37\n",
              "Blue      35\n",
              "Black     35\n",
              "Yellow    31\n",
              "White     23\n",
              "Purple    15\n",
              "Name: Team, dtype: int64"
            ]
          },
          "metadata": {
            "tags": []
          },
          "execution_count": 5
        }
      ]
    },
    {
      "cell_type": "markdown",
      "metadata": {
        "id": "PHOSXRYB5Fcc"
      },
      "source": [
        "There are 9 groups where students have not evenly been divided into ."
      ]
    },
    {
      "cell_type": "markdown",
      "metadata": {
        "id": "W4SwyYK-3pY-"
      },
      "source": [
        "## Joining the `UsersCourses` file with the `Questions`  files.\n",
        "\n",
        "I tried joining the 3 datasets together but the result was more like a cross join.\n",
        "\n",
        "By joining these 2 data sets we can perhaps infer whether being in a particular group can impact a student's performance."
      ]
    },
    {
      "cell_type": "code",
      "metadata": {
        "id": "MAtGdKf356_v"
      },
      "source": [
        "#tags['course_id']= tags['CourseID']"
      ],
      "execution_count": 6,
      "outputs": []
    },
    {
      "cell_type": "code",
      "metadata": {
        "id": "kv3WGl9A5-Pf"
      },
      "source": [
        "questions.head(n=3)\n",
        "# have to cast the following variables \n",
        "questions.id= questions.id.astype(str)\n",
        "questions.course_id= questions.course_id.astype(str)\n",
        "questions.user= questions.user.astype(str)\n",
        "questions.dtypes"
      ],
      "execution_count": null,
      "outputs": []
    },
    {
      "cell_type": "markdown",
      "metadata": {
        "id": "d-aEDcf_Tm02"
      },
      "source": [
        "I think it would be interesting to see whether groups had an effect on the number of total comments and or total responses as this may also be indicators of student performance (not just academic marks).\n",
        "\n",
        "I believe other members of my group conducted some analysis on the average rating and the academic mark."
      ]
    },
    {
      "cell_type": "code",
      "metadata": {
        "id": "m-uXo_mOQjuh",
        "outputId": "538b868d-7d5c-4c18-b944-27fb53103fae",
        "colab": {
          "base_uri": "https://localhost:8080/",
          "height": 419
        }
      },
      "source": [
        "#selecting wanted variables for analysis\n",
        "#joining tags and questions together\n",
        "users_qs= questions[['course_id','id','user', 'avg_rating', 'total_responses', 'total_comments']].merge(users, how=\"inner\", on=\"user\")\n",
        "\n",
        "users_qs\n"
      ],
      "execution_count": 8,
      "outputs": [
        {
          "output_type": "execute_result",
          "data": {
            "text/html": [
              "<div>\n",
              "<style scoped>\n",
              "    .dataframe tbody tr th:only-of-type {\n",
              "        vertical-align: middle;\n",
              "    }\n",
              "\n",
              "    .dataframe tbody tr th {\n",
              "        vertical-align: top;\n",
              "    }\n",
              "\n",
              "    .dataframe thead th {\n",
              "        text-align: right;\n",
              "    }\n",
              "</style>\n",
              "<table border=\"1\" class=\"dataframe\">\n",
              "  <thead>\n",
              "    <tr style=\"text-align: right;\">\n",
              "      <th></th>\n",
              "      <th>course_id_x</th>\n",
              "      <th>id</th>\n",
              "      <th>user</th>\n",
              "      <th>avg_rating</th>\n",
              "      <th>total_responses</th>\n",
              "      <th>total_comments</th>\n",
              "      <th>course_id_y</th>\n",
              "      <th>Team</th>\n",
              "    </tr>\n",
              "  </thead>\n",
              "  <tbody>\n",
              "    <tr>\n",
              "      <th>0</th>\n",
              "      <td>21320</td>\n",
              "      <td>4464532</td>\n",
              "      <td>635990</td>\n",
              "      <td>3.78</td>\n",
              "      <td>10</td>\n",
              "      <td>8</td>\n",
              "      <td>21320</td>\n",
              "      <td>Brown</td>\n",
              "    </tr>\n",
              "    <tr>\n",
              "      <th>1</th>\n",
              "      <td>21320</td>\n",
              "      <td>4483763</td>\n",
              "      <td>635990</td>\n",
              "      <td>3.75</td>\n",
              "      <td>4</td>\n",
              "      <td>2</td>\n",
              "      <td>21320</td>\n",
              "      <td>Brown</td>\n",
              "    </tr>\n",
              "    <tr>\n",
              "      <th>2</th>\n",
              "      <td>21320</td>\n",
              "      <td>4464967</td>\n",
              "      <td>636029</td>\n",
              "      <td>3.25</td>\n",
              "      <td>7</td>\n",
              "      <td>5</td>\n",
              "      <td>21320</td>\n",
              "      <td>Pink</td>\n",
              "    </tr>\n",
              "    <tr>\n",
              "      <th>3</th>\n",
              "      <td>21320</td>\n",
              "      <td>4480828</td>\n",
              "      <td>636029</td>\n",
              "      <td>0.00</td>\n",
              "      <td>0</td>\n",
              "      <td>0</td>\n",
              "      <td>21320</td>\n",
              "      <td>Pink</td>\n",
              "    </tr>\n",
              "    <tr>\n",
              "      <th>4</th>\n",
              "      <td>21320</td>\n",
              "      <td>4480830</td>\n",
              "      <td>636029</td>\n",
              "      <td>3.40</td>\n",
              "      <td>9</td>\n",
              "      <td>3</td>\n",
              "      <td>21320</td>\n",
              "      <td>Pink</td>\n",
              "    </tr>\n",
              "    <tr>\n",
              "      <th>...</th>\n",
              "      <td>...</td>\n",
              "      <td>...</td>\n",
              "      <td>...</td>\n",
              "      <td>...</td>\n",
              "      <td>...</td>\n",
              "      <td>...</td>\n",
              "      <td>...</td>\n",
              "      <td>...</td>\n",
              "    </tr>\n",
              "    <tr>\n",
              "      <th>531</th>\n",
              "      <td>21328</td>\n",
              "      <td>4486443</td>\n",
              "      <td>637271</td>\n",
              "      <td>4.00</td>\n",
              "      <td>2</td>\n",
              "      <td>2</td>\n",
              "      <td>21328</td>\n",
              "      <td>Brown</td>\n",
              "    </tr>\n",
              "    <tr>\n",
              "      <th>532</th>\n",
              "      <td>21328</td>\n",
              "      <td>4489197</td>\n",
              "      <td>637271</td>\n",
              "      <td>4.00</td>\n",
              "      <td>1</td>\n",
              "      <td>0</td>\n",
              "      <td>21328</td>\n",
              "      <td>Brown</td>\n",
              "    </tr>\n",
              "    <tr>\n",
              "      <th>533</th>\n",
              "      <td>21328</td>\n",
              "      <td>4488632</td>\n",
              "      <td>637268</td>\n",
              "      <td>3.00</td>\n",
              "      <td>3</td>\n",
              "      <td>2</td>\n",
              "      <td>21328</td>\n",
              "      <td>White</td>\n",
              "    </tr>\n",
              "    <tr>\n",
              "      <th>534</th>\n",
              "      <td>21328</td>\n",
              "      <td>4488790</td>\n",
              "      <td>591275</td>\n",
              "      <td>4.00</td>\n",
              "      <td>1</td>\n",
              "      <td>1</td>\n",
              "      <td>21328</td>\n",
              "      <td>White</td>\n",
              "    </tr>\n",
              "    <tr>\n",
              "      <th>535</th>\n",
              "      <td>21328</td>\n",
              "      <td>4489161</td>\n",
              "      <td>591275</td>\n",
              "      <td>4.00</td>\n",
              "      <td>1</td>\n",
              "      <td>0</td>\n",
              "      <td>21328</td>\n",
              "      <td>White</td>\n",
              "    </tr>\n",
              "  </tbody>\n",
              "</table>\n",
              "<p>536 rows × 8 columns</p>\n",
              "</div>"
            ],
            "text/plain": [
              "    course_id_x       id    user  ...  total_comments  course_id_y   Team\n",
              "0         21320  4464532  635990  ...               8        21320  Brown\n",
              "1         21320  4483763  635990  ...               2        21320  Brown\n",
              "2         21320  4464967  636029  ...               5        21320   Pink\n",
              "3         21320  4480828  636029  ...               0        21320   Pink\n",
              "4         21320  4480830  636029  ...               3        21320   Pink\n",
              "..          ...      ...     ...  ...             ...          ...    ...\n",
              "531       21328  4486443  637271  ...               2        21328  Brown\n",
              "532       21328  4489197  637271  ...               0        21328  Brown\n",
              "533       21328  4488632  637268  ...               2        21328  White\n",
              "534       21328  4488790  591275  ...               1        21328  White\n",
              "535       21328  4489161  591275  ...               0        21328  White\n",
              "\n",
              "[536 rows x 8 columns]"
            ]
          },
          "metadata": {
            "tags": []
          },
          "execution_count": 8
        }
      ]
    },
    {
      "cell_type": "code",
      "metadata": {
        "id": "jiofI4mfZSis",
        "outputId": "f596e374-4746-4f2e-f50e-7cfb33b91239",
        "colab": {
          "base_uri": "https://localhost:8080/",
          "height": 419
        }
      },
      "source": [
        "# grouping total comments and responses by assigned groups\n",
        "resp_comments = users_qs[['id','user','total_responses', 'total_comments', 'Team']]\n",
        "resp_comments"
      ],
      "execution_count": 9,
      "outputs": [
        {
          "output_type": "execute_result",
          "data": {
            "text/html": [
              "<div>\n",
              "<style scoped>\n",
              "    .dataframe tbody tr th:only-of-type {\n",
              "        vertical-align: middle;\n",
              "    }\n",
              "\n",
              "    .dataframe tbody tr th {\n",
              "        vertical-align: top;\n",
              "    }\n",
              "\n",
              "    .dataframe thead th {\n",
              "        text-align: right;\n",
              "    }\n",
              "</style>\n",
              "<table border=\"1\" class=\"dataframe\">\n",
              "  <thead>\n",
              "    <tr style=\"text-align: right;\">\n",
              "      <th></th>\n",
              "      <th>id</th>\n",
              "      <th>user</th>\n",
              "      <th>total_responses</th>\n",
              "      <th>total_comments</th>\n",
              "      <th>Team</th>\n",
              "    </tr>\n",
              "  </thead>\n",
              "  <tbody>\n",
              "    <tr>\n",
              "      <th>0</th>\n",
              "      <td>4464532</td>\n",
              "      <td>635990</td>\n",
              "      <td>10</td>\n",
              "      <td>8</td>\n",
              "      <td>Brown</td>\n",
              "    </tr>\n",
              "    <tr>\n",
              "      <th>1</th>\n",
              "      <td>4483763</td>\n",
              "      <td>635990</td>\n",
              "      <td>4</td>\n",
              "      <td>2</td>\n",
              "      <td>Brown</td>\n",
              "    </tr>\n",
              "    <tr>\n",
              "      <th>2</th>\n",
              "      <td>4464967</td>\n",
              "      <td>636029</td>\n",
              "      <td>7</td>\n",
              "      <td>5</td>\n",
              "      <td>Pink</td>\n",
              "    </tr>\n",
              "    <tr>\n",
              "      <th>3</th>\n",
              "      <td>4480828</td>\n",
              "      <td>636029</td>\n",
              "      <td>0</td>\n",
              "      <td>0</td>\n",
              "      <td>Pink</td>\n",
              "    </tr>\n",
              "    <tr>\n",
              "      <th>4</th>\n",
              "      <td>4480830</td>\n",
              "      <td>636029</td>\n",
              "      <td>9</td>\n",
              "      <td>3</td>\n",
              "      <td>Pink</td>\n",
              "    </tr>\n",
              "    <tr>\n",
              "      <th>...</th>\n",
              "      <td>...</td>\n",
              "      <td>...</td>\n",
              "      <td>...</td>\n",
              "      <td>...</td>\n",
              "      <td>...</td>\n",
              "    </tr>\n",
              "    <tr>\n",
              "      <th>531</th>\n",
              "      <td>4486443</td>\n",
              "      <td>637271</td>\n",
              "      <td>2</td>\n",
              "      <td>2</td>\n",
              "      <td>Brown</td>\n",
              "    </tr>\n",
              "    <tr>\n",
              "      <th>532</th>\n",
              "      <td>4489197</td>\n",
              "      <td>637271</td>\n",
              "      <td>1</td>\n",
              "      <td>0</td>\n",
              "      <td>Brown</td>\n",
              "    </tr>\n",
              "    <tr>\n",
              "      <th>533</th>\n",
              "      <td>4488632</td>\n",
              "      <td>637268</td>\n",
              "      <td>3</td>\n",
              "      <td>2</td>\n",
              "      <td>White</td>\n",
              "    </tr>\n",
              "    <tr>\n",
              "      <th>534</th>\n",
              "      <td>4488790</td>\n",
              "      <td>591275</td>\n",
              "      <td>1</td>\n",
              "      <td>1</td>\n",
              "      <td>White</td>\n",
              "    </tr>\n",
              "    <tr>\n",
              "      <th>535</th>\n",
              "      <td>4489161</td>\n",
              "      <td>591275</td>\n",
              "      <td>1</td>\n",
              "      <td>0</td>\n",
              "      <td>White</td>\n",
              "    </tr>\n",
              "  </tbody>\n",
              "</table>\n",
              "<p>536 rows × 5 columns</p>\n",
              "</div>"
            ],
            "text/plain": [
              "          id    user  total_responses  total_comments   Team\n",
              "0    4464532  635990               10               8  Brown\n",
              "1    4483763  635990                4               2  Brown\n",
              "2    4464967  636029                7               5   Pink\n",
              "3    4480828  636029                0               0   Pink\n",
              "4    4480830  636029                9               3   Pink\n",
              "..       ...     ...              ...             ...    ...\n",
              "531  4486443  637271                2               2  Brown\n",
              "532  4489197  637271                1               0  Brown\n",
              "533  4488632  637268                3               2  White\n",
              "534  4488790  591275                1               1  White\n",
              "535  4489161  591275                1               0  White\n",
              "\n",
              "[536 rows x 5 columns]"
            ]
          },
          "metadata": {
            "tags": []
          },
          "execution_count": 9
        }
      ]
    },
    {
      "cell_type": "code",
      "metadata": {
        "id": "qXnKZbrrbS0p",
        "outputId": "4a7b36bd-ad68-4ee9-8ee6-ee10cc2ad067",
        "colab": {
          "base_uri": "https://localhost:8080/",
          "height": 328
        }
      },
      "source": [
        " group_no= resp_comments.groupby('Team', as_index=False)['user'].nunique()\n",
        "group_no"
      ],
      "execution_count": 10,
      "outputs": [
        {
          "output_type": "execute_result",
          "data": {
            "text/html": [
              "<div>\n",
              "<style scoped>\n",
              "    .dataframe tbody tr th:only-of-type {\n",
              "        vertical-align: middle;\n",
              "    }\n",
              "\n",
              "    .dataframe tbody tr th {\n",
              "        vertical-align: top;\n",
              "    }\n",
              "\n",
              "    .dataframe thead th {\n",
              "        text-align: right;\n",
              "    }\n",
              "</style>\n",
              "<table border=\"1\" class=\"dataframe\">\n",
              "  <thead>\n",
              "    <tr style=\"text-align: right;\">\n",
              "      <th></th>\n",
              "      <th>Team</th>\n",
              "      <th>user</th>\n",
              "    </tr>\n",
              "  </thead>\n",
              "  <tbody>\n",
              "    <tr>\n",
              "      <th>0</th>\n",
              "      <td>Black</td>\n",
              "      <td>35</td>\n",
              "    </tr>\n",
              "    <tr>\n",
              "      <th>1</th>\n",
              "      <td>Blue</td>\n",
              "      <td>33</td>\n",
              "    </tr>\n",
              "    <tr>\n",
              "      <th>2</th>\n",
              "      <td>Brown</td>\n",
              "      <td>36</td>\n",
              "    </tr>\n",
              "    <tr>\n",
              "      <th>3</th>\n",
              "      <td>Green</td>\n",
              "      <td>37</td>\n",
              "    </tr>\n",
              "    <tr>\n",
              "      <th>4</th>\n",
              "      <td>Pink</td>\n",
              "      <td>37</td>\n",
              "    </tr>\n",
              "    <tr>\n",
              "      <th>5</th>\n",
              "      <td>Purple</td>\n",
              "      <td>15</td>\n",
              "    </tr>\n",
              "    <tr>\n",
              "      <th>6</th>\n",
              "      <td>Red</td>\n",
              "      <td>37</td>\n",
              "    </tr>\n",
              "    <tr>\n",
              "      <th>7</th>\n",
              "      <td>White</td>\n",
              "      <td>23</td>\n",
              "    </tr>\n",
              "    <tr>\n",
              "      <th>8</th>\n",
              "      <td>Yellow</td>\n",
              "      <td>31</td>\n",
              "    </tr>\n",
              "  </tbody>\n",
              "</table>\n",
              "</div>"
            ],
            "text/plain": [
              "     Team  user\n",
              "0   Black    35\n",
              "1    Blue    33\n",
              "2   Brown    36\n",
              "3   Green    37\n",
              "4    Pink    37\n",
              "5  Purple    15\n",
              "6     Red    37\n",
              "7   White    23\n",
              "8  Yellow    31"
            ]
          },
          "metadata": {
            "tags": []
          },
          "execution_count": 10
        }
      ]
    },
    {
      "cell_type": "code",
      "metadata": {
        "id": "qeczqZMEbyd_"
      },
      "source": [
        "# average number of total responses by groups\n",
        "averages = resp_comments.groupby('Team', as_index=False).mean()\n",
        "resp_comments.groupby('Team', as_index=False).median()\n",
        "#averages\n",
        "group_no['total_responses']= averages['total_responses']\n",
        "group_no['total_comments']= averages['total_comments']\n",
        "group_no"
      ],
      "execution_count": null,
      "outputs": []
    },
    {
      "cell_type": "markdown",
      "metadata": {
        "id": "TUYaS4uGXGFB"
      },
      "source": [
        "Upon noticing that the average values are quite similar we could make a more robust claim by looking at the median number of total responses and comments."
      ]
    },
    {
      "cell_type": "code",
      "metadata": {
        "id": "7zlgVUxeXVcR",
        "outputId": "0be7726a-a497-4a83-b133-5c08bdf2b7e8",
        "colab": {
          "base_uri": "https://localhost:8080/",
          "height": 328
        }
      },
      "source": [
        "median =resp_comments.groupby('Team', as_index=False).median()\n",
        "group_no['total_responses']= median['total_responses']\n",
        "group_no['total_comments']= median['total_comments']\n",
        "group_no\n"
      ],
      "execution_count": 16,
      "outputs": [
        {
          "output_type": "execute_result",
          "data": {
            "text/html": [
              "<div>\n",
              "<style scoped>\n",
              "    .dataframe tbody tr th:only-of-type {\n",
              "        vertical-align: middle;\n",
              "    }\n",
              "\n",
              "    .dataframe tbody tr th {\n",
              "        vertical-align: top;\n",
              "    }\n",
              "\n",
              "    .dataframe thead th {\n",
              "        text-align: right;\n",
              "    }\n",
              "</style>\n",
              "<table border=\"1\" class=\"dataframe\">\n",
              "  <thead>\n",
              "    <tr style=\"text-align: right;\">\n",
              "      <th></th>\n",
              "      <th>Team</th>\n",
              "      <th>user</th>\n",
              "      <th>total_responses</th>\n",
              "      <th>total_comments</th>\n",
              "    </tr>\n",
              "  </thead>\n",
              "  <tbody>\n",
              "    <tr>\n",
              "      <th>0</th>\n",
              "      <td>Black</td>\n",
              "      <td>35</td>\n",
              "      <td>5.5</td>\n",
              "      <td>4.5</td>\n",
              "    </tr>\n",
              "    <tr>\n",
              "      <th>1</th>\n",
              "      <td>Blue</td>\n",
              "      <td>33</td>\n",
              "      <td>3.0</td>\n",
              "      <td>3.0</td>\n",
              "    </tr>\n",
              "    <tr>\n",
              "      <th>2</th>\n",
              "      <td>Brown</td>\n",
              "      <td>36</td>\n",
              "      <td>4.0</td>\n",
              "      <td>3.0</td>\n",
              "    </tr>\n",
              "    <tr>\n",
              "      <th>3</th>\n",
              "      <td>Green</td>\n",
              "      <td>37</td>\n",
              "      <td>7.0</td>\n",
              "      <td>4.0</td>\n",
              "    </tr>\n",
              "    <tr>\n",
              "      <th>4</th>\n",
              "      <td>Pink</td>\n",
              "      <td>37</td>\n",
              "      <td>5.0</td>\n",
              "      <td>3.0</td>\n",
              "    </tr>\n",
              "    <tr>\n",
              "      <th>5</th>\n",
              "      <td>Purple</td>\n",
              "      <td>15</td>\n",
              "      <td>3.0</td>\n",
              "      <td>2.0</td>\n",
              "    </tr>\n",
              "    <tr>\n",
              "      <th>6</th>\n",
              "      <td>Red</td>\n",
              "      <td>37</td>\n",
              "      <td>7.0</td>\n",
              "      <td>6.0</td>\n",
              "    </tr>\n",
              "    <tr>\n",
              "      <th>7</th>\n",
              "      <td>White</td>\n",
              "      <td>23</td>\n",
              "      <td>3.0</td>\n",
              "      <td>2.0</td>\n",
              "    </tr>\n",
              "    <tr>\n",
              "      <th>8</th>\n",
              "      <td>Yellow</td>\n",
              "      <td>31</td>\n",
              "      <td>4.0</td>\n",
              "      <td>3.0</td>\n",
              "    </tr>\n",
              "  </tbody>\n",
              "</table>\n",
              "</div>"
            ],
            "text/plain": [
              "     Team  user  total_responses  total_comments\n",
              "0   Black    35              5.5             4.5\n",
              "1    Blue    33              3.0             3.0\n",
              "2   Brown    36              4.0             3.0\n",
              "3   Green    37              7.0             4.0\n",
              "4    Pink    37              5.0             3.0\n",
              "5  Purple    15              3.0             2.0\n",
              "6     Red    37              7.0             6.0\n",
              "7   White    23              3.0             2.0\n",
              "8  Yellow    31              4.0             3.0"
            ]
          },
          "metadata": {
            "tags": []
          },
          "execution_count": 16
        }
      ]
    },
    {
      "cell_type": "markdown",
      "metadata": {
        "id": "08h0ze05Xujr"
      },
      "source": [
        "## Visualisations:\n",
        "\n",
        "Here we will visualise:\n",
        "- distribution of students in each group\n",
        "- the total_responses \n",
        "- the total_comments"
      ]
    },
    {
      "cell_type": "code",
      "metadata": {
        "id": "zJDr7qIAdXpl",
        "outputId": "7890a148-d877-492f-a599-9a34a8c4462a",
        "colab": {
          "base_uri": "https://localhost:8080/",
          "height": 394
        }
      },
      "source": [
        "# Distribution of students in each group\n",
        "import seaborn as sns\n",
        "plt.figure(figsize=(10,5))\n",
        "sns.set_theme(style=\"whitegrid\")\n",
        "chart = sns.barplot(x=\"Team\", y= \"user\", data=group_no, color = \"salmon\")\n",
        "chart.set_xticklabels(chart.get_xticklabels(), rotation =45, horizontalalignment='right')\n",
        "plt.title(\"Distribution of Users within each group\")"
      ],
      "execution_count": 22,
      "outputs": [
        {
          "output_type": "execute_result",
          "data": {
            "text/plain": [
              "Text(0.5, 1.0, 'Distribution of Users within each group')"
            ]
          },
          "metadata": {
            "tags": []
          },
          "execution_count": 22
        },
        {
          "output_type": "display_data",
          "data": {
            "image/png": "[encoded data removed]",
            "text/plain": [
              "<Figure size 720x360 with 1 Axes>"
            ]
          },
          "metadata": {
            "tags": []
          }
        }
      ]
    },
    {
      "cell_type": "code",
      "metadata": {
        "id": "mpm88qW9ahHX",
        "outputId": "dd8e5426-73da-4ee8-d689-b2b557bd0145",
        "colab": {
          "base_uri": "https://localhost:8080/",
          "height": 569
        }
      },
      "source": [
        "# group vs total_responses as colored by their respective teams \n",
        "# white is difficult to see\n",
        "group_no.plot.scatter(x='user', y = \"total_responses\", c= \"Team\")\n",
        "\n",
        "import matplotlib.pyplot as plt\n",
        "fig = plt.figure()\n",
        "plt.scatter(group_no['user'], group_no['total_responses'])\n",
        "plt.title('Relationship groups and totalresponses')\n",
        "plt.xlabel('Number of users belonging to a team')\n",
        "plt.ylabel('Median Totl Responses in a given group')\n",
        "\n",
        "plt.show()"
      ],
      "execution_count": 30,
      "outputs": [
        {
          "output_type": "display_data",
          "data": {
            "image/png": "[encoded data removed]",
            "text/plain": [
              "<Figure size 432x288 with 1 Axes>"
            ]
          },
          "metadata": {
            "tags": []
          }
        },
        {
          "output_type": "display_data",
          "data": {
            "image/png": "[encoded data removed]",
            "text/plain": [
              "<Figure size 432x288 with 1 Axes>"
            ]
          },
          "metadata": {
            "tags": []
          }
        }
      ]
    },
    {
      "cell_type": "code",
      "metadata": {
        "id": "5jAu_hQSckm_",
        "outputId": "a9c1dacc-6d52-4d4e-ec66-4ac3356ba099",
        "colab": {
          "base_uri": "https://localhost:8080/",
          "height": 569
        }
      },
      "source": [
        "# group vs total_comments as colored by their respective teams \n",
        "# white is difficult to see\n",
        "group_no.plot.scatter(x='user', y = \"total_comments\", c= \"Team\")\n",
        "\n",
        "import matplotlib.pyplot as plt\n",
        "fig = plt.figure()\n",
        "plt.scatter(group_no['user'], group_no['total_comments'])\n",
        "plt.title('Relationship groups and total comments')\n",
        "plt.xlabel('Number of users belonging to a team')\n",
        "plt.ylabel('Median Totl Comments in a given group')\n",
        "\n",
        "plt.show()"
      ],
      "execution_count": 31,
      "outputs": [
        {
          "output_type": "display_data",
          "data": {
            "image/png": "[encoded data removed]",
            "text/plain": [
              "<Figure size 432x288 with 1 Axes>"
            ]
          },
          "metadata": {
            "tags": []
          }
        },
        {
          "output_type": "display_data",
          "data": {
            "image/png": "[encoded data removed]",
            "text/plain": [
              "<Figure size 432x288 with 1 Axes>"
            ]
          },
          "metadata": {
            "tags": []
          }
        }
      ]
    }
  ]
}

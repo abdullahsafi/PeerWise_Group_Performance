{
  "nbformat": 4,
  "nbformat_minor": 0,
  "metadata": {
    "colab": {
      "name": "DATA3406 W11 Mini Assignment.ipynb",
      "provenance": [],
      "collapsed_sections": [],
      "toc_visible": true
    },
    "kernelspec": {
      "name": "python3",
      "display_name": "Python 3"
    }
  },
  "cells": [
    {
      "cell_type": "markdown",
      "metadata": {
        "id": "WKgRv4wNNqPo"
      },
      "source": [
        "# DATA3406 W10 Mini Assignment"
      ]
    },
    {
      "cell_type": "markdown",
      "metadata": {
        "id": "cpmYv7dD8Ktf"
      },
      "source": [
        "#### Data Exploration"
      ]
    },
    {
      "cell_type": "code",
      "metadata": {
        "id": "761_fuGdNkMl"
      },
      "source": [
        "import pandas as pd\n",
        "import numpy as np\n",
        "import matplotlib.pyplot as plt\n",
        "import plotly.express as px"
      ],
      "execution_count": 1,
      "outputs": []
    },
    {
      "cell_type": "code",
      "metadata": {
        "id": "xsx7g8anWyD9",
        "outputId": "ac68a665-0b28-478c-94d8-a639018eb133",
        "colab": {
          "base_uri": "https://localhost:8080/",
          "height": 235
        }
      },
      "source": [
        "# Investigating the C4 Ratings data by importing it\n",
        "df = pd.read_excel('/C4Ratings.xlsx', index_col=0)\n",
        "\n",
        "# View the first five rows to see what variables are in the data and visualise the values under each variable\n",
        "df.head()"
      ],
      "execution_count": 2,
      "outputs": [
        {
          "output_type": "execute_result",
          "data": {
            "text/html": [
              "<div>\n",
              "<style scoped>\n",
              "    .dataframe tbody tr th:only-of-type {\n",
              "        vertical-align: middle;\n",
              "    }\n",
              "\n",
              "    .dataframe tbody tr th {\n",
              "        vertical-align: top;\n",
              "    }\n",
              "\n",
              "    .dataframe thead th {\n",
              "        text-align: right;\n",
              "    }\n",
              "</style>\n",
              "<table border=\"1\" class=\"dataframe\">\n",
              "  <thead>\n",
              "    <tr style=\"text-align: right;\">\n",
              "      <th></th>\n",
              "      <th>CourseID</th>\n",
              "      <th>Timestamp</th>\n",
              "      <th>User</th>\n",
              "      <th>QuestionID</th>\n",
              "      <th>Difficulty</th>\n",
              "      <th>Score</th>\n",
              "    </tr>\n",
              "    <tr>\n",
              "      <th>RatingID</th>\n",
              "      <th></th>\n",
              "      <th></th>\n",
              "      <th></th>\n",
              "      <th></th>\n",
              "      <th></th>\n",
              "      <th></th>\n",
              "    </tr>\n",
              "  </thead>\n",
              "  <tbody>\n",
              "    <tr>\n",
              "      <th>46144026</th>\n",
              "      <td>21320</td>\n",
              "      <td>2020-04-30 19:57:37</td>\n",
              "      <td>635978</td>\n",
              "      <td>4470201</td>\n",
              "      <td>0</td>\n",
              "      <td>3</td>\n",
              "    </tr>\n",
              "    <tr>\n",
              "      <th>46144058</th>\n",
              "      <td>21320</td>\n",
              "      <td>2020-04-30 20:00:56</td>\n",
              "      <td>635978</td>\n",
              "      <td>4468999</td>\n",
              "      <td>1</td>\n",
              "      <td>3</td>\n",
              "    </tr>\n",
              "    <tr>\n",
              "      <th>46162555</th>\n",
              "      <td>21320</td>\n",
              "      <td>2020-05-01 15:43:46</td>\n",
              "      <td>636026</td>\n",
              "      <td>4471345</td>\n",
              "      <td>1</td>\n",
              "      <td>5</td>\n",
              "    </tr>\n",
              "    <tr>\n",
              "      <th>46188219</th>\n",
              "      <td>21320</td>\n",
              "      <td>2020-05-03 13:29:05</td>\n",
              "      <td>635990</td>\n",
              "      <td>4472540</td>\n",
              "      <td>1</td>\n",
              "      <td>4</td>\n",
              "    </tr>\n",
              "    <tr>\n",
              "      <th>46188241</th>\n",
              "      <td>21320</td>\n",
              "      <td>2020-05-03 13:35:05</td>\n",
              "      <td>635990</td>\n",
              "      <td>4472481</td>\n",
              "      <td>1</td>\n",
              "      <td>3</td>\n",
              "    </tr>\n",
              "  </tbody>\n",
              "</table>\n",
              "</div>"
            ],
            "text/plain": [
              "          CourseID            Timestamp    User  QuestionID  Difficulty  Score\n",
              "RatingID                                                                      \n",
              "46144026     21320  2020-04-30 19:57:37  635978     4470201           0      3\n",
              "46144058     21320  2020-04-30 20:00:56  635978     4468999           1      3\n",
              "46162555     21320  2020-05-01 15:43:46  636026     4471345           1      5\n",
              "46188219     21320  2020-05-03 13:29:05  635990     4472540           1      4\n",
              "46188241     21320  2020-05-03 13:35:05  635990     4472481           1      3"
            ]
          },
          "metadata": {
            "tags": []
          },
          "execution_count": 2
        }
      ]
    },
    {
      "cell_type": "code",
      "metadata": {
        "id": "SuFJoMFo7D0J",
        "outputId": "e2ff8b9e-be6e-43dc-d0c5-983315b5b882",
        "colab": {
          "base_uri": "https://localhost:8080/"
        }
      },
      "source": [
        "# Print the data types of each variable\n",
        "df.dtypes"
      ],
      "execution_count": 3,
      "outputs": [
        {
          "output_type": "execute_result",
          "data": {
            "text/plain": [
              "CourseID       int64\n",
              "Timestamp     object\n",
              "User           int64\n",
              "QuestionID     int64\n",
              "Difficulty     int64\n",
              "Score          int64\n",
              "dtype: object"
            ]
          },
          "metadata": {
            "tags": []
          },
          "execution_count": 3
        }
      ]
    },
    {
      "cell_type": "code",
      "metadata": {
        "id": "l38xSM6I7iII",
        "outputId": "216e8ded-2b5c-4bd9-e46d-57ed141935e6",
        "colab": {
          "base_uri": "https://localhost:8080/"
        }
      },
      "source": [
        "print('We can see that the variables in the C4 Ratings dataset are all integers except for the Timestamp variable, which is a python object')\n",
        "print('There are {} rows in the ratings data set'.format(df.shape[0]))\n",
        "print('There are {} unique questionID'.format(df['QuestionID'].nunique()))"
      ],
      "execution_count": 4,
      "outputs": [
        {
          "output_type": "stream",
          "text": [
            "We can see that the variables in the C4 Ratings dataset are all integers except for the Timestamp variable, which is a python object\n",
            "There are 2233 rows in the ratings data set\n",
            "There are 501 unique questionID\n"
          ],
          "name": "stdout"
        }
      ]
    },
    {
      "cell_type": "markdown",
      "metadata": {
        "id": "q6Uex3tEEEPV"
      },
      "source": [
        "#### Summarise Ratings Data"
      ]
    },
    {
      "cell_type": "code",
      "metadata": {
        "id": "ecahc8fyEGgQ",
        "outputId": "348226b8-163a-45fd-df57-c14b667e74db",
        "colab": {
          "base_uri": "https://localhost:8080/"
        }
      },
      "source": [
        "# Identify the value range for difficulty\n",
        "df['Difficulty'].nunique()"
      ],
      "execution_count": 5,
      "outputs": [
        {
          "output_type": "execute_result",
          "data": {
            "text/plain": [
              "3"
            ]
          },
          "metadata": {
            "tags": []
          },
          "execution_count": 5
        }
      ]
    },
    {
      "cell_type": "code",
      "metadata": {
        "id": "fx3gzZHe8OCP",
        "outputId": "f34541bd-bd15-41a8-e19d-94ccc66e6036",
        "colab": {
          "base_uri": "https://localhost:8080/"
        }
      },
      "source": [
        "print('The number of levels in difficulty are 3')"
      ],
      "execution_count": 6,
      "outputs": [
        {
          "output_type": "stream",
          "text": [
            "The number of levels in difficulty are 3\n"
          ],
          "name": "stdout"
        }
      ]
    },
    {
      "cell_type": "code",
      "metadata": {
        "id": "FMIIiG-VERPB",
        "outputId": "12401027-92a3-4214-b462-943a7a97dddb",
        "colab": {
          "base_uri": "https://localhost:8080/"
        }
      },
      "source": [
        "# Identify the value range for score\n",
        "df['Score'].nunique()"
      ],
      "execution_count": 7,
      "outputs": [
        {
          "output_type": "execute_result",
          "data": {
            "text/plain": [
              "6"
            ]
          },
          "metadata": {
            "tags": []
          },
          "execution_count": 7
        }
      ]
    },
    {
      "cell_type": "code",
      "metadata": {
        "id": "WRa-9mdz8Vdp",
        "outputId": "1048290f-d8bc-4508-dcd2-36f146084e76",
        "colab": {
          "base_uri": "https://localhost:8080/"
        }
      },
      "source": [
        "print('The number of levels in score are 6')"
      ],
      "execution_count": 8,
      "outputs": [
        {
          "output_type": "stream",
          "text": [
            "The number of levels in score are 6\n"
          ],
          "name": "stdout"
        }
      ]
    },
    {
      "cell_type": "code",
      "metadata": {
        "id": "2vpCcIIIZVZQ",
        "outputId": "5cde26a5-2ed3-44a1-89d7-d797e550742f",
        "colab": {
          "base_uri": "https://localhost:8080/",
          "height": 315
        }
      },
      "source": [
        "# Plot a histogram of the scores column to see the distribution of score values across all questions\n",
        "df.hist('Score')"
      ],
      "execution_count": 9,
      "outputs": [
        {
          "output_type": "execute_result",
          "data": {
            "text/plain": [
              "array([[<matplotlib.axes._subplots.AxesSubplot object at 0x7f5626e0cfd0>]],\n",
              "      dtype=object)"
            ]
          },
          "metadata": {
            "tags": []
          },
          "execution_count": 9
        },
        {
          "output_type": "display_data",
          "data": {
            "image/png": "[encoded data removed]",
            "text/plain": [
              "<Figure size 432x288 with 1 Axes>"
            ]
          },
          "metadata": {
            "tags": [],
            "needs_background": "light"
          }
        }
      ]
    },
    {
      "cell_type": "markdown",
      "metadata": {
        "id": "ws1CJfsBZt3N"
      },
      "source": [
        "Figure 1: See that the mode of the dataset is a score of 3."
      ]
    },
    {
      "cell_type": "code",
      "metadata": {
        "id": "MyrDTybPZfim",
        "outputId": "8acb967e-9727-4af9-b711-68179f70161d",
        "colab": {
          "base_uri": "https://localhost:8080/",
          "height": 315
        }
      },
      "source": [
        "# Plot a histogram of the difficulty column to see the distribution of difficulty values across all questions\n",
        "df.hist('Difficulty')"
      ],
      "execution_count": 10,
      "outputs": [
        {
          "output_type": "execute_result",
          "data": {
            "text/plain": [
              "array([[<matplotlib.axes._subplots.AxesSubplot object at 0x7f5626e02080>]],\n",
              "      dtype=object)"
            ]
          },
          "metadata": {
            "tags": []
          },
          "execution_count": 10
        },
        {
          "output_type": "display_data",
          "data": {
            "image/png": "[encoded data removed]",
            "text/plain": [
              "<Figure size 432x288 with 1 Axes>"
            ]
          },
          "metadata": {
            "tags": [],
            "needs_background": "light"
          }
        }
      ]
    },
    {
      "cell_type": "markdown",
      "metadata": {
        "id": "qYz6qf2Cdj3V"
      },
      "source": [
        "Figure 2: See that the mode of the dataset is a difficulty of 1."
      ]
    },
    {
      "cell_type": "markdown",
      "metadata": {
        "id": "yU78Lx2O8rie"
      },
      "source": [
        "#### Ratings Overview"
      ]
    },
    {
      "cell_type": "markdown",
      "metadata": {
        "id": "rrkIHvCU8v8W"
      },
      "source": [
        "\n",
        "\n",
        "*  We have 2233 rows in the dataset\n",
        "*  There are 501 questions\n",
        "*  Each row has a ratingID that corresponde to a questionID\n",
        "*  The dataset also contains the courseID, timestamp, difficulty and score. As well as, the user who made the rating.\n",
        "\n",
        "\n",
        "\n"
      ]
    },
    {
      "cell_type": "markdown",
      "metadata": {
        "id": "tzb1ZeDgF9Hh"
      },
      "source": [
        "#### Import UserCourses and Tags Data"
      ]
    },
    {
      "cell_type": "code",
      "metadata": {
        "id": "k860exwiGBoa"
      },
      "source": [
        "# Investigating the C4 Tags data by importing it\n",
        "df2 = pd.read_excel('/C4Tags.xlsx', index_col=0)"
      ],
      "execution_count": 11,
      "outputs": []
    },
    {
      "cell_type": "markdown",
      "metadata": {
        "id": "NmW5a4SXE7QM"
      },
      "source": [
        "#### Driving Question"
      ]
    },
    {
      "cell_type": "markdown",
      "metadata": {
        "id": "lXpog89-E9Cm"
      },
      "source": [
        "The driving question is, what are the impacts of the group membership for performance using PeerWise?"
      ]
    },
    {
      "cell_type": "code",
      "metadata": {
        "id": "lhuTH8EJFMWL"
      },
      "source": [
        "# Try to merge the Ratings and Tags datasets using a left join, according to Question ID\n",
        "df12 = pd.merge(df, df2, on='QuestionID',how='left')"
      ],
      "execution_count": 12,
      "outputs": []
    },
    {
      "cell_type": "code",
      "metadata": {
        "id": "XYhpoh_1LOoy",
        "outputId": "ccc48653-4572-4673-ba40-d06eaea5726d",
        "colab": {
          "base_uri": "https://localhost:8080/",
          "height": 204
        }
      },
      "source": [
        "# Convert Tag from data type object to string\n",
        "df12['Tag'] = df12['Tag'].astype('str') \n",
        "\n",
        "# Remove the tag rows that have the duplicate assigned team number too\n",
        "df12 = df12[~df12.Tag.str.contains(r'\\d')]\n",
        "\n",
        "# Remove NaN\n",
        "df12.dropna(how='any', inplace=True)\n",
        "\n",
        "# Print the first 5 rows to visualise what variables are in the merged dataset\n",
        "df12.head()"
      ],
      "execution_count": 13,
      "outputs": [
        {
          "output_type": "execute_result",
          "data": {
            "text/html": [
              "<div>\n",
              "<style scoped>\n",
              "    .dataframe tbody tr th:only-of-type {\n",
              "        vertical-align: middle;\n",
              "    }\n",
              "\n",
              "    .dataframe tbody tr th {\n",
              "        vertical-align: top;\n",
              "    }\n",
              "\n",
              "    .dataframe thead th {\n",
              "        text-align: right;\n",
              "    }\n",
              "</style>\n",
              "<table border=\"1\" class=\"dataframe\">\n",
              "  <thead>\n",
              "    <tr style=\"text-align: right;\">\n",
              "      <th></th>\n",
              "      <th>CourseID</th>\n",
              "      <th>Timestamp</th>\n",
              "      <th>User</th>\n",
              "      <th>QuestionID</th>\n",
              "      <th>Difficulty</th>\n",
              "      <th>Score</th>\n",
              "      <th>Tag</th>\n",
              "      <th>TagID</th>\n",
              "    </tr>\n",
              "  </thead>\n",
              "  <tbody>\n",
              "    <tr>\n",
              "      <th>0</th>\n",
              "      <td>21320</td>\n",
              "      <td>2020-04-30 19:57:37</td>\n",
              "      <td>635978</td>\n",
              "      <td>4470201</td>\n",
              "      <td>0</td>\n",
              "      <td>3</td>\n",
              "      <td>Pink</td>\n",
              "      <td>6409737.0</td>\n",
              "    </tr>\n",
              "    <tr>\n",
              "      <th>3</th>\n",
              "      <td>21320</td>\n",
              "      <td>2020-04-30 20:00:56</td>\n",
              "      <td>635978</td>\n",
              "      <td>4468999</td>\n",
              "      <td>1</td>\n",
              "      <td>3</td>\n",
              "      <td>Pink</td>\n",
              "      <td>6408243.0</td>\n",
              "    </tr>\n",
              "    <tr>\n",
              "      <th>4</th>\n",
              "      <td>21320</td>\n",
              "      <td>2020-05-01 15:43:46</td>\n",
              "      <td>636026</td>\n",
              "      <td>4471345</td>\n",
              "      <td>1</td>\n",
              "      <td>5</td>\n",
              "      <td>Red</td>\n",
              "      <td>6411169.0</td>\n",
              "    </tr>\n",
              "    <tr>\n",
              "      <th>7</th>\n",
              "      <td>21320</td>\n",
              "      <td>2020-05-03 13:29:05</td>\n",
              "      <td>635990</td>\n",
              "      <td>4472540</td>\n",
              "      <td>1</td>\n",
              "      <td>4</td>\n",
              "      <td>Brown</td>\n",
              "      <td>6413019.0</td>\n",
              "    </tr>\n",
              "    <tr>\n",
              "      <th>9</th>\n",
              "      <td>21320</td>\n",
              "      <td>2020-05-03 13:35:05</td>\n",
              "      <td>635990</td>\n",
              "      <td>4472481</td>\n",
              "      <td>1</td>\n",
              "      <td>3</td>\n",
              "      <td>Brown</td>\n",
              "      <td>6412917.0</td>\n",
              "    </tr>\n",
              "  </tbody>\n",
              "</table>\n",
              "</div>"
            ],
            "text/plain": [
              "   CourseID            Timestamp    User  ...  Score    Tag      TagID\n",
              "0     21320  2020-04-30 19:57:37  635978  ...      3   Pink  6409737.0\n",
              "3     21320  2020-04-30 20:00:56  635978  ...      3   Pink  6408243.0\n",
              "4     21320  2020-05-01 15:43:46  636026  ...      5    Red  6411169.0\n",
              "7     21320  2020-05-03 13:29:05  635990  ...      4  Brown  6413019.0\n",
              "9     21320  2020-05-03 13:35:05  635990  ...      3  Brown  6412917.0\n",
              "\n",
              "[5 rows x 8 columns]"
            ]
          },
          "metadata": {
            "tags": []
          },
          "execution_count": 13
        }
      ]
    },
    {
      "cell_type": "markdown",
      "metadata": {
        "id": "l09hAQwO94U-"
      },
      "source": [
        "How many different sudents are in the merged dataset?"
      ]
    },
    {
      "cell_type": "code",
      "metadata": {
        "id": "ggypnaV49cAG",
        "outputId": "53f76292-1e2b-4b36-ecef-77deecf25fbf",
        "colab": {
          "base_uri": "https://localhost:8080/"
        }
      },
      "source": [
        "print('There are {} unique students in the merged dataset'.format(df12['User'].nunique()))"
      ],
      "execution_count": 14,
      "outputs": [
        {
          "output_type": "stream",
          "text": [
            "There are 243 unique students in the merged dataset\n"
          ],
          "name": "stdout"
        }
      ]
    },
    {
      "cell_type": "markdown",
      "metadata": {
        "id": "dcWPXOkt-A9D"
      },
      "source": [
        "What is the date range of the data?"
      ]
    },
    {
      "cell_type": "code",
      "metadata": {
        "id": "zxt1xHfJ92d9",
        "outputId": "d4e5f19d-ca26-4fc8-ebc9-4421f8a7cf0b",
        "colab": {
          "base_uri": "https://localhost:8080/"
        }
      },
      "source": [
        "# Calculate the minimum date in the merged dataset\n",
        "oldest = pd.to_datetime(df12['Timestamp'].min())\n",
        "\n",
        "# Calculate the maximum date in the merged dataset\n",
        "newest = pd.to_datetime(df12['Timestamp'].max())\n",
        "\n",
        "# While printing, calculating the oldest - newest to find the date range of the dataset\n",
        "print('The oldest date is {} and the newest date is {}'.format(oldest,newest))\n",
        "print('This is a date range of {}'.format((newest-oldest)))"
      ],
      "execution_count": 15,
      "outputs": [
        {
          "output_type": "stream",
          "text": [
            "The oldest date is 2020-04-28 21:23:18 and the newest date is 2020-05-19 12:27:03\n",
            "This is a date range of 20 days 15:03:45\n"
          ],
          "name": "stdout"
        }
      ]
    },
    {
      "cell_type": "markdown",
      "metadata": {
        "id": "xwRMeETy-oud"
      },
      "source": [
        "What is the median score for each group? "
      ]
    },
    {
      "cell_type": "code",
      "metadata": {
        "id": "N6W1ouqIHlvk",
        "outputId": "6902721d-5237-43a8-a19d-225a9c8c3475",
        "colab": {
          "base_uri": "https://localhost:8080/"
        }
      },
      "source": [
        "# Group by team colour (tag) and calculate the median score for each\n",
        "df12.groupby('Tag')['Score'].mean().sort_values()"
      ],
      "execution_count": 16,
      "outputs": [
        {
          "output_type": "execute_result",
          "data": {
            "text/plain": [
              "Tag\n",
              "Black     2.844697\n",
              "Brown     2.871560\n",
              "Red       2.962209\n",
              "Pink      2.975758\n",
              "Blue      3.039007\n",
              "Green     3.048701\n",
              "Yellow    3.070796\n",
              "Purple    3.083333\n",
              "White     3.157895\n",
              "Name: Score, dtype: float64"
            ]
          },
          "metadata": {
            "tags": []
          },
          "execution_count": 16
        }
      ]
    },
    {
      "cell_type": "code",
      "metadata": {
        "id": "lBsqhLte_ALR",
        "outputId": "84f4cc80-f4fb-4156-b58f-dc92f4d93106",
        "colab": {
          "base_uri": "https://localhost:8080/"
        }
      },
      "source": [
        "print('We can see that the black group had the lowest median score and white had the highest median score')"
      ],
      "execution_count": 17,
      "outputs": [
        {
          "output_type": "stream",
          "text": [
            "We can see that the black group had the lowest median score and white had the highest median score\n"
          ],
          "name": "stdout"
        }
      ]
    },
    {
      "cell_type": "code",
      "metadata": {
        "id": "iG5lhkKCAJ5Z",
        "outputId": "4293e066-020e-4b7b-a592-e86940fb74e0",
        "colab": {
          "base_uri": "https://localhost:8080/",
          "height": 542
        }
      },
      "source": [
        "# Plot a boxplot of tag vs. score. A boxplot was chosen because it helps visualise the interquartile range and any outliers.\n",
        "px.box(df12, x=\"Tag\", y=\"Score\")"
      ],
      "execution_count": 18,
      "outputs": [
        {
          "output_type": "display_data",
          "data": {
            "text/html": [
              "<html>\n",
              "<head><meta charset=\"utf-8\" /></head>\n",
              "<body>\n",
              "    <div>\n",
              "            <script src=\"https://cdnjs.cloudflare.com/ajax/libs/mathjax/2.7.5/MathJax.js?config=TeX-AMS-MML_SVG\"></script><script type=\"text/javascript\">if (window.MathJax) {MathJax.Hub.Config({SVG: {font: \"STIX-Web\"}});}</script>\n",
              "                <script type=\"text/javascript\">window.PlotlyConfig = {MathJaxConfig: 'local'};</script>\n",
              "        <script src=\"https://cdn.plot.ly/plotly-latest.min.js\"></script>    \n",
              "            <div id=\"5a8829f0-b6c7-40eb-a4a3-04cc956ff6a5\" class=\"plotly-graph-div\" style=\"height:525px; width:100%;\"></div>\n",
              "            <script type=\"text/javascript\">\n",
              "                \n",
              "                    window.PLOTLYENV=window.PLOTLYENV || {};\n",
              "                    \n",
              "                if (document.getElementById(\"5a8829f0-b6c7-40eb-a4a3-04cc956ff6a5\")) {\n",
              "                    Plotly.newPlot(\n",
              "                        '5a8829f0-b6c7-40eb-a4a3-04cc956ff6a5',\n",
              "                        [{\"alignmentgroup\": \"True\", \"hoverlabel\": {\"namelength\": 0}, \"hovertemplate\": \"Tag=%{x}<br>Score=%{y}\", \"legendgroup\": \"\", \"marker\": {\"color\": \"#636efa\"}, \"name\": \"\", \"notched\": false, \"offsetgroup\": \"\", \"orientation\": \"v\", \"showlegend\": false, \"type\": \"box\", \"x\": [\"Pink\", \"Pink\", \"Red\", \"Brown\", \"Brown\", \"Brown\", \"Green\", \"Pink\", \"Brown\", \"Pink\", \"Black\", \"Black\", \"Black\", \"Green\", \"Black\", \"Green\", \"Brown\", \"Brown\", \"Brown\", \"Brown\", \"Brown\", \"Pink\", \"Pink\", \"Red\", \"Pink\", \"Black\", \"Pink\", \"Black\", \"Pink\", \"Black\", \"Black\", \"Black\", \"Pink\", \"Pink\", \"Pink\", \"Pink\", \"Pink\", \"Pink\", \"Pink\", \"Pink\", \"Green\", \"Green\", \"Green\", \"Green\", \"Green\", \"Pink\", \"Pink\", \"Pink\", \"Pink\", \"Pink\", \"Pink\", \"Pink\", \"Pink\", \"Pink\", \"Blue\", \"Blue\", \"Green\", \"Green\", \"Green\", \"Green\", \"Green\", \"Blue\", \"Blue\", \"Blue\", \"Blue\", \"Blue\", \"Blue\", \"Blue\", \"Blue\", \"Blue\", \"Blue\", \"Pink\", \"Blue\", \"Pink\", \"Blue\", \"Blue\", \"Pink\", \"Pink\", \"Pink\", \"Pink\", \"Pink\", \"Pink\", \"Pink\", \"Blue\", \"Blue\", \"Blue\", \"Blue\", \"Blue\", \"Blue\", \"Blue\", \"Blue\", \"Blue\", \"Pink\", \"Pink\", \"Pink\", \"Pink\", \"Pink\", \"Pink\", \"Pink\", \"Pink\", \"Pink\", \"Green\", \"Green\", \"Green\", \"Green\", \"Black\", \"Black\", \"Black\", \"Pink\", \"Pink\", \"Pink\", \"Pink\", \"Pink\", \"Pink\", \"Pink\", \"Pink\", \"Pink\", \"Blue\", \"Pink\", \"Blue\", \"Blue\", \"Blue\", \"Pink\", \"Black\", \"Brown\", \"Brown\", \"Brown\", \"Brown\", \"Brown\", \"Brown\", \"Brown\", \"Brown\", \"Red\", \"Red\", \"Red\", \"Blue\", \"Red\", \"Red\", \"Red\", \"Red\", \"Red\", \"Black\", \"Black\", \"Black\", \"Black\", \"Black\", \"Black\", \"Black\", \"Blue\", \"Blue\", \"Blue\", \"Blue\", \"Blue\", \"Black\", \"Black\", \"Black\", \"Black\", \"Black\", \"Black\", \"Black\", \"Black\", \"Black\", \"Green\", \"Brown\", \"Blue\", \"Blue\", \"Blue\", \"Blue\", \"Blue\", \"Black\", \"Blue\", \"Black\", \"Black\", \"Brown\", \"Brown\", \"Black\", \"Brown\", \"Black\", \"Black\", \"Brown\", \"Black\", \"Black\", \"Black\", \"Blue\", \"Brown\", \"Brown\", \"Red\", \"Red\", \"Red\", \"Blue\", \"Red\", \"Red\", \"Red\", \"Red\", \"Red\", \"Red\", \"Blue\", \"Blue\", \"Blue\", \"Blue\", \"Blue\", \"Blue\", \"Blue\", \"Blue\", \"Blue\", \"Blue\", \"Blue\", \"Blue\", \"Blue\", \"Blue\", \"Blue\", \"Pink\", \"Blue\", \"Black\", \"Pink\", \"Black\", \"Blue\", \"Pink\", \"Black\", \"Blue\", \"Blue\", \"Black\", \"Blue\", \"Black\", \"Blue\", \"Blue\", \"Black\", \"Blue\", \"Blue\", \"Blue\", \"Blue\", \"Blue\", \"Black\", \"Blue\", \"Blue\", \"Black\", \"Black\", \"Blue\", \"Pink\", \"Pink\", \"Pink\", \"Pink\", \"Pink\", \"Pink\", \"Black\", \"Black\", \"Black\", \"Black\", \"Black\", \"Black\", \"Black\", \"Pink\", \"Pink\", \"Pink\", \"Pink\", \"Pink\", \"Brown\", \"Brown\", \"Brown\", \"Brown\", \"Red\", \"Brown\", \"Brown\", \"Brown\", \"Brown\", \"Brown\", \"Brown\", \"Brown\", \"Black\", \"Black\", \"Brown\", \"Black\", \"Black\", \"Black\", \"Brown\", \"Green\", \"Green\", \"Green\", \"Red\", \"Green\", \"Red\", \"Green\", \"Red\", \"Green\", \"Green\", \"Green\", \"Green\", \"Red\", \"Pink\", \"Green\", \"Brown\", \"Black\", \"Pink\", \"Pink\", \"Green\", \"Yellow\", \"Red\", \"Red\", \"Pink\", \"Brown\", \"Green\", \"Brown\", \"Brown\", \"Black\", \"Red\", \"Brown\", \"Black\", \"Red\", \"Black\", \"Black\", \"Brown\", \"Black\", \"Brown\", \"Brown\", \"Brown\", \"Brown\", \"Black\", \"Brown\", \"Brown\", \"Green\", \"Brown\", \"Pink\", \"Brown\", \"Brown\", \"Blue\", \"Green\", \"Brown\", \"Black\", \"Blue\", \"Blue\", \"Blue\", \"Blue\", \"Blue\", \"Green\", \"Brown\", \"Green\", \"Blue\", \"Blue\", \"Brown\", \"Pink\", \"Blue\", \"Green\", \"Pink\", \"Red\", \"Pink\", \"Black\", \"Green\", \"Pink\", \"Red\", \"Brown\", \"Black\", \"Pink\", \"Red\", \"Green\", \"Brown\", \"Red\", \"Red\", \"Red\", \"Red\", \"Red\", \"Red\", \"Brown\", \"Brown\", \"Brown\", \"Brown\", \"Brown\", \"Green\", \"Green\", \"Brown\", \"Green\", \"Green\", \"Green\", \"Brown\", \"Brown\", \"Black\", \"Black\", \"Brown\", \"Brown\", \"Brown\", \"Brown\", \"Brown\", \"Brown\", \"Brown\", \"Brown\", \"Brown\", \"Red\", \"Red\", \"Red\", \"Red\", \"Red\", \"Red\", \"Red\", \"Red\", \"Red\", \"Red\", \"Red\", \"Red\", \"Black\", \"Black\", \"Red\", \"Red\", \"Red\", \"Red\", \"Red\", \"Red\", \"Red\", \"Red\", \"Red\", \"Red\", \"Red\", \"Red\", \"Red\", \"Red\", \"Red\", \"Red\", \"Red\", \"Red\", \"Blue\", \"Brown\", \"Yellow\", \"Brown\", \"Brown\", \"Brown\", \"Brown\", \"Green\", \"Green\", \"Red\", \"Red\", \"Pink\", \"Black\", \"Pink\", \"Black\", \"Red\", \"Pink\", \"Red\", \"Green\", \"Black\", \"Brown\", \"Red\", \"Green\", \"Black\", \"Red\", \"Black\", \"Black\", \"Red\", \"Red\", \"Red\", \"Red\", \"Red\", \"Red\", \"Red\", \"Red\", \"Brown\", \"Brown\", \"Brown\", \"Brown\", \"Brown\", \"Brown\", \"Brown\", \"Brown\", \"Brown\", \"Brown\", \"Brown\", \"Green\", \"Green\", \"Green\", \"Red\", \"Red\", \"Red\", \"Green\", \"Green\", \"Blue\", \"Brown\", \"Black\", \"Brown\", \"Green\", \"Pink\", \"Brown\", \"Black\", \"Green\", \"Green\", \"Green\", \"Green\", \"Green\", \"Green\", \"Green\", \"Green\", \"Green\", \"Green\", \"Pink\", \"Green\", \"Brown\", \"Pink\", \"Green\", \"Green\", \"Brown\", \"Brown\", \"Pink\", \"Brown\", \"Black\", \"Pink\", \"Green\", \"Black\", \"Green\", \"Blue\", \"Red\", \"Red\", \"Blue\", \"Black\", \"Pink\", \"Blue\", \"Red\", \"Black\", \"Pink\", \"Green\", \"Yellow\", \"Pink\", \"Green\", \"Brown\", \"Pink\", \"Pink\", \"Black\", \"Red\", \"Red\", \"Brown\", \"Green\", \"Blue\", \"Brown\", \"Green\", \"Blue\", \"Black\", \"Blue\", \"Red\", \"Pink\", \"Black\", \"Green\", \"Blue\", \"Black\", \"Red\", \"Blue\", \"Brown\", \"Pink\", \"Blue\", \"Black\", \"Red\", \"Red\", \"Brown\", \"Red\", \"Black\", \"Green\", \"Green\", \"Green\", \"Yellow\", \"Yellow\", \"Yellow\", \"Yellow\", \"Yellow\", \"Green\", \"Pink\", \"Yellow\", \"Green\", \"Green\", \"Green\", \"Green\", \"Green\", \"Green\", \"Pink\", \"Red\", \"Yellow\", \"Green\", \"Yellow\", \"Yellow\", \"Red\", \"Purple\", \"Purple\", \"Purple\", \"Purple\", \"Purple\", \"Purple\", \"Green\", \"Green\", \"Green\", \"Red\", \"Red\", \"Green\", \"Red\", \"Green\", \"Green\", \"Green\", \"Green\", \"Green\", \"Green\", \"Red\", \"Green\", \"Green\", \"Green\", \"Red\", \"Green\", \"Green\", \"Green\", \"Yellow\", \"Yellow\", \"Yellow\", \"Yellow\", \"Yellow\", \"Green\", \"Green\", \"Green\", \"Yellow\", \"Yellow\", \"Yellow\", \"Yellow\", \"Yellow\", \"Yellow\", \"Yellow\", \"Green\", \"Green\", \"Yellow\", \"Yellow\", \"Yellow\", \"Yellow\", \"Red\", \"Red\", \"Red\", \"Yellow\", \"Red\", \"Red\", \"Red\", \"Yellow\", \"Yellow\", \"Yellow\", \"Yellow\", \"Brown\", \"Brown\", \"Green\", \"Brown\", \"Yellow\", \"Yellow\", \"Yellow\", \"Yellow\", \"Yellow\", \"Yellow\", \"Yellow\", \"Yellow\", \"Yellow\", \"Yellow\", \"Yellow\", \"Yellow\", \"Yellow\", \"Pink\", \"Pink\", \"Pink\", \"Pink\", \"Pink\", \"Pink\", \"Pink\", \"Pink\", \"Pink\", \"Pink\", \"Pink\", \"Yellow\", \"Yellow\", \"Yellow\", \"Yellow\", \"Yellow\", \"Green\", \"Pink\", \"Pink\", \"Pink\", \"Pink\", \"Pink\", \"Pink\", \"Pink\", \"Pink\", \"Pink\", \"Pink\", \"Pink\", \"Yellow\", \"Yellow\", \"Yellow\", \"Yellow\", \"Yellow\", \"Yellow\", \"Yellow\", \"Yellow\", \"Yellow\", \"Yellow\", \"Yellow\", \"Yellow\", \"Yellow\", \"Green\", \"Green\", \"Green\", \"Green\", \"Purple\", \"Purple\", \"Purple\", \"Purple\", \"Red\", \"Red\", \"Red\", \"Red\", \"Red\", \"Red\", \"Red\", \"Red\", \"Purple\", \"Purple\", \"Purple\", \"Purple\", \"Purple\", \"Black\", \"Black\", \"Black\", \"Black\", \"Black\", \"Black\", \"White\", \"White\", \"White\", \"White\", \"White\", \"Red\", \"Red\", \"White\", \"White\", \"Black\", \"Red\", \"Red\", \"Red\", \"White\", \"Red\", \"Purple\", \"Red\", \"Red\", \"Green\", \"Red\", \"Brown\", \"Red\", \"Yellow\", \"Black\", \"Blue\", \"Blue\", \"Blue\", \"Yellow\", \"Yellow\", \"Yellow\", \"Black\", \"Yellow\", \"Yellow\", \"Black\", \"Yellow\", \"Yellow\", \"Black\", \"Red\", \"Red\", \"Red\", \"Red\", \"Red\", \"Red\", \"Black\", \"Brown\", \"Brown\", \"Brown\", \"Black\", \"Black\", \"Yellow\", \"Yellow\", \"Yellow\", \"Yellow\", \"Yellow\", \"Yellow\", \"Yellow\", \"Yellow\", \"Yellow\", \"Yellow\", \"Yellow\", \"Yellow\", \"Yellow\", \"Purple\", \"Red\", \"Yellow\", \"Brown\", \"Brown\", \"Green\", \"White\", \"Red\", \"Brown\", \"Purple\", \"Red\", \"Red\", \"Green\", \"Red\", \"Red\", \"Green\", \"Red\", \"Green\", \"Black\", \"Green\", \"Red\", \"Green\", \"Red\", \"Green\", \"Red\", \"Green\", \"Green\", \"Green\", \"Green\", \"Green\", \"Green\", \"Red\", \"Green\", \"Green\", \"Green\", \"Green\", \"Green\", \"Yellow\", \"Yellow\", \"Green\", \"Yellow\", \"Yellow\", \"Green\", \"Green\", \"Green\", \"Green\", \"Green\", \"Green\", \"Green\", \"Green\", \"Green\", \"Yellow\", \"Yellow\", \"Yellow\", \"Yellow\", \"Black\", \"Pink\", \"Pink\", \"Red\", \"Red\", \"Pink\", \"Red\", \"Red\", \"Red\", \"Red\", \"Red\", \"Red\", \"Pink\", \"Green\", \"Green\", \"Pink\", \"Pink\", \"Green\", \"Green\", \"Green\", \"Green\", \"Green\", \"Green\", \"Pink\", \"Pink\", \"Pink\", \"Pink\", \"Pink\", \"Brown\", \"Brown\", \"Brown\", \"Brown\", \"Brown\", \"Black\", \"Black\", \"Black\", \"Black\", \"Black\", \"Green\", \"Pink\", \"Pink\", \"Pink\", \"Pink\", \"Pink\", \"Purple\", \"Pink\", \"Purple\", \"Pink\", \"Pink\", \"Pink\", \"Pink\", \"Pink\", \"Pink\", \"Pink\", \"Pink\", \"Pink\", \"Pink\", \"Pink\", \"Pink\", \"Pink\", \"Pink\", \"Purple\", \"Purple\", \"Pink\", \"Pink\", \"Pink\", \"Purple\", \"Pink\", \"Pink\", \"Pink\", \"White\", \"White\", \"White\", \"Black\", \"White\", \"White\", \"White\", \"White\", \"Purple\", \"Purple\", \"Purple\", \"Purple\", \"Purple\", \"Purple\", \"Green\", \"Green\", \"Green\", \"Green\", \"Purple\", \"Green\", \"Green\", \"Green\", \"Green\", \"Green\", \"Purple\", \"Purple\", \"White\", \"White\", \"Black\", \"White\", \"White\", \"White\", \"White\", \"Green\", \"Black\", \"Brown\", \"Brown\", \"Brown\", \"Brown\", \"Brown\", \"Brown\", \"Brown\", \"Brown\", \"Purple\", \"Purple\", \"Purple\", \"Purple\", \"Purple\", \"Purple\", \"Purple\", \"Purple\", \"Purple\", \"Purple\", \"Purple\", \"Purple\", \"Black\", \"Black\", \"Black\", \"Black\", \"Brown\", \"Black\", \"Black\", \"Black\", \"Black\", \"Brown\", \"Red\", \"Yellow\", \"Blue\", \"Blue\", \"Blue\", \"Blue\", \"Blue\", \"Blue\", \"Blue\", \"Blue\", \"Red\", \"Red\", \"Black\", \"Yellow\", \"Red\", \"Black\", \"Black\", \"Red\", \"Black\", \"Red\", \"Black\", \"Black\", \"Red\", \"Black\", \"Black\", \"Red\", \"Red\", \"Black\", \"Red\", \"Red\", \"Brown\", \"Brown\", \"White\", \"Red\", \"Red\", \"Red\", \"Blue\", \"Red\", \"Blue\", \"Blue\", \"Red\", \"Blue\", \"Blue\", \"Blue\", \"Black\", \"Black\", \"Black\", \"Black\", \"Black\", \"Black\", \"Purple\", \"Black\", \"Red\", \"Red\", \"Red\", \"Purple\", \"Yellow\", \"Purple\", \"Yellow\", \"Purple\", \"Pink\", \"Purple\", \"Green\", \"Purple\", \"Black\", \"Purple\", \"Red\", \"Black\", \"Purple\", \"Red\", \"White\", \"White\", \"White\", \"White\", \"Red\", \"Red\", \"White\", \"Red\", \"Red\", \"Red\", \"White\", \"White\", \"Purple\", \"Purple\", \"Purple\", \"Purple\", \"Blue\", \"White\", \"White\", \"White\", \"Red\", \"Purple\", \"Blue\", \"Blue\", \"Blue\", \"Red\", \"Black\", \"Blue\", \"Black\", \"Blue\", \"Brown\", \"Blue\", \"Blue\", \"Blue\", \"Blue\", \"Blue\", \"Blue\", \"White\", \"Blue\", \"White\", \"White\", \"White\", \"White\", \"Black\", \"Blue\", \"Red\", \"Purple\", \"White\", \"White\", \"Blue\", \"Red\", \"Green\", \"Pink\", \"Purple\", \"Pink\", \"White\", \"Green\", \"Pink\", \"Yellow\", \"Blue\", \"Purple\", \"Yellow\", \"Purple\", \"Red\", \"Brown\", \"Green\", \"Pink\", \"Green\", \"Pink\", \"Green\", \"Brown\", \"Purple\", \"White\", \"Purple\", \"Brown\", \"Green\", \"Brown\", \"Black\", \"White\", \"Yellow\", \"Yellow\", \"Brown\", \"Red\", \"Purple\", \"Yellow\", \"Black\", \"Blue\", \"Yellow\", \"Red\", \"Black\", \"White\", \"Black\", \"Pink\", \"Black\", \"Yellow\", \"Purple\", \"Yellow\", \"Purple\", \"Brown\", \"Green\", \"Yellow\", \"Green\", \"Blue\", \"Blue\", \"Brown\", \"Green\", \"White\", \"Green\", \"Brown\", \"Black\", \"Yellow\", \"Pink\", \"Pink\", \"Green\", \"Red\", \"Purple\", \"Red\", \"White\", \"Pink\", \"Brown\", \"Yellow\", \"Pink\", \"Purple\", \"Black\", \"Red\", \"Black\", \"Red\", \"White\", \"Blue\", \"Pink\", \"Pink\", \"Pink\", \"Pink\", \"Yellow\", \"Yellow\", \"Yellow\", \"Yellow\", \"Red\", \"Red\", \"Red\", \"Red\", \"Yellow\", \"Red\", \"Yellow\", \"Yellow\", \"Yellow\", \"Pink\", \"Green\", \"White\", \"White\", \"White\", \"White\", \"White\", \"Black\", \"Yellow\", \"Blue\", \"Red\", \"Red\", \"Pink\", \"White\", \"Red\", \"Red\", \"Pink\", \"White\", \"Red\", \"Red\", \"White\", \"White\", \"White\", \"White\", \"White\", \"White\", \"Green\", \"Pink\", \"Pink\", \"Pink\", \"White\", \"White\", \"Pink\", \"Pink\", \"Pink\", \"Pink\", \"Pink\", \"Red\", \"Red\", \"Red\", \"Red\", \"Red\", \"Red\", \"Red\", \"Blue\", \"Pink\", \"Red\", \"Black\", \"Yellow\", \"Red\", \"Pink\", \"Yellow\", \"Pink\", \"Yellow\", \"Yellow\", \"Yellow\", \"Yellow\", \"Yellow\", \"White\", \"White\", \"White\", \"White\", \"White\", \"White\", \"White\", \"Pink\", \"Pink\", \"Pink\", \"Pink\", \"Pink\", \"Pink\", \"Pink\", \"Pink\", \"Pink\", \"Black\", \"White\", \"Black\", \"Black\", \"Black\", \"Black\", \"Pink\", \"Pink\", \"Pink\", \"White\", \"Pink\", \"Pink\", \"Pink\", \"Pink\", \"Pink\", \"Pink\", \"Green\", \"Green\", \"Green\", \"Green\", \"Purple\", \"Brown\", \"White\", \"White\", \"Purple\", \"Blue\", \"Blue\", \"Red\", \"White\", \"Red\", \"White\", \"White\", \"White\", \"White\", \"White\", \"White\", \"White\", \"White\", \"White\", \"White\", \"White\", \"White\", \"Red\", \"White\", \"White\", \"Pink\", \"White\", \"Red\", \"Red\", \"Red\", \"Red\", \"Red\", \"Red\", \"Brown\", \"Brown\", \"Blue\", \"Blue\", \"Blue\", \"Green\", \"Black\", \"Black\", \"Red\", \"Red\", \"Red\", \"Red\", \"Red\", \"Pink\", \"Pink\", \"Pink\", \"Pink\", \"Pink\", \"Yellow\", \"Yellow\", \"Yellow\", \"Yellow\", \"Yellow\", \"Yellow\", \"Yellow\", \"White\", \"White\", \"White\", \"Pink\", \"Pink\", \"Pink\", \"Pink\", \"Yellow\", \"Pink\", \"Red\", \"Pink\", \"Red\", \"Red\", \"White\", \"Red\", \"Red\", \"White\", \"Red\", \"Red\", \"Pink\", \"Pink\", \"Pink\", \"Pink\", \"Pink\", \"Black\", \"Black\", \"Black\", \"Pink\", \"Black\", \"Black\", \"Pink\", \"Pink\", \"Pink\", \"Pink\", \"Black\", \"Yellow\", \"White\", \"White\", \"White\", \"Purple\", \"Red\", \"Red\", \"Red\", \"Red\", \"Red\", \"Red\", \"Red\", \"Pink\", \"Pink\", \"Pink\", \"Pink\", \"Pink\", \"Pink\", \"Pink\", \"Pink\", \"Pink\", \"White\", \"White\", \"White\", \"White\", \"White\", \"White\", \"White\", \"Blue\", \"Brown\", \"Brown\", \"Brown\", \"Brown\", \"Brown\", \"Brown\", \"Blue\", \"Blue\", \"Blue\", \"White\", \"Blue\", \"Black\", \"Blue\", \"Blue\", \"Yellow\", \"Purple\", \"Yellow\", \"Blue\", \"Yellow\", \"Red\", \"Blue\", \"Blue\", \"Yellow\", \"Pink\", \"Yellow\", \"Pink\", \"Blue\", \"Blue\", \"Blue\", \"Blue\", \"Blue\", \"Blue\", \"Blue\", \"Green\", \"Green\", \"Green\", \"White\", \"Green\", \"White\", \"White\", \"White\", \"Blue\", \"Blue\", \"Blue\", \"Blue\", \"Pink\", \"Pink\", \"Pink\", \"Black\", \"Pink\", \"Yellow\", \"Black\", \"Yellow\", \"Black\", \"Yellow\", \"Yellow\", \"Black\", \"Yellow\", \"Yellow\", \"Yellow\", \"White\", \"Yellow\", \"Yellow\", \"White\", \"Pink\", \"White\", \"Yellow\", \"Yellow\", \"Yellow\", \"Yellow\", \"Pink\", \"Pink\", \"Red\", \"Red\", \"Green\", \"Red\", \"Pink\", \"Red\", \"Green\", \"Green\", \"Green\", \"Pink\", \"Pink\", \"Pink\", \"Blue\", \"Pink\", \"Pink\", \"Pink\", \"Pink\", \"Pink\", \"Pink\", \"Blue\", \"Blue\", \"Blue\", \"Blue\", \"Black\", \"Blue\", \"Black\", \"Blue\", \"Black\", \"Black\", \"Black\", \"Blue\", \"Blue\", \"Brown\", \"Blue\", \"Brown\", \"Brown\", \"Blue\", \"Brown\", \"Brown\", \"Brown\", \"Blue\", \"Blue\", \"Blue\", \"Blue\", \"Blue\", \"Blue\", \"Blue\", \"Blue\", \"Blue\", \"Blue\", \"Blue\", \"Blue\", \"Blue\", \"Blue\", \"Blue\", \"Blue\", \"Blue\", \"Blue\", \"Blue\", \"Pink\", \"White\", \"White\", \"White\", \"White\", \"White\", \"Blue\", \"White\", \"White\", \"Blue\", \"White\", \"White\", \"Blue\", \"Blue\", \"Blue\", \"Blue\", \"Pink\", \"Pink\", \"Pink\", \"White\", \"Pink\", \"White\", \"Pink\", \"White\", \"Pink\", \"White\", \"Pink\", \"White\", \"White\", \"Red\", \"Red\", \"White\", \"White\", \"Pink\", \"White\", \"White\", \"White\", \"White\", \"White\", \"White\", \"White\", \"White\", \"Yellow\", \"Yellow\", \"White\", \"White\", \"Black\", \"Purple\", \"Purple\", \"Purple\", \"White\", \"White\", \"White\", \"Blue\", \"Yellow\", \"Green\", \"White\", \"Blue\", \"Blue\", \"Blue\", \"Blue\", \"Blue\", \"Blue\", \"Blue\", \"Blue\", \"Blue\", \"Brown\", \"Brown\", \"Brown\", \"Red\", \"White\", \"White\", \"Black\", \"Blue\", \"Brown\", \"Pink\", \"Brown\", \"Brown\", \"Purple\", \"Brown\", \"Brown\", \"Brown\", \"Blue\", \"Black\", \"Yellow\", \"Purple\", \"Yellow\", \"Yellow\", \"Yellow\", \"Red\", \"Red\", \"Green\", \"White\", \"Green\", \"Green\", \"Green\", \"Green\", \"Green\", \"Green\", \"Green\", \"Green\", \"Green\", \"Green\", \"Green\", \"Pink\", \"White\", \"Purple\", \"Green\", \"Green\", \"Green\", \"Black\", \"Black\", \"Black\", \"Black\", \"Black\", \"Black\", \"Purple\", \"Yellow\", \"Blue\", \"Black\", \"White\", \"Purple\", \"Black\", \"Yellow\", \"Yellow\", \"Red\", \"Pink\", \"Brown\", \"Purple\", \"Green\", \"Pink\", \"Red\", \"Brown\", \"Red\", \"Brown\", \"Pink\", \"Blue\", \"Yellow\", \"Blue\", \"Blue\", \"Pink\", \"Black\", \"White\", \"Pink\", \"Red\", \"Pink\", \"Black\", \"Red\", \"Green\", \"Yellow\", \"Blue\", \"Blue\", \"Brown\", \"White\", \"Blue\", \"Blue\", \"White\", \"Red\", \"Yellow\", \"Green\", \"Green\", \"White\", \"Yellow\", \"White\", \"Brown\", \"Blue\", \"Brown\", \"Purple\", \"Brown\", \"Yellow\", \"Brown\", \"Purple\", \"Red\", \"Blue\", \"Black\", \"White\", \"Black\", \"White\", \"Pink\", \"Pink\", \"White\", \"Red\", \"Brown\", \"Green\", \"Pink\", \"Yellow\", \"Pink\", \"Green\", \"Black\", \"White\", \"Purple\", \"White\", \"Yellow\", \"Yellow\", \"Black\", \"Yellow\", \"Pink\", \"Pink\", \"Pink\", \"Pink\", \"Pink\", \"Pink\", \"Pink\", \"Pink\", \"Pink\", \"Pink\", \"Pink\", \"Pink\", \"Blue\", \"Pink\", \"Blue\", \"Pink\", \"Blue\", \"Pink\", \"Blue\", \"Pink\", \"Red\", \"Red\", \"Green\", \"Green\", \"Green\", \"Green\", \"Blue\", \"Green\", \"Green\", \"Blue\", \"Blue\", \"Pink\", \"Blue\", \"Red\", \"Red\", \"Green\", \"Pink\", \"Pink\", \"Pink\", \"Pink\", \"Pink\", \"Pink\", \"Pink\", \"Pink\", \"Pink\", \"Pink\", \"Pink\", \"White\", \"Blue\", \"Blue\", \"Blue\", \"Blue\", \"Green\", \"Blue\", \"Blue\", \"Blue\", \"Blue\", \"Blue\", \"Green\", \"Blue\", \"Green\", \"Blue\", \"Blue\", \"Blue\", \"Brown\", \"Blue\", \"Blue\", \"White\", \"Red\", \"Green\", \"Brown\", \"Green\", \"Black\", \"Yellow\", \"Red\", \"Black\", \"Red\", \"Pink\", \"Red\", \"Green\", \"Black\", \"Yellow\", \"Green\", \"Black\", \"Blue\", \"Black\", \"Black\", \"Brown\", \"Black\", \"Blue\", \"Black\", \"Blue\", \"Black\", \"Black\", \"Black\", \"Yellow\", \"White\", \"Blue\", \"Black\", \"Pink\", \"Black\", \"Yellow\", \"Pink\", \"Blue\", \"Yellow\", \"Red\", \"Green\", \"Red\", \"Green\", \"Green\", \"Red\", \"Yellow\", \"Black\", \"Green\", \"Red\", \"Pink\", \"Blue\", \"Blue\", \"Brown\", \"Blue\", \"Green\", \"Black\", \"Brown\", \"Red\", \"Pink\", \"Brown\", \"Green\", \"Blue\", \"Black\", \"Pink\", \"Green\", \"Brown\", \"Yellow\", \"Red\", \"Green\", \"Pink\", \"Green\", \"Green\", \"Green\", \"Green\", \"Green\", \"Red\", \"Green\", \"Green\", \"Green\", \"Black\", \"Green\", \"Black\", \"Black\", \"Black\", \"Black\", \"Green\", \"Black\", \"Green\", \"Black\", \"Black\", \"Green\", \"Green\", \"Green\", \"Green\", \"Green\", \"Green\", \"Green\", \"Green\", \"Green\", \"Green\", \"Green\", \"Green\", \"Green\", \"Yellow\", \"Red\", \"Red\", \"Red\", \"Red\", \"Red\", \"Red\", \"Red\", \"Red\", \"Red\", \"Green\", \"Black\", \"Green\", \"Pink\", \"Blue\", \"Blue\", \"Red\", \"Red\", \"Red\", \"Red\", \"Red\", \"Red\", \"Red\", \"Red\", \"Red\", \"Red\", \"Green\", \"Green\", \"Red\", \"Green\", \"Green\", \"Red\", \"Blue\", \"Red\", \"Red\", \"Yellow\", \"Red\", \"Red\", \"Red\", \"Red\", \"Red\", \"Red\", \"Yellow\", \"Red\", \"Red\", \"Red\", \"Red\", \"Red\", \"Yellow\", \"Yellow\", \"Blue\", \"Blue\", \"Blue\", \"Blue\", \"Yellow\", \"Blue\", \"Blue\", \"Blue\", \"Yellow\", \"Blue\", \"Black\", \"Blue\", \"Black\", \"Black\", \"Black\", \"Black\", \"Black\", \"Black\", \"Yellow\", \"Black\", \"Red\", \"Pink\", \"Green\", \"Green\", \"Black\", \"Black\", \"Green\", \"Green\", \"Green\", \"Brown\", \"Black\", \"Brown\", \"Black\", \"Green\", \"Black\", \"Brown\", \"Green\", \"Black\", \"Brown\", \"Green\", \"Black\", \"Brown\", \"Black\", \"Brown\", \"Brown\", \"Blue\", \"Green\", \"Blue\", \"Blue\", \"Green\", \"Blue\", \"Blue\", \"Blue\", \"Blue\", \"Green\", \"Yellow\", \"Green\", \"Yellow\", \"Yellow\", \"Yellow\", \"Yellow\", \"Brown\", \"Brown\", \"Brown\", \"Brown\", \"Brown\", \"Brown\", \"Green\", \"Green\", \"Yellow\", \"Yellow\", \"Yellow\", \"Yellow\", \"Yellow\", \"Yellow\", \"Blue\", \"Black\", \"Green\", \"Green\", \"Green\", \"Black\", \"Green\", \"Black\", \"Green\", \"Black\", \"Black\", \"Black\", \"Yellow\", \"Blue\", \"Yellow\", \"Blue\", \"Blue\", \"Black\", \"Yellow\", \"Black\", \"Blue\", \"Red\", \"Red\", \"Blue\", \"Green\", \"Red\", \"Red\", \"Red\", \"Green\", \"Blue\", \"Black\", \"Red\", \"Black\", \"Red\", \"Red\", \"Red\", \"Red\", \"Pink\", \"Pink\", \"Red\", \"Pink\", \"Red\", \"Red\", \"Red\", \"Pink\", \"Red\", \"Red\", \"Pink\", \"Red\", \"Red\", \"Pink\", \"Red\", \"Pink\", \"Pink\", \"Brown\", \"Brown\", \"Brown\", \"Brown\", \"Brown\", \"Brown\", \"Brown\", \"Brown\", \"Yellow\", \"Yellow\", \"Yellow\", \"Yellow\", \"Black\", \"Black\", \"Black\", \"Black\", \"Black\", \"Black\", \"Black\", \"Green\", \"Black\", \"Green\", \"Black\", \"Green\", \"Green\", \"Green\", \"Green\", \"Green\", \"Red\", \"Red\", \"Green\", \"Green\", \"Green\", \"Green\", \"Green\", \"Red\", \"Red\", \"Green\", \"Red\", \"Green\", \"Green\", \"Green\", \"Yellow\", \"Red\", \"Green\", \"Yellow\", \"Red\", \"Green\", \"Yellow\", \"Yellow\", \"Red\", \"Red\", \"Yellow\", \"Yellow\", \"Yellow\", \"Brown\", \"Brown\", \"Brown\", \"Brown\", \"Brown\", \"Brown\", \"Brown\", \"White\", \"White\", \"White\", \"White\", \"White\", \"White\", \"Yellow\", \"Yellow\", \"Yellow\", \"Yellow\", \"Yellow\", \"Yellow\", \"Yellow\", \"Blue\", \"Red\", \"Pink\", \"Pink\", \"Pink\", \"Pink\", \"Red\", \"Pink\", \"Yellow\", \"Green\", \"Pink\", \"Brown\", \"Red\", \"Yellow\", \"Red\", \"Brown\", \"Black\", \"White\", \"Green\", \"Black\", \"Red\", \"Pink\", \"Red\", \"Pink\", \"Black\", \"Yellow\", \"Black\", \"Green\", \"Brown\", \"Yellow\", \"White\", \"Green\", \"Red\", \"Black\", \"Brown\", \"Green\", \"Blue\", \"Black\", \"Yellow\", \"Blue\", \"Red\", \"White\", \"Red\", \"Brown\", \"Yellow\", \"Black\", \"Blue\", \"Blue\", \"Green\", \"Brown\", \"Brown\", \"White\", \"Blue\", \"Pink\", \"Blue\", \"Yellow\", \"Green\", \"Green\", \"Pink\", \"Blue\", \"Green\", \"Red\", \"Red\", \"Brown\", \"Black\", \"Brown\", \"Pink\", \"Green\", \"Black\", \"Brown\", \"Pink\", \"Red\", \"Red\", \"Blue\", \"Black\", \"Yellow\"], \"x0\": \" \", \"xaxis\": \"x\", \"y\": [3, 3, 5, 4, 3, 3, 4, 2, 2, 2, 2, 3, 3, 3, 2, 3, 3, 3, 3, 3, 4, 3, 2, 4, 1, 2, 5, 2, 2, 4, 1, 4, 1, 4, 3, 2, 2, 5, 2, 2, 3, 3, 3, 3, 3, 2, 1, 4, 2, 3, 1, 2, 1, 3, 2, 2, 3, 3, 3, 3, 3, 2, 2, 3, 3, 3, 1, 4, 5, 3, 1, 3, 3, 2, 3, 3, 3, 2, 2, 2, 5, 2, 2, 4, 2, 2, 2, 0, 0, 0, 1, 1, 5, 3, 5, 4, 4, 5, 4, 3, 5, 2, 2, 2, 3, 3, 4, 3, 2, 2, 2, 4, 4, 4, 2, 3, 1, 4, 2, 3, 3, 3, 3, 3, 4, 5, 0, 0, 3, 4, 4, 5, 2, 2, 3, 3, 1, 3, 2, 2, 4, 3, 3, 3, 3, 3, 3, 2, 3, 3, 4, 3, 3, 3, 2, 2, 3, 2, 3, 3, 4, 4, 2, 3, 3, 2, 3, 4, 3, 3, 3, 2, 2, 3, 1, 2, 1, 3, 2, 2, 2, 2, 4, 3, 3, 5, 3, 4, 4, 2, 2, 4, 3, 2, 3, 4, 3, 1, 3, 4, 4, 3, 3, 2, 3, 3, 2, 4, 4, 3, 3, 4, 2, 2, 3, 2, 0, 3, 3, 3, 2, 3, 3, 3, 2, 1, 2, 4, 3, 4, 3, 4, 2, 2, 3, 4, 2, 4, 2, 3, 2, 3, 3, 3, 2, 5, 1, 1, 3, 3, 3, 2, 1, 2, 2, 3, 2, 3, 2, 3, 3, 4, 1, 2, 3, 3, 1, 2, 3, 3, 1, 2, 3, 3, 3, 3, 2, 3, 4, 3, 4, 3, 3, 3, 3, 3, 3, 3, 3, 3, 3, 3, 4, 2, 2, 3, 3, 3, 3, 2, 2, 2, 3, 3, 3, 4, 3, 4, 3, 3, 2, 2, 1, 2, 4, 3, 2, 5, 4, 4, 1, 3, 3, 2, 3, 2, 0, 3, 3, 3, 3, 3, 3, 3, 3, 2, 3, 3, 3, 3, 3, 3, 2, 2, 3, 3, 3, 3, 3, 3, 3, 3, 2, 3, 3, 3, 3, 2, 2, 3, 4, 3, 3, 1, 3, 3, 4, 2, 3, 2, 3, 3, 4, 3, 2, 2, 3, 1, 3, 4, 1, 3, 5, 4, 3, 2, 2, 3, 3, 3, 4, 4, 4, 4, 4, 3, 4, 3, 4, 4, 3, 4, 3, 5, 3, 3, 3, 3, 3, 3, 3, 3, 3, 3, 3, 3, 3, 2, 2, 3, 2, 2, 3, 3, 3, 1, 3, 2, 3, 3, 1, 4, 1, 3, 3, 3, 3, 2, 3, 3, 3, 3, 3, 1, 4, 2, 4, 2, 3, 3, 3, 2, 4, 3, 3, 3, 0, 3, 3, 3, 4, 4, 3, 1, 2, 2, 2, 3, 3, 4, 4, 3, 5, 2, 3, 2, 3, 4, 4, 3, 2, 3, 1, 2, 2, 2, 1, 3, 3, 3, 5, 4, 3, 3, 5, 4, 4, 3, 0, 4, 3, 4, 3, 4, 4, 4, 3, 3, 3, 4, 4, 5, 3, 4, 4, 3, 3, 3, 3, 4, 4, 3, 3, 2, 3, 5, 5, 4, 3, 5, 5, 5, 3, 3, 3, 3, 4, 5, 4, 4, 5, 5, 5, 4, 3, 4, 4, 4, 4, 4, 5, 5, 3, 3, 3, 3, 3, 3, 3, 4, 3, 3, 2, 3, 2, 3, 4, 2, 3, 3, 2, 3, 3, 4, 3, 3, 4, 2, 4, 3, 4, 3, 3, 4, 3, 3, 3, 3, 3, 4, 2, 2, 2, 3, 3, 1, 2, 2, 3, 2, 3, 3, 3, 2, 4, 2, 4, 3, 3, 3, 3, 3, 4, 4, 3, 2, 2, 3, 3, 2, 2, 3, 3, 4, 2, 2, 3, 3, 2, 4, 3, 5, 3, 4, 3, 2, 3, 3, 3, 3, 3, 3, 3, 2, 3, 2, 4, 4, 2, 2, 2, 3, 1, 3, 3, 3, 2, 3, 3, 3, 4, 4, 3, 4, 2, 2, 2, 3, 3, 1, 3, 2, 3, 1, 3, 2, 3, 3, 4, 4, 4, 3, 3, 4, 3, 3, 4, 3, 3, 3, 3, 2, 3, 3, 2, 1, 3, 4, 5, 3, 2, 3, 1, 2, 3, 0, 4, 2, 1, 3, 2, 2, 2, 3, 3, 1, 1, 3, 4, 3, 3, 4, 4, 3, 4, 3, 3, 3, 2, 4, 4, 3, 2, 3, 3, 5, 3, 0, 3, 3, 2, 4, 3, 3, 4, 2, 3, 3, 4, 4, 3, 3, 4, 2, 2, 3, 4, 4, 3, 3, 4, 2, 2, 3, 2, 3, 1, 3, 4, 3, 4, 3, 4, 2, 2, 4, 3, 2, 4, 3, 3, 5, 2, 4, 2, 2, 2, 3, 3, 2, 2, 2, 2, 2, 3, 3, 4, 2, 5, 3, 4, 2, 4, 4, 4, 4, 2, 3, 5, 4, 5, 4, 3, 3, 4, 2, 4, 3, 3, 4, 2, 3, 2, 1, 2, 1, 4, 1, 3, 1, 3, 3, 3, 3, 2, 2, 3, 3, 4, 4, 1, 3, 3, 3, 1, 1, 3, 4, 3, 1, 3, 3, 3, 3, 4, 3, 3, 3, 3, 3, 4, 4, 3, 3, 5, 4, 3, 2, 3, 3, 2, 1, 3, 3, 3, 3, 3, 3, 2, 3, 4, 3, 3, 1, 4, 3, 3, 3, 3, 4, 4, 5, 4, 4, 3, 1, 3, 4, 3, 3, 3, 2, 3, 5, 4, 3, 2, 4, 5, 3, 3, 5, 1, 1, 5, 2, 5, 2, 3, 4, 2, 3, 2, 3, 4, 3, 4, 4, 1, 2, 2, 0, 0, 2, 1, 3, 2, 3, 3, 4, 4, 3, 3, 4, 3, 3, 2, 3, 3, 3, 2, 3, 3, 2, 3, 4, 5, 3, 5, 3, 2, 3, 2, 3, 3, 3, 3, 2, 3, 4, 4, 3, 4, 4, 3, 5, 5, 4, 4, 4, 3, 3, 4, 3, 2, 1, 2, 2, 3, 3, 2, 2, 3, 5, 2, 4, 3, 1, 2, 2, 3, 3, 2, 1, 4, 4, 4, 3, 3, 3, 3, 1, 2, 2, 2, 4, 3, 5, 2, 4, 3, 4, 3, 3, 3, 4, 3, 3, 3, 3, 3, 2, 2, 3, 3, 3, 2, 3, 2, 3, 3, 1, 3, 1, 3, 2, 3, 2, 3, 4, 5, 3, 3, 4, 2, 3, 3, 2, 2, 3, 4, 4, 5, 5, 3, 4, 3, 3, 4, 4, 3, 3, 5, 3, 4, 5, 3, 1, 5, 2, 3, 3, 5, 4, 4, 5, 3, 4, 5, 4, 5, 3, 5, 4, 3, 4, 2, 3, 4, 3, 4, 4, 3, 2, 4, 3, 4, 4, 5, 4, 3, 4, 5, 3, 4, 5, 3, 4, 4, 4, 2, 3, 5, 4, 4, 3, 3, 5, 3, 3, 5, 3, 3, 3, 3, 3, 4, 4, 3, 4, 3, 3, 4, 3, 3, 4, 3, 3, 4, 4, 4, 4, 4, 4, 5, 5, 5, 4, 3, 5, 4, 3, 3, 5, 4, 5, 5, 3, 3, 4, 4, 1, 1, 1, 3, 3, 3, 2, 4, 2, 2, 3, 1, 1, 0, 3, 2, 2, 1, 3, 4, 3, 3, 3, 4, 1, 4, 4, 1, 1, 3, 2, 4, 2, 3, 3, 1, 3, 3, 4, 4, 4, 4, 3, 5, 4, 2, 3, 2, 1, 3, 2, 3, 4, 1, 3, 2, 2, 1, 2, 3, 4, 3, 2, 2, 2, 1, 4, 4, 2, 3, 2, 1, 2, 2, 4, 2, 2, 5, 4, 3, 4, 4, 3, 2, 4, 4, 4, 5, 3, 4, 3, 3, 3, 2, 2, 2, 3, 3, 3, 2, 2, 3, 1, 2, 3, 5, 5, 5, 4, 0, 5, 2, 1, 1, 3, 5, 1, 1, 4, 4, 4, 1, 5, 4, 2, 3, 3, 3, 2, 3, 2, 2, 3, 4, 2, 2, 1, 3, 2, 2, 3, 2, 1, 4, 3, 3, 2, 2, 3, 2, 3, 3, 3, 3, 3, 3, 2, 3, 2, 1, 3, 3, 4, 3, 4, 3, 4, 4, 4, 3, 3, 3, 3, 3, 3, 4, 1, 3, 2, 4, 4, 2, 4, 2, 2, 3, 3, 1, 4, 2, 3, 3, 2, 4, 2, 2, 3, 4, 4, 4, 0, 2, 2, 5, 5, 2, 3, 2, 3, 3, 3, 1, 2, 3, 2, 2, 3, 2, 3, 3, 3, 3, 3, 3, 2, 3, 2, 5, 4, 4, 2, 2, 2, 2, 2, 3, 3, 2, 2, 5, 3, 3, 4, 3, 2, 3, 2, 1, 4, 2, 2, 3, 1, 3, 2, 1, 3, 3, 2, 3, 2, 3, 3, 2, 2, 1, 2, 4, 3, 3, 3, 4, 4, 1, 3, 2, 4, 4, 1, 3, 1, 1, 2, 1, 4, 1, 1, 4, 3, 1, 3, 1, 2, 3, 3, 1, 2, 4, 4, 1, 2, 2, 3, 3, 2, 2, 3, 1, 2, 5, 3, 3, 4, 3, 3, 3, 3, 3, 2, 4, 4, 4, 3, 3, 1, 2, 2, 2, 2, 1, 2, 2, 2, 1, 3, 3, 2, 3, 4, 1, 3, 4, 1, 1, 3, 5, 2, 2, 2, 4, 2, 4, 3, 2, 3, 1, 3, 2, 3, 2, 2, 4, 3, 4, 4, 2, 1, 4, 5, 4, 5, 4, 2, 2, 2, 3, 4, 4, 2, 3, 2, 2, 2, 2, 3, 4, 1, 4, 0, 1, 2, 3, 3, 4, 2, 4, 3, 4, 3, 4, 4, 4, 3, 2, 2, 3, 3, 4, 2, 4, 3, 2, 2, 3, 2, 4, 2, 2, 2, 1, 4, 2, 1, 1, 3, 3, 2, 3, 2, 3, 2, 1, 4, 3, 3, 2, 2, 3, 2, 4, 1, 2, 2, 3, 4, 3, 3, 3, 3, 3, 1, 1, 3, 4, 4, 2, 4, 4, 4, 4, 2, 3, 3, 4, 3, 3, 4, 3, 4, 2, 3, 4, 4, 2, 3, 2, 3, 3, 4, 4, 3, 4, 4, 4, 3, 5, 4, 4, 3, 3, 4, 4, 4, 2, 3, 5, 4, 4, 3, 4, 4, 3, 4, 5, 5, 4, 5, 3, 4, 4, 4, 4, 3, 3, 4, 4, 5, 5, 4, 3, 3, 5, 5, 3, 3, 4, 3, 3, 4, 4, 4, 4, 4, 5, 4, 4, 4, 4, 3, 5, 5, 5, 5, 3, 5, 4, 4, 4, 3, 3, 5, 4, 5, 4, 3, 4, 4, 2, 2, 2, 3, 2, 3, 3, 3, 4, 3, 2, 2, 2, 3, 3, 3, 3, 3, 1, 3, 2, 2, 2, 3, 3, 3, 2, 1, 2, 3, 3, 3, 2, 2, 3, 4, 2, 3, 3, 3, 3, 2, 3, 4, 2, 3, 4, 5, 3, 3, 3, 2, 4, 3, 3, 4, 3, 3, 4, 3, 5, 3, 3, 4, 3, 4, 3, 2, 3, 2, 4, 4, 3, 4, 4, 4, 4, 3, 4, 4, 2, 4, 4, 4, 4, 4, 2, 5, 2, 3, 3, 4, 3, 2, 3, 4, 4, 4, 4, 4, 4, 4, 4, 4, 4, 2, 4, 4, 4, 4, 4, 4, 2, 4, 3, 3, 3, 3, 4, 3, 4, 4, 3, 4, 4, 4, 4, 4, 4, 4, 4, 4, 4, 3, 4, 4, 3, 2, 4, 2, 2, 4, 4, 2, 4, 3, 3, 3, 4, 4, 3, 3, 3, 4, 4, 3, 3, 2, 4, 3, 2, 4, 3, 4, 4, 5, 3, 5, 4, 3, 4, 3, 4, 3, 2, 4, 2, 2, 2, 3, 4, 3, 3, 4, 3, 2, 4, 3, 3, 4, 5, 3, 5, 2, 3, 2, 1, 2, 4, 4, 3, 3, 3, 3, 3, 4, 3, 2, 3, 3, 4, 3, 3, 2, 3, 2, 2, 2, 5, 4, 4, 4, 3, 3, 4, 3, 4, 3, 3, 4, 3, 4, 4, 4, 3, 2, 3, 3, 4, 3, 3, 3, 2, 4, 2, 2, 4, 2, 1, 3, 1, 3, 3, 4, 2, 5, 3, 3, 3, 2, 2, 3, 2, 2, 4, 3, 3, 4, 3, 3, 3, 3, 4, 3, 5, 3, 4, 2, 4, 3, 2, 4, 3, 1, 3, 3, 2, 2, 3, 4, 5, 5, 4, 4, 4, 3, 4, 2, 2, 2, 3, 5, 2, 1, 2, 3, 2, 4, 2, 4, 3, 2, 3, 4, 3, 4, 3, 3, 2, 2, 4, 2, 3, 4, 3, 4, 1, 3, 3, 2, 1, 2, 2, 3, 3, 3, 3, 3, 3, 3, 4, 3, 3, 4, 4, 4, 3, 4, 4, 2, 2, 4, 2, 1, 4, 4, 3, 2, 4, 4, 3, 3, 3, 0, 3, 2, 3, 3, 1, 5, 3, 3, 3, 3, 3, 3, 3, 2, 2, 2, 2, 1, 1, 4, 4, 2, 3, 2, 1, 2, 3, 2, 3, 3, 3, 3, 2, 3, 2, 4, 2, 2, 3, 4, 1, 3, 5, 3, 3, 3, 4, 4, 3, 3, 1, 3, 3, 1, 4, 3, 3, 2, 4, 3, 3, 3, 1, 3, 2, 4, 4, 3, 3, 5, 5, 4, 3, 3, 4, 3, 4, 3, 4, 4, 4, 3, 3, 4, 5, 3, 4, 4, 4, 4, 4, 3, 3, 3, 3, 5, 3, 3, 3, 5, 3, 4, 3, 3, 3, 3, 4, 3, 4, 3, 3, 4, 3, 3, 4, 4, 3, 3, 4, 4, 3, 4, 3, 3, 3, 3, 4, 3, 3, 4, 3, 4, 5, 5, 3], \"y0\": \" \", \"yaxis\": \"y\"}],\n",
              "                        {\"boxmode\": \"group\", \"legend\": {\"tracegroupgap\": 0}, \"margin\": {\"t\": 60}, \"template\": {\"data\": {\"bar\": [{\"error_x\": {\"color\": \"#2a3f5f\"}, \"error_y\": {\"color\": \"#2a3f5f\"}, \"marker\": {\"line\": {\"color\": \"#E5ECF6\", \"width\": 0.5}}, \"type\": \"bar\"}], \"barpolar\": [{\"marker\": {\"line\": {\"color\": \"#E5ECF6\", \"width\": 0.5}}, \"type\": \"barpolar\"}], \"carpet\": [{\"aaxis\": {\"endlinecolor\": \"#2a3f5f\", \"gridcolor\": \"white\", \"linecolor\": \"white\", \"minorgridcolor\": \"white\", \"startlinecolor\": \"#2a3f5f\"}, \"baxis\": {\"endlinecolor\": \"#2a3f5f\", \"gridcolor\": \"white\", \"linecolor\": \"white\", \"minorgridcolor\": \"white\", \"startlinecolor\": \"#2a3f5f\"}, \"type\": \"carpet\"}], \"choropleth\": [{\"colorbar\": {\"outlinewidth\": 0, \"ticks\": \"\"}, \"type\": \"choropleth\"}], \"contour\": [{\"colorbar\": {\"outlinewidth\": 0, \"ticks\": \"\"}, \"colorscale\": [[0.0, \"#0d0887\"], [0.1111111111111111, \"#46039f\"], [0.2222222222222222, \"#7201a8\"], [0.3333333333333333, \"#9c179e\"], [0.4444444444444444, \"#bd3786\"], [0.5555555555555556, \"#d8576b\"], [0.6666666666666666, \"#ed7953\"], [0.7777777777777778, \"#fb9f3a\"], [0.8888888888888888, \"#fdca26\"], [1.0, \"#f0f921\"]], \"type\": \"contour\"}], \"contourcarpet\": [{\"colorbar\": {\"outlinewidth\": 0, \"ticks\": \"\"}, \"type\": \"contourcarpet\"}], \"heatmap\": [{\"colorbar\": {\"outlinewidth\": 0, \"ticks\": \"\"}, \"colorscale\": [[0.0, \"#0d0887\"], [0.1111111111111111, \"#46039f\"], [0.2222222222222222, \"#7201a8\"], [0.3333333333333333, \"#9c179e\"], [0.4444444444444444, \"#bd3786\"], [0.5555555555555556, \"#d8576b\"], [0.6666666666666666, \"#ed7953\"], [0.7777777777777778, \"#fb9f3a\"], [0.8888888888888888, \"#fdca26\"], [1.0, \"#f0f921\"]], \"type\": \"heatmap\"}], \"heatmapgl\": [{\"colorbar\": {\"outlinewidth\": 0, \"ticks\": \"\"}, \"colorscale\": [[0.0, \"#0d0887\"], [0.1111111111111111, \"#46039f\"], [0.2222222222222222, \"#7201a8\"], [0.3333333333333333, \"#9c179e\"], [0.4444444444444444, \"#bd3786\"], [0.5555555555555556, \"#d8576b\"], [0.6666666666666666, \"#ed7953\"], [0.7777777777777778, \"#fb9f3a\"], [0.8888888888888888, \"#fdca26\"], [1.0, \"#f0f921\"]], \"type\": \"heatmapgl\"}], \"histogram\": [{\"marker\": {\"colorbar\": {\"outlinewidth\": 0, \"ticks\": \"\"}}, \"type\": \"histogram\"}], \"histogram2d\": [{\"colorbar\": {\"outlinewidth\": 0, \"ticks\": \"\"}, \"colorscale\": [[0.0, \"#0d0887\"], [0.1111111111111111, \"#46039f\"], [0.2222222222222222, \"#7201a8\"], [0.3333333333333333, \"#9c179e\"], [0.4444444444444444, \"#bd3786\"], [0.5555555555555556, \"#d8576b\"], [0.6666666666666666, \"#ed7953\"], [0.7777777777777778, \"#fb9f3a\"], [0.8888888888888888, \"#fdca26\"], [1.0, \"#f0f921\"]], \"type\": \"histogram2d\"}], \"histogram2dcontour\": [{\"colorbar\": {\"outlinewidth\": 0, \"ticks\": \"\"}, \"colorscale\": [[0.0, \"#0d0887\"], [0.1111111111111111, \"#46039f\"], [0.2222222222222222, \"#7201a8\"], [0.3333333333333333, \"#9c179e\"], [0.4444444444444444, \"#bd3786\"], [0.5555555555555556, \"#d8576b\"], [0.6666666666666666, \"#ed7953\"], [0.7777777777777778, \"#fb9f3a\"], [0.8888888888888888, \"#fdca26\"], [1.0, \"#f0f921\"]], \"type\": \"histogram2dcontour\"}], \"mesh3d\": [{\"colorbar\": {\"outlinewidth\": 0, \"ticks\": \"\"}, \"type\": \"mesh3d\"}], \"parcoords\": [{\"line\": {\"colorbar\": {\"outlinewidth\": 0, \"ticks\": \"\"}}, \"type\": \"parcoords\"}], \"pie\": [{\"automargin\": true, \"type\": \"pie\"}], \"scatter\": [{\"marker\": {\"colorbar\": {\"outlinewidth\": 0, \"ticks\": \"\"}}, \"type\": \"scatter\"}], \"scatter3d\": [{\"line\": {\"colorbar\": {\"outlinewidth\": 0, \"ticks\": \"\"}}, \"marker\": {\"colorbar\": {\"outlinewidth\": 0, \"ticks\": \"\"}}, \"type\": \"scatter3d\"}], \"scattercarpet\": [{\"marker\": {\"colorbar\": {\"outlinewidth\": 0, \"ticks\": \"\"}}, \"type\": \"scattercarpet\"}], \"scattergeo\": [{\"marker\": {\"colorbar\": {\"outlinewidth\": 0, \"ticks\": \"\"}}, \"type\": \"scattergeo\"}], \"scattergl\": [{\"marker\": {\"colorbar\": {\"outlinewidth\": 0, \"ticks\": \"\"}}, \"type\": \"scattergl\"}], \"scattermapbox\": [{\"marker\": {\"colorbar\": {\"outlinewidth\": 0, \"ticks\": \"\"}}, \"type\": \"scattermapbox\"}], \"scatterpolar\": [{\"marker\": {\"colorbar\": {\"outlinewidth\": 0, \"ticks\": \"\"}}, \"type\": \"scatterpolar\"}], \"scatterpolargl\": [{\"marker\": {\"colorbar\": {\"outlinewidth\": 0, \"ticks\": \"\"}}, \"type\": \"scatterpolargl\"}], \"scatterternary\": [{\"marker\": {\"colorbar\": {\"outlinewidth\": 0, \"ticks\": \"\"}}, \"type\": \"scatterternary\"}], \"surface\": [{\"colorbar\": {\"outlinewidth\": 0, \"ticks\": \"\"}, \"colorscale\": [[0.0, \"#0d0887\"], [0.1111111111111111, \"#46039f\"], [0.2222222222222222, \"#7201a8\"], [0.3333333333333333, \"#9c179e\"], [0.4444444444444444, \"#bd3786\"], [0.5555555555555556, \"#d8576b\"], [0.6666666666666666, \"#ed7953\"], [0.7777777777777778, \"#fb9f3a\"], [0.8888888888888888, \"#fdca26\"], [1.0, \"#f0f921\"]], \"type\": \"surface\"}], \"table\": [{\"cells\": {\"fill\": {\"color\": \"#EBF0F8\"}, \"line\": {\"color\": \"white\"}}, \"header\": {\"fill\": {\"color\": \"#C8D4E3\"}, \"line\": {\"color\": \"white\"}}, \"type\": \"table\"}]}, \"layout\": {\"annotationdefaults\": {\"arrowcolor\": \"#2a3f5f\", \"arrowhead\": 0, \"arrowwidth\": 1}, \"coloraxis\": {\"colorbar\": {\"outlinewidth\": 0, \"ticks\": \"\"}}, \"colorscale\": {\"diverging\": [[0, \"#8e0152\"], [0.1, \"#c51b7d\"], [0.2, \"#de77ae\"], [0.3, \"#f1b6da\"], [0.4, \"#fde0ef\"], [0.5, \"#f7f7f7\"], [0.6, \"#e6f5d0\"], [0.7, \"#b8e186\"], [0.8, \"#7fbc41\"], [0.9, \"#4d9221\"], [1, \"#276419\"]], \"sequential\": [[0.0, \"#0d0887\"], [0.1111111111111111, \"#46039f\"], [0.2222222222222222, \"#7201a8\"], [0.3333333333333333, \"#9c179e\"], [0.4444444444444444, \"#bd3786\"], [0.5555555555555556, \"#d8576b\"], [0.6666666666666666, \"#ed7953\"], [0.7777777777777778, \"#fb9f3a\"], [0.8888888888888888, \"#fdca26\"], [1.0, \"#f0f921\"]], \"sequentialminus\": [[0.0, \"#0d0887\"], [0.1111111111111111, \"#46039f\"], [0.2222222222222222, \"#7201a8\"], [0.3333333333333333, \"#9c179e\"], [0.4444444444444444, \"#bd3786\"], [0.5555555555555556, \"#d8576b\"], [0.6666666666666666, \"#ed7953\"], [0.7777777777777778, \"#fb9f3a\"], [0.8888888888888888, \"#fdca26\"], [1.0, \"#f0f921\"]]}, \"colorway\": [\"#636efa\", \"#EF553B\", \"#00cc96\", \"#ab63fa\", \"#FFA15A\", \"#19d3f3\", \"#FF6692\", \"#B6E880\", \"#FF97FF\", \"#FECB52\"], \"font\": {\"color\": \"#2a3f5f\"}, \"geo\": {\"bgcolor\": \"white\", \"lakecolor\": \"white\", \"landcolor\": \"#E5ECF6\", \"showlakes\": true, \"showland\": true, \"subunitcolor\": \"white\"}, \"hoverlabel\": {\"align\": \"left\"}, \"hovermode\": \"closest\", \"mapbox\": {\"style\": \"light\"}, \"paper_bgcolor\": \"white\", \"plot_bgcolor\": \"#E5ECF6\", \"polar\": {\"angularaxis\": {\"gridcolor\": \"white\", \"linecolor\": \"white\", \"ticks\": \"\"}, \"bgcolor\": \"#E5ECF6\", \"radialaxis\": {\"gridcolor\": \"white\", \"linecolor\": \"white\", \"ticks\": \"\"}}, \"scene\": {\"xaxis\": {\"backgroundcolor\": \"#E5ECF6\", \"gridcolor\": \"white\", \"gridwidth\": 2, \"linecolor\": \"white\", \"showbackground\": true, \"ticks\": \"\", \"zerolinecolor\": \"white\"}, \"yaxis\": {\"backgroundcolor\": \"#E5ECF6\", \"gridcolor\": \"white\", \"gridwidth\": 2, \"linecolor\": \"white\", \"showbackground\": true, \"ticks\": \"\", \"zerolinecolor\": \"white\"}, \"zaxis\": {\"backgroundcolor\": \"#E5ECF6\", \"gridcolor\": \"white\", \"gridwidth\": 2, \"linecolor\": \"white\", \"showbackground\": true, \"ticks\": \"\", \"zerolinecolor\": \"white\"}}, \"shapedefaults\": {\"line\": {\"color\": \"#2a3f5f\"}}, \"ternary\": {\"aaxis\": {\"gridcolor\": \"white\", \"linecolor\": \"white\", \"ticks\": \"\"}, \"baxis\": {\"gridcolor\": \"white\", \"linecolor\": \"white\", \"ticks\": \"\"}, \"bgcolor\": \"#E5ECF6\", \"caxis\": {\"gridcolor\": \"white\", \"linecolor\": \"white\", \"ticks\": \"\"}}, \"title\": {\"x\": 0.05}, \"xaxis\": {\"automargin\": true, \"gridcolor\": \"white\", \"linecolor\": \"white\", \"ticks\": \"\", \"title\": {\"standoff\": 15}, \"zerolinecolor\": \"white\", \"zerolinewidth\": 2}, \"yaxis\": {\"automargin\": true, \"gridcolor\": \"white\", \"linecolor\": \"white\", \"ticks\": \"\", \"title\": {\"standoff\": 15}, \"zerolinecolor\": \"white\", \"zerolinewidth\": 2}}}, \"xaxis\": {\"anchor\": \"y\", \"domain\": [0.0, 1.0], \"title\": {\"text\": \"Tag\"}}, \"yaxis\": {\"anchor\": \"x\", \"domain\": [0.0, 1.0], \"title\": {\"text\": \"Score\"}}},\n",
              "                        {\"responsive\": true}\n",
              "                    ).then(function(){\n",
              "                            \n",
              "var gd = document.getElementById('5a8829f0-b6c7-40eb-a4a3-04cc956ff6a5');\n",
              "var x = new MutationObserver(function (mutations, observer) {{\n",
              "        var display = window.getComputedStyle(gd).display;\n",
              "        if (!display || display === 'none') {{\n",
              "            console.log([gd, 'removed!']);\n",
              "            Plotly.purge(gd);\n",
              "            observer.disconnect();\n",
              "        }}\n",
              "}});\n",
              "\n",
              "// Listen for the removal of the full notebook cells\n",
              "var notebookContainer = gd.closest('#notebook-container');\n",
              "if (notebookContainer) {{\n",
              "    x.observe(notebookContainer, {childList: true});\n",
              "}}\n",
              "\n",
              "// Listen for the clearing of the current output cell\n",
              "var outputEl = gd.closest('.output');\n",
              "if (outputEl) {{\n",
              "    x.observe(outputEl, {childList: true});\n",
              "}}\n",
              "\n",
              "                        })\n",
              "                };\n",
              "                \n",
              "            </script>\n",
              "        </div>\n",
              "</body>\n",
              "</html>"
            ]
          },
          "metadata": {
            "tags": []
          }
        }
      ]
    },
    {
      "cell_type": "markdown",
      "metadata": {
        "id": "ZxDzeri0AXRr"
      },
      "source": [
        "Figure 3: Boxplot comparing each group. We can visually see that black has a lower interquartile range in comparison to all the other groups. Similarly, all groups have amedian near 3. There are outliers for the black, blue and yellow groups."
      ]
    },
    {
      "cell_type": "markdown",
      "metadata": {
        "id": "eTxUK8hK_HvU"
      },
      "source": [
        "What is the median difficulty for each group?"
      ]
    },
    {
      "cell_type": "code",
      "metadata": {
        "id": "4AuEsaRrKfRE",
        "outputId": "50c95964-82f9-4c4e-ec1a-f31b926b0ccd",
        "colab": {
          "base_uri": "https://localhost:8080/"
        }
      },
      "source": [
        "# Group by team colour (tag) and calculate the median difficulty for each\n",
        "df12.groupby('Tag')['Difficulty'].mean().sort_values()"
      ],
      "execution_count": 19,
      "outputs": [
        {
          "output_type": "execute_result",
          "data": {
            "text/plain": [
              "Tag\n",
              "White     0.660819\n",
              "Green     0.662338\n",
              "Red       0.683140\n",
              "Purple    0.690476\n",
              "Black     0.693182\n",
              "Pink      0.724242\n",
              "Blue      0.741135\n",
              "Brown     0.752294\n",
              "Yellow    0.893805\n",
              "Name: Difficulty, dtype: float64"
            ]
          },
          "metadata": {
            "tags": []
          },
          "execution_count": 19
        }
      ]
    },
    {
      "cell_type": "code",
      "metadata": {
        "id": "q4tecPFb_KM5",
        "outputId": "c13714b4-e797-4861-e2d9-52e27d86f661",
        "colab": {
          "base_uri": "https://localhost:8080/"
        }
      },
      "source": [
        "print('We can see that the white group had the lowest median difficulty rating and yellow had the highest median difficulty rating')"
      ],
      "execution_count": 20,
      "outputs": [
        {
          "output_type": "stream",
          "text": [
            "We can see that the white group had the lowest median difficulty rating and yellow had the highest median difficulty rating\n"
          ],
          "name": "stdout"
        }
      ]
    },
    {
      "cell_type": "code",
      "metadata": {
        "id": "XO6HGCDKAqVu",
        "outputId": "364aac7d-49d5-4872-d4c5-dba3887dffb0",
        "colab": {
          "base_uri": "https://localhost:8080/",
          "height": 542
        }
      },
      "source": [
        "# Plot a boxplot of tag vs. score. A boxplot was chosen because it helps visualise the interquartile range and any outliers.\n",
        "px.box(df12, x=\"Tag\", y=\"Difficulty\")"
      ],
      "execution_count": 21,
      "outputs": [
        {
          "output_type": "display_data",
          "data": {
            "text/html": [
              "<html>\n",
              "<head><meta charset=\"utf-8\" /></head>\n",
              "<body>\n",
              "    <div>\n",
              "            <script src=\"https://cdnjs.cloudflare.com/ajax/libs/mathjax/2.7.5/MathJax.js?config=TeX-AMS-MML_SVG\"></script><script type=\"text/javascript\">if (window.MathJax) {MathJax.Hub.Config({SVG: {font: \"STIX-Web\"}});}</script>\n",
              "                <script type=\"text/javascript\">window.PlotlyConfig = {MathJaxConfig: 'local'};</script>\n",
              "        <script src=\"https://cdn.plot.ly/plotly-latest.min.js\"></script>    \n",
              "            <div id=\"0775cba4-5799-41ab-a929-251f51ba93b4\" class=\"plotly-graph-div\" style=\"height:525px; width:100%;\"></div>\n",
              "            <script type=\"text/javascript\">\n",
              "                \n",
              "                    window.PLOTLYENV=window.PLOTLYENV || {};\n",
              "                    \n",
              "                if (document.getElementById(\"0775cba4-5799-41ab-a929-251f51ba93b4\")) {\n",
              "                    Plotly.newPlot(\n",
              "                        '0775cba4-5799-41ab-a929-251f51ba93b4',\n",
              "                        [{\"alignmentgroup\": \"True\", \"hoverlabel\": {\"namelength\": 0}, \"hovertemplate\": \"Tag=%{x}<br>Difficulty=%{y}\", \"legendgroup\": \"\", \"marker\": {\"color\": \"#636efa\"}, \"name\": \"\", \"notched\": false, \"offsetgroup\": \"\", \"orientation\": \"v\", \"showlegend\": false, \"type\": \"box\", \"x\": [\"Pink\", \"Pink\", \"Red\", \"Brown\", \"Brown\", \"Brown\", \"Green\", \"Pink\", \"Brown\", \"Pink\", \"Black\", \"Black\", \"Black\", \"Green\", \"Black\", \"Green\", \"Brown\", \"Brown\", \"Brown\", \"Brown\", \"Brown\", \"Pink\", \"Pink\", \"Red\", \"Pink\", \"Black\", \"Pink\", \"Black\", \"Pink\", \"Black\", \"Black\", \"Black\", \"Pink\", \"Pink\", \"Pink\", \"Pink\", \"Pink\", \"Pink\", \"Pink\", \"Pink\", \"Green\", \"Green\", \"Green\", \"Green\", \"Green\", \"Pink\", \"Pink\", \"Pink\", \"Pink\", \"Pink\", \"Pink\", \"Pink\", \"Pink\", \"Pink\", \"Blue\", \"Blue\", \"Green\", \"Green\", \"Green\", \"Green\", \"Green\", \"Blue\", \"Blue\", \"Blue\", \"Blue\", \"Blue\", \"Blue\", \"Blue\", \"Blue\", \"Blue\", \"Blue\", \"Pink\", \"Blue\", \"Pink\", \"Blue\", \"Blue\", \"Pink\", \"Pink\", \"Pink\", \"Pink\", \"Pink\", \"Pink\", \"Pink\", \"Blue\", \"Blue\", \"Blue\", \"Blue\", \"Blue\", \"Blue\", \"Blue\", \"Blue\", \"Blue\", \"Pink\", \"Pink\", \"Pink\", \"Pink\", \"Pink\", \"Pink\", \"Pink\", \"Pink\", \"Pink\", \"Green\", \"Green\", \"Green\", \"Green\", \"Black\", \"Black\", \"Black\", \"Pink\", \"Pink\", \"Pink\", \"Pink\", \"Pink\", \"Pink\", \"Pink\", \"Pink\", \"Pink\", \"Blue\", \"Pink\", \"Blue\", \"Blue\", \"Blue\", \"Pink\", \"Black\", \"Brown\", \"Brown\", \"Brown\", \"Brown\", \"Brown\", \"Brown\", \"Brown\", \"Brown\", \"Red\", \"Red\", \"Red\", \"Blue\", \"Red\", \"Red\", \"Red\", \"Red\", \"Red\", \"Black\", \"Black\", \"Black\", \"Black\", \"Black\", \"Black\", \"Black\", \"Blue\", \"Blue\", \"Blue\", \"Blue\", \"Blue\", \"Black\", \"Black\", \"Black\", \"Black\", \"Black\", \"Black\", \"Black\", \"Black\", \"Black\", \"Green\", \"Brown\", \"Blue\", \"Blue\", \"Blue\", \"Blue\", \"Blue\", \"Black\", \"Blue\", \"Black\", \"Black\", \"Brown\", \"Brown\", \"Black\", \"Brown\", \"Black\", \"Black\", \"Brown\", \"Black\", \"Black\", \"Black\", \"Blue\", \"Brown\", \"Brown\", \"Red\", \"Red\", \"Red\", \"Blue\", \"Red\", \"Red\", \"Red\", \"Red\", \"Red\", \"Red\", \"Blue\", \"Blue\", \"Blue\", \"Blue\", \"Blue\", \"Blue\", \"Blue\", \"Blue\", \"Blue\", \"Blue\", \"Blue\", \"Blue\", \"Blue\", \"Blue\", \"Blue\", \"Pink\", \"Blue\", \"Black\", \"Pink\", \"Black\", \"Blue\", \"Pink\", \"Black\", \"Blue\", \"Blue\", \"Black\", \"Blue\", \"Black\", \"Blue\", \"Blue\", \"Black\", \"Blue\", \"Blue\", \"Blue\", \"Blue\", \"Blue\", \"Black\", \"Blue\", \"Blue\", \"Black\", \"Black\", \"Blue\", \"Pink\", \"Pink\", \"Pink\", \"Pink\", \"Pink\", \"Pink\", \"Black\", \"Black\", \"Black\", \"Black\", \"Black\", \"Black\", \"Black\", \"Pink\", \"Pink\", \"Pink\", \"Pink\", \"Pink\", \"Brown\", \"Brown\", \"Brown\", \"Brown\", \"Red\", \"Brown\", \"Brown\", \"Brown\", \"Brown\", \"Brown\", \"Brown\", \"Brown\", \"Black\", \"Black\", \"Brown\", \"Black\", \"Black\", \"Black\", \"Brown\", \"Green\", \"Green\", \"Green\", \"Red\", \"Green\", \"Red\", \"Green\", \"Red\", \"Green\", \"Green\", \"Green\", \"Green\", \"Red\", \"Pink\", \"Green\", \"Brown\", \"Black\", \"Pink\", \"Pink\", \"Green\", \"Yellow\", \"Red\", \"Red\", \"Pink\", \"Brown\", \"Green\", \"Brown\", \"Brown\", \"Black\", \"Red\", \"Brown\", \"Black\", \"Red\", \"Black\", \"Black\", \"Brown\", \"Black\", \"Brown\", \"Brown\", \"Brown\", \"Brown\", \"Black\", \"Brown\", \"Brown\", \"Green\", \"Brown\", \"Pink\", \"Brown\", \"Brown\", \"Blue\", \"Green\", \"Brown\", \"Black\", \"Blue\", \"Blue\", \"Blue\", \"Blue\", \"Blue\", \"Green\", \"Brown\", \"Green\", \"Blue\", \"Blue\", \"Brown\", \"Pink\", \"Blue\", \"Green\", \"Pink\", \"Red\", \"Pink\", \"Black\", \"Green\", \"Pink\", \"Red\", \"Brown\", \"Black\", \"Pink\", \"Red\", \"Green\", \"Brown\", \"Red\", \"Red\", \"Red\", \"Red\", \"Red\", \"Red\", \"Brown\", \"Brown\", \"Brown\", \"Brown\", \"Brown\", \"Green\", \"Green\", \"Brown\", \"Green\", \"Green\", \"Green\", \"Brown\", \"Brown\", \"Black\", \"Black\", \"Brown\", \"Brown\", \"Brown\", \"Brown\", \"Brown\", \"Brown\", \"Brown\", \"Brown\", \"Brown\", \"Red\", \"Red\", \"Red\", \"Red\", \"Red\", \"Red\", \"Red\", \"Red\", \"Red\", \"Red\", \"Red\", \"Red\", \"Black\", \"Black\", \"Red\", \"Red\", \"Red\", \"Red\", \"Red\", \"Red\", \"Red\", \"Red\", \"Red\", \"Red\", \"Red\", \"Red\", \"Red\", \"Red\", \"Red\", \"Red\", \"Red\", \"Red\", \"Blue\", \"Brown\", \"Yellow\", \"Brown\", \"Brown\", \"Brown\", \"Brown\", \"Green\", \"Green\", \"Red\", \"Red\", \"Pink\", \"Black\", \"Pink\", \"Black\", \"Red\", \"Pink\", \"Red\", \"Green\", \"Black\", \"Brown\", \"Red\", \"Green\", \"Black\", \"Red\", \"Black\", \"Black\", \"Red\", \"Red\", \"Red\", \"Red\", \"Red\", \"Red\", \"Red\", \"Red\", \"Brown\", \"Brown\", \"Brown\", \"Brown\", \"Brown\", \"Brown\", \"Brown\", \"Brown\", \"Brown\", \"Brown\", \"Brown\", \"Green\", \"Green\", \"Green\", \"Red\", \"Red\", \"Red\", \"Green\", \"Green\", \"Blue\", \"Brown\", \"Black\", \"Brown\", \"Green\", \"Pink\", \"Brown\", \"Black\", \"Green\", \"Green\", \"Green\", \"Green\", \"Green\", \"Green\", \"Green\", \"Green\", \"Green\", \"Green\", \"Pink\", \"Green\", \"Brown\", \"Pink\", \"Green\", \"Green\", \"Brown\", \"Brown\", \"Pink\", \"Brown\", \"Black\", \"Pink\", \"Green\", \"Black\", \"Green\", \"Blue\", \"Red\", \"Red\", \"Blue\", \"Black\", \"Pink\", \"Blue\", \"Red\", \"Black\", \"Pink\", \"Green\", \"Yellow\", \"Pink\", \"Green\", \"Brown\", \"Pink\", \"Pink\", \"Black\", \"Red\", \"Red\", \"Brown\", \"Green\", \"Blue\", \"Brown\", \"Green\", \"Blue\", \"Black\", \"Blue\", \"Red\", \"Pink\", \"Black\", \"Green\", \"Blue\", \"Black\", \"Red\", \"Blue\", \"Brown\", \"Pink\", \"Blue\", \"Black\", \"Red\", \"Red\", \"Brown\", \"Red\", \"Black\", \"Green\", \"Green\", \"Green\", \"Yellow\", \"Yellow\", \"Yellow\", \"Yellow\", \"Yellow\", \"Green\", \"Pink\", \"Yellow\", \"Green\", \"Green\", \"Green\", \"Green\", \"Green\", \"Green\", \"Pink\", \"Red\", \"Yellow\", \"Green\", \"Yellow\", \"Yellow\", \"Red\", \"Purple\", \"Purple\", \"Purple\", \"Purple\", \"Purple\", \"Purple\", \"Green\", \"Green\", \"Green\", \"Red\", \"Red\", \"Green\", \"Red\", \"Green\", \"Green\", \"Green\", \"Green\", \"Green\", \"Green\", \"Red\", \"Green\", \"Green\", \"Green\", \"Red\", \"Green\", \"Green\", \"Green\", \"Yellow\", \"Yellow\", \"Yellow\", \"Yellow\", \"Yellow\", \"Green\", \"Green\", \"Green\", \"Yellow\", \"Yellow\", \"Yellow\", \"Yellow\", \"Yellow\", \"Yellow\", \"Yellow\", \"Green\", \"Green\", \"Yellow\", \"Yellow\", \"Yellow\", \"Yellow\", \"Red\", \"Red\", \"Red\", \"Yellow\", \"Red\", \"Red\", \"Red\", \"Yellow\", \"Yellow\", \"Yellow\", \"Yellow\", \"Brown\", \"Brown\", \"Green\", \"Brown\", \"Yellow\", \"Yellow\", \"Yellow\", \"Yellow\", \"Yellow\", \"Yellow\", \"Yellow\", \"Yellow\", \"Yellow\", \"Yellow\", \"Yellow\", \"Yellow\", \"Yellow\", \"Pink\", \"Pink\", \"Pink\", \"Pink\", \"Pink\", \"Pink\", \"Pink\", \"Pink\", \"Pink\", \"Pink\", \"Pink\", \"Yellow\", \"Yellow\", \"Yellow\", \"Yellow\", \"Yellow\", \"Green\", \"Pink\", \"Pink\", \"Pink\", \"Pink\", \"Pink\", \"Pink\", \"Pink\", \"Pink\", \"Pink\", \"Pink\", \"Pink\", \"Yellow\", \"Yellow\", \"Yellow\", \"Yellow\", \"Yellow\", \"Yellow\", \"Yellow\", \"Yellow\", \"Yellow\", \"Yellow\", \"Yellow\", \"Yellow\", \"Yellow\", \"Green\", \"Green\", \"Green\", \"Green\", \"Purple\", \"Purple\", \"Purple\", \"Purple\", \"Red\", \"Red\", \"Red\", \"Red\", \"Red\", \"Red\", \"Red\", \"Red\", \"Purple\", \"Purple\", \"Purple\", \"Purple\", \"Purple\", \"Black\", \"Black\", \"Black\", \"Black\", \"Black\", \"Black\", \"White\", \"White\", \"White\", \"White\", \"White\", \"Red\", \"Red\", \"White\", \"White\", \"Black\", \"Red\", \"Red\", \"Red\", \"White\", \"Red\", \"Purple\", \"Red\", \"Red\", \"Green\", \"Red\", \"Brown\", \"Red\", \"Yellow\", \"Black\", \"Blue\", \"Blue\", \"Blue\", \"Yellow\", \"Yellow\", \"Yellow\", \"Black\", \"Yellow\", \"Yellow\", \"Black\", \"Yellow\", \"Yellow\", \"Black\", \"Red\", \"Red\", \"Red\", \"Red\", \"Red\", \"Red\", \"Black\", \"Brown\", \"Brown\", \"Brown\", \"Black\", \"Black\", \"Yellow\", \"Yellow\", \"Yellow\", \"Yellow\", \"Yellow\", \"Yellow\", \"Yellow\", \"Yellow\", \"Yellow\", \"Yellow\", \"Yellow\", \"Yellow\", \"Yellow\", \"Purple\", \"Red\", \"Yellow\", \"Brown\", \"Brown\", \"Green\", \"White\", \"Red\", \"Brown\", \"Purple\", \"Red\", \"Red\", \"Green\", \"Red\", \"Red\", \"Green\", \"Red\", \"Green\", \"Black\", \"Green\", \"Red\", \"Green\", \"Red\", \"Green\", \"Red\", \"Green\", \"Green\", \"Green\", \"Green\", \"Green\", \"Green\", \"Red\", \"Green\", \"Green\", \"Green\", \"Green\", \"Green\", \"Yellow\", \"Yellow\", \"Green\", \"Yellow\", \"Yellow\", \"Green\", \"Green\", \"Green\", \"Green\", \"Green\", \"Green\", \"Green\", \"Green\", \"Green\", \"Yellow\", \"Yellow\", \"Yellow\", \"Yellow\", \"Black\", \"Pink\", \"Pink\", \"Red\", \"Red\", \"Pink\", \"Red\", \"Red\", \"Red\", \"Red\", \"Red\", \"Red\", \"Pink\", \"Green\", \"Green\", \"Pink\", \"Pink\", \"Green\", \"Green\", \"Green\", \"Green\", \"Green\", \"Green\", \"Pink\", \"Pink\", \"Pink\", \"Pink\", \"Pink\", \"Brown\", \"Brown\", \"Brown\", \"Brown\", \"Brown\", \"Black\", \"Black\", \"Black\", \"Black\", \"Black\", \"Green\", \"Pink\", \"Pink\", \"Pink\", \"Pink\", \"Pink\", \"Purple\", \"Pink\", \"Purple\", \"Pink\", \"Pink\", \"Pink\", \"Pink\", \"Pink\", \"Pink\", \"Pink\", \"Pink\", \"Pink\", \"Pink\", \"Pink\", \"Pink\", \"Pink\", \"Pink\", \"Purple\", \"Purple\", \"Pink\", \"Pink\", \"Pink\", \"Purple\", \"Pink\", \"Pink\", \"Pink\", \"White\", \"White\", \"White\", \"Black\", \"White\", \"White\", \"White\", \"White\", \"Purple\", \"Purple\", \"Purple\", \"Purple\", \"Purple\", \"Purple\", \"Green\", \"Green\", \"Green\", \"Green\", \"Purple\", \"Green\", \"Green\", \"Green\", \"Green\", \"Green\", \"Purple\", \"Purple\", \"White\", \"White\", \"Black\", \"White\", \"White\", \"White\", \"White\", \"Green\", \"Black\", \"Brown\", \"Brown\", \"Brown\", \"Brown\", \"Brown\", \"Brown\", \"Brown\", \"Brown\", \"Purple\", \"Purple\", \"Purple\", \"Purple\", \"Purple\", \"Purple\", \"Purple\", \"Purple\", \"Purple\", \"Purple\", \"Purple\", \"Purple\", \"Black\", \"Black\", \"Black\", \"Black\", \"Brown\", \"Black\", \"Black\", \"Black\", \"Black\", \"Brown\", \"Red\", \"Yellow\", \"Blue\", \"Blue\", \"Blue\", \"Blue\", \"Blue\", \"Blue\", \"Blue\", \"Blue\", \"Red\", \"Red\", \"Black\", \"Yellow\", \"Red\", \"Black\", \"Black\", \"Red\", \"Black\", \"Red\", \"Black\", \"Black\", \"Red\", \"Black\", \"Black\", \"Red\", \"Red\", \"Black\", \"Red\", \"Red\", \"Brown\", \"Brown\", \"White\", \"Red\", \"Red\", \"Red\", \"Blue\", \"Red\", \"Blue\", \"Blue\", \"Red\", \"Blue\", \"Blue\", \"Blue\", \"Black\", \"Black\", \"Black\", \"Black\", \"Black\", \"Black\", \"Purple\", \"Black\", \"Red\", \"Red\", \"Red\", \"Purple\", \"Yellow\", \"Purple\", \"Yellow\", \"Purple\", \"Pink\", \"Purple\", \"Green\", \"Purple\", \"Black\", \"Purple\", \"Red\", \"Black\", \"Purple\", \"Red\", \"White\", \"White\", \"White\", \"White\", \"Red\", \"Red\", \"White\", \"Red\", \"Red\", \"Red\", \"White\", \"White\", \"Purple\", \"Purple\", \"Purple\", \"Purple\", \"Blue\", \"White\", \"White\", \"White\", \"Red\", \"Purple\", \"Blue\", \"Blue\", \"Blue\", \"Red\", \"Black\", \"Blue\", \"Black\", \"Blue\", \"Brown\", \"Blue\", \"Blue\", \"Blue\", \"Blue\", \"Blue\", \"Blue\", \"White\", \"Blue\", \"White\", \"White\", \"White\", \"White\", \"Black\", \"Blue\", \"Red\", \"Purple\", \"White\", \"White\", \"Blue\", \"Red\", \"Green\", \"Pink\", \"Purple\", \"Pink\", \"White\", \"Green\", \"Pink\", \"Yellow\", \"Blue\", \"Purple\", \"Yellow\", \"Purple\", \"Red\", \"Brown\", \"Green\", \"Pink\", \"Green\", \"Pink\", \"Green\", \"Brown\", \"Purple\", \"White\", \"Purple\", \"Brown\", \"Green\", \"Brown\", \"Black\", \"White\", \"Yellow\", \"Yellow\", \"Brown\", \"Red\", \"Purple\", \"Yellow\", \"Black\", \"Blue\", \"Yellow\", \"Red\", \"Black\", \"White\", \"Black\", \"Pink\", \"Black\", \"Yellow\", \"Purple\", \"Yellow\", \"Purple\", \"Brown\", \"Green\", \"Yellow\", \"Green\", \"Blue\", \"Blue\", \"Brown\", \"Green\", \"White\", \"Green\", \"Brown\", \"Black\", \"Yellow\", \"Pink\", \"Pink\", \"Green\", \"Red\", \"Purple\", \"Red\", \"White\", \"Pink\", \"Brown\", \"Yellow\", \"Pink\", \"Purple\", \"Black\", \"Red\", \"Black\", \"Red\", \"White\", \"Blue\", \"Pink\", \"Pink\", \"Pink\", \"Pink\", \"Yellow\", \"Yellow\", \"Yellow\", \"Yellow\", \"Red\", \"Red\", \"Red\", \"Red\", \"Yellow\", \"Red\", \"Yellow\", \"Yellow\", \"Yellow\", \"Pink\", \"Green\", \"White\", \"White\", \"White\", \"White\", \"White\", \"Black\", \"Yellow\", \"Blue\", \"Red\", \"Red\", \"Pink\", \"White\", \"Red\", \"Red\", \"Pink\", \"White\", \"Red\", \"Red\", \"White\", \"White\", \"White\", \"White\", \"White\", \"White\", \"Green\", \"Pink\", \"Pink\", \"Pink\", \"White\", \"White\", \"Pink\", \"Pink\", \"Pink\", \"Pink\", \"Pink\", \"Red\", \"Red\", \"Red\", \"Red\", \"Red\", \"Red\", \"Red\", \"Blue\", \"Pink\", \"Red\", \"Black\", \"Yellow\", \"Red\", \"Pink\", \"Yellow\", \"Pink\", \"Yellow\", \"Yellow\", \"Yellow\", \"Yellow\", \"Yellow\", \"White\", \"White\", \"White\", \"White\", \"White\", \"White\", \"White\", \"Pink\", \"Pink\", \"Pink\", \"Pink\", \"Pink\", \"Pink\", \"Pink\", \"Pink\", \"Pink\", \"Black\", \"White\", \"Black\", \"Black\", \"Black\", \"Black\", \"Pink\", \"Pink\", \"Pink\", \"White\", \"Pink\", \"Pink\", \"Pink\", \"Pink\", \"Pink\", \"Pink\", \"Green\", \"Green\", \"Green\", \"Green\", \"Purple\", \"Brown\", \"White\", \"White\", \"Purple\", \"Blue\", \"Blue\", \"Red\", \"White\", \"Red\", \"White\", \"White\", \"White\", \"White\", \"White\", \"White\", \"White\", \"White\", \"White\", \"White\", \"White\", \"White\", \"Red\", \"White\", \"White\", \"Pink\", \"White\", \"Red\", \"Red\", \"Red\", \"Red\", \"Red\", \"Red\", \"Brown\", \"Brown\", \"Blue\", \"Blue\", \"Blue\", \"Green\", \"Black\", \"Black\", \"Red\", \"Red\", \"Red\", \"Red\", \"Red\", \"Pink\", \"Pink\", \"Pink\", \"Pink\", \"Pink\", \"Yellow\", \"Yellow\", \"Yellow\", \"Yellow\", \"Yellow\", \"Yellow\", \"Yellow\", \"White\", \"White\", \"White\", \"Pink\", \"Pink\", \"Pink\", \"Pink\", \"Yellow\", \"Pink\", \"Red\", \"Pink\", \"Red\", \"Red\", \"White\", \"Red\", \"Red\", \"White\", \"Red\", \"Red\", \"Pink\", \"Pink\", \"Pink\", \"Pink\", \"Pink\", \"Black\", \"Black\", \"Black\", \"Pink\", \"Black\", \"Black\", \"Pink\", \"Pink\", \"Pink\", \"Pink\", \"Black\", \"Yellow\", \"White\", \"White\", \"White\", \"Purple\", \"Red\", \"Red\", \"Red\", \"Red\", \"Red\", \"Red\", \"Red\", \"Pink\", \"Pink\", \"Pink\", \"Pink\", \"Pink\", \"Pink\", \"Pink\", \"Pink\", \"Pink\", \"White\", \"White\", \"White\", \"White\", \"White\", \"White\", \"White\", \"Blue\", \"Brown\", \"Brown\", \"Brown\", \"Brown\", \"Brown\", \"Brown\", \"Blue\", \"Blue\", \"Blue\", \"White\", \"Blue\", \"Black\", \"Blue\", \"Blue\", \"Yellow\", \"Purple\", \"Yellow\", \"Blue\", \"Yellow\", \"Red\", \"Blue\", \"Blue\", \"Yellow\", \"Pink\", \"Yellow\", \"Pink\", \"Blue\", \"Blue\", \"Blue\", \"Blue\", \"Blue\", \"Blue\", \"Blue\", \"Green\", \"Green\", \"Green\", \"White\", \"Green\", \"White\", \"White\", \"White\", \"Blue\", \"Blue\", \"Blue\", \"Blue\", \"Pink\", \"Pink\", \"Pink\", \"Black\", \"Pink\", \"Yellow\", \"Black\", \"Yellow\", \"Black\", \"Yellow\", \"Yellow\", \"Black\", \"Yellow\", \"Yellow\", \"Yellow\", \"White\", \"Yellow\", \"Yellow\", \"White\", \"Pink\", \"White\", \"Yellow\", \"Yellow\", \"Yellow\", \"Yellow\", \"Pink\", \"Pink\", \"Red\", \"Red\", \"Green\", \"Red\", \"Pink\", \"Red\", \"Green\", \"Green\", \"Green\", \"Pink\", \"Pink\", \"Pink\", \"Blue\", \"Pink\", \"Pink\", \"Pink\", \"Pink\", \"Pink\", \"Pink\", \"Blue\", \"Blue\", \"Blue\", \"Blue\", \"Black\", \"Blue\", \"Black\", \"Blue\", \"Black\", \"Black\", \"Black\", \"Blue\", \"Blue\", \"Brown\", \"Blue\", \"Brown\", \"Brown\", \"Blue\", \"Brown\", \"Brown\", \"Brown\", \"Blue\", \"Blue\", \"Blue\", \"Blue\", \"Blue\", \"Blue\", \"Blue\", \"Blue\", \"Blue\", \"Blue\", \"Blue\", \"Blue\", \"Blue\", \"Blue\", \"Blue\", \"Blue\", \"Blue\", \"Blue\", \"Blue\", \"Pink\", \"White\", \"White\", \"White\", \"White\", \"White\", \"Blue\", \"White\", \"White\", \"Blue\", \"White\", \"White\", \"Blue\", \"Blue\", \"Blue\", \"Blue\", \"Pink\", \"Pink\", \"Pink\", \"White\", \"Pink\", \"White\", \"Pink\", \"White\", \"Pink\", \"White\", \"Pink\", \"White\", \"White\", \"Red\", \"Red\", \"White\", \"White\", \"Pink\", \"White\", \"White\", \"White\", \"White\", \"White\", \"White\", \"White\", \"White\", \"Yellow\", \"Yellow\", \"White\", \"White\", \"Black\", \"Purple\", \"Purple\", \"Purple\", \"White\", \"White\", \"White\", \"Blue\", \"Yellow\", \"Green\", \"White\", \"Blue\", \"Blue\", \"Blue\", \"Blue\", \"Blue\", \"Blue\", \"Blue\", \"Blue\", \"Blue\", \"Brown\", \"Brown\", \"Brown\", \"Red\", \"White\", \"White\", \"Black\", \"Blue\", \"Brown\", \"Pink\", \"Brown\", \"Brown\", \"Purple\", \"Brown\", \"Brown\", \"Brown\", \"Blue\", \"Black\", \"Yellow\", \"Purple\", \"Yellow\", \"Yellow\", \"Yellow\", \"Red\", \"Red\", \"Green\", \"White\", \"Green\", \"Green\", \"Green\", \"Green\", \"Green\", \"Green\", \"Green\", \"Green\", \"Green\", \"Green\", \"Green\", \"Pink\", \"White\", \"Purple\", \"Green\", \"Green\", \"Green\", \"Black\", \"Black\", \"Black\", \"Black\", \"Black\", \"Black\", \"Purple\", \"Yellow\", \"Blue\", \"Black\", \"White\", \"Purple\", \"Black\", \"Yellow\", \"Yellow\", \"Red\", \"Pink\", \"Brown\", \"Purple\", \"Green\", \"Pink\", \"Red\", \"Brown\", \"Red\", \"Brown\", \"Pink\", \"Blue\", \"Yellow\", \"Blue\", \"Blue\", \"Pink\", \"Black\", \"White\", \"Pink\", \"Red\", \"Pink\", \"Black\", \"Red\", \"Green\", \"Yellow\", \"Blue\", \"Blue\", \"Brown\", \"White\", \"Blue\", \"Blue\", \"White\", \"Red\", \"Yellow\", \"Green\", \"Green\", \"White\", \"Yellow\", \"White\", \"Brown\", \"Blue\", \"Brown\", \"Purple\", \"Brown\", \"Yellow\", \"Brown\", \"Purple\", \"Red\", \"Blue\", \"Black\", \"White\", \"Black\", \"White\", \"Pink\", \"Pink\", \"White\", \"Red\", \"Brown\", \"Green\", \"Pink\", \"Yellow\", \"Pink\", \"Green\", \"Black\", \"White\", \"Purple\", \"White\", \"Yellow\", \"Yellow\", \"Black\", \"Yellow\", \"Pink\", \"Pink\", \"Pink\", \"Pink\", \"Pink\", \"Pink\", \"Pink\", \"Pink\", \"Pink\", \"Pink\", \"Pink\", \"Pink\", \"Blue\", \"Pink\", \"Blue\", \"Pink\", \"Blue\", \"Pink\", \"Blue\", \"Pink\", \"Red\", \"Red\", \"Green\", \"Green\", \"Green\", \"Green\", \"Blue\", \"Green\", \"Green\", \"Blue\", \"Blue\", \"Pink\", \"Blue\", \"Red\", \"Red\", \"Green\", \"Pink\", \"Pink\", \"Pink\", \"Pink\", \"Pink\", \"Pink\", \"Pink\", \"Pink\", \"Pink\", \"Pink\", \"Pink\", \"White\", \"Blue\", \"Blue\", \"Blue\", \"Blue\", \"Green\", \"Blue\", \"Blue\", \"Blue\", \"Blue\", \"Blue\", \"Green\", \"Blue\", \"Green\", \"Blue\", \"Blue\", \"Blue\", \"Brown\", \"Blue\", \"Blue\", \"White\", \"Red\", \"Green\", \"Brown\", \"Green\", \"Black\", \"Yellow\", \"Red\", \"Black\", \"Red\", \"Pink\", \"Red\", \"Green\", \"Black\", \"Yellow\", \"Green\", \"Black\", \"Blue\", \"Black\", \"Black\", \"Brown\", \"Black\", \"Blue\", \"Black\", \"Blue\", \"Black\", \"Black\", \"Black\", \"Yellow\", \"White\", \"Blue\", \"Black\", \"Pink\", \"Black\", \"Yellow\", \"Pink\", \"Blue\", \"Yellow\", \"Red\", \"Green\", \"Red\", \"Green\", \"Green\", \"Red\", \"Yellow\", \"Black\", \"Green\", \"Red\", \"Pink\", \"Blue\", \"Blue\", \"Brown\", \"Blue\", \"Green\", \"Black\", \"Brown\", \"Red\", \"Pink\", \"Brown\", \"Green\", \"Blue\", \"Black\", \"Pink\", \"Green\", \"Brown\", \"Yellow\", \"Red\", \"Green\", \"Pink\", \"Green\", \"Green\", \"Green\", \"Green\", \"Green\", \"Red\", \"Green\", \"Green\", \"Green\", \"Black\", \"Green\", \"Black\", \"Black\", \"Black\", \"Black\", \"Green\", \"Black\", \"Green\", \"Black\", \"Black\", \"Green\", \"Green\", \"Green\", \"Green\", \"Green\", \"Green\", \"Green\", \"Green\", \"Green\", \"Green\", \"Green\", \"Green\", \"Green\", \"Yellow\", \"Red\", \"Red\", \"Red\", \"Red\", \"Red\", \"Red\", \"Red\", \"Red\", \"Red\", \"Green\", \"Black\", \"Green\", \"Pink\", \"Blue\", \"Blue\", \"Red\", \"Red\", \"Red\", \"Red\", \"Red\", \"Red\", \"Red\", \"Red\", \"Red\", \"Red\", \"Green\", \"Green\", \"Red\", \"Green\", \"Green\", \"Red\", \"Blue\", \"Red\", \"Red\", \"Yellow\", \"Red\", \"Red\", \"Red\", \"Red\", \"Red\", \"Red\", \"Yellow\", \"Red\", \"Red\", \"Red\", \"Red\", \"Red\", \"Yellow\", \"Yellow\", \"Blue\", \"Blue\", \"Blue\", \"Blue\", \"Yellow\", \"Blue\", \"Blue\", \"Blue\", \"Yellow\", \"Blue\", \"Black\", \"Blue\", \"Black\", \"Black\", \"Black\", \"Black\", \"Black\", \"Black\", \"Yellow\", \"Black\", \"Red\", \"Pink\", \"Green\", \"Green\", \"Black\", \"Black\", \"Green\", \"Green\", \"Green\", \"Brown\", \"Black\", \"Brown\", \"Black\", \"Green\", \"Black\", \"Brown\", \"Green\", \"Black\", \"Brown\", \"Green\", \"Black\", \"Brown\", \"Black\", \"Brown\", \"Brown\", \"Blue\", \"Green\", \"Blue\", \"Blue\", \"Green\", \"Blue\", \"Blue\", \"Blue\", \"Blue\", \"Green\", \"Yellow\", \"Green\", \"Yellow\", \"Yellow\", \"Yellow\", \"Yellow\", \"Brown\", \"Brown\", \"Brown\", \"Brown\", \"Brown\", \"Brown\", \"Green\", \"Green\", \"Yellow\", \"Yellow\", \"Yellow\", \"Yellow\", \"Yellow\", \"Yellow\", \"Blue\", \"Black\", \"Green\", \"Green\", \"Green\", \"Black\", \"Green\", \"Black\", \"Green\", \"Black\", \"Black\", \"Black\", \"Yellow\", \"Blue\", \"Yellow\", \"Blue\", \"Blue\", \"Black\", \"Yellow\", \"Black\", \"Blue\", \"Red\", \"Red\", \"Blue\", \"Green\", \"Red\", \"Red\", \"Red\", \"Green\", \"Blue\", \"Black\", \"Red\", \"Black\", \"Red\", \"Red\", \"Red\", \"Red\", \"Pink\", \"Pink\", \"Red\", \"Pink\", \"Red\", \"Red\", \"Red\", \"Pink\", \"Red\", \"Red\", \"Pink\", \"Red\", \"Red\", \"Pink\", \"Red\", \"Pink\", \"Pink\", \"Brown\", \"Brown\", \"Brown\", \"Brown\", \"Brown\", \"Brown\", \"Brown\", \"Brown\", \"Yellow\", \"Yellow\", \"Yellow\", \"Yellow\", \"Black\", \"Black\", \"Black\", \"Black\", \"Black\", \"Black\", \"Black\", \"Green\", \"Black\", \"Green\", \"Black\", \"Green\", \"Green\", \"Green\", \"Green\", \"Green\", \"Red\", \"Red\", \"Green\", \"Green\", \"Green\", \"Green\", \"Green\", \"Red\", \"Red\", \"Green\", \"Red\", \"Green\", \"Green\", \"Green\", \"Yellow\", \"Red\", \"Green\", \"Yellow\", \"Red\", \"Green\", \"Yellow\", \"Yellow\", \"Red\", \"Red\", \"Yellow\", \"Yellow\", \"Yellow\", \"Brown\", \"Brown\", \"Brown\", \"Brown\", \"Brown\", \"Brown\", \"Brown\", \"White\", \"White\", \"White\", \"White\", \"White\", \"White\", \"Yellow\", \"Yellow\", \"Yellow\", \"Yellow\", \"Yellow\", \"Yellow\", \"Yellow\", \"Blue\", \"Red\", \"Pink\", \"Pink\", \"Pink\", \"Pink\", \"Red\", \"Pink\", \"Yellow\", \"Green\", \"Pink\", \"Brown\", \"Red\", \"Yellow\", \"Red\", \"Brown\", \"Black\", \"White\", \"Green\", \"Black\", \"Red\", \"Pink\", \"Red\", \"Pink\", \"Black\", \"Yellow\", \"Black\", \"Green\", \"Brown\", \"Yellow\", \"White\", \"Green\", \"Red\", \"Black\", \"Brown\", \"Green\", \"Blue\", \"Black\", \"Yellow\", \"Blue\", \"Red\", \"White\", \"Red\", \"Brown\", \"Yellow\", \"Black\", \"Blue\", \"Blue\", \"Green\", \"Brown\", \"Brown\", \"White\", \"Blue\", \"Pink\", \"Blue\", \"Yellow\", \"Green\", \"Green\", \"Pink\", \"Blue\", \"Green\", \"Red\", \"Red\", \"Brown\", \"Black\", \"Brown\", \"Pink\", \"Green\", \"Black\", \"Brown\", \"Pink\", \"Red\", \"Red\", \"Blue\", \"Black\", \"Yellow\"], \"x0\": \" \", \"xaxis\": \"x\", \"y\": [0, 1, 1, 1, 1, 2, 1, 0, 1, 1, 0, 0, 1, 0, 1, 0, 1, 1, 1, 1, 1, 1, 0, 2, 1, 0, 1, 1, 1, 1, 0, 1, 0, 1, 1, 1, 1, 1, 0, 1, 0, 1, 1, 1, 1, 0, 0, 1, 1, 1, 0, 0, 0, 1, 1, 0, 1, 1, 1, 1, 1, 0, 0, 1, 0, 1, 0, 1, 1, 1, 1, 1, 0, 1, 1, 0, 1, 1, 1, 1, 0, 1, 1, 1, 1, 2, 1, 0, 0, 1, 1, 1, 1, 1, 0, 1, 1, 1, 0, 1, 0, 1, 1, 0, 1, 1, 1, 1, 0, 1, 2, 1, 2, 0, 0, 2, 1, 0, 0, 1, 1, 1, 1, 1, 1, 1, 2, 2, 1, 1, 1, 2, 0, 1, 1, 1, 0, 0, 0, 0, 1, 1, 1, 1, 0, 1, 1, 0, 1, 0, 0, 1, 2, 1, 1, 1, 1, 1, 1, 1, 1, 1, 0, 1, 1, 1, 0, 1, 1, 1, 1, 0, 2, 1, 2, 1, 2, 1, 1, 1, 1, 1, 1, 0, 1, 2, 0, 0, 0, 1, 0, 1, 1, 0, 1, 0, 0, 1, 1, 1, 1, 1, 1, 0, 1, 1, 2, 1, 1, 1, 0, 1, 0, 0, 1, 0, 0, 1, 2, 2, 1, 2, 1, 0, 0, 1, 1, 1, 0, 1, 0, 1, 1, 0, 0, 1, 0, 1, 1, 0, 1, 0, 1, 1, 1, 1, 2, 1, 1, 1, 1, 0, 0, 0, 0, 0, 1, 0, 1, 0, 0, 0, 2, 0, 0, 1, 1, 0, 1, 1, 0, 2, 2, 0, 1, 0, 0, 0, 1, 1, 1, 0, 1, 1, 0, 0, 1, 0, 1, 1, 1, 0, 1, 0, 0, 1, 0, 0, 1, 1, 0, 1, 1, 0, 0, 2, 0, 1, 0, 1, 1, 1, 2, 0, 1, 1, 1, 0, 1, 1, 1, 1, 1, 1, 1, 1, 2, 1, 1, 1, 1, 1, 1, 0, 1, 0, 1, 1, 1, 1, 1, 1, 1, 1, 1, 0, 1, 0, 1, 2, 0, 1, 1, 0, 2, 1, 0, 0, 0, 1, 1, 1, 1, 2, 1, 1, 0, 0, 1, 0, 1, 0, 1, 1, 0, 0, 2, 2, 2, 1, 1, 0, 1, 1, 1, 0, 0, 1, 1, 1, 1, 0, 2, 2, 0, 2, 0, 0, 1, 1, 1, 2, 1, 2, 1, 1, 1, 1, 0, 1, 2, 1, 2, 1, 1, 1, 0, 1, 0, 1, 0, 0, 1, 1, 1, 0, 0, 0, 1, 0, 1, 1, 1, 1, 1, 0, 0, 0, 1, 0, 0, 1, 0, 0, 0, 0, 0, 0, 0, 0, 0, 0, 0, 0, 0, 1, 2, 0, 1, 1, 1, 1, 0, 0, 0, 0, 0, 1, 1, 1, 1, 1, 1, 1, 2, 1, 1, 1, 1, 1, 1, 1, 0, 0, 0, 0, 0, 0, 1, 1, 2, 0, 0, 0, 1, 0, 0, 0, 0, 1, 0, 1, 1, 1, 0, 0, 0, 0, 0, 1, 1, 2, 0, 0, 0, 0, 0, 0, 0, 0, 0, 0, 0, 0, 0, 2, 1, 1, 0, 2, 1, 1, 0, 0, 0, 0, 0, 1, 0, 0, 2, 2, 2, 0, 0, 0, 0, 0, 0, 0, 1, 1, 1, 2, 2, 2, 0, 1, 1, 1, 0, 1, 1, 1, 0, 0, 1, 0, 1, 1, 1, 1, 1, 0, 0, 0, 0, 0, 1, 0, 1, 1, 0, 1, 1, 1, 0, 1, 2, 1, 0, 1, 0, 2, 1, 1, 1, 1, 1, 0, 1, 0, 1, 0, 1, 1, 1, 1, 0, 0, 2, 1, 1, 0, 1, 2, 1, 0, 2, 2, 2, 0, 1, 1, 1, 1, 1, 1, 2, 1, 1, 1, 1, 1, 1, 0, 1, 1, 1, 2, 1, 1, 1, 0, 1, 0, 1, 2, 1, 1, 1, 1, 2, 1, 0, 0, 1, 0, 0, 1, 1, 1, 2, 1, 1, 0, 0, 1, 0, 0, 1, 0, 0, 0, 1, 1, 1, 1, 1, 2, 1, 1, 2, 2, 1, 1, 1, 0, 1, 1, 2, 2, 0, 1, 0, 0, 1, 1, 1, 1, 2, 1, 1, 1, 1, 0, 2, 0, 0, 2, 0, 2, 1, 2, 0, 2, 1, 0, 1, 0, 0, 2, 2, 1, 1, 1, 1, 1, 1, 2, 0, 1, 0, 1, 1, 1, 1, 0, 1, 1, 1, 0, 1, 1, 1, 1, 1, 0, 0, 2, 2, 1, 1, 1, 0, 0, 1, 1, 0, 1, 0, 1, 0, 1, 1, 1, 1, 1, 1, 1, 1, 2, 2, 1, 1, 1, 2, 1, 1, 0, 0, 1, 0, 1, 0, 0, 0, 1, 1, 0, 0, 1, 0, 1, 0, 1, 0, 1, 1, 1, 1, 1, 1, 1, 1, 1, 0, 1, 1, 1, 1, 1, 0, 1, 1, 1, 1, 2, 1, 1, 1, 1, 1, 0, 1, 0, 0, 1, 1, 0, 1, 1, 1, 1, 0, 2, 1, 0, 1, 1, 0, 1, 1, 1, 0, 0, 1, 1, 0, 2, 1, 1, 1, 1, 1, 1, 0, 1, 0, 0, 1, 0, 0, 1, 1, 2, 1, 0, 1, 0, 1, 0, 1, 0, 0, 1, 0, 0, 0, 1, 2, 1, 1, 2, 1, 1, 1, 0, 1, 0, 1, 1, 1, 2, 1, 0, 2, 2, 0, 2, 1, 2, 0, 2, 0, 0, 0, 1, 1, 1, 0, 2, 0, 0, 2, 1, 1, 2, 0, 1, 2, 1, 1, 0, 1, 0, 1, 1, 0, 0, 0, 0, 1, 1, 0, 1, 0, 1, 0, 0, 1, 0, 2, 1, 1, 0, 1, 1, 1, 2, 1, 2, 1, 1, 2, 2, 1, 0, 2, 0, 1, 1, 1, 0, 1, 1, 1, 1, 0, 1, 1, 1, 0, 0, 0, 1, 1, 1, 1, 0, 1, 0, 1, 1, 0, 1, 0, 0, 1, 1, 1, 0, 1, 2, 1, 1, 1, 1, 0, 0, 0, 0, 0, 1, 2, 1, 2, 0, 1, 0, 0, 2, 0, 0, 1, 0, 1, 1, 0, 1, 1, 2, 2, 0, 0, 1, 2, 0, 0, 0, 0, 1, 1, 1, 1, 1, 0, 1, 1, 0, 1, 0, 0, 1, 1, 0, 1, 0, 1, 0, 2, 0, 1, 1, 2, 1, 0, 1, 0, 2, 1, 0, 1, 1, 0, 1, 1, 0, 0, 1, 1, 0, 2, 1, 0, 1, 0, 0, 1, 1, 1, 1, 2, 0, 0, 1, 0, 0, 2, 1, 1, 0, 0, 1, 0, 1, 0, 0, 0, 0, 0, 0, 0, 0, 1, 0, 0, 1, 1, 1, 0, 0, 1, 0, 1, 1, 0, 1, 1, 0, 0, 0, 2, 0, 0, 0, 0, 1, 0, 0, 0, 0, 0, 0, 0, 0, 0, 0, 0, 0, 0, 0, 0, 0, 0, 0, 0, 0, 0, 0, 0, 0, 0, 0, 1, 1, 2, 0, 0, 2, 0, 0, 0, 1, 0, 1, 1, 0, 2, 1, 1, 0, 0, 0, 2, 2, 1, 1, 2, 1, 2, 1, 0, 1, 2, 1, 2, 0, 0, 1, 2, 1, 1, 0, 1, 2, 1, 1, 0, 1, 0, 1, 2, 0, 1, 1, 0, 1, 1, 1, 1, 1, 1, 1, 1, 0, 0, 0, 0, 0, 1, 1, 1, 2, 2, 2, 0, 0, 0, 1, 2, 1, 0, 1, 1, 0, 1, 2, 1, 0, 0, 0, 1, 0, 1, 0, 2, 1, 2, 1, 0, 1, 1, 2, 1, 0, 1, 0, 1, 1, 1, 0, 0, 0, 1, 0, 1, 1, 0, 2, 0, 1, 1, 0, 0, 1, 1, 0, 0, 0, 0, 0, 0, 0, 0, 0, 0, 0, 0, 1, 1, 2, 0, 2, 1, 0, 1, 1, 1, 0, 1, 0, 1, 0, 1, 1, 1, 2, 0, 0, 0, 0, 0, 2, 0, 1, 1, 0, 1, 1, 0, 0, 1, 0, 0, 1, 1, 1, 2, 2, 0, 0, 0, 0, 0, 1, 1, 0, 1, 1, 0, 2, 1, 0, 0, 1, 1, 0, 1, 0, 0, 1, 0, 1, 0, 0, 1, 1, 2, 1, 1, 0, 1, 0, 0, 0, 1, 2, 2, 0, 0, 0, 0, 1, 1, 1, 1, 0, 1, 1, 1, 0, 0, 1, 1, 1, 1, 1, 1, 0, 2, 0, 0, 1, 1, 1, 1, 0, 2, 2, 0, 0, 0, 1, 0, 1, 1, 1, 0, 0, 2, 1, 1, 2, 1, 1, 1, 0, 2, 1, 1, 2, 1, 0, 2, 1, 0, 0, 0, 1, 1, 2, 1, 1, 0, 0, 1, 1, 1, 1, 1, 1, 0, 2, 1, 1, 0, 2, 1, 0, 1, 0, 1, 1, 1, 2, 2, 0, 1, 2, 1, 0, 1, 0, 2, 1, 1, 1, 1, 2, 2, 0, 0, 1, 0, 0, 1, 1, 1, 0, 1, 0, 0, 1, 0, 1, 1, 1, 0, 2, 1, 0, 2, 1, 0, 1, 0, 0, 2, 0, 1, 1, 0, 1, 1, 1, 1, 1, 2, 2, 1, 2, 1, 0, 2, 1, 1, 1, 1, 2, 1, 0, 1, 0, 0, 1, 1, 1, 0, 1, 1, 2, 0, 0, 1, 1, 1, 2, 1, 0, 1, 1, 1, 0, 0, 1, 0, 1, 0, 1, 1, 0, 1, 0, 1, 1, 1, 0, 2, 0, 0, 0, 1, 1, 0, 0, 1, 1, 0, 0, 1, 1, 0, 0, 1, 1, 2, 2, 1, 0, 1, 0, 0, 1, 2, 1, 1, 0, 0, 1, 0, 1, 1, 1, 0, 0, 0, 0, 1, 0, 0, 2, 0, 1, 1, 2, 1, 2, 0, 1, 1, 0, 1, 1, 0, 1, 1, 0, 0, 0, 0, 0, 0, 0, 1, 1, 0, 0, 1, 1, 2, 0, 1, 1, 1, 1, 1, 1, 1, 2, 0, 1, 1, 1, 1, 1, 1, 0, 0, 0, 1, 0, 0, 1, 0, 0, 1, 0, 0, 0, 0, 0, 0, 0, 0, 0, 2, 0, 0, 0, 0, 0, 0, 0, 1, 2, 0, 1, 0, 0, 1, 0, 0, 0, 0, 0, 1, 0, 0, 0, 0, 0, 1, 1, 0, 0, 0, 0, 0, 0, 0, 0, 0, 0, 0, 0, 0, 0, 0, 0, 0, 0, 1, 0, 0, 0, 0, 0, 0, 0, 0, 1, 0, 2, 2, 1, 1, 2, 0, 1, 2, 0, 1, 1, 0, 1, 1, 1, 0, 1, 0, 1, 1, 0, 1, 0, 0, 0, 2, 2, 1, 0, 2, 1, 0, 1, 1, 1, 1, 1, 2, 0, 1, 1, 0, 1, 2, 1, 1, 0, 2, 2, 2, 2, 2, 1, 1, 1, 0, 0, 0, 1, 0, 1, 1, 1, 1, 2, 1, 0, 0, 2, 1, 1, 1, 1, 1, 1, 1, 1, 0, 1, 1, 1, 1, 1, 1, 1, 0, 1, 1, 1, 1, 1, 0, 2, 0, 2, 0, 2, 2, 0, 1, 1, 1, 1, 1, 1, 1, 1, 1, 1, 1, 1, 1, 1, 1, 1, 1, 1, 1, 1, 1, 1, 1, 1, 1, 0, 1, 1, 1, 1, 1, 1, 1, 1, 1, 1, 1, 1, 1, 1, 1, 1, 0, 0, 1, 1, 0, 1, 1, 0, 1, 2, 1, 1, 2, 1, 1, 1, 2, 0, 1, 1, 0, 0, 1, 1, 1, 1, 0, 2, 2, 1, 1, 2, 1, 1, 2, 1, 1, 1, 0, 1, 0, 0, 0, 1, 2, 1, 1, 2, 1, 1, 1, 0, 0, 0, 2, 0, 2, 1, 0, 0, 0, 1, 0, 1, 0, 1, 1, 0, 0, 0, 1, 1, 1, 1, 2, 1, 1, 1, 1, 0, 0, 0, 2, 0, 0, 2, 1, 0, 1, 1, 2, 1, 1, 1, 1, 2, 2, 1, 0, 0, 0, 1, 1, 1, 1, 1, 2, 1, 0, 0, 2, 0, 0, 2, 0, 1, 0, 1, 1, 2, 1, 1, 1, 1, 1, 1, 1, 1, 1, 0, 1, 1, 1, 0, 0, 1, 1, 1, 1, 0, 1, 2, 2, 1, 0, 1, 0, 0, 1, 0, 0, 1, 1, 1, 1, 2, 2, 2, 1, 1, 1, 0, 1, 1, 1, 2, 2, 1, 1, 0, 1, 1, 0, 1, 0, 1, 1, 1, 1, 1, 1, 1, 2, 2, 1, 1, 1, 0, 0, 2, 0, 1, 2, 0, 0, 0, 1, 1, 0, 1, 1, 1, 0, 1, 1, 0, 1, 1, 1, 1, 1, 2, 1, 1, 2, 1, 0, 0, 2, 0, 1, 0, 2, 2, 1, 1, 1, 1, 0, 0, 0, 1, 1, 1, 0, 1, 0, 0, 2, 1, 1, 1, 0, 1, 0, 0, 0, 1, 2, 0, 0, 0, 0, 0, 1, 1, 1, 1, 1, 1, 1, 2, 0, 0, 1, 0, 1, 2, 0, 0, 1, 0, 1, 1, 0, 0, 2, 0, 0, 1, 1, 1, 1, 1, 0, 1, 2, 1, 1, 0, 0, 0, 0, 0, 0, 0, 0, 0, 0, 0, 0, 0, 0, 0, 0, 0, 0, 0, 0, 0, 0, 0, 1, 0, 0, 0, 0, 0, 0, 0, 0, 0, 0, 0, 0, 0, 0, 0, 0, 0, 0, 0, 0, 0, 0, 0, 0, 0, 0, 0, 0, 0, 0, 0, 0, 0, 0, 0, 0, 0, 0, 0, 0, 0, 0, 0, 0, 0, 0, 0, 1, 1, 0], \"y0\": \" \", \"yaxis\": \"y\"}],\n",
              "                        {\"boxmode\": \"group\", \"legend\": {\"tracegroupgap\": 0}, \"margin\": {\"t\": 60}, \"template\": {\"data\": {\"bar\": [{\"error_x\": {\"color\": \"#2a3f5f\"}, \"error_y\": {\"color\": \"#2a3f5f\"}, \"marker\": {\"line\": {\"color\": \"#E5ECF6\", \"width\": 0.5}}, \"type\": \"bar\"}], \"barpolar\": [{\"marker\": {\"line\": {\"color\": \"#E5ECF6\", \"width\": 0.5}}, \"type\": \"barpolar\"}], \"carpet\": [{\"aaxis\": {\"endlinecolor\": \"#2a3f5f\", \"gridcolor\": \"white\", \"linecolor\": \"white\", \"minorgridcolor\": \"white\", \"startlinecolor\": \"#2a3f5f\"}, \"baxis\": {\"endlinecolor\": \"#2a3f5f\", \"gridcolor\": \"white\", \"linecolor\": \"white\", \"minorgridcolor\": \"white\", \"startlinecolor\": \"#2a3f5f\"}, \"type\": \"carpet\"}], \"choropleth\": [{\"colorbar\": {\"outlinewidth\": 0, \"ticks\": \"\"}, \"type\": \"choropleth\"}], \"contour\": [{\"colorbar\": {\"outlinewidth\": 0, \"ticks\": \"\"}, \"colorscale\": [[0.0, \"#0d0887\"], [0.1111111111111111, \"#46039f\"], [0.2222222222222222, \"#7201a8\"], [0.3333333333333333, \"#9c179e\"], [0.4444444444444444, \"#bd3786\"], [0.5555555555555556, \"#d8576b\"], [0.6666666666666666, \"#ed7953\"], [0.7777777777777778, \"#fb9f3a\"], [0.8888888888888888, \"#fdca26\"], [1.0, \"#f0f921\"]], \"type\": \"contour\"}], \"contourcarpet\": [{\"colorbar\": {\"outlinewidth\": 0, \"ticks\": \"\"}, \"type\": \"contourcarpet\"}], \"heatmap\": [{\"colorbar\": {\"outlinewidth\": 0, \"ticks\": \"\"}, \"colorscale\": [[0.0, \"#0d0887\"], [0.1111111111111111, \"#46039f\"], [0.2222222222222222, \"#7201a8\"], [0.3333333333333333, \"#9c179e\"], [0.4444444444444444, \"#bd3786\"], [0.5555555555555556, \"#d8576b\"], [0.6666666666666666, \"#ed7953\"], [0.7777777777777778, \"#fb9f3a\"], [0.8888888888888888, \"#fdca26\"], [1.0, \"#f0f921\"]], \"type\": \"heatmap\"}], \"heatmapgl\": [{\"colorbar\": {\"outlinewidth\": 0, \"ticks\": \"\"}, \"colorscale\": [[0.0, \"#0d0887\"], [0.1111111111111111, \"#46039f\"], [0.2222222222222222, \"#7201a8\"], [0.3333333333333333, \"#9c179e\"], [0.4444444444444444, \"#bd3786\"], [0.5555555555555556, \"#d8576b\"], [0.6666666666666666, \"#ed7953\"], [0.7777777777777778, \"#fb9f3a\"], [0.8888888888888888, \"#fdca26\"], [1.0, \"#f0f921\"]], \"type\": \"heatmapgl\"}], \"histogram\": [{\"marker\": {\"colorbar\": {\"outlinewidth\": 0, \"ticks\": \"\"}}, \"type\": \"histogram\"}], \"histogram2d\": [{\"colorbar\": {\"outlinewidth\": 0, \"ticks\": \"\"}, \"colorscale\": [[0.0, \"#0d0887\"], [0.1111111111111111, \"#46039f\"], [0.2222222222222222, \"#7201a8\"], [0.3333333333333333, \"#9c179e\"], [0.4444444444444444, \"#bd3786\"], [0.5555555555555556, \"#d8576b\"], [0.6666666666666666, \"#ed7953\"], [0.7777777777777778, \"#fb9f3a\"], [0.8888888888888888, \"#fdca26\"], [1.0, \"#f0f921\"]], \"type\": \"histogram2d\"}], \"histogram2dcontour\": [{\"colorbar\": {\"outlinewidth\": 0, \"ticks\": \"\"}, \"colorscale\": [[0.0, \"#0d0887\"], [0.1111111111111111, \"#46039f\"], [0.2222222222222222, \"#7201a8\"], [0.3333333333333333, \"#9c179e\"], [0.4444444444444444, \"#bd3786\"], [0.5555555555555556, \"#d8576b\"], [0.6666666666666666, \"#ed7953\"], [0.7777777777777778, \"#fb9f3a\"], [0.8888888888888888, \"#fdca26\"], [1.0, \"#f0f921\"]], \"type\": \"histogram2dcontour\"}], \"mesh3d\": [{\"colorbar\": {\"outlinewidth\": 0, \"ticks\": \"\"}, \"type\": \"mesh3d\"}], \"parcoords\": [{\"line\": {\"colorbar\": {\"outlinewidth\": 0, \"ticks\": \"\"}}, \"type\": \"parcoords\"}], \"pie\": [{\"automargin\": true, \"type\": \"pie\"}], \"scatter\": [{\"marker\": {\"colorbar\": {\"outlinewidth\": 0, \"ticks\": \"\"}}, \"type\": \"scatter\"}], \"scatter3d\": [{\"line\": {\"colorbar\": {\"outlinewidth\": 0, \"ticks\": \"\"}}, \"marker\": {\"colorbar\": {\"outlinewidth\": 0, \"ticks\": \"\"}}, \"type\": \"scatter3d\"}], \"scattercarpet\": [{\"marker\": {\"colorbar\": {\"outlinewidth\": 0, \"ticks\": \"\"}}, \"type\": \"scattercarpet\"}], \"scattergeo\": [{\"marker\": {\"colorbar\": {\"outlinewidth\": 0, \"ticks\": \"\"}}, \"type\": \"scattergeo\"}], \"scattergl\": [{\"marker\": {\"colorbar\": {\"outlinewidth\": 0, \"ticks\": \"\"}}, \"type\": \"scattergl\"}], \"scattermapbox\": [{\"marker\": {\"colorbar\": {\"outlinewidth\": 0, \"ticks\": \"\"}}, \"type\": \"scattermapbox\"}], \"scatterpolar\": [{\"marker\": {\"colorbar\": {\"outlinewidth\": 0, \"ticks\": \"\"}}, \"type\": \"scatterpolar\"}], \"scatterpolargl\": [{\"marker\": {\"colorbar\": {\"outlinewidth\": 0, \"ticks\": \"\"}}, \"type\": \"scatterpolargl\"}], \"scatterternary\": [{\"marker\": {\"colorbar\": {\"outlinewidth\": 0, \"ticks\": \"\"}}, \"type\": \"scatterternary\"}], \"surface\": [{\"colorbar\": {\"outlinewidth\": 0, \"ticks\": \"\"}, \"colorscale\": [[0.0, \"#0d0887\"], [0.1111111111111111, \"#46039f\"], [0.2222222222222222, \"#7201a8\"], [0.3333333333333333, \"#9c179e\"], [0.4444444444444444, \"#bd3786\"], [0.5555555555555556, \"#d8576b\"], [0.6666666666666666, \"#ed7953\"], [0.7777777777777778, \"#fb9f3a\"], [0.8888888888888888, \"#fdca26\"], [1.0, \"#f0f921\"]], \"type\": \"surface\"}], \"table\": [{\"cells\": {\"fill\": {\"color\": \"#EBF0F8\"}, \"line\": {\"color\": \"white\"}}, \"header\": {\"fill\": {\"color\": \"#C8D4E3\"}, \"line\": {\"color\": \"white\"}}, \"type\": \"table\"}]}, \"layout\": {\"annotationdefaults\": {\"arrowcolor\": \"#2a3f5f\", \"arrowhead\": 0, \"arrowwidth\": 1}, \"coloraxis\": {\"colorbar\": {\"outlinewidth\": 0, \"ticks\": \"\"}}, \"colorscale\": {\"diverging\": [[0, \"#8e0152\"], [0.1, \"#c51b7d\"], [0.2, \"#de77ae\"], [0.3, \"#f1b6da\"], [0.4, \"#fde0ef\"], [0.5, \"#f7f7f7\"], [0.6, \"#e6f5d0\"], [0.7, \"#b8e186\"], [0.8, \"#7fbc41\"], [0.9, \"#4d9221\"], [1, \"#276419\"]], \"sequential\": [[0.0, \"#0d0887\"], [0.1111111111111111, \"#46039f\"], [0.2222222222222222, \"#7201a8\"], [0.3333333333333333, \"#9c179e\"], [0.4444444444444444, \"#bd3786\"], [0.5555555555555556, \"#d8576b\"], [0.6666666666666666, \"#ed7953\"], [0.7777777777777778, \"#fb9f3a\"], [0.8888888888888888, \"#fdca26\"], [1.0, \"#f0f921\"]], \"sequentialminus\": [[0.0, \"#0d0887\"], [0.1111111111111111, \"#46039f\"], [0.2222222222222222, \"#7201a8\"], [0.3333333333333333, \"#9c179e\"], [0.4444444444444444, \"#bd3786\"], [0.5555555555555556, \"#d8576b\"], [0.6666666666666666, \"#ed7953\"], [0.7777777777777778, \"#fb9f3a\"], [0.8888888888888888, \"#fdca26\"], [1.0, \"#f0f921\"]]}, \"colorway\": [\"#636efa\", \"#EF553B\", \"#00cc96\", \"#ab63fa\", \"#FFA15A\", \"#19d3f3\", \"#FF6692\", \"#B6E880\", \"#FF97FF\", \"#FECB52\"], \"font\": {\"color\": \"#2a3f5f\"}, \"geo\": {\"bgcolor\": \"white\", \"lakecolor\": \"white\", \"landcolor\": \"#E5ECF6\", \"showlakes\": true, \"showland\": true, \"subunitcolor\": \"white\"}, \"hoverlabel\": {\"align\": \"left\"}, \"hovermode\": \"closest\", \"mapbox\": {\"style\": \"light\"}, \"paper_bgcolor\": \"white\", \"plot_bgcolor\": \"#E5ECF6\", \"polar\": {\"angularaxis\": {\"gridcolor\": \"white\", \"linecolor\": \"white\", \"ticks\": \"\"}, \"bgcolor\": \"#E5ECF6\", \"radialaxis\": {\"gridcolor\": \"white\", \"linecolor\": \"white\", \"ticks\": \"\"}}, \"scene\": {\"xaxis\": {\"backgroundcolor\": \"#E5ECF6\", \"gridcolor\": \"white\", \"gridwidth\": 2, \"linecolor\": \"white\", \"showbackground\": true, \"ticks\": \"\", \"zerolinecolor\": \"white\"}, \"yaxis\": {\"backgroundcolor\": \"#E5ECF6\", \"gridcolor\": \"white\", \"gridwidth\": 2, \"linecolor\": \"white\", \"showbackground\": true, \"ticks\": \"\", \"zerolinecolor\": \"white\"}, \"zaxis\": {\"backgroundcolor\": \"#E5ECF6\", \"gridcolor\": \"white\", \"gridwidth\": 2, \"linecolor\": \"white\", \"showbackground\": true, \"ticks\": \"\", \"zerolinecolor\": \"white\"}}, \"shapedefaults\": {\"line\": {\"color\": \"#2a3f5f\"}}, \"ternary\": {\"aaxis\": {\"gridcolor\": \"white\", \"linecolor\": \"white\", \"ticks\": \"\"}, \"baxis\": {\"gridcolor\": \"white\", \"linecolor\": \"white\", \"ticks\": \"\"}, \"bgcolor\": \"#E5ECF6\", \"caxis\": {\"gridcolor\": \"white\", \"linecolor\": \"white\", \"ticks\": \"\"}}, \"title\": {\"x\": 0.05}, \"xaxis\": {\"automargin\": true, \"gridcolor\": \"white\", \"linecolor\": \"white\", \"ticks\": \"\", \"title\": {\"standoff\": 15}, \"zerolinecolor\": \"white\", \"zerolinewidth\": 2}, \"yaxis\": {\"automargin\": true, \"gridcolor\": \"white\", \"linecolor\": \"white\", \"ticks\": \"\", \"title\": {\"standoff\": 15}, \"zerolinecolor\": \"white\", \"zerolinewidth\": 2}}}, \"xaxis\": {\"anchor\": \"y\", \"domain\": [0.0, 1.0], \"title\": {\"text\": \"Tag\"}}, \"yaxis\": {\"anchor\": \"x\", \"domain\": [0.0, 1.0], \"title\": {\"text\": \"Difficulty\"}}},\n",
              "                        {\"responsive\": true}\n",
              "                    ).then(function(){\n",
              "                            \n",
              "var gd = document.getElementById('0775cba4-5799-41ab-a929-251f51ba93b4');\n",
              "var x = new MutationObserver(function (mutations, observer) {{\n",
              "        var display = window.getComputedStyle(gd).display;\n",
              "        if (!display || display === 'none') {{\n",
              "            console.log([gd, 'removed!']);\n",
              "            Plotly.purge(gd);\n",
              "            observer.disconnect();\n",
              "        }}\n",
              "}});\n",
              "\n",
              "// Listen for the removal of the full notebook cells\n",
              "var notebookContainer = gd.closest('#notebook-container');\n",
              "if (notebookContainer) {{\n",
              "    x.observe(notebookContainer, {childList: true});\n",
              "}}\n",
              "\n",
              "// Listen for the clearing of the current output cell\n",
              "var outputEl = gd.closest('.output');\n",
              "if (outputEl) {{\n",
              "    x.observe(outputEl, {childList: true});\n",
              "}}\n",
              "\n",
              "                        })\n",
              "                };\n",
              "                \n",
              "            </script>\n",
              "        </div>\n",
              "</body>\n",
              "</html>"
            ]
          },
          "metadata": {
            "tags": []
          }
        }
      ]
    },
    {
      "cell_type": "markdown",
      "metadata": {
        "id": "QvZsVCn4As-d"
      },
      "source": [
        "Figure 4: From the boxplot, we can see that there is not a distinct variation between groups for difficulty rating. Hence, there may be no further investigation into difficulty."
      ]
    },
    {
      "cell_type": "markdown",
      "metadata": {
        "id": "KmFYelIU_PmB"
      },
      "source": [
        "How many questions were rated by each team ?"
      ]
    },
    {
      "cell_type": "code",
      "metadata": {
        "id": "2H-uspkIZoDQ",
        "outputId": "ef6348c6-d147-4ad8-b725-2762d2906cbd",
        "colab": {
          "base_uri": "https://localhost:8080/"
        }
      },
      "source": [
        "# Group by team colour and count how many rating were made\n",
        "df12.groupby(['Tag'])['QuestionID'].count().sort_values()"
      ],
      "execution_count": 22,
      "outputs": [
        {
          "output_type": "execute_result",
          "data": {
            "text/plain": [
              "Tag\n",
              "Purple     84\n",
              "White     171\n",
              "Brown     218\n",
              "Yellow    226\n",
              "Black     264\n",
              "Blue      282\n",
              "Green     308\n",
              "Pink      330\n",
              "Red       344\n",
              "Name: QuestionID, dtype: int64"
            ]
          },
          "metadata": {
            "tags": []
          },
          "execution_count": 22
        }
      ]
    },
    {
      "cell_type": "code",
      "metadata": {
        "id": "xWIdMFpk_WMj",
        "outputId": "614aa91b-06b6-453a-c096-5b4e3cf8cc6b",
        "colab": {
          "base_uri": "https://localhost:8080/"
        }
      },
      "source": [
        "print('We can see that the purple group had the lowest number of questions rated and red had the highest number of questions rated')"
      ],
      "execution_count": 23,
      "outputs": [
        {
          "output_type": "stream",
          "text": [
            "We can see that the purple group had the lowest number of questions rated and red had the highest number of questions rated\n"
          ],
          "name": "stdout"
        }
      ]
    },
    {
      "cell_type": "code",
      "metadata": {
        "id": "mWjLgMWcA0qU",
        "outputId": "7ac7f1ec-af73-4c33-d473-7b5ad6961939",
        "colab": {
          "base_uri": "https://localhost:8080/",
          "height": 542
        }
      },
      "source": [
        "# Plot a boxplot of tag vs. score. A boxplot was chosen because it helps visualise the interquartile range and any outliers.\n",
        "px.histogram(df12, x=\"Tag\", y=\"QuestionID\")"
      ],
      "execution_count": 24,
      "outputs": [
        {
          "output_type": "display_data",
          "data": {
            "text/html": [
              "<html>\n",
              "<head><meta charset=\"utf-8\" /></head>\n",
              "<body>\n",
              "    <div>\n",
              "            <script src=\"https://cdnjs.cloudflare.com/ajax/libs/mathjax/2.7.5/MathJax.js?config=TeX-AMS-MML_SVG\"></script><script type=\"text/javascript\">if (window.MathJax) {MathJax.Hub.Config({SVG: {font: \"STIX-Web\"}});}</script>\n",
              "                <script type=\"text/javascript\">window.PlotlyConfig = {MathJaxConfig: 'local'};</script>\n",
              "        <script src=\"https://cdn.plot.ly/plotly-latest.min.js\"></script>    \n",
              "            <div id=\"d3154482-2f4d-4575-bd46-0b2fe66b94e4\" class=\"plotly-graph-div\" style=\"height:525px; width:100%;\"></div>\n",
              "            <script type=\"text/javascript\">\n",
              "                \n",
              "                    window.PLOTLYENV=window.PLOTLYENV || {};\n",
              "                    \n",
              "                if (document.getElementById(\"d3154482-2f4d-4575-bd46-0b2fe66b94e4\")) {\n",
              "                    Plotly.newPlot(\n",
              "                        'd3154482-2f4d-4575-bd46-0b2fe66b94e4',\n",
              "                        [{\"alignmentgroup\": \"True\", \"bingroup\": \"x\", \"hoverlabel\": {\"namelength\": 0}, \"hovertemplate\": \"Tag=%{x}<br>count of QuestionID=%{y}\", \"legendgroup\": \"\", \"marker\": {\"color\": \"#636efa\"}, \"name\": \"\", \"offsetgroup\": \"\", \"orientation\": \"v\", \"showlegend\": false, \"type\": \"histogram\", \"x\": [\"Pink\", \"Pink\", \"Red\", \"Brown\", \"Brown\", \"Brown\", \"Green\", \"Pink\", \"Brown\", \"Pink\", \"Black\", \"Black\", \"Black\", \"Green\", \"Black\", \"Green\", \"Brown\", \"Brown\", \"Brown\", \"Brown\", \"Brown\", \"Pink\", \"Pink\", \"Red\", \"Pink\", \"Black\", \"Pink\", \"Black\", \"Pink\", \"Black\", \"Black\", \"Black\", \"Pink\", \"Pink\", \"Pink\", \"Pink\", \"Pink\", \"Pink\", \"Pink\", \"Pink\", \"Green\", \"Green\", \"Green\", \"Green\", \"Green\", \"Pink\", \"Pink\", \"Pink\", \"Pink\", \"Pink\", \"Pink\", \"Pink\", \"Pink\", \"Pink\", \"Blue\", \"Blue\", \"Green\", \"Green\", \"Green\", \"Green\", \"Green\", \"Blue\", \"Blue\", \"Blue\", \"Blue\", \"Blue\", \"Blue\", \"Blue\", \"Blue\", \"Blue\", \"Blue\", \"Pink\", \"Blue\", \"Pink\", \"Blue\", \"Blue\", \"Pink\", \"Pink\", \"Pink\", \"Pink\", \"Pink\", \"Pink\", \"Pink\", \"Blue\", \"Blue\", \"Blue\", \"Blue\", \"Blue\", \"Blue\", \"Blue\", \"Blue\", \"Blue\", \"Pink\", \"Pink\", \"Pink\", \"Pink\", \"Pink\", \"Pink\", \"Pink\", \"Pink\", \"Pink\", \"Green\", \"Green\", \"Green\", \"Green\", \"Black\", \"Black\", \"Black\", \"Pink\", \"Pink\", \"Pink\", \"Pink\", \"Pink\", \"Pink\", \"Pink\", \"Pink\", \"Pink\", \"Blue\", \"Pink\", \"Blue\", \"Blue\", \"Blue\", \"Pink\", \"Black\", \"Brown\", \"Brown\", \"Brown\", \"Brown\", \"Brown\", \"Brown\", \"Brown\", \"Brown\", \"Red\", \"Red\", \"Red\", \"Blue\", \"Red\", \"Red\", \"Red\", \"Red\", \"Red\", \"Black\", \"Black\", \"Black\", \"Black\", \"Black\", \"Black\", \"Black\", \"Blue\", \"Blue\", \"Blue\", \"Blue\", \"Blue\", \"Black\", \"Black\", \"Black\", \"Black\", \"Black\", \"Black\", \"Black\", \"Black\", \"Black\", \"Green\", \"Brown\", \"Blue\", \"Blue\", \"Blue\", \"Blue\", \"Blue\", \"Black\", \"Blue\", \"Black\", \"Black\", \"Brown\", \"Brown\", \"Black\", \"Brown\", \"Black\", \"Black\", \"Brown\", \"Black\", \"Black\", \"Black\", \"Blue\", \"Brown\", \"Brown\", \"Red\", \"Red\", \"Red\", \"Blue\", \"Red\", \"Red\", \"Red\", \"Red\", \"Red\", \"Red\", \"Blue\", \"Blue\", \"Blue\", \"Blue\", \"Blue\", \"Blue\", \"Blue\", \"Blue\", \"Blue\", \"Blue\", \"Blue\", \"Blue\", \"Blue\", \"Blue\", \"Blue\", \"Pink\", \"Blue\", \"Black\", \"Pink\", \"Black\", \"Blue\", \"Pink\", \"Black\", \"Blue\", \"Blue\", \"Black\", \"Blue\", \"Black\", \"Blue\", \"Blue\", \"Black\", \"Blue\", \"Blue\", \"Blue\", \"Blue\", \"Blue\", \"Black\", \"Blue\", \"Blue\", \"Black\", \"Black\", \"Blue\", \"Pink\", \"Pink\", \"Pink\", \"Pink\", \"Pink\", \"Pink\", \"Black\", \"Black\", \"Black\", \"Black\", \"Black\", \"Black\", \"Black\", \"Pink\", \"Pink\", \"Pink\", \"Pink\", \"Pink\", \"Brown\", \"Brown\", \"Brown\", \"Brown\", \"Red\", \"Brown\", \"Brown\", \"Brown\", \"Brown\", \"Brown\", \"Brown\", \"Brown\", \"Black\", \"Black\", \"Brown\", \"Black\", \"Black\", \"Black\", \"Brown\", \"Green\", \"Green\", \"Green\", \"Red\", \"Green\", \"Red\", \"Green\", \"Red\", \"Green\", \"Green\", \"Green\", \"Green\", \"Red\", \"Pink\", \"Green\", \"Brown\", \"Black\", \"Pink\", \"Pink\", \"Green\", \"Yellow\", \"Red\", \"Red\", \"Pink\", \"Brown\", \"Green\", \"Brown\", \"Brown\", \"Black\", \"Red\", \"Brown\", \"Black\", \"Red\", \"Black\", \"Black\", \"Brown\", \"Black\", \"Brown\", \"Brown\", \"Brown\", \"Brown\", \"Black\", \"Brown\", \"Brown\", \"Green\", \"Brown\", \"Pink\", \"Brown\", \"Brown\", \"Blue\", \"Green\", \"Brown\", \"Black\", \"Blue\", \"Blue\", \"Blue\", \"Blue\", \"Blue\", \"Green\", \"Brown\", \"Green\", \"Blue\", \"Blue\", \"Brown\", \"Pink\", \"Blue\", \"Green\", \"Pink\", \"Red\", \"Pink\", \"Black\", \"Green\", \"Pink\", \"Red\", \"Brown\", \"Black\", \"Pink\", \"Red\", \"Green\", \"Brown\", \"Red\", \"Red\", \"Red\", \"Red\", \"Red\", \"Red\", \"Brown\", \"Brown\", \"Brown\", \"Brown\", \"Brown\", \"Green\", \"Green\", \"Brown\", \"Green\", \"Green\", \"Green\", \"Brown\", \"Brown\", \"Black\", \"Black\", \"Brown\", \"Brown\", \"Brown\", \"Brown\", \"Brown\", \"Brown\", \"Brown\", \"Brown\", \"Brown\", \"Red\", \"Red\", \"Red\", \"Red\", \"Red\", \"Red\", \"Red\", \"Red\", \"Red\", \"Red\", \"Red\", \"Red\", \"Black\", \"Black\", \"Red\", \"Red\", \"Red\", \"Red\", \"Red\", \"Red\", \"Red\", \"Red\", \"Red\", \"Red\", \"Red\", \"Red\", \"Red\", \"Red\", \"Red\", \"Red\", \"Red\", \"Red\", \"Blue\", \"Brown\", \"Yellow\", \"Brown\", \"Brown\", \"Brown\", \"Brown\", \"Green\", \"Green\", \"Red\", \"Red\", \"Pink\", \"Black\", \"Pink\", \"Black\", \"Red\", \"Pink\", \"Red\", \"Green\", \"Black\", \"Brown\", \"Red\", \"Green\", \"Black\", \"Red\", \"Black\", \"Black\", \"Red\", \"Red\", \"Red\", \"Red\", \"Red\", \"Red\", \"Red\", \"Red\", \"Brown\", \"Brown\", \"Brown\", \"Brown\", \"Brown\", \"Brown\", \"Brown\", \"Brown\", \"Brown\", \"Brown\", \"Brown\", \"Green\", \"Green\", \"Green\", \"Red\", \"Red\", \"Red\", \"Green\", \"Green\", \"Blue\", \"Brown\", \"Black\", \"Brown\", \"Green\", \"Pink\", \"Brown\", \"Black\", \"Green\", \"Green\", \"Green\", \"Green\", \"Green\", \"Green\", \"Green\", \"Green\", \"Green\", \"Green\", \"Pink\", \"Green\", \"Brown\", \"Pink\", \"Green\", \"Green\", \"Brown\", \"Brown\", \"Pink\", \"Brown\", \"Black\", \"Pink\", \"Green\", \"Black\", \"Green\", \"Blue\", \"Red\", \"Red\", \"Blue\", \"Black\", \"Pink\", \"Blue\", \"Red\", \"Black\", \"Pink\", \"Green\", \"Yellow\", \"Pink\", \"Green\", \"Brown\", \"Pink\", \"Pink\", \"Black\", \"Red\", \"Red\", \"Brown\", \"Green\", \"Blue\", \"Brown\", \"Green\", \"Blue\", \"Black\", \"Blue\", \"Red\", \"Pink\", \"Black\", \"Green\", \"Blue\", \"Black\", \"Red\", \"Blue\", \"Brown\", \"Pink\", \"Blue\", \"Black\", \"Red\", \"Red\", \"Brown\", \"Red\", \"Black\", \"Green\", \"Green\", \"Green\", \"Yellow\", \"Yellow\", \"Yellow\", \"Yellow\", \"Yellow\", \"Green\", \"Pink\", \"Yellow\", \"Green\", \"Green\", \"Green\", \"Green\", \"Green\", \"Green\", \"Pink\", \"Red\", \"Yellow\", \"Green\", \"Yellow\", \"Yellow\", \"Red\", \"Purple\", \"Purple\", \"Purple\", \"Purple\", \"Purple\", \"Purple\", \"Green\", \"Green\", \"Green\", \"Red\", \"Red\", \"Green\", \"Red\", \"Green\", \"Green\", \"Green\", \"Green\", \"Green\", \"Green\", \"Red\", \"Green\", \"Green\", \"Green\", \"Red\", \"Green\", \"Green\", \"Green\", \"Yellow\", \"Yellow\", \"Yellow\", \"Yellow\", \"Yellow\", \"Green\", \"Green\", \"Green\", \"Yellow\", \"Yellow\", \"Yellow\", \"Yellow\", \"Yellow\", \"Yellow\", \"Yellow\", \"Green\", \"Green\", \"Yellow\", \"Yellow\", \"Yellow\", \"Yellow\", \"Red\", \"Red\", \"Red\", \"Yellow\", \"Red\", \"Red\", \"Red\", \"Yellow\", \"Yellow\", \"Yellow\", \"Yellow\", \"Brown\", \"Brown\", \"Green\", \"Brown\", \"Yellow\", \"Yellow\", \"Yellow\", \"Yellow\", \"Yellow\", \"Yellow\", \"Yellow\", \"Yellow\", \"Yellow\", \"Yellow\", \"Yellow\", \"Yellow\", \"Yellow\", \"Pink\", \"Pink\", \"Pink\", \"Pink\", \"Pink\", \"Pink\", \"Pink\", \"Pink\", \"Pink\", \"Pink\", \"Pink\", \"Yellow\", \"Yellow\", \"Yellow\", \"Yellow\", \"Yellow\", \"Green\", \"Pink\", \"Pink\", \"Pink\", \"Pink\", \"Pink\", \"Pink\", \"Pink\", \"Pink\", \"Pink\", \"Pink\", \"Pink\", \"Yellow\", \"Yellow\", \"Yellow\", \"Yellow\", \"Yellow\", \"Yellow\", \"Yellow\", \"Yellow\", \"Yellow\", \"Yellow\", \"Yellow\", \"Yellow\", \"Yellow\", \"Green\", \"Green\", \"Green\", \"Green\", \"Purple\", \"Purple\", \"Purple\", \"Purple\", \"Red\", \"Red\", \"Red\", \"Red\", \"Red\", \"Red\", \"Red\", \"Red\", \"Purple\", \"Purple\", \"Purple\", \"Purple\", \"Purple\", \"Black\", \"Black\", \"Black\", \"Black\", \"Black\", \"Black\", \"White\", \"White\", \"White\", \"White\", \"White\", \"Red\", \"Red\", \"White\", \"White\", \"Black\", \"Red\", \"Red\", \"Red\", \"White\", \"Red\", \"Purple\", \"Red\", \"Red\", \"Green\", \"Red\", \"Brown\", \"Red\", \"Yellow\", \"Black\", \"Blue\", \"Blue\", \"Blue\", \"Yellow\", \"Yellow\", \"Yellow\", \"Black\", \"Yellow\", \"Yellow\", \"Black\", \"Yellow\", \"Yellow\", \"Black\", \"Red\", \"Red\", \"Red\", \"Red\", \"Red\", \"Red\", \"Black\", \"Brown\", \"Brown\", \"Brown\", \"Black\", \"Black\", \"Yellow\", \"Yellow\", \"Yellow\", \"Yellow\", \"Yellow\", \"Yellow\", \"Yellow\", \"Yellow\", \"Yellow\", \"Yellow\", \"Yellow\", \"Yellow\", \"Yellow\", \"Purple\", \"Red\", \"Yellow\", \"Brown\", \"Brown\", \"Green\", \"White\", \"Red\", \"Brown\", \"Purple\", \"Red\", \"Red\", \"Green\", \"Red\", \"Red\", \"Green\", \"Red\", \"Green\", \"Black\", \"Green\", \"Red\", \"Green\", \"Red\", \"Green\", \"Red\", \"Green\", \"Green\", \"Green\", \"Green\", \"Green\", \"Green\", \"Red\", \"Green\", \"Green\", \"Green\", \"Green\", \"Green\", \"Yellow\", \"Yellow\", \"Green\", \"Yellow\", \"Yellow\", \"Green\", \"Green\", \"Green\", \"Green\", \"Green\", \"Green\", \"Green\", \"Green\", \"Green\", \"Yellow\", \"Yellow\", \"Yellow\", \"Yellow\", \"Black\", \"Pink\", \"Pink\", \"Red\", \"Red\", \"Pink\", \"Red\", \"Red\", \"Red\", \"Red\", \"Red\", \"Red\", \"Pink\", \"Green\", \"Green\", \"Pink\", \"Pink\", \"Green\", \"Green\", \"Green\", \"Green\", \"Green\", \"Green\", \"Pink\", \"Pink\", \"Pink\", \"Pink\", \"Pink\", \"Brown\", \"Brown\", \"Brown\", \"Brown\", \"Brown\", \"Black\", \"Black\", \"Black\", \"Black\", \"Black\", \"Green\", \"Pink\", \"Pink\", \"Pink\", \"Pink\", \"Pink\", \"Purple\", \"Pink\", \"Purple\", \"Pink\", \"Pink\", \"Pink\", \"Pink\", \"Pink\", \"Pink\", \"Pink\", \"Pink\", \"Pink\", \"Pink\", \"Pink\", \"Pink\", \"Pink\", \"Pink\", \"Purple\", \"Purple\", \"Pink\", \"Pink\", \"Pink\", \"Purple\", \"Pink\", \"Pink\", \"Pink\", \"White\", \"White\", \"White\", \"Black\", \"White\", \"White\", \"White\", \"White\", \"Purple\", \"Purple\", \"Purple\", \"Purple\", \"Purple\", \"Purple\", \"Green\", \"Green\", \"Green\", \"Green\", \"Purple\", \"Green\", \"Green\", \"Green\", \"Green\", \"Green\", \"Purple\", \"Purple\", \"White\", \"White\", \"Black\", \"White\", \"White\", \"White\", \"White\", \"Green\", \"Black\", \"Brown\", \"Brown\", \"Brown\", \"Brown\", \"Brown\", \"Brown\", \"Brown\", \"Brown\", \"Purple\", \"Purple\", \"Purple\", \"Purple\", \"Purple\", \"Purple\", \"Purple\", \"Purple\", \"Purple\", \"Purple\", \"Purple\", \"Purple\", \"Black\", \"Black\", \"Black\", \"Black\", \"Brown\", \"Black\", \"Black\", \"Black\", \"Black\", \"Brown\", \"Red\", \"Yellow\", \"Blue\", \"Blue\", \"Blue\", \"Blue\", \"Blue\", \"Blue\", \"Blue\", \"Blue\", \"Red\", \"Red\", \"Black\", \"Yellow\", \"Red\", \"Black\", \"Black\", \"Red\", \"Black\", \"Red\", \"Black\", \"Black\", \"Red\", \"Black\", \"Black\", \"Red\", \"Red\", \"Black\", \"Red\", \"Red\", \"Brown\", \"Brown\", \"White\", \"Red\", \"Red\", \"Red\", \"Blue\", \"Red\", \"Blue\", \"Blue\", \"Red\", \"Blue\", \"Blue\", \"Blue\", \"Black\", \"Black\", \"Black\", \"Black\", \"Black\", \"Black\", \"Purple\", \"Black\", \"Red\", \"Red\", \"Red\", \"Purple\", \"Yellow\", \"Purple\", \"Yellow\", \"Purple\", \"Pink\", \"Purple\", \"Green\", \"Purple\", \"Black\", \"Purple\", \"Red\", \"Black\", \"Purple\", \"Red\", \"White\", \"White\", \"White\", \"White\", \"Red\", \"Red\", \"White\", \"Red\", \"Red\", \"Red\", \"White\", \"White\", \"Purple\", \"Purple\", \"Purple\", \"Purple\", \"Blue\", \"White\", \"White\", \"White\", \"Red\", \"Purple\", \"Blue\", \"Blue\", \"Blue\", \"Red\", \"Black\", \"Blue\", \"Black\", \"Blue\", \"Brown\", \"Blue\", \"Blue\", \"Blue\", \"Blue\", \"Blue\", \"Blue\", \"White\", \"Blue\", \"White\", \"White\", \"White\", \"White\", \"Black\", \"Blue\", \"Red\", \"Purple\", \"White\", \"White\", \"Blue\", \"Red\", \"Green\", \"Pink\", \"Purple\", \"Pink\", \"White\", \"Green\", \"Pink\", \"Yellow\", \"Blue\", \"Purple\", \"Yellow\", \"Purple\", \"Red\", \"Brown\", \"Green\", \"Pink\", \"Green\", \"Pink\", \"Green\", \"Brown\", \"Purple\", \"White\", \"Purple\", \"Brown\", \"Green\", \"Brown\", \"Black\", \"White\", \"Yellow\", \"Yellow\", \"Brown\", \"Red\", \"Purple\", \"Yellow\", \"Black\", \"Blue\", \"Yellow\", \"Red\", \"Black\", \"White\", \"Black\", \"Pink\", \"Black\", \"Yellow\", \"Purple\", \"Yellow\", \"Purple\", \"Brown\", \"Green\", \"Yellow\", \"Green\", \"Blue\", \"Blue\", \"Brown\", \"Green\", \"White\", \"Green\", \"Brown\", \"Black\", \"Yellow\", \"Pink\", \"Pink\", \"Green\", \"Red\", \"Purple\", \"Red\", \"White\", \"Pink\", \"Brown\", \"Yellow\", \"Pink\", \"Purple\", \"Black\", \"Red\", \"Black\", \"Red\", \"White\", \"Blue\", \"Pink\", \"Pink\", \"Pink\", \"Pink\", \"Yellow\", \"Yellow\", \"Yellow\", \"Yellow\", \"Red\", \"Red\", \"Red\", \"Red\", \"Yellow\", \"Red\", \"Yellow\", \"Yellow\", \"Yellow\", \"Pink\", \"Green\", \"White\", \"White\", \"White\", \"White\", \"White\", \"Black\", \"Yellow\", \"Blue\", \"Red\", \"Red\", \"Pink\", \"White\", \"Red\", \"Red\", \"Pink\", \"White\", \"Red\", \"Red\", \"White\", \"White\", \"White\", \"White\", \"White\", \"White\", \"Green\", \"Pink\", \"Pink\", \"Pink\", \"White\", \"White\", \"Pink\", \"Pink\", \"Pink\", \"Pink\", \"Pink\", \"Red\", \"Red\", \"Red\", \"Red\", \"Red\", \"Red\", \"Red\", \"Blue\", \"Pink\", \"Red\", \"Black\", \"Yellow\", \"Red\", \"Pink\", \"Yellow\", \"Pink\", \"Yellow\", \"Yellow\", \"Yellow\", \"Yellow\", \"Yellow\", \"White\", \"White\", \"White\", \"White\", \"White\", \"White\", \"White\", \"Pink\", \"Pink\", \"Pink\", \"Pink\", \"Pink\", \"Pink\", \"Pink\", \"Pink\", \"Pink\", \"Black\", \"White\", \"Black\", \"Black\", \"Black\", \"Black\", \"Pink\", \"Pink\", \"Pink\", \"White\", \"Pink\", \"Pink\", \"Pink\", \"Pink\", \"Pink\", \"Pink\", \"Green\", \"Green\", \"Green\", \"Green\", \"Purple\", \"Brown\", \"White\", \"White\", \"Purple\", \"Blue\", \"Blue\", \"Red\", \"White\", \"Red\", \"White\", \"White\", \"White\", \"White\", \"White\", \"White\", \"White\", \"White\", \"White\", \"White\", \"White\", \"White\", \"Red\", \"White\", \"White\", \"Pink\", \"White\", \"Red\", \"Red\", \"Red\", \"Red\", \"Red\", \"Red\", \"Brown\", \"Brown\", \"Blue\", \"Blue\", \"Blue\", \"Green\", \"Black\", \"Black\", \"Red\", \"Red\", \"Red\", \"Red\", \"Red\", \"Pink\", \"Pink\", \"Pink\", \"Pink\", \"Pink\", \"Yellow\", \"Yellow\", \"Yellow\", \"Yellow\", \"Yellow\", \"Yellow\", \"Yellow\", \"White\", \"White\", \"White\", \"Pink\", \"Pink\", \"Pink\", \"Pink\", \"Yellow\", \"Pink\", \"Red\", \"Pink\", \"Red\", \"Red\", \"White\", \"Red\", \"Red\", \"White\", \"Red\", \"Red\", \"Pink\", \"Pink\", \"Pink\", \"Pink\", \"Pink\", \"Black\", \"Black\", \"Black\", \"Pink\", \"Black\", \"Black\", \"Pink\", \"Pink\", \"Pink\", \"Pink\", \"Black\", \"Yellow\", \"White\", \"White\", \"White\", \"Purple\", \"Red\", \"Red\", \"Red\", \"Red\", \"Red\", \"Red\", \"Red\", \"Pink\", \"Pink\", \"Pink\", \"Pink\", \"Pink\", \"Pink\", \"Pink\", \"Pink\", \"Pink\", \"White\", \"White\", \"White\", \"White\", \"White\", \"White\", \"White\", \"Blue\", \"Brown\", \"Brown\", \"Brown\", \"Brown\", \"Brown\", \"Brown\", \"Blue\", \"Blue\", \"Blue\", \"White\", \"Blue\", \"Black\", \"Blue\", \"Blue\", \"Yellow\", \"Purple\", \"Yellow\", \"Blue\", \"Yellow\", \"Red\", \"Blue\", \"Blue\", \"Yellow\", \"Pink\", \"Yellow\", \"Pink\", \"Blue\", \"Blue\", \"Blue\", \"Blue\", \"Blue\", \"Blue\", \"Blue\", \"Green\", \"Green\", \"Green\", \"White\", \"Green\", \"White\", \"White\", \"White\", \"Blue\", \"Blue\", \"Blue\", \"Blue\", \"Pink\", \"Pink\", \"Pink\", \"Black\", \"Pink\", \"Yellow\", \"Black\", \"Yellow\", \"Black\", \"Yellow\", \"Yellow\", \"Black\", \"Yellow\", \"Yellow\", \"Yellow\", \"White\", \"Yellow\", \"Yellow\", \"White\", \"Pink\", \"White\", \"Yellow\", \"Yellow\", \"Yellow\", \"Yellow\", \"Pink\", \"Pink\", \"Red\", \"Red\", \"Green\", \"Red\", \"Pink\", \"Red\", \"Green\", \"Green\", \"Green\", \"Pink\", \"Pink\", \"Pink\", \"Blue\", \"Pink\", \"Pink\", \"Pink\", \"Pink\", \"Pink\", \"Pink\", \"Blue\", \"Blue\", \"Blue\", \"Blue\", \"Black\", \"Blue\", \"Black\", \"Blue\", \"Black\", \"Black\", \"Black\", \"Blue\", \"Blue\", \"Brown\", \"Blue\", \"Brown\", \"Brown\", \"Blue\", \"Brown\", \"Brown\", \"Brown\", \"Blue\", \"Blue\", \"Blue\", \"Blue\", \"Blue\", \"Blue\", \"Blue\", \"Blue\", \"Blue\", \"Blue\", \"Blue\", \"Blue\", \"Blue\", \"Blue\", \"Blue\", \"Blue\", \"Blue\", \"Blue\", \"Blue\", \"Pink\", \"White\", \"White\", \"White\", \"White\", \"White\", \"Blue\", \"White\", \"White\", \"Blue\", \"White\", \"White\", \"Blue\", \"Blue\", \"Blue\", \"Blue\", \"Pink\", \"Pink\", \"Pink\", \"White\", \"Pink\", \"White\", \"Pink\", \"White\", \"Pink\", \"White\", \"Pink\", \"White\", \"White\", \"Red\", \"Red\", \"White\", \"White\", \"Pink\", \"White\", \"White\", \"White\", \"White\", \"White\", \"White\", \"White\", \"White\", \"Yellow\", \"Yellow\", \"White\", \"White\", \"Black\", \"Purple\", \"Purple\", \"Purple\", \"White\", \"White\", \"White\", \"Blue\", \"Yellow\", \"Green\", \"White\", \"Blue\", \"Blue\", \"Blue\", \"Blue\", \"Blue\", \"Blue\", \"Blue\", \"Blue\", \"Blue\", \"Brown\", \"Brown\", \"Brown\", \"Red\", \"White\", \"White\", \"Black\", \"Blue\", \"Brown\", \"Pink\", \"Brown\", \"Brown\", \"Purple\", \"Brown\", \"Brown\", \"Brown\", \"Blue\", \"Black\", \"Yellow\", \"Purple\", \"Yellow\", \"Yellow\", \"Yellow\", \"Red\", \"Red\", \"Green\", \"White\", \"Green\", \"Green\", \"Green\", \"Green\", \"Green\", \"Green\", \"Green\", \"Green\", \"Green\", \"Green\", \"Green\", \"Pink\", \"White\", \"Purple\", \"Green\", \"Green\", \"Green\", \"Black\", \"Black\", \"Black\", \"Black\", \"Black\", \"Black\", \"Purple\", \"Yellow\", \"Blue\", \"Black\", \"White\", \"Purple\", \"Black\", \"Yellow\", \"Yellow\", \"Red\", \"Pink\", \"Brown\", \"Purple\", \"Green\", \"Pink\", \"Red\", \"Brown\", \"Red\", \"Brown\", \"Pink\", \"Blue\", \"Yellow\", \"Blue\", \"Blue\", \"Pink\", \"Black\", \"White\", \"Pink\", \"Red\", \"Pink\", \"Black\", \"Red\", \"Green\", \"Yellow\", \"Blue\", \"Blue\", \"Brown\", \"White\", \"Blue\", \"Blue\", \"White\", \"Red\", \"Yellow\", \"Green\", \"Green\", \"White\", \"Yellow\", \"White\", \"Brown\", \"Blue\", \"Brown\", \"Purple\", \"Brown\", \"Yellow\", \"Brown\", \"Purple\", \"Red\", \"Blue\", \"Black\", \"White\", \"Black\", \"White\", \"Pink\", \"Pink\", \"White\", \"Red\", \"Brown\", \"Green\", \"Pink\", \"Yellow\", \"Pink\", \"Green\", \"Black\", \"White\", \"Purple\", \"White\", \"Yellow\", \"Yellow\", \"Black\", \"Yellow\", \"Pink\", \"Pink\", \"Pink\", \"Pink\", \"Pink\", \"Pink\", \"Pink\", \"Pink\", \"Pink\", \"Pink\", \"Pink\", \"Pink\", \"Blue\", \"Pink\", \"Blue\", \"Pink\", \"Blue\", \"Pink\", \"Blue\", \"Pink\", \"Red\", \"Red\", \"Green\", \"Green\", \"Green\", \"Green\", \"Blue\", \"Green\", \"Green\", \"Blue\", \"Blue\", \"Pink\", \"Blue\", \"Red\", \"Red\", \"Green\", \"Pink\", \"Pink\", \"Pink\", \"Pink\", \"Pink\", \"Pink\", \"Pink\", \"Pink\", \"Pink\", \"Pink\", \"Pink\", \"White\", \"Blue\", \"Blue\", \"Blue\", \"Blue\", \"Green\", \"Blue\", \"Blue\", \"Blue\", \"Blue\", \"Blue\", \"Green\", \"Blue\", \"Green\", \"Blue\", \"Blue\", \"Blue\", \"Brown\", \"Blue\", \"Blue\", \"White\", \"Red\", \"Green\", \"Brown\", \"Green\", \"Black\", \"Yellow\", \"Red\", \"Black\", \"Red\", \"Pink\", \"Red\", \"Green\", \"Black\", \"Yellow\", \"Green\", \"Black\", \"Blue\", \"Black\", \"Black\", \"Brown\", \"Black\", \"Blue\", \"Black\", \"Blue\", \"Black\", \"Black\", \"Black\", \"Yellow\", \"White\", \"Blue\", \"Black\", \"Pink\", \"Black\", \"Yellow\", \"Pink\", \"Blue\", \"Yellow\", \"Red\", \"Green\", \"Red\", \"Green\", \"Green\", \"Red\", \"Yellow\", \"Black\", \"Green\", \"Red\", \"Pink\", \"Blue\", \"Blue\", \"Brown\", \"Blue\", \"Green\", \"Black\", \"Brown\", \"Red\", \"Pink\", \"Brown\", \"Green\", \"Blue\", \"Black\", \"Pink\", \"Green\", \"Brown\", \"Yellow\", \"Red\", \"Green\", \"Pink\", \"Green\", \"Green\", \"Green\", \"Green\", \"Green\", \"Red\", \"Green\", \"Green\", \"Green\", \"Black\", \"Green\", \"Black\", \"Black\", \"Black\", \"Black\", \"Green\", \"Black\", \"Green\", \"Black\", \"Black\", \"Green\", \"Green\", \"Green\", \"Green\", \"Green\", \"Green\", \"Green\", \"Green\", \"Green\", \"Green\", \"Green\", \"Green\", \"Green\", \"Yellow\", \"Red\", \"Red\", \"Red\", \"Red\", \"Red\", \"Red\", \"Red\", \"Red\", \"Red\", \"Green\", \"Black\", \"Green\", \"Pink\", \"Blue\", \"Blue\", \"Red\", \"Red\", \"Red\", \"Red\", \"Red\", \"Red\", \"Red\", \"Red\", \"Red\", \"Red\", \"Green\", \"Green\", \"Red\", \"Green\", \"Green\", \"Red\", \"Blue\", \"Red\", \"Red\", \"Yellow\", \"Red\", \"Red\", \"Red\", \"Red\", \"Red\", \"Red\", \"Yellow\", \"Red\", \"Red\", \"Red\", \"Red\", \"Red\", \"Yellow\", \"Yellow\", \"Blue\", \"Blue\", \"Blue\", \"Blue\", \"Yellow\", \"Blue\", \"Blue\", \"Blue\", \"Yellow\", \"Blue\", \"Black\", \"Blue\", \"Black\", \"Black\", \"Black\", \"Black\", \"Black\", \"Black\", \"Yellow\", \"Black\", \"Red\", \"Pink\", \"Green\", \"Green\", \"Black\", \"Black\", \"Green\", \"Green\", \"Green\", \"Brown\", \"Black\", \"Brown\", \"Black\", \"Green\", \"Black\", \"Brown\", \"Green\", \"Black\", \"Brown\", \"Green\", \"Black\", \"Brown\", \"Black\", \"Brown\", \"Brown\", \"Blue\", \"Green\", \"Blue\", \"Blue\", \"Green\", \"Blue\", \"Blue\", \"Blue\", \"Blue\", \"Green\", \"Yellow\", \"Green\", \"Yellow\", \"Yellow\", \"Yellow\", \"Yellow\", \"Brown\", \"Brown\", \"Brown\", \"Brown\", \"Brown\", \"Brown\", \"Green\", \"Green\", \"Yellow\", \"Yellow\", \"Yellow\", \"Yellow\", \"Yellow\", \"Yellow\", \"Blue\", \"Black\", \"Green\", \"Green\", \"Green\", \"Black\", \"Green\", \"Black\", \"Green\", \"Black\", \"Black\", \"Black\", \"Yellow\", \"Blue\", \"Yellow\", \"Blue\", \"Blue\", \"Black\", \"Yellow\", \"Black\", \"Blue\", \"Red\", \"Red\", \"Blue\", \"Green\", \"Red\", \"Red\", \"Red\", \"Green\", \"Blue\", \"Black\", \"Red\", \"Black\", \"Red\", \"Red\", \"Red\", \"Red\", \"Pink\", \"Pink\", \"Red\", \"Pink\", \"Red\", \"Red\", \"Red\", \"Pink\", \"Red\", \"Red\", \"Pink\", \"Red\", \"Red\", \"Pink\", \"Red\", \"Pink\", \"Pink\", \"Brown\", \"Brown\", \"Brown\", \"Brown\", \"Brown\", \"Brown\", \"Brown\", \"Brown\", \"Yellow\", \"Yellow\", \"Yellow\", \"Yellow\", \"Black\", \"Black\", \"Black\", \"Black\", \"Black\", \"Black\", \"Black\", \"Green\", \"Black\", \"Green\", \"Black\", \"Green\", \"Green\", \"Green\", \"Green\", \"Green\", \"Red\", \"Red\", \"Green\", \"Green\", \"Green\", \"Green\", \"Green\", \"Red\", \"Red\", \"Green\", \"Red\", \"Green\", \"Green\", \"Green\", \"Yellow\", \"Red\", \"Green\", \"Yellow\", \"Red\", \"Green\", \"Yellow\", \"Yellow\", \"Red\", \"Red\", \"Yellow\", \"Yellow\", \"Yellow\", \"Brown\", \"Brown\", \"Brown\", \"Brown\", \"Brown\", \"Brown\", \"Brown\", \"White\", \"White\", \"White\", \"White\", \"White\", \"White\", \"Yellow\", \"Yellow\", \"Yellow\", \"Yellow\", \"Yellow\", \"Yellow\", \"Yellow\", \"Blue\", \"Red\", \"Pink\", \"Pink\", \"Pink\", \"Pink\", \"Red\", \"Pink\", \"Yellow\", \"Green\", \"Pink\", \"Brown\", \"Red\", \"Yellow\", \"Red\", \"Brown\", \"Black\", \"White\", \"Green\", \"Black\", \"Red\", \"Pink\", \"Red\", \"Pink\", \"Black\", \"Yellow\", \"Black\", \"Green\", \"Brown\", \"Yellow\", \"White\", \"Green\", \"Red\", \"Black\", \"Brown\", \"Green\", \"Blue\", \"Black\", \"Yellow\", \"Blue\", \"Red\", \"White\", \"Red\", \"Brown\", \"Yellow\", \"Black\", \"Blue\", \"Blue\", \"Green\", \"Brown\", \"Brown\", \"White\", \"Blue\", \"Pink\", \"Blue\", \"Yellow\", \"Green\", \"Green\", \"Pink\", \"Blue\", \"Green\", \"Red\", \"Red\", \"Brown\", \"Black\", \"Brown\", \"Pink\", \"Green\", \"Black\", \"Brown\", \"Pink\", \"Red\", \"Red\", \"Blue\", \"Black\", \"Yellow\"], \"xaxis\": \"x\", \"y\": [4470201, 4468999, 4471345, 4472540, 4472481, 4472418, 4468332, 4464967, 4472540, 4468400, 4475427, 4475041, 4475036, 4468332, 4474118, 4470376, 4475502, 4473933, 4471042, 4470495, 4468981, 4475078, 4470355, 4475192, 4475078, 4475499, 4470481, 4473483, 4470355, 4470189, 4469929, 4468718, 4470201, 4476565, 4476565, 4475078, 4470050, 4468999, 4469950, 4468400, 4475642, 4475642, 4471839, 4471539, 4469218, 4476565, 4475078, 4476565, 4475078, 4470481, 4470355, 4470050, 4469950, 4468999, 4471636, 4471560, 4468332, 4472811, 4471839, 4471539, 4471418, 4470419, 4470505, 4471890, 4470532, 4471483, 4471766, 4471766, 4471483, 4471560, 4471700, 4476565, 4470505, 4475078, 4470532, 4471636, 4470481, 4470355, 4470201, 4469950, 4468999, 4468400, 4464967, 4471890, 4471890, 4471766, 4471700, 4471636, 4470419, 4471560, 4470532, 4470505, 4476565, 4475078, 4470481, 4470201, 4470050, 4464967, 4468400, 4468999, 4469950, 4472811, 4471839, 4471418, 4470558, 4475427, 4475041, 4475036, 4470481, 4470355, 4475078, 4464967, 4468400, 4468999, 4470355, 4476565, 4469950, 4470419, 4470050, 4471636, 4471560, 4470532, 4470201, 4471768, 4475502, 4472540, 4472481, 4472418, 4471042, 4470495, 4468981, 4464532, 4473604, 4475100, 4474654, 4471483, 4475008, 4475192, 4471647, 4471475, 4471345, 4468718, 4469929, 4470189, 4474118, 4475036, 4475041, 4475499, 4471890, 4470419, 4470505, 4471560, 4471890, 4475499, 4475427, 4475041, 4475036, 4474118, 4473483, 4471768, 4470189, 4468718, 4478935, 4475502, 4471890, 4471700, 4470532, 4471483, 4471700, 4475499, 4471766, 4475427, 4475036, 4472540, 4472481, 4474118, 4472418, 4473483, 4471768, 4471042, 4470189, 4469929, 4468718, 4470419, 4470495, 4464532, 4479377, 4476459, 4473604, 4471700, 4471647, 4471475, 4475100, 4475008, 4471345, 4475192, 4471636, 4471560, 4471766, 4471483, 4470532, 4470505, 4471636, 4470419, 4471483, 4470532, 4471700, 4471766, 4471890, 4470505, 4471766, 4480830, 4470419, 4475499, 4479576, 4475427, 4471700, 4475078, 4475041, 4471890, 4471636, 4475036, 4471766, 4474118, 4471700, 4471560, 4473483, 4471483, 4471636, 4470532, 4470505, 4470505, 4471768, 4471560, 4470419, 4470189, 4469929, 4471483, 4470481, 4470355, 4470201, 4470050, 4468999, 4468400, 4475427, 4475041, 4473483, 4475036, 4471768, 4469929, 4468718, 4480830, 4479576, 4470201, 4470050, 4468999, 4475502, 4472540, 4471042, 4473933, 4479377, 4464532, 4472418, 4468981, 4468981, 4464532, 4481666, 4470495, 4481516, 4481167, 4471042, 4473483, 4471768, 4469929, 4473933, 4481746, 4478935, 4469218, 4475192, 4470558, 4474654, 4472811, 4475100, 4468332, 4470376, 4475642, 4471418, 4475008, 4481759, 4481746, 4481666, 4481167, 4480830, 4479576, 4478935, 4477974, 4473604, 4471647, 4476565, 4481666, 4475642, 4475502, 4475502, 4475499, 4471475, 4473933, 4475427, 4471345, 4475041, 4481516, 4472540, 4475036, 4472418, 4481666, 4471042, 4473933, 4473483, 4468981, 4464532, 4472811, 4475502, 4470201, 4472540, 4472418, 4471890, 4471839, 4472418, 4471768, 4471766, 4471700, 4471636, 4471560, 4471483, 4471418, 4471042, 4470558, 4470532, 4470505, 4470495, 4470481, 4470419, 4470376, 4470355, 4479377, 4470050, 4469929, 4469218, 4468999, 4476459, 4468981, 4468718, 4468400, 4475192, 4468332, 4464532, 4473604, 4471475, 4475100, 4475008, 4474654, 4471345, 4475502, 4473933, 4472418, 4470495, 4464532, 4481746, 4478935, 4481666, 4469218, 4475642, 4472811, 4468981, 4472540, 4481516, 4481167, 4481666, 4475502, 4473933, 4472540, 4472418, 4470495, 4468981, 4464532, 4481666, 4479377, 4476459, 4475100, 4474654, 4473604, 4482524, 4479377, 4476459, 4475100, 4474654, 4473604, 4471647, 4482488, 4468718, 4482524, 4479377, 4476459, 4473604, 4474654, 4475192, 4471647, 4471475, 4471345, 4482524, 4479377, 4476459, 4475192, 4475100, 4474654, 4473604, 4471647, 4471475, 4482881, 4475502, 4482153, 4471042, 4470495, 4468981, 4464532, 4481746, 4478935, 4482524, 4482524, 4476565, 4475427, 4481759, 4481516, 4479377, 4480830, 4476459, 4481746, 4481167, 4475502, 4475100, 4469218, 4482488, 4471345, 4483190, 4475427, 4474654, 4479377, 4476459, 4482524, 4473604, 4471475, 4475100, 4471647, 4481666, 4483688, 4483763, 4468981, 4472418, 4470495, 4483763, 4471042, 4481666, 4483688, 4483786, 4468332, 4483771, 4472811, 4476459, 4475100, 4474654, 4484185, 4484166, 4483831, 4483949, 4483847, 4483987, 4468332, 4483823, 4483763, 4483478, 4483286, 4484185, 4484166, 4483771, 4483286, 4481746, 4471839, 4469218, 4468332, 4468332, 4483409, 4484672, 4484496, 4484264, 4484185, 4484166, 4483987, 4483949, 4479576, 4472418, 4483190, 4482877, 4471839, 4483101, 4483286, 4483290, 4474654, 4482524, 4483116, 4482732, 4476565, 4483166, 4471345, 4482488, 4483823, 4483416, 4483107, 4483165, 4469218, 4471042, 4483403, 4480830, 4483847, 4479377, 4471647, 4481666, 4481746, 4483316, 4483688, 4483771, 4482949, 4483478, 4482563, 4476459, 4483409, 4483027, 4468332, 4483831, 4482843, 4475192, 4482881, 4483763, 4482915, 4482945, 4481516, 4471475, 4475100, 4483786, 4473604, 4481167, 4466306, 4466733, 4466548, 4468171, 4466727, 4466304, 4471333, 4466302, 4466733, 4471524, 4466304, 4471667, 4469893, 4468349, 4466733, 4466548, 4466306, 4471902, 4466578, 4472491, 4472097, 4472928, 4472883, 4472517, 4472472, 4471191, 4470069, 4470054, 4468305, 4466251, 4474015, 4472887, 4472097, 4472510, 4471772, 4472887, 4471273, 4474015, 4472887, 4472097, 4471667, 4471667, 4470251, 4466578, 4469893, 4468349, 4466548, 4468339, 4470251, 4469893, 4466548, 4474913, 4474913, 4472928, 4472883, 4469190, 4474769, 4471667, 4469893, 4472491, 4468171, 4466727, 4466304, 4466302, 4474913, 4472883, 4468349, 4466548, 4474913, 4472928, 4471333, 4466727, 4472517, 4472510, 4472503, 4466304, 4471772, 4471273, 4468339, 4469190, 4472491, 4466302, 4472883, 4475622, 4473686, 4476298, 4474747, 4472928, 4472883, 4472491, 4471333, 4472928, 4472883, 4466302, 4474913, 4472491, 4468171, 4469190, 4466727, 4471333, 4476827, 4473391, 4472598, 4476827, 4473391, 4472598, 4472573, 4472548, 4472531, 4472010, 4471902, 4474913, 4472928, 4472883, 4472491, 4471333, 4468349, 4472531, 4472573, 4472010, 4472531, 4471902, 4472010, 4471524, 4472598, 4472548, 4476827, 4473391, 4469190, 4468171, 4466304, 4466302, 4474913, 4472928, 4472883, 4472491, 4471333, 4469190, 4468171, 4466727, 4466304, 4476298, 4474769, 4474015, 4472887, 4476707, 4475586, 4475325, 4473958, 4476212, 4472517, 4472510, 4472503, 4466578, 4471772, 4471273, 4468339, 4472472, 4471191, 4470069, 4470054, 4468305, 4474931, 4473739, 4473339, 4472526, 4472164, 4471921, 4479153, 4478200, 4476255, 4473843, 4470406, 4479439, 4472517, 4478200, 4470406, 4472164, 4476212, 4471273, 4472510, 4474892, 4472503, 4475586, 4471772, 4471273, 4476298, 4468339, 4476273, 4466578, 4466727, 4473739, 4476259, 4480385, 4480454, 4472491, 4471333, 4469190, 4475265, 4468171, 4466727, 4474931, 4466304, 4466302, 4473739, 4466578, 4468339, 4476212, 4472510, 4472517, 4471772, 4472526, 4476273, 4476706, 4476219, 4472164, 4480897, 4469190, 4468171, 4466727, 4466304, 4474913, 4472928, 4472883, 4471333, 4469190, 4468171, 4466727, 4466304, 4466302, 4476707, 4472517, 4466302, 4476706, 4473686, 4474015, 4476255, 4468339, 4476219, 4473958, 4466578, 4468339, 4481476, 4471273, 4471772, 4476298, 4472503, 4474015, 4480897, 4472887, 4472510, 4472097, 4476212, 4470251, 4472503, 4469893, 4468349, 4466548, 4474769, 4472887, 4472097, 4479439, 4471667, 4470251, 4469893, 4468349, 4466548, 4466302, 4466304, 4481476, 4472928, 4471333, 4476298, 4474769, 4474015, 4472097, 4481661, 4471667, 4470251, 4469893, 4466548, 4472491, 4469190, 4468171, 4466727, 4480897, 4476827, 4473391, 4481783, 4479439, 4472598, 4472517, 4472510, 4472503, 4471772, 4471273, 4468339, 4472573, 4472887, 4474015, 4476827, 4472010, 4470251, 4481476, 4474769, 4471667, 4476298, 4466548, 4471524, 4472548, 4472531, 4471902, 4471524, 4476706, 4476273, 4475622, 4474747, 4473686, 4473739, 4473339, 4472526, 4472164, 4471921, 4481476, 4473391, 4472598, 4472573, 4472548, 4472531, 4476707, 4472010, 4470054, 4471902, 4471524, 4476827, 4472598, 4472573, 4472548, 4472531, 4472010, 4472531, 4471902, 4471524, 4471524, 4471902, 4472573, 4468305, 4473958, 4473391, 4472598, 4476827, 4475325, 4472573, 4472010, 4471902, 4481972, 4476255, 4479153, 4473339, 4474892, 4470406, 4481972, 4478200, 4471191, 4470069, 4466251, 4476707, 4475325, 4473958, 4482501, 4481661, 4481476, 4476298, 4472472, 4474769, 4472887, 4472097, 4471667, 4469893, 4471191, 4470069, 4481972, 4479153, 4480897, 4478200, 4476255, 4474892, 4473843, 4481476, 4475265, 4476706, 4476273, 4476219, 4475622, 4474747, 4473686, 4482962, 4482956, 4476707, 4475586, 4475325, 4473958, 4472472, 4471191, 4470069, 4470054, 4466251, 4470054, 4468305, 4466251, 4482958, 4480897, 4475265, 4474931, 4483141, 4473739, 4473339, 4472526, 4472164, 4482962, 4479439, 4482497, 4480612, 4481857, 4476259, 4480454, 4480612, 4481857, 4483255, 4483552, 4481783, 4479439, 4483789, 4482497, 4476212, 4482958, 4480897, 4481783, 4475265, 4479439, 4472164, 4474931, 4472517, 4473739, 4473339, 4472510, 4472503, 4483789, 4471273, 4468339, 4483141, 4482962, 4484094, 4481783, 4471273, 4479439, 4483715, 4476212, 4483552, 4483255, 4472517, 4480612, 4480454, 4476259, 4482958, 4472164, 4475265, 4474931, 4473339, 4472526, 4483448, 4483789, 4472510, 4472503, 4471772, 4468305, 4466727, 4470054, 4474913, 4468305, 4472010, 4470069, 4481661, 4470069, 4472164, 4471191, 4479439, 4480897, 4472472, 4476212, 4483981, 4481972, 4484094, 4476255, 4472517, 4472503, 4484094, 4471772, 4468339, 4471273, 4483981, 4484346, 4475586, 4475325, 4484270, 4473958, 4480612, 4476255, 4483981, 4481972, 4484720, 4484704, 4484615, 4484255, 4484737, 4472517, 4483789, 4483255, 4482958, 4484737, 4484684, 4485364, 4485545, 4485364, 4484737, 4476259, 4481857, 4484708, 4484255, 4484651, 4484619, 4484094, 4483981, 4486426, 4486401, 4485603, 4483448, 4484094, 4484346, 4485364, 4484442, 4484763, 4472531, 4484680, 4485989, 4481972, 4486325, 4485879, 4484376, 4481857, 4484807, 4482976, 4485857, 4485542, 4483141, 4484124, 4485579, 4483894, 4485612, 4485779, 4475622, 4484697, 4483981, 4484270, 4476706, 4485398, 4485767, 4482958, 4484619, 4466727, 4484240, 4482956, 4485746, 4485732, 4485685, 4485474, 4484255, 4483798, 4485718, 4485651, 4484708, 4485645, 4485479, 4485506, 4484826, 4470054, 4485636, 4471191, 4473686, 4481661, 4483100, 4474015, 4485545, 4484737, 4476273, 4482501, 4479153, 4482825, 4484684, 4484301, 4483733, 4484371, 4485590, 4469893, 4481783, 4473958, 4484587, 4484651, 4483882, 4482962, 4482497, 4471902, 4484704, 4484253, 4484772, 4480897, 4484720, 4485466, 4476259, 4474374, 4473431, 4472807, 4468227, 4472500, 4470170, 4469668, 4469118, 4473674, 4473522, 4472782, 4470627, 4474953, 4468106, 4472500, 4470170, 4469118, 4475151, 4475145, 4474632, 4473335, 4472439, 4468775, 4468767, 4475460, 4474953, 4475527, 4473522, 4473674, 4475076, 4472439, 4473522, 4472619, 4474858, 4468767, 4470627, 4468106, 4474632, 4473335, 4472439, 4471233, 4468775, 4468767, 4475145, 4475170, 4475151, 4474968, 4475607, 4476161, 4474858, 4474947, 4475076, 4475170, 4475151, 4474927, 4473674, 4473522, 4472782, 4472619, 4470627, 4468106, 4476244, 4475170, 4474927, 4471532, 4470170, 4476386, 4475076, 4476345, 4475170, 4469668, 4476345, 4474953, 4472500, 4470170, 4476161, 4475607, 4474632, 4472439, 4471233, 4468775, 4468767, 4472807, 4475151, 4472807, 4474374, 4474947, 4474858, 4475076, 4468227, 4473431, 4471532, 4468775, 4475460, 4471532, 4474888, 4474888, 4468227, 4472807, 4473431, 4477426, 4474374, 4474858, 4474947, 4474968, 4475076, 4475170, 4475145, 4476119, 4477931, 4476119, 4476771, 4477949, 4477426, 4477426, 4476771, 4476691, 4473903, 4472619, 4476161, 4468106, 4475607, 4474632, 4472439, 4471233, 4468775, 4468767, 4471233, 4472439, 4474632, 4475607, 4476161, 4477426, 4476386, 4478301, 4476161, 4473431, 4478301, 4474927, 4473522, 4472782, 4472619, 4470627, 4468106, 4476807, 4476356, 4477342, 4476691, 4476244, 4478718, 4477932, 4477698, 4474927, 4473674, 4472782, 4472619, 4470627, 4475170, 4475151, 4475076, 4474968, 4474947, 4478212, 4477822, 4476345, 4474953, 4472500, 4469668, 4469118, 4477426, 4468767, 4472439, 4474858, 4474374, 4473431, 4468227, 4479913, 4474968, 4476386, 4474947, 4473674, 4473522, 4475607, 4472782, 4472619, 4474632, 4470627, 4468106, 4475151, 4475076, 4474374, 4474968, 4474947, 4477932, 4477698, 4475460, 4474858, 4474888, 4471532, 4474374, 4473431, 4472807, 4468227, 4480526, 4479913, 4471233, 4471233, 4468775, 4477982, 4476386, 4474927, 4473674, 4472782, 4472619, 4470627, 4468106, 4475170, 4475151, 4475076, 4474968, 4474947, 4474858, 4474374, 4472807, 4468227, 4481054, 4481054, 4478301, 4477426, 4476161, 4468775, 4481054, 4475527, 4482900, 4477949, 4481835, 4476807, 4476822, 4476356, 4477342, 4476691, 4476198, 4481054, 4475643, 4477698, 4483120, 4475527, 4479913, 4476771, 4476345, 4473859, 4474953, 4482979, 4472667, 4472667, 4469118, 4475170, 4469668, 4468227, 4477342, 4475527, 4475643, 4476198, 4472667, 4476691, 4476244, 4478718, 4477969, 4477931, 4482741, 4476119, 4475607, 4474632, 4468767, 4477342, 4483120, 4476244, 4476198, 4472807, 4474374, 4473431, 4480526, 4474968, 4478212, 4477698, 4476345, 4477932, 4474953, 4469118, 4475460, 4479913, 4469668, 4478212, 4482741, 4477822, 4477822, 4481054, 4475170, 4478301, 4474953, 4472500, 4469668, 4469118, 4474947, 4474858, 4482979, 4482805, 4478718, 4484221, 4483745, 4470627, 4477969, 4476119, 4477931, 4483745, 4475170, 4475151, 4473859, 4475076, 4474968, 4474858, 4474374, 4473431, 4472807, 4483120, 4484335, 4477342, 4476691, 4483861, 4476244, 4475460, 4476198, 4480526, 4477932, 4477698, 4475643, 4475527, 4482900, 4484335, 4481835, 4479622, 4475643, 4477949, 4476807, 4476356, 4475527, 4473859, 4484335, 4483120, 4484335, 4476691, 4483120, 4476198, 4477342, 4475643, 4473859, 4476691, 4475527, 4476244, 4483120, 4476198, 4477342, 4475527, 4473859, 4472807, 4477426, 4482741, 4468767, 4472439, 4478301, 4484335, 4468775, 4475607, 4483120, 4481054, 4474632, 4477342, 4476244, 4476198, 4473859, 4474858, 4474947, 4474968, 4482741, 4475076, 4478301, 4475151, 4477426, 4475170, 4485337, 4473431, 4476161, 4485337, 4482979, 4483941, 4475607, 4482741, 4475151, 4481054, 4478301, 4477426, 4476161, 4475607, 4472439, 4468775, 4468767, 4476345, 4477822, 4481054, 4468775, 4475460, 4478147, 4477982, 4474955, 4485337, 4478301, 4481054, 4484335, 4485427, 4485894, 4485337, 4484789, 4484335, 4483120, 4477342, 4476691, 4476244, 4476198, 4475527, 4473859, 4479622, 4476807, 4482900, 4484221, 4474632, 4472439, 4477698, 4483120, 4479622, 4474374, 4476807, 4481835, 4485821, 4485848, 4479622, 4476822, 4486084, 4485977, 4478212, 4486479, 4486101, 4485597, 4485427, 4486485, 4486453, 4485894, 4486421, 4480903, 4478718, 4477969, 4477931, 4485894, 4480903, 4478718, 4477969, 4477931, 4476119, 4485894, 4486090, 4485672, 4486479, 4480903, 4478718, 4477969, 4485977, 4483861, 4480526, 4477698, 4475460, 4474888, 4487783, 4488085, 4487421, 4475460, 4487925, 4487783, 4487704, 4469118, 4485427, 4484221, 4485644, 4485848, 4485821, 4480903, 4485804, 4485368, 4477949, 4486485, 4476822, 4487556, 4486713, 4486101, 4487109, 4484789, 4487437, 4485977, 4485757, 4485534, 4482805, 4483745, 4480526, 4483941, 4477931, 4487292, 4487169, 4476198, 4476807, 4485734, 4484335, 4483120, 4486050, 4486453, 4478212, 4485894, 4477969, 4486421, 4479913, 4485337, 4481835, 4486084, 4486463, 4486578, 4482900, 4487223, 4485763, 4486479, 4482979, 4487107, 4477698, 4487032, 4474888, 4474632, 4474968, 4485615, 4486292, 4484188, 4479622, 4476119, 4485460, 4485597, 4486090, 4478718, 4483861, 4486347, 4477982, 4485672, 4476987, 4473992, 4470276, 4476987, 4475568, 4475142, 4474861, 4475478, 4474861, 4478061, 4475478, 4475142, 4474861, 4478061, 4475568, 4475478, 4475302, 4478061, 4478278, 4475568, 4477463, 4475142, 4477798, 4474861, 4477266, 4478808, 4476614, 4473429, 4474884, 4475592, 4477798, 4475507, 4475222, 4478082, 4475338, 4479332, 4478799, 4479007, 4471445, 4479543, 4480529, 4479332, 4478702, 4475478, 4475142, 4480529, 4479332, 4478702, 4475478, 4475142, 4474861, 4476095, 4478799, 4478278, 4478082, 4477798, 4479543, 4477798, 4475302, 4475110, 4478082, 4475338, 4479543, 4478278, 4475453, 4475302, 4477798, 4478278, 4482718, 4478799, 4475338, 4480941, 4477626, 4482697, 4478679, 4475453, 4470276, 4476987, 4473567, 4477331, 4476544, 4475478, 4479803, 4475222, 4473864, 4477293, 4475507, 4481809, 4478278, 4472688, 4476061, 4477966, 4476215, 4478799, 4476276, 4475338, 4477331, 4478484, 4481809, 4481674, 4476095, 4477463, 4476061, 4478702, 4478484, 4478954, 4475142, 4477798, 4479408, 4473932, 4476614, 4476590, 4473429, 4474884, 4479007, 4473992, 4473864, 4479543, 4477266, 4479332, 4478082, 4475302, 4478732, 4477463, 4482697, 4476215, 4476208, 4471445, 4474861, 4479057, 4475453, 4475110, 4476276, 4480529, 4473459, 4478726, 4477917, 4478808, 4475592, 4481347, 4479543, 4473429, 4475453, 4476614, 4475592, 4479803, 4473459, 4475507, 4474884, 4481809, 4474884, 4478484, 4476276, 4470276, 4472688, 4473459, 4477331, 4475222, 4476215, 4476061, 4475507, 4475592, 4476614, 4482697, 4482697, 4475222, 4475507, 4479543, 4475453, 4475592, 4476614, 4474884, 4473459, 4481674, 4479803, 4479007, 4478808, 4477626, 4476590, 4476544, 4473932, 4473567, 4471445, 4482697, 4481809, 4479543, 4481347, 4475110, 4477463, 4479803, 4479007, 4471445, 4473932, 4478808, 4477266, 4477626, 4476590, 4473567, 4471445, 4475507, 4473429, 4473567, 4475592, 4475222, 4473932, 4478278, 4476544, 4477626, 4479408, 4478808, 4479803, 4479007, 4478808, 4477626, 4479803, 4476987, 4477266, 4476590, 4476544, 4473932, 4471445, 4477293, 4477917, 4477463, 4475302, 4475338, 4478082, 4478954, 4475110, 4477463, 4475338, 4484168, 4475302, 4481809, 4475110, 4477331, 4476276, 4476215, 4476061, 4473864, 4472688, 4479408, 4470276, 4479007, 4478702, 4473459, 4482697, 4484805, 4478484, 4479543, 4482697, 4476614, 4482718, 4477331, 4478732, 4476276, 4475592, 4476215, 4478726, 4474884, 4473864, 4478679, 4475453, 4472688, 4477966, 4470276, 4477604, 4476208, 4478799, 4475222, 4478278, 4478082, 4474884, 4477798, 4477463, 4475338, 4475110, 4473459, 4477917, 4473429, 4484168, 4478954, 4479408, 4481674, 4482718, 4479057, 4478679, 4477966, 4477604, 4476208, 4473429, 4475507, 4481674, 4485629, 4479408, 4477917, 4476987, 4473992, 4485741, 4484805, 4475453, 4475592, 4473459, 4478484, 4475222, 4477331, 4476614, 4476276, 4485991, 4476061, 4478954, 4475110, 4481674, 4475338, 4477798, 4485991, 4484168, 4484805, 4478799, 4479803, 4479007, 4478082, 4482697, 4478808, 4477266, 4476590, 4474884, 4485741, 4473864, 4476544, 4472688, 4473932, 4477266, 4473567, 4471445, 4481347, 4485626, 4479007, 4480705, 4471445, 4473932, 4477266, 4480529, 4473567, 4476544, 4475142, 4479803, 4476590, 4479332, 4486316, 4475478, 4478702, 4486443, 4486239, 4477966, 4478679, 4478732, 4482718, 4479057, 4477604, 4476987, 4479408, 4473992, 4485629, 4485991, 4484805, 4478484, 4476276, 4476215, 4476061, 4473864, 4473459, 4472688, 4474884, 4478484, 4475222, 4475453, 4475507, 4476614, 4479543, 4479007, 4476590, 4474884, 4475222, 4475453, 4475507, 4475592, 4486316, 4476544, 4476614, 4473932, 4479543, 4486947, 4487125, 4476987, 4487491, 4482697, 4477917, 4473932, 4486947, 4478954, 4479408, 4476590, 4486316, 4481674, 4487352, 4487382, 4486443, 4486239, 4482718, 4479057, 4478732, 4478679, 4477966, 4487903, 4488790, 4488632, 4488632, 4487903, 4476095, 4488631, 4488060, 4487382, 4487352, 4484168, 4479408, 4476987, 4488818, 4488786, 4487901, 4485626, 4480705, 4480529, 4471445, 4489735, 4488060, 4487950, 4489732, 4489506, 4471445, 4488631, 4488946, 4489197, 4472688, 4476095, 4486947, 4476276, 4487474, 4475142, 4489374, 4480529, 4487907, 4476987, 4485991, 4488560, 4487507, 4487382, 4489161, 4488714, 4479007, 4488599, 4478732, 4487125, 4487495, 4488738, 4489504, 4478278, 4487555, 4488632, 4473932, 4486239, 4487352, 4478484, 4485741, 4487508, 4488767, 4478679, 4476208, 4487903, 4485697, 4479332, 4488371, 4479408, 4489364, 4488143, 4475478, 4488818, 4488490, 4487491, 4486316, 4482718, 4487957, 4477966, 4485626, 4488679, 4484805, 4487634, 4487901, 4488643, 4488786, 4487524, 4487117, 4481674], \"yaxis\": \"y\"}],\n",
              "                        {\"barmode\": \"relative\", \"legend\": {\"tracegroupgap\": 0}, \"margin\": {\"t\": 60}, \"template\": {\"data\": {\"bar\": [{\"error_x\": {\"color\": \"#2a3f5f\"}, \"error_y\": {\"color\": \"#2a3f5f\"}, \"marker\": {\"line\": {\"color\": \"#E5ECF6\", \"width\": 0.5}}, \"type\": \"bar\"}], \"barpolar\": [{\"marker\": {\"line\": {\"color\": \"#E5ECF6\", \"width\": 0.5}}, \"type\": \"barpolar\"}], \"carpet\": [{\"aaxis\": {\"endlinecolor\": \"#2a3f5f\", \"gridcolor\": \"white\", \"linecolor\": \"white\", \"minorgridcolor\": \"white\", \"startlinecolor\": \"#2a3f5f\"}, \"baxis\": {\"endlinecolor\": \"#2a3f5f\", \"gridcolor\": \"white\", \"linecolor\": \"white\", \"minorgridcolor\": \"white\", \"startlinecolor\": \"#2a3f5f\"}, \"type\": \"carpet\"}], \"choropleth\": [{\"colorbar\": {\"outlinewidth\": 0, \"ticks\": \"\"}, \"type\": \"choropleth\"}], \"contour\": [{\"colorbar\": {\"outlinewidth\": 0, \"ticks\": \"\"}, \"colorscale\": [[0.0, \"#0d0887\"], [0.1111111111111111, \"#46039f\"], [0.2222222222222222, \"#7201a8\"], [0.3333333333333333, \"#9c179e\"], [0.4444444444444444, \"#bd3786\"], [0.5555555555555556, \"#d8576b\"], [0.6666666666666666, \"#ed7953\"], [0.7777777777777778, \"#fb9f3a\"], [0.8888888888888888, \"#fdca26\"], [1.0, \"#f0f921\"]], \"type\": \"contour\"}], \"contourcarpet\": [{\"colorbar\": {\"outlinewidth\": 0, \"ticks\": \"\"}, \"type\": \"contourcarpet\"}], \"heatmap\": [{\"colorbar\": {\"outlinewidth\": 0, \"ticks\": \"\"}, \"colorscale\": [[0.0, \"#0d0887\"], [0.1111111111111111, \"#46039f\"], [0.2222222222222222, \"#7201a8\"], [0.3333333333333333, \"#9c179e\"], [0.4444444444444444, \"#bd3786\"], [0.5555555555555556, \"#d8576b\"], [0.6666666666666666, \"#ed7953\"], [0.7777777777777778, \"#fb9f3a\"], [0.8888888888888888, \"#fdca26\"], [1.0, \"#f0f921\"]], \"type\": \"heatmap\"}], \"heatmapgl\": [{\"colorbar\": {\"outlinewidth\": 0, \"ticks\": \"\"}, \"colorscale\": [[0.0, \"#0d0887\"], [0.1111111111111111, \"#46039f\"], [0.2222222222222222, \"#7201a8\"], [0.3333333333333333, \"#9c179e\"], [0.4444444444444444, \"#bd3786\"], [0.5555555555555556, \"#d8576b\"], [0.6666666666666666, \"#ed7953\"], [0.7777777777777778, \"#fb9f3a\"], [0.8888888888888888, \"#fdca26\"], [1.0, \"#f0f921\"]], \"type\": \"heatmapgl\"}], \"histogram\": [{\"marker\": {\"colorbar\": {\"outlinewidth\": 0, \"ticks\": \"\"}}, \"type\": \"histogram\"}], \"histogram2d\": [{\"colorbar\": {\"outlinewidth\": 0, \"ticks\": \"\"}, \"colorscale\": [[0.0, \"#0d0887\"], [0.1111111111111111, \"#46039f\"], [0.2222222222222222, \"#7201a8\"], [0.3333333333333333, \"#9c179e\"], [0.4444444444444444, \"#bd3786\"], [0.5555555555555556, \"#d8576b\"], [0.6666666666666666, \"#ed7953\"], [0.7777777777777778, \"#fb9f3a\"], [0.8888888888888888, \"#fdca26\"], [1.0, \"#f0f921\"]], \"type\": \"histogram2d\"}], \"histogram2dcontour\": [{\"colorbar\": {\"outlinewidth\": 0, \"ticks\": \"\"}, \"colorscale\": [[0.0, \"#0d0887\"], [0.1111111111111111, \"#46039f\"], [0.2222222222222222, \"#7201a8\"], [0.3333333333333333, \"#9c179e\"], [0.4444444444444444, \"#bd3786\"], [0.5555555555555556, \"#d8576b\"], [0.6666666666666666, \"#ed7953\"], [0.7777777777777778, \"#fb9f3a\"], [0.8888888888888888, \"#fdca26\"], [1.0, \"#f0f921\"]], \"type\": \"histogram2dcontour\"}], \"mesh3d\": [{\"colorbar\": {\"outlinewidth\": 0, \"ticks\": \"\"}, \"type\": \"mesh3d\"}], \"parcoords\": [{\"line\": {\"colorbar\": {\"outlinewidth\": 0, \"ticks\": \"\"}}, \"type\": \"parcoords\"}], \"pie\": [{\"automargin\": true, \"type\": \"pie\"}], \"scatter\": [{\"marker\": {\"colorbar\": {\"outlinewidth\": 0, \"ticks\": \"\"}}, \"type\": \"scatter\"}], \"scatter3d\": [{\"line\": {\"colorbar\": {\"outlinewidth\": 0, \"ticks\": \"\"}}, \"marker\": {\"colorbar\": {\"outlinewidth\": 0, \"ticks\": \"\"}}, \"type\": \"scatter3d\"}], \"scattercarpet\": [{\"marker\": {\"colorbar\": {\"outlinewidth\": 0, \"ticks\": \"\"}}, \"type\": \"scattercarpet\"}], \"scattergeo\": [{\"marker\": {\"colorbar\": {\"outlinewidth\": 0, \"ticks\": \"\"}}, \"type\": \"scattergeo\"}], \"scattergl\": [{\"marker\": {\"colorbar\": {\"outlinewidth\": 0, \"ticks\": \"\"}}, \"type\": \"scattergl\"}], \"scattermapbox\": [{\"marker\": {\"colorbar\": {\"outlinewidth\": 0, \"ticks\": \"\"}}, \"type\": \"scattermapbox\"}], \"scatterpolar\": [{\"marker\": {\"colorbar\": {\"outlinewidth\": 0, \"ticks\": \"\"}}, \"type\": \"scatterpolar\"}], \"scatterpolargl\": [{\"marker\": {\"colorbar\": {\"outlinewidth\": 0, \"ticks\": \"\"}}, \"type\": \"scatterpolargl\"}], \"scatterternary\": [{\"marker\": {\"colorbar\": {\"outlinewidth\": 0, \"ticks\": \"\"}}, \"type\": \"scatterternary\"}], \"surface\": [{\"colorbar\": {\"outlinewidth\": 0, \"ticks\": \"\"}, \"colorscale\": [[0.0, \"#0d0887\"], [0.1111111111111111, \"#46039f\"], [0.2222222222222222, \"#7201a8\"], [0.3333333333333333, \"#9c179e\"], [0.4444444444444444, \"#bd3786\"], [0.5555555555555556, \"#d8576b\"], [0.6666666666666666, \"#ed7953\"], [0.7777777777777778, \"#fb9f3a\"], [0.8888888888888888, \"#fdca26\"], [1.0, \"#f0f921\"]], \"type\": \"surface\"}], \"table\": [{\"cells\": {\"fill\": {\"color\": \"#EBF0F8\"}, \"line\": {\"color\": \"white\"}}, \"header\": {\"fill\": {\"color\": \"#C8D4E3\"}, \"line\": {\"color\": \"white\"}}, \"type\": \"table\"}]}, \"layout\": {\"annotationdefaults\": {\"arrowcolor\": \"#2a3f5f\", \"arrowhead\": 0, \"arrowwidth\": 1}, \"coloraxis\": {\"colorbar\": {\"outlinewidth\": 0, \"ticks\": \"\"}}, \"colorscale\": {\"diverging\": [[0, \"#8e0152\"], [0.1, \"#c51b7d\"], [0.2, \"#de77ae\"], [0.3, \"#f1b6da\"], [0.4, \"#fde0ef\"], [0.5, \"#f7f7f7\"], [0.6, \"#e6f5d0\"], [0.7, \"#b8e186\"], [0.8, \"#7fbc41\"], [0.9, \"#4d9221\"], [1, \"#276419\"]], \"sequential\": [[0.0, \"#0d0887\"], [0.1111111111111111, \"#46039f\"], [0.2222222222222222, \"#7201a8\"], [0.3333333333333333, \"#9c179e\"], [0.4444444444444444, \"#bd3786\"], [0.5555555555555556, \"#d8576b\"], [0.6666666666666666, \"#ed7953\"], [0.7777777777777778, \"#fb9f3a\"], [0.8888888888888888, \"#fdca26\"], [1.0, \"#f0f921\"]], \"sequentialminus\": [[0.0, \"#0d0887\"], [0.1111111111111111, \"#46039f\"], [0.2222222222222222, \"#7201a8\"], [0.3333333333333333, \"#9c179e\"], [0.4444444444444444, \"#bd3786\"], [0.5555555555555556, \"#d8576b\"], [0.6666666666666666, \"#ed7953\"], [0.7777777777777778, \"#fb9f3a\"], [0.8888888888888888, \"#fdca26\"], [1.0, \"#f0f921\"]]}, \"colorway\": [\"#636efa\", \"#EF553B\", \"#00cc96\", \"#ab63fa\", \"#FFA15A\", \"#19d3f3\", \"#FF6692\", \"#B6E880\", \"#FF97FF\", \"#FECB52\"], \"font\": {\"color\": \"#2a3f5f\"}, \"geo\": {\"bgcolor\": \"white\", \"lakecolor\": \"white\", \"landcolor\": \"#E5ECF6\", \"showlakes\": true, \"showland\": true, \"subunitcolor\": \"white\"}, \"hoverlabel\": {\"align\": \"left\"}, \"hovermode\": \"closest\", \"mapbox\": {\"style\": \"light\"}, \"paper_bgcolor\": \"white\", \"plot_bgcolor\": \"#E5ECF6\", \"polar\": {\"angularaxis\": {\"gridcolor\": \"white\", \"linecolor\": \"white\", \"ticks\": \"\"}, \"bgcolor\": \"#E5ECF6\", \"radialaxis\": {\"gridcolor\": \"white\", \"linecolor\": \"white\", \"ticks\": \"\"}}, \"scene\": {\"xaxis\": {\"backgroundcolor\": \"#E5ECF6\", \"gridcolor\": \"white\", \"gridwidth\": 2, \"linecolor\": \"white\", \"showbackground\": true, \"ticks\": \"\", \"zerolinecolor\": \"white\"}, \"yaxis\": {\"backgroundcolor\": \"#E5ECF6\", \"gridcolor\": \"white\", \"gridwidth\": 2, \"linecolor\": \"white\", \"showbackground\": true, \"ticks\": \"\", \"zerolinecolor\": \"white\"}, \"zaxis\": {\"backgroundcolor\": \"#E5ECF6\", \"gridcolor\": \"white\", \"gridwidth\": 2, \"linecolor\": \"white\", \"showbackground\": true, \"ticks\": \"\", \"zerolinecolor\": \"white\"}}, \"shapedefaults\": {\"line\": {\"color\": \"#2a3f5f\"}}, \"ternary\": {\"aaxis\": {\"gridcolor\": \"white\", \"linecolor\": \"white\", \"ticks\": \"\"}, \"baxis\": {\"gridcolor\": \"white\", \"linecolor\": \"white\", \"ticks\": \"\"}, \"bgcolor\": \"#E5ECF6\", \"caxis\": {\"gridcolor\": \"white\", \"linecolor\": \"white\", \"ticks\": \"\"}}, \"title\": {\"x\": 0.05}, \"xaxis\": {\"automargin\": true, \"gridcolor\": \"white\", \"linecolor\": \"white\", \"ticks\": \"\", \"title\": {\"standoff\": 15}, \"zerolinecolor\": \"white\", \"zerolinewidth\": 2}, \"yaxis\": {\"automargin\": true, \"gridcolor\": \"white\", \"linecolor\": \"white\", \"ticks\": \"\", \"title\": {\"standoff\": 15}, \"zerolinecolor\": \"white\", \"zerolinewidth\": 2}}}, \"xaxis\": {\"anchor\": \"y\", \"domain\": [0.0, 1.0], \"title\": {\"text\": \"Tag\"}}, \"yaxis\": {\"anchor\": \"x\", \"domain\": [0.0, 1.0], \"title\": {\"text\": \"count of QuestionID\"}}},\n",
              "                        {\"responsive\": true}\n",
              "                    ).then(function(){\n",
              "                            \n",
              "var gd = document.getElementById('d3154482-2f4d-4575-bd46-0b2fe66b94e4');\n",
              "var x = new MutationObserver(function (mutations, observer) {{\n",
              "        var display = window.getComputedStyle(gd).display;\n",
              "        if (!display || display === 'none') {{\n",
              "            console.log([gd, 'removed!']);\n",
              "            Plotly.purge(gd);\n",
              "            observer.disconnect();\n",
              "        }}\n",
              "}});\n",
              "\n",
              "// Listen for the removal of the full notebook cells\n",
              "var notebookContainer = gd.closest('#notebook-container');\n",
              "if (notebookContainer) {{\n",
              "    x.observe(notebookContainer, {childList: true});\n",
              "}}\n",
              "\n",
              "// Listen for the clearing of the current output cell\n",
              "var outputEl = gd.closest('.output');\n",
              "if (outputEl) {{\n",
              "    x.observe(outputEl, {childList: true});\n",
              "}}\n",
              "\n",
              "                        })\n",
              "                };\n",
              "                \n",
              "            </script>\n",
              "        </div>\n",
              "</body>\n",
              "</html>"
            ]
          },
          "metadata": {
            "tags": []
          }
        }
      ]
    },
    {
      "cell_type": "markdown",
      "metadata": {
        "id": "rTH64QwTBEeY"
      },
      "source": [
        "Figure 5: The histogram looks at the number of questions rated per group. We can see that the purple group had the lowest number of questions rated. Whilst, the red group had the highest number of questions rated near 350. The variation in number of questions may affect the groups exam outcome, which we will continue to investigate."
      ]
    },
    {
      "cell_type": "markdown",
      "metadata": {
        "id": "FOG4aAzO4gwX"
      },
      "source": [
        "####Questions dataset"
      ]
    },
    {
      "cell_type": "code",
      "metadata": {
        "id": "rbGf9t1s414X",
        "outputId": "aaa5c731-833a-4eea-d1f0-8393b50d4dde",
        "colab": {
          "base_uri": "https://localhost:8080/",
          "height": 697
        }
      },
      "source": [
        "# Investigating the C4 Questions data by importing it\n",
        "df3 = pd.read_excel('/C4Questions.xlsx', index_col=0)\n",
        "\n",
        "df3['QuestionID'] = df3.index\n",
        "\n",
        "df3.head()\n",
        "\n"
      ],
      "execution_count": 73,
      "outputs": [
        {
          "output_type": "execute_result",
          "data": {
            "text/html": [
              "<div>\n",
              "<style scoped>\n",
              "    .dataframe tbody tr th:only-of-type {\n",
              "        vertical-align: middle;\n",
              "    }\n",
              "\n",
              "    .dataframe tbody tr th {\n",
              "        vertical-align: top;\n",
              "    }\n",
              "\n",
              "    .dataframe thead th {\n",
              "        text-align: right;\n",
              "    }\n",
              "</style>\n",
              "<table border=\"1\" class=\"dataframe\">\n",
              "  <thead>\n",
              "    <tr style=\"text-align: right;\">\n",
              "      <th></th>\n",
              "      <th>course_id</th>\n",
              "      <th>timestamp</th>\n",
              "      <th>user</th>\n",
              "      <th>avg_rating</th>\n",
              "      <th>total_responses</th>\n",
              "      <th>total_ratings</th>\n",
              "      <th>top_rating_count</th>\n",
              "      <th>avg_difficulty</th>\n",
              "      <th>total_comments</th>\n",
              "      <th>deleted</th>\n",
              "      <th>answer</th>\n",
              "      <th>question</th>\n",
              "      <th>numAlts</th>\n",
              "      <th>altA</th>\n",
              "      <th>altB</th>\n",
              "      <th>altC</th>\n",
              "      <th>altD</th>\n",
              "      <th>altE</th>\n",
              "      <th>explanation</th>\n",
              "      <th>AcademicMark</th>\n",
              "      <th>QuestionID</th>\n",
              "    </tr>\n",
              "    <tr>\n",
              "      <th>id</th>\n",
              "      <th></th>\n",
              "      <th></th>\n",
              "      <th></th>\n",
              "      <th></th>\n",
              "      <th></th>\n",
              "      <th></th>\n",
              "      <th></th>\n",
              "      <th></th>\n",
              "      <th></th>\n",
              "      <th></th>\n",
              "      <th></th>\n",
              "      <th></th>\n",
              "      <th></th>\n",
              "      <th></th>\n",
              "      <th></th>\n",
              "      <th></th>\n",
              "      <th></th>\n",
              "      <th></th>\n",
              "      <th></th>\n",
              "      <th></th>\n",
              "      <th></th>\n",
              "    </tr>\n",
              "  </thead>\n",
              "  <tbody>\n",
              "    <tr>\n",
              "      <th>4464532</th>\n",
              "      <td>21320</td>\n",
              "      <td>2020-04-27 18:51:25</td>\n",
              "      <td>635990</td>\n",
              "      <td>3.78</td>\n",
              "      <td>10</td>\n",
              "      <td>9</td>\n",
              "      <td>2</td>\n",
              "      <td>1.2222</td>\n",
              "      <td>8</td>\n",
              "      <td>2</td>\n",
              "      <td>D</td>\n",
              "      <td>Operons are a series of related genes that are...</td>\n",
              "      <td>4</td>\n",
              "      <td>A</td>\n",
              "      <td>B</td>\n",
              "      <td>C</td>\n",
              "      <td>D</td>\n",
              "      <td>NaN</td>\n",
              "      <td>&lt;p&gt;Because the bacteria only wants to make th...</td>\n",
              "      <td>NaN</td>\n",
              "      <td>4464532</td>\n",
              "    </tr>\n",
              "    <tr>\n",
              "      <th>4464967</th>\n",
              "      <td>21320</td>\n",
              "      <td>2020-04-27 22:56:37</td>\n",
              "      <td>636029</td>\n",
              "      <td>3.25</td>\n",
              "      <td>7</td>\n",
              "      <td>4</td>\n",
              "      <td>1</td>\n",
              "      <td>0.7500</td>\n",
              "      <td>5</td>\n",
              "      <td>2</td>\n",
              "      <td>D</td>\n",
              "      <td>The sigma (&amp;sigma;) subunit is required for th...</td>\n",
              "      <td>5</td>\n",
              "      <td>The &amp;sigma; subunit decreases the general;affi...</td>\n",
              "      <td>The &amp;sigma; subunit recognizes the promoter se...</td>\n",
              "      <td>The &amp;sigma; subunit can be reused again and ag...</td>\n",
              "      <td>The &amp;sigma; subunit clings onto the core polym...</td>\n",
              "      <td>Binding of the sigma subunit is an important s...</td>\n",
              "      <td>&lt;p&gt;The sigma subunit can direct the tight bin...</td>\n",
              "      <td>NaN</td>\n",
              "      <td>4464967</td>\n",
              "    </tr>\n",
              "    <tr>\n",
              "      <th>4468332</th>\n",
              "      <td>21320</td>\n",
              "      <td>2020-04-29 18:19:30</td>\n",
              "      <td>636019</td>\n",
              "      <td>2.80</td>\n",
              "      <td>13</td>\n",
              "      <td>10</td>\n",
              "      <td>0</td>\n",
              "      <td>0.5000</td>\n",
              "      <td>10</td>\n",
              "      <td>0</td>\n",
              "      <td>C</td>\n",
              "      <td>Which of the following answers provides &lt;stron...</td>\n",
              "      <td>4</td>\n",
              "      <td>RNA polymerase has no;proofreading ability to ...</td>\n",
              "      <td>RNA;polymerase has insufficient bases for pair...</td>\n",
              "      <td>RNA polymerase has to trigger mutations that a...</td>\n",
              "      <td>RNA;polymerase has longer strand for transcrip...</td>\n",
              "      <td>NaN</td>\n",
              "      <td>&lt;p&gt;Wrong - Answer A:&amp;nbsp;RNA polymerase has ...</td>\n",
              "      <td>3.0</td>\n",
              "      <td>4468332</td>\n",
              "    </tr>\n",
              "    <tr>\n",
              "      <th>4468396</th>\n",
              "      <td>21320</td>\n",
              "      <td>2020-04-29 19:15:16</td>\n",
              "      <td>635992</td>\n",
              "      <td>0.00</td>\n",
              "      <td>0</td>\n",
              "      <td>0</td>\n",
              "      <td>0</td>\n",
              "      <td>0.0000</td>\n",
              "      <td>0</td>\n",
              "      <td>2</td>\n",
              "      <td>B</td>\n",
              "      <td>Rifampicin is an example of an antibiotic that...</td>\n",
              "      <td>5</td>\n",
              "      <td>Initiation; RNA polymerase cannot bind to prom...</td>\n",
              "      <td>Elongation; inability to process RNA synthesis...</td>\n",
              "      <td>Termination; No stop signal can be recognized ...</td>\n",
              "      <td>Elongation; inability to unwind DNA then cause...</td>\n",
              "      <td>None of the above is the correct answer.</td>\n",
              "      <td>&lt;p&gt;The correct answer is B.&amp;nbsp;&lt;/p&gt;&lt;p&gt;&amp;nbsp...</td>\n",
              "      <td>NaN</td>\n",
              "      <td>4468396</td>\n",
              "    </tr>\n",
              "    <tr>\n",
              "      <th>4468400</th>\n",
              "      <td>21320</td>\n",
              "      <td>2020-04-29 19:15:16</td>\n",
              "      <td>635992</td>\n",
              "      <td>2.86</td>\n",
              "      <td>11</td>\n",
              "      <td>7</td>\n",
              "      <td>0</td>\n",
              "      <td>1.0000</td>\n",
              "      <td>8</td>\n",
              "      <td>2</td>\n",
              "      <td>B</td>\n",
              "      <td>Rifampicin is an example of an antibiotic that...</td>\n",
              "      <td>5</td>\n",
              "      <td>Initiation; RNA polymerase cannot bind to prom...</td>\n",
              "      <td>Elongation; inability to process RNA synthesis...</td>\n",
              "      <td>Termination; No stop signal can be recognized ...</td>\n",
              "      <td>Elongation; inability to unwind DNA then cause...</td>\n",
              "      <td>None of the above is the correct answer.</td>\n",
              "      <td>&lt;p&gt;The correct answer is B.&amp;nbsp;&lt;/p&gt;&lt;p&gt;&amp;nbsp...</td>\n",
              "      <td>NaN</td>\n",
              "      <td>4468400</td>\n",
              "    </tr>\n",
              "  </tbody>\n",
              "</table>\n",
              "</div>"
            ],
            "text/plain": [
              "         course_id            timestamp  ...  AcademicMark  QuestionID\n",
              "id                                       ...                          \n",
              "4464532      21320  2020-04-27 18:51:25  ...           NaN     4464532\n",
              "4464967      21320  2020-04-27 22:56:37  ...           NaN     4464967\n",
              "4468332      21320  2020-04-29 18:19:30  ...           3.0     4468332\n",
              "4468396      21320  2020-04-29 19:15:16  ...           NaN     4468396\n",
              "4468400      21320  2020-04-29 19:15:16  ...           NaN     4468400\n",
              "\n",
              "[5 rows x 21 columns]"
            ]
          },
          "metadata": {
            "tags": []
          },
          "execution_count": 73
        }
      ]
    },
    {
      "cell_type": "code",
      "metadata": {
        "id": "frTuOqve5RY4",
        "outputId": "149eb9dd-eb89-42da-eedf-1b804a220a14",
        "colab": {
          "base_uri": "https://localhost:8080/",
          "height": 615
        }
      },
      "source": [
        "# Try to merge the Questions and already merged Tags/UserCourses datasets using a left join, according to Question ID\n",
        "df123 = pd.merge(df12, df3, on='QuestionID',how='left')\n",
        "\n",
        "# Remove NAs\n",
        "df123.dropna(inplace=True)\n",
        "\n",
        "# Determine the dimensions of the dataset\n",
        "df123.shape\n",
        "\n",
        "# Find number of questions that each group submitted\n",
        "Number = df123.groupby(['Tag'])['QuestionID'].count().sort_values()\n",
        "\n",
        "# Merge the counted number of questions to the dataset\n",
        "df123 = pd.merge(df123, Number, on='Tag',how='left')\n",
        "\n",
        "# Change the default merge name to Numquestions\n",
        "df123 = df123.rename(columns={'QuestionID_y': 'Numquestions'})\n",
        "df123.head()"
      ],
      "execution_count": 79,
      "outputs": [
        {
          "output_type": "execute_result",
          "data": {
            "text/html": [
              "<div>\n",
              "<style scoped>\n",
              "    .dataframe tbody tr th:only-of-type {\n",
              "        vertical-align: middle;\n",
              "    }\n",
              "\n",
              "    .dataframe tbody tr th {\n",
              "        vertical-align: top;\n",
              "    }\n",
              "\n",
              "    .dataframe thead th {\n",
              "        text-align: right;\n",
              "    }\n",
              "</style>\n",
              "<table border=\"1\" class=\"dataframe\">\n",
              "  <thead>\n",
              "    <tr style=\"text-align: right;\">\n",
              "      <th></th>\n",
              "      <th>CourseID</th>\n",
              "      <th>Timestamp</th>\n",
              "      <th>User</th>\n",
              "      <th>QuestionID_x</th>\n",
              "      <th>Difficulty</th>\n",
              "      <th>Score</th>\n",
              "      <th>Tag</th>\n",
              "      <th>TagID</th>\n",
              "      <th>course_id</th>\n",
              "      <th>timestamp</th>\n",
              "      <th>user</th>\n",
              "      <th>avg_rating</th>\n",
              "      <th>total_responses</th>\n",
              "      <th>total_ratings</th>\n",
              "      <th>top_rating_count</th>\n",
              "      <th>avg_difficulty</th>\n",
              "      <th>total_comments</th>\n",
              "      <th>deleted</th>\n",
              "      <th>answer</th>\n",
              "      <th>question</th>\n",
              "      <th>numAlts</th>\n",
              "      <th>altA</th>\n",
              "      <th>altB</th>\n",
              "      <th>altC</th>\n",
              "      <th>altD</th>\n",
              "      <th>altE</th>\n",
              "      <th>explanation</th>\n",
              "      <th>AcademicMark</th>\n",
              "      <th>Numquestions</th>\n",
              "    </tr>\n",
              "  </thead>\n",
              "  <tbody>\n",
              "    <tr>\n",
              "      <th>0</th>\n",
              "      <td>21320</td>\n",
              "      <td>2020-05-05 23:00:20</td>\n",
              "      <td>636029</td>\n",
              "      <td>4476565</td>\n",
              "      <td>1</td>\n",
              "      <td>4</td>\n",
              "      <td>Pink</td>\n",
              "      <td>6418744.0</td>\n",
              "      <td>21320</td>\n",
              "      <td>2020-05-05 22:42:04</td>\n",
              "      <td>636041</td>\n",
              "      <td>3.40</td>\n",
              "      <td>13</td>\n",
              "      <td>10</td>\n",
              "      <td>1</td>\n",
              "      <td>1.0000</td>\n",
              "      <td>9</td>\n",
              "      <td>0</td>\n",
              "      <td>D</td>\n",
              "      <td>Which statement is &lt;em&gt;&lt;strong&gt;TRUE;&lt;/strong&gt;&lt;...</td>\n",
              "      <td>5</td>\n",
              "      <td>The antisense strand of DNA shares the same se...</td>\n",
              "      <td>Both uracil and thymine triphosphate are requi...</td>\n",
              "      <td>The sense strand is known as the \"template\" st...</td>\n",
              "      <td>The antisense strand is responsible for the ge...</td>\n",
              "      <td>DNA polymerase I is the major catalytic produc...</td>\n",
              "      <td>&lt;p&gt;A) False, as it is the &lt;em&gt;&lt;strong&gt;sense&lt;/...</td>\n",
              "      <td>4.0</td>\n",
              "      <td>49</td>\n",
              "    </tr>\n",
              "    <tr>\n",
              "      <th>1</th>\n",
              "      <td>21320</td>\n",
              "      <td>2020-05-05 23:03:40</td>\n",
              "      <td>636020</td>\n",
              "      <td>4476565</td>\n",
              "      <td>1</td>\n",
              "      <td>3</td>\n",
              "      <td>Pink</td>\n",
              "      <td>6418744.0</td>\n",
              "      <td>21320</td>\n",
              "      <td>2020-05-05 22:42:04</td>\n",
              "      <td>636041</td>\n",
              "      <td>3.40</td>\n",
              "      <td>13</td>\n",
              "      <td>10</td>\n",
              "      <td>1</td>\n",
              "      <td>1.0000</td>\n",
              "      <td>9</td>\n",
              "      <td>0</td>\n",
              "      <td>D</td>\n",
              "      <td>Which statement is &lt;em&gt;&lt;strong&gt;TRUE;&lt;/strong&gt;&lt;...</td>\n",
              "      <td>5</td>\n",
              "      <td>The antisense strand of DNA shares the same se...</td>\n",
              "      <td>Both uracil and thymine triphosphate are requi...</td>\n",
              "      <td>The sense strand is known as the \"template\" st...</td>\n",
              "      <td>The antisense strand is responsible for the ge...</td>\n",
              "      <td>DNA polymerase I is the major catalytic produc...</td>\n",
              "      <td>&lt;p&gt;A) False, as it is the &lt;em&gt;&lt;strong&gt;sense&lt;/...</td>\n",
              "      <td>4.0</td>\n",
              "      <td>49</td>\n",
              "    </tr>\n",
              "    <tr>\n",
              "      <th>2</th>\n",
              "      <td>21320</td>\n",
              "      <td>2020-05-06 14:21:39</td>\n",
              "      <td>636007</td>\n",
              "      <td>4471839</td>\n",
              "      <td>1</td>\n",
              "      <td>3</td>\n",
              "      <td>Green</td>\n",
              "      <td>6411967.0</td>\n",
              "      <td>21320</td>\n",
              "      <td>2020-05-01 22:55:40</td>\n",
              "      <td>560375</td>\n",
              "      <td>2.67</td>\n",
              "      <td>10</td>\n",
              "      <td>6</td>\n",
              "      <td>0</td>\n",
              "      <td>0.8333</td>\n",
              "      <td>7</td>\n",
              "      <td>0</td>\n",
              "      <td>B</td>\n",
              "      <td>*Green* A mutation within the regulatory gene ...</td>\n",
              "      <td>5</td>\n",
              "      <td>This would decrease the effectiveness of the e...</td>\n",
              "      <td>This would decrease the effectiveness of the c...</td>\n",
              "      <td>This would have no effect on the functionality...</td>\n",
              "      <td>This would increase the effectiveness of the c...</td>\n",
              "      <td>This would increase the effectiveness of the e...</td>\n",
              "      <td>&lt;p&gt;A decrease in binding affinity of the repr...</td>\n",
              "      <td>4.0</td>\n",
              "      <td>52</td>\n",
              "    </tr>\n",
              "    <tr>\n",
              "      <th>3</th>\n",
              "      <td>21320</td>\n",
              "      <td>2020-05-06 15:29:44</td>\n",
              "      <td>635992</td>\n",
              "      <td>4476565</td>\n",
              "      <td>0</td>\n",
              "      <td>2</td>\n",
              "      <td>Pink</td>\n",
              "      <td>6418744.0</td>\n",
              "      <td>21320</td>\n",
              "      <td>2020-05-05 22:42:04</td>\n",
              "      <td>636041</td>\n",
              "      <td>3.40</td>\n",
              "      <td>13</td>\n",
              "      <td>10</td>\n",
              "      <td>1</td>\n",
              "      <td>1.0000</td>\n",
              "      <td>9</td>\n",
              "      <td>0</td>\n",
              "      <td>D</td>\n",
              "      <td>Which statement is &lt;em&gt;&lt;strong&gt;TRUE;&lt;/strong&gt;&lt;...</td>\n",
              "      <td>5</td>\n",
              "      <td>The antisense strand of DNA shares the same se...</td>\n",
              "      <td>Both uracil and thymine triphosphate are requi...</td>\n",
              "      <td>The sense strand is known as the \"template\" st...</td>\n",
              "      <td>The antisense strand is responsible for the ge...</td>\n",
              "      <td>DNA polymerase I is the major catalytic produc...</td>\n",
              "      <td>&lt;p&gt;A) False, as it is the &lt;em&gt;&lt;strong&gt;sense&lt;/...</td>\n",
              "      <td>4.0</td>\n",
              "      <td>49</td>\n",
              "    </tr>\n",
              "    <tr>\n",
              "      <th>4</th>\n",
              "      <td>21320</td>\n",
              "      <td>2020-05-06 19:26:11</td>\n",
              "      <td>636032</td>\n",
              "      <td>4476565</td>\n",
              "      <td>1</td>\n",
              "      <td>4</td>\n",
              "      <td>Pink</td>\n",
              "      <td>6418744.0</td>\n",
              "      <td>21320</td>\n",
              "      <td>2020-05-05 22:42:04</td>\n",
              "      <td>636041</td>\n",
              "      <td>3.40</td>\n",
              "      <td>13</td>\n",
              "      <td>10</td>\n",
              "      <td>1</td>\n",
              "      <td>1.0000</td>\n",
              "      <td>9</td>\n",
              "      <td>0</td>\n",
              "      <td>D</td>\n",
              "      <td>Which statement is &lt;em&gt;&lt;strong&gt;TRUE;&lt;/strong&gt;&lt;...</td>\n",
              "      <td>5</td>\n",
              "      <td>The antisense strand of DNA shares the same se...</td>\n",
              "      <td>Both uracil and thymine triphosphate are requi...</td>\n",
              "      <td>The sense strand is known as the \"template\" st...</td>\n",
              "      <td>The antisense strand is responsible for the ge...</td>\n",
              "      <td>DNA polymerase I is the major catalytic produc...</td>\n",
              "      <td>&lt;p&gt;A) False, as it is the &lt;em&gt;&lt;strong&gt;sense&lt;/...</td>\n",
              "      <td>4.0</td>\n",
              "      <td>49</td>\n",
              "    </tr>\n",
              "  </tbody>\n",
              "</table>\n",
              "</div>"
            ],
            "text/plain": [
              "   CourseID            Timestamp  ...  AcademicMark  Numquestions\n",
              "0     21320  2020-05-05 23:00:20  ...           4.0            49\n",
              "1     21320  2020-05-05 23:03:40  ...           4.0            49\n",
              "2     21320  2020-05-06 14:21:39  ...           4.0            52\n",
              "3     21320  2020-05-06 15:29:44  ...           4.0            49\n",
              "4     21320  2020-05-06 19:26:11  ...           4.0            49\n",
              "\n",
              "[5 rows x 29 columns]"
            ]
          },
          "metadata": {
            "tags": []
          },
          "execution_count": 79
        }
      ]
    },
    {
      "cell_type": "markdown",
      "metadata": {
        "id": "kQxbiWJuEk5V"
      },
      "source": [
        "After removal of NAs, the merged dataset has 373 rows. That is, 373 questions in the dataset."
      ]
    },
    {
      "cell_type": "code",
      "metadata": {
        "id": "6rF5ecj9EtxT",
        "outputId": "bd5cddb4-b913-47e3-d23a-c28b936e61cd",
        "colab": {
          "base_uri": "https://localhost:8080/"
        }
      },
      "source": [
        "import nltk\n",
        "# nltk.download('punkt')\n",
        "# nltk.download('stopwords')\n",
        "\n",
        "top_N = 50\n",
        "\n",
        "# replace all non-alphanumeric characters\n",
        "df123['sub_rep'] = df123.question.str.lower().str.replace('\\W', ' ')\n",
        "\n",
        "# tokenize\n",
        "df123['tok'] = df123.sub_rep.apply(nltk.tokenize.word_tokenize)\n",
        "\n",
        "# all tokenized words to a list\n",
        "words = df123.tok.tolist()  # this is a list of lists\n",
        "words = [word for list_ in words for word in list_]\n",
        "\n",
        "# frequency distribution\n",
        "word_dist = nltk.FreqDist(words)\n",
        "\n",
        "# remove stopwords\n",
        "stopwords = nltk.corpus.stopwords.words('english')\n",
        "words_except_stop_dist = nltk.FreqDist(w for w in words if w not in stopwords)\n",
        "\n",
        "# output the results\n",
        "rslt = pd.DataFrame(word_dist.most_common(top_N), columns=['Word', 'Frequency'])\n"
      ],
      "execution_count": 57,
      "outputs": [
        {
          "output_type": "stream",
          "text": [
            "33      [which, statement, is, em, strong, true, stron...\n",
            "34      [which, statement, is, em, strong, true, stron...\n",
            "42      [green, a, mutation, within, the, regulatory, ...\n",
            "45      [which, statement, is, em, strong, true, stron...\n",
            "47      [which, statement, is, em, strong, true, stron...\n",
            "                              ...                        \n",
            "2214    [which, of, the, following, is, false, of, the...\n",
            "2217    [consider, the, trna, 5, gcu, 3, which, codon,...\n",
            "2220    [if, three, proteins, in, translation, individ...\n",
            "2225    [which, of, the, following, would, lead, to, a...\n",
            "2226    [how, does, the, shine, dalgarno, sequence, ac...\n",
            "Name: tok, Length: 373, dtype: object\n"
          ],
          "name": "stdout"
        }
      ]
    },
    {
      "cell_type": "code",
      "metadata": {
        "id": "51QY5hgjHawI",
        "outputId": "4ac715e6-eaf3-4a62-e145-fdeb0eef02ce",
        "colab": {
          "base_uri": "https://localhost:8080/"
        }
      },
      "source": [
        "print(rslt)"
      ],
      "execution_count": 28,
      "outputs": [
        {
          "output_type": "stream",
          "text": [
            "             Word  Frequency\n",
            "0             the        945\n",
            "1              of        576\n",
            "2              is        360\n",
            "3           which        292\n",
            "4              in        288\n",
            "5              to        278\n",
            "6          strong        269\n",
            "7               a        267\n",
            "8             and        208\n",
            "9       following        193\n",
            "10  transcription        146\n",
            "11            are        113\n",
            "12            rna         98\n",
            "13           mrna         96\n",
            "14             br         82\n",
            "15           that         82\n",
            "16              5         73\n",
            "17     statements         71\n",
            "18             be         70\n",
            "19            dna         69\n",
            "20            for         69\n",
            "21     eukaryotic         69\n",
            "22       sequence         67\n",
            "23           gene         62\n",
            "24          about         62\n",
            "25           this         61\n",
            "26           from         60\n",
            "27           what         59\n",
            "28           have         58\n",
            "29            not         54\n",
            "30           span         54\n",
            "31     processing         54\n",
            "32           true         53\n",
            "33      promotors         52\n",
            "34      regarding         51\n",
            "35             by         51\n",
            "36             as         50\n",
            "37            can         47\n",
            "38             no         47\n",
            "39        correct         47\n",
            "40     polymerase         46\n",
            "41            img         46\n",
            "42            src         46\n",
            "43         images         46\n",
            "44           view         46\n",
            "45            php         46\n",
            "46           file         46\n",
            "47            alt         46\n",
            "48    translation         46\n",
            "49          false         45\n"
          ],
          "name": "stdout"
        }
      ]
    },
    {
      "cell_type": "code",
      "metadata": {
        "id": "AqW4kQS2HkXG",
        "outputId": "6bdc0be0-dd77-4ca9-dd8d-3701143262fc",
        "colab": {
          "base_uri": "https://localhost:8080/",
          "height": 834
        }
      },
      "source": [
        "# Subset the data to only have the question, academic mark and group colour\n",
        "df123_rslt = df123[['question','AcademicMark','Tag','Numquestions']]\n",
        "\n",
        "df123_rslt['question'] = df123_rslt.question.str.lower().str.replace('\\W', ' ')\n",
        "\n",
        "# Split the question string into individual words\n",
        "df123_rslt['question'] = df123_rslt['question'].str.split(None,expand=True)\n",
        "\n",
        "# Using plotly express, we produce a bar plot of the word, academic mark and colour organise it by group tag\n",
        "px.bar(df123_rslt,df123_rslt['question'],df123_rslt['AcademicMark'],color=df123_rslt['Tag'])\n"
      ],
      "execution_count": 83,
      "outputs": [
        {
          "output_type": "stream",
          "text": [
            "/usr/local/lib/python3.6/dist-packages/ipykernel_launcher.py:4: SettingWithCopyWarning:\n",
            "\n",
            "\n",
            "A value is trying to be set on a copy of a slice from a DataFrame.\n",
            "Try using .loc[row_indexer,col_indexer] = value instead\n",
            "\n",
            "See the caveats in the documentation: https://pandas.pydata.org/pandas-docs/stable/user_guide/indexing.html#returning-a-view-versus-a-copy\n",
            "\n",
            "/usr/local/lib/python3.6/dist-packages/ipykernel_launcher.py:7: SettingWithCopyWarning:\n",
            "\n",
            "\n",
            "A value is trying to be set on a copy of a slice from a DataFrame.\n",
            "Try using .loc[row_indexer,col_indexer] = value instead\n",
            "\n",
            "See the caveats in the documentation: https://pandas.pydata.org/pandas-docs/stable/user_guide/indexing.html#returning-a-view-versus-a-copy\n",
            "\n"
          ],
          "name": "stderr"
        },
        {
          "output_type": "display_data",
          "data": {
            "text/html": [
              "<html>\n",
              "<head><meta charset=\"utf-8\" /></head>\n",
              "<body>\n",
              "    <div>\n",
              "            <script src=\"https://cdnjs.cloudflare.com/ajax/libs/mathjax/2.7.5/MathJax.js?config=TeX-AMS-MML_SVG\"></script><script type=\"text/javascript\">if (window.MathJax) {MathJax.Hub.Config({SVG: {font: \"STIX-Web\"}});}</script>\n",
              "                <script type=\"text/javascript\">window.PlotlyConfig = {MathJaxConfig: 'local'};</script>\n",
              "        <script src=\"https://cdn.plot.ly/plotly-latest.min.js\"></script>    \n",
              "            <div id=\"6838a9b2-e71d-4d34-a72b-3445e0d8aaec\" class=\"plotly-graph-div\" style=\"height:525px; width:100%;\"></div>\n",
              "            <script type=\"text/javascript\">\n",
              "                \n",
              "                    window.PLOTLYENV=window.PLOTLYENV || {};\n",
              "                    \n",
              "                if (document.getElementById(\"6838a9b2-e71d-4d34-a72b-3445e0d8aaec\")) {\n",
              "                    Plotly.newPlot(\n",
              "                        '6838a9b2-e71d-4d34-a72b-3445e0d8aaec',\n",
              "                        [{\"alignmentgroup\": \"True\", \"hoverlabel\": {\"namelength\": 0}, \"hovertemplate\": \"Tag=Pink<br>question=%{x}<br>AcademicMark=%{y}\", \"legendgroup\": \"Tag=Pink\", \"marker\": {\"color\": \"#636efa\"}, \"name\": \"Tag=Pink\", \"offsetgroup\": \"Tag=Pink\", \"orientation\": \"v\", \"showlegend\": true, \"textposition\": \"auto\", \"type\": \"bar\", \"x\": [\"which\", \"which\", \"which\", \"which\", \"which\", \"which\", \"which\", \"the\", \"the\", \"the\", \"which\", \"which\", \"the\", \"pink\", \"both\", \"which\", \"which\", \"rifampicin\", \"the\", \"pink\", \"the\", \"what\", \"in\", \"for\", \"some\", \"img\", \"img\", \"img\", \"img\", \"img\", \"img\", \"img\", \"fill\", \"fill\", \"img\", \"img\", \"alternative\", \"explain\", \"below\", \"which\", \"researchers\", \"fill\", \"img\", \"mrna\", \"the\", \"alternative\", \"consider\", \"consider\", \"consider\"], \"xaxis\": \"x\", \"y\": [4.0, 4.0, 4.0, 4.0, 4.0, 4.0, 4.0, 4.0, 4.0, 4.0, 4.0, 4.0, 4.0, 3.0, 3.0, 4.0, 3.0, 4.0, 4.0, 3.0, 5.0, 2.0, 3.0, 4.0, 4.0, 5.0, 5.0, 5.0, 5.0, 5.0, 5.0, 5.0, 5.0, 5.0, 5.0, 5.0, 4.0, 4.0, 4.0, 4.0, 5.0, 5.0, 5.0, 5.0, 4.0, 4.0, 3.0, 3.0, 3.0], \"yaxis\": \"y\"}, {\"alignmentgroup\": \"True\", \"hoverlabel\": {\"namelength\": 0}, \"hovertemplate\": \"Tag=Green<br>question=%{x}<br>AcademicMark=%{y}\", \"legendgroup\": \"Tag=Green\", \"marker\": {\"color\": \"#EF553B\"}, \"name\": \"Tag=Green\", \"offsetgroup\": \"Tag=Green\", \"orientation\": \"v\", \"showlegend\": true, \"textposition\": \"auto\", \"type\": \"bar\", \"x\": [\"green\", \"green\", \"green\", \"green\", \"a\", \"the\", \"find\", \"a\", \"the\", \"find\", \"green\", \"a\", \"the\", \"green\", \"find\", \"which\", \"which\", \"which\", \"which\", \"which\", \"which\", \"which\", \"which\", \"which\", \"which\", \"menopause\", \"unlike\", \"which\", \"which\", \"why\", \"find\", \"which\", \"find\", \"which\", \"find\", \"find\", \"which\", \"which\", \"which\", \"which\", \"which\", \"find\", \"which\", \"which\", \"which\", \"find\", \"which\", \"for\", \"which\", \"the\", \"during\", \"why\"], \"xaxis\": \"x\", \"y\": [4.0, 4.0, 4.0, 4.0, 3.0, 5.0, 4.0, 3.0, 5.0, 4.0, 4.0, 3.0, 5.0, 4.0, 4.0, 3.0, 3.0, 3.0, 3.0, 3.0, 3.0, 3.0, 3.0, 3.0, 3.0, 5.0, 5.0, 3.0, 3.0, 3.0, 5.0, 4.0, 5.0, 4.0, 5.0, 5.0, 4.0, 4.0, 4.0, 4.0, 4.0, 5.0, 4.0, 4.0, 4.0, 5.0, 3.0, 4.0, 3.0, 3.0, 3.0, 4.0], \"yaxis\": \"y\"}, {\"alignmentgroup\": \"True\", \"hoverlabel\": {\"namelength\": 0}, \"hovertemplate\": \"Tag=Red<br>question=%{x}<br>AcademicMark=%{y}\", \"legendgroup\": \"Tag=Red\", \"marker\": {\"color\": \"#00cc96\"}, \"name\": \"Tag=Red\", \"offsetgroup\": \"Tag=Red\", \"orientation\": \"v\", \"showlegend\": true, \"textposition\": \"auto\", \"type\": \"bar\", \"x\": [\"red\", \"which\", \"which\", \"red\", \"red\", \"which\", \"which\", \"red\", \"red\", \"red\", \"which\", \"red\", \"which\", \"red\", \"which\", \"red\", \"red\", \"which\", \"red\", \"red\", \"what\", \"which\", \"which\", \"which\", \"which\", \"different\", \"which\", \"what\", \"in\", \"aminoacyl\", \"there\"], \"xaxis\": \"x\", \"y\": [4.0, 3.0, 3.0, 4.0, 4.0, 3.0, 3.0, 4.0, 4.0, 4.0, 3.0, 4.0, 3.0, 4.0, 3.0, 4.0, 4.0, 3.0, 4.0, 5.0, 4.0, 4.0, 4.0, 3.0, 4.0, 4.0, 3.0, 4.0, 3.0, 4.0, 5.0], \"yaxis\": \"y\"}, {\"alignmentgroup\": \"True\", \"hoverlabel\": {\"namelength\": 0}, \"hovertemplate\": \"Tag=Black<br>question=%{x}<br>AcademicMark=%{y}\", \"legendgroup\": \"Tag=Black\", \"marker\": {\"color\": \"#ab63fa\"}, \"name\": \"Tag=Black\", \"offsetgroup\": \"Tag=Black\", \"orientation\": \"v\", \"showlegend\": true, \"textposition\": \"auto\", \"type\": \"bar\", \"x\": [\"black\", \"transcription\", \"a\", \"black\", \"operons\", \"during\", \"transcription\", \"a\", \"which\", \"the\", \"black\", \"transcription\", \"gene\", \"complete\", \"which\", \"which\", \"which\", \"which\", \"which\", \"which\", \"which\", \"which\", \"which\", \"which\", \"which\", \"which\", \"which\", \"which\", \"which\", \"which\", \"how\", \"which\", \"which\"], \"xaxis\": \"x\", \"y\": [4.0, 3.0, 5.0, 4.0, 3.0, 3.0, 3.0, 5.0, 5.0, 5.0, 4.0, 3.0, 4.0, 3.0, 4.0, 3.0, 4.0, 4.0, 4.0, 3.0, 4.0, 3.0, 4.0, 3.0, 4.0, 3.0, 4.0, 3.0, 3.0, 4.0, 4.0, 3.0, 5.0], \"yaxis\": \"y\"}, {\"alignmentgroup\": \"True\", \"hoverlabel\": {\"namelength\": 0}, \"hovertemplate\": \"Tag=Brown<br>question=%{x}<br>AcademicMark=%{y}\", \"legendgroup\": \"Tag=Brown\", \"marker\": {\"color\": \"#FFA15A\"}, \"name\": \"Tag=Brown\", \"offsetgroup\": \"Tag=Brown\", \"orientation\": \"v\", \"showlegend\": true, \"textposition\": \"auto\", \"type\": \"bar\", \"x\": [\"brown\", \"brown\", \"there\", \"learning\", \"rho\", \"brown\", \"rho\", \"learning\", \"brown\", \"there\", \"there\", \"there\", \"there\", \"there\", \"which\", \"which\", \"which\", \"which\", \"there\", \"which\", \"which\", \"after\", \"1\", \"5\", \"after\", \"1\", \"after\", \"after\", \"after\", \"after\", \"1\", \"after\", \"5\", \"5\", \"1\", \"after\", \"after\", \"which\", \"if\", \"which\", \"if\", \"which\", \"if\", \"which\", \"if\", \"which\", \"which\", \"which\", \"if\", \"serine\", \"which\", \"which\", \"if\", \"which\", \"if\"], \"xaxis\": \"x\", \"y\": [4.0, 4.0, 4.0, 4.0, 4.0, 4.0, 4.0, 4.0, 4.0, 4.0, 3.0, 3.0, 3.0, 3.0, 3.0, 2.0, 3.0, 3.0, 3.0, 2.0, 3.0, 4.0, 4.0, 5.0, 4.0, 4.0, 3.0, 3.0, 4.0, 3.0, 4.0, 3.0, 5.0, 5.0, 4.0, 4.0, 3.0, 3.0, 4.0, 3.0, 4.0, 3.0, 4.0, 3.0, 4.0, 3.0, 3.0, 3.0, 4.0, 4.0, 4.0, 3.0, 4.0, 3.0, 3.0], \"yaxis\": \"y\"}, {\"alignmentgroup\": \"True\", \"hoverlabel\": {\"namelength\": 0}, \"hovertemplate\": \"Tag=Blue<br>question=%{x}<br>AcademicMark=%{y}\", \"legendgroup\": \"Tag=Blue\", \"marker\": {\"color\": \"#19d3f3\"}, \"name\": \"Tag=Blue\", \"offsetgroup\": \"Tag=Blue\", \"orientation\": \"v\", \"showlegend\": true, \"textposition\": \"auto\", \"type\": \"bar\", \"x\": [\"during\", \"what\", \"in\", \"rifampicin\", \"a\", \"what\", \"during\", \"____\", \"____\", \"____\", \"which\", \"____\", \"which\", \"which\", \"____\", \"below\", \"below\", \"below\", \"processing\", \"processing\", \"processing\", \"below\", \"processing\", \"below\", \"below\", \"processing\", \"below\", \"processing\", \"alternative\", \"processing\", \"below\", \"below\", \"alternative\", \"processing\", \"below\", \"after\", \"in\", \"in\", \"in\", \"in\", \"in\", \"in\", \"in\", \"jade\", \"in\"], \"xaxis\": \"x\", \"y\": [4.0, 4.0, 3.0, 4.0, 5.0, 5.0, 4.0, 3.0, 3.0, 3.0, 3.0, 3.0, 4.0, 3.0, 3.0, 5.0, 5.0, 5.0, 4.0, 4.0, 4.0, 5.0, 4.0, 5.0, 5.0, 4.0, 5.0, 4.0, 4.0, 4.0, 5.0, 5.0, 4.0, 4.0, 5.0, 4.0, 3.0, 3.0, 3.0, 3.0, 3.0, 3.0, 3.0, 5.0, 3.0], \"yaxis\": \"y\"}, {\"alignmentgroup\": \"True\", \"hoverlabel\": {\"namelength\": 0}, \"hovertemplate\": \"Tag=Yellow<br>question=%{x}<br>AcademicMark=%{y}\", \"legendgroup\": \"Tag=Yellow\", \"marker\": {\"color\": \"#FF6692\"}, \"name\": \"Tag=Yellow\", \"offsetgroup\": \"Tag=Yellow\", \"orientation\": \"v\", \"showlegend\": true, \"textposition\": \"auto\", \"type\": \"bar\", \"x\": [\"how\", \"strong\", \"strong\", \"strong\", \"strong\", \"strong\", \"strong\", \"strong\", \"strong\", \"strong\", \"strong\", \"a\", \"a\", \"strong\", \"what\", \"some\", \"strong\", \"which\", \"complete\", \"a\", \"yellow\", \"strong\", \"rna\", \"identify\", \"a\", \"which\", \"which\", \"p\", \"which\", \"which\", \"p\", \"which\", \"p\", \"which\", \"rna\", \"p\", \"imagine\", \"how\", \"rna\", \"which\", \"which\", \"rna\", \"imagine\", \"p\", \"what\", \"how\", \"which\", \"which\", \"which\", \"how\", \"how\", \"which\", \"how\", \"how\", \"which\", \"how\", \"which\", \"which\", \"how\", \"which\", \"which\", \"which\", \"which\", \"which\", \"how\"], \"xaxis\": \"x\", \"y\": [3.0, 4.0, 4.0, 4.0, 4.0, 4.0, 4.0, 4.0, 4.0, 4.0, 4.0, 5.0, 5.0, 4.0, 3.0, 4.0, 4.0, 4.0, 4.0, 3.0, 3.0, 3.0, 4.0, 4.0, 5.0, 3.0, 3.0, 3.0, 3.0, 3.0, 3.0, 3.0, 3.0, 3.0, 5.0, 3.0, 3.0, 4.0, 5.0, 4.0, 3.0, 5.0, 3.0, 3.0, 4.0, 4.0, 5.0, 5.0, 5.0, 3.0, 3.0, 5.0, 3.0, 3.0, 5.0, 3.0, 5.0, 5.0, 3.0, 4.0, 4.0, 5.0, 5.0, 4.0, 3.0], \"yaxis\": \"y\"}, {\"alignmentgroup\": \"True\", \"hoverlabel\": {\"namelength\": 0}, \"hovertemplate\": \"Tag=Purple<br>question=%{x}<br>AcademicMark=%{y}\", \"legendgroup\": \"Tag=Purple\", \"marker\": {\"color\": \"#B6E880\"}, \"name\": \"Tag=Purple\", \"offsetgroup\": \"Tag=Purple\", \"orientation\": \"v\", \"showlegend\": true, \"textposition\": \"auto\", \"type\": \"bar\", \"x\": [\"which\", \"which\", \"which\", \"which\", \"which\", \"a\", \"which\", \"how\", \"a\", \"which\", \"you\", \"promoter\", \"which\", \"how\", \"mature\", \"mature\"], \"xaxis\": \"x\", \"y\": [5.0, 5.0, 5.0, 5.0, 5.0, 5.0, 5.0, 3.0, 5.0, 5.0, 4.0, 3.0, 5.0, 3.0, 3.0, 3.0], \"yaxis\": \"y\"}, {\"alignmentgroup\": \"True\", \"hoverlabel\": {\"namelength\": 0}, \"hovertemplate\": \"Tag=White<br>question=%{x}<br>AcademicMark=%{y}\", \"legendgroup\": \"Tag=White\", \"marker\": {\"color\": \"#FF97FF\"}, \"name\": \"Tag=White\", \"offsetgroup\": \"Tag=White\", \"orientation\": \"v\", \"showlegend\": true, \"textposition\": \"auto\", \"type\": \"bar\", \"x\": [\"rho\", \"rho\", \"rho\", \"which\", \"rho\", \"rho\", \"which\", \"which\", \"which\", \"which\", \"which\", \"which\", \"which\", \"which\", \"which\", \"which\", \"which\", \"which\", \"which\", \"which\", \"a\", \"as\", \"which\", \"which\", \"which\", \"which\", \"which\"], \"xaxis\": \"x\", \"y\": [3.0, 3.0, 3.0, 4.0, 3.0, 3.0, 4.0, 3.0, 3.0, 3.0, 3.0, 3.0, 3.0, 3.0, 3.0, 3.0, 3.0, 3.0, 3.0, 3.0, 5.0, 5.0, 3.0, 3.0, 3.0, 3.0, 3.0], \"yaxis\": \"y\"}],\n",
              "                        {\"barmode\": \"relative\", \"legend\": {\"tracegroupgap\": 0}, \"margin\": {\"t\": 60}, \"template\": {\"data\": {\"bar\": [{\"error_x\": {\"color\": \"#2a3f5f\"}, \"error_y\": {\"color\": \"#2a3f5f\"}, \"marker\": {\"line\": {\"color\": \"#E5ECF6\", \"width\": 0.5}}, \"type\": \"bar\"}], \"barpolar\": [{\"marker\": {\"line\": {\"color\": \"#E5ECF6\", \"width\": 0.5}}, \"type\": \"barpolar\"}], \"carpet\": [{\"aaxis\": {\"endlinecolor\": \"#2a3f5f\", \"gridcolor\": \"white\", \"linecolor\": \"white\", \"minorgridcolor\": \"white\", \"startlinecolor\": \"#2a3f5f\"}, \"baxis\": {\"endlinecolor\": \"#2a3f5f\", \"gridcolor\": \"white\", \"linecolor\": \"white\", \"minorgridcolor\": \"white\", \"startlinecolor\": \"#2a3f5f\"}, \"type\": \"carpet\"}], \"choropleth\": [{\"colorbar\": {\"outlinewidth\": 0, \"ticks\": \"\"}, \"type\": \"choropleth\"}], \"contour\": [{\"colorbar\": {\"outlinewidth\": 0, \"ticks\": \"\"}, \"colorscale\": [[0.0, \"#0d0887\"], [0.1111111111111111, \"#46039f\"], [0.2222222222222222, \"#7201a8\"], [0.3333333333333333, \"#9c179e\"], [0.4444444444444444, \"#bd3786\"], [0.5555555555555556, \"#d8576b\"], [0.6666666666666666, \"#ed7953\"], [0.7777777777777778, \"#fb9f3a\"], [0.8888888888888888, \"#fdca26\"], [1.0, \"#f0f921\"]], \"type\": \"contour\"}], \"contourcarpet\": [{\"colorbar\": {\"outlinewidth\": 0, \"ticks\": \"\"}, \"type\": \"contourcarpet\"}], \"heatmap\": [{\"colorbar\": {\"outlinewidth\": 0, \"ticks\": \"\"}, \"colorscale\": [[0.0, \"#0d0887\"], [0.1111111111111111, \"#46039f\"], [0.2222222222222222, \"#7201a8\"], [0.3333333333333333, \"#9c179e\"], [0.4444444444444444, \"#bd3786\"], [0.5555555555555556, \"#d8576b\"], [0.6666666666666666, \"#ed7953\"], [0.7777777777777778, \"#fb9f3a\"], [0.8888888888888888, \"#fdca26\"], [1.0, \"#f0f921\"]], \"type\": \"heatmap\"}], \"heatmapgl\": [{\"colorbar\": {\"outlinewidth\": 0, \"ticks\": \"\"}, \"colorscale\": [[0.0, \"#0d0887\"], [0.1111111111111111, \"#46039f\"], [0.2222222222222222, \"#7201a8\"], [0.3333333333333333, \"#9c179e\"], [0.4444444444444444, \"#bd3786\"], [0.5555555555555556, \"#d8576b\"], [0.6666666666666666, \"#ed7953\"], [0.7777777777777778, \"#fb9f3a\"], [0.8888888888888888, \"#fdca26\"], [1.0, \"#f0f921\"]], \"type\": \"heatmapgl\"}], \"histogram\": [{\"marker\": {\"colorbar\": {\"outlinewidth\": 0, \"ticks\": \"\"}}, \"type\": \"histogram\"}], \"histogram2d\": [{\"colorbar\": {\"outlinewidth\": 0, \"ticks\": \"\"}, \"colorscale\": [[0.0, \"#0d0887\"], [0.1111111111111111, \"#46039f\"], [0.2222222222222222, \"#7201a8\"], [0.3333333333333333, \"#9c179e\"], [0.4444444444444444, \"#bd3786\"], [0.5555555555555556, \"#d8576b\"], [0.6666666666666666, \"#ed7953\"], [0.7777777777777778, \"#fb9f3a\"], [0.8888888888888888, \"#fdca26\"], [1.0, \"#f0f921\"]], \"type\": \"histogram2d\"}], \"histogram2dcontour\": [{\"colorbar\": {\"outlinewidth\": 0, \"ticks\": \"\"}, \"colorscale\": [[0.0, \"#0d0887\"], [0.1111111111111111, \"#46039f\"], [0.2222222222222222, \"#7201a8\"], [0.3333333333333333, \"#9c179e\"], [0.4444444444444444, \"#bd3786\"], [0.5555555555555556, \"#d8576b\"], [0.6666666666666666, \"#ed7953\"], [0.7777777777777778, \"#fb9f3a\"], [0.8888888888888888, \"#fdca26\"], [1.0, \"#f0f921\"]], \"type\": \"histogram2dcontour\"}], \"mesh3d\": [{\"colorbar\": {\"outlinewidth\": 0, \"ticks\": \"\"}, \"type\": \"mesh3d\"}], \"parcoords\": [{\"line\": {\"colorbar\": {\"outlinewidth\": 0, \"ticks\": \"\"}}, \"type\": \"parcoords\"}], \"pie\": [{\"automargin\": true, \"type\": \"pie\"}], \"scatter\": [{\"marker\": {\"colorbar\": {\"outlinewidth\": 0, \"ticks\": \"\"}}, \"type\": \"scatter\"}], \"scatter3d\": [{\"line\": {\"colorbar\": {\"outlinewidth\": 0, \"ticks\": \"\"}}, \"marker\": {\"colorbar\": {\"outlinewidth\": 0, \"ticks\": \"\"}}, \"type\": \"scatter3d\"}], \"scattercarpet\": [{\"marker\": {\"colorbar\": {\"outlinewidth\": 0, \"ticks\": \"\"}}, \"type\": \"scattercarpet\"}], \"scattergeo\": [{\"marker\": {\"colorbar\": {\"outlinewidth\": 0, \"ticks\": \"\"}}, \"type\": \"scattergeo\"}], \"scattergl\": [{\"marker\": {\"colorbar\": {\"outlinewidth\": 0, \"ticks\": \"\"}}, \"type\": \"scattergl\"}], \"scattermapbox\": [{\"marker\": {\"colorbar\": {\"outlinewidth\": 0, \"ticks\": \"\"}}, \"type\": \"scattermapbox\"}], \"scatterpolar\": [{\"marker\": {\"colorbar\": {\"outlinewidth\": 0, \"ticks\": \"\"}}, \"type\": \"scatterpolar\"}], \"scatterpolargl\": [{\"marker\": {\"colorbar\": {\"outlinewidth\": 0, \"ticks\": \"\"}}, \"type\": \"scatterpolargl\"}], \"scatterternary\": [{\"marker\": {\"colorbar\": {\"outlinewidth\": 0, \"ticks\": \"\"}}, \"type\": \"scatterternary\"}], \"surface\": [{\"colorbar\": {\"outlinewidth\": 0, \"ticks\": \"\"}, \"colorscale\": [[0.0, \"#0d0887\"], [0.1111111111111111, \"#46039f\"], [0.2222222222222222, \"#7201a8\"], [0.3333333333333333, \"#9c179e\"], [0.4444444444444444, \"#bd3786\"], [0.5555555555555556, \"#d8576b\"], [0.6666666666666666, \"#ed7953\"], [0.7777777777777778, \"#fb9f3a\"], [0.8888888888888888, \"#fdca26\"], [1.0, \"#f0f921\"]], \"type\": \"surface\"}], \"table\": [{\"cells\": {\"fill\": {\"color\": \"#EBF0F8\"}, \"line\": {\"color\": \"white\"}}, \"header\": {\"fill\": {\"color\": \"#C8D4E3\"}, \"line\": {\"color\": \"white\"}}, \"type\": \"table\"}]}, \"layout\": {\"annotationdefaults\": {\"arrowcolor\": \"#2a3f5f\", \"arrowhead\": 0, \"arrowwidth\": 1}, \"coloraxis\": {\"colorbar\": {\"outlinewidth\": 0, \"ticks\": \"\"}}, \"colorscale\": {\"diverging\": [[0, \"#8e0152\"], [0.1, \"#c51b7d\"], [0.2, \"#de77ae\"], [0.3, \"#f1b6da\"], [0.4, \"#fde0ef\"], [0.5, \"#f7f7f7\"], [0.6, \"#e6f5d0\"], [0.7, \"#b8e186\"], [0.8, \"#7fbc41\"], [0.9, \"#4d9221\"], [1, \"#276419\"]], \"sequential\": [[0.0, \"#0d0887\"], [0.1111111111111111, \"#46039f\"], [0.2222222222222222, \"#7201a8\"], [0.3333333333333333, \"#9c179e\"], [0.4444444444444444, \"#bd3786\"], [0.5555555555555556, \"#d8576b\"], [0.6666666666666666, \"#ed7953\"], [0.7777777777777778, \"#fb9f3a\"], [0.8888888888888888, \"#fdca26\"], [1.0, \"#f0f921\"]], \"sequentialminus\": [[0.0, \"#0d0887\"], [0.1111111111111111, \"#46039f\"], [0.2222222222222222, \"#7201a8\"], [0.3333333333333333, \"#9c179e\"], [0.4444444444444444, \"#bd3786\"], [0.5555555555555556, \"#d8576b\"], [0.6666666666666666, \"#ed7953\"], [0.7777777777777778, \"#fb9f3a\"], [0.8888888888888888, \"#fdca26\"], [1.0, \"#f0f921\"]]}, \"colorway\": [\"#636efa\", \"#EF553B\", \"#00cc96\", \"#ab63fa\", \"#FFA15A\", \"#19d3f3\", \"#FF6692\", \"#B6E880\", \"#FF97FF\", \"#FECB52\"], \"font\": {\"color\": \"#2a3f5f\"}, \"geo\": {\"bgcolor\": \"white\", \"lakecolor\": \"white\", \"landcolor\": \"#E5ECF6\", \"showlakes\": true, \"showland\": true, \"subunitcolor\": \"white\"}, \"hoverlabel\": {\"align\": \"left\"}, \"hovermode\": \"closest\", \"mapbox\": {\"style\": \"light\"}, \"paper_bgcolor\": \"white\", \"plot_bgcolor\": \"#E5ECF6\", \"polar\": {\"angularaxis\": {\"gridcolor\": \"white\", \"linecolor\": \"white\", \"ticks\": \"\"}, \"bgcolor\": \"#E5ECF6\", \"radialaxis\": {\"gridcolor\": \"white\", \"linecolor\": \"white\", \"ticks\": \"\"}}, \"scene\": {\"xaxis\": {\"backgroundcolor\": \"#E5ECF6\", \"gridcolor\": \"white\", \"gridwidth\": 2, \"linecolor\": \"white\", \"showbackground\": true, \"ticks\": \"\", \"zerolinecolor\": \"white\"}, \"yaxis\": {\"backgroundcolor\": \"#E5ECF6\", \"gridcolor\": \"white\", \"gridwidth\": 2, \"linecolor\": \"white\", \"showbackground\": true, \"ticks\": \"\", \"zerolinecolor\": \"white\"}, \"zaxis\": {\"backgroundcolor\": \"#E5ECF6\", \"gridcolor\": \"white\", \"gridwidth\": 2, \"linecolor\": \"white\", \"showbackground\": true, \"ticks\": \"\", \"zerolinecolor\": \"white\"}}, \"shapedefaults\": {\"line\": {\"color\": \"#2a3f5f\"}}, \"ternary\": {\"aaxis\": {\"gridcolor\": \"white\", \"linecolor\": \"white\", \"ticks\": \"\"}, \"baxis\": {\"gridcolor\": \"white\", \"linecolor\": \"white\", \"ticks\": \"\"}, \"bgcolor\": \"#E5ECF6\", \"caxis\": {\"gridcolor\": \"white\", \"linecolor\": \"white\", \"ticks\": \"\"}}, \"title\": {\"x\": 0.05}, \"xaxis\": {\"automargin\": true, \"gridcolor\": \"white\", \"linecolor\": \"white\", \"ticks\": \"\", \"title\": {\"standoff\": 15}, \"zerolinecolor\": \"white\", \"zerolinewidth\": 2}, \"yaxis\": {\"automargin\": true, \"gridcolor\": \"white\", \"linecolor\": \"white\", \"ticks\": \"\", \"title\": {\"standoff\": 15}, \"zerolinecolor\": \"white\", \"zerolinewidth\": 2}}}, \"xaxis\": {\"anchor\": \"y\", \"domain\": [0.0, 1.0], \"title\": {\"text\": \"question\"}}, \"yaxis\": {\"anchor\": \"x\", \"domain\": [0.0, 1.0], \"title\": {\"text\": \"AcademicMark\"}}},\n",
              "                        {\"responsive\": true}\n",
              "                    ).then(function(){\n",
              "                            \n",
              "var gd = document.getElementById('6838a9b2-e71d-4d34-a72b-3445e0d8aaec');\n",
              "var x = new MutationObserver(function (mutations, observer) {{\n",
              "        var display = window.getComputedStyle(gd).display;\n",
              "        if (!display || display === 'none') {{\n",
              "            console.log([gd, 'removed!']);\n",
              "            Plotly.purge(gd);\n",
              "            observer.disconnect();\n",
              "        }}\n",
              "}});\n",
              "\n",
              "// Listen for the removal of the full notebook cells\n",
              "var notebookContainer = gd.closest('#notebook-container');\n",
              "if (notebookContainer) {{\n",
              "    x.observe(notebookContainer, {childList: true});\n",
              "}}\n",
              "\n",
              "// Listen for the clearing of the current output cell\n",
              "var outputEl = gd.closest('.output');\n",
              "if (outputEl) {{\n",
              "    x.observe(outputEl, {childList: true});\n",
              "}}\n",
              "\n",
              "                        })\n",
              "                };\n",
              "                \n",
              "            </script>\n",
              "        </div>\n",
              "</body>\n",
              "</html>"
            ]
          },
          "metadata": {
            "tags": []
          }
        }
      ]
    },
    {
      "cell_type": "code",
      "metadata": {
        "id": "9CMzr5KmU4es",
        "outputId": "52f0f299-5677-4515-d51a-564100544368",
        "colab": {
          "base_uri": "https://localhost:8080/",
          "height": 542
        }
      },
      "source": [
        "# Plot a box plot to gain some statistical summary on what each word in the question has on the academic mark.\n",
        "px.box(df123_rslt, x=\"question\", y=\"AcademicMark\")"
      ],
      "execution_count": 88,
      "outputs": [
        {
          "output_type": "display_data",
          "data": {
            "text/html": [
              "<html>\n",
              "<head><meta charset=\"utf-8\" /></head>\n",
              "<body>\n",
              "    <div>\n",
              "            <script src=\"https://cdnjs.cloudflare.com/ajax/libs/mathjax/2.7.5/MathJax.js?config=TeX-AMS-MML_SVG\"></script><script type=\"text/javascript\">if (window.MathJax) {MathJax.Hub.Config({SVG: {font: \"STIX-Web\"}});}</script>\n",
              "                <script type=\"text/javascript\">window.PlotlyConfig = {MathJaxConfig: 'local'};</script>\n",
              "        <script src=\"https://cdn.plot.ly/plotly-latest.min.js\"></script>    \n",
              "            <div id=\"d86e8663-40dd-4b5d-9992-172398c30da0\" class=\"plotly-graph-div\" style=\"height:525px; width:100%;\"></div>\n",
              "            <script type=\"text/javascript\">\n",
              "                \n",
              "                    window.PLOTLYENV=window.PLOTLYENV || {};\n",
              "                    \n",
              "                if (document.getElementById(\"d86e8663-40dd-4b5d-9992-172398c30da0\")) {\n",
              "                    Plotly.newPlot(\n",
              "                        'd86e8663-40dd-4b5d-9992-172398c30da0',\n",
              "                        [{\"alignmentgroup\": \"True\", \"hoverlabel\": {\"namelength\": 0}, \"hovertemplate\": \"question=%{x}<br>AcademicMark=%{y}\", \"legendgroup\": \"\", \"marker\": {\"color\": \"#636efa\"}, \"name\": \"\", \"notched\": false, \"offsetgroup\": \"\", \"orientation\": \"v\", \"showlegend\": false, \"type\": \"box\", \"x\": [\"which\", \"which\", \"green\", \"which\", \"which\", \"green\", \"which\", \"which\", \"green\", \"which\", \"red\", \"which\", \"which\", \"red\", \"the\", \"the\", \"red\", \"the\", \"which\", \"which\", \"green\", \"which\", \"red\", \"red\", \"red\", \"which\", \"red\", \"which\", \"which\", \"the\", \"red\", \"black\", \"which\", \"red\", \"brown\", \"brown\", \"there\", \"red\", \"a\", \"the\", \"during\", \"learning\", \"transcription\", \"rho\", \"a\", \"find\", \"a\", \"the\", \"find\", \"green\", \"pink\", \"brown\", \"a\", \"the\", \"rho\", \"learning\", \"black\", \"both\", \"green\", \"operons\", \"find\", \"what\", \"in\", \"during\", \"which\", \"rifampicin\", \"how\", \"which\", \"rifampicin\", \"the\", \"transcription\", \"a\", \"brown\", \"what\", \"a\", \"pink\", \"during\", \"which\", \"the\", \"which\", \"red\", \"there\", \"strong\", \"which\", \"which\", \"strong\", \"strong\", \"strong\", \"strong\", \"which\", \"which\", \"strong\", \"____\", \"strong\", \"there\", \"strong\", \"strong\", \"there\", \"which\", \"which\", \"which\", \"which\", \"which\", \"strong\", \"which\", \"there\", \"which\", \"which\", \"which\", \"there\", \"which\", \"which\", \"which\", \"which\", \"a\", \"____\", \"a\", \"which\", \"rho\", \"____\", \"a\", \"strong\", \"which\", \"rho\", \"rho\", \"which\", \"how\", \"which\", \"____\", \"which\", \"rho\", \"the\", \"which\", \"a\", \"rho\", \"menopause\", \"which\", \"what\", \"what\", \"some\", \"you\", \"in\", \"for\", \"unlike\", \"promoter\", \"there\", \"which\", \"strong\", \"which\", \"which\", \"complete\", \"black\", \"a\", \"transcription\", \"yellow\", \"strong\", \"which\", \"rna\", \"which\", \"which\", \"why\", \"gene\", \"identify\", \"some\", \"which\", \"which\", \"a\", \"how\", \"complete\", \"red\", \"____\", \"which\", \"which\", \"which\", \"which\", \"img\", \"which\", \"img\", \"find\", \"which\", \"find\", \"which\", \"which\", \"img\", \"p\", \"which\", \"img\", \"which\", \"img\", \"img\", \"after\", \"1\", \"5\", \"below\", \"which\", \"which\", \"find\", \"which\", \"below\", \"img\", \"p\", \"which\", \"p\", \"which\", \"what\", \"which\", \"fill\", \"find\", \"which\", \"fill\", \"img\", \"below\", \"processing\", \"after\", \"processing\", \"1\", \"after\", \"processing\", \"below\", \"processing\", \"below\", \"below\", \"processing\", \"below\", \"which\", \"img\", \"which\", \"which\", \"which\", \"processing\", \"rna\", \"which\", \"alternative\", \"processing\", \"below\", \"after\", \"after\", \"which\", \"which\", \"below\", \"after\", \"1\", \"mature\", \"after\", \"5\", \"p\", \"imagine\", \"how\", \"rna\", \"which\", \"which\", \"which\", \"which\", \"which\", \"find\", \"alternative\", \"which\", \"which\", \"which\", \"which\", \"rna\", \"which\", \"explain\", \"mature\", \"which\", \"below\", \"different\", \"which\", \"5\", \"which\", \"imagine\", \"alternative\", \"a\", \"researchers\", \"what\", \"fill\", \"which\", \"processing\", \"below\", \"as\", \"p\", \"which\", \"1\", \"after\", \"what\", \"after\", \"which\", \"img\", \"mrna\", \"after\", \"find\", \"the\", \"how\", \"alternative\", \"which\", \"which\", \"in\", \"in\", \"in\", \"in\", \"which\", \"if\", \"which\", \"in\", \"which\", \"which\", \"how\", \"which\", \"which\", \"which\", \"how\", \"in\", \"which\", \"which\", \"which\", \"which\", \"which\", \"if\", \"which\", \"in\", \"how\", \"which\", \"if\", \"how\", \"which\", \"which\", \"how\", \"which\", \"consider\", \"which\", \"if\", \"which\", \"which\", \"which\", \"which\", \"which\", \"which\", \"how\", \"which\", \"which\", \"which\", \"if\", \"which\", \"which\", \"which\", \"which\", \"consider\", \"in\", \"serine\", \"which\", \"which\", \"aminoacyl\", \"how\", \"which\", \"for\", \"which\", \"which\", \"which\", \"jade\", \"which\", \"in\", \"there\", \"which\", \"the\", \"if\", \"which\", \"during\", \"why\", \"which\", \"consider\", \"if\", \"which\", \"how\"], \"x0\": \" \", \"xaxis\": \"x\", \"y\": [4.0, 4.0, 4.0, 4.0, 4.0, 4.0, 4.0, 4.0, 4.0, 4.0, 4.0, 3.0, 3.0, 4.0, 4.0, 4.0, 4.0, 4.0, 4.0, 3.0, 4.0, 3.0, 4.0, 4.0, 4.0, 3.0, 4.0, 3.0, 4.0, 4.0, 4.0, 4.0, 3.0, 4.0, 4.0, 4.0, 4.0, 4.0, 3.0, 5.0, 4.0, 4.0, 3.0, 4.0, 5.0, 4.0, 3.0, 5.0, 4.0, 4.0, 3.0, 4.0, 3.0, 5.0, 4.0, 4.0, 4.0, 3.0, 4.0, 3.0, 4.0, 4.0, 3.0, 3.0, 4.0, 4.0, 3.0, 3.0, 4.0, 4.0, 3.0, 5.0, 4.0, 5.0, 5.0, 3.0, 4.0, 5.0, 5.0, 3.0, 4.0, 4.0, 4.0, 3.0, 3.0, 4.0, 4.0, 4.0, 4.0, 3.0, 5.0, 4.0, 3.0, 4.0, 3.0, 4.0, 4.0, 3.0, 3.0, 5.0, 3.0, 3.0, 3.0, 4.0, 3.0, 3.0, 5.0, 5.0, 3.0, 3.0, 3.0, 2.0, 5.0, 3.0, 5.0, 3.0, 5.0, 3.0, 3.0, 3.0, 5.0, 4.0, 3.0, 3.0, 3.0, 5.0, 3.0, 3.0, 3.0, 4.0, 3.0, 5.0, 4.0, 5.0, 3.0, 5.0, 5.0, 2.0, 3.0, 4.0, 4.0, 3.0, 4.0, 5.0, 3.0, 3.0, 4.0, 4.0, 4.0, 2.0, 4.0, 4.0, 3.0, 3.0, 3.0, 3.0, 3.0, 4.0, 3.0, 3.0, 3.0, 4.0, 4.0, 4.0, 5.0, 3.0, 5.0, 3.0, 3.0, 5.0, 3.0, 3.0, 3.0, 3.0, 3.0, 5.0, 3.0, 5.0, 5.0, 4.0, 5.0, 3.0, 3.0, 5.0, 3.0, 3.0, 5.0, 3.0, 5.0, 5.0, 4.0, 4.0, 5.0, 5.0, 3.0, 4.0, 5.0, 3.0, 5.0, 5.0, 3.0, 3.0, 3.0, 3.0, 4.0, 4.0, 5.0, 5.0, 4.0, 5.0, 5.0, 5.0, 4.0, 4.0, 4.0, 4.0, 3.0, 4.0, 5.0, 4.0, 5.0, 5.0, 4.0, 5.0, 3.0, 5.0, 3.0, 3.0, 3.0, 4.0, 5.0, 3.0, 4.0, 4.0, 5.0, 3.0, 4.0, 4.0, 3.0, 5.0, 3.0, 4.0, 3.0, 3.0, 5.0, 3.0, 3.0, 4.0, 5.0, 3.0, 4.0, 4.0, 4.0, 4.0, 5.0, 4.0, 4.0, 4.0, 4.0, 3.0, 5.0, 4.0, 4.0, 3.0, 4.0, 4.0, 4.0, 3.0, 5.0, 4.0, 3.0, 4.0, 5.0, 5.0, 4.0, 5.0, 4.0, 4.0, 5.0, 5.0, 3.0, 3.0, 4.0, 4.0, 4.0, 4.0, 3.0, 5.0, 5.0, 3.0, 5.0, 4.0, 4.0, 4.0, 5.0, 5.0, 3.0, 3.0, 3.0, 3.0, 3.0, 4.0, 5.0, 3.0, 3.0, 4.0, 3.0, 4.0, 4.0, 3.0, 3.0, 3.0, 5.0, 4.0, 3.0, 3.0, 4.0, 4.0, 3.0, 3.0, 3.0, 3.0, 4.0, 3.0, 5.0, 4.0, 3.0, 3.0, 3.0, 3.0, 4.0, 3.0, 5.0, 4.0, 3.0, 3.0, 5.0, 3.0, 4.0, 3.0, 3.0, 4.0, 3.0, 3.0, 4.0, 5.0, 3.0, 3.0, 4.0, 3.0, 4.0, 4.0, 4.0, 5.0, 4.0, 4.0, 4.0, 3.0, 5.0, 3.0, 3.0, 5.0, 3.0, 3.0, 4.0, 3.0, 3.0, 4.0, 3.0, 3.0, 3.0, 5.0, 3.0], \"y0\": \" \", \"yaxis\": \"y\"}],\n",
              "                        {\"boxmode\": \"group\", \"legend\": {\"tracegroupgap\": 0}, \"margin\": {\"t\": 60}, \"template\": {\"data\": {\"bar\": [{\"error_x\": {\"color\": \"#2a3f5f\"}, \"error_y\": {\"color\": \"#2a3f5f\"}, \"marker\": {\"line\": {\"color\": \"#E5ECF6\", \"width\": 0.5}}, \"type\": \"bar\"}], \"barpolar\": [{\"marker\": {\"line\": {\"color\": \"#E5ECF6\", \"width\": 0.5}}, \"type\": \"barpolar\"}], \"carpet\": [{\"aaxis\": {\"endlinecolor\": \"#2a3f5f\", \"gridcolor\": \"white\", \"linecolor\": \"white\", \"minorgridcolor\": \"white\", \"startlinecolor\": \"#2a3f5f\"}, \"baxis\": {\"endlinecolor\": \"#2a3f5f\", \"gridcolor\": \"white\", \"linecolor\": \"white\", \"minorgridcolor\": \"white\", \"startlinecolor\": \"#2a3f5f\"}, \"type\": \"carpet\"}], \"choropleth\": [{\"colorbar\": {\"outlinewidth\": 0, \"ticks\": \"\"}, \"type\": \"choropleth\"}], \"contour\": [{\"colorbar\": {\"outlinewidth\": 0, \"ticks\": \"\"}, \"colorscale\": [[0.0, \"#0d0887\"], [0.1111111111111111, \"#46039f\"], [0.2222222222222222, \"#7201a8\"], [0.3333333333333333, \"#9c179e\"], [0.4444444444444444, \"#bd3786\"], [0.5555555555555556, \"#d8576b\"], [0.6666666666666666, \"#ed7953\"], [0.7777777777777778, \"#fb9f3a\"], [0.8888888888888888, \"#fdca26\"], [1.0, \"#f0f921\"]], \"type\": \"contour\"}], \"contourcarpet\": [{\"colorbar\": {\"outlinewidth\": 0, \"ticks\": \"\"}, \"type\": \"contourcarpet\"}], \"heatmap\": [{\"colorbar\": {\"outlinewidth\": 0, \"ticks\": \"\"}, \"colorscale\": [[0.0, \"#0d0887\"], [0.1111111111111111, \"#46039f\"], [0.2222222222222222, \"#7201a8\"], [0.3333333333333333, \"#9c179e\"], [0.4444444444444444, \"#bd3786\"], [0.5555555555555556, \"#d8576b\"], [0.6666666666666666, \"#ed7953\"], [0.7777777777777778, \"#fb9f3a\"], [0.8888888888888888, \"#fdca26\"], [1.0, \"#f0f921\"]], \"type\": \"heatmap\"}], \"heatmapgl\": [{\"colorbar\": {\"outlinewidth\": 0, \"ticks\": \"\"}, \"colorscale\": [[0.0, \"#0d0887\"], [0.1111111111111111, \"#46039f\"], [0.2222222222222222, \"#7201a8\"], [0.3333333333333333, \"#9c179e\"], [0.4444444444444444, \"#bd3786\"], [0.5555555555555556, \"#d8576b\"], [0.6666666666666666, \"#ed7953\"], [0.7777777777777778, \"#fb9f3a\"], [0.8888888888888888, \"#fdca26\"], [1.0, \"#f0f921\"]], \"type\": \"heatmapgl\"}], \"histogram\": [{\"marker\": {\"colorbar\": {\"outlinewidth\": 0, \"ticks\": \"\"}}, \"type\": \"histogram\"}], \"histogram2d\": [{\"colorbar\": {\"outlinewidth\": 0, \"ticks\": \"\"}, \"colorscale\": [[0.0, \"#0d0887\"], [0.1111111111111111, \"#46039f\"], [0.2222222222222222, \"#7201a8\"], [0.3333333333333333, \"#9c179e\"], [0.4444444444444444, \"#bd3786\"], [0.5555555555555556, \"#d8576b\"], [0.6666666666666666, \"#ed7953\"], [0.7777777777777778, \"#fb9f3a\"], [0.8888888888888888, \"#fdca26\"], [1.0, \"#f0f921\"]], \"type\": \"histogram2d\"}], \"histogram2dcontour\": [{\"colorbar\": {\"outlinewidth\": 0, \"ticks\": \"\"}, \"colorscale\": [[0.0, \"#0d0887\"], [0.1111111111111111, \"#46039f\"], [0.2222222222222222, \"#7201a8\"], [0.3333333333333333, \"#9c179e\"], [0.4444444444444444, \"#bd3786\"], [0.5555555555555556, \"#d8576b\"], [0.6666666666666666, \"#ed7953\"], [0.7777777777777778, \"#fb9f3a\"], [0.8888888888888888, \"#fdca26\"], [1.0, \"#f0f921\"]], \"type\": \"histogram2dcontour\"}], \"mesh3d\": [{\"colorbar\": {\"outlinewidth\": 0, \"ticks\": \"\"}, \"type\": \"mesh3d\"}], \"parcoords\": [{\"line\": {\"colorbar\": {\"outlinewidth\": 0, \"ticks\": \"\"}}, \"type\": \"parcoords\"}], \"pie\": [{\"automargin\": true, \"type\": \"pie\"}], \"scatter\": [{\"marker\": {\"colorbar\": {\"outlinewidth\": 0, \"ticks\": \"\"}}, \"type\": \"scatter\"}], \"scatter3d\": [{\"line\": {\"colorbar\": {\"outlinewidth\": 0, \"ticks\": \"\"}}, \"marker\": {\"colorbar\": {\"outlinewidth\": 0, \"ticks\": \"\"}}, \"type\": \"scatter3d\"}], \"scattercarpet\": [{\"marker\": {\"colorbar\": {\"outlinewidth\": 0, \"ticks\": \"\"}}, \"type\": \"scattercarpet\"}], \"scattergeo\": [{\"marker\": {\"colorbar\": {\"outlinewidth\": 0, \"ticks\": \"\"}}, \"type\": \"scattergeo\"}], \"scattergl\": [{\"marker\": {\"colorbar\": {\"outlinewidth\": 0, \"ticks\": \"\"}}, \"type\": \"scattergl\"}], \"scattermapbox\": [{\"marker\": {\"colorbar\": {\"outlinewidth\": 0, \"ticks\": \"\"}}, \"type\": \"scattermapbox\"}], \"scatterpolar\": [{\"marker\": {\"colorbar\": {\"outlinewidth\": 0, \"ticks\": \"\"}}, \"type\": \"scatterpolar\"}], \"scatterpolargl\": [{\"marker\": {\"colorbar\": {\"outlinewidth\": 0, \"ticks\": \"\"}}, \"type\": \"scatterpolargl\"}], \"scatterternary\": [{\"marker\": {\"colorbar\": {\"outlinewidth\": 0, \"ticks\": \"\"}}, \"type\": \"scatterternary\"}], \"surface\": [{\"colorbar\": {\"outlinewidth\": 0, \"ticks\": \"\"}, \"colorscale\": [[0.0, \"#0d0887\"], [0.1111111111111111, \"#46039f\"], [0.2222222222222222, \"#7201a8\"], [0.3333333333333333, \"#9c179e\"], [0.4444444444444444, \"#bd3786\"], [0.5555555555555556, \"#d8576b\"], [0.6666666666666666, \"#ed7953\"], [0.7777777777777778, \"#fb9f3a\"], [0.8888888888888888, \"#fdca26\"], [1.0, \"#f0f921\"]], \"type\": \"surface\"}], \"table\": [{\"cells\": {\"fill\": {\"color\": \"#EBF0F8\"}, \"line\": {\"color\": \"white\"}}, \"header\": {\"fill\": {\"color\": \"#C8D4E3\"}, \"line\": {\"color\": \"white\"}}, \"type\": \"table\"}]}, \"layout\": {\"annotationdefaults\": {\"arrowcolor\": \"#2a3f5f\", \"arrowhead\": 0, \"arrowwidth\": 1}, \"coloraxis\": {\"colorbar\": {\"outlinewidth\": 0, \"ticks\": \"\"}}, \"colorscale\": {\"diverging\": [[0, \"#8e0152\"], [0.1, \"#c51b7d\"], [0.2, \"#de77ae\"], [0.3, \"#f1b6da\"], [0.4, \"#fde0ef\"], [0.5, \"#f7f7f7\"], [0.6, \"#e6f5d0\"], [0.7, \"#b8e186\"], [0.8, \"#7fbc41\"], [0.9, \"#4d9221\"], [1, \"#276419\"]], \"sequential\": [[0.0, \"#0d0887\"], [0.1111111111111111, \"#46039f\"], [0.2222222222222222, \"#7201a8\"], [0.3333333333333333, \"#9c179e\"], [0.4444444444444444, \"#bd3786\"], [0.5555555555555556, \"#d8576b\"], [0.6666666666666666, \"#ed7953\"], [0.7777777777777778, \"#fb9f3a\"], [0.8888888888888888, \"#fdca26\"], [1.0, \"#f0f921\"]], \"sequentialminus\": [[0.0, \"#0d0887\"], [0.1111111111111111, \"#46039f\"], [0.2222222222222222, \"#7201a8\"], [0.3333333333333333, \"#9c179e\"], [0.4444444444444444, \"#bd3786\"], [0.5555555555555556, \"#d8576b\"], [0.6666666666666666, \"#ed7953\"], [0.7777777777777778, \"#fb9f3a\"], [0.8888888888888888, \"#fdca26\"], [1.0, \"#f0f921\"]]}, \"colorway\": [\"#636efa\", \"#EF553B\", \"#00cc96\", \"#ab63fa\", \"#FFA15A\", \"#19d3f3\", \"#FF6692\", \"#B6E880\", \"#FF97FF\", \"#FECB52\"], \"font\": {\"color\": \"#2a3f5f\"}, \"geo\": {\"bgcolor\": \"white\", \"lakecolor\": \"white\", \"landcolor\": \"#E5ECF6\", \"showlakes\": true, \"showland\": true, \"subunitcolor\": \"white\"}, \"hoverlabel\": {\"align\": \"left\"}, \"hovermode\": \"closest\", \"mapbox\": {\"style\": \"light\"}, \"paper_bgcolor\": \"white\", \"plot_bgcolor\": \"#E5ECF6\", \"polar\": {\"angularaxis\": {\"gridcolor\": \"white\", \"linecolor\": \"white\", \"ticks\": \"\"}, \"bgcolor\": \"#E5ECF6\", \"radialaxis\": {\"gridcolor\": \"white\", \"linecolor\": \"white\", \"ticks\": \"\"}}, \"scene\": {\"xaxis\": {\"backgroundcolor\": \"#E5ECF6\", \"gridcolor\": \"white\", \"gridwidth\": 2, \"linecolor\": \"white\", \"showbackground\": true, \"ticks\": \"\", \"zerolinecolor\": \"white\"}, \"yaxis\": {\"backgroundcolor\": \"#E5ECF6\", \"gridcolor\": \"white\", \"gridwidth\": 2, \"linecolor\": \"white\", \"showbackground\": true, \"ticks\": \"\", \"zerolinecolor\": \"white\"}, \"zaxis\": {\"backgroundcolor\": \"#E5ECF6\", \"gridcolor\": \"white\", \"gridwidth\": 2, \"linecolor\": \"white\", \"showbackground\": true, \"ticks\": \"\", \"zerolinecolor\": \"white\"}}, \"shapedefaults\": {\"line\": {\"color\": \"#2a3f5f\"}}, \"ternary\": {\"aaxis\": {\"gridcolor\": \"white\", \"linecolor\": \"white\", \"ticks\": \"\"}, \"baxis\": {\"gridcolor\": \"white\", \"linecolor\": \"white\", \"ticks\": \"\"}, \"bgcolor\": \"#E5ECF6\", \"caxis\": {\"gridcolor\": \"white\", \"linecolor\": \"white\", \"ticks\": \"\"}}, \"title\": {\"x\": 0.05}, \"xaxis\": {\"automargin\": true, \"gridcolor\": \"white\", \"linecolor\": \"white\", \"ticks\": \"\", \"title\": {\"standoff\": 15}, \"zerolinecolor\": \"white\", \"zerolinewidth\": 2}, \"yaxis\": {\"automargin\": true, \"gridcolor\": \"white\", \"linecolor\": \"white\", \"ticks\": \"\", \"title\": {\"standoff\": 15}, \"zerolinecolor\": \"white\", \"zerolinewidth\": 2}}}, \"xaxis\": {\"anchor\": \"y\", \"domain\": [0.0, 1.0], \"title\": {\"text\": \"question\"}}, \"yaxis\": {\"anchor\": \"x\", \"domain\": [0.0, 1.0], \"title\": {\"text\": \"AcademicMark\"}}},\n",
              "                        {\"responsive\": true}\n",
              "                    ).then(function(){\n",
              "                            \n",
              "var gd = document.getElementById('d86e8663-40dd-4b5d-9992-172398c30da0');\n",
              "var x = new MutationObserver(function (mutations, observer) {{\n",
              "        var display = window.getComputedStyle(gd).display;\n",
              "        if (!display || display === 'none') {{\n",
              "            console.log([gd, 'removed!']);\n",
              "            Plotly.purge(gd);\n",
              "            observer.disconnect();\n",
              "        }}\n",
              "}});\n",
              "\n",
              "// Listen for the removal of the full notebook cells\n",
              "var notebookContainer = gd.closest('#notebook-container');\n",
              "if (notebookContainer) {{\n",
              "    x.observe(notebookContainer, {childList: true});\n",
              "}}\n",
              "\n",
              "// Listen for the clearing of the current output cell\n",
              "var outputEl = gd.closest('.output');\n",
              "if (outputEl) {{\n",
              "    x.observe(outputEl, {childList: true});\n",
              "}}\n",
              "\n",
              "                        })\n",
              "                };\n",
              "                \n",
              "            </script>\n",
              "        </div>\n",
              "</body>\n",
              "</html>"
            ]
          },
          "metadata": {
            "tags": []
          }
        }
      ]
    },
    {
      "cell_type": "markdown",
      "metadata": {
        "id": "6bBqOrRuV6nk"
      },
      "source": [
        "From the boxplot, we can see that the word with the greatest range is 'which' and 'what'. The words with the smallest range and yet the highest academic mark is menopause, unlike, ing, 5, below, fill, researchers, as, mrna and jade."
      ]
    },
    {
      "cell_type": "code",
      "metadata": {
        "id": "g0ql6sk8WQvb",
        "outputId": "e1fd99ed-8665-43b9-c0fe-78428d5a8785",
        "colab": {
          "base_uri": "https://localhost:8080/",
          "height": 542
        }
      },
      "source": [
        "# We will now look into the number of questions submitted and its impact on academic mark\n",
        "px.box(df123_rslt, x=\"Numquestions\", y=\"AcademicMark\")"
      ],
      "execution_count": 89,
      "outputs": [
        {
          "output_type": "display_data",
          "data": {
            "text/html": [
              "<html>\n",
              "<head><meta charset=\"utf-8\" /></head>\n",
              "<body>\n",
              "    <div>\n",
              "            <script src=\"https://cdnjs.cloudflare.com/ajax/libs/mathjax/2.7.5/MathJax.js?config=TeX-AMS-MML_SVG\"></script><script type=\"text/javascript\">if (window.MathJax) {MathJax.Hub.Config({SVG: {font: \"STIX-Web\"}});}</script>\n",
              "                <script type=\"text/javascript\">window.PlotlyConfig = {MathJaxConfig: 'local'};</script>\n",
              "        <script src=\"https://cdn.plot.ly/plotly-latest.min.js\"></script>    \n",
              "            <div id=\"f447bca1-796e-4e06-8877-9d33bf08b081\" class=\"plotly-graph-div\" style=\"height:525px; width:100%;\"></div>\n",
              "            <script type=\"text/javascript\">\n",
              "                \n",
              "                    window.PLOTLYENV=window.PLOTLYENV || {};\n",
              "                    \n",
              "                if (document.getElementById(\"f447bca1-796e-4e06-8877-9d33bf08b081\")) {\n",
              "                    Plotly.newPlot(\n",
              "                        'f447bca1-796e-4e06-8877-9d33bf08b081',\n",
              "                        [{\"alignmentgroup\": \"True\", \"hoverlabel\": {\"namelength\": 0}, \"hovertemplate\": \"Numquestions=%{x}<br>AcademicMark=%{y}\", \"legendgroup\": \"\", \"marker\": {\"color\": \"#636efa\"}, \"name\": \"\", \"notched\": false, \"offsetgroup\": \"\", \"orientation\": \"v\", \"showlegend\": false, \"type\": \"box\", \"x\": [49, 49, 52, 49, 49, 52, 49, 49, 52, 49, 31, 31, 31, 31, 49, 49, 31, 49, 49, 31, 52, 31, 31, 31, 31, 31, 31, 31, 49, 49, 31, 33, 31, 31, 55, 55, 55, 31, 52, 52, 45, 55, 33, 55, 33, 52, 52, 52, 52, 52, 49, 55, 52, 52, 55, 55, 33, 49, 52, 33, 52, 45, 45, 33, 49, 45, 65, 49, 49, 49, 33, 45, 55, 45, 33, 49, 45, 33, 49, 31, 31, 55, 65, 52, 52, 65, 65, 65, 65, 52, 16, 65, 45, 65, 55, 65, 65, 55, 52, 16, 52, 52, 52, 65, 52, 55, 16, 16, 52, 55, 55, 55, 16, 55, 65, 45, 65, 55, 27, 45, 16, 65, 52, 27, 27, 16, 16, 45, 45, 27, 27, 33, 45, 16, 27, 52, 16, 49, 65, 65, 16, 49, 49, 52, 16, 55, 27, 65, 65, 55, 65, 33, 65, 33, 65, 65, 52, 65, 52, 45, 52, 33, 65, 49, 16, 55, 65, 16, 33, 31, 45, 65, 65, 27, 27, 49, 27, 49, 52, 52, 52, 27, 27, 49, 65, 65, 49, 27, 49, 49, 55, 55, 55, 45, 65, 52, 52, 27, 45, 49, 65, 65, 65, 65, 31, 31, 49, 52, 52, 49, 49, 45, 45, 55, 45, 55, 55, 45, 45, 45, 45, 45, 45, 45, 27, 49, 27, 27, 27, 45, 65, 27, 45, 45, 45, 55, 55, 31, 27, 45, 55, 55, 16, 55, 55, 65, 65, 65, 65, 31, 52, 52, 52, 52, 52, 49, 52, 65, 33, 65, 65, 31, 49, 16, 52, 49, 31, 31, 55, 49, 65, 45, 27, 49, 31, 49, 52, 45, 45, 27, 65, 27, 55, 55, 65, 45, 27, 49, 49, 55, 52, 49, 65, 49, 65, 65, 45, 45, 45, 45, 55, 55, 65, 45, 33, 33, 65, 33, 33, 33, 65, 45, 65, 33, 33, 55, 33, 55, 33, 45, 65, 55, 55, 65, 65, 33, 65, 33, 49, 55, 55, 55, 65, 33, 33, 52, 65, 65, 65, 55, 55, 55, 27, 27, 65, 65, 49, 31, 55, 33, 33, 31, 33, 65, 52, 55, 65, 52, 45, 33, 45, 31, 55, 52, 55, 27, 52, 52, 55, 49, 55, 33, 65], \"x0\": \" \", \"xaxis\": \"x\", \"y\": [4.0, 4.0, 4.0, 4.0, 4.0, 4.0, 4.0, 4.0, 4.0, 4.0, 4.0, 3.0, 3.0, 4.0, 4.0, 4.0, 4.0, 4.0, 4.0, 3.0, 4.0, 3.0, 4.0, 4.0, 4.0, 3.0, 4.0, 3.0, 4.0, 4.0, 4.0, 4.0, 3.0, 4.0, 4.0, 4.0, 4.0, 4.0, 3.0, 5.0, 4.0, 4.0, 3.0, 4.0, 5.0, 4.0, 3.0, 5.0, 4.0, 4.0, 3.0, 4.0, 3.0, 5.0, 4.0, 4.0, 4.0, 3.0, 4.0, 3.0, 4.0, 4.0, 3.0, 3.0, 4.0, 4.0, 3.0, 3.0, 4.0, 4.0, 3.0, 5.0, 4.0, 5.0, 5.0, 3.0, 4.0, 5.0, 5.0, 3.0, 4.0, 4.0, 4.0, 3.0, 3.0, 4.0, 4.0, 4.0, 4.0, 3.0, 5.0, 4.0, 3.0, 4.0, 3.0, 4.0, 4.0, 3.0, 3.0, 5.0, 3.0, 3.0, 3.0, 4.0, 3.0, 3.0, 5.0, 5.0, 3.0, 3.0, 3.0, 2.0, 5.0, 3.0, 5.0, 3.0, 5.0, 3.0, 3.0, 3.0, 5.0, 4.0, 3.0, 3.0, 3.0, 5.0, 3.0, 3.0, 3.0, 4.0, 3.0, 5.0, 4.0, 5.0, 3.0, 5.0, 5.0, 2.0, 3.0, 4.0, 4.0, 3.0, 4.0, 5.0, 3.0, 3.0, 4.0, 4.0, 4.0, 2.0, 4.0, 4.0, 3.0, 3.0, 3.0, 3.0, 3.0, 4.0, 3.0, 3.0, 3.0, 4.0, 4.0, 4.0, 5.0, 3.0, 5.0, 3.0, 3.0, 5.0, 3.0, 3.0, 3.0, 3.0, 3.0, 5.0, 3.0, 5.0, 5.0, 4.0, 5.0, 3.0, 3.0, 5.0, 3.0, 3.0, 5.0, 3.0, 5.0, 5.0, 4.0, 4.0, 5.0, 5.0, 3.0, 4.0, 5.0, 3.0, 5.0, 5.0, 3.0, 3.0, 3.0, 3.0, 4.0, 4.0, 5.0, 5.0, 4.0, 5.0, 5.0, 5.0, 4.0, 4.0, 4.0, 4.0, 3.0, 4.0, 5.0, 4.0, 5.0, 5.0, 4.0, 5.0, 3.0, 5.0, 3.0, 3.0, 3.0, 4.0, 5.0, 3.0, 4.0, 4.0, 5.0, 3.0, 4.0, 4.0, 3.0, 5.0, 3.0, 4.0, 3.0, 3.0, 5.0, 3.0, 3.0, 4.0, 5.0, 3.0, 4.0, 4.0, 4.0, 4.0, 5.0, 4.0, 4.0, 4.0, 4.0, 3.0, 5.0, 4.0, 4.0, 3.0, 4.0, 4.0, 4.0, 3.0, 5.0, 4.0, 3.0, 4.0, 5.0, 5.0, 4.0, 5.0, 4.0, 4.0, 5.0, 5.0, 3.0, 3.0, 4.0, 4.0, 4.0, 4.0, 3.0, 5.0, 5.0, 3.0, 5.0, 4.0, 4.0, 4.0, 5.0, 5.0, 3.0, 3.0, 3.0, 3.0, 3.0, 4.0, 5.0, 3.0, 3.0, 4.0, 3.0, 4.0, 4.0, 3.0, 3.0, 3.0, 5.0, 4.0, 3.0, 3.0, 4.0, 4.0, 3.0, 3.0, 3.0, 3.0, 4.0, 3.0, 5.0, 4.0, 3.0, 3.0, 3.0, 3.0, 4.0, 3.0, 5.0, 4.0, 3.0, 3.0, 5.0, 3.0, 4.0, 3.0, 3.0, 4.0, 3.0, 3.0, 4.0, 5.0, 3.0, 3.0, 4.0, 3.0, 4.0, 4.0, 4.0, 5.0, 4.0, 4.0, 4.0, 3.0, 5.0, 3.0, 3.0, 5.0, 3.0, 3.0, 4.0, 3.0, 3.0, 4.0, 3.0, 3.0, 3.0, 5.0, 3.0], \"y0\": \" \", \"yaxis\": \"y\"}],\n",
              "                        {\"boxmode\": \"group\", \"legend\": {\"tracegroupgap\": 0}, \"margin\": {\"t\": 60}, \"template\": {\"data\": {\"bar\": [{\"error_x\": {\"color\": \"#2a3f5f\"}, \"error_y\": {\"color\": \"#2a3f5f\"}, \"marker\": {\"line\": {\"color\": \"#E5ECF6\", \"width\": 0.5}}, \"type\": \"bar\"}], \"barpolar\": [{\"marker\": {\"line\": {\"color\": \"#E5ECF6\", \"width\": 0.5}}, \"type\": \"barpolar\"}], \"carpet\": [{\"aaxis\": {\"endlinecolor\": \"#2a3f5f\", \"gridcolor\": \"white\", \"linecolor\": \"white\", \"minorgridcolor\": \"white\", \"startlinecolor\": \"#2a3f5f\"}, \"baxis\": {\"endlinecolor\": \"#2a3f5f\", \"gridcolor\": \"white\", \"linecolor\": \"white\", \"minorgridcolor\": \"white\", \"startlinecolor\": \"#2a3f5f\"}, \"type\": \"carpet\"}], \"choropleth\": [{\"colorbar\": {\"outlinewidth\": 0, \"ticks\": \"\"}, \"type\": \"choropleth\"}], \"contour\": [{\"colorbar\": {\"outlinewidth\": 0, \"ticks\": \"\"}, \"colorscale\": [[0.0, \"#0d0887\"], [0.1111111111111111, \"#46039f\"], [0.2222222222222222, \"#7201a8\"], [0.3333333333333333, \"#9c179e\"], [0.4444444444444444, \"#bd3786\"], [0.5555555555555556, \"#d8576b\"], [0.6666666666666666, \"#ed7953\"], [0.7777777777777778, \"#fb9f3a\"], [0.8888888888888888, \"#fdca26\"], [1.0, \"#f0f921\"]], \"type\": \"contour\"}], \"contourcarpet\": [{\"colorbar\": {\"outlinewidth\": 0, \"ticks\": \"\"}, \"type\": \"contourcarpet\"}], \"heatmap\": [{\"colorbar\": {\"outlinewidth\": 0, \"ticks\": \"\"}, \"colorscale\": [[0.0, \"#0d0887\"], [0.1111111111111111, \"#46039f\"], [0.2222222222222222, \"#7201a8\"], [0.3333333333333333, \"#9c179e\"], [0.4444444444444444, \"#bd3786\"], [0.5555555555555556, \"#d8576b\"], [0.6666666666666666, \"#ed7953\"], [0.7777777777777778, \"#fb9f3a\"], [0.8888888888888888, \"#fdca26\"], [1.0, \"#f0f921\"]], \"type\": \"heatmap\"}], \"heatmapgl\": [{\"colorbar\": {\"outlinewidth\": 0, \"ticks\": \"\"}, \"colorscale\": [[0.0, \"#0d0887\"], [0.1111111111111111, \"#46039f\"], [0.2222222222222222, \"#7201a8\"], [0.3333333333333333, \"#9c179e\"], [0.4444444444444444, \"#bd3786\"], [0.5555555555555556, \"#d8576b\"], [0.6666666666666666, \"#ed7953\"], [0.7777777777777778, \"#fb9f3a\"], [0.8888888888888888, \"#fdca26\"], [1.0, \"#f0f921\"]], \"type\": \"heatmapgl\"}], \"histogram\": [{\"marker\": {\"colorbar\": {\"outlinewidth\": 0, \"ticks\": \"\"}}, \"type\": \"histogram\"}], \"histogram2d\": [{\"colorbar\": {\"outlinewidth\": 0, \"ticks\": \"\"}, \"colorscale\": [[0.0, \"#0d0887\"], [0.1111111111111111, \"#46039f\"], [0.2222222222222222, \"#7201a8\"], [0.3333333333333333, \"#9c179e\"], [0.4444444444444444, \"#bd3786\"], [0.5555555555555556, \"#d8576b\"], [0.6666666666666666, \"#ed7953\"], [0.7777777777777778, \"#fb9f3a\"], [0.8888888888888888, \"#fdca26\"], [1.0, \"#f0f921\"]], \"type\": \"histogram2d\"}], \"histogram2dcontour\": [{\"colorbar\": {\"outlinewidth\": 0, \"ticks\": \"\"}, \"colorscale\": [[0.0, \"#0d0887\"], [0.1111111111111111, \"#46039f\"], [0.2222222222222222, \"#7201a8\"], [0.3333333333333333, \"#9c179e\"], [0.4444444444444444, \"#bd3786\"], [0.5555555555555556, \"#d8576b\"], [0.6666666666666666, \"#ed7953\"], [0.7777777777777778, \"#fb9f3a\"], [0.8888888888888888, \"#fdca26\"], [1.0, \"#f0f921\"]], \"type\": \"histogram2dcontour\"}], \"mesh3d\": [{\"colorbar\": {\"outlinewidth\": 0, \"ticks\": \"\"}, \"type\": \"mesh3d\"}], \"parcoords\": [{\"line\": {\"colorbar\": {\"outlinewidth\": 0, \"ticks\": \"\"}}, \"type\": \"parcoords\"}], \"pie\": [{\"automargin\": true, \"type\": \"pie\"}], \"scatter\": [{\"marker\": {\"colorbar\": {\"outlinewidth\": 0, \"ticks\": \"\"}}, \"type\": \"scatter\"}], \"scatter3d\": [{\"line\": {\"colorbar\": {\"outlinewidth\": 0, \"ticks\": \"\"}}, \"marker\": {\"colorbar\": {\"outlinewidth\": 0, \"ticks\": \"\"}}, \"type\": \"scatter3d\"}], \"scattercarpet\": [{\"marker\": {\"colorbar\": {\"outlinewidth\": 0, \"ticks\": \"\"}}, \"type\": \"scattercarpet\"}], \"scattergeo\": [{\"marker\": {\"colorbar\": {\"outlinewidth\": 0, \"ticks\": \"\"}}, \"type\": \"scattergeo\"}], \"scattergl\": [{\"marker\": {\"colorbar\": {\"outlinewidth\": 0, \"ticks\": \"\"}}, \"type\": \"scattergl\"}], \"scattermapbox\": [{\"marker\": {\"colorbar\": {\"outlinewidth\": 0, \"ticks\": \"\"}}, \"type\": \"scattermapbox\"}], \"scatterpolar\": [{\"marker\": {\"colorbar\": {\"outlinewidth\": 0, \"ticks\": \"\"}}, \"type\": \"scatterpolar\"}], \"scatterpolargl\": [{\"marker\": {\"colorbar\": {\"outlinewidth\": 0, \"ticks\": \"\"}}, \"type\": \"scatterpolargl\"}], \"scatterternary\": [{\"marker\": {\"colorbar\": {\"outlinewidth\": 0, \"ticks\": \"\"}}, \"type\": \"scatterternary\"}], \"surface\": [{\"colorbar\": {\"outlinewidth\": 0, \"ticks\": \"\"}, \"colorscale\": [[0.0, \"#0d0887\"], [0.1111111111111111, \"#46039f\"], [0.2222222222222222, \"#7201a8\"], [0.3333333333333333, \"#9c179e\"], [0.4444444444444444, \"#bd3786\"], [0.5555555555555556, \"#d8576b\"], [0.6666666666666666, \"#ed7953\"], [0.7777777777777778, \"#fb9f3a\"], [0.8888888888888888, \"#fdca26\"], [1.0, \"#f0f921\"]], \"type\": \"surface\"}], \"table\": [{\"cells\": {\"fill\": {\"color\": \"#EBF0F8\"}, \"line\": {\"color\": \"white\"}}, \"header\": {\"fill\": {\"color\": \"#C8D4E3\"}, \"line\": {\"color\": \"white\"}}, \"type\": \"table\"}]}, \"layout\": {\"annotationdefaults\": {\"arrowcolor\": \"#2a3f5f\", \"arrowhead\": 0, \"arrowwidth\": 1}, \"coloraxis\": {\"colorbar\": {\"outlinewidth\": 0, \"ticks\": \"\"}}, \"colorscale\": {\"diverging\": [[0, \"#8e0152\"], [0.1, \"#c51b7d\"], [0.2, \"#de77ae\"], [0.3, \"#f1b6da\"], [0.4, \"#fde0ef\"], [0.5, \"#f7f7f7\"], [0.6, \"#e6f5d0\"], [0.7, \"#b8e186\"], [0.8, \"#7fbc41\"], [0.9, \"#4d9221\"], [1, \"#276419\"]], \"sequential\": [[0.0, \"#0d0887\"], [0.1111111111111111, \"#46039f\"], [0.2222222222222222, \"#7201a8\"], [0.3333333333333333, \"#9c179e\"], [0.4444444444444444, \"#bd3786\"], [0.5555555555555556, \"#d8576b\"], [0.6666666666666666, \"#ed7953\"], [0.7777777777777778, \"#fb9f3a\"], [0.8888888888888888, \"#fdca26\"], [1.0, \"#f0f921\"]], \"sequentialminus\": [[0.0, \"#0d0887\"], [0.1111111111111111, \"#46039f\"], [0.2222222222222222, \"#7201a8\"], [0.3333333333333333, \"#9c179e\"], [0.4444444444444444, \"#bd3786\"], [0.5555555555555556, \"#d8576b\"], [0.6666666666666666, \"#ed7953\"], [0.7777777777777778, \"#fb9f3a\"], [0.8888888888888888, \"#fdca26\"], [1.0, \"#f0f921\"]]}, \"colorway\": [\"#636efa\", \"#EF553B\", \"#00cc96\", \"#ab63fa\", \"#FFA15A\", \"#19d3f3\", \"#FF6692\", \"#B6E880\", \"#FF97FF\", \"#FECB52\"], \"font\": {\"color\": \"#2a3f5f\"}, \"geo\": {\"bgcolor\": \"white\", \"lakecolor\": \"white\", \"landcolor\": \"#E5ECF6\", \"showlakes\": true, \"showland\": true, \"subunitcolor\": \"white\"}, \"hoverlabel\": {\"align\": \"left\"}, \"hovermode\": \"closest\", \"mapbox\": {\"style\": \"light\"}, \"paper_bgcolor\": \"white\", \"plot_bgcolor\": \"#E5ECF6\", \"polar\": {\"angularaxis\": {\"gridcolor\": \"white\", \"linecolor\": \"white\", \"ticks\": \"\"}, \"bgcolor\": \"#E5ECF6\", \"radialaxis\": {\"gridcolor\": \"white\", \"linecolor\": \"white\", \"ticks\": \"\"}}, \"scene\": {\"xaxis\": {\"backgroundcolor\": \"#E5ECF6\", \"gridcolor\": \"white\", \"gridwidth\": 2, \"linecolor\": \"white\", \"showbackground\": true, \"ticks\": \"\", \"zerolinecolor\": \"white\"}, \"yaxis\": {\"backgroundcolor\": \"#E5ECF6\", \"gridcolor\": \"white\", \"gridwidth\": 2, \"linecolor\": \"white\", \"showbackground\": true, \"ticks\": \"\", \"zerolinecolor\": \"white\"}, \"zaxis\": {\"backgroundcolor\": \"#E5ECF6\", \"gridcolor\": \"white\", \"gridwidth\": 2, \"linecolor\": \"white\", \"showbackground\": true, \"ticks\": \"\", \"zerolinecolor\": \"white\"}}, \"shapedefaults\": {\"line\": {\"color\": \"#2a3f5f\"}}, \"ternary\": {\"aaxis\": {\"gridcolor\": \"white\", \"linecolor\": \"white\", \"ticks\": \"\"}, \"baxis\": {\"gridcolor\": \"white\", \"linecolor\": \"white\", \"ticks\": \"\"}, \"bgcolor\": \"#E5ECF6\", \"caxis\": {\"gridcolor\": \"white\", \"linecolor\": \"white\", \"ticks\": \"\"}}, \"title\": {\"x\": 0.05}, \"xaxis\": {\"automargin\": true, \"gridcolor\": \"white\", \"linecolor\": \"white\", \"ticks\": \"\", \"title\": {\"standoff\": 15}, \"zerolinecolor\": \"white\", \"zerolinewidth\": 2}, \"yaxis\": {\"automargin\": true, \"gridcolor\": \"white\", \"linecolor\": \"white\", \"ticks\": \"\", \"title\": {\"standoff\": 15}, \"zerolinecolor\": \"white\", \"zerolinewidth\": 2}}}, \"xaxis\": {\"anchor\": \"y\", \"domain\": [0.0, 1.0], \"title\": {\"text\": \"Numquestions\"}}, \"yaxis\": {\"anchor\": \"x\", \"domain\": [0.0, 1.0], \"title\": {\"text\": \"AcademicMark\"}}},\n",
              "                        {\"responsive\": true}\n",
              "                    ).then(function(){\n",
              "                            \n",
              "var gd = document.getElementById('f447bca1-796e-4e06-8877-9d33bf08b081');\n",
              "var x = new MutationObserver(function (mutations, observer) {{\n",
              "        var display = window.getComputedStyle(gd).display;\n",
              "        if (!display || display === 'none') {{\n",
              "            console.log([gd, 'removed!']);\n",
              "            Plotly.purge(gd);\n",
              "            observer.disconnect();\n",
              "        }}\n",
              "}});\n",
              "\n",
              "// Listen for the removal of the full notebook cells\n",
              "var notebookContainer = gd.closest('#notebook-container');\n",
              "if (notebookContainer) {{\n",
              "    x.observe(notebookContainer, {childList: true});\n",
              "}}\n",
              "\n",
              "// Listen for the clearing of the current output cell\n",
              "var outputEl = gd.closest('.output');\n",
              "if (outputEl) {{\n",
              "    x.observe(outputEl, {childList: true});\n",
              "}}\n",
              "\n",
              "                        })\n",
              "                };\n",
              "                \n",
              "            </script>\n",
              "        </div>\n",
              "</body>\n",
              "</html>"
            ]
          },
          "metadata": {
            "tags": []
          }
        }
      ]
    },
    {
      "cell_type": "markdown",
      "metadata": {
        "id": "YRuVmQJ7WYxo"
      },
      "source": [
        "The boxplot indicates that having a higher number of questions does not necessarily infer a higher academic mark. The highest median for academic mark relates to the lowest number of questions submitted."
      ]
    }
  ]
}
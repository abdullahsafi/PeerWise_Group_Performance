{
  "nbformat": 4,
  "nbformat_minor": 0,
  "metadata": {
    "colab": {
      "name": "Johanna_Wk10Mini.ipynb",
      "provenance": [],
      "collapsed_sections": []
    },
    "kernelspec": {
      "name": "python3",
      "display_name": "Python 3"
    }
  },
  "cells": [
    {
      "cell_type": "markdown",
      "metadata": {
        "id": "fh_Aj9pVsqzK"
      },
      "source": [
        "# Basic and Brief code suited for Text processing\n",
        "\n",
        "In this very short notebook, the aim is to experiment and determine whether text processing such as tokenisation , stop word processing etc. can be applied at a larger scale\n",
        "\n",
        "We begin by importing some of the needed packages:"
      ]
    },
    {
      "cell_type": "code",
      "metadata": {
        "id": "GvJvxktGrgBL"
      },
      "source": [
        "#importing wanted libraries\n",
        "import pandas as pd\n",
        "import numpy as np\n",
        "import matplotlib.pyplot as plt"
      ],
      "execution_count": 2,
      "outputs": []
    },
    {
      "cell_type": "markdown",
      "metadata": {
        "id": "uVv_y8hptHg5"
      },
      "source": [
        "Here we read in the 'Comments' Dataset and work with only subset of the data\n"
      ]
    },
    {
      "cell_type": "code",
      "metadata": {
        "id": "VI03B3WLxOCa",
        "outputId": "135b77b7-19e8-4a23-abf5-92790966ac59",
        "colab": {
          "base_uri": "https://localhost:8080/",
          "height": 359
        }
      },
      "source": [
        "comments = pd.read_excel(\"/content/drive/My Drive/Colab Notebooks/ASSIGNMENT 2/data/C4Comments.xlsx\")\n",
        "comments.head(n=10)"
      ],
      "execution_count": 20,
      "outputs": [
        {
          "output_type": "execute_result",
          "data": {
            "text/html": [
              "<div>\n",
              "<style scoped>\n",
              "    .dataframe tbody tr th:only-of-type {\n",
              "        vertical-align: middle;\n",
              "    }\n",
              "\n",
              "    .dataframe tbody tr th {\n",
              "        vertical-align: top;\n",
              "    }\n",
              "\n",
              "    .dataframe thead th {\n",
              "        text-align: right;\n",
              "    }\n",
              "</style>\n",
              "<table border=\"1\" class=\"dataframe\">\n",
              "  <thead>\n",
              "    <tr style=\"text-align: right;\">\n",
              "      <th></th>\n",
              "      <th>Comment_ID</th>\n",
              "      <th>course_id</th>\n",
              "      <th>Timestamp</th>\n",
              "      <th>user</th>\n",
              "      <th>Question_ID</th>\n",
              "      <th>Comment</th>\n",
              "    </tr>\n",
              "  </thead>\n",
              "  <tbody>\n",
              "    <tr>\n",
              "      <th>0</th>\n",
              "      <td>7197674</td>\n",
              "      <td>21320</td>\n",
              "      <td>2020-04-30 19:57:28</td>\n",
              "      <td>635978</td>\n",
              "      <td>4470201</td>\n",
              "      <td>This is a good question, i do think it's a lit...</td>\n",
              "    </tr>\n",
              "    <tr>\n",
              "      <th>1</th>\n",
              "      <td>7197679</td>\n",
              "      <td>21320</td>\n",
              "      <td>2020-04-30 20:00:46</td>\n",
              "      <td>635978</td>\n",
              "      <td>4468999</td>\n",
              "      <td>This is a really good question, i like the str...</td>\n",
              "    </tr>\n",
              "    <tr>\n",
              "      <th>2</th>\n",
              "      <td>7199285</td>\n",
              "      <td>21320</td>\n",
              "      <td>2020-05-01 15:43:35</td>\n",
              "      <td>636026</td>\n",
              "      <td>4471345</td>\n",
              "      <td>It is a good question. Slightly tricky but not...</td>\n",
              "    </tr>\n",
              "    <tr>\n",
              "      <th>3</th>\n",
              "      <td>7202419</td>\n",
              "      <td>21320</td>\n",
              "      <td>2020-05-03 13:28:57</td>\n",
              "      <td>635990</td>\n",
              "      <td>4472540</td>\n",
              "      <td>I think this is a really good question! I thin...</td>\n",
              "    </tr>\n",
              "    <tr>\n",
              "      <th>4</th>\n",
              "      <td>7202425</td>\n",
              "      <td>21320</td>\n",
              "      <td>2020-05-03 13:34:57</td>\n",
              "      <td>635990</td>\n",
              "      <td>4472481</td>\n",
              "      <td>This question requires the students to recall ...</td>\n",
              "    </tr>\n",
              "    <tr>\n",
              "      <th>5</th>\n",
              "      <td>7202447</td>\n",
              "      <td>21320</td>\n",
              "      <td>2020-05-03 13:52:47</td>\n",
              "      <td>635990</td>\n",
              "      <td>4472418</td>\n",
              "      <td>This question requires quite specific and deta...</td>\n",
              "    </tr>\n",
              "    <tr>\n",
              "      <th>6</th>\n",
              "      <td>7202548</td>\n",
              "      <td>21320</td>\n",
              "      <td>2020-05-03 16:38:30</td>\n",
              "      <td>636007</td>\n",
              "      <td>4468332</td>\n",
              "      <td>I think this question was quite good. The ques...</td>\n",
              "    </tr>\n",
              "    <tr>\n",
              "      <th>7</th>\n",
              "      <td>7204388</td>\n",
              "      <td>21320</td>\n",
              "      <td>2020-05-04 16:43:37</td>\n",
              "      <td>636020</td>\n",
              "      <td>4468400</td>\n",
              "      <td>I like the style of this question in having to...</td>\n",
              "    </tr>\n",
              "    <tr>\n",
              "      <th>8</th>\n",
              "      <td>7204405</td>\n",
              "      <td>21320</td>\n",
              "      <td>2020-05-04 16:54:47</td>\n",
              "      <td>636020</td>\n",
              "      <td>4469950</td>\n",
              "      <td>I think this question would benefit from rewor...</td>\n",
              "    </tr>\n",
              "    <tr>\n",
              "      <th>9</th>\n",
              "      <td>7205230</td>\n",
              "      <td>21320</td>\n",
              "      <td>2020-05-05 00:09:07</td>\n",
              "      <td>635993</td>\n",
              "      <td>4475427</td>\n",
              "      <td>This question is very easy, while it is very r...</td>\n",
              "    </tr>\n",
              "  </tbody>\n",
              "</table>\n",
              "</div>"
            ],
            "text/plain": [
              "   Comment_ID  ...                                            Comment\n",
              "0     7197674  ...  This is a good question, i do think it's a lit...\n",
              "1     7197679  ...  This is a really good question, i like the str...\n",
              "2     7199285  ...  It is a good question. Slightly tricky but not...\n",
              "3     7202419  ...  I think this is a really good question! I thin...\n",
              "4     7202425  ...  This question requires the students to recall ...\n",
              "5     7202447  ...  This question requires quite specific and deta...\n",
              "6     7202548  ...  I think this question was quite good. The ques...\n",
              "7     7204388  ...  I like the style of this question in having to...\n",
              "8     7204405  ...  I think this question would benefit from rewor...\n",
              "9     7205230  ...  This question is very easy, while it is very r...\n",
              "\n",
              "[10 rows x 6 columns]"
            ]
          },
          "metadata": {
            "tags": []
          },
          "execution_count": 20
        }
      ]
    },
    {
      "cell_type": "markdown",
      "metadata": {
        "id": "IV4zQqxKx8pF"
      },
      "source": [
        "### Key observations:\n",
        "\n",
        "From this brief snapshot we can observe a couple of things:\n",
        "- the respective `Comment_ID`\n",
        "- the `course_id` and `Timestamp` variables (not pertinent to this current analysis)\n",
        "- The corresponding `Question_Id` \n",
        "- The most pertinent column: `Comment`\n",
        "\n",
        "\n",
        "- In the comments column we can straight away observe that there are a few \"stop words\" we can immediately clean up such as:\n",
        "  - I, is, a, the, to\n",
        "  - 'Question', think, having\n",
        "\n",
        "- The words of interest could possibly be:\n",
        "  - easy, hard, good ,bad, tricky\n",
        "  - recall\n",
        "  - **Actionable words**:\n",
        "    - benefit, rewording, misleading, confusing, difficult\n",
        "    - suggest\n",
        "\n",
        "\n",
        "- We will also need to find the root words/ words that have similiar meaning to eachother"
      ]
    },
    {
      "cell_type": "code",
      "metadata": {
        "id": "xxZrjQTIzHFf",
        "outputId": "79c802dd-973a-494f-97d4-feb77638fe98",
        "colab": {
          "base_uri": "https://localhost:8080/"
        }
      },
      "source": [
        "comments['Comment'].head(n=30)"
      ],
      "execution_count": 21,
      "outputs": [
        {
          "output_type": "execute_result",
          "data": {
            "text/plain": [
              "0     This is a good question, i do think it's a lit...\n",
              "1     This is a really good question, i like the str...\n",
              "2     It is a good question. Slightly tricky but not...\n",
              "3     I think this is a really good question! I thin...\n",
              "4     This question requires the students to recall ...\n",
              "5     This question requires quite specific and deta...\n",
              "6     I think this question was quite good. The ques...\n",
              "7     I like the style of this question in having to...\n",
              "8     I think this question would benefit from rewor...\n",
              "9     This question is very easy, while it is very r...\n",
              "10    I liked this question, however i was unsure of...\n",
              "11    This question is good but only tests basic rec...\n",
              "12    The question was straight-forward and requires...\n",
              "13    The question has plausible options that are wo...\n",
              "14    The question was a bit difficult, which is goo...\n",
              "15    It would be really helpful if you further expl...\n",
              "16    I think option C is quite misleading; I chose ...\n",
              "17    I think this question is worded a bit confusin...\n",
              "18    I think this question is quite good! It is wor...\n",
              "19    I think this metaphor is really interesting an...\n",
              "20    The style of the question is really good but t...\n",
              "21    I think this is a good question but you should...\n",
              "22    I can get a good idea of what you are trying t...\n",
              "23    This question is difficult because every optio...\n",
              "24    This question is very easy but mainly because ...\n",
              "25    I think this is a good question. I don't see m...\n",
              "26    I think the question, options and explanation ...\n",
              "27    I like this question. I suggest possibly givin...\n",
              "28    I thought this was a really good question! it ...\n",
              "29    while the question is good, A and B were very ...\n",
              "Name: Comment, dtype: object"
            ]
          },
          "metadata": {
            "tags": []
          },
          "execution_count": 21
        }
      ]
    },
    {
      "cell_type": "markdown",
      "metadata": {
        "id": "z9UCuyJFzrxb"
      },
      "source": [
        "## Preliminary text transformation\n",
        "\n",
        "Here I will cast each row in the `comments['Comment]` column to a string as a pre-step to tokenisation."
      ]
    },
    {
      "cell_type": "code",
      "metadata": {
        "id": "DXrzleU50DeZ",
        "outputId": "749932aa-bfc4-448f-8cc3-73803eefcd5d",
        "colab": {
          "base_uri": "https://localhost:8080/",
          "height": 154
        }
      },
      "source": [
        "# Convert to list\n",
        "comments_ls = comments['Comment'].tolist()\n",
        "\n",
        "# viewing an example:\n",
        "comments_ls[100]\n",
        "\n"
      ],
      "execution_count": 25,
      "outputs": [
        {
          "output_type": "execute_result",
          "data": {
            "application/vnd.google.colaboratory.intrinsic+json": {
              "type": "string"
            },
            "text/plain": [
              "'When reading this question I got too distracted by reading the table options an trying to figure out which columns are correct and incorrect that I forgot to read the actual question again. Whoops!! Now that I read the question again the correct answer makes sense and is quite easy to identify through process of elimination of the other answers. This question requires students to apply their knowledge in a situation where the sigma subunit is impaired. The fact that you said \"impaired\" rather than not present at all makes the question more challenging. The transcription occurs (Yes/No) column could be a bit confusing but also allows the elimination of A and D as students that are confident with the syllabu content will know that the sigma subunit is involved in the initiation of prokaryotic transcription. This question could be changed into a \"Which row of the table is True/False?\" question or something along those lines which is similar to the style of exam questions.'"
            ]
          },
          "metadata": {
            "tags": []
          },
          "execution_count": 25
        }
      ]
    },
    {
      "cell_type": "markdown",
      "metadata": {
        "id": "EPz5Qn8J4w6z"
      },
      "source": [
        "### Key Observations:\n",
        "From this example we can observe the following things, the author of this particular comment has implemented:\n",
        "- brackets/ parentheses ()\n",
        "- Quotation marks \" \" , this also differs comment to comment- some are enclosed by ' ' and others \" \"\n",
        "- Punctuation marks like commas, fullstops, exclamation points, question marks\n",
        "- There are a few spelling errors\n",
        "- These comments are quite long and dense \n",
        "- Important words to consider are:\n",
        "  \"distracted\"\n",
        "  \"confusing\"\n",
        "- Distinction needs to be made between answer options (A, B, C, D) and stop words/ words at the beginning of the sentence like 'a' and 'A' if capitalised"
      ]
    },
    {
      "cell_type": "markdown",
      "metadata": {
        "id": "JRHf6gTS7oFs"
      },
      "source": [
        "# Next Steps\n",
        "\n",
        "The next steps would be to build or find functions where we tokenise the most valuable words - that relate to the aims of the core.\n",
        "\n",
        "As well as remove any noise from the text- punctuation, latex or HTML formatting.\n",
        "\n",
        "Then assign some statistical weighting to these words.\n",
        "\n"
      ]
    }
  ]
}
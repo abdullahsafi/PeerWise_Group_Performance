{
  "nbformat": 4,
  "nbformat_minor": 0,
  "metadata": {
    "colab": {
      "name": "Johanna_Wk10Mini.ipynb",
      "provenance": [],
      "collapsed_sections": []
    },
    "kernelspec": {
      "name": "python3",
      "display_name": "Python 3"
    }
  },
  "cells": [
    {
      "cell_type": "markdown",
      "metadata": {
        "id": "fh_Aj9pVsqzK"
      },
      "source": [
        "# Basic and Brief code suited for Text processing\n",
        "\n",
        "In this very short notebook, the aim is to experiment and determine whether text processing such as tokenisation , stop word processing etc. can be applied at a larger scale\n",
        "\n",
        "We begin by importing some of the needed packages:"
      ]
    },
    {
      "cell_type": "code",
      "metadata": {
        "id": "GvJvxktGrgBL"
      },
      "source": [
        "#importing wanted libraries\n",
        "import pandas as pd\n",
        "import numpy as np\n",
        "import matplotlib.pyplot as plt\n",
        "\n",
        "from sklearn.feature_extraction.text import TfidfVectorizer\n",
        "from sklearn.cluster import KMeans\n",
        "from sklearn.cluster import MiniBatchKMeans\n",
        "from sklearn.feature_extraction.text import CountVectorizer, TfidfTransformer"
      ],
      "execution_count": 1,
      "outputs": []
    },
    {
      "cell_type": "markdown",
      "metadata": {
        "id": "uVv_y8hptHg5"
      },
      "source": [
        "Here we read in the 'Comments' Dataset and work with only subset of the data\n"
      ]
    },
    {
      "cell_type": "code",
      "metadata": {
        "id": "VI03B3WLxOCa",
        "outputId": "b601b596-1254-43ae-b35d-0dc78c70e829",
        "colab": {
          "base_uri": "https://localhost:8080/",
          "height": 359
        }
      },
      "source": [
        "comments = pd.read_excel(\"/content/drive/My Drive/Colab Notebooks/ASSIGNMENT 2/data/C4Comments.xlsx\")\n",
        "comments.head(n=10)"
      ],
      "execution_count": null,
      "outputs": [
        {
          "output_type": "execute_result",
          "data": {
            "text/html": [
              "<div>\n",
              "<style scoped>\n",
              "    .dataframe tbody tr th:only-of-type {\n",
              "        vertical-align: middle;\n",
              "    }\n",
              "\n",
              "    .dataframe tbody tr th {\n",
              "        vertical-align: top;\n",
              "    }\n",
              "\n",
              "    .dataframe thead th {\n",
              "        text-align: right;\n",
              "    }\n",
              "</style>\n",
              "<table border=\"1\" class=\"dataframe\">\n",
              "  <thead>\n",
              "    <tr style=\"text-align: right;\">\n",
              "      <th></th>\n",
              "      <th>Comment_ID</th>\n",
              "      <th>course_id</th>\n",
              "      <th>Timestamp</th>\n",
              "      <th>user</th>\n",
              "      <th>Question_ID</th>\n",
              "      <th>Comment</th>\n",
              "    </tr>\n",
              "  </thead>\n",
              "  <tbody>\n",
              "    <tr>\n",
              "      <th>0</th>\n",
              "      <td>7197674</td>\n",
              "      <td>21320</td>\n",
              "      <td>2020-04-30 19:57:28</td>\n",
              "      <td>635978</td>\n",
              "      <td>4470201</td>\n",
              "      <td>This is a good question, i do think it's a lit...</td>\n",
              "    </tr>\n",
              "    <tr>\n",
              "      <th>1</th>\n",
              "      <td>7197679</td>\n",
              "      <td>21320</td>\n",
              "      <td>2020-04-30 20:00:46</td>\n",
              "      <td>635978</td>\n",
              "      <td>4468999</td>\n",
              "      <td>This is a really good question, i like the str...</td>\n",
              "    </tr>\n",
              "    <tr>\n",
              "      <th>2</th>\n",
              "      <td>7199285</td>\n",
              "      <td>21320</td>\n",
              "      <td>2020-05-01 15:43:35</td>\n",
              "      <td>636026</td>\n",
              "      <td>4471345</td>\n",
              "      <td>It is a good question. Slightly tricky but not...</td>\n",
              "    </tr>\n",
              "    <tr>\n",
              "      <th>3</th>\n",
              "      <td>7202419</td>\n",
              "      <td>21320</td>\n",
              "      <td>2020-05-03 13:28:57</td>\n",
              "      <td>635990</td>\n",
              "      <td>4472540</td>\n",
              "      <td>I think this is a really good question! I thin...</td>\n",
              "    </tr>\n",
              "    <tr>\n",
              "      <th>4</th>\n",
              "      <td>7202425</td>\n",
              "      <td>21320</td>\n",
              "      <td>2020-05-03 13:34:57</td>\n",
              "      <td>635990</td>\n",
              "      <td>4472481</td>\n",
              "      <td>This question requires the students to recall ...</td>\n",
              "    </tr>\n",
              "    <tr>\n",
              "      <th>5</th>\n",
              "      <td>7202447</td>\n",
              "      <td>21320</td>\n",
              "      <td>2020-05-03 13:52:47</td>\n",
              "      <td>635990</td>\n",
              "      <td>4472418</td>\n",
              "      <td>This question requires quite specific and deta...</td>\n",
              "    </tr>\n",
              "    <tr>\n",
              "      <th>6</th>\n",
              "      <td>7202548</td>\n",
              "      <td>21320</td>\n",
              "      <td>2020-05-03 16:38:30</td>\n",
              "      <td>636007</td>\n",
              "      <td>4468332</td>\n",
              "      <td>I think this question was quite good. The ques...</td>\n",
              "    </tr>\n",
              "    <tr>\n",
              "      <th>7</th>\n",
              "      <td>7204388</td>\n",
              "      <td>21320</td>\n",
              "      <td>2020-05-04 16:43:37</td>\n",
              "      <td>636020</td>\n",
              "      <td>4468400</td>\n",
              "      <td>I like the style of this question in having to...</td>\n",
              "    </tr>\n",
              "    <tr>\n",
              "      <th>8</th>\n",
              "      <td>7204405</td>\n",
              "      <td>21320</td>\n",
              "      <td>2020-05-04 16:54:47</td>\n",
              "      <td>636020</td>\n",
              "      <td>4469950</td>\n",
              "      <td>I think this question would benefit from rewor...</td>\n",
              "    </tr>\n",
              "    <tr>\n",
              "      <th>9</th>\n",
              "      <td>7205230</td>\n",
              "      <td>21320</td>\n",
              "      <td>2020-05-05 00:09:07</td>\n",
              "      <td>635993</td>\n",
              "      <td>4475427</td>\n",
              "      <td>This question is very easy, while it is very r...</td>\n",
              "    </tr>\n",
              "  </tbody>\n",
              "</table>\n",
              "</div>"
            ],
            "text/plain": [
              "   Comment_ID  ...                                            Comment\n",
              "0     7197674  ...  This is a good question, i do think it's a lit...\n",
              "1     7197679  ...  This is a really good question, i like the str...\n",
              "2     7199285  ...  It is a good question. Slightly tricky but not...\n",
              "3     7202419  ...  I think this is a really good question! I thin...\n",
              "4     7202425  ...  This question requires the students to recall ...\n",
              "5     7202447  ...  This question requires quite specific and deta...\n",
              "6     7202548  ...  I think this question was quite good. The ques...\n",
              "7     7204388  ...  I like the style of this question in having to...\n",
              "8     7204405  ...  I think this question would benefit from rewor...\n",
              "9     7205230  ...  This question is very easy, while it is very r...\n",
              "\n",
              "[10 rows x 6 columns]"
            ]
          },
          "metadata": {
            "tags": []
          },
          "execution_count": 2
        }
      ]
    },
    {
      "cell_type": "markdown",
      "metadata": {
        "id": "IV4zQqxKx8pF"
      },
      "source": [
        "### Key observations:\n",
        "\n",
        "From this brief snapshot we can observe a couple of things:\n",
        "- the respective `Comment_ID`\n",
        "- the `course_id` and `Timestamp` variables (not pertinent to this current analysis)\n",
        "- The corresponding `Question_Id` \n",
        "- The most pertinent column: `Comment`\n",
        "\n",
        "\n",
        "- In the comments column we can straight away observe that there are a few \"stop words\" we can immediately clean up such as:\n",
        "  - I, is, a, the, to\n",
        "  - 'Question', think, having\n",
        "\n",
        "- The words of interest could possibly be:\n",
        "  - easy, hard, good ,bad, tricky\n",
        "  - recall\n",
        "  - **Actionable words**:\n",
        "    - benefit, rewording, misleading, confusing, difficult\n",
        "    - suggest\n",
        "\n",
        "\n",
        "- We will also need to find the root words/ words that have similiar meaning to eachother"
      ]
    },
    {
      "cell_type": "code",
      "metadata": {
        "id": "xxZrjQTIzHFf",
        "outputId": "fe308c11-54d8-4e40-e6aa-07a44090e2c6",
        "colab": {
          "base_uri": "https://localhost:8080/"
        }
      },
      "source": [
        "comments['Comment'].head(n=30)"
      ],
      "execution_count": null,
      "outputs": [
        {
          "output_type": "execute_result",
          "data": {
            "text/plain": [
              "0     This is a good question, i do think it's a lit...\n",
              "1     This is a really good question, i like the str...\n",
              "2     It is a good question. Slightly tricky but not...\n",
              "3     I think this is a really good question! I thin...\n",
              "4     This question requires the students to recall ...\n",
              "5     This question requires quite specific and deta...\n",
              "6     I think this question was quite good. The ques...\n",
              "7     I like the style of this question in having to...\n",
              "8     I think this question would benefit from rewor...\n",
              "9     This question is very easy, while it is very r...\n",
              "10    I liked this question, however i was unsure of...\n",
              "11    This question is good but only tests basic rec...\n",
              "12    The question was straight-forward and requires...\n",
              "13    The question has plausible options that are wo...\n",
              "14    The question was a bit difficult, which is goo...\n",
              "15    It would be really helpful if you further expl...\n",
              "16    I think option C is quite misleading; I chose ...\n",
              "17    I think this question is worded a bit confusin...\n",
              "18    I think this question is quite good! It is wor...\n",
              "19    I think this metaphor is really interesting an...\n",
              "20    The style of the question is really good but t...\n",
              "21    I think this is a good question but you should...\n",
              "22    I can get a good idea of what you are trying t...\n",
              "23    This question is difficult because every optio...\n",
              "24    This question is very easy but mainly because ...\n",
              "25    I think this is a good question. I don't see m...\n",
              "26    I think the question, options and explanation ...\n",
              "27    I like this question. I suggest possibly givin...\n",
              "28    I thought this was a really good question! it ...\n",
              "29    while the question is good, A and B were very ...\n",
              "Name: Comment, dtype: object"
            ]
          },
          "metadata": {
            "tags": []
          },
          "execution_count": 3
        }
      ]
    },
    {
      "cell_type": "markdown",
      "metadata": {
        "id": "z9UCuyJFzrxb"
      },
      "source": [
        "## Preliminary text transformation\n",
        "\n",
        "Here I will cast each row in the `comments['Comment]` column to a string as a pre-step to tokenisation."
      ]
    },
    {
      "cell_type": "code",
      "metadata": {
        "id": "DXrzleU50DeZ",
        "outputId": "81d3d610-2071-4ecd-abbf-32bb998b73cd",
        "colab": {
          "base_uri": "https://localhost:8080/",
          "height": 137
        }
      },
      "source": [
        "# Convert to list\n",
        "comments_ls = comments['Comment'].tolist()\n",
        "\n",
        "# viewing an example:\n",
        "comments_ls[100]\n",
        "\n"
      ],
      "execution_count": null,
      "outputs": [
        {
          "output_type": "execute_result",
          "data": {
            "application/vnd.google.colaboratory.intrinsic+json": {
              "type": "string"
            },
            "text/plain": [
              "'When reading this question I got too distracted by reading the table options an trying to figure out which columns are correct and incorrect that I forgot to read the actual question again. Whoops!! Now that I read the question again the correct answer makes sense and is quite easy to identify through process of elimination of the other answers. This question requires students to apply their knowledge in a situation where the sigma subunit is impaired. The fact that you said \"impaired\" rather than not present at all makes the question more challenging. The transcription occurs (Yes/No) column could be a bit confusing but also allows the elimination of A and D as students that are confident with the syllabu content will know that the sigma subunit is involved in the initiation of prokaryotic transcription. This question could be changed into a \"Which row of the table is True/False?\" question or something along those lines which is similar to the style of exam questions.'"
            ]
          },
          "metadata": {
            "tags": []
          },
          "execution_count": 4
        }
      ]
    },
    {
      "cell_type": "markdown",
      "metadata": {
        "id": "EPz5Qn8J4w6z"
      },
      "source": [
        "### Key Observations:\n",
        "From this example we can observe the following things, the author of this particular comment has implemented:\n",
        "- brackets/ parentheses ()\n",
        "- Quotation marks \" \" , this also differs comment to comment- some are enclosed by ' ' and others \" \"\n",
        "- Punctuation marks like commas, fullstops, exclamation points, question marks\n",
        "- There are a few spelling errors\n",
        "- These comments are quite long and dense \n",
        "- Important words to consider are:\n",
        "  \"distracted\"\n",
        "  \"confusing\"\n",
        "- Distinction needs to be made between answer options (A, B, C, D) and stop words/ words at the beginning of the sentence like 'a' and 'A' if capitalised"
      ]
    },
    {
      "cell_type": "markdown",
      "metadata": {
        "id": "JRHf6gTS7oFs"
      },
      "source": [
        "# Next Steps\n",
        "\n",
        "The next steps would be to build or find functions where we tokenise the most valuable words - that relate to the aims of the core.\n",
        "\n",
        "As well as remove any noise from the text- punctuation, latex or HTML formatting.\n",
        "\n",
        "Then assign some statistical weighting to these words.\n",
        "\n"
      ]
    },
    {
      "cell_type": "markdown",
      "metadata": {
        "id": "K9vfYqBfmgTg"
      },
      "source": [
        "# Joining Comments to Groups\n",
        "\n",
        "Joining the comments data set to the Groups data set."
      ]
    },
    {
      "cell_type": "code",
      "metadata": {
        "id": "gfiT-rhemfpl"
      },
      "source": [
        "comments = pd.read_excel(\"/content/drive/My Drive/Colab Notebooks/ASSIGNMENT 2/data/C4Comments.xlsx\")\n",
        "groups =  pd.read_excel(\"/content/drive/My Drive/Colab Notebooks/ASSIGNMENT 2/data/C4UsersCourses.xlsx\")"
      ],
      "execution_count": 2,
      "outputs": []
    },
    {
      "cell_type": "code",
      "metadata": {
        "id": "q8osFlrrnSH7"
      },
      "source": [
        "groups"
      ],
      "execution_count": null,
      "outputs": []
    },
    {
      "cell_type": "code",
      "metadata": {
        "id": "cqwkFPXSnbib"
      },
      "source": [
        "comments"
      ],
      "execution_count": null,
      "outputs": []
    },
    {
      "cell_type": "code",
      "metadata": {
        "id": "awPQgoAXnviF",
        "outputId": "7c43aea7-91e0-4ed4-abe6-c2d6ffa589d2",
        "colab": {
          "base_uri": "https://localhost:8080/"
        }
      },
      "source": [
        "comments.dtypes\n",
        "groups.dtypes"
      ],
      "execution_count": null,
      "outputs": [
        {
          "output_type": "execute_result",
          "data": {
            "text/plain": [
              "user          int64\n",
              "course_id     int64\n",
              "Team         object\n",
              "dtype: object"
            ]
          },
          "metadata": {
            "tags": []
          },
          "execution_count": 11
        }
      ]
    },
    {
      "cell_type": "code",
      "metadata": {
        "id": "XZZ197b-n8qP",
        "outputId": "0bcb5f3b-c3d8-46e6-91a6-522cd6e33738",
        "colab": {
          "base_uri": "https://localhost:8080/",
          "height": 391
        }
      },
      "source": [
        "# joining the 2 data sets togeher\n",
        "#users_qs= questions[['course_id','id','user', 'avg_rating', 'total_responses', 'total_comments']].merge(users, how=\"inner\", on=\"user\")\n",
        "\n",
        "#users_qs\n",
        "\n",
        "#combined data sets\n",
        "comments_gps = comments[['Comment_ID', 'Question_ID','user', 'course_id', 'Comment']].merge(groups, how= \"inner\", on =['user', 'course_id'])\n",
        "comments_gps"
      ],
      "execution_count": 4,
      "outputs": [
        {
          "output_type": "execute_result",
          "data": {
            "text/html": [
              "<div>\n",
              "<style scoped>\n",
              "    .dataframe tbody tr th:only-of-type {\n",
              "        vertical-align: middle;\n",
              "    }\n",
              "\n",
              "    .dataframe tbody tr th {\n",
              "        vertical-align: top;\n",
              "    }\n",
              "\n",
              "    .dataframe thead th {\n",
              "        text-align: right;\n",
              "    }\n",
              "</style>\n",
              "<table border=\"1\" class=\"dataframe\">\n",
              "  <thead>\n",
              "    <tr style=\"text-align: right;\">\n",
              "      <th></th>\n",
              "      <th>Comment_ID</th>\n",
              "      <th>Question_ID</th>\n",
              "      <th>user</th>\n",
              "      <th>course_id</th>\n",
              "      <th>Comment</th>\n",
              "      <th>Team</th>\n",
              "    </tr>\n",
              "  </thead>\n",
              "  <tbody>\n",
              "    <tr>\n",
              "      <th>0</th>\n",
              "      <td>7197674</td>\n",
              "      <td>4470201</td>\n",
              "      <td>635978</td>\n",
              "      <td>21320</td>\n",
              "      <td>This is a good question, i do think it's a lit...</td>\n",
              "      <td>Pink</td>\n",
              "    </tr>\n",
              "    <tr>\n",
              "      <th>1</th>\n",
              "      <td>7197679</td>\n",
              "      <td>4468999</td>\n",
              "      <td>635978</td>\n",
              "      <td>21320</td>\n",
              "      <td>This is a really good question, i like the str...</td>\n",
              "      <td>Pink</td>\n",
              "    </tr>\n",
              "    <tr>\n",
              "      <th>2</th>\n",
              "      <td>7206418</td>\n",
              "      <td>4475078</td>\n",
              "      <td>635978</td>\n",
              "      <td>21320</td>\n",
              "      <td>The style of the question is really good but t...</td>\n",
              "      <td>Pink</td>\n",
              "    </tr>\n",
              "    <tr>\n",
              "      <th>3</th>\n",
              "      <td>7206422</td>\n",
              "      <td>4470355</td>\n",
              "      <td>635978</td>\n",
              "      <td>21320</td>\n",
              "      <td>I think this is a good question but you should...</td>\n",
              "      <td>Pink</td>\n",
              "    </tr>\n",
              "    <tr>\n",
              "      <th>4</th>\n",
              "      <td>7211664</td>\n",
              "      <td>4476565</td>\n",
              "      <td>635978</td>\n",
              "      <td>21320</td>\n",
              "      <td>This is a great question but i do think making...</td>\n",
              "      <td>Pink</td>\n",
              "    </tr>\n",
              "    <tr>\n",
              "      <th>...</th>\n",
              "      <td>...</td>\n",
              "      <td>...</td>\n",
              "      <td>...</td>\n",
              "      <td>...</td>\n",
              "      <td>...</td>\n",
              "      <td>...</td>\n",
              "    </tr>\n",
              "    <tr>\n",
              "      <th>2071</th>\n",
              "      <td>7227407</td>\n",
              "      <td>4487352</td>\n",
              "      <td>637299</td>\n",
              "      <td>21328</td>\n",
              "      <td>This is a great question because it addresses ...</td>\n",
              "      <td>Yellow</td>\n",
              "    </tr>\n",
              "    <tr>\n",
              "      <th>2072</th>\n",
              "      <td>7227423</td>\n",
              "      <td>4484168</td>\n",
              "      <td>637299</td>\n",
              "      <td>21328</td>\n",
              "      <td>I think that this is a great question. It effe...</td>\n",
              "      <td>Yellow</td>\n",
              "    </tr>\n",
              "    <tr>\n",
              "      <th>2073</th>\n",
              "      <td>7227427</td>\n",
              "      <td>4479408</td>\n",
              "      <td>637299</td>\n",
              "      <td>21328</td>\n",
              "      <td>I found the question to be rather wordy and ju...</td>\n",
              "      <td>Yellow</td>\n",
              "    </tr>\n",
              "    <tr>\n",
              "      <th>2074</th>\n",
              "      <td>7227428</td>\n",
              "      <td>4476987</td>\n",
              "      <td>637299</td>\n",
              "      <td>21328</td>\n",
              "      <td>The question is well done and presents to be c...</td>\n",
              "      <td>Yellow</td>\n",
              "    </tr>\n",
              "    <tr>\n",
              "      <th>2075</th>\n",
              "      <td>7228043</td>\n",
              "      <td>4480705</td>\n",
              "      <td>637289</td>\n",
              "      <td>21328</td>\n",
              "      <td>Useful for recalling tRNA structure, but not m...</td>\n",
              "      <td>Blue</td>\n",
              "    </tr>\n",
              "  </tbody>\n",
              "</table>\n",
              "<p>2076 rows × 6 columns</p>\n",
              "</div>"
            ],
            "text/plain": [
              "      Comment_ID  ...    Team\n",
              "0        7197674  ...    Pink\n",
              "1        7197679  ...    Pink\n",
              "2        7206418  ...    Pink\n",
              "3        7206422  ...    Pink\n",
              "4        7211664  ...    Pink\n",
              "...          ...  ...     ...\n",
              "2071     7227407  ...  Yellow\n",
              "2072     7227423  ...  Yellow\n",
              "2073     7227427  ...  Yellow\n",
              "2074     7227428  ...  Yellow\n",
              "2075     7228043  ...    Blue\n",
              "\n",
              "[2076 rows x 6 columns]"
            ]
          },
          "metadata": {
            "tags": []
          },
          "execution_count": 4
        }
      ]
    },
    {
      "cell_type": "markdown",
      "metadata": {
        "id": "oIG8ZBWequIh"
      },
      "source": [
        "## Stop Word Removal - RUN BEFORE TOKENISATIOn"
      ]
    },
    {
      "cell_type": "code",
      "metadata": {
        "id": "h7danQep1UjJ"
      },
      "source": [
        "import nltk\n",
        "nltk.download('stopwords')\n",
        "from nltk.corpus import stopwords\n",
        "#print(stopwords.words('english'))\n",
        "stopwords.words('english')\n",
        "# transferring stop words to my own list\n",
        "\n",
        "ls = []\n",
        "\n",
        "for word in stopwords.words('english'):\n",
        "  ls.append(word)\n",
        "ls\n",
        "\n",
        "# new stop words list to be added to ls\n",
        "\n",
        "#ls\n",
        "\n",
        "stop = ['think', 'good', 'bad', 'tricky', 'easy', 'question', 'like', 'would', 'could', 'well', 'really', 'great']\n",
        "\n",
        "for word in stop:\n",
        "  ls.append(word)\n",
        "\n",
        "stop_words = ls\n",
        "stop_words"
      ],
      "execution_count": null,
      "outputs": []
    },
    {
      "cell_type": "markdown",
      "metadata": {
        "id": "Gf9Q6Z8WpUi8"
      },
      "source": [
        "## Tokenisation"
      ]
    },
    {
      "cell_type": "code",
      "metadata": {
        "id": "jBiVsyLts91_"
      },
      "source": [
        "#Convert comments to a big continuous string\n",
        "comments_corpus = comments_gps['Comment'].tolist()\n",
        "\n",
        "comments_corpus"
      ],
      "execution_count": null,
      "outputs": []
    },
    {
      "cell_type": "code",
      "metadata": {
        "id": "O-sv2CcutTKK"
      },
      "source": [
        "# vectorising and making tokens using CountVectoriser()\n",
        "\n",
        "vectorise = CountVectorizer(lowercase= True, stop_words= stop_words)\n",
        "X= vectorise.fit_transform(comments_corpus)"
      ],
      "execution_count": 9,
      "outputs": []
    },
    {
      "cell_type": "code",
      "metadata": {
        "id": "IMRKxfaNtw96",
        "outputId": "0efa79f3-a7b3-4e8f-8182-362400ca999e",
        "colab": {
          "base_uri": "https://localhost:8080/"
        }
      },
      "source": [
        "# FEATURE NAMES\n",
        "\n",
        "print(vectorise.get_feature_names())\n",
        "#print(X.shape)\n"
      ],
      "execution_count": 10,
      "outputs": [
        {
          "output_type": "stream",
          "text": [
            "['000', '000nt', '07', '10', '100', '10000', '1093', '10nt', '11', '12', '12290', '15', '150', '16s', '18', '18s', '1st', '20110803100335437', '25', '250', '25nm', '25nt', '25s', '27', '28', '28s', '2nd', '30', '300', '30bp', '32', '35', '383727', '383939', '383941', '384002', '384042', '384163', '384542', '3rd', '40', '429947', '45s', '4th', '50', '50s', '5s', '5th', '60', '64', '65281', '65292', '6s', '70', '700bp', '70s', '85s', '8s', '8th', '__', '___', '____', '_____', '______', '____d____', '___a___', '___b___', '___c___to', 'aa', 'abbreviations', 'abbriviation', 'abcd', 'aberrant', 'abherrent', 'abilities', 'ability', 'abit', 'able', 'abled', 'abnormal', 'aboutcodon', 'aboutinitiators', 'aboutpolycistronic', 'abouttranscription', 'absence', 'absent', 'absolute', 'absolutely', 'absorb', 'absorbed', 'abstract', 'abundant', 'academically', 'accelerate', 'accept', 'access', 'accessible', 'accidental', 'accidentally', 'accompanied', 'accompaniment', 'accompany', 'accompanying', 'according', 'accordingly', 'account', 'accuracy', 'accurate', 'accurately', 'achievable', 'achieve', 'achieved', 'achievement', 'acid', 'acids', 'acknowledge', 'acknowledgement', 'acquaint', 'across', 'act', 'acted', 'acting', 'action', 'actionhonestly', 'activated', 'activates', 'activating', 'activation', 'activators', 'active', 'activities', 'activity', 'acts', 'actual', 'actually', 'add', 'added', 'adding', 'addition', 'additional', 'additionally', 'address', 'addressed', 'addresses', 'addressing', 'adds', 'adenosine', 'adenylate', 'adenylated', 'adenylation', 'adequate', 'adequately', 'adjust', 'adjusted', 'adjustment', 'adjustments', 'admit', 'adopting', 'advanced', 'advantage', 'advantageous', 'advice', 'advised', 'aesthetic', 'affect', 'affected', 'affecting', 'affects', 'affinity', 'afford', 'aforementioned', 'afraid', 'aga', 'aganositic', 'aged', 'agnostic', 'ago', 'agonist', 'agonistic', 'agonists', 'agree', 'agreeance', 'agreed', 'agreeing', 'agrreance', 'agu', 'ah', 'ahaha', 'aid', 'aided', 'aiding', 'aids', 'aim', 'aimed', 'aims', 'air', 'aka', 'albeit', 'alernative', 'aligns', 'alike', 'allocated', 'allow', 'allowed', 'allowing', 'allows', 'allude', 'alluded', 'almost', 'alone', 'along', 'alongside', 'alot', 'alphabet', 'already', 'alright', 'also', 'alt', 'alter', 'alteration', 'alterations', 'altered', 'altering', 'alternate', 'alternative', 'alternatively', 'alternatives', 'although', 'altogether', 'always', 'amazing', 'ambiguities', 'ambiguity', 'ambiguous', 'ambiguously', 'amble', 'amendments', 'amination', 'amino', 'aminoacyl', 'among', 'amongst', 'amount', 'amounts', 'amp', 'amplified', 'amplify', 'analogies', 'analogous', 'analogy', 'analyse', 'analysed', 'analysing', 'analysis', 'analytical', 'analyze', 'analyzing', 'anatgonistic', 'and5', 'and___', 'andalternative', 'andapply', 'andhelp', 'andidentify', 'andoverall', 'andphosphorylates', 'angle', 'anneal', 'annealing', 'annoyed', 'annoying', 'annuclear', 'another', 'anotheroutcome', 'answer', 'answered', 'answerer', 'answergood', 'answering', 'answers', 'answerthe', 'antagonist', 'antagonistic', 'antagonists', 'anti', 'antibiotic', 'antibiotics', 'antibodies', 'anticipate', 'anticoding', 'anticodon', 'anticodons', 'antiparallel', 'antisense', 'anwsers', 'anyone', 'anything', 'anyway', 'anyways', 'anywhere', 'apart', 'apoly', 'apparent', 'appealing', 'appear', 'appearance', 'appeared', 'appearing', 'appears', 'applicable', 'application', 'applications', 'applied', 'applies', 'apply', 'applying', 'appreciate', 'appreciated', 'approach', 'approachable', 'approached', 'approaching', 'appropriate', 'appropriately', 'approximate', 'apt', 'aq', 'arbitrary', 'area', 'areas', 'aredistinctly', 'areintroduced', 'areintrons', 'aresynthesised', 'arginine', 'arguably', 'argue', 'argument', 'arise', 'arm', 'around', 'arrange', 'arranged', 'arrangement', 'array', 'arrow', 'article', 'articles', 'articulate', 'articulated', 'articulation', 'asbacteriostatic', 'ascenario', 'aside', 'ask', 'asked', 'asking', 'asks', 'asnot', 'asnwer', 'asp', 'aspect', 'aspects', 'aspolycistronic', 'assemble', 'assembled', 'assembly', 'assertion', 'asses', 'assess', 'assessed', 'assesses', 'assessing', 'assessment', 'assign', 'assigned', 'assist', 'assisted', 'assisting', 'assists', 'associate', 'associated', 'associating', 'association', 'asspatial', 'assume', 'assumed', 'assuming', 'assumption', 'asterisk', 'asuniversality', 'atp', 'attach', 'attached', 'attaching', 'attachment', 'attachments', 'attacking', 'attacks', 'attempt', 'attempting', 'attempts', 'attention', 'attentively', 'attentiveness', 'attenuation', 'attenuator', 'attract', 'attracted', 'attracts', 'attributes', 'aucg', 'audience', 'aug', 'augs', 'author', 'authority', 'automatically', 'availability', 'available', 'avenues', 'average', 'avoid', 'avoided', 'avoiding', 'avoids', 'aware', 'away', 'awesome', 'awkward', 'axes', 'back', 'background', 'backstory', 'backwards', 'bacteria', 'bacterial', 'bactericidal', 'bacteriocidal', 'bacteriostatic', 'baffling', 'bagatelle', 'bail', 'baking', 'balance', 'balanced', 'balancing', 'ball', 'ballpark', 'balls', 'bamboozle', 'band', 'banks', 'bare', 'basal', 'base', 'based', 'baseline', 'basepairs', 'bases', 'basic', 'basically', 'basicish', 'basics', 'basis', 'bc', 'bcmb', 'bcmb2001', 'beacuse', 'beautiful', 'beautifully', 'became', 'become', 'becomes', 'becoming', 'beforehand', 'begin', 'beginning', 'begins', 'behalf', 'behaviour', 'behind', 'believable', 'believe', 'believed', 'belong', 'belongs', 'bend', 'beneficial', 'benefit', 'benefitting', 'bennefit', 'beside', 'besides', 'best', 'bet', 'beta', 'better', 'betweenoligo', 'betweentranscription', 'betwesen', 'beyond', 'biding', 'big', 'bigger', 'biggest', 'bilayer', 'bind', 'binding', 'binds', 'bindthe', 'bindto', 'bio', 'biochemical', 'biochemistry', 'biologists', 'biology', 'biosynthetic', 'biotic', 'bit', 'bits', 'black', 'blank', 'blanks', 'blatantly', 'blend', 'block', 'blocked', 'blocks', 'bloom', 'blooms', 'bloomsthere', 'bloons', 'blue', 'blurred', 'bob', 'body', 'boggling', 'bold', 'bolded', 'bolding', 'bombarded', 'bond', 'bonding', 'bonds', 'book', 'boost', 'booster', 'boosting', 'bother', 'bottom', 'bound', 'boundaries', 'bounds', 'box', 'boxes', 'bp', 'br', 'bracket', 'bracketas', 'brackets', 'brain', 'brainstorming', 'branch', 'branching', 'brand', 'breadth', 'break', 'breaks', 'breast', 'bridge', 'bridged', 'bridging', 'brief', 'briefer', 'briefly', 'brilliant', 'bring', 'brings', 'broad', 'broader', 'broadly', 'broken', 'brought', 'browser', 'brush', 'brute', 'bubble', 'buddy', 'build', 'building', 'built', 'bullet', 'bunch', 'burden', 'butif', 'bychanging', 'byoestrogen', 'caa', 'caat', 'cake', 'calculated', 'calculation', 'calculator', 'calibre', 'called', 'calling', 'calls', 'came', 'camp', 'cancel', 'cancer', 'candidate', 'canexert', 'cannot', 'cant', 'cap', 'capabilities', 'capable', 'capacities', 'capital', 'capitalisation', 'capitalise', 'capitalising', 'capitalization', 'capitalize', 'capitalized', 'capitalizing', 'capitals', 'capitilise', 'capped', 'capping', 'cappingd', 'caps', 'capture', 'captured', 'care', 'careful', 'carefully', 'careless', 'cargo', 'carries', 'cascade', 'cascades', 'case', 'cases', 'casual', 'cat', 'catch', 'catcher', 'catching', 'categories', 'category', 'caught', 'causal', 'cause', 'caused', 'causes', 'causing', 'cca', 'ceasing', 'cell', 'cellfor', 'cells', 'cellsresponse', 'cements', 'centered', 'central', 'centred', 'certain', 'certainly', 'cg', 'chain', 'challanging', 'challenge', 'challenged', 'challenges', 'challenging', 'chance', 'change', 'changed', 'changes', 'changing', 'channel', 'channels', 'characterised', 'characteristic', 'characteristics', 'characters', 'chart', 'charts', 'check', 'checked', 'checking', 'chemical', 'choice', 'choices', 'choose', 'chooseto', 'choosing', 'chose', 'chosen', 'chunks', 'chunky', 'circular', 'cis', 'citing', 'clarification', 'clarified', 'clarifies', 'clarify', 'clarifying', 'clarity', 'class', 'classes', 'classic', 'classified', 'classmates', 'clause', 'clean', 'cleaned', 'cleaning', 'clear', 'cleared', 'clearer', 'clearest', 'clearing', 'clearly', 'clears', 'cleavage', 'cleave', 'cleaved', 'cleaving', 'clever', 'cleverly', 'clicked', 'clock', 'close', 'closely', 'closer', 'clue', 'clues', 'clumsy', 'cluster', 'clustered', 'co', 'coactivators', 'code', 'coded', 'codes', 'coding', 'codon', 'codons', 'cognition', 'cognitive', 'coherent', 'cohesive', 'cohort', 'coli', 'colleague', 'collect', 'collection', 'colour', 'colours', 'column', 'columns', 'com', 'combat', 'combination', 'combinations', 'combine', 'combined', 'combines', 'combining', 'come', 'comes', 'comfortably', 'comforting', 'comfy', 'coming', 'comma', 'commend', 'comment', 'commentated', 'commentators', 'commented', 'commenter', 'commenters', 'commentors', 'comments', 'common', 'commonly', 'communicated', 'communication', 'community', 'compact', 'compare', 'compared', 'comparing', 'comparison', 'comparisons', 'compbat', 'compelling', 'compensate', 'competent', 'complaints', 'complement', 'complementary', 'complementing', 'complements', 'complete', 'completely', 'completes', 'completing', 'complex', 'complexes', 'complexity', 'complicate', 'complicated', 'complicating', 'component', 'components', 'composition', 'comprehend', 'comprehendible', 'comprehending', 'comprehension', 'comprehensive', 'compressed', 'comprised', 'compromise', 'compromises', 'compromising', 'concealing', 'concentrate', 'concentration', 'concept', 'concepts', 'conceptual', 'conceptually', 'concern', 'concerned', 'concerning', 'concerns', 'concise', 'concisely', 'conciseness', 'concision', 'conclude', 'conclusion', 'concrete', 'condense', 'condensed', 'condensing', 'condition', 'conditional', 'conditions', 'condon', 'condons', 'conducted', 'confidence', 'confident', 'confidently', 'confirm', 'confirmed', 'confirms', 'conformation', 'conformational', 'confounding', 'confronting', 'confued', 'confuse', 'confused', 'confuses', 'confusing', 'confusingly', 'confusion', 'congrats', 'congratulations', 'conjunction', 'connect', 'connected', 'connection', 'connections', 'connects', 'consecutive', 'consensus', 'consequence', 'consequences', 'consider', 'considerably', 'consideration', 'considerations', 'considered', 'considering', 'consist', 'consistency', 'consistent', 'consolidate', 'consolidating', 'constant', 'constantly', 'construct', 'constructed', 'constructing', 'constructional', 'constructive', 'consuming', 'contain', 'contained', 'containing', 'contains', 'contemplate', 'content', 'contention', 'contents', 'context', 'contexts', 'contextual', 'contextualisation', 'contextualises', 'contextualizing', 'continue', 'continues', 'continuity', 'contradict', 'contradicting', 'contradictory', 'contradicts', 'contrast', 'contribute', 'contributes', 'contributing', 'control', 'controlled', 'convaluted', 'convenient', 'convention', 'conversational', 'convert', 'converting', 'convey', 'conveyed', 'convinced', 'convincing', 'convoluted', 'convolution', 'cookie', 'cookies', 'cool', 'cooling', 'cop', 'cope', 'copied', 'copies', 'copy', 'copying', 'core', 'corepressor', 'corepressors', 'corrcet', 'correct', 'correctdiagram', 'corrected', 'correcting', 'correctly', 'correctness', 'correspond', 'corresponding', 'corresponds', 'cost', 'costs', 'couldrephrase', 'count', 'counteracts', 'counterparts', 'counting', 'counts', 'couple', 'coupled', 'coupling', 'course', 'cover', 'coverage', 'covered', 'covering', 'covers', 'cpd', 'cpg', 'crafted', 'crash', 'create', 'created', 'creates', 'creating', 'creative', 'creativeand', 'creativity', 'credible', 'credit', 'criteria', 'critical', 'critically', 'criticism', 'critique', 'cropped', 'cross', 'crossed', 'crucial', 'crunch', 'crush', 'crux', 'ct', 'ctd', 'cu', 'cues', 'cug', 'culture', 'cumbersome', 'cure', 'current', 'currently', 'curve', 'cut', 'cute', 'cuts', 'cuu', 'cycle', 'cycles', 'cystosine', 'cytoplasm', 'cytoplasmaffinity', 'cytosine', 'cytosol', 'dalgamo', 'dalgarno', 'dalgarnosequence', 'damage', 'damaged', 'dandy', 'dark', 'data', 'daunting', 'days', 'de', 'dead', 'deadenylation', 'deal', 'deals', 'debated', 'debating', 'deceive', 'deceiving', 'decent', 'deceptively', 'decide', 'decided', 'decider', 'decides', 'deciding', 'decipher', 'deciphering', 'decision', 'decline', 'decoding', 'decoration', 'decoupling', 'decoy', 'decrease', 'decreased', 'decreases', 'decreasing', 'dedication', 'deduce', 'deduced', 'deducing', 'deduct', 'deduction', 'deductions', 'deductive', 'deemed', 'deep', 'deeper', 'deeply', 'defeats', 'defensibly', 'deficit', 'define', 'defined', 'definetely', 'definietly', 'defining', 'definite', 'definitely', 'definition', 'definitions', 'definitive', 'defunct', 'degeneracy', 'degenerate', 'degenerated', 'degradation', 'degraded', 'degree', 'delete', 'deleting', 'deletion', 'delgarno', 'deliberate', 'deliberation', 'delightful', 'delivered', 'delivering', 'delivery', 'delve', 'demand', 'demanded', 'demands', 'demonstrate', 'demonstrated', 'demonstrates', 'demonstration', 'denaturation', 'dense', 'denser', 'departures', 'dependance', 'dependency', 'dependent', 'depending', 'depends', 'depicted', 'depicting', 'depreciates', 'depressors', 'depth', 'derivatives', 'derive', 'derived', 'desciption', 'describe', 'described', 'describes', 'describesthe', 'describing', 'description', 'descriptions', 'descriptive', 'design', 'designed', 'designedfor', 'desperate', 'despise', 'despite', 'destroyed', 'detach', 'detaches', 'detail', 'detailed', 'detailing', 'details', 'detatchwhen', 'detect', 'detection', 'detects', 'determine', 'determines', 'determining', 'deterrents', 'detract', 'detracting', 'detractor', 'detractors', 'detriment', 'develop', 'developed', 'developing', 'development', 'devise', 'diagram', 'diagrammatic', 'diagrams', 'diagramthe', 'diagraph', 'didactic', 'diffcult', 'differ', 'differed', 'difference', 'differences', 'different', 'differentiate', 'differentiated', 'differentiates', 'differentiating', 'differentiation', 'differentiator', 'differently', 'differing', 'differnet', 'differs', 'difficult', 'difficultly', 'difficulty', 'diffuse', 'diffusion', 'digest', 'digestible', 'digesting', 'digram', 'direct', 'directed', 'direction', 'directionality', 'directive', 'directly', 'disabling', 'disadvantage', 'disagree', 'disassociated', 'disassociation', 'discard', 'discern', 'discernable', 'discount', 'discounted', 'discouraging', 'discovered', 'discrepancy', 'discriminate', 'discriminates', 'discriminating', 'discrimination', 'discriminator', 'discriminatory', 'discuss', 'discussed', 'discussing', 'discussion', 'disguise', 'disjointed', 'dislike', 'dismissed', 'dismissing', 'display', 'displayed', 'disqualified', 'disregard', 'disregardable', 'disregarded', 'dissociate', 'dissuades', 'distance', 'distances', 'distinct', 'distinction', 'distinctions', 'distinctive', 'distinguish', 'distinguishable', 'distinguished', 'distinguisher', 'distinguishes', 'distinguishing', 'distract', 'distracted', 'distracter', 'distracting', 'distraction', 'distractions', 'distractor', 'distractors', 'distracts', 'distributed', 'distribution', 'distunguishing', 'disturbing', 'dive', 'dived', 'diverse', 'diversifying', 'diversity', 'divert', 'dives', 'divide', 'divided', 'diving', 'division', 'dn', 'dna', 'doesnt', 'doesoligo', 'domain', 'domains', 'done', 'dont', 'dot', 'double', 'doubled', 'doubts', 'downside', 'downstream', 'downstreamknowledge', 'downstreatm', 'dpe', 'drastic', 'draw', 'drawing', 'drawn', 'draws', 'dread', 'drew', 'drives', 'drop', 'drug', 'drugs', 'dt', 'dts', 'due', 'duplicated', 'duplication', 'duringpost', 'duringprokaryotictranscription', 'eaiser', 'earlier', 'early', 'earn', 'ease', 'easier', 'easiest', 'easily', 'eating', 'echoed', 'ect', 'edit', 'edited', 'editing', 'edits', 'educated', 'educational', 'ef', 'effect', 'effective', 'effectively', 'effectiveness', 'effects', 'efficiency', 'efficient', 'effort', 'efforts', 'eg', 'either', 'eject', 'elaborate', 'elaborated', 'elaborating', 'elaboration', 'eleimination', 'element', 'elementary', 'elements', 'elementsduring', 'elevate', 'elevated', 'eliminate', 'eliminated', 'eliminates', 'eliminating', 'elimination', 'elongates', 'elongation', 'else', 'em', 'email', 'embedded', 'emboldened', 'embraces', 'emphasis', 'emphasise', 'emphasised', 'emphasising', 'emphasize', 'emphasizing', 'employs', 'enable', 'enabled', 'enables', 'enabling', 'encode', 'encoded', 'encodes', 'encoding', 'encompasses', 'encounter', 'encourage', 'encourages', 'encouraging', 'end', 'ended', 'ending', 'endonucleases', 'endoplasmic', 'ends', 'enemy', 'energy', 'enforces', 'engage', 'engaged', 'engagement', 'engages', 'engaging', 'english', 'enhance', 'enhanced', 'enhancement', 'enhancer', 'enhancers', 'enhances', 'enhancing', 'enjoy', 'enjoyable', 'enjoyed', 'enlightens', 'enough', 'ensue', 'ensure', 'ensures', 'ensuring', 'entail', 'entered', 'entering', 'entertaining', 'entire', 'entirely', 'entities', 'environment', 'enzymatic', 'enzyme', 'enzymes', 'enzymesc', 'equal', 'equally', 'equation', 'equipped', 'equivalent', 'eradicating', 'erase', 'erased', 'erroneous', 'error', 'errors', 'escaped', 'esp', 'especially', 'essence', 'essential', 'essentially', 'establish', 'estrogen', 'etc', 'eu', 'eucaryotic', 'eukaryote', 'eukaryotes', 'eukaryotic', 'eukaryotictranscription', 'evaluate', 'evaluating', 'evaluation', 'evaluative', 'even', 'evenly', 'event', 'events', 'eventually', 'ever', 'every', 'everyone', 'everything', 'everywhere', 'evidence', 'evidenced', 'evident', 'evolute', 'exacerbates', 'exact', 'exactly', 'exam', 'examination', 'examine', 'examined', 'examinees', 'examines', 'examining', 'example', 'exampleeukaryotes', 'examples', 'exams', 'exceed', 'exceed1', 'excellent', 'except', 'exceptional', 'exceptionally', 'exceptions', 'excessive', 'exclude', 'excluded', 'excluding', 'exclusive', 'exclusively', 'excuse', 'executed', 'execution', 'exercise', 'exert', 'exhaustive', 'exist', 'existance', 'existence', 'existing', 'exit', 'exo', 'exon', 'exons', 'exonucleases', 'expand', 'expanded', 'expanding', 'expands', 'expansion', 'expect', 'expected', 'expecting', 'experience', 'experiment', 'experimental', 'explain', 'explaination', 'explained', 'explaining', 'explains', 'explanation', 'explanationinstead', 'explanations', 'explicit', 'explicitly', 'explination', 'exploit', 'exploitation', 'exploits', 'exploration', 'explore', 'explored', 'explores', 'exploring', 'export', 'exportation', 'exposed', 'exposing', 'express', 'expressed', 'expression', 'expressions', 'extend', 'extended', 'extends', 'extension', 'extensive', 'extent', 'external', 'extinct', 'extra', 'extracellular', 'extracted', 'extraction', 'extrapolate', 'extrapolating', 'extrapolation', 'extrapolative', 'extreme', 'extremely', 'extrons', 'eye', 'eyes', 'face', 'faces', 'facilitate', 'facilitated', 'facilitates', 'facilitation', 'faclitates', 'fact', 'factoid', 'factor', 'factors', 'facts', 'factual', 'factually', 'fail', 'failed', 'failing', 'failure', 'fair', 'fairly', 'fairness', 'fake', 'fall', 'fallen', 'falling', 'falls', 'fallse', 'false', 'familiar', 'familiarise', 'fan', 'fancy', 'fantastic', 'far', 'fashion', 'fast', 'faster', 'fault', 'faulted', 'faults', 'favour', 'favourable', 'favourite', 'fde', 'feasible', 'feathers', 'feature', 'featured', 'features', 'feedback', 'feel', 'feeling', 'feels', 'fell', 'felt', 'female', 'females', 'ferratin', 'ferritin', 'fetched', 'fewer', 'field', 'fields', 'fifth', 'figure', 'figured', 'figures', 'figuring', 'file', 'fill', 'filled', 'filler', 'filling', 'filter', 'fin', 'final', 'finally', 'find', 'finding', 'fine', 'finer', 'fingers', 'finish', 'finishes', 'first', 'firstly', 'fit', 'fits', 'fitting', 'five', 'fix', 'fixed', 'fixing', 'flagged', 'flags', 'flanking', 'flash', 'flavour', 'flaw', 'flawed', 'flaws', 'flesh', 'fleshed', 'fleshing', 'flexibility', 'flip', 'flipped', 'flipping', 'flow', 'flows', 'fluent', 'fluff', 'fluidity', 'fmet', 'focus', 'focused', 'focuses', 'focusing', 'focussed', 'focussingon', 'follow', 'followed', 'following', 'follows', 'font', 'food', 'fooled', 'force', 'forced', 'forces', 'forcing', 'forcus', 'forefront', 'foreign', 'forget', 'forgetting', 'forgiveness', 'forgot', 'forgotten', 'form', 'formal', 'format', 'formatfor', 'formation', 'formative', 'formatted', 'formatting', 'formed', 'forming', 'forms', 'formula', 'formulas', 'formulate', 'formulated', 'forrho', 'forsigma', 'forth', 'forward', 'forwards', 'found', 'foundation', 'foundational', 'foundations', 'four', 'fourth', 'fragmented', 'frame', 'framed', 'frameshift', 'frankly', 'freedom', 'frequencies', 'frequency', 'frequently', 'fresh', 'friendly', 'frills', 'fro', 'front', 'froward', 'frustrated', 'frustrating', 'fueled', 'full', 'fuller', 'fully', 'fun', 'function', 'functional', 'functionality', 'functioning', 'functions', 'fundamental', 'fundamentally', 'fundamentals', 'funnily', 'funny', 'funtion', 'furthering', 'furthermore', 'future', 'ga', 'gaat', 'gain', 'gained', 'gaining', 'galactosidase', 'galactoside', 'game', 'gap', 'gaps', 'gareth', 'gathers', 'gave', 'gc', 'gene', 'geneal', 'general', 'generalized', 'generally', 'generate', 'generating', 'generic', 'genes', 'genetic', 'genetics', 'genome', 'genomic', 'genre', 'genuinecommonmisconception', 'genuinely', 'get', 'gets', 'getting', 'giant', 'giselle', 'give', 'giveaway', 'given', 'gives', 'giving', 'glad', 'glady', 'glance', 'glossed', 'glucose', 'glut', 'glut2', 'go', 'goal', 'goals', 'goes', 'going', 'gold', 'gone', 'goodquestion', 'goood', 'got', 'gotten', 'gov', 'grain', 'grammar', 'grammatical', 'grammatically', 'grammer', 'graph', 'graphs', 'grasp', 'grasped', 'grasps', 'grateful', 'grea', 'greater', 'greatest', 'greath', 'greatly', 'greek', 'gritty', 'group', 'groups', 'grow', 'growth', 'gt', 'guanine', 'guard', 'guess', 'guessed', 'guessers', 'guesses', 'guessing', 'guide', 'guided', 'guise', 'gut', 'guys', 'haha', 'hahah', 'hahahahah', 'hairpin', 'half', 'halfway', 'hand', 'handy', 'happen', 'happened', 'happening', 'happens', 'happenshonestly', 'happily', 'happy', 'hard', 'harder', 'haste', 'hat', 'hate', 'havebrief', 'havent', 'havingtag', 'hazy', 'hd', 'head', 'headings', 'heads', 'heart', 'heavier', 'heavily', 'heavy', 'hefty', 'held', 'helicase', 'hellip', 'help', 'helped', 'helpful', 'helping', 'helps', 'hence', 'herrings', 'hesitant', 'hi', 'hide', 'high', 'higher', 'highest', 'highlight', 'highlighted', 'highlighting', 'highlights', 'highly', 'hint', 'hints', 'histone', 'histones', 'hit', 'hold', 'holds', 'holistic', 'hone', 'hones', 'honest', 'honestly', 'hope', 'hoped', 'hopefully', 'hoping', 'hormonal', 'hormone', 'hormones', 'however', 'hrt', 'hsa', 'https', 'huge', 'hugely', 'human', 'humor', 'hundred', 'hundreds', 'hurrying', 'hurt', 'hydrophobic', 'hydroxyl', 'hypothesis', 'hypothetical', 'idea', 'ideal', 'ideally', 'ideas', 'identical', 'identifiable', 'identification', 'identified', 'identifier', 'identifiers', 'identifies', 'identify', 'identifying', 'identity', 'idk', 'ie', 'iffy', 'ignore', 'ignored', 'ignoring', 'ii', 'iii', 'illogical', 'illusion', 'illustrate', 'illustrated', 'illustrates', 'im', 'image', 'imaged', 'images', 'imagine', 'imbalance', 'img', 'immediately', 'immensely', 'imo', 'impact', 'impactful', 'impacts', 'impaired', 'impairment', 'implementation', 'implemented', 'implementing', 'implication', 'implications', 'implicit', 'implied', 'implies', 'imply', 'implying', 'importance', 'important', 'impossible', 'impressed', 'impression', 'impressive', 'improper', 'improve', 'improved', 'improvement', 'improvements', 'improves', 'improving', 'inability', 'inaccuracies', 'inaccurate', 'inappropriate', 'inclination', 'inclined', 'include', 'included', 'includes', 'including', 'inclusion', 'inconsistency', 'inconsistent', 'inconspicuous', 'incorperate', 'incorporate', 'incorporated', 'incorporates', 'incorporating', 'incorporation', 'incorporations', 'incorrect', 'incorrectly', 'incorrectness', 'increase', 'increased', 'increases', 'increasing', 'incredible', 'incredibly', 'inculding', 'indeed', 'independent', 'independently', 'indepth', 'index', 'indicate', 'indicated', 'indicates', 'indicating', 'indication', 'indicator', 'indirect', 'individual', 'individually', 'individuals', 'induced', 'inducer', 'inducing', 'ineffectively', 'inefficiently', 'infer', 'inferences', 'inferred', 'inferring', 'influence', 'influencer', 'influences', 'info', 'informal', 'information', 'informations', 'informative', 'informed', 'informs', 'ingredients', 'inherent', 'inherently', 'inhibit', 'inhibited', 'inhibiting', 'inhibition', 'inhibitor', 'inhibitors', 'inhibits', 'iniation', 'initation', 'initial', 'initially', 'initials', 'initiate', 'initiated', 'initiates', 'initiating', 'initiation', 'initiator', 'initiators', 'inner', 'innovative', 'inosine', 'input', 'inputs', 'inquisitive', 'inr', 'insert', 'inserted', 'inserting', 'insertion', 'inside', 'insight', 'insightful', 'inspired', 'instance', 'instant', 'instantly', 'instead', 'instruct', 'instructing', 'instruction', 'instructions', 'instructor', 'insufficient', 'insulin', 'integrate', 'integrated', 'integrates', 'integrating', 'integration', 'integrity', 'intended', 'intending', 'intent', 'intention', 'intepreting', 'interact', 'interaction', 'interactions', 'interactive', 'interacts', 'interchanging', 'interest', 'interested', 'interesting', 'interestingly', 'interfere', 'interferes', 'interons', 'interpret', 'interpretation', 'interpretations', 'interpreted', 'interpreting', 'interrelated', 'interspersed', 'interweaving', 'intimate', 'intimidate', 'intimidating', 'intracellular', 'intricacies', 'intricate', 'intrigued', 'intriguing', 'intrinsic', 'intro', 'introduce', 'introduced', 'introduces', 'introducing', 'introduction', 'introductory', 'intron', 'introns', 'intuition', 'intuitive', 'intuitively', 'invalid', 'invention', 'invested', 'investigate', 'investigates', 'investigating', 'investigation', 'inviting', 'involve', 'involved', 'involves', 'involving', 'iron', 'irrelevance', 'irrelevant', 'is40', 'isemphasizing', 'islands', 'isnt', 'isolate', 'isolated', 'isolating', 'isolation', 'issue', 'issues', 'italicizing', 'italics', 'item', 'items', 'itis', 'iv', 'ive', 'jargon', 'jargons', 'jim', 'job', 'jog', 'join', 'joined', 'jot', 'jpeg', 'judging', 'juggle', 'jumbled', 'jump', 'jumping', 'junk', 'justifications', 'justified', 'justify', 'keep', 'keeping', 'keeps', 'kept', 'key', 'keyword', 'keywords', 'khanacademy', 'kick', 'kicking', 'kind', 'kinda', 'kinds', 'knew', 'knewtfs', 'knits', 'knocks', 'know', 'knoweldge', 'knowing', 'knowledgable', 'knowledge', 'knowledgeable', 'knowledges', 'known', 'knows', 'kudos', 'lab', 'labarchives', 'label', 'labeled', 'labeling', 'labelled', 'labelling', 'labels', 'laboratories', 'labs', 'lac', 'lack', 'lacked', 'lacking', 'lacks', 'lactase', 'lactose', 'laid', 'lane', 'lanes', 'language', 'large', 'largely', 'larger', 'lariat', 'last', 'lastly', 'late', 'later', 'lateral', 'latter', 'lay', 'layer', 'layout', 'ldquo', 'lead', 'leader', 'leading', 'leads', 'lean', 'leaned', 'learn', 'learned', 'learner', 'learners', 'learning', 'learnt', 'least', 'leave', 'leaves', 'leaving', 'lecture', 'lecturer', 'lectures', 'led', 'leeway', 'left', 'legitimate', 'lend', 'lends', 'length', 'lengthened', 'lengths', 'lengthy', 'less', 'lesser', 'let', 'letter', 'lettering', 'letters', 'letting', 'level', 'levels', 'leverages', 'leyman', 'li', 'lie', 'life', 'ligand', 'ligands', 'ligase', 'ligated', 'light', 'lightest', 'liked', 'likely', 'likewise', 'lil', 'limit', 'limitation', 'limited', 'limits', 'line', 'lined', 'lines', 'lings', 'link', 'linkage', 'linked', 'linking', 'links', 'lipid', 'list', 'listed', 'listened', 'listing', 'lists', 'literacy', 'literally', 'little', 'littleredundant', 'littlt', 'local', 'locality', 'located', 'location', 'locations', 'lock', 'logic', 'logical', 'logically', 'long', 'longer', 'longest', 'look', 'looked', 'looking', 'looks', 'loop', 'looping', 'loops', 'lose', 'lost', 'lot', 'lots', 'love', 'loved', 'lovely', 'low', 'lower', 'lowercase', 'lsquo', 'lt', 'lured', 'lysed', 'lysosomes', 'machiner', 'machinery', 'machiney', 'made', 'main', 'mainly', 'mainpoint', 'maintaining', 'major', 'majority', 'make', 'maker', 'makes', 'makign', 'making', 'manage', 'managed', 'manages', 'manipulate', 'manner', 'many', 'margin', 'mark', 'marker', 'marking', 'marks', 'mass', 'masses', 'match', 'matched', 'matches', 'matching', 'mate', 'material', 'materials', 'mathematically', 'matter', 'maturation', 'mature', 'matured', 'maturity', 'max', 'maximum', 'may', 'maybe', 'maze', 'mc', 'mcq', 'mcqs', 'mcquestion', 'mcs', 'mean', 'meaning', 'meaningful', 'meaningless', 'meaningof', 'meaningpeople', 'meanings', 'means', 'meant', 'measure', 'measures', 'meatphor', 'mechanism', 'mechanisms', 'mechanismsof', 'mediated', 'mediator', 'mediators', 'medical', 'medium', 'membrane', 'memories', 'memorisation', 'memorise', 'memorised', 'memorising', 'memorization', 'memorize', 'memorized', 'memorizing', 'memory', 'mensuration', 'mention', 'mentioned', 'mentioning', 'mentions', 'merciful', 'mere', 'merely', 'merit', 'message', 'messenger', 'messiness', 'messy', 'metaphor', 'metaphors', 'methionine', 'method', 'methods', 'methyl', 'methylated', 'methylation', 'metrics', 'middle', 'might', 'mind', 'minds', 'mini', 'miniature', 'minimal', 'minimise', 'miniscule', 'minor', 'mins', 'minute', 'minutes', 'mis', 'misconception', 'misconceptions', 'misdirect', 'misdirection', 'misinforming', 'misinterpret', 'misinterpretation', 'misinterpreted', 'mislead', 'misleading', 'mismatch', 'misread', 'misreading', 'misreads', 'misremembering', 'miss', 'missed', 'missing', 'misspelled', 'misspelt', 'mistake', 'mistaken', 'mistakenly', 'mistakes', 'misunderstand', 'misunderstanding', 'misunderstandings', 'misunderstood', 'misundertanding', 'mitochondria', 'mitochondrial', 'mix', 'mixed', 'mixing', 'mode', 'modification', 'modifications', 'modified', 'modifies', 'modify', 'modifying', 'modying', 'molecular', 'molecule', 'molecules', 'moment', 'monocistronic', 'monocystonic', 'monocystronic', 'monophosphate', 'moreclearly', 'moreover', 'moreso', 'mostly', 'motif', 'motifs', 'motive', 'mouthful', 'move', 'movement', 'moves', 'mrna', 'mrnas', 'much', 'muddled', 'mulling', 'multi', 'multilogical', 'multiple', 'muscle', 'must', 'mutate', 'mutated', 'mutating', 'mutation', 'mutations', 'mutually', 'mysuggestion', 'mzp', 'nadph', 'nail', 'name', 'namely', 'names', 'narrative', 'narrow', 'narrowed', 'narrows', 'natural', 'naturally', 'nature', 'navigate', 'navigating', 'nbecause', 'ncbi', 'ncp', 'ndash', 'near', 'nearly', 'neat', 'neaten', 'neater', 'necessaily', 'necessarily', 'necessary', 'necessity', 'need', 'needed', 'needing', 'needlessly', 'needs', 'negate', 'negative', 'negatives', 'nervous', 'net', 'never', 'nevertheless', 'new', 'newer', 'newly', 'next', 'nice', 'nicely', 'nicer', 'niche', 'nih', 'nit', 'nitpick', 'nitpicking', 'nitpicky', 'nitty', 'nlm', 'non', 'none', 'nonetheless', 'nonsensical', 'nonspecifically', 'nope', 'normal', 'normally', 'note', 'noted', 'notes', 'nothing', 'notice', 'noticeably', 'noticed', 'notion', 'notthoughtful', 'novel', 'npc', 'npcs', 'nrm1226', 'nrnas', 'nt', 'nts', 'nuance', 'nuanced', 'nuances', 'nuclear', 'nuclease', 'nucleases', 'nucleic', 'nucleolar', 'nucleolus', 'nucleoplasm', 'nucleosol', 'nucleotidal', 'nucleotide', 'nucleotides', 'nucleotises', 'nucleus', 'number', 'numbered', 'numbering', 'numbers', 'numerals', 'numerical', 'numerous', 'objective', 'objectives', 'obscure', 'obscurity', 'observable', 'observant', 'observation', 'observations', 'observe', 'observed', 'observing', 'obsolete', 'obtained', 'obtaining', 'obvious', 'obviously', 'occur', 'occuring', 'occurred', 'occurring', 'occurs', 'od', 'oestrogen', 'of3', 'of5', 'ofa', 'ofaberrant', 'ofadding', 'ofaminoacyl', 'ofdeadenylation', 'offer', 'offered', 'offnucleases', 'offputting', 'ofgenetic', 'ofhormone', 'ofoligo', 'ofpoly', 'ofpolycistronic', 'ofpost', 'ofprokaryotic', 'ofshine', 'ofspliceosomes', 'often', 'oftranscription', 'oh', 'oi', 'ok', 'okay', 'ol', 'olgio', 'oligo', 'oligodt', 'omit', 'omitted', 'onaminoacyl', 'oncogene', 'one', 'onece', 'onenhancer', 'ones', 'online', 'ontypes', 'oops', 'op', 'open', 'opened', 'opener', 'opens', 'operan', 'operate', 'operated', 'operating', 'operator', 'operon', 'operons', 'opinion', 'opinions', 'opportunities', 'opportunity', 'oppose', 'opposed', 'opposite', 'opposites', 'opreron', 'oprtion', 'oprton', 'opt', 'opted', 'optimal', 'option', 'options', 'order', 'ordered', 'ordering', 'orders', 'org', 'organelles', 'organisation', 'organise', 'organised', 'organism', 'organisms', 'organize', 'organized', 'organizing', 'orientate', 'orientation', 'original', 'originality', 'originally', 'ostrich', 'otehr', 'others', 'otherwise', 'ought', 'outcome', 'outcomes', 'outlandish', 'outline', 'outset', 'outside', 'outwards', 'overall', 'overarching', 'overcomplicated', 'overdoing', 'overkill', 'overlap', 'overlapping', 'overlaps', 'overlook', 'overlooked', 'overly', 'overproduction', 'overthink', 'overtly', 'overview', 'overwhelm', 'overwhelmed', 'overwhelming', 'overwhelmingly', 'overworded', 'overwordy', 'owner', 'owo', 'oxfordreference', 'pace', 'pack', 'packaging', 'packed', 'packet', 'page', 'painful', 'pair', 'paired', 'pairing', 'pairs', 'palindromic', 'pancreas', 'panicking', 'paper', 'papers', 'paragraph', 'parallel', 'parameter', 'parameters', 'parentheses', 'parse', 'part', 'partial', 'partially', 'participate', 'particular', 'particularly', 'parts', 'pass', 'passive', 'past', 'paste', 'path', 'pathway', 'pathways', 'patience', 'patient', 'pattern', 'pause', 'pave', 'pay', 'paying', 'pde', 'pedantic', 'peer', 'peers', 'peerwise', 'peopel', 'people', 'peptide', 'peptidyl', 'per', 'perception', 'perceptive', 'perfect', 'perfectly', 'performed', 'performing', 'perhaps', 'permease', 'permeases', 'permutations', 'perplexing', 'person', 'personal', 'personally', 'personified', 'perspective', 'pertain', 'pertaining', 'petty', 'pharmaceutical', 'pharmacology', 'phases', 'phasing', 'phe', 'phenomenon', 'pho', 'phosphatases', 'phosphates', 'phosphodiester', 'phosphorylate', 'phosphorylates', 'phosphorylating', 'phosphorylation', 'photo', 'php', 'phrase', 'phrased', 'phrases', 'phrasing', 'physical', 'physiological', 'pice', 'pick', 'picked', 'picking', 'picks', 'picky', 'picture', 'pictured', 'pictures', 'piece', 'pieces', 'piecing', 'pigs', 'pin', 'pitfalls', 'pity', 'place', 'placed', 'placement', 'places', 'placing', 'plagiarising', 'plain', 'planned', 'planning', 'plausibility', 'plausible', 'play', 'played', 'player', 'players', 'plays', 'pleasant', 'pleasantly', 'please', 'pleasing', 'plenty', 'plus', 'pmc', 'pmc22815', 'pmc3205564', 'point', 'pointed', 'pointing', 'pointless', 'points', 'pol', 'poladenylation', 'poli', 'politely', 'polmerases', 'pols', 'poly', 'polya', 'polyadenalation', 'polyadenylation', 'polyadenylationb', 'polyadenylenation', 'polycistronic', 'polycystonic', 'polymeraises', 'polymerase', 'polymerases', 'polymerasethank', 'polypeptide', 'pool', 'poor', 'poorly', 'popular', 'pore', 'pores', 'porkryotic', 'portion', 'portions', 'portrays', 'pose', 'posing', 'position', 'positions', 'positive', 'possbily', 'possess', 'possessed', 'possibilities', 'possibility', 'possible', 'possibly', 'post', 'posted', 'postmodification', 'posttranscriptional', 'potential', 'potentially', 'potnential', 'practical', 'practically', 'practice', 'pre', 'preamble', 'precise', 'precision', 'precursor', 'precursors', 'predict', 'predicted', 'prediction', 'prefer', 'preferable', 'preference', 'premature', 'premise', 'preoccupied', 'preoccupying', 'prepare', 'prepared', 'prepares', 'presence', 'present', 'presentation', 'presented', 'presenting', 'presents', 'pressed', 'pressure', 'pressures', 'pretty', 'prevalence', 'prevent', 'prevented', 'preventing', 'prevents', 'previous', 'previously', 'pribnow', 'primarily', 'prime', 'primer', 'primers', 'principle', 'principles', 'prior', 'probability', 'probable', 'probably', 'problem', 'problems', 'procaryotes', 'procaryotic', 'proceed', 'proceeds', 'process', 'processby', 'processed', 'processes', 'processesthe', 'processing', 'produce', 'produced', 'producing', 'product', 'production', 'productis', 'products', 'professional', 'professionally', 'professor', 'proffers', 'program', 'progress', 'prokaryokes', 'prokaryote', 'prokaryotes', 'prokaryotic', 'proliferation', 'promote', 'promoter', 'promoters', 'promotes', 'promotion', 'promotor', 'promotors', 'prompt', 'prompts', 'prone', 'proof', 'proofread', 'proofreading', 'proper', 'properly', 'properties', 'property', 'propogation', 'proposed', 'prosperity', 'protect', 'protecting', 'protects', 'protein', 'proteins', 'proteinsdifferentiate', 'protest', 'protocol', 'prove', 'provide', 'provided', 'provides', 'providing', 'provocative', 'provoke', 'provoking', 'proximity', 'pseudo', 'pull', 'punctuation', 'pure', 'purely', 'purification', 'purify', 'purine', 'purines', 'purple', 'purpose', 'purposes', 'pushing', 'put', 'puts', 'putting', 'puzzle', 'puzzled', 'pyramid', 'pyrimidine', 'pyrophophase', 'qs', 'qu', 'qualifies', 'qualities', 'quality', 'quesition', 'quesitonin', 'quest', 'questionbut', 'questioned', 'questioni', 'questioning', 'questions', 'questionthought', 'quick', 'quicker', 'quickly', 'quiet', 'quit', 'quite', 'quiz', 'quote', 'quotes', 'racing', 'rail', 'rails', 'ramifications', 'ran', 'random', 'range', 'ranging', 'ranking', 'rapidly', 'rare', 'rarely', 'ratcheted', 'rate', 'rater', 'rates', 'ratespeed', 'rather', 'rating', 'ratio', 'rationale', 'raw', 'rdquo', 'reach', 'reaches', 'reaction', 'reactions', 'reactome', 'read', 'readability', 'readable', 'reader', 'readers', 'readfor', 'readily', 'reading', 'readings', 'readjusted', 'reads', 'ready', 'real', 'realise', 'realised', 'realising', 'realistic', 'reality', 'realize', 'realized', 'realizing', 'rearrange', 'rearranged', 'rearrangement', 'rearranging', 'reason', 'reasona', 'reasonable', 'reasonably', 'reasoning', 'reasons', 'recall', 'recalled', 'recalling', 'recallrecall', 'recalls', 'receive', 'received', 'recent', 'receptor', 'receptors', 'reckon', 'recognisable', 'recognise', 'recognised', 'recognises', 'recognising', 'recognition', 'recognize', 'recognized', 'recognizes', 'recollect', 'recollecting', 'recollection', 'recommend', 'recommendation', 'recommended', 'reconsider', 'recraft', 'recruit', 'recruited', 'recruiting', 'recruitment', 'recruits', 'rectified', 'recycling', 'red', 'redone', 'redrawing', 'reduce', 'reduced', 'reduces', 'redundancy', 'redundant', 'reed', 'refer', 'reference', 'referenced', 'references', 'referred', 'referring', 'refers', 'refinement', 'refining', 'refinment', 'reflect', 'reflection', 'reflective', 'reflects', 'reformatting', 'reframe', 'reframing', 'refresh', 'refreshed', 'refresher', 'refreshing', 'refreshingly', 'refuting', 'regard', 'regarding', 'regardingthe', 'regardless', 'regards', 'region', 'regions', 'registered', 'regrets', 'regulate', 'regulated', 'regulates', 'regulating', 'regulation', 'regulator', 'regurgitating', 'regurgitation', 'reinforce', 'reinforces', 'reject', 'relatable', 'relate', 'related', 'relates', 'relating', 'relation', 'relations', 'relationship', 'relationships', 'relative', 'relatively', 'release', 'relevance', 'relevancy', 'relevant', 'reliant', 'relied', 'relies', 'rely', 'relying', 'remain', 'remainedon', 'remaining', 'remainingfeasible', 'remark', 'remember', 'remembered', 'remembering', 'remembrance', 'remind', 'reminded', 'reminder', 'reminds', 'removal', 'remove', 'removed', 'removes', 'removing', 'rendered', 'rendition', 'reorganized', 'reorganizing', 'repeat', 'repeated', 'repeatedly', 'repeating', 'repetitive', 'repetitiveness', 'rephrase', 'rephrased', 'rephrasing', 'replace', 'replaced', 'replacement', 'replacing', 'replicate', 'replicating', 'replication', 'reply', 'reponse', 'repost', 'represent', 'representation', 'representing', 'represents', 'repressed', 'repressor', 'repressors', 'requesting', 'require', 'required', 'requiredfix', 'requirement', 'requirements', 'requirerequires', 'requires', 'requiring', 'requirment', 'reread', 'rereading', 'research', 'researched', 'researchers', 'resemables', 'resemble', 'resembles', 'residue', 'residues', 'resist', 'resolve', 'resonant', 'respect', 'respective', 'respondent', 'respondents', 'responds', 'response', 'responses', 'responsible', 'rest', 'restate', 'restaurant', 'restricted', 'restriction', 'restructure', 'resubmitting', 'result', 'resultant', 'resulted', 'resulting', 'results', 'retains', 'retell', 'retention', 'rethinking', 'reticulum', 'revamp', 'revealed', 'revealing', 'reveals', 'reverse', 'reversed', 'review', 'reviewed', 'reviewing', 'revise', 'revised', 'revising', 'revision', 'revisions', 'revisit', 'revisited', 'revolve', 'revolves', 'revolving', 'rewarding', 'reword', 'reworded', 'rewording', 'rewrite', 'rewriting', 'rewritten', 'rewrote', 'rho', 'ribonucleoside', 'ribose', 'ribosomal', 'ribosome', 'ribosomes', 'rich', 'richshine', 'rid', 'rifamcin', 'rifampicin', 'righ', 'right', 'rise', 'risk', 'rna', 'rnaand', 'rnapolymerase', 'rnas', 'rnas2', 'rnas3', 'robotic', 'role', 'roles', 'roll', 'roman', 'room', 'rooms', 'root', 'rope', 'rot', 'rote', 'rough', 'roughly', 'round', 'rounded', 'route', 'row', 'rows', 'rrna', 'rrnas', 'rsquo', 'rule', 'ruled', 'ruling', 'run', 'running', 'runs', 'rush', 'rushed', 'rushing', 'sad', 'said', 'saidrna', 'sake', 'salt', 'save', 'saved', 'saw', 'say', 'saying', 'sayingthe', 'says', 'scale', 'scanned', 'scanning', 'scarce', 'scenario', 'scenarios', 'scene', 'schematic', 'scheme', 'scholars', 'school', 'science', 'scientific', 'scope', 'score', 'scores', 'scoring', 'scrapped', 'screen', 'scribble', 'scrolling', 'scrutinise', 'se', 'seamlessly', 'search', 'searching', 'sec', 'second', 'secondly', 'seconds', 'section', 'sections', 'sedimentation', 'see', 'seeing', 'seem', 'seemed', 'seeming', 'seemingly', 'seems', 'seen', 'segment', 'segmented', 'segments', 'select', 'selected', 'selecting', 'selection', 'selections', 'selective', 'self', 'semantics', 'semester', 'senario', 'sending', 'sense', 'senses', 'sent', 'sentence', 'sentences', 'sentiment', 'separate', 'separated', 'separately', 'separates', 'separating', 'separation', 'seperate', 'seperated', 'seperation', 'seqeunce', 'sequence', 'sequences', 'sequencially', 'sequencing', 'sequential', 'series', 'serine', 'serious', 'serve', 'served', 'serves', 'set', 'sets', 'setting', 'setup', 'several', 'shape', 'share', 'sharing', 'sheer', 'shie', 'shift', 'shine', 'shock', 'short', 'shortcut', 'shorten', 'shortened', 'shortening', 'shorter', 'shoudl', 'show', 'showcasing', 'showed', 'showing', 'shown', 'shows', 'shrink', 'shuffled', 'side', 'sided', 'sift', 'sigma', 'sign', 'signal', 'signalling', 'signals', 'significance', 'significant', 'significantly', 'silent', 'silly', 'similar', 'similarities', 'similarity', 'similarly', 'similiar', 'simple', 'simpler', 'simplest', 'simplicity', 'simplified', 'simplify', 'simplifying', 'simplisitic', 'simplistic', 'simplistically', 'simply', 'simultaneously', 'simultaneouslythis', 'since', 'sinceguinea', 'single', 'singled', 'sir', 'sit', 'site', 'sites', 'sits', 'situ', 'situation', 'situational', 'situations', 'size', 'skeptical', 'sketch', 'skilful', 'skill', 'skills', 'skim', 'skimmed', 'skip', 'slice', 'slices', 'slicing', 'slide', 'slide15', 'slides', 'sliding', 'slight', 'slightly', 'slippage', 'slow', 'slower', 'slowly', 'slows', 'small', 'smart', 'smarter', 'smoothly', 'sneaky', 'snorna', 'snornas', 'snrna', 'snrnas', 'snrnasin', 'snrnp', 'solely', 'solid', 'solidify', 'solidifying', 'solution', 'solutions', 'solve', 'solving', 'somebody', 'somehow', 'someone', 'something', 'sometimes', 'somewhat', 'somewhere', 'soon', 'sophisticated', 'sophisticatedly', 'sophistication', 'sorry', 'sort', 'sound', 'sounde', 'sounded', 'sounding', 'sounds', 'source', 'sourced', 'sources', 'space', 'spaces', 'span', 'spatial', 'spatially', 'speak', 'speaking', 'special', 'specific', 'specifically', 'specificity', 'specifics', 'specified', 'specify', 'specifying', 'speculation', 'speed', 'spelling', 'spend', 'spending', 'spent', 'spicing', 'spit', 'splice', 'spliced', 'spliceosome', 'spliceosomes', 'splicesome', 'splicesosome', 'splicing', 'splicingother', 'splicosome', 'split', 'splitting', 'spoken', 'spot', 'spoted', 'spotted', 'spread', 'square', 'squares', 'src', 'stabilisation', 'stability', 'stabilitytranslation', 'stable', 'stabs', 'stacked', 'stage', 'stages', 'stand', 'standard', 'standout', 'standpoint', 'stands', 'start', 'started', 'starter', 'starting', 'starts', 'state', 'stated', 'statement', 'statements', 'states', 'stating', 'statistical', 'stay', 'stays', 'steered', 'stem', 'stems', 'step', 'stepaminoacyl', 'stepping', 'steps', 'steroid', 'steroids', 'stick', 'sticking', 'still', 'stimulate', 'stimulated', 'stimulates', 'stimulatory', 'stimulus', 'stirs', 'stoichiometry', 'stood', 'stop', 'stopping', 'story', 'straighforward', 'straight', 'straightforward', 'straightforwardness', 'straightforwardquestion', 'straightfoward', 'strand', 'stranded', 'strands', 'strange', 'strangely', 'strategic', 'strategies', 'strategy', 'streamline', 'street', 'strength', 'strengthen', 'strengthened', 'strengths', 'strenuous', 'stress', 'stressed', 'stressful', 'striaghtforward', 'strictly', 'strong', 'stronger', 'strongest', 'strongly', 'structual', 'structural', 'structure', 'structured', 'structures', 'struggle', 'struggled', 'struggles', 'struggling', 'stuck', 'student', 'students', 'studied', 'studies', 'studnet', 'study', 'studying', 'stuff', 'stuffs', 'stumped', 'style', 'styled', 'sub', 'subject', 'subjective', 'subjects', 'submitted', 'subsequent', 'subsequently', 'substance', 'substances', 'substantial', 'substitute', 'substituted', 'substitutes', 'substitution', 'substrate', 'substrates', 'subtle', 'subtlety', 'subtly', 'subunit', 'subunitis', 'subunits', 'subvert', 'subverts', 'successful', 'successfully', 'succinct', 'sudden', 'suffice', 'sufficient', 'sufficiently', 'suffix', 'suggest', 'suggested', 'suggesting', 'suggestion', 'suggestions', 'suggests', 'suit', 'suitability', 'suitable', 'suited', 'sum', 'summarise', 'summarised', 'summarizing', 'summary', 'sums', 'super', 'suporessor', 'supplement', 'supplementary', 'supplementation', 'supplies', 'supply', 'supporsed', 'support', 'suppose', 'supposed', 'suppressed', 'sure', 'surface', 'surprised', 'surrounding', 'survival', 'susceptible', 'suspect', 'swap', 'swapping', 'swayed', 'switch', 'switched', 'switcheroo', 'switching', 'syllabu', 'syllabus', 'symbols', 'symptoms', 'syntax', 'synthesis', 'synthesise', 'synthesised', 'synthesises', 'synthesising', 'synthesize', 'synthesized', 'synthetase', 'synthetases', 'system', 'systematically', 'systems', 'taa', 'table', 'tables', 'tackle', 'tactic', 'tad', 'tag', 'taht', 'tail', 'tailprotects', 'tails', 'take', 'taken', 'taker', 'takes', 'taking', 'talk', 'talked', 'talking', 'talks', 'tangible', 'tangling', 'tap', 'target', 'targeted', 'targeting', 'targets', 'tarnscription', 'task', 'tata', 'tataat', 'taught', 'taxonomy', 'tazonomy', 'tbh', 'teacher', 'teaching', 'teaser', 'technical', 'technicalities', 'technicality', 'technically', 'technique', 'techniques', 'technqiues', 'tedious', 'teetering', 'tell', 'telling', 'tells', 'template', 'temporal', 'temporally', 'tempt', 'tempting', 'tend', 'tends', 'term', 'terminal', 'terminals', 'terminated', 'terminating', 'termination', 'terminology', 'terms', 'terrified', 'test', 'testament', 'tested', 'testify', 'testing', 'testosterone', 'testpolycistronic', 'tests', 'texplanation', 'text', 'textbook', 'texts', 'tf', 'tfii', 'tfs', 'tga', 'tha', 'thank', 'thanks', 'thatare', 'thatas', 'thatbut', 'thatdeadenylation', 'thatrna', 'thats', 'the45s', 'theaddition', 'thecodon', 'thediagram', 'theenhancer', 'theknowledge', 'theme', 'theoretical', 'theories', 'theory', 'thepoly', 'thereby', 'therefore', 'thereof', 'theres', 'theri', 'theright', 'theshine', 'thetranscription', 'theweird', 'thin', 'thing', 'things', 'thinker', 'thinking', 'thinkingtoo', 'third', 'thisquestion', 'tho', 'thorough', 'thoroughly', 'though', 'thought', 'thoughtful', 'thoughtfully', 'thoughts', 'thousand', 'thousands', 'three', 'threonine', 'threw', 'throughout', 'throughs', 'throught', 'throw', 'throwaway', 'throwing', 'thrown', 'throws', 'thus', 'thymine', 'tided', 'tidy', 'tie', 'tier', 'ties', 'tight', 'tightened', 'tightening', 'tightens', 'tightly', 'time', 'timed', 'timeline', 'times', 'tiny', 'tip', 'title', 'todo', 'toexpect', 'toformylmethionine', 'together', 'told', 'tolerance', 'tone', 'took', 'tool', 'top', 'topic', 'topics', 'topromoter', 'toset', 'toss', 'tossing', 'total', 'totally', 'tothe', 'touch', 'touched', 'touches', 'tough', 'toward', 'towards', 'toy', 'track', 'train', 'trancription', 'trans', 'transcipt', 'transcribe', 'transcribed', 'transcribes', 'transcribing', 'transcript', 'transcripted', 'transcription', 'transcriptional', 'transcriptionexplicitis', 'transcriptoin', 'transcripts', 'transcritpion', 'transesterification', 'transesterifications', 'transfer', 'transferase', 'transferred', 'transformed', 'transient', 'transition', 'translate', 'translated', 'translates', 'translating', 'translation', 'translational', 'transport', 'transportation', 'transported', 'transporters', 'transporting', 'trap', 'trapped', 'traps', 'travel', 'treat', 'treating', 'tremendously', 'trend', 'trial', 'trick', 'tricked', 'tricker', 'trickier', 'tricking', 'tricks', 'trickyregardless', 'tried', 'trigger', 'triggers', 'trim', 'trimmed', 'trimming', 'trinucleotide', 'trip', 'triphosphates', 'tripped', 'tripping', 'trips', 'triptophan', 'trivial', 'trna', 'trnas', 'trnasynthetase', 'trouble', 'troubles', 'troubleshooting', 'trp', 'trpoperon', 'true', 'truely', 'truly', 'truns', 'truth', 'try', 'trying', 'tryptophan', 'trytophan', 'ttgaca', 'tu', 'tumor', 'tune', 'turn', 'turner', 'turning', 'tweak', 'tweaked', 'tweaking', 'tweaks', 'twice', 'twist', 'two', 'twofold', 'type', 'typed', 'types', 'typical', 'typically', 'typing', 'typo', 'typos', 'u1', 'u2', 'u6', 'uaa', 'ucc', 'ucu', 'uga', 'ugg', 'ul', 'ultimately', 'unable', 'unambiguous', 'uncertain', 'uncertainty', 'unchanged', 'unclear', 'uncontrolled', 'uncoupled', 'undeniably', 'undergo', 'undergoes', 'underline', 'underlined', 'underlining', 'underlying', 'underneath', 'underpinning', 'understand', 'understandable', 'understanding', 'understandingrho', 'understandings', 'understands', 'understood', 'undoubtedly', 'unecessary', 'unfair', 'unfamiliar', 'unfamiliarity', 'unfinished', 'unforseen', 'unfortunate', 'unfortunately', 'unhappy', 'unhelpful', 'uni', 'unique', 'uniquely', 'uniqueness', 'unit', 'units', 'universal', 'universality', 'unknown', 'unless', 'unlike', 'unlikely', 'unmatched', 'unnecessarily', 'unnecessary', 'unpack', 'unpacking', 'unpredictable', 'unprofessional', 'unrealistic', 'unrelated', 'unseen', 'unsuited', 'unsure', 'untrained', 'untrue', 'unusual', 'unwinding', 'unwinds', 'upgrade', 'upon', 'upper', 'upsetting', 'upsteam', 'upstream', 'upstreampromoter', 'uracil', 'uracils', 'urges', 'us', 'usage', 'use', 'used', 'useful', 'useless', 'uses', 'using', 'usual', 'usually', 'utilise', 'utilised', 'utilises', 'utilising', 'uua', 'uuc', 'uug', 'uuu', 'uuuu', 'vague', 'vaguely', 'valid', 'valuable', 'value', 'values', 'variability', 'variable', 'variables', 'variances', 'variation', 'variations', 'varied', 'variety', 'various', 'vary', 'varying', 'vastly', 'ver', 'verb', 'verbally', 'verbose', 'verbosity', 'verbs', 'versa', 'versed', 'version', 'vesicles', 'via', 'viable', 'vice', 'view', 'viewed', 'views', 'viral', 'virus', 'viruses', 'visual', 'visualisation', 'visualise', 'visualising', 'visualize', 'visually', 'visuals', 'vital', 'vocabulary', 'vs', 'wait', 'wake', 'walls', 'wanna', 'want', 'wanted', 'wants', 'warding', 'ware', 'warm', 'warning', 'warrant', 'waste', 'wasted', 'wastes', 'wasting', 'water', 'way', 'ways', 'wayyy', 'weak', 'weaker', 'wealth', 'webpage', 'weed', 'weigh', 'weighing', 'weight', 'weird', 'weirdly', 'welcome', 'went', 'whatever', 'whatpost', 'whatsoever', 'whereabouts', 'whereas', 'whereby', 'wherein', 'whether', 'whichis', 'whichpolycistronic', 'whilst', 'whoever', 'whole', 'wholesequence', 'wholespliceosome', 'whoops', 'whtat', 'wide', 'wider', 'willing', 'winded', 'wise', 'wish', 'wished', 'wishes', 'witha', 'within', 'without', 'wobble', 'wobbling', 'wold', 'wonder', 'wonderful', 'wonderfully', 'wondering', 'wont', 'word', 'worded', 'wordiness', 'wording', 'wordings', 'wordplay', 'words', 'wordths', 'wordy', 'work', 'worked', 'working', 'workings', 'works', 'world', 'worn', 'worry', 'worrying', 'worse', 'worst', 'worth', 'worthwhile', 'worthy', 'wow', 'wrap', 'write', 'writer', 'writing', 'written', 'wrong', 'wrongformula', 'wrongly', 'wrote', 'www', 'xd', 'xx', 'xxxxx', 'xyu', 'yard', 'year', 'yeast', 'yes', 'yet', 'yield', 'youre', 'youshould', 'youve', 'yyu', 'zinc', 'zny']\n"
          ],
          "name": "stdout"
        }
      ]
    },
    {
      "cell_type": "code",
      "metadata": {
        "id": "ntY49jXcv8-g",
        "outputId": "8cbe5a02-c5f4-463f-da15-59e843d55452",
        "colab": {
          "base_uri": "https://localhost:8080/"
        }
      },
      "source": [
        "print('Feature names:\\n', vectorise.get_feature_names())"
      ],
      "execution_count": 11,
      "outputs": [
        {
          "output_type": "stream",
          "text": [
            "Feature names:\n",
            " ['000', '000nt', '07', '10', '100', '10000', '1093', '10nt', '11', '12', '12290', '15', '150', '16s', '18', '18s', '1st', '20110803100335437', '25', '250', '25nm', '25nt', '25s', '27', '28', '28s', '2nd', '30', '300', '30bp', '32', '35', '383727', '383939', '383941', '384002', '384042', '384163', '384542', '3rd', '40', '429947', '45s', '4th', '50', '50s', '5s', '5th', '60', '64', '65281', '65292', '6s', '70', '700bp', '70s', '85s', '8s', '8th', '__', '___', '____', '_____', '______', '____d____', '___a___', '___b___', '___c___to', 'aa', 'abbreviations', 'abbriviation', 'abcd', 'aberrant', 'abherrent', 'abilities', 'ability', 'abit', 'able', 'abled', 'abnormal', 'aboutcodon', 'aboutinitiators', 'aboutpolycistronic', 'abouttranscription', 'absence', 'absent', 'absolute', 'absolutely', 'absorb', 'absorbed', 'abstract', 'abundant', 'academically', 'accelerate', 'accept', 'access', 'accessible', 'accidental', 'accidentally', 'accompanied', 'accompaniment', 'accompany', 'accompanying', 'according', 'accordingly', 'account', 'accuracy', 'accurate', 'accurately', 'achievable', 'achieve', 'achieved', 'achievement', 'acid', 'acids', 'acknowledge', 'acknowledgement', 'acquaint', 'across', 'act', 'acted', 'acting', 'action', 'actionhonestly', 'activated', 'activates', 'activating', 'activation', 'activators', 'active', 'activities', 'activity', 'acts', 'actual', 'actually', 'add', 'added', 'adding', 'addition', 'additional', 'additionally', 'address', 'addressed', 'addresses', 'addressing', 'adds', 'adenosine', 'adenylate', 'adenylated', 'adenylation', 'adequate', 'adequately', 'adjust', 'adjusted', 'adjustment', 'adjustments', 'admit', 'adopting', 'advanced', 'advantage', 'advantageous', 'advice', 'advised', 'aesthetic', 'affect', 'affected', 'affecting', 'affects', 'affinity', 'afford', 'aforementioned', 'afraid', 'aga', 'aganositic', 'aged', 'agnostic', 'ago', 'agonist', 'agonistic', 'agonists', 'agree', 'agreeance', 'agreed', 'agreeing', 'agrreance', 'agu', 'ah', 'ahaha', 'aid', 'aided', 'aiding', 'aids', 'aim', 'aimed', 'aims', 'air', 'aka', 'albeit', 'alernative', 'aligns', 'alike', 'allocated', 'allow', 'allowed', 'allowing', 'allows', 'allude', 'alluded', 'almost', 'alone', 'along', 'alongside', 'alot', 'alphabet', 'already', 'alright', 'also', 'alt', 'alter', 'alteration', 'alterations', 'altered', 'altering', 'alternate', 'alternative', 'alternatively', 'alternatives', 'although', 'altogether', 'always', 'amazing', 'ambiguities', 'ambiguity', 'ambiguous', 'ambiguously', 'amble', 'amendments', 'amination', 'amino', 'aminoacyl', 'among', 'amongst', 'amount', 'amounts', 'amp', 'amplified', 'amplify', 'analogies', 'analogous', 'analogy', 'analyse', 'analysed', 'analysing', 'analysis', 'analytical', 'analyze', 'analyzing', 'anatgonistic', 'and5', 'and___', 'andalternative', 'andapply', 'andhelp', 'andidentify', 'andoverall', 'andphosphorylates', 'angle', 'anneal', 'annealing', 'annoyed', 'annoying', 'annuclear', 'another', 'anotheroutcome', 'answer', 'answered', 'answerer', 'answergood', 'answering', 'answers', 'answerthe', 'antagonist', 'antagonistic', 'antagonists', 'anti', 'antibiotic', 'antibiotics', 'antibodies', 'anticipate', 'anticoding', 'anticodon', 'anticodons', 'antiparallel', 'antisense', 'anwsers', 'anyone', 'anything', 'anyway', 'anyways', 'anywhere', 'apart', 'apoly', 'apparent', 'appealing', 'appear', 'appearance', 'appeared', 'appearing', 'appears', 'applicable', 'application', 'applications', 'applied', 'applies', 'apply', 'applying', 'appreciate', 'appreciated', 'approach', 'approachable', 'approached', 'approaching', 'appropriate', 'appropriately', 'approximate', 'apt', 'aq', 'arbitrary', 'area', 'areas', 'aredistinctly', 'areintroduced', 'areintrons', 'aresynthesised', 'arginine', 'arguably', 'argue', 'argument', 'arise', 'arm', 'around', 'arrange', 'arranged', 'arrangement', 'array', 'arrow', 'article', 'articles', 'articulate', 'articulated', 'articulation', 'asbacteriostatic', 'ascenario', 'aside', 'ask', 'asked', 'asking', 'asks', 'asnot', 'asnwer', 'asp', 'aspect', 'aspects', 'aspolycistronic', 'assemble', 'assembled', 'assembly', 'assertion', 'asses', 'assess', 'assessed', 'assesses', 'assessing', 'assessment', 'assign', 'assigned', 'assist', 'assisted', 'assisting', 'assists', 'associate', 'associated', 'associating', 'association', 'asspatial', 'assume', 'assumed', 'assuming', 'assumption', 'asterisk', 'asuniversality', 'atp', 'attach', 'attached', 'attaching', 'attachment', 'attachments', 'attacking', 'attacks', 'attempt', 'attempting', 'attempts', 'attention', 'attentively', 'attentiveness', 'attenuation', 'attenuator', 'attract', 'attracted', 'attracts', 'attributes', 'aucg', 'audience', 'aug', 'augs', 'author', 'authority', 'automatically', 'availability', 'available', 'avenues', 'average', 'avoid', 'avoided', 'avoiding', 'avoids', 'aware', 'away', 'awesome', 'awkward', 'axes', 'back', 'background', 'backstory', 'backwards', 'bacteria', 'bacterial', 'bactericidal', 'bacteriocidal', 'bacteriostatic', 'baffling', 'bagatelle', 'bail', 'baking', 'balance', 'balanced', 'balancing', 'ball', 'ballpark', 'balls', 'bamboozle', 'band', 'banks', 'bare', 'basal', 'base', 'based', 'baseline', 'basepairs', 'bases', 'basic', 'basically', 'basicish', 'basics', 'basis', 'bc', 'bcmb', 'bcmb2001', 'beacuse', 'beautiful', 'beautifully', 'became', 'become', 'becomes', 'becoming', 'beforehand', 'begin', 'beginning', 'begins', 'behalf', 'behaviour', 'behind', 'believable', 'believe', 'believed', 'belong', 'belongs', 'bend', 'beneficial', 'benefit', 'benefitting', 'bennefit', 'beside', 'besides', 'best', 'bet', 'beta', 'better', 'betweenoligo', 'betweentranscription', 'betwesen', 'beyond', 'biding', 'big', 'bigger', 'biggest', 'bilayer', 'bind', 'binding', 'binds', 'bindthe', 'bindto', 'bio', 'biochemical', 'biochemistry', 'biologists', 'biology', 'biosynthetic', 'biotic', 'bit', 'bits', 'black', 'blank', 'blanks', 'blatantly', 'blend', 'block', 'blocked', 'blocks', 'bloom', 'blooms', 'bloomsthere', 'bloons', 'blue', 'blurred', 'bob', 'body', 'boggling', 'bold', 'bolded', 'bolding', 'bombarded', 'bond', 'bonding', 'bonds', 'book', 'boost', 'booster', 'boosting', 'bother', 'bottom', 'bound', 'boundaries', 'bounds', 'box', 'boxes', 'bp', 'br', 'bracket', 'bracketas', 'brackets', 'brain', 'brainstorming', 'branch', 'branching', 'brand', 'breadth', 'break', 'breaks', 'breast', 'bridge', 'bridged', 'bridging', 'brief', 'briefer', 'briefly', 'brilliant', 'bring', 'brings', 'broad', 'broader', 'broadly', 'broken', 'brought', 'browser', 'brush', 'brute', 'bubble', 'buddy', 'build', 'building', 'built', 'bullet', 'bunch', 'burden', 'butif', 'bychanging', 'byoestrogen', 'caa', 'caat', 'cake', 'calculated', 'calculation', 'calculator', 'calibre', 'called', 'calling', 'calls', 'came', 'camp', 'cancel', 'cancer', 'candidate', 'canexert', 'cannot', 'cant', 'cap', 'capabilities', 'capable', 'capacities', 'capital', 'capitalisation', 'capitalise', 'capitalising', 'capitalization', 'capitalize', 'capitalized', 'capitalizing', 'capitals', 'capitilise', 'capped', 'capping', 'cappingd', 'caps', 'capture', 'captured', 'care', 'careful', 'carefully', 'careless', 'cargo', 'carries', 'cascade', 'cascades', 'case', 'cases', 'casual', 'cat', 'catch', 'catcher', 'catching', 'categories', 'category', 'caught', 'causal', 'cause', 'caused', 'causes', 'causing', 'cca', 'ceasing', 'cell', 'cellfor', 'cells', 'cellsresponse', 'cements', 'centered', 'central', 'centred', 'certain', 'certainly', 'cg', 'chain', 'challanging', 'challenge', 'challenged', 'challenges', 'challenging', 'chance', 'change', 'changed', 'changes', 'changing', 'channel', 'channels', 'characterised', 'characteristic', 'characteristics', 'characters', 'chart', 'charts', 'check', 'checked', 'checking', 'chemical', 'choice', 'choices', 'choose', 'chooseto', 'choosing', 'chose', 'chosen', 'chunks', 'chunky', 'circular', 'cis', 'citing', 'clarification', 'clarified', 'clarifies', 'clarify', 'clarifying', 'clarity', 'class', 'classes', 'classic', 'classified', 'classmates', 'clause', 'clean', 'cleaned', 'cleaning', 'clear', 'cleared', 'clearer', 'clearest', 'clearing', 'clearly', 'clears', 'cleavage', 'cleave', 'cleaved', 'cleaving', 'clever', 'cleverly', 'clicked', 'clock', 'close', 'closely', 'closer', 'clue', 'clues', 'clumsy', 'cluster', 'clustered', 'co', 'coactivators', 'code', 'coded', 'codes', 'coding', 'codon', 'codons', 'cognition', 'cognitive', 'coherent', 'cohesive', 'cohort', 'coli', 'colleague', 'collect', 'collection', 'colour', 'colours', 'column', 'columns', 'com', 'combat', 'combination', 'combinations', 'combine', 'combined', 'combines', 'combining', 'come', 'comes', 'comfortably', 'comforting', 'comfy', 'coming', 'comma', 'commend', 'comment', 'commentated', 'commentators', 'commented', 'commenter', 'commenters', 'commentors', 'comments', 'common', 'commonly', 'communicated', 'communication', 'community', 'compact', 'compare', 'compared', 'comparing', 'comparison', 'comparisons', 'compbat', 'compelling', 'compensate', 'competent', 'complaints', 'complement', 'complementary', 'complementing', 'complements', 'complete', 'completely', 'completes', 'completing', 'complex', 'complexes', 'complexity', 'complicate', 'complicated', 'complicating', 'component', 'components', 'composition', 'comprehend', 'comprehendible', 'comprehending', 'comprehension', 'comprehensive', 'compressed', 'comprised', 'compromise', 'compromises', 'compromising', 'concealing', 'concentrate', 'concentration', 'concept', 'concepts', 'conceptual', 'conceptually', 'concern', 'concerned', 'concerning', 'concerns', 'concise', 'concisely', 'conciseness', 'concision', 'conclude', 'conclusion', 'concrete', 'condense', 'condensed', 'condensing', 'condition', 'conditional', 'conditions', 'condon', 'condons', 'conducted', 'confidence', 'confident', 'confidently', 'confirm', 'confirmed', 'confirms', 'conformation', 'conformational', 'confounding', 'confronting', 'confued', 'confuse', 'confused', 'confuses', 'confusing', 'confusingly', 'confusion', 'congrats', 'congratulations', 'conjunction', 'connect', 'connected', 'connection', 'connections', 'connects', 'consecutive', 'consensus', 'consequence', 'consequences', 'consider', 'considerably', 'consideration', 'considerations', 'considered', 'considering', 'consist', 'consistency', 'consistent', 'consolidate', 'consolidating', 'constant', 'constantly', 'construct', 'constructed', 'constructing', 'constructional', 'constructive', 'consuming', 'contain', 'contained', 'containing', 'contains', 'contemplate', 'content', 'contention', 'contents', 'context', 'contexts', 'contextual', 'contextualisation', 'contextualises', 'contextualizing', 'continue', 'continues', 'continuity', 'contradict', 'contradicting', 'contradictory', 'contradicts', 'contrast', 'contribute', 'contributes', 'contributing', 'control', 'controlled', 'convaluted', 'convenient', 'convention', 'conversational', 'convert', 'converting', 'convey', 'conveyed', 'convinced', 'convincing', 'convoluted', 'convolution', 'cookie', 'cookies', 'cool', 'cooling', 'cop', 'cope', 'copied', 'copies', 'copy', 'copying', 'core', 'corepressor', 'corepressors', 'corrcet', 'correct', 'correctdiagram', 'corrected', 'correcting', 'correctly', 'correctness', 'correspond', 'corresponding', 'corresponds', 'cost', 'costs', 'couldrephrase', 'count', 'counteracts', 'counterparts', 'counting', 'counts', 'couple', 'coupled', 'coupling', 'course', 'cover', 'coverage', 'covered', 'covering', 'covers', 'cpd', 'cpg', 'crafted', 'crash', 'create', 'created', 'creates', 'creating', 'creative', 'creativeand', 'creativity', 'credible', 'credit', 'criteria', 'critical', 'critically', 'criticism', 'critique', 'cropped', 'cross', 'crossed', 'crucial', 'crunch', 'crush', 'crux', 'ct', 'ctd', 'cu', 'cues', 'cug', 'culture', 'cumbersome', 'cure', 'current', 'currently', 'curve', 'cut', 'cute', 'cuts', 'cuu', 'cycle', 'cycles', 'cystosine', 'cytoplasm', 'cytoplasmaffinity', 'cytosine', 'cytosol', 'dalgamo', 'dalgarno', 'dalgarnosequence', 'damage', 'damaged', 'dandy', 'dark', 'data', 'daunting', 'days', 'de', 'dead', 'deadenylation', 'deal', 'deals', 'debated', 'debating', 'deceive', 'deceiving', 'decent', 'deceptively', 'decide', 'decided', 'decider', 'decides', 'deciding', 'decipher', 'deciphering', 'decision', 'decline', 'decoding', 'decoration', 'decoupling', 'decoy', 'decrease', 'decreased', 'decreases', 'decreasing', 'dedication', 'deduce', 'deduced', 'deducing', 'deduct', 'deduction', 'deductions', 'deductive', 'deemed', 'deep', 'deeper', 'deeply', 'defeats', 'defensibly', 'deficit', 'define', 'defined', 'definetely', 'definietly', 'defining', 'definite', 'definitely', 'definition', 'definitions', 'definitive', 'defunct', 'degeneracy', 'degenerate', 'degenerated', 'degradation', 'degraded', 'degree', 'delete', 'deleting', 'deletion', 'delgarno', 'deliberate', 'deliberation', 'delightful', 'delivered', 'delivering', 'delivery', 'delve', 'demand', 'demanded', 'demands', 'demonstrate', 'demonstrated', 'demonstrates', 'demonstration', 'denaturation', 'dense', 'denser', 'departures', 'dependance', 'dependency', 'dependent', 'depending', 'depends', 'depicted', 'depicting', 'depreciates', 'depressors', 'depth', 'derivatives', 'derive', 'derived', 'desciption', 'describe', 'described', 'describes', 'describesthe', 'describing', 'description', 'descriptions', 'descriptive', 'design', 'designed', 'designedfor', 'desperate', 'despise', 'despite', 'destroyed', 'detach', 'detaches', 'detail', 'detailed', 'detailing', 'details', 'detatchwhen', 'detect', 'detection', 'detects', 'determine', 'determines', 'determining', 'deterrents', 'detract', 'detracting', 'detractor', 'detractors', 'detriment', 'develop', 'developed', 'developing', 'development', 'devise', 'diagram', 'diagrammatic', 'diagrams', 'diagramthe', 'diagraph', 'didactic', 'diffcult', 'differ', 'differed', 'difference', 'differences', 'different', 'differentiate', 'differentiated', 'differentiates', 'differentiating', 'differentiation', 'differentiator', 'differently', 'differing', 'differnet', 'differs', 'difficult', 'difficultly', 'difficulty', 'diffuse', 'diffusion', 'digest', 'digestible', 'digesting', 'digram', 'direct', 'directed', 'direction', 'directionality', 'directive', 'directly', 'disabling', 'disadvantage', 'disagree', 'disassociated', 'disassociation', 'discard', 'discern', 'discernable', 'discount', 'discounted', 'discouraging', 'discovered', 'discrepancy', 'discriminate', 'discriminates', 'discriminating', 'discrimination', 'discriminator', 'discriminatory', 'discuss', 'discussed', 'discussing', 'discussion', 'disguise', 'disjointed', 'dislike', 'dismissed', 'dismissing', 'display', 'displayed', 'disqualified', 'disregard', 'disregardable', 'disregarded', 'dissociate', 'dissuades', 'distance', 'distances', 'distinct', 'distinction', 'distinctions', 'distinctive', 'distinguish', 'distinguishable', 'distinguished', 'distinguisher', 'distinguishes', 'distinguishing', 'distract', 'distracted', 'distracter', 'distracting', 'distraction', 'distractions', 'distractor', 'distractors', 'distracts', 'distributed', 'distribution', 'distunguishing', 'disturbing', 'dive', 'dived', 'diverse', 'diversifying', 'diversity', 'divert', 'dives', 'divide', 'divided', 'diving', 'division', 'dn', 'dna', 'doesnt', 'doesoligo', 'domain', 'domains', 'done', 'dont', 'dot', 'double', 'doubled', 'doubts', 'downside', 'downstream', 'downstreamknowledge', 'downstreatm', 'dpe', 'drastic', 'draw', 'drawing', 'drawn', 'draws', 'dread', 'drew', 'drives', 'drop', 'drug', 'drugs', 'dt', 'dts', 'due', 'duplicated', 'duplication', 'duringpost', 'duringprokaryotictranscription', 'eaiser', 'earlier', 'early', 'earn', 'ease', 'easier', 'easiest', 'easily', 'eating', 'echoed', 'ect', 'edit', 'edited', 'editing', 'edits', 'educated', 'educational', 'ef', 'effect', 'effective', 'effectively', 'effectiveness', 'effects', 'efficiency', 'efficient', 'effort', 'efforts', 'eg', 'either', 'eject', 'elaborate', 'elaborated', 'elaborating', 'elaboration', 'eleimination', 'element', 'elementary', 'elements', 'elementsduring', 'elevate', 'elevated', 'eliminate', 'eliminated', 'eliminates', 'eliminating', 'elimination', 'elongates', 'elongation', 'else', 'em', 'email', 'embedded', 'emboldened', 'embraces', 'emphasis', 'emphasise', 'emphasised', 'emphasising', 'emphasize', 'emphasizing', 'employs', 'enable', 'enabled', 'enables', 'enabling', 'encode', 'encoded', 'encodes', 'encoding', 'encompasses', 'encounter', 'encourage', 'encourages', 'encouraging', 'end', 'ended', 'ending', 'endonucleases', 'endoplasmic', 'ends', 'enemy', 'energy', 'enforces', 'engage', 'engaged', 'engagement', 'engages', 'engaging', 'english', 'enhance', 'enhanced', 'enhancement', 'enhancer', 'enhancers', 'enhances', 'enhancing', 'enjoy', 'enjoyable', 'enjoyed', 'enlightens', 'enough', 'ensue', 'ensure', 'ensures', 'ensuring', 'entail', 'entered', 'entering', 'entertaining', 'entire', 'entirely', 'entities', 'environment', 'enzymatic', 'enzyme', 'enzymes', 'enzymesc', 'equal', 'equally', 'equation', 'equipped', 'equivalent', 'eradicating', 'erase', 'erased', 'erroneous', 'error', 'errors', 'escaped', 'esp', 'especially', 'essence', 'essential', 'essentially', 'establish', 'estrogen', 'etc', 'eu', 'eucaryotic', 'eukaryote', 'eukaryotes', 'eukaryotic', 'eukaryotictranscription', 'evaluate', 'evaluating', 'evaluation', 'evaluative', 'even', 'evenly', 'event', 'events', 'eventually', 'ever', 'every', 'everyone', 'everything', 'everywhere', 'evidence', 'evidenced', 'evident', 'evolute', 'exacerbates', 'exact', 'exactly', 'exam', 'examination', 'examine', 'examined', 'examinees', 'examines', 'examining', 'example', 'exampleeukaryotes', 'examples', 'exams', 'exceed', 'exceed1', 'excellent', 'except', 'exceptional', 'exceptionally', 'exceptions', 'excessive', 'exclude', 'excluded', 'excluding', 'exclusive', 'exclusively', 'excuse', 'executed', 'execution', 'exercise', 'exert', 'exhaustive', 'exist', 'existance', 'existence', 'existing', 'exit', 'exo', 'exon', 'exons', 'exonucleases', 'expand', 'expanded', 'expanding', 'expands', 'expansion', 'expect', 'expected', 'expecting', 'experience', 'experiment', 'experimental', 'explain', 'explaination', 'explained', 'explaining', 'explains', 'explanation', 'explanationinstead', 'explanations', 'explicit', 'explicitly', 'explination', 'exploit', 'exploitation', 'exploits', 'exploration', 'explore', 'explored', 'explores', 'exploring', 'export', 'exportation', 'exposed', 'exposing', 'express', 'expressed', 'expression', 'expressions', 'extend', 'extended', 'extends', 'extension', 'extensive', 'extent', 'external', 'extinct', 'extra', 'extracellular', 'extracted', 'extraction', 'extrapolate', 'extrapolating', 'extrapolation', 'extrapolative', 'extreme', 'extremely', 'extrons', 'eye', 'eyes', 'face', 'faces', 'facilitate', 'facilitated', 'facilitates', 'facilitation', 'faclitates', 'fact', 'factoid', 'factor', 'factors', 'facts', 'factual', 'factually', 'fail', 'failed', 'failing', 'failure', 'fair', 'fairly', 'fairness', 'fake', 'fall', 'fallen', 'falling', 'falls', 'fallse', 'false', 'familiar', 'familiarise', 'fan', 'fancy', 'fantastic', 'far', 'fashion', 'fast', 'faster', 'fault', 'faulted', 'faults', 'favour', 'favourable', 'favourite', 'fde', 'feasible', 'feathers', 'feature', 'featured', 'features', 'feedback', 'feel', 'feeling', 'feels', 'fell', 'felt', 'female', 'females', 'ferratin', 'ferritin', 'fetched', 'fewer', 'field', 'fields', 'fifth', 'figure', 'figured', 'figures', 'figuring', 'file', 'fill', 'filled', 'filler', 'filling', 'filter', 'fin', 'final', 'finally', 'find', 'finding', 'fine', 'finer', 'fingers', 'finish', 'finishes', 'first', 'firstly', 'fit', 'fits', 'fitting', 'five', 'fix', 'fixed', 'fixing', 'flagged', 'flags', 'flanking', 'flash', 'flavour', 'flaw', 'flawed', 'flaws', 'flesh', 'fleshed', 'fleshing', 'flexibility', 'flip', 'flipped', 'flipping', 'flow', 'flows', 'fluent', 'fluff', 'fluidity', 'fmet', 'focus', 'focused', 'focuses', 'focusing', 'focussed', 'focussingon', 'follow', 'followed', 'following', 'follows', 'font', 'food', 'fooled', 'force', 'forced', 'forces', 'forcing', 'forcus', 'forefront', 'foreign', 'forget', 'forgetting', 'forgiveness', 'forgot', 'forgotten', 'form', 'formal', 'format', 'formatfor', 'formation', 'formative', 'formatted', 'formatting', 'formed', 'forming', 'forms', 'formula', 'formulas', 'formulate', 'formulated', 'forrho', 'forsigma', 'forth', 'forward', 'forwards', 'found', 'foundation', 'foundational', 'foundations', 'four', 'fourth', 'fragmented', 'frame', 'framed', 'frameshift', 'frankly', 'freedom', 'frequencies', 'frequency', 'frequently', 'fresh', 'friendly', 'frills', 'fro', 'front', 'froward', 'frustrated', 'frustrating', 'fueled', 'full', 'fuller', 'fully', 'fun', 'function', 'functional', 'functionality', 'functioning', 'functions', 'fundamental', 'fundamentally', 'fundamentals', 'funnily', 'funny', 'funtion', 'furthering', 'furthermore', 'future', 'ga', 'gaat', 'gain', 'gained', 'gaining', 'galactosidase', 'galactoside', 'game', 'gap', 'gaps', 'gareth', 'gathers', 'gave', 'gc', 'gene', 'geneal', 'general', 'generalized', 'generally', 'generate', 'generating', 'generic', 'genes', 'genetic', 'genetics', 'genome', 'genomic', 'genre', 'genuinecommonmisconception', 'genuinely', 'get', 'gets', 'getting', 'giant', 'giselle', 'give', 'giveaway', 'given', 'gives', 'giving', 'glad', 'glady', 'glance', 'glossed', 'glucose', 'glut', 'glut2', 'go', 'goal', 'goals', 'goes', 'going', 'gold', 'gone', 'goodquestion', 'goood', 'got', 'gotten', 'gov', 'grain', 'grammar', 'grammatical', 'grammatically', 'grammer', 'graph', 'graphs', 'grasp', 'grasped', 'grasps', 'grateful', 'grea', 'greater', 'greatest', 'greath', 'greatly', 'greek', 'gritty', 'group', 'groups', 'grow', 'growth', 'gt', 'guanine', 'guard', 'guess', 'guessed', 'guessers', 'guesses', 'guessing', 'guide', 'guided', 'guise', 'gut', 'guys', 'haha', 'hahah', 'hahahahah', 'hairpin', 'half', 'halfway', 'hand', 'handy', 'happen', 'happened', 'happening', 'happens', 'happenshonestly', 'happily', 'happy', 'hard', 'harder', 'haste', 'hat', 'hate', 'havebrief', 'havent', 'havingtag', 'hazy', 'hd', 'head', 'headings', 'heads', 'heart', 'heavier', 'heavily', 'heavy', 'hefty', 'held', 'helicase', 'hellip', 'help', 'helped', 'helpful', 'helping', 'helps', 'hence', 'herrings', 'hesitant', 'hi', 'hide', 'high', 'higher', 'highest', 'highlight', 'highlighted', 'highlighting', 'highlights', 'highly', 'hint', 'hints', 'histone', 'histones', 'hit', 'hold', 'holds', 'holistic', 'hone', 'hones', 'honest', 'honestly', 'hope', 'hoped', 'hopefully', 'hoping', 'hormonal', 'hormone', 'hormones', 'however', 'hrt', 'hsa', 'https', 'huge', 'hugely', 'human', 'humor', 'hundred', 'hundreds', 'hurrying', 'hurt', 'hydrophobic', 'hydroxyl', 'hypothesis', 'hypothetical', 'idea', 'ideal', 'ideally', 'ideas', 'identical', 'identifiable', 'identification', 'identified', 'identifier', 'identifiers', 'identifies', 'identify', 'identifying', 'identity', 'idk', 'ie', 'iffy', 'ignore', 'ignored', 'ignoring', 'ii', 'iii', 'illogical', 'illusion', 'illustrate', 'illustrated', 'illustrates', 'im', 'image', 'imaged', 'images', 'imagine', 'imbalance', 'img', 'immediately', 'immensely', 'imo', 'impact', 'impactful', 'impacts', 'impaired', 'impairment', 'implementation', 'implemented', 'implementing', 'implication', 'implications', 'implicit', 'implied', 'implies', 'imply', 'implying', 'importance', 'important', 'impossible', 'impressed', 'impression', 'impressive', 'improper', 'improve', 'improved', 'improvement', 'improvements', 'improves', 'improving', 'inability', 'inaccuracies', 'inaccurate', 'inappropriate', 'inclination', 'inclined', 'include', 'included', 'includes', 'including', 'inclusion', 'inconsistency', 'inconsistent', 'inconspicuous', 'incorperate', 'incorporate', 'incorporated', 'incorporates', 'incorporating', 'incorporation', 'incorporations', 'incorrect', 'incorrectly', 'incorrectness', 'increase', 'increased', 'increases', 'increasing', 'incredible', 'incredibly', 'inculding', 'indeed', 'independent', 'independently', 'indepth', 'index', 'indicate', 'indicated', 'indicates', 'indicating', 'indication', 'indicator', 'indirect', 'individual', 'individually', 'individuals', 'induced', 'inducer', 'inducing', 'ineffectively', 'inefficiently', 'infer', 'inferences', 'inferred', 'inferring', 'influence', 'influencer', 'influences', 'info', 'informal', 'information', 'informations', 'informative', 'informed', 'informs', 'ingredients', 'inherent', 'inherently', 'inhibit', 'inhibited', 'inhibiting', 'inhibition', 'inhibitor', 'inhibitors', 'inhibits', 'iniation', 'initation', 'initial', 'initially', 'initials', 'initiate', 'initiated', 'initiates', 'initiating', 'initiation', 'initiator', 'initiators', 'inner', 'innovative', 'inosine', 'input', 'inputs', 'inquisitive', 'inr', 'insert', 'inserted', 'inserting', 'insertion', 'inside', 'insight', 'insightful', 'inspired', 'instance', 'instant', 'instantly', 'instead', 'instruct', 'instructing', 'instruction', 'instructions', 'instructor', 'insufficient', 'insulin', 'integrate', 'integrated', 'integrates', 'integrating', 'integration', 'integrity', 'intended', 'intending', 'intent', 'intention', 'intepreting', 'interact', 'interaction', 'interactions', 'interactive', 'interacts', 'interchanging', 'interest', 'interested', 'interesting', 'interestingly', 'interfere', 'interferes', 'interons', 'interpret', 'interpretation', 'interpretations', 'interpreted', 'interpreting', 'interrelated', 'interspersed', 'interweaving', 'intimate', 'intimidate', 'intimidating', 'intracellular', 'intricacies', 'intricate', 'intrigued', 'intriguing', 'intrinsic', 'intro', 'introduce', 'introduced', 'introduces', 'introducing', 'introduction', 'introductory', 'intron', 'introns', 'intuition', 'intuitive', 'intuitively', 'invalid', 'invention', 'invested', 'investigate', 'investigates', 'investigating', 'investigation', 'inviting', 'involve', 'involved', 'involves', 'involving', 'iron', 'irrelevance', 'irrelevant', 'is40', 'isemphasizing', 'islands', 'isnt', 'isolate', 'isolated', 'isolating', 'isolation', 'issue', 'issues', 'italicizing', 'italics', 'item', 'items', 'itis', 'iv', 'ive', 'jargon', 'jargons', 'jim', 'job', 'jog', 'join', 'joined', 'jot', 'jpeg', 'judging', 'juggle', 'jumbled', 'jump', 'jumping', 'junk', 'justifications', 'justified', 'justify', 'keep', 'keeping', 'keeps', 'kept', 'key', 'keyword', 'keywords', 'khanacademy', 'kick', 'kicking', 'kind', 'kinda', 'kinds', 'knew', 'knewtfs', 'knits', 'knocks', 'know', 'knoweldge', 'knowing', 'knowledgable', 'knowledge', 'knowledgeable', 'knowledges', 'known', 'knows', 'kudos', 'lab', 'labarchives', 'label', 'labeled', 'labeling', 'labelled', 'labelling', 'labels', 'laboratories', 'labs', 'lac', 'lack', 'lacked', 'lacking', 'lacks', 'lactase', 'lactose', 'laid', 'lane', 'lanes', 'language', 'large', 'largely', 'larger', 'lariat', 'last', 'lastly', 'late', 'later', 'lateral', 'latter', 'lay', 'layer', 'layout', 'ldquo', 'lead', 'leader', 'leading', 'leads', 'lean', 'leaned', 'learn', 'learned', 'learner', 'learners', 'learning', 'learnt', 'least', 'leave', 'leaves', 'leaving', 'lecture', 'lecturer', 'lectures', 'led', 'leeway', 'left', 'legitimate', 'lend', 'lends', 'length', 'lengthened', 'lengths', 'lengthy', 'less', 'lesser', 'let', 'letter', 'lettering', 'letters', 'letting', 'level', 'levels', 'leverages', 'leyman', 'li', 'lie', 'life', 'ligand', 'ligands', 'ligase', 'ligated', 'light', 'lightest', 'liked', 'likely', 'likewise', 'lil', 'limit', 'limitation', 'limited', 'limits', 'line', 'lined', 'lines', 'lings', 'link', 'linkage', 'linked', 'linking', 'links', 'lipid', 'list', 'listed', 'listened', 'listing', 'lists', 'literacy', 'literally', 'little', 'littleredundant', 'littlt', 'local', 'locality', 'located', 'location', 'locations', 'lock', 'logic', 'logical', 'logically', 'long', 'longer', 'longest', 'look', 'looked', 'looking', 'looks', 'loop', 'looping', 'loops', 'lose', 'lost', 'lot', 'lots', 'love', 'loved', 'lovely', 'low', 'lower', 'lowercase', 'lsquo', 'lt', 'lured', 'lysed', 'lysosomes', 'machiner', 'machinery', 'machiney', 'made', 'main', 'mainly', 'mainpoint', 'maintaining', 'major', 'majority', 'make', 'maker', 'makes', 'makign', 'making', 'manage', 'managed', 'manages', 'manipulate', 'manner', 'many', 'margin', 'mark', 'marker', 'marking', 'marks', 'mass', 'masses', 'match', 'matched', 'matches', 'matching', 'mate', 'material', 'materials', 'mathematically', 'matter', 'maturation', 'mature', 'matured', 'maturity', 'max', 'maximum', 'may', 'maybe', 'maze', 'mc', 'mcq', 'mcqs', 'mcquestion', 'mcs', 'mean', 'meaning', 'meaningful', 'meaningless', 'meaningof', 'meaningpeople', 'meanings', 'means', 'meant', 'measure', 'measures', 'meatphor', 'mechanism', 'mechanisms', 'mechanismsof', 'mediated', 'mediator', 'mediators', 'medical', 'medium', 'membrane', 'memories', 'memorisation', 'memorise', 'memorised', 'memorising', 'memorization', 'memorize', 'memorized', 'memorizing', 'memory', 'mensuration', 'mention', 'mentioned', 'mentioning', 'mentions', 'merciful', 'mere', 'merely', 'merit', 'message', 'messenger', 'messiness', 'messy', 'metaphor', 'metaphors', 'methionine', 'method', 'methods', 'methyl', 'methylated', 'methylation', 'metrics', 'middle', 'might', 'mind', 'minds', 'mini', 'miniature', 'minimal', 'minimise', 'miniscule', 'minor', 'mins', 'minute', 'minutes', 'mis', 'misconception', 'misconceptions', 'misdirect', 'misdirection', 'misinforming', 'misinterpret', 'misinterpretation', 'misinterpreted', 'mislead', 'misleading', 'mismatch', 'misread', 'misreading', 'misreads', 'misremembering', 'miss', 'missed', 'missing', 'misspelled', 'misspelt', 'mistake', 'mistaken', 'mistakenly', 'mistakes', 'misunderstand', 'misunderstanding', 'misunderstandings', 'misunderstood', 'misundertanding', 'mitochondria', 'mitochondrial', 'mix', 'mixed', 'mixing', 'mode', 'modification', 'modifications', 'modified', 'modifies', 'modify', 'modifying', 'modying', 'molecular', 'molecule', 'molecules', 'moment', 'monocistronic', 'monocystonic', 'monocystronic', 'monophosphate', 'moreclearly', 'moreover', 'moreso', 'mostly', 'motif', 'motifs', 'motive', 'mouthful', 'move', 'movement', 'moves', 'mrna', 'mrnas', 'much', 'muddled', 'mulling', 'multi', 'multilogical', 'multiple', 'muscle', 'must', 'mutate', 'mutated', 'mutating', 'mutation', 'mutations', 'mutually', 'mysuggestion', 'mzp', 'nadph', 'nail', 'name', 'namely', 'names', 'narrative', 'narrow', 'narrowed', 'narrows', 'natural', 'naturally', 'nature', 'navigate', 'navigating', 'nbecause', 'ncbi', 'ncp', 'ndash', 'near', 'nearly', 'neat', 'neaten', 'neater', 'necessaily', 'necessarily', 'necessary', 'necessity', 'need', 'needed', 'needing', 'needlessly', 'needs', 'negate', 'negative', 'negatives', 'nervous', 'net', 'never', 'nevertheless', 'new', 'newer', 'newly', 'next', 'nice', 'nicely', 'nicer', 'niche', 'nih', 'nit', 'nitpick', 'nitpicking', 'nitpicky', 'nitty', 'nlm', 'non', 'none', 'nonetheless', 'nonsensical', 'nonspecifically', 'nope', 'normal', 'normally', 'note', 'noted', 'notes', 'nothing', 'notice', 'noticeably', 'noticed', 'notion', 'notthoughtful', 'novel', 'npc', 'npcs', 'nrm1226', 'nrnas', 'nt', 'nts', 'nuance', 'nuanced', 'nuances', 'nuclear', 'nuclease', 'nucleases', 'nucleic', 'nucleolar', 'nucleolus', 'nucleoplasm', 'nucleosol', 'nucleotidal', 'nucleotide', 'nucleotides', 'nucleotises', 'nucleus', 'number', 'numbered', 'numbering', 'numbers', 'numerals', 'numerical', 'numerous', 'objective', 'objectives', 'obscure', 'obscurity', 'observable', 'observant', 'observation', 'observations', 'observe', 'observed', 'observing', 'obsolete', 'obtained', 'obtaining', 'obvious', 'obviously', 'occur', 'occuring', 'occurred', 'occurring', 'occurs', 'od', 'oestrogen', 'of3', 'of5', 'ofa', 'ofaberrant', 'ofadding', 'ofaminoacyl', 'ofdeadenylation', 'offer', 'offered', 'offnucleases', 'offputting', 'ofgenetic', 'ofhormone', 'ofoligo', 'ofpoly', 'ofpolycistronic', 'ofpost', 'ofprokaryotic', 'ofshine', 'ofspliceosomes', 'often', 'oftranscription', 'oh', 'oi', 'ok', 'okay', 'ol', 'olgio', 'oligo', 'oligodt', 'omit', 'omitted', 'onaminoacyl', 'oncogene', 'one', 'onece', 'onenhancer', 'ones', 'online', 'ontypes', 'oops', 'op', 'open', 'opened', 'opener', 'opens', 'operan', 'operate', 'operated', 'operating', 'operator', 'operon', 'operons', 'opinion', 'opinions', 'opportunities', 'opportunity', 'oppose', 'opposed', 'opposite', 'opposites', 'opreron', 'oprtion', 'oprton', 'opt', 'opted', 'optimal', 'option', 'options', 'order', 'ordered', 'ordering', 'orders', 'org', 'organelles', 'organisation', 'organise', 'organised', 'organism', 'organisms', 'organize', 'organized', 'organizing', 'orientate', 'orientation', 'original', 'originality', 'originally', 'ostrich', 'otehr', 'others', 'otherwise', 'ought', 'outcome', 'outcomes', 'outlandish', 'outline', 'outset', 'outside', 'outwards', 'overall', 'overarching', 'overcomplicated', 'overdoing', 'overkill', 'overlap', 'overlapping', 'overlaps', 'overlook', 'overlooked', 'overly', 'overproduction', 'overthink', 'overtly', 'overview', 'overwhelm', 'overwhelmed', 'overwhelming', 'overwhelmingly', 'overworded', 'overwordy', 'owner', 'owo', 'oxfordreference', 'pace', 'pack', 'packaging', 'packed', 'packet', 'page', 'painful', 'pair', 'paired', 'pairing', 'pairs', 'palindromic', 'pancreas', 'panicking', 'paper', 'papers', 'paragraph', 'parallel', 'parameter', 'parameters', 'parentheses', 'parse', 'part', 'partial', 'partially', 'participate', 'particular', 'particularly', 'parts', 'pass', 'passive', 'past', 'paste', 'path', 'pathway', 'pathways', 'patience', 'patient', 'pattern', 'pause', 'pave', 'pay', 'paying', 'pde', 'pedantic', 'peer', 'peers', 'peerwise', 'peopel', 'people', 'peptide', 'peptidyl', 'per', 'perception', 'perceptive', 'perfect', 'perfectly', 'performed', 'performing', 'perhaps', 'permease', 'permeases', 'permutations', 'perplexing', 'person', 'personal', 'personally', 'personified', 'perspective', 'pertain', 'pertaining', 'petty', 'pharmaceutical', 'pharmacology', 'phases', 'phasing', 'phe', 'phenomenon', 'pho', 'phosphatases', 'phosphates', 'phosphodiester', 'phosphorylate', 'phosphorylates', 'phosphorylating', 'phosphorylation', 'photo', 'php', 'phrase', 'phrased', 'phrases', 'phrasing', 'physical', 'physiological', 'pice', 'pick', 'picked', 'picking', 'picks', 'picky', 'picture', 'pictured', 'pictures', 'piece', 'pieces', 'piecing', 'pigs', 'pin', 'pitfalls', 'pity', 'place', 'placed', 'placement', 'places', 'placing', 'plagiarising', 'plain', 'planned', 'planning', 'plausibility', 'plausible', 'play', 'played', 'player', 'players', 'plays', 'pleasant', 'pleasantly', 'please', 'pleasing', 'plenty', 'plus', 'pmc', 'pmc22815', 'pmc3205564', 'point', 'pointed', 'pointing', 'pointless', 'points', 'pol', 'poladenylation', 'poli', 'politely', 'polmerases', 'pols', 'poly', 'polya', 'polyadenalation', 'polyadenylation', 'polyadenylationb', 'polyadenylenation', 'polycistronic', 'polycystonic', 'polymeraises', 'polymerase', 'polymerases', 'polymerasethank', 'polypeptide', 'pool', 'poor', 'poorly', 'popular', 'pore', 'pores', 'porkryotic', 'portion', 'portions', 'portrays', 'pose', 'posing', 'position', 'positions', 'positive', 'possbily', 'possess', 'possessed', 'possibilities', 'possibility', 'possible', 'possibly', 'post', 'posted', 'postmodification', 'posttranscriptional', 'potential', 'potentially', 'potnential', 'practical', 'practically', 'practice', 'pre', 'preamble', 'precise', 'precision', 'precursor', 'precursors', 'predict', 'predicted', 'prediction', 'prefer', 'preferable', 'preference', 'premature', 'premise', 'preoccupied', 'preoccupying', 'prepare', 'prepared', 'prepares', 'presence', 'present', 'presentation', 'presented', 'presenting', 'presents', 'pressed', 'pressure', 'pressures', 'pretty', 'prevalence', 'prevent', 'prevented', 'preventing', 'prevents', 'previous', 'previously', 'pribnow', 'primarily', 'prime', 'primer', 'primers', 'principle', 'principles', 'prior', 'probability', 'probable', 'probably', 'problem', 'problems', 'procaryotes', 'procaryotic', 'proceed', 'proceeds', 'process', 'processby', 'processed', 'processes', 'processesthe', 'processing', 'produce', 'produced', 'producing', 'product', 'production', 'productis', 'products', 'professional', 'professionally', 'professor', 'proffers', 'program', 'progress', 'prokaryokes', 'prokaryote', 'prokaryotes', 'prokaryotic', 'proliferation', 'promote', 'promoter', 'promoters', 'promotes', 'promotion', 'promotor', 'promotors', 'prompt', 'prompts', 'prone', 'proof', 'proofread', 'proofreading', 'proper', 'properly', 'properties', 'property', 'propogation', 'proposed', 'prosperity', 'protect', 'protecting', 'protects', 'protein', 'proteins', 'proteinsdifferentiate', 'protest', 'protocol', 'prove', 'provide', 'provided', 'provides', 'providing', 'provocative', 'provoke', 'provoking', 'proximity', 'pseudo', 'pull', 'punctuation', 'pure', 'purely', 'purification', 'purify', 'purine', 'purines', 'purple', 'purpose', 'purposes', 'pushing', 'put', 'puts', 'putting', 'puzzle', 'puzzled', 'pyramid', 'pyrimidine', 'pyrophophase', 'qs', 'qu', 'qualifies', 'qualities', 'quality', 'quesition', 'quesitonin', 'quest', 'questionbut', 'questioned', 'questioni', 'questioning', 'questions', 'questionthought', 'quick', 'quicker', 'quickly', 'quiet', 'quit', 'quite', 'quiz', 'quote', 'quotes', 'racing', 'rail', 'rails', 'ramifications', 'ran', 'random', 'range', 'ranging', 'ranking', 'rapidly', 'rare', 'rarely', 'ratcheted', 'rate', 'rater', 'rates', 'ratespeed', 'rather', 'rating', 'ratio', 'rationale', 'raw', 'rdquo', 'reach', 'reaches', 'reaction', 'reactions', 'reactome', 'read', 'readability', 'readable', 'reader', 'readers', 'readfor', 'readily', 'reading', 'readings', 'readjusted', 'reads', 'ready', 'real', 'realise', 'realised', 'realising', 'realistic', 'reality', 'realize', 'realized', 'realizing', 'rearrange', 'rearranged', 'rearrangement', 'rearranging', 'reason', 'reasona', 'reasonable', 'reasonably', 'reasoning', 'reasons', 'recall', 'recalled', 'recalling', 'recallrecall', 'recalls', 'receive', 'received', 'recent', 'receptor', 'receptors', 'reckon', 'recognisable', 'recognise', 'recognised', 'recognises', 'recognising', 'recognition', 'recognize', 'recognized', 'recognizes', 'recollect', 'recollecting', 'recollection', 'recommend', 'recommendation', 'recommended', 'reconsider', 'recraft', 'recruit', 'recruited', 'recruiting', 'recruitment', 'recruits', 'rectified', 'recycling', 'red', 'redone', 'redrawing', 'reduce', 'reduced', 'reduces', 'redundancy', 'redundant', 'reed', 'refer', 'reference', 'referenced', 'references', 'referred', 'referring', 'refers', 'refinement', 'refining', 'refinment', 'reflect', 'reflection', 'reflective', 'reflects', 'reformatting', 'reframe', 'reframing', 'refresh', 'refreshed', 'refresher', 'refreshing', 'refreshingly', 'refuting', 'regard', 'regarding', 'regardingthe', 'regardless', 'regards', 'region', 'regions', 'registered', 'regrets', 'regulate', 'regulated', 'regulates', 'regulating', 'regulation', 'regulator', 'regurgitating', 'regurgitation', 'reinforce', 'reinforces', 'reject', 'relatable', 'relate', 'related', 'relates', 'relating', 'relation', 'relations', 'relationship', 'relationships', 'relative', 'relatively', 'release', 'relevance', 'relevancy', 'relevant', 'reliant', 'relied', 'relies', 'rely', 'relying', 'remain', 'remainedon', 'remaining', 'remainingfeasible', 'remark', 'remember', 'remembered', 'remembering', 'remembrance', 'remind', 'reminded', 'reminder', 'reminds', 'removal', 'remove', 'removed', 'removes', 'removing', 'rendered', 'rendition', 'reorganized', 'reorganizing', 'repeat', 'repeated', 'repeatedly', 'repeating', 'repetitive', 'repetitiveness', 'rephrase', 'rephrased', 'rephrasing', 'replace', 'replaced', 'replacement', 'replacing', 'replicate', 'replicating', 'replication', 'reply', 'reponse', 'repost', 'represent', 'representation', 'representing', 'represents', 'repressed', 'repressor', 'repressors', 'requesting', 'require', 'required', 'requiredfix', 'requirement', 'requirements', 'requirerequires', 'requires', 'requiring', 'requirment', 'reread', 'rereading', 'research', 'researched', 'researchers', 'resemables', 'resemble', 'resembles', 'residue', 'residues', 'resist', 'resolve', 'resonant', 'respect', 'respective', 'respondent', 'respondents', 'responds', 'response', 'responses', 'responsible', 'rest', 'restate', 'restaurant', 'restricted', 'restriction', 'restructure', 'resubmitting', 'result', 'resultant', 'resulted', 'resulting', 'results', 'retains', 'retell', 'retention', 'rethinking', 'reticulum', 'revamp', 'revealed', 'revealing', 'reveals', 'reverse', 'reversed', 'review', 'reviewed', 'reviewing', 'revise', 'revised', 'revising', 'revision', 'revisions', 'revisit', 'revisited', 'revolve', 'revolves', 'revolving', 'rewarding', 'reword', 'reworded', 'rewording', 'rewrite', 'rewriting', 'rewritten', 'rewrote', 'rho', 'ribonucleoside', 'ribose', 'ribosomal', 'ribosome', 'ribosomes', 'rich', 'richshine', 'rid', 'rifamcin', 'rifampicin', 'righ', 'right', 'rise', 'risk', 'rna', 'rnaand', 'rnapolymerase', 'rnas', 'rnas2', 'rnas3', 'robotic', 'role', 'roles', 'roll', 'roman', 'room', 'rooms', 'root', 'rope', 'rot', 'rote', 'rough', 'roughly', 'round', 'rounded', 'route', 'row', 'rows', 'rrna', 'rrnas', 'rsquo', 'rule', 'ruled', 'ruling', 'run', 'running', 'runs', 'rush', 'rushed', 'rushing', 'sad', 'said', 'saidrna', 'sake', 'salt', 'save', 'saved', 'saw', 'say', 'saying', 'sayingthe', 'says', 'scale', 'scanned', 'scanning', 'scarce', 'scenario', 'scenarios', 'scene', 'schematic', 'scheme', 'scholars', 'school', 'science', 'scientific', 'scope', 'score', 'scores', 'scoring', 'scrapped', 'screen', 'scribble', 'scrolling', 'scrutinise', 'se', 'seamlessly', 'search', 'searching', 'sec', 'second', 'secondly', 'seconds', 'section', 'sections', 'sedimentation', 'see', 'seeing', 'seem', 'seemed', 'seeming', 'seemingly', 'seems', 'seen', 'segment', 'segmented', 'segments', 'select', 'selected', 'selecting', 'selection', 'selections', 'selective', 'self', 'semantics', 'semester', 'senario', 'sending', 'sense', 'senses', 'sent', 'sentence', 'sentences', 'sentiment', 'separate', 'separated', 'separately', 'separates', 'separating', 'separation', 'seperate', 'seperated', 'seperation', 'seqeunce', 'sequence', 'sequences', 'sequencially', 'sequencing', 'sequential', 'series', 'serine', 'serious', 'serve', 'served', 'serves', 'set', 'sets', 'setting', 'setup', 'several', 'shape', 'share', 'sharing', 'sheer', 'shie', 'shift', 'shine', 'shock', 'short', 'shortcut', 'shorten', 'shortened', 'shortening', 'shorter', 'shoudl', 'show', 'showcasing', 'showed', 'showing', 'shown', 'shows', 'shrink', 'shuffled', 'side', 'sided', 'sift', 'sigma', 'sign', 'signal', 'signalling', 'signals', 'significance', 'significant', 'significantly', 'silent', 'silly', 'similar', 'similarities', 'similarity', 'similarly', 'similiar', 'simple', 'simpler', 'simplest', 'simplicity', 'simplified', 'simplify', 'simplifying', 'simplisitic', 'simplistic', 'simplistically', 'simply', 'simultaneously', 'simultaneouslythis', 'since', 'sinceguinea', 'single', 'singled', 'sir', 'sit', 'site', 'sites', 'sits', 'situ', 'situation', 'situational', 'situations', 'size', 'skeptical', 'sketch', 'skilful', 'skill', 'skills', 'skim', 'skimmed', 'skip', 'slice', 'slices', 'slicing', 'slide', 'slide15', 'slides', 'sliding', 'slight', 'slightly', 'slippage', 'slow', 'slower', 'slowly', 'slows', 'small', 'smart', 'smarter', 'smoothly', 'sneaky', 'snorna', 'snornas', 'snrna', 'snrnas', 'snrnasin', 'snrnp', 'solely', 'solid', 'solidify', 'solidifying', 'solution', 'solutions', 'solve', 'solving', 'somebody', 'somehow', 'someone', 'something', 'sometimes', 'somewhat', 'somewhere', 'soon', 'sophisticated', 'sophisticatedly', 'sophistication', 'sorry', 'sort', 'sound', 'sounde', 'sounded', 'sounding', 'sounds', 'source', 'sourced', 'sources', 'space', 'spaces', 'span', 'spatial', 'spatially', 'speak', 'speaking', 'special', 'specific', 'specifically', 'specificity', 'specifics', 'specified', 'specify', 'specifying', 'speculation', 'speed', 'spelling', 'spend', 'spending', 'spent', 'spicing', 'spit', 'splice', 'spliced', 'spliceosome', 'spliceosomes', 'splicesome', 'splicesosome', 'splicing', 'splicingother', 'splicosome', 'split', 'splitting', 'spoken', 'spot', 'spoted', 'spotted', 'spread', 'square', 'squares', 'src', 'stabilisation', 'stability', 'stabilitytranslation', 'stable', 'stabs', 'stacked', 'stage', 'stages', 'stand', 'standard', 'standout', 'standpoint', 'stands', 'start', 'started', 'starter', 'starting', 'starts', 'state', 'stated', 'statement', 'statements', 'states', 'stating', 'statistical', 'stay', 'stays', 'steered', 'stem', 'stems', 'step', 'stepaminoacyl', 'stepping', 'steps', 'steroid', 'steroids', 'stick', 'sticking', 'still', 'stimulate', 'stimulated', 'stimulates', 'stimulatory', 'stimulus', 'stirs', 'stoichiometry', 'stood', 'stop', 'stopping', 'story', 'straighforward', 'straight', 'straightforward', 'straightforwardness', 'straightforwardquestion', 'straightfoward', 'strand', 'stranded', 'strands', 'strange', 'strangely', 'strategic', 'strategies', 'strategy', 'streamline', 'street', 'strength', 'strengthen', 'strengthened', 'strengths', 'strenuous', 'stress', 'stressed', 'stressful', 'striaghtforward', 'strictly', 'strong', 'stronger', 'strongest', 'strongly', 'structual', 'structural', 'structure', 'structured', 'structures', 'struggle', 'struggled', 'struggles', 'struggling', 'stuck', 'student', 'students', 'studied', 'studies', 'studnet', 'study', 'studying', 'stuff', 'stuffs', 'stumped', 'style', 'styled', 'sub', 'subject', 'subjective', 'subjects', 'submitted', 'subsequent', 'subsequently', 'substance', 'substances', 'substantial', 'substitute', 'substituted', 'substitutes', 'substitution', 'substrate', 'substrates', 'subtle', 'subtlety', 'subtly', 'subunit', 'subunitis', 'subunits', 'subvert', 'subverts', 'successful', 'successfully', 'succinct', 'sudden', 'suffice', 'sufficient', 'sufficiently', 'suffix', 'suggest', 'suggested', 'suggesting', 'suggestion', 'suggestions', 'suggests', 'suit', 'suitability', 'suitable', 'suited', 'sum', 'summarise', 'summarised', 'summarizing', 'summary', 'sums', 'super', 'suporessor', 'supplement', 'supplementary', 'supplementation', 'supplies', 'supply', 'supporsed', 'support', 'suppose', 'supposed', 'suppressed', 'sure', 'surface', 'surprised', 'surrounding', 'survival', 'susceptible', 'suspect', 'swap', 'swapping', 'swayed', 'switch', 'switched', 'switcheroo', 'switching', 'syllabu', 'syllabus', 'symbols', 'symptoms', 'syntax', 'synthesis', 'synthesise', 'synthesised', 'synthesises', 'synthesising', 'synthesize', 'synthesized', 'synthetase', 'synthetases', 'system', 'systematically', 'systems', 'taa', 'table', 'tables', 'tackle', 'tactic', 'tad', 'tag', 'taht', 'tail', 'tailprotects', 'tails', 'take', 'taken', 'taker', 'takes', 'taking', 'talk', 'talked', 'talking', 'talks', 'tangible', 'tangling', 'tap', 'target', 'targeted', 'targeting', 'targets', 'tarnscription', 'task', 'tata', 'tataat', 'taught', 'taxonomy', 'tazonomy', 'tbh', 'teacher', 'teaching', 'teaser', 'technical', 'technicalities', 'technicality', 'technically', 'technique', 'techniques', 'technqiues', 'tedious', 'teetering', 'tell', 'telling', 'tells', 'template', 'temporal', 'temporally', 'tempt', 'tempting', 'tend', 'tends', 'term', 'terminal', 'terminals', 'terminated', 'terminating', 'termination', 'terminology', 'terms', 'terrified', 'test', 'testament', 'tested', 'testify', 'testing', 'testosterone', 'testpolycistronic', 'tests', 'texplanation', 'text', 'textbook', 'texts', 'tf', 'tfii', 'tfs', 'tga', 'tha', 'thank', 'thanks', 'thatare', 'thatas', 'thatbut', 'thatdeadenylation', 'thatrna', 'thats', 'the45s', 'theaddition', 'thecodon', 'thediagram', 'theenhancer', 'theknowledge', 'theme', 'theoretical', 'theories', 'theory', 'thepoly', 'thereby', 'therefore', 'thereof', 'theres', 'theri', 'theright', 'theshine', 'thetranscription', 'theweird', 'thin', 'thing', 'things', 'thinker', 'thinking', 'thinkingtoo', 'third', 'thisquestion', 'tho', 'thorough', 'thoroughly', 'though', 'thought', 'thoughtful', 'thoughtfully', 'thoughts', 'thousand', 'thousands', 'three', 'threonine', 'threw', 'throughout', 'throughs', 'throught', 'throw', 'throwaway', 'throwing', 'thrown', 'throws', 'thus', 'thymine', 'tided', 'tidy', 'tie', 'tier', 'ties', 'tight', 'tightened', 'tightening', 'tightens', 'tightly', 'time', 'timed', 'timeline', 'times', 'tiny', 'tip', 'title', 'todo', 'toexpect', 'toformylmethionine', 'together', 'told', 'tolerance', 'tone', 'took', 'tool', 'top', 'topic', 'topics', 'topromoter', 'toset', 'toss', 'tossing', 'total', 'totally', 'tothe', 'touch', 'touched', 'touches', 'tough', 'toward', 'towards', 'toy', 'track', 'train', 'trancription', 'trans', 'transcipt', 'transcribe', 'transcribed', 'transcribes', 'transcribing', 'transcript', 'transcripted', 'transcription', 'transcriptional', 'transcriptionexplicitis', 'transcriptoin', 'transcripts', 'transcritpion', 'transesterification', 'transesterifications', 'transfer', 'transferase', 'transferred', 'transformed', 'transient', 'transition', 'translate', 'translated', 'translates', 'translating', 'translation', 'translational', 'transport', 'transportation', 'transported', 'transporters', 'transporting', 'trap', 'trapped', 'traps', 'travel', 'treat', 'treating', 'tremendously', 'trend', 'trial', 'trick', 'tricked', 'tricker', 'trickier', 'tricking', 'tricks', 'trickyregardless', 'tried', 'trigger', 'triggers', 'trim', 'trimmed', 'trimming', 'trinucleotide', 'trip', 'triphosphates', 'tripped', 'tripping', 'trips', 'triptophan', 'trivial', 'trna', 'trnas', 'trnasynthetase', 'trouble', 'troubles', 'troubleshooting', 'trp', 'trpoperon', 'true', 'truely', 'truly', 'truns', 'truth', 'try', 'trying', 'tryptophan', 'trytophan', 'ttgaca', 'tu', 'tumor', 'tune', 'turn', 'turner', 'turning', 'tweak', 'tweaked', 'tweaking', 'tweaks', 'twice', 'twist', 'two', 'twofold', 'type', 'typed', 'types', 'typical', 'typically', 'typing', 'typo', 'typos', 'u1', 'u2', 'u6', 'uaa', 'ucc', 'ucu', 'uga', 'ugg', 'ul', 'ultimately', 'unable', 'unambiguous', 'uncertain', 'uncertainty', 'unchanged', 'unclear', 'uncontrolled', 'uncoupled', 'undeniably', 'undergo', 'undergoes', 'underline', 'underlined', 'underlining', 'underlying', 'underneath', 'underpinning', 'understand', 'understandable', 'understanding', 'understandingrho', 'understandings', 'understands', 'understood', 'undoubtedly', 'unecessary', 'unfair', 'unfamiliar', 'unfamiliarity', 'unfinished', 'unforseen', 'unfortunate', 'unfortunately', 'unhappy', 'unhelpful', 'uni', 'unique', 'uniquely', 'uniqueness', 'unit', 'units', 'universal', 'universality', 'unknown', 'unless', 'unlike', 'unlikely', 'unmatched', 'unnecessarily', 'unnecessary', 'unpack', 'unpacking', 'unpredictable', 'unprofessional', 'unrealistic', 'unrelated', 'unseen', 'unsuited', 'unsure', 'untrained', 'untrue', 'unusual', 'unwinding', 'unwinds', 'upgrade', 'upon', 'upper', 'upsetting', 'upsteam', 'upstream', 'upstreampromoter', 'uracil', 'uracils', 'urges', 'us', 'usage', 'use', 'used', 'useful', 'useless', 'uses', 'using', 'usual', 'usually', 'utilise', 'utilised', 'utilises', 'utilising', 'uua', 'uuc', 'uug', 'uuu', 'uuuu', 'vague', 'vaguely', 'valid', 'valuable', 'value', 'values', 'variability', 'variable', 'variables', 'variances', 'variation', 'variations', 'varied', 'variety', 'various', 'vary', 'varying', 'vastly', 'ver', 'verb', 'verbally', 'verbose', 'verbosity', 'verbs', 'versa', 'versed', 'version', 'vesicles', 'via', 'viable', 'vice', 'view', 'viewed', 'views', 'viral', 'virus', 'viruses', 'visual', 'visualisation', 'visualise', 'visualising', 'visualize', 'visually', 'visuals', 'vital', 'vocabulary', 'vs', 'wait', 'wake', 'walls', 'wanna', 'want', 'wanted', 'wants', 'warding', 'ware', 'warm', 'warning', 'warrant', 'waste', 'wasted', 'wastes', 'wasting', 'water', 'way', 'ways', 'wayyy', 'weak', 'weaker', 'wealth', 'webpage', 'weed', 'weigh', 'weighing', 'weight', 'weird', 'weirdly', 'welcome', 'went', 'whatever', 'whatpost', 'whatsoever', 'whereabouts', 'whereas', 'whereby', 'wherein', 'whether', 'whichis', 'whichpolycistronic', 'whilst', 'whoever', 'whole', 'wholesequence', 'wholespliceosome', 'whoops', 'whtat', 'wide', 'wider', 'willing', 'winded', 'wise', 'wish', 'wished', 'wishes', 'witha', 'within', 'without', 'wobble', 'wobbling', 'wold', 'wonder', 'wonderful', 'wonderfully', 'wondering', 'wont', 'word', 'worded', 'wordiness', 'wording', 'wordings', 'wordplay', 'words', 'wordths', 'wordy', 'work', 'worked', 'working', 'workings', 'works', 'world', 'worn', 'worry', 'worrying', 'worse', 'worst', 'worth', 'worthwhile', 'worthy', 'wow', 'wrap', 'write', 'writer', 'writing', 'written', 'wrong', 'wrongformula', 'wrongly', 'wrote', 'www', 'xd', 'xx', 'xxxxx', 'xyu', 'yard', 'year', 'yeast', 'yes', 'yet', 'yield', 'youre', 'youshould', 'youve', 'yyu', 'zinc', 'zny']\n"
          ],
          "name": "stdout"
        }
      ]
    },
    {
      "cell_type": "markdown",
      "metadata": {
        "id": "MzFR_Sr3q11w"
      },
      "source": [
        "## Stemming "
      ]
    },
    {
      "cell_type": "code",
      "metadata": {
        "id": "PUpHDe6fGuEg"
      },
      "source": [
        "from nltk.stem import PorterStemmer\n",
        "from nltk.stem import LancasterStemmer"
      ],
      "execution_count": 12,
      "outputs": []
    },
    {
      "cell_type": "code",
      "metadata": {
        "id": "RggoF-cOG9DI"
      },
      "source": [
        "#create an object of class PorterStemmer\n",
        "porter = PorterStemmer()\n",
        "lancaster=LancasterStemmer()"
      ],
      "execution_count": 13,
      "outputs": []
    },
    {
      "cell_type": "code",
      "metadata": {
        "id": "PWfWygQ2H1vL"
      },
      "source": [
        "# pass a list as input\n",
        "vectorise.get_feature_names()\n",
        "# for loop\n",
        "\n",
        "for word in vectorise.get_feature_names():\n",
        "    print(\"{0:20}{1:30}{2:30}\".format(word,porter.stem(word),lancaster.stem(word)))"
      ],
      "execution_count": null,
      "outputs": []
    },
    {
      "cell_type": "code",
      "metadata": {
        "id": "Mqe3eQcMNScx"
      },
      "source": [
        "stemmed_ls = []\n",
        "for word in vectorise.get_feature_names():\n",
        "    stemmed_ls.append(porter.stem(word))"
      ],
      "execution_count": 15,
      "outputs": []
    },
    {
      "cell_type": "code",
      "metadata": {
        "id": "4R3Ztr1pNfpH"
      },
      "source": [
        "stemmed_ls"
      ],
      "execution_count": null,
      "outputs": []
    },
    {
      "cell_type": "markdown",
      "metadata": {
        "id": "g5y7kr3uJKYx"
      },
      "source": [
        "# Clustering \n",
        "\n",
        "### This cluster analysis is without the stemmed words\n",
        "\n",
        "- Applying TF-IDF \n",
        "\n",
        " short for term frequency inverse document frequency, which is a numerical statistic that's intended to reflect how important a word is to a document in a corpus by giving each word in a document a score that ranges from 0 to 1."
      ]
    },
    {
      "cell_type": "code",
      "metadata": {
        "id": "10hKsHGtcD1A"
      },
      "source": [
        ""
      ],
      "execution_count": null,
      "outputs": []
    },
    {
      "cell_type": "code",
      "metadata": {
        "id": "zmn3ErfAJJ6P",
        "outputId": "4607af29-f644-421f-8f59-deabfaf54cc9",
        "colab": {
          "base_uri": "https://localhost:8080/",
          "height": 207
        }
      },
      "source": [
        "\n",
        "tf_vect = TfidfVectorizer(stop_words= stop_words, tokenizer= LemmaTokenizer)\n",
        "Y = tf_vect.fit_transform(comments_corpus)\n",
        "print(Y)"
      ],
      "execution_count": 21,
      "outputs": [
        {
          "output_type": "error",
          "ename": "NameError",
          "evalue": "ignored",
          "traceback": [
            "\u001b[0;31m---------------------------------------------------------------------------\u001b[0m",
            "\u001b[0;31mNameError\u001b[0m                                 Traceback (most recent call last)",
            "\u001b[0;32m<ipython-input-21-93b373b3eafb>\u001b[0m in \u001b[0;36m<module>\u001b[0;34m()\u001b[0m\n\u001b[1;32m      1\u001b[0m \u001b[0;34m\u001b[0m\u001b[0m\n\u001b[0;32m----> 2\u001b[0;31m \u001b[0mtf_vect\u001b[0m \u001b[0;34m=\u001b[0m \u001b[0mTfidfVectorizer\u001b[0m\u001b[0;34m(\u001b[0m\u001b[0mstop_words\u001b[0m\u001b[0;34m=\u001b[0m \u001b[0mstop_words\u001b[0m\u001b[0;34m,\u001b[0m \u001b[0mtokenizer\u001b[0m\u001b[0;34m=\u001b[0m \u001b[0mLemmaTokenizer\u001b[0m\u001b[0;34m)\u001b[0m\u001b[0;34m\u001b[0m\u001b[0;34m\u001b[0m\u001b[0m\n\u001b[0m\u001b[1;32m      3\u001b[0m \u001b[0mY\u001b[0m \u001b[0;34m=\u001b[0m \u001b[0mtf_vect\u001b[0m\u001b[0;34m.\u001b[0m\u001b[0mfit_transform\u001b[0m\u001b[0;34m(\u001b[0m\u001b[0mcomments_corpus\u001b[0m\u001b[0;34m)\u001b[0m\u001b[0;34m\u001b[0m\u001b[0;34m\u001b[0m\u001b[0m\n\u001b[1;32m      4\u001b[0m \u001b[0mprint\u001b[0m\u001b[0;34m(\u001b[0m\u001b[0mY\u001b[0m\u001b[0;34m)\u001b[0m\u001b[0;34m\u001b[0m\u001b[0;34m\u001b[0m\u001b[0m\n",
            "\u001b[0;31mNameError\u001b[0m: name 'LemmaTokenizer' is not defined"
          ]
        }
      ]
    },
    {
      "cell_type": "code",
      "metadata": {
        "id": "LXf5-mMfM3Hz"
      },
      "source": [
        "tf_idf = pd.DataFrame(data = Y.toarray(), columns=tf_vect.get_feature_names())\n",
        "tf_idf"
      ],
      "execution_count": null,
      "outputs": []
    },
    {
      "cell_type": "code",
      "metadata": {
        "id": "cNzgoHQNNBl2"
      },
      "source": [
        "# dont know wtf is going on here- IGNORE\n",
        "\n",
        "#final_df = tf_idf\n",
        "#print(\"{} rows\".format(final_df.shape[0]))\n",
        "# first 15 words with the highest weight on the 0th Document\n",
        "#final_df.T.nlargest(15, 0)\n"
      ],
      "execution_count": null,
      "outputs": []
    },
    {
      "cell_type": "code",
      "metadata": {
        "id": "imNJ7YQGR7fu"
      },
      "source": [
        "final_df = tf_idf\n",
        "final_df.head()"
      ],
      "execution_count": null,
      "outputs": []
    },
    {
      "cell_type": "code",
      "metadata": {
        "id": "QdGhj4ndU2oU",
        "outputId": "2b9d2d60-3714-4cb5-b3c5-1bbf68779ff0",
        "colab": {
          "base_uri": "https://localhost:8080/"
        }
      },
      "source": [
        "K = 5\n",
        "model = KMeans(n_clusters= K, init='k-means++', max_iter=100, n_init=1, random_state=345)\n",
        "model.fit(Y)"
      ],
      "execution_count": 19,
      "outputs": [
        {
          "output_type": "execute_result",
          "data": {
            "text/plain": [
              "KMeans(algorithm='auto', copy_x=True, init='k-means++', max_iter=100,\n",
              "       n_clusters=5, n_init=1, n_jobs=None, precompute_distances='auto',\n",
              "       random_state=345, tol=0.0001, verbose=0)"
            ]
          },
          "metadata": {
            "tags": []
          },
          "execution_count": 19
        }
      ]
    },
    {
      "cell_type": "code",
      "metadata": {
        "id": "7sXKXtt7VQOj",
        "outputId": "10da9356-887f-454c-f1b8-883608bedbd6",
        "colab": {
          "base_uri": "https://localhost:8080/"
        }
      },
      "source": [
        "# code from : https://pythonprogramminglanguage.com/kmeans-text-clustering/\n",
        "# accessed 7th Nov 2020\n",
        "print(\"Top terms per cluster:\")\n",
        "order_centroids = model.cluster_centers_.argsort()[:, ::-1]\n",
        "terms = Z = tf_vect.get_feature_names()\n",
        "for i in range(K):\n",
        "    print(\"Cluster %d:\" % i),\n",
        "    for ind in order_centroids[i, :10]:\n",
        "        print(' %s' % terms[ind]),\n",
        "    print"
      ],
      "execution_count": 20,
      "outputs": [
        {
          "output_type": "stream",
          "text": [
            "Top terms per cluster:\n",
            "Cluster 0:\n",
            " rna\n",
            " promoter\n",
            " li\n",
            " sequences\n",
            " pol\n",
            " enhancer\n",
            " sequence\n",
            " dna\n",
            " strand\n",
            " box\n",
            "Cluster 1:\n",
            " options\n",
            " option\n",
            " explanation\n",
            " clear\n",
            " answer\n",
            " bit\n",
            " make\n",
            " also\n",
            " correct\n",
            " quite\n",
            "Cluster 2:\n",
            " transcription\n",
            " prokaryotic\n",
            " eukaryotic\n",
            " factors\n",
            " understanding\n",
            " translation\n",
            " options\n",
            " knowledge\n",
            " explanation\n",
            " option\n",
            "Cluster 3:\n",
            " knowledge\n",
            " students\n",
            " requires\n",
            " understanding\n",
            " recall\n",
            " information\n",
            " however\n",
            " explanation\n",
            " student\n",
            " simple\n",
            "Cluster 4:\n",
            " answers\n",
            " answer\n",
            " correct\n",
            " make\n",
            " explanation\n",
            " also\n",
            " understand\n",
            " students\n",
            " one\n",
            " clear\n"
          ],
          "name": "stdout"
        }
      ]
    },
    {
      "cell_type": "code",
      "metadata": {
        "id": "ologZ2sAdo3D",
        "outputId": "d43794a9-7d2c-4856-fb0d-7424763d7c78",
        "colab": {
          "base_uri": "https://localhost:8080/",
          "height": 391
        }
      },
      "source": [
        "model.labels_\n",
        "kmeans_labels = model.labels_\n",
        "comments_gps['kmeans_labels']= kmeans_labels\n",
        "comments_gps"
      ],
      "execution_count": null,
      "outputs": [
        {
          "output_type": "execute_result",
          "data": {
            "text/html": [
              "<div>\n",
              "<style scoped>\n",
              "    .dataframe tbody tr th:only-of-type {\n",
              "        vertical-align: middle;\n",
              "    }\n",
              "\n",
              "    .dataframe tbody tr th {\n",
              "        vertical-align: top;\n",
              "    }\n",
              "\n",
              "    .dataframe thead th {\n",
              "        text-align: right;\n",
              "    }\n",
              "</style>\n",
              "<table border=\"1\" class=\"dataframe\">\n",
              "  <thead>\n",
              "    <tr style=\"text-align: right;\">\n",
              "      <th></th>\n",
              "      <th>Comment_ID</th>\n",
              "      <th>Question_ID</th>\n",
              "      <th>user</th>\n",
              "      <th>course_id</th>\n",
              "      <th>Comment</th>\n",
              "      <th>Team</th>\n",
              "      <th>kmeans_labels</th>\n",
              "    </tr>\n",
              "  </thead>\n",
              "  <tbody>\n",
              "    <tr>\n",
              "      <th>0</th>\n",
              "      <td>7197674</td>\n",
              "      <td>4470201</td>\n",
              "      <td>635978</td>\n",
              "      <td>21320</td>\n",
              "      <td>This is a good question, i do think it's a lit...</td>\n",
              "      <td>Pink</td>\n",
              "      <td>4</td>\n",
              "    </tr>\n",
              "    <tr>\n",
              "      <th>1</th>\n",
              "      <td>7197679</td>\n",
              "      <td>4468999</td>\n",
              "      <td>635978</td>\n",
              "      <td>21320</td>\n",
              "      <td>This is a really good question, i like the str...</td>\n",
              "      <td>Pink</td>\n",
              "      <td>1</td>\n",
              "    </tr>\n",
              "    <tr>\n",
              "      <th>2</th>\n",
              "      <td>7206418</td>\n",
              "      <td>4475078</td>\n",
              "      <td>635978</td>\n",
              "      <td>21320</td>\n",
              "      <td>The style of the question is really good but t...</td>\n",
              "      <td>Pink</td>\n",
              "      <td>4</td>\n",
              "    </tr>\n",
              "    <tr>\n",
              "      <th>3</th>\n",
              "      <td>7206422</td>\n",
              "      <td>4470355</td>\n",
              "      <td>635978</td>\n",
              "      <td>21320</td>\n",
              "      <td>I think this is a good question but you should...</td>\n",
              "      <td>Pink</td>\n",
              "      <td>4</td>\n",
              "    </tr>\n",
              "    <tr>\n",
              "      <th>4</th>\n",
              "      <td>7211664</td>\n",
              "      <td>4476565</td>\n",
              "      <td>635978</td>\n",
              "      <td>21320</td>\n",
              "      <td>This is a great question but i do think making...</td>\n",
              "      <td>Pink</td>\n",
              "      <td>1</td>\n",
              "    </tr>\n",
              "    <tr>\n",
              "      <th>...</th>\n",
              "      <td>...</td>\n",
              "      <td>...</td>\n",
              "      <td>...</td>\n",
              "      <td>...</td>\n",
              "      <td>...</td>\n",
              "      <td>...</td>\n",
              "      <td>...</td>\n",
              "    </tr>\n",
              "    <tr>\n",
              "      <th>2071</th>\n",
              "      <td>7227407</td>\n",
              "      <td>4487352</td>\n",
              "      <td>637299</td>\n",
              "      <td>21328</td>\n",
              "      <td>This is a great question because it addresses ...</td>\n",
              "      <td>Yellow</td>\n",
              "      <td>3</td>\n",
              "    </tr>\n",
              "    <tr>\n",
              "      <th>2072</th>\n",
              "      <td>7227423</td>\n",
              "      <td>4484168</td>\n",
              "      <td>637299</td>\n",
              "      <td>21328</td>\n",
              "      <td>I think that this is a great question. It effe...</td>\n",
              "      <td>Yellow</td>\n",
              "      <td>3</td>\n",
              "    </tr>\n",
              "    <tr>\n",
              "      <th>2073</th>\n",
              "      <td>7227427</td>\n",
              "      <td>4479408</td>\n",
              "      <td>637299</td>\n",
              "      <td>21328</td>\n",
              "      <td>I found the question to be rather wordy and ju...</td>\n",
              "      <td>Yellow</td>\n",
              "      <td>3</td>\n",
              "    </tr>\n",
              "    <tr>\n",
              "      <th>2074</th>\n",
              "      <td>7227428</td>\n",
              "      <td>4476987</td>\n",
              "      <td>637299</td>\n",
              "      <td>21328</td>\n",
              "      <td>The question is well done and presents to be c...</td>\n",
              "      <td>Yellow</td>\n",
              "      <td>4</td>\n",
              "    </tr>\n",
              "    <tr>\n",
              "      <th>2075</th>\n",
              "      <td>7228043</td>\n",
              "      <td>4480705</td>\n",
              "      <td>637289</td>\n",
              "      <td>21328</td>\n",
              "      <td>Useful for recalling tRNA structure, but not m...</td>\n",
              "      <td>Blue</td>\n",
              "      <td>3</td>\n",
              "    </tr>\n",
              "  </tbody>\n",
              "</table>\n",
              "<p>2076 rows × 7 columns</p>\n",
              "</div>"
            ],
            "text/plain": [
              "      Comment_ID  Question_ID  ...    Team  kmeans_labels\n",
              "0        7197674      4470201  ...    Pink              4\n",
              "1        7197679      4468999  ...    Pink              1\n",
              "2        7206418      4475078  ...    Pink              4\n",
              "3        7206422      4470355  ...    Pink              4\n",
              "4        7211664      4476565  ...    Pink              1\n",
              "...          ...          ...  ...     ...            ...\n",
              "2071     7227407      4487352  ...  Yellow              3\n",
              "2072     7227423      4484168  ...  Yellow              3\n",
              "2073     7227427      4479408  ...  Yellow              3\n",
              "2074     7227428      4476987  ...  Yellow              4\n",
              "2075     7228043      4480705  ...    Blue              3\n",
              "\n",
              "[2076 rows x 7 columns]"
            ]
          },
          "metadata": {
            "tags": []
          },
          "execution_count": 134
        }
      ]
    },
    {
      "cell_type": "markdown",
      "metadata": {
        "id": "Dh3B9yP-Ig-L"
      },
      "source": [
        "### Joining this data set to the questions data set\n",
        "\n",
        "- keeping columns like:\n",
        "- rating\n",
        "- academic mark"
      ]
    },
    {
      "cell_type": "code",
      "metadata": {
        "id": "8jq8oKVCIgEt"
      },
      "source": [
        ""
      ],
      "execution_count": null,
      "outputs": []
    },
    {
      "cell_type": "markdown",
      "metadata": {
        "id": "7cHMmcJ-O-rk"
      },
      "source": [
        "# Kmeans - with stemmed words"
      ]
    },
    {
      "cell_type": "code",
      "metadata": {
        "id": "IfkR9marO9bs"
      },
      "source": [
        ""
      ],
      "execution_count": null,
      "outputs": []
    },
    {
      "cell_type": "markdown",
      "metadata": {
        "id": "yez4rI9Sw8o8"
      },
      "source": [
        "# Natural Language Processing - data 2001 IGNORE\n",
        "\n"
      ]
    },
    {
      "cell_type": "code",
      "metadata": {
        "id": "wA-cBUZWw_7U"
      },
      "source": [
        "from spacy.lang.en import English\n",
        "parser = English()\n",
        "\n",
        "# Our text data from Ch1 of Alice in Wonderland\n",
        "alice = \"\"\"\n",
        "Alice was beginning to get very tired of sitting by her sister on the\n",
        "bank, and of having nothing to do. Once or twice she had peeped into the\n",
        "book her sister was reading, but it had no pictures or conversations in\n",
        "it, \"and what is the use of a book,\" thought Alice, \"without pictures or\n",
        "conversations?\"\n",
        "\n",
        "So she was considering in her own mind (as well as she could, for the\n",
        "day made her feel very sleepy and stupid), whether the pleasure of\n",
        "making a daisy-chain would be worth the trouble of getting up and\n",
        "picking the daisies, when suddenly a White Rabbit with pink eyes ran\n",
        "close by her.\n",
        "\n",
        "There was nothing so very remarkable in that, nor did Alice think it so\n",
        "very much out of the way to hear the Rabbit say to itself, \"Oh dear! Oh\n",
        "dear! I shall be too late!\" But when the Rabbit actually took a watch\n",
        "out of its waistcoat-pocket and looked at it and then hurried on, Alice\n",
        "started to her feet, for it flashed across her mind that she had never\n",
        "before seen a rabbit with either a waistcoat-pocket, or a watch to take\n",
        "out of it, and, burning with curiosity, she ran across the field after\n",
        "it and was just in time to see it pop down a large rabbit-hole, under\n",
        "the hedge. In another moment, down went Alice after it!\n",
        "\"\"\"\n",
        "\n",
        "# Run the parser\n"
      ],
      "execution_count": null,
      "outputs": []
    },
    {
      "cell_type": "code",
      "metadata": {
        "id": "0PyGVkPOxIa1"
      },
      "source": [
        "parser.add_pipe(parser.create_pipe('sentencizer'))     # for latest spacy 2.0.x, sentencizer needs to be added.\n",
        "parsedData = parser(alice)"
      ],
      "execution_count": null,
      "outputs": []
    },
    {
      "cell_type": "code",
      "metadata": {
        "id": "BmGnbhE5xQbw"
      },
      "source": [
        "parsedData"
      ],
      "execution_count": null,
      "outputs": []
    },
    {
      "cell_type": "code",
      "metadata": {
        "id": "um3VsSwixYYJ"
      },
      "source": [
        "sentences = list(parsedData.sents)\n",
        "for i, s in enumerate(sentences):\n",
        "    tokens = [t.text for t in s if t.text.strip()]\n",
        "    print(i, ' '.join(tokens))"
      ],
      "execution_count": null,
      "outputs": []
    },
    {
      "cell_type": "code",
      "metadata": {
        "id": "cRXasY6fxnQy",
        "outputId": "d27749c3-51be-421c-a68b-c3d711167eb0",
        "colab": {
          "base_uri": "https://localhost:8080/"
        }
      },
      "source": [
        "print('-'*79)\n",
        "print('{:<15} {:<15} {:<15} {:<15} {:<15}'.format('TOKEN', 'LEMMA', 'POS', 'ENTITY', 'DEPENDENCY'))\n",
        "print('-'*79)\n",
        "for token in sentences[0]:\n",
        "    if token.text.strip():\n",
        "        ent_tag = token.ent_iob_\n",
        "        if token.ent_type_:\n",
        "            ent_tag = '{}-{}'.format(token.ent_iob_, token.ent_type_)\n",
        "        dep_rel = token.dep_\n",
        "        if token.dep_ != 'ROOT':\n",
        "            dep_rel = '{}::{}'.format(token.dep_, token.head.text)\n",
        "        print('{:<15} {:<15} {:<15} {:<15} {:<15}'.format(token.text, token.lemma_, token.pos_, ent_tag, dep_rel))\n",
        "print('-'*79)"
      ],
      "execution_count": null,
      "outputs": [
        {
          "output_type": "stream",
          "text": [
            "-------------------------------------------------------------------------------\n",
            "TOKEN           LEMMA           POS             ENTITY          DEPENDENCY     \n",
            "-------------------------------------------------------------------------------\n",
            "Alice           Alice                                           ::Alice        \n",
            "was             was                                             ::was          \n",
            "beginning       beginning                                       ::beginning    \n",
            "to              to                                              ::to           \n",
            "get             get                                             ::get          \n",
            "very            very                                            ::very         \n",
            "tired           tired                                           ::tired        \n",
            "of              of                                              ::of           \n",
            "sitting         sitting                                         ::sitting      \n",
            "by              by                                              ::by           \n",
            "her             her                                             ::her          \n",
            "sister          sister                                          ::sister       \n",
            "on              on                                              ::on           \n",
            "the             the                                             ::the          \n",
            "bank            bank                                            ::bank         \n",
            ",               ,                                               ::,            \n",
            "and             and                                             ::and          \n",
            "of              of                                              ::of           \n",
            "having          having                                          ::having       \n",
            "nothing         nothing                                         ::nothing      \n",
            "to              to                                              ::to           \n",
            "do              do                                              ::do           \n",
            ".               .                                               ::.            \n",
            "-------------------------------------------------------------------------------\n"
          ],
          "name": "stdout"
        }
      ]
    },
    {
      "cell_type": "markdown",
      "metadata": {
        "id": "BN3sEHtaqwxZ"
      },
      "source": [
        "## Noise Removal"
      ]
    },
    {
      "cell_type": "markdown",
      "metadata": {
        "id": "B2JaLXGFqzlQ"
      },
      "source": [
        ""
      ]
    },
    {
      "cell_type": "markdown",
      "metadata": {
        "id": "AUzM0PoqrhfA"
      },
      "source": [
        "## CHARLIE'S CODE - DONT RUN "
      ]
    },
    {
      "cell_type": "code",
      "metadata": {
        "id": "wzw7snOPpVR2"
      },
      "source": [
        "vec = TfidfVectorizer(stop_words=\"english\")\n",
        "vec.fit(comments_gps['Comment'].values)\n",
        "features = vec.transform(comments_gps['Comment'].values)\n",
        "print(features)"
      ],
      "execution_count": null,
      "outputs": []
    },
    {
      "cell_type": "code",
      "metadata": {
        "id": "Ingj5RFrrFO6"
      },
      "source": [
        "\n",
        "km = MiniBatchKMeans(n_clusters=3, random_state=0)\n",
        "km.fit(features)"
      ],
      "execution_count": null,
      "outputs": []
    },
    {
      "cell_type": "code",
      "metadata": {
        "id": "29pPuv3VrPVb",
        "outputId": "16b09ee1-2f23-463e-ff80-96d189a254ec",
        "colab": {
          "base_uri": "https://localhost:8080/",
          "height": 282
        }
      },
      "source": [
        "from sklearn.decomposition import PCA\n",
        "from matplotlib import pyplot as plt \n",
        "\n",
        "pca = PCA(n_components=2, random_state=0)\n",
        "lowerdim_features = pca.fit_transform(features.toarray())\n",
        "\n",
        "reduced_centers = pca.transform(km.cluster_centers_)\n",
        "plt.scatter(lowerdim_features[:,0], lowerdim_features[:,1], c=km.predict(features))"
      ],
      "execution_count": null,
      "outputs": [
        {
          "output_type": "execute_result",
          "data": {
            "text/plain": [
              "<matplotlib.collections.PathCollection at 0x7f3206893e10>"
            ]
          },
          "metadata": {
            "tags": []
          },
          "execution_count": 18
        },
        {
          "output_type": "display_data",
          "data": {
            "image/png": "[encoded data removed]",
            "text/plain": [
              "<Figure size 432x288 with 1 Axes>"
            ]
          },
          "metadata": {
            "tags": [],
            "needs_background": "light"
          }
        }
      ]
    }
  ]
}
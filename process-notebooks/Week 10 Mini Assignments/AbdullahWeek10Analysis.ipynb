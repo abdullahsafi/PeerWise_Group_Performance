{
 "cells": [
  {
   "cell_type": "markdown",
   "metadata": {},
   "source": [
    "# Week 10 Analysis"
   ]
  },
  {
   "cell_type": "markdown",
   "metadata": {},
   "source": [
    "### How can we use comment length to judge the comments as useful?"
   ]
  },
  {
   "cell_type": "markdown",
   "metadata": {},
   "source": [
    "The code below imports packages that we need for analysis:"
   ]
  },
  {
   "cell_type": "code",
   "execution_count": 1,
   "metadata": {},
   "outputs": [],
   "source": [
    "import pandas as pd\n",
    "import numpy as np\n",
    "import io\n",
    "import matplotlib.pyplot as plt"
   ]
  },
  {
   "cell_type": "markdown",
   "metadata": {},
   "source": [
    "The code below loads the datasets that we need to analyse the comments:"
   ]
  },
  {
   "cell_type": "code",
   "execution_count": 3,
   "metadata": {},
   "outputs": [
    {
     "data": {
      "text/html": [
       "<div>\n",
       "<style scoped>\n",
       "    .dataframe tbody tr th:only-of-type {\n",
       "        vertical-align: middle;\n",
       "    }\n",
       "\n",
       "    .dataframe tbody tr th {\n",
       "        vertical-align: top;\n",
       "    }\n",
       "\n",
       "    .dataframe thead th {\n",
       "        text-align: right;\n",
       "    }\n",
       "</style>\n",
       "<table border=\"1\" class=\"dataframe\">\n",
       "  <thead>\n",
       "    <tr style=\"text-align: right;\">\n",
       "      <th></th>\n",
       "      <th>Comment_ID</th>\n",
       "      <th>course_id</th>\n",
       "      <th>Timestamp</th>\n",
       "      <th>user</th>\n",
       "      <th>Question_ID</th>\n",
       "      <th>Comment</th>\n",
       "    </tr>\n",
       "  </thead>\n",
       "  <tbody>\n",
       "    <tr>\n",
       "      <th>0</th>\n",
       "      <td>7197674</td>\n",
       "      <td>21320</td>\n",
       "      <td>2020-04-30 19:57:28</td>\n",
       "      <td>635978</td>\n",
       "      <td>4470201</td>\n",
       "      <td>This is a good question, i do think it's a lit...</td>\n",
       "    </tr>\n",
       "    <tr>\n",
       "      <th>1</th>\n",
       "      <td>7197679</td>\n",
       "      <td>21320</td>\n",
       "      <td>2020-04-30 20:00:46</td>\n",
       "      <td>635978</td>\n",
       "      <td>4468999</td>\n",
       "      <td>This is a really good question, i like the str...</td>\n",
       "    </tr>\n",
       "    <tr>\n",
       "      <th>2</th>\n",
       "      <td>7199285</td>\n",
       "      <td>21320</td>\n",
       "      <td>2020-05-01 15:43:35</td>\n",
       "      <td>636026</td>\n",
       "      <td>4471345</td>\n",
       "      <td>It is a good question. Slightly tricky but not...</td>\n",
       "    </tr>\n",
       "    <tr>\n",
       "      <th>3</th>\n",
       "      <td>7202419</td>\n",
       "      <td>21320</td>\n",
       "      <td>2020-05-03 13:28:57</td>\n",
       "      <td>635990</td>\n",
       "      <td>4472540</td>\n",
       "      <td>I think this is a really good question! I thin...</td>\n",
       "    </tr>\n",
       "    <tr>\n",
       "      <th>4</th>\n",
       "      <td>7202425</td>\n",
       "      <td>21320</td>\n",
       "      <td>2020-05-03 13:34:57</td>\n",
       "      <td>635990</td>\n",
       "      <td>4472481</td>\n",
       "      <td>This question requires the students to recall ...</td>\n",
       "    </tr>\n",
       "  </tbody>\n",
       "</table>\n",
       "</div>"
      ],
      "text/plain": [
       "   Comment_ID  course_id            Timestamp    user  Question_ID  \\\n",
       "0     7197674      21320  2020-04-30 19:57:28  635978      4470201   \n",
       "1     7197679      21320  2020-04-30 20:00:46  635978      4468999   \n",
       "2     7199285      21320  2020-05-01 15:43:35  636026      4471345   \n",
       "3     7202419      21320  2020-05-03 13:28:57  635990      4472540   \n",
       "4     7202425      21320  2020-05-03 13:34:57  635990      4472481   \n",
       "\n",
       "                                             Comment  \n",
       "0  This is a good question, i do think it's a lit...  \n",
       "1  This is a really good question, i like the str...  \n",
       "2  It is a good question. Slightly tricky but not...  \n",
       "3  I think this is a really good question! I thin...  \n",
       "4  This question requires the students to recall ...  "
      ]
     },
     "execution_count": 3,
     "metadata": {},
     "output_type": "execute_result"
    }
   ],
   "source": [
    "courses = pd.read_excel(r\"C:\\Users\\safia\\OneDrive\\Documents\\2020 SEMESTER 2\\DATA3406\\ass2\\DATA3406-Assignment-2\\data\\C4Courses.xlsx\")\n",
    "comments = pd.read_excel(r\"C:\\Users\\safia\\OneDrive\\Documents\\2020 SEMESTER 2\\DATA3406\\ass2\\DATA3406-Assignment-2\\data\\C4Comments.xlsx\")\n",
    "groups = pd.read_excel(r\"C:\\Users\\safia\\OneDrive\\Documents\\2020 SEMESTER 2\\DATA3406\\ass2\\DATA3406-Assignment-2\\data\\C4UsersCourses.xlsx\")\n",
    "questions = pd.read_excel(r\"C:\\Users\\safia\\OneDrive\\Documents\\2020 SEMESTER 2\\DATA3406\\ass2\\DATA3406-Assignment-2\\data\\C4Questions.xlsx\")\n",
    "comments.head()"
   ]
  },
  {
   "cell_type": "markdown",
   "metadata": {},
   "source": [
    "We can view the first 4 coloumns in the comments dataframe. the purpose of the code below is to find a criterion to judge useful comments we can determine the amount of words in each comment. "
   ]
  },
  {
   "cell_type": "code",
   "execution_count": 33,
   "metadata": {},
   "outputs": [],
   "source": [
    "comment_words = []\n",
    "for i in comments['Comment']:\n",
    "    comment_words.append(len(i.split(' ')))\n",
    "comments['Words'] = comment_words"
   ]
  },
  {
   "cell_type": "markdown",
   "metadata": {},
   "source": [
    "The code above uses a loop to go through each coloumn and finds out how many words are in each comment. Then we add a new coloumn to our comments dataframe. The code below is used to view the first few rows of the comments dataframe to ensure the new word coloumn was added."
   ]
  },
  {
   "cell_type": "code",
   "execution_count": 50,
   "metadata": {},
   "outputs": [
    {
     "data": {
      "text/html": [
       "<div>\n",
       "<style scoped>\n",
       "    .dataframe tbody tr th:only-of-type {\n",
       "        vertical-align: middle;\n",
       "    }\n",
       "\n",
       "    .dataframe tbody tr th {\n",
       "        vertical-align: top;\n",
       "    }\n",
       "\n",
       "    .dataframe thead th {\n",
       "        text-align: right;\n",
       "    }\n",
       "</style>\n",
       "<table border=\"1\" class=\"dataframe\">\n",
       "  <thead>\n",
       "    <tr style=\"text-align: right;\">\n",
       "      <th></th>\n",
       "      <th>Comment_ID</th>\n",
       "      <th>course_id</th>\n",
       "      <th>Timestamp</th>\n",
       "      <th>user</th>\n",
       "      <th>Question_ID</th>\n",
       "      <th>Comment</th>\n",
       "      <th>Words</th>\n",
       "    </tr>\n",
       "  </thead>\n",
       "  <tbody>\n",
       "    <tr>\n",
       "      <th>0</th>\n",
       "      <td>7197674</td>\n",
       "      <td>21320</td>\n",
       "      <td>2020-04-30 19:57:28</td>\n",
       "      <td>635978</td>\n",
       "      <td>4470201</td>\n",
       "      <td>This is a good question, i do think it's a lit...</td>\n",
       "      <td>63</td>\n",
       "    </tr>\n",
       "    <tr>\n",
       "      <th>1</th>\n",
       "      <td>7197679</td>\n",
       "      <td>21320</td>\n",
       "      <td>2020-04-30 20:00:46</td>\n",
       "      <td>635978</td>\n",
       "      <td>4468999</td>\n",
       "      <td>This is a really good question, i like the str...</td>\n",
       "      <td>20</td>\n",
       "    </tr>\n",
       "    <tr>\n",
       "      <th>2</th>\n",
       "      <td>7199285</td>\n",
       "      <td>21320</td>\n",
       "      <td>2020-05-01 15:43:35</td>\n",
       "      <td>636026</td>\n",
       "      <td>4471345</td>\n",
       "      <td>It is a good question. Slightly tricky but not...</td>\n",
       "      <td>13</td>\n",
       "    </tr>\n",
       "    <tr>\n",
       "      <th>3</th>\n",
       "      <td>7202419</td>\n",
       "      <td>21320</td>\n",
       "      <td>2020-05-03 13:28:57</td>\n",
       "      <td>635990</td>\n",
       "      <td>4472540</td>\n",
       "      <td>I think this is a really good question! I thin...</td>\n",
       "      <td>94</td>\n",
       "    </tr>\n",
       "    <tr>\n",
       "      <th>4</th>\n",
       "      <td>7202425</td>\n",
       "      <td>21320</td>\n",
       "      <td>2020-05-03 13:34:57</td>\n",
       "      <td>635990</td>\n",
       "      <td>4472481</td>\n",
       "      <td>This question requires the students to recall ...</td>\n",
       "      <td>82</td>\n",
       "    </tr>\n",
       "  </tbody>\n",
       "</table>\n",
       "</div>"
      ],
      "text/plain": [
       "   Comment_ID  course_id            Timestamp    user  Question_ID  \\\n",
       "0     7197674      21320  2020-04-30 19:57:28  635978      4470201   \n",
       "1     7197679      21320  2020-04-30 20:00:46  635978      4468999   \n",
       "2     7199285      21320  2020-05-01 15:43:35  636026      4471345   \n",
       "3     7202419      21320  2020-05-03 13:28:57  635990      4472540   \n",
       "4     7202425      21320  2020-05-03 13:34:57  635990      4472481   \n",
       "\n",
       "                                             Comment  Words  \n",
       "0  This is a good question, i do think it's a lit...     63  \n",
       "1  This is a really good question, i like the str...     20  \n",
       "2  It is a good question. Slightly tricky but not...     13  \n",
       "3  I think this is a really good question! I thin...     94  \n",
       "4  This question requires the students to recall ...     82  "
      ]
     },
     "execution_count": 50,
     "metadata": {},
     "output_type": "execute_result"
    }
   ],
   "source": [
    "comments.head()"
   ]
  },
  {
   "cell_type": "markdown",
   "metadata": {},
   "source": [
    "As seen in the table above, we have added the new coliumn \"Words\". This is the amount of words in the \"Comment\"."
   ]
  },
  {
   "cell_type": "markdown",
   "metadata": {},
   "source": [
    "Now we will merge the question and comment table. This will allow us to have the academic mark per question and its comments. Then we can also group by question ID. This will help us have a dataframe to be able to judge the influnce of comment words on question quality. "
   ]
  },
  {
   "cell_type": "code",
   "execution_count": 51,
   "metadata": {},
   "outputs": [
    {
     "data": {
      "text/html": [
       "<div>\n",
       "<style scoped>\n",
       "    .dataframe tbody tr th:only-of-type {\n",
       "        vertical-align: middle;\n",
       "    }\n",
       "\n",
       "    .dataframe tbody tr th {\n",
       "        vertical-align: top;\n",
       "    }\n",
       "\n",
       "    .dataframe thead th {\n",
       "        text-align: right;\n",
       "    }\n",
       "</style>\n",
       "<table border=\"1\" class=\"dataframe\">\n",
       "  <thead>\n",
       "    <tr style=\"text-align: right;\">\n",
       "      <th></th>\n",
       "      <th>user</th>\n",
       "      <th>AcademicMark</th>\n",
       "      <th>total_comments</th>\n",
       "      <th>Question_ID</th>\n",
       "      <th>Comment_ID</th>\n",
       "      <th>Words</th>\n",
       "    </tr>\n",
       "    <tr>\n",
       "      <th>id</th>\n",
       "      <th></th>\n",
       "      <th></th>\n",
       "      <th></th>\n",
       "      <th></th>\n",
       "      <th></th>\n",
       "      <th></th>\n",
       "    </tr>\n",
       "  </thead>\n",
       "  <tbody>\n",
       "    <tr>\n",
       "      <th>4466727</th>\n",
       "      <td>636371.0</td>\n",
       "      <td>4.0</td>\n",
       "      <td>11.0</td>\n",
       "      <td>4.470502e+06</td>\n",
       "      <td>7.209537e+06</td>\n",
       "      <td>92.444444</td>\n",
       "    </tr>\n",
       "    <tr>\n",
       "      <th>4469118</th>\n",
       "      <td>636252.0</td>\n",
       "      <td>3.0</td>\n",
       "      <td>9.0</td>\n",
       "      <td>4.472727e+06</td>\n",
       "      <td>7.207523e+06</td>\n",
       "      <td>67.400000</td>\n",
       "    </tr>\n",
       "    <tr>\n",
       "      <th>4469218</th>\n",
       "      <td>639907.0</td>\n",
       "      <td>3.0</td>\n",
       "      <td>9.0</td>\n",
       "      <td>4.471930e+06</td>\n",
       "      <td>7.209150e+06</td>\n",
       "      <td>22.500000</td>\n",
       "    </tr>\n",
       "    <tr>\n",
       "      <th>4469893</th>\n",
       "      <td>560584.0</td>\n",
       "      <td>4.0</td>\n",
       "      <td>10.0</td>\n",
       "      <td>4.472836e+06</td>\n",
       "      <td>7.215156e+06</td>\n",
       "      <td>56.900000</td>\n",
       "    </tr>\n",
       "    <tr>\n",
       "      <th>4470054</th>\n",
       "      <td>636365.0</td>\n",
       "      <td>3.0</td>\n",
       "      <td>10.0</td>\n",
       "      <td>4.472207e+06</td>\n",
       "      <td>7.203616e+06</td>\n",
       "      <td>75.777778</td>\n",
       "    </tr>\n",
       "    <tr>\n",
       "      <th>...</th>\n",
       "      <td>...</td>\n",
       "      <td>...</td>\n",
       "      <td>...</td>\n",
       "      <td>...</td>\n",
       "      <td>...</td>\n",
       "      <td>...</td>\n",
       "    </tr>\n",
       "    <tr>\n",
       "      <th>4489374</th>\n",
       "      <td>637571.0</td>\n",
       "      <td>3.0</td>\n",
       "      <td>0.0</td>\n",
       "      <td>4.476444e+06</td>\n",
       "      <td>7.220676e+06</td>\n",
       "      <td>27.333333</td>\n",
       "    </tr>\n",
       "    <tr>\n",
       "      <th>4489504</th>\n",
       "      <td>637257.0</td>\n",
       "      <td>3.0</td>\n",
       "      <td>0.0</td>\n",
       "      <td>4.481382e+06</td>\n",
       "      <td>7.225110e+06</td>\n",
       "      <td>60.000000</td>\n",
       "    </tr>\n",
       "    <tr>\n",
       "      <th>4489506</th>\n",
       "      <td>637290.0</td>\n",
       "      <td>5.0</td>\n",
       "      <td>0.0</td>\n",
       "      <td>4.479634e+06</td>\n",
       "      <td>7.222408e+06</td>\n",
       "      <td>65.875000</td>\n",
       "    </tr>\n",
       "    <tr>\n",
       "      <th>4489732</th>\n",
       "      <td>637223.0</td>\n",
       "      <td>5.0</td>\n",
       "      <td>0.0</td>\n",
       "      <td>4.478908e+06</td>\n",
       "      <td>7.219073e+06</td>\n",
       "      <td>31.800000</td>\n",
       "    </tr>\n",
       "    <tr>\n",
       "      <th>4489735</th>\n",
       "      <td>637295.0</td>\n",
       "      <td>4.0</td>\n",
       "      <td>0.0</td>\n",
       "      <td>4.477913e+06</td>\n",
       "      <td>7.215011e+06</td>\n",
       "      <td>43.571429</td>\n",
       "    </tr>\n",
       "  </tbody>\n",
       "</table>\n",
       "<p>273 rows × 6 columns</p>\n",
       "</div>"
      ],
      "text/plain": [
       "             user  AcademicMark  total_comments   Question_ID    Comment_ID  \\\n",
       "id                                                                            \n",
       "4466727  636371.0           4.0            11.0  4.470502e+06  7.209537e+06   \n",
       "4469118  636252.0           3.0             9.0  4.472727e+06  7.207523e+06   \n",
       "4469218  639907.0           3.0             9.0  4.471930e+06  7.209150e+06   \n",
       "4469893  560584.0           4.0            10.0  4.472836e+06  7.215156e+06   \n",
       "4470054  636365.0           3.0            10.0  4.472207e+06  7.203616e+06   \n",
       "...           ...           ...             ...           ...           ...   \n",
       "4489374  637571.0           3.0             0.0  4.476444e+06  7.220676e+06   \n",
       "4489504  637257.0           3.0             0.0  4.481382e+06  7.225110e+06   \n",
       "4489506  637290.0           5.0             0.0  4.479634e+06  7.222408e+06   \n",
       "4489732  637223.0           5.0             0.0  4.478908e+06  7.219073e+06   \n",
       "4489735  637295.0           4.0             0.0  4.477913e+06  7.215011e+06   \n",
       "\n",
       "             Words  \n",
       "id                  \n",
       "4466727  92.444444  \n",
       "4469118  67.400000  \n",
       "4469218  22.500000  \n",
       "4469893  56.900000  \n",
       "4470054  75.777778  \n",
       "...            ...  \n",
       "4489374  27.333333  \n",
       "4489504  60.000000  \n",
       "4489506  65.875000  \n",
       "4489732  31.800000  \n",
       "4489735  43.571429  \n",
       "\n",
       "[273 rows x 6 columns]"
      ]
     },
     "execution_count": 51,
     "metadata": {},
     "output_type": "execute_result"
    }
   ],
   "source": [
    "question_comment_merge = questions[['id','user', 'AcademicMark', 'total_comments']].merge(comments[['user','Question_ID','Comment_ID','Comment','Words']], on='user', how='inner')\n",
    "question_comment_merge= question_comment_merge.sort_values('AcademicMark', ascending = False)\n",
    "question_comment_merge = question_comment_merge.dropna()\n",
    "question_comment_merge.groupby('id').mean()"
   ]
  },
  {
   "cell_type": "markdown",
   "metadata": {},
   "source": [
    "We also removed rows with NaN values snd sorted the table by academic mark to make the the trends easier to analyse."
   ]
  },
  {
   "cell_type": "markdown",
   "metadata": {},
   "source": [
    "In the code below, we will compare total comments with academic mark. This is because we want to determine if there is somewhat of a correlation between question academic mark and total comments under that question."
   ]
  },
  {
   "cell_type": "code",
   "execution_count": 59,
   "metadata": {},
   "outputs": [
    {
     "data": {
      "image/png": "[encoded data removed]",
      "text/plain": [
       "<Figure size 432x288 with 1 Axes>"
      ]
     },
     "metadata": {
      "needs_background": "light"
     },
     "output_type": "display_data"
    }
   ],
   "source": [
    "plt.bar(question_comment_merge['AcademicMark'],question_comment_merge['total_comments'])\n",
    "plt.plot()\n",
    "plt.title(\"AcademicMark vs total comments\")\n",
    "plt.show()"
   ]
  },
  {
   "cell_type": "markdown",
   "metadata": {},
   "source": [
    "The bar graph above displays the academic mark vs total comments. We can see that questions are varied in terms of academic mark and total comments. This suggests that perhpas having greater amounts of comments is not as helpful as comments of good quality."
   ]
  },
  {
   "cell_type": "markdown",
   "metadata": {},
   "source": [
    "Below we will put total comments and academic mark in a scatter plot. These may help us observe any outliers, but also allow us to determine if there is no correlation between academic mark and total comments."
   ]
  },
  {
   "cell_type": "code",
   "execution_count": 61,
   "metadata": {},
   "outputs": [
    {
     "data": {
      "text/plain": [
       "<matplotlib.axes._subplots.AxesSubplot at 0x1e7b6092490>"
      ]
     },
     "execution_count": 61,
     "metadata": {},
     "output_type": "execute_result"
    },
    {
     "data": {
      "image/png": "[encoded data removed]",
      "text/plain": [
       "<Figure size 432x288 with 1 Axes>"
      ]
     },
     "metadata": {
      "needs_background": "light"
     },
     "output_type": "display_data"
    }
   ],
   "source": [
    "question_comment_merge.plot.scatter('AcademicMark', 'total_comments')"
   ]
  },
  {
   "cell_type": "markdown",
   "metadata": {},
   "source": [
    "As seen in the scatter plot above, there is an outlier with 0 academic mark and 10 total comments. This can be dealt with later. It is clear that there is not much of a correlation here as the total comments are spread throughout the academic marks. This also suggests that the quality of a question is more important than the total."
   ]
  },
  {
   "cell_type": "markdown",
   "metadata": {},
   "source": [
    "Below is the code for creating a bar plot with academic mark against the number of words in each comment. The reason for doing this type of graph is to determine if the a higher word count in the comments of questions influences the final academic mark of that question."
   ]
  },
  {
   "cell_type": "code",
   "execution_count": 63,
   "metadata": {},
   "outputs": [
    {
     "data": {
      "image/png": "[encoded data removed]",
      "text/plain": [
       "<Figure size 432x288 with 1 Axes>"
      ]
     },
     "metadata": {
      "needs_background": "light"
     },
     "output_type": "display_data"
    }
   ],
   "source": [
    "plt.bar(question_comment_merge['AcademicMark'],question_comment_merge['Words'])\n",
    "plt.plot()\n",
    "plt.title(\"AcademicMark vs words\")\n",
    "plt.show()"
   ]
  },
  {
   "cell_type": "markdown",
   "metadata": {},
   "source": [
    "As seen in the bar plot above, it seems as though having a higher number of words in the comments of questions can increase the academic mark as questions with marks in the 0-2 range do not have high word counts relative to the 3-5 mark range. This suggests that the quality of a comment may come from the length of the comment."
   ]
  },
  {
   "cell_type": "markdown",
   "metadata": {},
   "source": [
    "To check if there are any major outliers we can do a scatter plot on academic mark and words. This scatter plot is coded below and will also assist us in determining if there is a correlation between academic mark and comment words."
   ]
  },
  {
   "cell_type": "code",
   "execution_count": 47,
   "metadata": {},
   "outputs": [
    {
     "data": {
      "text/plain": [
       "<matplotlib.axes._subplots.AxesSubplot at 0x1e7af143460>"
      ]
     },
     "execution_count": 47,
     "metadata": {},
     "output_type": "execute_result"
    },
    {
     "data": {
      "image/png": "[encoded data removed]",
      "text/plain": [
       "<Figure size 432x288 with 1 Axes>"
      ]
     },
     "metadata": {
      "needs_background": "light"
     },
     "output_type": "display_data"
    }
   ],
   "source": [
    "question_comment_merge.plot.scatter('AcademicMark', 'Words')"
   ]
  },
  {
   "cell_type": "markdown",
   "metadata": {},
   "source": [
    "As seen above, there is an outlier in academic mark 5 with a comment with a word count of 500. In reality length of comments only seperate marks from 0-2 and 3-5. Once you are in the 3-5 mark range there must be another indicator that helps push the mark up that still needs to be investigated. The number of words is most impactful in the 0-2 range as they have less words per comment."
   ]
  }
 ],
 "metadata": {
  "kernelspec": {
   "display_name": "Python 3",
   "language": "python",
   "name": "python3"
  },
  "language_info": {
   "codemirror_mode": {
    "name": "ipython",
    "version": 3
   },
   "file_extension": ".py",
   "mimetype": "text/x-python",
   "name": "python",
   "nbconvert_exporter": "python",
   "pygments_lexer": "ipython3",
   "version": "3.8.3"
  }
 },
 "nbformat": 4,
 "nbformat_minor": 4
}

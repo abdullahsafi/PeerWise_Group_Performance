{
  "nbformat": 4,
  "nbformat_minor": 0,
  "metadata": {
    "colab": {
      "name": "DATA3406ExplorationA2.ipynb",
      "provenance": [],
      "collapsed_sections": []
    },
    "kernelspec": {
      "name": "python3",
      "display_name": "Python 3"
    }
  },
  "cells": [
    {
      "source": [
        "# Week 8 Mini Assignment"
      ],
      "cell_type": "markdown",
      "metadata": {}
    },
    {
      "cell_type": "code",
      "metadata": {
        "id": "GXflNF1qxtI_"
      },
      "source": [
        "import pandas as pd\n",
        "\n",
        "comments = pd.read_excel(\"C4Comments.xlsx\")\n",
        "courses = pd.read_excel(\"C4Courses.xlsx\")"
      ],
      "execution_count": 1,
      "outputs": []
    },
    {
      "cell_type": "markdown",
      "metadata": {
        "id": "PdFeXCNSyP2i"
      },
      "source": [
        "## Comments data"
      ]
    },
    {
      "cell_type": "code",
      "metadata": {
        "id": "5dXaqpmqyN7G",
        "outputId": "56874959-f882-42ff-f354-24192c8895d9",
        "colab": {
          "base_uri": "https://localhost:8080/",
          "height": 204
        }
      },
      "source": [
        "comments.head()"
      ],
      "execution_count": 8,
      "outputs": [
        {
          "output_type": "execute_result",
          "data": {
            "text/html": [
              "<div>\n",
              "<style scoped>\n",
              "    .dataframe tbody tr th:only-of-type {\n",
              "        vertical-align: middle;\n",
              "    }\n",
              "\n",
              "    .dataframe tbody tr th {\n",
              "        vertical-align: top;\n",
              "    }\n",
              "\n",
              "    .dataframe thead th {\n",
              "        text-align: right;\n",
              "    }\n",
              "</style>\n",
              "<table border=\"1\" class=\"dataframe\">\n",
              "  <thead>\n",
              "    <tr style=\"text-align: right;\">\n",
              "      <th></th>\n",
              "      <th>Comment_ID</th>\n",
              "      <th>course_id</th>\n",
              "      <th>Timestamp</th>\n",
              "      <th>user</th>\n",
              "      <th>Question_ID</th>\n",
              "      <th>Comment</th>\n",
              "    </tr>\n",
              "  </thead>\n",
              "  <tbody>\n",
              "    <tr>\n",
              "      <th>0</th>\n",
              "      <td>7197674</td>\n",
              "      <td>21320</td>\n",
              "      <td>2020-04-30 19:57:28</td>\n",
              "      <td>635978</td>\n",
              "      <td>4470201</td>\n",
              "      <td>This is a good question, i do think it's a lit...</td>\n",
              "    </tr>\n",
              "    <tr>\n",
              "      <th>1</th>\n",
              "      <td>7197679</td>\n",
              "      <td>21320</td>\n",
              "      <td>2020-04-30 20:00:46</td>\n",
              "      <td>635978</td>\n",
              "      <td>4468999</td>\n",
              "      <td>This is a really good question, i like the str...</td>\n",
              "    </tr>\n",
              "    <tr>\n",
              "      <th>2</th>\n",
              "      <td>7199285</td>\n",
              "      <td>21320</td>\n",
              "      <td>2020-05-01 15:43:35</td>\n",
              "      <td>636026</td>\n",
              "      <td>4471345</td>\n",
              "      <td>It is a good question. Slightly tricky but not...</td>\n",
              "    </tr>\n",
              "    <tr>\n",
              "      <th>3</th>\n",
              "      <td>7202419</td>\n",
              "      <td>21320</td>\n",
              "      <td>2020-05-03 13:28:57</td>\n",
              "      <td>635990</td>\n",
              "      <td>4472540</td>\n",
              "      <td>I think this is a really good question! I thin...</td>\n",
              "    </tr>\n",
              "    <tr>\n",
              "      <th>4</th>\n",
              "      <td>7202425</td>\n",
              "      <td>21320</td>\n",
              "      <td>2020-05-03 13:34:57</td>\n",
              "      <td>635990</td>\n",
              "      <td>4472481</td>\n",
              "      <td>This question requires the students to recall ...</td>\n",
              "    </tr>\n",
              "  </tbody>\n",
              "</table>\n",
              "</div>"
            ],
            "text/plain": [
              "   Comment_ID  ...                                            Comment\n",
              "0     7197674  ...  This is a good question, i do think it's a lit...\n",
              "1     7197679  ...  This is a really good question, i like the str...\n",
              "2     7199285  ...  It is a good question. Slightly tricky but not...\n",
              "3     7202419  ...  I think this is a really good question! I thin...\n",
              "4     7202425  ...  This question requires the students to recall ...\n",
              "\n",
              "[5 rows x 6 columns]"
            ]
          },
          "metadata": {
            "tags": []
          },
          "execution_count": 8
        }
      ]
    },
    {
      "cell_type": "code",
      "metadata": {
        "id": "YZmGVd1bzBEx",
        "outputId": "d325b634-d924-43f4-ca62-a1bd26ad68a7",
        "colab": {
          "base_uri": "https://localhost:8080/",
          "height": 51
        }
      },
      "source": [
        "print(\"There are {} rows in the comments data source\".format(comments.shape[0]))\n",
        "print(\"There are {} unique comment_ids\".format(comments['Comment_ID'].nunique()))"
      ],
      "execution_count": 39,
      "outputs": [
        {
          "output_type": "stream",
          "text": [
            "There are 2229 rows in the comments data source\n",
            "There are 2229 unique comment_ids\n"
          ],
          "name": "stdout"
        }
      ]
    },
    {
      "cell_type": "markdown",
      "metadata": {
        "id": "nnmaKL4KyV6n"
      },
      "source": [
        "#### Comments overview\n",
        "- We have 2229 rows of data\n",
        "- Each row is a unique comment for a particular course\n",
        "- Comment column contains the actual comment made\n",
        "- Also have access to the userID of the user who made the comment and the question id of where the comment was \n",
        "\n",
        "#### How many different students are represented by this data?"
      ]
    },
    {
      "cell_type": "code",
      "metadata": {
        "id": "x7px384lyTug",
        "outputId": "0bb8a8eb-c163-4b35-b050-60bf7ff0b9e9",
        "colab": {
          "base_uri": "https://localhost:8080/",
          "height": 34
        }
      },
      "source": [
        "print(\"There are {} unique students in the comments data\".format(comments['user'].nunique()))"
      ],
      "execution_count": 21,
      "outputs": [
        {
          "output_type": "stream",
          "text": [
            "There are 269 unique students in the comments data\n"
          ],
          "name": "stdout"
        }
      ]
    },
    {
      "cell_type": "markdown",
      "metadata": {
        "id": "tl4yWU0qz7Q2"
      },
      "source": [
        "### How many different questions are represented by this data?"
      ]
    },
    {
      "cell_type": "code",
      "metadata": {
        "id": "nzn8qNm3zvBv",
        "outputId": "fe40dc23-30ae-449e-c097-02290074a419",
        "colab": {
          "base_uri": "https://localhost:8080/",
          "height": 34
        }
      },
      "source": [
        "print(\"There are {} unique question_ids\".format(comments['Question_ID'].nunique()))"
      ],
      "execution_count": 25,
      "outputs": [
        {
          "output_type": "stream",
          "text": [
            "There are 441 unique question_ids\n"
          ],
          "name": "stdout"
        }
      ]
    },
    {
      "cell_type": "markdown",
      "metadata": {
        "id": "voZrKWtd0Ejx"
      },
      "source": [
        "#### What is the date range of the data?"
      ]
    },
    {
      "cell_type": "code",
      "metadata": {
        "id": "djevWOM90G52",
        "outputId": "0fdb59f8-fd75-4c66-ba28-4f3cbd11b5c2",
        "colab": {
          "base_uri": "https://localhost:8080/",
          "height": 51
        }
      },
      "source": [
        "oldest = pd.to_datetime(comments['Timestamp'].min())\n",
        "newest = pd.to_datetime(comments['Timestamp'].max())\n",
        "print(\"The oldest date is {} and the newest date is {}\".format(oldest, newest))\n",
        "print(\"This is a date range of {}\".format((newest-oldest)))"
      ],
      "execution_count": 38,
      "outputs": [
        {
          "output_type": "stream",
          "text": [
            "The oldest date is 2020-04-28 21:23:10 and the newest date is 2020-05-19 12:20:26\n",
            "This is a date range of 20 days 14:57:16\n"
          ],
          "name": "stdout"
        }
      ]
    },
    {
      "cell_type": "markdown",
      "metadata": {
        "id": "7wGH8xYI1h1p"
      },
      "source": [
        "## Now let's look at the Courses data"
      ]
    },
    {
      "cell_type": "code",
      "metadata": {
        "id": "9LL6LbLZ13mU",
        "outputId": "864131a0-43e5-473e-c2c0-d908c0474d8e",
        "colab": {
          "base_uri": "https://localhost:8080/",
          "height": 173
        }
      },
      "source": [
        "courses.head()"
      ],
      "execution_count": 40,
      "outputs": [
        {
          "output_type": "execute_result",
          "data": {
            "text/html": [
              "<div>\n",
              "<style scoped>\n",
              "    .dataframe tbody tr th:only-of-type {\n",
              "        vertical-align: middle;\n",
              "    }\n",
              "\n",
              "    .dataframe tbody tr th {\n",
              "        vertical-align: top;\n",
              "    }\n",
              "\n",
              "    .dataframe thead th {\n",
              "        text-align: right;\n",
              "    }\n",
              "</style>\n",
              "<table border=\"1\" class=\"dataframe\">\n",
              "  <thead>\n",
              "    <tr style=\"text-align: right;\">\n",
              "      <th></th>\n",
              "      <th>CourseID</th>\n",
              "      <th>CourseName</th>\n",
              "      <th>StartDate</th>\n",
              "      <th>Deadline_Comment</th>\n",
              "      <th>Deadline_Question</th>\n",
              "    </tr>\n",
              "  </thead>\n",
              "  <tbody>\n",
              "    <tr>\n",
              "      <th>0</th>\n",
              "      <td>21320</td>\n",
              "      <td>NUTM2001 Mon</td>\n",
              "      <td>2020-04-27</td>\n",
              "      <td>2020-05-12 01:00:10</td>\n",
              "      <td>2020-05-05 01:00:10</td>\n",
              "    </tr>\n",
              "    <tr>\n",
              "      <th>1</th>\n",
              "      <td>21326</td>\n",
              "      <td>NUTM2001 Tues</td>\n",
              "      <td>2020-04-28</td>\n",
              "      <td>2020-05-13 01:00:10</td>\n",
              "      <td>2020-05-06 01:00:10</td>\n",
              "    </tr>\n",
              "    <tr>\n",
              "      <th>2</th>\n",
              "      <td>21327</td>\n",
              "      <td>NUTM2001 Wed</td>\n",
              "      <td>2020-04-29</td>\n",
              "      <td>2020-05-14 01:00:10</td>\n",
              "      <td>2020-05-07 01:00:10</td>\n",
              "    </tr>\n",
              "    <tr>\n",
              "      <th>3</th>\n",
              "      <td>21328</td>\n",
              "      <td>NUTM2001 Thurs</td>\n",
              "      <td>2020-04-30</td>\n",
              "      <td>2020-05-15 01:00:10</td>\n",
              "      <td>2020-05-08 01:00:10</td>\n",
              "    </tr>\n",
              "  </tbody>\n",
              "</table>\n",
              "</div>"
            ],
            "text/plain": [
              "   CourseID      CourseName  StartDate    Deadline_Comment   Deadline_Question\n",
              "0     21320    NUTM2001 Mon 2020-04-27 2020-05-12 01:00:10 2020-05-05 01:00:10\n",
              "1     21326   NUTM2001 Tues 2020-04-28 2020-05-13 01:00:10 2020-05-06 01:00:10\n",
              "2     21327    NUTM2001 Wed 2020-04-29 2020-05-14 01:00:10 2020-05-07 01:00:10\n",
              "3     21328  NUTM2001 Thurs 2020-04-30 2020-05-15 01:00:10 2020-05-08 01:00:10"
            ]
          },
          "metadata": {
            "tags": []
          },
          "execution_count": 40
        }
      ]
    },
    {
      "cell_type": "markdown",
      "metadata": {
        "id": "pPIsGxnA2AFP"
      },
      "source": [
        "- Contains course names as well as the day\n",
        "- Contains course ID column which is also reflected by the coursename column\n",
        "- Contains deadline information for comments and questions"
      ]
    },
    {
      "cell_type": "markdown",
      "metadata": {
        "id": "m0BAsReR15lW"
      },
      "source": [
        "### How many rows are there?"
      ]
    },
    {
      "cell_type": "code",
      "metadata": {
        "id": "wVeqMi4r2cM4",
        "outputId": "70004d7d-f607-4e92-bb02-e29a6415dac6",
        "colab": {
          "base_uri": "https://localhost:8080/",
          "height": 34
        }
      },
      "source": [
        "print(\"There are {} rows of data\".format(courses.shape[0]))"
      ],
      "execution_count": 44,
      "outputs": [
        {
          "output_type": "stream",
          "text": [
            "There are 4 rows of data\n"
          ],
          "name": "stdout"
        }
      ]
    },
    {
      "cell_type": "markdown",
      "metadata": {
        "id": "65qUMoV82jdE"
      },
      "source": [
        "- Only 4 rows so only 4 courses\n",
        "- This data source is probably only useful for the deadline columns but even then doesn't seem too useful at an initial glance"
      ]
    }
  ]
}
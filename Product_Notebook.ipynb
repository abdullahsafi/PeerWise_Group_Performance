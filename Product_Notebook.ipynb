{
  "nbformat": 4,
  "nbformat_minor": 0,
  "metadata": {
    "colab": {
      "name": "Product_Notebook.ipynb",
      "provenance": [],
      "collapsed_sections": [],
      "toc_visible": true
    },
    "kernelspec": {
      "display_name": "Python 3",
      "language": "python",
      "name": "python3"
    },
    "language_info": {
      "codemirror_mode": {
        "name": "ipython",
        "version": 3
      },
      "file_extension": ".py",
      "mimetype": "text/x-python",
      "name": "python",
      "nbconvert_exporter": "python",
      "pygments_lexer": "ipython3",
      "version": "3.8.3"
    }
  },
  "cells": [
    {
      "cell_type": "markdown",
      "metadata": {
        "id": "uW7upuuOefWm"
      },
      "source": [
        "# Data 3406 Assignment 2 Topic Two: PeerWise Groups\n",
        "\n",
        "---"
      ]
    },
    {
      "cell_type": "markdown",
      "metadata": {
        "id": "8WbOcBcqRKUU"
      },
      "source": [
        "Charlie Lorimer, Abdullah Safi, Yan Yu, Natasha Tanudji, Johanna Jones, Taron Ling"
      ]
    },
    {
      "cell_type": "markdown",
      "metadata": {
        "id": "8Qw3hXKOefWo"
      },
      "source": [
        "## What are the impacts of group membership for performance using PeerWise?"
      ]
    },
    {
      "cell_type": "markdown",
      "metadata": {
        "id": "jeXlJYlNefWp"
      },
      "source": [
        "# Table of Contents\n",
        "---\n",
        "\n",
        "1. Introduction and context of data\n",
        "2. Loading required files and packages\n",
        "3. Data Cleaning and Testing\n",
        "4. Exploration of dataset\n",
        "5. Data Analysis\n",
        "  1. Student Improvement in Cycle 4\n",
        "      1. Student question performance\n",
        "      2. Student Motivation\n",
        "  5. Group Performance\n",
        "      1. Team Correctness\n",
        "  2. Motivation\n",
        "      1. Lateness of Comments\n",
        "      2. Lateness of Questions\n",
        "  4. Identifying Useful Comments\n",
        "6. Conclusions"
      ]
    },
    {
      "cell_type": "markdown",
      "metadata": {
        "id": "XHWybmzmefWq"
      },
      "source": [
        "# 1. Introduction and context of data\n",
        "---"
      ]
    },
    {
      "cell_type": "markdown",
      "metadata": {
        "id": "akswqa5Ap2mk"
      },
      "source": [
        "-  Gareth Denyer has made extensive use of PeerWise in large classes at Sydney University. He has a set of de-identified data for students who worked in groups which he has classified in terms of their motivation and achievement levels. The data available is from internal PeerWise logs and final exams. Gareth has agreed to be available to discuss this topic with groups taking it on. Students who want to do this project need to be linked to the ethics processes for analysing this data.\n",
        "\n",
        "- Safi, Start: 08-11-2020, End: 09-11-2020"
      ]
    },
    {
      "cell_type": "markdown",
      "metadata": {
        "id": "TIbGHytnrWzq"
      },
      "source": [
        "\n",
        "There was a total of 4 cycles throughout the entire course which all had different tasks to complete which are listed below:\n",
        "- For cycle 1, students were tasked with recognising good or bad questions by \n",
        "finding a question from resources such as a textbook or the internet and submitting it to PeerWise. Furthermore, they had to comment on a question and provide feedback.\n",
        "- Cycle 2 was similar to cycle 1 except students now had to create a question by themselves as well as providing actionable feedback for their peers.\n",
        "- In Cycle 3 students were required to answer questions from the previous cycle.\n",
        "- Finally, for cycle 4, students were put into non-random groups and tasked with creating a question as well as answering a question.\n",
        "\n",
        "- Yu, Start: 08-11-2020, End: 09-11-2020"
      ]
    },
    {
      "cell_type": "markdown",
      "metadata": {
        "id": "aspkODjaefWu"
      },
      "source": [
        "Our interest and analysis is to determine if group memberships have any impact on performance when using PeerWise, to do this we will first have to load and clean our data."
      ]
    },
    {
      "cell_type": "markdown",
      "metadata": {
        "id": "R7Xf5AYxp3JZ"
      },
      "source": [
        "# 2. Loading required files and packages\n",
        "\n",
        "---"
      ]
    },
    {
      "cell_type": "code",
      "metadata": {
        "id": "DMIVSwcds0Nb"
      },
      "source": [
        "# Data loading/processing/manipulation\n",
        "import pandas as pd \n",
        "import numpy as np\n",
        "\n",
        "# Plotting\n",
        "from matplotlib import pyplot as plt\n",
        "import plotly.express as px\n",
        "from plotly.subplots import make_subplots\n",
        "import plotly.graph_objects as go\n",
        "import seaborn as sns\n",
        "\n",
        "# Everyone, Start: 10-11-2020, End: 10-11-2020\n"
      ],
      "execution_count": 1,
      "outputs": []
    },
    {
      "cell_type": "markdown",
      "metadata": {
        "id": "XzvJeucwmlXw"
      },
      "source": [
        "Below is where we plan to load all of our data so that we are able to use it for our analysis\n",
        "- Everyone, Start:09-11-2020, End: 09-11-2020\n"
      ]
    },
    {
      "cell_type": "code",
      "metadata": {
        "id": "uD-Gd27yn8r0",
        "colab": {
          "base_uri": "https://localhost:8080/"
        },
        "outputId": "71f4319a-ccda-48e7-8f1e-591a12df6710"
      },
      "source": [
        "from google.colab import drive\n",
        "drive.mount('/content/drive')"
      ],
      "execution_count": 2,
      "outputs": [
        {
          "output_type": "stream",
          "text": [
            "Drive already mounted at /content/drive; to attempt to forcibly remount, call drive.mount(\"/content/drive\", force_remount=True).\n"
          ],
          "name": "stdout"
        }
      ]
    },
    {
      "cell_type": "code",
      "metadata": {
        "id": "4uYffa5Hs0qW"
      },
      "source": [
        "# Courses\n",
        "path = \"/content/drive/MyDrive/DATA3406-Assignment-2/\"\n",
        "c1courses = pd.read_excel(path+ \"data/Cycle 1/C1 Courses.xlsx\")\n",
        "c2courses = pd.read_excel(path+ \"data/Cycle 2/C2 Courses.xlsx\")\n",
        "c3courses = pd.read_excel(path+ \"data/Cycle 3/C3 Courses.xlsx\")\n",
        "c4courses = pd.read_excel(path+ \"data/Cycle 4/C4Courses.xlsx\")\n",
        "\n",
        "# Questions\n",
        "c1questions = pd.read_excel(path+ \"data/Cycle 1/C1 Questions.xlsx\")\n",
        "c2questions = pd.read_excel(path+ \"data/Cycle 2/C2 Questions.xlsx\")\n",
        "c3questions = pd.read_excel(path+ \"data/Cycle 3/C3 Questions.xlsx\")\n",
        "c4questions = pd.read_excel(path+ \"data/Cycle 4/C4Questions.xlsx\")\n",
        "\n",
        "#Answers\n",
        "c3answers = pd.read_excel(path+ \"data/Cycle 3/C3 Answers.xlsx\")\n",
        "\n",
        "#Comments\n",
        "c1comments = pd.read_excel(path+ \"data/Cycle 1/C1 Comments.xlsx\")\n",
        "c2comments = pd.read_excel(path+ \"data/Cycle 2/C2 Comments.xlsx\")\n",
        "c4comments = pd.read_excel(path+ \"data/Cycle 4/C4Comments.xlsx\")\n",
        "\n",
        "# UserCourses\n",
        "c2usercourses = pd.read_excel(path+ \"data/Cycle 2/C2 UsersCourses.xlsx\")\n",
        "c4usercourses = pd.read_excel(path+ \"data/Cycle 4/C4UsersCourses.xlsx\")\n",
        "\n",
        "# Everyone, Start: 10-11-2020, End: 10-11-2020"
      ],
      "execution_count": 3,
      "outputs": []
    },
    {
      "cell_type": "markdown",
      "metadata": {
        "id": "JFb3V9rgnENC"
      },
      "source": [
        "From this cell above, the data was successfully loaded and that we are able to now use it for our analysis. The dataframes are stored in variables starting with \"c\" and a number, representing the cycle number. For exmaple the question dataframe from c4 is named `c4questions`.\n",
        "- Everyone, Start: 09-11-2020. End: 09-11-2020"
      ]
    },
    {
      "cell_type": "markdown",
      "metadata": {
        "id": "gteRC4ayESR6"
      },
      "source": [
        "Now that we have finished loading the data we need to define some rules about the appoach we will take to clean it.\n",
        "- Safi, Start: 12-11-2020, End: 17-11-2020"
      ]
    },
    {
      "cell_type": "markdown",
      "metadata": {
        "id": "pMDnZYRXp3Uy"
      },
      "source": [
        "# 3. Data Cleaning and Testing\n",
        "---\n",
        "\n",
        "Basic data cleaning was utilised throughout our analysis which is all listed below:\n",
        "- For our dataset, 0 and missing data values were simply ignored since a lot of the time they were not used. Furthermore, by simply ignoring them, the functions we used to make calculations would automatically deal with them and not produce any errors.\n",
        "- In terms of outliers, we chose to keep them as we would be able to utilise it later in the analysis since the data was already validated and they would not have much of an impact in our analysis.\n",
        "- In regards to transforming the data, the `merge`, `rename`, `drop` functions were all utilised throughout our analysis in order to access all the data in one table as well as making variable names consistent throughout the dataset.\n",
        "- For testing we did not have any functions that we could test on.\n",
        "- This means that we do not have have any testing cells.\n",
        "- All outputs will contain the default number of **significant figures**. This is because we want to preserve the most accurate results to help form our analysis conclusions.\n",
        "\n",
        "- Yu, Start: 10-11-2020, End: 10-11-2020"
      ]
    },
    {
      "cell_type": "markdown",
      "metadata": {
        "id": "1otzJ7jLefW4"
      },
      "source": [
        "# 4. Exploration of Dataset\n",
        "---\n"
      ]
    },
    {
      "cell_type": "markdown",
      "metadata": {
        "id": "kSNC_bdEEtiQ"
      },
      "source": [
        "In this section we will outline the structure of the data and then provide an intial investigation with some data summaries. This helps us understand the data as we push to answer our driving question. \n",
        "- Safi, Start: 12-11-2020, End: 17-11-2020"
      ]
    },
    {
      "cell_type": "markdown",
      "metadata": {
        "id": "oLohUmils12o"
      },
      "source": [
        "**Structure of the data**\n",
        "\n",
        "There are different data files for each cycle. As explained above, each cycle had a different task the students were required to complete. \n",
        "\n",
        "Within each cycle there were different data files (this sometimes varied depending on the cycle):\n",
        "\n",
        ">- **Comments data:** Comment data including the author, the question it was posted on, the time it was posted, and the content of the comment\n",
        ">- **Edits data:** Data about edits to questions including the id of the old question, id of the new question, and the time the edit was made\n",
        ">- **Ratings data:** Data of ratings on questions including the question id, rater id, and the quality/difficulty score given\n",
        ">- **Tags data**: Data of the tags on questions including the tag, question id, and tag id\n",
        ">- **Courses data:** Data of each course including the course name, course id, and relevant start/due dates for the cycles\n",
        ">- **Questions data:** Data about questions posted by students\n",
        ">- **Courses data:** Data of each course including the course name, course id, and relevant start/due dates for the cycles\n",
        "\n",
        "Soon, we'll investigate some of these data files in more detail.\n",
        "\n",
        "- Lorimer, Start: 10-11-2020, End: 10-11-2020\n",
        "\n",
        "\n"
      ]
    },
    {
      "cell_type": "markdown",
      "metadata": {
        "id": "dVDpHBQiefW6"
      },
      "source": [
        "**Joining/merging the files:**\n",
        "- We will be able to merge the files together based on the unique id columns that exist throughout each of the files\n",
        "- For example it will be possible to join the user-courses data with the comments data to find out the team allocated to the author of each comment\n",
        "- Everyone, Start: 10-11-2020, End: 10-11-2020\n"
      ]
    },
    {
      "cell_type": "markdown",
      "metadata": {
        "id": "UKSL7vO2efW6"
      },
      "source": [
        "Now we'll look at briefy exploring the Questions datasets from each of the cycles:"
      ]
    },
    {
      "cell_type": "markdown",
      "metadata": {
        "id": "ZcbCSKbmefW7"
      },
      "source": [
        "**Questions data:** \n",
        "\n",
        "Data about questions posted by students"
      ]
    },
    {
      "cell_type": "code",
      "metadata": {
        "id": "sNCCL-ZXefW7",
        "colab": {
          "base_uri": "https://localhost:8080/",
          "height": 1000
        },
        "outputId": "89aa7ba1-2e55-483e-b551-ece2b26dbf83"
      },
      "source": [
        "display(c1questions.head(n=2)) # Cycle 1\n",
        "display(c2questions.head(n=2)) # Cycle 2\n",
        "display(c3questions.head(n=2)) # Cycle 3\n",
        "display(c4questions.head(n=2)) # Cycle 4\n",
        "\n",
        "# Everyone, Start: 10-11-2020, End: 10-11-2020"
      ],
      "execution_count": 4,
      "outputs": [
        {
          "output_type": "display_data",
          "data": {
            "text/html": [
              "<div>\n",
              "<style scoped>\n",
              "    .dataframe tbody tr th:only-of-type {\n",
              "        vertical-align: middle;\n",
              "    }\n",
              "\n",
              "    .dataframe tbody tr th {\n",
              "        vertical-align: top;\n",
              "    }\n",
              "\n",
              "    .dataframe thead th {\n",
              "        text-align: right;\n",
              "    }\n",
              "</style>\n",
              "<table border=\"1\" class=\"dataframe\">\n",
              "  <thead>\n",
              "    <tr style=\"text-align: right;\">\n",
              "      <th></th>\n",
              "      <th>id</th>\n",
              "      <th>course_id</th>\n",
              "      <th>timestamp</th>\n",
              "      <th>user</th>\n",
              "      <th>avg_rating</th>\n",
              "      <th>total_responses</th>\n",
              "      <th>total_ratings</th>\n",
              "      <th>top_rating_count</th>\n",
              "      <th>avg_difficulty</th>\n",
              "      <th>total_comments</th>\n",
              "      <th>deleted</th>\n",
              "      <th>answer</th>\n",
              "      <th>numAlts</th>\n",
              "      <th>question</th>\n",
              "      <th>altA</th>\n",
              "      <th>altB</th>\n",
              "      <th>altC</th>\n",
              "      <th>altD</th>\n",
              "      <th>altE</th>\n",
              "      <th>explanation</th>\n",
              "    </tr>\n",
              "  </thead>\n",
              "  <tbody>\n",
              "    <tr>\n",
              "      <th>0</th>\n",
              "      <td>4342368</td>\n",
              "      <td>20995</td>\n",
              "      <td>2020-03-04 17:52:14</td>\n",
              "      <td>217514</td>\n",
              "      <td>0.0</td>\n",
              "      <td>0</td>\n",
              "      <td>0</td>\n",
              "      <td>0</td>\n",
              "      <td>0.00</td>\n",
              "      <td>0</td>\n",
              "      <td>2</td>\n",
              "      <td>A</td>\n",
              "      <td>4</td>\n",
              "      <td>&lt;p&gt;[2a] In early 1950s high quality X-ray dif...</td>\n",
              "      <td>&lt;p&gt;Rosalind Franklin&lt;br /&gt;&lt;br /&gt;&lt;/p&gt;         ...</td>\n",
              "      <td>&lt;p&gt;Edwin Chargaff&lt;br /&gt;&lt;br /&gt;&lt;/p&gt;            ...</td>\n",
              "      <td>&lt;p&gt;Watson and Crick&lt;/p&gt;                      ...</td>\n",
              "      <td>&lt;p&gt;Frederick Meischer&lt;/p&gt;                    ...</td>\n",
              "      <td>...</td>\n",
              "      <td>&lt;p&gt;It was Franklin. &amp;nbsp;Watson and Crick ob...</td>\n",
              "    </tr>\n",
              "    <tr>\n",
              "      <th>1</th>\n",
              "      <td>4342370</td>\n",
              "      <td>20995</td>\n",
              "      <td>2020-03-04 17:52:14</td>\n",
              "      <td>217514</td>\n",
              "      <td>0.5</td>\n",
              "      <td>7</td>\n",
              "      <td>4</td>\n",
              "      <td>0</td>\n",
              "      <td>0.25</td>\n",
              "      <td>5</td>\n",
              "      <td>0</td>\n",
              "      <td>A</td>\n",
              "      <td>4</td>\n",
              "      <td>&lt;p&gt;[Table X - Topic 2a] In early 1950s high q...</td>\n",
              "      <td>&lt;p&gt;Rosalind Franklin&lt;br /&gt;&lt;br /&gt;&lt;/p&gt;         ...</td>\n",
              "      <td>&lt;p&gt;Edwin Chargaff&lt;br /&gt;&lt;br /&gt;&lt;/p&gt;            ...</td>\n",
              "      <td>&lt;p&gt;Watson and Crick&lt;/p&gt;                      ...</td>\n",
              "      <td>&lt;p&gt;Frederick Meischer&lt;/p&gt;                    ...</td>\n",
              "      <td>...</td>\n",
              "      <td>&lt;p&gt;It was Franklin. &amp;nbsp;Watson and Crick ob...</td>\n",
              "    </tr>\n",
              "  </tbody>\n",
              "</table>\n",
              "</div>"
            ],
            "text/plain": [
              "        id  ...                                        explanation\n",
              "0  4342368  ...   <p>It was Franklin. &nbsp;Watson and Crick ob...\n",
              "1  4342370  ...   <p>It was Franklin. &nbsp;Watson and Crick ob...\n",
              "\n",
              "[2 rows x 20 columns]"
            ]
          },
          "metadata": {
            "tags": []
          }
        },
        {
          "output_type": "display_data",
          "data": {
            "text/html": [
              "<div>\n",
              "<style scoped>\n",
              "    .dataframe tbody tr th:only-of-type {\n",
              "        vertical-align: middle;\n",
              "    }\n",
              "\n",
              "    .dataframe tbody tr th {\n",
              "        vertical-align: top;\n",
              "    }\n",
              "\n",
              "    .dataframe thead th {\n",
              "        text-align: right;\n",
              "    }\n",
              "</style>\n",
              "<table border=\"1\" class=\"dataframe\">\n",
              "  <thead>\n",
              "    <tr style=\"text-align: right;\">\n",
              "      <th></th>\n",
              "      <th>id</th>\n",
              "      <th>course_id</th>\n",
              "      <th>timestamp</th>\n",
              "      <th>user</th>\n",
              "      <th>avg_rating</th>\n",
              "      <th>total_responses</th>\n",
              "      <th>total_ratings</th>\n",
              "      <th>top_rating_count</th>\n",
              "      <th>avg_difficulty</th>\n",
              "      <th>total_comments</th>\n",
              "      <th>deleted</th>\n",
              "      <th>answer</th>\n",
              "      <th>question</th>\n",
              "      <th>numAlts</th>\n",
              "      <th>altA</th>\n",
              "      <th>altB</th>\n",
              "      <th>altC</th>\n",
              "      <th>altD</th>\n",
              "      <th>altE</th>\n",
              "      <th>explanation</th>\n",
              "    </tr>\n",
              "  </thead>\n",
              "  <tbody>\n",
              "    <tr>\n",
              "      <th>0</th>\n",
              "      <td>4391826</td>\n",
              "      <td>21140</td>\n",
              "      <td>2020-03-26 19:10:48</td>\n",
              "      <td>636022</td>\n",
              "      <td>3.5</td>\n",
              "      <td>5</td>\n",
              "      <td>2</td>\n",
              "      <td>0</td>\n",
              "      <td>0.5</td>\n",
              "      <td>3</td>\n",
              "      <td>0</td>\n",
              "      <td>B</td>\n",
              "      <td>&lt;p&gt;Which of the following pair includes a pha...</td>\n",
              "      <td>4</td>\n",
              "      <td>&lt;p&gt;G1 phase, DNA replication&lt;/p&gt;             ...</td>\n",
              "      <td>&lt;p&gt;G2 phase, preparation for mitosis&lt;/p&gt;     ...</td>\n",
              "      <td>&lt;p&gt;S phase, cell division&lt;/p&gt;                ...</td>\n",
              "      <td>&lt;p&gt;M phase, cell growth&lt;/p&gt;                  ...</td>\n",
              "      <td>...</td>\n",
              "      <td>&lt;p&gt;G1 phase is growth and preparation of the ...</td>\n",
              "    </tr>\n",
              "    <tr>\n",
              "      <th>1</th>\n",
              "      <td>4392006</td>\n",
              "      <td>21140</td>\n",
              "      <td>2020-03-26 20:54:26</td>\n",
              "      <td>636011</td>\n",
              "      <td>3.5</td>\n",
              "      <td>8</td>\n",
              "      <td>6</td>\n",
              "      <td>1</td>\n",
              "      <td>1.0</td>\n",
              "      <td>6</td>\n",
              "      <td>2</td>\n",
              "      <td>D</td>\n",
              "      <td>&lt;p&gt;A telomere has a repetitive nucleotide seq...</td>\n",
              "      <td>5</td>\n",
              "      <td>&lt;p&gt;4, 3, 1, 2, 5&lt;/p&gt;                         ...</td>\n",
              "      <td>&lt;p&gt;1, 2, 3, 4, 5&lt;/p&gt;                         ...</td>\n",
              "      <td>&lt;p&gt;2, 5, 4, 1, 3&lt;/p&gt;                         ...</td>\n",
              "      <td>&lt;p&gt;4, 2, 1, 3, 5&lt;/p&gt;                         ...</td>\n",
              "      <td>&lt;p&gt;2, 4, 1, 5, 3&lt;/p&gt;                         ...</td>\n",
              "      <td>&lt;p&gt;The correct answer is D with steps numbere...</td>\n",
              "    </tr>\n",
              "  </tbody>\n",
              "</table>\n",
              "</div>"
            ],
            "text/plain": [
              "        id  ...                                        explanation\n",
              "0  4391826  ...   <p>G1 phase is growth and preparation of the ...\n",
              "1  4392006  ...   <p>The correct answer is D with steps numbere...\n",
              "\n",
              "[2 rows x 20 columns]"
            ]
          },
          "metadata": {
            "tags": []
          }
        },
        {
          "output_type": "display_data",
          "data": {
            "text/html": [
              "<div>\n",
              "<style scoped>\n",
              "    .dataframe tbody tr th:only-of-type {\n",
              "        vertical-align: middle;\n",
              "    }\n",
              "\n",
              "    .dataframe tbody tr th {\n",
              "        vertical-align: top;\n",
              "    }\n",
              "\n",
              "    .dataframe thead th {\n",
              "        text-align: right;\n",
              "    }\n",
              "</style>\n",
              "<table border=\"1\" class=\"dataframe\">\n",
              "  <thead>\n",
              "    <tr style=\"text-align: right;\">\n",
              "      <th></th>\n",
              "      <th>id</th>\n",
              "      <th>course_id</th>\n",
              "      <th>timestamp</th>\n",
              "      <th>user</th>\n",
              "      <th>avg_rating</th>\n",
              "      <th>total_responses</th>\n",
              "      <th>total_ratings</th>\n",
              "      <th>top_rating_count</th>\n",
              "      <th>avg_difficulty</th>\n",
              "      <th>total_comments</th>\n",
              "      <th>deleted</th>\n",
              "      <th>answer</th>\n",
              "      <th>question</th>\n",
              "      <th>numAlts</th>\n",
              "      <th>altA</th>\n",
              "      <th>altB</th>\n",
              "      <th>altC</th>\n",
              "      <th>altD</th>\n",
              "      <th>altE</th>\n",
              "      <th>explanation</th>\n",
              "    </tr>\n",
              "  </thead>\n",
              "  <tbody>\n",
              "    <tr>\n",
              "      <th>0</th>\n",
              "      <td>4421360</td>\n",
              "      <td>21230</td>\n",
              "      <td>2020-04-07 22:29:54</td>\n",
              "      <td>217514</td>\n",
              "      <td>2.50</td>\n",
              "      <td>29</td>\n",
              "      <td>20</td>\n",
              "      <td>1</td>\n",
              "      <td>0.7500</td>\n",
              "      <td>2</td>\n",
              "      <td>0</td>\n",
              "      <td>B</td>\n",
              "      <td>The telomeric repeat sequence in green algae ...</td>\n",
              "      <td>5</td>\n",
              "      <td>&lt;p&gt;5&amp;prime; UUUUAGGGUUUU 3&amp;prime;&lt;br /&gt;&lt;br /&gt;...</td>\n",
              "      <td>&lt;p&gt;5&amp;prime; CCCUAAAACCCU 3&amp;prime;&lt;br /&gt;&lt;br /&gt;...</td>\n",
              "      <td>&lt;p&gt;5&amp;prime; CCCTAAAACCCT 3&amp;prime;&lt;br /&gt;&lt;br /&gt;...</td>\n",
              "      <td>&lt;p&gt;5&amp;prime; TTTTAGGGTTTT 3&amp;prime;&lt;br /&gt;&lt;br /&gt;...</td>\n",
              "      <td>&lt;p&gt;5&amp;prime; AGGGTTTTAGGG 3&amp;prime;&lt;/p&gt;        ...</td>\n",
              "      <td>&lt;p&gt;no explanation&lt;/p&gt;                        ...</td>\n",
              "    </tr>\n",
              "    <tr>\n",
              "      <th>1</th>\n",
              "      <td>4421361</td>\n",
              "      <td>21230</td>\n",
              "      <td>2020-04-07 22:30:18</td>\n",
              "      <td>217514</td>\n",
              "      <td>3.27</td>\n",
              "      <td>37</td>\n",
              "      <td>22</td>\n",
              "      <td>3</td>\n",
              "      <td>0.9091</td>\n",
              "      <td>1</td>\n",
              "      <td>0</td>\n",
              "      <td>D</td>\n",
              "      <td>Which of the following types of protein could...</td>\n",
              "      <td>4</td>\n",
              "      <td>&lt;p&gt;A protein which forms part of a growth fac...</td>\n",
              "      <td>&lt;p&gt;A protein which codes for a DNA repair enz...</td>\n",
              "      <td>&lt;p&gt;A protein which helps prevent apoptosis.&lt;/...</td>\n",
              "      <td>&lt;p&gt;A protein which controls progression throu...</td>\n",
              "      <td>...</td>\n",
              "      <td>&lt;p&gt;Tumour suppressor genes code for proteins ...</td>\n",
              "    </tr>\n",
              "  </tbody>\n",
              "</table>\n",
              "</div>"
            ],
            "text/plain": [
              "        id  ...                                        explanation\n",
              "0  4421360  ...   <p>no explanation</p>                        ...\n",
              "1  4421361  ...   <p>Tumour suppressor genes code for proteins ...\n",
              "\n",
              "[2 rows x 20 columns]"
            ]
          },
          "metadata": {
            "tags": []
          }
        },
        {
          "output_type": "display_data",
          "data": {
            "text/html": [
              "<div>\n",
              "<style scoped>\n",
              "    .dataframe tbody tr th:only-of-type {\n",
              "        vertical-align: middle;\n",
              "    }\n",
              "\n",
              "    .dataframe tbody tr th {\n",
              "        vertical-align: top;\n",
              "    }\n",
              "\n",
              "    .dataframe thead th {\n",
              "        text-align: right;\n",
              "    }\n",
              "</style>\n",
              "<table border=\"1\" class=\"dataframe\">\n",
              "  <thead>\n",
              "    <tr style=\"text-align: right;\">\n",
              "      <th></th>\n",
              "      <th>id</th>\n",
              "      <th>course_id</th>\n",
              "      <th>timestamp</th>\n",
              "      <th>user</th>\n",
              "      <th>avg_rating</th>\n",
              "      <th>total_responses</th>\n",
              "      <th>total_ratings</th>\n",
              "      <th>top_rating_count</th>\n",
              "      <th>avg_difficulty</th>\n",
              "      <th>total_comments</th>\n",
              "      <th>deleted</th>\n",
              "      <th>answer</th>\n",
              "      <th>question</th>\n",
              "      <th>numAlts</th>\n",
              "      <th>altA</th>\n",
              "      <th>altB</th>\n",
              "      <th>altC</th>\n",
              "      <th>altD</th>\n",
              "      <th>altE</th>\n",
              "      <th>explanation</th>\n",
              "      <th>AcademicMark</th>\n",
              "    </tr>\n",
              "  </thead>\n",
              "  <tbody>\n",
              "    <tr>\n",
              "      <th>0</th>\n",
              "      <td>4464532</td>\n",
              "      <td>21320</td>\n",
              "      <td>2020-04-27 18:51:25</td>\n",
              "      <td>635990</td>\n",
              "      <td>3.78</td>\n",
              "      <td>10</td>\n",
              "      <td>9</td>\n",
              "      <td>2</td>\n",
              "      <td>1.2222</td>\n",
              "      <td>8</td>\n",
              "      <td>2</td>\n",
              "      <td>D</td>\n",
              "      <td>Operons are a series of related genes that are...</td>\n",
              "      <td>4</td>\n",
              "      <td>A</td>\n",
              "      <td>B</td>\n",
              "      <td>C</td>\n",
              "      <td>D</td>\n",
              "      <td>NaN</td>\n",
              "      <td>&lt;p&gt;Because the bacteria only wants to make th...</td>\n",
              "      <td>NaN</td>\n",
              "    </tr>\n",
              "    <tr>\n",
              "      <th>1</th>\n",
              "      <td>4464967</td>\n",
              "      <td>21320</td>\n",
              "      <td>2020-04-27 22:56:37</td>\n",
              "      <td>636029</td>\n",
              "      <td>3.25</td>\n",
              "      <td>7</td>\n",
              "      <td>4</td>\n",
              "      <td>1</td>\n",
              "      <td>0.7500</td>\n",
              "      <td>5</td>\n",
              "      <td>2</td>\n",
              "      <td>D</td>\n",
              "      <td>The sigma (&amp;sigma;) subunit is required for th...</td>\n",
              "      <td>5</td>\n",
              "      <td>The &amp;sigma; subunit decreases the general;affi...</td>\n",
              "      <td>The &amp;sigma; subunit recognizes the promoter se...</td>\n",
              "      <td>The &amp;sigma; subunit can be reused again and ag...</td>\n",
              "      <td>The &amp;sigma; subunit clings onto the core polym...</td>\n",
              "      <td>Binding of the sigma subunit is an important s...</td>\n",
              "      <td>&lt;p&gt;The sigma subunit can direct the tight bin...</td>\n",
              "      <td>NaN</td>\n",
              "    </tr>\n",
              "  </tbody>\n",
              "</table>\n",
              "</div>"
            ],
            "text/plain": [
              "        id  ...  AcademicMark\n",
              "0  4464532  ...           NaN\n",
              "1  4464967  ...           NaN\n",
              "\n",
              "[2 rows x 21 columns]"
            ]
          },
          "metadata": {
            "tags": []
          }
        }
      ]
    },
    {
      "cell_type": "markdown",
      "metadata": {
        "id": "bJ0RzQpuefW_"
      },
      "source": [
        "Here we observe some key variables that may serve as potential to answer our driving question. These variables include:\n",
        "-  `avg_rating`\n",
        "- `timestamp`\n",
        "- `total_responses`\n",
        "- `total_rating_count`\n",
        "- `total_comments`\n",
        "- `Academic mark `\n",
        "\n",
        "- Everyone, Start: 10-11-2020, End: 10-11-2020\n"
      ]
    },
    {
      "cell_type": "markdown",
      "metadata": {
        "id": "YxcMu3M0efXA"
      },
      "source": [
        "Now let's look at the User-Courses data file.\n",
        "\n",
        "**User-Courses data:** \n",
        "\n",
        "The User-Courses data provides us with information about which course each student is studying. For cycle 4, it also contains information on which team a student belongs to. \n",
        "\n",
        "Below we will observe the the data types, change them accordingly and apply them to further EDA.\n",
        "\n",
        "- Everyone, Start: 10-11-2020, End: 10-11-2020\n"
      ]
    },
    {
      "cell_type": "code",
      "metadata": {
        "id": "lpMOOkhPefXA",
        "colab": {
          "base_uri": "https://localhost:8080/"
        },
        "outputId": "54868355-ad23-477e-91a7-3df3f57b99b3"
      },
      "source": [
        "c4usercourses_new = c4usercourses\n",
        "# Data types\n",
        "c4usercourses_new.dtypes\n",
        "# Update the data types\n",
        "c4usercourses_new.user = c4usercourses_new.user.astype(str)\n",
        "c4usercourses_new.course_id = c4usercourses_new.course_id.astype(str)\n",
        "c4usercourses_new.dtypes\n",
        "\n",
        "# Everyone, Start: 10-11-2020, End: 10-11-2020\n"
      ],
      "execution_count": 5,
      "outputs": [
        {
          "output_type": "execute_result",
          "data": {
            "text/plain": [
              "user         object\n",
              "course_id    object\n",
              "Team         object\n",
              "dtype: object"
            ]
          },
          "metadata": {
            "tags": []
          },
          "execution_count": 5
        }
      ]
    },
    {
      "cell_type": "markdown",
      "metadata": {
        "id": "e2niz27gefXD"
      },
      "source": [
        "Now that we we understand the general structure of our data, we are able to fix some data types within our columns so that we can briefly explore the data with some numerical summaries and data visualisations.\n",
        "\n",
        "**Numerical summaries**\n",
        "\n",
        "After updating data types in our columns, we can effectively use `data.describe()` to learn more about the questions data and its numerical values.\n",
        "\n",
        "*Please note, that in our intermediary analysis, these steps were applied to all data sets.*\n",
        "\n",
        "- Everyone, Start: 10-11-2020, End: 10-11-2020"
      ]
    },
    {
      "cell_type": "code",
      "metadata": {
        "id": "685lnEElefXE",
        "colab": {
          "base_uri": "https://localhost:8080/",
          "height": 702
        },
        "outputId": "59e33228-4838-4127-d305-7c05e2344bff"
      },
      "source": [
        "c4questions_new = c4questions.copy()\n",
        "# Check data types and update them\n",
        "c4questions_new.dtypes\n",
        "c4questions_new.id = c4questions_new.id.astype(str)\n",
        "c4questions_new.course_id = c4questions_new.course_id.astype(str)\n",
        "c4questions_new.user = c4questions_new.user.astype(str)\n",
        "display(c4questions_new.dtypes)\n",
        "display(c4questions_new.describe())\n",
        "\n",
        "# Everyone, Start: 10-11-2020, End: 10-11-2020"
      ],
      "execution_count": 6,
      "outputs": [
        {
          "output_type": "display_data",
          "data": {
            "text/plain": [
              "id                   object\n",
              "course_id            object\n",
              "timestamp            object\n",
              "user                 object\n",
              "avg_rating          float64\n",
              "total_responses       int64\n",
              "total_ratings         int64\n",
              "top_rating_count      int64\n",
              "avg_difficulty      float64\n",
              "total_comments        int64\n",
              "deleted               int64\n",
              "answer               object\n",
              "question             object\n",
              "numAlts               int64\n",
              "altA                 object\n",
              "altB                 object\n",
              "altC                 object\n",
              "altD                 object\n",
              "altE                 object\n",
              "explanation          object\n",
              "AcademicMark        float64\n",
              "dtype: object"
            ]
          },
          "metadata": {
            "tags": []
          }
        },
        {
          "output_type": "display_data",
          "data": {
            "text/html": [
              "<div>\n",
              "<style scoped>\n",
              "    .dataframe tbody tr th:only-of-type {\n",
              "        vertical-align: middle;\n",
              "    }\n",
              "\n",
              "    .dataframe tbody tr th {\n",
              "        vertical-align: top;\n",
              "    }\n",
              "\n",
              "    .dataframe thead th {\n",
              "        text-align: right;\n",
              "    }\n",
              "</style>\n",
              "<table border=\"1\" class=\"dataframe\">\n",
              "  <thead>\n",
              "    <tr style=\"text-align: right;\">\n",
              "      <th></th>\n",
              "      <th>avg_rating</th>\n",
              "      <th>total_responses</th>\n",
              "      <th>total_ratings</th>\n",
              "      <th>top_rating_count</th>\n",
              "      <th>avg_difficulty</th>\n",
              "      <th>total_comments</th>\n",
              "      <th>deleted</th>\n",
              "      <th>numAlts</th>\n",
              "      <th>AcademicMark</th>\n",
              "    </tr>\n",
              "  </thead>\n",
              "  <tbody>\n",
              "    <tr>\n",
              "      <th>count</th>\n",
              "      <td>536.000000</td>\n",
              "      <td>536.000000</td>\n",
              "      <td>536.000000</td>\n",
              "      <td>536.000000</td>\n",
              "      <td>536.000000</td>\n",
              "      <td>536.000000</td>\n",
              "      <td>536.000000</td>\n",
              "      <td>536.000000</td>\n",
              "      <td>292.000000</td>\n",
              "    </tr>\n",
              "    <tr>\n",
              "      <th>mean</th>\n",
              "      <td>3.015560</td>\n",
              "      <td>5.272388</td>\n",
              "      <td>4.166045</td>\n",
              "      <td>0.248134</td>\n",
              "      <td>0.563089</td>\n",
              "      <td>4.322761</td>\n",
              "      <td>0.889925</td>\n",
              "      <td>4.455224</td>\n",
              "      <td>3.763699</td>\n",
              "    </tr>\n",
              "    <tr>\n",
              "      <th>std</th>\n",
              "      <td>1.122415</td>\n",
              "      <td>3.881476</td>\n",
              "      <td>3.216262</td>\n",
              "      <td>0.570290</td>\n",
              "      <td>0.513441</td>\n",
              "      <td>3.706312</td>\n",
              "      <td>0.986361</td>\n",
              "      <td>0.509582</td>\n",
              "      <td>0.800977</td>\n",
              "    </tr>\n",
              "    <tr>\n",
              "      <th>min</th>\n",
              "      <td>0.000000</td>\n",
              "      <td>0.000000</td>\n",
              "      <td>0.000000</td>\n",
              "      <td>0.000000</td>\n",
              "      <td>0.000000</td>\n",
              "      <td>0.000000</td>\n",
              "      <td>0.000000</td>\n",
              "      <td>3.000000</td>\n",
              "      <td>0.000000</td>\n",
              "    </tr>\n",
              "    <tr>\n",
              "      <th>25%</th>\n",
              "      <td>2.570000</td>\n",
              "      <td>1.000000</td>\n",
              "      <td>1.000000</td>\n",
              "      <td>0.000000</td>\n",
              "      <td>0.000000</td>\n",
              "      <td>1.000000</td>\n",
              "      <td>0.000000</td>\n",
              "      <td>4.000000</td>\n",
              "      <td>3.000000</td>\n",
              "    </tr>\n",
              "    <tr>\n",
              "      <th>50%</th>\n",
              "      <td>3.000000</td>\n",
              "      <td>5.000000</td>\n",
              "      <td>3.000000</td>\n",
              "      <td>0.000000</td>\n",
              "      <td>0.500000</td>\n",
              "      <td>3.000000</td>\n",
              "      <td>0.000000</td>\n",
              "      <td>4.000000</td>\n",
              "      <td>4.000000</td>\n",
              "    </tr>\n",
              "    <tr>\n",
              "      <th>75%</th>\n",
              "      <td>3.750000</td>\n",
              "      <td>9.000000</td>\n",
              "      <td>7.000000</td>\n",
              "      <td>0.000000</td>\n",
              "      <td>1.000000</td>\n",
              "      <td>8.000000</td>\n",
              "      <td>2.000000</td>\n",
              "      <td>5.000000</td>\n",
              "      <td>4.000000</td>\n",
              "    </tr>\n",
              "    <tr>\n",
              "      <th>max</th>\n",
              "      <td>5.000000</td>\n",
              "      <td>14.000000</td>\n",
              "      <td>12.000000</td>\n",
              "      <td>5.000000</td>\n",
              "      <td>2.000000</td>\n",
              "      <td>18.000000</td>\n",
              "      <td>2.000000</td>\n",
              "      <td>5.000000</td>\n",
              "      <td>5.000000</td>\n",
              "    </tr>\n",
              "  </tbody>\n",
              "</table>\n",
              "</div>"
            ],
            "text/plain": [
              "       avg_rating  total_responses  ...     numAlts  AcademicMark\n",
              "count  536.000000       536.000000  ...  536.000000    292.000000\n",
              "mean     3.015560         5.272388  ...    4.455224      3.763699\n",
              "std      1.122415         3.881476  ...    0.509582      0.800977\n",
              "min      0.000000         0.000000  ...    3.000000      0.000000\n",
              "25%      2.570000         1.000000  ...    4.000000      3.000000\n",
              "50%      3.000000         5.000000  ...    4.000000      4.000000\n",
              "75%      3.750000         9.000000  ...    5.000000      4.000000\n",
              "max      5.000000        14.000000  ...    5.000000      5.000000\n",
              "\n",
              "[8 rows x 9 columns]"
            ]
          },
          "metadata": {
            "tags": []
          }
        }
      ]
    },
    {
      "cell_type": "markdown",
      "metadata": {
        "id": "pvoZhbFuefXI"
      },
      "source": [
        "From the output above we can see that:\n",
        "- There are 536 questions in cycle 4. Of these, only 296 of them received an academic mark.\n",
        "- The mean rating of questions in cycle 4 was 3.02 (2dp)\n",
        "- The mean academic mark of questions in cycle 4 was 3.76 (2dp)\n",
        "- Additional summary statistics can be read from the table above\n",
        "\n",
        "- Everyone, Start: 10-11-2020, End: 10-11-2020"
      ]
    },
    {
      "cell_type": "markdown",
      "metadata": {
        "id": "pYhgSaPVefXJ"
      },
      "source": [
        "**Data Visualisations:**\n",
        "\n",
        "Distribution of students in Cycle 4 groups:"
      ]
    },
    {
      "cell_type": "markdown",
      "metadata": {
        "id": "-oyUfcu7efXJ"
      },
      "source": [
        "In order to visualise our data nicely we need to select the relevant columns and join some data sources together using the methods outlined in an earlier section. See the cell below for the joining and column selection for our exploratory data visualisations.\n",
        "\n",
        "- Everyone, Start: 10-11-2020, End: 10-11-2020"
      ]
    },
    {
      "cell_type": "code",
      "metadata": {
        "id": "Yn4N3WoDefXK",
        "colab": {
          "base_uri": "https://localhost:8080/",
          "height": 200
        },
        "outputId": "d25836c2-c916-427b-d024-655bc582a77a"
      },
      "source": [
        "# Selecting wanted variables for exploratory analysis\n",
        "# Joining user-courses and questions together\n",
        "users_qs = c4questions_new[['course_id', 'id', 'user', 'avg_rating', 'total_responses', 'total_comments']].merge(c4usercourses_new, how=\"inner\", on=\"user\")\n",
        "users_qs.head()\n",
        "\n",
        "# Everyone, Start: 10-11-2020, End: 10-11-2020"
      ],
      "execution_count": 7,
      "outputs": [
        {
          "output_type": "execute_result",
          "data": {
            "text/html": [
              "<div>\n",
              "<style scoped>\n",
              "    .dataframe tbody tr th:only-of-type {\n",
              "        vertical-align: middle;\n",
              "    }\n",
              "\n",
              "    .dataframe tbody tr th {\n",
              "        vertical-align: top;\n",
              "    }\n",
              "\n",
              "    .dataframe thead th {\n",
              "        text-align: right;\n",
              "    }\n",
              "</style>\n",
              "<table border=\"1\" class=\"dataframe\">\n",
              "  <thead>\n",
              "    <tr style=\"text-align: right;\">\n",
              "      <th></th>\n",
              "      <th>course_id_x</th>\n",
              "      <th>id</th>\n",
              "      <th>user</th>\n",
              "      <th>avg_rating</th>\n",
              "      <th>total_responses</th>\n",
              "      <th>total_comments</th>\n",
              "      <th>course_id_y</th>\n",
              "      <th>Team</th>\n",
              "    </tr>\n",
              "  </thead>\n",
              "  <tbody>\n",
              "    <tr>\n",
              "      <th>0</th>\n",
              "      <td>21320</td>\n",
              "      <td>4464532</td>\n",
              "      <td>635990</td>\n",
              "      <td>3.78</td>\n",
              "      <td>10</td>\n",
              "      <td>8</td>\n",
              "      <td>21320</td>\n",
              "      <td>Brown</td>\n",
              "    </tr>\n",
              "    <tr>\n",
              "      <th>1</th>\n",
              "      <td>21320</td>\n",
              "      <td>4483763</td>\n",
              "      <td>635990</td>\n",
              "      <td>3.75</td>\n",
              "      <td>4</td>\n",
              "      <td>2</td>\n",
              "      <td>21320</td>\n",
              "      <td>Brown</td>\n",
              "    </tr>\n",
              "    <tr>\n",
              "      <th>2</th>\n",
              "      <td>21320</td>\n",
              "      <td>4464967</td>\n",
              "      <td>636029</td>\n",
              "      <td>3.25</td>\n",
              "      <td>7</td>\n",
              "      <td>5</td>\n",
              "      <td>21320</td>\n",
              "      <td>Pink</td>\n",
              "    </tr>\n",
              "    <tr>\n",
              "      <th>3</th>\n",
              "      <td>21320</td>\n",
              "      <td>4480828</td>\n",
              "      <td>636029</td>\n",
              "      <td>0.00</td>\n",
              "      <td>0</td>\n",
              "      <td>0</td>\n",
              "      <td>21320</td>\n",
              "      <td>Pink</td>\n",
              "    </tr>\n",
              "    <tr>\n",
              "      <th>4</th>\n",
              "      <td>21320</td>\n",
              "      <td>4480830</td>\n",
              "      <td>636029</td>\n",
              "      <td>3.40</td>\n",
              "      <td>9</td>\n",
              "      <td>3</td>\n",
              "      <td>21320</td>\n",
              "      <td>Pink</td>\n",
              "    </tr>\n",
              "  </tbody>\n",
              "</table>\n",
              "</div>"
            ],
            "text/plain": [
              "  course_id_x       id    user  ...  total_comments  course_id_y   Team\n",
              "0       21320  4464532  635990  ...               8        21320  Brown\n",
              "1       21320  4483763  635990  ...               2        21320  Brown\n",
              "2       21320  4464967  636029  ...               5        21320   Pink\n",
              "3       21320  4480828  636029  ...               0        21320   Pink\n",
              "4       21320  4480830  636029  ...               3        21320   Pink\n",
              "\n",
              "[5 rows x 8 columns]"
            ]
          },
          "metadata": {
            "tags": []
          },
          "execution_count": 7
        }
      ]
    },
    {
      "cell_type": "markdown",
      "metadata": {
        "id": "PIW8iN8iefXN"
      },
      "source": [
        "Now that we have the dataframes joined and have selected the columns we want for the questiosn data. We will do the same for the comments data so we can investigate the number and distribution of comments.\n",
        "\n",
        "- Everyone, Start: 10-11-2020, End: 10-11-2020\n"
      ]
    },
    {
      "cell_type": "code",
      "metadata": {
        "id": "6UoAUyqNefXN",
        "colab": {
          "base_uri": "https://localhost:8080/",
          "height": 139
        },
        "outputId": "f040e47a-675b-4e94-b30c-1e2866b55c94"
      },
      "source": [
        "# Grouping total comments and responses by assigned groups\n",
        "resp_comments = users_qs[['id', 'user', 'total_responses', 'total_comments', 'Team']]\n",
        "resp_comments.head(n=3)\n",
        "# Everyone, Start: 10-11-2020, End: 10-11-2020\n"
      ],
      "execution_count": 8,
      "outputs": [
        {
          "output_type": "execute_result",
          "data": {
            "text/html": [
              "<div>\n",
              "<style scoped>\n",
              "    .dataframe tbody tr th:only-of-type {\n",
              "        vertical-align: middle;\n",
              "    }\n",
              "\n",
              "    .dataframe tbody tr th {\n",
              "        vertical-align: top;\n",
              "    }\n",
              "\n",
              "    .dataframe thead th {\n",
              "        text-align: right;\n",
              "    }\n",
              "</style>\n",
              "<table border=\"1\" class=\"dataframe\">\n",
              "  <thead>\n",
              "    <tr style=\"text-align: right;\">\n",
              "      <th></th>\n",
              "      <th>id</th>\n",
              "      <th>user</th>\n",
              "      <th>total_responses</th>\n",
              "      <th>total_comments</th>\n",
              "      <th>Team</th>\n",
              "    </tr>\n",
              "  </thead>\n",
              "  <tbody>\n",
              "    <tr>\n",
              "      <th>0</th>\n",
              "      <td>4464532</td>\n",
              "      <td>635990</td>\n",
              "      <td>10</td>\n",
              "      <td>8</td>\n",
              "      <td>Brown</td>\n",
              "    </tr>\n",
              "    <tr>\n",
              "      <th>1</th>\n",
              "      <td>4483763</td>\n",
              "      <td>635990</td>\n",
              "      <td>4</td>\n",
              "      <td>2</td>\n",
              "      <td>Brown</td>\n",
              "    </tr>\n",
              "    <tr>\n",
              "      <th>2</th>\n",
              "      <td>4464967</td>\n",
              "      <td>636029</td>\n",
              "      <td>7</td>\n",
              "      <td>5</td>\n",
              "      <td>Pink</td>\n",
              "    </tr>\n",
              "  </tbody>\n",
              "</table>\n",
              "</div>"
            ],
            "text/plain": [
              "        id    user  total_responses  total_comments   Team\n",
              "0  4464532  635990               10               8  Brown\n",
              "1  4483763  635990                4               2  Brown\n",
              "2  4464967  636029                7               5   Pink"
            ]
          },
          "metadata": {
            "tags": []
          },
          "execution_count": 8
        }
      ]
    },
    {
      "cell_type": "markdown",
      "metadata": {
        "id": "UeUGsth_efXQ"
      },
      "source": [
        "As we have joined and select columns from the necessary data. We are now able to group this dataframe by the team name so we can count the number of users in each team.\n",
        "\n",
        "- Everyone, Start: 10-11-2020, End: 10-11-2020"
      ]
    },
    {
      "cell_type": "code",
      "metadata": {
        "id": "FrY61s6befXQ",
        "colab": {
          "base_uri": "https://localhost:8080/",
          "height": 321
        },
        "outputId": "284c6994-4565-43c4-f970-830a439f5434"
      },
      "source": [
        "# Count the number of students in each group\n",
        "group_no = resp_comments.groupby('Team', as_index=False)['user'].nunique()\n",
        "group_no.sort_values(by='user', ascending=False)\n",
        "\n",
        "# Everyone, Start: 10-11-2020, End: 10-11-2020\n"
      ],
      "execution_count": 9,
      "outputs": [
        {
          "output_type": "execute_result",
          "data": {
            "text/html": [
              "<div>\n",
              "<style scoped>\n",
              "    .dataframe tbody tr th:only-of-type {\n",
              "        vertical-align: middle;\n",
              "    }\n",
              "\n",
              "    .dataframe tbody tr th {\n",
              "        vertical-align: top;\n",
              "    }\n",
              "\n",
              "    .dataframe thead th {\n",
              "        text-align: right;\n",
              "    }\n",
              "</style>\n",
              "<table border=\"1\" class=\"dataframe\">\n",
              "  <thead>\n",
              "    <tr style=\"text-align: right;\">\n",
              "      <th></th>\n",
              "      <th>Team</th>\n",
              "      <th>user</th>\n",
              "    </tr>\n",
              "  </thead>\n",
              "  <tbody>\n",
              "    <tr>\n",
              "      <th>3</th>\n",
              "      <td>Green</td>\n",
              "      <td>37</td>\n",
              "    </tr>\n",
              "    <tr>\n",
              "      <th>4</th>\n",
              "      <td>Pink</td>\n",
              "      <td>37</td>\n",
              "    </tr>\n",
              "    <tr>\n",
              "      <th>6</th>\n",
              "      <td>Red</td>\n",
              "      <td>37</td>\n",
              "    </tr>\n",
              "    <tr>\n",
              "      <th>2</th>\n",
              "      <td>Brown</td>\n",
              "      <td>36</td>\n",
              "    </tr>\n",
              "    <tr>\n",
              "      <th>0</th>\n",
              "      <td>Black</td>\n",
              "      <td>35</td>\n",
              "    </tr>\n",
              "    <tr>\n",
              "      <th>1</th>\n",
              "      <td>Blue</td>\n",
              "      <td>33</td>\n",
              "    </tr>\n",
              "    <tr>\n",
              "      <th>8</th>\n",
              "      <td>Yellow</td>\n",
              "      <td>31</td>\n",
              "    </tr>\n",
              "    <tr>\n",
              "      <th>7</th>\n",
              "      <td>White</td>\n",
              "      <td>23</td>\n",
              "    </tr>\n",
              "    <tr>\n",
              "      <th>5</th>\n",
              "      <td>Purple</td>\n",
              "      <td>15</td>\n",
              "    </tr>\n",
              "  </tbody>\n",
              "</table>\n",
              "</div>"
            ],
            "text/plain": [
              "     Team  user\n",
              "3   Green    37\n",
              "4    Pink    37\n",
              "6     Red    37\n",
              "2   Brown    36\n",
              "0   Black    35\n",
              "1    Blue    33\n",
              "8  Yellow    31\n",
              "7   White    23\n",
              "5  Purple    15"
            ]
          },
          "metadata": {
            "tags": []
          },
          "execution_count": 9
        }
      ]
    },
    {
      "cell_type": "markdown",
      "metadata": {
        "id": "ttwLgrlBGZuU"
      },
      "source": [
        "This can be visualised in a bar graph below where we can view the group differences.\n",
        "- Safi, Start: 12-11-2020, End: 17-11-2020"
      ]
    },
    {
      "cell_type": "code",
      "metadata": {
        "id": "wnp7u_jSefXT",
        "colab": {
          "base_uri": "https://localhost:8080/",
          "height": 377
        },
        "outputId": "5cfa562a-6f1f-4505-9109-1d3a1af79d66"
      },
      "source": [
        "# Distribution of students in each group\n",
        "plt.figure(figsize=(10,5))\n",
        "sns.set_theme(style=\"whitegrid\")\n",
        "chart = sns.barplot(x=\"Team\", y =\"user\", data=group_no.sort_values(by='user', ascending=False), color = \"salmon\")\n",
        "chart.set_xticklabels(chart.get_xticklabels(), rotation=45, horizontalalignment='right')\n",
        "plt.title(\"Number of students in each team\")\n",
        "plt.show()\n",
        "\n",
        "# Everyone, Start: 10-11-2020, End: 10-11-2020\n"
      ],
      "execution_count": 10,
      "outputs": [
        {
          "output_type": "display_data",
          "data": {
            "image/png": "[encoded data removed]",
            "text/plain": [
              "<Figure size 720x360 with 1 Axes>"
            ]
          },
          "metadata": {
            "tags": [],
            "needs_background": "light"
          }
        }
      ]
    },
    {
      "cell_type": "markdown",
      "metadata": {
        "id": "JGii70DaefXW"
      },
      "source": [
        "Above from the output table and bar graph, we can see that green, pink, and red teams had the most members (with 37). Purple team on the other hand was drastically smaller than the other teams, with only 14 members.\n",
        "\n",
        "- Everyone, Start: 10-11-2020, End: 10-11-2020"
      ]
    },
    {
      "cell_type": "markdown",
      "metadata": {
        "id": "RC2skRQJefXX"
      },
      "source": [
        "We concluded that using the mean was redundant and uninformative. Below we will use the median as a more robust measure to investigate the median number of authored questions and comments in cycle 4.\n",
        "\n",
        "- Everyone, Start: 10-11-2020, End: 10-11-2020"
      ]
    },
    {
      "cell_type": "markdown",
      "metadata": {
        "id": "gIsza3lnefXX"
      },
      "source": [
        "**Median number of questions/comments:**\n",
        "\n",
        "Below are cells to calculate the median number of resposnes/comments within each of the teams. This will help us understand if the teams are of similar academic ability. The summaries will be output in a tablue (dataframe) format, as well as with two seperate bar plots.\n",
        "\n",
        "- Everyone, Start: 10-11-2020, End: 10-11-2020"
      ]
    },
    {
      "cell_type": "code",
      "metadata": {
        "id": "rzUaL7azefXY",
        "colab": {
          "base_uri": "https://localhost:8080/",
          "height": 321
        },
        "outputId": "c73c8f64-efa2-40f3-b1c1-d843a83f74f5"
      },
      "source": [
        "median_resp_comments = resp_comments.groupby('Team', as_index=False).median()\n",
        "group_no['total_responses'] = median_resp_comments['total_responses']\n",
        "group_no['total_comments'] = median_resp_comments['total_comments']\n",
        "display(group_no)\n",
        "\n",
        "# Everyone, Start: 10-11-2020, End: 10-11-2020\n"
      ],
      "execution_count": 11,
      "outputs": [
        {
          "output_type": "display_data",
          "data": {
            "text/html": [
              "<div>\n",
              "<style scoped>\n",
              "    .dataframe tbody tr th:only-of-type {\n",
              "        vertical-align: middle;\n",
              "    }\n",
              "\n",
              "    .dataframe tbody tr th {\n",
              "        vertical-align: top;\n",
              "    }\n",
              "\n",
              "    .dataframe thead th {\n",
              "        text-align: right;\n",
              "    }\n",
              "</style>\n",
              "<table border=\"1\" class=\"dataframe\">\n",
              "  <thead>\n",
              "    <tr style=\"text-align: right;\">\n",
              "      <th></th>\n",
              "      <th>Team</th>\n",
              "      <th>user</th>\n",
              "      <th>total_responses</th>\n",
              "      <th>total_comments</th>\n",
              "    </tr>\n",
              "  </thead>\n",
              "  <tbody>\n",
              "    <tr>\n",
              "      <th>0</th>\n",
              "      <td>Black</td>\n",
              "      <td>35</td>\n",
              "      <td>5.5</td>\n",
              "      <td>4.5</td>\n",
              "    </tr>\n",
              "    <tr>\n",
              "      <th>1</th>\n",
              "      <td>Blue</td>\n",
              "      <td>33</td>\n",
              "      <td>3.0</td>\n",
              "      <td>3.0</td>\n",
              "    </tr>\n",
              "    <tr>\n",
              "      <th>2</th>\n",
              "      <td>Brown</td>\n",
              "      <td>36</td>\n",
              "      <td>4.0</td>\n",
              "      <td>3.0</td>\n",
              "    </tr>\n",
              "    <tr>\n",
              "      <th>3</th>\n",
              "      <td>Green</td>\n",
              "      <td>37</td>\n",
              "      <td>7.0</td>\n",
              "      <td>4.0</td>\n",
              "    </tr>\n",
              "    <tr>\n",
              "      <th>4</th>\n",
              "      <td>Pink</td>\n",
              "      <td>37</td>\n",
              "      <td>5.0</td>\n",
              "      <td>3.0</td>\n",
              "    </tr>\n",
              "    <tr>\n",
              "      <th>5</th>\n",
              "      <td>Purple</td>\n",
              "      <td>15</td>\n",
              "      <td>3.0</td>\n",
              "      <td>2.0</td>\n",
              "    </tr>\n",
              "    <tr>\n",
              "      <th>6</th>\n",
              "      <td>Red</td>\n",
              "      <td>37</td>\n",
              "      <td>7.0</td>\n",
              "      <td>6.0</td>\n",
              "    </tr>\n",
              "    <tr>\n",
              "      <th>7</th>\n",
              "      <td>White</td>\n",
              "      <td>23</td>\n",
              "      <td>3.0</td>\n",
              "      <td>2.0</td>\n",
              "    </tr>\n",
              "    <tr>\n",
              "      <th>8</th>\n",
              "      <td>Yellow</td>\n",
              "      <td>31</td>\n",
              "      <td>4.0</td>\n",
              "      <td>3.0</td>\n",
              "    </tr>\n",
              "  </tbody>\n",
              "</table>\n",
              "</div>"
            ],
            "text/plain": [
              "     Team  user  total_responses  total_comments\n",
              "0   Black    35              5.5             4.5\n",
              "1    Blue    33              3.0             3.0\n",
              "2   Brown    36              4.0             3.0\n",
              "3   Green    37              7.0             4.0\n",
              "4    Pink    37              5.0             3.0\n",
              "5  Purple    15              3.0             2.0\n",
              "6     Red    37              7.0             6.0\n",
              "7   White    23              3.0             2.0\n",
              "8  Yellow    31              4.0             3.0"
            ]
          },
          "metadata": {
            "tags": []
          }
        }
      ]
    },
    {
      "cell_type": "code",
      "metadata": {
        "id": "iFvNXAaTefXa",
        "colab": {
          "base_uri": "https://localhost:8080/",
          "height": 377
        },
        "outputId": "40818a4a-bc2d-43f9-d6aa-2ef3036142a1"
      },
      "source": [
        "plt.figure(figsize=(10,5))\n",
        "sns.set_theme(style=\"whitegrid\")\n",
        "chart = sns.barplot(x=\"Team\", y= \"total_responses\", data=group_no.sort_values(by='total_responses', ascending=False), color = \"salmon\")\n",
        "chart.set_xticklabels(chart.get_xticklabels(), rotation=45, horizontalalignment='right')\n",
        "plt.title(\"Median number of authored questions within each Team\")\n",
        "plt.show()\n",
        "\n",
        "# Everyone, Start: 10-11-2020, End: 10-11-2020"
      ],
      "execution_count": 12,
      "outputs": [
        {
          "output_type": "display_data",
          "data": {
            "image/png": "[encoded data removed]",
            "text/plain": [
              "<Figure size 720x360 with 1 Axes>"
            ]
          },
          "metadata": {
            "tags": []
          }
        }
      ]
    },
    {
      "cell_type": "code",
      "metadata": {
        "id": "xhv7awmfefXd",
        "colab": {
          "base_uri": "https://localhost:8080/",
          "height": 377
        },
        "outputId": "aecc2f5d-15ee-4177-debb-09450bbfec0a"
      },
      "source": [
        "plt.figure(figsize=(10,5))\n",
        "sns.set_theme(style=\"whitegrid\")\n",
        "chart = sns.barplot(x=\"Team\", y= \"total_comments\", data=group_no.sort_values(by='total_comments', ascending=False), color = \"salmon\")\n",
        "chart.set_xticklabels(chart.get_xticklabels(), rotation =45, horizontalalignment='right')\n",
        "plt.title(\"Median number of comments within each Team\")\n",
        "plt.show()\n",
        "\n",
        "# Everyone, Start: 10-11-2020, End: 10-11-2020\n"
      ],
      "execution_count": 13,
      "outputs": [
        {
          "output_type": "display_data",
          "data": {
            "image/png": "[encoded data removed]",
            "text/plain": [
              "<Figure size 720x360 with 1 Axes>"
            ]
          },
          "metadata": {
            "tags": []
          }
        }
      ]
    },
    {
      "cell_type": "markdown",
      "metadata": {
        "id": "yFpNUoKkefXg"
      },
      "source": [
        "**Key Observations:**\n",
        "\n",
        "From the above two plots that depict the total comments and responses to each question authored, we observe noticeable variation between each of the group.\n",
        "\n",
        "\n",
        "The Red team is the most active in commenting and responding.\n",
        "The Purple team is in both cases is the least active in commenting and responding. \n",
        "One possible reason for this discrepancy between teams, is the actual group size or it may be due to the actual levels of understanding of each of these students for a given topic.\n",
        "\n",
        "- Everyone, Start: 10-11-2020, End: 10-11-2020"
      ]
    },
    {
      "cell_type": "markdown",
      "metadata": {
        "id": "UVLX_oOGrWeH"
      },
      "source": [
        "**Uncertainty**\n",
        "\n",
        "In terms of uncertainty, there were a few areas where we were not too sure about how the context:\n",
        "- Firstly, for cycle 4 the students were grouped together into non-random groups however, we were not sure how these groups were chosen\n",
        "\n",
        "- Everyone, Start: 10-11-2020, End: 10-11-2020\n"
      ]
    },
    {
      "cell_type": "markdown",
      "metadata": {
        "id": "RpCGAvJcefXg"
      },
      "source": [
        "# 5. Data Analysis\n",
        "---\n",
        "Now that we have introduced and explored the data, we will begin our analysis. \n",
        "Our analysis will consist of these components:\n",
        "1. Student Improvement in Cycle 4\n",
        "2. Group Performance\n",
        "3. Motivation\n",
        "4. Identifying Useful Comments\n",
        "\n",
        "- Everyone, Start: 10-11-2020, End: 10-11-2020\n",
        "\n"
      ]
    },
    {
      "cell_type": "markdown",
      "metadata": {
        "id": "cPKRYbmWwpI7"
      },
      "source": [
        "## 5.1 Student Improvement in Cycle 4\n",
        "\n",
        "---\n",
        "\n",
        "To determine if students performed better in groups, we can compare Cycles 2 and 3 where students worked individually compared to Cycle 4 where they worked in groups. This may provide us some insight into solving our driving question.\n",
        "\n",
        "Therefore this section we will discuss the improvement seen for students from Cycles 2 and 3 compared to Cycle 4.\n",
        "\n",
        "This is to assess the impact of the grouping on student performance using two different metrics:\n",
        "- **Motivation** (how early questions/comments were posted)\n",
        "- **Performance** (academic mark and average ratings for questions)\n",
        "\n",
        "- Lorimer, Start: 12-11-2020, End: 15-11-2020"
      ]
    },
    {
      "cell_type": "markdown",
      "metadata": {
        "id": "vOe3HCjy0O8I"
      },
      "source": [
        "**Data preperation:**\n",
        "\n",
        "Firstly, we'll set-up our data for analysis towards the driving question by:\n",
        "- Renaming the columns so they are neat for our analysis\n",
        "- Dropping columns we won't use\n",
        "- Adding a 'cycle' column indicating the cycle which the data belongs to so that when we merge the two cycles we can distinguish them from one another\n",
        "- Lorimer, Start: 12-11-2020, End: 15-11-2020"
      ]
    },
    {
      "cell_type": "code",
      "metadata": {
        "id": "e9yfPYNI0O8K"
      },
      "source": [
        "### Cycle 2 data preperation ###\n",
        "\n",
        "# Courses\n",
        "c2courses_cl = c2courses.rename(columns={\"CourseID\" : \"course_id\", \"StartDate\" : \"cycle_start\", \"Deadline_Comment\" : \"comment_due\", \"Deadline_Question\" : \"question_due\"}) # Rename columns for neatness and easier merges later on\n",
        "c2courses_cl = c2courses_cl.drop(\"CourseName\", axis=1)  # Remove the CourseName column - we will never use it\n",
        "c2courses_cl['cycle'] = 2                               # Column to indicate the cycle number\n",
        "\n",
        "# Questions\n",
        "c2questions_cl = c2questions.rename(columns={\"id\" : \"question_id\", \"timestamp\" : \"question_time\", \"user\" : \"user_id\"}) # Rename columns for neatness and easier merges later on\n",
        "c2questions_cl = c2questions_cl.drop(['top_rating_count', 'numAlts', 'altA', 'altB', 'altC', 'altD', 'altE', 'question', 'explanation'], axis=1) # Remove these columns - we won't need them for our analysis\n",
        "c2questions_cl['cycle'] = 2\n",
        "\n",
        "### Cycle 4 data preperation ###\n",
        "\n",
        "# Courses\n",
        "c4courses_cl = c4courses.rename(columns={\"CourseID\" : \"course_id\", \"StartDate\" : \"cycle_start\", \"Deadline_Comment\" : \"comment_due\", \"Deadline_Question\" : \"question_due\"})\n",
        "c4courses_cl = c4courses_cl.drop(\"CourseName\", axis=1)\n",
        "c4courses_cl['cycle'] = 4\n",
        "\n",
        "# Questions\n",
        "c4questions_cl = c4questions.rename(columns={\"id\" : \"question_id\", \"timestamp\" : \"question_time\", \"user\" : \"user_id\"})\n",
        "c4questions_cl = c4questions_cl.drop(['top_rating_count', 'numAlts', 'altA', 'altB', 'altC', 'altD', 'altE', 'question', 'explanation'], axis=1) \n",
        "c4questions_cl['cycle'] = 4\n",
        "\n",
        "# UserCourses\n",
        "c4usercourses_cl = c4usercourses.rename(columns={'user' : 'user_id', 'Team' : 'team'})\n",
        "\n",
        "# Lorimer, Start: 12-11-2020, End: 15-11-2020"
      ],
      "execution_count": 14,
      "outputs": []
    },
    {
      "cell_type": "markdown",
      "metadata": {
        "id": "x02i4uzx0O8O"
      },
      "source": [
        "We now have renamed and selected a subset of columns from the original data to make the upcoming analysis easier. There's also a new cycle column to indicate what cycle the data is from - this will be useful when merging the two dataframes.\n",
        "\n",
        "*Note: The original data is still intact if we want to use these columns later for whatever reason!*\n",
        "- Lorimer, Start: 12-11-2020, End: 15-11-2020"
      ]
    },
    {
      "cell_type": "markdown",
      "metadata": {
        "id": "SRnl2WgX0O8P"
      },
      "source": [
        "### 5.1.1 Student question performance\n",
        "This subsection will examine if the ratings and marks students received for their self-authored questions from cycle 2 have improved in cycle 4. Cycle 4 saw students put into groups so if there is a strong improvement it could be attributed to group involvement.\n",
        "- Lorimer, Start: 12-11-2020, End: 15-11-2020"
      ]
    },
    {
      "cell_type": "markdown",
      "metadata": {
        "id": "vdcHMb9x0O8Q"
      },
      "source": [
        "**Grouping and aggregating**\n",
        "\n",
        "We're going to group the data for both cycles by user_id, and aggregate the avg_rating for each user. We will use the mean to aggregate the avg_rating data. This will allow us to view the average rating each student received across all of their submitted questions in both Cycle 2 and Cycle 4.\n",
        "\n",
        "- Lorimer, Start: 12-11-2020, End: 15-11-2020"
      ]
    },
    {
      "cell_type": "code",
      "metadata": {
        "id": "lf4bxogk0O8R",
        "colab": {
          "base_uri": "https://localhost:8080/",
          "height": 230
        },
        "outputId": "9a654c4d-6ff8-41bc-c2df-964532985804"
      },
      "source": [
        "# Rounding to 2dp for readability reasons\n",
        "rating_by_user_2 = c2questions_cl[['user_id', 'avg_rating']].groupby('user_id').mean().round(2)         # Cycle 2 ratings\n",
        "rating_by_user_4 = c4questions_cl[['user_id', 'avg_rating']].groupby('user_id').mean().round(2)         # Cycle 4 ratings\n",
        "\n",
        "rating_by_user = rating_by_user_2.join(rating_by_user_4, how='inner', lsuffix=\"_c2\", rsuffix='_c4')\n",
        "rating_by_user.head()\n",
        "\n",
        "# Lorimer, Start: 12-11-2020, End: 15-11-2020"
      ],
      "execution_count": 15,
      "outputs": [
        {
          "output_type": "execute_result",
          "data": {
            "text/html": [
              "<div>\n",
              "<style scoped>\n",
              "    .dataframe tbody tr th:only-of-type {\n",
              "        vertical-align: middle;\n",
              "    }\n",
              "\n",
              "    .dataframe tbody tr th {\n",
              "        vertical-align: top;\n",
              "    }\n",
              "\n",
              "    .dataframe thead th {\n",
              "        text-align: right;\n",
              "    }\n",
              "</style>\n",
              "<table border=\"1\" class=\"dataframe\">\n",
              "  <thead>\n",
              "    <tr style=\"text-align: right;\">\n",
              "      <th></th>\n",
              "      <th>avg_rating_c2</th>\n",
              "      <th>avg_rating_c4</th>\n",
              "    </tr>\n",
              "    <tr>\n",
              "      <th>user_id</th>\n",
              "      <th></th>\n",
              "      <th></th>\n",
              "    </tr>\n",
              "  </thead>\n",
              "  <tbody>\n",
              "    <tr>\n",
              "      <th>269035</th>\n",
              "      <td>0.75</td>\n",
              "      <td>3.14</td>\n",
              "    </tr>\n",
              "    <tr>\n",
              "      <th>555695</th>\n",
              "      <td>2.80</td>\n",
              "      <td>3.88</td>\n",
              "    </tr>\n",
              "    <tr>\n",
              "      <th>555866</th>\n",
              "      <td>1.34</td>\n",
              "      <td>2.57</td>\n",
              "    </tr>\n",
              "    <tr>\n",
              "      <th>556210</th>\n",
              "      <td>2.00</td>\n",
              "      <td>1.25</td>\n",
              "    </tr>\n",
              "    <tr>\n",
              "      <th>556601</th>\n",
              "      <td>4.50</td>\n",
              "      <td>2.75</td>\n",
              "    </tr>\n",
              "  </tbody>\n",
              "</table>\n",
              "</div>"
            ],
            "text/plain": [
              "         avg_rating_c2  avg_rating_c4\n",
              "user_id                              \n",
              "269035            0.75           3.14\n",
              "555695            2.80           3.88\n",
              "555866            1.34           2.57\n",
              "556210            2.00           1.25\n",
              "556601            4.50           2.75"
            ]
          },
          "metadata": {
            "tags": []
          },
          "execution_count": 15
        }
      ]
    },
    {
      "cell_type": "markdown",
      "metadata": {
        "id": "tlwcjL8t0O8X"
      },
      "source": [
        "Above is the result of grouping by user_id and aggregating on the avg_rating.  We performed an inner join because we wanted to ensure that there were no students in cycle 2, who did not participate in cycle 4.\n",
        "\n",
        "- Lorimer, Start: 12-11-2020, End: 15-11-2020"
      ]
    },
    {
      "cell_type": "markdown",
      "metadata": {
        "id": "gSB7Jpl10O8X"
      },
      "source": [
        "**Investigating the change in avg_rating across cycles**\n",
        "\n",
        "The next step is to investigate the change in average_rating from cycle 2 to cycle 4 (by each student). \n",
        "\n",
        "We'll do this by creating columns to measure:\n",
        "- The difference between cycle 4 ratings and cycle 2 ratings\n",
        "- The % change between cycle 4 ratings and cycle 2 ratings\n",
        "\n",
        "- Lorimer, Start: 12-11-2020, End: 15-11-2020"
      ]
    },
    {
      "cell_type": "code",
      "metadata": {
        "id": "TfeHldfq0O8a",
        "colab": {
          "base_uri": "https://localhost:8080/",
          "height": 266
        },
        "outputId": "96bb6dc8-5d9c-4646-a5e2-ef6a6f00043d"
      },
      "source": [
        "rating_by_user['change'] = rating_by_user['avg_rating_c4'] - rating_by_user['avg_rating_c2']                      # Difference between cycle 4 and cycle 2\n",
        "rating_by_user['percent_change'] = (100 * (rating_by_user['change']) / rating_by_user['avg_rating_c2']).round(2)  # Percentage change between cycle 4 and cycle 2 - rounded to 2dp as calculated from columns with 2dp\n",
        "\n",
        "# Calculate the total percent_change - we need to each avg_rating column to do this!\n",
        "total_rating_c2 = rating_by_user['avg_rating_c2'].sum()\n",
        "total_rating_c4 = rating_by_user['avg_rating_c4'].sum()\n",
        "total_rating_change = total_rating_c4 - total_rating_c2\n",
        "total_rating_percent_change = 100*total_rating_change / total_rating_c2\n",
        "\n",
        "# Print out summary\n",
        "display(rating_by_user.head())\n",
        "print(\"The average change in rating across ALL users is {:.2f} points.\".format(rating_by_user['change'].mean()))\n",
        "print(\"The average percentage change in ratings across ALL users is {:.2f}%.\".format(total_rating_percent_change))\n",
        "\n",
        "# Lorimer, Start: 12-11-2020, End: 15-11-2020"
      ],
      "execution_count": 16,
      "outputs": [
        {
          "output_type": "display_data",
          "data": {
            "text/html": [
              "<div>\n",
              "<style scoped>\n",
              "    .dataframe tbody tr th:only-of-type {\n",
              "        vertical-align: middle;\n",
              "    }\n",
              "\n",
              "    .dataframe tbody tr th {\n",
              "        vertical-align: top;\n",
              "    }\n",
              "\n",
              "    .dataframe thead th {\n",
              "        text-align: right;\n",
              "    }\n",
              "</style>\n",
              "<table border=\"1\" class=\"dataframe\">\n",
              "  <thead>\n",
              "    <tr style=\"text-align: right;\">\n",
              "      <th></th>\n",
              "      <th>avg_rating_c2</th>\n",
              "      <th>avg_rating_c4</th>\n",
              "      <th>change</th>\n",
              "      <th>percent_change</th>\n",
              "    </tr>\n",
              "    <tr>\n",
              "      <th>user_id</th>\n",
              "      <th></th>\n",
              "      <th></th>\n",
              "      <th></th>\n",
              "      <th></th>\n",
              "    </tr>\n",
              "  </thead>\n",
              "  <tbody>\n",
              "    <tr>\n",
              "      <th>269035</th>\n",
              "      <td>0.75</td>\n",
              "      <td>3.14</td>\n",
              "      <td>2.39</td>\n",
              "      <td>318.67</td>\n",
              "    </tr>\n",
              "    <tr>\n",
              "      <th>555695</th>\n",
              "      <td>2.80</td>\n",
              "      <td>3.88</td>\n",
              "      <td>1.08</td>\n",
              "      <td>38.57</td>\n",
              "    </tr>\n",
              "    <tr>\n",
              "      <th>555866</th>\n",
              "      <td>1.34</td>\n",
              "      <td>2.57</td>\n",
              "      <td>1.23</td>\n",
              "      <td>91.79</td>\n",
              "    </tr>\n",
              "    <tr>\n",
              "      <th>556210</th>\n",
              "      <td>2.00</td>\n",
              "      <td>1.25</td>\n",
              "      <td>-0.75</td>\n",
              "      <td>-37.50</td>\n",
              "    </tr>\n",
              "    <tr>\n",
              "      <th>556601</th>\n",
              "      <td>4.50</td>\n",
              "      <td>2.75</td>\n",
              "      <td>-1.75</td>\n",
              "      <td>-38.89</td>\n",
              "    </tr>\n",
              "  </tbody>\n",
              "</table>\n",
              "</div>"
            ],
            "text/plain": [
              "         avg_rating_c2  avg_rating_c4  change  percent_change\n",
              "user_id                                                      \n",
              "269035            0.75           3.14    2.39          318.67\n",
              "555695            2.80           3.88    1.08           38.57\n",
              "555866            1.34           2.57    1.23           91.79\n",
              "556210            2.00           1.25   -0.75          -37.50\n",
              "556601            4.50           2.75   -1.75          -38.89"
            ]
          },
          "metadata": {
            "tags": []
          }
        },
        {
          "output_type": "stream",
          "text": [
            "The average change in rating across ALL users is 0.75 points.\n",
            "The average percentage change in ratings across ALL users is 32.46%.\n"
          ],
          "name": "stdout"
        }
      ]
    },
    {
      "cell_type": "code",
      "metadata": {
        "id": "xkGqXcsmefXt",
        "colab": {
          "base_uri": "https://localhost:8080/",
          "height": 542
        },
        "outputId": "dfb782b7-6499-4d42-c231-daa2da7c4726"
      },
      "source": [
        "fig = go.Figure()\n",
        "fig.add_trace(go.Histogram(x=rating_by_user['avg_rating_c2'], histnorm='percent', name='Cycle 2'))\n",
        "fig.add_trace(go.Histogram(x=rating_by_user['avg_rating_c4'], histnorm='percent', name=\"Cycle 4\"))\n",
        "fig.update_xaxes(title_text='Qusetion Average Rating', tick0=0, dtick=1)\n",
        "fig.update_yaxes(title_text='Percentage')\n",
        "fig.update_layout(barmode='overlay', title_text = \"Average Qusetion Ratings by Cycle\")\n",
        "fig.update_traces(opacity=0.95)\n",
        "fig.show()\n",
        "\n",
        "# Lorimer, Tanudji, Jones, Start: 12-11-2020, End: 15-11-2020"
      ],
      "execution_count": 17,
      "outputs": [
        {
          "output_type": "display_data",
          "data": {
            "text/html": [
              "<html>\n",
              "<head><meta charset=\"utf-8\" /></head>\n",
              "<body>\n",
              "    <div>\n",
              "            <script src=\"https://cdnjs.cloudflare.com/ajax/libs/mathjax/2.7.5/MathJax.js?config=TeX-AMS-MML_SVG\"></script><script type=\"text/javascript\">if (window.MathJax) {MathJax.Hub.Config({SVG: {font: \"STIX-Web\"}});}</script>\n",
              "                <script type=\"text/javascript\">window.PlotlyConfig = {MathJaxConfig: 'local'};</script>\n",
              "        <script src=\"https://cdn.plot.ly/plotly-latest.min.js\"></script>    \n",
              "            <div id=\"7ef56154-4707-45e5-82d4-de654016dec2\" class=\"plotly-graph-div\" style=\"height:525px; width:100%;\"></div>\n",
              "            <script type=\"text/javascript\">\n",
              "                \n",
              "                    window.PLOTLYENV=window.PLOTLYENV || {};\n",
              "                    \n",
              "                if (document.getElementById(\"7ef56154-4707-45e5-82d4-de654016dec2\")) {\n",
              "                    Plotly.newPlot(\n",
              "                        '7ef56154-4707-45e5-82d4-de654016dec2',\n",
              "                        [{\"histnorm\": \"percent\", \"name\": \"Cycle 2\", \"opacity\": 0.95, \"type\": \"histogram\", \"x\": [0.75, 2.8, 1.34, 2.0, 4.5, 2.0, 2.33, 3.08, 2.6, 2.82, 3.0, 1.16, 1.84, 3.5, 2.67, 3.29, 1.61, 2.84, 1.75, 2.75, 3.0, 3.0, 3.5, 1.67, 4.0, 3.25, 2.67, 2.7, 0.88, 3.8, 2.57, 2.67, 2.67, 2.0, 2.2, 2.04, 2.29, 3.88, 1.43, 3.62, 1.75, 2.67, 3.39, 3.62, 3.0, 2.33, 1.76, 2.67, 3.14, 2.75, 3.5, 2.42, 1.5, 1.5, 2.66, 2.67, 3.16, 1.47, 3.33, 2.12, 2.5, 1.75, 1.0, 3.0, 1.5, 1.4, 2.0, 3.2, 2.62, 1.75, 0.5, 1.84, 3.25, 3.12, 3.25, 1.64, 3.2, 2.16, 1.28, 1.77, 2.5, 3.12, 2.8, 3.75, 2.84, 3.33, 1.94, 2.58, 3.28, 3.17, 3.0, 3.16, 3.55, 2.33, 3.0, 3.56, 3.0, 3.1, 3.16, 1.13, 3.0, 0.5, 2.75, 3.22, 2.5, 1.0, 2.0, 3.66, 3.25, 2.62, 2.13, 2.75, 3.5, 3.0, 3.5, 2.44, 1.13, 3.5, 3.5, 2.0, 1.0, 2.66, 2.0, 4.0, 2.45, 2.66, 2.66, 4.25, 4.0, 2.0, 0.93, 2.86, 2.88, 3.25, 2.88, 2.84, 2.3, 1.5, 2.38, 1.16, 3.5, 0.89, 0.75, 1.0, 2.8, 1.1, 2.33, 1.84, 1.62, 2.5, 1.8, 2.34, 1.6, 2.66, 2.5, 2.75, 2.92, 0.52, 1.66, 2.6, 3.0, 2.33, 2.67, 1.66, 2.5, 2.55, 3.4, 1.7, 3.5, 1.0, 1.88, 3.0, 1.16, 2.6, 2.0, 1.0, 2.5, 0.5, 2.84, 0.0, 0.92, 2.0, 1.5, 1.84, 1.33, 2.0, 2.0, 2.0, 2.25, 1.5, 2.17, 2.75, 1.25, 1.0, 1.88, 0.87, 0.83, 2.0, 3.17, 3.25, 1.0, 3.0, 1.75, 3.5, 2.5, 3.33, 1.64, 2.84, 2.5, 3.0, 0.71, 2.34, 2.5, 3.25, 3.0, 2.07, 1.25, 1.75, 0.5, 5.0, 1.1, 3.0, 1.5, 3.38, 2.0, 1.5, 1.25, 1.5, 0.5, 1.3, 0.8, 2.25, 3.0, 2.0, 2.75, 3.0, 1.38, 1.16, 1.5, 1.67, 3.5, 0.0, 1.84, 2.0, 3.25, 2.5, 1.0, 1.7, 1.5, 1.1, 3.25, 0.56, 1.0, 1.0, 2.16, 3.83, 3.25, 2.57, 2.25, 2.5, 1.16, 2.75, 3.25, 2.33, 2.17, 2.29, 2.0, 1.38]}, {\"histnorm\": \"percent\", \"name\": \"Cycle 4\", \"opacity\": 0.95, \"type\": \"histogram\", \"x\": [3.14, 3.88, 2.57, 1.25, 2.75, 3.89, 3.1, 2.67, 3.33, 3.34, 2.22, 3.97, 4.0, 4.31, 3.5, 3.36, 2.5, 1.96, 2.78, 2.22, 3.28, 3.18, 3.76, 3.72, 2.29, 2.86, 2.9, 2.44, 1.93, 3.4, 1.3, 0.91, 2.5, 3.2, 3.92, 2.6, 2.7, 2.38, 3.32, 3.3, 3.58, 3.4, 4.0, 3.94, 3.75, 2.37, 3.14, 2.8, 4.28, 2.75, 1.38, 3.0, 4.14, 3.0, 2.36, 2.22, 2.72, 2.75, 4.05, 3.2, 3.0, 3.6, 3.22, 3.4, 3.0, 2.75, 2.75, 1.71, 3.78, 2.5, 3.7, 3.57, 3.28, 3.06, 1.8, 4.06, 3.16, 4.44, 3.25, 4.1, 1.2, 4.16, 2.66, 3.57, 4.5, 3.12, 3.5, 2.7, 3.64, 4.0, 5.0, 2.66, 3.5, 3.0, 3.64, 3.44, 1.8, 3.7, 3.0, 2.33, 3.6, 3.39, 3.56, 3.11, 2.61, 3.4, 2.06, 2.75, 2.25, 2.0, 3.89, 3.66, 3.5, 2.44, 3.66, 3.0, 2.92, 2.62, 3.11, 3.66, 2.75, 3.43, 2.25, 2.94, 4.12, 3.5, 3.16, 2.66, 3.42, 3.75, 3.12, 2.83, 2.9, 2.31, 2.0, 2.75, 3.18, 4.44, 2.33, 3.12, 3.6, 3.34, 3.44, 2.62, 3.66, 3.5, 2.5, 4.03, 1.5, 2.5, 3.64, 2.66, 3.0, 2.54, 3.5, 2.14, 2.41, 3.35, 2.35, 3.34, 3.42, 3.0, 3.0, 1.4, 2.33, 2.88, 3.32, 2.8, 3.66, 2.94, 2.7, 2.8, 4.0, 3.44, 3.5, 2.0, 1.73, 2.78, 3.33, 3.16, 1.96, 4.16, 4.34, 3.1, 3.08, 1.94, 3.0, 4.0, 3.0, 2.0, 2.5, 1.02, 4.7, 2.94, 1.96, 2.03, 3.39, 3.0, 4.67, 3.86, 2.67, 2.82, 3.05, 3.2, 3.64, 2.8, 2.66, 2.75, 3.64, 3.12, 1.66, 3.25, 2.88, 1.56, 3.25, 2.42, 2.6, 4.0, 3.4, 4.0, 2.67, 3.78, 2.8, 2.92, 3.57, 2.88, 1.08, 2.58, 1.67, 3.08, 3.11, 3.07, 3.5, 4.34, 4.43, 4.62, 3.44, 4.25, 3.34, 3.5, 4.25, 3.0, 2.86, 3.71, 3.34, 3.0, 2.5, 2.75, 3.65, 3.25, 2.42, 3.25, 2.72, 3.5, 2.34, 3.34, 3.25, 1.86, 3.34, 3.11, 2.94, 2.95, 3.0, 2.6, 2.57, 2.63, 3.38, 3.16]}],\n",
              "                        {\"barmode\": \"overlay\", \"template\": {\"data\": {\"bar\": [{\"error_x\": {\"color\": \"#2a3f5f\"}, \"error_y\": {\"color\": \"#2a3f5f\"}, \"marker\": {\"line\": {\"color\": \"#E5ECF6\", \"width\": 0.5}}, \"type\": \"bar\"}], \"barpolar\": [{\"marker\": {\"line\": {\"color\": \"#E5ECF6\", \"width\": 0.5}}, \"type\": \"barpolar\"}], \"carpet\": [{\"aaxis\": {\"endlinecolor\": \"#2a3f5f\", \"gridcolor\": \"white\", \"linecolor\": \"white\", \"minorgridcolor\": \"white\", \"startlinecolor\": \"#2a3f5f\"}, \"baxis\": {\"endlinecolor\": \"#2a3f5f\", \"gridcolor\": \"white\", \"linecolor\": \"white\", \"minorgridcolor\": \"white\", \"startlinecolor\": \"#2a3f5f\"}, \"type\": \"carpet\"}], \"choropleth\": [{\"colorbar\": {\"outlinewidth\": 0, \"ticks\": \"\"}, \"type\": \"choropleth\"}], \"contour\": [{\"colorbar\": {\"outlinewidth\": 0, \"ticks\": \"\"}, \"colorscale\": [[0.0, \"#0d0887\"], [0.1111111111111111, \"#46039f\"], [0.2222222222222222, \"#7201a8\"], [0.3333333333333333, \"#9c179e\"], [0.4444444444444444, \"#bd3786\"], [0.5555555555555556, \"#d8576b\"], [0.6666666666666666, \"#ed7953\"], [0.7777777777777778, \"#fb9f3a\"], [0.8888888888888888, \"#fdca26\"], [1.0, \"#f0f921\"]], \"type\": \"contour\"}], \"contourcarpet\": [{\"colorbar\": {\"outlinewidth\": 0, \"ticks\": \"\"}, \"type\": \"contourcarpet\"}], \"heatmap\": [{\"colorbar\": {\"outlinewidth\": 0, \"ticks\": \"\"}, \"colorscale\": [[0.0, \"#0d0887\"], [0.1111111111111111, \"#46039f\"], [0.2222222222222222, \"#7201a8\"], [0.3333333333333333, \"#9c179e\"], [0.4444444444444444, \"#bd3786\"], [0.5555555555555556, \"#d8576b\"], [0.6666666666666666, \"#ed7953\"], [0.7777777777777778, \"#fb9f3a\"], [0.8888888888888888, \"#fdca26\"], [1.0, \"#f0f921\"]], \"type\": \"heatmap\"}], \"heatmapgl\": [{\"colorbar\": {\"outlinewidth\": 0, \"ticks\": \"\"}, \"colorscale\": [[0.0, \"#0d0887\"], [0.1111111111111111, \"#46039f\"], [0.2222222222222222, \"#7201a8\"], [0.3333333333333333, \"#9c179e\"], [0.4444444444444444, \"#bd3786\"], [0.5555555555555556, \"#d8576b\"], [0.6666666666666666, \"#ed7953\"], [0.7777777777777778, \"#fb9f3a\"], [0.8888888888888888, \"#fdca26\"], [1.0, \"#f0f921\"]], \"type\": \"heatmapgl\"}], \"histogram\": [{\"marker\": {\"colorbar\": {\"outlinewidth\": 0, \"ticks\": \"\"}}, \"type\": \"histogram\"}], \"histogram2d\": [{\"colorbar\": {\"outlinewidth\": 0, \"ticks\": \"\"}, \"colorscale\": [[0.0, \"#0d0887\"], [0.1111111111111111, \"#46039f\"], [0.2222222222222222, \"#7201a8\"], [0.3333333333333333, \"#9c179e\"], [0.4444444444444444, \"#bd3786\"], [0.5555555555555556, \"#d8576b\"], [0.6666666666666666, \"#ed7953\"], [0.7777777777777778, \"#fb9f3a\"], [0.8888888888888888, \"#fdca26\"], [1.0, \"#f0f921\"]], \"type\": \"histogram2d\"}], \"histogram2dcontour\": [{\"colorbar\": {\"outlinewidth\": 0, \"ticks\": \"\"}, \"colorscale\": [[0.0, \"#0d0887\"], [0.1111111111111111, \"#46039f\"], [0.2222222222222222, \"#7201a8\"], [0.3333333333333333, \"#9c179e\"], [0.4444444444444444, \"#bd3786\"], [0.5555555555555556, \"#d8576b\"], [0.6666666666666666, \"#ed7953\"], [0.7777777777777778, \"#fb9f3a\"], [0.8888888888888888, \"#fdca26\"], [1.0, \"#f0f921\"]], \"type\": \"histogram2dcontour\"}], \"mesh3d\": [{\"colorbar\": {\"outlinewidth\": 0, \"ticks\": \"\"}, \"type\": \"mesh3d\"}], \"parcoords\": [{\"line\": {\"colorbar\": {\"outlinewidth\": 0, \"ticks\": \"\"}}, \"type\": \"parcoords\"}], \"pie\": [{\"automargin\": true, \"type\": \"pie\"}], \"scatter\": [{\"marker\": {\"colorbar\": {\"outlinewidth\": 0, \"ticks\": \"\"}}, \"type\": \"scatter\"}], \"scatter3d\": [{\"line\": {\"colorbar\": {\"outlinewidth\": 0, \"ticks\": \"\"}}, \"marker\": {\"colorbar\": {\"outlinewidth\": 0, \"ticks\": \"\"}}, \"type\": \"scatter3d\"}], \"scattercarpet\": [{\"marker\": {\"colorbar\": {\"outlinewidth\": 0, \"ticks\": \"\"}}, \"type\": \"scattercarpet\"}], \"scattergeo\": [{\"marker\": {\"colorbar\": {\"outlinewidth\": 0, \"ticks\": \"\"}}, \"type\": \"scattergeo\"}], \"scattergl\": [{\"marker\": {\"colorbar\": {\"outlinewidth\": 0, \"ticks\": \"\"}}, \"type\": \"scattergl\"}], \"scattermapbox\": [{\"marker\": {\"colorbar\": {\"outlinewidth\": 0, \"ticks\": \"\"}}, \"type\": \"scattermapbox\"}], \"scatterpolar\": [{\"marker\": {\"colorbar\": {\"outlinewidth\": 0, \"ticks\": \"\"}}, \"type\": \"scatterpolar\"}], \"scatterpolargl\": [{\"marker\": {\"colorbar\": {\"outlinewidth\": 0, \"ticks\": \"\"}}, \"type\": \"scatterpolargl\"}], \"scatterternary\": [{\"marker\": {\"colorbar\": {\"outlinewidth\": 0, \"ticks\": \"\"}}, \"type\": \"scatterternary\"}], \"surface\": [{\"colorbar\": {\"outlinewidth\": 0, \"ticks\": \"\"}, \"colorscale\": [[0.0, \"#0d0887\"], [0.1111111111111111, \"#46039f\"], [0.2222222222222222, \"#7201a8\"], [0.3333333333333333, \"#9c179e\"], [0.4444444444444444, \"#bd3786\"], [0.5555555555555556, \"#d8576b\"], [0.6666666666666666, \"#ed7953\"], [0.7777777777777778, \"#fb9f3a\"], [0.8888888888888888, \"#fdca26\"], [1.0, \"#f0f921\"]], \"type\": \"surface\"}], \"table\": [{\"cells\": {\"fill\": {\"color\": \"#EBF0F8\"}, \"line\": {\"color\": \"white\"}}, \"header\": {\"fill\": {\"color\": \"#C8D4E3\"}, \"line\": {\"color\": \"white\"}}, \"type\": \"table\"}]}, \"layout\": {\"annotationdefaults\": {\"arrowcolor\": \"#2a3f5f\", \"arrowhead\": 0, \"arrowwidth\": 1}, \"coloraxis\": {\"colorbar\": {\"outlinewidth\": 0, \"ticks\": \"\"}}, \"colorscale\": {\"diverging\": [[0, \"#8e0152\"], [0.1, \"#c51b7d\"], [0.2, \"#de77ae\"], [0.3, \"#f1b6da\"], [0.4, \"#fde0ef\"], [0.5, \"#f7f7f7\"], [0.6, \"#e6f5d0\"], [0.7, \"#b8e186\"], [0.8, \"#7fbc41\"], [0.9, \"#4d9221\"], [1, \"#276419\"]], \"sequential\": [[0.0, \"#0d0887\"], [0.1111111111111111, \"#46039f\"], [0.2222222222222222, \"#7201a8\"], [0.3333333333333333, \"#9c179e\"], [0.4444444444444444, \"#bd3786\"], [0.5555555555555556, \"#d8576b\"], [0.6666666666666666, \"#ed7953\"], [0.7777777777777778, \"#fb9f3a\"], [0.8888888888888888, \"#fdca26\"], [1.0, \"#f0f921\"]], \"sequentialminus\": [[0.0, \"#0d0887\"], [0.1111111111111111, \"#46039f\"], [0.2222222222222222, \"#7201a8\"], [0.3333333333333333, \"#9c179e\"], [0.4444444444444444, \"#bd3786\"], [0.5555555555555556, \"#d8576b\"], [0.6666666666666666, \"#ed7953\"], [0.7777777777777778, \"#fb9f3a\"], [0.8888888888888888, \"#fdca26\"], [1.0, \"#f0f921\"]]}, \"colorway\": [\"#636efa\", \"#EF553B\", \"#00cc96\", \"#ab63fa\", \"#FFA15A\", \"#19d3f3\", \"#FF6692\", \"#B6E880\", \"#FF97FF\", \"#FECB52\"], \"font\": {\"color\": \"#2a3f5f\"}, \"geo\": {\"bgcolor\": \"white\", \"lakecolor\": \"white\", \"landcolor\": \"#E5ECF6\", \"showlakes\": true, \"showland\": true, \"subunitcolor\": \"white\"}, \"hoverlabel\": {\"align\": \"left\"}, \"hovermode\": \"closest\", \"mapbox\": {\"style\": \"light\"}, \"paper_bgcolor\": \"white\", \"plot_bgcolor\": \"#E5ECF6\", \"polar\": {\"angularaxis\": {\"gridcolor\": \"white\", \"linecolor\": \"white\", \"ticks\": \"\"}, \"bgcolor\": \"#E5ECF6\", \"radialaxis\": {\"gridcolor\": \"white\", \"linecolor\": \"white\", \"ticks\": \"\"}}, \"scene\": {\"xaxis\": {\"backgroundcolor\": \"#E5ECF6\", \"gridcolor\": \"white\", \"gridwidth\": 2, \"linecolor\": \"white\", \"showbackground\": true, \"ticks\": \"\", \"zerolinecolor\": \"white\"}, \"yaxis\": {\"backgroundcolor\": \"#E5ECF6\", \"gridcolor\": \"white\", \"gridwidth\": 2, \"linecolor\": \"white\", \"showbackground\": true, \"ticks\": \"\", \"zerolinecolor\": \"white\"}, \"zaxis\": {\"backgroundcolor\": \"#E5ECF6\", \"gridcolor\": \"white\", \"gridwidth\": 2, \"linecolor\": \"white\", \"showbackground\": true, \"ticks\": \"\", \"zerolinecolor\": \"white\"}}, \"shapedefaults\": {\"line\": {\"color\": \"#2a3f5f\"}}, \"ternary\": {\"aaxis\": {\"gridcolor\": \"white\", \"linecolor\": \"white\", \"ticks\": \"\"}, \"baxis\": {\"gridcolor\": \"white\", \"linecolor\": \"white\", \"ticks\": \"\"}, \"bgcolor\": \"#E5ECF6\", \"caxis\": {\"gridcolor\": \"white\", \"linecolor\": \"white\", \"ticks\": \"\"}}, \"title\": {\"x\": 0.05}, \"xaxis\": {\"automargin\": true, \"gridcolor\": \"white\", \"linecolor\": \"white\", \"ticks\": \"\", \"title\": {\"standoff\": 15}, \"zerolinecolor\": \"white\", \"zerolinewidth\": 2}, \"yaxis\": {\"automargin\": true, \"gridcolor\": \"white\", \"linecolor\": \"white\", \"ticks\": \"\", \"title\": {\"standoff\": 15}, \"zerolinecolor\": \"white\", \"zerolinewidth\": 2}}}, \"title\": {\"text\": \"Average Qusetion Ratings by Cycle\"}, \"xaxis\": {\"dtick\": 1, \"tick0\": 0, \"title\": {\"text\": \"Qusetion Average Rating\"}}, \"yaxis\": {\"title\": {\"text\": \"Percentage\"}}},\n",
              "                        {\"responsive\": true}\n",
              "                    ).then(function(){\n",
              "                            \n",
              "var gd = document.getElementById('7ef56154-4707-45e5-82d4-de654016dec2');\n",
              "var x = new MutationObserver(function (mutations, observer) {{\n",
              "        var display = window.getComputedStyle(gd).display;\n",
              "        if (!display || display === 'none') {{\n",
              "            console.log([gd, 'removed!']);\n",
              "            Plotly.purge(gd);\n",
              "            observer.disconnect();\n",
              "        }}\n",
              "}});\n",
              "\n",
              "// Listen for the removal of the full notebook cells\n",
              "var notebookContainer = gd.closest('#notebook-container');\n",
              "if (notebookContainer) {{\n",
              "    x.observe(notebookContainer, {childList: true});\n",
              "}}\n",
              "\n",
              "// Listen for the clearing of the current output cell\n",
              "var outputEl = gd.closest('.output');\n",
              "if (outputEl) {{\n",
              "    x.observe(outputEl, {childList: true});\n",
              "}}\n",
              "\n",
              "                        })\n",
              "                };\n",
              "                \n",
              "            </script>\n",
              "        </div>\n",
              "</body>\n",
              "</html>"
            ]
          },
          "metadata": {
            "tags": []
          }
        }
      ]
    },
    {
      "cell_type": "markdown",
      "metadata": {
        "id": "ha_W3IYo0O8i"
      },
      "source": [
        "As output above from above:\n",
        "- Across all users, the average ratings increased by 0.75\n",
        "- Across all users, the average percentage change in ratings increased by 32.46%\n",
        "\n",
        "From these results it appears that group participation DOES affect indivual performance (on average) but let's look a little bit deeper. \n",
        "\n",
        "**What if we check the improvement for those students with an average rating less than 1.5 in cycle 1? Did it increase in cycle 4 once they were in a team?**\n",
        "\n",
        "- Lorimer, Start: 12-11-2020, End: 15-11-2020"
      ]
    },
    {
      "cell_type": "markdown",
      "metadata": {
        "id": "6uQdgpFL0O8j"
      },
      "source": [
        "The first step here is to filter our students based on their average mark. Then we'll compute the same average change in ratings as we did above, but for the students with weak cycle 2 scores.\n",
        "- Lorimer, Start: 12-11-2020, End: 15-11-2020"
      ]
    },
    {
      "cell_type": "code",
      "metadata": {
        "id": "MR9MrLwA0O8k",
        "colab": {
          "base_uri": "https://localhost:8080/",
          "height": 266
        },
        "outputId": "aaa1dbaa-b195-4cac-e68e-a3d4a6da8363"
      },
      "source": [
        "low_performer_rating = rating_by_user[rating_by_user['avg_rating_c2'] <= 1.5] # Filter students with mark less than 1.5 in cycle 2\n",
        "\n",
        "# Caluclate average percent_change for all students with cycle 2 marks <= 1.5 as we did for ALL students previously\n",
        "low_performer_rating_c2 = low_performer_rating['avg_rating_c2'].sum()\n",
        "low_performer_rating_c4 = low_performer_rating['avg_rating_c4'].sum()\n",
        "low_performer_rating_change = low_performer_rating_c4 - low_performer_rating_c2\n",
        "low_performer_rating_percent_change = 100*low_performer_rating_change / low_performer_rating_c2\n",
        "\n",
        "display(low_performer_rating.head())\n",
        "print(\"The average change in rating for users with a cycle 2 mark < 1.5 is {:.2f} points.\".format(low_performer_rating['change'].mean()))\n",
        "print(\"The average percentage change in ratings for users with a cycle 2 mark < 1.5 is {:.2f}%.\".format(low_performer_rating_percent_change))\n",
        "\n",
        "# Lorimer, Start: 12-11-2020, End: 15-11-2020"
      ],
      "execution_count": 18,
      "outputs": [
        {
          "output_type": "display_data",
          "data": {
            "text/html": [
              "<div>\n",
              "<style scoped>\n",
              "    .dataframe tbody tr th:only-of-type {\n",
              "        vertical-align: middle;\n",
              "    }\n",
              "\n",
              "    .dataframe tbody tr th {\n",
              "        vertical-align: top;\n",
              "    }\n",
              "\n",
              "    .dataframe thead th {\n",
              "        text-align: right;\n",
              "    }\n",
              "</style>\n",
              "<table border=\"1\" class=\"dataframe\">\n",
              "  <thead>\n",
              "    <tr style=\"text-align: right;\">\n",
              "      <th></th>\n",
              "      <th>avg_rating_c2</th>\n",
              "      <th>avg_rating_c4</th>\n",
              "      <th>change</th>\n",
              "      <th>percent_change</th>\n",
              "    </tr>\n",
              "    <tr>\n",
              "      <th>user_id</th>\n",
              "      <th></th>\n",
              "      <th></th>\n",
              "      <th></th>\n",
              "      <th></th>\n",
              "    </tr>\n",
              "  </thead>\n",
              "  <tbody>\n",
              "    <tr>\n",
              "      <th>269035</th>\n",
              "      <td>0.75</td>\n",
              "      <td>3.14</td>\n",
              "      <td>2.39</td>\n",
              "      <td>318.67</td>\n",
              "    </tr>\n",
              "    <tr>\n",
              "      <th>555866</th>\n",
              "      <td>1.34</td>\n",
              "      <td>2.57</td>\n",
              "      <td>1.23</td>\n",
              "      <td>91.79</td>\n",
              "    </tr>\n",
              "    <tr>\n",
              "      <th>586755</th>\n",
              "      <td>1.16</td>\n",
              "      <td>3.97</td>\n",
              "      <td>2.81</td>\n",
              "      <td>242.24</td>\n",
              "    </tr>\n",
              "    <tr>\n",
              "      <th>635996</th>\n",
              "      <td>0.88</td>\n",
              "      <td>1.93</td>\n",
              "      <td>1.05</td>\n",
              "      <td>119.32</td>\n",
              "    </tr>\n",
              "    <tr>\n",
              "      <th>636008</th>\n",
              "      <td>1.43</td>\n",
              "      <td>3.32</td>\n",
              "      <td>1.89</td>\n",
              "      <td>132.17</td>\n",
              "    </tr>\n",
              "  </tbody>\n",
              "</table>\n",
              "</div>"
            ],
            "text/plain": [
              "         avg_rating_c2  avg_rating_c4  change  percent_change\n",
              "user_id                                                      \n",
              "269035            0.75           3.14    2.39          318.67\n",
              "555866            1.34           2.57    1.23           91.79\n",
              "586755            1.16           3.97    2.81          242.24\n",
              "635996            0.88           1.93    1.05          119.32\n",
              "636008            1.43           3.32    1.89          132.17"
            ]
          },
          "metadata": {
            "tags": []
          }
        },
        {
          "output_type": "stream",
          "text": [
            "The average change in rating for users with a cycle 2 mark < 1.5 is 1.97 points.\n",
            "The average percentage change in ratings for users with a cycle 2 mark < 1.5 is 185.77%.\n"
          ],
          "name": "stdout"
        }
      ]
    },
    {
      "cell_type": "code",
      "metadata": {
        "id": "nvO4mBrNefXz",
        "colab": {
          "base_uri": "https://localhost:8080/",
          "height": 542
        },
        "outputId": "634636b1-19df-403c-a9f8-f3276b7c530d"
      },
      "source": [
        "fig = go.Figure()\n",
        "fig.add_trace(go.Histogram(x=low_performer_rating['avg_rating_c2'], histnorm='percent', name='Cycle 2'))\n",
        "fig.add_trace(go.Histogram(x=low_performer_rating['avg_rating_c4'], histnorm='percent', name=\"Cycle 4\"))\n",
        "fig.update_xaxes(title_text='Question Average Rating', tick0=0, dtick=1)\n",
        "fig.update_yaxes(title_text='Percentage')\n",
        "fig.update_layout(barmode='overlay', title_text = \"Average Question Ratings by Cycle for students who received a low average rating in cycle 2\")\n",
        "fig.update_traces(opacity=0.95)\n",
        "fig.show()\n",
        "\n",
        "# Lorimer, Tanudji, Jones, Start: 12-11-2020, End: 15-11-2020"
      ],
      "execution_count": 19,
      "outputs": [
        {
          "output_type": "display_data",
          "data": {
            "text/html": [
              "<html>\n",
              "<head><meta charset=\"utf-8\" /></head>\n",
              "<body>\n",
              "    <div>\n",
              "            <script src=\"https://cdnjs.cloudflare.com/ajax/libs/mathjax/2.7.5/MathJax.js?config=TeX-AMS-MML_SVG\"></script><script type=\"text/javascript\">if (window.MathJax) {MathJax.Hub.Config({SVG: {font: \"STIX-Web\"}});}</script>\n",
              "                <script type=\"text/javascript\">window.PlotlyConfig = {MathJaxConfig: 'local'};</script>\n",
              "        <script src=\"https://cdn.plot.ly/plotly-latest.min.js\"></script>    \n",
              "            <div id=\"b4e402d4-5e55-42a5-8fdd-43912e2a0963\" class=\"plotly-graph-div\" style=\"height:525px; width:100%;\"></div>\n",
              "            <script type=\"text/javascript\">\n",
              "                \n",
              "                    window.PLOTLYENV=window.PLOTLYENV || {};\n",
              "                    \n",
              "                if (document.getElementById(\"b4e402d4-5e55-42a5-8fdd-43912e2a0963\")) {\n",
              "                    Plotly.newPlot(\n",
              "                        'b4e402d4-5e55-42a5-8fdd-43912e2a0963',\n",
              "                        [{\"histnorm\": \"percent\", \"name\": \"Cycle 2\", \"opacity\": 0.95, \"type\": \"histogram\", \"x\": [0.75, 1.34, 1.16, 0.88, 1.43, 1.5, 1.5, 1.47, 1.0, 1.5, 1.4, 0.5, 1.28, 1.13, 0.5, 1.0, 1.13, 1.0, 0.93, 1.5, 1.16, 0.89, 0.75, 1.0, 1.1, 0.52, 1.0, 1.16, 1.0, 0.5, 0.0, 0.92, 1.5, 1.33, 1.5, 1.25, 1.0, 0.87, 0.83, 1.0, 0.71, 1.25, 0.5, 1.1, 1.5, 1.5, 1.25, 1.5, 0.5, 1.3, 0.8, 1.38, 1.16, 1.5, 0.0, 1.0, 1.5, 1.1, 0.56, 1.0, 1.0, 1.16, 1.38]}, {\"histnorm\": \"percent\", \"name\": \"Cycle 4\", \"opacity\": 0.95, \"type\": \"histogram\", \"x\": [3.14, 2.57, 3.97, 1.93, 3.32, 4.14, 3.0, 2.75, 3.22, 3.0, 2.75, 3.7, 3.25, 2.33, 3.39, 3.4, 2.92, 2.75, 3.12, 4.44, 3.12, 3.34, 3.44, 2.62, 3.5, 3.35, 2.94, 4.0, 2.0, 2.78, 3.16, 1.96, 4.34, 3.08, 2.0, 4.7, 2.94, 2.03, 3.39, 2.67, 1.66, 2.6, 3.4, 2.67, 2.8, 2.88, 1.08, 2.58, 1.67, 3.08, 3.11, 3.44, 4.25, 3.34, 3.0, 2.5, 3.65, 3.25, 3.25, 2.72, 3.5, 2.94, 3.16]}],\n",
              "                        {\"barmode\": \"overlay\", \"template\": {\"data\": {\"bar\": [{\"error_x\": {\"color\": \"#2a3f5f\"}, \"error_y\": {\"color\": \"#2a3f5f\"}, \"marker\": {\"line\": {\"color\": \"#E5ECF6\", \"width\": 0.5}}, \"type\": \"bar\"}], \"barpolar\": [{\"marker\": {\"line\": {\"color\": \"#E5ECF6\", \"width\": 0.5}}, \"type\": \"barpolar\"}], \"carpet\": [{\"aaxis\": {\"endlinecolor\": \"#2a3f5f\", \"gridcolor\": \"white\", \"linecolor\": \"white\", \"minorgridcolor\": \"white\", \"startlinecolor\": \"#2a3f5f\"}, \"baxis\": {\"endlinecolor\": \"#2a3f5f\", \"gridcolor\": \"white\", \"linecolor\": \"white\", \"minorgridcolor\": \"white\", \"startlinecolor\": \"#2a3f5f\"}, \"type\": \"carpet\"}], \"choropleth\": [{\"colorbar\": {\"outlinewidth\": 0, \"ticks\": \"\"}, \"type\": \"choropleth\"}], \"contour\": [{\"colorbar\": {\"outlinewidth\": 0, \"ticks\": \"\"}, \"colorscale\": [[0.0, \"#0d0887\"], [0.1111111111111111, \"#46039f\"], [0.2222222222222222, \"#7201a8\"], [0.3333333333333333, \"#9c179e\"], [0.4444444444444444, \"#bd3786\"], [0.5555555555555556, \"#d8576b\"], [0.6666666666666666, \"#ed7953\"], [0.7777777777777778, \"#fb9f3a\"], [0.8888888888888888, \"#fdca26\"], [1.0, \"#f0f921\"]], \"type\": \"contour\"}], \"contourcarpet\": [{\"colorbar\": {\"outlinewidth\": 0, \"ticks\": \"\"}, \"type\": \"contourcarpet\"}], \"heatmap\": [{\"colorbar\": {\"outlinewidth\": 0, \"ticks\": \"\"}, \"colorscale\": [[0.0, \"#0d0887\"], [0.1111111111111111, \"#46039f\"], [0.2222222222222222, \"#7201a8\"], [0.3333333333333333, \"#9c179e\"], [0.4444444444444444, \"#bd3786\"], [0.5555555555555556, \"#d8576b\"], [0.6666666666666666, \"#ed7953\"], [0.7777777777777778, \"#fb9f3a\"], [0.8888888888888888, \"#fdca26\"], [1.0, \"#f0f921\"]], \"type\": \"heatmap\"}], \"heatmapgl\": [{\"colorbar\": {\"outlinewidth\": 0, \"ticks\": \"\"}, \"colorscale\": [[0.0, \"#0d0887\"], [0.1111111111111111, \"#46039f\"], [0.2222222222222222, \"#7201a8\"], [0.3333333333333333, \"#9c179e\"], [0.4444444444444444, \"#bd3786\"], [0.5555555555555556, \"#d8576b\"], [0.6666666666666666, \"#ed7953\"], [0.7777777777777778, \"#fb9f3a\"], [0.8888888888888888, \"#fdca26\"], [1.0, \"#f0f921\"]], \"type\": \"heatmapgl\"}], \"histogram\": [{\"marker\": {\"colorbar\": {\"outlinewidth\": 0, \"ticks\": \"\"}}, \"type\": \"histogram\"}], \"histogram2d\": [{\"colorbar\": {\"outlinewidth\": 0, \"ticks\": \"\"}, \"colorscale\": [[0.0, \"#0d0887\"], [0.1111111111111111, \"#46039f\"], [0.2222222222222222, \"#7201a8\"], [0.3333333333333333, \"#9c179e\"], [0.4444444444444444, \"#bd3786\"], [0.5555555555555556, \"#d8576b\"], [0.6666666666666666, \"#ed7953\"], [0.7777777777777778, \"#fb9f3a\"], [0.8888888888888888, \"#fdca26\"], [1.0, \"#f0f921\"]], \"type\": \"histogram2d\"}], \"histogram2dcontour\": [{\"colorbar\": {\"outlinewidth\": 0, \"ticks\": \"\"}, \"colorscale\": [[0.0, \"#0d0887\"], [0.1111111111111111, \"#46039f\"], [0.2222222222222222, \"#7201a8\"], [0.3333333333333333, \"#9c179e\"], [0.4444444444444444, \"#bd3786\"], [0.5555555555555556, \"#d8576b\"], [0.6666666666666666, \"#ed7953\"], [0.7777777777777778, \"#fb9f3a\"], [0.8888888888888888, \"#fdca26\"], [1.0, \"#f0f921\"]], \"type\": \"histogram2dcontour\"}], \"mesh3d\": [{\"colorbar\": {\"outlinewidth\": 0, \"ticks\": \"\"}, \"type\": \"mesh3d\"}], \"parcoords\": [{\"line\": {\"colorbar\": {\"outlinewidth\": 0, \"ticks\": \"\"}}, \"type\": \"parcoords\"}], \"pie\": [{\"automargin\": true, \"type\": \"pie\"}], \"scatter\": [{\"marker\": {\"colorbar\": {\"outlinewidth\": 0, \"ticks\": \"\"}}, \"type\": \"scatter\"}], \"scatter3d\": [{\"line\": {\"colorbar\": {\"outlinewidth\": 0, \"ticks\": \"\"}}, \"marker\": {\"colorbar\": {\"outlinewidth\": 0, \"ticks\": \"\"}}, \"type\": \"scatter3d\"}], \"scattercarpet\": [{\"marker\": {\"colorbar\": {\"outlinewidth\": 0, \"ticks\": \"\"}}, \"type\": \"scattercarpet\"}], \"scattergeo\": [{\"marker\": {\"colorbar\": {\"outlinewidth\": 0, \"ticks\": \"\"}}, \"type\": \"scattergeo\"}], \"scattergl\": [{\"marker\": {\"colorbar\": {\"outlinewidth\": 0, \"ticks\": \"\"}}, \"type\": \"scattergl\"}], \"scattermapbox\": [{\"marker\": {\"colorbar\": {\"outlinewidth\": 0, \"ticks\": \"\"}}, \"type\": \"scattermapbox\"}], \"scatterpolar\": [{\"marker\": {\"colorbar\": {\"outlinewidth\": 0, \"ticks\": \"\"}}, \"type\": \"scatterpolar\"}], \"scatterpolargl\": [{\"marker\": {\"colorbar\": {\"outlinewidth\": 0, \"ticks\": \"\"}}, \"type\": \"scatterpolargl\"}], \"scatterternary\": [{\"marker\": {\"colorbar\": {\"outlinewidth\": 0, \"ticks\": \"\"}}, \"type\": \"scatterternary\"}], \"surface\": [{\"colorbar\": {\"outlinewidth\": 0, \"ticks\": \"\"}, \"colorscale\": [[0.0, \"#0d0887\"], [0.1111111111111111, \"#46039f\"], [0.2222222222222222, \"#7201a8\"], [0.3333333333333333, \"#9c179e\"], [0.4444444444444444, \"#bd3786\"], [0.5555555555555556, \"#d8576b\"], [0.6666666666666666, \"#ed7953\"], [0.7777777777777778, \"#fb9f3a\"], [0.8888888888888888, \"#fdca26\"], [1.0, \"#f0f921\"]], \"type\": \"surface\"}], \"table\": [{\"cells\": {\"fill\": {\"color\": \"#EBF0F8\"}, \"line\": {\"color\": \"white\"}}, \"header\": {\"fill\": {\"color\": \"#C8D4E3\"}, \"line\": {\"color\": \"white\"}}, \"type\": \"table\"}]}, \"layout\": {\"annotationdefaults\": {\"arrowcolor\": \"#2a3f5f\", \"arrowhead\": 0, \"arrowwidth\": 1}, \"coloraxis\": {\"colorbar\": {\"outlinewidth\": 0, \"ticks\": \"\"}}, \"colorscale\": {\"diverging\": [[0, \"#8e0152\"], [0.1, \"#c51b7d\"], [0.2, \"#de77ae\"], [0.3, \"#f1b6da\"], [0.4, \"#fde0ef\"], [0.5, \"#f7f7f7\"], [0.6, \"#e6f5d0\"], [0.7, \"#b8e186\"], [0.8, \"#7fbc41\"], [0.9, \"#4d9221\"], [1, \"#276419\"]], \"sequential\": [[0.0, \"#0d0887\"], [0.1111111111111111, \"#46039f\"], [0.2222222222222222, \"#7201a8\"], [0.3333333333333333, \"#9c179e\"], [0.4444444444444444, \"#bd3786\"], [0.5555555555555556, \"#d8576b\"], [0.6666666666666666, \"#ed7953\"], [0.7777777777777778, \"#fb9f3a\"], [0.8888888888888888, \"#fdca26\"], [1.0, \"#f0f921\"]], \"sequentialminus\": [[0.0, \"#0d0887\"], [0.1111111111111111, \"#46039f\"], [0.2222222222222222, \"#7201a8\"], [0.3333333333333333, \"#9c179e\"], [0.4444444444444444, \"#bd3786\"], [0.5555555555555556, \"#d8576b\"], [0.6666666666666666, \"#ed7953\"], [0.7777777777777778, \"#fb9f3a\"], [0.8888888888888888, \"#fdca26\"], [1.0, \"#f0f921\"]]}, \"colorway\": [\"#636efa\", \"#EF553B\", \"#00cc96\", \"#ab63fa\", \"#FFA15A\", \"#19d3f3\", \"#FF6692\", \"#B6E880\", \"#FF97FF\", \"#FECB52\"], \"font\": {\"color\": \"#2a3f5f\"}, \"geo\": {\"bgcolor\": \"white\", \"lakecolor\": \"white\", \"landcolor\": \"#E5ECF6\", \"showlakes\": true, \"showland\": true, \"subunitcolor\": \"white\"}, \"hoverlabel\": {\"align\": \"left\"}, \"hovermode\": \"closest\", \"mapbox\": {\"style\": \"light\"}, \"paper_bgcolor\": \"white\", \"plot_bgcolor\": \"#E5ECF6\", \"polar\": {\"angularaxis\": {\"gridcolor\": \"white\", \"linecolor\": \"white\", \"ticks\": \"\"}, \"bgcolor\": \"#E5ECF6\", \"radialaxis\": {\"gridcolor\": \"white\", \"linecolor\": \"white\", \"ticks\": \"\"}}, \"scene\": {\"xaxis\": {\"backgroundcolor\": \"#E5ECF6\", \"gridcolor\": \"white\", \"gridwidth\": 2, \"linecolor\": \"white\", \"showbackground\": true, \"ticks\": \"\", \"zerolinecolor\": \"white\"}, \"yaxis\": {\"backgroundcolor\": \"#E5ECF6\", \"gridcolor\": \"white\", \"gridwidth\": 2, \"linecolor\": \"white\", \"showbackground\": true, \"ticks\": \"\", \"zerolinecolor\": \"white\"}, \"zaxis\": {\"backgroundcolor\": \"#E5ECF6\", \"gridcolor\": \"white\", \"gridwidth\": 2, \"linecolor\": \"white\", \"showbackground\": true, \"ticks\": \"\", \"zerolinecolor\": \"white\"}}, \"shapedefaults\": {\"line\": {\"color\": \"#2a3f5f\"}}, \"ternary\": {\"aaxis\": {\"gridcolor\": \"white\", \"linecolor\": \"white\", \"ticks\": \"\"}, \"baxis\": {\"gridcolor\": \"white\", \"linecolor\": \"white\", \"ticks\": \"\"}, \"bgcolor\": \"#E5ECF6\", \"caxis\": {\"gridcolor\": \"white\", \"linecolor\": \"white\", \"ticks\": \"\"}}, \"title\": {\"x\": 0.05}, \"xaxis\": {\"automargin\": true, \"gridcolor\": \"white\", \"linecolor\": \"white\", \"ticks\": \"\", \"title\": {\"standoff\": 15}, \"zerolinecolor\": \"white\", \"zerolinewidth\": 2}, \"yaxis\": {\"automargin\": true, \"gridcolor\": \"white\", \"linecolor\": \"white\", \"ticks\": \"\", \"title\": {\"standoff\": 15}, \"zerolinecolor\": \"white\", \"zerolinewidth\": 2}}}, \"title\": {\"text\": \"Average Question Ratings by Cycle for students who received a low average rating in cycle 2\"}, \"xaxis\": {\"dtick\": 1, \"tick0\": 0, \"title\": {\"text\": \"Question Average Rating\"}}, \"yaxis\": {\"title\": {\"text\": \"Percentage\"}}},\n",
              "                        {\"responsive\": true}\n",
              "                    ).then(function(){\n",
              "                            \n",
              "var gd = document.getElementById('b4e402d4-5e55-42a5-8fdd-43912e2a0963');\n",
              "var x = new MutationObserver(function (mutations, observer) {{\n",
              "        var display = window.getComputedStyle(gd).display;\n",
              "        if (!display || display === 'none') {{\n",
              "            console.log([gd, 'removed!']);\n",
              "            Plotly.purge(gd);\n",
              "            observer.disconnect();\n",
              "        }}\n",
              "}});\n",
              "\n",
              "// Listen for the removal of the full notebook cells\n",
              "var notebookContainer = gd.closest('#notebook-container');\n",
              "if (notebookContainer) {{\n",
              "    x.observe(notebookContainer, {childList: true});\n",
              "}}\n",
              "\n",
              "// Listen for the clearing of the current output cell\n",
              "var outputEl = gd.closest('.output');\n",
              "if (outputEl) {{\n",
              "    x.observe(outputEl, {childList: true});\n",
              "}}\n",
              "\n",
              "                        })\n",
              "                };\n",
              "                \n",
              "            </script>\n",
              "        </div>\n",
              "</body>\n",
              "</html>"
            ]
          },
          "metadata": {
            "tags": []
          }
        }
      ]
    },
    {
      "cell_type": "markdown",
      "metadata": {
        "id": "P9Z7z3_50O8q"
      },
      "source": [
        "As output above above:\n",
        "- Low performing users in cycle 2 had their average ratings increased by 1.97\n",
        "- Low performing users in cycle 2 saw their cycle 4 ratings increase by 185.77%\n",
        "\n",
        "This shows that the low performing students saw substantial increases in their avg_rating for their questions in cycle 4. It is likely that this is due to group participation, but there may be other confounding factors.\n",
        "\n",
        "- Lorimer, Start: 12-11-2020, End: 15-11-2020"
      ]
    },
    {
      "cell_type": "markdown",
      "metadata": {
        "id": "WbRLd1ft0O8s"
      },
      "source": [
        "**Student performance conclusions:**\n",
        "\n",
        "We can draw some main conclusions from our analysis of student performance.\n",
        "- In cycle 2 when averaging all students, they performed better in cycle 4\n",
        "- If we only consider students with an avg_rating less than 1.5, they saw much more significant changes than the average students\n",
        "- It is possible that this is due to group involvement, although it is too difficult to say for certain due to multiple confounding factors (some which are not even represented in the data such as external factors affecting individual students)\n",
        "\n",
        "- Lorimer, Start: 12-11-2020, End: 15-11-2020"
      ]
    },
    {
      "cell_type": "markdown",
      "metadata": {
        "id": "Rsu58sUX0O8s"
      },
      "source": [
        "### 5.1.2 Student Motivation\n",
        "This subsection will examine if the question submission date and marks students received for their self-authored questions from cycle 2 have improved in cycle 4. As in the previous subsection, cycle 4 saw students put into groups so if there is a strong improvement it could be attributed to group involvement.\n",
        "\n",
        "- Lorimer, Start: 12-11-2020, End: 15-11-2020"
      ]
    },
    {
      "cell_type": "markdown",
      "metadata": {
        "id": "dUhaHxH-0O8t"
      },
      "source": [
        "**Merging data and calculating date column:**\n",
        "\n",
        "The first thing we need to do is to merge the questions data with the courses data so that we have access to the due date for student questions (this varies by the course the student is a part of). After merging the two dataframes together, we will create a new column that calculates the number of days from the start of the cycle that a question was posted. This should give an indication of how motivated a student is (smaller value is better).\n",
        "\n",
        "- Lorimer, Start: 12-11-2020, End: 15-11-2020"
      ]
    },
    {
      "cell_type": "code",
      "metadata": {
        "id": "SSRdN7oA0O8u",
        "colab": {
          "base_uri": "https://localhost:8080/",
          "height": 200
        },
        "outputId": "a2b58052-4a6e-4fdc-fb5e-1a68f122bd6a"
      },
      "source": [
        "# Merge data\n",
        "c2courses_deadline = c2courses_cl.merge(c2questions_cl, on='course_id')\n",
        "c4courses_deadline = c4courses_cl.merge(c4questions_cl, on='course_id')\n",
        "\n",
        "# Create a subset dataframe with the columns we need and convert date to correct type\n",
        "c2courses_delta = c2courses_deadline[['cycle_start', 'question_time', 'user_id']].astype({\"question_time\" : \"datetime64\", \"cycle_start\" : \"datetime64\"})\n",
        "c4courses_delta = c4courses_deadline[['cycle_start', 'question_time', 'user_id']].astype({\"question_time\" : \"datetime64\", \"cycle_start\" : \"datetime64\"})\n",
        "\n",
        "c2courses_delta['days_from_start'] = (c2courses_delta['question_time'] - c2courses_delta['cycle_start']).dt.days\n",
        "c4courses_delta['days_from_start'] = (c4courses_delta['question_time'] - c4courses_delta['cycle_start']).dt.days\n",
        "\n",
        "c2courses_delta.head()\n",
        "\n",
        "# Lorimer, Start: 12-11-2020, End: 15-11-2020"
      ],
      "execution_count": 20,
      "outputs": [
        {
          "output_type": "execute_result",
          "data": {
            "text/html": [
              "<div>\n",
              "<style scoped>\n",
              "    .dataframe tbody tr th:only-of-type {\n",
              "        vertical-align: middle;\n",
              "    }\n",
              "\n",
              "    .dataframe tbody tr th {\n",
              "        vertical-align: top;\n",
              "    }\n",
              "\n",
              "    .dataframe thead th {\n",
              "        text-align: right;\n",
              "    }\n",
              "</style>\n",
              "<table border=\"1\" class=\"dataframe\">\n",
              "  <thead>\n",
              "    <tr style=\"text-align: right;\">\n",
              "      <th></th>\n",
              "      <th>cycle_start</th>\n",
              "      <th>question_time</th>\n",
              "      <th>user_id</th>\n",
              "      <th>days_from_start</th>\n",
              "    </tr>\n",
              "  </thead>\n",
              "  <tbody>\n",
              "    <tr>\n",
              "      <th>0</th>\n",
              "      <td>2020-03-23</td>\n",
              "      <td>2020-03-26 19:10:48</td>\n",
              "      <td>636022</td>\n",
              "      <td>3</td>\n",
              "    </tr>\n",
              "    <tr>\n",
              "      <th>1</th>\n",
              "      <td>2020-03-23</td>\n",
              "      <td>2020-03-26 20:54:26</td>\n",
              "      <td>636011</td>\n",
              "      <td>3</td>\n",
              "    </tr>\n",
              "    <tr>\n",
              "      <th>2</th>\n",
              "      <td>2020-03-23</td>\n",
              "      <td>2020-03-26 21:46:58</td>\n",
              "      <td>635990</td>\n",
              "      <td>3</td>\n",
              "    </tr>\n",
              "    <tr>\n",
              "      <th>3</th>\n",
              "      <td>2020-03-23</td>\n",
              "      <td>2020-03-27 01:07:25</td>\n",
              "      <td>636008</td>\n",
              "      <td>4</td>\n",
              "    </tr>\n",
              "    <tr>\n",
              "      <th>4</th>\n",
              "      <td>2020-03-23</td>\n",
              "      <td>2020-03-27 01:25:01</td>\n",
              "      <td>636014</td>\n",
              "      <td>4</td>\n",
              "    </tr>\n",
              "  </tbody>\n",
              "</table>\n",
              "</div>"
            ],
            "text/plain": [
              "  cycle_start       question_time  user_id  days_from_start\n",
              "0  2020-03-23 2020-03-26 19:10:48   636022                3\n",
              "1  2020-03-23 2020-03-26 20:54:26   636011                3\n",
              "2  2020-03-23 2020-03-26 21:46:58   635990                3\n",
              "3  2020-03-23 2020-03-27 01:07:25   636008                4\n",
              "4  2020-03-23 2020-03-27 01:25:01   636014                4"
            ]
          },
          "metadata": {
            "tags": []
          },
          "execution_count": 20
        }
      ]
    },
    {
      "cell_type": "markdown",
      "metadata": {
        "id": "7L7_bP8X0O8w"
      },
      "source": [
        "Now we have the number of days between the start of the cycle and when the question was answered for each question that was asked.\n",
        "\n",
        "But wait! What if a student created more than one question like below?\n",
        "\n",
        "- Lorimer, Start: 12-11-2020, End: 15-11-2020"
      ]
    },
    {
      "cell_type": "code",
      "metadata": {
        "id": "nGEX5sBt0O8x",
        "colab": {
          "base_uri": "https://localhost:8080/",
          "height": 210
        },
        "outputId": "f84fe3b0-3021-49f0-dcfe-5ff4b4ae0488"
      },
      "source": [
        "c2courses_deadline[c2courses_deadline['user_id'] == 637281]"
      ],
      "execution_count": 21,
      "outputs": [
        {
          "output_type": "execute_result",
          "data": {
            "text/html": [
              "<div>\n",
              "<style scoped>\n",
              "    .dataframe tbody tr th:only-of-type {\n",
              "        vertical-align: middle;\n",
              "    }\n",
              "\n",
              "    .dataframe tbody tr th {\n",
              "        vertical-align: top;\n",
              "    }\n",
              "\n",
              "    .dataframe thead th {\n",
              "        text-align: right;\n",
              "    }\n",
              "</style>\n",
              "<table border=\"1\" class=\"dataframe\">\n",
              "  <thead>\n",
              "    <tr style=\"text-align: right;\">\n",
              "      <th></th>\n",
              "      <th>course_id</th>\n",
              "      <th>cycle_start</th>\n",
              "      <th>comment_due</th>\n",
              "      <th>question_due</th>\n",
              "      <th>cycle_x</th>\n",
              "      <th>question_id</th>\n",
              "      <th>question_time</th>\n",
              "      <th>user_id</th>\n",
              "      <th>avg_rating</th>\n",
              "      <th>total_responses</th>\n",
              "      <th>total_ratings</th>\n",
              "      <th>avg_difficulty</th>\n",
              "      <th>total_comments</th>\n",
              "      <th>deleted</th>\n",
              "      <th>answer</th>\n",
              "      <th>cycle_y</th>\n",
              "    </tr>\n",
              "  </thead>\n",
              "  <tbody>\n",
              "    <tr>\n",
              "      <th>420</th>\n",
              "      <td>21143</td>\n",
              "      <td>2020-03-26</td>\n",
              "      <td>2020-04-08 01:00:10</td>\n",
              "      <td>2020-04-02 01:00:10</td>\n",
              "      <td>2</td>\n",
              "      <td>4401430</td>\n",
              "      <td>2020-03-30 14:46:26</td>\n",
              "      <td>637281</td>\n",
              "      <td>1.5</td>\n",
              "      <td>3</td>\n",
              "      <td>2</td>\n",
              "      <td>0.0</td>\n",
              "      <td>4</td>\n",
              "      <td>1</td>\n",
              "      <td>A</td>\n",
              "      <td>2</td>\n",
              "    </tr>\n",
              "    <tr>\n",
              "      <th>537</th>\n",
              "      <td>21143</td>\n",
              "      <td>2020-03-26</td>\n",
              "      <td>2020-04-08 01:00:10</td>\n",
              "      <td>2020-04-02 01:00:10</td>\n",
              "      <td>2</td>\n",
              "      <td>4427475</td>\n",
              "      <td>2020-04-10 12:14:21</td>\n",
              "      <td>637281</td>\n",
              "      <td>0.0</td>\n",
              "      <td>0</td>\n",
              "      <td>0</td>\n",
              "      <td>0.0</td>\n",
              "      <td>0</td>\n",
              "      <td>2</td>\n",
              "      <td>A</td>\n",
              "      <td>2</td>\n",
              "    </tr>\n",
              "    <tr>\n",
              "      <th>538</th>\n",
              "      <td>21143</td>\n",
              "      <td>2020-03-26</td>\n",
              "      <td>2020-04-08 01:00:10</td>\n",
              "      <td>2020-04-02 01:00:10</td>\n",
              "      <td>2</td>\n",
              "      <td>4427479</td>\n",
              "      <td>2020-04-10 12:14:21</td>\n",
              "      <td>637281</td>\n",
              "      <td>0.0</td>\n",
              "      <td>0</td>\n",
              "      <td>0</td>\n",
              "      <td>0.0</td>\n",
              "      <td>0</td>\n",
              "      <td>0</td>\n",
              "      <td>A</td>\n",
              "      <td>2</td>\n",
              "    </tr>\n",
              "  </tbody>\n",
              "</table>\n",
              "</div>"
            ],
            "text/plain": [
              "     course_id cycle_start         comment_due  ... deleted    answer  cycle_y\n",
              "420      21143  2020-03-26 2020-04-08 01:00:10  ...       1   A              2\n",
              "537      21143  2020-03-26 2020-04-08 01:00:10  ...       2   A              2\n",
              "538      21143  2020-03-26 2020-04-08 01:00:10  ...       0   A              2\n",
              "\n",
              "[3 rows x 16 columns]"
            ]
          },
          "metadata": {
            "tags": []
          },
          "execution_count": 21
        }
      ]
    },
    {
      "cell_type": "markdown",
      "metadata": {
        "id": "BwizHwPf0O8z"
      },
      "source": [
        "We should only consider their first question submission so that those students who create more than one question are not treated the same as students who did a single question submission that was late. To counteract this, we will sort the questions by question_time and select the first occurance of each user_id. This will build a dataframe of first questions.\n",
        "\n",
        "- Lorimer, Start: 12-11-2020, End: 15-11-2020"
      ]
    },
    {
      "cell_type": "code",
      "metadata": {
        "id": "jcyOyEzl0O8z",
        "colab": {
          "base_uri": "https://localhost:8080/",
          "height": 114
        },
        "outputId": "e06d7b35-91fe-4be3-e861-61c6f0b324d8"
      },
      "source": [
        "print(\"We have {} questions BEFORE removing questions from the same user.\".format(len(c2courses_delta) + len(c4courses_delta)))\n",
        "# Cycle 2\n",
        "c2courses_delta_cl = c2courses_delta.sort_values('question_time') # Sort by question_time\n",
        "c2courses_delta_cl['first_question'] = c2courses_delta_cl.groupby('user_id')['question_time'].transform('first')           # Add a new column 'first_question' to indicate what time a student's first question was\n",
        "c2courses_delta_cl = c2courses_delta_cl[c2courses_delta_cl['question_time'] == c2courses_delta_cl['first_question']] # Remove any questions after the first from our dataframe and drop the intermediate first_question column\n",
        "c2courses_delta_cl = c2courses_delta_cl.drop('first_question', axis=1) # Drop the intermediate first_question column we used to create this dataframe\n",
        "c2courses_delta_cl = c2courses_delta_cl.drop_duplicates()  # Drop any duplicate rows that may exist so we don't doublecount\n",
        "\n",
        "# Cycle 4\n",
        "c4courses_delta_cl = c4courses_delta.sort_values('question_time')\n",
        "c4courses_delta_cl['first_question'] = c4courses_delta_cl.groupby('user_id')['question_time'].transform('first')\n",
        "c4courses_delta_cl = c4courses_delta_cl[c4courses_delta_cl['question_time'] == c4courses_delta_cl['first_question']]\n",
        "c4courses_delta_cl = c4courses_delta_cl.drop('first_question', axis=1)\n",
        "c4courses_delta_cl = c4courses_delta_cl.drop_duplicates()\n",
        "\n",
        "print(\"We have {} questions AFTER removing questions from the same.\".format(len(c2courses_delta_cl) + len(c4courses_delta_cl)))\n",
        "display(c2courses_delta_cl[c2courses_delta_cl['user_id'] == 637281]) # Test it worked using the same user_id that had mutliple questions previosuly\n",
        "\n",
        "# Lorimer, Start: 12-11-2020, End: 15-11-2020"
      ],
      "execution_count": 22,
      "outputs": [
        {
          "output_type": "stream",
          "text": [
            "We have 1075 questions BEFORE removing questions from the same user.\n",
            "We have 582 questions AFTER removing questions from the same.\n"
          ],
          "name": "stdout"
        },
        {
          "output_type": "display_data",
          "data": {
            "text/html": [
              "<div>\n",
              "<style scoped>\n",
              "    .dataframe tbody tr th:only-of-type {\n",
              "        vertical-align: middle;\n",
              "    }\n",
              "\n",
              "    .dataframe tbody tr th {\n",
              "        vertical-align: top;\n",
              "    }\n",
              "\n",
              "    .dataframe thead th {\n",
              "        text-align: right;\n",
              "    }\n",
              "</style>\n",
              "<table border=\"1\" class=\"dataframe\">\n",
              "  <thead>\n",
              "    <tr style=\"text-align: right;\">\n",
              "      <th></th>\n",
              "      <th>cycle_start</th>\n",
              "      <th>question_time</th>\n",
              "      <th>user_id</th>\n",
              "      <th>days_from_start</th>\n",
              "    </tr>\n",
              "  </thead>\n",
              "  <tbody>\n",
              "    <tr>\n",
              "      <th>420</th>\n",
              "      <td>2020-03-26</td>\n",
              "      <td>2020-03-30 14:46:26</td>\n",
              "      <td>637281</td>\n",
              "      <td>4</td>\n",
              "    </tr>\n",
              "  </tbody>\n",
              "</table>\n",
              "</div>"
            ],
            "text/plain": [
              "    cycle_start       question_time  user_id  days_from_start\n",
              "420  2020-03-26 2020-03-30 14:46:26   637281                4"
            ]
          },
          "metadata": {
            "tags": []
          }
        }
      ]
    },
    {
      "cell_type": "markdown",
      "metadata": {
        "id": "L093FhtE0O82"
      },
      "source": [
        "Now that we've ensured that only each student's FIRST question is going to be used to calculate their motivation levels, we can proceed with our analysis and investigate the change in question delay between the two\n",
        "\n",
        "- Lorimer, Start: 12-11-2020, End: 15-11-2020"
      ]
    },
    {
      "cell_type": "markdown",
      "metadata": {
        "id": "Cpj8LUIr0O82"
      },
      "source": [
        "**Merging the two cycles into a single dataframe**\n",
        "\n",
        "The next step is to merge the two cycles' data into a singel data frame so we can compare the question delay of each student's first question from cycle 2 to cycle 4.\n",
        "\n",
        "- Lorimer, Start: 12-11-2020, End: 15-11-2020"
      ]
    },
    {
      "cell_type": "code",
      "metadata": {
        "id": "bkafZC8_0O82",
        "colab": {
          "base_uri": "https://localhost:8080/",
          "height": 200
        },
        "outputId": "751874ac-84a1-4bdb-849d-5f13d341f88e"
      },
      "source": [
        "days_by_user = c2courses_delta_cl.merge(c4courses_delta_cl, on='user_id', how='inner', suffixes=(\"_c2\", '_c4'))[['user_id', 'days_from_start_c2', 'days_from_start_c4']]\n",
        "days_by_user.head()\n",
        "\n",
        "# Lorimer, Start: 12-11-2020, End: 15-11-2020"
      ],
      "execution_count": 23,
      "outputs": [
        {
          "output_type": "execute_result",
          "data": {
            "text/html": [
              "<div>\n",
              "<style scoped>\n",
              "    .dataframe tbody tr th:only-of-type {\n",
              "        vertical-align: middle;\n",
              "    }\n",
              "\n",
              "    .dataframe tbody tr th {\n",
              "        vertical-align: top;\n",
              "    }\n",
              "\n",
              "    .dataframe thead th {\n",
              "        text-align: right;\n",
              "    }\n",
              "</style>\n",
              "<table border=\"1\" class=\"dataframe\">\n",
              "  <thead>\n",
              "    <tr style=\"text-align: right;\">\n",
              "      <th></th>\n",
              "      <th>user_id</th>\n",
              "      <th>days_from_start_c2</th>\n",
              "      <th>days_from_start_c4</th>\n",
              "    </tr>\n",
              "  </thead>\n",
              "  <tbody>\n",
              "    <tr>\n",
              "      <th>0</th>\n",
              "      <td>578527</td>\n",
              "      <td>0</td>\n",
              "      <td>10</td>\n",
              "    </tr>\n",
              "    <tr>\n",
              "      <th>1</th>\n",
              "      <td>636808</td>\n",
              "      <td>0</td>\n",
              "      <td>0</td>\n",
              "    </tr>\n",
              "    <tr>\n",
              "      <th>2</th>\n",
              "      <td>636544</td>\n",
              "      <td>0</td>\n",
              "      <td>0</td>\n",
              "    </tr>\n",
              "    <tr>\n",
              "      <th>3</th>\n",
              "      <td>636921</td>\n",
              "      <td>0</td>\n",
              "      <td>6</td>\n",
              "    </tr>\n",
              "    <tr>\n",
              "      <th>4</th>\n",
              "      <td>636843</td>\n",
              "      <td>0</td>\n",
              "      <td>9</td>\n",
              "    </tr>\n",
              "  </tbody>\n",
              "</table>\n",
              "</div>"
            ],
            "text/plain": [
              "   user_id  days_from_start_c2  days_from_start_c4\n",
              "0   578527                   0                  10\n",
              "1   636808                   0                   0\n",
              "2   636544                   0                   0\n",
              "3   636921                   0                   6\n",
              "4   636843                   0                   9"
            ]
          },
          "metadata": {
            "tags": []
          },
          "execution_count": 23
        }
      ]
    },
    {
      "cell_type": "markdown",
      "metadata": {
        "id": "d6PVS4am0O87"
      },
      "source": [
        "With this new dataframe, we will calculate two new columns to measure the differences between cycle 2 and cycle 4.\n",
        "\n",
        "Similarly to before, these two columns will be:\n",
        "- The difference between cycle 4 delay and cycle 2 delay\n",
        "- The % change between cycle 4 delay and cycle 2 delay\n",
        "\n",
        "- Lorimer, Start: 12-11-2020, End: 15-11-2020"
      ]
    },
    {
      "cell_type": "code",
      "metadata": {
        "id": "M7wBNpkm0O89",
        "colab": {
          "base_uri": "https://localhost:8080/",
          "height": 235
        },
        "outputId": "c330beda-f083-4386-c25e-1968ab60f3b1"
      },
      "source": [
        "days_by_user['change'] = days_by_user['days_from_start_c4'] - days_by_user['days_from_start_c2']                      # Difference between cycle 4 and cycle 2\n",
        "days_by_user['percent_change'] = (100 * days_by_user['change'] / days_by_user['days_from_start_c2']).round(2)         # Percentage change between cycle 4 and cycle 2 - rounded to 2dp as calculated from columns with 2dp\n",
        "\n",
        "# Calculate the total percent_change - we need to each avg_rating column to do this!\n",
        "total_days_c2 = days_by_user['days_from_start_c2'].sum()\n",
        "total_days_c4 = days_by_user['days_from_start_c4'].sum()\n",
        "total_days_change = total_days_c4 - total_days_c2\n",
        "total_days_percent_change = 100*total_days_change / total_days_c2\n",
        " \n",
        "# Print out summary\n",
        "display(days_by_user.sort_values(by='change').head())\n",
        "print(\"The average change in delay across ALL users is {:.2f} days.\".format(days_by_user['change'].mean()))\n",
        "print(\"The average percentage change in delays across ALL users is {:.2f}%.\".format(total_days_percent_change))\n",
        "\n",
        "# Lorimer, Start: 12-11-2020, End: 15-11-2020"
      ],
      "execution_count": 24,
      "outputs": [
        {
          "output_type": "display_data",
          "data": {
            "text/html": [
              "<div>\n",
              "<style scoped>\n",
              "    .dataframe tbody tr th:only-of-type {\n",
              "        vertical-align: middle;\n",
              "    }\n",
              "\n",
              "    .dataframe tbody tr th {\n",
              "        vertical-align: top;\n",
              "    }\n",
              "\n",
              "    .dataframe thead th {\n",
              "        text-align: right;\n",
              "    }\n",
              "</style>\n",
              "<table border=\"1\" class=\"dataframe\">\n",
              "  <thead>\n",
              "    <tr style=\"text-align: right;\">\n",
              "      <th></th>\n",
              "      <th>user_id</th>\n",
              "      <th>days_from_start_c2</th>\n",
              "      <th>days_from_start_c4</th>\n",
              "      <th>change</th>\n",
              "      <th>percent_change</th>\n",
              "    </tr>\n",
              "  </thead>\n",
              "  <tbody>\n",
              "    <tr>\n",
              "      <th>257</th>\n",
              "      <td>636414</td>\n",
              "      <td>12</td>\n",
              "      <td>1</td>\n",
              "      <td>-11</td>\n",
              "      <td>-91.67</td>\n",
              "    </tr>\n",
              "    <tr>\n",
              "      <th>215</th>\n",
              "      <td>636029</td>\n",
              "      <td>9</td>\n",
              "      <td>0</td>\n",
              "      <td>-9</td>\n",
              "      <td>-100.00</td>\n",
              "    </tr>\n",
              "    <tr>\n",
              "      <th>262</th>\n",
              "      <td>636734</td>\n",
              "      <td>12</td>\n",
              "      <td>5</td>\n",
              "      <td>-7</td>\n",
              "      <td>-58.33</td>\n",
              "    </tr>\n",
              "    <tr>\n",
              "      <th>261</th>\n",
              "      <td>636369</td>\n",
              "      <td>13</td>\n",
              "      <td>6</td>\n",
              "      <td>-7</td>\n",
              "      <td>-53.85</td>\n",
              "    </tr>\n",
              "    <tr>\n",
              "      <th>250</th>\n",
              "      <td>636420</td>\n",
              "      <td>10</td>\n",
              "      <td>3</td>\n",
              "      <td>-7</td>\n",
              "      <td>-70.00</td>\n",
              "    </tr>\n",
              "  </tbody>\n",
              "</table>\n",
              "</div>"
            ],
            "text/plain": [
              "     user_id  days_from_start_c2  days_from_start_c4  change  percent_change\n",
              "257   636414                  12                   1     -11          -91.67\n",
              "215   636029                   9                   0      -9         -100.00\n",
              "262   636734                  12                   5      -7          -58.33\n",
              "261   636369                  13                   6      -7          -53.85\n",
              "250   636420                  10                   3      -7          -70.00"
            ]
          },
          "metadata": {
            "tags": []
          }
        },
        {
          "output_type": "stream",
          "text": [
            "The average change in delay across ALL users is -0.34 days.\n",
            "The average percentage change in delays across ALL users is -6.11%.\n"
          ],
          "name": "stdout"
        }
      ]
    },
    {
      "cell_type": "code",
      "metadata": {
        "id": "yUtAJ88RefYJ",
        "colab": {
          "base_uri": "https://localhost:8080/",
          "height": 542
        },
        "outputId": "53bd3854-a119-4725-87fd-a69fae681f12"
      },
      "source": [
        "fig = go.Figure()\n",
        "fig.add_trace(go.Histogram(x=days_by_user['days_from_start_c2'], histnorm='percent', name='Cycle 2'))\n",
        "fig.add_trace(go.Histogram(x=days_by_user['days_from_start_c4'], histnorm='percent', name=\"Cycle 4\"))\n",
        "fig.update_xaxes(title_text='Qusetion Average Rating', tick0=0, dtick=1)\n",
        "fig.update_yaxes(title_text='Percentage')\n",
        "fig.update_layout(barmode='overlay', title_text = \"Days after cycle start date that a question was submitted\")\n",
        "fig.update_traces(opacity=0.95)\n",
        "fig.show()\n",
        "\n",
        "# Lorimer, Tanudji, Jones, Start: 12-11-2020, End: 15-11-2020"
      ],
      "execution_count": 25,
      "outputs": [
        {
          "output_type": "display_data",
          "data": {
            "text/html": [
              "<html>\n",
              "<head><meta charset=\"utf-8\" /></head>\n",
              "<body>\n",
              "    <div>\n",
              "            <script src=\"https://cdnjs.cloudflare.com/ajax/libs/mathjax/2.7.5/MathJax.js?config=TeX-AMS-MML_SVG\"></script><script type=\"text/javascript\">if (window.MathJax) {MathJax.Hub.Config({SVG: {font: \"STIX-Web\"}});}</script>\n",
              "                <script type=\"text/javascript\">window.PlotlyConfig = {MathJaxConfig: 'local'};</script>\n",
              "        <script src=\"https://cdn.plot.ly/plotly-latest.min.js\"></script>    \n",
              "            <div id=\"501ef9d8-011c-4dac-8513-d6bfbb309565\" class=\"plotly-graph-div\" style=\"height:525px; width:100%;\"></div>\n",
              "            <script type=\"text/javascript\">\n",
              "                \n",
              "                    window.PLOTLYENV=window.PLOTLYENV || {};\n",
              "                    \n",
              "                if (document.getElementById(\"501ef9d8-011c-4dac-8513-d6bfbb309565\")) {\n",
              "                    Plotly.newPlot(\n",
              "                        '501ef9d8-011c-4dac-8513-d6bfbb309565',\n",
              "                        [{\"histnorm\": \"percent\", \"name\": \"Cycle 2\", \"opacity\": 0.95, \"type\": \"histogram\", \"x\": [0, 0, 0, 0, 0, 0, 0, 0, 0, 1, 2, 1, 2, 2, 0, 2, 3, 2, 3, 3, 4, 4, 4, 2, 4, 4, 2, 3, 3, 4, 3, 3, 3, 4, 4, 4, 3, 4, 4, 4, 3, 5, 5, 4, 5, 3, 4, 4, 3, 5, 3, 3, 4, 3, 3, 3, 3, 4, 5, 3, 3, 5, 4, 5, 5, 5, 5, 4, 4, 6, 6, 6, 4, 5, 6, 4, 6, 6, 3, 6, 6, 5, 6, 6, 6, 4, 6, 6, 5, 5, 5, 5, 5, 4, 5, 6, 6, 5, 3, 5, 3, 6, 5, 4, 6, 6, 5, 3, 5, 6, 7, 6, 5, 5, 6, 4, 5, 4, 6, 6, 4, 5, 4, 6, 5, 5, 5, 6, 6, 4, 5, 5, 5, 6, 6, 6, 6, 6, 5, 6, 6, 6, 5, 5, 6, 6, 4, 6, 8, 7, 7, 7, 6, 5, 5, 5, 6, 7, 6, 6, 8, 5, 6, 7, 5, 7, 6, 6, 6, 7, 7, 5, 8, 7, 5, 5, 6, 5, 5, 6, 6, 6, 5, 5, 5, 6, 6, 5, 8, 6, 5, 6, 6, 7, 6, 8, 6, 7, 6, 7, 6, 7, 7, 6, 7, 6, 6, 9, 9, 8, 6, 6, 6, 6, 6, 9, 6, 6, 6, 6, 6, 6, 6, 6, 6, 8, 6, 6, 6, 6, 6, 7, 7, 8, 7, 7, 7, 7, 7, 7, 7, 7, 10, 7, 7, 10, 7, 10, 8, 10, 10, 11, 12, 11, 11, 12, 11, 12, 13, 11, 12, 13, 12, 13, 13, 13, 12, 14]}, {\"histnorm\": \"percent\", \"name\": \"Cycle 4\", \"opacity\": 0.95, \"type\": \"histogram\", \"x\": [10, 0, 0, 6, 9, 7, 7, 3, 6, 6, 0, 5, 2, 6, 4, 4, 5, 6, 4, 0, 6, 4, 6, 5, 7, 4, 2, 1, 4, 5, 1, 5, 5, 3, 3, 3, 3, 8, 3, 4, 4, 4, 5, 0, 3, 3, 0, 4, 0, 3, 0, 14, 2, 3, 4, 3, 6, 5, 3, 10, 5, 4, 3, 4, 8, 4, 2, 6, 7, 8, 8, 4, 3, 0, 4, 5, 3, 3, 5, 4, 7, 4, 3, 7, 4, 4, 3, 3, 4, 4, 2, 2, 2, 4, 14, 2, 4, 5, 5, 13, 4, 4, 3, 5, 4, 7, 7, 13, 5, 4, 6, 3, 2, 4, 6, 3, 9, 6, 7, 4, 3, 6, 3, 3, 5, 1, 6, 5, 3, 6, 5, 5, 7, 2, 0, 4, 0, 4, 7, 7, 6, 8, 5, 6, 0, 2, 4, 0, 5, 9, 4, 11, 9, 6, 6, 4, 13, 7, 1, 2, 3, 4, 6, 4, 6, 8, 5, 7, 8, 1, 3, 1, 2, 7, 5, 5, 7, 5, 6, 4, 5, 5, 14, 4, 5, 8, 10, 5, 3, 1, 7, 6, 7, 11, 5, 7, 7, 3, 4, 5, 2, 6, 14, 6, 13, 5, 7, 7, 4, 5, 5, 6, 3, 3, 7, 0, 5, 8, 0, 7, 6, 6, 6, 9, 4, 4, 5, 10, 7, 6, 9, 9, 6, 10, 5, 6, 9, 4, 3, 7, 7, 7, 4, 7, 8, 7, 7, 9, 8, 11, 3, 8, 10, 10, 5, 7, 9, 1, 7, 7, 13, 6, 5, 7, 13, 13, 11, 10]}],\n",
              "                        {\"barmode\": \"overlay\", \"template\": {\"data\": {\"bar\": [{\"error_x\": {\"color\": \"#2a3f5f\"}, \"error_y\": {\"color\": \"#2a3f5f\"}, \"marker\": {\"line\": {\"color\": \"#E5ECF6\", \"width\": 0.5}}, \"type\": \"bar\"}], \"barpolar\": [{\"marker\": {\"line\": {\"color\": \"#E5ECF6\", \"width\": 0.5}}, \"type\": \"barpolar\"}], \"carpet\": [{\"aaxis\": {\"endlinecolor\": \"#2a3f5f\", \"gridcolor\": \"white\", \"linecolor\": \"white\", \"minorgridcolor\": \"white\", \"startlinecolor\": \"#2a3f5f\"}, \"baxis\": {\"endlinecolor\": \"#2a3f5f\", \"gridcolor\": \"white\", \"linecolor\": \"white\", \"minorgridcolor\": \"white\", \"startlinecolor\": \"#2a3f5f\"}, \"type\": \"carpet\"}], \"choropleth\": [{\"colorbar\": {\"outlinewidth\": 0, \"ticks\": \"\"}, \"type\": \"choropleth\"}], \"contour\": [{\"colorbar\": {\"outlinewidth\": 0, \"ticks\": \"\"}, \"colorscale\": [[0.0, \"#0d0887\"], [0.1111111111111111, \"#46039f\"], [0.2222222222222222, \"#7201a8\"], [0.3333333333333333, \"#9c179e\"], [0.4444444444444444, \"#bd3786\"], [0.5555555555555556, \"#d8576b\"], [0.6666666666666666, \"#ed7953\"], [0.7777777777777778, \"#fb9f3a\"], [0.8888888888888888, \"#fdca26\"], [1.0, \"#f0f921\"]], \"type\": \"contour\"}], \"contourcarpet\": [{\"colorbar\": {\"outlinewidth\": 0, \"ticks\": \"\"}, \"type\": \"contourcarpet\"}], \"heatmap\": [{\"colorbar\": {\"outlinewidth\": 0, \"ticks\": \"\"}, \"colorscale\": [[0.0, \"#0d0887\"], [0.1111111111111111, \"#46039f\"], [0.2222222222222222, \"#7201a8\"], [0.3333333333333333, \"#9c179e\"], [0.4444444444444444, \"#bd3786\"], [0.5555555555555556, \"#d8576b\"], [0.6666666666666666, \"#ed7953\"], [0.7777777777777778, \"#fb9f3a\"], [0.8888888888888888, \"#fdca26\"], [1.0, \"#f0f921\"]], \"type\": \"heatmap\"}], \"heatmapgl\": [{\"colorbar\": {\"outlinewidth\": 0, \"ticks\": \"\"}, \"colorscale\": [[0.0, \"#0d0887\"], [0.1111111111111111, \"#46039f\"], [0.2222222222222222, \"#7201a8\"], [0.3333333333333333, \"#9c179e\"], [0.4444444444444444, \"#bd3786\"], [0.5555555555555556, \"#d8576b\"], [0.6666666666666666, \"#ed7953\"], [0.7777777777777778, \"#fb9f3a\"], [0.8888888888888888, \"#fdca26\"], [1.0, \"#f0f921\"]], \"type\": \"heatmapgl\"}], \"histogram\": [{\"marker\": {\"colorbar\": {\"outlinewidth\": 0, \"ticks\": \"\"}}, \"type\": \"histogram\"}], \"histogram2d\": [{\"colorbar\": {\"outlinewidth\": 0, \"ticks\": \"\"}, \"colorscale\": [[0.0, \"#0d0887\"], [0.1111111111111111, \"#46039f\"], [0.2222222222222222, \"#7201a8\"], [0.3333333333333333, \"#9c179e\"], [0.4444444444444444, \"#bd3786\"], [0.5555555555555556, \"#d8576b\"], [0.6666666666666666, \"#ed7953\"], [0.7777777777777778, \"#fb9f3a\"], [0.8888888888888888, \"#fdca26\"], [1.0, \"#f0f921\"]], \"type\": \"histogram2d\"}], \"histogram2dcontour\": [{\"colorbar\": {\"outlinewidth\": 0, \"ticks\": \"\"}, \"colorscale\": [[0.0, \"#0d0887\"], [0.1111111111111111, \"#46039f\"], [0.2222222222222222, \"#7201a8\"], [0.3333333333333333, \"#9c179e\"], [0.4444444444444444, \"#bd3786\"], [0.5555555555555556, \"#d8576b\"], [0.6666666666666666, \"#ed7953\"], [0.7777777777777778, \"#fb9f3a\"], [0.8888888888888888, \"#fdca26\"], [1.0, \"#f0f921\"]], \"type\": \"histogram2dcontour\"}], \"mesh3d\": [{\"colorbar\": {\"outlinewidth\": 0, \"ticks\": \"\"}, \"type\": \"mesh3d\"}], \"parcoords\": [{\"line\": {\"colorbar\": {\"outlinewidth\": 0, \"ticks\": \"\"}}, \"type\": \"parcoords\"}], \"pie\": [{\"automargin\": true, \"type\": \"pie\"}], \"scatter\": [{\"marker\": {\"colorbar\": {\"outlinewidth\": 0, \"ticks\": \"\"}}, \"type\": \"scatter\"}], \"scatter3d\": [{\"line\": {\"colorbar\": {\"outlinewidth\": 0, \"ticks\": \"\"}}, \"marker\": {\"colorbar\": {\"outlinewidth\": 0, \"ticks\": \"\"}}, \"type\": \"scatter3d\"}], \"scattercarpet\": [{\"marker\": {\"colorbar\": {\"outlinewidth\": 0, \"ticks\": \"\"}}, \"type\": \"scattercarpet\"}], \"scattergeo\": [{\"marker\": {\"colorbar\": {\"outlinewidth\": 0, \"ticks\": \"\"}}, \"type\": \"scattergeo\"}], \"scattergl\": [{\"marker\": {\"colorbar\": {\"outlinewidth\": 0, \"ticks\": \"\"}}, \"type\": \"scattergl\"}], \"scattermapbox\": [{\"marker\": {\"colorbar\": {\"outlinewidth\": 0, \"ticks\": \"\"}}, \"type\": \"scattermapbox\"}], \"scatterpolar\": [{\"marker\": {\"colorbar\": {\"outlinewidth\": 0, \"ticks\": \"\"}}, \"type\": \"scatterpolar\"}], \"scatterpolargl\": [{\"marker\": {\"colorbar\": {\"outlinewidth\": 0, \"ticks\": \"\"}}, \"type\": \"scatterpolargl\"}], \"scatterternary\": [{\"marker\": {\"colorbar\": {\"outlinewidth\": 0, \"ticks\": \"\"}}, \"type\": \"scatterternary\"}], \"surface\": [{\"colorbar\": {\"outlinewidth\": 0, \"ticks\": \"\"}, \"colorscale\": [[0.0, \"#0d0887\"], [0.1111111111111111, \"#46039f\"], [0.2222222222222222, \"#7201a8\"], [0.3333333333333333, \"#9c179e\"], [0.4444444444444444, \"#bd3786\"], [0.5555555555555556, \"#d8576b\"], [0.6666666666666666, \"#ed7953\"], [0.7777777777777778, \"#fb9f3a\"], [0.8888888888888888, \"#fdca26\"], [1.0, \"#f0f921\"]], \"type\": \"surface\"}], \"table\": [{\"cells\": {\"fill\": {\"color\": \"#EBF0F8\"}, \"line\": {\"color\": \"white\"}}, \"header\": {\"fill\": {\"color\": \"#C8D4E3\"}, \"line\": {\"color\": \"white\"}}, \"type\": \"table\"}]}, \"layout\": {\"annotationdefaults\": {\"arrowcolor\": \"#2a3f5f\", \"arrowhead\": 0, \"arrowwidth\": 1}, \"coloraxis\": {\"colorbar\": {\"outlinewidth\": 0, \"ticks\": \"\"}}, \"colorscale\": {\"diverging\": [[0, \"#8e0152\"], [0.1, \"#c51b7d\"], [0.2, \"#de77ae\"], [0.3, \"#f1b6da\"], [0.4, \"#fde0ef\"], [0.5, \"#f7f7f7\"], [0.6, \"#e6f5d0\"], [0.7, \"#b8e186\"], [0.8, \"#7fbc41\"], [0.9, \"#4d9221\"], [1, \"#276419\"]], \"sequential\": [[0.0, \"#0d0887\"], [0.1111111111111111, \"#46039f\"], [0.2222222222222222, \"#7201a8\"], [0.3333333333333333, \"#9c179e\"], [0.4444444444444444, \"#bd3786\"], [0.5555555555555556, \"#d8576b\"], [0.6666666666666666, \"#ed7953\"], [0.7777777777777778, \"#fb9f3a\"], [0.8888888888888888, \"#fdca26\"], [1.0, \"#f0f921\"]], \"sequentialminus\": [[0.0, \"#0d0887\"], [0.1111111111111111, \"#46039f\"], [0.2222222222222222, \"#7201a8\"], [0.3333333333333333, \"#9c179e\"], [0.4444444444444444, \"#bd3786\"], [0.5555555555555556, \"#d8576b\"], [0.6666666666666666, \"#ed7953\"], [0.7777777777777778, \"#fb9f3a\"], [0.8888888888888888, \"#fdca26\"], [1.0, \"#f0f921\"]]}, \"colorway\": [\"#636efa\", \"#EF553B\", \"#00cc96\", \"#ab63fa\", \"#FFA15A\", \"#19d3f3\", \"#FF6692\", \"#B6E880\", \"#FF97FF\", \"#FECB52\"], \"font\": {\"color\": \"#2a3f5f\"}, \"geo\": {\"bgcolor\": \"white\", \"lakecolor\": \"white\", \"landcolor\": \"#E5ECF6\", \"showlakes\": true, \"showland\": true, \"subunitcolor\": \"white\"}, \"hoverlabel\": {\"align\": \"left\"}, \"hovermode\": \"closest\", \"mapbox\": {\"style\": \"light\"}, \"paper_bgcolor\": \"white\", \"plot_bgcolor\": \"#E5ECF6\", \"polar\": {\"angularaxis\": {\"gridcolor\": \"white\", \"linecolor\": \"white\", \"ticks\": \"\"}, \"bgcolor\": \"#E5ECF6\", \"radialaxis\": {\"gridcolor\": \"white\", \"linecolor\": \"white\", \"ticks\": \"\"}}, \"scene\": {\"xaxis\": {\"backgroundcolor\": \"#E5ECF6\", \"gridcolor\": \"white\", \"gridwidth\": 2, \"linecolor\": \"white\", \"showbackground\": true, \"ticks\": \"\", \"zerolinecolor\": \"white\"}, \"yaxis\": {\"backgroundcolor\": \"#E5ECF6\", \"gridcolor\": \"white\", \"gridwidth\": 2, \"linecolor\": \"white\", \"showbackground\": true, \"ticks\": \"\", \"zerolinecolor\": \"white\"}, \"zaxis\": {\"backgroundcolor\": \"#E5ECF6\", \"gridcolor\": \"white\", \"gridwidth\": 2, \"linecolor\": \"white\", \"showbackground\": true, \"ticks\": \"\", \"zerolinecolor\": \"white\"}}, \"shapedefaults\": {\"line\": {\"color\": \"#2a3f5f\"}}, \"ternary\": {\"aaxis\": {\"gridcolor\": \"white\", \"linecolor\": \"white\", \"ticks\": \"\"}, \"baxis\": {\"gridcolor\": \"white\", \"linecolor\": \"white\", \"ticks\": \"\"}, \"bgcolor\": \"#E5ECF6\", \"caxis\": {\"gridcolor\": \"white\", \"linecolor\": \"white\", \"ticks\": \"\"}}, \"title\": {\"x\": 0.05}, \"xaxis\": {\"automargin\": true, \"gridcolor\": \"white\", \"linecolor\": \"white\", \"ticks\": \"\", \"title\": {\"standoff\": 15}, \"zerolinecolor\": \"white\", \"zerolinewidth\": 2}, \"yaxis\": {\"automargin\": true, \"gridcolor\": \"white\", \"linecolor\": \"white\", \"ticks\": \"\", \"title\": {\"standoff\": 15}, \"zerolinecolor\": \"white\", \"zerolinewidth\": 2}}}, \"title\": {\"text\": \"Days after cycle start date that a question was submitted\"}, \"xaxis\": {\"dtick\": 1, \"tick0\": 0, \"title\": {\"text\": \"Qusetion Average Rating\"}}, \"yaxis\": {\"title\": {\"text\": \"Percentage\"}}},\n",
              "                        {\"responsive\": true}\n",
              "                    ).then(function(){\n",
              "                            \n",
              "var gd = document.getElementById('501ef9d8-011c-4dac-8513-d6bfbb309565');\n",
              "var x = new MutationObserver(function (mutations, observer) {{\n",
              "        var display = window.getComputedStyle(gd).display;\n",
              "        if (!display || display === 'none') {{\n",
              "            console.log([gd, 'removed!']);\n",
              "            Plotly.purge(gd);\n",
              "            observer.disconnect();\n",
              "        }}\n",
              "}});\n",
              "\n",
              "// Listen for the removal of the full notebook cells\n",
              "var notebookContainer = gd.closest('#notebook-container');\n",
              "if (notebookContainer) {{\n",
              "    x.observe(notebookContainer, {childList: true});\n",
              "}}\n",
              "\n",
              "// Listen for the clearing of the current output cell\n",
              "var outputEl = gd.closest('.output');\n",
              "if (outputEl) {{\n",
              "    x.observe(outputEl, {childList: true});\n",
              "}}\n",
              "\n",
              "                        })\n",
              "                };\n",
              "                \n",
              "            </script>\n",
              "        </div>\n",
              "</body>\n",
              "</html>"
            ]
          },
          "metadata": {
            "tags": []
          }
        }
      ]
    },
    {
      "cell_type": "markdown",
      "metadata": {
        "id": "OqLAK6OJ0O9C"
      },
      "source": [
        "There are slight changes in the number of days a student posts a question (smaller is better) overall. But like we did earlier we should look more closely at the impact of groups on students that submitted more than 10 days after the start date of the cycle to see if they were more on time in the 4th cycle.\n",
        "\n",
        "- Lorimer, Start: 12-11-2020, End: 15-11-2020"
      ]
    },
    {
      "cell_type": "code",
      "metadata": {
        "id": "wUUk1iMy0O9D",
        "colab": {
          "base_uri": "https://localhost:8080/",
          "height": 235
        },
        "outputId": "9c0b9cc7-3db1-4432-8a7a-0b346696a165"
      },
      "source": [
        "low_performer_days = days_by_user[days_by_user['days_from_start_c2'] >= 10] # Filter students with mark less than 1.5 in cycle 2\n",
        "\n",
        "# Caluclate average percent_change for all students with cycle 2 marks <= 1.5 as we did for ALL students previously\n",
        "low_performer_days_c2 = low_performer_days['days_from_start_c2'].sum()\n",
        "low_performer_days_c4 = low_performer_days['days_from_start_c4'].sum()\n",
        "low_performer_days_change = low_performer_days_c4 - low_performer_days_c2\n",
        "low_performer_days_percent_change = 100*low_performer_days_change / low_performer_days_c2\n",
        "\n",
        "display(low_performer_days.head())\n",
        "print(\"The average change in delay for users with a cycle 2 delay > 10 days is {:.2f} points.\".format(low_performer_days['change'].mean()))\n",
        "print(\"The average percentage change in delay for users with a cycle 2 delay > 10 days is {:.2f}%.\".format(low_performer_days_percent_change))\n",
        "\n",
        "# Lorimer, Start: 12-11-2020, End: 15-11-2020"
      ],
      "execution_count": 26,
      "outputs": [
        {
          "output_type": "display_data",
          "data": {
            "text/html": [
              "<div>\n",
              "<style scoped>\n",
              "    .dataframe tbody tr th:only-of-type {\n",
              "        vertical-align: middle;\n",
              "    }\n",
              "\n",
              "    .dataframe tbody tr th {\n",
              "        vertical-align: top;\n",
              "    }\n",
              "\n",
              "    .dataframe thead th {\n",
              "        text-align: right;\n",
              "    }\n",
              "</style>\n",
              "<table border=\"1\" class=\"dataframe\">\n",
              "  <thead>\n",
              "    <tr style=\"text-align: right;\">\n",
              "      <th></th>\n",
              "      <th>user_id</th>\n",
              "      <th>days_from_start_c2</th>\n",
              "      <th>days_from_start_c4</th>\n",
              "      <th>change</th>\n",
              "      <th>percent_change</th>\n",
              "    </tr>\n",
              "  </thead>\n",
              "  <tbody>\n",
              "    <tr>\n",
              "      <th>242</th>\n",
              "      <td>636005</td>\n",
              "      <td>10</td>\n",
              "      <td>4</td>\n",
              "      <td>-6</td>\n",
              "      <td>-60.0</td>\n",
              "    </tr>\n",
              "    <tr>\n",
              "      <th>245</th>\n",
              "      <td>636039</td>\n",
              "      <td>10</td>\n",
              "      <td>7</td>\n",
              "      <td>-3</td>\n",
              "      <td>-30.0</td>\n",
              "    </tr>\n",
              "    <tr>\n",
              "      <th>247</th>\n",
              "      <td>636428</td>\n",
              "      <td>10</td>\n",
              "      <td>9</td>\n",
              "      <td>-1</td>\n",
              "      <td>-10.0</td>\n",
              "    </tr>\n",
              "    <tr>\n",
              "      <th>249</th>\n",
              "      <td>636436</td>\n",
              "      <td>10</td>\n",
              "      <td>11</td>\n",
              "      <td>1</td>\n",
              "      <td>10.0</td>\n",
              "    </tr>\n",
              "    <tr>\n",
              "      <th>250</th>\n",
              "      <td>636420</td>\n",
              "      <td>10</td>\n",
              "      <td>3</td>\n",
              "      <td>-7</td>\n",
              "      <td>-70.0</td>\n",
              "    </tr>\n",
              "  </tbody>\n",
              "</table>\n",
              "</div>"
            ],
            "text/plain": [
              "     user_id  days_from_start_c2  days_from_start_c4  change  percent_change\n",
              "242   636005                  10                   4      -6           -60.0\n",
              "245   636039                  10                   7      -3           -30.0\n",
              "247   636428                  10                   9      -1           -10.0\n",
              "249   636436                  10                  11       1            10.0\n",
              "250   636420                  10                   3      -7           -70.0"
            ]
          },
          "metadata": {
            "tags": []
          }
        },
        {
          "output_type": "stream",
          "text": [
            "The average change in delay for users with a cycle 2 delay > 10 days is -3.64 points.\n",
            "The average percentage change in delay for users with a cycle 2 delay > 10 days is -31.25%.\n"
          ],
          "name": "stdout"
        }
      ]
    },
    {
      "cell_type": "code",
      "metadata": {
        "id": "4Jo55YLpefYO",
        "colab": {
          "base_uri": "https://localhost:8080/",
          "height": 542
        },
        "outputId": "82f60e56-7e75-4df6-8af1-1f13d17f4979"
      },
      "source": [
        "fig = go.Figure()\n",
        "fig.add_trace(go.Histogram(x=low_performer_days['days_from_start_c2'], histnorm='percent', name='Cycle 2'))\n",
        "fig.add_trace(go.Histogram(x=low_performer_days['days_from_start_c4'], histnorm='percent', name=\"Cycle 4\"))\n",
        "fig.update_xaxes(title_text='Qusetion Average Rating', tick0=0, dtick=1)\n",
        "fig.update_yaxes(title_text='Percentage')\n",
        "fig.update_layout(barmode='overlay', title_text = \"Days after cycle start date that a question was submitted for students who were slow to submit in cycle 2)\")\n",
        "fig.update_traces(opacity=0.95)\n",
        "fig.show()\n",
        "\n",
        "# Lorimer, Tanudji, Jones, Start: 12-11-2020, End: 15-11-2020"
      ],
      "execution_count": 27,
      "outputs": [
        {
          "output_type": "display_data",
          "data": {
            "text/html": [
              "<html>\n",
              "<head><meta charset=\"utf-8\" /></head>\n",
              "<body>\n",
              "    <div>\n",
              "            <script src=\"https://cdnjs.cloudflare.com/ajax/libs/mathjax/2.7.5/MathJax.js?config=TeX-AMS-MML_SVG\"></script><script type=\"text/javascript\">if (window.MathJax) {MathJax.Hub.Config({SVG: {font: \"STIX-Web\"}});}</script>\n",
              "                <script type=\"text/javascript\">window.PlotlyConfig = {MathJaxConfig: 'local'};</script>\n",
              "        <script src=\"https://cdn.plot.ly/plotly-latest.min.js\"></script>    \n",
              "            <div id=\"99ef1588-c3ec-4430-acac-e8f12c0914aa\" class=\"plotly-graph-div\" style=\"height:525px; width:100%;\"></div>\n",
              "            <script type=\"text/javascript\">\n",
              "                \n",
              "                    window.PLOTLYENV=window.PLOTLYENV || {};\n",
              "                    \n",
              "                if (document.getElementById(\"99ef1588-c3ec-4430-acac-e8f12c0914aa\")) {\n",
              "                    Plotly.newPlot(\n",
              "                        '99ef1588-c3ec-4430-acac-e8f12c0914aa',\n",
              "                        [{\"histnorm\": \"percent\", \"name\": \"Cycle 2\", \"opacity\": 0.95, \"type\": \"histogram\", \"x\": [10, 10, 10, 10, 10, 11, 12, 11, 11, 12, 11, 12, 13, 11, 12, 13, 12, 13, 13, 13, 12, 14]}, {\"histnorm\": \"percent\", \"name\": \"Cycle 4\", \"opacity\": 0.95, \"type\": \"histogram\", \"x\": [4, 7, 9, 11, 3, 8, 10, 10, 5, 7, 9, 1, 7, 7, 13, 6, 5, 7, 13, 13, 11, 10]}],\n",
              "                        {\"barmode\": \"overlay\", \"template\": {\"data\": {\"bar\": [{\"error_x\": {\"color\": \"#2a3f5f\"}, \"error_y\": {\"color\": \"#2a3f5f\"}, \"marker\": {\"line\": {\"color\": \"#E5ECF6\", \"width\": 0.5}}, \"type\": \"bar\"}], \"barpolar\": [{\"marker\": {\"line\": {\"color\": \"#E5ECF6\", \"width\": 0.5}}, \"type\": \"barpolar\"}], \"carpet\": [{\"aaxis\": {\"endlinecolor\": \"#2a3f5f\", \"gridcolor\": \"white\", \"linecolor\": \"white\", \"minorgridcolor\": \"white\", \"startlinecolor\": \"#2a3f5f\"}, \"baxis\": {\"endlinecolor\": \"#2a3f5f\", \"gridcolor\": \"white\", \"linecolor\": \"white\", \"minorgridcolor\": \"white\", \"startlinecolor\": \"#2a3f5f\"}, \"type\": \"carpet\"}], \"choropleth\": [{\"colorbar\": {\"outlinewidth\": 0, \"ticks\": \"\"}, \"type\": \"choropleth\"}], \"contour\": [{\"colorbar\": {\"outlinewidth\": 0, \"ticks\": \"\"}, \"colorscale\": [[0.0, \"#0d0887\"], [0.1111111111111111, \"#46039f\"], [0.2222222222222222, \"#7201a8\"], [0.3333333333333333, \"#9c179e\"], [0.4444444444444444, \"#bd3786\"], [0.5555555555555556, \"#d8576b\"], [0.6666666666666666, \"#ed7953\"], [0.7777777777777778, \"#fb9f3a\"], [0.8888888888888888, \"#fdca26\"], [1.0, \"#f0f921\"]], \"type\": \"contour\"}], \"contourcarpet\": [{\"colorbar\": {\"outlinewidth\": 0, \"ticks\": \"\"}, \"type\": \"contourcarpet\"}], \"heatmap\": [{\"colorbar\": {\"outlinewidth\": 0, \"ticks\": \"\"}, \"colorscale\": [[0.0, \"#0d0887\"], [0.1111111111111111, \"#46039f\"], [0.2222222222222222, \"#7201a8\"], [0.3333333333333333, \"#9c179e\"], [0.4444444444444444, \"#bd3786\"], [0.5555555555555556, \"#d8576b\"], [0.6666666666666666, \"#ed7953\"], [0.7777777777777778, \"#fb9f3a\"], [0.8888888888888888, \"#fdca26\"], [1.0, \"#f0f921\"]], \"type\": \"heatmap\"}], \"heatmapgl\": [{\"colorbar\": {\"outlinewidth\": 0, \"ticks\": \"\"}, \"colorscale\": [[0.0, \"#0d0887\"], [0.1111111111111111, \"#46039f\"], [0.2222222222222222, \"#7201a8\"], [0.3333333333333333, \"#9c179e\"], [0.4444444444444444, \"#bd3786\"], [0.5555555555555556, \"#d8576b\"], [0.6666666666666666, \"#ed7953\"], [0.7777777777777778, \"#fb9f3a\"], [0.8888888888888888, \"#fdca26\"], [1.0, \"#f0f921\"]], \"type\": \"heatmapgl\"}], \"histogram\": [{\"marker\": {\"colorbar\": {\"outlinewidth\": 0, \"ticks\": \"\"}}, \"type\": \"histogram\"}], \"histogram2d\": [{\"colorbar\": {\"outlinewidth\": 0, \"ticks\": \"\"}, \"colorscale\": [[0.0, \"#0d0887\"], [0.1111111111111111, \"#46039f\"], [0.2222222222222222, \"#7201a8\"], [0.3333333333333333, \"#9c179e\"], [0.4444444444444444, \"#bd3786\"], [0.5555555555555556, \"#d8576b\"], [0.6666666666666666, \"#ed7953\"], [0.7777777777777778, \"#fb9f3a\"], [0.8888888888888888, \"#fdca26\"], [1.0, \"#f0f921\"]], \"type\": \"histogram2d\"}], \"histogram2dcontour\": [{\"colorbar\": {\"outlinewidth\": 0, \"ticks\": \"\"}, \"colorscale\": [[0.0, \"#0d0887\"], [0.1111111111111111, \"#46039f\"], [0.2222222222222222, \"#7201a8\"], [0.3333333333333333, \"#9c179e\"], [0.4444444444444444, \"#bd3786\"], [0.5555555555555556, \"#d8576b\"], [0.6666666666666666, \"#ed7953\"], [0.7777777777777778, \"#fb9f3a\"], [0.8888888888888888, \"#fdca26\"], [1.0, \"#f0f921\"]], \"type\": \"histogram2dcontour\"}], \"mesh3d\": [{\"colorbar\": {\"outlinewidth\": 0, \"ticks\": \"\"}, \"type\": \"mesh3d\"}], \"parcoords\": [{\"line\": {\"colorbar\": {\"outlinewidth\": 0, \"ticks\": \"\"}}, \"type\": \"parcoords\"}], \"pie\": [{\"automargin\": true, \"type\": \"pie\"}], \"scatter\": [{\"marker\": {\"colorbar\": {\"outlinewidth\": 0, \"ticks\": \"\"}}, \"type\": \"scatter\"}], \"scatter3d\": [{\"line\": {\"colorbar\": {\"outlinewidth\": 0, \"ticks\": \"\"}}, \"marker\": {\"colorbar\": {\"outlinewidth\": 0, \"ticks\": \"\"}}, \"type\": \"scatter3d\"}], \"scattercarpet\": [{\"marker\": {\"colorbar\": {\"outlinewidth\": 0, \"ticks\": \"\"}}, \"type\": \"scattercarpet\"}], \"scattergeo\": [{\"marker\": {\"colorbar\": {\"outlinewidth\": 0, \"ticks\": \"\"}}, \"type\": \"scattergeo\"}], \"scattergl\": [{\"marker\": {\"colorbar\": {\"outlinewidth\": 0, \"ticks\": \"\"}}, \"type\": \"scattergl\"}], \"scattermapbox\": [{\"marker\": {\"colorbar\": {\"outlinewidth\": 0, \"ticks\": \"\"}}, \"type\": \"scattermapbox\"}], \"scatterpolar\": [{\"marker\": {\"colorbar\": {\"outlinewidth\": 0, \"ticks\": \"\"}}, \"type\": \"scatterpolar\"}], \"scatterpolargl\": [{\"marker\": {\"colorbar\": {\"outlinewidth\": 0, \"ticks\": \"\"}}, \"type\": \"scatterpolargl\"}], \"scatterternary\": [{\"marker\": {\"colorbar\": {\"outlinewidth\": 0, \"ticks\": \"\"}}, \"type\": \"scatterternary\"}], \"surface\": [{\"colorbar\": {\"outlinewidth\": 0, \"ticks\": \"\"}, \"colorscale\": [[0.0, \"#0d0887\"], [0.1111111111111111, \"#46039f\"], [0.2222222222222222, \"#7201a8\"], [0.3333333333333333, \"#9c179e\"], [0.4444444444444444, \"#bd3786\"], [0.5555555555555556, \"#d8576b\"], [0.6666666666666666, \"#ed7953\"], [0.7777777777777778, \"#fb9f3a\"], [0.8888888888888888, \"#fdca26\"], [1.0, \"#f0f921\"]], \"type\": \"surface\"}], \"table\": [{\"cells\": {\"fill\": {\"color\": \"#EBF0F8\"}, \"line\": {\"color\": \"white\"}}, \"header\": {\"fill\": {\"color\": \"#C8D4E3\"}, \"line\": {\"color\": \"white\"}}, \"type\": \"table\"}]}, \"layout\": {\"annotationdefaults\": {\"arrowcolor\": \"#2a3f5f\", \"arrowhead\": 0, \"arrowwidth\": 1}, \"coloraxis\": {\"colorbar\": {\"outlinewidth\": 0, \"ticks\": \"\"}}, \"colorscale\": {\"diverging\": [[0, \"#8e0152\"], [0.1, \"#c51b7d\"], [0.2, \"#de77ae\"], [0.3, \"#f1b6da\"], [0.4, \"#fde0ef\"], [0.5, \"#f7f7f7\"], [0.6, \"#e6f5d0\"], [0.7, \"#b8e186\"], [0.8, \"#7fbc41\"], [0.9, \"#4d9221\"], [1, \"#276419\"]], \"sequential\": [[0.0, \"#0d0887\"], [0.1111111111111111, \"#46039f\"], [0.2222222222222222, \"#7201a8\"], [0.3333333333333333, \"#9c179e\"], [0.4444444444444444, \"#bd3786\"], [0.5555555555555556, \"#d8576b\"], [0.6666666666666666, \"#ed7953\"], [0.7777777777777778, \"#fb9f3a\"], [0.8888888888888888, \"#fdca26\"], [1.0, \"#f0f921\"]], \"sequentialminus\": [[0.0, \"#0d0887\"], [0.1111111111111111, \"#46039f\"], [0.2222222222222222, \"#7201a8\"], [0.3333333333333333, \"#9c179e\"], [0.4444444444444444, \"#bd3786\"], [0.5555555555555556, \"#d8576b\"], [0.6666666666666666, \"#ed7953\"], [0.7777777777777778, \"#fb9f3a\"], [0.8888888888888888, \"#fdca26\"], [1.0, \"#f0f921\"]]}, \"colorway\": [\"#636efa\", \"#EF553B\", \"#00cc96\", \"#ab63fa\", \"#FFA15A\", \"#19d3f3\", \"#FF6692\", \"#B6E880\", \"#FF97FF\", \"#FECB52\"], \"font\": {\"color\": \"#2a3f5f\"}, \"geo\": {\"bgcolor\": \"white\", \"lakecolor\": \"white\", \"landcolor\": \"#E5ECF6\", \"showlakes\": true, \"showland\": true, \"subunitcolor\": \"white\"}, \"hoverlabel\": {\"align\": \"left\"}, \"hovermode\": \"closest\", \"mapbox\": {\"style\": \"light\"}, \"paper_bgcolor\": \"white\", \"plot_bgcolor\": \"#E5ECF6\", \"polar\": {\"angularaxis\": {\"gridcolor\": \"white\", \"linecolor\": \"white\", \"ticks\": \"\"}, \"bgcolor\": \"#E5ECF6\", \"radialaxis\": {\"gridcolor\": \"white\", \"linecolor\": \"white\", \"ticks\": \"\"}}, \"scene\": {\"xaxis\": {\"backgroundcolor\": \"#E5ECF6\", \"gridcolor\": \"white\", \"gridwidth\": 2, \"linecolor\": \"white\", \"showbackground\": true, \"ticks\": \"\", \"zerolinecolor\": \"white\"}, \"yaxis\": {\"backgroundcolor\": \"#E5ECF6\", \"gridcolor\": \"white\", \"gridwidth\": 2, \"linecolor\": \"white\", \"showbackground\": true, \"ticks\": \"\", \"zerolinecolor\": \"white\"}, \"zaxis\": {\"backgroundcolor\": \"#E5ECF6\", \"gridcolor\": \"white\", \"gridwidth\": 2, \"linecolor\": \"white\", \"showbackground\": true, \"ticks\": \"\", \"zerolinecolor\": \"white\"}}, \"shapedefaults\": {\"line\": {\"color\": \"#2a3f5f\"}}, \"ternary\": {\"aaxis\": {\"gridcolor\": \"white\", \"linecolor\": \"white\", \"ticks\": \"\"}, \"baxis\": {\"gridcolor\": \"white\", \"linecolor\": \"white\", \"ticks\": \"\"}, \"bgcolor\": \"#E5ECF6\", \"caxis\": {\"gridcolor\": \"white\", \"linecolor\": \"white\", \"ticks\": \"\"}}, \"title\": {\"x\": 0.05}, \"xaxis\": {\"automargin\": true, \"gridcolor\": \"white\", \"linecolor\": \"white\", \"ticks\": \"\", \"title\": {\"standoff\": 15}, \"zerolinecolor\": \"white\", \"zerolinewidth\": 2}, \"yaxis\": {\"automargin\": true, \"gridcolor\": \"white\", \"linecolor\": \"white\", \"ticks\": \"\", \"title\": {\"standoff\": 15}, \"zerolinecolor\": \"white\", \"zerolinewidth\": 2}}}, \"title\": {\"text\": \"Days after cycle start date that a question was submitted for students who were slow to submit in cycle 2)\"}, \"xaxis\": {\"dtick\": 1, \"tick0\": 0, \"title\": {\"text\": \"Qusetion Average Rating\"}}, \"yaxis\": {\"title\": {\"text\": \"Percentage\"}}},\n",
              "                        {\"responsive\": true}\n",
              "                    ).then(function(){\n",
              "                            \n",
              "var gd = document.getElementById('99ef1588-c3ec-4430-acac-e8f12c0914aa');\n",
              "var x = new MutationObserver(function (mutations, observer) {{\n",
              "        var display = window.getComputedStyle(gd).display;\n",
              "        if (!display || display === 'none') {{\n",
              "            console.log([gd, 'removed!']);\n",
              "            Plotly.purge(gd);\n",
              "            observer.disconnect();\n",
              "        }}\n",
              "}});\n",
              "\n",
              "// Listen for the removal of the full notebook cells\n",
              "var notebookContainer = gd.closest('#notebook-container');\n",
              "if (notebookContainer) {{\n",
              "    x.observe(notebookContainer, {childList: true});\n",
              "}}\n",
              "\n",
              "// Listen for the clearing of the current output cell\n",
              "var outputEl = gd.closest('.output');\n",
              "if (outputEl) {{\n",
              "    x.observe(outputEl, {childList: true});\n",
              "}}\n",
              "\n",
              "                        })\n",
              "                };\n",
              "                \n",
              "            </script>\n",
              "        </div>\n",
              "</body>\n",
              "</html>"
            ]
          },
          "metadata": {
            "tags": []
          }
        }
      ]
    },
    {
      "cell_type": "markdown",
      "metadata": {
        "id": "LAx2gD830O9H"
      },
      "source": [
        "As output above above:\n",
        "- Students who were slow to submit questions in cycle 2 (more than 10 days from the start date) submitted questions 3-4 days earlier on average\n",
        "- This is a ~31% decrease in the number of days between the start of the cycle and the question submission\n",
        "\n",
        "This shows that the students who submitted slowly in cycle 2 submitted their questions for cycle 4 earlier on average. It is likely that this is due to group participation, but there may be other confounding factors.\n",
        "\n",
        "- Lorimer, Start: 12-11-2020, End: 15-11-2020"
      ]
    },
    {
      "cell_type": "markdown",
      "metadata": {
        "id": "LlrOwfYCefYR"
      },
      "source": [
        "## 5.2 Group Performance\n",
        "\n",
        "Up until this point we have explored student motivation and performance between cycles 2 and 4.\n",
        "\n",
        "In this section we will directly address the core question and assess whether group membership truley impacts performance.\n",
        "\n",
        "\n",
        "Now let's move on to the calculation of the number of correct answers.\n",
        "We'll start by adding a new `bool` column to indicate whether a student has correctly answered the question.\n",
        "\n",
        "We begin by providing an overall picture and then moving specifically to each group.\n",
        "\n",
        "- Lorimer, Start: 12-11-2020, End: 15-11-2020"
      ]
    },
    {
      "cell_type": "code",
      "metadata": {
        "id": "p9fG9HmyefYS"
      },
      "source": [
        "qs_selected = c3questions[['id', 'timestamp', 'user', 'avg_rating', 'avg_difficulty', 'total_responses', 'total_comments', 'answer', 'course_id']] # Select certain columns\n",
        "qs_selected = qs_selected.rename(columns={'id' : 'question_id', 'timestamp' : 'question_time', 'user' : 'user_id', 'answer' : 'correct_answer'})                   # Rename\n",
        "ans_selected = c3answers[['id', 'timestamp', 'user', 'question_id', 'answer']]\n",
        "ans_selected = ans_selected.rename(columns={'id' : 'answer_id', 'timestamp' : 'answer_time', 'user' : 'user_id', 'answer' : 'chosen_answer'})\n",
        "q_and_a = ans_selected.merge(qs_selected[['question_id', 'correct_answer']], on='question_id')\n",
        "answers_by_student = q_and_a[['user_id', 'answer_id']].groupby('user_id', as_index=False).count() # Count number of answers per user\n",
        "\n",
        "# Lorimer, Start: 12-11-2020, End: 15-11-2020"
      ],
      "execution_count": 28,
      "outputs": []
    },
    {
      "cell_type": "markdown",
      "metadata": {
        "id": "br1paVTIefYV"
      },
      "source": [
        "We visualise the distribution of correct answers given by students out of the total number of questions answered:"
      ]
    },
    {
      "cell_type": "code",
      "metadata": {
        "id": "8lQPkBIoefYW",
        "colab": {
          "base_uri": "https://localhost:8080/",
          "height": 542
        },
        "outputId": "c2661d3b-b27c-4c2a-f04d-ba36fb275152"
      },
      "source": [
        "q_and_a['student_correct'] = q_and_a['chosen_answer'] == q_and_a['correct_answer']                    # Add new bool column to indicate whether an answer was correct\n",
        "correct_by_student = q_and_a[['user_id', 'student_correct']].groupby('user_id', as_index=False).sum() # Create new dataframe and count number of correct answers, summing our new bool column\n",
        "\n",
        "correct_by_student['total_answers'] = answers_by_student['answer_id']\n",
        "correct_by_student['percent_correct'] = correct_by_student['student_correct'] / correct_by_student['total_answers']  # Calculate percentage of questions a student answered correctly\n",
        "\n",
        "# Plot summary statistics for percentage of correct answers\n",
        "px.histogram(correct_by_student, x = \"percent_correct\",\n",
        "              labels ={\"percent_correct\": \"Percentage of Correct Answers Given by a Student\"},\n",
        "             title= \"Distribution of the Percentage of Correct Answers Given by a Student out of the Total number of Questions Answered\",\n",
        "             marginal = \"box\", opacity=0.8, color_discrete_sequence=['purple'])\n",
        "\n",
        "# Lorimer, Tanudji, Jones, Start: 12-11-2020, End: 15-11-2020"
      ],
      "execution_count": 29,
      "outputs": [
        {
          "output_type": "display_data",
          "data": {
            "text/html": [
              "<html>\n",
              "<head><meta charset=\"utf-8\" /></head>\n",
              "<body>\n",
              "    <div>\n",
              "            <script src=\"https://cdnjs.cloudflare.com/ajax/libs/mathjax/2.7.5/MathJax.js?config=TeX-AMS-MML_SVG\"></script><script type=\"text/javascript\">if (window.MathJax) {MathJax.Hub.Config({SVG: {font: \"STIX-Web\"}});}</script>\n",
              "                <script type=\"text/javascript\">window.PlotlyConfig = {MathJaxConfig: 'local'};</script>\n",
              "        <script src=\"https://cdn.plot.ly/plotly-latest.min.js\"></script>    \n",
              "            <div id=\"809e4a32-9dbf-411a-820d-1f92e4f70502\" class=\"plotly-graph-div\" style=\"height:525px; width:100%;\"></div>\n",
              "            <script type=\"text/javascript\">\n",
              "                \n",
              "                    window.PLOTLYENV=window.PLOTLYENV || {};\n",
              "                    \n",
              "                if (document.getElementById(\"809e4a32-9dbf-411a-820d-1f92e4f70502\")) {\n",
              "                    Plotly.newPlot(\n",
              "                        '809e4a32-9dbf-411a-820d-1f92e4f70502',\n",
              "                        [{\"alignmentgroup\": \"True\", \"bingroup\": \"x\", \"hoverlabel\": {\"namelength\": 0}, \"hovertemplate\": \"Percentage of Correct Answers Given by a Student=%{x}<br>count=%{y}\", \"legendgroup\": \"\", \"marker\": {\"color\": \"purple\", \"opacity\": 0.8}, \"name\": \"\", \"offsetgroup\": \"\", \"orientation\": \"v\", \"showlegend\": false, \"type\": \"histogram\", \"x\": [0.55, 0.6, 0.631578947368421, 0.325, 0.55, 0.2558139534883721, 0.36585365853658536, 0.7619047619047619, 0.4807692307692308, 0.6428571428571429, 0.5609756097560976, 0.7441860465116279, 0.5609756097560976, 0.717391304347826, 0.25, 0.82, 0.4878048780487805, 0.7674418604651163, 0.25925925925925924, 0.4, 0.5714285714285714, 0.525, 0.5853658536585366, 0.5, 0.40476190476190477, 0.5531914893617021, 0.46, 0.7236842105263158, 0.6341463414634146, 0.55, 0.45, 0.2608695652173913, 0.6818181818181818, 0.45, 0.45, 0.4883720930232558, 0.6511627906976745, 0.7358490566037735, 0.5555555555555556, 0.65, 0.6415094339622641, 0.7111111111111111, 0.375, 0.7763157894736842, 0.6862745098039216, 0.6842105263157895, 0.725, 0.6511627906976745, 0.6, 0.5121951219512195, 0.6578947368421053, 0.47619047619047616, 0.4146341463414634, 0.5116279069767442, 0.47619047619047616, 0.38636363636363635, 0.42, 0.45098039215686275, 0.39215686274509803, 0.6578947368421053, 0.325, 0.42857142857142855, 0.375, 0.56, 0.4523809523809524, 0.4342105263157895, 0.65625, 0.4523809523809524, 0.4186046511627907, 0.3064516129032258, 0.6875, 0.5686274509803921, 0.525, 0.425531914893617, 0.625, 0.325, 0.3170731707317073, 0.5609756097560976, 0.6, 0.6274509803921569, 0.43137254901960786, 0.6774193548387096, 0.62, 0.45, 0.7317073170731707, 0.6190476190476191, 0.6271186440677966, 0.4146341463414634, 0.6046511627906976, 0.660377358490566, 0.675, 0.5121951219512195, 0.5, 0.35714285714285715, 0.35555555555555557, 0.4878048780487805, 0.37209302325581395, 0.34146341463414637, 0.6666666666666666, 0.6862745098039216, 0.4, 0.3488372093023256, 0.3902439024390244, 0.525, 0.5714285714285714, 0.5238095238095238, 0.475, 0.8837209302325582, 0.3, 0.325, 0.5, 0.3, 0.47619047619047616, 0.5348837209302325, 0.7073170731707317, 0.4897959183673469, 0.425, 0.5833333333333334, 0.6, 0.603448275862069, 0.4523809523809524, 0.4807692307692308, 0.5714285714285714, 0.425, 0.4, 0.5121951219512195, 0.6097560975609756, 0.2926829268292683, 0.46511627906976744, 0.5185185185185185, 0.5, 0.7647058823529411, 0.6, 0.5714285714285714, 0.425, 0.6, 0.6904761904761905, 0.38095238095238093, 0.58, 0.5853658536585366, 0.625, 0.7872340425531915, 0.5952380952380952, 0.66, 0.6296296296296297, 0.6097560975609756, 0.68, 0.55, 0.746268656716418, 0.375, 0.7804878048780488, 0.7441860465116279, 0.41818181818181815, 0.5581395348837209, 0.627906976744186, 0.4375, 0.55, 0.775, 0.3111111111111111, 0.5737704918032787, 0.475, 0.5, 0.6666666666666666, 0.2727272727272727, 0.46153846153846156, 0.6842105263157895, 0.6382978723404256, 0.6363636363636364, 0.6122448979591837, 0.5681818181818182, 0.625, 0.8625, 0.5952380952380952, 0.7, 0.5535714285714286, 0.6527777777777778, 0.5121951219512195, 0.582089552238806, 0.525, 0.525, 0.32, 0.6190476190476191, 0.73, 0.3409090909090909, 0.8292682926829268, 0.6521739130434783, 0.29545454545454547, 0.5, 0.676056338028169, 0.775, 0.75, 0.475, 0.8181818181818182, 0.81, 0.6206896551724138, 0.5476190476190477, 0.5957446808510638, 0.55, 0.45, 0.3902439024390244, 0.325, 0.43902439024390244, 0.3333333333333333, 0.7021276595744681, 0.8444444444444444, 0.5476190476190477, 0.4375, 0.5581395348837209, 0.45, 0.7142857142857143, 0.6041666666666666, 0.38, 0.4523809523809524, 0.5192307692307693, 0.6666666666666666, 0.4, 0.47619047619047616, 0.5, 0.4857142857142857, 0.6428571428571429, 0.40476190476190477, 0.6170212765957447, 0.35, 0.6041666666666666, 0.25, 0.625, 0.3953488372093023, 0.5, 0.4, 0.34146341463414637, 0.325, 0.42105263157894735, 0.375, 0.4, 0.375, 0.725, 0.5, 0.5714285714285714, 0.5609756097560976, 0.4, 0.375, 0.5714285714285714, 0.6382978723404256, 1.0, 0.5531914893617021, 0.5365853658536586, 0.5121951219512195, 0.7, 0.49019607843137253, 0.5079365079365079, 0.5531914893617021, 0.8222222222222222, 0.6, 0.53125, 0.5365853658536586, 0.525, 0.4444444444444444, 0.3191489361702128, 0.6785714285714286, 0.4880952380952381, 0.5348837209302325, 0.38461538461538464, 0.5681818181818182, 0.5454545454545454, 0.42857142857142855, 0.5714285714285714, 0.4, 0.6, 0.5, 0.44, 0.6071428571428571, 0.4444444444444444, 0.375, 0.5, 0.45454545454545453, 0.66, 0.47619047619047616, 0.6447368421052632, 0.18181818181818182, 0.38636363636363635, 0.3469387755102041, 0.6176470588235294, 0.5365853658536586, 0.4, 0.45], \"xaxis\": \"x\", \"yaxis\": \"y\"}, {\"alignmentgroup\": \"True\", \"hoverlabel\": {\"namelength\": 0}, \"hovertemplate\": \"Percentage of Correct Answers Given by a Student=%{x}\", \"legendgroup\": \"\", \"marker\": {\"color\": \"purple\"}, \"name\": \"\", \"notched\": true, \"offsetgroup\": \"\", \"showlegend\": false, \"type\": \"box\", \"x\": [0.55, 0.6, 0.631578947368421, 0.325, 0.55, 0.2558139534883721, 0.36585365853658536, 0.7619047619047619, 0.4807692307692308, 0.6428571428571429, 0.5609756097560976, 0.7441860465116279, 0.5609756097560976, 0.717391304347826, 0.25, 0.82, 0.4878048780487805, 0.7674418604651163, 0.25925925925925924, 0.4, 0.5714285714285714, 0.525, 0.5853658536585366, 0.5, 0.40476190476190477, 0.5531914893617021, 0.46, 0.7236842105263158, 0.6341463414634146, 0.55, 0.45, 0.2608695652173913, 0.6818181818181818, 0.45, 0.45, 0.4883720930232558, 0.6511627906976745, 0.7358490566037735, 0.5555555555555556, 0.65, 0.6415094339622641, 0.7111111111111111, 0.375, 0.7763157894736842, 0.6862745098039216, 0.6842105263157895, 0.725, 0.6511627906976745, 0.6, 0.5121951219512195, 0.6578947368421053, 0.47619047619047616, 0.4146341463414634, 0.5116279069767442, 0.47619047619047616, 0.38636363636363635, 0.42, 0.45098039215686275, 0.39215686274509803, 0.6578947368421053, 0.325, 0.42857142857142855, 0.375, 0.56, 0.4523809523809524, 0.4342105263157895, 0.65625, 0.4523809523809524, 0.4186046511627907, 0.3064516129032258, 0.6875, 0.5686274509803921, 0.525, 0.425531914893617, 0.625, 0.325, 0.3170731707317073, 0.5609756097560976, 0.6, 0.6274509803921569, 0.43137254901960786, 0.6774193548387096, 0.62, 0.45, 0.7317073170731707, 0.6190476190476191, 0.6271186440677966, 0.4146341463414634, 0.6046511627906976, 0.660377358490566, 0.675, 0.5121951219512195, 0.5, 0.35714285714285715, 0.35555555555555557, 0.4878048780487805, 0.37209302325581395, 0.34146341463414637, 0.6666666666666666, 0.6862745098039216, 0.4, 0.3488372093023256, 0.3902439024390244, 0.525, 0.5714285714285714, 0.5238095238095238, 0.475, 0.8837209302325582, 0.3, 0.325, 0.5, 0.3, 0.47619047619047616, 0.5348837209302325, 0.7073170731707317, 0.4897959183673469, 0.425, 0.5833333333333334, 0.6, 0.603448275862069, 0.4523809523809524, 0.4807692307692308, 0.5714285714285714, 0.425, 0.4, 0.5121951219512195, 0.6097560975609756, 0.2926829268292683, 0.46511627906976744, 0.5185185185185185, 0.5, 0.7647058823529411, 0.6, 0.5714285714285714, 0.425, 0.6, 0.6904761904761905, 0.38095238095238093, 0.58, 0.5853658536585366, 0.625, 0.7872340425531915, 0.5952380952380952, 0.66, 0.6296296296296297, 0.6097560975609756, 0.68, 0.55, 0.746268656716418, 0.375, 0.7804878048780488, 0.7441860465116279, 0.41818181818181815, 0.5581395348837209, 0.627906976744186, 0.4375, 0.55, 0.775, 0.3111111111111111, 0.5737704918032787, 0.475, 0.5, 0.6666666666666666, 0.2727272727272727, 0.46153846153846156, 0.6842105263157895, 0.6382978723404256, 0.6363636363636364, 0.6122448979591837, 0.5681818181818182, 0.625, 0.8625, 0.5952380952380952, 0.7, 0.5535714285714286, 0.6527777777777778, 0.5121951219512195, 0.582089552238806, 0.525, 0.525, 0.32, 0.6190476190476191, 0.73, 0.3409090909090909, 0.8292682926829268, 0.6521739130434783, 0.29545454545454547, 0.5, 0.676056338028169, 0.775, 0.75, 0.475, 0.8181818181818182, 0.81, 0.6206896551724138, 0.5476190476190477, 0.5957446808510638, 0.55, 0.45, 0.3902439024390244, 0.325, 0.43902439024390244, 0.3333333333333333, 0.7021276595744681, 0.8444444444444444, 0.5476190476190477, 0.4375, 0.5581395348837209, 0.45, 0.7142857142857143, 0.6041666666666666, 0.38, 0.4523809523809524, 0.5192307692307693, 0.6666666666666666, 0.4, 0.47619047619047616, 0.5, 0.4857142857142857, 0.6428571428571429, 0.40476190476190477, 0.6170212765957447, 0.35, 0.6041666666666666, 0.25, 0.625, 0.3953488372093023, 0.5, 0.4, 0.34146341463414637, 0.325, 0.42105263157894735, 0.375, 0.4, 0.375, 0.725, 0.5, 0.5714285714285714, 0.5609756097560976, 0.4, 0.375, 0.5714285714285714, 0.6382978723404256, 1.0, 0.5531914893617021, 0.5365853658536586, 0.5121951219512195, 0.7, 0.49019607843137253, 0.5079365079365079, 0.5531914893617021, 0.8222222222222222, 0.6, 0.53125, 0.5365853658536586, 0.525, 0.4444444444444444, 0.3191489361702128, 0.6785714285714286, 0.4880952380952381, 0.5348837209302325, 0.38461538461538464, 0.5681818181818182, 0.5454545454545454, 0.42857142857142855, 0.5714285714285714, 0.4, 0.6, 0.5, 0.44, 0.6071428571428571, 0.4444444444444444, 0.375, 0.5, 0.45454545454545453, 0.66, 0.47619047619047616, 0.6447368421052632, 0.18181818181818182, 0.38636363636363635, 0.3469387755102041, 0.6176470588235294, 0.5365853658536586, 0.4, 0.45], \"xaxis\": \"x2\", \"yaxis\": \"y2\"}],\n",
              "                        {\"barmode\": \"relative\", \"legend\": {\"tracegroupgap\": 0}, \"template\": {\"data\": {\"bar\": [{\"error_x\": {\"color\": \"#2a3f5f\"}, \"error_y\": {\"color\": \"#2a3f5f\"}, \"marker\": {\"line\": {\"color\": \"#E5ECF6\", \"width\": 0.5}}, \"type\": \"bar\"}], \"barpolar\": [{\"marker\": {\"line\": {\"color\": \"#E5ECF6\", \"width\": 0.5}}, \"type\": \"barpolar\"}], \"carpet\": [{\"aaxis\": {\"endlinecolor\": \"#2a3f5f\", \"gridcolor\": \"white\", \"linecolor\": \"white\", \"minorgridcolor\": \"white\", \"startlinecolor\": \"#2a3f5f\"}, \"baxis\": {\"endlinecolor\": \"#2a3f5f\", \"gridcolor\": \"white\", \"linecolor\": \"white\", \"minorgridcolor\": \"white\", \"startlinecolor\": \"#2a3f5f\"}, \"type\": \"carpet\"}], \"choropleth\": [{\"colorbar\": {\"outlinewidth\": 0, \"ticks\": \"\"}, \"type\": \"choropleth\"}], \"contour\": [{\"colorbar\": {\"outlinewidth\": 0, \"ticks\": \"\"}, \"colorscale\": [[0.0, \"#0d0887\"], [0.1111111111111111, \"#46039f\"], [0.2222222222222222, \"#7201a8\"], [0.3333333333333333, \"#9c179e\"], [0.4444444444444444, \"#bd3786\"], [0.5555555555555556, \"#d8576b\"], [0.6666666666666666, \"#ed7953\"], [0.7777777777777778, \"#fb9f3a\"], [0.8888888888888888, \"#fdca26\"], [1.0, \"#f0f921\"]], \"type\": \"contour\"}], \"contourcarpet\": [{\"colorbar\": {\"outlinewidth\": 0, \"ticks\": \"\"}, \"type\": \"contourcarpet\"}], \"heatmap\": [{\"colorbar\": {\"outlinewidth\": 0, \"ticks\": \"\"}, \"colorscale\": [[0.0, \"#0d0887\"], [0.1111111111111111, \"#46039f\"], [0.2222222222222222, \"#7201a8\"], [0.3333333333333333, \"#9c179e\"], [0.4444444444444444, \"#bd3786\"], [0.5555555555555556, \"#d8576b\"], [0.6666666666666666, \"#ed7953\"], [0.7777777777777778, \"#fb9f3a\"], [0.8888888888888888, \"#fdca26\"], [1.0, \"#f0f921\"]], \"type\": \"heatmap\"}], \"heatmapgl\": [{\"colorbar\": {\"outlinewidth\": 0, \"ticks\": \"\"}, \"colorscale\": [[0.0, \"#0d0887\"], [0.1111111111111111, \"#46039f\"], [0.2222222222222222, \"#7201a8\"], [0.3333333333333333, \"#9c179e\"], [0.4444444444444444, \"#bd3786\"], [0.5555555555555556, \"#d8576b\"], [0.6666666666666666, \"#ed7953\"], [0.7777777777777778, \"#fb9f3a\"], [0.8888888888888888, \"#fdca26\"], [1.0, \"#f0f921\"]], \"type\": \"heatmapgl\"}], \"histogram\": [{\"marker\": {\"colorbar\": {\"outlinewidth\": 0, \"ticks\": \"\"}}, \"type\": \"histogram\"}], \"histogram2d\": [{\"colorbar\": {\"outlinewidth\": 0, \"ticks\": \"\"}, \"colorscale\": [[0.0, \"#0d0887\"], [0.1111111111111111, \"#46039f\"], [0.2222222222222222, \"#7201a8\"], [0.3333333333333333, \"#9c179e\"], [0.4444444444444444, \"#bd3786\"], [0.5555555555555556, \"#d8576b\"], [0.6666666666666666, \"#ed7953\"], [0.7777777777777778, \"#fb9f3a\"], [0.8888888888888888, \"#fdca26\"], [1.0, \"#f0f921\"]], \"type\": \"histogram2d\"}], \"histogram2dcontour\": [{\"colorbar\": {\"outlinewidth\": 0, \"ticks\": \"\"}, \"colorscale\": [[0.0, \"#0d0887\"], [0.1111111111111111, \"#46039f\"], [0.2222222222222222, \"#7201a8\"], [0.3333333333333333, \"#9c179e\"], [0.4444444444444444, \"#bd3786\"], [0.5555555555555556, \"#d8576b\"], [0.6666666666666666, \"#ed7953\"], [0.7777777777777778, \"#fb9f3a\"], [0.8888888888888888, \"#fdca26\"], [1.0, \"#f0f921\"]], \"type\": \"histogram2dcontour\"}], \"mesh3d\": [{\"colorbar\": {\"outlinewidth\": 0, \"ticks\": \"\"}, \"type\": \"mesh3d\"}], \"parcoords\": [{\"line\": {\"colorbar\": {\"outlinewidth\": 0, \"ticks\": \"\"}}, \"type\": \"parcoords\"}], \"pie\": [{\"automargin\": true, \"type\": \"pie\"}], \"scatter\": [{\"marker\": {\"colorbar\": {\"outlinewidth\": 0, \"ticks\": \"\"}}, \"type\": \"scatter\"}], \"scatter3d\": [{\"line\": {\"colorbar\": {\"outlinewidth\": 0, \"ticks\": \"\"}}, \"marker\": {\"colorbar\": {\"outlinewidth\": 0, \"ticks\": \"\"}}, \"type\": \"scatter3d\"}], \"scattercarpet\": [{\"marker\": {\"colorbar\": {\"outlinewidth\": 0, \"ticks\": \"\"}}, \"type\": \"scattercarpet\"}], \"scattergeo\": [{\"marker\": {\"colorbar\": {\"outlinewidth\": 0, \"ticks\": \"\"}}, \"type\": \"scattergeo\"}], \"scattergl\": [{\"marker\": {\"colorbar\": {\"outlinewidth\": 0, \"ticks\": \"\"}}, \"type\": \"scattergl\"}], \"scattermapbox\": [{\"marker\": {\"colorbar\": {\"outlinewidth\": 0, \"ticks\": \"\"}}, \"type\": \"scattermapbox\"}], \"scatterpolar\": [{\"marker\": {\"colorbar\": {\"outlinewidth\": 0, \"ticks\": \"\"}}, \"type\": \"scatterpolar\"}], \"scatterpolargl\": [{\"marker\": {\"colorbar\": {\"outlinewidth\": 0, \"ticks\": \"\"}}, \"type\": \"scatterpolargl\"}], \"scatterternary\": [{\"marker\": {\"colorbar\": {\"outlinewidth\": 0, \"ticks\": \"\"}}, \"type\": \"scatterternary\"}], \"surface\": [{\"colorbar\": {\"outlinewidth\": 0, \"ticks\": \"\"}, \"colorscale\": [[0.0, \"#0d0887\"], [0.1111111111111111, \"#46039f\"], [0.2222222222222222, \"#7201a8\"], [0.3333333333333333, \"#9c179e\"], [0.4444444444444444, \"#bd3786\"], [0.5555555555555556, \"#d8576b\"], [0.6666666666666666, \"#ed7953\"], [0.7777777777777778, \"#fb9f3a\"], [0.8888888888888888, \"#fdca26\"], [1.0, \"#f0f921\"]], \"type\": \"surface\"}], \"table\": [{\"cells\": {\"fill\": {\"color\": \"#EBF0F8\"}, \"line\": {\"color\": \"white\"}}, \"header\": {\"fill\": {\"color\": \"#C8D4E3\"}, \"line\": {\"color\": \"white\"}}, \"type\": \"table\"}]}, \"layout\": {\"annotationdefaults\": {\"arrowcolor\": \"#2a3f5f\", \"arrowhead\": 0, \"arrowwidth\": 1}, \"coloraxis\": {\"colorbar\": {\"outlinewidth\": 0, \"ticks\": \"\"}}, \"colorscale\": {\"diverging\": [[0, \"#8e0152\"], [0.1, \"#c51b7d\"], [0.2, \"#de77ae\"], [0.3, \"#f1b6da\"], [0.4, \"#fde0ef\"], [0.5, \"#f7f7f7\"], [0.6, \"#e6f5d0\"], [0.7, \"#b8e186\"], [0.8, \"#7fbc41\"], [0.9, \"#4d9221\"], [1, \"#276419\"]], \"sequential\": [[0.0, \"#0d0887\"], [0.1111111111111111, \"#46039f\"], [0.2222222222222222, \"#7201a8\"], [0.3333333333333333, \"#9c179e\"], [0.4444444444444444, \"#bd3786\"], [0.5555555555555556, \"#d8576b\"], [0.6666666666666666, \"#ed7953\"], [0.7777777777777778, \"#fb9f3a\"], [0.8888888888888888, \"#fdca26\"], [1.0, \"#f0f921\"]], \"sequentialminus\": [[0.0, \"#0d0887\"], [0.1111111111111111, \"#46039f\"], [0.2222222222222222, \"#7201a8\"], [0.3333333333333333, \"#9c179e\"], [0.4444444444444444, \"#bd3786\"], [0.5555555555555556, \"#d8576b\"], [0.6666666666666666, \"#ed7953\"], [0.7777777777777778, \"#fb9f3a\"], [0.8888888888888888, \"#fdca26\"], [1.0, \"#f0f921\"]]}, \"colorway\": [\"#636efa\", \"#EF553B\", \"#00cc96\", \"#ab63fa\", \"#FFA15A\", \"#19d3f3\", \"#FF6692\", \"#B6E880\", \"#FF97FF\", \"#FECB52\"], \"font\": {\"color\": \"#2a3f5f\"}, \"geo\": {\"bgcolor\": \"white\", \"lakecolor\": \"white\", \"landcolor\": \"#E5ECF6\", \"showlakes\": true, \"showland\": true, \"subunitcolor\": \"white\"}, \"hoverlabel\": {\"align\": \"left\"}, \"hovermode\": \"closest\", \"mapbox\": {\"style\": \"light\"}, \"paper_bgcolor\": \"white\", \"plot_bgcolor\": \"#E5ECF6\", \"polar\": {\"angularaxis\": {\"gridcolor\": \"white\", \"linecolor\": \"white\", \"ticks\": \"\"}, \"bgcolor\": \"#E5ECF6\", \"radialaxis\": {\"gridcolor\": \"white\", \"linecolor\": \"white\", \"ticks\": \"\"}}, \"scene\": {\"xaxis\": {\"backgroundcolor\": \"#E5ECF6\", \"gridcolor\": \"white\", \"gridwidth\": 2, \"linecolor\": \"white\", \"showbackground\": true, \"ticks\": \"\", \"zerolinecolor\": \"white\"}, \"yaxis\": {\"backgroundcolor\": \"#E5ECF6\", \"gridcolor\": \"white\", \"gridwidth\": 2, \"linecolor\": \"white\", \"showbackground\": true, \"ticks\": \"\", \"zerolinecolor\": \"white\"}, \"zaxis\": {\"backgroundcolor\": \"#E5ECF6\", \"gridcolor\": \"white\", \"gridwidth\": 2, \"linecolor\": \"white\", \"showbackground\": true, \"ticks\": \"\", \"zerolinecolor\": \"white\"}}, \"shapedefaults\": {\"line\": {\"color\": \"#2a3f5f\"}}, \"ternary\": {\"aaxis\": {\"gridcolor\": \"white\", \"linecolor\": \"white\", \"ticks\": \"\"}, \"baxis\": {\"gridcolor\": \"white\", \"linecolor\": \"white\", \"ticks\": \"\"}, \"bgcolor\": \"#E5ECF6\", \"caxis\": {\"gridcolor\": \"white\", \"linecolor\": \"white\", \"ticks\": \"\"}}, \"title\": {\"x\": 0.05}, \"xaxis\": {\"automargin\": true, \"gridcolor\": \"white\", \"linecolor\": \"white\", \"ticks\": \"\", \"title\": {\"standoff\": 15}, \"zerolinecolor\": \"white\", \"zerolinewidth\": 2}, \"yaxis\": {\"automargin\": true, \"gridcolor\": \"white\", \"linecolor\": \"white\", \"ticks\": \"\", \"title\": {\"standoff\": 15}, \"zerolinecolor\": \"white\", \"zerolinewidth\": 2}}}, \"title\": {\"text\": \"Distribution of the Percentage of Correct Answers Given by a Student out of the Total number of Questions Answered\"}, \"xaxis\": {\"anchor\": \"y\", \"domain\": [0.0, 1.0], \"title\": {\"text\": \"Percentage of Correct Answers Given by a Student\"}}, \"xaxis2\": {\"anchor\": \"y2\", \"domain\": [0.0, 1.0], \"matches\": \"x\", \"showgrid\": true, \"showticklabels\": false}, \"yaxis\": {\"anchor\": \"x\", \"domain\": [0.0, 0.8316], \"title\": {\"text\": \"count\"}}, \"yaxis2\": {\"anchor\": \"x2\", \"domain\": [0.8416, 1.0], \"matches\": \"y2\", \"showgrid\": false, \"showline\": false, \"showticklabels\": false, \"ticks\": \"\"}},\n",
              "                        {\"responsive\": true}\n",
              "                    ).then(function(){\n",
              "                            \n",
              "var gd = document.getElementById('809e4a32-9dbf-411a-820d-1f92e4f70502');\n",
              "var x = new MutationObserver(function (mutations, observer) {{\n",
              "        var display = window.getComputedStyle(gd).display;\n",
              "        if (!display || display === 'none') {{\n",
              "            console.log([gd, 'removed!']);\n",
              "            Plotly.purge(gd);\n",
              "            observer.disconnect();\n",
              "        }}\n",
              "}});\n",
              "\n",
              "// Listen for the removal of the full notebook cells\n",
              "var notebookContainer = gd.closest('#notebook-container');\n",
              "if (notebookContainer) {{\n",
              "    x.observe(notebookContainer, {childList: true});\n",
              "}}\n",
              "\n",
              "// Listen for the clearing of the current output cell\n",
              "var outputEl = gd.closest('.output');\n",
              "if (outputEl) {{\n",
              "    x.observe(outputEl, {childList: true});\n",
              "}}\n",
              "\n",
              "                        })\n",
              "                };\n",
              "                \n",
              "            </script>\n",
              "        </div>\n",
              "</body>\n",
              "</html>"
            ]
          },
          "metadata": {
            "tags": []
          }
        }
      ]
    },
    {
      "cell_type": "markdown",
      "metadata": {
        "id": "NS_okSLpefYZ"
      },
      "source": [
        "**Key Observations:**\n",
        "\n",
        "- The histogram above demonstrates a symmetrical distribution with 2 outliers.\n",
        "- Most students answered 40 questions (the required amount)\n",
        "- Some students answered less than 20\n",
        "- One student correctly answered 100 % of the questions attempted. This is misleading however, since the appear to have answered only 1 question. \n",
        "\n",
        "- Lorimer, Tanudji, Jones, Start: 12-11-2020, End: 15-11-2020"
      ]
    },
    {
      "cell_type": "markdown",
      "metadata": {
        "id": "hQHQXkRxefYZ"
      },
      "source": [
        "### 5.2.1 Team Correctness\n",
        "\n",
        "Now that we have the percentage of correct answers for each student, lets look at how this carries across to teams.\n",
        "First, let's join the students to their respective Cycle 4 groups.\n",
        "\n",
        "Once we have team data for each of our students we can group by team and average the percent_correct for each team member\n",
        "\n",
        "- Lorimer, Tanudji, Jones, Start: 12-11-2020, End: 15-11-2020"
      ]
    },
    {
      "cell_type": "code",
      "metadata": {
        "id": "tmsafwO1efYa",
        "colab": {
          "base_uri": "https://localhost:8080/",
          "height": 352
        },
        "outputId": "f2345a7a-f526-4d5e-ea6a-a8e5ff0d3df6"
      },
      "source": [
        "c4usercourses = c4usercourses.rename(columns={'user' : 'user_id', 'Team' : 'team'})     # Rename columns so we can merge neatly\n",
        "c4usercourses['user_id']= c4usercourses['user_id'].astype(str)\n",
        "correct_by_student['user_id']= correct_by_student['user_id'].astype(str)\n",
        "answers_team = correct_by_student.merge(c4usercourses, on='user_id')                  # Merge dataframes so we have team data for each student\n",
        "\n",
        "# grouping by\n",
        "answers_groups_by_team = answers_team.groupby('team').mean()\n",
        "# adding color as a column \n",
        "team_colours = ['Black', 'Blue', 'Brown', 'Green', 'Pink', 'Purple', 'Red', 'White', 'Yellow']\n",
        "answers_groups_by_team[\"Groups\"]= team_colours\n",
        "answers_groups_by_team\n",
        "\n",
        "# Lorimer, Start: 12-11-2020, End: 15-11-2020"
      ],
      "execution_count": 30,
      "outputs": [
        {
          "output_type": "execute_result",
          "data": {
            "text/html": [
              "<div>\n",
              "<style scoped>\n",
              "    .dataframe tbody tr th:only-of-type {\n",
              "        vertical-align: middle;\n",
              "    }\n",
              "\n",
              "    .dataframe tbody tr th {\n",
              "        vertical-align: top;\n",
              "    }\n",
              "\n",
              "    .dataframe thead th {\n",
              "        text-align: right;\n",
              "    }\n",
              "</style>\n",
              "<table border=\"1\" class=\"dataframe\">\n",
              "  <thead>\n",
              "    <tr style=\"text-align: right;\">\n",
              "      <th></th>\n",
              "      <th>student_correct</th>\n",
              "      <th>total_answers</th>\n",
              "      <th>percent_correct</th>\n",
              "      <th>Groups</th>\n",
              "    </tr>\n",
              "    <tr>\n",
              "      <th>team</th>\n",
              "      <th></th>\n",
              "      <th></th>\n",
              "      <th></th>\n",
              "      <th></th>\n",
              "    </tr>\n",
              "  </thead>\n",
              "  <tbody>\n",
              "    <tr>\n",
              "      <th>Black</th>\n",
              "      <td>24.406250</td>\n",
              "      <td>44.718750</td>\n",
              "      <td>0.541133</td>\n",
              "      <td>Black</td>\n",
              "    </tr>\n",
              "    <tr>\n",
              "      <th>Blue</th>\n",
              "      <td>27.034483</td>\n",
              "      <td>48.379310</td>\n",
              "      <td>0.543374</td>\n",
              "      <td>Blue</td>\n",
              "    </tr>\n",
              "    <tr>\n",
              "      <th>Brown</th>\n",
              "      <td>22.718750</td>\n",
              "      <td>45.343750</td>\n",
              "      <td>0.495636</td>\n",
              "      <td>Brown</td>\n",
              "    </tr>\n",
              "    <tr>\n",
              "      <th>Green</th>\n",
              "      <td>26.512821</td>\n",
              "      <td>47.461538</td>\n",
              "      <td>0.555908</td>\n",
              "      <td>Green</td>\n",
              "    </tr>\n",
              "    <tr>\n",
              "      <th>Pink</th>\n",
              "      <td>30.027027</td>\n",
              "      <td>52.837838</td>\n",
              "      <td>0.545533</td>\n",
              "      <td>Pink</td>\n",
              "    </tr>\n",
              "    <tr>\n",
              "      <th>Purple</th>\n",
              "      <td>20.384615</td>\n",
              "      <td>42.846154</td>\n",
              "      <td>0.474445</td>\n",
              "      <td>Purple</td>\n",
              "    </tr>\n",
              "    <tr>\n",
              "      <th>Red</th>\n",
              "      <td>23.750000</td>\n",
              "      <td>46.111111</td>\n",
              "      <td>0.508932</td>\n",
              "      <td>Red</td>\n",
              "    </tr>\n",
              "    <tr>\n",
              "      <th>White</th>\n",
              "      <td>27.047619</td>\n",
              "      <td>43.809524</td>\n",
              "      <td>0.615350</td>\n",
              "      <td>White</td>\n",
              "    </tr>\n",
              "    <tr>\n",
              "      <th>Yellow</th>\n",
              "      <td>26.838710</td>\n",
              "      <td>48.677419</td>\n",
              "      <td>0.537623</td>\n",
              "      <td>Yellow</td>\n",
              "    </tr>\n",
              "  </tbody>\n",
              "</table>\n",
              "</div>"
            ],
            "text/plain": [
              "        student_correct  total_answers  percent_correct  Groups\n",
              "team                                                           \n",
              "Black         24.406250      44.718750         0.541133   Black\n",
              "Blue          27.034483      48.379310         0.543374    Blue\n",
              "Brown         22.718750      45.343750         0.495636   Brown\n",
              "Green         26.512821      47.461538         0.555908   Green\n",
              "Pink          30.027027      52.837838         0.545533    Pink\n",
              "Purple        20.384615      42.846154         0.474445  Purple\n",
              "Red           23.750000      46.111111         0.508932     Red\n",
              "White         27.047619      43.809524         0.615350   White\n",
              "Yellow        26.838710      48.677419         0.537623  Yellow"
            ]
          },
          "metadata": {
            "tags": []
          },
          "execution_count": 30
        }
      ]
    },
    {
      "cell_type": "code",
      "metadata": {
        "id": "MmMu0fmfefYc",
        "colab": {
          "base_uri": "https://localhost:8080/",
          "height": 542
        },
        "outputId": "473f7306-bac9-438b-8db9-21d39b7198c9"
      },
      "source": [
        "fig=px.bar(answers_groups_by_team,x='Groups',y=\"percent_correct\",color = \"Groups\", \n",
        "        color_discrete_map = {'Pink': 'hotpink','Green': 'mediumseagreen', 'Yellow': 'gold','Black': 'black','Blue': 'royalblue','Red': 'tomato', 'Brown': 'peru', 'White': 'white','Purple': 'mediumpurple'}, \n",
        "        title = \"Proportion of members in the team % of correctly answered questions by group\",\n",
        "        labels={\"Groups\": \"Groups\",\"percent_correct\": \"Percentage of Correctly answered questions by Groups\"})\n",
        "fig.update_layout(showlegend=False) \n",
        "\n",
        "# Lorimer, Tanudji, Jones, Start: 12-11-2020, End: 15-11-2020"
      ],
      "execution_count": 31,
      "outputs": [
        {
          "output_type": "display_data",
          "data": {
            "text/html": [
              "<html>\n",
              "<head><meta charset=\"utf-8\" /></head>\n",
              "<body>\n",
              "    <div>\n",
              "            <script src=\"https://cdnjs.cloudflare.com/ajax/libs/mathjax/2.7.5/MathJax.js?config=TeX-AMS-MML_SVG\"></script><script type=\"text/javascript\">if (window.MathJax) {MathJax.Hub.Config({SVG: {font: \"STIX-Web\"}});}</script>\n",
              "                <script type=\"text/javascript\">window.PlotlyConfig = {MathJaxConfig: 'local'};</script>\n",
              "        <script src=\"https://cdn.plot.ly/plotly-latest.min.js\"></script>    \n",
              "            <div id=\"0e1bd527-8aef-489a-a661-bc5f535d936a\" class=\"plotly-graph-div\" style=\"height:525px; width:100%;\"></div>\n",
              "            <script type=\"text/javascript\">\n",
              "                \n",
              "                    window.PLOTLYENV=window.PLOTLYENV || {};\n",
              "                    \n",
              "                if (document.getElementById(\"0e1bd527-8aef-489a-a661-bc5f535d936a\")) {\n",
              "                    Plotly.newPlot(\n",
              "                        '0e1bd527-8aef-489a-a661-bc5f535d936a',\n",
              "                        [{\"alignmentgroup\": \"True\", \"hoverlabel\": {\"namelength\": 0}, \"hovertemplate\": \"Groups=%{x}<br>Percentage of Correctly answered questions by Groups=%{y}\", \"legendgroup\": \"Groups=Black\", \"marker\": {\"color\": \"black\"}, \"name\": \"Groups=Black\", \"offsetgroup\": \"Groups=Black\", \"orientation\": \"v\", \"showlegend\": true, \"textposition\": \"auto\", \"type\": \"bar\", \"x\": [\"Black\"], \"xaxis\": \"x\", \"y\": [0.541133298209055], \"yaxis\": \"y\"}, {\"alignmentgroup\": \"True\", \"hoverlabel\": {\"namelength\": 0}, \"hovertemplate\": \"Groups=%{x}<br>Percentage of Correctly answered questions by Groups=%{y}\", \"legendgroup\": \"Groups=Blue\", \"marker\": {\"color\": \"royalblue\"}, \"name\": \"Groups=Blue\", \"offsetgroup\": \"Groups=Blue\", \"orientation\": \"v\", \"showlegend\": true, \"textposition\": \"auto\", \"type\": \"bar\", \"x\": [\"Blue\"], \"xaxis\": \"x\", \"y\": [0.543373847884228], \"yaxis\": \"y\"}, {\"alignmentgroup\": \"True\", \"hoverlabel\": {\"namelength\": 0}, \"hovertemplate\": \"Groups=%{x}<br>Percentage of Correctly answered questions by Groups=%{y}\", \"legendgroup\": \"Groups=Brown\", \"marker\": {\"color\": \"peru\"}, \"name\": \"Groups=Brown\", \"offsetgroup\": \"Groups=Brown\", \"orientation\": \"v\", \"showlegend\": true, \"textposition\": \"auto\", \"type\": \"bar\", \"x\": [\"Brown\"], \"xaxis\": \"x\", \"y\": [0.49563566330038855], \"yaxis\": \"y\"}, {\"alignmentgroup\": \"True\", \"hoverlabel\": {\"namelength\": 0}, \"hovertemplate\": \"Groups=%{x}<br>Percentage of Correctly answered questions by Groups=%{y}\", \"legendgroup\": \"Groups=Green\", \"marker\": {\"color\": \"mediumseagreen\"}, \"name\": \"Groups=Green\", \"offsetgroup\": \"Groups=Green\", \"orientation\": \"v\", \"showlegend\": true, \"textposition\": \"auto\", \"type\": \"bar\", \"x\": [\"Green\"], \"xaxis\": \"x\", \"y\": [0.5559077178804747], \"yaxis\": \"y\"}, {\"alignmentgroup\": \"True\", \"hoverlabel\": {\"namelength\": 0}, \"hovertemplate\": \"Groups=%{x}<br>Percentage of Correctly answered questions by Groups=%{y}\", \"legendgroup\": \"Groups=Pink\", \"marker\": {\"color\": \"hotpink\"}, \"name\": \"Groups=Pink\", \"offsetgroup\": \"Groups=Pink\", \"orientation\": \"v\", \"showlegend\": true, \"textposition\": \"auto\", \"type\": \"bar\", \"x\": [\"Pink\"], \"xaxis\": \"x\", \"y\": [0.5455331877678247], \"yaxis\": \"y\"}, {\"alignmentgroup\": \"True\", \"hoverlabel\": {\"namelength\": 0}, \"hovertemplate\": \"Groups=%{x}<br>Percentage of Correctly answered questions by Groups=%{y}\", \"legendgroup\": \"Groups=Purple\", \"marker\": {\"color\": \"mediumpurple\"}, \"name\": \"Groups=Purple\", \"offsetgroup\": \"Groups=Purple\", \"orientation\": \"v\", \"showlegend\": true, \"textposition\": \"auto\", \"type\": \"bar\", \"x\": [\"Purple\"], \"xaxis\": \"x\", \"y\": [0.4744449484224343], \"yaxis\": \"y\"}, {\"alignmentgroup\": \"True\", \"hoverlabel\": {\"namelength\": 0}, \"hovertemplate\": \"Groups=%{x}<br>Percentage of Correctly answered questions by Groups=%{y}\", \"legendgroup\": \"Groups=Red\", \"marker\": {\"color\": \"tomato\"}, \"name\": \"Groups=Red\", \"offsetgroup\": \"Groups=Red\", \"orientation\": \"v\", \"showlegend\": true, \"textposition\": \"auto\", \"type\": \"bar\", \"x\": [\"Red\"], \"xaxis\": \"x\", \"y\": [0.5089322166669703], \"yaxis\": \"y\"}, {\"alignmentgroup\": \"True\", \"hoverlabel\": {\"namelength\": 0}, \"hovertemplate\": \"Groups=%{x}<br>Percentage of Correctly answered questions by Groups=%{y}\", \"legendgroup\": \"Groups=White\", \"marker\": {\"color\": \"white\"}, \"name\": \"Groups=White\", \"offsetgroup\": \"Groups=White\", \"orientation\": \"v\", \"showlegend\": true, \"textposition\": \"auto\", \"type\": \"bar\", \"x\": [\"White\"], \"xaxis\": \"x\", \"y\": [0.6153503879769202], \"yaxis\": \"y\"}, {\"alignmentgroup\": \"True\", \"hoverlabel\": {\"namelength\": 0}, \"hovertemplate\": \"Groups=%{x}<br>Percentage of Correctly answered questions by Groups=%{y}\", \"legendgroup\": \"Groups=Yellow\", \"marker\": {\"color\": \"gold\"}, \"name\": \"Groups=Yellow\", \"offsetgroup\": \"Groups=Yellow\", \"orientation\": \"v\", \"showlegend\": true, \"textposition\": \"auto\", \"type\": \"bar\", \"x\": [\"Yellow\"], \"xaxis\": \"x\", \"y\": [0.5376225535042617], \"yaxis\": \"y\"}],\n",
              "                        {\"barmode\": \"relative\", \"legend\": {\"tracegroupgap\": 0}, \"showlegend\": false, \"template\": {\"data\": {\"bar\": [{\"error_x\": {\"color\": \"#2a3f5f\"}, \"error_y\": {\"color\": \"#2a3f5f\"}, \"marker\": {\"line\": {\"color\": \"#E5ECF6\", \"width\": 0.5}}, \"type\": \"bar\"}], \"barpolar\": [{\"marker\": {\"line\": {\"color\": \"#E5ECF6\", \"width\": 0.5}}, \"type\": \"barpolar\"}], \"carpet\": [{\"aaxis\": {\"endlinecolor\": \"#2a3f5f\", \"gridcolor\": \"white\", \"linecolor\": \"white\", \"minorgridcolor\": \"white\", \"startlinecolor\": \"#2a3f5f\"}, \"baxis\": {\"endlinecolor\": \"#2a3f5f\", \"gridcolor\": \"white\", \"linecolor\": \"white\", \"minorgridcolor\": \"white\", \"startlinecolor\": \"#2a3f5f\"}, \"type\": \"carpet\"}], \"choropleth\": [{\"colorbar\": {\"outlinewidth\": 0, \"ticks\": \"\"}, \"type\": \"choropleth\"}], \"contour\": [{\"colorbar\": {\"outlinewidth\": 0, \"ticks\": \"\"}, \"colorscale\": [[0.0, \"#0d0887\"], [0.1111111111111111, \"#46039f\"], [0.2222222222222222, \"#7201a8\"], [0.3333333333333333, \"#9c179e\"], [0.4444444444444444, \"#bd3786\"], [0.5555555555555556, \"#d8576b\"], [0.6666666666666666, \"#ed7953\"], [0.7777777777777778, \"#fb9f3a\"], [0.8888888888888888, \"#fdca26\"], [1.0, \"#f0f921\"]], \"type\": \"contour\"}], \"contourcarpet\": [{\"colorbar\": {\"outlinewidth\": 0, \"ticks\": \"\"}, \"type\": \"contourcarpet\"}], \"heatmap\": [{\"colorbar\": {\"outlinewidth\": 0, \"ticks\": \"\"}, \"colorscale\": [[0.0, \"#0d0887\"], [0.1111111111111111, \"#46039f\"], [0.2222222222222222, \"#7201a8\"], [0.3333333333333333, \"#9c179e\"], [0.4444444444444444, \"#bd3786\"], [0.5555555555555556, \"#d8576b\"], [0.6666666666666666, \"#ed7953\"], [0.7777777777777778, \"#fb9f3a\"], [0.8888888888888888, \"#fdca26\"], [1.0, \"#f0f921\"]], \"type\": \"heatmap\"}], \"heatmapgl\": [{\"colorbar\": {\"outlinewidth\": 0, \"ticks\": \"\"}, \"colorscale\": [[0.0, \"#0d0887\"], [0.1111111111111111, \"#46039f\"], [0.2222222222222222, \"#7201a8\"], [0.3333333333333333, \"#9c179e\"], [0.4444444444444444, \"#bd3786\"], [0.5555555555555556, \"#d8576b\"], [0.6666666666666666, \"#ed7953\"], [0.7777777777777778, \"#fb9f3a\"], [0.8888888888888888, \"#fdca26\"], [1.0, \"#f0f921\"]], \"type\": \"heatmapgl\"}], \"histogram\": [{\"marker\": {\"colorbar\": {\"outlinewidth\": 0, \"ticks\": \"\"}}, \"type\": \"histogram\"}], \"histogram2d\": [{\"colorbar\": {\"outlinewidth\": 0, \"ticks\": \"\"}, \"colorscale\": [[0.0, \"#0d0887\"], [0.1111111111111111, \"#46039f\"], [0.2222222222222222, \"#7201a8\"], [0.3333333333333333, \"#9c179e\"], [0.4444444444444444, \"#bd3786\"], [0.5555555555555556, \"#d8576b\"], [0.6666666666666666, \"#ed7953\"], [0.7777777777777778, \"#fb9f3a\"], [0.8888888888888888, \"#fdca26\"], [1.0, \"#f0f921\"]], \"type\": \"histogram2d\"}], \"histogram2dcontour\": [{\"colorbar\": {\"outlinewidth\": 0, \"ticks\": \"\"}, \"colorscale\": [[0.0, \"#0d0887\"], [0.1111111111111111, \"#46039f\"], [0.2222222222222222, \"#7201a8\"], [0.3333333333333333, \"#9c179e\"], [0.4444444444444444, \"#bd3786\"], [0.5555555555555556, \"#d8576b\"], [0.6666666666666666, \"#ed7953\"], [0.7777777777777778, \"#fb9f3a\"], [0.8888888888888888, \"#fdca26\"], [1.0, \"#f0f921\"]], \"type\": \"histogram2dcontour\"}], \"mesh3d\": [{\"colorbar\": {\"outlinewidth\": 0, \"ticks\": \"\"}, \"type\": \"mesh3d\"}], \"parcoords\": [{\"line\": {\"colorbar\": {\"outlinewidth\": 0, \"ticks\": \"\"}}, \"type\": \"parcoords\"}], \"pie\": [{\"automargin\": true, \"type\": \"pie\"}], \"scatter\": [{\"marker\": {\"colorbar\": {\"outlinewidth\": 0, \"ticks\": \"\"}}, \"type\": \"scatter\"}], \"scatter3d\": [{\"line\": {\"colorbar\": {\"outlinewidth\": 0, \"ticks\": \"\"}}, \"marker\": {\"colorbar\": {\"outlinewidth\": 0, \"ticks\": \"\"}}, \"type\": \"scatter3d\"}], \"scattercarpet\": [{\"marker\": {\"colorbar\": {\"outlinewidth\": 0, \"ticks\": \"\"}}, \"type\": \"scattercarpet\"}], \"scattergeo\": [{\"marker\": {\"colorbar\": {\"outlinewidth\": 0, \"ticks\": \"\"}}, \"type\": \"scattergeo\"}], \"scattergl\": [{\"marker\": {\"colorbar\": {\"outlinewidth\": 0, \"ticks\": \"\"}}, \"type\": \"scattergl\"}], \"scattermapbox\": [{\"marker\": {\"colorbar\": {\"outlinewidth\": 0, \"ticks\": \"\"}}, \"type\": \"scattermapbox\"}], \"scatterpolar\": [{\"marker\": {\"colorbar\": {\"outlinewidth\": 0, \"ticks\": \"\"}}, \"type\": \"scatterpolar\"}], \"scatterpolargl\": [{\"marker\": {\"colorbar\": {\"outlinewidth\": 0, \"ticks\": \"\"}}, \"type\": \"scatterpolargl\"}], \"scatterternary\": [{\"marker\": {\"colorbar\": {\"outlinewidth\": 0, \"ticks\": \"\"}}, \"type\": \"scatterternary\"}], \"surface\": [{\"colorbar\": {\"outlinewidth\": 0, \"ticks\": \"\"}, \"colorscale\": [[0.0, \"#0d0887\"], [0.1111111111111111, \"#46039f\"], [0.2222222222222222, \"#7201a8\"], [0.3333333333333333, \"#9c179e\"], [0.4444444444444444, \"#bd3786\"], [0.5555555555555556, \"#d8576b\"], [0.6666666666666666, \"#ed7953\"], [0.7777777777777778, \"#fb9f3a\"], [0.8888888888888888, \"#fdca26\"], [1.0, \"#f0f921\"]], \"type\": \"surface\"}], \"table\": [{\"cells\": {\"fill\": {\"color\": \"#EBF0F8\"}, \"line\": {\"color\": \"white\"}}, \"header\": {\"fill\": {\"color\": \"#C8D4E3\"}, \"line\": {\"color\": \"white\"}}, \"type\": \"table\"}]}, \"layout\": {\"annotationdefaults\": {\"arrowcolor\": \"#2a3f5f\", \"arrowhead\": 0, \"arrowwidth\": 1}, \"coloraxis\": {\"colorbar\": {\"outlinewidth\": 0, \"ticks\": \"\"}}, \"colorscale\": {\"diverging\": [[0, \"#8e0152\"], [0.1, \"#c51b7d\"], [0.2, \"#de77ae\"], [0.3, \"#f1b6da\"], [0.4, \"#fde0ef\"], [0.5, \"#f7f7f7\"], [0.6, \"#e6f5d0\"], [0.7, \"#b8e186\"], [0.8, \"#7fbc41\"], [0.9, \"#4d9221\"], [1, \"#276419\"]], \"sequential\": [[0.0, \"#0d0887\"], [0.1111111111111111, \"#46039f\"], [0.2222222222222222, \"#7201a8\"], [0.3333333333333333, \"#9c179e\"], [0.4444444444444444, \"#bd3786\"], [0.5555555555555556, \"#d8576b\"], [0.6666666666666666, \"#ed7953\"], [0.7777777777777778, \"#fb9f3a\"], [0.8888888888888888, \"#fdca26\"], [1.0, \"#f0f921\"]], \"sequentialminus\": [[0.0, \"#0d0887\"], [0.1111111111111111, \"#46039f\"], [0.2222222222222222, \"#7201a8\"], [0.3333333333333333, \"#9c179e\"], [0.4444444444444444, \"#bd3786\"], [0.5555555555555556, \"#d8576b\"], [0.6666666666666666, \"#ed7953\"], [0.7777777777777778, \"#fb9f3a\"], [0.8888888888888888, \"#fdca26\"], [1.0, \"#f0f921\"]]}, \"colorway\": [\"#636efa\", \"#EF553B\", \"#00cc96\", \"#ab63fa\", \"#FFA15A\", \"#19d3f3\", \"#FF6692\", \"#B6E880\", \"#FF97FF\", \"#FECB52\"], \"font\": {\"color\": \"#2a3f5f\"}, \"geo\": {\"bgcolor\": \"white\", \"lakecolor\": \"white\", \"landcolor\": \"#E5ECF6\", \"showlakes\": true, \"showland\": true, \"subunitcolor\": \"white\"}, \"hoverlabel\": {\"align\": \"left\"}, \"hovermode\": \"closest\", \"mapbox\": {\"style\": \"light\"}, \"paper_bgcolor\": \"white\", \"plot_bgcolor\": \"#E5ECF6\", \"polar\": {\"angularaxis\": {\"gridcolor\": \"white\", \"linecolor\": \"white\", \"ticks\": \"\"}, \"bgcolor\": \"#E5ECF6\", \"radialaxis\": {\"gridcolor\": \"white\", \"linecolor\": \"white\", \"ticks\": \"\"}}, \"scene\": {\"xaxis\": {\"backgroundcolor\": \"#E5ECF6\", \"gridcolor\": \"white\", \"gridwidth\": 2, \"linecolor\": \"white\", \"showbackground\": true, \"ticks\": \"\", \"zerolinecolor\": \"white\"}, \"yaxis\": {\"backgroundcolor\": \"#E5ECF6\", \"gridcolor\": \"white\", \"gridwidth\": 2, \"linecolor\": \"white\", \"showbackground\": true, \"ticks\": \"\", \"zerolinecolor\": \"white\"}, \"zaxis\": {\"backgroundcolor\": \"#E5ECF6\", \"gridcolor\": \"white\", \"gridwidth\": 2, \"linecolor\": \"white\", \"showbackground\": true, \"ticks\": \"\", \"zerolinecolor\": \"white\"}}, \"shapedefaults\": {\"line\": {\"color\": \"#2a3f5f\"}}, \"ternary\": {\"aaxis\": {\"gridcolor\": \"white\", \"linecolor\": \"white\", \"ticks\": \"\"}, \"baxis\": {\"gridcolor\": \"white\", \"linecolor\": \"white\", \"ticks\": \"\"}, \"bgcolor\": \"#E5ECF6\", \"caxis\": {\"gridcolor\": \"white\", \"linecolor\": \"white\", \"ticks\": \"\"}}, \"title\": {\"x\": 0.05}, \"xaxis\": {\"automargin\": true, \"gridcolor\": \"white\", \"linecolor\": \"white\", \"ticks\": \"\", \"title\": {\"standoff\": 15}, \"zerolinecolor\": \"white\", \"zerolinewidth\": 2}, \"yaxis\": {\"automargin\": true, \"gridcolor\": \"white\", \"linecolor\": \"white\", \"ticks\": \"\", \"title\": {\"standoff\": 15}, \"zerolinecolor\": \"white\", \"zerolinewidth\": 2}}}, \"title\": {\"text\": \"Proportion of members in the team % of correctly answered questions by group\"}, \"xaxis\": {\"anchor\": \"y\", \"categoryarray\": [\"Black\", \"Blue\", \"Brown\", \"Green\", \"Pink\", \"Purple\", \"Red\", \"White\", \"Yellow\"], \"categoryorder\": \"array\", \"domain\": [0.0, 1.0], \"title\": {\"text\": \"Groups\"}}, \"yaxis\": {\"anchor\": \"x\", \"domain\": [0.0, 1.0], \"title\": {\"text\": \"Percentage of Correctly answered questions by Groups\"}}},\n",
              "                        {\"responsive\": true}\n",
              "                    ).then(function(){\n",
              "                            \n",
              "var gd = document.getElementById('0e1bd527-8aef-489a-a661-bc5f535d936a');\n",
              "var x = new MutationObserver(function (mutations, observer) {{\n",
              "        var display = window.getComputedStyle(gd).display;\n",
              "        if (!display || display === 'none') {{\n",
              "            console.log([gd, 'removed!']);\n",
              "            Plotly.purge(gd);\n",
              "            observer.disconnect();\n",
              "        }}\n",
              "}});\n",
              "\n",
              "// Listen for the removal of the full notebook cells\n",
              "var notebookContainer = gd.closest('#notebook-container');\n",
              "if (notebookContainer) {{\n",
              "    x.observe(notebookContainer, {childList: true});\n",
              "}}\n",
              "\n",
              "// Listen for the clearing of the current output cell\n",
              "var outputEl = gd.closest('.output');\n",
              "if (outputEl) {{\n",
              "    x.observe(outputEl, {childList: true});\n",
              "}}\n",
              "\n",
              "                        })\n",
              "                };\n",
              "                \n",
              "            </script>\n",
              "        </div>\n",
              "</body>\n",
              "</html>"
            ]
          },
          "metadata": {
            "tags": []
          }
        }
      ]
    },
    {
      "cell_type": "markdown",
      "metadata": {
        "id": "qgVylJa5efYe"
      },
      "source": [
        "**Key Observations**\n",
        "\n",
        "The white team got the highest average percentage correct (0.61) and purple the lowest (0.47)\n",
        "\n",
        "Other than these two groups, there isnt much variation amongst the groups. Due to this lack of variation, it would be interesting to see what the sources of motivation actually were.\n",
        "\n",
        "\n",
        "Below, we visualise the spread of the percentage and the number of correctly answered question within each group.\n",
        "\n",
        "- Lorimer, Start: 12-11-2020, End: 15-11-2020\n"
      ]
    },
    {
      "cell_type": "code",
      "metadata": {
        "id": "9fo8gBhxefYf",
        "colab": {
          "base_uri": "https://localhost:8080/",
          "height": 1000
        },
        "outputId": "89eb7e93-bfe9-419f-e200-4e3b1101b427"
      },
      "source": [
        "boxes_perc_correct = px.box(answers_team, x = 'team', y = 'percent_correct',color=\"team\",\n",
        "  \n",
        "           color_discrete_map = {'Pink': 'hotpink','Green': 'mediumseagreen', 'Yellow': 'gold','Black': 'black','Blue': 'royalblue','Red': 'tomato', 'Brown': 'peru', 'White': 'white','Purple': 'mediumpurple'},\n",
        "           title = \"Boxplots aggregated by Team\",\n",
        "          labels={\"team\": \"Groups\",\"percent_correct\": \"Percentage of Correctly answered questions by Groups\"})\n",
        "\n",
        "\n",
        "boxes_student_correct = px.box(answers_team, x = 'team', y = 'student_correct',color=\"team\",\n",
        "  \n",
        "           color_discrete_map = {'Pink': 'hotpink','Green': 'mediumseagreen', 'Yellow': 'gold','Black': 'black','Blue': 'royalblue','Red': 'tomato', 'Brown': 'peru', 'White': 'white','Purple': 'mediumpurple'},\n",
        "          \n",
        "          labels={\"team\": \"Groups\",\"student_correct\": \"Number of Correctly answered questions by Groups (Students)\"})\n",
        "\n",
        "boxes_perc_correct.update_layout(showlegend=False) \n",
        "boxes_student_correct.update_layout(showlegend=False) \n",
        "boxes_perc_correct.show()\n",
        "boxes_student_correct.show()\n",
        "\n",
        "# Lorimer, Tanudji, Jones, Start: 12-11-2020, End: 15-11-2020"
      ],
      "execution_count": 32,
      "outputs": [
        {
          "output_type": "display_data",
          "data": {
            "text/html": [
              "<html>\n",
              "<head><meta charset=\"utf-8\" /></head>\n",
              "<body>\n",
              "    <div>\n",
              "            <script src=\"https://cdnjs.cloudflare.com/ajax/libs/mathjax/2.7.5/MathJax.js?config=TeX-AMS-MML_SVG\"></script><script type=\"text/javascript\">if (window.MathJax) {MathJax.Hub.Config({SVG: {font: \"STIX-Web\"}});}</script>\n",
              "                <script type=\"text/javascript\">window.PlotlyConfig = {MathJaxConfig: 'local'};</script>\n",
              "        <script src=\"https://cdn.plot.ly/plotly-latest.min.js\"></script>    \n",
              "            <div id=\"8fb9dfb3-3f71-4751-b741-a87f4da7475d\" class=\"plotly-graph-div\" style=\"height:525px; width:100%;\"></div>\n",
              "            <script type=\"text/javascript\">\n",
              "                \n",
              "                    window.PLOTLYENV=window.PLOTLYENV || {};\n",
              "                    \n",
              "                if (document.getElementById(\"8fb9dfb3-3f71-4751-b741-a87f4da7475d\")) {\n",
              "                    Plotly.newPlot(\n",
              "                        '8fb9dfb3-3f71-4751-b741-a87f4da7475d',\n",
              "                        [{\"alignmentgroup\": \"True\", \"hoverlabel\": {\"namelength\": 0}, \"hovertemplate\": \"Groups=%{x}<br>Percentage of Correctly answered questions by Groups=%{y}\", \"legendgroup\": \"Groups=Blue\", \"marker\": {\"color\": \"royalblue\"}, \"name\": \"Groups=Blue\", \"notched\": false, \"offsetgroup\": \"Groups=Blue\", \"orientation\": \"v\", \"showlegend\": true, \"type\": \"box\", \"x\": [\"Blue\", \"Blue\", \"Blue\", \"Blue\", \"Blue\", \"Blue\", \"Blue\", \"Blue\", \"Blue\", \"Blue\", \"Blue\", \"Blue\", \"Blue\", \"Blue\", \"Blue\", \"Blue\", \"Blue\", \"Blue\", \"Blue\", \"Blue\", \"Blue\", \"Blue\", \"Blue\", \"Blue\", \"Blue\", \"Blue\", \"Blue\", \"Blue\", \"Blue\"], \"x0\": \" \", \"xaxis\": \"x\", \"y\": [0.55, 0.7674418604651163, 0.5, 0.7236842105263158, 0.7358490566037735, 0.7111111111111111, 0.6862745098039216, 0.6842105263157895, 0.56, 0.65625, 0.4, 0.325, 0.425, 0.58, 0.6097560975609756, 0.3111111111111111, 0.5121951219512195, 0.29545454545454547, 0.775, 0.4523809523809524, 0.40476190476190477, 0.5, 0.49019607843137253, 0.5079365079365079, 0.6, 0.4880952380952381, 0.6071428571428571, 0.4444444444444444, 0.45454545454545453], \"y0\": \" \", \"yaxis\": \"y\"}, {\"alignmentgroup\": \"True\", \"hoverlabel\": {\"namelength\": 0}, \"hovertemplate\": \"Groups=%{x}<br>Percentage of Correctly answered questions by Groups=%{y}\", \"legendgroup\": \"Groups=Red\", \"marker\": {\"color\": \"tomato\"}, \"name\": \"Groups=Red\", \"notched\": false, \"offsetgroup\": \"Groups=Red\", \"orientation\": \"v\", \"showlegend\": true, \"type\": \"box\", \"x\": [\"Red\", \"Red\", \"Red\", \"Red\", \"Red\", \"Red\", \"Red\", \"Red\", \"Red\", \"Red\", \"Red\", \"Red\", \"Red\", \"Red\", \"Red\", \"Red\", \"Red\", \"Red\", \"Red\", \"Red\", \"Red\", \"Red\", \"Red\", \"Red\", \"Red\", \"Red\", \"Red\", \"Red\", \"Red\", \"Red\", \"Red\", \"Red\", \"Red\", \"Red\", \"Red\", \"Red\"], \"x0\": \" \", \"xaxis\": \"x\", \"y\": [0.6, 0.36585365853658536, 0.4878048780487805, 0.45, 0.38636363636363635, 0.375, 0.4342105263157895, 0.525, 0.3170731707317073, 0.5609756097560976, 0.35714285714285715, 0.6666666666666666, 0.7073170731707317, 0.4523809523809524, 0.5, 0.625, 0.6296296296296297, 0.55, 0.55, 0.5, 0.676056338028169, 0.75, 0.5476190476190477, 0.4375, 0.6041666666666666, 0.5, 0.325, 0.5365853658536586, 0.525, 0.5348837209302325, 0.38461538461538464, 0.44, 0.66, 0.47619047619047616, 0.3469387755102041, 0.5365853658536586], \"y0\": \" \", \"yaxis\": \"y\"}, {\"alignmentgroup\": \"True\", \"hoverlabel\": {\"namelength\": 0}, \"hovertemplate\": \"Groups=%{x}<br>Percentage of Correctly answered questions by Groups=%{y}\", \"legendgroup\": \"Groups=Green\", \"marker\": {\"color\": \"mediumseagreen\"}, \"name\": \"Groups=Green\", \"notched\": false, \"offsetgroup\": \"Groups=Green\", \"orientation\": \"v\", \"showlegend\": true, \"type\": \"box\", \"x\": [\"Green\", \"Green\", \"Green\", \"Green\", \"Green\", \"Green\", \"Green\", \"Green\", \"Green\", \"Green\", \"Green\", \"Green\", \"Green\", \"Green\", \"Green\", \"Green\", \"Green\", \"Green\", \"Green\", \"Green\", \"Green\", \"Green\", \"Green\", \"Green\", \"Green\", \"Green\", \"Green\", \"Green\", \"Green\", \"Green\", \"Green\", \"Green\", \"Green\", \"Green\", \"Green\", \"Green\", \"Green\", \"Green\", \"Green\"], \"x0\": \" \", \"xaxis\": \"x\", \"y\": [0.631578947368421, 0.7619047619047619, 0.4807692307692308, 0.6428571428571429, 0.5609756097560976, 0.717391304347826, 0.46, 0.6341463414634146, 0.4883720930232558, 0.5555555555555556, 0.6, 0.5121951219512195, 0.6774193548387096, 0.6271186440677966, 0.5121951219512195, 0.35555555555555557, 0.5238095238095238, 0.3, 0.5348837209302325, 0.425, 0.475, 0.46153846153846156, 0.5681818181818182, 0.6190476190476191, 0.5, 0.6206896551724138, 0.55, 0.5581395348837209, 0.7142857142857143, 0.4857142857142857, 0.5714285714285714, 0.5531914893617021, 0.8222222222222222, 0.53125, 0.5454545454545454, 0.5714285714285714, 0.5, 0.6447368421052632, 0.38636363636363635], \"y0\": \" \", \"yaxis\": \"y\"}, {\"alignmentgroup\": \"True\", \"hoverlabel\": {\"namelength\": 0}, \"hovertemplate\": \"Groups=%{x}<br>Percentage of Correctly answered questions by Groups=%{y}\", \"legendgroup\": \"Groups=Brown\", \"marker\": {\"color\": \"peru\"}, \"name\": \"Groups=Brown\", \"notched\": false, \"offsetgroup\": \"Groups=Brown\", \"orientation\": \"v\", \"showlegend\": true, \"type\": \"box\", \"x\": [\"Brown\", \"Brown\", \"Brown\", \"Brown\", \"Brown\", \"Brown\", \"Brown\", \"Brown\", \"Brown\", \"Brown\", \"Brown\", \"Brown\", \"Brown\", \"Brown\", \"Brown\", \"Brown\", \"Brown\", \"Brown\", \"Brown\", \"Brown\", \"Brown\", \"Brown\", \"Brown\", \"Brown\", \"Brown\", \"Brown\", \"Brown\", \"Brown\", \"Brown\", \"Brown\", \"Brown\", \"Brown\"], \"x0\": \" \", \"xaxis\": \"x\", \"y\": [0.325, 0.55, 0.25, 0.82, 0.525, 0.5853658536585366, 0.2608695652173913, 0.45, 0.6511627906976745, 0.7763157894736842, 0.725, 0.4146341463414634, 0.42857142857142855, 0.5, 0.5, 0.5833333333333334, 0.41818181818181815, 0.5581395348837209, 0.775, 0.6382978723404256, 0.3409090909090909, 0.5957446808510638, 0.325, 0.38, 0.3953488372093023, 0.4, 0.42105263157894735, 0.5609756097560976, 0.5714285714285714, 0.5531914893617021, 0.4, 0.18181818181818182], \"y0\": \" \", \"yaxis\": \"y\"}, {\"alignmentgroup\": \"True\", \"hoverlabel\": {\"namelength\": 0}, \"hovertemplate\": \"Groups=%{x}<br>Percentage of Correctly answered questions by Groups=%{y}\", \"legendgroup\": \"Groups=Pink\", \"marker\": {\"color\": \"hotpink\"}, \"name\": \"Groups=Pink\", \"notched\": false, \"offsetgroup\": \"Groups=Pink\", \"orientation\": \"v\", \"showlegend\": true, \"type\": \"box\", \"x\": [\"Pink\", \"Pink\", \"Pink\", \"Pink\", \"Pink\", \"Pink\", \"Pink\", \"Pink\", \"Pink\", \"Pink\", \"Pink\", \"Pink\", \"Pink\", \"Pink\", \"Pink\", \"Pink\", \"Pink\", \"Pink\", \"Pink\", \"Pink\", \"Pink\", \"Pink\", \"Pink\", \"Pink\", \"Pink\", \"Pink\", \"Pink\", \"Pink\", \"Pink\", \"Pink\", \"Pink\", \"Pink\", \"Pink\", \"Pink\", \"Pink\", \"Pink\", \"Pink\"], \"x0\": \" \", \"xaxis\": \"x\", \"y\": [0.2558139534883721, 0.25925925925925924, 0.4, 0.40476190476190477, 0.55, 0.6818181818181818, 0.6511627906976745, 0.6578947368421053, 0.39215686274509803, 0.325, 0.4523809523809524, 0.3064516129032258, 0.5686274509803921, 0.660377358490566, 0.5714285714285714, 0.5121951219512195, 0.2926829268292683, 0.6904761904761905, 0.7872340425531915, 0.66, 0.68, 0.627906976744186, 0.6666666666666666, 0.8625, 0.6527777777777778, 0.582089552238806, 0.73, 0.81, 0.4, 0.625, 0.375, 0.375, 0.6382978723404256, 0.5365853658536586, 0.5681818181818182, 0.6, 0.375], \"y0\": \" \", \"yaxis\": \"y\"}, {\"alignmentgroup\": \"True\", \"hoverlabel\": {\"namelength\": 0}, \"hovertemplate\": \"Groups=%{x}<br>Percentage of Correctly answered questions by Groups=%{y}\", \"legendgroup\": \"Groups=White\", \"marker\": {\"color\": \"white\"}, \"name\": \"Groups=White\", \"notched\": false, \"offsetgroup\": \"Groups=White\", \"orientation\": \"v\", \"showlegend\": true, \"type\": \"box\", \"x\": [\"White\", \"White\", \"White\", \"White\", \"White\", \"White\", \"White\", \"White\", \"White\", \"White\", \"White\", \"White\", \"White\", \"White\", \"White\", \"White\", \"White\", \"White\", \"White\", \"White\", \"White\"], \"x0\": \" \", \"xaxis\": \"x\", \"y\": [0.7441860465116279, 0.5609756097560976, 0.6, 0.45, 0.7317073170731707, 0.37209302325581395, 0.6097560975609756, 0.46511627906976744, 0.5714285714285714, 0.6, 0.5853658536585366, 0.5952380952380952, 0.7804878048780488, 0.7441860465116279, 0.5737704918032787, 0.6842105263157895, 0.8181818181818182, 0.7021276595744681, 0.8444444444444444, 0.5476190476190477, 0.34146341463414637], \"y0\": \" \", \"yaxis\": \"y\"}, {\"alignmentgroup\": \"True\", \"hoverlabel\": {\"namelength\": 0}, \"hovertemplate\": \"Groups=%{x}<br>Percentage of Correctly answered questions by Groups=%{y}\", \"legendgroup\": \"Groups=Black\", \"marker\": {\"color\": \"black\"}, \"name\": \"Groups=Black\", \"notched\": false, \"offsetgroup\": \"Groups=Black\", \"orientation\": \"v\", \"showlegend\": true, \"type\": \"box\", \"x\": [\"Black\", \"Black\", \"Black\", \"Black\", \"Black\", \"Black\", \"Black\", \"Black\", \"Black\", \"Black\", \"Black\", \"Black\", \"Black\", \"Black\", \"Black\", \"Black\", \"Black\", \"Black\", \"Black\", \"Black\", \"Black\", \"Black\", \"Black\", \"Black\", \"Black\", \"Black\", \"Black\", \"Black\", \"Black\", \"Black\", \"Black\", \"Black\"], \"x0\": \" \", \"xaxis\": \"x\", \"y\": [0.5714285714285714, 0.5531914893617021, 0.65, 0.6415094339622641, 0.47619047619047616, 0.5116279069767442, 0.47619047619047616, 0.42, 0.6578947368421053, 0.4186046511627907, 0.6046511627906976, 0.4878048780487805, 0.3488372093023256, 0.3902439024390244, 0.525, 0.47619047619047616, 0.7647058823529411, 0.6, 0.6363636363636364, 0.625, 0.5952380952380952, 0.5535714285714286, 0.5192307692307693, 0.6428571428571429, 0.6041666666666666, 0.25, 0.725, 0.5121951219512195, 0.7, 0.42857142857142855, 0.5, 0.45], \"y0\": \" \", \"yaxis\": \"y\"}, {\"alignmentgroup\": \"True\", \"hoverlabel\": {\"namelength\": 0}, \"hovertemplate\": \"Groups=%{x}<br>Percentage of Correctly answered questions by Groups=%{y}\", \"legendgroup\": \"Groups=Yellow\", \"marker\": {\"color\": \"gold\"}, \"name\": \"Groups=Yellow\", \"notched\": false, \"offsetgroup\": \"Groups=Yellow\", \"orientation\": \"v\", \"showlegend\": true, \"type\": \"box\", \"x\": [\"Yellow\", \"Yellow\", \"Yellow\", \"Yellow\", \"Yellow\", \"Yellow\", \"Yellow\", \"Yellow\", \"Yellow\", \"Yellow\", \"Yellow\", \"Yellow\", \"Yellow\", \"Yellow\", \"Yellow\", \"Yellow\", \"Yellow\", \"Yellow\", \"Yellow\", \"Yellow\", \"Yellow\", \"Yellow\", \"Yellow\", \"Yellow\", \"Yellow\", \"Yellow\", \"Yellow\", \"Yellow\", \"Yellow\", \"Yellow\", \"Yellow\"], \"x0\": \" \", \"xaxis\": \"x\", \"y\": [0.45098039215686275, 0.4523809523809524, 0.6875, 0.6274509803921569, 0.43137254901960786, 0.6190476190476191, 0.6862745098039216, 0.475, 0.8837209302325582, 0.4897959183673469, 0.603448275862069, 0.425, 0.5185185185185185, 0.746268656716418, 0.6122448979591837, 0.7, 0.525, 0.6521739130434783, 0.45, 0.3902439024390244, 0.43902439024390244, 0.45, 0.6666666666666666, 0.6170212765957447, 0.35, 0.5, 0.4, 0.375, 0.4444444444444444, 0.3191489361702128, 0.6785714285714286], \"y0\": \" \", \"yaxis\": \"y\"}, {\"alignmentgroup\": \"True\", \"hoverlabel\": {\"namelength\": 0}, \"hovertemplate\": \"Groups=%{x}<br>Percentage of Correctly answered questions by Groups=%{y}\", \"legendgroup\": \"Groups=Purple\", \"marker\": {\"color\": \"mediumpurple\"}, \"name\": \"Groups=Purple\", \"notched\": false, \"offsetgroup\": \"Groups=Purple\", \"orientation\": \"v\", \"showlegend\": true, \"type\": \"box\", \"x\": [\"Purple\", \"Purple\", \"Purple\", \"Purple\", \"Purple\", \"Purple\", \"Purple\", \"Purple\", \"Purple\", \"Purple\", \"Purple\", \"Purple\", \"Purple\"], \"x0\": \" \", \"xaxis\": \"x\", \"y\": [0.625, 0.325, 0.62, 0.4146341463414634, 0.675, 0.3, 0.6, 0.4807692307692308, 0.5714285714285714, 0.4, 0.38095238095238093, 0.375, 0.4], \"y0\": \" \", \"yaxis\": \"y\"}],\n",
              "                        {\"boxmode\": \"group\", \"legend\": {\"tracegroupgap\": 0}, \"showlegend\": false, \"template\": {\"data\": {\"bar\": [{\"error_x\": {\"color\": \"#2a3f5f\"}, \"error_y\": {\"color\": \"#2a3f5f\"}, \"marker\": {\"line\": {\"color\": \"#E5ECF6\", \"width\": 0.5}}, \"type\": \"bar\"}], \"barpolar\": [{\"marker\": {\"line\": {\"color\": \"#E5ECF6\", \"width\": 0.5}}, \"type\": \"barpolar\"}], \"carpet\": [{\"aaxis\": {\"endlinecolor\": \"#2a3f5f\", \"gridcolor\": \"white\", \"linecolor\": \"white\", \"minorgridcolor\": \"white\", \"startlinecolor\": \"#2a3f5f\"}, \"baxis\": {\"endlinecolor\": \"#2a3f5f\", \"gridcolor\": \"white\", \"linecolor\": \"white\", \"minorgridcolor\": \"white\", \"startlinecolor\": \"#2a3f5f\"}, \"type\": \"carpet\"}], \"choropleth\": [{\"colorbar\": {\"outlinewidth\": 0, \"ticks\": \"\"}, \"type\": \"choropleth\"}], \"contour\": [{\"colorbar\": {\"outlinewidth\": 0, \"ticks\": \"\"}, \"colorscale\": [[0.0, \"#0d0887\"], [0.1111111111111111, \"#46039f\"], [0.2222222222222222, \"#7201a8\"], [0.3333333333333333, \"#9c179e\"], [0.4444444444444444, \"#bd3786\"], [0.5555555555555556, \"#d8576b\"], [0.6666666666666666, \"#ed7953\"], [0.7777777777777778, \"#fb9f3a\"], [0.8888888888888888, \"#fdca26\"], [1.0, \"#f0f921\"]], \"type\": \"contour\"}], \"contourcarpet\": [{\"colorbar\": {\"outlinewidth\": 0, \"ticks\": \"\"}, \"type\": \"contourcarpet\"}], \"heatmap\": [{\"colorbar\": {\"outlinewidth\": 0, \"ticks\": \"\"}, \"colorscale\": [[0.0, \"#0d0887\"], [0.1111111111111111, \"#46039f\"], [0.2222222222222222, \"#7201a8\"], [0.3333333333333333, \"#9c179e\"], [0.4444444444444444, \"#bd3786\"], [0.5555555555555556, \"#d8576b\"], [0.6666666666666666, \"#ed7953\"], [0.7777777777777778, \"#fb9f3a\"], [0.8888888888888888, \"#fdca26\"], [1.0, \"#f0f921\"]], \"type\": \"heatmap\"}], \"heatmapgl\": [{\"colorbar\": {\"outlinewidth\": 0, \"ticks\": \"\"}, \"colorscale\": [[0.0, \"#0d0887\"], [0.1111111111111111, \"#46039f\"], [0.2222222222222222, \"#7201a8\"], [0.3333333333333333, \"#9c179e\"], [0.4444444444444444, \"#bd3786\"], [0.5555555555555556, \"#d8576b\"], [0.6666666666666666, \"#ed7953\"], [0.7777777777777778, \"#fb9f3a\"], [0.8888888888888888, \"#fdca26\"], [1.0, \"#f0f921\"]], \"type\": \"heatmapgl\"}], \"histogram\": [{\"marker\": {\"colorbar\": {\"outlinewidth\": 0, \"ticks\": \"\"}}, \"type\": \"histogram\"}], \"histogram2d\": [{\"colorbar\": {\"outlinewidth\": 0, \"ticks\": \"\"}, \"colorscale\": [[0.0, \"#0d0887\"], [0.1111111111111111, \"#46039f\"], [0.2222222222222222, \"#7201a8\"], [0.3333333333333333, \"#9c179e\"], [0.4444444444444444, \"#bd3786\"], [0.5555555555555556, \"#d8576b\"], [0.6666666666666666, \"#ed7953\"], [0.7777777777777778, \"#fb9f3a\"], [0.8888888888888888, \"#fdca26\"], [1.0, \"#f0f921\"]], \"type\": \"histogram2d\"}], \"histogram2dcontour\": [{\"colorbar\": {\"outlinewidth\": 0, \"ticks\": \"\"}, \"colorscale\": [[0.0, \"#0d0887\"], [0.1111111111111111, \"#46039f\"], [0.2222222222222222, \"#7201a8\"], [0.3333333333333333, \"#9c179e\"], [0.4444444444444444, \"#bd3786\"], [0.5555555555555556, \"#d8576b\"], [0.6666666666666666, \"#ed7953\"], [0.7777777777777778, \"#fb9f3a\"], [0.8888888888888888, \"#fdca26\"], [1.0, \"#f0f921\"]], \"type\": \"histogram2dcontour\"}], \"mesh3d\": [{\"colorbar\": {\"outlinewidth\": 0, \"ticks\": \"\"}, \"type\": \"mesh3d\"}], \"parcoords\": [{\"line\": {\"colorbar\": {\"outlinewidth\": 0, \"ticks\": \"\"}}, \"type\": \"parcoords\"}], \"pie\": [{\"automargin\": true, \"type\": \"pie\"}], \"scatter\": [{\"marker\": {\"colorbar\": {\"outlinewidth\": 0, \"ticks\": \"\"}}, \"type\": \"scatter\"}], \"scatter3d\": [{\"line\": {\"colorbar\": {\"outlinewidth\": 0, \"ticks\": \"\"}}, \"marker\": {\"colorbar\": {\"outlinewidth\": 0, \"ticks\": \"\"}}, \"type\": \"scatter3d\"}], \"scattercarpet\": [{\"marker\": {\"colorbar\": {\"outlinewidth\": 0, \"ticks\": \"\"}}, \"type\": \"scattercarpet\"}], \"scattergeo\": [{\"marker\": {\"colorbar\": {\"outlinewidth\": 0, \"ticks\": \"\"}}, \"type\": \"scattergeo\"}], \"scattergl\": [{\"marker\": {\"colorbar\": {\"outlinewidth\": 0, \"ticks\": \"\"}}, \"type\": \"scattergl\"}], \"scattermapbox\": [{\"marker\": {\"colorbar\": {\"outlinewidth\": 0, \"ticks\": \"\"}}, \"type\": \"scattermapbox\"}], \"scatterpolar\": [{\"marker\": {\"colorbar\": {\"outlinewidth\": 0, \"ticks\": \"\"}}, \"type\": \"scatterpolar\"}], \"scatterpolargl\": [{\"marker\": {\"colorbar\": {\"outlinewidth\": 0, \"ticks\": \"\"}}, \"type\": \"scatterpolargl\"}], \"scatterternary\": [{\"marker\": {\"colorbar\": {\"outlinewidth\": 0, \"ticks\": \"\"}}, \"type\": \"scatterternary\"}], \"surface\": [{\"colorbar\": {\"outlinewidth\": 0, \"ticks\": \"\"}, \"colorscale\": [[0.0, \"#0d0887\"], [0.1111111111111111, \"#46039f\"], [0.2222222222222222, \"#7201a8\"], [0.3333333333333333, \"#9c179e\"], [0.4444444444444444, \"#bd3786\"], [0.5555555555555556, \"#d8576b\"], [0.6666666666666666, \"#ed7953\"], [0.7777777777777778, \"#fb9f3a\"], [0.8888888888888888, \"#fdca26\"], [1.0, \"#f0f921\"]], \"type\": \"surface\"}], \"table\": [{\"cells\": {\"fill\": {\"color\": \"#EBF0F8\"}, \"line\": {\"color\": \"white\"}}, \"header\": {\"fill\": {\"color\": \"#C8D4E3\"}, \"line\": {\"color\": \"white\"}}, \"type\": \"table\"}]}, \"layout\": {\"annotationdefaults\": {\"arrowcolor\": \"#2a3f5f\", \"arrowhead\": 0, \"arrowwidth\": 1}, \"coloraxis\": {\"colorbar\": {\"outlinewidth\": 0, \"ticks\": \"\"}}, \"colorscale\": {\"diverging\": [[0, \"#8e0152\"], [0.1, \"#c51b7d\"], [0.2, \"#de77ae\"], [0.3, \"#f1b6da\"], [0.4, \"#fde0ef\"], [0.5, \"#f7f7f7\"], [0.6, \"#e6f5d0\"], [0.7, \"#b8e186\"], [0.8, \"#7fbc41\"], [0.9, \"#4d9221\"], [1, \"#276419\"]], \"sequential\": [[0.0, \"#0d0887\"], [0.1111111111111111, \"#46039f\"], [0.2222222222222222, \"#7201a8\"], [0.3333333333333333, \"#9c179e\"], [0.4444444444444444, \"#bd3786\"], [0.5555555555555556, \"#d8576b\"], [0.6666666666666666, \"#ed7953\"], [0.7777777777777778, \"#fb9f3a\"], [0.8888888888888888, \"#fdca26\"], [1.0, \"#f0f921\"]], \"sequentialminus\": [[0.0, \"#0d0887\"], [0.1111111111111111, \"#46039f\"], [0.2222222222222222, \"#7201a8\"], [0.3333333333333333, \"#9c179e\"], [0.4444444444444444, \"#bd3786\"], [0.5555555555555556, \"#d8576b\"], [0.6666666666666666, \"#ed7953\"], [0.7777777777777778, \"#fb9f3a\"], [0.8888888888888888, \"#fdca26\"], [1.0, \"#f0f921\"]]}, \"colorway\": [\"#636efa\", \"#EF553B\", \"#00cc96\", \"#ab63fa\", \"#FFA15A\", \"#19d3f3\", \"#FF6692\", \"#B6E880\", \"#FF97FF\", \"#FECB52\"], \"font\": {\"color\": \"#2a3f5f\"}, \"geo\": {\"bgcolor\": \"white\", \"lakecolor\": \"white\", \"landcolor\": \"#E5ECF6\", \"showlakes\": true, \"showland\": true, \"subunitcolor\": \"white\"}, \"hoverlabel\": {\"align\": \"left\"}, \"hovermode\": \"closest\", \"mapbox\": {\"style\": \"light\"}, \"paper_bgcolor\": \"white\", \"plot_bgcolor\": \"#E5ECF6\", \"polar\": {\"angularaxis\": {\"gridcolor\": \"white\", \"linecolor\": \"white\", \"ticks\": \"\"}, \"bgcolor\": \"#E5ECF6\", \"radialaxis\": {\"gridcolor\": \"white\", \"linecolor\": \"white\", \"ticks\": \"\"}}, \"scene\": {\"xaxis\": {\"backgroundcolor\": \"#E5ECF6\", \"gridcolor\": \"white\", \"gridwidth\": 2, \"linecolor\": \"white\", \"showbackground\": true, \"ticks\": \"\", \"zerolinecolor\": \"white\"}, \"yaxis\": {\"backgroundcolor\": \"#E5ECF6\", \"gridcolor\": \"white\", \"gridwidth\": 2, \"linecolor\": \"white\", \"showbackground\": true, \"ticks\": \"\", \"zerolinecolor\": \"white\"}, \"zaxis\": {\"backgroundcolor\": \"#E5ECF6\", \"gridcolor\": \"white\", \"gridwidth\": 2, \"linecolor\": \"white\", \"showbackground\": true, \"ticks\": \"\", \"zerolinecolor\": \"white\"}}, \"shapedefaults\": {\"line\": {\"color\": \"#2a3f5f\"}}, \"ternary\": {\"aaxis\": {\"gridcolor\": \"white\", \"linecolor\": \"white\", \"ticks\": \"\"}, \"baxis\": {\"gridcolor\": \"white\", \"linecolor\": \"white\", \"ticks\": \"\"}, \"bgcolor\": \"#E5ECF6\", \"caxis\": {\"gridcolor\": \"white\", \"linecolor\": \"white\", \"ticks\": \"\"}}, \"title\": {\"x\": 0.05}, \"xaxis\": {\"automargin\": true, \"gridcolor\": \"white\", \"linecolor\": \"white\", \"ticks\": \"\", \"title\": {\"standoff\": 15}, \"zerolinecolor\": \"white\", \"zerolinewidth\": 2}, \"yaxis\": {\"automargin\": true, \"gridcolor\": \"white\", \"linecolor\": \"white\", \"ticks\": \"\", \"title\": {\"standoff\": 15}, \"zerolinecolor\": \"white\", \"zerolinewidth\": 2}}}, \"title\": {\"text\": \"Boxplots aggregated by Team\"}, \"xaxis\": {\"anchor\": \"y\", \"categoryarray\": [\"Blue\", \"Red\", \"Green\", \"Brown\", \"Pink\", \"White\", \"Black\", \"Yellow\", \"Purple\"], \"categoryorder\": \"array\", \"domain\": [0.0, 1.0], \"title\": {\"text\": \"Groups\"}}, \"yaxis\": {\"anchor\": \"x\", \"domain\": [0.0, 1.0], \"title\": {\"text\": \"Percentage of Correctly answered questions by Groups\"}}},\n",
              "                        {\"responsive\": true}\n",
              "                    ).then(function(){\n",
              "                            \n",
              "var gd = document.getElementById('8fb9dfb3-3f71-4751-b741-a87f4da7475d');\n",
              "var x = new MutationObserver(function (mutations, observer) {{\n",
              "        var display = window.getComputedStyle(gd).display;\n",
              "        if (!display || display === 'none') {{\n",
              "            console.log([gd, 'removed!']);\n",
              "            Plotly.purge(gd);\n",
              "            observer.disconnect();\n",
              "        }}\n",
              "}});\n",
              "\n",
              "// Listen for the removal of the full notebook cells\n",
              "var notebookContainer = gd.closest('#notebook-container');\n",
              "if (notebookContainer) {{\n",
              "    x.observe(notebookContainer, {childList: true});\n",
              "}}\n",
              "\n",
              "// Listen for the clearing of the current output cell\n",
              "var outputEl = gd.closest('.output');\n",
              "if (outputEl) {{\n",
              "    x.observe(outputEl, {childList: true});\n",
              "}}\n",
              "\n",
              "                        })\n",
              "                };\n",
              "                \n",
              "            </script>\n",
              "        </div>\n",
              "</body>\n",
              "</html>"
            ]
          },
          "metadata": {
            "tags": []
          }
        },
        {
          "output_type": "display_data",
          "data": {
            "text/html": [
              "<html>\n",
              "<head><meta charset=\"utf-8\" /></head>\n",
              "<body>\n",
              "    <div>\n",
              "            <script src=\"https://cdnjs.cloudflare.com/ajax/libs/mathjax/2.7.5/MathJax.js?config=TeX-AMS-MML_SVG\"></script><script type=\"text/javascript\">if (window.MathJax) {MathJax.Hub.Config({SVG: {font: \"STIX-Web\"}});}</script>\n",
              "                <script type=\"text/javascript\">window.PlotlyConfig = {MathJaxConfig: 'local'};</script>\n",
              "        <script src=\"https://cdn.plot.ly/plotly-latest.min.js\"></script>    \n",
              "            <div id=\"0f640a56-a76f-448c-8705-a93034b37f68\" class=\"plotly-graph-div\" style=\"height:525px; width:100%;\"></div>\n",
              "            <script type=\"text/javascript\">\n",
              "                \n",
              "                    window.PLOTLYENV=window.PLOTLYENV || {};\n",
              "                    \n",
              "                if (document.getElementById(\"0f640a56-a76f-448c-8705-a93034b37f68\")) {\n",
              "                    Plotly.newPlot(\n",
              "                        '0f640a56-a76f-448c-8705-a93034b37f68',\n",
              "                        [{\"alignmentgroup\": \"True\", \"hoverlabel\": {\"namelength\": 0}, \"hovertemplate\": \"Groups=%{x}<br>Number of Correctly answered questions by Groups (Students)=%{y}\", \"legendgroup\": \"Groups=Blue\", \"marker\": {\"color\": \"royalblue\"}, \"name\": \"Groups=Blue\", \"notched\": false, \"offsetgroup\": \"Groups=Blue\", \"orientation\": \"v\", \"showlegend\": true, \"type\": \"box\", \"x\": [\"Blue\", \"Blue\", \"Blue\", \"Blue\", \"Blue\", \"Blue\", \"Blue\", \"Blue\", \"Blue\", \"Blue\", \"Blue\", \"Blue\", \"Blue\", \"Blue\", \"Blue\", \"Blue\", \"Blue\", \"Blue\", \"Blue\", \"Blue\", \"Blue\", \"Blue\", \"Blue\", \"Blue\", \"Blue\", \"Blue\", \"Blue\", \"Blue\", \"Blue\"], \"x0\": \" \", \"xaxis\": \"x\", \"y\": [22, 33, 21, 55, 39, 32, 35, 52, 28, 42, 8, 13, 17, 29, 25, 14, 21, 13, 31, 19, 17, 20, 25, 32, 24, 41, 51, 20, 5], \"y0\": \" \", \"yaxis\": \"y\"}, {\"alignmentgroup\": \"True\", \"hoverlabel\": {\"namelength\": 0}, \"hovertemplate\": \"Groups=%{x}<br>Number of Correctly answered questions by Groups (Students)=%{y}\", \"legendgroup\": \"Groups=Red\", \"marker\": {\"color\": \"tomato\"}, \"name\": \"Groups=Red\", \"notched\": false, \"offsetgroup\": \"Groups=Red\", \"orientation\": \"v\", \"showlegend\": true, \"type\": \"box\", \"x\": [\"Red\", \"Red\", \"Red\", \"Red\", \"Red\", \"Red\", \"Red\", \"Red\", \"Red\", \"Red\", \"Red\", \"Red\", \"Red\", \"Red\", \"Red\", \"Red\", \"Red\", \"Red\", \"Red\", \"Red\", \"Red\", \"Red\", \"Red\", \"Red\", \"Red\", \"Red\", \"Red\", \"Red\", \"Red\", \"Red\", \"Red\", \"Red\", \"Red\", \"Red\", \"Red\", \"Red\"], \"x0\": \" \", \"xaxis\": \"x\", \"y\": [24, 15, 20, 18, 17, 15, 33, 21, 13, 23, 15, 28, 29, 19, 22, 25, 34, 33, 22, 21, 48, 54, 23, 21, 29, 20, 13, 22, 21, 23, 20, 22, 33, 20, 17, 22], \"y0\": \" \", \"yaxis\": \"y\"}, {\"alignmentgroup\": \"True\", \"hoverlabel\": {\"namelength\": 0}, \"hovertemplate\": \"Groups=%{x}<br>Number of Correctly answered questions by Groups (Students)=%{y}\", \"legendgroup\": \"Groups=Green\", \"marker\": {\"color\": \"mediumseagreen\"}, \"name\": \"Groups=Green\", \"notched\": false, \"offsetgroup\": \"Groups=Green\", \"orientation\": \"v\", \"showlegend\": true, \"type\": \"box\", \"x\": [\"Green\", \"Green\", \"Green\", \"Green\", \"Green\", \"Green\", \"Green\", \"Green\", \"Green\", \"Green\", \"Green\", \"Green\", \"Green\", \"Green\", \"Green\", \"Green\", \"Green\", \"Green\", \"Green\", \"Green\", \"Green\", \"Green\", \"Green\", \"Green\", \"Green\", \"Green\", \"Green\", \"Green\", \"Green\", \"Green\", \"Green\", \"Green\", \"Green\", \"Green\", \"Green\", \"Green\", \"Green\", \"Green\", \"Green\"], \"x0\": \" \", \"xaxis\": \"x\", \"y\": [36, 32, 25, 27, 23, 33, 23, 26, 21, 25, 24, 21, 42, 37, 21, 16, 22, 12, 23, 17, 19, 24, 25, 26, 20, 36, 22, 24, 30, 34, 24, 26, 37, 34, 24, 32, 25, 49, 17], \"y0\": \" \", \"yaxis\": \"y\"}, {\"alignmentgroup\": \"True\", \"hoverlabel\": {\"namelength\": 0}, \"hovertemplate\": \"Groups=%{x}<br>Number of Correctly answered questions by Groups (Students)=%{y}\", \"legendgroup\": \"Groups=Brown\", \"marker\": {\"color\": \"peru\"}, \"name\": \"Groups=Brown\", \"notched\": false, \"offsetgroup\": \"Groups=Brown\", \"orientation\": \"v\", \"showlegend\": true, \"type\": \"box\", \"x\": [\"Brown\", \"Brown\", \"Brown\", \"Brown\", \"Brown\", \"Brown\", \"Brown\", \"Brown\", \"Brown\", \"Brown\", \"Brown\", \"Brown\", \"Brown\", \"Brown\", \"Brown\", \"Brown\", \"Brown\", \"Brown\", \"Brown\", \"Brown\", \"Brown\", \"Brown\", \"Brown\", \"Brown\", \"Brown\", \"Brown\", \"Brown\", \"Brown\", \"Brown\", \"Brown\", \"Brown\", \"Brown\"], \"x0\": \" \", \"xaxis\": \"x\", \"y\": [13, 22, 13, 41, 21, 24, 12, 18, 28, 59, 29, 17, 18, 20, 20, 35, 23, 24, 31, 30, 15, 28, 13, 19, 17, 16, 24, 23, 24, 26, 16, 8], \"y0\": \" \", \"yaxis\": \"y\"}, {\"alignmentgroup\": \"True\", \"hoverlabel\": {\"namelength\": 0}, \"hovertemplate\": \"Groups=%{x}<br>Number of Correctly answered questions by Groups (Students)=%{y}\", \"legendgroup\": \"Groups=Pink\", \"marker\": {\"color\": \"hotpink\"}, \"name\": \"Groups=Pink\", \"notched\": false, \"offsetgroup\": \"Groups=Pink\", \"orientation\": \"v\", \"showlegend\": true, \"type\": \"box\", \"x\": [\"Pink\", \"Pink\", \"Pink\", \"Pink\", \"Pink\", \"Pink\", \"Pink\", \"Pink\", \"Pink\", \"Pink\", \"Pink\", \"Pink\", \"Pink\", \"Pink\", \"Pink\", \"Pink\", \"Pink\", \"Pink\", \"Pink\", \"Pink\", \"Pink\", \"Pink\", \"Pink\", \"Pink\", \"Pink\", \"Pink\", \"Pink\", \"Pink\", \"Pink\", \"Pink\", \"Pink\", \"Pink\", \"Pink\", \"Pink\", \"Pink\", \"Pink\", \"Pink\"], \"x0\": \" \", \"xaxis\": \"x\", \"y\": [11, 14, 22, 17, 22, 30, 28, 50, 20, 13, 19, 19, 58, 35, 24, 21, 12, 29, 37, 33, 34, 27, 34, 69, 47, 39, 73, 81, 16, 25, 15, 15, 30, 22, 25, 30, 15], \"y0\": \" \", \"yaxis\": \"y\"}, {\"alignmentgroup\": \"True\", \"hoverlabel\": {\"namelength\": 0}, \"hovertemplate\": \"Groups=%{x}<br>Number of Correctly answered questions by Groups (Students)=%{y}\", \"legendgroup\": \"Groups=White\", \"marker\": {\"color\": \"white\"}, \"name\": \"Groups=White\", \"notched\": false, \"offsetgroup\": \"Groups=White\", \"orientation\": \"v\", \"showlegend\": true, \"type\": \"box\", \"x\": [\"White\", \"White\", \"White\", \"White\", \"White\", \"White\", \"White\", \"White\", \"White\", \"White\", \"White\", \"White\", \"White\", \"White\", \"White\", \"White\", \"White\", \"White\", \"White\", \"White\", \"White\"], \"x0\": \" \", \"xaxis\": \"x\", \"y\": [32, 23, 36, 18, 30, 16, 25, 20, 28, 9, 24, 25, 32, 32, 35, 39, 36, 33, 38, 23, 14], \"y0\": \" \", \"yaxis\": \"y\"}, {\"alignmentgroup\": \"True\", \"hoverlabel\": {\"namelength\": 0}, \"hovertemplate\": \"Groups=%{x}<br>Number of Correctly answered questions by Groups (Students)=%{y}\", \"legendgroup\": \"Groups=Black\", \"marker\": {\"color\": \"black\"}, \"name\": \"Groups=Black\", \"notched\": false, \"offsetgroup\": \"Groups=Black\", \"orientation\": \"v\", \"showlegend\": true, \"type\": \"box\", \"x\": [\"Black\", \"Black\", \"Black\", \"Black\", \"Black\", \"Black\", \"Black\", \"Black\", \"Black\", \"Black\", \"Black\", \"Black\", \"Black\", \"Black\", \"Black\", \"Black\", \"Black\", \"Black\", \"Black\", \"Black\", \"Black\", \"Black\", \"Black\", \"Black\", \"Black\", \"Black\", \"Black\", \"Black\", \"Black\", \"Black\", \"Black\", \"Black\"], \"x0\": \" \", \"xaxis\": \"x\", \"y\": [24, 26, 26, 34, 20, 22, 20, 21, 50, 18, 26, 20, 15, 16, 21, 20, 39, 27, 28, 25, 25, 31, 27, 27, 29, 10, 29, 21, 28, 18, 20, 18], \"y0\": \" \", \"yaxis\": \"y\"}, {\"alignmentgroup\": \"True\", \"hoverlabel\": {\"namelength\": 0}, \"hovertemplate\": \"Groups=%{x}<br>Number of Correctly answered questions by Groups (Students)=%{y}\", \"legendgroup\": \"Groups=Yellow\", \"marker\": {\"color\": \"gold\"}, \"name\": \"Groups=Yellow\", \"notched\": false, \"offsetgroup\": \"Groups=Yellow\", \"orientation\": \"v\", \"showlegend\": true, \"type\": \"box\", \"x\": [\"Yellow\", \"Yellow\", \"Yellow\", \"Yellow\", \"Yellow\", \"Yellow\", \"Yellow\", \"Yellow\", \"Yellow\", \"Yellow\", \"Yellow\", \"Yellow\", \"Yellow\", \"Yellow\", \"Yellow\", \"Yellow\", \"Yellow\", \"Yellow\", \"Yellow\", \"Yellow\", \"Yellow\", \"Yellow\", \"Yellow\", \"Yellow\", \"Yellow\", \"Yellow\", \"Yellow\", \"Yellow\", \"Yellow\", \"Yellow\", \"Yellow\"], \"x0\": \" \", \"xaxis\": \"x\", \"y\": [23, 19, 33, 64, 22, 26, 35, 19, 38, 24, 35, 17, 28, 50, 30, 28, 21, 30, 18, 16, 18, 18, 34, 29, 14, 20, 16, 15, 20, 15, 57], \"y0\": \" \", \"yaxis\": \"y\"}, {\"alignmentgroup\": \"True\", \"hoverlabel\": {\"namelength\": 0}, \"hovertemplate\": \"Groups=%{x}<br>Number of Correctly answered questions by Groups (Students)=%{y}\", \"legendgroup\": \"Groups=Purple\", \"marker\": {\"color\": \"mediumpurple\"}, \"name\": \"Groups=Purple\", \"notched\": false, \"offsetgroup\": \"Groups=Purple\", \"orientation\": \"v\", \"showlegend\": true, \"type\": \"box\", \"x\": [\"Purple\", \"Purple\", \"Purple\", \"Purple\", \"Purple\", \"Purple\", \"Purple\", \"Purple\", \"Purple\", \"Purple\", \"Purple\", \"Purple\", \"Purple\"], \"x0\": \" \", \"xaxis\": \"x\", \"y\": [25, 13, 31, 17, 27, 12, 24, 25, 24, 16, 16, 15, 20], \"y0\": \" \", \"yaxis\": \"y\"}],\n",
              "                        {\"boxmode\": \"group\", \"legend\": {\"tracegroupgap\": 0}, \"margin\": {\"t\": 60}, \"showlegend\": false, \"template\": {\"data\": {\"bar\": [{\"error_x\": {\"color\": \"#2a3f5f\"}, \"error_y\": {\"color\": \"#2a3f5f\"}, \"marker\": {\"line\": {\"color\": \"#E5ECF6\", \"width\": 0.5}}, \"type\": \"bar\"}], \"barpolar\": [{\"marker\": {\"line\": {\"color\": \"#E5ECF6\", \"width\": 0.5}}, \"type\": \"barpolar\"}], \"carpet\": [{\"aaxis\": {\"endlinecolor\": \"#2a3f5f\", \"gridcolor\": \"white\", \"linecolor\": \"white\", \"minorgridcolor\": \"white\", \"startlinecolor\": \"#2a3f5f\"}, \"baxis\": {\"endlinecolor\": \"#2a3f5f\", \"gridcolor\": \"white\", \"linecolor\": \"white\", \"minorgridcolor\": \"white\", \"startlinecolor\": \"#2a3f5f\"}, \"type\": \"carpet\"}], \"choropleth\": [{\"colorbar\": {\"outlinewidth\": 0, \"ticks\": \"\"}, \"type\": \"choropleth\"}], \"contour\": [{\"colorbar\": {\"outlinewidth\": 0, \"ticks\": \"\"}, \"colorscale\": [[0.0, \"#0d0887\"], [0.1111111111111111, \"#46039f\"], [0.2222222222222222, \"#7201a8\"], [0.3333333333333333, \"#9c179e\"], [0.4444444444444444, \"#bd3786\"], [0.5555555555555556, \"#d8576b\"], [0.6666666666666666, \"#ed7953\"], [0.7777777777777778, \"#fb9f3a\"], [0.8888888888888888, \"#fdca26\"], [1.0, \"#f0f921\"]], \"type\": \"contour\"}], \"contourcarpet\": [{\"colorbar\": {\"outlinewidth\": 0, \"ticks\": \"\"}, \"type\": \"contourcarpet\"}], \"heatmap\": [{\"colorbar\": {\"outlinewidth\": 0, \"ticks\": \"\"}, \"colorscale\": [[0.0, \"#0d0887\"], [0.1111111111111111, \"#46039f\"], [0.2222222222222222, \"#7201a8\"], [0.3333333333333333, \"#9c179e\"], [0.4444444444444444, \"#bd3786\"], [0.5555555555555556, \"#d8576b\"], [0.6666666666666666, \"#ed7953\"], [0.7777777777777778, \"#fb9f3a\"], [0.8888888888888888, \"#fdca26\"], [1.0, \"#f0f921\"]], \"type\": \"heatmap\"}], \"heatmapgl\": [{\"colorbar\": {\"outlinewidth\": 0, \"ticks\": \"\"}, \"colorscale\": [[0.0, \"#0d0887\"], [0.1111111111111111, \"#46039f\"], [0.2222222222222222, \"#7201a8\"], [0.3333333333333333, \"#9c179e\"], [0.4444444444444444, \"#bd3786\"], [0.5555555555555556, \"#d8576b\"], [0.6666666666666666, \"#ed7953\"], [0.7777777777777778, \"#fb9f3a\"], [0.8888888888888888, \"#fdca26\"], [1.0, \"#f0f921\"]], \"type\": \"heatmapgl\"}], \"histogram\": [{\"marker\": {\"colorbar\": {\"outlinewidth\": 0, \"ticks\": \"\"}}, \"type\": \"histogram\"}], \"histogram2d\": [{\"colorbar\": {\"outlinewidth\": 0, \"ticks\": \"\"}, \"colorscale\": [[0.0, \"#0d0887\"], [0.1111111111111111, \"#46039f\"], [0.2222222222222222, \"#7201a8\"], [0.3333333333333333, \"#9c179e\"], [0.4444444444444444, \"#bd3786\"], [0.5555555555555556, \"#d8576b\"], [0.6666666666666666, \"#ed7953\"], [0.7777777777777778, \"#fb9f3a\"], [0.8888888888888888, \"#fdca26\"], [1.0, \"#f0f921\"]], \"type\": \"histogram2d\"}], \"histogram2dcontour\": [{\"colorbar\": {\"outlinewidth\": 0, \"ticks\": \"\"}, \"colorscale\": [[0.0, \"#0d0887\"], [0.1111111111111111, \"#46039f\"], [0.2222222222222222, \"#7201a8\"], [0.3333333333333333, \"#9c179e\"], [0.4444444444444444, \"#bd3786\"], [0.5555555555555556, \"#d8576b\"], [0.6666666666666666, \"#ed7953\"], [0.7777777777777778, \"#fb9f3a\"], [0.8888888888888888, \"#fdca26\"], [1.0, \"#f0f921\"]], \"type\": \"histogram2dcontour\"}], \"mesh3d\": [{\"colorbar\": {\"outlinewidth\": 0, \"ticks\": \"\"}, \"type\": \"mesh3d\"}], \"parcoords\": [{\"line\": {\"colorbar\": {\"outlinewidth\": 0, \"ticks\": \"\"}}, \"type\": \"parcoords\"}], \"pie\": [{\"automargin\": true, \"type\": \"pie\"}], \"scatter\": [{\"marker\": {\"colorbar\": {\"outlinewidth\": 0, \"ticks\": \"\"}}, \"type\": \"scatter\"}], \"scatter3d\": [{\"line\": {\"colorbar\": {\"outlinewidth\": 0, \"ticks\": \"\"}}, \"marker\": {\"colorbar\": {\"outlinewidth\": 0, \"ticks\": \"\"}}, \"type\": \"scatter3d\"}], \"scattercarpet\": [{\"marker\": {\"colorbar\": {\"outlinewidth\": 0, \"ticks\": \"\"}}, \"type\": \"scattercarpet\"}], \"scattergeo\": [{\"marker\": {\"colorbar\": {\"outlinewidth\": 0, \"ticks\": \"\"}}, \"type\": \"scattergeo\"}], \"scattergl\": [{\"marker\": {\"colorbar\": {\"outlinewidth\": 0, \"ticks\": \"\"}}, \"type\": \"scattergl\"}], \"scattermapbox\": [{\"marker\": {\"colorbar\": {\"outlinewidth\": 0, \"ticks\": \"\"}}, \"type\": \"scattermapbox\"}], \"scatterpolar\": [{\"marker\": {\"colorbar\": {\"outlinewidth\": 0, \"ticks\": \"\"}}, \"type\": \"scatterpolar\"}], \"scatterpolargl\": [{\"marker\": {\"colorbar\": {\"outlinewidth\": 0, \"ticks\": \"\"}}, \"type\": \"scatterpolargl\"}], \"scatterternary\": [{\"marker\": {\"colorbar\": {\"outlinewidth\": 0, \"ticks\": \"\"}}, \"type\": \"scatterternary\"}], \"surface\": [{\"colorbar\": {\"outlinewidth\": 0, \"ticks\": \"\"}, \"colorscale\": [[0.0, \"#0d0887\"], [0.1111111111111111, \"#46039f\"], [0.2222222222222222, \"#7201a8\"], [0.3333333333333333, \"#9c179e\"], [0.4444444444444444, \"#bd3786\"], [0.5555555555555556, \"#d8576b\"], [0.6666666666666666, \"#ed7953\"], [0.7777777777777778, \"#fb9f3a\"], [0.8888888888888888, \"#fdca26\"], [1.0, \"#f0f921\"]], \"type\": \"surface\"}], \"table\": [{\"cells\": {\"fill\": {\"color\": \"#EBF0F8\"}, \"line\": {\"color\": \"white\"}}, \"header\": {\"fill\": {\"color\": \"#C8D4E3\"}, \"line\": {\"color\": \"white\"}}, \"type\": \"table\"}]}, \"layout\": {\"annotationdefaults\": {\"arrowcolor\": \"#2a3f5f\", \"arrowhead\": 0, \"arrowwidth\": 1}, \"coloraxis\": {\"colorbar\": {\"outlinewidth\": 0, \"ticks\": \"\"}}, \"colorscale\": {\"diverging\": [[0, \"#8e0152\"], [0.1, \"#c51b7d\"], [0.2, \"#de77ae\"], [0.3, \"#f1b6da\"], [0.4, \"#fde0ef\"], [0.5, \"#f7f7f7\"], [0.6, \"#e6f5d0\"], [0.7, \"#b8e186\"], [0.8, \"#7fbc41\"], [0.9, \"#4d9221\"], [1, \"#276419\"]], \"sequential\": [[0.0, \"#0d0887\"], [0.1111111111111111, \"#46039f\"], [0.2222222222222222, \"#7201a8\"], [0.3333333333333333, \"#9c179e\"], [0.4444444444444444, \"#bd3786\"], [0.5555555555555556, \"#d8576b\"], [0.6666666666666666, \"#ed7953\"], [0.7777777777777778, \"#fb9f3a\"], [0.8888888888888888, \"#fdca26\"], [1.0, \"#f0f921\"]], \"sequentialminus\": [[0.0, \"#0d0887\"], [0.1111111111111111, \"#46039f\"], [0.2222222222222222, \"#7201a8\"], [0.3333333333333333, \"#9c179e\"], [0.4444444444444444, \"#bd3786\"], [0.5555555555555556, \"#d8576b\"], [0.6666666666666666, \"#ed7953\"], [0.7777777777777778, \"#fb9f3a\"], [0.8888888888888888, \"#fdca26\"], [1.0, \"#f0f921\"]]}, \"colorway\": [\"#636efa\", \"#EF553B\", \"#00cc96\", \"#ab63fa\", \"#FFA15A\", \"#19d3f3\", \"#FF6692\", \"#B6E880\", \"#FF97FF\", \"#FECB52\"], \"font\": {\"color\": \"#2a3f5f\"}, \"geo\": {\"bgcolor\": \"white\", \"lakecolor\": \"white\", \"landcolor\": \"#E5ECF6\", \"showlakes\": true, \"showland\": true, \"subunitcolor\": \"white\"}, \"hoverlabel\": {\"align\": \"left\"}, \"hovermode\": \"closest\", \"mapbox\": {\"style\": \"light\"}, \"paper_bgcolor\": \"white\", \"plot_bgcolor\": \"#E5ECF6\", \"polar\": {\"angularaxis\": {\"gridcolor\": \"white\", \"linecolor\": \"white\", \"ticks\": \"\"}, \"bgcolor\": \"#E5ECF6\", \"radialaxis\": {\"gridcolor\": \"white\", \"linecolor\": \"white\", \"ticks\": \"\"}}, \"scene\": {\"xaxis\": {\"backgroundcolor\": \"#E5ECF6\", \"gridcolor\": \"white\", \"gridwidth\": 2, \"linecolor\": \"white\", \"showbackground\": true, \"ticks\": \"\", \"zerolinecolor\": \"white\"}, \"yaxis\": {\"backgroundcolor\": \"#E5ECF6\", \"gridcolor\": \"white\", \"gridwidth\": 2, \"linecolor\": \"white\", \"showbackground\": true, \"ticks\": \"\", \"zerolinecolor\": \"white\"}, \"zaxis\": {\"backgroundcolor\": \"#E5ECF6\", \"gridcolor\": \"white\", \"gridwidth\": 2, \"linecolor\": \"white\", \"showbackground\": true, \"ticks\": \"\", \"zerolinecolor\": \"white\"}}, \"shapedefaults\": {\"line\": {\"color\": \"#2a3f5f\"}}, \"ternary\": {\"aaxis\": {\"gridcolor\": \"white\", \"linecolor\": \"white\", \"ticks\": \"\"}, \"baxis\": {\"gridcolor\": \"white\", \"linecolor\": \"white\", \"ticks\": \"\"}, \"bgcolor\": \"#E5ECF6\", \"caxis\": {\"gridcolor\": \"white\", \"linecolor\": \"white\", \"ticks\": \"\"}}, \"title\": {\"x\": 0.05}, \"xaxis\": {\"automargin\": true, \"gridcolor\": \"white\", \"linecolor\": \"white\", \"ticks\": \"\", \"title\": {\"standoff\": 15}, \"zerolinecolor\": \"white\", \"zerolinewidth\": 2}, \"yaxis\": {\"automargin\": true, \"gridcolor\": \"white\", \"linecolor\": \"white\", \"ticks\": \"\", \"title\": {\"standoff\": 15}, \"zerolinecolor\": \"white\", \"zerolinewidth\": 2}}}, \"xaxis\": {\"anchor\": \"y\", \"categoryarray\": [\"Blue\", \"Red\", \"Green\", \"Brown\", \"Pink\", \"White\", \"Black\", \"Yellow\", \"Purple\"], \"categoryorder\": \"array\", \"domain\": [0.0, 1.0], \"title\": {\"text\": \"Groups\"}}, \"yaxis\": {\"anchor\": \"x\", \"domain\": [0.0, 1.0], \"title\": {\"text\": \"Number of Correctly answered questions by Groups (Students)\"}}},\n",
              "                        {\"responsive\": true}\n",
              "                    ).then(function(){\n",
              "                            \n",
              "var gd = document.getElementById('0f640a56-a76f-448c-8705-a93034b37f68');\n",
              "var x = new MutationObserver(function (mutations, observer) {{\n",
              "        var display = window.getComputedStyle(gd).display;\n",
              "        if (!display || display === 'none') {{\n",
              "            console.log([gd, 'removed!']);\n",
              "            Plotly.purge(gd);\n",
              "            observer.disconnect();\n",
              "        }}\n",
              "}});\n",
              "\n",
              "// Listen for the removal of the full notebook cells\n",
              "var notebookContainer = gd.closest('#notebook-container');\n",
              "if (notebookContainer) {{\n",
              "    x.observe(notebookContainer, {childList: true});\n",
              "}}\n",
              "\n",
              "// Listen for the clearing of the current output cell\n",
              "var outputEl = gd.closest('.output');\n",
              "if (outputEl) {{\n",
              "    x.observe(outputEl, {childList: true});\n",
              "}}\n",
              "\n",
              "                        })\n",
              "                };\n",
              "                \n",
              "            </script>\n",
              "        </div>\n",
              "</body>\n",
              "</html>"
            ]
          },
          "metadata": {
            "tags": []
          }
        }
      ]
    },
    {
      "cell_type": "markdown",
      "metadata": {
        "id": "X21uP1JtefYi"
      },
      "source": [
        "**Key Observation**\n",
        "\n",
        "- Purple has the smallest range, this is perhaps attributed to a smaller group size\n",
        "- Pink has the largest range and 4 outliers\n",
        "- White has the highest median\n",
        "\n",
        "\n",
        "We can also look at the distribution of the percentage of correctly answered questions within each group:\n",
        "\n",
        "- Lorimer, Start: 12-11-2020, End: 15-11-2020\n"
      ]
    },
    {
      "cell_type": "code",
      "metadata": {
        "id": "FZammgCBefYi",
        "colab": {
          "base_uri": "https://localhost:8080/",
          "height": 542
        },
        "outputId": "e495c3f4-df9a-4db3-c3de-2803502ee768"
      },
      "source": [
        "gp_perc =px.histogram(answers_team, x = \"percent_correct\",facet_col='team',\n",
        "              #labels ={\"percent_correct\": \"Percentage of Correct Answers Given by a Student\"},\n",
        "             title= \"Distribution of the % of Correct Answers Given Within Groups\",\n",
        "             opacity=0.8, color = 'team', \n",
        "             color_discrete_map = {'Pink': 'hotpink','Green': 'mediumseagreen', 'Yellow': 'gold','Black': 'black','Blue': 'royalblue','Red': 'tomato', 'Brown': 'peru', 'White': 'white','Purple': 'mediumpurple'},\n",
        "             labels={\"team\": \"Team\", 'percent_correct': '% Correct'})\n",
        "gp_perc.update_layout(showlegend=False) \n",
        "\n",
        "# Lorimer, Tanudji, Jones, Start: 12-11-2020, End: 15-11-2020"
      ],
      "execution_count": 33,
      "outputs": [
        {
          "output_type": "display_data",
          "data": {
            "text/html": [
              "<html>\n",
              "<head><meta charset=\"utf-8\" /></head>\n",
              "<body>\n",
              "    <div>\n",
              "            <script src=\"https://cdnjs.cloudflare.com/ajax/libs/mathjax/2.7.5/MathJax.js?config=TeX-AMS-MML_SVG\"></script><script type=\"text/javascript\">if (window.MathJax) {MathJax.Hub.Config({SVG: {font: \"STIX-Web\"}});}</script>\n",
              "                <script type=\"text/javascript\">window.PlotlyConfig = {MathJaxConfig: 'local'};</script>\n",
              "        <script src=\"https://cdn.plot.ly/plotly-latest.min.js\"></script>    \n",
              "            <div id=\"3c2423bc-fe10-4aa3-ac9c-f0d37d4e187c\" class=\"plotly-graph-div\" style=\"height:525px; width:100%;\"></div>\n",
              "            <script type=\"text/javascript\">\n",
              "                \n",
              "                    window.PLOTLYENV=window.PLOTLYENV || {};\n",
              "                    \n",
              "                if (document.getElementById(\"3c2423bc-fe10-4aa3-ac9c-f0d37d4e187c\")) {\n",
              "                    Plotly.newPlot(\n",
              "                        '3c2423bc-fe10-4aa3-ac9c-f0d37d4e187c',\n",
              "                        [{\"alignmentgroup\": \"True\", \"bingroup\": \"x\", \"hoverlabel\": {\"namelength\": 0}, \"hovertemplate\": \"Team=Blue<br>% Correct=%{x}<br>count=%{y}\", \"legendgroup\": \"Team=Blue\", \"marker\": {\"color\": \"royalblue\", \"opacity\": 0.8}, \"name\": \"Team=Blue\", \"offsetgroup\": \"Team=Blue\", \"orientation\": \"v\", \"showlegend\": true, \"type\": \"histogram\", \"x\": [0.55, 0.7674418604651163, 0.5, 0.7236842105263158, 0.7358490566037735, 0.7111111111111111, 0.6862745098039216, 0.6842105263157895, 0.56, 0.65625, 0.4, 0.325, 0.425, 0.58, 0.6097560975609756, 0.3111111111111111, 0.5121951219512195, 0.29545454545454547, 0.775, 0.4523809523809524, 0.40476190476190477, 0.5, 0.49019607843137253, 0.5079365079365079, 0.6, 0.4880952380952381, 0.6071428571428571, 0.4444444444444444, 0.45454545454545453], \"xaxis\": \"x\", \"yaxis\": \"y\"}, {\"alignmentgroup\": \"True\", \"bingroup\": \"x\", \"hoverlabel\": {\"namelength\": 0}, \"hovertemplate\": \"Team=Red<br>% Correct=%{x}<br>count=%{y}\", \"legendgroup\": \"Team=Red\", \"marker\": {\"color\": \"tomato\", \"opacity\": 0.8}, \"name\": \"Team=Red\", \"offsetgroup\": \"Team=Red\", \"orientation\": \"v\", \"showlegend\": true, \"type\": \"histogram\", \"x\": [0.6, 0.36585365853658536, 0.4878048780487805, 0.45, 0.38636363636363635, 0.375, 0.4342105263157895, 0.525, 0.3170731707317073, 0.5609756097560976, 0.35714285714285715, 0.6666666666666666, 0.7073170731707317, 0.4523809523809524, 0.5, 0.625, 0.6296296296296297, 0.55, 0.55, 0.5, 0.676056338028169, 0.75, 0.5476190476190477, 0.4375, 0.6041666666666666, 0.5, 0.325, 0.5365853658536586, 0.525, 0.5348837209302325, 0.38461538461538464, 0.44, 0.66, 0.47619047619047616, 0.3469387755102041, 0.5365853658536586], \"xaxis\": \"x2\", \"yaxis\": \"y2\"}, {\"alignmentgroup\": \"True\", \"bingroup\": \"x\", \"hoverlabel\": {\"namelength\": 0}, \"hovertemplate\": \"Team=Green<br>% Correct=%{x}<br>count=%{y}\", \"legendgroup\": \"Team=Green\", \"marker\": {\"color\": \"mediumseagreen\", \"opacity\": 0.8}, \"name\": \"Team=Green\", \"offsetgroup\": \"Team=Green\", \"orientation\": \"v\", \"showlegend\": true, \"type\": \"histogram\", \"x\": [0.631578947368421, 0.7619047619047619, 0.4807692307692308, 0.6428571428571429, 0.5609756097560976, 0.717391304347826, 0.46, 0.6341463414634146, 0.4883720930232558, 0.5555555555555556, 0.6, 0.5121951219512195, 0.6774193548387096, 0.6271186440677966, 0.5121951219512195, 0.35555555555555557, 0.5238095238095238, 0.3, 0.5348837209302325, 0.425, 0.475, 0.46153846153846156, 0.5681818181818182, 0.6190476190476191, 0.5, 0.6206896551724138, 0.55, 0.5581395348837209, 0.7142857142857143, 0.4857142857142857, 0.5714285714285714, 0.5531914893617021, 0.8222222222222222, 0.53125, 0.5454545454545454, 0.5714285714285714, 0.5, 0.6447368421052632, 0.38636363636363635], \"xaxis\": \"x3\", \"yaxis\": \"y3\"}, {\"alignmentgroup\": \"True\", \"bingroup\": \"x\", \"hoverlabel\": {\"namelength\": 0}, \"hovertemplate\": \"Team=Brown<br>% Correct=%{x}<br>count=%{y}\", \"legendgroup\": \"Team=Brown\", \"marker\": {\"color\": \"peru\", \"opacity\": 0.8}, \"name\": \"Team=Brown\", \"offsetgroup\": \"Team=Brown\", \"orientation\": \"v\", \"showlegend\": true, \"type\": \"histogram\", \"x\": [0.325, 0.55, 0.25, 0.82, 0.525, 0.5853658536585366, 0.2608695652173913, 0.45, 0.6511627906976745, 0.7763157894736842, 0.725, 0.4146341463414634, 0.42857142857142855, 0.5, 0.5, 0.5833333333333334, 0.41818181818181815, 0.5581395348837209, 0.775, 0.6382978723404256, 0.3409090909090909, 0.5957446808510638, 0.325, 0.38, 0.3953488372093023, 0.4, 0.42105263157894735, 0.5609756097560976, 0.5714285714285714, 0.5531914893617021, 0.4, 0.18181818181818182], \"xaxis\": \"x4\", \"yaxis\": \"y4\"}, {\"alignmentgroup\": \"True\", \"bingroup\": \"x\", \"hoverlabel\": {\"namelength\": 0}, \"hovertemplate\": \"Team=Pink<br>% Correct=%{x}<br>count=%{y}\", \"legendgroup\": \"Team=Pink\", \"marker\": {\"color\": \"hotpink\", \"opacity\": 0.8}, \"name\": \"Team=Pink\", \"offsetgroup\": \"Team=Pink\", \"orientation\": \"v\", \"showlegend\": true, \"type\": \"histogram\", \"x\": [0.2558139534883721, 0.25925925925925924, 0.4, 0.40476190476190477, 0.55, 0.6818181818181818, 0.6511627906976745, 0.6578947368421053, 0.39215686274509803, 0.325, 0.4523809523809524, 0.3064516129032258, 0.5686274509803921, 0.660377358490566, 0.5714285714285714, 0.5121951219512195, 0.2926829268292683, 0.6904761904761905, 0.7872340425531915, 0.66, 0.68, 0.627906976744186, 0.6666666666666666, 0.8625, 0.6527777777777778, 0.582089552238806, 0.73, 0.81, 0.4, 0.625, 0.375, 0.375, 0.6382978723404256, 0.5365853658536586, 0.5681818181818182, 0.6, 0.375], \"xaxis\": \"x5\", \"yaxis\": \"y5\"}, {\"alignmentgroup\": \"True\", \"bingroup\": \"x\", \"hoverlabel\": {\"namelength\": 0}, \"hovertemplate\": \"Team=White<br>% Correct=%{x}<br>count=%{y}\", \"legendgroup\": \"Team=White\", \"marker\": {\"color\": \"white\", \"opacity\": 0.8}, \"name\": \"Team=White\", \"offsetgroup\": \"Team=White\", \"orientation\": \"v\", \"showlegend\": true, \"type\": \"histogram\", \"x\": [0.7441860465116279, 0.5609756097560976, 0.6, 0.45, 0.7317073170731707, 0.37209302325581395, 0.6097560975609756, 0.46511627906976744, 0.5714285714285714, 0.6, 0.5853658536585366, 0.5952380952380952, 0.7804878048780488, 0.7441860465116279, 0.5737704918032787, 0.6842105263157895, 0.8181818181818182, 0.7021276595744681, 0.8444444444444444, 0.5476190476190477, 0.34146341463414637], \"xaxis\": \"x6\", \"yaxis\": \"y6\"}, {\"alignmentgroup\": \"True\", \"bingroup\": \"x\", \"hoverlabel\": {\"namelength\": 0}, \"hovertemplate\": \"Team=Black<br>% Correct=%{x}<br>count=%{y}\", \"legendgroup\": \"Team=Black\", \"marker\": {\"color\": \"black\", \"opacity\": 0.8}, \"name\": \"Team=Black\", \"offsetgroup\": \"Team=Black\", \"orientation\": \"v\", \"showlegend\": true, \"type\": \"histogram\", \"x\": [0.5714285714285714, 0.5531914893617021, 0.65, 0.6415094339622641, 0.47619047619047616, 0.5116279069767442, 0.47619047619047616, 0.42, 0.6578947368421053, 0.4186046511627907, 0.6046511627906976, 0.4878048780487805, 0.3488372093023256, 0.3902439024390244, 0.525, 0.47619047619047616, 0.7647058823529411, 0.6, 0.6363636363636364, 0.625, 0.5952380952380952, 0.5535714285714286, 0.5192307692307693, 0.6428571428571429, 0.6041666666666666, 0.25, 0.725, 0.5121951219512195, 0.7, 0.42857142857142855, 0.5, 0.45], \"xaxis\": \"x7\", \"yaxis\": \"y7\"}, {\"alignmentgroup\": \"True\", \"bingroup\": \"x\", \"hoverlabel\": {\"namelength\": 0}, \"hovertemplate\": \"Team=Yellow<br>% Correct=%{x}<br>count=%{y}\", \"legendgroup\": \"Team=Yellow\", \"marker\": {\"color\": \"gold\", \"opacity\": 0.8}, \"name\": \"Team=Yellow\", \"offsetgroup\": \"Team=Yellow\", \"orientation\": \"v\", \"showlegend\": true, \"type\": \"histogram\", \"x\": [0.45098039215686275, 0.4523809523809524, 0.6875, 0.6274509803921569, 0.43137254901960786, 0.6190476190476191, 0.6862745098039216, 0.475, 0.8837209302325582, 0.4897959183673469, 0.603448275862069, 0.425, 0.5185185185185185, 0.746268656716418, 0.6122448979591837, 0.7, 0.525, 0.6521739130434783, 0.45, 0.3902439024390244, 0.43902439024390244, 0.45, 0.6666666666666666, 0.6170212765957447, 0.35, 0.5, 0.4, 0.375, 0.4444444444444444, 0.3191489361702128, 0.6785714285714286], \"xaxis\": \"x8\", \"yaxis\": \"y8\"}, {\"alignmentgroup\": \"True\", \"bingroup\": \"x\", \"hoverlabel\": {\"namelength\": 0}, \"hovertemplate\": \"Team=Purple<br>% Correct=%{x}<br>count=%{y}\", \"legendgroup\": \"Team=Purple\", \"marker\": {\"color\": \"mediumpurple\", \"opacity\": 0.8}, \"name\": \"Team=Purple\", \"offsetgroup\": \"Team=Purple\", \"orientation\": \"v\", \"showlegend\": true, \"type\": \"histogram\", \"x\": [0.625, 0.325, 0.62, 0.4146341463414634, 0.675, 0.3, 0.6, 0.4807692307692308, 0.5714285714285714, 0.4, 0.38095238095238093, 0.375, 0.4], \"xaxis\": \"x9\", \"yaxis\": \"y9\"}],\n",
              "                        {\"annotations\": [{\"font\": {}, \"showarrow\": false, \"text\": \"Team=Blue\", \"x\": 0.04666666666666666, \"xanchor\": \"center\", \"xref\": \"paper\", \"y\": 1.0, \"yanchor\": \"bottom\", \"yref\": \"paper\"}, {\"font\": {}, \"showarrow\": false, \"text\": \"Team=Red\", \"x\": 0.16, \"xanchor\": \"center\", \"xref\": \"paper\", \"y\": 1.0, \"yanchor\": \"bottom\", \"yref\": \"paper\"}, {\"font\": {}, \"showarrow\": false, \"text\": \"Team=Green\", \"x\": 0.2733333333333333, \"xanchor\": \"center\", \"xref\": \"paper\", \"y\": 1.0, \"yanchor\": \"bottom\", \"yref\": \"paper\"}, {\"font\": {}, \"showarrow\": false, \"text\": \"Team=Brown\", \"x\": 0.3866666666666666, \"xanchor\": \"center\", \"xref\": \"paper\", \"y\": 1.0, \"yanchor\": \"bottom\", \"yref\": \"paper\"}, {\"font\": {}, \"showarrow\": false, \"text\": \"Team=Pink\", \"x\": 0.5, \"xanchor\": \"center\", \"xref\": \"paper\", \"y\": 1.0, \"yanchor\": \"bottom\", \"yref\": \"paper\"}, {\"font\": {}, \"showarrow\": false, \"text\": \"Team=White\", \"x\": 0.6133333333333333, \"xanchor\": \"center\", \"xref\": \"paper\", \"y\": 1.0, \"yanchor\": \"bottom\", \"yref\": \"paper\"}, {\"font\": {}, \"showarrow\": false, \"text\": \"Team=Black\", \"x\": 0.7266666666666666, \"xanchor\": \"center\", \"xref\": \"paper\", \"y\": 1.0, \"yanchor\": \"bottom\", \"yref\": \"paper\"}, {\"font\": {}, \"showarrow\": false, \"text\": \"Team=Yellow\", \"x\": 0.8400000000000001, \"xanchor\": \"center\", \"xref\": \"paper\", \"y\": 1.0, \"yanchor\": \"bottom\", \"yref\": \"paper\"}, {\"font\": {}, \"showarrow\": false, \"text\": \"Team=Purple\", \"x\": 0.9533333333333334, \"xanchor\": \"center\", \"xref\": \"paper\", \"y\": 1.0, \"yanchor\": \"bottom\", \"yref\": \"paper\"}], \"barmode\": \"relative\", \"legend\": {\"tracegroupgap\": 0}, \"showlegend\": false, \"template\": {\"data\": {\"bar\": [{\"error_x\": {\"color\": \"#2a3f5f\"}, \"error_y\": {\"color\": \"#2a3f5f\"}, \"marker\": {\"line\": {\"color\": \"#E5ECF6\", \"width\": 0.5}}, \"type\": \"bar\"}], \"barpolar\": [{\"marker\": {\"line\": {\"color\": \"#E5ECF6\", \"width\": 0.5}}, \"type\": \"barpolar\"}], \"carpet\": [{\"aaxis\": {\"endlinecolor\": \"#2a3f5f\", \"gridcolor\": \"white\", \"linecolor\": \"white\", \"minorgridcolor\": \"white\", \"startlinecolor\": \"#2a3f5f\"}, \"baxis\": {\"endlinecolor\": \"#2a3f5f\", \"gridcolor\": \"white\", \"linecolor\": \"white\", \"minorgridcolor\": \"white\", \"startlinecolor\": \"#2a3f5f\"}, \"type\": \"carpet\"}], \"choropleth\": [{\"colorbar\": {\"outlinewidth\": 0, \"ticks\": \"\"}, \"type\": \"choropleth\"}], \"contour\": [{\"colorbar\": {\"outlinewidth\": 0, \"ticks\": \"\"}, \"colorscale\": [[0.0, \"#0d0887\"], [0.1111111111111111, \"#46039f\"], [0.2222222222222222, \"#7201a8\"], [0.3333333333333333, \"#9c179e\"], [0.4444444444444444, \"#bd3786\"], [0.5555555555555556, \"#d8576b\"], [0.6666666666666666, \"#ed7953\"], [0.7777777777777778, \"#fb9f3a\"], [0.8888888888888888, \"#fdca26\"], [1.0, \"#f0f921\"]], \"type\": \"contour\"}], \"contourcarpet\": [{\"colorbar\": {\"outlinewidth\": 0, \"ticks\": \"\"}, \"type\": \"contourcarpet\"}], \"heatmap\": [{\"colorbar\": {\"outlinewidth\": 0, \"ticks\": \"\"}, \"colorscale\": [[0.0, \"#0d0887\"], [0.1111111111111111, \"#46039f\"], [0.2222222222222222, \"#7201a8\"], [0.3333333333333333, \"#9c179e\"], [0.4444444444444444, \"#bd3786\"], [0.5555555555555556, \"#d8576b\"], [0.6666666666666666, \"#ed7953\"], [0.7777777777777778, \"#fb9f3a\"], [0.8888888888888888, \"#fdca26\"], [1.0, \"#f0f921\"]], \"type\": \"heatmap\"}], \"heatmapgl\": [{\"colorbar\": {\"outlinewidth\": 0, \"ticks\": \"\"}, \"colorscale\": [[0.0, \"#0d0887\"], [0.1111111111111111, \"#46039f\"], [0.2222222222222222, \"#7201a8\"], [0.3333333333333333, \"#9c179e\"], [0.4444444444444444, \"#bd3786\"], [0.5555555555555556, \"#d8576b\"], [0.6666666666666666, \"#ed7953\"], [0.7777777777777778, \"#fb9f3a\"], [0.8888888888888888, \"#fdca26\"], [1.0, \"#f0f921\"]], \"type\": \"heatmapgl\"}], \"histogram\": [{\"marker\": {\"colorbar\": {\"outlinewidth\": 0, \"ticks\": \"\"}}, \"type\": \"histogram\"}], \"histogram2d\": [{\"colorbar\": {\"outlinewidth\": 0, \"ticks\": \"\"}, \"colorscale\": [[0.0, \"#0d0887\"], [0.1111111111111111, \"#46039f\"], [0.2222222222222222, \"#7201a8\"], [0.3333333333333333, \"#9c179e\"], [0.4444444444444444, \"#bd3786\"], [0.5555555555555556, \"#d8576b\"], [0.6666666666666666, \"#ed7953\"], [0.7777777777777778, \"#fb9f3a\"], [0.8888888888888888, \"#fdca26\"], [1.0, \"#f0f921\"]], \"type\": \"histogram2d\"}], \"histogram2dcontour\": [{\"colorbar\": {\"outlinewidth\": 0, \"ticks\": \"\"}, \"colorscale\": [[0.0, \"#0d0887\"], [0.1111111111111111, \"#46039f\"], [0.2222222222222222, \"#7201a8\"], [0.3333333333333333, \"#9c179e\"], [0.4444444444444444, \"#bd3786\"], [0.5555555555555556, \"#d8576b\"], [0.6666666666666666, \"#ed7953\"], [0.7777777777777778, \"#fb9f3a\"], [0.8888888888888888, \"#fdca26\"], [1.0, \"#f0f921\"]], \"type\": \"histogram2dcontour\"}], \"mesh3d\": [{\"colorbar\": {\"outlinewidth\": 0, \"ticks\": \"\"}, \"type\": \"mesh3d\"}], \"parcoords\": [{\"line\": {\"colorbar\": {\"outlinewidth\": 0, \"ticks\": \"\"}}, \"type\": \"parcoords\"}], \"pie\": [{\"automargin\": true, \"type\": \"pie\"}], \"scatter\": [{\"marker\": {\"colorbar\": {\"outlinewidth\": 0, \"ticks\": \"\"}}, \"type\": \"scatter\"}], \"scatter3d\": [{\"line\": {\"colorbar\": {\"outlinewidth\": 0, \"ticks\": \"\"}}, \"marker\": {\"colorbar\": {\"outlinewidth\": 0, \"ticks\": \"\"}}, \"type\": \"scatter3d\"}], \"scattercarpet\": [{\"marker\": {\"colorbar\": {\"outlinewidth\": 0, \"ticks\": \"\"}}, \"type\": \"scattercarpet\"}], \"scattergeo\": [{\"marker\": {\"colorbar\": {\"outlinewidth\": 0, \"ticks\": \"\"}}, \"type\": \"scattergeo\"}], \"scattergl\": [{\"marker\": {\"colorbar\": {\"outlinewidth\": 0, \"ticks\": \"\"}}, \"type\": \"scattergl\"}], \"scattermapbox\": [{\"marker\": {\"colorbar\": {\"outlinewidth\": 0, \"ticks\": \"\"}}, \"type\": \"scattermapbox\"}], \"scatterpolar\": [{\"marker\": {\"colorbar\": {\"outlinewidth\": 0, \"ticks\": \"\"}}, \"type\": \"scatterpolar\"}], \"scatterpolargl\": [{\"marker\": {\"colorbar\": {\"outlinewidth\": 0, \"ticks\": \"\"}}, \"type\": \"scatterpolargl\"}], \"scatterternary\": [{\"marker\": {\"colorbar\": {\"outlinewidth\": 0, \"ticks\": \"\"}}, \"type\": \"scatterternary\"}], \"surface\": [{\"colorbar\": {\"outlinewidth\": 0, \"ticks\": \"\"}, \"colorscale\": [[0.0, \"#0d0887\"], [0.1111111111111111, \"#46039f\"], [0.2222222222222222, \"#7201a8\"], [0.3333333333333333, \"#9c179e\"], [0.4444444444444444, \"#bd3786\"], [0.5555555555555556, \"#d8576b\"], [0.6666666666666666, \"#ed7953\"], [0.7777777777777778, \"#fb9f3a\"], [0.8888888888888888, \"#fdca26\"], [1.0, \"#f0f921\"]], \"type\": \"surface\"}], \"table\": [{\"cells\": {\"fill\": {\"color\": \"#EBF0F8\"}, \"line\": {\"color\": \"white\"}}, \"header\": {\"fill\": {\"color\": \"#C8D4E3\"}, \"line\": {\"color\": \"white\"}}, \"type\": \"table\"}]}, \"layout\": {\"annotationdefaults\": {\"arrowcolor\": \"#2a3f5f\", \"arrowhead\": 0, \"arrowwidth\": 1}, \"coloraxis\": {\"colorbar\": {\"outlinewidth\": 0, \"ticks\": \"\"}}, \"colorscale\": {\"diverging\": [[0, \"#8e0152\"], [0.1, \"#c51b7d\"], [0.2, \"#de77ae\"], [0.3, \"#f1b6da\"], [0.4, \"#fde0ef\"], [0.5, \"#f7f7f7\"], [0.6, \"#e6f5d0\"], [0.7, \"#b8e186\"], [0.8, \"#7fbc41\"], [0.9, \"#4d9221\"], [1, \"#276419\"]], \"sequential\": [[0.0, \"#0d0887\"], [0.1111111111111111, \"#46039f\"], [0.2222222222222222, \"#7201a8\"], [0.3333333333333333, \"#9c179e\"], [0.4444444444444444, \"#bd3786\"], [0.5555555555555556, \"#d8576b\"], [0.6666666666666666, \"#ed7953\"], [0.7777777777777778, \"#fb9f3a\"], [0.8888888888888888, \"#fdca26\"], [1.0, \"#f0f921\"]], \"sequentialminus\": [[0.0, \"#0d0887\"], [0.1111111111111111, \"#46039f\"], [0.2222222222222222, \"#7201a8\"], [0.3333333333333333, \"#9c179e\"], [0.4444444444444444, \"#bd3786\"], [0.5555555555555556, \"#d8576b\"], [0.6666666666666666, \"#ed7953\"], [0.7777777777777778, \"#fb9f3a\"], [0.8888888888888888, \"#fdca26\"], [1.0, \"#f0f921\"]]}, \"colorway\": [\"#636efa\", \"#EF553B\", \"#00cc96\", \"#ab63fa\", \"#FFA15A\", \"#19d3f3\", \"#FF6692\", \"#B6E880\", \"#FF97FF\", \"#FECB52\"], \"font\": {\"color\": \"#2a3f5f\"}, \"geo\": {\"bgcolor\": \"white\", \"lakecolor\": \"white\", \"landcolor\": \"#E5ECF6\", \"showlakes\": true, \"showland\": true, \"subunitcolor\": \"white\"}, \"hoverlabel\": {\"align\": \"left\"}, \"hovermode\": \"closest\", \"mapbox\": {\"style\": \"light\"}, \"paper_bgcolor\": \"white\", \"plot_bgcolor\": \"#E5ECF6\", \"polar\": {\"angularaxis\": {\"gridcolor\": \"white\", \"linecolor\": \"white\", \"ticks\": \"\"}, \"bgcolor\": \"#E5ECF6\", \"radialaxis\": {\"gridcolor\": \"white\", \"linecolor\": \"white\", \"ticks\": \"\"}}, \"scene\": {\"xaxis\": {\"backgroundcolor\": \"#E5ECF6\", \"gridcolor\": \"white\", \"gridwidth\": 2, \"linecolor\": \"white\", \"showbackground\": true, \"ticks\": \"\", \"zerolinecolor\": \"white\"}, \"yaxis\": {\"backgroundcolor\": \"#E5ECF6\", \"gridcolor\": \"white\", \"gridwidth\": 2, \"linecolor\": \"white\", \"showbackground\": true, \"ticks\": \"\", \"zerolinecolor\": \"white\"}, \"zaxis\": {\"backgroundcolor\": \"#E5ECF6\", \"gridcolor\": \"white\", \"gridwidth\": 2, \"linecolor\": \"white\", \"showbackground\": true, \"ticks\": \"\", \"zerolinecolor\": \"white\"}}, \"shapedefaults\": {\"line\": {\"color\": \"#2a3f5f\"}}, \"ternary\": {\"aaxis\": {\"gridcolor\": \"white\", \"linecolor\": \"white\", \"ticks\": \"\"}, \"baxis\": {\"gridcolor\": \"white\", \"linecolor\": \"white\", \"ticks\": \"\"}, \"bgcolor\": \"#E5ECF6\", \"caxis\": {\"gridcolor\": \"white\", \"linecolor\": \"white\", \"ticks\": \"\"}}, \"title\": {\"x\": 0.05}, \"xaxis\": {\"automargin\": true, \"gridcolor\": \"white\", \"linecolor\": \"white\", \"ticks\": \"\", \"title\": {\"standoff\": 15}, \"zerolinecolor\": \"white\", \"zerolinewidth\": 2}, \"yaxis\": {\"automargin\": true, \"gridcolor\": \"white\", \"linecolor\": \"white\", \"ticks\": \"\", \"title\": {\"standoff\": 15}, \"zerolinecolor\": \"white\", \"zerolinewidth\": 2}}}, \"title\": {\"text\": \"Distribution of the % of Correct Answers Given Within Groups\"}, \"xaxis\": {\"anchor\": \"y\", \"domain\": [0.0, 0.09333333333333332], \"title\": {\"text\": \"% Correct\"}}, \"xaxis2\": {\"anchor\": \"y2\", \"domain\": [0.11333333333333333, 0.20666666666666667], \"matches\": \"x\", \"title\": {\"text\": \"% Correct\"}}, \"xaxis3\": {\"anchor\": \"y3\", \"domain\": [0.22666666666666666, 0.31999999999999995], \"matches\": \"x\", \"title\": {\"text\": \"% Correct\"}}, \"xaxis4\": {\"anchor\": \"y4\", \"domain\": [0.33999999999999997, 0.4333333333333333], \"matches\": \"x\", \"title\": {\"text\": \"% Correct\"}}, \"xaxis5\": {\"anchor\": \"y5\", \"domain\": [0.4533333333333333, 0.5466666666666666], \"matches\": \"x\", \"title\": {\"text\": \"% Correct\"}}, \"xaxis6\": {\"anchor\": \"y6\", \"domain\": [0.5666666666666667, 0.6599999999999999], \"matches\": \"x\", \"title\": {\"text\": \"% Correct\"}}, \"xaxis7\": {\"anchor\": \"y7\", \"domain\": [0.6799999999999999, 0.7733333333333332], \"matches\": \"x\", \"title\": {\"text\": \"% Correct\"}}, \"xaxis8\": {\"anchor\": \"y8\", \"domain\": [0.7933333333333333, 0.8866666666666667], \"matches\": \"x\", \"title\": {\"text\": \"% Correct\"}}, \"xaxis9\": {\"anchor\": \"y9\", \"domain\": [0.9066666666666666, 1.0], \"matches\": \"x\", \"title\": {\"text\": \"% Correct\"}}, \"yaxis\": {\"anchor\": \"x\", \"domain\": [0.0, 1.0], \"title\": {\"text\": \"count\"}}, \"yaxis2\": {\"anchor\": \"x2\", \"domain\": [0.0, 1.0], \"matches\": \"y\", \"showticklabels\": false}, \"yaxis3\": {\"anchor\": \"x3\", \"domain\": [0.0, 1.0], \"matches\": \"y\", \"showticklabels\": false}, \"yaxis4\": {\"anchor\": \"x4\", \"domain\": [0.0, 1.0], \"matches\": \"y\", \"showticklabels\": false}, \"yaxis5\": {\"anchor\": \"x5\", \"domain\": [0.0, 1.0], \"matches\": \"y\", \"showticklabels\": false}, \"yaxis6\": {\"anchor\": \"x6\", \"domain\": [0.0, 1.0], \"matches\": \"y\", \"showticklabels\": false}, \"yaxis7\": {\"anchor\": \"x7\", \"domain\": [0.0, 1.0], \"matches\": \"y\", \"showticklabels\": false}, \"yaxis8\": {\"anchor\": \"x8\", \"domain\": [0.0, 1.0], \"matches\": \"y\", \"showticklabels\": false}, \"yaxis9\": {\"anchor\": \"x9\", \"domain\": [0.0, 1.0], \"matches\": \"y\", \"showticklabels\": false}},\n",
              "                        {\"responsive\": true}\n",
              "                    ).then(function(){\n",
              "                            \n",
              "var gd = document.getElementById('3c2423bc-fe10-4aa3-ac9c-f0d37d4e187c');\n",
              "var x = new MutationObserver(function (mutations, observer) {{\n",
              "        var display = window.getComputedStyle(gd).display;\n",
              "        if (!display || display === 'none') {{\n",
              "            console.log([gd, 'removed!']);\n",
              "            Plotly.purge(gd);\n",
              "            observer.disconnect();\n",
              "        }}\n",
              "}});\n",
              "\n",
              "// Listen for the removal of the full notebook cells\n",
              "var notebookContainer = gd.closest('#notebook-container');\n",
              "if (notebookContainer) {{\n",
              "    x.observe(notebookContainer, {childList: true});\n",
              "}}\n",
              "\n",
              "// Listen for the clearing of the current output cell\n",
              "var outputEl = gd.closest('.output');\n",
              "if (outputEl) {{\n",
              "    x.observe(outputEl, {childList: true});\n",
              "}}\n",
              "\n",
              "                        })\n",
              "                };\n",
              "                \n",
              "            </script>\n",
              "        </div>\n",
              "</body>\n",
              "</html>"
            ]
          },
          "metadata": {
            "tags": []
          }
        }
      ]
    },
    {
      "cell_type": "markdown",
      "metadata": {
        "id": "8EsKwh3PefYl"
      },
      "source": [
        "- The teams are not too different from one another in distribution either,\n",
        "- The white team is definitely made up of the best performers on average,though, with a minimum value higher than all the other groups, and a median higher than all other groups.\n",
        "- Teams Pink, Red, Green and Brown  appear to be skewed to the left, towards a lower percentage of people answering correctly\n",
        "- Where as team White, shows strong performance even though there are less people answering correctly.\n",
        "\n",
        "- Lorimer, Start: 12-11-2020, End: 15-11-2020\n"
      ]
    },
    {
      "cell_type": "markdown",
      "metadata": {
        "id": "BDwaQyybHNkr"
      },
      "source": [
        "Now that we have analysed student impprovement in cycle 4 compared to cycle 2 and student performance, we should take a deeper look into motivation. Motivation may help us understand the aspects that make a group perform well and help us understand the effects of group membership on PeerWise performance.\n",
        "- Safi, Start: 12-11-2020, End: 17-11-2020"
      ]
    },
    {
      "cell_type": "markdown",
      "metadata": {
        "id": "VHyMe5FhefYm"
      },
      "source": [
        "## 5.3 Motivation"
      ]
    },
    {
      "cell_type": "markdown",
      "metadata": {
        "id": "t8VILVxDH7fG"
      },
      "source": [
        "In this section we will analyse motivation in regards to lateness of comments and lateness of questions. Following this we must first merge dataframes to be able to have both the timestamps of comments and questions for each group. We will also make a new dataframe called `q_and_a_deadline` which includes question and answer deadlines and how late repsonses and questions are.\n",
        "- Safi, Start: 12-11-2020, End: 17-11-2020"
      ]
    },
    {
      "cell_type": "code",
      "metadata": {
        "id": "4MGMhDAgefYn",
        "colab": {
          "base_uri": "https://localhost:8080/",
          "height": 305
        },
        "outputId": "07260482-42bd-4269-ea1f-a10ea72f93d6"
      },
      "source": [
        "#In this code section we save a dataframe for the question and answer deadlines\n",
        "c3courses_selected = c3courses[['CourseID', 'StartDate', 'DeadlineAnswer']]\n",
        "c3courses_selected = c3courses_selected.rename(columns={'CourseID' : 'course_id', 'StartDate' : 'start_date', 'DeadlineAnswer' : 'answer_deadline'})\n",
        "qs_with_deadline = qs_selected.merge(c3courses_selected, on='course_id')\n",
        "q_and_a_deadline = ans_selected.merge(qs_with_deadline[['question_id', 'correct_answer', 'start_date', 'answer_deadline']], on='question_id')\n",
        "q_and_a_deadline = q_and_a_deadline.astype({'answer_time' : 'datetime64'})\n",
        "q_and_a_deadline['time_delta'] = q_and_a_deadline['answer_deadline'] - q_and_a_deadline['answer_time']  # 'Time difference between due date and answer time' column\n",
        "q_and_a_deadline['late'] = q_and_a_deadline['time_delta'].dt.days < 0      \n",
        "                           # 'Answer was posted late' column\n",
        "\n",
        "q_and_a_deadline['date_str']= q_and_a_deadline['time_delta'].astype(str)\n",
        "q_and_a_deadline[['no_days', 'Days', 'time']]= q_and_a_deadline.date_str.str.split(\" \",expand=True,) # splitting the time_delta column and keepingas string\n",
        "\n",
        "q_and_a_deadline['no_days']= q_and_a_deadline['no_days'].astype(int) # converting back to int\n",
        "q_and_a_deadline.head(n=5)\n",
        "#q_and_a_deadline['time_delta'].dt.days.plot.hist() # Plot days before due date\n",
        "\n",
        "# Lorimer, Start: 12-11-2020, End: 15-11-2020\n"
      ],
      "execution_count": 34,
      "outputs": [
        {
          "output_type": "execute_result",
          "data": {
            "text/html": [
              "<div>\n",
              "<style scoped>\n",
              "    .dataframe tbody tr th:only-of-type {\n",
              "        vertical-align: middle;\n",
              "    }\n",
              "\n",
              "    .dataframe tbody tr th {\n",
              "        vertical-align: top;\n",
              "    }\n",
              "\n",
              "    .dataframe thead th {\n",
              "        text-align: right;\n",
              "    }\n",
              "</style>\n",
              "<table border=\"1\" class=\"dataframe\">\n",
              "  <thead>\n",
              "    <tr style=\"text-align: right;\">\n",
              "      <th></th>\n",
              "      <th>answer_id</th>\n",
              "      <th>answer_time</th>\n",
              "      <th>user_id</th>\n",
              "      <th>question_id</th>\n",
              "      <th>chosen_answer</th>\n",
              "      <th>correct_answer</th>\n",
              "      <th>start_date</th>\n",
              "      <th>answer_deadline</th>\n",
              "      <th>time_delta</th>\n",
              "      <th>late</th>\n",
              "      <th>date_str</th>\n",
              "      <th>no_days</th>\n",
              "      <th>Days</th>\n",
              "      <th>time</th>\n",
              "    </tr>\n",
              "  </thead>\n",
              "  <tbody>\n",
              "    <tr>\n",
              "      <th>0</th>\n",
              "      <td>69566868</td>\n",
              "      <td>2020-04-08 00:24:47</td>\n",
              "      <td>636020</td>\n",
              "      <td>4421443</td>\n",
              "      <td>B</td>\n",
              "      <td>B</td>\n",
              "      <td>2020-04-06</td>\n",
              "      <td>2020-04-21 01:00:10</td>\n",
              "      <td>13 days 00:35:23</td>\n",
              "      <td>False</td>\n",
              "      <td>13 days 00:35:23</td>\n",
              "      <td>13</td>\n",
              "      <td>days</td>\n",
              "      <td>00:35:23</td>\n",
              "    </tr>\n",
              "    <tr>\n",
              "      <th>1</th>\n",
              "      <td>69567865</td>\n",
              "      <td>2020-04-08 01:09:42</td>\n",
              "      <td>636029</td>\n",
              "      <td>4421443</td>\n",
              "      <td>B</td>\n",
              "      <td>B</td>\n",
              "      <td>2020-04-06</td>\n",
              "      <td>2020-04-21 01:00:10</td>\n",
              "      <td>12 days 23:50:28</td>\n",
              "      <td>False</td>\n",
              "      <td>12 days 23:50:28</td>\n",
              "      <td>12</td>\n",
              "      <td>days</td>\n",
              "      <td>23:50:28</td>\n",
              "    </tr>\n",
              "    <tr>\n",
              "      <th>2</th>\n",
              "      <td>69570815</td>\n",
              "      <td>2020-04-08 03:03:02</td>\n",
              "      <td>635998</td>\n",
              "      <td>4421443</td>\n",
              "      <td>A</td>\n",
              "      <td>B</td>\n",
              "      <td>2020-04-06</td>\n",
              "      <td>2020-04-21 01:00:10</td>\n",
              "      <td>12 days 21:57:08</td>\n",
              "      <td>False</td>\n",
              "      <td>12 days 21:57:08</td>\n",
              "      <td>12</td>\n",
              "      <td>days</td>\n",
              "      <td>21:57:08</td>\n",
              "    </tr>\n",
              "    <tr>\n",
              "      <th>3</th>\n",
              "      <td>69583371</td>\n",
              "      <td>2020-04-08 10:34:31</td>\n",
              "      <td>635992</td>\n",
              "      <td>4421443</td>\n",
              "      <td>B</td>\n",
              "      <td>B</td>\n",
              "      <td>2020-04-06</td>\n",
              "      <td>2020-04-21 01:00:10</td>\n",
              "      <td>12 days 14:25:39</td>\n",
              "      <td>False</td>\n",
              "      <td>12 days 14:25:39</td>\n",
              "      <td>12</td>\n",
              "      <td>days</td>\n",
              "      <td>14:25:39</td>\n",
              "    </tr>\n",
              "    <tr>\n",
              "      <th>4</th>\n",
              "      <td>69595122</td>\n",
              "      <td>2020-04-08 14:55:46</td>\n",
              "      <td>636019</td>\n",
              "      <td>4421443</td>\n",
              "      <td>A</td>\n",
              "      <td>B</td>\n",
              "      <td>2020-04-06</td>\n",
              "      <td>2020-04-21 01:00:10</td>\n",
              "      <td>12 days 10:04:24</td>\n",
              "      <td>False</td>\n",
              "      <td>12 days 10:04:24</td>\n",
              "      <td>12</td>\n",
              "      <td>days</td>\n",
              "      <td>10:04:24</td>\n",
              "    </tr>\n",
              "  </tbody>\n",
              "</table>\n",
              "</div>"
            ],
            "text/plain": [
              "   answer_id         answer_time  user_id  ...  no_days  Days      time\n",
              "0   69566868 2020-04-08 00:24:47   636020  ...       13  days  00:35:23\n",
              "1   69567865 2020-04-08 01:09:42   636029  ...       12  days  23:50:28\n",
              "2   69570815 2020-04-08 03:03:02   635998  ...       12  days  21:57:08\n",
              "3   69583371 2020-04-08 10:34:31   635992  ...       12  days  14:25:39\n",
              "4   69595122 2020-04-08 14:55:46   636019  ...       12  days  10:04:24\n",
              "\n",
              "[5 rows x 14 columns]"
            ]
          },
          "metadata": {
            "tags": []
          },
          "execution_count": 34
        }
      ]
    },
    {
      "cell_type": "markdown",
      "metadata": {
        "id": "BRIyyGPzJQ97"
      },
      "source": [
        "The output above presents the new dataframe we have created. We can now view the new coloumns of:\n",
        "- `time_delta`: time difference between posting and deadline\n",
        "- `late`: Answer was posted late\n",
        "- `no_days`: Number of days until deadline as an integer\n",
        "- Safi, Start: 12-11-2020, End: 17-11-2020"
      ]
    },
    {
      "cell_type": "markdown",
      "metadata": {
        "id": "oQ7hikdPKMsC"
      },
      "source": [
        "Now that we have this new and interesting dataframe, we can take a deeper analysis into the lateness of comments."
      ]
    },
    {
      "cell_type": "markdown",
      "metadata": {
        "id": "WcdKwQNXefYt"
      },
      "source": [
        "### 5.3.1 Lateness of Comments\n",
        "\n",
        "Here we explore the lateness of comments. This analysis might determine if comment lateness is an indicator of overall group performance.\n",
        "- Safi, Start: 12-11-2020, End: 17-11-2020"
      ]
    },
    {
      "cell_type": "markdown",
      "metadata": {
        "id": "8AItoWm3KqcQ"
      },
      "source": [
        "Below we will print the `c1courses` and `c1comments` coloumns as a list."
      ]
    },
    {
      "cell_type": "code",
      "metadata": {
        "id": "9p0InGSdKwWR",
        "colab": {
          "base_uri": "https://localhost:8080/"
        },
        "outputId": "e9c433d0-d6d6-4f30-c276-db0291f2fdda"
      },
      "source": [
        "print(\"c1courses columns:\", c1courses.columns.to_list())\n",
        "print(\"c1comments columns:\", c1comments.columns.to_list())\n",
        "\n",
        "# Lorimer, Yu, Ling, Start: 12-11-2020, End: 15-11-2020"
      ],
      "execution_count": 35,
      "outputs": [
        {
          "output_type": "stream",
          "text": [
            "c1courses columns: ['CourseID', 'StartDate', 'Deadline_Cmmnt', 'Deadline_Qustn']\n",
            "c1comments columns: ['Comment_ID', 'course_id', 'Timestamp', 'user', 'Question_ID', 'Comment']\n"
          ],
          "name": "stdout"
        }
      ]
    },
    {
      "cell_type": "markdown",
      "metadata": {
        "id": "Xyb8YuvHefYu"
      },
      "source": [
        "From the above cell we can see that we need to rename some columns so we can join them nicely\n",
        "We will rename and merge the two dataframes in the below cell"
      ]
    },
    {
      "cell_type": "code",
      "metadata": {
        "id": "K5jFfVZSefYv"
      },
      "source": [
        "c1courses.rename(columns={\"CourseID\" : \"course_id\", \"StartDate\" : \"cycle_start\", \"Deadline_Cmmnt\" : \"comment_due\", \"Deadline_Qustn\" : \"question_due\"}, inplace=True) # Rename CourseID to course_id\n",
        "c1comments.rename(columns={\"Timestamp\" : \"comment_time\", \"CommentID\" : \"comment_id\", \"user\" : \"user_id\", \"Question_ID\" : \"question_id\", \"Comment\" : \"comment\"}, inplace=True)\n",
        "\n",
        "# Lorimer, Yu, Ling, Start: 12-11-2020, End: 15-11-2020"
      ],
      "execution_count": 36,
      "outputs": []
    },
    {
      "cell_type": "markdown",
      "metadata": {
        "id": "waCLHYN1efYx"
      },
      "source": [
        "There is an annoying header row located in the middle of the data that we need to remove\n",
        "We'll remove it now by making sure the \"course_id\" column is not equal to the text \" course_id \""
      ]
    },
    {
      "cell_type": "code",
      "metadata": {
        "id": "PMaXp8E_efYy",
        "colab": {
          "base_uri": "https://localhost:8080/",
          "height": 302
        },
        "outputId": "fb723720-1639-49b7-d129-4c98649df199"
      },
      "source": [
        "c1comments = c1comments[c1comments[\"course_id\"] != \" course_id \"]\n",
        "#c1comments[\"course_id\"] = pd.to_numeric(c1comments[\"course_id\"])\n",
        "c1comments = c1comments.astype({\"course_id\" : \"int64\", \"comment_time\" : 'datetime64'})\n",
        "c1courses = c1courses.convert_dtypes()\n",
        "\n",
        "c1combined = c1courses.merge(c1comments, on=\"course_id\") # Merge the dataframes\n",
        "c1combined.head() # Show the first 5 rows\n",
        "\n",
        "# Lorimer, Yu, Ling, Start: 12-11-2020, End: 15-11-2020"
      ],
      "execution_count": 37,
      "outputs": [
        {
          "output_type": "execute_result",
          "data": {
            "text/html": [
              "<div>\n",
              "<style scoped>\n",
              "    .dataframe tbody tr th:only-of-type {\n",
              "        vertical-align: middle;\n",
              "    }\n",
              "\n",
              "    .dataframe tbody tr th {\n",
              "        vertical-align: top;\n",
              "    }\n",
              "\n",
              "    .dataframe thead th {\n",
              "        text-align: right;\n",
              "    }\n",
              "</style>\n",
              "<table border=\"1\" class=\"dataframe\">\n",
              "  <thead>\n",
              "    <tr style=\"text-align: right;\">\n",
              "      <th></th>\n",
              "      <th>course_id</th>\n",
              "      <th>cycle_start</th>\n",
              "      <th>comment_due</th>\n",
              "      <th>question_due</th>\n",
              "      <th>Comment_ID</th>\n",
              "      <th>comment_time</th>\n",
              "      <th>user_id</th>\n",
              "      <th>question_id</th>\n",
              "      <th>comment</th>\n",
              "    </tr>\n",
              "  </thead>\n",
              "  <tbody>\n",
              "    <tr>\n",
              "      <th>0</th>\n",
              "      <td>20995</td>\n",
              "      <td>2020-03-09</td>\n",
              "      <td>2020-03-17 01:00:10</td>\n",
              "      <td>2020-03-10 01:00:10</td>\n",
              "      <td>7039922</td>\n",
              "      <td>2020-03-04 18:10:30</td>\n",
              "      <td>634147</td>\n",
              "      <td>4342370</td>\n",
              "      <td>Terrible question.</td>\n",
              "    </tr>\n",
              "    <tr>\n",
              "      <th>1</th>\n",
              "      <td>20995</td>\n",
              "      <td>2020-03-09</td>\n",
              "      <td>2020-03-17 01:00:10</td>\n",
              "      <td>2020-03-10 01:00:10</td>\n",
              "      <td>7045684</td>\n",
              "      <td>2020-03-09 16:08:43</td>\n",
              "      <td>636012</td>\n",
              "      <td>4349814</td>\n",
              "      <td>I think the questions and answers were concise...</td>\n",
              "    </tr>\n",
              "    <tr>\n",
              "      <th>2</th>\n",
              "      <td>20995</td>\n",
              "      <td>2020-03-09</td>\n",
              "      <td>2020-03-17 01:00:10</td>\n",
              "      <td>2020-03-10 01:00:10</td>\n",
              "      <td>7045695</td>\n",
              "      <td>2020-03-09 16:14:25</td>\n",
              "      <td>636010</td>\n",
              "      <td>4342370</td>\n",
              "      <td>This question concerns history rather than sci...</td>\n",
              "    </tr>\n",
              "    <tr>\n",
              "      <th>3</th>\n",
              "      <td>20995</td>\n",
              "      <td>2020-03-09</td>\n",
              "      <td>2020-03-17 01:00:10</td>\n",
              "      <td>2020-03-10 01:00:10</td>\n",
              "      <td>7045749</td>\n",
              "      <td>2020-03-09 16:57:54</td>\n",
              "      <td>558135</td>\n",
              "      <td>4349855</td>\n",
              "      <td>I found this question particularly specific an...</td>\n",
              "    </tr>\n",
              "    <tr>\n",
              "      <th>4</th>\n",
              "      <td>20995</td>\n",
              "      <td>2020-03-09</td>\n",
              "      <td>2020-03-17 01:00:10</td>\n",
              "      <td>2020-03-10 01:00:10</td>\n",
              "      <td>7045750</td>\n",
              "      <td>2020-03-09 16:58:39</td>\n",
              "      <td>636010</td>\n",
              "      <td>4349841</td>\n",
              "      <td>The question assesses your knowledge on a broa...</td>\n",
              "    </tr>\n",
              "  </tbody>\n",
              "</table>\n",
              "</div>"
            ],
            "text/plain": [
              "   course_id  ...                                            comment\n",
              "0      20995  ...                                 Terrible question.\n",
              "1      20995  ...  I think the questions and answers were concise...\n",
              "2      20995  ...  This question concerns history rather than sci...\n",
              "3      20995  ...  I found this question particularly specific an...\n",
              "4      20995  ...  The question assesses your knowledge on a broa...\n",
              "\n",
              "[5 rows x 9 columns]"
            ]
          },
          "metadata": {
            "tags": []
          },
          "execution_count": 37
        }
      ]
    },
    {
      "cell_type": "markdown",
      "metadata": {
        "id": "nal3Xv6jefY0"
      },
      "source": [
        "Next, we can calculate how long it took a student to write a comment after the question_due date\n",
        "\n",
        "We're doing this to find out how long it took for a student to complete a comment after all the questions were due\n",
        "\n",
        "We can use this metric to help us determine how motivated a student was\n",
        "We'll also calcualte a column to indicate how early before the comment_due date a student provided a comment on a question\n",
        "\n",
        "**Creation of new columns**\n",
        "\n",
        "We create the columns:\n",
        "comment_delta (number of days after question due date that the comment was posted)\n",
        "\n",
        "comment_beforedue (number of days before the comment due date that the comment was posted)\n",
        "\n",
        "late (will be True if the comment was submitted after the comment_due date, False otherwise)\n",
        "\n",
        "- Lorimer, Start: 12-11-2020, End: 15-11-2020\n"
      ]
    },
    {
      "cell_type": "code",
      "metadata": {
        "id": "spM09NQkefY1"
      },
      "source": [
        "c1combined[\"comment_delta\"] = (c1combined[\"comment_time\"] - c1combined[\"question_due\"])\n",
        "c1combined[\"comment_beforedue\"] = (c1combined[\"comment_due\"] - c1combined[\"comment_time\"])\n",
        "c1combined[\"late\"] = c1combined[\"comment_time\"] > c1combined[\"comment_due\"]\n",
        "\n",
        "# Lorimer, Yu, Ling, Start: 12-11-2020, End: 15-11-2020"
      ],
      "execution_count": 38,
      "outputs": []
    },
    {
      "cell_type": "markdown",
      "metadata": {
        "id": "ewcMOyrRefY4"
      },
      "source": [
        "**Repeating Grouping Done for Cycle 1 for Cycle 2**\n",
        "\n",
        "Please reference the steps conducted in cycle 1  above. In this section we  need to combine the two dataframes into one by using .concat()\n",
        "We'll add an ID to each individual dataframe so we know what cycle they belong to.\n",
        "- Lorimer, Yu, Ling, Start: 12-11-2020, End: 15-11-2020"
      ]
    },
    {
      "cell_type": "markdown",
      "metadata": {
        "id": "l14Y-lSULDuL"
      },
      "source": [
        "The following performs some dataframe manipulation and outputs the first 5 coloumns of the new `all_comobined` dataframe, which should assist us with our anaylsis\n",
        "- Safi, Start: 12-11-2020, End: 17-11-2020"
      ]
    },
    {
      "cell_type": "code",
      "metadata": {
        "id": "SJv7eJ6ZefY5",
        "colab": {
          "base_uri": "https://localhost:8080/",
          "height": 510
        },
        "outputId": "78a6ad87-a2be-415a-d85d-9b4f83844ce6"
      },
      "source": [
        "#The following performs some dataframe manipulation and outputs the first 5 coloumns of the new all_comobined dataframe, which should assist us with our anaylsis\n",
        "\n",
        "c2courses.rename(columns={\"CourseID\" : \"course_id\", \"StartDate\" : \"cycle_start\", \"Deadline_Comment\" : \"comment_due\", \"Deadline_Question\" : \"question_due\"}, inplace=True) # Rename columns\n",
        "#c2courses.drop(\"CourseName\", axis=1, inplace=True) # Remove the 'CourseName' column - we don't need it\n",
        "c2comments.rename(columns={\"Timestamp\" : \"comment_time\", \"CommentID\" : \"comment_id\", \"user\" : \"user_id\", \"Question_ID\" : \"question_id\", \"Comment\" : \"comment\"}, inplace=True)\n",
        "# Set data types\n",
        "c2comments = c2comments.astype({\"course_id\" : \"int64\", \"comment_time\" : 'datetime64', \"user_id\" : \"int64\"}) \n",
        "c2courses = c2courses.convert_dtypes() \n",
        "\n",
        "# Merge the dataframes\n",
        "c2combined = c2courses.merge(c2comments, on=\"course_id\") \n",
        "\n",
        "c2combined[\"comment_delta\"] = (c2combined[\"comment_time\"] - c2combined[\"question_due\"])\n",
        "c2combined[\"comment_beforedue\"] = (c2combined[\"comment_due\"] - c2combined[\"comment_time\"])\n",
        "c2combined[\"late\"] = c2combined[\"comment_time\"] > c2combined[\"comment_due\"]\n",
        "\n",
        "# combining 2 cucles into 1 df\n",
        "\n",
        "c1combined[\"cycle\"] = 1\n",
        "c2combined[\"cycle\"] = 2\n",
        "\n",
        "all_combined = pd.concat([c1combined, c2combined])\n",
        "all_combined = all_combined.astype({\"course_id\" : \"int64\", \"user_id\" : \"int64\", \"question_id\" : \"int64\"})\n",
        "all_combined[all_combined['late']].sort_values(by='comment_beforedue', ascending=False).head(n=5)\n",
        "\n",
        "# Lorimer, Yu, Ling, Start: 12-11-2020, End: 15-11-2020"
      ],
      "execution_count": 39,
      "outputs": [
        {
          "output_type": "execute_result",
          "data": {
            "text/html": [
              "<div>\n",
              "<style scoped>\n",
              "    .dataframe tbody tr th:only-of-type {\n",
              "        vertical-align: middle;\n",
              "    }\n",
              "\n",
              "    .dataframe tbody tr th {\n",
              "        vertical-align: top;\n",
              "    }\n",
              "\n",
              "    .dataframe thead th {\n",
              "        text-align: right;\n",
              "    }\n",
              "</style>\n",
              "<table border=\"1\" class=\"dataframe\">\n",
              "  <thead>\n",
              "    <tr style=\"text-align: right;\">\n",
              "      <th></th>\n",
              "      <th>course_id</th>\n",
              "      <th>cycle_start</th>\n",
              "      <th>comment_due</th>\n",
              "      <th>question_due</th>\n",
              "      <th>Comment_ID</th>\n",
              "      <th>comment_time</th>\n",
              "      <th>user_id</th>\n",
              "      <th>question_id</th>\n",
              "      <th>comment</th>\n",
              "      <th>comment_delta</th>\n",
              "      <th>comment_beforedue</th>\n",
              "      <th>late</th>\n",
              "      <th>cycle</th>\n",
              "      <th>CourseName</th>\n",
              "    </tr>\n",
              "  </thead>\n",
              "  <tbody>\n",
              "    <tr>\n",
              "      <th>2043</th>\n",
              "      <td>21038</td>\n",
              "      <td>2020-03-11</td>\n",
              "      <td>2020-03-19 01:00:10</td>\n",
              "      <td>2020-03-12 01:00:10</td>\n",
              "      <td>7070065</td>\n",
              "      <td>2020-03-19 01:01:09</td>\n",
              "      <td>636844</td>\n",
              "      <td>4353868</td>\n",
              "      <td>The question is a little confusing because of ...</td>\n",
              "      <td>7 days 00:00:59</td>\n",
              "      <td>-1 days +23:59:01</td>\n",
              "      <td>True</td>\n",
              "      <td>1</td>\n",
              "      <td>&lt;NA&gt;</td>\n",
              "    </tr>\n",
              "    <tr>\n",
              "      <th>539</th>\n",
              "      <td>20995</td>\n",
              "      <td>2020-03-09</td>\n",
              "      <td>2020-03-17 01:00:10</td>\n",
              "      <td>2020-03-10 01:00:10</td>\n",
              "      <td>7062964</td>\n",
              "      <td>2020-03-17 01:01:57</td>\n",
              "      <td>636027</td>\n",
              "      <td>4350515</td>\n",
              "      <td>Basic question that demonstrates recall of inf...</td>\n",
              "      <td>7 days 00:01:47</td>\n",
              "      <td>-1 days +23:58:13</td>\n",
              "      <td>True</td>\n",
              "      <td>1</td>\n",
              "      <td>&lt;NA&gt;</td>\n",
              "    </tr>\n",
              "    <tr>\n",
              "      <th>2733</th>\n",
              "      <td>21039</td>\n",
              "      <td>2020-03-12</td>\n",
              "      <td>2020-03-20 01:00:10</td>\n",
              "      <td>2020-03-13 01:00:10</td>\n",
              "      <td>7074889</td>\n",
              "      <td>2020-03-20 01:01:59</td>\n",
              "      <td>637312</td>\n",
              "      <td>4356537</td>\n",
              "      <td>All this question requires is to know the func...</td>\n",
              "      <td>7 days 00:01:49</td>\n",
              "      <td>-1 days +23:58:11</td>\n",
              "      <td>True</td>\n",
              "      <td>1</td>\n",
              "      <td>&lt;NA&gt;</td>\n",
              "    </tr>\n",
              "    <tr>\n",
              "      <th>952</th>\n",
              "      <td>21142</td>\n",
              "      <td>2020-03-25</td>\n",
              "      <td>2020-04-07 01:00:10</td>\n",
              "      <td>2020-04-01 01:00:10</td>\n",
              "      <td>7136367</td>\n",
              "      <td>2020-04-07 01:02:34</td>\n",
              "      <td>636830</td>\n",
              "      <td>4415550</td>\n",
              "      <td>I think this was a pretty straightforward ques...</td>\n",
              "      <td>6 days 00:02:24</td>\n",
              "      <td>-1 days +23:57:36</td>\n",
              "      <td>True</td>\n",
              "      <td>2</td>\n",
              "      <td>BCMB2 Wednesday</td>\n",
              "    </tr>\n",
              "    <tr>\n",
              "      <th>540</th>\n",
              "      <td>20995</td>\n",
              "      <td>2020-03-09</td>\n",
              "      <td>2020-03-17 01:00:10</td>\n",
              "      <td>2020-03-10 01:00:10</td>\n",
              "      <td>7062968</td>\n",
              "      <td>2020-03-17 01:02:45</td>\n",
              "      <td>636042</td>\n",
              "      <td>4350561</td>\n",
              "      <td>Great question. Especially for study. Makes yo...</td>\n",
              "      <td>7 days 00:02:35</td>\n",
              "      <td>-1 days +23:57:25</td>\n",
              "      <td>True</td>\n",
              "      <td>1</td>\n",
              "      <td>&lt;NA&gt;</td>\n",
              "    </tr>\n",
              "  </tbody>\n",
              "</table>\n",
              "</div>"
            ],
            "text/plain": [
              "      course_id cycle_start         comment_due  ...  late cycle       CourseName\n",
              "2043      21038  2020-03-11 2020-03-19 01:00:10  ...  True     1             <NA>\n",
              "539       20995  2020-03-09 2020-03-17 01:00:10  ...  True     1             <NA>\n",
              "2733      21039  2020-03-12 2020-03-20 01:00:10  ...  True     1             <NA>\n",
              "952       21142  2020-03-25 2020-04-07 01:00:10  ...  True     2  BCMB2 Wednesday\n",
              "540       20995  2020-03-09 2020-03-17 01:00:10  ...  True     1             <NA>\n",
              "\n",
              "[5 rows x 14 columns]"
            ]
          },
          "metadata": {
            "tags": []
          },
          "execution_count": 39
        }
      ]
    },
    {
      "cell_type": "markdown",
      "metadata": {
        "id": "z4norVDeefY7"
      },
      "source": [
        "**Investigating our data**\n",
        "\n",
        "- Lets first look at the comment time in general\n",
        "- Followed by the number of unqiue students who commented past the due date"
      ]
    },
    {
      "cell_type": "code",
      "metadata": {
        "id": "fX2IWVc7efY7",
        "colab": {
          "base_uri": "https://localhost:8080/",
          "height": 578
        },
        "outputId": "99ef8310-90fb-4ae9-8f86-8dad18977383"
      },
      "source": [
        "print(\"Earliest comment was made at:\", all_combined[\"comment_time\"].min().strftime(\"%d/%m/%Y\"))\n",
        "print(\"Latest comment was made at:\", all_combined[\"comment_time\"].max().strftime(\"%d/%m/%Y\"))\n",
        "delta_grouped = all_combined[[\"comment_time\"]].groupby(all_combined[\"comment_delta\"].dt.days).count()\n",
        "delta_grouped['comment_delta'] = delta_grouped.index\n",
        "delta_grouped = delta_grouped.astype({\"comment_delta\" : \"int64\", \"comment_time\" : 'int64'})\n",
        "\n",
        "px.bar(delta_grouped, x = \"comment_delta\", y = \"comment_time\", title = \"Time after the Comments deadline that a Comment was made in Cycles 1\",labels={\"comment_delta\": \"Days from Comments due date\",\n",
        "                     \"comment_time\": \"Number of comments\"})\n",
        "\n",
        "# Lorimer, Tanudji, Jones, Start: 12-11-2020, End: 15-11-2020"
      ],
      "execution_count": 40,
      "outputs": [
        {
          "output_type": "stream",
          "text": [
            "Earliest comment was made at: 04/03/2020\n",
            "Latest comment was made at: 10/04/2020\n"
          ],
          "name": "stdout"
        },
        {
          "output_type": "display_data",
          "data": {
            "text/html": [
              "<html>\n",
              "<head><meta charset=\"utf-8\" /></head>\n",
              "<body>\n",
              "    <div>\n",
              "            <script src=\"https://cdnjs.cloudflare.com/ajax/libs/mathjax/2.7.5/MathJax.js?config=TeX-AMS-MML_SVG\"></script><script type=\"text/javascript\">if (window.MathJax) {MathJax.Hub.Config({SVG: {font: \"STIX-Web\"}});}</script>\n",
              "                <script type=\"text/javascript\">window.PlotlyConfig = {MathJaxConfig: 'local'};</script>\n",
              "        <script src=\"https://cdn.plot.ly/plotly-latest.min.js\"></script>    \n",
              "            <div id=\"3124571b-6173-42d4-8cdb-bca4ce8081cb\" class=\"plotly-graph-div\" style=\"height:525px; width:100%;\"></div>\n",
              "            <script type=\"text/javascript\">\n",
              "                \n",
              "                    window.PLOTLYENV=window.PLOTLYENV || {};\n",
              "                    \n",
              "                if (document.getElementById(\"3124571b-6173-42d4-8cdb-bca4ce8081cb\")) {\n",
              "                    Plotly.newPlot(\n",
              "                        '3124571b-6173-42d4-8cdb-bca4ce8081cb',\n",
              "                        [{\"alignmentgroup\": \"True\", \"hoverlabel\": {\"namelength\": 0}, \"hovertemplate\": \"Days from Comments due date=%{x}<br>Number of comments=%{y}\", \"legendgroup\": \"\", \"marker\": {\"color\": \"#636efa\"}, \"name\": \"\", \"offsetgroup\": \"\", \"orientation\": \"v\", \"showlegend\": false, \"textposition\": \"auto\", \"type\": \"bar\", \"x\": [-6, -5, -4, -3, -2, -1, 0, 1, 2, 3, 4, 5, 6, 7, 8, 9], \"xaxis\": \"x\", \"y\": [5, 5, 12, 11, 39, 349, 365, 237, 314, 488, 573, 668, 891, 160, 22, 19], \"yaxis\": \"y\"}],\n",
              "                        {\"barmode\": \"relative\", \"legend\": {\"tracegroupgap\": 0}, \"template\": {\"data\": {\"bar\": [{\"error_x\": {\"color\": \"#2a3f5f\"}, \"error_y\": {\"color\": \"#2a3f5f\"}, \"marker\": {\"line\": {\"color\": \"#E5ECF6\", \"width\": 0.5}}, \"type\": \"bar\"}], \"barpolar\": [{\"marker\": {\"line\": {\"color\": \"#E5ECF6\", \"width\": 0.5}}, \"type\": \"barpolar\"}], \"carpet\": [{\"aaxis\": {\"endlinecolor\": \"#2a3f5f\", \"gridcolor\": \"white\", \"linecolor\": \"white\", \"minorgridcolor\": \"white\", \"startlinecolor\": \"#2a3f5f\"}, \"baxis\": {\"endlinecolor\": \"#2a3f5f\", \"gridcolor\": \"white\", \"linecolor\": \"white\", \"minorgridcolor\": \"white\", \"startlinecolor\": \"#2a3f5f\"}, \"type\": \"carpet\"}], \"choropleth\": [{\"colorbar\": {\"outlinewidth\": 0, \"ticks\": \"\"}, \"type\": \"choropleth\"}], \"contour\": [{\"colorbar\": {\"outlinewidth\": 0, \"ticks\": \"\"}, \"colorscale\": [[0.0, \"#0d0887\"], [0.1111111111111111, \"#46039f\"], [0.2222222222222222, \"#7201a8\"], [0.3333333333333333, \"#9c179e\"], [0.4444444444444444, \"#bd3786\"], [0.5555555555555556, \"#d8576b\"], [0.6666666666666666, \"#ed7953\"], [0.7777777777777778, \"#fb9f3a\"], [0.8888888888888888, \"#fdca26\"], [1.0, \"#f0f921\"]], \"type\": \"contour\"}], \"contourcarpet\": [{\"colorbar\": {\"outlinewidth\": 0, \"ticks\": \"\"}, \"type\": \"contourcarpet\"}], \"heatmap\": [{\"colorbar\": {\"outlinewidth\": 0, \"ticks\": \"\"}, \"colorscale\": [[0.0, \"#0d0887\"], [0.1111111111111111, \"#46039f\"], [0.2222222222222222, \"#7201a8\"], [0.3333333333333333, \"#9c179e\"], [0.4444444444444444, \"#bd3786\"], [0.5555555555555556, \"#d8576b\"], [0.6666666666666666, \"#ed7953\"], [0.7777777777777778, \"#fb9f3a\"], [0.8888888888888888, \"#fdca26\"], [1.0, \"#f0f921\"]], \"type\": \"heatmap\"}], \"heatmapgl\": [{\"colorbar\": {\"outlinewidth\": 0, \"ticks\": \"\"}, \"colorscale\": [[0.0, \"#0d0887\"], [0.1111111111111111, \"#46039f\"], [0.2222222222222222, \"#7201a8\"], [0.3333333333333333, \"#9c179e\"], [0.4444444444444444, \"#bd3786\"], [0.5555555555555556, \"#d8576b\"], [0.6666666666666666, \"#ed7953\"], [0.7777777777777778, \"#fb9f3a\"], [0.8888888888888888, \"#fdca26\"], [1.0, \"#f0f921\"]], \"type\": \"heatmapgl\"}], \"histogram\": [{\"marker\": {\"colorbar\": {\"outlinewidth\": 0, \"ticks\": \"\"}}, \"type\": \"histogram\"}], \"histogram2d\": [{\"colorbar\": {\"outlinewidth\": 0, \"ticks\": \"\"}, \"colorscale\": [[0.0, \"#0d0887\"], [0.1111111111111111, \"#46039f\"], [0.2222222222222222, \"#7201a8\"], [0.3333333333333333, \"#9c179e\"], [0.4444444444444444, \"#bd3786\"], [0.5555555555555556, \"#d8576b\"], [0.6666666666666666, \"#ed7953\"], [0.7777777777777778, \"#fb9f3a\"], [0.8888888888888888, \"#fdca26\"], [1.0, \"#f0f921\"]], \"type\": \"histogram2d\"}], \"histogram2dcontour\": [{\"colorbar\": {\"outlinewidth\": 0, \"ticks\": \"\"}, \"colorscale\": [[0.0, \"#0d0887\"], [0.1111111111111111, \"#46039f\"], [0.2222222222222222, \"#7201a8\"], [0.3333333333333333, \"#9c179e\"], [0.4444444444444444, \"#bd3786\"], [0.5555555555555556, \"#d8576b\"], [0.6666666666666666, \"#ed7953\"], [0.7777777777777778, \"#fb9f3a\"], [0.8888888888888888, \"#fdca26\"], [1.0, \"#f0f921\"]], \"type\": \"histogram2dcontour\"}], \"mesh3d\": [{\"colorbar\": {\"outlinewidth\": 0, \"ticks\": \"\"}, \"type\": \"mesh3d\"}], \"parcoords\": [{\"line\": {\"colorbar\": {\"outlinewidth\": 0, \"ticks\": \"\"}}, \"type\": \"parcoords\"}], \"pie\": [{\"automargin\": true, \"type\": \"pie\"}], \"scatter\": [{\"marker\": {\"colorbar\": {\"outlinewidth\": 0, \"ticks\": \"\"}}, \"type\": \"scatter\"}], \"scatter3d\": [{\"line\": {\"colorbar\": {\"outlinewidth\": 0, \"ticks\": \"\"}}, \"marker\": {\"colorbar\": {\"outlinewidth\": 0, \"ticks\": \"\"}}, \"type\": \"scatter3d\"}], \"scattercarpet\": [{\"marker\": {\"colorbar\": {\"outlinewidth\": 0, \"ticks\": \"\"}}, \"type\": \"scattercarpet\"}], \"scattergeo\": [{\"marker\": {\"colorbar\": {\"outlinewidth\": 0, \"ticks\": \"\"}}, \"type\": \"scattergeo\"}], \"scattergl\": [{\"marker\": {\"colorbar\": {\"outlinewidth\": 0, \"ticks\": \"\"}}, \"type\": \"scattergl\"}], \"scattermapbox\": [{\"marker\": {\"colorbar\": {\"outlinewidth\": 0, \"ticks\": \"\"}}, \"type\": \"scattermapbox\"}], \"scatterpolar\": [{\"marker\": {\"colorbar\": {\"outlinewidth\": 0, \"ticks\": \"\"}}, \"type\": \"scatterpolar\"}], \"scatterpolargl\": [{\"marker\": {\"colorbar\": {\"outlinewidth\": 0, \"ticks\": \"\"}}, \"type\": \"scatterpolargl\"}], \"scatterternary\": [{\"marker\": {\"colorbar\": {\"outlinewidth\": 0, \"ticks\": \"\"}}, \"type\": \"scatterternary\"}], \"surface\": [{\"colorbar\": {\"outlinewidth\": 0, \"ticks\": \"\"}, \"colorscale\": [[0.0, \"#0d0887\"], [0.1111111111111111, \"#46039f\"], [0.2222222222222222, \"#7201a8\"], [0.3333333333333333, \"#9c179e\"], [0.4444444444444444, \"#bd3786\"], [0.5555555555555556, \"#d8576b\"], [0.6666666666666666, \"#ed7953\"], [0.7777777777777778, \"#fb9f3a\"], [0.8888888888888888, \"#fdca26\"], [1.0, \"#f0f921\"]], \"type\": \"surface\"}], \"table\": [{\"cells\": {\"fill\": {\"color\": \"#EBF0F8\"}, \"line\": {\"color\": \"white\"}}, \"header\": {\"fill\": {\"color\": \"#C8D4E3\"}, \"line\": {\"color\": \"white\"}}, \"type\": \"table\"}]}, \"layout\": {\"annotationdefaults\": {\"arrowcolor\": \"#2a3f5f\", \"arrowhead\": 0, \"arrowwidth\": 1}, \"coloraxis\": {\"colorbar\": {\"outlinewidth\": 0, \"ticks\": \"\"}}, \"colorscale\": {\"diverging\": [[0, \"#8e0152\"], [0.1, \"#c51b7d\"], [0.2, \"#de77ae\"], [0.3, \"#f1b6da\"], [0.4, \"#fde0ef\"], [0.5, \"#f7f7f7\"], [0.6, \"#e6f5d0\"], [0.7, \"#b8e186\"], [0.8, \"#7fbc41\"], [0.9, \"#4d9221\"], [1, \"#276419\"]], \"sequential\": [[0.0, \"#0d0887\"], [0.1111111111111111, \"#46039f\"], [0.2222222222222222, \"#7201a8\"], [0.3333333333333333, \"#9c179e\"], [0.4444444444444444, \"#bd3786\"], [0.5555555555555556, \"#d8576b\"], [0.6666666666666666, \"#ed7953\"], [0.7777777777777778, \"#fb9f3a\"], [0.8888888888888888, \"#fdca26\"], [1.0, \"#f0f921\"]], \"sequentialminus\": [[0.0, \"#0d0887\"], [0.1111111111111111, \"#46039f\"], [0.2222222222222222, \"#7201a8\"], [0.3333333333333333, \"#9c179e\"], [0.4444444444444444, \"#bd3786\"], [0.5555555555555556, \"#d8576b\"], [0.6666666666666666, \"#ed7953\"], [0.7777777777777778, \"#fb9f3a\"], [0.8888888888888888, \"#fdca26\"], [1.0, \"#f0f921\"]]}, \"colorway\": [\"#636efa\", \"#EF553B\", \"#00cc96\", \"#ab63fa\", \"#FFA15A\", \"#19d3f3\", \"#FF6692\", \"#B6E880\", \"#FF97FF\", \"#FECB52\"], \"font\": {\"color\": \"#2a3f5f\"}, \"geo\": {\"bgcolor\": \"white\", \"lakecolor\": \"white\", \"landcolor\": \"#E5ECF6\", \"showlakes\": true, \"showland\": true, \"subunitcolor\": \"white\"}, \"hoverlabel\": {\"align\": \"left\"}, \"hovermode\": \"closest\", \"mapbox\": {\"style\": \"light\"}, \"paper_bgcolor\": \"white\", \"plot_bgcolor\": \"#E5ECF6\", \"polar\": {\"angularaxis\": {\"gridcolor\": \"white\", \"linecolor\": \"white\", \"ticks\": \"\"}, \"bgcolor\": \"#E5ECF6\", \"radialaxis\": {\"gridcolor\": \"white\", \"linecolor\": \"white\", \"ticks\": \"\"}}, \"scene\": {\"xaxis\": {\"backgroundcolor\": \"#E5ECF6\", \"gridcolor\": \"white\", \"gridwidth\": 2, \"linecolor\": \"white\", \"showbackground\": true, \"ticks\": \"\", \"zerolinecolor\": \"white\"}, \"yaxis\": {\"backgroundcolor\": \"#E5ECF6\", \"gridcolor\": \"white\", \"gridwidth\": 2, \"linecolor\": \"white\", \"showbackground\": true, \"ticks\": \"\", \"zerolinecolor\": \"white\"}, \"zaxis\": {\"backgroundcolor\": \"#E5ECF6\", \"gridcolor\": \"white\", \"gridwidth\": 2, \"linecolor\": \"white\", \"showbackground\": true, \"ticks\": \"\", \"zerolinecolor\": \"white\"}}, \"shapedefaults\": {\"line\": {\"color\": \"#2a3f5f\"}}, \"ternary\": {\"aaxis\": {\"gridcolor\": \"white\", \"linecolor\": \"white\", \"ticks\": \"\"}, \"baxis\": {\"gridcolor\": \"white\", \"linecolor\": \"white\", \"ticks\": \"\"}, \"bgcolor\": \"#E5ECF6\", \"caxis\": {\"gridcolor\": \"white\", \"linecolor\": \"white\", \"ticks\": \"\"}}, \"title\": {\"x\": 0.05}, \"xaxis\": {\"automargin\": true, \"gridcolor\": \"white\", \"linecolor\": \"white\", \"ticks\": \"\", \"title\": {\"standoff\": 15}, \"zerolinecolor\": \"white\", \"zerolinewidth\": 2}, \"yaxis\": {\"automargin\": true, \"gridcolor\": \"white\", \"linecolor\": \"white\", \"ticks\": \"\", \"title\": {\"standoff\": 15}, \"zerolinecolor\": \"white\", \"zerolinewidth\": 2}}}, \"title\": {\"text\": \"Time after the Comments deadline that a Comment was made in Cycles 1\"}, \"xaxis\": {\"anchor\": \"y\", \"domain\": [0.0, 1.0], \"title\": {\"text\": \"Days from Comments due date\"}}, \"yaxis\": {\"anchor\": \"x\", \"domain\": [0.0, 1.0], \"title\": {\"text\": \"Number of comments\"}}},\n",
              "                        {\"responsive\": true}\n",
              "                    ).then(function(){\n",
              "                            \n",
              "var gd = document.getElementById('3124571b-6173-42d4-8cdb-bca4ce8081cb');\n",
              "var x = new MutationObserver(function (mutations, observer) {{\n",
              "        var display = window.getComputedStyle(gd).display;\n",
              "        if (!display || display === 'none') {{\n",
              "            console.log([gd, 'removed!']);\n",
              "            Plotly.purge(gd);\n",
              "            observer.disconnect();\n",
              "        }}\n",
              "}});\n",
              "\n",
              "// Listen for the removal of the full notebook cells\n",
              "var notebookContainer = gd.closest('#notebook-container');\n",
              "if (notebookContainer) {{\n",
              "    x.observe(notebookContainer, {childList: true});\n",
              "}}\n",
              "\n",
              "// Listen for the clearing of the current output cell\n",
              "var outputEl = gd.closest('.output');\n",
              "if (outputEl) {{\n",
              "    x.observe(outputEl, {childList: true});\n",
              "}}\n",
              "\n",
              "                        })\n",
              "                };\n",
              "                \n",
              "            </script>\n",
              "        </div>\n",
              "</body>\n",
              "</html>"
            ]
          },
          "metadata": {
            "tags": []
          }
        }
      ]
    },
    {
      "cell_type": "markdown",
      "metadata": {
        "id": "nABnic92efY-"
      },
      "source": [
        "**Key Observations**\n",
        "\n",
        "\n",
        "\n",
        "Now we plot the number days a comment was late\n",
        "\n",
        "Below is a dataframe of the students who were late (sorted by number of late comments)"
      ]
    },
    {
      "cell_type": "code",
      "metadata": {
        "id": "leEmiJN3efZA",
        "colab": {
          "base_uri": "https://localhost:8080/",
          "height": 542
        },
        "outputId": "2bba111b-33e4-4909-ccf3-0b7e8464f18d"
      },
      "source": [
        "student_lateness = all_combined[[\"user_id\", \"late\"]].groupby(\"user_id\", as_index=False).sum(\"late\")\n",
        "px.histogram(student_lateness, x = \"late\", title = \"Number of Days a Comment was late\",labels={\"late\": \"Days after the Comments due date\"})\n",
        "\n",
        "# Lorimer, Tanudji, Jones, Start: 12-11-2020, End: 15-11-2020"
      ],
      "execution_count": 41,
      "outputs": [
        {
          "output_type": "display_data",
          "data": {
            "text/html": [
              "<html>\n",
              "<head><meta charset=\"utf-8\" /></head>\n",
              "<body>\n",
              "    <div>\n",
              "            <script src=\"https://cdnjs.cloudflare.com/ajax/libs/mathjax/2.7.5/MathJax.js?config=TeX-AMS-MML_SVG\"></script><script type=\"text/javascript\">if (window.MathJax) {MathJax.Hub.Config({SVG: {font: \"STIX-Web\"}});}</script>\n",
              "                <script type=\"text/javascript\">window.PlotlyConfig = {MathJaxConfig: 'local'};</script>\n",
              "        <script src=\"https://cdn.plot.ly/plotly-latest.min.js\"></script>    \n",
              "            <div id=\"72797bfd-9f2f-42bf-8652-ab77ec0d29bd\" class=\"plotly-graph-div\" style=\"height:525px; width:100%;\"></div>\n",
              "            <script type=\"text/javascript\">\n",
              "                \n",
              "                    window.PLOTLYENV=window.PLOTLYENV || {};\n",
              "                    \n",
              "                if (document.getElementById(\"72797bfd-9f2f-42bf-8652-ab77ec0d29bd\")) {\n",
              "                    Plotly.newPlot(\n",
              "                        '72797bfd-9f2f-42bf-8652-ab77ec0d29bd',\n",
              "                        [{\"alignmentgroup\": \"True\", \"bingroup\": \"x\", \"hoverlabel\": {\"namelength\": 0}, \"hovertemplate\": \"Days after the Comments due date=%{x}<br>count=%{y}\", \"legendgroup\": \"\", \"marker\": {\"color\": \"#636efa\"}, \"name\": \"\", \"offsetgroup\": \"\", \"orientation\": \"v\", \"showlegend\": false, \"type\": \"histogram\", \"x\": [0, 0, 0, 5, 2, 0, 0, 0, 0, 0, 0, 0, 3, 0, 5, 0, 0, 0, 0, 5, 0, 0, 0, 2, 0, 3, 0, 0, 0, 0, 0, 7, 1, 0, 0, 0, 0, 0, 9, 0, 0, 0, 0, 7, 1, 0, 0, 0, 0, 0, 0, 0, 0, 0, 0, 2, 13, 1, 0, 0, 0, 0, 0, 1, 0, 0, 17, 0, 0, 0, 0, 0, 1, 1, 8, 0, 2, 0, 0, 6, 0, 3, 5, 0, 1, 0, 3, 0, 0, 3, 6, 0, 1, 0, 4, 0, 0, 0, 0, 0, 0, 0, 0, 0, 1, 0, 0, 0, 0, 0, 0, 1, 1, 0, 5, 1, 1, 0, 8, 6, 0, 1, 3, 0, 0, 0, 0, 0, 5, 2, 6, 3, 0, 0, 0, 1, 0, 0, 2, 0, 0, 0, 0, 2, 0, 0, 0, 0, 0, 0, 2, 0, 0, 0, 5, 0, 0, 0, 0, 0, 0, 0, 0, 0, 6, 0, 1, 0, 0, 2, 0, 0, 0, 0, 1, 0, 0, 0, 0, 0, 0, 0, 0, 0, 0, 3, 0, 7, 3, 0, 0, 4, 0, 3, 0, 2, 0, 0, 0, 3, 1, 1, 0, 0, 0, 11, 0, 0, 1, 1, 0, 0, 0, 0, 0, 3, 1, 0, 0, 3, 0, 6, 4, 0, 0, 0, 0, 0, 0, 5, 0, 0, 0, 0, 0, 0, 10, 0, 0, 0, 0, 0, 1, 0, 0, 2, 0, 1, 0, 6, 0, 0, 0, 0, 0, 0, 0, 0, 0, 0, 0, 5, 6, 0, 0, 0, 4, 0, 0, 0, 0, 0, 9, 0, 0, 0, 0, 0, 0, 0, 0, 3, 10, 0, 0, 9, 0, 3, 5, 0, 0, 5, 0, 0, 0, 5, 0, 0, 0, 3, 1, 9, 0, 2, 10, 4, 0, 5, 0, 0, 0, 4, 9, 0, 0, 3, 10, 0], \"xaxis\": \"x\", \"yaxis\": \"y\"}],\n",
              "                        {\"barmode\": \"relative\", \"legend\": {\"tracegroupgap\": 0}, \"template\": {\"data\": {\"bar\": [{\"error_x\": {\"color\": \"#2a3f5f\"}, \"error_y\": {\"color\": \"#2a3f5f\"}, \"marker\": {\"line\": {\"color\": \"#E5ECF6\", \"width\": 0.5}}, \"type\": \"bar\"}], \"barpolar\": [{\"marker\": {\"line\": {\"color\": \"#E5ECF6\", \"width\": 0.5}}, \"type\": \"barpolar\"}], \"carpet\": [{\"aaxis\": {\"endlinecolor\": \"#2a3f5f\", \"gridcolor\": \"white\", \"linecolor\": \"white\", \"minorgridcolor\": \"white\", \"startlinecolor\": \"#2a3f5f\"}, \"baxis\": {\"endlinecolor\": \"#2a3f5f\", \"gridcolor\": \"white\", \"linecolor\": \"white\", \"minorgridcolor\": \"white\", \"startlinecolor\": \"#2a3f5f\"}, \"type\": \"carpet\"}], \"choropleth\": [{\"colorbar\": {\"outlinewidth\": 0, \"ticks\": \"\"}, \"type\": \"choropleth\"}], \"contour\": [{\"colorbar\": {\"outlinewidth\": 0, \"ticks\": \"\"}, \"colorscale\": [[0.0, \"#0d0887\"], [0.1111111111111111, \"#46039f\"], [0.2222222222222222, \"#7201a8\"], [0.3333333333333333, \"#9c179e\"], [0.4444444444444444, \"#bd3786\"], [0.5555555555555556, \"#d8576b\"], [0.6666666666666666, \"#ed7953\"], [0.7777777777777778, \"#fb9f3a\"], [0.8888888888888888, \"#fdca26\"], [1.0, \"#f0f921\"]], \"type\": \"contour\"}], \"contourcarpet\": [{\"colorbar\": {\"outlinewidth\": 0, \"ticks\": \"\"}, \"type\": \"contourcarpet\"}], \"heatmap\": [{\"colorbar\": {\"outlinewidth\": 0, \"ticks\": \"\"}, \"colorscale\": [[0.0, \"#0d0887\"], [0.1111111111111111, \"#46039f\"], [0.2222222222222222, \"#7201a8\"], [0.3333333333333333, \"#9c179e\"], [0.4444444444444444, \"#bd3786\"], [0.5555555555555556, \"#d8576b\"], [0.6666666666666666, \"#ed7953\"], [0.7777777777777778, \"#fb9f3a\"], [0.8888888888888888, \"#fdca26\"], [1.0, \"#f0f921\"]], \"type\": \"heatmap\"}], \"heatmapgl\": [{\"colorbar\": {\"outlinewidth\": 0, \"ticks\": \"\"}, \"colorscale\": [[0.0, \"#0d0887\"], [0.1111111111111111, \"#46039f\"], [0.2222222222222222, \"#7201a8\"], [0.3333333333333333, \"#9c179e\"], [0.4444444444444444, \"#bd3786\"], [0.5555555555555556, \"#d8576b\"], [0.6666666666666666, \"#ed7953\"], [0.7777777777777778, \"#fb9f3a\"], [0.8888888888888888, \"#fdca26\"], [1.0, \"#f0f921\"]], \"type\": \"heatmapgl\"}], \"histogram\": [{\"marker\": {\"colorbar\": {\"outlinewidth\": 0, \"ticks\": \"\"}}, \"type\": \"histogram\"}], \"histogram2d\": [{\"colorbar\": {\"outlinewidth\": 0, \"ticks\": \"\"}, \"colorscale\": [[0.0, \"#0d0887\"], [0.1111111111111111, \"#46039f\"], [0.2222222222222222, \"#7201a8\"], [0.3333333333333333, \"#9c179e\"], [0.4444444444444444, \"#bd3786\"], [0.5555555555555556, \"#d8576b\"], [0.6666666666666666, \"#ed7953\"], [0.7777777777777778, \"#fb9f3a\"], [0.8888888888888888, \"#fdca26\"], [1.0, \"#f0f921\"]], \"type\": \"histogram2d\"}], \"histogram2dcontour\": [{\"colorbar\": {\"outlinewidth\": 0, \"ticks\": \"\"}, \"colorscale\": [[0.0, \"#0d0887\"], [0.1111111111111111, \"#46039f\"], [0.2222222222222222, \"#7201a8\"], [0.3333333333333333, \"#9c179e\"], [0.4444444444444444, \"#bd3786\"], [0.5555555555555556, \"#d8576b\"], [0.6666666666666666, \"#ed7953\"], [0.7777777777777778, \"#fb9f3a\"], [0.8888888888888888, \"#fdca26\"], [1.0, \"#f0f921\"]], \"type\": \"histogram2dcontour\"}], \"mesh3d\": [{\"colorbar\": {\"outlinewidth\": 0, \"ticks\": \"\"}, \"type\": \"mesh3d\"}], \"parcoords\": [{\"line\": {\"colorbar\": {\"outlinewidth\": 0, \"ticks\": \"\"}}, \"type\": \"parcoords\"}], \"pie\": [{\"automargin\": true, \"type\": \"pie\"}], \"scatter\": [{\"marker\": {\"colorbar\": {\"outlinewidth\": 0, \"ticks\": \"\"}}, \"type\": \"scatter\"}], \"scatter3d\": [{\"line\": {\"colorbar\": {\"outlinewidth\": 0, \"ticks\": \"\"}}, \"marker\": {\"colorbar\": {\"outlinewidth\": 0, \"ticks\": \"\"}}, \"type\": \"scatter3d\"}], \"scattercarpet\": [{\"marker\": {\"colorbar\": {\"outlinewidth\": 0, \"ticks\": \"\"}}, \"type\": \"scattercarpet\"}], \"scattergeo\": [{\"marker\": {\"colorbar\": {\"outlinewidth\": 0, \"ticks\": \"\"}}, \"type\": \"scattergeo\"}], \"scattergl\": [{\"marker\": {\"colorbar\": {\"outlinewidth\": 0, \"ticks\": \"\"}}, \"type\": \"scattergl\"}], \"scattermapbox\": [{\"marker\": {\"colorbar\": {\"outlinewidth\": 0, \"ticks\": \"\"}}, \"type\": \"scattermapbox\"}], \"scatterpolar\": [{\"marker\": {\"colorbar\": {\"outlinewidth\": 0, \"ticks\": \"\"}}, \"type\": \"scatterpolar\"}], \"scatterpolargl\": [{\"marker\": {\"colorbar\": {\"outlinewidth\": 0, \"ticks\": \"\"}}, \"type\": \"scatterpolargl\"}], \"scatterternary\": [{\"marker\": {\"colorbar\": {\"outlinewidth\": 0, \"ticks\": \"\"}}, \"type\": \"scatterternary\"}], \"surface\": [{\"colorbar\": {\"outlinewidth\": 0, \"ticks\": \"\"}, \"colorscale\": [[0.0, \"#0d0887\"], [0.1111111111111111, \"#46039f\"], [0.2222222222222222, \"#7201a8\"], [0.3333333333333333, \"#9c179e\"], [0.4444444444444444, \"#bd3786\"], [0.5555555555555556, \"#d8576b\"], [0.6666666666666666, \"#ed7953\"], [0.7777777777777778, \"#fb9f3a\"], [0.8888888888888888, \"#fdca26\"], [1.0, \"#f0f921\"]], \"type\": \"surface\"}], \"table\": [{\"cells\": {\"fill\": {\"color\": \"#EBF0F8\"}, \"line\": {\"color\": \"white\"}}, \"header\": {\"fill\": {\"color\": \"#C8D4E3\"}, \"line\": {\"color\": \"white\"}}, \"type\": \"table\"}]}, \"layout\": {\"annotationdefaults\": {\"arrowcolor\": \"#2a3f5f\", \"arrowhead\": 0, \"arrowwidth\": 1}, \"coloraxis\": {\"colorbar\": {\"outlinewidth\": 0, \"ticks\": \"\"}}, \"colorscale\": {\"diverging\": [[0, \"#8e0152\"], [0.1, \"#c51b7d\"], [0.2, \"#de77ae\"], [0.3, \"#f1b6da\"], [0.4, \"#fde0ef\"], [0.5, \"#f7f7f7\"], [0.6, \"#e6f5d0\"], [0.7, \"#b8e186\"], [0.8, \"#7fbc41\"], [0.9, \"#4d9221\"], [1, \"#276419\"]], \"sequential\": [[0.0, \"#0d0887\"], [0.1111111111111111, \"#46039f\"], [0.2222222222222222, \"#7201a8\"], [0.3333333333333333, \"#9c179e\"], [0.4444444444444444, \"#bd3786\"], [0.5555555555555556, \"#d8576b\"], [0.6666666666666666, \"#ed7953\"], [0.7777777777777778, \"#fb9f3a\"], [0.8888888888888888, \"#fdca26\"], [1.0, \"#f0f921\"]], \"sequentialminus\": [[0.0, \"#0d0887\"], [0.1111111111111111, \"#46039f\"], [0.2222222222222222, \"#7201a8\"], [0.3333333333333333, \"#9c179e\"], [0.4444444444444444, \"#bd3786\"], [0.5555555555555556, \"#d8576b\"], [0.6666666666666666, \"#ed7953\"], [0.7777777777777778, \"#fb9f3a\"], [0.8888888888888888, \"#fdca26\"], [1.0, \"#f0f921\"]]}, \"colorway\": [\"#636efa\", \"#EF553B\", \"#00cc96\", \"#ab63fa\", \"#FFA15A\", \"#19d3f3\", \"#FF6692\", \"#B6E880\", \"#FF97FF\", \"#FECB52\"], \"font\": {\"color\": \"#2a3f5f\"}, \"geo\": {\"bgcolor\": \"white\", \"lakecolor\": \"white\", \"landcolor\": \"#E5ECF6\", \"showlakes\": true, \"showland\": true, \"subunitcolor\": \"white\"}, \"hoverlabel\": {\"align\": \"left\"}, \"hovermode\": \"closest\", \"mapbox\": {\"style\": \"light\"}, \"paper_bgcolor\": \"white\", \"plot_bgcolor\": \"#E5ECF6\", \"polar\": {\"angularaxis\": {\"gridcolor\": \"white\", \"linecolor\": \"white\", \"ticks\": \"\"}, \"bgcolor\": \"#E5ECF6\", \"radialaxis\": {\"gridcolor\": \"white\", \"linecolor\": \"white\", \"ticks\": \"\"}}, \"scene\": {\"xaxis\": {\"backgroundcolor\": \"#E5ECF6\", \"gridcolor\": \"white\", \"gridwidth\": 2, \"linecolor\": \"white\", \"showbackground\": true, \"ticks\": \"\", \"zerolinecolor\": \"white\"}, \"yaxis\": {\"backgroundcolor\": \"#E5ECF6\", \"gridcolor\": \"white\", \"gridwidth\": 2, \"linecolor\": \"white\", \"showbackground\": true, \"ticks\": \"\", \"zerolinecolor\": \"white\"}, \"zaxis\": {\"backgroundcolor\": \"#E5ECF6\", \"gridcolor\": \"white\", \"gridwidth\": 2, \"linecolor\": \"white\", \"showbackground\": true, \"ticks\": \"\", \"zerolinecolor\": \"white\"}}, \"shapedefaults\": {\"line\": {\"color\": \"#2a3f5f\"}}, \"ternary\": {\"aaxis\": {\"gridcolor\": \"white\", \"linecolor\": \"white\", \"ticks\": \"\"}, \"baxis\": {\"gridcolor\": \"white\", \"linecolor\": \"white\", \"ticks\": \"\"}, \"bgcolor\": \"#E5ECF6\", \"caxis\": {\"gridcolor\": \"white\", \"linecolor\": \"white\", \"ticks\": \"\"}}, \"title\": {\"x\": 0.05}, \"xaxis\": {\"automargin\": true, \"gridcolor\": \"white\", \"linecolor\": \"white\", \"ticks\": \"\", \"title\": {\"standoff\": 15}, \"zerolinecolor\": \"white\", \"zerolinewidth\": 2}, \"yaxis\": {\"automargin\": true, \"gridcolor\": \"white\", \"linecolor\": \"white\", \"ticks\": \"\", \"title\": {\"standoff\": 15}, \"zerolinecolor\": \"white\", \"zerolinewidth\": 2}}}, \"title\": {\"text\": \"Number of Days a Comment was late\"}, \"xaxis\": {\"anchor\": \"y\", \"domain\": [0.0, 1.0], \"title\": {\"text\": \"Days after the Comments due date\"}}, \"yaxis\": {\"anchor\": \"x\", \"domain\": [0.0, 1.0], \"title\": {\"text\": \"count\"}}},\n",
              "                        {\"responsive\": true}\n",
              "                    ).then(function(){\n",
              "                            \n",
              "var gd = document.getElementById('72797bfd-9f2f-42bf-8652-ab77ec0d29bd');\n",
              "var x = new MutationObserver(function (mutations, observer) {{\n",
              "        var display = window.getComputedStyle(gd).display;\n",
              "        if (!display || display === 'none') {{\n",
              "            console.log([gd, 'removed!']);\n",
              "            Plotly.purge(gd);\n",
              "            observer.disconnect();\n",
              "        }}\n",
              "}});\n",
              "\n",
              "// Listen for the removal of the full notebook cells\n",
              "var notebookContainer = gd.closest('#notebook-container');\n",
              "if (notebookContainer) {{\n",
              "    x.observe(notebookContainer, {childList: true});\n",
              "}}\n",
              "\n",
              "// Listen for the clearing of the current output cell\n",
              "var outputEl = gd.closest('.output');\n",
              "if (outputEl) {{\n",
              "    x.observe(outputEl, {childList: true});\n",
              "}}\n",
              "\n",
              "                        })\n",
              "                };\n",
              "                \n",
              "            </script>\n",
              "        </div>\n",
              "</body>\n",
              "</html>"
            ]
          },
          "metadata": {
            "tags": []
          }
        }
      ]
    },
    {
      "cell_type": "markdown",
      "metadata": {
        "id": "tljdN3ymMTnN"
      },
      "source": [
        "The majority of students did not comment after the dealine, but some did, we can analyse this futher. \n",
        "- Safi, Start: 12-11-2020, End: 17-11-2020"
      ]
    },
    {
      "cell_type": "markdown",
      "metadata": {
        "id": "AdWBHQ-SLsg6"
      },
      "source": [
        "The code below displays the users who posted the high total of late comments.\n",
        "- Safi, Start: 12-11-2020, End: 17-11-2020"
      ]
    },
    {
      "cell_type": "code",
      "metadata": {
        "id": "z0bxvgc4efY-",
        "colab": {
          "base_uri": "https://localhost:8080/",
          "height": 200
        },
        "outputId": "c355c2d3-7fad-4406-ad90-fa0cfa992f99"
      },
      "source": [
        "student_lateness.sort_values(\"late\", ascending=False).head()\n",
        "\n",
        "# Lorimer, Ling, Start: 12-11-2020, End: 15-11-2020"
      ],
      "execution_count": 42,
      "outputs": [
        {
          "output_type": "execute_result",
          "data": {
            "text/html": [
              "<div>\n",
              "<style scoped>\n",
              "    .dataframe tbody tr th:only-of-type {\n",
              "        vertical-align: middle;\n",
              "    }\n",
              "\n",
              "    .dataframe tbody tr th {\n",
              "        vertical-align: top;\n",
              "    }\n",
              "\n",
              "    .dataframe thead th {\n",
              "        text-align: right;\n",
              "    }\n",
              "</style>\n",
              "<table border=\"1\" class=\"dataframe\">\n",
              "  <thead>\n",
              "    <tr style=\"text-align: right;\">\n",
              "      <th></th>\n",
              "      <th>user_id</th>\n",
              "      <th>late</th>\n",
              "    </tr>\n",
              "  </thead>\n",
              "  <tbody>\n",
              "    <tr>\n",
              "      <th>66</th>\n",
              "      <td>636027</td>\n",
              "      <td>17</td>\n",
              "    </tr>\n",
              "    <tr>\n",
              "      <th>56</th>\n",
              "      <td>636017</td>\n",
              "      <td>13</td>\n",
              "    </tr>\n",
              "    <tr>\n",
              "      <th>205</th>\n",
              "      <td>636844</td>\n",
              "      <td>11</td>\n",
              "    </tr>\n",
              "    <tr>\n",
              "      <th>316</th>\n",
              "      <td>640258</td>\n",
              "      <td>10</td>\n",
              "    </tr>\n",
              "    <tr>\n",
              "      <th>282</th>\n",
              "      <td>637293</td>\n",
              "      <td>10</td>\n",
              "    </tr>\n",
              "  </tbody>\n",
              "</table>\n",
              "</div>"
            ],
            "text/plain": [
              "     user_id  late\n",
              "66    636027    17\n",
              "56    636017    13\n",
              "205   636844    11\n",
              "316   640258    10\n",
              "282   637293    10"
            ]
          },
          "metadata": {
            "tags": []
          },
          "execution_count": 42
        }
      ]
    },
    {
      "cell_type": "markdown",
      "metadata": {
        "id": "Mv2v1CnzL5EP"
      },
      "source": [
        "This is an interesting obervation, because some students had submitted many late comments.\n",
        "- Safi, Start: 12-11-2020, End: 17-11-2020"
      ]
    },
    {
      "cell_type": "code",
      "metadata": {
        "id": "BqJQvfUTefZG"
      },
      "source": [
        "c4usercourses.rename(columns={\"user\" : \"user_id\", \"Team\" : \"team\"}, inplace=True) # Rename columns\n",
        "c4usercourses['user_id']= c4usercourses['user_id'].astype(str)\n",
        "student_lateness['user_id']= correct_by_student['user_id'].astype(str)\n",
        "\n",
        "\n",
        "c4usercourses_lateness = c4usercourses.merge(student_lateness.reset_index(drop=True), on=\"user_id\") # merge the columns\n",
        "\n",
        "c4usercourses_lateness.sort_values(by=\"late\", ascending=False) # Sort the columns for output by lateness\n",
        "\n",
        "student_late_boolean = all_combined[[\"user_id\", \"late\"]].groupby(\"user_id\", as_index=False).any(\"late\")\n",
        "student_late_boolean['user_id']= student_late_boolean['user_id'].astype(str)\n",
        "team_latenes_boolean2 = c4usercourses.merge(student_late_boolean, on=\"user_id\")\n",
        "\n",
        "# Yu, Start: 12-11-2020, End: 16-11-2020"
      ],
      "execution_count": 43,
      "outputs": []
    },
    {
      "cell_type": "markdown",
      "metadata": {
        "id": "U2XV7A7TefZQ"
      },
      "source": [
        "**Proportion of team who were late**\n",
        "\n",
        "- Below is a graph showing the Proportion of the team members who were late\n",
        "- This is calcualted by (number of late team members) / (number of total team members)\n",
        "- Yellow has the highest % of lately submitted comments\n",
        "\n",
        "- Jones, Lorimer, Tanudji, Start: 12-11-2020, End: 16-11-2020"
      ]
    },
    {
      "cell_type": "code",
      "metadata": {
        "id": "q64xMDUUefZR",
        "colab": {
          "base_uri": "https://localhost:8080/",
          "height": 542
        },
        "outputId": "b370fec8-be04-420c-c847-e3c5b32a19ba"
      },
      "source": [
        "c4usercourses[c4usercourses['team'] == 'Pink']\n",
        "team_latenes_boolean2[team_latenes_boolean2['team'] == 'Pink']\n",
        "\n",
        "# Find number of members late and size of each team\n",
        "members_late1 = team_latenes_boolean2[[\"team\", \"late\"]].groupby(\"team\").sum()\n",
        "team_size1 = team_latenes_boolean2[[\"team\", \"user_id\"]].groupby(\"team\").nunique()\n",
        "\n",
        "members_late1[\"num_members\"] = team_size1\n",
        "members_late1[\"perc_late\"] = members_late1[\"late\"] / members_late1[\"num_members\"] \n",
        "members_late1 = members_late1.reset_index()\n",
        "\n",
        "\n",
        "fig = px.bar(members_late1,x=\"team\",y=\"perc_late\",color = \"team\", color_discrete_map = {'Pink': 'hotpink','Green': 'mediumseagreen', 'Yellow': 'gold','Black': 'black','Blue': 'royalblue','Red': 'tomato', 'Brown': 'peru', 'White': 'white','Purple': 'mediumpurple'}, title = \"Proportion of members in the team who made a late comments in cycles 1 and 2\",labels={\n",
        "                     \"team\": \"Groups\",\n",
        "                     \"perc_late\": \"Percentage of Comments submitted late\"})\n",
        "\n",
        "fig.update_layout(showlegend=False) \n",
        "\n",
        "# Lorimer, Jones, Tanudji, Start: 12-11-2020, End: 16-11-2020"
      ],
      "execution_count": 44,
      "outputs": [
        {
          "output_type": "display_data",
          "data": {
            "text/html": [
              "<html>\n",
              "<head><meta charset=\"utf-8\" /></head>\n",
              "<body>\n",
              "    <div>\n",
              "            <script src=\"https://cdnjs.cloudflare.com/ajax/libs/mathjax/2.7.5/MathJax.js?config=TeX-AMS-MML_SVG\"></script><script type=\"text/javascript\">if (window.MathJax) {MathJax.Hub.Config({SVG: {font: \"STIX-Web\"}});}</script>\n",
              "                <script type=\"text/javascript\">window.PlotlyConfig = {MathJaxConfig: 'local'};</script>\n",
              "        <script src=\"https://cdn.plot.ly/plotly-latest.min.js\"></script>    \n",
              "            <div id=\"14fa8ae8-4fd8-472a-80f3-735e1845e7ab\" class=\"plotly-graph-div\" style=\"height:525px; width:100%;\"></div>\n",
              "            <script type=\"text/javascript\">\n",
              "                \n",
              "                    window.PLOTLYENV=window.PLOTLYENV || {};\n",
              "                    \n",
              "                if (document.getElementById(\"14fa8ae8-4fd8-472a-80f3-735e1845e7ab\")) {\n",
              "                    Plotly.newPlot(\n",
              "                        '14fa8ae8-4fd8-472a-80f3-735e1845e7ab',\n",
              "                        [{\"alignmentgroup\": \"True\", \"hoverlabel\": {\"namelength\": 0}, \"hovertemplate\": \"Groups=%{x}<br>Percentage of Comments submitted late=%{y}\", \"legendgroup\": \"Groups=Black\", \"marker\": {\"color\": \"black\"}, \"name\": \"Groups=Black\", \"offsetgroup\": \"Groups=Black\", \"orientation\": \"v\", \"showlegend\": true, \"textposition\": \"auto\", \"type\": \"bar\", \"x\": [\"Black\"], \"xaxis\": \"x\", \"y\": [0.3235294117647059], \"yaxis\": \"y\"}, {\"alignmentgroup\": \"True\", \"hoverlabel\": {\"namelength\": 0}, \"hovertemplate\": \"Groups=%{x}<br>Percentage of Comments submitted late=%{y}\", \"legendgroup\": \"Groups=Blue\", \"marker\": {\"color\": \"royalblue\"}, \"name\": \"Groups=Blue\", \"offsetgroup\": \"Groups=Blue\", \"orientation\": \"v\", \"showlegend\": true, \"textposition\": \"auto\", \"type\": \"bar\", \"x\": [\"Blue\"], \"xaxis\": \"x\", \"y\": [0.30303030303030304], \"yaxis\": \"y\"}, {\"alignmentgroup\": \"True\", \"hoverlabel\": {\"namelength\": 0}, \"hovertemplate\": \"Groups=%{x}<br>Percentage of Comments submitted late=%{y}\", \"legendgroup\": \"Groups=Brown\", \"marker\": {\"color\": \"peru\"}, \"name\": \"Groups=Brown\", \"offsetgroup\": \"Groups=Brown\", \"orientation\": \"v\", \"showlegend\": true, \"textposition\": \"auto\", \"type\": \"bar\", \"x\": [\"Brown\"], \"xaxis\": \"x\", \"y\": [0.18181818181818182], \"yaxis\": \"y\"}, {\"alignmentgroup\": \"True\", \"hoverlabel\": {\"namelength\": 0}, \"hovertemplate\": \"Groups=%{x}<br>Percentage of Comments submitted late=%{y}\", \"legendgroup\": \"Groups=Green\", \"marker\": {\"color\": \"mediumseagreen\"}, \"name\": \"Groups=Green\", \"offsetgroup\": \"Groups=Green\", \"orientation\": \"v\", \"showlegend\": true, \"textposition\": \"auto\", \"type\": \"bar\", \"x\": [\"Green\"], \"xaxis\": \"x\", \"y\": [0.39473684210526316], \"yaxis\": \"y\"}, {\"alignmentgroup\": \"True\", \"hoverlabel\": {\"namelength\": 0}, \"hovertemplate\": \"Groups=%{x}<br>Percentage of Comments submitted late=%{y}\", \"legendgroup\": \"Groups=Pink\", \"marker\": {\"color\": \"hotpink\"}, \"name\": \"Groups=Pink\", \"offsetgroup\": \"Groups=Pink\", \"orientation\": \"v\", \"showlegend\": true, \"textposition\": \"auto\", \"type\": \"bar\", \"x\": [\"Pink\"], \"xaxis\": \"x\", \"y\": [0.3783783783783784], \"yaxis\": \"y\"}, {\"alignmentgroup\": \"True\", \"hoverlabel\": {\"namelength\": 0}, \"hovertemplate\": \"Groups=%{x}<br>Percentage of Comments submitted late=%{y}\", \"legendgroup\": \"Groups=Purple\", \"marker\": {\"color\": \"mediumpurple\"}, \"name\": \"Groups=Purple\", \"offsetgroup\": \"Groups=Purple\", \"orientation\": \"v\", \"showlegend\": true, \"textposition\": \"auto\", \"type\": \"bar\", \"x\": [\"Purple\"], \"xaxis\": \"x\", \"y\": [0.15384615384615385], \"yaxis\": \"y\"}, {\"alignmentgroup\": \"True\", \"hoverlabel\": {\"namelength\": 0}, \"hovertemplate\": \"Groups=%{x}<br>Percentage of Comments submitted late=%{y}\", \"legendgroup\": \"Groups=Red\", \"marker\": {\"color\": \"tomato\"}, \"name\": \"Groups=Red\", \"offsetgroup\": \"Groups=Red\", \"orientation\": \"v\", \"showlegend\": true, \"textposition\": \"auto\", \"type\": \"bar\", \"x\": [\"Red\"], \"xaxis\": \"x\", \"y\": [0.3333333333333333], \"yaxis\": \"y\"}, {\"alignmentgroup\": \"True\", \"hoverlabel\": {\"namelength\": 0}, \"hovertemplate\": \"Groups=%{x}<br>Percentage of Comments submitted late=%{y}\", \"legendgroup\": \"Groups=White\", \"marker\": {\"color\": \"white\"}, \"name\": \"Groups=White\", \"offsetgroup\": \"Groups=White\", \"orientation\": \"v\", \"showlegend\": true, \"textposition\": \"auto\", \"type\": \"bar\", \"x\": [\"White\"], \"xaxis\": \"x\", \"y\": [0.17391304347826086], \"yaxis\": \"y\"}, {\"alignmentgroup\": \"True\", \"hoverlabel\": {\"namelength\": 0}, \"hovertemplate\": \"Groups=%{x}<br>Percentage of Comments submitted late=%{y}\", \"legendgroup\": \"Groups=Yellow\", \"marker\": {\"color\": \"gold\"}, \"name\": \"Groups=Yellow\", \"offsetgroup\": \"Groups=Yellow\", \"orientation\": \"v\", \"showlegend\": true, \"textposition\": \"auto\", \"type\": \"bar\", \"x\": [\"Yellow\"], \"xaxis\": \"x\", \"y\": [0.43333333333333335], \"yaxis\": \"y\"}],\n",
              "                        {\"barmode\": \"relative\", \"legend\": {\"tracegroupgap\": 0}, \"showlegend\": false, \"template\": {\"data\": {\"bar\": [{\"error_x\": {\"color\": \"#2a3f5f\"}, \"error_y\": {\"color\": \"#2a3f5f\"}, \"marker\": {\"line\": {\"color\": \"#E5ECF6\", \"width\": 0.5}}, \"type\": \"bar\"}], \"barpolar\": [{\"marker\": {\"line\": {\"color\": \"#E5ECF6\", \"width\": 0.5}}, \"type\": \"barpolar\"}], \"carpet\": [{\"aaxis\": {\"endlinecolor\": \"#2a3f5f\", \"gridcolor\": \"white\", \"linecolor\": \"white\", \"minorgridcolor\": \"white\", \"startlinecolor\": \"#2a3f5f\"}, \"baxis\": {\"endlinecolor\": \"#2a3f5f\", \"gridcolor\": \"white\", \"linecolor\": \"white\", \"minorgridcolor\": \"white\", \"startlinecolor\": \"#2a3f5f\"}, \"type\": \"carpet\"}], \"choropleth\": [{\"colorbar\": {\"outlinewidth\": 0, \"ticks\": \"\"}, \"type\": \"choropleth\"}], \"contour\": [{\"colorbar\": {\"outlinewidth\": 0, \"ticks\": \"\"}, \"colorscale\": [[0.0, \"#0d0887\"], [0.1111111111111111, \"#46039f\"], [0.2222222222222222, \"#7201a8\"], [0.3333333333333333, \"#9c179e\"], [0.4444444444444444, \"#bd3786\"], [0.5555555555555556, \"#d8576b\"], [0.6666666666666666, \"#ed7953\"], [0.7777777777777778, \"#fb9f3a\"], [0.8888888888888888, \"#fdca26\"], [1.0, \"#f0f921\"]], \"type\": \"contour\"}], \"contourcarpet\": [{\"colorbar\": {\"outlinewidth\": 0, \"ticks\": \"\"}, \"type\": \"contourcarpet\"}], \"heatmap\": [{\"colorbar\": {\"outlinewidth\": 0, \"ticks\": \"\"}, \"colorscale\": [[0.0, \"#0d0887\"], [0.1111111111111111, \"#46039f\"], [0.2222222222222222, \"#7201a8\"], [0.3333333333333333, \"#9c179e\"], [0.4444444444444444, \"#bd3786\"], [0.5555555555555556, \"#d8576b\"], [0.6666666666666666, \"#ed7953\"], [0.7777777777777778, \"#fb9f3a\"], [0.8888888888888888, \"#fdca26\"], [1.0, \"#f0f921\"]], \"type\": \"heatmap\"}], \"heatmapgl\": [{\"colorbar\": {\"outlinewidth\": 0, \"ticks\": \"\"}, \"colorscale\": [[0.0, \"#0d0887\"], [0.1111111111111111, \"#46039f\"], [0.2222222222222222, \"#7201a8\"], [0.3333333333333333, \"#9c179e\"], [0.4444444444444444, \"#bd3786\"], [0.5555555555555556, \"#d8576b\"], [0.6666666666666666, \"#ed7953\"], [0.7777777777777778, \"#fb9f3a\"], [0.8888888888888888, \"#fdca26\"], [1.0, \"#f0f921\"]], \"type\": \"heatmapgl\"}], \"histogram\": [{\"marker\": {\"colorbar\": {\"outlinewidth\": 0, \"ticks\": \"\"}}, \"type\": \"histogram\"}], \"histogram2d\": [{\"colorbar\": {\"outlinewidth\": 0, \"ticks\": \"\"}, \"colorscale\": [[0.0, \"#0d0887\"], [0.1111111111111111, \"#46039f\"], [0.2222222222222222, \"#7201a8\"], [0.3333333333333333, \"#9c179e\"], [0.4444444444444444, \"#bd3786\"], [0.5555555555555556, \"#d8576b\"], [0.6666666666666666, \"#ed7953\"], [0.7777777777777778, \"#fb9f3a\"], [0.8888888888888888, \"#fdca26\"], [1.0, \"#f0f921\"]], \"type\": \"histogram2d\"}], \"histogram2dcontour\": [{\"colorbar\": {\"outlinewidth\": 0, \"ticks\": \"\"}, \"colorscale\": [[0.0, \"#0d0887\"], [0.1111111111111111, \"#46039f\"], [0.2222222222222222, \"#7201a8\"], [0.3333333333333333, \"#9c179e\"], [0.4444444444444444, \"#bd3786\"], [0.5555555555555556, \"#d8576b\"], [0.6666666666666666, \"#ed7953\"], [0.7777777777777778, \"#fb9f3a\"], [0.8888888888888888, \"#fdca26\"], [1.0, \"#f0f921\"]], \"type\": \"histogram2dcontour\"}], \"mesh3d\": [{\"colorbar\": {\"outlinewidth\": 0, \"ticks\": \"\"}, \"type\": \"mesh3d\"}], \"parcoords\": [{\"line\": {\"colorbar\": {\"outlinewidth\": 0, \"ticks\": \"\"}}, \"type\": \"parcoords\"}], \"pie\": [{\"automargin\": true, \"type\": \"pie\"}], \"scatter\": [{\"marker\": {\"colorbar\": {\"outlinewidth\": 0, \"ticks\": \"\"}}, \"type\": \"scatter\"}], \"scatter3d\": [{\"line\": {\"colorbar\": {\"outlinewidth\": 0, \"ticks\": \"\"}}, \"marker\": {\"colorbar\": {\"outlinewidth\": 0, \"ticks\": \"\"}}, \"type\": \"scatter3d\"}], \"scattercarpet\": [{\"marker\": {\"colorbar\": {\"outlinewidth\": 0, \"ticks\": \"\"}}, \"type\": \"scattercarpet\"}], \"scattergeo\": [{\"marker\": {\"colorbar\": {\"outlinewidth\": 0, \"ticks\": \"\"}}, \"type\": \"scattergeo\"}], \"scattergl\": [{\"marker\": {\"colorbar\": {\"outlinewidth\": 0, \"ticks\": \"\"}}, \"type\": \"scattergl\"}], \"scattermapbox\": [{\"marker\": {\"colorbar\": {\"outlinewidth\": 0, \"ticks\": \"\"}}, \"type\": \"scattermapbox\"}], \"scatterpolar\": [{\"marker\": {\"colorbar\": {\"outlinewidth\": 0, \"ticks\": \"\"}}, \"type\": \"scatterpolar\"}], \"scatterpolargl\": [{\"marker\": {\"colorbar\": {\"outlinewidth\": 0, \"ticks\": \"\"}}, \"type\": \"scatterpolargl\"}], \"scatterternary\": [{\"marker\": {\"colorbar\": {\"outlinewidth\": 0, \"ticks\": \"\"}}, \"type\": \"scatterternary\"}], \"surface\": [{\"colorbar\": {\"outlinewidth\": 0, \"ticks\": \"\"}, \"colorscale\": [[0.0, \"#0d0887\"], [0.1111111111111111, \"#46039f\"], [0.2222222222222222, \"#7201a8\"], [0.3333333333333333, \"#9c179e\"], [0.4444444444444444, \"#bd3786\"], [0.5555555555555556, \"#d8576b\"], [0.6666666666666666, \"#ed7953\"], [0.7777777777777778, \"#fb9f3a\"], [0.8888888888888888, \"#fdca26\"], [1.0, \"#f0f921\"]], \"type\": \"surface\"}], \"table\": [{\"cells\": {\"fill\": {\"color\": \"#EBF0F8\"}, \"line\": {\"color\": \"white\"}}, \"header\": {\"fill\": {\"color\": \"#C8D4E3\"}, \"line\": {\"color\": \"white\"}}, \"type\": \"table\"}]}, \"layout\": {\"annotationdefaults\": {\"arrowcolor\": \"#2a3f5f\", \"arrowhead\": 0, \"arrowwidth\": 1}, \"coloraxis\": {\"colorbar\": {\"outlinewidth\": 0, \"ticks\": \"\"}}, \"colorscale\": {\"diverging\": [[0, \"#8e0152\"], [0.1, \"#c51b7d\"], [0.2, \"#de77ae\"], [0.3, \"#f1b6da\"], [0.4, \"#fde0ef\"], [0.5, \"#f7f7f7\"], [0.6, \"#e6f5d0\"], [0.7, \"#b8e186\"], [0.8, \"#7fbc41\"], [0.9, \"#4d9221\"], [1, \"#276419\"]], \"sequential\": [[0.0, \"#0d0887\"], [0.1111111111111111, \"#46039f\"], [0.2222222222222222, \"#7201a8\"], [0.3333333333333333, \"#9c179e\"], [0.4444444444444444, \"#bd3786\"], [0.5555555555555556, \"#d8576b\"], [0.6666666666666666, \"#ed7953\"], [0.7777777777777778, \"#fb9f3a\"], [0.8888888888888888, \"#fdca26\"], [1.0, \"#f0f921\"]], \"sequentialminus\": [[0.0, \"#0d0887\"], [0.1111111111111111, \"#46039f\"], [0.2222222222222222, \"#7201a8\"], [0.3333333333333333, \"#9c179e\"], [0.4444444444444444, \"#bd3786\"], [0.5555555555555556, \"#d8576b\"], [0.6666666666666666, \"#ed7953\"], [0.7777777777777778, \"#fb9f3a\"], [0.8888888888888888, \"#fdca26\"], [1.0, \"#f0f921\"]]}, \"colorway\": [\"#636efa\", \"#EF553B\", \"#00cc96\", \"#ab63fa\", \"#FFA15A\", \"#19d3f3\", \"#FF6692\", \"#B6E880\", \"#FF97FF\", \"#FECB52\"], \"font\": {\"color\": \"#2a3f5f\"}, \"geo\": {\"bgcolor\": \"white\", \"lakecolor\": \"white\", \"landcolor\": \"#E5ECF6\", \"showlakes\": true, \"showland\": true, \"subunitcolor\": \"white\"}, \"hoverlabel\": {\"align\": \"left\"}, \"hovermode\": \"closest\", \"mapbox\": {\"style\": \"light\"}, \"paper_bgcolor\": \"white\", \"plot_bgcolor\": \"#E5ECF6\", \"polar\": {\"angularaxis\": {\"gridcolor\": \"white\", \"linecolor\": \"white\", \"ticks\": \"\"}, \"bgcolor\": \"#E5ECF6\", \"radialaxis\": {\"gridcolor\": \"white\", \"linecolor\": \"white\", \"ticks\": \"\"}}, \"scene\": {\"xaxis\": {\"backgroundcolor\": \"#E5ECF6\", \"gridcolor\": \"white\", \"gridwidth\": 2, \"linecolor\": \"white\", \"showbackground\": true, \"ticks\": \"\", \"zerolinecolor\": \"white\"}, \"yaxis\": {\"backgroundcolor\": \"#E5ECF6\", \"gridcolor\": \"white\", \"gridwidth\": 2, \"linecolor\": \"white\", \"showbackground\": true, \"ticks\": \"\", \"zerolinecolor\": \"white\"}, \"zaxis\": {\"backgroundcolor\": \"#E5ECF6\", \"gridcolor\": \"white\", \"gridwidth\": 2, \"linecolor\": \"white\", \"showbackground\": true, \"ticks\": \"\", \"zerolinecolor\": \"white\"}}, \"shapedefaults\": {\"line\": {\"color\": \"#2a3f5f\"}}, \"ternary\": {\"aaxis\": {\"gridcolor\": \"white\", \"linecolor\": \"white\", \"ticks\": \"\"}, \"baxis\": {\"gridcolor\": \"white\", \"linecolor\": \"white\", \"ticks\": \"\"}, \"bgcolor\": \"#E5ECF6\", \"caxis\": {\"gridcolor\": \"white\", \"linecolor\": \"white\", \"ticks\": \"\"}}, \"title\": {\"x\": 0.05}, \"xaxis\": {\"automargin\": true, \"gridcolor\": \"white\", \"linecolor\": \"white\", \"ticks\": \"\", \"title\": {\"standoff\": 15}, \"zerolinecolor\": \"white\", \"zerolinewidth\": 2}, \"yaxis\": {\"automargin\": true, \"gridcolor\": \"white\", \"linecolor\": \"white\", \"ticks\": \"\", \"title\": {\"standoff\": 15}, \"zerolinecolor\": \"white\", \"zerolinewidth\": 2}}}, \"title\": {\"text\": \"Proportion of members in the team who made a late comments in cycles 1 and 2\"}, \"xaxis\": {\"anchor\": \"y\", \"categoryarray\": [\"Black\", \"Blue\", \"Brown\", \"Green\", \"Pink\", \"Purple\", \"Red\", \"White\", \"Yellow\"], \"categoryorder\": \"array\", \"domain\": [0.0, 1.0], \"title\": {\"text\": \"Groups\"}}, \"yaxis\": {\"anchor\": \"x\", \"domain\": [0.0, 1.0], \"title\": {\"text\": \"Percentage of Comments submitted late\"}}},\n",
              "                        {\"responsive\": true}\n",
              "                    ).then(function(){\n",
              "                            \n",
              "var gd = document.getElementById('14fa8ae8-4fd8-472a-80f3-735e1845e7ab');\n",
              "var x = new MutationObserver(function (mutations, observer) {{\n",
              "        var display = window.getComputedStyle(gd).display;\n",
              "        if (!display || display === 'none') {{\n",
              "            console.log([gd, 'removed!']);\n",
              "            Plotly.purge(gd);\n",
              "            observer.disconnect();\n",
              "        }}\n",
              "}});\n",
              "\n",
              "// Listen for the removal of the full notebook cells\n",
              "var notebookContainer = gd.closest('#notebook-container');\n",
              "if (notebookContainer) {{\n",
              "    x.observe(notebookContainer, {childList: true});\n",
              "}}\n",
              "\n",
              "// Listen for the clearing of the current output cell\n",
              "var outputEl = gd.closest('.output');\n",
              "if (outputEl) {{\n",
              "    x.observe(outputEl, {childList: true});\n",
              "}}\n",
              "\n",
              "                        })\n",
              "                };\n",
              "                \n",
              "            </script>\n",
              "        </div>\n",
              "</body>\n",
              "</html>"
            ]
          },
          "metadata": {
            "tags": []
          }
        }
      ]
    },
    {
      "cell_type": "markdown",
      "metadata": {
        "id": "QjGMbcp1efZU"
      },
      "source": [
        "**Key Observations**\n",
        "\n",
        "- There is no clear pattern.\n",
        "Yellow  had a higher proportion of comments that were submitted in these cycles\n",
        "Where as Purple had the lowest proportions\n",
        "- Histogram is left skewed and indicates to us that most students were motivated and engaged to submit on time or early.\n",
        "\n",
        "- Lorimer, Jones, Tanudji, Start: 12-11-2020, End: 16-11-2020"
      ]
    },
    {
      "cell_type": "markdown",
      "metadata": {
        "id": "2zmxF78kMraj"
      },
      "source": [
        "After analysing the lateness of comments we can conclude that it is somewhat of an indicator of poor group performance. Teams that later did worse with AcademicMark/question quality and this makes sense seen the question would have had late feedback.\n",
        "- Safi, Start: 12-11-2020, End: 17-11-2020"
      ]
    },
    {
      "cell_type": "markdown",
      "metadata": {
        "id": "6ztgb2sfNU3i"
      },
      "source": [
        "We can explore the lateness of questions now, to determine if there is an influnce on perfomance using groups in peerwise."
      ]
    },
    {
      "cell_type": "markdown",
      "metadata": {
        "id": "5-dJc7fCefZF"
      },
      "source": [
        "### 5.3.2 Lateness of Questions\n",
        "\n",
        "Here we explore the latness of comments much like we have explored for questions.\n",
        "\n",
        "- Yu, Start: 12-11-2020, End: 16-11-2020"
      ]
    },
    {
      "cell_type": "markdown",
      "metadata": {
        "id": "VfYsoqKRefZF"
      },
      "source": [
        "**Showing the number of late students**\n",
        "\n",
        "- Below that is a graph showing the lateness of students by team\n",
        "\n",
        "- Yu, Start: 12-11-2020, End: 16-11-2020\n",
        "\n"
      ]
    },
    {
      "cell_type": "code",
      "metadata": {
        "id": "ADKuX1LyefYq",
        "colab": {
          "base_uri": "https://localhost:8080/",
          "height": 542
        },
        "outputId": "458a25d3-5e65-430d-db2f-16314c0408d8"
      },
      "source": [
        "px.histogram(q_and_a_deadline, x = 'no_days', labels ={'no_days': \"Days Before Due Date\"},\n",
        "             title= \"Distribution of Questions Submitted before the Due Date \",\n",
        "              opacity=0.8, color_discrete_sequence=['green'])\n",
        "\n",
        "# Yu, Tanudji, Jones, Start: 12-11-2020, End: 15-11-2020"
      ],
      "execution_count": 45,
      "outputs": [
        {
          "output_type": "display_data",
          "data": {
            "text/html": [
              "<html>\n",
              "<head><meta charset=\"utf-8\" /></head>\n",
              "<body>\n",
              "    <div>\n",
              "            <script src=\"https://cdnjs.cloudflare.com/ajax/libs/mathjax/2.7.5/MathJax.js?config=TeX-AMS-MML_SVG\"></script><script type=\"text/javascript\">if (window.MathJax) {MathJax.Hub.Config({SVG: {font: \"STIX-Web\"}});}</script>\n",
              "                <script type=\"text/javascript\">window.PlotlyConfig = {MathJaxConfig: 'local'};</script>\n",
              "        <script src=\"https://cdn.plot.ly/plotly-latest.min.js\"></script>    \n",
              "            <div id=\"577ffe56-1b71-410f-b000-cbb61d6e5a76\" class=\"plotly-graph-div\" style=\"height:525px; width:100%;\"></div>\n",
              "            <script type=\"text/javascript\">\n",
              "                \n",
              "                    window.PLOTLYENV=window.PLOTLYENV || {};\n",
              "                    \n",
              "                if (document.getElementById(\"577ffe56-1b71-410f-b000-cbb61d6e5a76\")) {\n",
              "                    Plotly.newPlot(\n",
              "                        '577ffe56-1b71-410f-b000-cbb61d6e5a76',\n",
              "                        [{\"alignmentgroup\": \"True\", \"bingroup\": \"x\", \"hoverlabel\": {\"namelength\": 0}, \"hovertemplate\": \"Days Before Due Date=%{x}<br>count=%{y}\", \"legendgroup\": \"\", \"marker\": {\"color\": \"green\", \"opacity\": 0.8}, \"name\": \"\", \"offsetgroup\": \"\", \"orientation\": \"v\", \"showlegend\": false, \"type\": \"histogram\", \"x\": [13, 12, 12, 12, 12, 12, 12, 11, 11, 11, 10, 10, 10, 10, 10, 9, 9, 9, 9, 9, 9, 8, 8, 8, 8, 8, 7, 7, 7, 7, 7, 7, 6, 6, 5, 4, 4, 4, 4, 4, 3, 3, 2, 2, 2, 2, 2, 1, 1, 1, 1, 0, 0, 0, 0, 0, 0, 0, 13, 12, 12, 12, 12, 12, 11, 10, 10, 10, 10, 9, 9, 9, 9, 9, 9, 9, 8, 8, 8, 8, 8, 7, 7, 7, 7, 7, 7, 6, 4, 4, 4, 3, 3, 3, 2, 2, 2, 1, 1, 1, 1, 1, 0, 0, 0, 0, 0, 0, 0, -1, -1, 13, 12, 12, 11, 10, 10, 10, 10, 9, 9, 9, 9, 9, 8, 8, 8, 8, 8, 7, 7, 7, 7, 7, 7, 6, 4, 4, 4, 3, 3, 2, 2, 2, 2, 1, 1, 1, 0, 0, 0, 0, 0, 0, 0, 0, -1, -1, 13, 12, 12, 11, 10, 10, 10, 10, 9, 9, 9, 9, 9, 9, 8, 8, 8, 8, 8, 7, 7, 7, 7, 7, 7, 6, 6, 4, 4, 4, 3, 3, 3, 2, 2, 1, 1, 1, 0, 0, 0, 0, 0, 0, 0, -1, -1, 13, 13, 12, 12, 12, 12, 12, 11, 10, 10, 10, 10, 9, 9, 9, 9, 9, 9, 8, 8, 8, 8, 7, 7, 7, 7, 7, 6, 5, 5, 4, 4, 4, 4, 2, 2, 2, 1, 0, 0, 0, 0, 0, -1, -1, 12, 12, 12, 12, 12, 11, 10, 10, 10, 10, 9, 9, 9, 9, 9, 9, 8, 8, 8, 8, 8, 8, 7, 7, 7, 7, 7, 7, 6, 6, 5, 4, 4, 4, 4, 2, 2, 1, 1, 1, 1, 1, 1, 0, 0, 0, 0, 0, 0, 0, -1, 12, 12, 11, 11, 10, 10, 9, 9, 9, 9, 9, 9, 8, 8, 8, 7, 7, 7, 6, 5, 4, 4, 3, 2, 0, 0, 0, -1, -1, 12, 12, 12, 10, 10, 10, 10, 9, 9, 9, 9, 9, 8, 8, 8, 8, 7, 7, 7, 7, 6, 6, 5, 4, 3, 1, 1, 1, 1, 0, 0, -1, 12, 12, 12, 12, 10, 10, 10, 10, 9, 9, 9, 9, 9, 9, 8, 8, 7, 7, 6, 6, 5, 4, 4, 4, 3, 2, 2, 2, 1, 1, 1, 1, 0, 0, 0, -1, -1, 12, 12, 12, 12, 10, 10, 9, 9, 9, 9, 9, 8, 8, 8, 7, 7, 6, 6, 5, 4, 3, 2, 2, 2, 1, 1, 0, 0, 0, 0, -1, -1, 12, 12, 12, 10, 10, 9, 9, 9, 9, 9, 8, 8, 8, 7, 7, 6, 5, 4, 4, 4, 4, 4, 2, 1, 1, 0, 0, 0, 0, 0, -1, 12, 12, 11, 10, 10, 10, 9, 9, 9, 9, 8, 8, 8, 7, 7, 7, 6, 5, 5, 4, 4, 3, 2, 2, 2, 1, 1, 1, 0, 0, 0, -1, 12, 12, 12, 11, 10, 10, 9, 9, 9, 9, 9, 9, 8, 7, 7, 6, 5, 5, 4, 4, 4, 2, 2, 0, 0, 0, -1, 12, 12, 11, 10, 10, 9, 9, 9, 9, 9, 9, 9, 8, 8, 8, 8, 7, 7, 7, 7, 7, 6, 5, 5, 5, 5, 4, 3, 2, 2, 2, 1, 1, 0, 0, 0, 0, 0, 0, 0, 0, 12, 12, 12, 11, 10, 9, 9, 9, 9, 8, 8, 8, 7, 7, 7, 6, 5, 5, 5, 5, 4, 3, 3, 2, 2, 2, 2, 2, 1, 1, 1, 0, 0, 0, -1, -1, 12, 12, 11, 10, 10, 10, 9, 9, 9, 9, 8, 8, 8, 8, 7, 7, 7, 7, 7, 6, 5, 4, 4, 4, 3, 2, 1, 0, 0, 0, 0, -1, 12, 12, 12, 11, 10, 10, 10, 9, 9, 9, 9, 9, 8, 8, 7, 7, 7, 6, 5, 5, 4, 4, 3, 2, 1, 0, -1, -1, 12, 12, 12, 10, 10, 10, 9, 9, 9, 9, 8, 8, 8, 7, 7, 7, 7, 6, 4, 3, 3, 2, 2, 1, 1, 1, 1, 0, 0, 0, -1, -1, -1, 12, 12, 12, 12, 12, 12, 11, 10, 10, 9, 9, 9, 8, 8, 7, 7, 7, 7, 7, 6, 5, 5, 3, 2, 2, 2, 1, 1, 1, 0, 0, -1, -1, 12, 12, 12, 12, 11, 10, 9, 9, 9, 8, 8, 8, 8, 7, 6, 5, 5, 4, 4, 3, 2, 2, 1, 0, 0, 0, 0, -1, -1, 12, 12, 12, 12, 10, 10, 10, 10, 9, 9, 8, 8, 8, 7, 7, 7, 6, 5, 4, 4, 3, 2, 1, 0, 0, -1, -1, 12, 12, 12, 10, 10, 9, 9, 9, 9, 9, 8, 8, 8, 7, 7, 7, 7, 7, 6, 5, 5, 5, 4, 2, 2, 2, 1, 1, 0, 0, 0, 0, 0, -1, 12, 12, 12, 11, 10, 10, 10, 9, 9, 9, 9, 9, 8, 8, 8, 8, 7, 7, 7, 7, 6, 6, 5, 5, 4, 4, 4, 3, 3, 2, 2, 1, 1, 1, 1, 0, 0, 0, 0, 0, -1, -1, 12, 12, 12, 12, 10, 10, 10, 9, 9, 9, 9, 8, 7, 7, 7, 7, 7, 7, 6, 6, 6, 5, 5, 5, 4, 4, 4, 4, 3, 1, 1, 1, 1, 1, 0, 0, 0, 0, 0, 0, 12, 12, 11, 10, 10, 10, 10, 9, 9, 9, 9, 9, 9, 8, 8, 7, 7, 7, 7, 7, 7, 6, 6, 5, 5, 4, 4, 4, 3, 3, 2, 2, 2, 1, 1, 1, 1, 0, 0, 0, 0, 0, -1, -1, -1, -1, 12, 12, 11, 11, 10, 10, 9, 9, 9, 9, 9, 8, 8, 8, 8, 7, 7, 7, 7, 7, 6, 6, 5, 5, 5, 5, 4, 4, 4, 4, 2, 2, 2, 1, 1, 1, 0, 0, 0, 0, 0, 0, 0, 0, -1, 12, 12, 12, 12, 11, 11, 10, 10, 10, 10, 9, 9, 9, 9, 9, 9, 8, 8, 8, 8, 8, 7, 7, 7, 7, 7, 5, 4, 2, 2, 2, 2, 1, 0, 0, 0, 0, 0, 0, 0, 0, -1, -1, 12, 12, 11, 10, 10, 10, 9, 9, 9, 9, 9, 9, 8, 8, 8, 7, 7, 6, 5, 5, 4, 4, 4, 3, 2, 2, 2, 1, 1, 1, 0, 0, 0, -1, 12, 12, 12, 12, 11, 10, 10, 9, 9, 9, 9, 9, 9, 8, 8, 8, 8, 8, 7, 7, 7, 6, 6, 5, 4, 4, 4, 3, 3, 2, 2, 2, 1, 1, 1, 0, 0, 0, 0, 0, 0, 0, -1, 12, 12, 12, 12, 10, 9, 9, 9, 9, 9, 8, 8, 8, 7, 7, 7, 6, 6, 5, 4, 4, 4, 3, 2, 2, 1, 0, 0, -1, -1, 12, 12, 12, 12, 10, 10, 10, 9, 9, 8, 8, 8, 8, 8, 7, 7, 7, 6, 5, 5, 4, 3, 2, 2, 2, 1, 1, 1, 0, 0, -1, -1, 12, 12, 12, 11, 10, 10, 10, 9, 9, 9, 9, 9, 9, 9, 9, 8, 8, 8, 8, 8, 7, 7, 7, 7, 6, 5, 4, 4, 3, 3, 2, 2, 2, 1, 1, 1, 0, 0, 0, 0, 0, 0, -1, 12, 12, 12, 12, 11, 10, 10, 10, 10, 9, 9, 9, 9, 9, 9, 8, 8, 8, 8, 8, 8, 8, 8, 7, 7, 7, 7, 6, 5, 5, 4, 4, 4, 3, 3, 3, 2, 1, 1, 1, 1, 0, 0, 0, 0, 0, 0, 0, 0, 0, -1, 12, 12, 12, 12, 10, 10, 10, 10, 9, 9, 9, 9, 8, 8, 8, 8, 7, 7, 7, 7, 7, 6, 5, 5, 5, 4, 4, 4, 2, 2, 2, 2, 1, 1, 1, 0, 0, 0, 0, 0, 0, 0, 0, -1, 12, 12, 12, 11, 11, 10, 10, 9, 9, 9, 9, 8, 8, 8, 8, 8, 7, 7, 7, 7, 7, 6, 6, 5, 4, 4, 4, 2, 2, 2, 2, 2, 2, 1, 0, 0, 0, 0, 0, 0, 0, 12, 12, 12, 12, 11, 10, 10, 10, 10, 9, 9, 9, 9, 8, 8, 8, 8, 8, 7, 7, 7, 6, 6, 6, 5, 4, 4, 4, 3, 3, 3, 2, 2, 2, 1, 1, 0, 0, 0, 0, 0, 0, -1, 12, 12, 12, 12, 10, 10, 9, 9, 9, 9, 8, 8, 8, 8, 7, 7, 7, 7, 7, 7, 7, 7, 6, 5, 5, 5, 5, 4, 4, 4, 3, 3, 2, 2, 2, 2, 1, 1, 1, 0, 0, 0, 0, 0, 0, 12, 12, 12, 12, 11, 10, 10, 9, 9, 9, 9, 8, 8, 7, 7, 7, 7, 5, 5, 5, 5, 4, 4, 4, 3, 3, 2, 2, 2, 2, 2, 1, 0, 0, 0, 0, 0, 0, -1, -1, 12, 12, 12, 11, 10, 10, 10, 10, 10, 9, 9, 9, 9, 9, 8, 8, 8, 8, 7, 7, 7, 7, 7, 6, 6, 5, 4, 4, 4, 3, 3, 3, 2, 2, 2, 2, 2, 1, 1, 1, 1, 0, 0, 0, 0, 0, 0, -1, 12, 12, 12, 11, 10, 10, 10, 9, 9, 9, 9, 9, 9, 9, 8, 8, 8, 8, 7, 7, 7, 7, 6, 5, 5, 4, 3, 3, 2, 2, 2, 2, 2, 2, 2, 1, 1, 0, 0, 0, 0, 0, 0, 0, 0, -1, -1, -1, 12, 12, 11, 10, 10, 10, 9, 9, 9, 9, 8, 8, 7, 7, 7, 7, 6, 5, 5, 5, 4, 4, 3, 2, 2, 2, 1, 1, 1, 1, 0, 0, 0, 0, 0, 0, 0, 12, 12, 12, 11, 10, 10, 9, 9, 9, 9, 8, 8, 7, 7, 7, 6, 5, 5, 5, 4, 3, 3, 2, 2, 1, 1, 0, 0, 0, 0, -1, 12, 12, 12, 12, 10, 10, 9, 9, 9, 9, 9, 9, 8, 8, 8, 7, 7, 7, 7, 7, 7, 6, 5, 4, 3, 3, 3, 2, 2, 1, 1, 0, 0, -1, 12, 12, 12, 11, 10, 10, 9, 9, 9, 9, 8, 8, 8, 7, 7, 7, 7, 7, 7, 7, 5, 5, 5, 4, 4, 4, 2, 2, 2, 2, 1, 1, 0, 0, 0, 0, 0, 0, 0, -1, -1, 12, 12, 11, 11, 10, 10, 9, 9, 9, 9, 9, 9, 8, 8, 7, 7, 6, 6, 4, 4, 3, 3, 2, 2, 2, 2, 1, 1, 1, 0, 0, 0, -1, 12, 12, 12, 12, 11, 10, 10, 9, 9, 9, 9, 9, 8, 8, 8, 8, 8, 8, 7, 7, 7, 7, 7, 7, 5, 5, 4, 4, 3, 3, 1, 1, 1, 1, 1, 0, 0, 0, 0, 0, 0, 0, -1, -1, -1, 12, 12, 12, 11, 10, 10, 10, 9, 9, 9, 9, 8, 8, 8, 8, 8, 7, 7, 7, 7, 6, 5, 5, 4, 4, 3, 3, 3, 2, 2, 1, 1, 1, 0, 0, 0, 0, 0, 0, 0, 0, 0, -1, 12, 12, 12, 11, 10, 10, 9, 9, 9, 9, 8, 8, 8, 8, 7, 7, 7, 7, 7, 6, 5, 5, 5, 4, 4, 3, 2, 2, 2, 2, 2, 1, 1, 1, 0, 0, 0, 0, 0, 0, 0, 0, 12, 12, 12, 12, 12, 11, 10, 10, 10, 9, 9, 9, 9, 8, 8, 7, 7, 7, 7, 6, 5, 5, 4, 4, 3, 3, 2, 2, 1, 1, 0, 0, 0, 0, 0, 0, -1, 12, 12, 12, 12, 10, 10, 10, 10, 9, 9, 8, 8, 8, 8, 8, 7, 7, 7, 7, 6, 5, 3, 2, 2, 2, 2, 0, 0, -1, -1, 12, 12, 11, 10, 10, 10, 9, 9, 9, 8, 8, 8, 8, 7, 6, 5, 4, 4, 3, 2, 1, 0, 0, 0, 0, 0, -1, 12, 12, 11, 11, 11, 10, 9, 9, 9, 9, 9, 9, 9, 8, 8, 8, 7, 7, 7, 7, 7, 7, 6, 5, 5, 4, 4, 4, 2, 2, 2, 2, 1, 1, 1, 0, 0, 0, 0, 0, 0, 0, -1, 12, 12, 12, 12, 11, 10, 10, 10, 10, 10, 10, 9, 9, 9, 9, 9, 9, 8, 8, 8, 8, 7, 7, 7, 7, 6, 6, 5, 4, 4, 4, 4, 3, 2, 2, 2, 2, 1, 1, 0, 0, 0, 0, 0, 0, 0, 0, -1, 12, 12, 12, 11, 11, 10, 9, 9, 9, 9, 9, 8, 8, 8, 8, 7, 7, 7, 7, 7, 7, 6, 6, 5, 5, 5, 4, 3, 2, 2, 2, 2, 1, 1, 1, 0, 0, 0, 0, 0, 12, 12, 12, 12, 12, 11, 10, 10, 10, 10, 10, 9, 9, 9, 9, 9, 9, 9, 8, 8, 8, 8, 8, 8, 7, 7, 7, 7, 6, 6, 5, 5, 4, 4, 4, 3, 2, 2, 2, 1, 1, 1, 0, 0, 0, 0, 0, 0, -1, 12, 12, 12, 12, 11, 10, 10, 10, 10, 9, 9, 9, 9, 8, 8, 8, 7, 7, 7, 7, 7, 7, 6, 5, 4, 3, 3, 2, 2, 2, 2, 1, 1, 0, 0, 0, 0, 0, 0, 0, 12, 12, 12, 11, 10, 10, 10, 9, 9, 9, 9, 9, 8, 8, 8, 7, 7, 6, 5, 5, 4, 4, 4, 4, 3, 2, 2, 2, 1, 1, 0, 0, 0, -1, -1, -1, 12, 12, 12, 11, 11, 10, 10, 9, 9, 9, 9, 9, 8, 8, 8, 8, 8, 8, 7, 7, 7, 7, 7, 7, 6, 6, 5, 4, 4, 3, 3, 2, 2, 1, 1, 1, 1, 0, 0, 0, 0, 0, 0, -1, -1, 12, 12, 12, 11, 10, 10, 10, 9, 9, 9, 8, 8, 8, 8, 7, 7, 7, 7, 7, 6, 5, 4, 4, 4, 4, 3, 2, 2, 2, 0, 0, 0, -1, 12, 12, 12, 11, 10, 10, 10, 9, 9, 9, 9, 9, 9, 9, 8, 7, 7, 7, 7, 6, 6, 5, 4, 4, 4, 2, 2, 1, 1, 1, 1, 0, 0, 0, 0, 0, 0, 12, 12, 12, 11, 11, 10, 10, 10, 9, 9, 9, 9, 8, 8, 8, 8, 8, 7, 7, 7, 7, 6, 5, 5, 4, 4, 3, 3, 2, 2, 2, 1, 1, 0, 0, 0, 0, -1, 12, 12, 12, 12, 11, 10, 9, 9, 9, 9, 9, 9, 9, 9, 8, 8, 8, 8, 7, 7, 7, 7, 7, 7, 6, 5, 5, 5, 4, 4, 4, 2, 2, 1, 1, 0, 0, 0, 0, 0, 0, 0, 0, -1, 12, 12, 12, 12, 10, 10, 10, 10, 9, 9, 9, 8, 8, 7, 7, 7, 7, 7, 7, 6, 6, 5, 4, 4, 3, 3, 2, 2, 1, 0, 0, 0, 0, 0, -1, 12, 12, 12, 12, 11, 10, 10, 10, 9, 9, 9, 9, 9, 9, 8, 8, 8, 8, 7, 7, 7, 7, 6, 5, 5, 5, 4, 4, 4, 4, 4, 3, 2, 2, 2, 1, 0, 0, 0, 0, 0, 0, 0, 0, 0, -1, -1, 12, 12, 12, 11, 10, 10, 9, 9, 9, 9, 9, 9, 9, 8, 8, 8, 8, 7, 7, 7, 7, 7, 7, 5, 4, 4, 3, 3, 2, 2, 2, 2, 2, 1, 1, 1, 1, 0, 0, 0, 0, 0, 0, 0, -1, -1, 12, 12, 12, 12, 10, 10, 9, 9, 9, 9, 9, 9, 9, 8, 8, 8, 8, 7, 7, 7, 7, 7, 6, 6, 5, 5, 4, 4, 3, 3, 3, 2, 2, 2, 2, 1, 1, 1, 0, 0, 0, 0, 0, 0, 0, 0, 12, 12, 12, 11, 10, 10, 10, 9, 9, 9, 9, 8, 8, 8, 8, 7, 7, 7, 7, 7, 7, 6, 5, 5, 5, 5, 4, 4, 4, 3, 3, 2, 2, 2, 2, 1, 1, 1, 0, 0, 0, 0, 0, -1, 12, 12, 12, 11, 10, 10, 10, 9, 9, 9, 9, 9, 8, 8, 8, 8, 8, 8, 7, 7, 7, 7, 7, 7, 7, 5, 5, 5, 4, 4, 3, 2, 2, 2, 2, 1, 1, 0, 0, 0, 0, 0, 0, 0, 0, -1, -1, 12, 12, 11, 10, 10, 9, 9, 9, 9, 9, 9, 8, 8, 8, 7, 7, 7, 7, 7, 6, 6, 5, 4, 4, 4, 4, 3, 2, 2, 2, 2, 1, 1, 1, 0, 0, 0, -1, -1, 12, 12, 12, 11, 11, 10, 10, 9, 9, 9, 9, 8, 8, 8, 8, 7, 7, 7, 7, 7, 7, 6, 5, 5, 5, 4, 4, 4, 4, 3, 2, 2, 2, 0, 0, 0, 0, 0, 0, 0, 0, -1, 12, 12, 12, 10, 10, 9, 9, 9, 9, 9, 9, 8, 8, 8, 8, 7, 7, 7, 6, 4, 4, 3, 3, 2, 0, 0, 0, -1, 12, 12, 11, 10, 10, 10, 9, 9, 9, 9, 9, 8, 8, 8, 8, 8, 7, 6, 5, 4, 4, 3, 3, 2, 2, 2, 0, 0, 0, 0, -1, -1, 12, 12, 11, 10, 10, 10, 9, 9, 9, 8, 8, 8, 8, 8, 7, 7, 7, 7, 6, 5, 4, 4, 4, 3, 2, 1, 1, 0, 0, 0, -1, -1, 12, 12, 11, 10, 10, 9, 9, 9, 9, 9, 8, 8, 8, 8, 7, 7, 7, 7, 6, 5, 4, 4, 4, 4, 2, 2, 2, 1, 1, 1, 0, 0, -1, -1, -1, 12, 12, 12, 12, 10, 10, 10, 9, 9, 9, 9, 9, 8, 8, 8, 7, 7, 7, 7, 6, 5, 4, 3, 3, 2, 2, 2, 2, 2, 2, 1, 0, 0, 0, 0, -1, 12, 12, 11, 10, 10, 9, 9, 9, 9, 8, 8, 7, 7, 7, 6, 5, 4, 4, 3, 2, 2, 2, 2, 1, 1, 1, 0, 0, 0, 0, 0, 0, 0, -1, -1, -1, 12, 11, 11, 10, 10, 10, 9, 9, 9, 9, 8, 8, 7, 7, 6, 6, 5, 3, 3, 3, 2, 1, 1, 1, 1, -1, 12, 11, 11, 11, 11, 11, 11, 11, 10, 10, 10, 10, 10, 9, 9, 9, 9, 9, 9, 9, 8, 8, 8, 8, 8, 8, 7, 7, 7, 7, 7, 7, 7, 6, 6, 5, 5, 5, 4, 3, 3, 3, 3, 3, 3, 2, 2, 2, 2, 2, 1, 1, 1, 1, 0, 0, -1, 12, 11, 11, 11, 11, 10, 10, 10, 9, 9, 9, 8, 8, 7, 7, 7, 7, 7, 6, 6, 6, 6, 6, 5, 5, 4, 4, 3, 3, 3, 3, 2, 1, 1, 1, 1, 0, 0, 0, -1, -1, 12, 12, 11, 11, 11, 11, 10, 10, 10, 9, 9, 9, 8, 8, 8, 7, 7, 7, 7, 7, 7, 6, 6, 6, 6, 5, 4, 3, 3, 3, 3, 2, 1, 1, 1, 1, 1, 0, 0, 0, 0, 0, -1, 12, 11, 11, 11, 10, 10, 10, 9, 9, 9, 9, 8, 7, 7, 7, 6, 6, 6, 5, 3, 2, 2, 0, 0, 12, 11, 11, 11, 10, 10, 9, 9, 9, 9, 8, 8, 8, 6, 6, 5, 5, 4, 2, 2, 2, 1, 1, 1, 0, 0, -1, 12, 11, 11, 11, 11, 10, 10, 10, 9, 9, 9, 8, 8, 7, 6, 6, 5, 5, 4, 3, 3, 3, 2, 2, 1, 1, 1, 1, 0, 12, 11, 11, 11, 11, 11, 9, 9, 8, 8, 8, 8, 8, 8, 7, 7, 6, 6, 6, 5, 3, 3, 3, 2, 2, 1, 1, 0, 0, 0, 12, 11, 10, 10, 10, 10, 10, 9, 9, 9, 8, 8, 8, 7, 7, 7, 7, 7, 7, 6, 6, 6, 6, 6, 6, 6, 6, 5, 3, 3, 2, 2, 1, 1, 1, 0, 0, 0, 0, -1, 12, 11, 11, 11, 11, 10, 10, 9, 8, 8, 8, 7, 7, 7, 7, 7, 7, 6, 6, 6, 5, 4, 4, 3, 3, 2, 2, 1, 1, 1, 0, 0, -1, 12, 11, 11, 10, 10, 9, 9, 9, 8, 8, 8, 8, 7, 7, 7, 6, 5, 3, 3, 2, 1, 1, 1, 0, 12, 11, 11, 11, 11, 11, 11, 10, 9, 9, 9, 9, 8, 7, 7, 7, 7, 7, 7, 7, 6, 6, 6, 6, 6, 5, 5, 3, 3, 2, 2, 2, 2, 1, 1, 1, 1, 1, 0, 0, 0, 0, 12, 11, 11, 11, 11, 11, 11, 10, 10, 9, 9, 8, 8, 8, 8, 7, 7, 7, 6, 6, 4, 3, 3, 3, 3, 2, 1, 1, 0, 0, -1, 12, 11, 11, 10, 9, 9, 9, 9, 8, 8, 8, 7, 7, 7, 7, 6, 6, 6, 5, 5, 3, 3, 1, 1, 1, 0, -1, 12, 11, 11, 11, 11, 10, 10, 9, 9, 9, 9, 8, 7, 7, 6, 5, 5, 5, 4, 3, 3, 3, 1, 1, 1, 1, 0, -1, 12, 11, 11, 11, 10, 9, 9, 9, 9, 8, 8, 8, 7, 7, 6, 6, 5, 5, 4, 4, 3, 3, 1, 1, 1, 0, 0, 0, 12, 11, 11, 11, 11, 10, 10, 9, 9, 9, 9, 8, 8, 7, 7, 6, 6, 6, 5, 5, 4, 3, 3, 3, 3, 3, 2, 1, 1, 1, 1, 1, 12, 11, 11, 11, 10, 9, 9, 9, 8, 8, 8, 8, 8, 7, 7, 7, 6, 6, 6, 5, 5, 5, 4, 3, 3, 3, 3, 3, 2, 1, 1, 1, 1, 1, 0, 0, 0, 0, -1, 12, 11, 11, 11, 10, 10, 10, 9, 9, 9, 8, 7, 7, 7, 6, 6, 6, 5, 4, 3, 3, 2, 1, 1, 1, 0, 0, -1, 12, 11, 11, 11, 10, 10, 9, 9, 8, 8, 8, 8, 8, 7, 7, 7, 7, 6, 6, 6, 6, 5, 4, 3, 3, 3, 2, 2, 2, 1, 1, 0, 0, -1, 12, 11, 11, 11, 9, 9, 9, 8, 8, 8, 8, 8, 7, 7, 7, 7, 6, 6, 6, 6, 6, 5, 5, 3, 2, 2, 2, 1, 1, 0, -1, 12, 11, 11, 11, 11, 11, 10, 9, 9, 9, 9, 7, 7, 7, 7, 7, 7, 7, 6, 6, 6, 6, 6, 5, 4, 3, 3, 3, 2, 2, 2, 1, 1, 1, 1, 0, 0, -1, 12, 11, 11, 11, 11, 11, 10, 10, 10, 9, 9, 9, 9, 8, 8, 7, 7, 7, 6, 6, 5, 3, 3, 2, 1, 0, 0, 0, 0, 12, 11, 11, 11, 10, 10, 10, 10, 9, 8, 8, 8, 7, 7, 7, 7, 7, 7, 7, 6, 6, 6, 6, 6, 6, 4, 4, 3, 3, 3, 2, 2, 2, 1, 1, 1, 1, 0, 0, -1, -1, 12, 11, 11, 11, 11, 11, 10, 9, 9, 9, 8, 8, 8, 8, 6, 5, 5, 4, 4, 3, 3, 3, 3, 2, 1, 1, 0, 0, 0, 0, 12, 11, 11, 11, 11, 11, 10, 10, 10, 10, 9, 9, 8, 8, 8, 7, 7, 6, 3, 3, 3, 3, 2, 2, 1, 1, 0, 0, 0, 12, 11, 11, 11, 11, 11, 11, 10, 9, 9, 8, 8, 7, 7, 6, 5, 5, 4, 4, 3, 3, 3, 2, 2, 1, 1, 0, 0, 0, 0, 0, 12, 11, 11, 11, 11, 11, 11, 10, 10, 10, 10, 9, 9, 9, 9, 9, 9, 8, 8, 8, 8, 8, 8, 7, 7, 7, 7, 7, 7, 7, 7, 6, 6, 6, 6, 5, 5, 5, 5, 4, 4, 3, 3, 3, 3, 2, 2, 2, 2, 2, 1, 1, 1, 1, 1, 0, 0, 0, -1, 12, 11, 11, 11, 10, 9, 9, 8, 8, 8, 8, 7, 7, 7, 6, 5, 3, 3, 3, 3, 3, 1, 1, 0, 0, 0, 0, 0, 12, 11, 11, 11, 10, 10, 9, 9, 9, 9, 8, 7, 7, 6, 6, 5, 4, 4, 3, 2, 2, 2, 0, 0, 0, -1, 12, 11, 10, 10, 9, 9, 9, 8, 8, 7, 7, 7, 7, 6, 6, 5, 5, 3, 3, 3, 3, 3, 3, 2, 1, 1, 1, 1, 0, 0, 12, 11, 11, 11, 10, 10, 10, 10, 9, 8, 8, 8, 8, 7, 7, 7, 6, 6, 5, 4, 3, 3, 3, 3, 3, 2, 1, 1, 1, 0, 0, 0, 12, 11, 11, 11, 11, 11, 10, 9, 9, 8, 8, 8, 7, 7, 7, 7, 7, 7, 6, 6, 6, 5, 4, 3, 3, 3, 3, 2, 2, 2, 2, 1, 1, 0, 0, 0, 0, 0, 0, -1, -1, 12, 11, 11, 11, 11, 11, 11, 10, 9, 9, 8, 8, 8, 7, 7, 6, 5, 3, 3, 3, 2, 1, 1, 1, 1, 0, 0, 0, -1, 12, 11, 11, 11, 10, 9, 9, 9, 9, 9, 9, 9, 8, 8, 7, 7, 7, 7, 7, 7, 7, 7, 7, 7, 6, 6, 6, 6, 5, 5, 5, 5, 4, 4, 3, 3, 3, 3, 2, 2, 2, 2, 1, 1, 1, 1, 1, 0, 0, 12, 11, 11, 10, 9, 9, 9, 9, 8, 8, 8, 7, 7, 7, 7, 6, 5, 5, 4, 3, 3, 3, 3, 3, 1, 1, 0, 0, -1, 12, 11, 11, 11, 11, 11, 11, 11, 10, 10, 10, 10, 10, 9, 9, 9, 8, 8, 7, 7, 7, 7, 7, 7, 6, 6, 6, 6, 6, 4, 4, 3, 3, 3, 3, 3, 3, 3, 2, 2, 2, 1, 1, 1, 1, 0, 0, -1, 12, 11, 11, 11, 11, 11, 9, 9, 9, 9, 9, 9, 8, 8, 8, 8, 7, 7, 7, 7, 7, 7, 7, 7, 6, 6, 6, 6, 6, 6, 5, 4, 3, 3, 3, 3, 3, 2, 2, 2, 2, 2, 2, 1, 1, 1, 1, 0, 0, 0, 0, -1, 12, 11, 11, 11, 10, 10, 10, 10, 10, 9, 9, 9, 9, 8, 8, 6, 6, 6, 5, 5, 4, 3, 3, 3, 2, 1, 1, 0, -1, 12, 11, 11, 11, 10, 10, 10, 9, 8, 8, 8, 7, 7, 7, 7, 6, 6, 5, 4, 3, 3, 3, 3, 2, 1, 1, 1, 0, -1, 12, 11, 11, 11, 11, 10, 10, 10, 9, 9, 9, 8, 8, 8, 8, 7, 7, 7, 7, 7, 7, 6, 6, 6, 6, 6, 6, 6, 5, 5, 5, 3, 3, 3, 3, 2, 2, 2, 1, 1, 0, 0, -1, -1, 12, 11, 11, 11, 9, 9, 9, 9, 8, 8, 8, 7, 7, 7, 7, 7, 7, 7, 6, 6, 5, 5, 3, 3, 3, 3, 2, 2, 2, 2, 1, 1, 1, 1, 0, 0, 0, 12, 11, 11, 11, 10, 9, 9, 9, 9, 8, 8, 8, 7, 7, 7, 7, 7, 7, 7, 6, 6, 6, 4, 3, 3, 3, 3, 3, 2, 2, 2, 1, 1, 1, 12, 11, 11, 11, 11, 9, 9, 9, 9, 9, 8, 8, 8, 8, 7, 7, 7, 7, 7, 7, 6, 6, 6, 5, 5, 5, 4, 4, 3, 3, 3, 3, 2, 2, 2, 1, 1, 1, 1, 0, 0, 0, 0, 0, -1, 12, 11, 11, 11, 11, 10, 9, 9, 9, 9, 9, 9, 9, 9, 8, 7, 7, 7, 7, 7, 7, 6, 6, 6, 5, 5, 5, 4, 4, 2, 2, 2, 1, 1, 1, 0, 0, 11, 11, 11, 11, 10, 10, 9, 9, 9, 9, 9, 8, 8, 7, 7, 6, 6, 6, 6, 4, 4, 3, 3, 3, 2, 2, 0, 0, 0, 11, 11, 11, 11, 11, 10, 10, 9, 9, 9, 9, 9, 9, 9, 8, 8, 8, 8, 8, 7, 7, 7, 7, 7, 7, 7, 7, 7, 6, 6, 6, 6, 5, 5, 5, 4, 4, 3, 3, 3, 3, 2, 2, 2, 2, 1, 1, 1, 1, 0, 0, 0, 0, 11, 11, 11, 10, 10, 9, 9, 9, 9, 8, 8, 8, 8, 7, 7, 7, 6, 6, 6, 6, 6, 6, 5, 4, 3, 3, 3, 3, 3, 2, 2, 1, 1, 1, 1, 0, 0, -1, 11, 11, 11, 11, 11, 10, 9, 9, 8, 8, 8, 8, 7, 7, 6, 5, 5, 4, 3, 3, 3, 3, 2, 1, 1, 0, 0, 0, 0, 0, 11, 11, 11, 11, 11, 11, 10, 10, 9, 9, 9, 9, 9, 9, 9, 8, 8, 8, 8, 8, 7, 7, 7, 7, 7, 7, 7, 6, 6, 6, 6, 5, 5, 4, 4, 4, 3, 3, 3, 2, 2, 2, 1, 1, 1, 0, 0, 0, -1, 11, 11, 10, 10, 10, 9, 9, 9, 8, 8, 7, 7, 7, 7, 7, 7, 7, 6, 6, 6, 6, 6, 6, 5, 5, 3, 3, 3, 3, 2, 2, 1, 1, 0, 0, 0, -1, 11, 11, 11, 11, 9, 9, 9, 9, 9, 9, 8, 8, 8, 8, 8, 7, 7, 7, 7, 7, 7, 6, 6, 6, 6, 5, 3, 3, 3, 2, 2, 2, 1, 1, 1, 1, 1, 1, 1, 1, 0, 0, 0, -1, 11, 11, 11, 11, 11, 10, 10, 10, 9, 8, 7, 7, 7, 7, 7, 6, 6, 5, 3, 3, 3, 2, 1, 1, 0, 0, 0, -1, 11, 11, 10, 9, 9, 8, 8, 8, 8, 8, 8, 7, 7, 7, 6, 6, 6, 5, 4, 3, 3, 2, 1, 1, 1, 0, 0, -1, 11, 11, 10, 10, 10, 9, 9, 9, 8, 8, 8, 7, 7, 7, 7, 6, 6, 6, 5, 3, 3, 3, 3, 3, 2, 2, 2, 1, 1, 0, 11, 11, 11, 11, 11, 11, 9, 9, 9, 9, 8, 8, 8, 7, 7, 7, 7, 7, 7, 7, 7, 6, 6, 6, 6, 5, 5, 3, 3, 3, 3, 2, 2, 2, 2, 1, 1, 1, 0, 0, 0, 0, -1, 11, 11, 11, 10, 10, 9, 9, 8, 8, 8, 8, 8, 7, 7, 7, 7, 7, 7, 6, 6, 4, 3, 3, 3, 3, 3, 2, 2, 1, 1, 1, 0, 11, 11, 11, 10, 10, 10, 9, 9, 9, 9, 9, 8, 8, 8, 7, 7, 7, 7, 7, 7, 6, 6, 6, 6, 5, 5, 4, 3, 3, 3, 3, 3, 2, 2, 2, 1, 1, 1, 1, 0, 0, 0, -1, 11, 11, 11, 11, 11, 9, 9, 9, 8, 8, 8, 8, 8, 7, 7, 7, 7, 7, 7, 7, 6, 6, 6, 6, 6, 6, 4, 4, 3, 3, 3, 3, 2, 2, 2, 2, 2, 1, 1, 1, 0, 0, 0, -1, 11, 11, 11, 11, 10, 10, 9, 9, 9, 9, 8, 8, 8, 8, 8, 7, 7, 7, 7, 6, 6, 6, 6, 5, 4, 4, 4, 4, 3, 3, 2, 2, 2, 2, 2, 1, 1, 1, 1, 1, 0, 0, 0, 0, -1, 11, 11, 11, 11, 10, 10, 10, 9, 9, 9, 8, 8, 7, 7, 6, 6, 5, 4, 4, 3, 3, 3, 3, 2, 1, 1, 1, 0, 0, 0, 11, 11, 10, 10, 9, 9, 8, 8, 8, 8, 7, 7, 6, 6, 6, 6, 5, 5, 3, 3, 3, 3, 3, 1, 1, 0, -1, 11, 11, 11, 11, 11, 10, 10, 10, 10, 10, 9, 9, 9, 9, 9, 9, 8, 8, 8, 8, 7, 7, 7, 7, 7, 7, 7, 7, 6, 6, 6, 6, 6, 6, 6, 5, 5, 4, 3, 3, 3, 2, 2, 2, 2, 1, 1, 1, 1, 0, 0, 0, -1, 11, 11, 11, 11, 11, 10, 10, 9, 9, 9, 8, 8, 7, 7, 7, 6, 6, 3, 3, 2, 1, 0, 0, 0, 0, 11, 11, 11, 10, 10, 10, 9, 9, 9, 8, 8, 8, 8, 7, 7, 7, 6, 6, 6, 4, 3, 3, 3, 1, 1, 1, 1, 0, 0, 0, 0, 11, 11, 11, 11, 10, 10, 10, 9, 9, 9, 9, 7, 7, 7, 7, 7, 7, 7, 7, 7, 6, 6, 6, 6, 5, 5, 5, 4, 3, 3, 3, 2, 2, 2, 1, 1, 0, 0, 0, -1, 11, 11, 11, 10, 10, 9, 9, 9, 9, 9, 8, 8, 7, 7, 7, 7, 7, 6, 6, 6, 5, 5, 5, 3, 2, 1, 0, 0, -1, 11, 11, 11, 10, 10, 10, 9, 9, 9, 8, 8, 8, 7, 7, 6, 6, 5, 5, 3, 3, 3, 3, 2, 1, 1, 1, 1, 1, 0, 0, 0, 11, 11, 11, 11, 11, 10, 10, 9, 9, 9, 9, 9, 8, 8, 8, 8, 8, 8, 7, 7, 7, 7, 7, 7, 6, 6, 6, 5, 5, 5, 4, 4, 3, 3, 3, 3, 3, 3, 3, 2, 2, 1, 1, 1, 1, 1, 0, 0, 0, 0, -1, 11, 11, 11, 11, 11, 11, 10, 10, 10, 9, 9, 9, 9, 9, 8, 8, 7, 7, 7, 7, 7, 7, 7, 7, 6, 6, 6, 6, 6, 6, 5, 5, 5, 4, 4, 3, 3, 3, 2, 2, 2, 2, 2, 1, 1, 1, 0, 0, 0, 0, 0, -1, 11, 11, 11, 11, 11, 9, 9, 9, 8, 8, 8, 8, 7, 7, 6, 6, 6, 5, 5, 4, 3, 3, 3, 3, 3, 3, 1, 1, 0, 0, 11, 11, 11, 11, 11, 10, 9, 9, 9, 9, 8, 7, 7, 7, 7, 7, 7, 7, 6, 6, 6, 6, 6, 5, 5, 5, 4, 4, 3, 3, 3, 2, 2, 2, 2, 2, 1, 1, 1, 0, 0, 0, -1, 11, 11, 11, 10, 10, 9, 9, 9, 9, 8, 8, 8, 8, 7, 7, 7, 7, 7, 7, 6, 6, 6, 5, 5, 4, 3, 3, 3, 2, 2, 2, 2, 2, 1, 1, 1, 0, 0, 0, -1, -1, 11, 11, 11, 11, 10, 10, 10, 9, 9, 9, 9, 9, 9, 9, 8, 8, 8, 8, 7, 7, 7, 7, 7, 6, 6, 6, 4, 4, 4, 3, 3, 3, 2, 2, 2, 2, 1, 1, 1, 1, 1, 0, 0, 0, -1, 11, 11, 10, 9, 9, 8, 8, 8, 8, 7, 7, 7, 7, 6, 6, 6, 6, 6, 4, 3, 3, 3, 2, 1, 1, 0, 0, -1, -1, 11, 11, 11, 11, 11, 11, 10, 10, 10, 10, 9, 9, 9, 9, 8, 8, 8, 7, 7, 7, 7, 7, 7, 7, 6, 6, 6, 6, 5, 3, 3, 3, 3, 2, 2, 2, 1, 1, 1, 0, 0, -1, -1, 11, 11, 11, 11, 10, 9, 9, 9, 8, 8, 7, 7, 7, 7, 7, 7, 7, 6, 6, 6, 6, 6, 5, 5, 3, 3, 3, 3, 2, 2, 2, 1, 1, 1, 1, 0, 0, 0, 0, -1, -1, 11, 11, 11, 10, 9, 9, 8, 8, 8, 8, 8, 7, 7, 6, 6, 6, 5, 4, 3, 3, 3, 3, 1, 1, 0, 0, 0, 0, 11, 11, 9, 9, 9, 9, 8, 8, 8, 8, 8, 8, 7, 7, 6, 6, 5, 4, 3, 3, 3, 3, 1, 1, 0, 0, -1, 11, 11, 11, 11, 11, 9, 9, 9, 9, 8, 8, 8, 8, 8, 7, 6, 6, 5, 4, 3, 3, 2, 1, 1, 0, 0, -1, 11, 11, 11, 11, 11, 10, 10, 10, 10, 9, 9, 9, 8, 8, 8, 8, 7, 7, 7, 6, 5, 4, 3, 3, 3, 2, 1, 1, 1, 0, 0, 0, 0, 11, 11, 11, 10, 10, 10, 9, 9, 9, 8, 8, 7, 7, 7, 6, 6, 6, 5, 5, 5, 3, 2, 2, 2, 1, 1, -1, -1, 11, 11, 11, 11, 10, 9, 9, 9, 9, 9, 9, 8, 8, 8, 8, 8, 8, 7, 7, 7, 7, 7, 6, 6, 6, 6, 6, 6, 4, 3, 3, 3, 3, 3, 2, 2, 2, 2, 2, 1, 1, 1, 1, 1, 0, 0, -1, 11, 11, 11, 10, 10, 10, 9, 9, 9, 9, 8, 8, 8, 7, 7, 7, 7, 7, 6, 6, 6, 6, 5, 5, 3, 3, 3, 3, 3, 2, 2, 2, 2, 1, 1, 1, 1, -1, 11, 11, 11, 11, 10, 10, 10, 9, 9, 9, 9, 8, 7, 7, 7, 6, 5, 3, 3, 3, 2, 1, 1, 0, 0, -1, 11, 11, 11, 11, 11, 11, 10, 9, 9, 9, 9, 9, 9, 9, 9, 9, 8, 8, 7, 6, 6, 5, 3, 3, 3, 3, 1, 1, 1, 0, 0, 11, 11, 11, 11, 11, 10, 9, 9, 9, 9, 8, 7, 7, 7, 7, 7, 7, 7, 6, 6, 6, 6, 5, 5, 4, 3, 3, 3, 3, 2, 2, 2, 2, 1, 1, 1, 1, 0, 0, 0, -1, -1, 11, 11, 11, 11, 10, 10, 9, 9, 9, 9, 9, 9, 8, 8, 7, 7, 6, 5, 5, 4, 3, 3, 3, 3, 2, 2, 1, 1, -1, 11, 11, 11, 10, 9, 9, 9, 9, 8, 8, 8, 8, 7, 7, 7, 7, 7, 6, 6, 6, 6, 5, 4, 4, 3, 3, 3, 3, 3, 2, 2, 2, 1, 1, 0, 0, 0, 0, 0, -1, -1, 11, 11, 11, 11, 11, 11, 10, 9, 9, 8, 8, 7, 7, 7, 7, 7, 7, 6, 6, 6, 5, 5, 3, 3, 3, 3, 3, 2, 2, 2, 1, 1, 1, 0, 0, 0, 0, -1, 11, 11, 11, 11, 11, 11, 10, 10, 9, 9, 8, 7, 7, 7, 7, 7, 7, 6, 6, 5, 5, 3, 3, 3, 2, 2, 2, 1, 1, 1, 0, 0, 0, 0, -1, 11, 11, 11, 11, 11, 11, 9, 9, 9, 9, 8, 8, 7, 7, 7, 7, 7, 6, 6, 6, 5, 3, 3, 3, 3, 3, 2, 2, 1, 1, 1, 1, 0, 11, 11, 10, 9, 9, 9, 9, 8, 8, 8, 8, 7, 7, 6, 6, 5, 5, 3, 3, 1, 1, 1, 1, 1, 0, 0, -1, 11, 11, 11, 11, 11, 9, 9, 9, 9, 8, 8, 8, 8, 8, 7, 7, 6, 6, 5, 5, 4, 3, 3, 3, 1, 1, 1, 0, 0, 11, 11, 11, 11, 11, 10, 9, 9, 8, 7, 7, 7, 6, 6, 6, 5, 5, 3, 3, 2, 2, 1, 0, 0, 0, 0, -1, 11, 11, 11, 10, 10, 9, 9, 8, 8, 8, 8, 8, 7, 7, 7, 7, 6, 6, 3, 3, 1, 1, 1, 0, 0, -1, 11, 11, 11, 10, 10, 9, 8, 8, 8, 8, 8, 7, 6, 5, 4, 4, 3, 3, 3, 2, 1, 1, 1, 1, 0, 0, -1, 11, 11, 11, 11, 10, 9, 9, 9, 8, 8, 8, 7, 7, 6, 6, 5, 5, 3, 3, 3, 3, 2, 1, 1, 1, 0, 0, -1, 11, 11, 11, 10, 9, 9, 9, 8, 8, 8, 7, 7, 6, 6, 5, 5, 3, 3, 3, 2, 1, 1, 1, 1, 0, 0, -1, 11, 11, 11, 10, 10, 9, 9, 9, 9, 8, 8, 8, 8, 8, 7, 7, 6, 6, 3, 3, 3, 3, 2, 2, 1, 1, 1, 1, 0, 11, 11, 11, 10, 10, 10, 9, 9, 9, 8, 8, 8, 7, 6, 6, 5, 5, 5, 4, 4, 3, 3, 3, 1, 1, 1, 0, 0, -1, 11, 11, 11, 10, 10, 9, 9, 9, 9, 8, 8, 8, 7, 7, 7, 6, 6, 5, 5, 3, 3, 2, 1, 0, 0, 12, 12, 12, 12, 12, 12, 11, 11, 11, 10, 10, 9, 9, 9, 9, 9, 9, 8, 8, 8, 8, 8, 7, 7, 7, 7, 6, 6, 5, 5, 5, 5, 4, 4, 3, 3, 3, 3, 2, 2, 2, 1, 1, 1, 1, 1, 1, 1, 1, 1, 0, 0, 0, 0, 0, 0, 0, 12, 12, 12, 12, 11, 11, 11, 10, 10, 9, 9, 9, 9, 9, 8, 8, 8, 8, 7, 7, 7, 6, 6, 5, 5, 5, 4, 3, 3, 2, 2, 2, 1, 1, 1, 0, 0, 0, 0, 0, 0, 12, 12, 12, 12, 12, 10, 10, 9, 9, 9, 9, 9, 8, 8, 8, 8, 7, 6, 6, 5, 5, 5, 5, 3, 3, 1, 1, 1, 1, 1, 1, 0, 0, 0, 12, 12, 12, 12, 10, 10, 9, 9, 9, 8, 7, 7, 6, 6, 6, 5, 4, 3, 2, 2, 2, 1, 1, 1, 1, 1, 1, 1, 0, 0, 0, 12, 12, 12, 12, 12, 11, 11, 10, 10, 10, 9, 9, 9, 8, 8, 8, 8, 8, 7, 6, 6, 6, 6, 6, 5, 5, 5, 5, 4, 4, 4, 3, 3, 3, 3, 2, 2, 2, 2, 2, 1, 1, 1, 1, 1, 1, 1, 0, 0, 0, 0, 0, 0, 12, 12, 12, 12, 12, 11, 11, 10, 10, 9, 9, 9, 9, 8, 8, 8, 8, 8, 8, 8, 7, 7, 7, 6, 6, 6, 5, 4, 4, 3, 3, 3, 3, 2, 2, 2, 1, 1, 1, 1, 1, 1, 1, 0, 0, 0, 0, 12, 12, 12, 11, 11, 11, 10, 9, 9, 9, 9, 9, 8, 8, 8, 8, 7, 7, 7, 6, 6, 6, 5, 5, 5, 3, 2, 2, 2, 2, 1, 1, 1, 1, 1, 0, 0, 0, 0, 0, 0, 12, 12, 12, 12, 11, 10, 10, 9, 9, 9, 8, 8, 7, 7, 7, 6, 6, 5, 4, 3, 2, 1, 1, 1, 1, 0, 0, 0, 12, 12, 12, 12, 11, 11, 11, 11, 10, 9, 9, 9, 9, 8, 8, 8, 8, 8, 8, 7, 7, 7, 7, 6, 6, 6, 6, 5, 5, 5, 4, 4, 3, 3, 3, 3, 3, 2, 2, 2, 1, 1, 1, 1, 0, 0, 0, 0, 0, 0, 12, 12, 12, 12, 11, 10, 10, 10, 9, 9, 9, 9, 8, 8, 7, 6, 4, 3, 3, 2, 2, 1, 1, 1, 1, 0, 0, 0, 0, 12, 12, 12, 10, 9, 9, 9, 8, 8, 7, 7, 6, 6, 6, 4, 3, 2, 1, 1, 1, 1, 1, 1, 0, 0, 0, 12, 12, 12, 12, 12, 11, 11, 10, 10, 9, 9, 9, 9, 9, 8, 8, 7, 7, 6, 6, 6, 6, 5, 5, 4, 3, 3, 3, 2, 2, 2, 2, 2, 1, 1, 1, 1, 1, 1, 0, 0, 0, 0, 0, 0, 12, 12, 12, 11, 11, 11, 9, 9, 9, 9, 9, 9, 8, 8, 8, 8, 7, 7, 7, 7, 6, 6, 6, 6, 6, 5, 5, 5, 4, 3, 3, 3, 2, 2, 2, 2, 1, 1, 1, 1, 1, 1, 0, 0, 0, 0, 0, 12, 12, 11, 10, 9, 9, 9, 9, 8, 8, 7, 6, 5, 3, 3, 3, 2, 2, 2, 1, 1, 1, 1, 1, 1, 1, 0, 0, 12, 12, 10, 9, 9, 9, 8, 8, 7, 7, 6, 6, 6, 5, 5, 3, 2, 2, 1, 1, 1, 1, 1, 0, 0, 12, 12, 12, 12, 12, 11, 11, 11, 10, 10, 9, 9, 9, 9, 9, 8, 8, 8, 8, 8, 8, 8, 7, 7, 7, 7, 7, 6, 6, 6, 5, 5, 4, 3, 3, 3, 2, 2, 2, 1, 1, 1, 1, 1, 0, 0, 0, 0, 0, 12, 12, 12, 12, 11, 11, 10, 9, 9, 9, 8, 8, 8, 8, 8, 7, 7, 7, 7, 6, 6, 5, 5, 4, 4, 3, 3, 3, 2, 1, 1, 1, 1, 1, 0, 0, 0, 0, 12, 12, 12, 11, 11, 10, 9, 9, 9, 8, 8, 8, 8, 8, 7, 7, 7, 6, 6, 6, 5, 5, 5, 4, 4, 3, 3, 3, 2, 2, 2, 1, 1, 1, 1, 1, 0, 0, 0, 0, 12, 12, 12, 11, 10, 10, 9, 9, 9, 9, 8, 8, 8, 7, 7, 6, 5, 3, 2, 2, 2, 1, 1, 0, 0, 0, 0, 0, 12, 12, 12, 10, 10, 9, 9, 8, 8, 8, 8, 8, 8, 7, 7, 7, 6, 6, 6, 5, 5, 3, 2, 2, 1, 1, 1, 1, 1, 1, 0, 0, 0, 0, 12, 12, 12, 10, 10, 9, 9, 9, 9, 8, 8, 7, 6, 6, 6, 6, 5, 5, 3, 2, 2, 2, 2, 1, 1, 1, 0, 0, 0, 0, 12, 12, 12, 12, 11, 11, 11, 9, 9, 8, 8, 8, 8, 8, 7, 7, 6, 6, 6, 5, 5, 5, 5, 4, 3, 3, 3, 3, 3, 3, 2, 2, 2, 2, 1, 1, 1, 1, 1, 1, 1, 1, 0, 0, 0, 0, 0, 0, 0, 12, 12, 12, 10, 10, 9, 9, 9, 8, 8, 6, 5, 5, 4, 3, 3, 2, 1, 1, 1, 1, 1, 1, 0, 0, 0, 0, 12, 12, 12, 12, 12, 11, 10, 10, 10, 9, 9, 9, 9, 8, 8, 8, 7, 5, 5, 5, 3, 3, 2, 2, 2, 2, 1, 1, 1, 1, 0, 0, 0, 0, 0, 0, 12, 12, 12, 9, 9, 9, 9, 8, 8, 6, 5, 5, 5, 4, 3, 3, 3, 2, 2, 2, 1, 1, 1, 1, 1, 1, 1, 0, 0, 0, 0, 12, 12, 11, 11, 9, 9, 8, 8, 8, 8, 7, 7, 6, 6, 4, 3, 3, 2, 2, 2, 2, 1, 1, 1, 1, 0, 0, 0, 0, 0, 12, 12, 12, 12, 11, 11, 11, 10, 10, 10, 9, 9, 9, 9, 9, 8, 8, 8, 7, 7, 7, 6, 6, 6, 6, 5, 5, 5, 5, 5, 4, 4, 3, 3, 3, 3, 3, 2, 2, 2, 2, 1, 1, 1, 1, 1, 1, 1, 1, 0, 0, 0, 0, 0, 0, 0, 0, 0, 12, 12, 11, 11, 11, 10, 9, 9, 9, 8, 7, 7, 7, 6, 6, 3, 2, 2, 2, 1, 1, 1, 1, 1, 1, 1, 0, 0, 0, 0, 0, 0, 12, 12, 12, 12, 10, 10, 9, 9, 9, 9, 8, 7, 6, 6, 3, 3, 3, 2, 1, 1, 1, 0, 0, 0, 0, 12, 12, 12, 10, 9, 9, 9, 8, 8, 8, 6, 6, 6, 6, 6, 5, 5, 3, 3, 3, 3, 3, 2, 2, 1, 1, 0, 0, 0, 12, 12, 12, 11, 11, 11, 11, 10, 9, 9, 9, 9, 9, 9, 8, 8, 8, 8, 8, 8, 8, 8, 7, 7, 7, 7, 6, 6, 6, 6, 5, 5, 5, 4, 4, 4, 3, 3, 3, 2, 2, 2, 2, 2, 2, 1, 1, 1, 1, 1, 1, 0, 0, 0, 0, 12, 11, 10, 10, 9, 9, 9, 8, 8, 8, 7, 7, 7, 6, 5, 3, 2, 2, 2, 1, 1, 1, 1, 1, 0, 0, 0, 0, 0, 0, 0, 12, 12, 12, 12, 11, 11, 11, 9, 9, 8, 8, 8, 8, 8, 8, 7, 7, 7, 6, 6, 5, 5, 5, 4, 3, 3, 2, 2, 1, 1, 1, 1, 0, 0, 0, 0, 0, 0, 0, 0, 12, 12, 12, 12, 11, 11, 11, 11, 10, 10, 9, 9, 9, 9, 9, 8, 8, 7, 7, 7, 6, 6, 5, 4, 4, 3, 3, 3, 3, 3, 3, 2, 2, 1, 1, 1, 0, 0, 0, 0, 0, 0, 0, 0, 12, 12, 11, 10, 9, 9, 9, 9, 8, 8, 8, 7, 6, 6, 5, 5, 4, 3, 3, 2, 2, 2, 2, 1, 1, 1, 0, 0, 0, 12, 12, 11, 10, 10, 10, 10, 9, 9, 9, 9, 9, 8, 8, 6, 5, 4, 2, 1, 1, 1, 1, 0, 0, 12, 12, 12, 12, 12, 12, 11, 11, 10, 9, 9, 8, 8, 8, 8, 7, 7, 7, 7, 6, 6, 6, 5, 5, 5, 5, 5, 4, 4, 3, 3, 3, 3, 2, 2, 1, 1, 1, 1, 1, 1, 1, 1, 0, 0, 0, 0, 0, 0, 12, 12, 12, 12, 12, 11, 11, 9, 9, 9, 9, 8, 8, 8, 8, 8, 7, 7, 7, 7, 7, 6, 6, 6, 6, 5, 5, 5, 5, 4, 3, 3, 3, 3, 3, 2, 1, 1, 1, 1, 1, 0, 0, 0, 0, 0, 0, 12, 12, 11, 10, 9, 9, 8, 8, 7, 7, 5, 5, 5, 4, 3, 3, 3, 2, 1, 1, 1, 1, 0, 0, 12, 12, 12, 10, 10, 10, 9, 9, 8, 8, 8, 7, 6, 5, 5, 5, 4, 3, 2, 2, 2, 1, 1, 1, 0, 0, 0, 12, 12, 11, 11, 11, 11, 11, 10, 9, 9, 9, 9, 9, 9, 8, 8, 8, 8, 7, 7, 6, 6, 6, 5, 5, 4, 4, 3, 3, 3, 3, 3, 2, 2, 2, 2, 2, 1, 1, 1, 1, 1, 1, 0, 0, 0, 0, 0, 0, 0, 0, 12, 12, 12, 12, 11, 11, 11, 9, 9, 9, 9, 9, 8, 8, 8, 8, 8, 8, 7, 7, 6, 6, 5, 5, 5, 5, 4, 3, 3, 3, 2, 2, 2, 2, 2, 1, 1, 1, 1, 1, 0, 0, 0, 0, 0, 0, 12, 12, 12, 12, 12, 11, 11, 10, 9, 9, 9, 8, 8, 8, 8, 8, 7, 7, 7, 7, 7, 6, 6, 5, 5, 5, 4, 3, 3, 3, 3, 1, 1, 1, 1, 1, 0, 0, 0, 0, 0, 0, 12, 12, 12, 10, 10, 9, 9, 9, 9, 8, 8, 8, 8, 8, 7, 7, 5, 5, 5, 3, 3, 2, 2, 2, 1, 1, 1, 0, 0, 0, 0, 0, 12, 12, 12, 12, 11, 11, 11, 10, 10, 10, 9, 9, 9, 9, 8, 8, 8, 8, 7, 7, 6, 6, 6, 5, 5, 5, 4, 4, 3, 3, 3, 3, 2, 2, 2, 2, 1, 1, 1, 0, 0, 0, 0, 0, 0, 12, 12, 12, 12, 11, 11, 10, 10, 9, 9, 9, 9, 8, 8, 8, 7, 6, 6, 5, 3, 2, 2, 2, 1, 1, 1, 0, 0, 0, 0, 0, 12, 12, 12, 12, 12, 12, 11, 11, 10, 10, 9, 9, 9, 9, 8, 8, 8, 8, 8, 7, 7, 7, 7, 7, 6, 6, 5, 5, 4, 4, 4, 3, 3, 3, 3, 2, 2, 1, 1, 1, 1, 1, 0, 0, 0, 0, 0, 0, 0, 0, 0, 12, 12, 12, 12, 12, 12, 11, 11, 10, 10, 10, 10, 9, 9, 9, 9, 8, 8, 8, 8, 7, 6, 6, 5, 5, 5, 5, 4, 4, 3, 3, 2, 2, 1, 1, 1, 1, 1, 0, 0, 0, 12, 12, 12, 11, 11, 9, 9, 9, 9, 9, 9, 8, 8, 8, 8, 7, 7, 7, 7, 6, 6, 5, 5, 5, 5, 4, 4, 3, 3, 3, 3, 3, 2, 2, 2, 1, 1, 1, 1, 0, 0, 0, 0, 0, 0, 0, 12, 12, 12, 9, 9, 9, 8, 8, 7, 7, 6, 6, 5, 5, 5, 5, 3, 3, 2, 1, 1, 1, 1, 1, 0, 0, 0, 12, 12, 12, 11, 11, 10, 9, 9, 9, 9, 8, 8, 8, 8, 8, 7, 7, 7, 7, 5, 4, 4, 3, 3, 3, 3, 2, 2, 2, 1, 1, 1, 1, 0, 0, 0, 0, 0, 0, 12, 11, 11, 11, 11, 11, 11, 10, 10, 9, 9, 9, 9, 8, 8, 8, 8, 8, 8, 7, 7, 6, 6, 6, 5, 5, 5, 5, 4, 4, 3, 3, 3, 3, 3, 2, 1, 1, 1, 1, 1, 0, 0, 0, 0, 0, 0, 12, 12, 11, 11, 11, 10, 10, 9, 9, 9, 8, 8, 8, 8, 8, 7, 7, 7, 6, 5, 5, 4, 3, 3, 3, 2, 2, 2, 2, 2, 1, 1, 1, 1, 1, 0, 0, 0, 0, 0, 0, 0, 12, 12, 12, 12, 12, 10, 10, 10, 9, 9, 9, 9, 8, 6, 6, 5, 5, 3, 3, 2, 2, 2, 2, 1, 1, 1, 1, 1, 0, 0, 12, 12, 12, 11, 11, 10, 10, 9, 9, 9, 8, 8, 8, 8, 6, 5, 5, 5, 5, 4, 3, 3, 3, 2, 2, 2, 1, 1, 0, 0, 12, 12, 12, 11, 11, 11, 10, 9, 9, 9, 9, 9, 9, 8, 8, 8, 8, 7, 7, 7, 6, 6, 5, 5, 4, 3, 3, 3, 2, 1, 1, 1, 1, 1, 1, 0, 0, 0, 0, 0, 0, 0, 12, 12, 11, 11, 11, 10, 10, 9, 9, 9, 9, 8, 8, 8, 8, 8, 8, 8, 7, 7, 7, 7, 6, 6, 6, 6, 5, 5, 5, 4, 3, 3, 2, 2, 2, 2, 2, 1, 1, 1, 1, 0, 0, 0, 0, 0, 12, 12, 11, 10, 9, 9, 9, 9, 8, 8, 8, 8, 7, 7, 5, 5, 4, 3, 3, 2, 1, 1, 1, 1, 0, 0, 0, 0, 0, 12, 12, 11, 10, 10, 9, 9, 9, 9, 8, 8, 8, 7, 6, 5, 5, 5, 5, 3, 2, 2, 2, 2, 2, 2, 1, 1, 1, 1, 1, 0, 0, 0, 0, 0, 12, 11, 11, 10, 10, 9, 9, 8, 8, 7, 7, 7, 6, 6, 5, 5, 4, 3, 3, 3, 2, 1, 1, 1, 1, 0, 0, 0, 12, 12, 12, 12, 11, 9, 9, 9, 9, 8, 8, 8, 7, 7, 7, 6, 5, 5, 3, 3, 3, 2, 2, 2, 1, 1, 1, 12, 12, 11, 11, 11, 11, 11, 10, 10, 9, 9, 9, 9, 8, 8, 8, 8, 8, 7, 7, 7, 7, 6, 6, 6, 6, 5, 5, 4, 3, 3, 3, 2, 2, 2, 1, 1, 1, 1, 0, 0, 0, 0, 0, 0, 12, 12, 11, 11, 10, 9, 9, 9, 9, 7, 6, 6, 4, 3, 3, 2, 2, 2, 1, 1, 1, 0, 0, 0, 12, 12, 11, 11, 11, 10, 9, 9, 9, 9, 9, 8, 8, 8, 8, 8, 8, 7, 7, 7, 6, 6, 5, 5, 4, 3, 3, 3, 2, 2, 2, 1, 1, 1, 1, 1, 1, 0, 0, 0, 0, 0, 0, 0, 12, 11, 11, 9, 9, 9, 8, 8, 7, 6, 6, 6, 6, 5, 3, 3, 2, 2, 2, 2, 2, 1, 1, 1, 1, 0, 0, 0, 12, 12, 11, 11, 10, 10, 9, 9, 9, 8, 8, 8, 8, 8, 7, 6, 4, 3, 3, 2, 2, 2, 2, 1, 1, 1, 1, 0, 0, 0, 0, 0, 12, 12, 12, 11, 10, 9, 9, 9, 8, 8, 8, 8, 8, 7, 6, 5, 4, 4, 2, 2, 1, 1, 1, 1, 1, 1, 0, 0, 0, 12, 12, 11, 11, 11, 11, 11, 10, 10, 9, 9, 9, 9, 8, 8, 8, 8, 7, 7, 7, 7, 6, 6, 5, 4, 4, 4, 3, 3, 3, 3, 2, 2, 1, 1, 1, 1, 1, 1, 1, 1, 0, 0, 0, 0, 0, 0, 12, 12, 12, 11, 11, 11, 10, 9, 9, 9, 8, 8, 8, 8, 7, 7, 7, 6, 5, 5, 5, 5, 4, 4, 3, 3, 3, 2, 2, 2, 1, 1, 1, 1, 1, 0, 0, 0, 0, 0, 0, 12, 12, 12, 12, 11, 11, 11, 11, 10, 9, 9, 9, 8, 8, 8, 7, 7, 7, 6, 6, 6, 6, 5, 5, 5, 5, 4, 3, 2, 1, 1, 1, 1, 1, 1, 1, 0, 0, 0, 0, 0, 0, 0, 12, 12, 12, 11, 11, 10, 9, 9, 9, 9, 9, 8, 8, 8, 8, 8, 8, 7, 7, 7, 7, 6, 6, 5, 5, 4, 3, 3, 2, 2, 1, 1, 1, 1, 1, 1, 1, 0, 0, 0, 0, 0, 0, 12, 12, 10, 10, 9, 9, 8, 7, 7, 7, 6, 5, 4, 4, 3, 3, 2, 2, 2, 1, 1, 1, 1, 1, 1, 0, 0, 12, 12, 11, 11, 11, 11, 9, 9, 9, 9, 9, 9, 9, 8, 8, 8, 8, 8, 8, 7, 7, 7, 7, 6, 6, 5, 4, 4, 3, 3, 3, 3, 3, 2, 2, 2, 2, 2, 1, 1, 1, 1, 1, 1, 0, 0, 0, 0, 0, 0, 0, 0, 12, 12, 12, 12, 11, 11, 9, 9, 9, 8, 8, 8, 8, 8, 8, 8, 7, 7, 7, 6, 6, 6, 5, 5, 4, 4, 3, 3, 3, 3, 2, 2, 2, 2, 2, 1, 1, 1, 1, 1, 0, 0, 0, 0, 0, 12, 12, 12, 10, 9, 9, 9, 9, 9, 8, 8, 8, 8, 8, 7, 7, 7, 6, 6, 5, 5, 5, 4, 3, 2, 1, 1, 1, 1, 1, 0, 0, 0, 0, 0, 0, 0, 0, 12, 11, 11, 11, 9, 9, 9, 8, 7, 6, 6, 6, 6, 5, 4, 3, 3, 3, 3, 2, 2, 1, 1, 1, 1, 0, 0, 0, 0, 0, 0, 12, 12, 12, 11, 10, 10, 10, 9, 9, 8, 8, 8, 8, 8, 7, 6, 5, 5, 5, 4, 3, 2, 2, 1, 1, 1, 1, 0, 0, 12, 11, 10, 9, 9, 9, 9, 8, 8, 6, 6, 6, 6, 5, 5, 5, 4, 3, 3, 3, 2, 2, 2, 1, 1, 1, 1, 1, 0, 0, 0, 12, 11, 11, 10, 9, 9, 9, 8, 8, 7, 6, 5, 5, 4, 4, 3, 2, 2, 2, 2, 2, 1, 1, 1, 0, 0, 0, 0, 0, 12, 11, 11, 11, 10, 10, 9, 9, 9, 9, 9, 9, 8, 8, 8, 8, 7, 7, 6, 6, 5, 4, 4, 2, 2, 2, 2, 1, 1, 1, 1, 1, 0, 0, 0, 0, 0, 0, 12, 11, 11, 11, 11, 10, 10, 10, 9, 9, 9, 8, 8, 8, 8, 8, 8, 7, 7, 7, 7, 7, 6, 5, 4, 3, 3, 3, 3, 2, 1, 1, 1, 1, 1, 0, 0, 0, 0, 0, 0, 0, 0, 12, 12, 11, 11, 11, 11, 11, 9, 9, 8, 8, 8, 8, 8, 7, 7, 7, 7, 6, 5, 5, 5, 5, 4, 3, 3, 3, 3, 2, 2, 2, 1, 1, 1, 1, 1, 0, 0, 0, 0, 0, 12, 11, 10, 10, 9, 9, 9, 9, 7, 6, 5, 5, 4, 3, 3, 2, 2, 1, 1, 1, 1, 1, 1, 0, 0, 0, 0, 0, 0, 12, 11, 11, 10, 10, 9, 9, 9, 9, 8, 8, 8, 6, 5, 4, 3, 3, 2, 2, 1, 1, 1, 1, 1, 1, 1, 1, 0, 0, 0, 0, 0, 0, 12, 12, 10, 10, 9, 9, 9, 8, 8, 7, 6, 4, 4, 3, 2, 2, 2, 2, 1, 1, 1, 1, 0, 0, 0, 12, 11, 11, 11, 10, 10, 10, 9, 9, 8, 8, 8, 8, 7, 7, 7, 7, 6, 6, 5, 4, 3, 3, 3, 2, 2, 2, 2, 1, 1, 1, 0, 0, 0, 0, 12, 11, 11, 10, 10, 9, 9, 9, 9, 9, 8, 8, 8, 8, 6, 4, 4, 3, 1, 1, 1, 1, 0, 0, 0, 0, 12, 11, 11, 11, 11, 11, 10, 9, 9, 9, 9, 8, 8, 8, 8, 8, 6, 6, 5, 5, 5, 5, 5, 4, 3, 3, 3, 2, 1, 1, 1, 1, 1, 0, 0, 0, 0, 12, 11, 11, 10, 9, 9, 9, 9, 8, 8, 8, 7, 6, 6, 5, 4, 3, 2, 2, 2, 1, 1, 1, 1, 0, 0, 0, 0, 0, 12, 11, 11, 10, 9, 9, 9, 8, 8, 7, 6, 6, 5, 5, 3, 3, 2, 2, 2, 2, 2, 1, 1, 0, 0, 0, 12, 11, 10, 10, 9, 9, 9, 8, 8, 8, 8, 6, 6, 6, 5, 4, 3, 3, 2, 2, 2, 1, 1, 1, 0, 0, 0, 12, 11, 11, 11, 11, 9, 8, 8, 8, 8, 7, 7, 7, 7, 7, 6, 6, 6, 6, 5, 5, 5, 4, 3, 3, 3, 3, 3, 2, 2, 2, 1, 1, 1, 1, 1, 0, 0, 0, 0, 12, 11, 10, 10, 9, 9, 9, 8, 8, 8, 7, 7, 6, 5, 5, 3, 2, 2, 1, 1, 1, 1, 1, 1, 0, 0, 0, 0, 0, 0, 11, 11, 11, 11, 10, 9, 9, 9, 9, 9, 8, 7, 6, 5, 5, 3, 2, 2, 1, 1, 1, 1, 1, 0, 0, 0, 0, 0, 11, 11, 11, 10, 10, 10, 9, 9, 9, 8, 8, 6, 6, 5, 5, 5, 4, 3, 3, 3, 2, 2, 1, 1, 1, 1, 1, 0, 0, 0, 11, 11, 11, 10, 10, 10, 10, 9, 9, 9, 8, 8, 8, 7, 7, 7, 6, 5, 5, 5, 4, 4, 3, 2, 1, 1, 1, 1, 0, 0, 0, 11, 11, 11, 10, 10, 9, 9, 9, 8, 8, 7, 6, 6, 5, 4, 3, 3, 2, 2, 2, 1, 1, 1, 0, 0, 0, 11, 11, 10, 9, 9, 9, 8, 8, 8, 6, 6, 5, 4, 3, 3, 2, 2, 1, 1, 1, 1, 1, 0, 11, 10, 10, 9, 9, 9, 9, 8, 8, 8, 7, 7, 6, 5, 4, 3, 3, 2, 2, 1, 1, 1, 0, 0, 0, 0, 11, 11, 11, 11, 10, 9, 9, 9, 9, 9, 8, 7, 6, 5, 5, 4, 4, 2, 2, 2, 2, 1, 1, 1, 1, 1, 0, 0, 0, 0, 0, 12, 12, 11, 11, 9, 9, 8, 8, 8, 8, 7, 7, 7, 7, 7, 7, 7, 7, 6, 6, 6, 5, 5, 5, 5, 4, 3, 3, 2, 1, 1, 1, 0, 0, 0, 0, -1, 12, 12, 12, 12, 11, 11, 11, 10, 9, 8, 8, 8, 8, 8, 8, 8, 8, 8, 8, 7, 7, 7, 7, 7, 7, 6, 6, 6, 5, 5, 5, 4, 4, 3, 3, 2, 2, 1, 0, 0, 0, 0, 0, 0, 12, 12, 12, 12, 12, 11, 11, 11, 11, 11, 11, 10, 10, 9, 9, 8, 8, 8, 8, 8, 8, 8, 8, 8, 7, 7, 7, 7, 7, 7, 6, 5, 5, 5, 5, 4, 4, 3, 3, 3, 3, 2, 2, 2, 2, 2, 1, 1, 1, 0, 0, 0, 0, 0, 0, 0, 12, 12, 12, 12, 11, 11, 11, 11, 10, 10, 9, 9, 8, 8, 8, 8, 8, 8, 8, 8, 7, 7, 7, 7, 7, 7, 7, 6, 6, 6, 5, 5, 5, 5, 4, 4, 4, 3, 3, 3, 2, 2, 2, 2, 1, 1, 1, 0, 0, 0, 0, 0, 0, 0, 0, 0, 12, 12, 12, 12, 11, 11, 11, 11, 11, 10, 10, 10, 9, 8, 8, 8, 8, 8, 8, 8, 8, 7, 7, 7, 7, 7, 7, 7, 7, 7, 7, 7, 7, 6, 6, 5, 5, 5, 5, 5, 4, 3, 3, 3, 2, 1, 1, 0, 0, 0, 0, 0, 0, 0, 0, 12, 12, 12, 11, 11, 10, 10, 10, 9, 9, 8, 8, 8, 8, 7, 7, 7, 7, 7, 7, 6, 6, 6, 5, 5, 5, 5, 4, 4, 4, 4, 3, 3, 3, 3, 2, 1, 1, 0, 0, 0, 0, 0, 0, 12, 12, 11, 11, 11, 11, 11, 11, 10, 10, 9, 8, 8, 8, 8, 8, 8, 8, 7, 7, 7, 7, 7, 6, 6, 6, 5, 5, 5, 5, 5, 4, 4, 3, 3, 2, 2, 2, 1, 0, 0, 0, 0, 0, 0, -1, 12, 12, 12, 11, 11, 11, 11, 11, 10, 10, 9, 8, 8, 8, 8, 7, 7, 7, 7, 7, 7, 6, 6, 6, 6, 6, 5, 5, 5, 5, 5, 4, 4, 4, 3, 3, 3, 2, 2, 2, 2, 1, 0, 0, 0, 0, 12, 12, 12, 12, 11, 11, 11, 11, 11, 10, 10, 8, 8, 8, 7, 7, 7, 7, 7, 7, 7, 7, 7, 7, 7, 6, 6, 6, 5, 5, 5, 5, 4, 4, 4, 4, 3, 3, 2, 2, 1, 1, 0, 0, 0, 0, 0, 12, 12, 12, 11, 11, 10, 10, 9, 8, 8, 8, 8, 8, 8, 8, 8, 7, 7, 7, 7, 7, 7, 7, 7, 7, 7, 7, 6, 6, 5, 5, 5, 5, 4, 4, 3, 3, 3, 2, 2, 2, 2, 2, 1, 1, 1, 1, 0, 0, 0, 0, 0, 0, 12, 12, 12, 12, 11, 11, 11, 11, 11, 10, 10, 8, 8, 8, 8, 8, 8, 8, 8, 8, 8, 7, 7, 7, 7, 6, 6, 6, 5, 5, 5, 5, 5, 5, 4, 4, 4, 3, 3, 2, 2, 2, 2, 1, 1, 1, 0, 0, 0, 0, 0, 0, 12, 12, 11, 11, 11, 10, 9, 8, 8, 8, 8, 8, 8, 7, 7, 7, 7, 7, 7, 7, 7, 7, 7, 7, 7, 6, 6, 6, 5, 5, 5, 4, 4, 4, 3, 3, 2, 2, 2, 1, 1, 0, 0, 0, 0, 12, 12, 12, 11, 11, 11, 10, 10, 10, 9, 8, 8, 8, 8, 8, 8, 8, 7, 7, 7, 7, 7, 7, 6, 6, 6, 5, 5, 5, 4, 4, 2, 2, 1, 1, 1, 0, 0, 0, 0, 12, 12, 11, 11, 11, 11, 11, 10, 9, 8, 8, 8, 8, 8, 8, 8, 8, 8, 7, 7, 7, 7, 7, 7, 6, 6, 6, 5, 5, 4, 4, 3, 3, 2, 2, 2, 1, 1, 1, 1, 0, 0, 0, 0, 0, 0, 0, 12, 12, 12, 11, 11, 11, 11, 10, 9, 9, 9, 8, 8, 8, 8, 8, 8, 8, 7, 7, 7, 7, 7, 7, 7, 7, 6, 6, 5, 5, 5, 5, 4, 3, 3, 3, 2, 2, 2, 1, 0, 0, 0, 0, 0, 12, 11, 11, 11, 11, 11, 10, 10, 9, 9, 8, 8, 8, 8, 8, 8, 8, 8, 7, 7, 7, 7, 7, 7, 7, 7, 6, 6, 6, 6, 5, 5, 5, 5, 4, 4, 4, 2, 2, 2, 1, 0, 0, 0, 0, 0, 12, 12, 11, 11, 10, 10, 10, 9, 8, 8, 8, 8, 8, 7, 7, 7, 7, 7, 6, 6, 6, 6, 5, 5, 5, 5, 5, 4, 4, 4, 3, 2, 2, 2, 2, 2, 1, 0, 0, 0, 0, 0, 12, 12, 11, 11, 11, 11, 11, 11, 10, 10, 9, 8, 8, 8, 8, 8, 8, 7, 7, 7, 7, 7, 7, 7, 7, 7, 7, 6, 6, 6, 6, 5, 5, 5, 4, 4, 3, 3, 3, 3, 3, 2, 2, 2, 2, 1, 1, 1, 0, 0, 0, 0, 0, 0, 0, 12, 11, 11, 11, 10, 10, 10, 10, 9, 8, 8, 8, 8, 7, 7, 7, 7, 7, 7, 7, 7, 6, 6, 6, 6, 5, 5, 5, 5, 4, 3, 3, 3, 2, 1, 0, 0, 0, 0, 12, 12, 11, 11, 11, 10, 10, 9, 8, 8, 8, 8, 8, 8, 7, 7, 7, 7, 7, 7, 6, 6, 6, 5, 5, 5, 4, 4, 3, 2, 2, 1, 1, 1, 0, 0, 0, 0, 0, -1, -1, 12, 11, 11, 11, 11, 9, 9, 8, 8, 8, 8, 8, 8, 7, 7, 7, 6, 6, 5, 5, 4, 4, 4, 3, 3, 3, 2, 2, 2, 1, 1, 1, 0, 0, 0, 0, -1, 12, 12, 11, 11, 11, 11, 11, 10, 9, 8, 8, 8, 8, 8, 8, 8, 7, 7, 7, 7, 7, 7, 7, 7, 6, 6, 6, 6, 5, 5, 5, 5, 4, 4, 4, 3, 3, 2, 2, 2, 0, 0, 0, 0, 0, 0, 0, 12, 11, 11, 10, 9, 9, 8, 8, 8, 8, 8, 7, 7, 7, 7, 7, 7, 7, 6, 6, 6, 5, 5, 5, 5, 5, 4, 4, 3, 3, 3, 3, 2, 2, 1, 1, 0, 0, 0, 0, -1, 12, 11, 11, 11, 11, 10, 9, 9, 9, 8, 8, 8, 8, 8, 7, 7, 7, 7, 7, 7, 7, 6, 6, 6, 6, 6, 5, 5, 5, 4, 3, 3, 3, 2, 1, 0, 0, 0, 12, 12, 11, 11, 11, 11, 10, 10, 9, 8, 8, 8, 8, 8, 7, 7, 7, 7, 7, 7, 7, 7, 6, 6, 6, 5, 5, 5, 4, 4, 3, 3, 2, 2, 1, 1, 1, 1, 1, 0, 0, 12, 12, 11, 11, 11, 10, 9, 8, 8, 8, 8, 8, 8, 7, 7, 7, 7, 7, 7, 7, 7, 6, 6, 5, 5, 4, 4, 3, 3, 2, 2, 2, 1, 1, 1, 0, 0, 0, 0, 0, 12, 12, 12, 12, 12, 11, 11, 11, 10, 10, 8, 8, 8, 8, 8, 8, 8, 8, 7, 7, 7, 7, 7, 7, 7, 7, 7, 7, 6, 6, 6, 6, 6, 5, 5, 5, 4, 4, 3, 3, 3, 3, 2, 2, 2, 0, 0, 0, 0, 0, 0, 0, 0, 12, 12, 11, 11, 11, 9, 8, 8, 8, 8, 8, 8, 7, 7, 7, 7, 7, 7, 7, 6, 6, 5, 5, 5, 4, 3, 3, 2, 2, 2, 1, 1, 1, 0, 0, -1, 12, 11, 11, 10, 9, 8, 8, 8, 7, 7, 7, 7, 7, 7, 7, 7, 7, 6, 6, 6, 5, 5, 5, 4, 4, 3, 2, 2, 1, 1, 1, 0, 0, 0, -1, 12, 12, 11, 11, 11, 11, 10, 9, 8, 8, 8, 8, 8, 8, 7, 7, 7, 7, 6, 6, 6, 6, 6, 5, 5, 5, 5, 4, 4, 3, 3, 2, 2, 1, 1, 1, 1, 0, 0, 0, 0, -1, -1, 12, 11, 11, 10, 9, 8, 8, 8, 8, 8, 8, 7, 7, 7, 7, 7, 6, 6, 5, 5, 5, 5, 5, 4, 3, 2, 2, 2, 1, 1, 1, 0, 0, 12, 12, 11, 11, 11, 11, 8, 8, 8, 8, 7, 7, 7, 7, 7, 7, 6, 5, 5, 5, 5, 3, 2, 2, 2, 2, 1, 0, 0, 0, 0, 0, 12, 12, 11, 11, 10, 9, 8, 8, 8, 8, 8, 8, 7, 7, 7, 7, 7, 7, 6, 6, 6, 5, 5, 5, 4, 2, 2, 2, 2, 1, 0, 0, 0, -1, 12, 11, 10, 10, 9, 8, 8, 8, 8, 8, 7, 7, 7, 7, 7, 7, 6, 6, 6, 5, 5, 5, 4, 4, 4, 4, 3, 3, 2, 2, 2, 1, 0, 0, -1, 12, 11, 11, 11, 10, 9, 9, 8, 8, 8, 7, 7, 7, 7, 7, 6, 6, 6, 5, 5, 5, 5, 4, 4, 3, 3, 2, 1, 1, 1, 0, 0, 0, -1, -1, 12, 11, 11, 10, 9, 8, 8, 8, 8, 8, 8, 8, 7, 7, 7, 7, 6, 6, 6, 5, 5, 5, 4, 3, 3, 3, 2, 2, 2, 1, 1, 1, 1, 1, 0, -1, 12, 12, 11, 11, 11, 10, 9, 8, 8, 8, 8, 7, 7, 7, 7, 7, 6, 6, 5, 5, 5, 5, 4, 3, 3, 3, 2, 1, 0, 0, 12, 11, 11, 11, 10, 9, 8, 8, 8, 8, 8, 8, 7, 7, 7, 7, 7, 7, 6, 6, 6, 5, 5, 5, 4, 4, 3, 2, 1, 1, 0, 0, 0, 0, 0, -1, 12, 11, 11, 11, 10, 9, 8, 8, 7, 7, 7, 7, 6, 6, 6, 6, 5, 5, 5, 4, 4, 3, 3, 3, 3, 2, 2, 2, 1, 0, 0, 0, 12, 12, 11, 11, 11, 10, 8, 8, 8, 7, 7, 7, 7, 7, 7, 7, 7, 6, 6, 6, 6, 6, 6, 5, 5, 5, 5, 4, 4, 4, 2, 2, 1, 0, 0, 12, 11, 11, 11, 10, 8, 8, 8, 7, 7, 7, 7, 7, 7, 6, 6, 6, 5, 5, 5, 5, 4, 4, 4, 2, 2, 2, 2, 1, 1, 0, 0, 0, 0, 12, 11, 11, 9, 8, 8, 8, 8, 7, 7, 7, 7, 7, 7, 7, 6, 5, 5, 5, 5, 5, 4, 4, 3, 3, 2, 1, 1, 0, 0, 0, 0, 12, 11, 11, 9, 8, 8, 8, 8, 7, 7, 7, 7, 7, 6, 6, 6, 5, 5, 4, 4, 4, 4, 3, 3, 2, 2, 2, 1, 0, 0, 0, 12, 12, 11, 11, 11, 11, 10, 9, 8, 8, 8, 8, 8, 8, 7, 7, 7, 7, 7, 6, 5, 5, 5, 5, 3, 3, 2, 1, 0, 0, 0, 0, 0, -1, 12, 12, 11, 11, 11, 11, 9, 8, 8, 8, 7, 7, 7, 7, 7, 6, 6, 6, 5, 5, 5, 4, 3, 3, 3, 2, 2, 2, 1, 1, 0, 0, 0, 12, 11, 11, 8, 8, 8, 8, 8, 8, 7, 7, 7, 7, 7, 7, 7, 6, 6, 6, 5, 5, 5, 5, 4, 4, 3, 3, 3, 2, 2, 2, 1, 1, -1, 12, 11, 11, 11, 11, 11, 10, 9, 8, 8, 8, 8, 8, 7, 7, 7, 7, 7, 7, 7, 7, 6, 6, 5, 5, 5, 4, 4, 3, 3, 3, 2, 2, 2, 2, 1, 1, 0, 0, 0, 0, 0, -1, -1, 12, 11, 11, 11, 10, 9, 9, 8, 8, 8, 8, 7, 7, 7, 7, 7, 7, 7, 7, 6, 6, 5, 5, 5, 5, 5, 4, 4, 4, 3, 3, 3, 3, 2, 2, 2, 2, 1, 1, 0, 0, 0, 0, 0, 12, 12, 12, 12, 11, 11, 11, 10, 10, 9, 8, 8, 8, 7, 7, 7, 7, 7, 7, 6, 6, 6, 6, 5, 5, 4, 4, 3, 3, 2, 2, 2, 1, 1, 1, 0, 0, 0, 0, 0, 0, 0, 12, 12, 11, 11, 11, 11, 11, 10, 10, 8, 8, 8, 8, 8, 8, 7, 7, 7, 7, 7, 7, 7, 7, 7, 6, 6, 6, 5, 5, 5, 5, 4, 4, 4, 3, 3, 2, 2, 2, 2, 1, 1, 1, 0, 0, 0, 0, 0, 0, 0, 12, 12, 11, 11, 11, 11, 10, 10, 8, 8, 8, 8, 8, 8, 7, 7, 7, 7, 7, 7, 7, 6, 6, 5, 5, 5, 5, 5, 4, 4, 4, 3, 3, 3, 2, 2, 2, 2, 1, 1, 0, 0, 0, 0, 0, 0, 12, 11, 11, 11, 11, 11, 11, 11, 10, 9, 9, 8, 8, 8, 8, 7, 7, 7, 7, 7, 7, 6, 6, 6, 6, 5, 5, 5, 5, 4, 4, 4, 4, 3, 3, 2, 2, 1, 1, 0, 0, 0, 0, 0, 0, 12, 12, 11, 11, 11, 11, 11, 10, 8, 8, 8, 8, 8, 8, 7, 7, 7, 7, 7, 7, 7, 7, 7, 6, 6, 6, 6, 5, 5, 5, 5, 4, 4, 3, 3, 2, 2, 2, 2, 1, 1, 0, 0, 0, 0, 0, 12, 12, 11, 11, 11, 11, 11, 10, 9, 8, 8, 8, 8, 8, 7, 7, 7, 7, 7, 7, 6, 6, 6, 5, 5, 5, 5, 5, 5, 3, 3, 3, 2, 2, 2, 1, 0, 0, 0, 0, 0, -1, 12, 11, 11, 11, 11, 10, 9, 9, 9, 8, 8, 8, 8, 8, 8, 7, 7, 7, 7, 7, 7, 7, 7, 7, 6, 6, 6, 5, 5, 5, 5, 5, 5, 4, 4, 3, 3, 2, 2, 2, 1, 1, 1, 1, 1, -1, 12, 11, 11, 11, 11, 10, 10, 8, 8, 8, 8, 8, 8, 7, 7, 7, 7, 7, 6, 6, 6, 6, 5, 5, 5, 4, 3, 3, 3, 3, 2, 1, 1, 1, 0, 0, 0, 0, -1, 12, 11, 9, 8, 8, 8, 8, 8, 8, 8, 7, 7, 7, 7, 7, 7, 7, 6, 5, 4, 3, 3, 2, 2, 1, 1, 0, 0, 0, 0, 0, 12, 11, 11, 11, 11, 11, 10, 9, 8, 8, 8, 8, 8, 8, 7, 7, 7, 7, 7, 6, 6, 5, 5, 3, 3, 3, 2, 2, 2, 2, 1, 1, 0, 0, 0, 0, 0, 12, 11, 11, 11, 10, 10, 9, 8, 8, 8, 8, 8, 8, 7, 7, 7, 7, 7, 7, 7, 6, 6, 6, 6, 5, 5, 5, 5, 4, 4, 3, 2, 2, 1, 1, 1, 1, 0, -1, 12, 11, 11, 11, 11, 10, 10, 8, 8, 8, 7, 7, 7, 7, 7, 6, 5, 5, 5, 5, 5, 4, 4, 3, 3, 2, 1, 1, 0, 0, 0, 0, 11, 11, 11, 10, 8, 8, 8, 8, 8, 8, 7, 7, 7, 7, 7, 7, 7, 6, 5, 5, 5, 5, 4, 3, 3, 3, 3, 2, 2, 0, 0, 0, -1, 11, 11, 11, 11, 11, 10, 10, 10, 9, 8, 8, 8, 8, 7, 7, 7, 7, 7, 6, 6, 6, 6, 5, 5, 5, 4, 3, 3, 3, 3, 2, 2, 1, 0, 0, 0, 0, 0, -1, 11, 11, 11, 11, 11, 9, 8, 8, 8, 8, 7, 7, 7, 7, 7, 7, 7, 7, 7, 7, 6, 6, 6, 5, 5, 5, 4, 4, 4, 3, 3, 3, 2, 2, 1, 1, 0, 0, -1, 11, 11, 11, 11, 11, 10, 9, 8, 8, 8, 7, 7, 7, 7, 7, 7, 6, 6, 6, 6, 5, 5, 5, 5, 4, 4, 3, 3, 3, 3, 2, 2, 2, 1, 1, 1, 1, 0, 0, 0, -1, 11, 10, 9, 8, 8, 8, 7, 7, 7, 7, 7, 7, 7, 6, 6, 6, 6, 5, 5, 5, 5, 4, 4, 3, 3, 3, 2, 2, 2, 1, 1, 0, 0, -1, 11, 10, 10, 9, 8, 8, 8, 8, 8, 8, 7, 7, 7, 7, 7, 6, 6, 6, 6, 5, 5, 5, 5, 4, 4, 2, 2, 2, 1, 1, 1, 0, 0, -1, 11, 10, 9, 8, 8, 8, 8, 8, 7, 7, 7, 7, 7, 6, 6, 5, 5, 5, 5, 5, 4, 4, 3, 3, 2, 2, 1, 1, 1, 1, 0, 0, -1, 11, 11, 11, 10, 9, 8, 8, 8, 8, 7, 7, 7, 7, 7, 7, 6, 6, 6, 5, 5, 5, 4, 3, 2, 2, 2, 1, 1, 0, 0, 0, 0, 0, 11, 11, 11, 10, 9, 8, 8, 8, 7, 7, 7, 7, 7, 7, 6, 6, 6, 5, 5, 4, 4, 4, 3, 3, 3, 2, 2, 2, 1, 0, 0, 0, -1, 11, 11, 11, 10, 10, 9, 8, 8, 8, 7, 7, 7, 7, 7, 7, 6, 6, 6, 5, 5, 4, 3, 2, 2, 2, 2, 0, 0, 0, 11, 11, 10, 10, 8, 8, 8, 8, 7, 7, 7, 7, 7, 7, 7, 6, 6, 6, 5, 5, 4, 4, 3, 3, 3, 3, 2, 1, 1, 0, 0, 11, 10, 10, 9, 8, 8, 8, 7, 7, 7, 7, 7, 7, 6, 6, 6, 5, 5, 4, 4, 3, 3, 2, 2, 1, 0, 0, 0, 0, 11, 11, 9, 8, 8, 8, 8, 8, 8, 7, 7, 7, 7, 7, 6, 6, 5, 5, 4, 4, 2, 2, 1, 1, 0, 0, 0, 11, 10, 8, 7, 7, 6, 6, 5, 5, 5, 4, 3, 2, 2, 1, 1, 0, 11, 11, 11, 8, 8, 8, 8, 7, 7, 7, 7, 7, 7, 7, 6, 5, 5, 5, 4, 3, 3, 3, 2, 1, 1, 0, 11, 11, 10, 8, 8, 8, 7, 7, 7, 7, 7, 7, 7, 6, 6, 6, 5, 5, 5, 5, 4, 3, 3, 2, 2, 2, 1, 1, 1, 0, 0, 0, 0, 11, 11, 11, 9, 8, 8, 8, 8, 7, 7, 7, 7, 7, 6, 6, 6, 6, 5, 5, 5, 4, 4, 3, 2, 2, 1, 1, 0, 0, 0, 0, 0, 11, 11, 11, 8, 8, 8, 8, 7, 7, 7, 7, 7, 7, 7, 7, 6, 6, 6, 5, 5, 5, 4, 4, 3, 3, 3, 3, 2, 2, 2, 1, 0, 0, 0, 0, -1, 11, 11, 10, 10, 8, 8, 8, 8, 8, 7, 7, 7, 7, 7, 7, 7, 6, 6, 5, 5, 4, 4, 3, 3, 3, 2, 2, 2, 1, 1, 1, 0, 0, 11, 11, 11, 10, 9, 8, 8, 7, 7, 7, 7, 7, 7, 7, 7, 6, 6, 5, 5, 5, 4, 3, 3, 3, 3, 2, 1, 0, 0, 0, 0, -1, 11, 11, 10, 10, 8, 8, 8, 7, 7, 7, 7, 7, 7, 6, 6, 6, 6, 5, 5, 4, 3, 3, 3, 2, 2, 2, 1, 0, 0, 0, 0, 11, 11, 11, 8, 8, 8, 7, 7, 7, 7, 7, 7, 7, 7, 6, 6, 6, 5, 5, 5, 5, 5, 4, 4, 3, 2, 2, 2, 1, 0, 0, 0, 0, 0, -1, 11, 11, 11, 8, 8, 8, 8, 7, 7, 7, 7, 7, 6, 6, 6, 5, 5, 5, 5, 4, 4, 4, 3, 2, 2, 2, 1, 1, 0, 0, 0, 11, 11, 9, 9, 8, 8, 8, 8, 7, 7, 7, 7, 7, 7, 7, 7, 7, 6, 6, 5, 5, 5, 4, 4, 3, 3, 2, 1, 1, 1, 1, 0, 0, 0, 0, -1], \"xaxis\": \"x\", \"yaxis\": \"y\"}],\n",
              "                        {\"barmode\": \"relative\", \"legend\": {\"tracegroupgap\": 0}, \"template\": {\"data\": {\"bar\": [{\"error_x\": {\"color\": \"#2a3f5f\"}, \"error_y\": {\"color\": \"#2a3f5f\"}, \"marker\": {\"line\": {\"color\": \"#E5ECF6\", \"width\": 0.5}}, \"type\": \"bar\"}], \"barpolar\": [{\"marker\": {\"line\": {\"color\": \"#E5ECF6\", \"width\": 0.5}}, \"type\": \"barpolar\"}], \"carpet\": [{\"aaxis\": {\"endlinecolor\": \"#2a3f5f\", \"gridcolor\": \"white\", \"linecolor\": \"white\", \"minorgridcolor\": \"white\", \"startlinecolor\": \"#2a3f5f\"}, \"baxis\": {\"endlinecolor\": \"#2a3f5f\", \"gridcolor\": \"white\", \"linecolor\": \"white\", \"minorgridcolor\": \"white\", \"startlinecolor\": \"#2a3f5f\"}, \"type\": \"carpet\"}], \"choropleth\": [{\"colorbar\": {\"outlinewidth\": 0, \"ticks\": \"\"}, \"type\": \"choropleth\"}], \"contour\": [{\"colorbar\": {\"outlinewidth\": 0, \"ticks\": \"\"}, \"colorscale\": [[0.0, \"#0d0887\"], [0.1111111111111111, \"#46039f\"], [0.2222222222222222, \"#7201a8\"], [0.3333333333333333, \"#9c179e\"], [0.4444444444444444, \"#bd3786\"], [0.5555555555555556, \"#d8576b\"], [0.6666666666666666, \"#ed7953\"], [0.7777777777777778, \"#fb9f3a\"], [0.8888888888888888, \"#fdca26\"], [1.0, \"#f0f921\"]], \"type\": \"contour\"}], \"contourcarpet\": [{\"colorbar\": {\"outlinewidth\": 0, \"ticks\": \"\"}, \"type\": \"contourcarpet\"}], \"heatmap\": [{\"colorbar\": {\"outlinewidth\": 0, \"ticks\": \"\"}, \"colorscale\": [[0.0, \"#0d0887\"], [0.1111111111111111, \"#46039f\"], [0.2222222222222222, \"#7201a8\"], [0.3333333333333333, \"#9c179e\"], [0.4444444444444444, \"#bd3786\"], [0.5555555555555556, \"#d8576b\"], [0.6666666666666666, \"#ed7953\"], [0.7777777777777778, \"#fb9f3a\"], [0.8888888888888888, \"#fdca26\"], [1.0, \"#f0f921\"]], \"type\": \"heatmap\"}], \"heatmapgl\": [{\"colorbar\": {\"outlinewidth\": 0, \"ticks\": \"\"}, \"colorscale\": [[0.0, \"#0d0887\"], [0.1111111111111111, \"#46039f\"], [0.2222222222222222, \"#7201a8\"], [0.3333333333333333, \"#9c179e\"], [0.4444444444444444, \"#bd3786\"], [0.5555555555555556, \"#d8576b\"], [0.6666666666666666, \"#ed7953\"], [0.7777777777777778, \"#fb9f3a\"], [0.8888888888888888, \"#fdca26\"], [1.0, \"#f0f921\"]], \"type\": \"heatmapgl\"}], \"histogram\": [{\"marker\": {\"colorbar\": {\"outlinewidth\": 0, \"ticks\": \"\"}}, \"type\": \"histogram\"}], \"histogram2d\": [{\"colorbar\": {\"outlinewidth\": 0, \"ticks\": \"\"}, \"colorscale\": [[0.0, \"#0d0887\"], [0.1111111111111111, \"#46039f\"], [0.2222222222222222, \"#7201a8\"], [0.3333333333333333, \"#9c179e\"], [0.4444444444444444, \"#bd3786\"], [0.5555555555555556, \"#d8576b\"], [0.6666666666666666, \"#ed7953\"], [0.7777777777777778, \"#fb9f3a\"], [0.8888888888888888, \"#fdca26\"], [1.0, \"#f0f921\"]], \"type\": \"histogram2d\"}], \"histogram2dcontour\": [{\"colorbar\": {\"outlinewidth\": 0, \"ticks\": \"\"}, \"colorscale\": [[0.0, \"#0d0887\"], [0.1111111111111111, \"#46039f\"], [0.2222222222222222, \"#7201a8\"], [0.3333333333333333, \"#9c179e\"], [0.4444444444444444, \"#bd3786\"], [0.5555555555555556, \"#d8576b\"], [0.6666666666666666, \"#ed7953\"], [0.7777777777777778, \"#fb9f3a\"], [0.8888888888888888, \"#fdca26\"], [1.0, \"#f0f921\"]], \"type\": \"histogram2dcontour\"}], \"mesh3d\": [{\"colorbar\": {\"outlinewidth\": 0, \"ticks\": \"\"}, \"type\": \"mesh3d\"}], \"parcoords\": [{\"line\": {\"colorbar\": {\"outlinewidth\": 0, \"ticks\": \"\"}}, \"type\": \"parcoords\"}], \"pie\": [{\"automargin\": true, \"type\": \"pie\"}], \"scatter\": [{\"marker\": {\"colorbar\": {\"outlinewidth\": 0, \"ticks\": \"\"}}, \"type\": \"scatter\"}], \"scatter3d\": [{\"line\": {\"colorbar\": {\"outlinewidth\": 0, \"ticks\": \"\"}}, \"marker\": {\"colorbar\": {\"outlinewidth\": 0, \"ticks\": \"\"}}, \"type\": \"scatter3d\"}], \"scattercarpet\": [{\"marker\": {\"colorbar\": {\"outlinewidth\": 0, \"ticks\": \"\"}}, \"type\": \"scattercarpet\"}], \"scattergeo\": [{\"marker\": {\"colorbar\": {\"outlinewidth\": 0, \"ticks\": \"\"}}, \"type\": \"scattergeo\"}], \"scattergl\": [{\"marker\": {\"colorbar\": {\"outlinewidth\": 0, \"ticks\": \"\"}}, \"type\": \"scattergl\"}], \"scattermapbox\": [{\"marker\": {\"colorbar\": {\"outlinewidth\": 0, \"ticks\": \"\"}}, \"type\": \"scattermapbox\"}], \"scatterpolar\": [{\"marker\": {\"colorbar\": {\"outlinewidth\": 0, \"ticks\": \"\"}}, \"type\": \"scatterpolar\"}], \"scatterpolargl\": [{\"marker\": {\"colorbar\": {\"outlinewidth\": 0, \"ticks\": \"\"}}, \"type\": \"scatterpolargl\"}], \"scatterternary\": [{\"marker\": {\"colorbar\": {\"outlinewidth\": 0, \"ticks\": \"\"}}, \"type\": \"scatterternary\"}], \"surface\": [{\"colorbar\": {\"outlinewidth\": 0, \"ticks\": \"\"}, \"colorscale\": [[0.0, \"#0d0887\"], [0.1111111111111111, \"#46039f\"], [0.2222222222222222, \"#7201a8\"], [0.3333333333333333, \"#9c179e\"], [0.4444444444444444, \"#bd3786\"], [0.5555555555555556, \"#d8576b\"], [0.6666666666666666, \"#ed7953\"], [0.7777777777777778, \"#fb9f3a\"], [0.8888888888888888, \"#fdca26\"], [1.0, \"#f0f921\"]], \"type\": \"surface\"}], \"table\": [{\"cells\": {\"fill\": {\"color\": \"#EBF0F8\"}, \"line\": {\"color\": \"white\"}}, \"header\": {\"fill\": {\"color\": \"#C8D4E3\"}, \"line\": {\"color\": \"white\"}}, \"type\": \"table\"}]}, \"layout\": {\"annotationdefaults\": {\"arrowcolor\": \"#2a3f5f\", \"arrowhead\": 0, \"arrowwidth\": 1}, \"coloraxis\": {\"colorbar\": {\"outlinewidth\": 0, \"ticks\": \"\"}}, \"colorscale\": {\"diverging\": [[0, \"#8e0152\"], [0.1, \"#c51b7d\"], [0.2, \"#de77ae\"], [0.3, \"#f1b6da\"], [0.4, \"#fde0ef\"], [0.5, \"#f7f7f7\"], [0.6, \"#e6f5d0\"], [0.7, \"#b8e186\"], [0.8, \"#7fbc41\"], [0.9, \"#4d9221\"], [1, \"#276419\"]], \"sequential\": [[0.0, \"#0d0887\"], [0.1111111111111111, \"#46039f\"], [0.2222222222222222, \"#7201a8\"], [0.3333333333333333, \"#9c179e\"], [0.4444444444444444, \"#bd3786\"], [0.5555555555555556, \"#d8576b\"], [0.6666666666666666, \"#ed7953\"], [0.7777777777777778, \"#fb9f3a\"], [0.8888888888888888, \"#fdca26\"], [1.0, \"#f0f921\"]], \"sequentialminus\": [[0.0, \"#0d0887\"], [0.1111111111111111, \"#46039f\"], [0.2222222222222222, \"#7201a8\"], [0.3333333333333333, \"#9c179e\"], [0.4444444444444444, \"#bd3786\"], [0.5555555555555556, \"#d8576b\"], [0.6666666666666666, \"#ed7953\"], [0.7777777777777778, \"#fb9f3a\"], [0.8888888888888888, \"#fdca26\"], [1.0, \"#f0f921\"]]}, \"colorway\": [\"#636efa\", \"#EF553B\", \"#00cc96\", \"#ab63fa\", \"#FFA15A\", \"#19d3f3\", \"#FF6692\", \"#B6E880\", \"#FF97FF\", \"#FECB52\"], \"font\": {\"color\": \"#2a3f5f\"}, \"geo\": {\"bgcolor\": \"white\", \"lakecolor\": \"white\", \"landcolor\": \"#E5ECF6\", \"showlakes\": true, \"showland\": true, \"subunitcolor\": \"white\"}, \"hoverlabel\": {\"align\": \"left\"}, \"hovermode\": \"closest\", \"mapbox\": {\"style\": \"light\"}, \"paper_bgcolor\": \"white\", \"plot_bgcolor\": \"#E5ECF6\", \"polar\": {\"angularaxis\": {\"gridcolor\": \"white\", \"linecolor\": \"white\", \"ticks\": \"\"}, \"bgcolor\": \"#E5ECF6\", \"radialaxis\": {\"gridcolor\": \"white\", \"linecolor\": \"white\", \"ticks\": \"\"}}, \"scene\": {\"xaxis\": {\"backgroundcolor\": \"#E5ECF6\", \"gridcolor\": \"white\", \"gridwidth\": 2, \"linecolor\": \"white\", \"showbackground\": true, \"ticks\": \"\", \"zerolinecolor\": \"white\"}, \"yaxis\": {\"backgroundcolor\": \"#E5ECF6\", \"gridcolor\": \"white\", \"gridwidth\": 2, \"linecolor\": \"white\", \"showbackground\": true, \"ticks\": \"\", \"zerolinecolor\": \"white\"}, \"zaxis\": {\"backgroundcolor\": \"#E5ECF6\", \"gridcolor\": \"white\", \"gridwidth\": 2, \"linecolor\": \"white\", \"showbackground\": true, \"ticks\": \"\", \"zerolinecolor\": \"white\"}}, \"shapedefaults\": {\"line\": {\"color\": \"#2a3f5f\"}}, \"ternary\": {\"aaxis\": {\"gridcolor\": \"white\", \"linecolor\": \"white\", \"ticks\": \"\"}, \"baxis\": {\"gridcolor\": \"white\", \"linecolor\": \"white\", \"ticks\": \"\"}, \"bgcolor\": \"#E5ECF6\", \"caxis\": {\"gridcolor\": \"white\", \"linecolor\": \"white\", \"ticks\": \"\"}}, \"title\": {\"x\": 0.05}, \"xaxis\": {\"automargin\": true, \"gridcolor\": \"white\", \"linecolor\": \"white\", \"ticks\": \"\", \"title\": {\"standoff\": 15}, \"zerolinecolor\": \"white\", \"zerolinewidth\": 2}, \"yaxis\": {\"automargin\": true, \"gridcolor\": \"white\", \"linecolor\": \"white\", \"ticks\": \"\", \"title\": {\"standoff\": 15}, \"zerolinecolor\": \"white\", \"zerolinewidth\": 2}}}, \"title\": {\"text\": \"Distribution of Questions Submitted before the Due Date \"}, \"xaxis\": {\"anchor\": \"y\", \"domain\": [0.0, 1.0], \"title\": {\"text\": \"Days Before Due Date\"}}, \"yaxis\": {\"anchor\": \"x\", \"domain\": [0.0, 1.0], \"title\": {\"text\": \"count\"}}},\n",
              "                        {\"responsive\": true}\n",
              "                    ).then(function(){\n",
              "                            \n",
              "var gd = document.getElementById('577ffe56-1b71-410f-b000-cbb61d6e5a76');\n",
              "var x = new MutationObserver(function (mutations, observer) {{\n",
              "        var display = window.getComputedStyle(gd).display;\n",
              "        if (!display || display === 'none') {{\n",
              "            console.log([gd, 'removed!']);\n",
              "            Plotly.purge(gd);\n",
              "            observer.disconnect();\n",
              "        }}\n",
              "}});\n",
              "\n",
              "// Listen for the removal of the full notebook cells\n",
              "var notebookContainer = gd.closest('#notebook-container');\n",
              "if (notebookContainer) {{\n",
              "    x.observe(notebookContainer, {childList: true});\n",
              "}}\n",
              "\n",
              "// Listen for the clearing of the current output cell\n",
              "var outputEl = gd.closest('.output');\n",
              "if (outputEl) {{\n",
              "    x.observe(outputEl, {childList: true});\n",
              "}}\n",
              "\n",
              "                        })\n",
              "                };\n",
              "                \n",
              "            </script>\n",
              "        </div>\n",
              "</body>\n",
              "</html>"
            ]
          },
          "metadata": {
            "tags": []
          }
        }
      ]
    },
    {
      "cell_type": "markdown",
      "metadata": {
        "id": "BozsNLoIefYt"
      },
      "source": [
        "**Key Observations**\\\n",
        "At at a large view, most questions were submitted before the due date.\n",
        "1488 questions were submitted on the due date (Days before Due date = 0)\n",
        "220 Questions were submitted 1 day after the due date.\n",
        "\n",
        "From this overall perspective, we can guage that majority of the students were actively engaged as they submitted their questions on time. This is perhaps due to their being academic incentive tied to submitting their questions on time. \n",
        "\n",
        "- Yu, Jones Start: 12-11-2020, End: 15-11-2020\n",
        "\n"
      ]
    },
    {
      "cell_type": "code",
      "metadata": {
        "id": "8AIR_EqOefZL",
        "colab": {
          "base_uri": "https://localhost:8080/",
          "height": 542
        },
        "outputId": "f7eb0d33-0ff7-442c-9b28-0b5bb526d80b"
      },
      "source": [
        "fig = px.histogram(team_latenes_boolean2,x=\"team\",y=\"late\",color = \"team\", color_discrete_map = {'Pink': 'hotpink','Green': 'mediumseagreen', 'Yellow': 'gold','Black': 'black','Blue': 'royalblue','Red': 'tomato', 'Brown': 'peru', 'White': 'white','Purple': 'mediumpurple'}, title = \"Distribution of late questions in each team\",labels={\n",
        "                     \"team\": \"Groups\",\n",
        "                     \"late\": \"Number of Comments Submitted Late\"})\n",
        "\n",
        "fig.update_layout(showlegend=False) \n",
        "\n",
        "# Yu, Tanudji, Jones, Start: 12-11-2020, End: 16-11-2020"
      ],
      "execution_count": 46,
      "outputs": [
        {
          "output_type": "display_data",
          "data": {
            "text/html": [
              "<html>\n",
              "<head><meta charset=\"utf-8\" /></head>\n",
              "<body>\n",
              "    <div>\n",
              "            <script src=\"https://cdnjs.cloudflare.com/ajax/libs/mathjax/2.7.5/MathJax.js?config=TeX-AMS-MML_SVG\"></script><script type=\"text/javascript\">if (window.MathJax) {MathJax.Hub.Config({SVG: {font: \"STIX-Web\"}});}</script>\n",
              "                <script type=\"text/javascript\">window.PlotlyConfig = {MathJaxConfig: 'local'};</script>\n",
              "        <script src=\"https://cdn.plot.ly/plotly-latest.min.js\"></script>    \n",
              "            <div id=\"e6502db5-e91d-4dc6-baa9-2353e4b77046\" class=\"plotly-graph-div\" style=\"height:525px; width:100%;\"></div>\n",
              "            <script type=\"text/javascript\">\n",
              "                \n",
              "                    window.PLOTLYENV=window.PLOTLYENV || {};\n",
              "                    \n",
              "                if (document.getElementById(\"e6502db5-e91d-4dc6-baa9-2353e4b77046\")) {\n",
              "                    Plotly.newPlot(\n",
              "                        'e6502db5-e91d-4dc6-baa9-2353e4b77046',\n",
              "                        [{\"alignmentgroup\": \"True\", \"bingroup\": \"x\", \"hoverlabel\": {\"namelength\": 0}, \"hovertemplate\": \"Groups=%{x}<br>count of Number of Comments Submitted Late=%{y}\", \"legendgroup\": \"Groups=Black\", \"marker\": {\"color\": \"black\"}, \"name\": \"Groups=Black\", \"offsetgroup\": \"Groups=Black\", \"orientation\": \"v\", \"showlegend\": true, \"type\": \"histogram\", \"x\": [\"Black\", \"Black\", \"Black\", \"Black\", \"Black\", \"Black\", \"Black\", \"Black\", \"Black\", \"Black\", \"Black\", \"Black\", \"Black\", \"Black\", \"Black\", \"Black\", \"Black\", \"Black\", \"Black\", \"Black\", \"Black\", \"Black\", \"Black\", \"Black\", \"Black\", \"Black\", \"Black\", \"Black\", \"Black\", \"Black\", \"Black\", \"Black\", \"Black\", \"Black\"], \"xaxis\": \"x\", \"y\": [false, true, false, false, false, false, true, false, true, false, false, false, false, true, true, false, true, true, true, false, false, true, true, false, false, false, false, false, false, false, true, false, false, false], \"yaxis\": \"y\"}, {\"alignmentgroup\": \"True\", \"bingroup\": \"x\", \"hoverlabel\": {\"namelength\": 0}, \"hovertemplate\": \"Groups=%{x}<br>count of Number of Comments Submitted Late=%{y}\", \"legendgroup\": \"Groups=Blue\", \"marker\": {\"color\": \"royalblue\"}, \"name\": \"Groups=Blue\", \"offsetgroup\": \"Groups=Blue\", \"orientation\": \"v\", \"showlegend\": true, \"type\": \"histogram\", \"x\": [\"Blue\", \"Blue\", \"Blue\", \"Blue\", \"Blue\", \"Blue\", \"Blue\", \"Blue\", \"Blue\", \"Blue\", \"Blue\", \"Blue\", \"Blue\", \"Blue\", \"Blue\", \"Blue\", \"Blue\", \"Blue\", \"Blue\", \"Blue\", \"Blue\", \"Blue\", \"Blue\", \"Blue\", \"Blue\", \"Blue\", \"Blue\", \"Blue\", \"Blue\", \"Blue\", \"Blue\", \"Blue\", \"Blue\"], \"xaxis\": \"x\", \"y\": [false, false, false, false, false, false, true, false, false, true, false, false, false, true, false, false, true, false, true, false, true, false, false, false, false, false, true, false, true, true, false, false, true], \"yaxis\": \"y\"}, {\"alignmentgroup\": \"True\", \"bingroup\": \"x\", \"hoverlabel\": {\"namelength\": 0}, \"hovertemplate\": \"Groups=%{x}<br>count of Number of Comments Submitted Late=%{y}\", \"legendgroup\": \"Groups=Brown\", \"marker\": {\"color\": \"peru\"}, \"name\": \"Groups=Brown\", \"offsetgroup\": \"Groups=Brown\", \"orientation\": \"v\", \"showlegend\": true, \"type\": \"histogram\", \"x\": [\"Brown\", \"Brown\", \"Brown\", \"Brown\", \"Brown\", \"Brown\", \"Brown\", \"Brown\", \"Brown\", \"Brown\", \"Brown\", \"Brown\", \"Brown\", \"Brown\", \"Brown\", \"Brown\", \"Brown\", \"Brown\", \"Brown\", \"Brown\", \"Brown\", \"Brown\", \"Brown\", \"Brown\", \"Brown\", \"Brown\", \"Brown\", \"Brown\", \"Brown\", \"Brown\", \"Brown\", \"Brown\", \"Brown\"], \"xaxis\": \"x\", \"y\": [false, false, false, false, false, false, true, false, false, true, false, false, false, true, false, false, true, false, false, false, false, false, false, false, false, false, false, true, false, false, true, false, false], \"yaxis\": \"y\"}, {\"alignmentgroup\": \"True\", \"bingroup\": \"x\", \"hoverlabel\": {\"namelength\": 0}, \"hovertemplate\": \"Groups=%{x}<br>count of Number of Comments Submitted Late=%{y}\", \"legendgroup\": \"Groups=Green\", \"marker\": {\"color\": \"mediumseagreen\"}, \"name\": \"Groups=Green\", \"offsetgroup\": \"Groups=Green\", \"orientation\": \"v\", \"showlegend\": true, \"type\": \"histogram\", \"x\": [\"Green\", \"Green\", \"Green\", \"Green\", \"Green\", \"Green\", \"Green\", \"Green\", \"Green\", \"Green\", \"Green\", \"Green\", \"Green\", \"Green\", \"Green\", \"Green\", \"Green\", \"Green\", \"Green\", \"Green\", \"Green\", \"Green\", \"Green\", \"Green\", \"Green\", \"Green\", \"Green\", \"Green\", \"Green\", \"Green\", \"Green\", \"Green\", \"Green\", \"Green\", \"Green\", \"Green\", \"Green\", \"Green\"], \"xaxis\": \"x\", \"y\": [false, false, false, false, false, true, false, true, false, false, true, false, true, false, false, false, false, true, false, false, true, true, false, true, true, true, true, true, true, true, false, true, false, false, false, false, false, false], \"yaxis\": \"y\"}, {\"alignmentgroup\": \"True\", \"bingroup\": \"x\", \"hoverlabel\": {\"namelength\": 0}, \"hovertemplate\": \"Groups=%{x}<br>count of Number of Comments Submitted Late=%{y}\", \"legendgroup\": \"Groups=Pink\", \"marker\": {\"color\": \"hotpink\"}, \"name\": \"Groups=Pink\", \"offsetgroup\": \"Groups=Pink\", \"orientation\": \"v\", \"showlegend\": true, \"type\": \"histogram\", \"x\": [\"Pink\", \"Pink\", \"Pink\", \"Pink\", \"Pink\", \"Pink\", \"Pink\", \"Pink\", \"Pink\", \"Pink\", \"Pink\", \"Pink\", \"Pink\", \"Pink\", \"Pink\", \"Pink\", \"Pink\", \"Pink\", \"Pink\", \"Pink\", \"Pink\", \"Pink\", \"Pink\", \"Pink\", \"Pink\", \"Pink\", \"Pink\", \"Pink\", \"Pink\", \"Pink\", \"Pink\", \"Pink\", \"Pink\", \"Pink\", \"Pink\", \"Pink\", \"Pink\"], \"xaxis\": \"x\", \"y\": [true, true, false, false, false, true, false, false, false, false, false, false, false, true, false, true, false, false, false, false, false, false, true, false, true, true, false, true, true, true, false, false, true, false, true, false, true], \"yaxis\": \"y\"}, {\"alignmentgroup\": \"True\", \"bingroup\": \"x\", \"hoverlabel\": {\"namelength\": 0}, \"hovertemplate\": \"Groups=%{x}<br>count of Number of Comments Submitted Late=%{y}\", \"legendgroup\": \"Groups=Red\", \"marker\": {\"color\": \"tomato\"}, \"name\": \"Groups=Red\", \"offsetgroup\": \"Groups=Red\", \"orientation\": \"v\", \"showlegend\": true, \"type\": \"histogram\", \"x\": [\"Red\", \"Red\", \"Red\", \"Red\", \"Red\", \"Red\", \"Red\", \"Red\", \"Red\", \"Red\", \"Red\", \"Red\", \"Red\", \"Red\", \"Red\", \"Red\", \"Red\", \"Red\", \"Red\", \"Red\", \"Red\", \"Red\", \"Red\", \"Red\", \"Red\", \"Red\", \"Red\", \"Red\", \"Red\", \"Red\", \"Red\", \"Red\", \"Red\", \"Red\", \"Red\", \"Red\"], \"xaxis\": \"x\", \"y\": [true, true, false, false, false, true, false, true, false, true, true, false, true, false, true, false, false, true, false, false, false, false, true, false, false, false, false, false, false, false, false, false, false, false, true, true], \"yaxis\": \"y\"}, {\"alignmentgroup\": \"True\", \"bingroup\": \"x\", \"hoverlabel\": {\"namelength\": 0}, \"hovertemplate\": \"Groups=%{x}<br>count of Number of Comments Submitted Late=%{y}\", \"legendgroup\": \"Groups=Yellow\", \"marker\": {\"color\": \"gold\"}, \"name\": \"Groups=Yellow\", \"offsetgroup\": \"Groups=Yellow\", \"orientation\": \"v\", \"showlegend\": true, \"type\": \"histogram\", \"x\": [\"Yellow\", \"Yellow\", \"Yellow\", \"Yellow\", \"Yellow\", \"Yellow\", \"Yellow\", \"Yellow\", \"Yellow\", \"Yellow\", \"Yellow\", \"Yellow\", \"Yellow\", \"Yellow\", \"Yellow\", \"Yellow\", \"Yellow\", \"Yellow\", \"Yellow\", \"Yellow\", \"Yellow\", \"Yellow\", \"Yellow\", \"Yellow\", \"Yellow\", \"Yellow\", \"Yellow\", \"Yellow\", \"Yellow\", \"Yellow\"], \"xaxis\": \"x\", \"y\": [true, false, false, true, true, false, true, true, true, false, true, false, false, true, false, false, false, true, true, false, false, false, false, false, false, true, true, false, false, true], \"yaxis\": \"y\"}, {\"alignmentgroup\": \"True\", \"bingroup\": \"x\", \"hoverlabel\": {\"namelength\": 0}, \"hovertemplate\": \"Groups=%{x}<br>count of Number of Comments Submitted Late=%{y}\", \"legendgroup\": \"Groups=White\", \"marker\": {\"color\": \"white\"}, \"name\": \"Groups=White\", \"offsetgroup\": \"Groups=White\", \"orientation\": \"v\", \"showlegend\": true, \"type\": \"histogram\", \"x\": [\"White\", \"White\", \"White\", \"White\", \"White\", \"White\", \"White\", \"White\", \"White\", \"White\", \"White\", \"White\", \"White\", \"White\", \"White\", \"White\", \"White\", \"White\", \"White\", \"White\", \"White\", \"White\", \"White\"], \"xaxis\": \"x\", \"y\": [false, false, true, false, false, false, false, false, true, false, false, true, false, false, false, false, true, false, false, false, false, false, false], \"yaxis\": \"y\"}, {\"alignmentgroup\": \"True\", \"bingroup\": \"x\", \"hoverlabel\": {\"namelength\": 0}, \"hovertemplate\": \"Groups=%{x}<br>count of Number of Comments Submitted Late=%{y}\", \"legendgroup\": \"Groups=Purple\", \"marker\": {\"color\": \"mediumpurple\"}, \"name\": \"Groups=Purple\", \"offsetgroup\": \"Groups=Purple\", \"orientation\": \"v\", \"showlegend\": true, \"type\": \"histogram\", \"x\": [\"Purple\", \"Purple\", \"Purple\", \"Purple\", \"Purple\", \"Purple\", \"Purple\", \"Purple\", \"Purple\", \"Purple\", \"Purple\", \"Purple\", \"Purple\"], \"xaxis\": \"x\", \"y\": [false, false, false, false, true, false, true, false, false, false, false, false, false], \"yaxis\": \"y\"}],\n",
              "                        {\"barmode\": \"relative\", \"legend\": {\"tracegroupgap\": 0}, \"showlegend\": false, \"template\": {\"data\": {\"bar\": [{\"error_x\": {\"color\": \"#2a3f5f\"}, \"error_y\": {\"color\": \"#2a3f5f\"}, \"marker\": {\"line\": {\"color\": \"#E5ECF6\", \"width\": 0.5}}, \"type\": \"bar\"}], \"barpolar\": [{\"marker\": {\"line\": {\"color\": \"#E5ECF6\", \"width\": 0.5}}, \"type\": \"barpolar\"}], \"carpet\": [{\"aaxis\": {\"endlinecolor\": \"#2a3f5f\", \"gridcolor\": \"white\", \"linecolor\": \"white\", \"minorgridcolor\": \"white\", \"startlinecolor\": \"#2a3f5f\"}, \"baxis\": {\"endlinecolor\": \"#2a3f5f\", \"gridcolor\": \"white\", \"linecolor\": \"white\", \"minorgridcolor\": \"white\", \"startlinecolor\": \"#2a3f5f\"}, \"type\": \"carpet\"}], \"choropleth\": [{\"colorbar\": {\"outlinewidth\": 0, \"ticks\": \"\"}, \"type\": \"choropleth\"}], \"contour\": [{\"colorbar\": {\"outlinewidth\": 0, \"ticks\": \"\"}, \"colorscale\": [[0.0, \"#0d0887\"], [0.1111111111111111, \"#46039f\"], [0.2222222222222222, \"#7201a8\"], [0.3333333333333333, \"#9c179e\"], [0.4444444444444444, \"#bd3786\"], [0.5555555555555556, \"#d8576b\"], [0.6666666666666666, \"#ed7953\"], [0.7777777777777778, \"#fb9f3a\"], [0.8888888888888888, \"#fdca26\"], [1.0, \"#f0f921\"]], \"type\": \"contour\"}], \"contourcarpet\": [{\"colorbar\": {\"outlinewidth\": 0, \"ticks\": \"\"}, \"type\": \"contourcarpet\"}], \"heatmap\": [{\"colorbar\": {\"outlinewidth\": 0, \"ticks\": \"\"}, \"colorscale\": [[0.0, \"#0d0887\"], [0.1111111111111111, \"#46039f\"], [0.2222222222222222, \"#7201a8\"], [0.3333333333333333, \"#9c179e\"], [0.4444444444444444, \"#bd3786\"], [0.5555555555555556, \"#d8576b\"], [0.6666666666666666, \"#ed7953\"], [0.7777777777777778, \"#fb9f3a\"], [0.8888888888888888, \"#fdca26\"], [1.0, \"#f0f921\"]], \"type\": \"heatmap\"}], \"heatmapgl\": [{\"colorbar\": {\"outlinewidth\": 0, \"ticks\": \"\"}, \"colorscale\": [[0.0, \"#0d0887\"], [0.1111111111111111, \"#46039f\"], [0.2222222222222222, \"#7201a8\"], [0.3333333333333333, \"#9c179e\"], [0.4444444444444444, \"#bd3786\"], [0.5555555555555556, \"#d8576b\"], [0.6666666666666666, \"#ed7953\"], [0.7777777777777778, \"#fb9f3a\"], [0.8888888888888888, \"#fdca26\"], [1.0, \"#f0f921\"]], \"type\": \"heatmapgl\"}], \"histogram\": [{\"marker\": {\"colorbar\": {\"outlinewidth\": 0, \"ticks\": \"\"}}, \"type\": \"histogram\"}], \"histogram2d\": [{\"colorbar\": {\"outlinewidth\": 0, \"ticks\": \"\"}, \"colorscale\": [[0.0, \"#0d0887\"], [0.1111111111111111, \"#46039f\"], [0.2222222222222222, \"#7201a8\"], [0.3333333333333333, \"#9c179e\"], [0.4444444444444444, \"#bd3786\"], [0.5555555555555556, \"#d8576b\"], [0.6666666666666666, \"#ed7953\"], [0.7777777777777778, \"#fb9f3a\"], [0.8888888888888888, \"#fdca26\"], [1.0, \"#f0f921\"]], \"type\": \"histogram2d\"}], \"histogram2dcontour\": [{\"colorbar\": {\"outlinewidth\": 0, \"ticks\": \"\"}, \"colorscale\": [[0.0, \"#0d0887\"], [0.1111111111111111, \"#46039f\"], [0.2222222222222222, \"#7201a8\"], [0.3333333333333333, \"#9c179e\"], [0.4444444444444444, \"#bd3786\"], [0.5555555555555556, \"#d8576b\"], [0.6666666666666666, \"#ed7953\"], [0.7777777777777778, \"#fb9f3a\"], [0.8888888888888888, \"#fdca26\"], [1.0, \"#f0f921\"]], \"type\": \"histogram2dcontour\"}], \"mesh3d\": [{\"colorbar\": {\"outlinewidth\": 0, \"ticks\": \"\"}, \"type\": \"mesh3d\"}], \"parcoords\": [{\"line\": {\"colorbar\": {\"outlinewidth\": 0, \"ticks\": \"\"}}, \"type\": \"parcoords\"}], \"pie\": [{\"automargin\": true, \"type\": \"pie\"}], \"scatter\": [{\"marker\": {\"colorbar\": {\"outlinewidth\": 0, \"ticks\": \"\"}}, \"type\": \"scatter\"}], \"scatter3d\": [{\"line\": {\"colorbar\": {\"outlinewidth\": 0, \"ticks\": \"\"}}, \"marker\": {\"colorbar\": {\"outlinewidth\": 0, \"ticks\": \"\"}}, \"type\": \"scatter3d\"}], \"scattercarpet\": [{\"marker\": {\"colorbar\": {\"outlinewidth\": 0, \"ticks\": \"\"}}, \"type\": \"scattercarpet\"}], \"scattergeo\": [{\"marker\": {\"colorbar\": {\"outlinewidth\": 0, \"ticks\": \"\"}}, \"type\": \"scattergeo\"}], \"scattergl\": [{\"marker\": {\"colorbar\": {\"outlinewidth\": 0, \"ticks\": \"\"}}, \"type\": \"scattergl\"}], \"scattermapbox\": [{\"marker\": {\"colorbar\": {\"outlinewidth\": 0, \"ticks\": \"\"}}, \"type\": \"scattermapbox\"}], \"scatterpolar\": [{\"marker\": {\"colorbar\": {\"outlinewidth\": 0, \"ticks\": \"\"}}, \"type\": \"scatterpolar\"}], \"scatterpolargl\": [{\"marker\": {\"colorbar\": {\"outlinewidth\": 0, \"ticks\": \"\"}}, \"type\": \"scatterpolargl\"}], \"scatterternary\": [{\"marker\": {\"colorbar\": {\"outlinewidth\": 0, \"ticks\": \"\"}}, \"type\": \"scatterternary\"}], \"surface\": [{\"colorbar\": {\"outlinewidth\": 0, \"ticks\": \"\"}, \"colorscale\": [[0.0, \"#0d0887\"], [0.1111111111111111, \"#46039f\"], [0.2222222222222222, \"#7201a8\"], [0.3333333333333333, \"#9c179e\"], [0.4444444444444444, \"#bd3786\"], [0.5555555555555556, \"#d8576b\"], [0.6666666666666666, \"#ed7953\"], [0.7777777777777778, \"#fb9f3a\"], [0.8888888888888888, \"#fdca26\"], [1.0, \"#f0f921\"]], \"type\": \"surface\"}], \"table\": [{\"cells\": {\"fill\": {\"color\": \"#EBF0F8\"}, \"line\": {\"color\": \"white\"}}, \"header\": {\"fill\": {\"color\": \"#C8D4E3\"}, \"line\": {\"color\": \"white\"}}, \"type\": \"table\"}]}, \"layout\": {\"annotationdefaults\": {\"arrowcolor\": \"#2a3f5f\", \"arrowhead\": 0, \"arrowwidth\": 1}, \"coloraxis\": {\"colorbar\": {\"outlinewidth\": 0, \"ticks\": \"\"}}, \"colorscale\": {\"diverging\": [[0, \"#8e0152\"], [0.1, \"#c51b7d\"], [0.2, \"#de77ae\"], [0.3, \"#f1b6da\"], [0.4, \"#fde0ef\"], [0.5, \"#f7f7f7\"], [0.6, \"#e6f5d0\"], [0.7, \"#b8e186\"], [0.8, \"#7fbc41\"], [0.9, \"#4d9221\"], [1, \"#276419\"]], \"sequential\": [[0.0, \"#0d0887\"], [0.1111111111111111, \"#46039f\"], [0.2222222222222222, \"#7201a8\"], [0.3333333333333333, \"#9c179e\"], [0.4444444444444444, \"#bd3786\"], [0.5555555555555556, \"#d8576b\"], [0.6666666666666666, \"#ed7953\"], [0.7777777777777778, \"#fb9f3a\"], [0.8888888888888888, \"#fdca26\"], [1.0, \"#f0f921\"]], \"sequentialminus\": [[0.0, \"#0d0887\"], [0.1111111111111111, \"#46039f\"], [0.2222222222222222, \"#7201a8\"], [0.3333333333333333, \"#9c179e\"], [0.4444444444444444, \"#bd3786\"], [0.5555555555555556, \"#d8576b\"], [0.6666666666666666, \"#ed7953\"], [0.7777777777777778, \"#fb9f3a\"], [0.8888888888888888, \"#fdca26\"], [1.0, \"#f0f921\"]]}, \"colorway\": [\"#636efa\", \"#EF553B\", \"#00cc96\", \"#ab63fa\", \"#FFA15A\", \"#19d3f3\", \"#FF6692\", \"#B6E880\", \"#FF97FF\", \"#FECB52\"], \"font\": {\"color\": \"#2a3f5f\"}, \"geo\": {\"bgcolor\": \"white\", \"lakecolor\": \"white\", \"landcolor\": \"#E5ECF6\", \"showlakes\": true, \"showland\": true, \"subunitcolor\": \"white\"}, \"hoverlabel\": {\"align\": \"left\"}, \"hovermode\": \"closest\", \"mapbox\": {\"style\": \"light\"}, \"paper_bgcolor\": \"white\", \"plot_bgcolor\": \"#E5ECF6\", \"polar\": {\"angularaxis\": {\"gridcolor\": \"white\", \"linecolor\": \"white\", \"ticks\": \"\"}, \"bgcolor\": \"#E5ECF6\", \"radialaxis\": {\"gridcolor\": \"white\", \"linecolor\": \"white\", \"ticks\": \"\"}}, \"scene\": {\"xaxis\": {\"backgroundcolor\": \"#E5ECF6\", \"gridcolor\": \"white\", \"gridwidth\": 2, \"linecolor\": \"white\", \"showbackground\": true, \"ticks\": \"\", \"zerolinecolor\": \"white\"}, \"yaxis\": {\"backgroundcolor\": \"#E5ECF6\", \"gridcolor\": \"white\", \"gridwidth\": 2, \"linecolor\": \"white\", \"showbackground\": true, \"ticks\": \"\", \"zerolinecolor\": \"white\"}, \"zaxis\": {\"backgroundcolor\": \"#E5ECF6\", \"gridcolor\": \"white\", \"gridwidth\": 2, \"linecolor\": \"white\", \"showbackground\": true, \"ticks\": \"\", \"zerolinecolor\": \"white\"}}, \"shapedefaults\": {\"line\": {\"color\": \"#2a3f5f\"}}, \"ternary\": {\"aaxis\": {\"gridcolor\": \"white\", \"linecolor\": \"white\", \"ticks\": \"\"}, \"baxis\": {\"gridcolor\": \"white\", \"linecolor\": \"white\", \"ticks\": \"\"}, \"bgcolor\": \"#E5ECF6\", \"caxis\": {\"gridcolor\": \"white\", \"linecolor\": \"white\", \"ticks\": \"\"}}, \"title\": {\"x\": 0.05}, \"xaxis\": {\"automargin\": true, \"gridcolor\": \"white\", \"linecolor\": \"white\", \"ticks\": \"\", \"title\": {\"standoff\": 15}, \"zerolinecolor\": \"white\", \"zerolinewidth\": 2}, \"yaxis\": {\"automargin\": true, \"gridcolor\": \"white\", \"linecolor\": \"white\", \"ticks\": \"\", \"title\": {\"standoff\": 15}, \"zerolinecolor\": \"white\", \"zerolinewidth\": 2}}}, \"title\": {\"text\": \"Distribution of late questions in each team\"}, \"xaxis\": {\"anchor\": \"y\", \"categoryarray\": [\"Black\", \"Blue\", \"Brown\", \"Green\", \"Pink\", \"Red\", \"Yellow\", \"White\", \"Purple\"], \"categoryorder\": \"array\", \"domain\": [0.0, 1.0], \"title\": {\"text\": \"Groups\"}}, \"yaxis\": {\"anchor\": \"x\", \"domain\": [0.0, 1.0], \"title\": {\"text\": \"count of Number of Comments Submitted Late\"}}},\n",
              "                        {\"responsive\": true}\n",
              "                    ).then(function(){\n",
              "                            \n",
              "var gd = document.getElementById('e6502db5-e91d-4dc6-baa9-2353e4b77046');\n",
              "var x = new MutationObserver(function (mutations, observer) {{\n",
              "        var display = window.getComputedStyle(gd).display;\n",
              "        if (!display || display === 'none') {{\n",
              "            console.log([gd, 'removed!']);\n",
              "            Plotly.purge(gd);\n",
              "            observer.disconnect();\n",
              "        }}\n",
              "}});\n",
              "\n",
              "// Listen for the removal of the full notebook cells\n",
              "var notebookContainer = gd.closest('#notebook-container');\n",
              "if (notebookContainer) {{\n",
              "    x.observe(notebookContainer, {childList: true});\n",
              "}}\n",
              "\n",
              "// Listen for the clearing of the current output cell\n",
              "var outputEl = gd.closest('.output');\n",
              "if (outputEl) {{\n",
              "    x.observe(outputEl, {childList: true});\n",
              "}}\n",
              "\n",
              "                        })\n",
              "                };\n",
              "                \n",
              "            </script>\n",
              "        </div>\n",
              "</body>\n",
              "</html>"
            ]
          },
          "metadata": {
            "tags": []
          }
        }
      ]
    },
    {
      "cell_type": "markdown",
      "metadata": {
        "id": "L9YixeGBefZP"
      },
      "source": [
        "**Key Observations**\n",
        "\n",
        "- Purple has the lowest count of late submitted questions\n",
        "- Pink, Green, and Red are the are the largest groups where questions were submitted late\n",
        "- Blue and Brown are similiar teams in their commenting frequency, could suggest they are equally motivated and engaged.\n",
        "\n",
        "- Jones, Yu, Tanudji, Start: 12-11-2020, End: 16-11-2020"
      ]
    },
    {
      "cell_type": "markdown",
      "metadata": {
        "id": "pdpDnLWCsvSx"
      },
      "source": [
        "## 5.4 Identifying Useful Comments"
      ]
    },
    {
      "cell_type": "markdown",
      "metadata": {
        "id": "j_tppeHDCKDE"
      },
      "source": [
        "We've explored a range of factors that may influnce group performance. \n",
        "\n",
        "But what about comments? How can we idendtify good actionable comments that are useful for improving a question?\n",
        "\n",
        "And once we identify a useful comment, will it have an influence on a groups question quality?\n",
        "\n",
        "In this section we will determine a method of indentifying useful comments and then attempt to figure out any effects.\n",
        "\n",
        "- Safi, Start: 12-11-2020, End: 17-11-2020"
      ]
    },
    {
      "cell_type": "markdown",
      "metadata": {
        "id": "XHbn_Kh9D3Zb"
      },
      "source": [
        "**Merging data**\n",
        "\n",
        "Firstly we need to merge the question and group tables and then once we have saved that, we will merge it with comments. \n"
      ]
    },
    {
      "cell_type": "code",
      "metadata": {
        "id": "Qjcu-ScIIJHp",
        "colab": {
          "base_uri": "https://localhost:8080/",
          "height": 194
        },
        "outputId": "3fa76080-6003-4cb7-9c41-c5877a7dd06c"
      },
      "source": [
        "c4questions.rename(columns={\"user\" : \"user_id\"}, inplace=True)\n",
        "c4comments.rename(columns={\"user\" : \"user_id\"}, inplace=True)\n",
        "c4questions = c4questions[c4questions[\"user_id\"] != \" user_id \"]\n",
        "c4questions = c4questions.astype({\"user_id\" : \"int64\"})\n",
        "c4questions = c4questions.convert_dtypes()\n",
        "\n",
        "c4usercourses.rename(columns={\"user\" : \"user_id\"}, inplace=True)\n",
        "c4usercourses = c4usercourses[c4usercourses[\"user_id\"] != \" user_id \"]\n",
        "c4usercourses = c4usercourses.astype({\"user_id\" : \"int64\"})\n",
        "c4usercourses = c4usercourses.convert_dtypes()\n",
        "\n",
        "team_questions = c4questions[['user_id','avg_rating', 'AcademicMark', 'total_comments']].merge(c4usercourses[['user_id','team']], on='user_id')\n",
        "question_comment = team_questions[['user_id', 'AcademicMark','avg_rating', 'total_comments','team']].merge(c4comments, on='user_id', how='outer')\n",
        "question_comment = question_comment.dropna()\n",
        "# Prints the first two rows of the new table\n",
        "question_comment.head(n=2)\n",
        "\n",
        "# Safi, Start: 12-11-2020, End: 17-11-2020"
      ],
      "execution_count": 47,
      "outputs": [
        {
          "output_type": "execute_result",
          "data": {
            "text/html": [
              "<div>\n",
              "<style scoped>\n",
              "    .dataframe tbody tr th:only-of-type {\n",
              "        vertical-align: middle;\n",
              "    }\n",
              "\n",
              "    .dataframe tbody tr th {\n",
              "        vertical-align: top;\n",
              "    }\n",
              "\n",
              "    .dataframe thead th {\n",
              "        text-align: right;\n",
              "    }\n",
              "</style>\n",
              "<table border=\"1\" class=\"dataframe\">\n",
              "  <thead>\n",
              "    <tr style=\"text-align: right;\">\n",
              "      <th></th>\n",
              "      <th>user_id</th>\n",
              "      <th>AcademicMark</th>\n",
              "      <th>avg_rating</th>\n",
              "      <th>total_comments</th>\n",
              "      <th>team</th>\n",
              "      <th>Comment_ID</th>\n",
              "      <th>course_id</th>\n",
              "      <th>Timestamp</th>\n",
              "      <th>Question_ID</th>\n",
              "      <th>Comment</th>\n",
              "    </tr>\n",
              "  </thead>\n",
              "  <tbody>\n",
              "    <tr>\n",
              "      <th>10</th>\n",
              "      <td>635990</td>\n",
              "      <td>5</td>\n",
              "      <td>3.75</td>\n",
              "      <td>2</td>\n",
              "      <td>Brown</td>\n",
              "      <td>7202419.0</td>\n",
              "      <td>21320.0</td>\n",
              "      <td>2020-05-03 13:28:57</td>\n",
              "      <td>4472540.0</td>\n",
              "      <td>I think this is a really good question! I thin...</td>\n",
              "    </tr>\n",
              "    <tr>\n",
              "      <th>11</th>\n",
              "      <td>635990</td>\n",
              "      <td>5</td>\n",
              "      <td>3.75</td>\n",
              "      <td>2</td>\n",
              "      <td>Brown</td>\n",
              "      <td>7202425.0</td>\n",
              "      <td>21320.0</td>\n",
              "      <td>2020-05-03 13:34:57</td>\n",
              "      <td>4472481.0</td>\n",
              "      <td>This question requires the students to recall ...</td>\n",
              "    </tr>\n",
              "  </tbody>\n",
              "</table>\n",
              "</div>"
            ],
            "text/plain": [
              "   user_id  ...                                            Comment\n",
              "10  635990  ...  I think this is a really good question! I thin...\n",
              "11  635990  ...  This question requires the students to recall ...\n",
              "\n",
              "[2 rows x 10 columns]"
            ]
          },
          "metadata": {
            "tags": []
          },
          "execution_count": 47
        }
      ]
    },
    {
      "cell_type": "markdown",
      "metadata": {
        "id": "GlceeeyAMveL"
      },
      "source": [
        "Merging questions with teams to create a table, and then merging this table with comments will provide a dataframe with all comments, their users and their teams along with many other variables. \n",
        "- Safi, Start: 12-11-2020, End: 17-11-2020"
      ]
    },
    {
      "cell_type": "markdown",
      "metadata": {
        "id": "FNY0gE2VOTTy"
      },
      "source": [
        "**Key Words**\n",
        "\n",
        "We have decided that one unqiue method of identifying actionable comments is by the use of certain key words. \n",
        "\n",
        "This list of key words is forumlated from conjunctions and other common actionable feedback implying words such \"improve\".\n",
        "\n",
        "Below is the code cell that defines the list of key words:\n",
        "\n",
        "- Safi, Start: 12-11-2020, End: 17-11-2020\n"
      ]
    },
    {
      "cell_type": "code",
      "metadata": {
        "id": "dNgG3QneOM08"
      },
      "source": [
        "#Below is a list of key words that would make a comment actionable/useful\n",
        "key_word_list = [\"as a result\", \"consequently\",\n",
        "                 \"for example\", \"furthermore\",\"develop\",\n",
        "                 \"in addition\", \"incidentally\", \"instead\",\"likewise\", \"rather than\", \n",
        "                 \"rather\", \"therefore\", \"improve\", \"distractor\", \"fix\"]\n",
        "# Safi, Start: 12-11-2020, End: 17-11-2020"
      ],
      "execution_count": 48,
      "outputs": []
    },
    {
      "cell_type": "markdown",
      "metadata": {
        "id": "FiT_saZ5jiQ_"
      },
      "source": [
        "**Justifying use of key words**\n",
        "\n",
        "A list of key words makes sense because studnets that use these conjunctions will most likely have actionable or helpful feedback for their group members. The list of words also allows us to have our own criteria of what constitutes as actionable words and what words represent a comment that is doing more than a comment such as \"good question\".\n",
        "\n",
        "- Safi, Start: 12-11-2020, End: 17-11-2020\n"
      ]
    },
    {
      "cell_type": "markdown",
      "metadata": {
        "id": "5aOZNJtWjkQk"
      },
      "source": [
        "The code below works to figure out if each comment is either a useful or not and assigns a Boolean value in a new coloumn called Useful_comment. \n",
        "\n",
        "The code decides if a comment is useful depending on if it contains a key word from our `key_word_list` above\n",
        "\n",
        "- Safi, Start: 12-11-2020, End: 17-11-2020"
      ]
    },
    {
      "cell_type": "code",
      "metadata": {
        "id": "EQI5wg5MjqY6"
      },
      "source": [
        "#This section of code checks whether each comment is useful and \n",
        "#creates a new coloumn with True or False values regarding the comment being useful\n",
        "is_useful_comment = []\n",
        "for i in question_comment['Comment']:\n",
        "    useful = False\n",
        "    i_lower_caps = i.lower()\n",
        "    comments_in_words = i_lower_caps.split(' ')\n",
        "    for key_word in key_word_list:\n",
        "        if key_word in comments_in_words:\n",
        "            useful = True\n",
        "            is_useful_comment.append(True)\n",
        "            break\n",
        "    if useful == False:\n",
        "        is_useful_comment.append(False)\n",
        "        \n",
        "question_comment['Useful_comment'] = is_useful_comment\n",
        "# Safi, Start: 12-11-2020, End: 17-11-2020"
      ],
      "execution_count": 49,
      "outputs": []
    },
    {
      "cell_type": "markdown",
      "metadata": {
        "id": "Y9-I9I1jjtj-"
      },
      "source": [
        "Now that we have the new Useful_comment coloumn we can observe the first few rows:\n",
        "\n",
        "- Safi, Start: 12-11-2020, End: 17-11-2020"
      ]
    },
    {
      "cell_type": "code",
      "metadata": {
        "colab": {
          "base_uri": "https://localhost:8080/",
          "height": 316
        },
        "id": "piaL8fZmjvnf",
        "outputId": "844a8d65-3c5c-4b97-d6aa-1745d67c6cff"
      },
      "source": [
        "question_comment.head(n=2)\n",
        "# Safi, Start: 12-11-2020, End: 17-11-2020"
      ],
      "execution_count": 50,
      "outputs": [
        {
          "output_type": "execute_result",
          "data": {
            "text/html": [
              "<div>\n",
              "<style scoped>\n",
              "    .dataframe tbody tr th:only-of-type {\n",
              "        vertical-align: middle;\n",
              "    }\n",
              "\n",
              "    .dataframe tbody tr th {\n",
              "        vertical-align: top;\n",
              "    }\n",
              "\n",
              "    .dataframe thead th {\n",
              "        text-align: right;\n",
              "    }\n",
              "</style>\n",
              "<table border=\"1\" class=\"dataframe\">\n",
              "  <thead>\n",
              "    <tr style=\"text-align: right;\">\n",
              "      <th></th>\n",
              "      <th>user_id</th>\n",
              "      <th>AcademicMark</th>\n",
              "      <th>avg_rating</th>\n",
              "      <th>total_comments</th>\n",
              "      <th>team</th>\n",
              "      <th>Comment_ID</th>\n",
              "      <th>course_id</th>\n",
              "      <th>Timestamp</th>\n",
              "      <th>Question_ID</th>\n",
              "      <th>Comment</th>\n",
              "      <th>Useful_comment</th>\n",
              "    </tr>\n",
              "  </thead>\n",
              "  <tbody>\n",
              "    <tr>\n",
              "      <th>10</th>\n",
              "      <td>635990</td>\n",
              "      <td>5</td>\n",
              "      <td>3.75</td>\n",
              "      <td>2</td>\n",
              "      <td>Brown</td>\n",
              "      <td>7202419.0</td>\n",
              "      <td>21320.0</td>\n",
              "      <td>2020-05-03 13:28:57</td>\n",
              "      <td>4472540.0</td>\n",
              "      <td>I think this is a really good question! I thin...</td>\n",
              "      <td>False</td>\n",
              "    </tr>\n",
              "    <tr>\n",
              "      <th>11</th>\n",
              "      <td>635990</td>\n",
              "      <td>5</td>\n",
              "      <td>3.75</td>\n",
              "      <td>2</td>\n",
              "      <td>Brown</td>\n",
              "      <td>7202425.0</td>\n",
              "      <td>21320.0</td>\n",
              "      <td>2020-05-03 13:34:57</td>\n",
              "      <td>4472481.0</td>\n",
              "      <td>This question requires the students to recall ...</td>\n",
              "      <td>False</td>\n",
              "    </tr>\n",
              "  </tbody>\n",
              "</table>\n",
              "</div>"
            ],
            "text/plain": [
              "   user_id  ...  Useful_comment\n",
              "10  635990  ...           False\n",
              "11  635990  ...           False\n",
              "\n",
              "[2 rows x 11 columns]"
            ]
          },
          "metadata": {
            "tags": []
          },
          "execution_count": 50
        }
      ]
    },
    {
      "cell_type": "markdown",
      "metadata": {
        "id": "QPt_3bCmj0hq"
      },
      "source": [
        "The dataframe view above informs us that the new coloumn was added and it should be working.\n",
        "\n",
        "- Safi, Start: 12-11-2020, End: 17-11-2020"
      ]
    },
    {
      "cell_type": "markdown",
      "metadata": {
        "id": "vXYGOdeHmQ4D"
      },
      "source": [
        "We can now do some exploration on our new coloumn and dataframe. Below we intend to group all comments as either useful or not and then compare some variables.\n",
        "\n",
        "- Safi, Start: 12-11-2020, End: 17-11-2020"
      ]
    },
    {
      "cell_type": "code",
      "metadata": {
        "colab": {
          "base_uri": "https://localhost:8080/",
          "height": 139
        },
        "id": "Md3nJIO6mMAS",
        "outputId": "44a7c677-100b-48fa-d223-1ec4608f18c8"
      },
      "source": [
        "grouped_useful_comments = question_comment[['avg_rating','team','Useful_comment','AcademicMark','total_comments']].groupby('Useful_comment').mean()\n",
        "grouped_useful_comments\n",
        "# Safi, Start: 12-11-2020, End: 17-11-2020"
      ],
      "execution_count": 51,
      "outputs": [
        {
          "output_type": "execute_result",
          "data": {
            "text/html": [
              "<div>\n",
              "<style scoped>\n",
              "    .dataframe tbody tr th:only-of-type {\n",
              "        vertical-align: middle;\n",
              "    }\n",
              "\n",
              "    .dataframe tbody tr th {\n",
              "        vertical-align: top;\n",
              "    }\n",
              "\n",
              "    .dataframe thead th {\n",
              "        text-align: right;\n",
              "    }\n",
              "</style>\n",
              "<table border=\"1\" class=\"dataframe\">\n",
              "  <thead>\n",
              "    <tr style=\"text-align: right;\">\n",
              "      <th></th>\n",
              "      <th>avg_rating</th>\n",
              "      <th>AcademicMark</th>\n",
              "      <th>total_comments</th>\n",
              "    </tr>\n",
              "    <tr>\n",
              "      <th>Useful_comment</th>\n",
              "      <th></th>\n",
              "      <th></th>\n",
              "      <th></th>\n",
              "    </tr>\n",
              "  </thead>\n",
              "  <tbody>\n",
              "    <tr>\n",
              "      <th>False</th>\n",
              "      <td>3.509731</td>\n",
              "      <td>3.79521</td>\n",
              "      <td>2.785629</td>\n",
              "    </tr>\n",
              "    <tr>\n",
              "      <th>True</th>\n",
              "      <td>3.700935</td>\n",
              "      <td>3.95000</td>\n",
              "      <td>2.052174</td>\n",
              "    </tr>\n",
              "  </tbody>\n",
              "</table>\n",
              "</div>"
            ],
            "text/plain": [
              "                avg_rating  AcademicMark  total_comments\n",
              "Useful_comment                                          \n",
              "False             3.509731       3.79521        2.785629\n",
              "True              3.700935       3.95000        2.052174"
            ]
          },
          "metadata": {
            "tags": []
          },
          "execution_count": 51
        }
      ]
    },
    {
      "cell_type": "markdown",
      "metadata": {
        "id": "b8_1llY6migT"
      },
      "source": [
        "As seen above it does seem like useful comments do slightly better than comments that are not in regards to their own AcademicMark. This is also true for avg_rating of their questions. This means that if you produce more useful comments you are more likely to create better questions. This leads into the idea that working in groups with good performing students can increase question quality.\n",
        "- Safi, Start: 12-11-2020, End: 17-11-2020"
      ]
    },
    {
      "cell_type": "markdown",
      "metadata": {
        "id": "CzwF09OCnDTK"
      },
      "source": [
        "In the following code, we can compare the teams that had on average the most useful comments and compare that to question results.\n",
        "- Safi, Start: 12-11-2020, End: 17-11-2020"
      ]
    },
    {
      "cell_type": "markdown",
      "metadata": {
        "id": "_01dMjGnnj4c"
      },
      "source": [
        "The data is grouped by the team. Useful_comment is a average of all the comments usefullness. If Useful_comment is closer to 1, it means that the team did on average better at producing actionable comments. If it is closer to 0 then they did not produce much useful comments.\n",
        "- Safi, Start: 12-11-2020, End: 17-11-2020"
      ]
    },
    {
      "cell_type": "code",
      "metadata": {
        "colab": {
          "base_uri": "https://localhost:8080/",
          "height": 352
        },
        "id": "AKKiKxv4nZw6",
        "outputId": "3a0f3ca5-7006-4769-a61e-a787c6c17494"
      },
      "source": [
        "grouped_useful_comments = question_comment[['team','Useful_comment', 'avg_rating', 'AcademicMark','total_comments']].groupby('team').mean().sort_values('Useful_comment', ascending = False)\n",
        "grouped_useful_comments\n",
        "# Safi, Start: 12-11-2020, End: 17-11-2020"
      ],
      "execution_count": 52,
      "outputs": [
        {
          "output_type": "execute_result",
          "data": {
            "text/html": [
              "<div>\n",
              "<style scoped>\n",
              "    .dataframe tbody tr th:only-of-type {\n",
              "        vertical-align: middle;\n",
              "    }\n",
              "\n",
              "    .dataframe tbody tr th {\n",
              "        vertical-align: top;\n",
              "    }\n",
              "\n",
              "    .dataframe thead th {\n",
              "        text-align: right;\n",
              "    }\n",
              "</style>\n",
              "<table border=\"1\" class=\"dataframe\">\n",
              "  <thead>\n",
              "    <tr style=\"text-align: right;\">\n",
              "      <th></th>\n",
              "      <th>Useful_comment</th>\n",
              "      <th>avg_rating</th>\n",
              "      <th>AcademicMark</th>\n",
              "      <th>total_comments</th>\n",
              "    </tr>\n",
              "    <tr>\n",
              "      <th>team</th>\n",
              "      <th></th>\n",
              "      <th></th>\n",
              "      <th></th>\n",
              "      <th></th>\n",
              "    </tr>\n",
              "  </thead>\n",
              "  <tbody>\n",
              "    <tr>\n",
              "      <th>Yellow</th>\n",
              "      <td>0.311927</td>\n",
              "      <td>3.341009</td>\n",
              "      <td>3.619266</td>\n",
              "      <td>2.701835</td>\n",
              "    </tr>\n",
              "    <tr>\n",
              "      <th>White</th>\n",
              "      <td>0.309942</td>\n",
              "      <td>3.992865</td>\n",
              "      <td>4.274854</td>\n",
              "      <td>2.362573</td>\n",
              "    </tr>\n",
              "    <tr>\n",
              "      <th>Black</th>\n",
              "      <td>0.279070</td>\n",
              "      <td>3.352481</td>\n",
              "      <td>3.573643</td>\n",
              "      <td>2.240310</td>\n",
              "    </tr>\n",
              "    <tr>\n",
              "      <th>Purple</th>\n",
              "      <td>0.244604</td>\n",
              "      <td>3.790935</td>\n",
              "      <td>4.079137</td>\n",
              "      <td>3.000000</td>\n",
              "    </tr>\n",
              "    <tr>\n",
              "      <th>Blue</th>\n",
              "      <td>0.220339</td>\n",
              "      <td>3.877585</td>\n",
              "      <td>4.042373</td>\n",
              "      <td>2.004237</td>\n",
              "    </tr>\n",
              "    <tr>\n",
              "      <th>Pink</th>\n",
              "      <td>0.212329</td>\n",
              "      <td>3.631575</td>\n",
              "      <td>3.859589</td>\n",
              "      <td>2.010274</td>\n",
              "    </tr>\n",
              "    <tr>\n",
              "      <th>Green</th>\n",
              "      <td>0.190635</td>\n",
              "      <td>3.512575</td>\n",
              "      <td>3.832776</td>\n",
              "      <td>2.307692</td>\n",
              "    </tr>\n",
              "    <tr>\n",
              "      <th>Brown</th>\n",
              "      <td>0.142222</td>\n",
              "      <td>3.206622</td>\n",
              "      <td>3.537778</td>\n",
              "      <td>3.826667</td>\n",
              "    </tr>\n",
              "    <tr>\n",
              "      <th>Red</th>\n",
              "      <td>0.102740</td>\n",
              "      <td>3.470548</td>\n",
              "      <td>3.845890</td>\n",
              "      <td>3.414384</td>\n",
              "    </tr>\n",
              "  </tbody>\n",
              "</table>\n",
              "</div>"
            ],
            "text/plain": [
              "        Useful_comment  avg_rating  AcademicMark  total_comments\n",
              "team                                                            \n",
              "Yellow        0.311927    3.341009      3.619266        2.701835\n",
              "White         0.309942    3.992865      4.274854        2.362573\n",
              "Black         0.279070    3.352481      3.573643        2.240310\n",
              "Purple        0.244604    3.790935      4.079137        3.000000\n",
              "Blue          0.220339    3.877585      4.042373        2.004237\n",
              "Pink          0.212329    3.631575      3.859589        2.010274\n",
              "Green         0.190635    3.512575      3.832776        2.307692\n",
              "Brown         0.142222    3.206622      3.537778        3.826667\n",
              "Red           0.102740    3.470548      3.845890        3.414384"
            ]
          },
          "metadata": {
            "tags": []
          },
          "execution_count": 52
        }
      ]
    },
    {
      "cell_type": "markdown",
      "metadata": {
        "id": "XYkytY1dn8We"
      },
      "source": [
        "As seen above the table is ordered by Useful_comment. We can conclude that most of the teams at the top of the table have high avg_ratings and AcademicMarks relative to teams at the bottom of the table. However it is interesting to notice total comments are higher towards the bottom.\n",
        "\n",
        "- Safi, Start: 12-11-2020, End: 17-11-2020"
      ]
    },
    {
      "cell_type": "markdown",
      "metadata": {
        "id": "Mj93HG6Uoc0T"
      },
      "source": [
        "This alludes to the fact that working in groups can help create more actionable comments to produce a higher average rating and AcademicMark, thus improve the quality of the groups questions.\n",
        "\n",
        "- Safi, Start: 12-11-2020, End: 17-11-2020"
      ]
    },
    {
      "cell_type": "markdown",
      "metadata": {
        "id": "ywC1RtzCefZU"
      },
      "source": [
        "# Conclusions"
      ]
    },
    {
      "cell_type": "markdown",
      "metadata": {
        "id": "0ez4fsKuefZV"
      },
      "source": [
        "* In general after analysis we concluded that working in groups does improve some aspects of engagement and performance for students using peerwise.\n",
        "\n",
        "* In cycle 2 when averaging all students, they performed better in cycle 4 regarding rating. It is possible that this is due to the group involvement in cycle 4.\n",
        "\n",
        "* Students who submitted slowly in cycle 2 submitted their questions for cycle 4 earlier on average. It is likely that this is due to group participation.\n",
        "\n",
        "* Lastly, In general teams with more useful comments had better academic marks and ratings. \n",
        "\n",
        "* It is too difficult to say for certain that we know a definitive answer due to multiple confounding factors, and time constraints on our analysis.\n",
        "\n",
        "Overall more analysis is needed to have a concrete solution to the driving problem of impacts of group memembership on perfomance using PeerWise.\n",
        "- Safi, Start: 12-11-2020, End: 17-11-2020\n"
      ]
    }
  ]
}